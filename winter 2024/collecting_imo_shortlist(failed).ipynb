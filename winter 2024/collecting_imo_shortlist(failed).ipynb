{
 "cells": [
  {
   "cell_type": "markdown",
   "metadata": {},
   "source": [
    "# Storing as pdfs"
   ]
  },
  {
   "cell_type": "code",
   "execution_count": null,
   "metadata": {},
   "outputs": [],
   "source": [
    "import requests"
   ]
  },
  {
   "cell_type": "code",
   "execution_count": 8,
   "metadata": {},
   "outputs": [],
   "source": [
    "def save_pdf(link: str, path: str):\n",
    "    assert link[-4:] == '.pdf'\n",
    "    response = requests.get(link)\n",
    "    file_path = path + '/' + link.split('/')[-1]\n",
    "    if response.status_code == 200:\n",
    "        pdf_file = response.content\n",
    "        with open(file_path, 'wb') as f:\n",
    "            f.write(pdf_file)\n",
    "        return True\n",
    "    else:\n",
    "        return False"
   ]
  },
  {
   "cell_type": "code",
   "execution_count": 9,
   "metadata": {},
   "outputs": [],
   "source": [
    "link_format = \"https://www.imo-official.org/problems/IMO{year}SL.pdf\"\n",
    "success = True\n",
    "year = 2006\n",
    "path = './imo_shortlists'\n",
    "while success:\n",
    "    success = save_pdf(link_format.format(year=year), path)\n",
    "    year += 1\n",
    "    "
   ]
  },
  {
   "cell_type": "markdown",
   "metadata": {},
   "source": [
    "# Transforming to latex"
   ]
  },
  {
   "cell_type": "code",
   "execution_count": 11,
   "metadata": {},
   "outputs": [
    {
     "name": "stdout",
     "output_type": "stream",
     "text": [
      "Collecting aspose-pdf\n",
      "  Downloading aspose_pdf-24.10.0-py3-none-win_amd64.whl.metadata (13 kB)\n",
      "Downloading aspose_pdf-24.10.0-py3-none-win_amd64.whl (90.8 MB)\n",
      "   ---------------------------------------- 0.0/90.8 MB ? eta -:--:--\n",
      "    --------------------------------------- 1.6/90.8 MB 8.4 MB/s eta 0:00:11\n",
      "   - -------------------------------------- 4.5/90.8 MB 11.2 MB/s eta 0:00:08\n",
      "   -- ------------------------------------- 6.3/90.8 MB 12.4 MB/s eta 0:00:07\n",
      "   --- ------------------------------------ 7.9/90.8 MB 9.7 MB/s eta 0:00:09\n",
      "   ---- ----------------------------------- 10.0/90.8 MB 9.8 MB/s eta 0:00:09\n",
      "   ----- ---------------------------------- 12.3/90.8 MB 10.0 MB/s eta 0:00:08\n",
      "   ------ --------------------------------- 14.4/90.8 MB 10.1 MB/s eta 0:00:08\n",
      "   ------- -------------------------------- 16.5/90.8 MB 10.1 MB/s eta 0:00:08\n",
      "   ------- -------------------------------- 17.8/90.8 MB 10.3 MB/s eta 0:00:08\n",
      "   -------- ------------------------------- 19.7/90.8 MB 9.7 MB/s eta 0:00:08\n",
      "   --------- ------------------------------ 20.7/90.8 MB 9.2 MB/s eta 0:00:08\n",
      "   --------- ------------------------------ 22.0/90.8 MB 9.0 MB/s eta 0:00:08\n",
      "   ---------- ----------------------------- 23.3/90.8 MB 8.7 MB/s eta 0:00:08\n",
      "   ----------- ---------------------------- 26.0/90.8 MB 9.1 MB/s eta 0:00:08\n",
      "   ------------ --------------------------- 28.3/90.8 MB 9.3 MB/s eta 0:00:07\n",
      "   ------------- -------------------------- 29.9/90.8 MB 9.1 MB/s eta 0:00:07\n",
      "   -------------- ------------------------- 32.0/90.8 MB 9.2 MB/s eta 0:00:07\n",
      "   --------------- ------------------------ 35.1/90.8 MB 9.5 MB/s eta 0:00:06\n",
      "   ---------------- ----------------------- 38.3/90.8 MB 9.8 MB/s eta 0:00:06\n",
      "   ------------------ --------------------- 40.9/90.8 MB 10.0 MB/s eta 0:00:05\n",
      "   ------------------ --------------------- 42.5/90.8 MB 9.9 MB/s eta 0:00:05\n",
      "   ------------------- -------------------- 44.0/90.8 MB 10.0 MB/s eta 0:00:05\n",
      "   -------------------- ------------------- 46.1/90.8 MB 9.8 MB/s eta 0:00:05\n",
      "   --------------------- ------------------ 49.0/90.8 MB 9.9 MB/s eta 0:00:05\n",
      "   ---------------------- ----------------- 52.2/90.8 MB 10.2 MB/s eta 0:00:04\n",
      "   ----------------------- ---------------- 54.3/90.8 MB 10.2 MB/s eta 0:00:04\n",
      "   ------------------------ --------------- 56.6/90.8 MB 10.2 MB/s eta 0:00:04\n",
      "   ------------------------- -------------- 58.5/90.8 MB 10.1 MB/s eta 0:00:04\n",
      "   ------------------------- -------------- 58.7/90.8 MB 10.1 MB/s eta 0:00:04\n",
      "   -------------------------- ------------- 60.8/90.8 MB 9.8 MB/s eta 0:00:04\n",
      "   --------------------------- ------------ 61.9/90.8 MB 9.8 MB/s eta 0:00:03\n",
      "   ---------------------------- ----------- 64.2/90.8 MB 9.7 MB/s eta 0:00:03\n",
      "   ----------------------------- ---------- 66.8/90.8 MB 9.8 MB/s eta 0:00:03\n",
      "   ------------------------------ --------- 68.7/90.8 MB 9.8 MB/s eta 0:00:03\n",
      "   ------------------------------ --------- 70.3/90.8 MB 9.7 MB/s eta 0:00:03\n",
      "   -------------------------------- ------- 73.4/90.8 MB 9.9 MB/s eta 0:00:02\n",
      "   --------------------------------- ------ 76.3/90.8 MB 10.0 MB/s eta 0:00:02\n",
      "   ---------------------------------- ----- 77.6/90.8 MB 9.9 MB/s eta 0:00:02\n",
      "   ----------------------------------- ---- 80.5/90.8 MB 10.0 MB/s eta 0:00:02\n",
      "   ------------------------------------ --- 81.8/90.8 MB 10.0 MB/s eta 0:00:01\n",
      "   ------------------------------------ --- 82.8/90.8 MB 9.9 MB/s eta 0:00:01\n",
      "   ------------------------------------- -- 84.9/90.8 MB 9.8 MB/s eta 0:00:01\n",
      "   -------------------------------------- - 87.0/90.8 MB 9.8 MB/s eta 0:00:01\n",
      "   ---------------------------------------  89.7/90.8 MB 9.8 MB/s eta 0:00:01\n",
      "   ---------------------------------------- 90.8/90.8 MB 9.7 MB/s eta 0:00:00\n",
      "Installing collected packages: aspose-pdf\n",
      "Successfully installed aspose-pdf-24.10.0\n",
      "Note: you may need to restart the kernel to use updated packages.\n"
     ]
    }
   ],
   "source": [
    "pip install aspose-pdf"
   ]
  },
  {
   "cell_type": "code",
   "execution_count": 13,
   "metadata": {},
   "outputs": [
    {
     "name": "stdout",
     "output_type": "stream",
     "text": [
      "Rendering process completed\n"
     ]
    }
   ],
   "source": [
    "import aspose.pdf as pdf\n",
    "\n",
    "# Load the license\n",
    "license = pdf.License()\n",
    "# license.set_license(\"Aspose.Total.lic\")\n",
    "\n",
    "# Load input PDF document\n",
    "document = pdf.Document(\"check.pdf\")\n",
    "\n",
    "# Initialize the TeXSaveOptions\n",
    "texSaveOptions = pdf.TeXSaveOptions()\n",
    "\n",
    "# Convert the PDF to TEX file\n",
    "document.save(\"PDFToTEX.tex\", texSaveOptions)\n",
    "\n",
    "print(\"Rendering process completed\")"
   ]
  }
 ],
 "metadata": {
  "kernelspec": {
   "display_name": ".venv",
   "language": "python",
   "name": "python3"
  },
  "language_info": {
   "codemirror_mode": {
    "name": "ipython",
    "version": 3
   },
   "file_extension": ".py",
   "mimetype": "text/x-python",
   "name": "python",
   "nbconvert_exporter": "python",
   "pygments_lexer": "ipython3",
   "version": "3.12.7"
  }
 },
 "nbformat": 4,
 "nbformat_minor": 2
}
