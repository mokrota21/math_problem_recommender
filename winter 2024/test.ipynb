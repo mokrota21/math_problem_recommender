{
 "cells": [
  {
   "cell_type": "markdown",
   "metadata": {},
   "source": [
    "# Setting up"
   ]
  },
  {
   "cell_type": "code",
   "execution_count": 1,
   "metadata": {},
   "outputs": [],
   "source": [
    "!pip install --quiet --upgrade langchain langchain-community langchain-chroma"
   ]
  },
  {
   "cell_type": "code",
   "execution_count": 2,
   "metadata": {},
   "outputs": [
    {
     "name": "stdout",
     "output_type": "stream",
     "text": [
      "Requirement already satisfied: langchain in c:\\users\\mokrota\\documents\\github\\math_problem_recommender\\math_problem_recommender\\.venv\\lib\\site-packages (0.3.7)\n",
      "Requirement already satisfied: langchain-openai in c:\\users\\mokrota\\documents\\github\\math_problem_recommender\\math_problem_recommender\\.venv\\lib\\site-packages (0.2.5)\n",
      "Collecting langchain-openai\n",
      "  Downloading langchain_openai-0.2.7-py3-none-any.whl.metadata (2.6 kB)\n",
      "Requirement already satisfied: PyYAML>=5.3 in c:\\users\\mokrota\\documents\\github\\math_problem_recommender\\math_problem_recommender\\.venv\\lib\\site-packages (from langchain) (6.0.2)\n",
      "Requirement already satisfied: SQLAlchemy<3,>=1.4 in c:\\users\\mokrota\\documents\\github\\math_problem_recommender\\math_problem_recommender\\.venv\\lib\\site-packages (from langchain) (2.0.35)\n",
      "Requirement already satisfied: aiohttp<4.0.0,>=3.8.3 in c:\\users\\mokrota\\documents\\github\\math_problem_recommender\\math_problem_recommender\\.venv\\lib\\site-packages (from langchain) (3.10.10)\n",
      "Requirement already satisfied: langchain-core<0.4.0,>=0.3.15 in c:\\users\\mokrota\\documents\\github\\math_problem_recommender\\math_problem_recommender\\.venv\\lib\\site-packages (from langchain) (0.3.17)\n",
      "Requirement already satisfied: langchain-text-splitters<0.4.0,>=0.3.0 in c:\\users\\mokrota\\documents\\github\\math_problem_recommender\\math_problem_recommender\\.venv\\lib\\site-packages (from langchain) (0.3.2)\n",
      "Requirement already satisfied: langsmith<0.2.0,>=0.1.17 in c:\\users\\mokrota\\documents\\github\\math_problem_recommender\\math_problem_recommender\\.venv\\lib\\site-packages (from langchain) (0.1.139)\n",
      "Requirement already satisfied: numpy<2.0.0,>=1.26.0 in c:\\users\\mokrota\\documents\\github\\math_problem_recommender\\math_problem_recommender\\.venv\\lib\\site-packages (from langchain) (1.26.4)\n",
      "Requirement already satisfied: pydantic<3.0.0,>=2.7.4 in c:\\users\\mokrota\\documents\\github\\math_problem_recommender\\math_problem_recommender\\.venv\\lib\\site-packages (from langchain) (2.9.2)\n",
      "Requirement already satisfied: requests<3,>=2 in c:\\users\\mokrota\\documents\\github\\math_problem_recommender\\math_problem_recommender\\.venv\\lib\\site-packages (from langchain) (2.32.3)\n",
      "Requirement already satisfied: tenacity!=8.4.0,<10,>=8.1.0 in c:\\users\\mokrota\\documents\\github\\math_problem_recommender\\math_problem_recommender\\.venv\\lib\\site-packages (from langchain) (9.0.0)\n",
      "Requirement already satisfied: openai<2.0.0,>=1.54.0 in c:\\users\\mokrota\\documents\\github\\math_problem_recommender\\math_problem_recommender\\.venv\\lib\\site-packages (from langchain-openai) (1.54.1)\n",
      "Requirement already satisfied: tiktoken<1,>=0.7 in c:\\users\\mokrota\\documents\\github\\math_problem_recommender\\math_problem_recommender\\.venv\\lib\\site-packages (from langchain-openai) (0.8.0)\n",
      "Requirement already satisfied: aiohappyeyeballs>=2.3.0 in c:\\users\\mokrota\\documents\\github\\math_problem_recommender\\math_problem_recommender\\.venv\\lib\\site-packages (from aiohttp<4.0.0,>=3.8.3->langchain) (2.4.3)\n",
      "Requirement already satisfied: aiosignal>=1.1.2 in c:\\users\\mokrota\\documents\\github\\math_problem_recommender\\math_problem_recommender\\.venv\\lib\\site-packages (from aiohttp<4.0.0,>=3.8.3->langchain) (1.3.1)\n",
      "Requirement already satisfied: attrs>=17.3.0 in c:\\users\\mokrota\\documents\\github\\math_problem_recommender\\math_problem_recommender\\.venv\\lib\\site-packages (from aiohttp<4.0.0,>=3.8.3->langchain) (24.2.0)\n",
      "Requirement already satisfied: frozenlist>=1.1.1 in c:\\users\\mokrota\\documents\\github\\math_problem_recommender\\math_problem_recommender\\.venv\\lib\\site-packages (from aiohttp<4.0.0,>=3.8.3->langchain) (1.5.0)\n",
      "Requirement already satisfied: multidict<7.0,>=4.5 in c:\\users\\mokrota\\documents\\github\\math_problem_recommender\\math_problem_recommender\\.venv\\lib\\site-packages (from aiohttp<4.0.0,>=3.8.3->langchain) (6.1.0)\n",
      "Requirement already satisfied: yarl<2.0,>=1.12.0 in c:\\users\\mokrota\\documents\\github\\math_problem_recommender\\math_problem_recommender\\.venv\\lib\\site-packages (from aiohttp<4.0.0,>=3.8.3->langchain) (1.17.1)\n",
      "Requirement already satisfied: jsonpatch<2.0,>=1.33 in c:\\users\\mokrota\\documents\\github\\math_problem_recommender\\math_problem_recommender\\.venv\\lib\\site-packages (from langchain-core<0.4.0,>=0.3.15->langchain) (1.33)\n",
      "Requirement already satisfied: packaging<25,>=23.2 in c:\\users\\mokrota\\documents\\github\\math_problem_recommender\\math_problem_recommender\\.venv\\lib\\site-packages (from langchain-core<0.4.0,>=0.3.15->langchain) (24.1)\n",
      "Requirement already satisfied: typing-extensions>=4.7 in c:\\users\\mokrota\\documents\\github\\math_problem_recommender\\math_problem_recommender\\.venv\\lib\\site-packages (from langchain-core<0.4.0,>=0.3.15->langchain) (4.12.2)\n",
      "Requirement already satisfied: httpx<1,>=0.23.0 in c:\\users\\mokrota\\documents\\github\\math_problem_recommender\\math_problem_recommender\\.venv\\lib\\site-packages (from langsmith<0.2.0,>=0.1.17->langchain) (0.27.2)\n",
      "Requirement already satisfied: orjson<4.0.0,>=3.9.14 in c:\\users\\mokrota\\documents\\github\\math_problem_recommender\\math_problem_recommender\\.venv\\lib\\site-packages (from langsmith<0.2.0,>=0.1.17->langchain) (3.10.11)\n",
      "Requirement already satisfied: requests-toolbelt<2.0.0,>=1.0.0 in c:\\users\\mokrota\\documents\\github\\math_problem_recommender\\math_problem_recommender\\.venv\\lib\\site-packages (from langsmith<0.2.0,>=0.1.17->langchain) (1.0.0)\n",
      "Requirement already satisfied: anyio<5,>=3.5.0 in c:\\users\\mokrota\\documents\\github\\math_problem_recommender\\math_problem_recommender\\.venv\\lib\\site-packages (from openai<2.0.0,>=1.54.0->langchain-openai) (4.6.2.post1)\n",
      "Requirement already satisfied: distro<2,>=1.7.0 in c:\\users\\mokrota\\documents\\github\\math_problem_recommender\\math_problem_recommender\\.venv\\lib\\site-packages (from openai<2.0.0,>=1.54.0->langchain-openai) (1.9.0)\n",
      "Requirement already satisfied: jiter<1,>=0.4.0 in c:\\users\\mokrota\\documents\\github\\math_problem_recommender\\math_problem_recommender\\.venv\\lib\\site-packages (from openai<2.0.0,>=1.54.0->langchain-openai) (0.7.0)\n",
      "Requirement already satisfied: sniffio in c:\\users\\mokrota\\documents\\github\\math_problem_recommender\\math_problem_recommender\\.venv\\lib\\site-packages (from openai<2.0.0,>=1.54.0->langchain-openai) (1.3.1)\n",
      "Requirement already satisfied: tqdm>4 in c:\\users\\mokrota\\documents\\github\\math_problem_recommender\\math_problem_recommender\\.venv\\lib\\site-packages (from openai<2.0.0,>=1.54.0->langchain-openai) (4.66.6)\n",
      "Requirement already satisfied: annotated-types>=0.6.0 in c:\\users\\mokrota\\documents\\github\\math_problem_recommender\\math_problem_recommender\\.venv\\lib\\site-packages (from pydantic<3.0.0,>=2.7.4->langchain) (0.7.0)\n",
      "Requirement already satisfied: pydantic-core==2.23.4 in c:\\users\\mokrota\\documents\\github\\math_problem_recommender\\math_problem_recommender\\.venv\\lib\\site-packages (from pydantic<3.0.0,>=2.7.4->langchain) (2.23.4)\n",
      "Requirement already satisfied: charset-normalizer<4,>=2 in c:\\users\\mokrota\\documents\\github\\math_problem_recommender\\math_problem_recommender\\.venv\\lib\\site-packages (from requests<3,>=2->langchain) (3.4.0)\n",
      "Requirement already satisfied: idna<4,>=2.5 in c:\\users\\mokrota\\documents\\github\\math_problem_recommender\\math_problem_recommender\\.venv\\lib\\site-packages (from requests<3,>=2->langchain) (3.10)\n",
      "Requirement already satisfied: urllib3<3,>=1.21.1 in c:\\users\\mokrota\\documents\\github\\math_problem_recommender\\math_problem_recommender\\.venv\\lib\\site-packages (from requests<3,>=2->langchain) (2.2.3)\n",
      "Requirement already satisfied: certifi>=2017.4.17 in c:\\users\\mokrota\\documents\\github\\math_problem_recommender\\math_problem_recommender\\.venv\\lib\\site-packages (from requests<3,>=2->langchain) (2024.8.30)\n",
      "Requirement already satisfied: greenlet!=0.4.17 in c:\\users\\mokrota\\documents\\github\\math_problem_recommender\\math_problem_recommender\\.venv\\lib\\site-packages (from SQLAlchemy<3,>=1.4->langchain) (3.1.1)\n",
      "Requirement already satisfied: regex>=2022.1.18 in c:\\users\\mokrota\\documents\\github\\math_problem_recommender\\math_problem_recommender\\.venv\\lib\\site-packages (from tiktoken<1,>=0.7->langchain-openai) (2024.9.11)\n",
      "Requirement already satisfied: httpcore==1.* in c:\\users\\mokrota\\documents\\github\\math_problem_recommender\\math_problem_recommender\\.venv\\lib\\site-packages (from httpx<1,>=0.23.0->langsmith<0.2.0,>=0.1.17->langchain) (1.0.6)\n",
      "Requirement already satisfied: h11<0.15,>=0.13 in c:\\users\\mokrota\\documents\\github\\math_problem_recommender\\math_problem_recommender\\.venv\\lib\\site-packages (from httpcore==1.*->httpx<1,>=0.23.0->langsmith<0.2.0,>=0.1.17->langchain) (0.14.0)\n",
      "Requirement already satisfied: jsonpointer>=1.9 in c:\\users\\mokrota\\documents\\github\\math_problem_recommender\\math_problem_recommender\\.venv\\lib\\site-packages (from jsonpatch<2.0,>=1.33->langchain-core<0.4.0,>=0.3.15->langchain) (3.0.0)\n",
      "Requirement already satisfied: colorama in c:\\users\\mokrota\\documents\\github\\math_problem_recommender\\math_problem_recommender\\.venv\\lib\\site-packages (from tqdm>4->openai<2.0.0,>=1.54.0->langchain-openai) (0.4.6)\n",
      "Requirement already satisfied: propcache>=0.2.0 in c:\\users\\mokrota\\documents\\github\\math_problem_recommender\\math_problem_recommender\\.venv\\lib\\site-packages (from yarl<2.0,>=1.12.0->aiohttp<4.0.0,>=3.8.3->langchain) (0.2.0)\n",
      "Downloading langchain_openai-0.2.7-py3-none-any.whl (50 kB)\n",
      "Installing collected packages: langchain-openai\n",
      "  Attempting uninstall: langchain-openai\n",
      "    Found existing installation: langchain-openai 0.2.5\n",
      "    Uninstalling langchain-openai-0.2.5:\n",
      "      Successfully uninstalled langchain-openai-0.2.5\n",
      "Successfully installed langchain-openai-0.2.7\n"
     ]
    }
   ],
   "source": [
    "! pip install -U langchain langchain-openai"
   ]
  },
  {
   "cell_type": "code",
   "execution_count": 3,
   "metadata": {},
   "outputs": [
    {
     "data": {
      "text/plain": [
       "AIMessage(content='Hello! How can I assist you today?', additional_kwargs={'refusal': None}, response_metadata={'token_usage': {'completion_tokens': 9, 'prompt_tokens': 11, 'total_tokens': 20, 'completion_tokens_details': {'accepted_prediction_tokens': 0, 'audio_tokens': 0, 'reasoning_tokens': 0, 'rejected_prediction_tokens': 0}, 'prompt_tokens_details': {'audio_tokens': 0, 'cached_tokens': 0}}, 'model_name': 'gpt-3.5-turbo-0125', 'system_fingerprint': None, 'finish_reason': 'stop', 'logprobs': None}, id='run-4dfde355-cd0a-429a-9a86-69f78aced0bb-0', usage_metadata={'input_tokens': 11, 'output_tokens': 9, 'total_tokens': 20, 'input_token_details': {'audio': 0, 'cache_read': 0}, 'output_token_details': {'audio': 0, 'reasoning': 0}})"
      ]
     },
     "execution_count": 3,
     "metadata": {},
     "output_type": "execute_result"
    }
   ],
   "source": [
    "from langchain_openai import ChatOpenAI\n",
    "\n",
    "llm = ChatOpenAI()\n",
    "llm.invoke(\"Hello, world!\")"
   ]
  },
  {
   "cell_type": "code",
   "execution_count": 4,
   "metadata": {},
   "outputs": [],
   "source": [
    "import getpass\n",
    "import os\n",
    "\n",
    "os.environ[\"LANGCHAIN_TRACING_V2\"] = \"true\"\n",
    "os.environ[\"LANGCHAIN_API_KEY\"] = \"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\""
   ]
  },
  {
   "cell_type": "code",
   "execution_count": 5,
   "metadata": {},
   "outputs": [
    {
     "name": "stderr",
     "output_type": "stream",
     "text": [
      "USER_AGENT environment variable not set, consider setting it to identify your requests.\n"
     ]
    },
    {
     "data": {
      "text/plain": [
       "'Task Decomposition is a technique where complex tasks are broken down into smaller, more manageable steps. This allows agents or models to think step by step and utilize more computation to tackle difficult tasks effectively. It can be done through simple prompting, task-specific instructions, or with human inputs.'"
      ]
     },
     "execution_count": 5,
     "metadata": {},
     "output_type": "execute_result"
    }
   ],
   "source": [
    "import bs4\n",
    "from langchain import hub\n",
    "from langchain_chroma import Chroma\n",
    "from langchain_community.document_loaders import WebBaseLoader\n",
    "from langchain_core.output_parsers import StrOutputParser\n",
    "from langchain_core.runnables import RunnablePassthrough\n",
    "from langchain_openai import OpenAIEmbeddings\n",
    "from langchain_text_splitters import RecursiveCharacterTextSplitter\n",
    "\n",
    "# Load, chunk and index the contents of the blog.\n",
    "loader = WebBaseLoader(\n",
    "    web_paths=(\"https://lilianweng.github.io/posts/2023-06-23-agent/\",),\n",
    "    bs_kwargs=dict(\n",
    "        parse_only=bs4.SoupStrainer(\n",
    "            class_=(\"post-content\", \"post-title\", \"post-header\")\n",
    "        )\n",
    "    ),\n",
    ")\n",
    "docs = loader.load()\n",
    "\n",
    "text_splitter = RecursiveCharacterTextSplitter(chunk_size=1000, chunk_overlap=200)\n",
    "splits = text_splitter.split_documents(docs)\n",
    "vectorstore = Chroma.from_documents(documents=splits, embedding=OpenAIEmbeddings())\n",
    "\n",
    "# Retrieve and generate using the relevant snippets of the blog.\n",
    "retriever = vectorstore.as_retriever()\n",
    "prompt = hub.pull(\"rlm/rag-prompt\")\n",
    "\n",
    "\n",
    "def format_docs(docs):\n",
    "    return \"\\n\\n\".join(doc.page_content for doc in docs)\n",
    "\n",
    "\n",
    "rag_chain = (\n",
    "    {\"context\": retriever | format_docs, \"question\": RunnablePassthrough()}\n",
    "    | prompt\n",
    "    | llm\n",
    "    | StrOutputParser()\n",
    ")\n",
    "\n",
    "rag_chain.invoke(\"What is Task Decomposition?\")"
   ]
  },
  {
   "cell_type": "code",
   "execution_count": 6,
   "metadata": {},
   "outputs": [],
   "source": [
    "# cleanup\n",
    "vectorstore.delete_collection()"
   ]
  },
  {
   "cell_type": "code",
   "execution_count": 7,
   "metadata": {},
   "outputs": [
    {
     "data": {
      "text/plain": [
       "43131"
      ]
     },
     "execution_count": 7,
     "metadata": {},
     "output_type": "execute_result"
    }
   ],
   "source": [
    "import bs4\n",
    "from langchain_community.document_loaders import WebBaseLoader\n",
    "\n",
    "# Only keep post title, headers, and content from the full HTML.\n",
    "bs4_strainer = bs4.SoupStrainer(class_=(\"post-title\", \"post-header\", \"post-content\"))\n",
    "loader = WebBaseLoader(\n",
    "    web_paths=(\"https://lilianweng.github.io/posts/2023-06-23-agent/\",),\n",
    "    bs_kwargs={\"parse_only\": bs4_strainer},\n",
    ")\n",
    "docs = loader.load()\n",
    "\n",
    "len(docs[0].page_content)"
   ]
  },
  {
   "cell_type": "code",
   "execution_count": 8,
   "metadata": {},
   "outputs": [],
   "source": [
    "from langchain_community.document_loaders import WebBaseLoader\n",
    "\n",
    "loader = WebBaseLoader(\n",
    "    web_path = \"https://prontera.ru/eu_prime\"\n",
    "    # header_template = None,\n",
    "    # verify_ssl = True,\n",
    "    # proxies = None,\n",
    "    # continue_on_failure = False,\n",
    "    # autoset_encoding = True,\n",
    "    # encoding = None,\n",
    "    # web_paths = (),\n",
    "    # requests_per_second = 2,\n",
    "    # default_parser = \"html.parser\",\n",
    "    # requests_kwargs = None,\n",
    "    # raise_for_status = False,\n",
    "    # bs_get_text_kwargs = None,\n",
    "    # bs_kwargs = None,\n",
    "    # session = None,\n",
    "    # show_progress = True,\n",
    ")\n",
    "\n"
   ]
  },
  {
   "cell_type": "code",
   "execution_count": 9,
   "metadata": {},
   "outputs": [
    {
     "name": "stdout",
     "output_type": "stream",
     "text": [
      "Requirement already satisfied: sentence-transformers in c:\\users\\mokrota\\documents\\github\\math_problem_recommender\\math_problem_recommender\\.venv\\lib\\site-packages (3.2.1)\n",
      "Requirement already satisfied: transformers<5.0.0,>=4.41.0 in c:\\users\\mokrota\\documents\\github\\math_problem_recommender\\math_problem_recommender\\.venv\\lib\\site-packages (from sentence-transformers) (4.46.2)\n",
      "Requirement already satisfied: tqdm in c:\\users\\mokrota\\documents\\github\\math_problem_recommender\\math_problem_recommender\\.venv\\lib\\site-packages (from sentence-transformers) (4.66.6)\n",
      "Requirement already satisfied: torch>=1.11.0 in c:\\users\\mokrota\\documents\\github\\math_problem_recommender\\math_problem_recommender\\.venv\\lib\\site-packages (from sentence-transformers) (2.5.1+cu124)\n",
      "Requirement already satisfied: scikit-learn in c:\\users\\mokrota\\documents\\github\\math_problem_recommender\\math_problem_recommender\\.venv\\lib\\site-packages (from sentence-transformers) (1.5.2)\n",
      "Requirement already satisfied: scipy in c:\\users\\mokrota\\documents\\github\\math_problem_recommender\\math_problem_recommender\\.venv\\lib\\site-packages (from sentence-transformers) (1.14.1)\n",
      "Requirement already satisfied: huggingface-hub>=0.20.0 in c:\\users\\mokrota\\documents\\github\\math_problem_recommender\\math_problem_recommender\\.venv\\lib\\site-packages (from sentence-transformers) (0.26.2)\n",
      "Requirement already satisfied: Pillow in c:\\users\\mokrota\\documents\\github\\math_problem_recommender\\math_problem_recommender\\.venv\\lib\\site-packages (from sentence-transformers) (11.0.0)\n",
      "Requirement already satisfied: filelock in c:\\users\\mokrota\\documents\\github\\math_problem_recommender\\math_problem_recommender\\.venv\\lib\\site-packages (from huggingface-hub>=0.20.0->sentence-transformers) (3.16.1)\n",
      "Requirement already satisfied: fsspec>=2023.5.0 in c:\\users\\mokrota\\documents\\github\\math_problem_recommender\\math_problem_recommender\\.venv\\lib\\site-packages (from huggingface-hub>=0.20.0->sentence-transformers) (2024.10.0)\n",
      "Requirement already satisfied: packaging>=20.9 in c:\\users\\mokrota\\documents\\github\\math_problem_recommender\\math_problem_recommender\\.venv\\lib\\site-packages (from huggingface-hub>=0.20.0->sentence-transformers) (24.1)\n",
      "Requirement already satisfied: pyyaml>=5.1 in c:\\users\\mokrota\\documents\\github\\math_problem_recommender\\math_problem_recommender\\.venv\\lib\\site-packages (from huggingface-hub>=0.20.0->sentence-transformers) (6.0.2)\n",
      "Requirement already satisfied: requests in c:\\users\\mokrota\\documents\\github\\math_problem_recommender\\math_problem_recommender\\.venv\\lib\\site-packages (from huggingface-hub>=0.20.0->sentence-transformers) (2.32.3)\n",
      "Requirement already satisfied: typing-extensions>=3.7.4.3 in c:\\users\\mokrota\\documents\\github\\math_problem_recommender\\math_problem_recommender\\.venv\\lib\\site-packages (from huggingface-hub>=0.20.0->sentence-transformers) (4.12.2)\n",
      "Requirement already satisfied: networkx in c:\\users\\mokrota\\documents\\github\\math_problem_recommender\\math_problem_recommender\\.venv\\lib\\site-packages (from torch>=1.11.0->sentence-transformers) (3.4.2)\n",
      "Requirement already satisfied: jinja2 in c:\\users\\mokrota\\documents\\github\\math_problem_recommender\\math_problem_recommender\\.venv\\lib\\site-packages (from torch>=1.11.0->sentence-transformers) (3.1.4)\n",
      "Requirement already satisfied: setuptools in c:\\users\\mokrota\\documents\\github\\math_problem_recommender\\math_problem_recommender\\.venv\\lib\\site-packages (from torch>=1.11.0->sentence-transformers) (75.3.0)\n",
      "Requirement already satisfied: sympy==1.13.1 in c:\\users\\mokrota\\documents\\github\\math_problem_recommender\\math_problem_recommender\\.venv\\lib\\site-packages (from torch>=1.11.0->sentence-transformers) (1.13.1)\n",
      "Requirement already satisfied: mpmath<1.4,>=1.1.0 in c:\\users\\mokrota\\documents\\github\\math_problem_recommender\\math_problem_recommender\\.venv\\lib\\site-packages (from sympy==1.13.1->torch>=1.11.0->sentence-transformers) (1.3.0)\n",
      "Requirement already satisfied: colorama in c:\\users\\mokrota\\documents\\github\\math_problem_recommender\\math_problem_recommender\\.venv\\lib\\site-packages (from tqdm->sentence-transformers) (0.4.6)\n",
      "Requirement already satisfied: numpy>=1.17 in c:\\users\\mokrota\\documents\\github\\math_problem_recommender\\math_problem_recommender\\.venv\\lib\\site-packages (from transformers<5.0.0,>=4.41.0->sentence-transformers) (1.26.4)\n",
      "Requirement already satisfied: regex!=2019.12.17 in c:\\users\\mokrota\\documents\\github\\math_problem_recommender\\math_problem_recommender\\.venv\\lib\\site-packages (from transformers<5.0.0,>=4.41.0->sentence-transformers) (2024.9.11)\n",
      "Requirement already satisfied: safetensors>=0.4.1 in c:\\users\\mokrota\\documents\\github\\math_problem_recommender\\math_problem_recommender\\.venv\\lib\\site-packages (from transformers<5.0.0,>=4.41.0->sentence-transformers) (0.4.5)\n",
      "Requirement already satisfied: tokenizers<0.21,>=0.20 in c:\\users\\mokrota\\documents\\github\\math_problem_recommender\\math_problem_recommender\\.venv\\lib\\site-packages (from transformers<5.0.0,>=4.41.0->sentence-transformers) (0.20.3)\n",
      "Requirement already satisfied: joblib>=1.2.0 in c:\\users\\mokrota\\documents\\github\\math_problem_recommender\\math_problem_recommender\\.venv\\lib\\site-packages (from scikit-learn->sentence-transformers) (1.4.2)\n",
      "Requirement already satisfied: threadpoolctl>=3.1.0 in c:\\users\\mokrota\\documents\\github\\math_problem_recommender\\math_problem_recommender\\.venv\\lib\\site-packages (from scikit-learn->sentence-transformers) (3.5.0)\n",
      "Requirement already satisfied: MarkupSafe>=2.0 in c:\\users\\mokrota\\documents\\github\\math_problem_recommender\\math_problem_recommender\\.venv\\lib\\site-packages (from jinja2->torch>=1.11.0->sentence-transformers) (3.0.2)\n",
      "Requirement already satisfied: charset-normalizer<4,>=2 in c:\\users\\mokrota\\documents\\github\\math_problem_recommender\\math_problem_recommender\\.venv\\lib\\site-packages (from requests->huggingface-hub>=0.20.0->sentence-transformers) (3.4.0)\n",
      "Requirement already satisfied: idna<4,>=2.5 in c:\\users\\mokrota\\documents\\github\\math_problem_recommender\\math_problem_recommender\\.venv\\lib\\site-packages (from requests->huggingface-hub>=0.20.0->sentence-transformers) (3.10)\n",
      "Requirement already satisfied: urllib3<3,>=1.21.1 in c:\\users\\mokrota\\documents\\github\\math_problem_recommender\\math_problem_recommender\\.venv\\lib\\site-packages (from requests->huggingface-hub>=0.20.0->sentence-transformers) (2.2.3)\n",
      "Requirement already satisfied: certifi>=2017.4.17 in c:\\users\\mokrota\\documents\\github\\math_problem_recommender\\math_problem_recommender\\.venv\\lib\\site-packages (from requests->huggingface-hub>=0.20.0->sentence-transformers) (2024.8.30)\n"
     ]
    }
   ],
   "source": [
    "!pip install sentence-transformers"
   ]
  },
  {
   "cell_type": "code",
   "execution_count": 10,
   "metadata": {},
   "outputs": [
    {
     "name": "stdout",
     "output_type": "stream",
     "text": [
      "Looking in indexes: https://download.pytorch.org/whl/cu124\n",
      "Requirement already satisfied: torch in c:\\users\\mokrota\\documents\\github\\math_problem_recommender\\math_problem_recommender\\.venv\\lib\\site-packages (2.5.1+cu124)\n",
      "Requirement already satisfied: torchvision in c:\\users\\mokrota\\documents\\github\\math_problem_recommender\\math_problem_recommender\\.venv\\lib\\site-packages (0.20.1+cu124)\n",
      "Requirement already satisfied: torchaudio in c:\\users\\mokrota\\documents\\github\\math_problem_recommender\\math_problem_recommender\\.venv\\lib\\site-packages (2.5.1+cu124)\n",
      "Requirement already satisfied: filelock in c:\\users\\mokrota\\documents\\github\\math_problem_recommender\\math_problem_recommender\\.venv\\lib\\site-packages (from torch) (3.16.1)\n",
      "Requirement already satisfied: typing-extensions>=4.8.0 in c:\\users\\mokrota\\documents\\github\\math_problem_recommender\\math_problem_recommender\\.venv\\lib\\site-packages (from torch) (4.12.2)\n",
      "Requirement already satisfied: networkx in c:\\users\\mokrota\\documents\\github\\math_problem_recommender\\math_problem_recommender\\.venv\\lib\\site-packages (from torch) (3.4.2)\n",
      "Requirement already satisfied: jinja2 in c:\\users\\mokrota\\documents\\github\\math_problem_recommender\\math_problem_recommender\\.venv\\lib\\site-packages (from torch) (3.1.4)\n",
      "Requirement already satisfied: fsspec in c:\\users\\mokrota\\documents\\github\\math_problem_recommender\\math_problem_recommender\\.venv\\lib\\site-packages (from torch) (2024.10.0)\n",
      "Requirement already satisfied: setuptools in c:\\users\\mokrota\\documents\\github\\math_problem_recommender\\math_problem_recommender\\.venv\\lib\\site-packages (from torch) (75.3.0)\n",
      "Requirement already satisfied: sympy==1.13.1 in c:\\users\\mokrota\\documents\\github\\math_problem_recommender\\math_problem_recommender\\.venv\\lib\\site-packages (from torch) (1.13.1)\n",
      "Requirement already satisfied: mpmath<1.4,>=1.1.0 in c:\\users\\mokrota\\documents\\github\\math_problem_recommender\\math_problem_recommender\\.venv\\lib\\site-packages (from sympy==1.13.1->torch) (1.3.0)\n",
      "Requirement already satisfied: numpy in c:\\users\\mokrota\\documents\\github\\math_problem_recommender\\math_problem_recommender\\.venv\\lib\\site-packages (from torchvision) (1.26.4)\n",
      "Requirement already satisfied: pillow!=8.3.*,>=5.3.0 in c:\\users\\mokrota\\documents\\github\\math_problem_recommender\\math_problem_recommender\\.venv\\lib\\site-packages (from torchvision) (11.0.0)\n",
      "Requirement already satisfied: MarkupSafe>=2.0 in c:\\users\\mokrota\\documents\\github\\math_problem_recommender\\math_problem_recommender\\.venv\\lib\\site-packages (from jinja2->torch) (3.0.2)\n"
     ]
    }
   ],
   "source": [
    "!pip install torch torchvision torchaudio --index-url https://download.pytorch.org/whl/cu124"
   ]
  },
  {
   "cell_type": "code",
   "execution_count": 11,
   "metadata": {},
   "outputs": [
    {
     "name": "stdout",
     "output_type": "stream",
     "text": [
      "Looking in indexes: https://download.pytorch.org/whl/cu124\n",
      "Requirement already satisfied: xformers in c:\\users\\mokrota\\documents\\github\\math_problem_recommender\\math_problem_recommender\\.venv\\lib\\site-packages (0.0.28.post3)\n",
      "Requirement already satisfied: numpy in c:\\users\\mokrota\\documents\\github\\math_problem_recommender\\math_problem_recommender\\.venv\\lib\\site-packages (from xformers) (1.26.4)\n",
      "Requirement already satisfied: torch==2.5.1 in c:\\users\\mokrota\\documents\\github\\math_problem_recommender\\math_problem_recommender\\.venv\\lib\\site-packages (from xformers) (2.5.1+cu124)\n",
      "Requirement already satisfied: filelock in c:\\users\\mokrota\\documents\\github\\math_problem_recommender\\math_problem_recommender\\.venv\\lib\\site-packages (from torch==2.5.1->xformers) (3.16.1)\n",
      "Requirement already satisfied: typing-extensions>=4.8.0 in c:\\users\\mokrota\\documents\\github\\math_problem_recommender\\math_problem_recommender\\.venv\\lib\\site-packages (from torch==2.5.1->xformers) (4.12.2)\n",
      "Requirement already satisfied: networkx in c:\\users\\mokrota\\documents\\github\\math_problem_recommender\\math_problem_recommender\\.venv\\lib\\site-packages (from torch==2.5.1->xformers) (3.4.2)\n",
      "Requirement already satisfied: jinja2 in c:\\users\\mokrota\\documents\\github\\math_problem_recommender\\math_problem_recommender\\.venv\\lib\\site-packages (from torch==2.5.1->xformers) (3.1.4)\n",
      "Requirement already satisfied: fsspec in c:\\users\\mokrota\\documents\\github\\math_problem_recommender\\math_problem_recommender\\.venv\\lib\\site-packages (from torch==2.5.1->xformers) (2024.10.0)\n",
      "Requirement already satisfied: setuptools in c:\\users\\mokrota\\documents\\github\\math_problem_recommender\\math_problem_recommender\\.venv\\lib\\site-packages (from torch==2.5.1->xformers) (75.3.0)\n",
      "Requirement already satisfied: sympy==1.13.1 in c:\\users\\mokrota\\documents\\github\\math_problem_recommender\\math_problem_recommender\\.venv\\lib\\site-packages (from torch==2.5.1->xformers) (1.13.1)\n",
      "Requirement already satisfied: mpmath<1.4,>=1.1.0 in c:\\users\\mokrota\\documents\\github\\math_problem_recommender\\math_problem_recommender\\.venv\\lib\\site-packages (from sympy==1.13.1->torch==2.5.1->xformers) (1.3.0)\n",
      "Requirement already satisfied: MarkupSafe>=2.0 in c:\\users\\mokrota\\documents\\github\\math_problem_recommender\\math_problem_recommender\\.venv\\lib\\site-packages (from jinja2->torch==2.5.1->xformers) (3.0.2)\n"
     ]
    }
   ],
   "source": [
    "!pip install -U xformers --index-url https://download.pytorch.org/whl/cu124"
   ]
  },
  {
   "cell_type": "code",
   "execution_count": 12,
   "metadata": {},
   "outputs": [
    {
     "name": "stderr",
     "output_type": "stream",
     "text": [
      "c:\\Users\\mokrota\\Documents\\GitHub\\math_problem_recommender\\math_problem_recommender\\.venv\\Lib\\site-packages\\sentence_transformers\\cross_encoder\\CrossEncoder.py:13: TqdmWarning: IProgress not found. Please update jupyter and ipywidgets. See https://ipywidgets.readthedocs.io/en/stable/user_install.html\n",
      "  from tqdm.autonotebook import tqdm, trange\n",
      "A matching Triton is not available, some optimizations will not be enabled\n",
      "Traceback (most recent call last):\n",
      "  File \"c:\\Users\\mokrota\\Documents\\GitHub\\math_problem_recommender\\math_problem_recommender\\.venv\\Lib\\site-packages\\xformers\\__init__.py\", line 57, in _is_triton_available\n",
      "    import triton  # noqa\n",
      "    ^^^^^^^^^^^^^\n",
      "ModuleNotFoundError: No module named 'triton'\n",
      "Some weights of the model checkpoint at dunzhang/stella_en_400M_v5 were not used when initializing NewModel: ['new.pooler.dense.bias', 'new.pooler.dense.weight']\n",
      "- This IS expected if you are initializing NewModel from the checkpoint of a model trained on another task or with another architecture (e.g. initializing a BertForSequenceClassification model from a BertForPreTraining model).\n",
      "- This IS NOT expected if you are initializing NewModel from the checkpoint of a model that you expect to be exactly identical (initializing a BertForSequenceClassification model from a BertForSequenceClassification model).\n"
     ]
    }
   ],
   "source": [
    "from sentence_transformers import SentenceTransformer\n",
    "model = SentenceTransformer(\"dunzhang/stella_en_400M_v5\", trust_remote_code=True).cuda()\n",
    "# ！The default dimension is 1024, if you need other dimensions, please clone the model and modify `modules.json` to replace `2_Dense_1024` with another dimension, e.g. `2_Dense_256` or `2_Dense_8192` !\n",
    "# on gpu\n",
    "# you can also use this model without the features of `use_memory_efficient_attention` and `unpad_inputs`. It can be worked in CPU.\n",
    "# model = SentenceTransformer(\n",
    "#     \"dunzhang/stella_en_400M_v5\",\n",
    "#     trust_remote_code=True,\n",
    "#     device=\"cpu\",\n",
    "#     config_kwargs={\"use_memory_efficient_attention\": False, \"unpad_inputs\": False}\n",
    "# )"
   ]
  },
  {
   "cell_type": "code",
   "execution_count": 13,
   "metadata": {},
   "outputs": [
    {
     "name": "stdout",
     "output_type": "stream",
     "text": [
      "(2, 1024) (2, 1024)\n",
      "tensor([[0.5871, 0.5899],\n",
      "        [0.4614, 0.6874]])\n"
     ]
    }
   ],
   "source": [
    "# This model supports two prompts: \"s2p_query\" and \"s2s_query\" for sentence-to-passage and sentence-to-sentence tasks, respectively.\n",
    "# They are defined in `config_sentence_transformers.json`\n",
    "query_prompt_name = \"s2p_query\"\n",
    "queries = [\n",
    "    \"print('hello world')\",\n",
    "    \"std::cout << \\\"Hello World!\\\";\",\n",
    "]\n",
    "\n",
    "# docs do not need any prompts\n",
    "\n",
    "docs = [\n",
    "    \"General function in python for printing string output is called print\",\n",
    "    \"In c++ to print something out one has to call method std::cout\"\n",
    "]\n",
    "\n",
    "query_embeddings = model.encode(queries, prompt_name=query_prompt_name)\n",
    "doc_embeddings = model.encode(docs)\n",
    "print(query_embeddings.shape, doc_embeddings.shape)\n",
    "\n",
    "similarities = model.similarity(query_embeddings, doc_embeddings)\n",
    "print(similarities)\n",
    "# tensor([[0.8398, 0.2990],\n",
    "#         [0.3282, 0.8095]])\n"
   ]
  },
  {
   "cell_type": "markdown",
   "metadata": {},
   "source": [
    "# Scraping latex format of documents"
   ]
  },
  {
   "cell_type": "markdown",
   "metadata": {},
   "source": [
    "from https://web.evanchen.cc/problems.html"
   ]
  },
  {
   "cell_type": "code",
   "execution_count": null,
   "metadata": {},
   "outputs": [],
   "source": []
  },
  {
   "cell_type": "markdown",
   "metadata": {},
   "source": [
    "# Splitting scrapped documents by problems"
   ]
  },
  {
   "cell_type": "code",
   "execution_count": 14,
   "metadata": {},
   "outputs": [
    {
     "name": "stdout",
     "output_type": "stream",
     "text": [
      "Requirement already satisfied: pylatexenc in c:\\users\\mokrota\\documents\\github\\math_problem_recommender\\math_problem_recommender\\.venv\\lib\\site-packages (2.10)\n"
     ]
    }
   ],
   "source": [
    "!pip install pylatexenc"
   ]
  },
  {
   "cell_type": "code",
   "execution_count": 15,
   "metadata": {},
   "outputs": [
    {
     "name": "stdout",
     "output_type": "stream",
     "text": [
      "Saved section 'Problem 1' to IMO-1997-notes\\Problem_1.tex\n",
      "Saved section 'Problem 2' to IMO-1997-notes\\Problem_2.tex\n",
      "Saved section 'Problem 3' to IMO-1997-notes\\Problem_3.tex\n",
      "Saved section 'Problem 4' to IMO-1997-notes\\Problem_4.tex\n",
      "Saved section 'Problem 5' to IMO-1997-notes\\Problem_5.tex\n",
      "Saved section 'Problem 6' to IMO-1997-notes\\Problem_6.tex\n",
      "Saved section 'IMO 1997/1' to IMO-1997-notes\\1997_P1.tex\n",
      "Saved section 'IMO 1997/2' to IMO-1997-notes\\1997_P2.tex\n",
      "Saved section 'IMO 1997/3' to IMO-1997-notes\\1997_P3.tex\n",
      "Saved section 'IMO 1997/4' to IMO-1997-notes\\1997_P4.tex\n",
      "Saved section 'IMO 1997/5' to IMO-1997-notes\\1997_P5.tex\n",
      "Saved section 'IMO 1997/6' to IMO-1997-notes\\1997_P6.tex\n",
      "Saved section 'Problem 1' to IMO-1998-notes\\Problem_1.tex\n",
      "Saved section 'Problem 2' to IMO-1998-notes\\Problem_2.tex\n",
      "Saved section 'Problem 3' to IMO-1998-notes\\Problem_3.tex\n",
      "Saved section 'Problem 4' to IMO-1998-notes\\Problem_4.tex\n",
      "Saved section 'Problem 5' to IMO-1998-notes\\Problem_5.tex\n",
      "Saved section 'Problem 6' to IMO-1998-notes\\Problem_6.tex\n",
      "Saved section 'IMO 1998/1' to IMO-1998-notes\\1998_P1.tex\n",
      "Saved section 'IMO 1998/2' to IMO-1998-notes\\1998_P2.tex\n",
      "Saved section 'IMO 1998/3' to IMO-1998-notes\\1998_P3.tex\n",
      "Saved section 'IMO 1998/4' to IMO-1998-notes\\1998_P4.tex\n",
      "Saved section 'IMO 1998/5' to IMO-1998-notes\\1998_P5.tex\n",
      "Saved section 'IMO 1998/6' to IMO-1998-notes\\1998_P6.tex\n",
      "Saved section 'Problem 1' to IMO-1999-notes\\Problem_1.tex\n",
      "Saved section 'Problem 2' to IMO-1999-notes\\Problem_2.tex\n",
      "Saved section 'Problem 3' to IMO-1999-notes\\Problem_3.tex\n",
      "Saved section 'Problem 4' to IMO-1999-notes\\Problem_4.tex\n",
      "Saved section 'Problem 5' to IMO-1999-notes\\Problem_5.tex\n",
      "Saved section 'Problem 6' to IMO-1999-notes\\Problem_6.tex\n",
      "Saved section 'IMO 1999/1' to IMO-1999-notes\\1999_P1.tex\n",
      "Saved section 'IMO 1999/2' to IMO-1999-notes\\1999_P2.tex\n",
      "Saved section 'IMO 1999/3' to IMO-1999-notes\\1999_P3.tex\n",
      "Saved section 'IMO 1999/4' to IMO-1999-notes\\1999_P4.tex\n",
      "Saved section 'IMO 1999/5' to IMO-1999-notes\\1999_P5.tex\n",
      "Saved section 'IMO 1999/6' to IMO-1999-notes\\1999_P6.tex\n",
      "Saved section 'Problem 1' to IMO-2000-notes\\Problem_1.tex\n",
      "Saved section 'Problem 2' to IMO-2000-notes\\Problem_2.tex\n",
      "Saved section 'Problem 3' to IMO-2000-notes\\Problem_3.tex\n",
      "Saved section 'Problem 4' to IMO-2000-notes\\Problem_4.tex\n",
      "Saved section 'Problem 5' to IMO-2000-notes\\Problem_5.tex\n",
      "Saved section 'Problem 6' to IMO-2000-notes\\Problem_6.tex\n",
      "Saved section 'IMO 2000/1, proposed by Sergei Berlov (RUS)' to IMO-2000-notes\\2000_P1.tex\n",
      "Saved section 'IMO 2000/2, proposed by Titu Andreescu (USA)' to IMO-2000-notes\\2000_P2.tex\n",
      "Saved section 'IMO 2000/3, proposed by Sergei Shikh and Igor Voronovich (BLR)' to IMO-2000-notes\\2000_P3.tex\n",
      "Saved section 'IMO 2000/4, proposed by Sándor Dobos (HUN)' to IMO-2000-notes\\2000_P4.tex\n",
      "Saved section 'IMO 2000/5, proposed by Valerii Senderov (RUS)' to IMO-2000-notes\\2000_P5.tex\n",
      "Saved section 'IMO 2000/6, proposed by Lev and Tatiana Emelianovii (RUS)' to IMO-2000-notes\\2000_P6.tex\n",
      "Saved section 'Problem 1' to IMO-2001-notes\\Problem_1.tex\n",
      "Saved section 'Problem 2' to IMO-2001-notes\\Problem_2.tex\n",
      "Saved section 'Problem 3' to IMO-2001-notes\\Problem_3.tex\n",
      "Saved section 'Problem 4' to IMO-2001-notes\\Problem_4.tex\n",
      "Saved section 'Problem 5' to IMO-2001-notes\\Problem_5.tex\n",
      "Saved section 'Problem 6' to IMO-2001-notes\\Problem_6.tex\n",
      "Saved section 'IMO 2001/1, proposed by Hojoo Lee (KOR)' to IMO-2001-notes\\2001_P1.tex\n",
      "Saved section 'IMO 2001/2, proposed by Hojoo Lee (KOR)' to IMO-2001-notes\\2001_P2.tex\n",
      "Saved section 'IMO 2001/3, proposed by Christian Bey (GER)' to IMO-2001-notes\\2001_P3.tex\n",
      "Saved section 'IMO 2001/4, proposed by Bill Sands (CAN)' to IMO-2001-notes\\2001_P4.tex\n",
      "Saved section 'IMO 2001/5, proposed by Shay Gueron (ISR)' to IMO-2001-notes\\2001_P5.tex\n",
      "Saved section 'IMO 2001/6, proposed by Aleksander Ivanov (BGR)' to IMO-2001-notes\\2001_P6.tex\n"
     ]
    }
   ],
   "source": [
    "import re\n",
    "from pylatexenc.latexwalker import LatexWalker, LatexEnvironmentNode\n",
    "\n",
    "def split_latex_by_regex(latex_content, regex_pattern):\n",
    "    \"\"\"\n",
    "    Splits LaTeX content by sections.\n",
    "    \n",
    "    Args:\n",
    "        latex_content (str): The LaTeX document as a string.\n",
    "    \n",
    "    Returns:\n",
    "        dict: A dictionary where each key is a section title, and value is the LaTeX content for that section.\n",
    "    \"\"\"\n",
    "    # Regex to match LaTeX sections\n",
    "    matches = re.finditer(regex_pattern, latex_content)\n",
    "    splits = {}\n",
    "    start_idx = None\n",
    "    current_section = None\n",
    "\n",
    "    for match in matches:\n",
    "        if current_section is not None:\n",
    "            # Add the previous section\n",
    "            splits[current_section] = latex_content[start_idx:match.start()].strip()\n",
    "        current_section = match.group(1)\n",
    "        start_idx = match.end()\n",
    "    \n",
    "    if current_section is not None:\n",
    "        # Add the last section\n",
    "        splits[current_section] = latex_content[start_idx:]\n",
    "    \n",
    "    return splits\n",
    "\n",
    "def save_files(files, output_dir=\"unnamed problems\"):\n",
    "    \"\"\"\n",
    "    Saves each LaTeX section to a separate file.\n",
    "    \n",
    "    Args:\n",
    "        sections (dict): Dictionary of sections and their LaTeX content.\n",
    "        output_dir (str): Directory to save section files.\n",
    "    \"\"\"\n",
    "    import os\n",
    "    os.makedirs(output_dir, exist_ok=True)\n",
    "\n",
    "    for file, content in files.items():\n",
    "        pattern = r\"\\d+/\\d\"\n",
    "        matches = re.findall(pattern, file)\n",
    "        if matches:\n",
    "            filename = matches[0].replace('/', '_P') + '.tex'\n",
    "        else:\n",
    "            filename = file.replace(' ', '_') + '.tex'\n",
    "\n",
    "        filename = os.path.join(output_dir, filename)\n",
    "        with open(filename, \"w\", encoding=\"utf-8\") as f:\n",
    "            f.write(content)\n",
    "        print(f\"Saved section '{file}' to {filename}\")\n",
    "\n",
    "if __name__ == \"__main__\":\n",
    "    # Example usage\n",
    "    for i in range(1997, 2002):\n",
    "        filepath_header = f\"IMO-{i}-notes\"\n",
    "        filepath_tail = \".tex\"\n",
    "        with open(filepath_header + filepath_tail, \"r\", encoding=\"utf-8\") as file:\n",
    "            latex_content = file.read()\n",
    "\n",
    "        section_pattern = r\"\\\\section\\{(.+?)\\}\"\n",
    "        subsection_pattern = r\"\\\\subsection\\{(.+?)\\}\"\n",
    "        enumerate_item_pattern = r\"\\\\item %% (.+)\"\n",
    "\n",
    "        sections = split_latex_by_regex(latex_content, section_pattern)\n",
    "        problem_section = sections['Problems']\n",
    "        problems = split_latex_by_regex(problem_section, enumerate_item_pattern)\n",
    "\n",
    "        solutions = split_latex_by_regex(latex_content, subsection_pattern)\n",
    "        save_files(problems, filepath_header), save_files(solutions, filepath_header)\n"
   ]
  },
  {
   "cell_type": "code",
   "execution_count": 16,
   "metadata": {},
   "outputs": [],
   "source": [
    "def check_similarity(queries, docs):\n",
    "    query_prompt_name = \"s2p_query\"\n",
    "\n",
    "    query_embeddings = model.encode(queries, prompt_name=query_prompt_name)\n",
    "    doc_embeddings = model.encode(docs)\n",
    "    print(query_embeddings.shape, doc_embeddings.shape)\n",
    "\n",
    "    similarities = model.similarity(query_embeddings, doc_embeddings)\n",
    "    return similarities\n"
   ]
  },
  {
   "cell_type": "code",
   "execution_count": 17,
   "metadata": {},
   "outputs": [
    {
     "name": "stdout",
     "output_type": "stream",
     "text": [
      "Requirement already satisfied: pandas in c:\\users\\mokrota\\documents\\github\\math_problem_recommender\\math_problem_recommender\\.venv\\lib\\site-packages (2.2.3)\n",
      "Requirement already satisfied: numpy>=1.26.0 in c:\\users\\mokrota\\documents\\github\\math_problem_recommender\\math_problem_recommender\\.venv\\lib\\site-packages (from pandas) (1.26.4)\n",
      "Requirement already satisfied: python-dateutil>=2.8.2 in c:\\users\\mokrota\\documents\\github\\math_problem_recommender\\math_problem_recommender\\.venv\\lib\\site-packages (from pandas) (2.9.0.post0)\n",
      "Requirement already satisfied: pytz>=2020.1 in c:\\users\\mokrota\\documents\\github\\math_problem_recommender\\math_problem_recommender\\.venv\\lib\\site-packages (from pandas) (2024.2)\n",
      "Requirement already satisfied: tzdata>=2022.7 in c:\\users\\mokrota\\documents\\github\\math_problem_recommender\\math_problem_recommender\\.venv\\lib\\site-packages (from pandas) (2024.2)\n",
      "Requirement already satisfied: six>=1.5 in c:\\users\\mokrota\\documents\\github\\math_problem_recommender\\math_problem_recommender\\.venv\\lib\\site-packages (from python-dateutil>=2.8.2->pandas) (1.16.0)\n"
     ]
    }
   ],
   "source": [
    "!pip install pandas"
   ]
  },
  {
   "cell_type": "code",
   "execution_count": 28,
   "metadata": {},
   "outputs": [],
   "source": [
    "import pandas as pd\n",
    "import os\n",
    "\n",
    "problems = []\n",
    "for i in range(1997, 2002):\n",
    "    entry = {}\n",
    "    entry['year'] = i\n",
    "    for j in range(1, 7):\n",
    "        problem_path = os.path.abspath(f'./IMO-{i}-notes/Problem_{j}.tex')\n",
    "        with open(problem_path, 'r') as f:\n",
    "            entry[f'problem_{j}'] = f.read()\n",
    "\n",
    "        solution_path = os.path.abspath(f\"./IMO-{i}-notes/{i}_P{j}.tex\")\n",
    "        with open(solution_path, 'r') as f:\n",
    "            entry[f'solution_{j}'] = f.read()\n",
    "    problems.append(entry)\n",
    "    "
   ]
  },
  {
   "cell_type": "code",
   "execution_count": 29,
   "metadata": {},
   "outputs": [],
   "source": [
    "df = pd.DataFrame(problems)"
   ]
  },
  {
   "cell_type": "code",
   "execution_count": 30,
   "metadata": {},
   "outputs": [
    {
     "data": {
      "text/html": [
       "<div>\n",
       "<style scoped>\n",
       "    .dataframe tbody tr th:only-of-type {\n",
       "        vertical-align: middle;\n",
       "    }\n",
       "\n",
       "    .dataframe tbody tr th {\n",
       "        vertical-align: top;\n",
       "    }\n",
       "\n",
       "    .dataframe thead th {\n",
       "        text-align: right;\n",
       "    }\n",
       "</style>\n",
       "<table border=\"1\" class=\"dataframe\">\n",
       "  <thead>\n",
       "    <tr style=\"text-align: right;\">\n",
       "      <th></th>\n",
       "      <th>year</th>\n",
       "      <th>problem_1</th>\n",
       "      <th>solution_1</th>\n",
       "      <th>problem_2</th>\n",
       "      <th>solution_2</th>\n",
       "      <th>problem_3</th>\n",
       "      <th>solution_3</th>\n",
       "      <th>problem_4</th>\n",
       "      <th>solution_4</th>\n",
       "      <th>problem_5</th>\n",
       "      <th>solution_5</th>\n",
       "      <th>problem_6</th>\n",
       "      <th>solution_6</th>\n",
       "    </tr>\n",
       "  </thead>\n",
       "  <tbody>\n",
       "    <tr>\n",
       "      <th>0</th>\n",
       "      <td>1997</td>\n",
       "      <td>In the plane there is an infinite chessboard.\\...</td>\n",
       "      <td>\\textsl{Available online at \\url{https://aops....</td>\n",
       "      <td>Let $ABC$ be a triangle with $\\angle A &lt; \\min(...</td>\n",
       "      <td>\\textsl{Available online at \\url{https://aops....</td>\n",
       "      <td>Let $x_1$, $x_2$, \\dots, $x_n$ be real numbers...</td>\n",
       "      <td>\\textsl{Available online at \\url{https://aops....</td>\n",
       "      <td>An $n \\times n$ matrix whose entries come\\nfro...</td>\n",
       "      <td>\\textsl{Available online at \\url{https://aops....</td>\n",
       "      <td>Find all pairs $(a,b)$ of positive integers sa...</td>\n",
       "      <td>\\textsl{Available online at \\url{https://aops....</td>\n",
       "      <td>\\nFor each positive integer $n$,\\nlet $f(n)$ d...</td>\n",
       "      <td>\\n\\textsl{Available online at \\url{https://aop...</td>\n",
       "    </tr>\n",
       "    <tr>\n",
       "      <th>1</th>\n",
       "      <td>1998</td>\n",
       "      <td>A convex quadrilateral $ABCD$ has perpendicula...</td>\n",
       "      <td>\\textsl{Available online at \\url{https://aops....</td>\n",
       "      <td>In a competition, there are $a$ contestants\\na...</td>\n",
       "      <td>\\textsl{Available online at \\url{https://aops....</td>\n",
       "      <td>For any positive integer $n$,\\nlet $\\tau(n)$ d...</td>\n",
       "      <td>\\textsl{Available online at \\url{https://aops....</td>\n",
       "      <td>Determine all pairs $(x,y)$ of positive intege...</td>\n",
       "      <td>\\textsl{Available online at \\url{https://aops....</td>\n",
       "      <td>Let $I$ be the incenter of triangle $ABC$.\\nLe...</td>\n",
       "      <td>\\textsl{Available online at \\url{https://aops....</td>\n",
       "      <td>\\nClassify all functions $f \\colon \\NN \\to \\NN...</td>\n",
       "      <td>\\n\\textsl{Available online at \\url{https://aop...</td>\n",
       "    </tr>\n",
       "    <tr>\n",
       "      <th>2</th>\n",
       "      <td>1999</td>\n",
       "      <td>A set $S$ of points from the space will be cal...</td>\n",
       "      <td>\\textsl{Available online at \\url{https://aops....</td>\n",
       "      <td>Find the least constant $C$ such that for any ...</td>\n",
       "      <td>\\textsl{Available online at \\url{https://aops....</td>\n",
       "      <td>Let $n$ be an even positive integer.\\nFind the...</td>\n",
       "      <td>\\textsl{Available online at \\url{https://aops....</td>\n",
       "      <td>Find all pairs of positive integers $(x,p)$\\ns...</td>\n",
       "      <td>\\textsl{Available online at \\url{https://aops....</td>\n",
       "      <td>Two circles $\\Omega_{1}$ and $\\Omega_{2}$ touc...</td>\n",
       "      <td>\\textsl{Available online at \\url{https://aops....</td>\n",
       "      <td>\\nFind all the functions $f \\colon \\RR \\to \\RR...</td>\n",
       "      <td>\\n\\textsl{Available online at \\url{https://aop...</td>\n",
       "    </tr>\n",
       "    <tr>\n",
       "      <th>3</th>\n",
       "      <td>2000</td>\n",
       "      <td>Two circles $G_1$ and $G_2$ intersect at two p...</td>\n",
       "      <td>\\textsl{Available online at \\url{https://aops....</td>\n",
       "      <td>Let $a$, $b$, $c$ be positive real numbers wit...</td>\n",
       "      <td>\\textsl{Available online at \\url{https://aops....</td>\n",
       "      <td>Let $n \\ge 2$ be a positive integer\\nand $\\lam...</td>\n",
       "      <td>\\textsl{Available online at \\url{https://aops....</td>\n",
       "      <td>A magician has one hundred cards numbered $1$ ...</td>\n",
       "      <td>\\textsl{Available online at \\url{https://aops....</td>\n",
       "      <td>Does there exist a positive integer $n$\\nsuch ...</td>\n",
       "      <td>\\textsl{Available online at \\url{https://aops....</td>\n",
       "      <td>\\nLet $\\ol{AH_1}$, $\\ol{BH_2}$, and $\\ol{CH_3}...</td>\n",
       "      <td>\\n\\textsl{Available online at \\url{https://aop...</td>\n",
       "    </tr>\n",
       "    <tr>\n",
       "      <th>4</th>\n",
       "      <td>2001</td>\n",
       "      <td>Let $ABC$ be an acute-angled triangle with $O$...</td>\n",
       "      <td>\\textsl{Available online at \\url{https://aops....</td>\n",
       "      <td>Let $a$, $b$, $c$ be positive reals. Prove tha...</td>\n",
       "      <td>\\textsl{Available online at \\url{https://aops....</td>\n",
       "      <td>Twenty-one girls and twenty-one boys took part...</td>\n",
       "      <td>\\textsl{Available online at \\url{https://aops....</td>\n",
       "      <td>Let $n &gt; 1$ be an odd integer and let $c_1$, $...</td>\n",
       "      <td>\\textsl{Available online at \\url{https://aops....</td>\n",
       "      <td>Let $ABC$ be a triangle.\\nLet $\\ol{AP}$ bisect...</td>\n",
       "      <td>\\textsl{Available online at \\url{https://aops....</td>\n",
       "      <td>\\nLet $a &gt; b &gt; c &gt; d &gt; 0$ be integers satisfyi...</td>\n",
       "      <td>\\n\\textsl{Available online at \\url{https://aop...</td>\n",
       "    </tr>\n",
       "  </tbody>\n",
       "</table>\n",
       "</div>"
      ],
      "text/plain": [
       "   year                                          problem_1  \\\n",
       "0  1997  In the plane there is an infinite chessboard.\\...   \n",
       "1  1998  A convex quadrilateral $ABCD$ has perpendicula...   \n",
       "2  1999  A set $S$ of points from the space will be cal...   \n",
       "3  2000  Two circles $G_1$ and $G_2$ intersect at two p...   \n",
       "4  2001  Let $ABC$ be an acute-angled triangle with $O$...   \n",
       "\n",
       "                                          solution_1  \\\n",
       "0  \\textsl{Available online at \\url{https://aops....   \n",
       "1  \\textsl{Available online at \\url{https://aops....   \n",
       "2  \\textsl{Available online at \\url{https://aops....   \n",
       "3  \\textsl{Available online at \\url{https://aops....   \n",
       "4  \\textsl{Available online at \\url{https://aops....   \n",
       "\n",
       "                                           problem_2  \\\n",
       "0  Let $ABC$ be a triangle with $\\angle A < \\min(...   \n",
       "1  In a competition, there are $a$ contestants\\na...   \n",
       "2  Find the least constant $C$ such that for any ...   \n",
       "3  Let $a$, $b$, $c$ be positive real numbers wit...   \n",
       "4  Let $a$, $b$, $c$ be positive reals. Prove tha...   \n",
       "\n",
       "                                          solution_2  \\\n",
       "0  \\textsl{Available online at \\url{https://aops....   \n",
       "1  \\textsl{Available online at \\url{https://aops....   \n",
       "2  \\textsl{Available online at \\url{https://aops....   \n",
       "3  \\textsl{Available online at \\url{https://aops....   \n",
       "4  \\textsl{Available online at \\url{https://aops....   \n",
       "\n",
       "                                           problem_3  \\\n",
       "0  Let $x_1$, $x_2$, \\dots, $x_n$ be real numbers...   \n",
       "1  For any positive integer $n$,\\nlet $\\tau(n)$ d...   \n",
       "2  Let $n$ be an even positive integer.\\nFind the...   \n",
       "3  Let $n \\ge 2$ be a positive integer\\nand $\\lam...   \n",
       "4  Twenty-one girls and twenty-one boys took part...   \n",
       "\n",
       "                                          solution_3  \\\n",
       "0  \\textsl{Available online at \\url{https://aops....   \n",
       "1  \\textsl{Available online at \\url{https://aops....   \n",
       "2  \\textsl{Available online at \\url{https://aops....   \n",
       "3  \\textsl{Available online at \\url{https://aops....   \n",
       "4  \\textsl{Available online at \\url{https://aops....   \n",
       "\n",
       "                                           problem_4  \\\n",
       "0  An $n \\times n$ matrix whose entries come\\nfro...   \n",
       "1  Determine all pairs $(x,y)$ of positive intege...   \n",
       "2  Find all pairs of positive integers $(x,p)$\\ns...   \n",
       "3  A magician has one hundred cards numbered $1$ ...   \n",
       "4  Let $n > 1$ be an odd integer and let $c_1$, $...   \n",
       "\n",
       "                                          solution_4  \\\n",
       "0  \\textsl{Available online at \\url{https://aops....   \n",
       "1  \\textsl{Available online at \\url{https://aops....   \n",
       "2  \\textsl{Available online at \\url{https://aops....   \n",
       "3  \\textsl{Available online at \\url{https://aops....   \n",
       "4  \\textsl{Available online at \\url{https://aops....   \n",
       "\n",
       "                                           problem_5  \\\n",
       "0  Find all pairs $(a,b)$ of positive integers sa...   \n",
       "1  Let $I$ be the incenter of triangle $ABC$.\\nLe...   \n",
       "2  Two circles $\\Omega_{1}$ and $\\Omega_{2}$ touc...   \n",
       "3  Does there exist a positive integer $n$\\nsuch ...   \n",
       "4  Let $ABC$ be a triangle.\\nLet $\\ol{AP}$ bisect...   \n",
       "\n",
       "                                          solution_5  \\\n",
       "0  \\textsl{Available online at \\url{https://aops....   \n",
       "1  \\textsl{Available online at \\url{https://aops....   \n",
       "2  \\textsl{Available online at \\url{https://aops....   \n",
       "3  \\textsl{Available online at \\url{https://aops....   \n",
       "4  \\textsl{Available online at \\url{https://aops....   \n",
       "\n",
       "                                           problem_6  \\\n",
       "0  \\nFor each positive integer $n$,\\nlet $f(n)$ d...   \n",
       "1  \\nClassify all functions $f \\colon \\NN \\to \\NN...   \n",
       "2  \\nFind all the functions $f \\colon \\RR \\to \\RR...   \n",
       "3  \\nLet $\\ol{AH_1}$, $\\ol{BH_2}$, and $\\ol{CH_3}...   \n",
       "4  \\nLet $a > b > c > d > 0$ be integers satisfyi...   \n",
       "\n",
       "                                          solution_6  \n",
       "0  \\n\\textsl{Available online at \\url{https://aop...  \n",
       "1  \\n\\textsl{Available online at \\url{https://aop...  \n",
       "2  \\n\\textsl{Available online at \\url{https://aop...  \n",
       "3  \\n\\textsl{Available online at \\url{https://aop...  \n",
       "4  \\n\\textsl{Available online at \\url{https://aop...  "
      ]
     },
     "execution_count": 30,
     "metadata": {},
     "output_type": "execute_result"
    }
   ],
   "source": [
    "df"
   ]
  },
  {
   "cell_type": "code",
   "execution_count": 32,
   "metadata": {},
   "outputs": [],
   "source": [
    "problems = []\n",
    "for index, row in df.iterrows():\n",
    "    year = row['year']\n",
    "    for i in range(1, 7):\n",
    "        problems.append((str(year) + f'P_{i}', row[f\"solution_{i}\"]))"
   ]
  },
  {
   "cell_type": "code",
   "execution_count": 33,
   "metadata": {},
   "outputs": [
    {
     "name": "stdout",
     "output_type": "stream",
     "text": [
      "(30, 1024) (30, 1024)\n"
     ]
    }
   ],
   "source": [
    "queries = [i[1] for i in problems]\n",
    "docs = queries\n",
    "similarity_tensor = check_similarity(queries, docs)"
   ]
  },
  {
   "cell_type": "code",
   "execution_count": 34,
   "metadata": {},
   "outputs": [],
   "source": [
    "import torch\n",
    "score, indeces = torch.topk(similarity_tensor, k=2, dim=1)"
   ]
  },
  {
   "cell_type": "code",
   "execution_count": 35,
   "metadata": {},
   "outputs": [],
   "source": [
    "other_similar = [(int(el[1]), index, float(score[index][1])) for index, el in enumerate(indeces)]"
   ]
  },
  {
   "cell_type": "code",
   "execution_count": 44,
   "metadata": {},
   "outputs": [
    {
     "data": {
      "text/plain": [
       "[(19, 0, 0.7538465261459351),\n",
       " (18, 1, 0.83721923828125),\n",
       " (27, 2, 0.8314324617385864),\n",
       " (27, 3, 0.69101881980896),\n",
       " (15, 4, 0.8495227098464966),\n",
       " (4, 5, 0.82389897108078),\n",
       " (28, 6, 0.8359960317611694),\n",
       " (26, 7, 0.7299522161483765),\n",
       " (15, 8, 0.85323166847229),\n",
       " (15, 9, 0.8231666088104248),\n",
       " (18, 10, 0.8287205696105957),\n",
       " (4, 11, 0.8194943070411682),\n",
       " (23, 12, 0.7721055150032043),\n",
       " (25, 13, 0.8519243597984314),\n",
       " (0, 14, 0.7236874103546143),\n",
       " (8, 15, 0.8442881107330322),\n",
       " (18, 16, 0.8696157932281494),\n",
       " (11, 17, 0.8121345639228821),\n",
       " (16, 18, 0.8448580503463745),\n",
       " (25, 19, 0.8788169026374817),\n",
       " (2, 20, 0.7371670007705688),\n",
       " (27, 21, 0.7260762453079224),\n",
       " (15, 22, 0.8035176396369934),\n",
       " (24, 23, 0.8142293691635132),\n",
       " (28, 24, 0.8339641094207764),\n",
       " (19, 25, 0.8759431838989258),\n",
       " (7, 26, 0.7389252185821533),\n",
       " (2, 27, 0.8422297239303589),\n",
       " (24, 28, 0.8329799175262451),\n",
       " (6, 29, 0.8088075518608093)]"
      ]
     },
     "execution_count": 44,
     "metadata": {},
     "output_type": "execute_result"
    }
   ],
   "source": [
    "other_similar"
   ]
  },
  {
   "cell_type": "code",
   "execution_count": 41,
   "metadata": {},
   "outputs": [],
   "source": [
    "from random import choice\n",
    "\n",
    "def random_similar(couples, df):\n",
    "    similar_index, index, score = choice(couples)\n",
    "    problem = df[index]\n",
    "    similar_problem = df[similar_index]\n",
    "    return problem, similar_problem, score, index, similar_index"
   ]
  },
  {
   "cell_type": "code",
   "execution_count": 42,
   "metadata": {},
   "outputs": [],
   "source": [
    "p, similar_p, score, p_no, similar_p_no = random_similar(other_similar, queries)"
   ]
  },
  {
   "cell_type": "code",
   "execution_count": 49,
   "metadata": {},
   "outputs": [],
   "source": [
    "def print_problem_no(index):\n",
    "    print(f\"Year {1997 + index // 6}, Problem {index % 6 + 1}\")"
   ]
  },
  {
   "cell_type": "code",
   "execution_count": 50,
   "metadata": {},
   "outputs": [
    {
     "name": "stdout",
     "output_type": "stream",
     "text": [
      "Year 2001, Problem 4\n",
      "Year 1997, Problem 3\n"
     ]
    }
   ],
   "source": [
    "print_problem_no(p_no)\n",
    "print_problem_no(similar_p_no)"
   ]
  },
  {
   "cell_type": "code",
   "execution_count": 52,
   "metadata": {},
   "outputs": [
    {
     "data": {
      "text/plain": [
       "0.8422297239303589"
      ]
     },
     "execution_count": 52,
     "metadata": {},
     "output_type": "execute_result"
    }
   ],
   "source": [
    "score"
   ]
  },
  {
   "cell_type": "markdown",
   "metadata": {},
   "source": [
    "score"
   ]
  }
 ],
 "metadata": {
  "kernelspec": {
   "display_name": ".venv",
   "language": "python",
   "name": "python3"
  },
  "language_info": {
   "codemirror_mode": {
    "name": "ipython",
    "version": 3
   },
   "file_extension": ".py",
   "mimetype": "text/x-python",
   "name": "python",
   "nbconvert_exporter": "python",
   "pygments_lexer": "ipython3",
   "version": "3.12.8"
  }
 },
 "nbformat": 4,
 "nbformat_minor": 2
}
