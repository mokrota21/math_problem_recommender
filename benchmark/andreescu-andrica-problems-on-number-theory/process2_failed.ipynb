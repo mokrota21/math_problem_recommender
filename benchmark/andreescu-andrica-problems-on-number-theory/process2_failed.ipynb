{
 "cells": [
  {
   "cell_type": "code",
   "execution_count": 1,
   "id": "5e978604",
   "metadata": {},
   "outputs": [],
   "source": [
    "with open(\"api_key.txt\", 'r') as f:\n",
    "    api_key = f.read()"
   ]
  },
  {
   "cell_type": "code",
   "execution_count": 2,
   "id": "741651b8",
   "metadata": {},
   "outputs": [],
   "source": [
    "import pandas as pd\n",
    "\n",
    "df = pd.read_csv(\"df.csv\")"
   ]
  },
  {
   "cell_type": "code",
   "execution_count": 3,
   "id": "4e19b756",
   "metadata": {},
   "outputs": [
    {
     "name": "stdout",
     "output_type": "stream",
     "text": [
      "(Divisibility)->(The greatest common divisor and the least common multiple) Solution. Let  \n",
      "\n",
      "$$\n",
      "a=g c d(a_{1},a_{2},\\ldots,a_{n})\\quad{\\mathrm{and}}\\quad b=g c d\\left({\\frac{a_{1}+a_{2}}{2}},{\\frac{a_{2}+a_{3}}{2}},\\ldots,{\\frac{a_{n}+a_{1}}{2}}\\right)\n",
      "$$  \n",
      "\n",
      "Then $a_{k}=\\alpha_{k}a$ , for some integers $\\alpha_{k}$ , $k=1,2,\\ldots,n$ . It follows that  \n",
      "\n",
      "$$\n",
      "\\frac{a_{k}+a_{k+1}}{2}=\\frac{\\alpha_{k}+\\alpha_{k+1}}{2}a,\n",
      "$$  \n",
      "\n",
      "where $u_{n+1}=u_{1}$ and $\\alpha_{n+1}=\\alpha_{1}$ . Since $a_{k}$ are odd numbers, $\\alpha_{k}$ are also odd, so $\\frac{\\alpha_{k}+\\alpha_{k+1}}{2}$ are integers.  \n",
      "\n",
      "From relation (1) it follows that $a$ divides ak + ak+1 for all so a divides b. On the other hand, ak + ak+1 = βkb, for some integers βk. Then  \n",
      "\n",
      "$$\n",
      "a_{k}+a_{k+1}\\equiv0{\\pmod{2b}}\n",
      "$$  \n",
      "\n",
      "for all $k\\in\\{1,2,\\ldots,n\\}$ . Summing up from $k=1$ to $k=n$ yields  \n",
      "\n",
      "$$\n",
      "2(a_{1}+a_{2}+\\cdot\\cdot\\cdot+a_{n})\\equiv0{\\pmod{2b}},\n",
      "$$  \n",
      "\n",
      "hence  \n",
      "\n",
      "$$\n",
      "a_{1}+a_{2}+\\cdot\\cdot\\cdot+a_{n}\\equiv0{\\pmod{b}}.\n",
      "$$  \n",
      "\n",
      "Summing up for $k=1,3,\\dotsc,n-2$ implies  \n",
      "\n",
      "$$\n",
      "a_{1}+a_{2}+\\cdot\\cdot\\cdot+a_{n-1}\\equiv0{\\pmod{2b}}\n",
      "$$  \n",
      "\n",
      "and furthermore  \n",
      "\n",
      "$$\n",
      "a_{1}+a_{2}+\\cdots+a_{n-1}\\equiv0{\\pmod{b}}.\n",
      "$$  \n",
      "\n",
      "Subtracting (4) from (3) implies $a_{n}\\equiv0{\\pmod{b}}$ ), then using relation (2) we obtain $\\ensuremath{a_{k}}\\equiv0$ (mod $b$ ) for all $k$ . Hence $b|a$ and the proof is complete.  \n",
      "\n",
      "\n"
     ]
    }
   ],
   "source": [
    "test_meta = df.iloc[36]['TopicMetadata']\n",
    "test_solution = df.iloc[36]['Solution']\n",
    "print(test_meta, test_solution)"
   ]
  },
  {
   "cell_type": "code",
   "execution_count": 4,
   "id": "5c706061",
   "metadata": {},
   "outputs": [
    {
     "name": "stderr",
     "output_type": "stream",
     "text": [
      "c:\\Users\\mokrota\\Documents\\GitHub\\math_problem_recommender\\math_problem_recommender\\.venv\\Lib\\site-packages\\tqdm\\auto.py:21: TqdmWarning: IProgress not found. Please update jupyter and ipywidgets. See https://ipywidgets.readthedocs.io/en/stable/user_install.html\n",
      "  from .autonotebook import tqdm as notebook_tqdm\n"
     ]
    },
    {
     "name": "stdout",
     "output_type": "stream",
     "text": [
      "['The quick brown', 'brown fox jumps', 'fox jumps over the', 'over the lazy', 'lazy dog.']\n",
      "\n",
      "[(0, 15), (10, 25), (16, 34), (26, 39), (35, 44)]\n"
     ]
    }
   ],
   "source": [
    "import semchunk\n",
    "import tiktoken                        # `transformers` and `tiktoken` are not required.\n",
    "from transformers import AutoTokenizer # They're just here for demonstration purposes.\n",
    "\n",
    "chunk_size = 4 # A low chunk size is used here for demonstration purposes. Keep in mind, `semchunk`\n",
    "               # does not know how many special tokens, if any, your tokenizer adds to every input,\n",
    "               # so you may want to deduct the number of special tokens added from your chunk size.\n",
    "text = 'The quick brown fox jumps over the lazy dog.'\n",
    "\n",
    "# You can construct a chunker with `semchunk.chunkerify()` by passing the name of an OpenAI model,\n",
    "# OpenAI `tiktoken` encoding or Hugging Face model, or a custom tokenizer that has an `encode()`\n",
    "# method (like a `tiktoken`, `transformers` or `tokenizers` tokenizer) or a custom token counting\n",
    "# function that takes a text and returns the number of tokens in it.\n",
    "chunker = semchunk.chunkerify('deepseek-ai/DeepSeek-V3-0324', chunk_size)\n",
    "\n",
    "# You can also pass an `offsets` argument to return the offsets of chunks, as well as an `overlap`\n",
    "# argument to overlap chunks by a ratio (if < 1) or an absolute number of tokens (if >= 1).\n",
    "chunks, offsets = chunker(text, offsets = True, overlap = 0.5)\n",
    "print(chunks)\n",
    "print()\n",
    "print(offsets)"
   ]
  },
  {
   "cell_type": "code",
   "execution_count": 26,
   "id": "d25cfea0",
   "metadata": {},
   "outputs": [
    {
     "name": "stdout",
     "output_type": "stream",
     "text": [
      "Solution. Let  \n",
      "\n",
      "$$\n",
      "a=g c d(a_{1},a_{2},\\ldots,a_{n})\\quad{\\mathrm{and}}\\quad b=g c d\\left({\\frac{a_{1}+a_{2}}{2}},{\\frac{a_{2}+a_{3}}{2}},\\ldots,{\\frac{a_{n}+a_{1}}{2}}\\right)\n",
      "$$  \n",
      "\n",
      "Then $a_{k}=\\alpha_{k}a$ , for some integers $\\alpha_{k}$ , $k=1,2,\\ldots,n$ . It follows that  \n",
      "\n",
      "$$\n",
      "\\frac{a_{k}+a_{k+1}}{2}=\\frac{\\alpha_{k}+\\alpha_{k+1}}{2}a,\n",
      "$$  \n",
      "\n",
      "where $u_{n+1}=u_{1}$ and $\\alpha_{n+1}=\\alpha_{1}$ . Since $a_{k}$ are odd numbers, $\\alpha_{k}$ are also odd, so $\\frac{\\alpha_{k}+\\alpha_{k+1}}{2}$ are integers.  \n",
      "\n",
      "From relation (1) it follows that $a$ divides ak + ak+1 for all so a divides b. On the other hand, ak + ak+1 = βkb, for some integers βk. Then  \n",
      "\n",
      "$$\n",
      "a_{k}+a_{k+1}\\equiv0{\\pmod{2b}}\n",
      "$$  \n",
      "\n",
      "for all $k\\in\\{1,2,\\ldots,n\\}$ . Summing up from $k=1$ to $k=n$ yields  \n",
      "\n",
      "$$\n",
      "2(a_{1}+a_{2}+\\cdot\\cdot\\cdot+a_{n})\\equiv0{\\pmod{2b}},\n",
      "$$  \n",
      "\n",
      "hence  \n",
      "\n",
      "$$\n",
      "a_{1}+a_{2}+\\cdot\\cdot\\cdot+a_{n}\\equiv0{\\pmod{b}}.\n",
      "$$  \n",
      "\n",
      "Summing up for $k=1,3,\\dotsc,n-2$ implies  \n",
      "\n",
      "$$\n",
      "a_{1}+a_{2}+\\cdot\\cdot\\cdot+a_{n-1}\\equiv0{\\pmod{2b}}\n",
      "$$  \n",
      "\n",
      "and furthermore  \n",
      "\n",
      "$$\n",
      "a_{1}+a_{2}+\\cdots+a_{n-1}\\equiv0{\\pmod{b}}.\n",
      "$$  \n",
      "\n",
      "Subtracting (4) from (3) implies $a_{n}\\equiv0{\\pmod{b}}$ ), then using relation (2) we obtain $\\ensuremath{a_{k}}\\equiv0$ (mod $b$ ) for all $k$ . Hence $b|a$ and the proof is complete.  \n",
      "\n",
      "\n",
      "\n",
      "['Solution. Let  \\n\\n$$', '$$\\na=g c d(a_{1},a_{2},\\\\ldots,a_{n})\\\\quad{\\\\mathrm{and}}\\\\quad b=g c', 'a=g c d(a_{1},a_{2},\\\\ldots,a_{n})\\\\quad{\\\\mathrm{and}}\\\\quad b=g c d\\\\left({\\\\frac{a_{1}+a_{2}}{2}},{\\\\frac{a_{2}+a_{3}}{2}},\\\\ldots,', 'd\\\\left({\\\\frac{a_{1}+a_{2}}{2}},{\\\\frac{a_{2}+a_{3}}{2}},\\\\ldots,{\\\\frac{a_{n}+a_{1}}{2}}\\\\right)', '{\\\\frac{a_{n}+a_{1}}{2}}\\\\right)\\n$$  ', '$$  \\n\\nThen $a_{k}=\\\\alpha_{k}a$ , for some integers $\\\\alpha_{k}$ , $k=1,2,\\\\ldots,n$ . It follows that  ', 'Then $a_{k}=\\\\alpha_{k}a$ , for some integers $\\\\alpha_{k}$ , $k=1,2,\\\\ldots,n$ . It follows that  \\n\\n$$\\n\\\\frac{a_{k}+a_{k+1}}{2}=\\\\frac{\\\\alpha_{k}+\\\\alpha_{k+1}}{2}a,\\n$$  ', '$$\\n\\\\frac{a_{k}+a_{k+1}}{2}=\\\\frac{\\\\alpha_{k}+\\\\alpha_{k+1}}{2}a,\\n$$  \\n\\nwhere $u_{n+1}=u_{1}$ and $\\\\alpha_{n+1}=\\\\alpha_{1}$ .', 'where $u_{n+1}=u_{1}$ and $\\\\alpha_{n+1}=\\\\alpha_{1}$ . Since $a_{k}$ are odd numbers, $\\\\alpha_{k}$ are also odd, so $\\\\frac{\\\\alpha_{k}+\\\\alpha_{k+1}}{2}$ are integers.', 'Since $a_{k}$ are odd numbers, $\\\\alpha_{k}$ are also odd, so $\\\\frac{\\\\alpha_{k}+\\\\alpha_{k+1}}{2}$ are integers.  \\n\\nFrom relation (1) it follows that $a$ divides ak + ak+1 for all so a divides b.', 'From relation (1) it follows that $a$ divides ak + ak+1 for all so a divides b. On the other hand, ak + ak+1 = βkb, for some integers βk. Then', 'On the other hand, ak + ak+1 = βkb, for some integers βk. Then  \\n\\n$$\\na_{k}+a_{k+1}\\\\equiv0{\\\\pmod{2b}}\\n$$  ', '$$\\na_{k}+a_{k+1}\\\\equiv0{\\\\pmod{2b}}\\n$$  \\n\\nfor all $k\\\\in\\\\{1,2,\\\\ldots,n\\\\}$ . Summing up from $k=1$ to $k=n$ yields  ', 'for all $k\\\\in\\\\{1,2,\\\\ldots,n\\\\}$ . Summing up from $k=1$ to $k=n$ yields  \\n\\n$$\\n2(a_{1}+a_{2}+\\\\cdot\\\\cdot\\\\cdot+a_{n})\\\\equiv0{\\\\pmod{2b}},\\n$$  \\n\\nhence  ', '$$\\n2(a_{1}+a_{2}+\\\\cdot\\\\cdot\\\\cdot+a_{n})\\\\equiv0{\\\\pmod{2b}},\\n$$  \\n\\nhence  \\n\\n$$\\na_{1}+a_{2}+\\\\cdot\\\\cdot\\\\cdot+a_{n}\\\\equiv0{\\\\pmod{b}}.\\n$$  ', '$$\\na_{1}+a_{2}+\\\\cdot\\\\cdot\\\\cdot+a_{n}\\\\equiv0{\\\\pmod{b}}.\\n$$  \\n\\nSumming up for $k=1,3,\\\\dotsc,n-2$ implies  ', 'Summing up for $k=1,3,\\\\dotsc,n-2$ implies  \\n\\n$$\\na_{1}+a_{2}+\\\\cdot\\\\cdot\\\\cdot+a_{n-1}\\\\equiv0{\\\\pmod{2b}}\\n$$  \\n\\nand furthermore  ', '$$\\na_{1}+a_{2}+\\\\cdot\\\\cdot\\\\cdot+a_{n-1}\\\\equiv0{\\\\pmod{2b}}\\n$$  \\n\\nand furthermore  \\n\\n$$\\na_{1}+a_{2}+\\\\cdots+a_{n-1}\\\\equiv0{\\\\pmod{b}}.\\n$$  ', '$$\\na_{1}+a_{2}+\\\\cdots+a_{n-1}\\\\equiv0{\\\\pmod{b}}.\\n$$  \\n\\nSubtracting (4) from (3) implies $a_{n}\\\\equiv0{\\\\pmod{b}}$ ),', 'Subtracting (4) from (3) implies $a_{n}\\\\equiv0{\\\\pmod{b}}$ ), then using relation (2) we obtain $\\\\ensuremath{a_{k}}\\\\equiv0$ (mod $b$ ) for all $k$ .', 'then using relation (2) we obtain $\\\\ensuremath{a_{k}}\\\\equiv0$ (mod $b$ ) for all $k$ . Hence $b|a$ and the proof is complete.']\n"
     ]
    }
   ],
   "source": [
    "chunk_size = 100\n",
    "chunker = semchunk.chunkerify('deepseek-ai/DeepSeek-V3-0324', chunk_size)\n",
    "\n",
    "def chunk_text(text):\n",
    "    chunks = chunker(text, overlap=0.4)\n",
    "    return chunks\n",
    "\n",
    "chunks = chunk_text(test_solution)\n",
    "print(test_solution)\n",
    "print()\n",
    "print(chunks)"
   ]
  },
  {
   "cell_type": "code",
   "execution_count": 6,
   "id": "3356e818",
   "metadata": {},
   "outputs": [],
   "source": [
    "prompt = \"\"\"I will give you topic described hierarchicaly and a chunked solution of problem. You need to highlight chunk (or chunks) that use the bottommost topic in hieararchy (the most specific). As output give me python list of chunks indices without explanations.\n",
    "\n",
    "TOPIC: {topic}\n",
    "\n",
    "SOLUTION CHUNKS: {solution_chunks}\"\"\""
   ]
  },
  {
   "cell_type": "code",
   "execution_count": 39,
   "id": "d05de233",
   "metadata": {},
   "outputs": [
    {
     "data": {
      "text/plain": [
       "Index(['Unnamed: 0', 'TopicMetadata', 'Problem', 'Solution',\n",
       "       'Problem&Solution', 'Problem Book No'],\n",
       "      dtype='object')"
      ]
     },
     "execution_count": 39,
     "metadata": {},
     "output_type": "execute_result"
    }
   ],
   "source": [
    "df.columns"
   ]
  },
  {
   "cell_type": "code",
   "execution_count": null,
   "id": "b2d17cb5",
   "metadata": {},
   "outputs": [],
   "source": [
    "from groq import Groq\n",
    "import re\n",
    "import ast\n",
    "client = Groq(api_key=api_key)\n",
    "\n",
    "def related_chunks(row):\n",
    "    \"\"\"Returns chunks of solution that contain strategy.\"\"\"\n",
    "\n",
    "    topic = row['TopicMetadata']\n",
    "    solution = row['Solution']\n",
    "    if solution is pd.NA or topic is pd.NA or topic == \"(Miscellaneous Problems)\":\n",
    "        return pd.NA\n",
    "    chunks = chunk_text(solution)\n",
    "\n",
    "    completion = client.chat.completions.create(\n",
    "        model=\"deepseek-r1-distill-llama-70b\",\n",
    "        messages=[\n",
    "            {\n",
    "                \"role\": \"user\",\n",
    "                \"content\": prompt.format(topic=topic, solution_chunks=chunks)\n",
    "            }\n",
    "        ]\n",
    "    )\n",
    "\n",
    "    chunk_pattern = r\"\\[(\\s*\\d+\\s*,?)*\\]\"\n",
    "    match = re.search(chunk_pattern, completion.choices[0].message.content.split('</think>')[-1])\n",
    "    related_chunks_ids = None\n",
    "    if match:\n",
    "        related_chunks_ids = ast.literal_eval(match.group())\n",
    "    rel_chunks = []\n",
    "    for i in related_chunks_ids:\n",
    "        try:\n",
    "            rel_chunks.append(chunks[i])\n",
    "        except Exception as e:\n",
    "            print(f\"Warning: indice {i} out of range {len(chunks)}\")\n",
    "    return rel_chunks, chunks"
   ]
  },
  {
   "cell_type": "code",
   "execution_count": 45,
   "id": "27854bbb",
   "metadata": {},
   "outputs": [
    {
     "data": {
      "application/vnd.microsoft.datawrangler.viewer.v0+json": {
       "columns": [
        {
         "name": "index",
         "rawType": "int64",
         "type": "integer"
        },
        {
         "name": "Unnamed: 0",
         "rawType": "int64",
         "type": "integer"
        },
        {
         "name": "TopicMetadata",
         "rawType": "object",
         "type": "string"
        },
        {
         "name": "Problem",
         "rawType": "object",
         "type": "string"
        },
        {
         "name": "Solution",
         "rawType": "object",
         "type": "unknown"
        },
        {
         "name": "Problem&Solution",
         "rawType": "object",
         "type": "string"
        },
        {
         "name": "Problem Book No",
         "rawType": "object",
         "type": "string"
        }
       ],
       "conversionMethod": "pd.DataFrame",
       "ref": "76950d91-c7ad-4219-b881-959fc4c3e98d",
       "rows": [
        [
         "0",
         "0",
         "(Divisibility)->(Divisibility)",
         "Problem 1.1.1. Prove that for all integers $n$ :  \n\na) $n^{5}-5n^{3}+4n$ is divisible by 120;   \n$b$ ) $n^{2}+3n+5$ is not divisible by 121.  \n\n",
         "Solution. a) $n^{5}-5n^{3}+4n=n(n^{2}-1)(n^{2}-4)$  \n\n$$\n=n(n-1)(n+1)(n-2)(n+2).\n$$  \n\nthe product of five consecutive integers: $n-2$ , $n-1$ , $n$ , $n+1$ , $n+2$ .  \n\nIf $n\\in\\{-2,-1,0,1,2\\}$ we get $n^{5}-5n^{3}+4n=0$ and the property holds If $n\\geq3$ we can write  \n\n$$\nn^{5}-5n^{3}+4n=5!{\\binom{n+2}{5}}=120{\\binom{n+2}{5}},\n$$  \n\nand the conclusion follows.  \n\nIf $n\\leq-3$ , write $n=-m$ , where $m\\geq3$ , and obtain  \n\n$$\nn^{5}-5n^{3}+4n=-120{\\binom{m+2}{5}},\n$$  \n\nand we are done.  \n\nb) Observe that  \n\n$$\nn^{2}+3n+5=(n+7)(n-4)+33.\n$$  \n\nso that $11|n^{2}+3n+5$ if and only if $11|(n{+}7)(n{-}4)$ . Thus, if $11\\div(n+7)(n-4)$ then 11 (and hence 121) does not divide $n^{2}+3n+5$ . So, assume 11 divides $(n+7)(n-4)$ . Then $11|n+7$ or $11|n-4$ ; but then 11 must divide both of $n+7$ and $n-4$ , since $(n+7)-(n-4)=11$ . Thus, $121|(n+7)(n-4)$ . However, $121\\nmid33$ . So $121\\uparrow n^{2}+3n+5=(n+7)(n-4)+33$ . Hence, in all cases, $121\\uparrow n^{2}+3n+5$ .  \n\n",
         "Problem 1.1.1. Prove that for all integers $n$ :  \n\na) $n^{5}-5n^{3}+4n$ is divisible by 120;   \n$b$ ) $n^{2}+3n+5$ is not divisible by 121.  \n\nSolution. a) $n^{5}-5n^{3}+4n=n(n^{2}-1)(n^{2}-4)$  \n\n$$\n=n(n-1)(n+1)(n-2)(n+2).\n$$  \n\nthe product of five consecutive integers: $n-2$ , $n-1$ , $n$ , $n+1$ , $n+2$ .  \n\nIf $n\\in\\{-2,-1,0,1,2\\}$ we get $n^{5}-5n^{3}+4n=0$ and the property holds If $n\\geq3$ we can write  \n\n$$\nn^{5}-5n^{3}+4n=5!{\\binom{n+2}{5}}=120{\\binom{n+2}{5}},\n$$  \n\nand the conclusion follows.  \n\nIf $n\\leq-3$ , write $n=-m$ , where $m\\geq3$ , and obtain  \n\n$$\nn^{5}-5n^{3}+4n=-120{\\binom{m+2}{5}},\n$$  \n\nand we are done.  \n\nb) Observe that  \n\n$$\nn^{2}+3n+5=(n+7)(n-4)+33.\n$$  \n\nso that $11|n^{2}+3n+5$ if and only if $11|(n{+}7)(n{-}4)$ . Thus, if $11\\div(n+7)(n-4)$ then 11 (and hence 121) does not divide $n^{2}+3n+5$ . So, assume 11 divides $(n+7)(n-4)$ . Then $11|n+7$ or $11|n-4$ ; but then 11 must divide both of $n+7$ and $n-4$ , since $(n+7)-(n-4)=11$ . Thus, $121|(n+7)(n-4)$ . However, $121\\nmid33$ . So $121\\uparrow n^{2}+3n+5=(n+7)(n-4)+33$ . Hence, in all cases, $121\\uparrow n^{2}+3n+5$ .  \n\n",
         "1.1.1."
        ],
        [
         "1",
         "1",
         "(Divisibility)->(Divisibility)",
         "Problem 1.1.2. Let $p>2$ be an odd number and let $n$ be a positive integer. Prove that $p$ divides $1^{p^{n}}+2^{p^{n}}+\\cdot\\cdot\\cdot+(p-1)^{p^{n}}$ .  \n\n",
         "Solution. Define $k=p^{n}$ and note that $k$ is odd. Then  \n\n$$\nd^{k}+(p-d)^{k}=p[d^{k-1}-d^{k-2}(p-d)+\\cdot\\cdot\\cdot+(p-d)^{k-1}]\n$$  \n\nSumming up the equalities from $d=1$ to $d=\\frac{p-1}{2}$ implies that $p$ divides $1^{k}+2^{k}+\\cdot\\cdot\\cdot+(p-1)^{k}$ , as claimed.  \n\n",
         "Problem 1.1.2. Let $p>2$ be an odd number and let $n$ be a positive integer. Prove that $p$ divides $1^{p^{n}}+2^{p^{n}}+\\cdot\\cdot\\cdot+(p-1)^{p^{n}}$ .  \n\nSolution. Define $k=p^{n}$ and note that $k$ is odd. Then  \n\n$$\nd^{k}+(p-d)^{k}=p[d^{k-1}-d^{k-2}(p-d)+\\cdot\\cdot\\cdot+(p-d)^{k-1}]\n$$  \n\nSumming up the equalities from $d=1$ to $d=\\frac{p-1}{2}$ implies that $p$ divides $1^{k}+2^{k}+\\cdot\\cdot\\cdot+(p-1)^{k}$ , as claimed.  \n\n",
         "1.1.2."
        ],
        [
         "2",
         "2",
         "(Divisibility)->(Divisibility)",
         "Problem 1.1.3. Prove that  \n\n$$\n3^{4^{5}}+4^{5^{6}}\n$$  \n\nis a product of two integers, each of which is larger than $10^{2002}$ .  \n\n",
         "Solution. The given number is of the form $m^{4}+\\frac{1}{4}n^{4}$ , where $m=3^{4^{4}}$ and  \n\n$$\nn=4^{\\frac{5^{6}+1}{4}}=2^{\\frac{5^{6}+1}{2}}.\n$$  \n\nThe conclusion follows from the identity  \n\n$$\nm^{4}+{\\frac{n^{4}}{4}}=m^{4}+m^{2}n^{2}+{\\frac{1}{4}}n^{4}-m^{2}n^{2}=\\left(m^{2}+{\\frac{1}{2}}n^{2}\\right)^{2}-m^{2}n^{2}=\n$$  \n\n$$\n=\\left(m^{2}+m n+\\frac{1}{2}n^{2}\\right)\\left(m^{2}-m n+\\frac{1}{2}n^{2}\\right),\n$$  \n\nwhere $n$ is even so $\\frac{n^{2}}{2}$ is an integer, and from the inequalities:  \n\n$$\nm^{2}-m n+{\\frac{1}{2}}n^{2}=\\left(m-{\\frac{n}{2}}\\right)^{2}+{\\frac{n^{2}}{4}}>{\\frac{n^{2}}{4}}\n$$  \n\n$$\n=2^{5^{6}-1}>2^{10008}>(2^{4})^{2002}>10^{2002}.\n$$  \n\n",
         "Problem 1.1.3. Prove that  \n\n$$\n3^{4^{5}}+4^{5^{6}}\n$$  \n\nis a product of two integers, each of which is larger than $10^{2002}$ .  \n\nSolution. The given number is of the form $m^{4}+\\frac{1}{4}n^{4}$ , where $m=3^{4^{4}}$ and  \n\n$$\nn=4^{\\frac{5^{6}+1}{4}}=2^{\\frac{5^{6}+1}{2}}.\n$$  \n\nThe conclusion follows from the identity  \n\n$$\nm^{4}+{\\frac{n^{4}}{4}}=m^{4}+m^{2}n^{2}+{\\frac{1}{4}}n^{4}-m^{2}n^{2}=\\left(m^{2}+{\\frac{1}{2}}n^{2}\\right)^{2}-m^{2}n^{2}=\n$$  \n\n$$\n=\\left(m^{2}+m n+\\frac{1}{2}n^{2}\\right)\\left(m^{2}-m n+\\frac{1}{2}n^{2}\\right),\n$$  \n\nwhere $n$ is even so $\\frac{n^{2}}{2}$ is an integer, and from the inequalities:  \n\n$$\nm^{2}-m n+{\\frac{1}{2}}n^{2}=\\left(m-{\\frac{n}{2}}\\right)^{2}+{\\frac{n^{2}}{4}}>{\\frac{n^{2}}{4}}\n$$  \n\n$$\n=2^{5^{6}-1}>2^{10008}>(2^{4})^{2002}>10^{2002}.\n$$  \n\n",
         "1.1.3."
        ],
        [
         "3",
         "3",
         "(Divisibility)->(Divisibility)",
         "Problem 1.1.4. Find all positive integers $n$ such that for all odd integers $a$ , if $a^{2}\\leq n$ then $a|n$ .  \n\n",
         "Solution. Let $a$ be the greatest odd integer such that $a^{2}<n$ , hence $n\\leq(a+2)^{2}$ . If $a\\geq7$ , then $a-4,a-2,a$ are odd integers which divide $n$ . Note that any two of these numbers are relatively prime, so $(a-4)(a-2)a$ divides $n$ . It follows that $(a-4)(a-2)a\\leq(a+2)^{2}$ so $a^{3}-6a^{2}+8a\\leq$ $a^{2}+4a+4$ . Then $a^{3}-7a^{2}+4a-4\\leq0$ or $a^{2}(a-7)+4(a-1)\\leq0$ . This is false, because $a\\geq7$ , hence $a=1,3$ or 5.  \n\nIf $a=1$ , then $1^{2}\\leq n\\leq3^{2}$ , so $n\\in\\{1,2,\\ldots,8\\}$ .  \n\nIf $a=3$ , then $3^{2}\\leq n\\leq5^{2}$ and $1\\cdot3|n$ , so $n\\in\\{9,12,15,18,21,24\\}$  \n\nIf $a=5$ , then $5^{2}\\leq n\\leq7^{2}$ and $1\\cdot3\\cdot5|n$ so $n\\in\\{30,45\\}$ . Therefore $n\\in\\{1,2,3,4,5,6,7,8,9,12,15,18,21,24,30,45\\}$ .  \n\n",
         "Problem 1.1.4. Find all positive integers $n$ such that for all odd integers $a$ , if $a^{2}\\leq n$ then $a|n$ .  \n\nSolution. Let $a$ be the greatest odd integer such that $a^{2}<n$ , hence $n\\leq(a+2)^{2}$ . If $a\\geq7$ , then $a-4,a-2,a$ are odd integers which divide $n$ . Note that any two of these numbers are relatively prime, so $(a-4)(a-2)a$ divides $n$ . It follows that $(a-4)(a-2)a\\leq(a+2)^{2}$ so $a^{3}-6a^{2}+8a\\leq$ $a^{2}+4a+4$ . Then $a^{3}-7a^{2}+4a-4\\leq0$ or $a^{2}(a-7)+4(a-1)\\leq0$ . This is false, because $a\\geq7$ , hence $a=1,3$ or 5.  \n\nIf $a=1$ , then $1^{2}\\leq n\\leq3^{2}$ , so $n\\in\\{1,2,\\ldots,8\\}$ .  \n\nIf $a=3$ , then $3^{2}\\leq n\\leq5^{2}$ and $1\\cdot3|n$ , so $n\\in\\{9,12,15,18,21,24\\}$  \n\nIf $a=5$ , then $5^{2}\\leq n\\leq7^{2}$ and $1\\cdot3\\cdot5|n$ so $n\\in\\{30,45\\}$ . Therefore $n\\in\\{1,2,3,4,5,6,7,8,9,12,15,18,21,24,30,45\\}$ .  \n\n",
         "1.1.4."
        ],
        [
         "4",
         "4",
         "(Divisibility)->(Divisibility)",
         "Problem 1.1.5. Find the elements of the set  \n\n$$\nS=\\left\\{x\\in\\mathbb{Z}\\vert\\ {\\frac{x^{3}-3x+2}{2x+1}}\\in\\mathbb{Z}\\right\\}.\n$$  \n\n",
         "Solution. Since $\\frac{x^{3}-3x+2}{2x+1}\\in\\mathbb{Z}$ , then  \n\n$$\n{\\frac{8x^{3}-24x+16}{2x+1}}=4x^{2}-2x-11+{\\frac{27}{2x+1}}\\in\\mathbb{Z}.\n$$  \n\nIt follows that $2x+1$ divides 27, so  \n\nsince $2x+1$ is odd, ${\\frac{x^{3}-3x+2}{2x+1}}\\in\\mathbb{Z}\\Leftrightarrow{\\frac{8x^{3}-24x+16}{2x+1}}\\in\\mathbb{Z}$ , so all these are solutions.  \n\n",
         "Problem 1.1.5. Find the elements of the set  \n\n$$\nS=\\left\\{x\\in\\mathbb{Z}\\vert\\ {\\frac{x^{3}-3x+2}{2x+1}}\\in\\mathbb{Z}\\right\\}.\n$$  \n\nSolution. Since $\\frac{x^{3}-3x+2}{2x+1}\\in\\mathbb{Z}$ , then  \n\n$$\n{\\frac{8x^{3}-24x+16}{2x+1}}=4x^{2}-2x-11+{\\frac{27}{2x+1}}\\in\\mathbb{Z}.\n$$  \n\nIt follows that $2x+1$ divides 27, so  \n\nsince $2x+1$ is odd, ${\\frac{x^{3}-3x+2}{2x+1}}\\in\\mathbb{Z}\\Leftrightarrow{\\frac{8x^{3}-24x+16}{2x+1}}\\in\\mathbb{Z}$ , so all these are solutions.  \n\n",
         "1.1.5."
        ],
        [
         "5",
         "5",
         "(Divisibility)->(Divisibility)",
         "Problem 1.1.6. Find all positive integers $n$ for which the number obtained by erasing the last digit is a divisor of $n$ .  \n\n",
         "Solution. Let $b$ be the last digit of the number $n$ and let $a$ be the number obtained from $n$ by erasing the last digit $b$ . Then $n=10a+b$ . Since $a$ is a divisor of $n$ , we infer that $a$ divides $b$ . Any number $n$ that ends in $0$ is therefore a solution. If $b\\neq0$ , then $a$ is a digit and $n$ is one of the numbers 11, 12,. . . , 19, 22, 24, 26, 28, 33, 36, 39, 44, 48, 55, 56, 77, 88 or 99.  \n\n",
         "Problem 1.1.6. Find all positive integers $n$ for which the number obtained by erasing the last digit is a divisor of $n$ .  \n\nSolution. Let $b$ be the last digit of the number $n$ and let $a$ be the number obtained from $n$ by erasing the last digit $b$ . Then $n=10a+b$ . Since $a$ is a divisor of $n$ , we infer that $a$ divides $b$ . Any number $n$ that ends in $0$ is therefore a solution. If $b\\neq0$ , then $a$ is a digit and $n$ is one of the numbers 11, 12,. . . , 19, 22, 24, 26, 28, 33, 36, 39, 44, 48, 55, 56, 77, 88 or 99.  \n\n",
         "1.1.6."
        ],
        [
         "6",
         "6",
         "(Divisibility)->(Divisibility)",
         "Problem 1.1.7. Find the greatest positive integer x such that $23^{6+x}$ divides 2000!.  \n\n",
         "Solution. The number 23 is prime and divides every $23^{r d}$ number. In all, there are $\\left\\lfloor{\\frac{2000}{23}}\\right\\rfloor=86$ numbers from 1 to 2000 that are divisible by 23. Among those 86 numbers, three of them, namely 23, $2\\cdot23$ and $3\\cdot23^{2}$ are divisible by $23^{3}$ . Hence $23^{89}|2000!$ and $x=89-6=83$ .  \n\n",
         "Problem 1.1.7. Find the greatest positive integer x such that $23^{6+x}$ divides 2000!.  \n\nSolution. The number 23 is prime and divides every $23^{r d}$ number. In all, there are $\\left\\lfloor{\\frac{2000}{23}}\\right\\rfloor=86$ numbers from 1 to 2000 that are divisible by 23. Among those 86 numbers, three of them, namely 23, $2\\cdot23$ and $3\\cdot23^{2}$ are divisible by $23^{3}$ . Hence $23^{89}|2000!$ and $x=89-6=83$ .  \n\n",
         "1.1.7."
        ],
        [
         "7",
         "7",
         "(Divisibility)->(Divisibility)",
         "Problem 1.1.8. Find the positive integers n with exactly 12 divisors $1=d_{1}<d_{2}<\\dots<d_{12}=n$ such that the divisor with index $d_{4}$ (that is, $d_{d_{4}}-1)$ is $(d_{1}+d_{2}+d_{4})d_{8}$ .  \n\n(1989 Russian Mathematical Olympiad)  \n\n",
         "Solution. Of course, there is $1\\leq i\\leq12$ such that $d_{i}=d_{1}+d_{2}+d_{4}$ . Since $d_{i}>d_{4}$ , we have $i\\geq5$ . Also, observe that $d_{j}d_{13-j}=m$ for all $j$ and since $d_{i}d_{8}=d_{d_{4}-1}\\leq n$ , we must have $i\\leq5$ , thus $i=5$ and $d_{1}+d_{2}+d_{4}=d_{5}$ . Also, $d_{d_{4}-1}=d_{5}d_{8}=n=d_{12}$ , thus $d_{4}=13$ and $d_{5}=14+d_{2}$ . Of course, $d_{2}$ is the smallest prime divisor of $n$ and since $d_{4}=13$ , we can only have $d_{2}\\in\\{2,3,5,7,11\\}$ . Also, since $n$ has 12 divisors, it has at most 3 prime divisors. If $d_{2}=2$ then $d_{5}=16$ and then 4 and 8 are divisors of $n$ , smaller than $d_{4}~=~13$ , impossible. A similar argument shows that $d_{2}~=~3$ and $d_{5}=17$ . Since $n$ has 12 divisors and is a multiple of $3\\cdot13\\cdot17$ , the only possibilities are $9\\cdot13\\cdot17$ , $3\\cdot1697$ or $3\\cdot13\\cdot289$ . One can easily check that only $9\\cdot13\\cdot17=1989$ is a solution.  \n\n",
         "Problem 1.1.8. Find the positive integers n with exactly 12 divisors $1=d_{1}<d_{2}<\\dots<d_{12}=n$ such that the divisor with index $d_{4}$ (that is, $d_{d_{4}}-1)$ is $(d_{1}+d_{2}+d_{4})d_{8}$ .  \n\n(1989 Russian Mathematical Olympiad)  \n\nSolution. Of course, there is $1\\leq i\\leq12$ such that $d_{i}=d_{1}+d_{2}+d_{4}$ . Since $d_{i}>d_{4}$ , we have $i\\geq5$ . Also, observe that $d_{j}d_{13-j}=m$ for all $j$ and since $d_{i}d_{8}=d_{d_{4}-1}\\leq n$ , we must have $i\\leq5$ , thus $i=5$ and $d_{1}+d_{2}+d_{4}=d_{5}$ . Also, $d_{d_{4}-1}=d_{5}d_{8}=n=d_{12}$ , thus $d_{4}=13$ and $d_{5}=14+d_{2}$ . Of course, $d_{2}$ is the smallest prime divisor of $n$ and since $d_{4}=13$ , we can only have $d_{2}\\in\\{2,3,5,7,11\\}$ . Also, since $n$ has 12 divisors, it has at most 3 prime divisors. If $d_{2}=2$ then $d_{5}=16$ and then 4 and 8 are divisors of $n$ , smaller than $d_{4}~=~13$ , impossible. A similar argument shows that $d_{2}~=~3$ and $d_{5}=17$ . Since $n$ has 12 divisors and is a multiple of $3\\cdot13\\cdot17$ , the only possibilities are $9\\cdot13\\cdot17$ , $3\\cdot1697$ or $3\\cdot13\\cdot289$ . One can easily check that only $9\\cdot13\\cdot17=1989$ is a solution.  \n\n",
         "1.1.8."
        ],
        [
         "8",
         "8",
         "(Divisibility)->(Divisibility)",
         "Problem 1.1.9. Let n be a positive integer. Show that any number greater than $n^{4}/16$ can be written in at most one way as the product of two of its divisors having difference not exceeding $n$ .  \n\n# (1998 St. Petersburg City Mathematical Olympiad)  \n\nFirst ",
         "Solution. Suppose, on the contrary, that there exist $a>c\\geq d>b$ with $a-b\\leq n$ and $a b=c d>n^{4}/16$ . Put $p=a+b$ , $q=a-b$ , $r=c+d$ , $s=c-d$ . Now  \n\n$$\np^{2}-q^{2}=4a b=4c d=r^{2}-s^{2}>n^{4}/4.\n$$  \n\nThus $p^{2}-r^{2}=q^{2}-s^{2}\\leq q^{2}\\leq n^{2}$ . But $r^{2}>n^{4}/4$ (so $r>n^{2}/2$ ) and $p>r$ , so  \n\n$$\np^{2}-r^{2}>(n^{2}/2+1)^{2}-(n^{2}/2)^{2}\\geq n^{2}+1,\n$$  \n\na contradiction.  \n\nSecond solution. Again, suppose that $a b=c d>n^{4}/16$ , with $a>c,d$ ！ and $n\\geq a-b$ . If we let $\\boldsymbol{p}=g c d(\\boldsymbol{a},\\boldsymbol{c})$ , we can find positive integers $p,q,r,s$ such that $a=p q$ , $b=r s$ , $c=p r$ , $d=q s$ . Then $a>c\\Rightarrow q>r$ and $a>d\\Rightarrow p>s$ , so that  \n\n$$\n\\begin{array}{l}{n\\geq p q-r s}\\\\ {\\ \\geq(s+1)(r+1)-r s}\\\\ {\\ =r+s+1}\\\\ {\\ \\geq2\\sqrt{b}+1.}\\end{array}\n$$  \n\nThus $b\\ \\leq\\ \\left({\\frac{n-1}{2}}\\right)^{2}\\ <\\ n^{2}/4$ , and $a\\leq{\\bigg(}{\\frac{n-1}{2}}{\\bigg)}^{2}+n={\\bigg(}{\\frac{n+1}{2}}{\\bigg)}^{2}.$ Therefore $a b\\leq\\left(\\frac{n^{2}-1}{4}\\right)^{2}<n^{4}/16$ , a contradiction.  \n\n# Proposed problems  \n\n",
         "Problem 1.1.9. Let n be a positive integer. Show that any number greater than $n^{4}/16$ can be written in at most one way as the product of two of its divisors having difference not exceeding $n$ .  \n\n# (1998 St. Petersburg City Mathematical Olympiad)  \n\nFirst Solution. Suppose, on the contrary, that there exist $a>c\\geq d>b$ with $a-b\\leq n$ and $a b=c d>n^{4}/16$ . Put $p=a+b$ , $q=a-b$ , $r=c+d$ , $s=c-d$ . Now  \n\n$$\np^{2}-q^{2}=4a b=4c d=r^{2}-s^{2}>n^{4}/4.\n$$  \n\nThus $p^{2}-r^{2}=q^{2}-s^{2}\\leq q^{2}\\leq n^{2}$ . But $r^{2}>n^{4}/4$ (so $r>n^{2}/2$ ) and $p>r$ , so  \n\n$$\np^{2}-r^{2}>(n^{2}/2+1)^{2}-(n^{2}/2)^{2}\\geq n^{2}+1,\n$$  \n\na contradiction.  \n\nSecond solution. Again, suppose that $a b=c d>n^{4}/16$ , with $a>c,d$ ！ and $n\\geq a-b$ . If we let $\\boldsymbol{p}=g c d(\\boldsymbol{a},\\boldsymbol{c})$ , we can find positive integers $p,q,r,s$ such that $a=p q$ , $b=r s$ , $c=p r$ , $d=q s$ . Then $a>c\\Rightarrow q>r$ and $a>d\\Rightarrow p>s$ , so that  \n\n$$\n\\begin{array}{l}{n\\geq p q-r s}\\\\ {\\ \\geq(s+1)(r+1)-r s}\\\\ {\\ =r+s+1}\\\\ {\\ \\geq2\\sqrt{b}+1.}\\end{array}\n$$  \n\nThus $b\\ \\leq\\ \\left({\\frac{n-1}{2}}\\right)^{2}\\ <\\ n^{2}/4$ , and $a\\leq{\\bigg(}{\\frac{n-1}{2}}{\\bigg)}^{2}+n={\\bigg(}{\\frac{n+1}{2}}{\\bigg)}^{2}.$ Therefore $a b\\leq\\left(\\frac{n^{2}-1}{4}\\right)^{2}<n^{4}/16$ , a contradiction.  \n\n# Proposed problems  \n\n",
         "1.1.9."
        ],
        [
         "9",
         "9",
         "(Divisibility)->(Divisibility)",
         "Problem 1.1.10. Show that for any natural number $n$ , between $n^{2}$ and $(n+1)^{2}$ one can find three distinct natural numbers $a,b,c$ such that $a^{2}+b^{2}$ is divisible by $c$ .  \n\n(1998 St. Petersburg City Mathematical Olympiad)  \n\n",
         null,
         "Problem 1.1.10. Show that for any natural number $n$ , between $n^{2}$ and $(n+1)^{2}$ one can find three distinct natural numbers $a,b,c$ such that $a^{2}+b^{2}$ is divisible by $c$ .  \n\n(1998 St. Petersburg City Mathematical Olympiad)  \n\n",
         "1.1.10."
        ],
        [
         "10",
         "10",
         "(Divisibility)->(Divisibility)",
         "Problem 1.1.11. Find all odd positive integers $n$ greater than 1 such that for any relatively prime divisors $a$ and $b$ of $n$ , the number $a+b-1$ is also a divisor of $n$ .  \n\n(2001 Russian Mathematical Olympiad)  \n\n",
         null,
         "Problem 1.1.11. Find all odd positive integers $n$ greater than 1 such that for any relatively prime divisors $a$ and $b$ of $n$ , the number $a+b-1$ is also a divisor of $n$ .  \n\n(2001 Russian Mathematical Olympiad)  \n\n",
         "1.1.11."
        ],
        [
         "11",
         "11",
         "(Divisibility)->(Divisibility)",
         "Problem 1.1.12. Find all positive integers $n$ such that $3^{n-1}+5^{n-1}$ divides $3^{\\pi}+5^{\\pi}$ .  \n\n(1996 St. Petersburg City Mathematical Olympiad)  \n\n",
         null,
         "Problem 1.1.12. Find all positive integers $n$ such that $3^{n-1}+5^{n-1}$ divides $3^{\\pi}+5^{\\pi}$ .  \n\n(1996 St. Petersburg City Mathematical Olympiad)  \n\n",
         "1.1.12."
        ],
        [
         "12",
         "12",
         "(Divisibility)->(Divisibility)",
         "Problem 1.1.13. Find all positive integers $n$ such that the set  \n\n$$\n\\left\\{n,n+1,n+2,n+3,n+4,n+5\\right\\}\n$$  \n\ncan be split into two disjoint subsets such that the products of elements in these subsets are the same.  \n\n",
         null,
         "Problem 1.1.13. Find all positive integers $n$ such that the set  \n\n$$\n\\left\\{n,n+1,n+2,n+3,n+4,n+5\\right\\}\n$$  \n\ncan be split into two disjoint subsets such that the products of elements in these subsets are the same.  \n\n",
         "1.1.13."
        ],
        [
         "13",
         "13",
         "(Divisibility)->(Divisibility)",
         "Problem 1.1.14. The positive integers $d_{1},d_{2},\\ldots,d_{n}$ divide 1995. Prove that there exist $d_{i}$ and $d_{j}$ among them, such that the numerator of the reduced fraction $d_{i}/d_{j}$ is at least $n$ .  \n\n(1995 Israeli Mathematical Olympiad)  \n\n",
         null,
         "Problem 1.1.14. The positive integers $d_{1},d_{2},\\ldots,d_{n}$ divide 1995. Prove that there exist $d_{i}$ and $d_{j}$ among them, such that the numerator of the reduced fraction $d_{i}/d_{j}$ is at least $n$ .  \n\n(1995 Israeli Mathematical Olympiad)  \n\n",
         "1.1.14."
        ],
        [
         "14",
         "14",
         "(Divisibility)->(Divisibility)",
         "Problem 1.1.15. Determine all pairs $(a,b)$ of positive integers such that $a b^{2}+b+7$ divides $a^{2}b+a+b$ .  \n\n( $39^{t h}$ IMO)  \n\n",
         null,
         "Problem 1.1.15. Determine all pairs $(a,b)$ of positive integers such that $a b^{2}+b+7$ divides $a^{2}b+a+b$ .  \n\n( $39^{t h}$ IMO)  \n\n",
         "1.1.15."
        ],
        [
         "15",
         "15",
         "(Divisibility)->(Divisibility)",
         "Problem 1.1.16. Find all integers $a,b,c$ with $1<a<b<c$ such that $(a-1)(b-1)(c-1)$ is a divisor of $a b c-1$ .  \n\n( $33^{r d}$ IMO)  \n\n",
         null,
         "Problem 1.1.16. Find all integers $a,b,c$ with $1<a<b<c$ such that $(a-1)(b-1)(c-1)$ is a divisor of $a b c-1$ .  \n\n( $33^{r d}$ IMO)  \n\n",
         "1.1.16."
        ],
        [
         "16",
         "16",
         "(Divisibility)->(Divisibility)",
         "Problem 1.1.17. Find all pairs of positive integers $(x,y)$ for which  \n\n$$\n\\frac{x^{2}+y^{2}}{x-y}\n$$  \n\nis an integer which divides 1995.  \n\n(1995 Bulgarian Mathematical Olympiad)  \n\n",
         null,
         "Problem 1.1.17. Find all pairs of positive integers $(x,y)$ for which  \n\n$$\n\\frac{x^{2}+y^{2}}{x-y}\n$$  \n\nis an integer which divides 1995.  \n\n(1995 Bulgarian Mathematical Olympiad)  \n\n",
         "1.1.17."
        ],
        [
         "17",
         "17",
         "(Divisibility)->(Divisibility)",
         "Problem 1.1.18. Find all positive integers $(x,n)$ such that $x^{\\pi}+2^{\\pi}+1$ is a divisor of $x^{n+1}+2^{n+1}+1$ .  \n\n(1998 Romanian IMO Team Selection Test)  \n\n",
         null,
         "Problem 1.1.18. Find all positive integers $(x,n)$ such that $x^{\\pi}+2^{\\pi}+1$ is a divisor of $x^{n+1}+2^{n+1}+1$ .  \n\n(1998 Romanian IMO Team Selection Test)  \n\n",
         "1.1.18."
        ],
        [
         "18",
         "18",
         "(Divisibility)->(Divisibility)",
         "Problem 1.1.19. Find the smallest positive integer $K$ such that every $K$ -element subset of $\\{1,2,\\ldots,50\\}$ contains two distinct elements $a,b$ such that $a+b$ divides $a b$ .  \n\n(1996 Chinese Mathematical Olympiad)  \n",
         null,
         "Problem 1.1.19. Find the smallest positive integer $K$ such that every $K$ -element subset of $\\{1,2,\\ldots,50\\}$ contains two distinct elements $a,b$ such that $a+b$ divides $a b$ .  \n\n(1996 Chinese Mathematical Olympiad)  \n",
         "1.1.19."
        ],
        [
         "19",
         "19",
         "(Divisibility)->(Prime numbers)",
         "Problem 1.2.1. Prove that for any integer $n>1$ the number $n^{5}+n^{4}+1$ is not a prime.  \n\n",
         "Solution. We have  \n\n$$\n\\begin{array}{c l c r}{{n^{5}+n^{4}+1=n^{5}+n^{4}+n^{3}-n^{3}-n^{2}-n+n^{2}+n+1}}\\\\ {{}}&{{}}\\\\ {{}}&{{}}&{{=n^{3}(n^{2}+n+1)-n(n^{2}+n+1)+(n^{2}+n+1)}}\\\\ {{}}&{{}}&{{=(n^{2}+n+1)(n^{3}-n+1),}}\\end{array}\n$$  \n\nthe product of two integers greater than 1. Hence $n^{5}+n^{4}+1$ is not a prime.  \n\n",
         "Problem 1.2.1. Prove that for any integer $n>1$ the number $n^{5}+n^{4}+1$ is not a prime.  \n\nSolution. We have  \n\n$$\n\\begin{array}{c l c r}{{n^{5}+n^{4}+1=n^{5}+n^{4}+n^{3}-n^{3}-n^{2}-n+n^{2}+n+1}}\\\\ {{}}&{{}}\\\\ {{}}&{{}}&{{=n^{3}(n^{2}+n+1)-n(n^{2}+n+1)+(n^{2}+n+1)}}\\\\ {{}}&{{}}&{{=(n^{2}+n+1)(n^{3}-n+1),}}\\end{array}\n$$  \n\nthe product of two integers greater than 1. Hence $n^{5}+n^{4}+1$ is not a prime.  \n\n",
         "1.2.1."
        ],
        [
         "20",
         "20",
         "(Divisibility)->(Prime numbers)",
         "Problem 1.2.2. Find all primes $a,b,c$ such that  \n\n$$\na b+b c+a c>a b c.\n$$  \n\n",
         "Solution. Assume that $a\\leq b\\leq c$ . If $a\\geq3$ then $a b+b c+a c\\leq3b c\\leq a b c$ a contradiction. Since $a$ is prime, it is left that $a=2$ .  \n\nThe inequality becomes $2b+2c+b c>2b c$ , hence $\\frac{1}{c}+\\frac{1}{b}>\\frac{1}{2}$ If $b\\geq5$ , then $c\\geq5$ and  \n\n$$\n{\\frac{1}{2}}<{\\frac{1}{b}}+{\\frac{1}{c}}<{\\frac{1}{5}}+{\\frac{1}{5}}={\\frac{2}{5}},\n$$  \n\nfalse.  \n\nTherefore $b\\leq5$ , that is  \n\n$1^{\\circ}\\ b=2$ and $c$ is any prime;  \n\n$2^{\\circ}\\ b=3$ and $c$ is 3 or 5.  \n\n",
         "Problem 1.2.2. Find all primes $a,b,c$ such that  \n\n$$\na b+b c+a c>a b c.\n$$  \n\nSolution. Assume that $a\\leq b\\leq c$ . If $a\\geq3$ then $a b+b c+a c\\leq3b c\\leq a b c$ a contradiction. Since $a$ is prime, it is left that $a=2$ .  \n\nThe inequality becomes $2b+2c+b c>2b c$ , hence $\\frac{1}{c}+\\frac{1}{b}>\\frac{1}{2}$ If $b\\geq5$ , then $c\\geq5$ and  \n\n$$\n{\\frac{1}{2}}<{\\frac{1}{b}}+{\\frac{1}{c}}<{\\frac{1}{5}}+{\\frac{1}{5}}={\\frac{2}{5}},\n$$  \n\nfalse.  \n\nTherefore $b\\leq5$ , that is  \n\n$1^{\\circ}\\ b=2$ and $c$ is any prime;  \n\n$2^{\\circ}\\ b=3$ and $c$ is 3 or 5.  \n\n",
         "1.2.2."
        ],
        [
         "21",
         "21",
         "(Divisibility)->(Prime numbers)",
         "Problem 1.2.3. Find all the positive integers $a,b$ for which $a^{4}+4b^{4}$ is a prime.  \n\n",
         "Solution. Observe that  \n\n$$\n{\\begin{array}{r l}&{a^{4}+4b^{4}=a^{4}+4b^{4}+4a^{2}b^{2}-4a^{2}b^{2}}\\\\ &{\\qquad=(a^{2}+2b^{2})^{2}-4a^{2}b^{2}}\\\\ &{\\qquad=(a^{2}+2b^{2}+2a b)(a^{2}+2b^{2}-2a b)}\\\\ &{\\qquad=[(a+b)^{2}+b^{2}][(a-b)^{2}+b^{2}].}\\end{array}}\n$$  \n\nAs $(a+b)^{2}+b^{2}>1$ , then $a^{4}+4b^{4}$ can be a prime number only if $(a-b)^{2}+b^{2}=1$ . This implies $a=b=1$ , which is the only solution of the problem.  \n\n",
         "Problem 1.2.3. Find all the positive integers $a,b$ for which $a^{4}+4b^{4}$ is a prime.  \n\nSolution. Observe that  \n\n$$\n{\\begin{array}{r l}&{a^{4}+4b^{4}=a^{4}+4b^{4}+4a^{2}b^{2}-4a^{2}b^{2}}\\\\ &{\\qquad=(a^{2}+2b^{2})^{2}-4a^{2}b^{2}}\\\\ &{\\qquad=(a^{2}+2b^{2}+2a b)(a^{2}+2b^{2}-2a b)}\\\\ &{\\qquad=[(a+b)^{2}+b^{2}][(a-b)^{2}+b^{2}].}\\end{array}}\n$$  \n\nAs $(a+b)^{2}+b^{2}>1$ , then $a^{4}+4b^{4}$ can be a prime number only if $(a-b)^{2}+b^{2}=1$ . This implies $a=b=1$ , which is the only solution of the problem.  \n\n",
         "1.2.3."
        ],
        [
         "22",
         "22",
         "(Divisibility)->(Prime numbers)",
         "Problem 1.2.4. Let $p,q$ be two distinct primes. Prove that there are positive integers $a,b$ so that the arithmetic mean of all the divisors of the number $n=p^{a}\\cdot q^{b}$ is also an integer.  \n\n(2002 Romanian Mathematical Olympiad)  \n\n",
         "Solution. The sum of all divisors of $n$ is given by the formula  \n\n$$\n(1+p+p^{2}+\\cdot\\cdot\\cdot+p^{a})(1+q+q^{2}+\\cdot\\cdot\\cdot+q^{b}),\n$$  \n\nas it can be easily seen by expanding the brackets. The number $n$ has $(a+1)(b+1)$ positive divisors and their arithmetic mean is  \n\n$$\nM={\\frac{(1+p+p^{2}+\\cdot\\cdot\\cdot+p^{a})(1+q+q^{2}+\\cdot\\cdot\\cdot+q^{b})}{(a+1)(b+1)}}.\n$$  \n\nIf $p$ and $q$ are both odd numbers, we can take $a=p$ and $b=q$ , and it is easy to see that $m$ is an integer.  \n\nIf $p=2$ and $q$ odd, choose again $b=q$ and consider $a+1=1+q+q^{2}+$ $\\cdots+q^{q-1}$ . Then $m=1+2+2^{2}+\\cdot\\cdot\\cdot+2^{a}$ , and it is an integer.  \n\nFor $p$ odd and $q=2$ , set $a=p$ and $b=p+p^{2}+p^{3}+\\cdot\\cdot\\cdot+p^{p-1}$ . The solution is complete.  \n\n",
         "Problem 1.2.4. Let $p,q$ be two distinct primes. Prove that there are positive integers $a,b$ so that the arithmetic mean of all the divisors of the number $n=p^{a}\\cdot q^{b}$ is also an integer.  \n\n(2002 Romanian Mathematical Olympiad)  \n\nSolution. The sum of all divisors of $n$ is given by the formula  \n\n$$\n(1+p+p^{2}+\\cdot\\cdot\\cdot+p^{a})(1+q+q^{2}+\\cdot\\cdot\\cdot+q^{b}),\n$$  \n\nas it can be easily seen by expanding the brackets. The number $n$ has $(a+1)(b+1)$ positive divisors and their arithmetic mean is  \n\n$$\nM={\\frac{(1+p+p^{2}+\\cdot\\cdot\\cdot+p^{a})(1+q+q^{2}+\\cdot\\cdot\\cdot+q^{b})}{(a+1)(b+1)}}.\n$$  \n\nIf $p$ and $q$ are both odd numbers, we can take $a=p$ and $b=q$ , and it is easy to see that $m$ is an integer.  \n\nIf $p=2$ and $q$ odd, choose again $b=q$ and consider $a+1=1+q+q^{2}+$ $\\cdots+q^{q-1}$ . Then $m=1+2+2^{2}+\\cdot\\cdot\\cdot+2^{a}$ , and it is an integer.  \n\nFor $p$ odd and $q=2$ , set $a=p$ and $b=p+p^{2}+p^{3}+\\cdot\\cdot\\cdot+p^{p-1}$ . The solution is complete.  \n\n",
         "1.2.4."
        ],
        [
         "23",
         "23",
         "(Divisibility)->(Prime numbers)",
         "Problem 1.2.5. Let $p,q,r$ be primes and let $n$ be a positive integer such that  \n\n$$\np^{n}+q^{n}=r^{2}.\n$$  \n\nProve that $n=1$ .  \n\n(2004 Romanian Mathematical Olympiad)  \n\n",
         "Solution. Clearly one of the primes $p,q$ or $r$ is equal to 2. If $r=2$ then $p^{n}+q^{n}=4$ , false, so assume that $p>q=2$ .  \n\nConsider the case when $n>1$ is odd; we have  \n\n$$\n(p+2)(p^{n-1}-2p^{n-2}+2^{2}p^{n-3}-\\cdot\\cdot\\cdot+2^{n-1})=r^{2}.\n$$  \n\nNotice that  \n\n$p^{n-1}-2p^{n-2}+2^{2}p^{n-3}-\\cdot\\cdot\\cdot+2^{n-1}=2^{n-1}+(p-2)(p^{n-2}+2^{2}p^{n-4}+\\cdot\\cdot\\cdot)>1$ and $p+2>1$ hence both factors are equal to $r$ . This rewrites as $p^{n}+2^{n}=$ $(p+2)^{2}=p^{2}+4p+4$ , which is false for $n\\geq3$ .  \n\nConsider the case when $n>1$ is even and let $n=2m$ . It follows that $p^{m}=a^{2}-b^{2}$ , $2^{m}=2a b$ and $r\\ =\\ a^{2}+b^{2}$ , for some integers $a,b$ with $(a,b)=1$ . Therefore, $a$ and $b$ are powers of 2, so $b=1$ and $a=2^{m-1}$ . This implies $p^{m}=4^{m-1}-1<4^{m}$ , so $p$ must be equal to 3. The equality $3^{m}=4^{m-1}-1$ fails for $m=1$ and also for $m\\geq2$ , as $4^{m-1}>3^{m}+1$ , by induction.  \n\nConsequently $n=1$ . Take for example $p=23$ , $q=2$ and $r=5$ .  \n\n",
         "Problem 1.2.5. Let $p,q,r$ be primes and let $n$ be a positive integer such that  \n\n$$\np^{n}+q^{n}=r^{2}.\n$$  \n\nProve that $n=1$ .  \n\n(2004 Romanian Mathematical Olympiad)  \n\nSolution. Clearly one of the primes $p,q$ or $r$ is equal to 2. If $r=2$ then $p^{n}+q^{n}=4$ , false, so assume that $p>q=2$ .  \n\nConsider the case when $n>1$ is odd; we have  \n\n$$\n(p+2)(p^{n-1}-2p^{n-2}+2^{2}p^{n-3}-\\cdot\\cdot\\cdot+2^{n-1})=r^{2}.\n$$  \n\nNotice that  \n\n$p^{n-1}-2p^{n-2}+2^{2}p^{n-3}-\\cdot\\cdot\\cdot+2^{n-1}=2^{n-1}+(p-2)(p^{n-2}+2^{2}p^{n-4}+\\cdot\\cdot\\cdot)>1$ and $p+2>1$ hence both factors are equal to $r$ . This rewrites as $p^{n}+2^{n}=$ $(p+2)^{2}=p^{2}+4p+4$ , which is false for $n\\geq3$ .  \n\nConsider the case when $n>1$ is even and let $n=2m$ . It follows that $p^{m}=a^{2}-b^{2}$ , $2^{m}=2a b$ and $r\\ =\\ a^{2}+b^{2}$ , for some integers $a,b$ with $(a,b)=1$ . Therefore, $a$ and $b$ are powers of 2, so $b=1$ and $a=2^{m-1}$ . This implies $p^{m}=4^{m-1}-1<4^{m}$ , so $p$ must be equal to 3. The equality $3^{m}=4^{m-1}-1$ fails for $m=1$ and also for $m\\geq2$ , as $4^{m-1}>3^{m}+1$ , by induction.  \n\nConsequently $n=1$ . Take for example $p=23$ , $q=2$ and $r=5$ .  \n\n",
         "1.2.5."
        ],
        [
         "24",
         "24",
         "(Divisibility)->(Prime numbers)",
         "Problem 1.2.6. Let $a,b,c$ be non zero integers, $a\\neq c$ , such that  \n\n$$\n{\\frac{a}{c}}={\\frac{a^{2}+b^{2}}{c^{2}+b^{2}}}.\n$$  \n\nProve that $a^{2}+b^{2}+c^{2}$ cannot be a prime.  \n\n(1999 Romanian Mathematical Olympiad)  \n\n",
         "Solution. The equality ${\\frac{a}{c}}={\\frac{a^{2}+b^{2}}{c^{2}+b^{2}}}$ is equivalent to $(a-c)(b^{2}-a c)=0$ . Since $a\\neq c$ , it follows that $b^{2}=a c$ and therefore:  \n\n$$\na^{2}+b^{2}+c^{2}=a^{2}+a c+c^{2}=a^{2}+2a c+c^{2}-b^{2}\n$$  \n\n$$\n=(a+c)^{2}-b^{2}=(a+c-b)(a+c+b).\n$$  \n\nNow, clearly, $a^{2}+b^{2}+c^{2}>3$ , so, if $a^{2}+b^{2}+c^{2}$ is a prime number, then only four cases are possible:  \n\n(1) $a+c-b=1$ and $a+c-b=a^{2}+b^{2}+c^{2}$ ; (2) $a+c+b=1$ and $a+c+b=a^{2}+b^{2}+c^{2}$ ; (3) $a+c-b=-1$ and $\\displaystyle a+c+b=-(a^{2}+b^{2}+c^{2})$ , and finally: (4) $a+c+b=-1$ and $\\displaystyle a+c-b=-(a^{2}+b^{2}+c^{2})$ .  \n\nIn the first two cases we are lead to: $a^{2}+b^{2}+c^{2}-2(a+c)+1=0$ , or $(a-1)^{2}+(c-1)^{2}+b^{2}=1$ , hence $a=c=1$ .  \n\nIn other cases we obtain: $(a+1)^{2}+(c+1)^{2}+b^{2}=1$ , hence $a=c=-1$ . But $a=c$ is a contradiction.  \n\n",
         "Problem 1.2.6. Let $a,b,c$ be non zero integers, $a\\neq c$ , such that  \n\n$$\n{\\frac{a}{c}}={\\frac{a^{2}+b^{2}}{c^{2}+b^{2}}}.\n$$  \n\nProve that $a^{2}+b^{2}+c^{2}$ cannot be a prime.  \n\n(1999 Romanian Mathematical Olympiad)  \n\nSolution. The equality ${\\frac{a}{c}}={\\frac{a^{2}+b^{2}}{c^{2}+b^{2}}}$ is equivalent to $(a-c)(b^{2}-a c)=0$ . Since $a\\neq c$ , it follows that $b^{2}=a c$ and therefore:  \n\n$$\na^{2}+b^{2}+c^{2}=a^{2}+a c+c^{2}=a^{2}+2a c+c^{2}-b^{2}\n$$  \n\n$$\n=(a+c)^{2}-b^{2}=(a+c-b)(a+c+b).\n$$  \n\nNow, clearly, $a^{2}+b^{2}+c^{2}>3$ , so, if $a^{2}+b^{2}+c^{2}$ is a prime number, then only four cases are possible:  \n\n(1) $a+c-b=1$ and $a+c-b=a^{2}+b^{2}+c^{2}$ ; (2) $a+c+b=1$ and $a+c+b=a^{2}+b^{2}+c^{2}$ ; (3) $a+c-b=-1$ and $\\displaystyle a+c+b=-(a^{2}+b^{2}+c^{2})$ , and finally: (4) $a+c+b=-1$ and $\\displaystyle a+c-b=-(a^{2}+b^{2}+c^{2})$ .  \n\nIn the first two cases we are lead to: $a^{2}+b^{2}+c^{2}-2(a+c)+1=0$ , or $(a-1)^{2}+(c-1)^{2}+b^{2}=1$ , hence $a=c=1$ .  \n\nIn other cases we obtain: $(a+1)^{2}+(c+1)^{2}+b^{2}=1$ , hence $a=c=-1$ . But $a=c$ is a contradiction.  \n\n",
         "1.2.6."
        ],
        [
         "25",
         "25",
         "(Divisibility)->(Prime numbers)",
         "Problem 1.2.7. Show that each natural number can be written as the difference of two natural numbers having the same number of prime factors.  \n\n(1999 Russian Mathematical Olympiad)  \n\n",
         "Solution. If $n$ is even, then we can write it as $(2n)-(n)$ . If $n$ is odd, let $d$ be the smallest odd prime that does not divide $n$ . Then write $n=$ $(d n)-((d-1)n)$ . The number $d n$ contains exactly one more prime factor than $n$ . As for $(d-1)n$ , it is divisible by 2 because $d-1$ is even. Its odd factors are less than $d$ so they all divide $n$ . Therefore $(d-1)n$ also contains exactly one more prime factor than $n$ , and $d n$ and $(d-1)n$ have the same number of prime factors.  \n\n",
         "Problem 1.2.7. Show that each natural number can be written as the difference of two natural numbers having the same number of prime factors.  \n\n(1999 Russian Mathematical Olympiad)  \n\nSolution. If $n$ is even, then we can write it as $(2n)-(n)$ . If $n$ is odd, let $d$ be the smallest odd prime that does not divide $n$ . Then write $n=$ $(d n)-((d-1)n)$ . The number $d n$ contains exactly one more prime factor than $n$ . As for $(d-1)n$ , it is divisible by 2 because $d-1$ is even. Its odd factors are less than $d$ so they all divide $n$ . Therefore $(d-1)n$ also contains exactly one more prime factor than $n$ , and $d n$ and $(d-1)n$ have the same number of prime factors.  \n\n",
         "1.2.7."
        ],
        [
         "26",
         "26",
         "(Divisibility)->(Prime numbers)",
         "Problem 1.2.8. Let $p$ be a prime number. Find all $k\\in\\ensuremath{\\mathbb{Z}}$ such that $\\sqrt{k^{2}-p k}$ is a positive integer.  \n\n(1997 Spanish Mathematical Olympiad)  \n\n",
         "Solution. The values are $k=(p+1)^{2}/4$ for $p$ odd (and none for $p=2$ ). We first consider $p=2$ , in which case we need $k^{2}-2k=(k-1)^{2}-1$ to be a positive square, which is impossible, as the only consecutive squares are 0 and 1.  \n\nNow assume $p$ is odd. We first rule out the case where $k$ is divisible by $p$ : if $k=n p$ , then $k^{2}-p k=p^{2}n(n-1)$ , and $n$ and $n-1$ are consecutive numbers, so they cannot both be squares.  \n\nWe thus assume $k$ and $p$ are coprime, in which case $k$ and $k-p$ are coprime. Thus $k^{2}-p k$ is a square if and only if $k$ and $k-p$ are squares, say $k=m^{2}$ and $k-p=n^{2}$ . Then $p=m^{2}-n^{2}=(m+n)(m-n)$ , which implies $m+n=p$ , $m-n=1$ and $k=(p+1)^{2}/4$ .  \n\n",
         "Problem 1.2.8. Let $p$ be a prime number. Find all $k\\in\\ensuremath{\\mathbb{Z}}$ such that $\\sqrt{k^{2}-p k}$ is a positive integer.  \n\n(1997 Spanish Mathematical Olympiad)  \n\nSolution. The values are $k=(p+1)^{2}/4$ for $p$ odd (and none for $p=2$ ). We first consider $p=2$ , in which case we need $k^{2}-2k=(k-1)^{2}-1$ to be a positive square, which is impossible, as the only consecutive squares are 0 and 1.  \n\nNow assume $p$ is odd. We first rule out the case where $k$ is divisible by $p$ : if $k=n p$ , then $k^{2}-p k=p^{2}n(n-1)$ , and $n$ and $n-1$ are consecutive numbers, so they cannot both be squares.  \n\nWe thus assume $k$ and $p$ are coprime, in which case $k$ and $k-p$ are coprime. Thus $k^{2}-p k$ is a square if and only if $k$ and $k-p$ are squares, say $k=m^{2}$ and $k-p=n^{2}$ . Then $p=m^{2}-n^{2}=(m+n)(m-n)$ , which implies $m+n=p$ , $m-n=1$ and $k=(p+1)^{2}/4$ .  \n\n",
         "1.2.8."
        ],
        [
         "27",
         "27",
         "(Divisibility)->(Prime numbers)",
         "Problem 1.2.9. Let $p>5$ be a prime number and  \n\n$$\nX=\\{p-n^{2}|n\\in\\mathbb{N},n^{2}<p\\}.\n$$  \n\nProve that $X$ contains two distinct elements $x,y$ such that $x\\neq1$ and $x$ divides y.  \n\n(1996 Balkan Mathematical Olympiad)  \n\n",
         "Solution. Take $m$ such that $m^{2}<p<(m+1)^{2}$ and write $p=k+m^{2}$ , with $1\\leq k\\leq2m$ . Since $p-(m-k)^{2}=k(2m-k+1)$ we have $p-m^{2}|p-$ $(m-k)^{2}$ . Of course, $k\\neq m$ since $p$ is a prime number. Also, $m-k<m$ and $-m+k\\neq m$ since $p$ is not composite. The only case which remains is $k=1$ . Since $m$ is even, $p-(m-1)^{2}$ divides $p-1$ we are done again.  \n\n# Proposed problems  \n\n",
         "Problem 1.2.9. Let $p>5$ be a prime number and  \n\n$$\nX=\\{p-n^{2}|n\\in\\mathbb{N},n^{2}<p\\}.\n$$  \n\nProve that $X$ contains two distinct elements $x,y$ such that $x\\neq1$ and $x$ divides y.  \n\n(1996 Balkan Mathematical Olympiad)  \n\nSolution. Take $m$ such that $m^{2}<p<(m+1)^{2}$ and write $p=k+m^{2}$ , with $1\\leq k\\leq2m$ . Since $p-(m-k)^{2}=k(2m-k+1)$ we have $p-m^{2}|p-$ $(m-k)^{2}$ . Of course, $k\\neq m$ since $p$ is a prime number. Also, $m-k<m$ and $-m+k\\neq m$ since $p$ is not composite. The only case which remains is $k=1$ . Since $m$ is even, $p-(m-1)^{2}$ divides $p-1$ we are done again.  \n\n# Proposed problems  \n\n",
         "1.2.9."
        ],
        [
         "28",
         "28",
         "(Divisibility)->(Prime numbers)",
         "Problem 1.2.10. For each integer $n$ such that $n=p_{1}p_{2}p_{3}p_{4}$ , where $p_{1},p_{2},p_{3},p_{4}$ are distinct primes, let  \n\n$$\nd_{1}=1<d_{2}<d_{3}<\\cdot\\cdot\\cdot<d_{16}=n\n$$  \n\nbe the sixteen positive integers which divide $n$ . Prove that if $n<1995$ , then $d_{9}-d_{8}\\neq22$ .  \n\n(1995 Irish Mathematical Olympiad)  \n\n",
         null,
         "Problem 1.2.10. For each integer $n$ such that $n=p_{1}p_{2}p_{3}p_{4}$ , where $p_{1},p_{2},p_{3},p_{4}$ are distinct primes, let  \n\n$$\nd_{1}=1<d_{2}<d_{3}<\\cdot\\cdot\\cdot<d_{16}=n\n$$  \n\nbe the sixteen positive integers which divide $n$ . Prove that if $n<1995$ , then $d_{9}-d_{8}\\neq22$ .  \n\n(1995 Irish Mathematical Olympiad)  \n\n",
         "1.2.10."
        ],
        [
         "29",
         "29",
         "(Divisibility)->(Prime numbers)",
         "Problem 1.2.11. Prove that there are infinitely many positive integers $a$ such that the sequence $(z_{n})_{n\\geq1}$ , $z_{n}=n^{4}+a$ , does not contain any prime number.  \n\n( $11^{t h}$ IMO)  \n\n",
         null,
         "Problem 1.2.11. Prove that there are infinitely many positive integers $a$ such that the sequence $(z_{n})_{n\\geq1}$ , $z_{n}=n^{4}+a$ , does not contain any prime number.  \n\n( $11^{t h}$ IMO)  \n\n",
         "1.2.11."
        ],
        [
         "30",
         "30",
         "(Divisibility)->(Prime numbers)",
         "Problem 1.2.12. Let $p,q,r$ be distinct prime numbers and let $A$ be the set  \n\n$$\nA=\\{p^{a}q^{b}r^{c}:\\ 0\\leq a,b,c\\leq5\\}.\n$$  \n\nFind the smallest integer $n$ such that any $n$ -element subset of $A$ contains two distinct elements $x,y$ such that $x$ divides $y$ .  \n\n(1997 Romanian Mathematical Olympiad)  \n\n",
         null,
         "Problem 1.2.12. Let $p,q,r$ be distinct prime numbers and let $A$ be the set  \n\n$$\nA=\\{p^{a}q^{b}r^{c}:\\ 0\\leq a,b,c\\leq5\\}.\n$$  \n\nFind the smallest integer $n$ such that any $n$ -element subset of $A$ contains two distinct elements $x,y$ such that $x$ divides $y$ .  \n\n(1997 Romanian Mathematical Olympiad)  \n\n",
         "1.2.12."
        ],
        [
         "31",
         "31",
         "(Divisibility)->(Prime numbers)",
         "Problem 1.2.13. Prove Bonse’s inequality:  \n\n$$\np_{1}p_{2}\\ldots p_{n}>p_{n+1}^{2}\n$$  \n\nfor $n\\geq4$ , where $p_{1}=2$ , $p_{2}=3,\\ldots$ is the increasing sequence of prime numbers.  \n\n",
         null,
         "Problem 1.2.13. Prove Bonse’s inequality:  \n\n$$\np_{1}p_{2}\\ldots p_{n}>p_{n+1}^{2}\n$$  \n\nfor $n\\geq4$ , where $p_{1}=2$ , $p_{2}=3,\\ldots$ is the increasing sequence of prime numbers.  \n\n",
         "1.2.13."
        ],
        [
         "32",
         "32",
         "(Divisibility)->(Prime numbers)",
         "Problem 1.2.14. Show that there exists a set $A$ of positive integers with the following property: for any infinite set $S$ of primes, there exist two positive integers $m\\in A$ and $n\\not\\in A$ each of which is a product of $k$ distinct elements of $S$ for some $k\\geq2$ .  \n\n( $35^{t h}$ IMO)  \n\n",
         null,
         "Problem 1.2.14. Show that there exists a set $A$ of positive integers with the following property: for any infinite set $S$ of primes, there exist two positive integers $m\\in A$ and $n\\not\\in A$ each of which is a product of $k$ distinct elements of $S$ for some $k\\geq2$ .  \n\n( $35^{t h}$ IMO)  \n\n",
         "1.2.14."
        ],
        [
         "33",
         "33",
         "(Divisibility)->(Prime numbers)",
         "Problem 1.2.15. Let $n$ be an integer number, $n\\geq2$ . Show that if $k^{2}+k+n$ is a prime number for any integer number $k$ , $0\\leq k\\leq{\\sqrt{\\frac{n}{3}}}$ , then $k^{2}+k+n$ is a prime number for any $k$ , $0\\leq k\\leq n-2$ .  \n\n( $28^{t h}$ IMO)  \n\n",
         null,
         "Problem 1.2.15. Let $n$ be an integer number, $n\\geq2$ . Show that if $k^{2}+k+n$ is a prime number for any integer number $k$ , $0\\leq k\\leq{\\sqrt{\\frac{n}{3}}}$ , then $k^{2}+k+n$ is a prime number for any $k$ , $0\\leq k\\leq n-2$ .  \n\n( $28^{t h}$ IMO)  \n\n",
         "1.2.15."
        ],
        [
         "34",
         "34",
         "(Divisibility)->(Prime numbers)",
         "Problem 1.2.16. A sequence $q_{1},q_{2},...$ of primes satisfies the following condition: for $n\\geq3$ , $q_{n}$ is the greatest prime divisor of $q_{n-1}+q_{n-2}+2000$ . Prove that the sequence is bounded.  \n\n(2000 Polish Mathematical Olympiad)  \n\n",
         null,
         "Problem 1.2.16. A sequence $q_{1},q_{2},...$ of primes satisfies the following condition: for $n\\geq3$ , $q_{n}$ is the greatest prime divisor of $q_{n-1}+q_{n-2}+2000$ . Prove that the sequence is bounded.  \n\n(2000 Polish Mathematical Olympiad)  \n\n",
         "1.2.16."
        ],
        [
         "35",
         "35",
         "(Divisibility)->(Prime numbers)",
         "Problem 1.2.17. Let $a>b>c>d$ be positive integers and suppose  \n\n$$\na c+b d=(b+d+a-c)(b+d-a+c).\n$$  \n\nProve that $a b+c d$ is not prime.  \n\n(42 $n d$ IMO)  \n",
         null,
         "Problem 1.2.17. Let $a>b>c>d$ be positive integers and suppose  \n\n$$\na c+b d=(b+d+a-c)(b+d-a+c).\n$$  \n\nProve that $a b+c d$ is not prime.  \n\n(42 $n d$ IMO)  \n",
         "1.2.17."
        ],
        [
         "36",
         "36",
         "(Divisibility)->(The greatest common divisor and the least common multiple)",
         "Problem 1.3.1. Prove that for any odd integers $n,\\ a_{1}$ , $a_{2},\\ldots,a_{n}$ , the greatest common divisor of numbers $a_{1},a_{2},\\ldots,a_{n}$ is equal to the greatest common divisor of a1 + a2 , a2 + a3 , $\\frac{a_{1}+a_{2}}{2},\\frac{a_{2}+a_{3}}{2},...,\\frac{a_{n}+a_{1}}{2}$  \n\n",
         "Solution. Let  \n\n$$\na=g c d(a_{1},a_{2},\\ldots,a_{n})\\quad{\\mathrm{and}}\\quad b=g c d\\left({\\frac{a_{1}+a_{2}}{2}},{\\frac{a_{2}+a_{3}}{2}},\\ldots,{\\frac{a_{n}+a_{1}}{2}}\\right)\n$$  \n\nThen $a_{k}=\\alpha_{k}a$ , for some integers $\\alpha_{k}$ , $k=1,2,\\ldots,n$ . It follows that  \n\n$$\n\\frac{a_{k}+a_{k+1}}{2}=\\frac{\\alpha_{k}+\\alpha_{k+1}}{2}a,\n$$  \n\nwhere $u_{n+1}=u_{1}$ and $\\alpha_{n+1}=\\alpha_{1}$ . Since $a_{k}$ are odd numbers, $\\alpha_{k}$ are also odd, so $\\frac{\\alpha_{k}+\\alpha_{k+1}}{2}$ are integers.  \n\nFrom relation (1) it follows that $a$ divides ak + ak+1 for all so a divides b. On the other hand, ak + ak+1 = βkb, for some integers βk. Then  \n\n$$\na_{k}+a_{k+1}\\equiv0{\\pmod{2b}}\n$$  \n\nfor all $k\\in\\{1,2,\\ldots,n\\}$ . Summing up from $k=1$ to $k=n$ yields  \n\n$$\n2(a_{1}+a_{2}+\\cdot\\cdot\\cdot+a_{n})\\equiv0{\\pmod{2b}},\n$$  \n\nhence  \n\n$$\na_{1}+a_{2}+\\cdot\\cdot\\cdot+a_{n}\\equiv0{\\pmod{b}}.\n$$  \n\nSumming up for $k=1,3,\\dotsc,n-2$ implies  \n\n$$\na_{1}+a_{2}+\\cdot\\cdot\\cdot+a_{n-1}\\equiv0{\\pmod{2b}}\n$$  \n\nand furthermore  \n\n$$\na_{1}+a_{2}+\\cdots+a_{n-1}\\equiv0{\\pmod{b}}.\n$$  \n\nSubtracting (4) from (3) implies $a_{n}\\equiv0{\\pmod{b}}$ ), then using relation (2) we obtain $\\ensuremath{a_{k}}\\equiv0$ (mod $b$ ) for all $k$ . Hence $b|a$ and the proof is complete.  \n\n",
         "Problem 1.3.1. Prove that for any odd integers $n,\\ a_{1}$ , $a_{2},\\ldots,a_{n}$ , the greatest common divisor of numbers $a_{1},a_{2},\\ldots,a_{n}$ is equal to the greatest common divisor of a1 + a2 , a2 + a3 , $\\frac{a_{1}+a_{2}}{2},\\frac{a_{2}+a_{3}}{2},...,\\frac{a_{n}+a_{1}}{2}$  \n\nSolution. Let  \n\n$$\na=g c d(a_{1},a_{2},\\ldots,a_{n})\\quad{\\mathrm{and}}\\quad b=g c d\\left({\\frac{a_{1}+a_{2}}{2}},{\\frac{a_{2}+a_{3}}{2}},\\ldots,{\\frac{a_{n}+a_{1}}{2}}\\right)\n$$  \n\nThen $a_{k}=\\alpha_{k}a$ , for some integers $\\alpha_{k}$ , $k=1,2,\\ldots,n$ . It follows that  \n\n$$\n\\frac{a_{k}+a_{k+1}}{2}=\\frac{\\alpha_{k}+\\alpha_{k+1}}{2}a,\n$$  \n\nwhere $u_{n+1}=u_{1}$ and $\\alpha_{n+1}=\\alpha_{1}$ . Since $a_{k}$ are odd numbers, $\\alpha_{k}$ are also odd, so $\\frac{\\alpha_{k}+\\alpha_{k+1}}{2}$ are integers.  \n\nFrom relation (1) it follows that $a$ divides ak + ak+1 for all so a divides b. On the other hand, ak + ak+1 = βkb, for some integers βk. Then  \n\n$$\na_{k}+a_{k+1}\\equiv0{\\pmod{2b}}\n$$  \n\nfor all $k\\in\\{1,2,\\ldots,n\\}$ . Summing up from $k=1$ to $k=n$ yields  \n\n$$\n2(a_{1}+a_{2}+\\cdot\\cdot\\cdot+a_{n})\\equiv0{\\pmod{2b}},\n$$  \n\nhence  \n\n$$\na_{1}+a_{2}+\\cdot\\cdot\\cdot+a_{n}\\equiv0{\\pmod{b}}.\n$$  \n\nSumming up for $k=1,3,\\dotsc,n-2$ implies  \n\n$$\na_{1}+a_{2}+\\cdot\\cdot\\cdot+a_{n-1}\\equiv0{\\pmod{2b}}\n$$  \n\nand furthermore  \n\n$$\na_{1}+a_{2}+\\cdots+a_{n-1}\\equiv0{\\pmod{b}}.\n$$  \n\nSubtracting (4) from (3) implies $a_{n}\\equiv0{\\pmod{b}}$ ), then using relation (2) we obtain $\\ensuremath{a_{k}}\\equiv0$ (mod $b$ ) for all $k$ . Hence $b|a$ and the proof is complete.  \n\n",
         "1.3.1."
        ],
        [
         "37",
         "37",
         "(Divisibility)->(The greatest common divisor and the least common multiple)",
         "Problem 1.3.2. Prove that for all nonnegative integers $a,b,c,d$ such that $a$ and $b$ are relatively prime, the system  \n\n$$\n\\begin{array}{c}{{a x-y z-c=0}}\\\\ {{b x-y t+d=0}}\\end{array}\n$$  \n\nhas at least a solution in nonnegative integers.  \n\n",
         "Solution. We start with a useful lemma.  \n\nLemma. If a and b are relatively prime positive integers, then there are positive integers u and v such that  \n\n$$\na u-b v=1.\n$$  \n\nProof. Consider the numbers  \n\n$$\n1\\cdot2,\\ 2\\cdot a,\\ldots,(b-1)\\cdot a\n$$  \n\nWhen divided by $b$ the remainders of these numbers are distinct. Indeed, otherwise we have $k_{1}\\neq k_{2}\\in\\{1,2,\\ldots,b-1\\}$ such that  \n\n$$\nk_{1}a=p_{1}b+r,\\quad k_{2}a=p_{2}b+r\n$$  \n\nfor some integers $p_{1},p_{2}$ . Hence  \n\n$$\n(k_{1}-k_{2})a=(p_{1}-p_{2})b\\equiv0{\\pmod{b}}.\n$$  \n\nSince $a$ and $b$ are relatively prime it follows that $|k_{1}-k_{2}|\\equiv0$ (mod $b$ ), which is false because $1\\leq|k_{1}-k_{2}|<b$ .  \n\nOn the other hand, none of the numbers listed in (1) is divisible by $b$ . Indeed, if so, then there is $k\\in\\{1,2,\\ldots,n-1\\}$ such that  \n\n$$\nk\\cdot a=p\\cdot b{\\mathrm{~for~some~integer~}}p.\n$$  \n\nLet $d$ be the greatest common divisor of $k$ and $p$ . Hence $k=k_{1}d$ , $p=p_{1}d$ , for some integers $p_{1},k_{1}$ with $g c d(p_{1},k_{1})=1$ . Then $k_{1}a=p_{1}b$ and since $g c d(a,b)=1$ , we have $k_{1}=b$ , $p_{1}=a$ . This is false, because $k_{1}<b$ .  \n\nIt follows that one of the numbers from (1) has the remainder 1 when divided by $b$ so there is $u\\in\\{1,2,\\dotsc,b-1\\}$ such that $a u=b v+1$ and the lemma is proved.  \n\nWe prove now that the system  \n\n$$\n\\left\\{{\\begin{array}{l}{a x-y z-c=0}\\\\ {b x-y t+d=0}\\end{array}}\\right.\n$$  \n\nwith $a,b,c,d$ nonnegative integers and $g c d(a,b)=1$ has at least a solution in nonnegative integers.  \n\nBecause $g c d(a,b)=1$ using the lemma, there are positive integers $u$ and $v$ such that $a u-b v=1$ . Hence  \n\n$$\nx=c u+d v,\\quad y=a d+b c,\\quad z=v,\\quad t=u,\n$$  \n\nis a solution to the system.  \n\n",
         "Problem 1.3.2. Prove that for all nonnegative integers $a,b,c,d$ such that $a$ and $b$ are relatively prime, the system  \n\n$$\n\\begin{array}{c}{{a x-y z-c=0}}\\\\ {{b x-y t+d=0}}\\end{array}\n$$  \n\nhas at least a solution in nonnegative integers.  \n\nSolution. We start with a useful lemma.  \n\nLemma. If a and b are relatively prime positive integers, then there are positive integers u and v such that  \n\n$$\na u-b v=1.\n$$  \n\nProof. Consider the numbers  \n\n$$\n1\\cdot2,\\ 2\\cdot a,\\ldots,(b-1)\\cdot a\n$$  \n\nWhen divided by $b$ the remainders of these numbers are distinct. Indeed, otherwise we have $k_{1}\\neq k_{2}\\in\\{1,2,\\ldots,b-1\\}$ such that  \n\n$$\nk_{1}a=p_{1}b+r,\\quad k_{2}a=p_{2}b+r\n$$  \n\nfor some integers $p_{1},p_{2}$ . Hence  \n\n$$\n(k_{1}-k_{2})a=(p_{1}-p_{2})b\\equiv0{\\pmod{b}}.\n$$  \n\nSince $a$ and $b$ are relatively prime it follows that $|k_{1}-k_{2}|\\equiv0$ (mod $b$ ), which is false because $1\\leq|k_{1}-k_{2}|<b$ .  \n\nOn the other hand, none of the numbers listed in (1) is divisible by $b$ . Indeed, if so, then there is $k\\in\\{1,2,\\ldots,n-1\\}$ such that  \n\n$$\nk\\cdot a=p\\cdot b{\\mathrm{~for~some~integer~}}p.\n$$  \n\nLet $d$ be the greatest common divisor of $k$ and $p$ . Hence $k=k_{1}d$ , $p=p_{1}d$ , for some integers $p_{1},k_{1}$ with $g c d(p_{1},k_{1})=1$ . Then $k_{1}a=p_{1}b$ and since $g c d(a,b)=1$ , we have $k_{1}=b$ , $p_{1}=a$ . This is false, because $k_{1}<b$ .  \n\nIt follows that one of the numbers from (1) has the remainder 1 when divided by $b$ so there is $u\\in\\{1,2,\\dotsc,b-1\\}$ such that $a u=b v+1$ and the lemma is proved.  \n\nWe prove now that the system  \n\n$$\n\\left\\{{\\begin{array}{l}{a x-y z-c=0}\\\\ {b x-y t+d=0}\\end{array}}\\right.\n$$  \n\nwith $a,b,c,d$ nonnegative integers and $g c d(a,b)=1$ has at least a solution in nonnegative integers.  \n\nBecause $g c d(a,b)=1$ using the lemma, there are positive integers $u$ and $v$ such that $a u-b v=1$ . Hence  \n\n$$\nx=c u+d v,\\quad y=a d+b c,\\quad z=v,\\quad t=u,\n$$  \n\nis a solution to the system.  \n\n",
         "1.3.2."
        ],
        [
         "38",
         "38",
         "(Divisibility)->(The greatest common divisor and the least common multiple)",
         "Problem 1.3.3. Find all the pairs of integers $(m,n)$ so that the numbers $A=n^{2}+2m n+3m^{2}+2$ , $B=2n^{2}+3m n+m^{2}+2$ , $C=3n^{2}+m n+2m^{2}+1$ have a common divisor greater than $\\mathit{1}$ .  \n\n",
         "Solution. A common divisor of $A,B$ and $C$ is also a divisor for $D=$ $2A-B$ , $E=3A-C$ , $F=5E-7D$ , $G=5D-E$ , $H=18A-2F-3E$ , $I=n G-m F$ and $126=18n I-5H+11F=2\\cdot3^{2}\\cdot7$ . Since 2 and 3 do not divide $A,B$ and $C$ , then $d=7$ . It follows that $(m,n)$ is equal to $(7a+2,7b+3)$ or $(7c+5,7d+4)$ .  \n\n",
         "Problem 1.3.3. Find all the pairs of integers $(m,n)$ so that the numbers $A=n^{2}+2m n+3m^{2}+2$ , $B=2n^{2}+3m n+m^{2}+2$ , $C=3n^{2}+m n+2m^{2}+1$ have a common divisor greater than $\\mathit{1}$ .  \n\nSolution. A common divisor of $A,B$ and $C$ is also a divisor for $D=$ $2A-B$ , $E=3A-C$ , $F=5E-7D$ , $G=5D-E$ , $H=18A-2F-3E$ , $I=n G-m F$ and $126=18n I-5H+11F=2\\cdot3^{2}\\cdot7$ . Since 2 and 3 do not divide $A,B$ and $C$ , then $d=7$ . It follows that $(m,n)$ is equal to $(7a+2,7b+3)$ or $(7c+5,7d+4)$ .  \n\n",
         "1.3.3."
        ],
        [
         "39",
         "39",
         "(Divisibility)->(The greatest common divisor and the least common multiple)",
         "Problem 1.3.4. Let n be an even positive integer and let $a,b$ be positive coprime integers. Find a and $b$ if $a+b$ divides $a^{n}+b^{n}$ .  \n\n(2003 Romanian Mathematical Olympiad)  \n\n",
         "Solution. As $n$ is even, we have  \n\n$$\na^{n}-b^{n}=(a^{2}-b^{2})(a^{n-2}+a^{n-4}b^{2}+\\cdot\\cdot\\cdot+b^{n-2}).\n$$  \n\nSince $a+b$ is a divisor of $a^{2}-b^{2}$ , it follows that $a+b$ is a divisor of $a^{n}-b^{n}$ . In turn, $a+b$ divides $2a^{n}=(a^{n}+b^{n})+(a^{n}-b^{n})$ , and $2b^{n}=(a^{n}+$ $b^{n})-(a^{n}-b^{n})$ . But $a$ and $b$ are coprime numbers, and so $g c d(2a^{n},2b^{n})=2$ . Therefore $a+b$ is a divisor of 2, hence $a=b=1$ .  \n\n",
         "Problem 1.3.4. Let n be an even positive integer and let $a,b$ be positive coprime integers. Find a and $b$ if $a+b$ divides $a^{n}+b^{n}$ .  \n\n(2003 Romanian Mathematical Olympiad)  \n\nSolution. As $n$ is even, we have  \n\n$$\na^{n}-b^{n}=(a^{2}-b^{2})(a^{n-2}+a^{n-4}b^{2}+\\cdot\\cdot\\cdot+b^{n-2}).\n$$  \n\nSince $a+b$ is a divisor of $a^{2}-b^{2}$ , it follows that $a+b$ is a divisor of $a^{n}-b^{n}$ . In turn, $a+b$ divides $2a^{n}=(a^{n}+b^{n})+(a^{n}-b^{n})$ , and $2b^{n}=(a^{n}+$ $b^{n})-(a^{n}-b^{n})$ . But $a$ and $b$ are coprime numbers, and so $g c d(2a^{n},2b^{n})=2$ . Therefore $a+b$ is a divisor of 2, hence $a=b=1$ .  \n\n",
         "1.3.4."
        ],
        [
         "40",
         "40",
         "(Divisibility)->(The greatest common divisor and the least common multiple)",
         "Problem 1.3.5. $M$ is the set of all values of the greatest common divisor $d$ of the numbers $A=2n+3m+13$ , $B=3n+5m+1$ , $C=6n+8m-1$ , where m and $n$ are positive integers. Prove that $M$ is the set of all divisors of an integer $k$ .  \n\n",
         "Solution. If $d$ is a common divisor of the numbers $A,B$ and $C$ , then $d$ divides $E=3A-C=m+40$ , $F=2B-C=2m+3$ and $G=2E-F=77$ . We prove that $k=77$ satisfies the conditions.  \n\nLet $d^{\\prime}$ be the greatest common divisor of the numbers $E$ and $F$ . Then $d^{\\prime}=7u$ for $m=7p+2$ . Moreover, $u=1$ if $p\\neq11v+5$ and $u=11$ if $p=11v+5$ . On the other hand, $d^{\\prime}=11v$ for $m=11q+4$ . Furthermore, $v=1$ for $q\\neq7z+3$ and $v=7$ for $q=7z+3$ .  \n\nThe number $d^{\\prime}$ is common divisor of the numbers $A,B,C$ if and only if $d^{\\prime}$ divides $A$ .  \n\nFor $m=7p+2$ , 7 divides $A=2n+21p+19$ if and only if $n=7p^{\\prime}+1$ .  \n\nFor $m=7(11v+5)$ , $A=2(n+59)+3\\cdot77v$ is divisible by 77 if and only if $n=77t+18$ .  \n\n",
         "Problem 1.3.5. $M$ is the set of all values of the greatest common divisor $d$ of the numbers $A=2n+3m+13$ , $B=3n+5m+1$ , $C=6n+8m-1$ , where m and $n$ are positive integers. Prove that $M$ is the set of all divisors of an integer $k$ .  \n\nSolution. If $d$ is a common divisor of the numbers $A,B$ and $C$ , then $d$ divides $E=3A-C=m+40$ , $F=2B-C=2m+3$ and $G=2E-F=77$ . We prove that $k=77$ satisfies the conditions.  \n\nLet $d^{\\prime}$ be the greatest common divisor of the numbers $E$ and $F$ . Then $d^{\\prime}=7u$ for $m=7p+2$ . Moreover, $u=1$ if $p\\neq11v+5$ and $u=11$ if $p=11v+5$ . On the other hand, $d^{\\prime}=11v$ for $m=11q+4$ . Furthermore, $v=1$ for $q\\neq7z+3$ and $v=7$ for $q=7z+3$ .  \n\nThe number $d^{\\prime}$ is common divisor of the numbers $A,B,C$ if and only if $d^{\\prime}$ divides $A$ .  \n\nFor $m=7p+2$ , 7 divides $A=2n+21p+19$ if and only if $n=7p^{\\prime}+1$ .  \n\nFor $m=7(11v+5)$ , $A=2(n+59)+3\\cdot77v$ is divisible by 77 if and only if $n=77t+18$ .  \n\n",
         "1.3.5."
        ],
        [
         "41",
         "41",
         "(Divisibility)->(The greatest common divisor and the least common multiple)",
         "Problem 1.3.6. Find the greatest common divisor of the numbers  \n\n$$\nA_{n}=2^{3n}+3^{6n+2}+5^{6n+2}\n$$  \n\nwhen $n=0,1,\\ldots,1999$ .  \n\n(2001 Junior Balkan Mathematical Olympiad)  \n\n",
         "Solution. We have  \n\n$$\nA_{0}=1+9+25=35=5\\cdot7.\n$$  \n\nUsing congruence mod 5, it follows that  \n\n$$\nA_{n}\\equiv2^{3n}+3^{6n+2}\\equiv2^{3n}+9^{3n+1}\\equiv2^{3n}+(-1)^{3n+1}{\\pmod{5}}.\n$$  \n\nFor $n=1$ , $A_{1}\\equiv9\\neq0$ (mod 5), hence 5 is not a common divisor. On the other hand,  \n\n$$\n{\\begin{array}{r l}&{A_{n}=8^{n}+9\\cdot9^{3n}+25\\cdot25^{3n}}\\\\ &{\\qquad\\equiv1+2\\cdot2^{3n}+4\\cdot4^{3n}}\\\\ &{\\qquad\\equiv1+2\\cdot8^{n}+4\\cdot64^{n}}\\\\ &{\\qquad\\equiv1+2\\cdot1^{n}+4\\cdot1^{n}}\\\\ &{\\qquad\\equiv0{\\pmod{7}},}\\end{array}}\n$$  \n\ntherefore 7 divides $A_{n}$ , for all integers $n\\geq0$ .  \n\nConsequently, the greatest common divisor of the numbers $A_{0}$ , $A_{1},\\dotsc$ $A_{1999}$ is equal to 7.  \n\n",
         "Problem 1.3.6. Find the greatest common divisor of the numbers  \n\n$$\nA_{n}=2^{3n}+3^{6n+2}+5^{6n+2}\n$$  \n\nwhen $n=0,1,\\ldots,1999$ .  \n\n(2001 Junior Balkan Mathematical Olympiad)  \n\nSolution. We have  \n\n$$\nA_{0}=1+9+25=35=5\\cdot7.\n$$  \n\nUsing congruence mod 5, it follows that  \n\n$$\nA_{n}\\equiv2^{3n}+3^{6n+2}\\equiv2^{3n}+9^{3n+1}\\equiv2^{3n}+(-1)^{3n+1}{\\pmod{5}}.\n$$  \n\nFor $n=1$ , $A_{1}\\equiv9\\neq0$ (mod 5), hence 5 is not a common divisor. On the other hand,  \n\n$$\n{\\begin{array}{r l}&{A_{n}=8^{n}+9\\cdot9^{3n}+25\\cdot25^{3n}}\\\\ &{\\qquad\\equiv1+2\\cdot2^{3n}+4\\cdot4^{3n}}\\\\ &{\\qquad\\equiv1+2\\cdot8^{n}+4\\cdot64^{n}}\\\\ &{\\qquad\\equiv1+2\\cdot1^{n}+4\\cdot1^{n}}\\\\ &{\\qquad\\equiv0{\\pmod{7}},}\\end{array}}\n$$  \n\ntherefore 7 divides $A_{n}$ , for all integers $n\\geq0$ .  \n\nConsequently, the greatest common divisor of the numbers $A_{0}$ , $A_{1},\\dotsc$ $A_{1999}$ is equal to 7.  \n\n",
         "1.3.6."
        ],
        [
         "42",
         "42",
         "(Divisibility)->(The greatest common divisor and the least common multiple)",
         "Problem 1.3.7. Let $m\\geq2$ be an integer. A positive integer $n$ is called $m$ -good if for every positive integer $a$ , relatively prime to $n$ , one has $\\boldsymbol{n}|\\boldsymbol{a}^{m}-$ 1.  \n\nShow that any m-good number is at most $4m(2^{m}-1)$ .  \n\n(2004 Romanian IMO Team Selection Test)  \n\n",
         "Solution. If $m$ is odd then $n|(n-1)^{m}-1$ implies $n|2$ , hence $n\\leq2$ .  \n\nTake now $m=2^{t}q$ , $t\\geq1$ , $q$ odd, If $n=2^{u}(2v+1)$ is $m$ -good, then $(2v+1)|(2v-1)^{m}-1$ , hence $(2v+1)|2^{m}-1$ . Also, if $a=8v+5$ then $(a,n)=1$ , so  \n\n$$\n2^{u}|(a^{q})^{2^{t}}-1=(a^{q}-1)(a^{q}+1)(a^{2q}+1)\\dots(a^{2^{t-1}q}+1).\n$$  \n\nBut $a^{q}\\equiv5$ (mod 8) implies that the exponent of the factor 2 in the last product is $t+2$ , therefore $u\\leq t+2$ , whence $n\\leq4\\cdot2^{t}(2v+1)\\leq4m(2^{m}-1)$ .  \n\nRemark. The estimation is optimal only for $m=2$ , $m=4$ .  \n\n",
         "Problem 1.3.7. Let $m\\geq2$ be an integer. A positive integer $n$ is called $m$ -good if for every positive integer $a$ , relatively prime to $n$ , one has $\\boldsymbol{n}|\\boldsymbol{a}^{m}-$ 1.  \n\nShow that any m-good number is at most $4m(2^{m}-1)$ .  \n\n(2004 Romanian IMO Team Selection Test)  \n\nSolution. If $m$ is odd then $n|(n-1)^{m}-1$ implies $n|2$ , hence $n\\leq2$ .  \n\nTake now $m=2^{t}q$ , $t\\geq1$ , $q$ odd, If $n=2^{u}(2v+1)$ is $m$ -good, then $(2v+1)|(2v-1)^{m}-1$ , hence $(2v+1)|2^{m}-1$ . Also, if $a=8v+5$ then $(a,n)=1$ , so  \n\n$$\n2^{u}|(a^{q})^{2^{t}}-1=(a^{q}-1)(a^{q}+1)(a^{2q}+1)\\dots(a^{2^{t-1}q}+1).\n$$  \n\nBut $a^{q}\\equiv5$ (mod 8) implies that the exponent of the factor 2 in the last product is $t+2$ , therefore $u\\leq t+2$ , whence $n\\leq4\\cdot2^{t}(2v+1)\\leq4m(2^{m}-1)$ .  \n\nRemark. The estimation is optimal only for $m=2$ , $m=4$ .  \n\n",
         "1.3.7."
        ],
        [
         "43",
         "43",
         "(Divisibility)->(The greatest common divisor and the least common multiple)",
         "Problem 1.3.8. Find all triples of positive integers $(a,b,c)$ such that $a^{3}+b^{3}+c^{3}$ is divisible by $a^{2}b$ , $b^{2}c$ , and $c^{2}a$ .  \n\n(2001 Bulgarian Mathematical Olympiad)  \n\n",
         "Solution. Answer: triples of the form $(k,k,k)$ or $(k,2k,3k)$ or their permutations.  \n\nLet $g$ be the positive greatest common divisor of $a$ and $b$ . Then $g^{3}$ divides $a^{2}b$ , so $g^{3}$ divides $a^{3}+b^{3}+c^{3}$ , and $g$ divides $c$ . Thus, the gcd of any two of $a,b,c$ is the $g c d$ of all three.  \n\nLet $(l,m,n)=(a/g,b/g,c/g)$ . Then $(l,m,n)$ is a triple satisfying the conditions of the problem, and $\\iota,m,n$ are pairwise relatively prime. Because $l^{2},m^{2}$ and $n^{2}$ all divide $l^{3}+m^{3}+n^{3}$ , we have  \n\n$$\nl^{2}m^{2}n^{2}|(l^{3}+m^{3}+n^{3}).\n$$  \n\nWe will prove that $(l,m,n)$ is either (1,1,1) or a permutation of (1,2,3). Assume without loss of generality that $l\\geq m\\geq n$ . We have  \n\n$$\n3l^{3}\\ge l^{3}+m^{3}+n^{3}\\ge l^{2}m^{2}n^{2},\n$$  \n\nand, therefore, $l\\ge m^{2}n^{2}/3$ . Because $l^{2}\\vert(m^{3}+n^{3})$ , we also have  \n\n$$\n2m^{3}\\geq m^{3}+n^{3}\\geq l^{2}\\geq m^{4}n^{4}/9.\n$$  \n\nIf $n\\geq2$ , then $m\\leq2\\cdot9/2^{4}<2\\leq n$ , which contradicts the assumption that $m\\geq n$ . Therefore, $n$ must be 1. It is not difficult to see that (1,1,1) is the unique solution with $m=1$ .  \n\nIf $m\\geq2$ , then $l>m$ because $\\it{l}$ and $m$ are relatively prime, so  \n\n$$\n2l^{3}>l^{3}+m^{3}+1\\ge l^{2}m^{2},\n$$  \n\nand $l>m^{2}/2$ , so  \n\n$$\nm^{3}+1\\ge l^{2}>m^{4}/4,\n$$  \n\nand $m\\leq4$ . It is not difficult to check that the only solution here is (3,2,1).  \n\n# Proposed problems  \n\n",
         "Problem 1.3.8. Find all triples of positive integers $(a,b,c)$ such that $a^{3}+b^{3}+c^{3}$ is divisible by $a^{2}b$ , $b^{2}c$ , and $c^{2}a$ .  \n\n(2001 Bulgarian Mathematical Olympiad)  \n\nSolution. Answer: triples of the form $(k,k,k)$ or $(k,2k,3k)$ or their permutations.  \n\nLet $g$ be the positive greatest common divisor of $a$ and $b$ . Then $g^{3}$ divides $a^{2}b$ , so $g^{3}$ divides $a^{3}+b^{3}+c^{3}$ , and $g$ divides $c$ . Thus, the gcd of any two of $a,b,c$ is the $g c d$ of all three.  \n\nLet $(l,m,n)=(a/g,b/g,c/g)$ . Then $(l,m,n)$ is a triple satisfying the conditions of the problem, and $\\iota,m,n$ are pairwise relatively prime. Because $l^{2},m^{2}$ and $n^{2}$ all divide $l^{3}+m^{3}+n^{3}$ , we have  \n\n$$\nl^{2}m^{2}n^{2}|(l^{3}+m^{3}+n^{3}).\n$$  \n\nWe will prove that $(l,m,n)$ is either (1,1,1) or a permutation of (1,2,3). Assume without loss of generality that $l\\geq m\\geq n$ . We have  \n\n$$\n3l^{3}\\ge l^{3}+m^{3}+n^{3}\\ge l^{2}m^{2}n^{2},\n$$  \n\nand, therefore, $l\\ge m^{2}n^{2}/3$ . Because $l^{2}\\vert(m^{3}+n^{3})$ , we also have  \n\n$$\n2m^{3}\\geq m^{3}+n^{3}\\geq l^{2}\\geq m^{4}n^{4}/9.\n$$  \n\nIf $n\\geq2$ , then $m\\leq2\\cdot9/2^{4}<2\\leq n$ , which contradicts the assumption that $m\\geq n$ . Therefore, $n$ must be 1. It is not difficult to see that (1,1,1) is the unique solution with $m=1$ .  \n\nIf $m\\geq2$ , then $l>m$ because $\\it{l}$ and $m$ are relatively prime, so  \n\n$$\n2l^{3}>l^{3}+m^{3}+1\\ge l^{2}m^{2},\n$$  \n\nand $l>m^{2}/2$ , so  \n\n$$\nm^{3}+1\\ge l^{2}>m^{4}/4,\n$$  \n\nand $m\\leq4$ . It is not difficult to check that the only solution here is (3,2,1).  \n\n# Proposed problems  \n\n",
         "1.3.8."
        ],
        [
         "44",
         "44",
         "(Divisibility)->(The greatest common divisor and the least common multiple)",
         "Problem 1.3.9. The sequence $a_{1},a_{2},\\dotsc$ of natural numbers satisfies  \n\nProve that $a_{i}=i$ for all $i$ .  \n\n(1995 Russian Mathematical Olympiad)  \n\n",
         null,
         "Problem 1.3.9. The sequence $a_{1},a_{2},\\dotsc$ of natural numbers satisfies  \n\nProve that $a_{i}=i$ for all $i$ .  \n\n(1995 Russian Mathematical Olympiad)  \n\n",
         "1.3.9."
        ],
        [
         "45",
         "45",
         "(Divisibility)->(The greatest common divisor and the least common multiple)",
         "Problem 1.3.10. The natural numbers $a$ and $b$ are such that  \n\n$$\n{\\frac{a+1}{b}}+{\\frac{b+1}{a}}\n$$  \n\nis an integer. Show that the greatest common divisor of $a$ and $b$ is not greater than ${\\sqrt{a+b}}$ .  \n\n(1996 Spanish Mathematical Olympiad)  \n\n",
         null,
         "Problem 1.3.10. The natural numbers $a$ and $b$ are such that  \n\n$$\n{\\frac{a+1}{b}}+{\\frac{b+1}{a}}\n$$  \n\nis an integer. Show that the greatest common divisor of $a$ and $b$ is not greater than ${\\sqrt{a+b}}$ .  \n\n(1996 Spanish Mathematical Olympiad)  \n\n",
         "1.3.10."
        ],
        [
         "46",
         "46",
         "(Divisibility)->(The greatest common divisor and the least common multiple)",
         "Problem 1.3.11. The positive integers $m,n,m,n,n$ are written on a blackboard. A generalized Euclidean algorithm is applied to this quadruple as follows: if the numbers $x,y,u,v$ appear on the board and $x>y$ , then $x-y$ , $y$ , $u+v$ , $v$ are written instead; otherwise $x$ , $y-x$ , $u$ , $v+u$ are written instead. The algorithm stops when the numbers in the first pair become equal (they will equal the greatest common divisor of $m$ and $n$ ). Prove that the arithmetic mean of the numbers in the second pair at that moment equals the least common multiple of $m$ and $n$ .  \n\n(1996 St. Petersburg City Mathematical Olympiad)  \n\n",
         null,
         "Problem 1.3.11. The positive integers $m,n,m,n,n$ are written on a blackboard. A generalized Euclidean algorithm is applied to this quadruple as follows: if the numbers $x,y,u,v$ appear on the board and $x>y$ , then $x-y$ , $y$ , $u+v$ , $v$ are written instead; otherwise $x$ , $y-x$ , $u$ , $v+u$ are written instead. The algorithm stops when the numbers in the first pair become equal (they will equal the greatest common divisor of $m$ and $n$ ). Prove that the arithmetic mean of the numbers in the second pair at that moment equals the least common multiple of $m$ and $n$ .  \n\n(1996 St. Petersburg City Mathematical Olympiad)  \n\n",
         "1.3.11."
        ],
        [
         "47",
         "47",
         "(Divisibility)->(The greatest common divisor and the least common multiple)",
         "Problem 1.3.12. How many pairs $(x,y)$ of positive integers with $x\\leq y$ satisfy $g c d(x,y)=5!$ and $\\operatorname{lcm}(x,y)=50!$ ?  \n\n(1997 Canadian Mathematical Olympiad)  \n\n",
         null,
         "Problem 1.3.12. How many pairs $(x,y)$ of positive integers with $x\\leq y$ satisfy $g c d(x,y)=5!$ and $\\operatorname{lcm}(x,y)=50!$ ?  \n\n(1997 Canadian Mathematical Olympiad)  \n\n",
         "1.3.12."
        ],
        [
         "48",
         "48",
         "(Divisibility)->(The greatest common divisor and the least common multiple)",
         "Problem 1.3.13. Several positive integers are written on a blackboard. One can erase any two distinct integers and write their greatest common divisor and least common multiple instead. Prove that eventually the numbers will stop changing.  \n\n(1996 St. Petersburg City Mathematical Olympiad)  \n\n",
         null,
         "Problem 1.3.13. Several positive integers are written on a blackboard. One can erase any two distinct integers and write their greatest common divisor and least common multiple instead. Prove that eventually the numbers will stop changing.  \n\n(1996 St. Petersburg City Mathematical Olympiad)  \n\n",
         "1.3.13."
        ],
        [
         "49",
         "49",
         "(Divisibility)->(The greatest common divisor and the least common multiple)",
         "Problem 1.3.14. (a) For which positive integers $n$ do there exist positive integers $x,y$ such that  \n\n$$\n\\operatorname{lcm}(x,y)=n!,\\quad g c d(x,y)=1998?\n$$  \n\n(b) For which $n$ is the number of such pairs $x,y$ with $x\\leq y$ less than 1998?  \n\n(1998 Hungarian Mathematical Olympiad)  \n\n",
         null,
         "Problem 1.3.14. (a) For which positive integers $n$ do there exist positive integers $x,y$ such that  \n\n$$\n\\operatorname{lcm}(x,y)=n!,\\quad g c d(x,y)=1998?\n$$  \n\n(b) For which $n$ is the number of such pairs $x,y$ with $x\\leq y$ less than 1998?  \n\n(1998 Hungarian Mathematical Olympiad)  \n\n",
         "1.3.14."
        ]
       ],
       "shape": {
        "columns": 6,
        "rows": 646
       }
      },
      "text/html": [
       "<div>\n",
       "<style scoped>\n",
       "    .dataframe tbody tr th:only-of-type {\n",
       "        vertical-align: middle;\n",
       "    }\n",
       "\n",
       "    .dataframe tbody tr th {\n",
       "        vertical-align: top;\n",
       "    }\n",
       "\n",
       "    .dataframe thead th {\n",
       "        text-align: right;\n",
       "    }\n",
       "</style>\n",
       "<table border=\"1\" class=\"dataframe\">\n",
       "  <thead>\n",
       "    <tr style=\"text-align: right;\">\n",
       "      <th></th>\n",
       "      <th>Unnamed: 0</th>\n",
       "      <th>TopicMetadata</th>\n",
       "      <th>Problem</th>\n",
       "      <th>Solution</th>\n",
       "      <th>Problem&amp;Solution</th>\n",
       "      <th>Problem Book No</th>\n",
       "    </tr>\n",
       "  </thead>\n",
       "  <tbody>\n",
       "    <tr>\n",
       "      <th>0</th>\n",
       "      <td>0</td>\n",
       "      <td>(Divisibility)-&gt;(Divisibility)</td>\n",
       "      <td>Problem 1.1.1. Prove that for all integers $n$...</td>\n",
       "      <td>Solution. a) $n^{5}-5n^{3}+4n=n(n^{2}-1)(n^{2}...</td>\n",
       "      <td>Problem 1.1.1. Prove that for all integers $n$...</td>\n",
       "      <td>1.1.1.</td>\n",
       "    </tr>\n",
       "    <tr>\n",
       "      <th>1</th>\n",
       "      <td>1</td>\n",
       "      <td>(Divisibility)-&gt;(Divisibility)</td>\n",
       "      <td>Problem 1.1.2. Let $p&gt;2$ be an odd number and ...</td>\n",
       "      <td>Solution. Define $k=p^{n}$ and note that $k$ i...</td>\n",
       "      <td>Problem 1.1.2. Let $p&gt;2$ be an odd number and ...</td>\n",
       "      <td>1.1.2.</td>\n",
       "    </tr>\n",
       "    <tr>\n",
       "      <th>2</th>\n",
       "      <td>2</td>\n",
       "      <td>(Divisibility)-&gt;(Divisibility)</td>\n",
       "      <td>Problem 1.1.3. Prove that  \\n\\n$$\\n3^{4^{5}}+4...</td>\n",
       "      <td>Solution. The given number is of the form $m^{...</td>\n",
       "      <td>Problem 1.1.3. Prove that  \\n\\n$$\\n3^{4^{5}}+4...</td>\n",
       "      <td>1.1.3.</td>\n",
       "    </tr>\n",
       "    <tr>\n",
       "      <th>3</th>\n",
       "      <td>3</td>\n",
       "      <td>(Divisibility)-&gt;(Divisibility)</td>\n",
       "      <td>Problem 1.1.4. Find all positive integers $n$ ...</td>\n",
       "      <td>Solution. Let $a$ be the greatest odd integer ...</td>\n",
       "      <td>Problem 1.1.4. Find all positive integers $n$ ...</td>\n",
       "      <td>1.1.4.</td>\n",
       "    </tr>\n",
       "    <tr>\n",
       "      <th>4</th>\n",
       "      <td>4</td>\n",
       "      <td>(Divisibility)-&gt;(Divisibility)</td>\n",
       "      <td>Problem 1.1.5. Find the elements of the set  \\...</td>\n",
       "      <td>Solution. Since $\\frac{x^{3}-3x+2}{2x+1}\\in\\ma...</td>\n",
       "      <td>Problem 1.1.5. Find the elements of the set  \\...</td>\n",
       "      <td>1.1.5.</td>\n",
       "    </tr>\n",
       "    <tr>\n",
       "      <th>...</th>\n",
       "      <td>...</td>\n",
       "      <td>...</td>\n",
       "      <td>...</td>\n",
       "      <td>...</td>\n",
       "      <td>...</td>\n",
       "      <td>...</td>\n",
       "    </tr>\n",
       "    <tr>\n",
       "      <th>641</th>\n",
       "      <td>641</td>\n",
       "      <td>(Miscellaneous Problems)</td>\n",
       "      <td>Problem 11.9. Prove that every positive ration...</td>\n",
       "      <td>Solution. We firstly claim if $m,n$ are positi...</td>\n",
       "      <td>Problem 11.9. Prove that every positive ration...</td>\n",
       "      <td>11.9.</td>\n",
       "    </tr>\n",
       "    <tr>\n",
       "      <th>642</th>\n",
       "      <td>642</td>\n",
       "      <td>(Miscellaneous Problems)</td>\n",
       "      <td>Problem 11.10. Two positive integers are writt...</td>\n",
       "      <td>Solution. Call the original numbers $x$ and $y...</td>\n",
       "      <td>Problem 11.10. Two positive integers are writt...</td>\n",
       "      <td>11.10.</td>\n",
       "    </tr>\n",
       "    <tr>\n",
       "      <th>643</th>\n",
       "      <td>643</td>\n",
       "      <td>(Miscellaneous Problems)</td>\n",
       "      <td>Problem 11.11. Let $f(x)+a_{0}+a_{1}x+\\cdot\\cd...</td>\n",
       "      <td>Solution. Consider any integers $c_{1},c_{2}$ ...</td>\n",
       "      <td>Problem 11.11. Let $f(x)+a_{0}+a_{1}x+\\cdot\\cd...</td>\n",
       "      <td>11.11.</td>\n",
       "    </tr>\n",
       "    <tr>\n",
       "      <th>644</th>\n",
       "      <td>644</td>\n",
       "      <td>(Miscellaneous Problems)</td>\n",
       "      <td>Problem 11.12. Let $x,a,b$ be positive integer...</td>\n",
       "      <td>Solution. If $x=1$ , then $a=b=1$ and we are d...</td>\n",
       "      <td>Problem 11.12. Let $x,a,b$ be positive integer...</td>\n",
       "      <td>11.12.</td>\n",
       "    </tr>\n",
       "    <tr>\n",
       "      <th>645</th>\n",
       "      <td>645</td>\n",
       "      <td>(Miscellaneous Problems)</td>\n",
       "      <td>Problem 11.13. Let $m,n$ be integers with $1\\l...</td>\n",
       "      <td>Solution. Since $1978^{n}$ and $1978^{m}$ agre...</td>\n",
       "      <td>Problem 11.13. Let $m,n$ be integers with $1\\l...</td>\n",
       "      <td>11.13.</td>\n",
       "    </tr>\n",
       "  </tbody>\n",
       "</table>\n",
       "<p>646 rows × 6 columns</p>\n",
       "</div>"
      ],
      "text/plain": [
       "     Unnamed: 0                   TopicMetadata  \\\n",
       "0             0  (Divisibility)->(Divisibility)   \n",
       "1             1  (Divisibility)->(Divisibility)   \n",
       "2             2  (Divisibility)->(Divisibility)   \n",
       "3             3  (Divisibility)->(Divisibility)   \n",
       "4             4  (Divisibility)->(Divisibility)   \n",
       "..          ...                             ...   \n",
       "641         641        (Miscellaneous Problems)   \n",
       "642         642        (Miscellaneous Problems)   \n",
       "643         643        (Miscellaneous Problems)   \n",
       "644         644        (Miscellaneous Problems)   \n",
       "645         645        (Miscellaneous Problems)   \n",
       "\n",
       "                                               Problem  \\\n",
       "0    Problem 1.1.1. Prove that for all integers $n$...   \n",
       "1    Problem 1.1.2. Let $p>2$ be an odd number and ...   \n",
       "2    Problem 1.1.3. Prove that  \\n\\n$$\\n3^{4^{5}}+4...   \n",
       "3    Problem 1.1.4. Find all positive integers $n$ ...   \n",
       "4    Problem 1.1.5. Find the elements of the set  \\...   \n",
       "..                                                 ...   \n",
       "641  Problem 11.9. Prove that every positive ration...   \n",
       "642  Problem 11.10. Two positive integers are writt...   \n",
       "643  Problem 11.11. Let $f(x)+a_{0}+a_{1}x+\\cdot\\cd...   \n",
       "644  Problem 11.12. Let $x,a,b$ be positive integer...   \n",
       "645  Problem 11.13. Let $m,n$ be integers with $1\\l...   \n",
       "\n",
       "                                              Solution  \\\n",
       "0    Solution. a) $n^{5}-5n^{3}+4n=n(n^{2}-1)(n^{2}...   \n",
       "1    Solution. Define $k=p^{n}$ and note that $k$ i...   \n",
       "2    Solution. The given number is of the form $m^{...   \n",
       "3    Solution. Let $a$ be the greatest odd integer ...   \n",
       "4    Solution. Since $\\frac{x^{3}-3x+2}{2x+1}\\in\\ma...   \n",
       "..                                                 ...   \n",
       "641  Solution. We firstly claim if $m,n$ are positi...   \n",
       "642  Solution. Call the original numbers $x$ and $y...   \n",
       "643  Solution. Consider any integers $c_{1},c_{2}$ ...   \n",
       "644  Solution. If $x=1$ , then $a=b=1$ and we are d...   \n",
       "645  Solution. Since $1978^{n}$ and $1978^{m}$ agre...   \n",
       "\n",
       "                                      Problem&Solution Problem Book No  \n",
       "0    Problem 1.1.1. Prove that for all integers $n$...          1.1.1.  \n",
       "1    Problem 1.1.2. Let $p>2$ be an odd number and ...          1.1.2.  \n",
       "2    Problem 1.1.3. Prove that  \\n\\n$$\\n3^{4^{5}}+4...          1.1.3.  \n",
       "3    Problem 1.1.4. Find all positive integers $n$ ...          1.1.4.  \n",
       "4    Problem 1.1.5. Find the elements of the set  \\...          1.1.5.  \n",
       "..                                                 ...             ...  \n",
       "641  Problem 11.9. Prove that every positive ration...           11.9.  \n",
       "642  Problem 11.10. Two positive integers are writt...          11.10.  \n",
       "643  Problem 11.11. Let $f(x)+a_{0}+a_{1}x+\\cdot\\cd...          11.11.  \n",
       "644  Problem 11.12. Let $x,a,b$ be positive integer...          11.12.  \n",
       "645  Problem 11.13. Let $m,n$ be integers with $1\\l...          11.13.  \n",
       "\n",
       "[646 rows x 6 columns]"
      ]
     },
     "execution_count": 45,
     "metadata": {},
     "output_type": "execute_result"
    }
   ],
   "source": [
    "df"
   ]
  },
  {
   "cell_type": "code",
   "execution_count": 42,
   "id": "a162f418",
   "metadata": {},
   "outputs": [],
   "source": [
    "test_df = df.head(10)"
   ]
  },
  {
   "cell_type": "code",
   "execution_count": 44,
   "id": "7e017a4c",
   "metadata": {},
   "outputs": [
    {
     "data": {
      "application/vnd.microsoft.datawrangler.viewer.v0+json": {
       "columns": [
        {
         "name": "index",
         "rawType": "int64",
         "type": "integer"
        },
        {
         "name": "Unnamed: 0",
         "rawType": "int64",
         "type": "integer"
        },
        {
         "name": "TopicMetadata",
         "rawType": "object",
         "type": "string"
        },
        {
         "name": "Problem",
         "rawType": "object",
         "type": "string"
        },
        {
         "name": "Solution",
         "rawType": "object",
         "type": "unknown"
        },
        {
         "name": "Problem&Solution",
         "rawType": "object",
         "type": "string"
        },
        {
         "name": "Problem Book No",
         "rawType": "object",
         "type": "string"
        }
       ],
       "conversionMethod": "pd.DataFrame",
       "ref": "1087ae48-ac58-4dac-97c3-4194183b419f",
       "rows": [
        [
         "0",
         "0",
         "(Divisibility)->(Divisibility)",
         "Problem 1.1.1. Prove that for all integers $n$ :  \n\na) $n^{5}-5n^{3}+4n$ is divisible by 120;   \n$b$ ) $n^{2}+3n+5$ is not divisible by 121.  \n\n",
         "Solution. a) $n^{5}-5n^{3}+4n=n(n^{2}-1)(n^{2}-4)$  \n\n$$\n=n(n-1)(n+1)(n-2)(n+2).\n$$  \n\nthe product of five consecutive integers: $n-2$ , $n-1$ , $n$ , $n+1$ , $n+2$ .  \n\nIf $n\\in\\{-2,-1,0,1,2\\}$ we get $n^{5}-5n^{3}+4n=0$ and the property holds If $n\\geq3$ we can write  \n\n$$\nn^{5}-5n^{3}+4n=5!{\\binom{n+2}{5}}=120{\\binom{n+2}{5}},\n$$  \n\nand the conclusion follows.  \n\nIf $n\\leq-3$ , write $n=-m$ , where $m\\geq3$ , and obtain  \n\n$$\nn^{5}-5n^{3}+4n=-120{\\binom{m+2}{5}},\n$$  \n\nand we are done.  \n\nb) Observe that  \n\n$$\nn^{2}+3n+5=(n+7)(n-4)+33.\n$$  \n\nso that $11|n^{2}+3n+5$ if and only if $11|(n{+}7)(n{-}4)$ . Thus, if $11\\div(n+7)(n-4)$ then 11 (and hence 121) does not divide $n^{2}+3n+5$ . So, assume 11 divides $(n+7)(n-4)$ . Then $11|n+7$ or $11|n-4$ ; but then 11 must divide both of $n+7$ and $n-4$ , since $(n+7)-(n-4)=11$ . Thus, $121|(n+7)(n-4)$ . However, $121\\nmid33$ . So $121\\uparrow n^{2}+3n+5=(n+7)(n-4)+33$ . Hence, in all cases, $121\\uparrow n^{2}+3n+5$ .  \n\n",
         "Problem 1.1.1. Prove that for all integers $n$ :  \n\na) $n^{5}-5n^{3}+4n$ is divisible by 120;   \n$b$ ) $n^{2}+3n+5$ is not divisible by 121.  \n\nSolution. a) $n^{5}-5n^{3}+4n=n(n^{2}-1)(n^{2}-4)$  \n\n$$\n=n(n-1)(n+1)(n-2)(n+2).\n$$  \n\nthe product of five consecutive integers: $n-2$ , $n-1$ , $n$ , $n+1$ , $n+2$ .  \n\nIf $n\\in\\{-2,-1,0,1,2\\}$ we get $n^{5}-5n^{3}+4n=0$ and the property holds If $n\\geq3$ we can write  \n\n$$\nn^{5}-5n^{3}+4n=5!{\\binom{n+2}{5}}=120{\\binom{n+2}{5}},\n$$  \n\nand the conclusion follows.  \n\nIf $n\\leq-3$ , write $n=-m$ , where $m\\geq3$ , and obtain  \n\n$$\nn^{5}-5n^{3}+4n=-120{\\binom{m+2}{5}},\n$$  \n\nand we are done.  \n\nb) Observe that  \n\n$$\nn^{2}+3n+5=(n+7)(n-4)+33.\n$$  \n\nso that $11|n^{2}+3n+5$ if and only if $11|(n{+}7)(n{-}4)$ . Thus, if $11\\div(n+7)(n-4)$ then 11 (and hence 121) does not divide $n^{2}+3n+5$ . So, assume 11 divides $(n+7)(n-4)$ . Then $11|n+7$ or $11|n-4$ ; but then 11 must divide both of $n+7$ and $n-4$ , since $(n+7)-(n-4)=11$ . Thus, $121|(n+7)(n-4)$ . However, $121\\nmid33$ . So $121\\uparrow n^{2}+3n+5=(n+7)(n-4)+33$ . Hence, in all cases, $121\\uparrow n^{2}+3n+5$ .  \n\n",
         "1.1.1."
        ],
        [
         "1",
         "1",
         "(Divisibility)->(Divisibility)",
         "Problem 1.1.2. Let $p>2$ be an odd number and let $n$ be a positive integer. Prove that $p$ divides $1^{p^{n}}+2^{p^{n}}+\\cdot\\cdot\\cdot+(p-1)^{p^{n}}$ .  \n\n",
         "Solution. Define $k=p^{n}$ and note that $k$ is odd. Then  \n\n$$\nd^{k}+(p-d)^{k}=p[d^{k-1}-d^{k-2}(p-d)+\\cdot\\cdot\\cdot+(p-d)^{k-1}]\n$$  \n\nSumming up the equalities from $d=1$ to $d=\\frac{p-1}{2}$ implies that $p$ divides $1^{k}+2^{k}+\\cdot\\cdot\\cdot+(p-1)^{k}$ , as claimed.  \n\n",
         "Problem 1.1.2. Let $p>2$ be an odd number and let $n$ be a positive integer. Prove that $p$ divides $1^{p^{n}}+2^{p^{n}}+\\cdot\\cdot\\cdot+(p-1)^{p^{n}}$ .  \n\nSolution. Define $k=p^{n}$ and note that $k$ is odd. Then  \n\n$$\nd^{k}+(p-d)^{k}=p[d^{k-1}-d^{k-2}(p-d)+\\cdot\\cdot\\cdot+(p-d)^{k-1}]\n$$  \n\nSumming up the equalities from $d=1$ to $d=\\frac{p-1}{2}$ implies that $p$ divides $1^{k}+2^{k}+\\cdot\\cdot\\cdot+(p-1)^{k}$ , as claimed.  \n\n",
         "1.1.2."
        ],
        [
         "2",
         "2",
         "(Divisibility)->(Divisibility)",
         "Problem 1.1.3. Prove that  \n\n$$\n3^{4^{5}}+4^{5^{6}}\n$$  \n\nis a product of two integers, each of which is larger than $10^{2002}$ .  \n\n",
         "Solution. The given number is of the form $m^{4}+\\frac{1}{4}n^{4}$ , where $m=3^{4^{4}}$ and  \n\n$$\nn=4^{\\frac{5^{6}+1}{4}}=2^{\\frac{5^{6}+1}{2}}.\n$$  \n\nThe conclusion follows from the identity  \n\n$$\nm^{4}+{\\frac{n^{4}}{4}}=m^{4}+m^{2}n^{2}+{\\frac{1}{4}}n^{4}-m^{2}n^{2}=\\left(m^{2}+{\\frac{1}{2}}n^{2}\\right)^{2}-m^{2}n^{2}=\n$$  \n\n$$\n=\\left(m^{2}+m n+\\frac{1}{2}n^{2}\\right)\\left(m^{2}-m n+\\frac{1}{2}n^{2}\\right),\n$$  \n\nwhere $n$ is even so $\\frac{n^{2}}{2}$ is an integer, and from the inequalities:  \n\n$$\nm^{2}-m n+{\\frac{1}{2}}n^{2}=\\left(m-{\\frac{n}{2}}\\right)^{2}+{\\frac{n^{2}}{4}}>{\\frac{n^{2}}{4}}\n$$  \n\n$$\n=2^{5^{6}-1}>2^{10008}>(2^{4})^{2002}>10^{2002}.\n$$  \n\n",
         "Problem 1.1.3. Prove that  \n\n$$\n3^{4^{5}}+4^{5^{6}}\n$$  \n\nis a product of two integers, each of which is larger than $10^{2002}$ .  \n\nSolution. The given number is of the form $m^{4}+\\frac{1}{4}n^{4}$ , where $m=3^{4^{4}}$ and  \n\n$$\nn=4^{\\frac{5^{6}+1}{4}}=2^{\\frac{5^{6}+1}{2}}.\n$$  \n\nThe conclusion follows from the identity  \n\n$$\nm^{4}+{\\frac{n^{4}}{4}}=m^{4}+m^{2}n^{2}+{\\frac{1}{4}}n^{4}-m^{2}n^{2}=\\left(m^{2}+{\\frac{1}{2}}n^{2}\\right)^{2}-m^{2}n^{2}=\n$$  \n\n$$\n=\\left(m^{2}+m n+\\frac{1}{2}n^{2}\\right)\\left(m^{2}-m n+\\frac{1}{2}n^{2}\\right),\n$$  \n\nwhere $n$ is even so $\\frac{n^{2}}{2}$ is an integer, and from the inequalities:  \n\n$$\nm^{2}-m n+{\\frac{1}{2}}n^{2}=\\left(m-{\\frac{n}{2}}\\right)^{2}+{\\frac{n^{2}}{4}}>{\\frac{n^{2}}{4}}\n$$  \n\n$$\n=2^{5^{6}-1}>2^{10008}>(2^{4})^{2002}>10^{2002}.\n$$  \n\n",
         "1.1.3."
        ],
        [
         "3",
         "3",
         "(Divisibility)->(Divisibility)",
         "Problem 1.1.4. Find all positive integers $n$ such that for all odd integers $a$ , if $a^{2}\\leq n$ then $a|n$ .  \n\n",
         "Solution. Let $a$ be the greatest odd integer such that $a^{2}<n$ , hence $n\\leq(a+2)^{2}$ . If $a\\geq7$ , then $a-4,a-2,a$ are odd integers which divide $n$ . Note that any two of these numbers are relatively prime, so $(a-4)(a-2)a$ divides $n$ . It follows that $(a-4)(a-2)a\\leq(a+2)^{2}$ so $a^{3}-6a^{2}+8a\\leq$ $a^{2}+4a+4$ . Then $a^{3}-7a^{2}+4a-4\\leq0$ or $a^{2}(a-7)+4(a-1)\\leq0$ . This is false, because $a\\geq7$ , hence $a=1,3$ or 5.  \n\nIf $a=1$ , then $1^{2}\\leq n\\leq3^{2}$ , so $n\\in\\{1,2,\\ldots,8\\}$ .  \n\nIf $a=3$ , then $3^{2}\\leq n\\leq5^{2}$ and $1\\cdot3|n$ , so $n\\in\\{9,12,15,18,21,24\\}$  \n\nIf $a=5$ , then $5^{2}\\leq n\\leq7^{2}$ and $1\\cdot3\\cdot5|n$ so $n\\in\\{30,45\\}$ . Therefore $n\\in\\{1,2,3,4,5,6,7,8,9,12,15,18,21,24,30,45\\}$ .  \n\n",
         "Problem 1.1.4. Find all positive integers $n$ such that for all odd integers $a$ , if $a^{2}\\leq n$ then $a|n$ .  \n\nSolution. Let $a$ be the greatest odd integer such that $a^{2}<n$ , hence $n\\leq(a+2)^{2}$ . If $a\\geq7$ , then $a-4,a-2,a$ are odd integers which divide $n$ . Note that any two of these numbers are relatively prime, so $(a-4)(a-2)a$ divides $n$ . It follows that $(a-4)(a-2)a\\leq(a+2)^{2}$ so $a^{3}-6a^{2}+8a\\leq$ $a^{2}+4a+4$ . Then $a^{3}-7a^{2}+4a-4\\leq0$ or $a^{2}(a-7)+4(a-1)\\leq0$ . This is false, because $a\\geq7$ , hence $a=1,3$ or 5.  \n\nIf $a=1$ , then $1^{2}\\leq n\\leq3^{2}$ , so $n\\in\\{1,2,\\ldots,8\\}$ .  \n\nIf $a=3$ , then $3^{2}\\leq n\\leq5^{2}$ and $1\\cdot3|n$ , so $n\\in\\{9,12,15,18,21,24\\}$  \n\nIf $a=5$ , then $5^{2}\\leq n\\leq7^{2}$ and $1\\cdot3\\cdot5|n$ so $n\\in\\{30,45\\}$ . Therefore $n\\in\\{1,2,3,4,5,6,7,8,9,12,15,18,21,24,30,45\\}$ .  \n\n",
         "1.1.4."
        ],
        [
         "4",
         "4",
         "(Divisibility)->(Divisibility)",
         "Problem 1.1.5. Find the elements of the set  \n\n$$\nS=\\left\\{x\\in\\mathbb{Z}\\vert\\ {\\frac{x^{3}-3x+2}{2x+1}}\\in\\mathbb{Z}\\right\\}.\n$$  \n\n",
         "Solution. Since $\\frac{x^{3}-3x+2}{2x+1}\\in\\mathbb{Z}$ , then  \n\n$$\n{\\frac{8x^{3}-24x+16}{2x+1}}=4x^{2}-2x-11+{\\frac{27}{2x+1}}\\in\\mathbb{Z}.\n$$  \n\nIt follows that $2x+1$ divides 27, so  \n\nsince $2x+1$ is odd, ${\\frac{x^{3}-3x+2}{2x+1}}\\in\\mathbb{Z}\\Leftrightarrow{\\frac{8x^{3}-24x+16}{2x+1}}\\in\\mathbb{Z}$ , so all these are solutions.  \n\n",
         "Problem 1.1.5. Find the elements of the set  \n\n$$\nS=\\left\\{x\\in\\mathbb{Z}\\vert\\ {\\frac{x^{3}-3x+2}{2x+1}}\\in\\mathbb{Z}\\right\\}.\n$$  \n\nSolution. Since $\\frac{x^{3}-3x+2}{2x+1}\\in\\mathbb{Z}$ , then  \n\n$$\n{\\frac{8x^{3}-24x+16}{2x+1}}=4x^{2}-2x-11+{\\frac{27}{2x+1}}\\in\\mathbb{Z}.\n$$  \n\nIt follows that $2x+1$ divides 27, so  \n\nsince $2x+1$ is odd, ${\\frac{x^{3}-3x+2}{2x+1}}\\in\\mathbb{Z}\\Leftrightarrow{\\frac{8x^{3}-24x+16}{2x+1}}\\in\\mathbb{Z}$ , so all these are solutions.  \n\n",
         "1.1.5."
        ],
        [
         "5",
         "5",
         "(Divisibility)->(Divisibility)",
         "Problem 1.1.6. Find all positive integers $n$ for which the number obtained by erasing the last digit is a divisor of $n$ .  \n\n",
         "Solution. Let $b$ be the last digit of the number $n$ and let $a$ be the number obtained from $n$ by erasing the last digit $b$ . Then $n=10a+b$ . Since $a$ is a divisor of $n$ , we infer that $a$ divides $b$ . Any number $n$ that ends in $0$ is therefore a solution. If $b\\neq0$ , then $a$ is a digit and $n$ is one of the numbers 11, 12,. . . , 19, 22, 24, 26, 28, 33, 36, 39, 44, 48, 55, 56, 77, 88 or 99.  \n\n",
         "Problem 1.1.6. Find all positive integers $n$ for which the number obtained by erasing the last digit is a divisor of $n$ .  \n\nSolution. Let $b$ be the last digit of the number $n$ and let $a$ be the number obtained from $n$ by erasing the last digit $b$ . Then $n=10a+b$ . Since $a$ is a divisor of $n$ , we infer that $a$ divides $b$ . Any number $n$ that ends in $0$ is therefore a solution. If $b\\neq0$ , then $a$ is a digit and $n$ is one of the numbers 11, 12,. . . , 19, 22, 24, 26, 28, 33, 36, 39, 44, 48, 55, 56, 77, 88 or 99.  \n\n",
         "1.1.6."
        ],
        [
         "6",
         "6",
         "(Divisibility)->(Divisibility)",
         "Problem 1.1.7. Find the greatest positive integer x such that $23^{6+x}$ divides 2000!.  \n\n",
         "Solution. The number 23 is prime and divides every $23^{r d}$ number. In all, there are $\\left\\lfloor{\\frac{2000}{23}}\\right\\rfloor=86$ numbers from 1 to 2000 that are divisible by 23. Among those 86 numbers, three of them, namely 23, $2\\cdot23$ and $3\\cdot23^{2}$ are divisible by $23^{3}$ . Hence $23^{89}|2000!$ and $x=89-6=83$ .  \n\n",
         "Problem 1.1.7. Find the greatest positive integer x such that $23^{6+x}$ divides 2000!.  \n\nSolution. The number 23 is prime and divides every $23^{r d}$ number. In all, there are $\\left\\lfloor{\\frac{2000}{23}}\\right\\rfloor=86$ numbers from 1 to 2000 that are divisible by 23. Among those 86 numbers, three of them, namely 23, $2\\cdot23$ and $3\\cdot23^{2}$ are divisible by $23^{3}$ . Hence $23^{89}|2000!$ and $x=89-6=83$ .  \n\n",
         "1.1.7."
        ],
        [
         "7",
         "7",
         "(Divisibility)->(Divisibility)",
         "Problem 1.1.8. Find the positive integers n with exactly 12 divisors $1=d_{1}<d_{2}<\\dots<d_{12}=n$ such that the divisor with index $d_{4}$ (that is, $d_{d_{4}}-1)$ is $(d_{1}+d_{2}+d_{4})d_{8}$ .  \n\n(1989 Russian Mathematical Olympiad)  \n\n",
         "Solution. Of course, there is $1\\leq i\\leq12$ such that $d_{i}=d_{1}+d_{2}+d_{4}$ . Since $d_{i}>d_{4}$ , we have $i\\geq5$ . Also, observe that $d_{j}d_{13-j}=m$ for all $j$ and since $d_{i}d_{8}=d_{d_{4}-1}\\leq n$ , we must have $i\\leq5$ , thus $i=5$ and $d_{1}+d_{2}+d_{4}=d_{5}$ . Also, $d_{d_{4}-1}=d_{5}d_{8}=n=d_{12}$ , thus $d_{4}=13$ and $d_{5}=14+d_{2}$ . Of course, $d_{2}$ is the smallest prime divisor of $n$ and since $d_{4}=13$ , we can only have $d_{2}\\in\\{2,3,5,7,11\\}$ . Also, since $n$ has 12 divisors, it has at most 3 prime divisors. If $d_{2}=2$ then $d_{5}=16$ and then 4 and 8 are divisors of $n$ , smaller than $d_{4}~=~13$ , impossible. A similar argument shows that $d_{2}~=~3$ and $d_{5}=17$ . Since $n$ has 12 divisors and is a multiple of $3\\cdot13\\cdot17$ , the only possibilities are $9\\cdot13\\cdot17$ , $3\\cdot1697$ or $3\\cdot13\\cdot289$ . One can easily check that only $9\\cdot13\\cdot17=1989$ is a solution.  \n\n",
         "Problem 1.1.8. Find the positive integers n with exactly 12 divisors $1=d_{1}<d_{2}<\\dots<d_{12}=n$ such that the divisor with index $d_{4}$ (that is, $d_{d_{4}}-1)$ is $(d_{1}+d_{2}+d_{4})d_{8}$ .  \n\n(1989 Russian Mathematical Olympiad)  \n\nSolution. Of course, there is $1\\leq i\\leq12$ such that $d_{i}=d_{1}+d_{2}+d_{4}$ . Since $d_{i}>d_{4}$ , we have $i\\geq5$ . Also, observe that $d_{j}d_{13-j}=m$ for all $j$ and since $d_{i}d_{8}=d_{d_{4}-1}\\leq n$ , we must have $i\\leq5$ , thus $i=5$ and $d_{1}+d_{2}+d_{4}=d_{5}$ . Also, $d_{d_{4}-1}=d_{5}d_{8}=n=d_{12}$ , thus $d_{4}=13$ and $d_{5}=14+d_{2}$ . Of course, $d_{2}$ is the smallest prime divisor of $n$ and since $d_{4}=13$ , we can only have $d_{2}\\in\\{2,3,5,7,11\\}$ . Also, since $n$ has 12 divisors, it has at most 3 prime divisors. If $d_{2}=2$ then $d_{5}=16$ and then 4 and 8 are divisors of $n$ , smaller than $d_{4}~=~13$ , impossible. A similar argument shows that $d_{2}~=~3$ and $d_{5}=17$ . Since $n$ has 12 divisors and is a multiple of $3\\cdot13\\cdot17$ , the only possibilities are $9\\cdot13\\cdot17$ , $3\\cdot1697$ or $3\\cdot13\\cdot289$ . One can easily check that only $9\\cdot13\\cdot17=1989$ is a solution.  \n\n",
         "1.1.8."
        ],
        [
         "8",
         "8",
         "(Divisibility)->(Divisibility)",
         "Problem 1.1.9. Let n be a positive integer. Show that any number greater than $n^{4}/16$ can be written in at most one way as the product of two of its divisors having difference not exceeding $n$ .  \n\n# (1998 St. Petersburg City Mathematical Olympiad)  \n\nFirst ",
         "Solution. Suppose, on the contrary, that there exist $a>c\\geq d>b$ with $a-b\\leq n$ and $a b=c d>n^{4}/16$ . Put $p=a+b$ , $q=a-b$ , $r=c+d$ , $s=c-d$ . Now  \n\n$$\np^{2}-q^{2}=4a b=4c d=r^{2}-s^{2}>n^{4}/4.\n$$  \n\nThus $p^{2}-r^{2}=q^{2}-s^{2}\\leq q^{2}\\leq n^{2}$ . But $r^{2}>n^{4}/4$ (so $r>n^{2}/2$ ) and $p>r$ , so  \n\n$$\np^{2}-r^{2}>(n^{2}/2+1)^{2}-(n^{2}/2)^{2}\\geq n^{2}+1,\n$$  \n\na contradiction.  \n\nSecond solution. Again, suppose that $a b=c d>n^{4}/16$ , with $a>c,d$ ！ and $n\\geq a-b$ . If we let $\\boldsymbol{p}=g c d(\\boldsymbol{a},\\boldsymbol{c})$ , we can find positive integers $p,q,r,s$ such that $a=p q$ , $b=r s$ , $c=p r$ , $d=q s$ . Then $a>c\\Rightarrow q>r$ and $a>d\\Rightarrow p>s$ , so that  \n\n$$\n\\begin{array}{l}{n\\geq p q-r s}\\\\ {\\ \\geq(s+1)(r+1)-r s}\\\\ {\\ =r+s+1}\\\\ {\\ \\geq2\\sqrt{b}+1.}\\end{array}\n$$  \n\nThus $b\\ \\leq\\ \\left({\\frac{n-1}{2}}\\right)^{2}\\ <\\ n^{2}/4$ , and $a\\leq{\\bigg(}{\\frac{n-1}{2}}{\\bigg)}^{2}+n={\\bigg(}{\\frac{n+1}{2}}{\\bigg)}^{2}.$ Therefore $a b\\leq\\left(\\frac{n^{2}-1}{4}\\right)^{2}<n^{4}/16$ , a contradiction.  \n\n# Proposed problems  \n\n",
         "Problem 1.1.9. Let n be a positive integer. Show that any number greater than $n^{4}/16$ can be written in at most one way as the product of two of its divisors having difference not exceeding $n$ .  \n\n# (1998 St. Petersburg City Mathematical Olympiad)  \n\nFirst Solution. Suppose, on the contrary, that there exist $a>c\\geq d>b$ with $a-b\\leq n$ and $a b=c d>n^{4}/16$ . Put $p=a+b$ , $q=a-b$ , $r=c+d$ , $s=c-d$ . Now  \n\n$$\np^{2}-q^{2}=4a b=4c d=r^{2}-s^{2}>n^{4}/4.\n$$  \n\nThus $p^{2}-r^{2}=q^{2}-s^{2}\\leq q^{2}\\leq n^{2}$ . But $r^{2}>n^{4}/4$ (so $r>n^{2}/2$ ) and $p>r$ , so  \n\n$$\np^{2}-r^{2}>(n^{2}/2+1)^{2}-(n^{2}/2)^{2}\\geq n^{2}+1,\n$$  \n\na contradiction.  \n\nSecond solution. Again, suppose that $a b=c d>n^{4}/16$ , with $a>c,d$ ！ and $n\\geq a-b$ . If we let $\\boldsymbol{p}=g c d(\\boldsymbol{a},\\boldsymbol{c})$ , we can find positive integers $p,q,r,s$ such that $a=p q$ , $b=r s$ , $c=p r$ , $d=q s$ . Then $a>c\\Rightarrow q>r$ and $a>d\\Rightarrow p>s$ , so that  \n\n$$\n\\begin{array}{l}{n\\geq p q-r s}\\\\ {\\ \\geq(s+1)(r+1)-r s}\\\\ {\\ =r+s+1}\\\\ {\\ \\geq2\\sqrt{b}+1.}\\end{array}\n$$  \n\nThus $b\\ \\leq\\ \\left({\\frac{n-1}{2}}\\right)^{2}\\ <\\ n^{2}/4$ , and $a\\leq{\\bigg(}{\\frac{n-1}{2}}{\\bigg)}^{2}+n={\\bigg(}{\\frac{n+1}{2}}{\\bigg)}^{2}.$ Therefore $a b\\leq\\left(\\frac{n^{2}-1}{4}\\right)^{2}<n^{4}/16$ , a contradiction.  \n\n# Proposed problems  \n\n",
         "1.1.9."
        ],
        [
         "9",
         "9",
         "(Divisibility)->(Divisibility)",
         "Problem 1.1.10. Show that for any natural number $n$ , between $n^{2}$ and $(n+1)^{2}$ one can find three distinct natural numbers $a,b,c$ such that $a^{2}+b^{2}$ is divisible by $c$ .  \n\n(1998 St. Petersburg City Mathematical Olympiad)  \n\n",
         null,
         "Problem 1.1.10. Show that for any natural number $n$ , between $n^{2}$ and $(n+1)^{2}$ one can find three distinct natural numbers $a,b,c$ such that $a^{2}+b^{2}$ is divisible by $c$ .  \n\n(1998 St. Petersburg City Mathematical Olympiad)  \n\n",
         "1.1.10."
        ]
       ],
       "shape": {
        "columns": 6,
        "rows": 10
       }
      },
      "text/html": [
       "<div>\n",
       "<style scoped>\n",
       "    .dataframe tbody tr th:only-of-type {\n",
       "        vertical-align: middle;\n",
       "    }\n",
       "\n",
       "    .dataframe tbody tr th {\n",
       "        vertical-align: top;\n",
       "    }\n",
       "\n",
       "    .dataframe thead th {\n",
       "        text-align: right;\n",
       "    }\n",
       "</style>\n",
       "<table border=\"1\" class=\"dataframe\">\n",
       "  <thead>\n",
       "    <tr style=\"text-align: right;\">\n",
       "      <th></th>\n",
       "      <th>Unnamed: 0</th>\n",
       "      <th>TopicMetadata</th>\n",
       "      <th>Problem</th>\n",
       "      <th>Solution</th>\n",
       "      <th>Problem&amp;Solution</th>\n",
       "      <th>Problem Book No</th>\n",
       "    </tr>\n",
       "  </thead>\n",
       "  <tbody>\n",
       "    <tr>\n",
       "      <th>0</th>\n",
       "      <td>0</td>\n",
       "      <td>(Divisibility)-&gt;(Divisibility)</td>\n",
       "      <td>Problem 1.1.1. Prove that for all integers $n$...</td>\n",
       "      <td>Solution. a) $n^{5}-5n^{3}+4n=n(n^{2}-1)(n^{2}...</td>\n",
       "      <td>Problem 1.1.1. Prove that for all integers $n$...</td>\n",
       "      <td>1.1.1.</td>\n",
       "    </tr>\n",
       "    <tr>\n",
       "      <th>1</th>\n",
       "      <td>1</td>\n",
       "      <td>(Divisibility)-&gt;(Divisibility)</td>\n",
       "      <td>Problem 1.1.2. Let $p&gt;2$ be an odd number and ...</td>\n",
       "      <td>Solution. Define $k=p^{n}$ and note that $k$ i...</td>\n",
       "      <td>Problem 1.1.2. Let $p&gt;2$ be an odd number and ...</td>\n",
       "      <td>1.1.2.</td>\n",
       "    </tr>\n",
       "    <tr>\n",
       "      <th>2</th>\n",
       "      <td>2</td>\n",
       "      <td>(Divisibility)-&gt;(Divisibility)</td>\n",
       "      <td>Problem 1.1.3. Prove that  \\n\\n$$\\n3^{4^{5}}+4...</td>\n",
       "      <td>Solution. The given number is of the form $m^{...</td>\n",
       "      <td>Problem 1.1.3. Prove that  \\n\\n$$\\n3^{4^{5}}+4...</td>\n",
       "      <td>1.1.3.</td>\n",
       "    </tr>\n",
       "    <tr>\n",
       "      <th>3</th>\n",
       "      <td>3</td>\n",
       "      <td>(Divisibility)-&gt;(Divisibility)</td>\n",
       "      <td>Problem 1.1.4. Find all positive integers $n$ ...</td>\n",
       "      <td>Solution. Let $a$ be the greatest odd integer ...</td>\n",
       "      <td>Problem 1.1.4. Find all positive integers $n$ ...</td>\n",
       "      <td>1.1.4.</td>\n",
       "    </tr>\n",
       "    <tr>\n",
       "      <th>4</th>\n",
       "      <td>4</td>\n",
       "      <td>(Divisibility)-&gt;(Divisibility)</td>\n",
       "      <td>Problem 1.1.5. Find the elements of the set  \\...</td>\n",
       "      <td>Solution. Since $\\frac{x^{3}-3x+2}{2x+1}\\in\\ma...</td>\n",
       "      <td>Problem 1.1.5. Find the elements of the set  \\...</td>\n",
       "      <td>1.1.5.</td>\n",
       "    </tr>\n",
       "    <tr>\n",
       "      <th>5</th>\n",
       "      <td>5</td>\n",
       "      <td>(Divisibility)-&gt;(Divisibility)</td>\n",
       "      <td>Problem 1.1.6. Find all positive integers $n$ ...</td>\n",
       "      <td>Solution. Let $b$ be the last digit of the num...</td>\n",
       "      <td>Problem 1.1.6. Find all positive integers $n$ ...</td>\n",
       "      <td>1.1.6.</td>\n",
       "    </tr>\n",
       "    <tr>\n",
       "      <th>6</th>\n",
       "      <td>6</td>\n",
       "      <td>(Divisibility)-&gt;(Divisibility)</td>\n",
       "      <td>Problem 1.1.7. Find the greatest positive inte...</td>\n",
       "      <td>Solution. The number 23 is prime and divides e...</td>\n",
       "      <td>Problem 1.1.7. Find the greatest positive inte...</td>\n",
       "      <td>1.1.7.</td>\n",
       "    </tr>\n",
       "    <tr>\n",
       "      <th>7</th>\n",
       "      <td>7</td>\n",
       "      <td>(Divisibility)-&gt;(Divisibility)</td>\n",
       "      <td>Problem 1.1.8. Find the positive integers n wi...</td>\n",
       "      <td>Solution. Of course, there is $1\\leq i\\leq12$ ...</td>\n",
       "      <td>Problem 1.1.8. Find the positive integers n wi...</td>\n",
       "      <td>1.1.8.</td>\n",
       "    </tr>\n",
       "    <tr>\n",
       "      <th>8</th>\n",
       "      <td>8</td>\n",
       "      <td>(Divisibility)-&gt;(Divisibility)</td>\n",
       "      <td>Problem 1.1.9. Let n be a positive integer. Sh...</td>\n",
       "      <td>Solution. Suppose, on the contrary, that there...</td>\n",
       "      <td>Problem 1.1.9. Let n be a positive integer. Sh...</td>\n",
       "      <td>1.1.9.</td>\n",
       "    </tr>\n",
       "    <tr>\n",
       "      <th>9</th>\n",
       "      <td>9</td>\n",
       "      <td>(Divisibility)-&gt;(Divisibility)</td>\n",
       "      <td>Problem 1.1.10. Show that for any natural numb...</td>\n",
       "      <td>NaN</td>\n",
       "      <td>Problem 1.1.10. Show that for any natural numb...</td>\n",
       "      <td>1.1.10.</td>\n",
       "    </tr>\n",
       "  </tbody>\n",
       "</table>\n",
       "</div>"
      ],
      "text/plain": [
       "   Unnamed: 0                   TopicMetadata  \\\n",
       "0           0  (Divisibility)->(Divisibility)   \n",
       "1           1  (Divisibility)->(Divisibility)   \n",
       "2           2  (Divisibility)->(Divisibility)   \n",
       "3           3  (Divisibility)->(Divisibility)   \n",
       "4           4  (Divisibility)->(Divisibility)   \n",
       "5           5  (Divisibility)->(Divisibility)   \n",
       "6           6  (Divisibility)->(Divisibility)   \n",
       "7           7  (Divisibility)->(Divisibility)   \n",
       "8           8  (Divisibility)->(Divisibility)   \n",
       "9           9  (Divisibility)->(Divisibility)   \n",
       "\n",
       "                                             Problem  \\\n",
       "0  Problem 1.1.1. Prove that for all integers $n$...   \n",
       "1  Problem 1.1.2. Let $p>2$ be an odd number and ...   \n",
       "2  Problem 1.1.3. Prove that  \\n\\n$$\\n3^{4^{5}}+4...   \n",
       "3  Problem 1.1.4. Find all positive integers $n$ ...   \n",
       "4  Problem 1.1.5. Find the elements of the set  \\...   \n",
       "5  Problem 1.1.6. Find all positive integers $n$ ...   \n",
       "6  Problem 1.1.7. Find the greatest positive inte...   \n",
       "7  Problem 1.1.8. Find the positive integers n wi...   \n",
       "8  Problem 1.1.9. Let n be a positive integer. Sh...   \n",
       "9  Problem 1.1.10. Show that for any natural numb...   \n",
       "\n",
       "                                            Solution  \\\n",
       "0  Solution. a) $n^{5}-5n^{3}+4n=n(n^{2}-1)(n^{2}...   \n",
       "1  Solution. Define $k=p^{n}$ and note that $k$ i...   \n",
       "2  Solution. The given number is of the form $m^{...   \n",
       "3  Solution. Let $a$ be the greatest odd integer ...   \n",
       "4  Solution. Since $\\frac{x^{3}-3x+2}{2x+1}\\in\\ma...   \n",
       "5  Solution. Let $b$ be the last digit of the num...   \n",
       "6  Solution. The number 23 is prime and divides e...   \n",
       "7  Solution. Of course, there is $1\\leq i\\leq12$ ...   \n",
       "8  Solution. Suppose, on the contrary, that there...   \n",
       "9                                                NaN   \n",
       "\n",
       "                                    Problem&Solution Problem Book No  \n",
       "0  Problem 1.1.1. Prove that for all integers $n$...          1.1.1.  \n",
       "1  Problem 1.1.2. Let $p>2$ be an odd number and ...          1.1.2.  \n",
       "2  Problem 1.1.3. Prove that  \\n\\n$$\\n3^{4^{5}}+4...          1.1.3.  \n",
       "3  Problem 1.1.4. Find all positive integers $n$ ...          1.1.4.  \n",
       "4  Problem 1.1.5. Find the elements of the set  \\...          1.1.5.  \n",
       "5  Problem 1.1.6. Find all positive integers $n$ ...          1.1.6.  \n",
       "6  Problem 1.1.7. Find the greatest positive inte...          1.1.7.  \n",
       "7  Problem 1.1.8. Find the positive integers n wi...          1.1.8.  \n",
       "8  Problem 1.1.9. Let n be a positive integer. Sh...          1.1.9.  \n",
       "9  Problem 1.1.10. Show that for any natural numb...         1.1.10.  "
      ]
     },
     "execution_count": 44,
     "metadata": {},
     "output_type": "execute_result"
    }
   ],
   "source": [
    "test_df"
   ]
  },
  {
   "cell_type": "code",
   "execution_count": 43,
   "id": "0c6b6160",
   "metadata": {},
   "outputs": [
    {
     "name": "stdout",
     "output_type": "stream",
     "text": [
      "Warning: indice 16 out of range 16\n",
      "Warning: indice 17 out of range 16\n",
      "Warning: indice 18 out of range 16\n",
      "Warning: indice 19 out of range 16\n",
      "Warning: indice 20 out of range 16\n",
      "Warning: indice 21 out of range 16\n",
      "Warning: indice 22 out of range 16\n",
      "Warning: indice 23 out of range 16\n"
     ]
    },
    {
     "ename": "TypeError",
     "evalue": "'float' object is not iterable",
     "output_type": "error",
     "traceback": [
      "\u001b[1;31m---------------------------------------------------------------------------\u001b[0m",
      "\u001b[1;31mTypeError\u001b[0m                                 Traceback (most recent call last)",
      "Cell \u001b[1;32mIn[43], line 1\u001b[0m\n\u001b[1;32m----> 1\u001b[0m test_df[[\u001b[38;5;124m\"\u001b[39m\u001b[38;5;124mChunks\u001b[39m\u001b[38;5;124m\"\u001b[39m, \u001b[38;5;124m\"\u001b[39m\u001b[38;5;124mRelatedChunks\u001b[39m\u001b[38;5;124m\"\u001b[39m]] \u001b[38;5;241m=\u001b[39m \u001b[43mtest_df\u001b[49m\u001b[38;5;241;43m.\u001b[39;49m\u001b[43mapply\u001b[49m\u001b[43m(\u001b[49m\u001b[43mrelated_chunks\u001b[49m\u001b[43m,\u001b[49m\u001b[43m \u001b[49m\u001b[43maxis\u001b[49m\u001b[38;5;241;43m=\u001b[39;49m\u001b[38;5;241;43m1\u001b[39;49m\u001b[43m)\u001b[49m\n",
      "File \u001b[1;32mc:\\Users\\mokrota\\Documents\\GitHub\\math_problem_recommender\\math_problem_recommender\\.venv\\Lib\\site-packages\\pandas\\core\\frame.py:10374\u001b[0m, in \u001b[0;36mDataFrame.apply\u001b[1;34m(self, func, axis, raw, result_type, args, by_row, engine, engine_kwargs, **kwargs)\u001b[0m\n\u001b[0;32m  10360\u001b[0m \u001b[38;5;28;01mfrom\u001b[39;00m \u001b[38;5;21;01mpandas\u001b[39;00m\u001b[38;5;21;01m.\u001b[39;00m\u001b[38;5;21;01mcore\u001b[39;00m\u001b[38;5;21;01m.\u001b[39;00m\u001b[38;5;21;01mapply\u001b[39;00m \u001b[38;5;28;01mimport\u001b[39;00m frame_apply\n\u001b[0;32m  10362\u001b[0m op \u001b[38;5;241m=\u001b[39m frame_apply(\n\u001b[0;32m  10363\u001b[0m     \u001b[38;5;28mself\u001b[39m,\n\u001b[0;32m  10364\u001b[0m     func\u001b[38;5;241m=\u001b[39mfunc,\n\u001b[1;32m   (...)\u001b[0m\n\u001b[0;32m  10372\u001b[0m     kwargs\u001b[38;5;241m=\u001b[39mkwargs,\n\u001b[0;32m  10373\u001b[0m )\n\u001b[1;32m> 10374\u001b[0m \u001b[38;5;28;01mreturn\u001b[39;00m \u001b[43mop\u001b[49m\u001b[38;5;241;43m.\u001b[39;49m\u001b[43mapply\u001b[49m\u001b[43m(\u001b[49m\u001b[43m)\u001b[49m\u001b[38;5;241m.\u001b[39m__finalize__(\u001b[38;5;28mself\u001b[39m, method\u001b[38;5;241m=\u001b[39m\u001b[38;5;124m\"\u001b[39m\u001b[38;5;124mapply\u001b[39m\u001b[38;5;124m\"\u001b[39m)\n",
      "File \u001b[1;32mc:\\Users\\mokrota\\Documents\\GitHub\\math_problem_recommender\\math_problem_recommender\\.venv\\Lib\\site-packages\\pandas\\core\\apply.py:916\u001b[0m, in \u001b[0;36mFrameApply.apply\u001b[1;34m(self)\u001b[0m\n\u001b[0;32m    913\u001b[0m \u001b[38;5;28;01melif\u001b[39;00m \u001b[38;5;28mself\u001b[39m\u001b[38;5;241m.\u001b[39mraw:\n\u001b[0;32m    914\u001b[0m     \u001b[38;5;28;01mreturn\u001b[39;00m \u001b[38;5;28mself\u001b[39m\u001b[38;5;241m.\u001b[39mapply_raw(engine\u001b[38;5;241m=\u001b[39m\u001b[38;5;28mself\u001b[39m\u001b[38;5;241m.\u001b[39mengine, engine_kwargs\u001b[38;5;241m=\u001b[39m\u001b[38;5;28mself\u001b[39m\u001b[38;5;241m.\u001b[39mengine_kwargs)\n\u001b[1;32m--> 916\u001b[0m \u001b[38;5;28;01mreturn\u001b[39;00m \u001b[38;5;28;43mself\u001b[39;49m\u001b[38;5;241;43m.\u001b[39;49m\u001b[43mapply_standard\u001b[49m\u001b[43m(\u001b[49m\u001b[43m)\u001b[49m\n",
      "File \u001b[1;32mc:\\Users\\mokrota\\Documents\\GitHub\\math_problem_recommender\\math_problem_recommender\\.venv\\Lib\\site-packages\\pandas\\core\\apply.py:1063\u001b[0m, in \u001b[0;36mFrameApply.apply_standard\u001b[1;34m(self)\u001b[0m\n\u001b[0;32m   1061\u001b[0m \u001b[38;5;28;01mdef\u001b[39;00m \u001b[38;5;21mapply_standard\u001b[39m(\u001b[38;5;28mself\u001b[39m):\n\u001b[0;32m   1062\u001b[0m     \u001b[38;5;28;01mif\u001b[39;00m \u001b[38;5;28mself\u001b[39m\u001b[38;5;241m.\u001b[39mengine \u001b[38;5;241m==\u001b[39m \u001b[38;5;124m\"\u001b[39m\u001b[38;5;124mpython\u001b[39m\u001b[38;5;124m\"\u001b[39m:\n\u001b[1;32m-> 1063\u001b[0m         results, res_index \u001b[38;5;241m=\u001b[39m \u001b[38;5;28;43mself\u001b[39;49m\u001b[38;5;241;43m.\u001b[39;49m\u001b[43mapply_series_generator\u001b[49m\u001b[43m(\u001b[49m\u001b[43m)\u001b[49m\n\u001b[0;32m   1064\u001b[0m     \u001b[38;5;28;01melse\u001b[39;00m:\n\u001b[0;32m   1065\u001b[0m         results, res_index \u001b[38;5;241m=\u001b[39m \u001b[38;5;28mself\u001b[39m\u001b[38;5;241m.\u001b[39mapply_series_numba()\n",
      "File \u001b[1;32mc:\\Users\\mokrota\\Documents\\GitHub\\math_problem_recommender\\math_problem_recommender\\.venv\\Lib\\site-packages\\pandas\\core\\apply.py:1081\u001b[0m, in \u001b[0;36mFrameApply.apply_series_generator\u001b[1;34m(self)\u001b[0m\n\u001b[0;32m   1078\u001b[0m \u001b[38;5;28;01mwith\u001b[39;00m option_context(\u001b[38;5;124m\"\u001b[39m\u001b[38;5;124mmode.chained_assignment\u001b[39m\u001b[38;5;124m\"\u001b[39m, \u001b[38;5;28;01mNone\u001b[39;00m):\n\u001b[0;32m   1079\u001b[0m     \u001b[38;5;28;01mfor\u001b[39;00m i, v \u001b[38;5;129;01min\u001b[39;00m \u001b[38;5;28menumerate\u001b[39m(series_gen):\n\u001b[0;32m   1080\u001b[0m         \u001b[38;5;66;03m# ignore SettingWithCopy here in case the user mutates\u001b[39;00m\n\u001b[1;32m-> 1081\u001b[0m         results[i] \u001b[38;5;241m=\u001b[39m \u001b[38;5;28;43mself\u001b[39;49m\u001b[38;5;241;43m.\u001b[39;49m\u001b[43mfunc\u001b[49m\u001b[43m(\u001b[49m\u001b[43mv\u001b[49m\u001b[43m,\u001b[49m\u001b[43m \u001b[49m\u001b[38;5;241;43m*\u001b[39;49m\u001b[38;5;28;43mself\u001b[39;49m\u001b[38;5;241;43m.\u001b[39;49m\u001b[43margs\u001b[49m\u001b[43m,\u001b[49m\u001b[43m \u001b[49m\u001b[38;5;241;43m*\u001b[39;49m\u001b[38;5;241;43m*\u001b[39;49m\u001b[38;5;28;43mself\u001b[39;49m\u001b[38;5;241;43m.\u001b[39;49m\u001b[43mkwargs\u001b[49m\u001b[43m)\u001b[49m\n\u001b[0;32m   1082\u001b[0m         \u001b[38;5;28;01mif\u001b[39;00m \u001b[38;5;28misinstance\u001b[39m(results[i], ABCSeries):\n\u001b[0;32m   1083\u001b[0m             \u001b[38;5;66;03m# If we have a view on v, we need to make a copy because\u001b[39;00m\n\u001b[0;32m   1084\u001b[0m             \u001b[38;5;66;03m#  series_generator will swap out the underlying data\u001b[39;00m\n\u001b[0;32m   1085\u001b[0m             results[i] \u001b[38;5;241m=\u001b[39m results[i]\u001b[38;5;241m.\u001b[39mcopy(deep\u001b[38;5;241m=\u001b[39m\u001b[38;5;28;01mFalse\u001b[39;00m)\n",
      "Cell \u001b[1;32mIn[41], line 11\u001b[0m, in \u001b[0;36mrelated_chunks\u001b[1;34m(row)\u001b[0m\n\u001b[0;32m      9\u001b[0m topic \u001b[38;5;241m=\u001b[39m row[\u001b[38;5;124m'\u001b[39m\u001b[38;5;124mTopicMetadata\u001b[39m\u001b[38;5;124m'\u001b[39m]\n\u001b[0;32m     10\u001b[0m solution \u001b[38;5;241m=\u001b[39m row[\u001b[38;5;124m'\u001b[39m\u001b[38;5;124mSolution\u001b[39m\u001b[38;5;124m'\u001b[39m]\n\u001b[1;32m---> 11\u001b[0m chunks \u001b[38;5;241m=\u001b[39m \u001b[43mchunk_text\u001b[49m\u001b[43m(\u001b[49m\u001b[43msolution\u001b[49m\u001b[43m)\u001b[49m\n\u001b[0;32m     13\u001b[0m completion \u001b[38;5;241m=\u001b[39m client\u001b[38;5;241m.\u001b[39mchat\u001b[38;5;241m.\u001b[39mcompletions\u001b[38;5;241m.\u001b[39mcreate(\n\u001b[0;32m     14\u001b[0m     model\u001b[38;5;241m=\u001b[39m\u001b[38;5;124m\"\u001b[39m\u001b[38;5;124mdeepseek-r1-distill-llama-70b\u001b[39m\u001b[38;5;124m\"\u001b[39m,\n\u001b[0;32m     15\u001b[0m     messages\u001b[38;5;241m=\u001b[39m[\n\u001b[1;32m   (...)\u001b[0m\n\u001b[0;32m     20\u001b[0m     ]\n\u001b[0;32m     21\u001b[0m )\n\u001b[0;32m     23\u001b[0m chunk_pattern \u001b[38;5;241m=\u001b[39m \u001b[38;5;124mr\u001b[39m\u001b[38;5;124m\"\u001b[39m\u001b[38;5;124m\\\u001b[39m\u001b[38;5;124m[(\u001b[39m\u001b[38;5;124m\\\u001b[39m\u001b[38;5;124ms*\u001b[39m\u001b[38;5;124m\\\u001b[39m\u001b[38;5;124md+\u001b[39m\u001b[38;5;124m\\\u001b[39m\u001b[38;5;124ms*,?)*\u001b[39m\u001b[38;5;124m\\\u001b[39m\u001b[38;5;124m]\u001b[39m\u001b[38;5;124m\"\u001b[39m\n",
      "Cell \u001b[1;32mIn[26], line 5\u001b[0m, in \u001b[0;36mchunk_text\u001b[1;34m(text)\u001b[0m\n\u001b[0;32m      4\u001b[0m \u001b[38;5;28;01mdef\u001b[39;00m \u001b[38;5;21mchunk_text\u001b[39m(text):\n\u001b[1;32m----> 5\u001b[0m     chunks \u001b[38;5;241m=\u001b[39m \u001b[43mchunker\u001b[49m\u001b[43m(\u001b[49m\u001b[43mtext\u001b[49m\u001b[43m,\u001b[49m\u001b[43m \u001b[49m\u001b[43moverlap\u001b[49m\u001b[38;5;241;43m=\u001b[39;49m\u001b[38;5;241;43m0.4\u001b[39;49m\u001b[43m)\u001b[49m\n\u001b[0;32m      6\u001b[0m     \u001b[38;5;28;01mreturn\u001b[39;00m chunks\n",
      "File \u001b[1;32mc:\\Users\\mokrota\\Documents\\GitHub\\math_problem_recommender\\math_problem_recommender\\.venv\\Lib\\site-packages\\semchunk\\semchunk.py:373\u001b[0m, in \u001b[0;36mChunker.__call__\u001b[1;34m(self, text_or_texts, processes, progress, offsets, overlap)\u001b[0m\n\u001b[0;32m    370\u001b[0m     text_or_texts \u001b[38;5;241m=\u001b[39m tqdm(text_or_texts)\n\u001b[0;32m    372\u001b[0m \u001b[38;5;28;01mif\u001b[39;00m processes \u001b[38;5;241m==\u001b[39m \u001b[38;5;241m1\u001b[39m:\n\u001b[1;32m--> 373\u001b[0m     chunks_and_offsets \u001b[38;5;241m=\u001b[39m [chunk_function(text) \u001b[38;5;28;01mfor\u001b[39;00m text \u001b[38;5;129;01min\u001b[39;00m text_or_texts]\n\u001b[0;32m    375\u001b[0m \u001b[38;5;28;01melse\u001b[39;00m:\n\u001b[0;32m    376\u001b[0m     \u001b[38;5;28;01mwith\u001b[39;00m mpire\u001b[38;5;241m.\u001b[39mWorkerPool(processes, use_dill\u001b[38;5;241m=\u001b[39m\u001b[38;5;28;01mTrue\u001b[39;00m) \u001b[38;5;28;01mas\u001b[39;00m pool:\n",
      "\u001b[1;31mTypeError\u001b[0m: 'float' object is not iterable"
     ]
    }
   ],
   "source": [
    "test_df[[\"Chunks\", \"RelatedChunks\"]] = test_df.apply(related_chunks, axis=1)"
   ]
  },
  {
   "cell_type": "code",
   "execution_count": null,
   "id": "725d0c65",
   "metadata": {},
   "outputs": [],
   "source": [
    "\n",
    "for topic, solution in zip(topics, solutions):\n"
   ]
  }
 ],
 "metadata": {
  "kernelspec": {
   "display_name": ".venv",
   "language": "python",
   "name": "python3"
  },
  "language_info": {
   "codemirror_mode": {
    "name": "ipython",
    "version": 3
   },
   "file_extension": ".py",
   "mimetype": "text/x-python",
   "name": "python",
   "nbconvert_exporter": "python",
   "pygments_lexer": "ipython3",
   "version": "3.12.10"
  }
 },
 "nbformat": 4,
 "nbformat_minor": 5
}
