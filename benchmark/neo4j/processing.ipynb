{
 "cells": [
  {
   "cell_type": "markdown",
   "id": "6c1726f8",
   "metadata": {},
   "source": [
    "## Labeling guideline:"
   ]
  },
  {
   "cell_type": "markdown",
   "id": "e04279ba",
   "metadata": {},
   "source": [
    "### Rate based on how many concepts/facts were used by both problems"
   ]
  }
 ],
 "metadata": {
  "language_info": {
   "name": "python"
  }
 },
 "nbformat": 4,
 "nbformat_minor": 5
}
