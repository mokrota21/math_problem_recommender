{
 "cells": [
  {
   "cell_type": "code",
   "execution_count": 1,
   "id": "bd644b92",
   "metadata": {},
   "outputs": [],
   "source": [
    "from ranking import rank\n",
    "from ranking import compute_similarity_chunking_cls as compute_similarity # Using chunking"
   ]
  },
  {
   "cell_type": "code",
   "execution_count": 2,
   "id": "b9f41bf1",
   "metadata": {},
   "outputs": [],
   "source": [
    "models = [\"tbs17/MathBERT\", \"allenai/scibert_scivocab_uncased\", \"math-similarity/Bert-MLM_arXiv-MP-class_zbMath\", \"allenai/longformer-base-4096\"]"
   ]
  },
  {
   "cell_type": "code",
   "execution_count": 3,
   "id": "f3ccf00d",
   "metadata": {},
   "outputs": [],
   "source": [
    "import pandas as pd\n",
    "\n",
    "problemset_df = pd.read_csv(\"C:\\\\Users\\\\mokrota\\\\Documents\\\\GitHub\\\\math_problem_recommender\\\\math_problem_recommender\\\\benchmark\\\\benchmarkv3\\\\df.csv\")\n",
    "qa_df = pd.read_csv(\"C:\\\\Users\\\\mokrota\\\\Documents\\\\GitHub\\\\math_problem_recommender\\\\math_problem_recommender\\\\benchmark\\\\benchmarkv3\\\\q&a.csv\")"
   ]
  },
  {
   "cell_type": "code",
   "execution_count": 4,
   "id": "e65c3e10",
   "metadata": {},
   "outputs": [
    {
     "data": {
      "application/vnd.microsoft.datawrangler.viewer.v0+json": {
       "columns": [
        {
         "name": "index",
         "rawType": "int64",
         "type": "integer"
        },
        {
         "name": "Anchor",
         "rawType": "int64",
         "type": "integer"
        },
        {
         "name": "Golden",
         "rawType": "int64",
         "type": "integer"
        },
        {
         "name": "Silver",
         "rawType": "int64",
         "type": "integer"
        },
        {
         "name": "Wrong",
         "rawType": "int64",
         "type": "integer"
        },
        {
         "name": "Query",
         "rawType": "float64",
         "type": "float"
        },
        {
         "name": "query",
         "rawType": "object",
         "type": "string"
        }
       ],
       "conversionMethod": "pd.DataFrame",
       "ref": "be1bd5c9-36e4-4d1c-b4ba-07a9769ea390",
       "rows": [
        [
         "0",
         "431",
         "439",
         "475",
         "592",
         null,
         "Find problems that use divisibility to limit number of options."
        ],
        [
         "1",
         "468",
         "467",
         "63",
         "614",
         null,
         "Find problems that explicitly use idea of all modulo remaineders being available"
        ],
        [
         "2",
         "194",
         "196",
         "537",
         "100",
         null,
         "Find problems that explore pigeonhole principle"
        ],
        [
         "3",
         "66",
         "64",
         "451",
         "145",
         null,
         "Find problems that involve calculating answer using residues modulo different numbers"
        ],
        [
         "4",
         "150",
         "152",
         "161",
         "517",
         null,
         "Find problems where we have to solve floor function equation by extracting integer part"
        ],
        [
         "5",
         "42",
         "39",
         "440",
         "598",
         null,
         "Find problems that practice divisibility together with gcd."
        ],
        [
         "6",
         "228",
         "542",
         "233",
         "373",
         null,
         "Find calculative problems where we need to use number of divisors."
        ]
       ],
       "shape": {
        "columns": 6,
        "rows": 7
       }
      },
      "text/html": [
       "<div>\n",
       "<style scoped>\n",
       "    .dataframe tbody tr th:only-of-type {\n",
       "        vertical-align: middle;\n",
       "    }\n",
       "\n",
       "    .dataframe tbody tr th {\n",
       "        vertical-align: top;\n",
       "    }\n",
       "\n",
       "    .dataframe thead th {\n",
       "        text-align: right;\n",
       "    }\n",
       "</style>\n",
       "<table border=\"1\" class=\"dataframe\">\n",
       "  <thead>\n",
       "    <tr style=\"text-align: right;\">\n",
       "      <th></th>\n",
       "      <th>Anchor</th>\n",
       "      <th>Golden</th>\n",
       "      <th>Silver</th>\n",
       "      <th>Wrong</th>\n",
       "      <th>Query</th>\n",
       "      <th>query</th>\n",
       "    </tr>\n",
       "  </thead>\n",
       "  <tbody>\n",
       "    <tr>\n",
       "      <th>0</th>\n",
       "      <td>431</td>\n",
       "      <td>439</td>\n",
       "      <td>475</td>\n",
       "      <td>592</td>\n",
       "      <td>NaN</td>\n",
       "      <td>Find problems that use divisibility to limit n...</td>\n",
       "    </tr>\n",
       "    <tr>\n",
       "      <th>1</th>\n",
       "      <td>468</td>\n",
       "      <td>467</td>\n",
       "      <td>63</td>\n",
       "      <td>614</td>\n",
       "      <td>NaN</td>\n",
       "      <td>Find problems that explicitly use idea of all ...</td>\n",
       "    </tr>\n",
       "    <tr>\n",
       "      <th>2</th>\n",
       "      <td>194</td>\n",
       "      <td>196</td>\n",
       "      <td>537</td>\n",
       "      <td>100</td>\n",
       "      <td>NaN</td>\n",
       "      <td>Find problems that explore pigeonhole principle</td>\n",
       "    </tr>\n",
       "    <tr>\n",
       "      <th>3</th>\n",
       "      <td>66</td>\n",
       "      <td>64</td>\n",
       "      <td>451</td>\n",
       "      <td>145</td>\n",
       "      <td>NaN</td>\n",
       "      <td>Find problems that involve calculating answer ...</td>\n",
       "    </tr>\n",
       "    <tr>\n",
       "      <th>4</th>\n",
       "      <td>150</td>\n",
       "      <td>152</td>\n",
       "      <td>161</td>\n",
       "      <td>517</td>\n",
       "      <td>NaN</td>\n",
       "      <td>Find problems where we have to solve floor fun...</td>\n",
       "    </tr>\n",
       "    <tr>\n",
       "      <th>5</th>\n",
       "      <td>42</td>\n",
       "      <td>39</td>\n",
       "      <td>440</td>\n",
       "      <td>598</td>\n",
       "      <td>NaN</td>\n",
       "      <td>Find problems that practice divisibility toget...</td>\n",
       "    </tr>\n",
       "    <tr>\n",
       "      <th>6</th>\n",
       "      <td>228</td>\n",
       "      <td>542</td>\n",
       "      <td>233</td>\n",
       "      <td>373</td>\n",
       "      <td>NaN</td>\n",
       "      <td>Find calculative problems where we need to use...</td>\n",
       "    </tr>\n",
       "  </tbody>\n",
       "</table>\n",
       "</div>"
      ],
      "text/plain": [
       "   Anchor  Golden  Silver  Wrong  Query  \\\n",
       "0     431     439     475    592    NaN   \n",
       "1     468     467      63    614    NaN   \n",
       "2     194     196     537    100    NaN   \n",
       "3      66      64     451    145    NaN   \n",
       "4     150     152     161    517    NaN   \n",
       "5      42      39     440    598    NaN   \n",
       "6     228     542     233    373    NaN   \n",
       "\n",
       "                                               query  \n",
       "0  Find problems that use divisibility to limit n...  \n",
       "1  Find problems that explicitly use idea of all ...  \n",
       "2    Find problems that explore pigeonhole principle  \n",
       "3  Find problems that involve calculating answer ...  \n",
       "4  Find problems where we have to solve floor fun...  \n",
       "5  Find problems that practice divisibility toget...  \n",
       "6  Find calculative problems where we need to use...  "
      ]
     },
     "execution_count": 4,
     "metadata": {},
     "output_type": "execute_result"
    }
   ],
   "source": [
    "qa_df"
   ]
  },
  {
   "cell_type": "code",
   "execution_count": 5,
   "id": "aa91ad35",
   "metadata": {},
   "outputs": [],
   "source": [
    "def parse_text(row):\n",
    "    names = [\"Anchor\", \"Golden\", \"Silver\", \"Wrong\"]\n",
    "    texts = {}\n",
    "\n",
    "    for name in names:\n",
    "        id_name = row[name]\n",
    "        t = problemset_df[problemset_df['id'] == id_name]['Problem&Solution'].iloc[0]\n",
    "        texts[name] = t\n",
    "\n",
    "    return texts"
   ]
  },
  {
   "cell_type": "code",
   "execution_count": 6,
   "id": "94bee888",
   "metadata": {},
   "outputs": [],
   "source": [
    "qa_df['Problem&Solution'] = qa_df.apply(parse_text, axis=1)"
   ]
  },
  {
   "cell_type": "code",
   "execution_count": 7,
   "id": "042880c0",
   "metadata": {},
   "outputs": [
    {
     "data": {
      "application/vnd.microsoft.datawrangler.viewer.v0+json": {
       "columns": [
        {
         "name": "index",
         "rawType": "int64",
         "type": "integer"
        },
        {
         "name": "Anchor",
         "rawType": "int64",
         "type": "integer"
        },
        {
         "name": "Golden",
         "rawType": "int64",
         "type": "integer"
        },
        {
         "name": "Silver",
         "rawType": "int64",
         "type": "integer"
        },
        {
         "name": "Wrong",
         "rawType": "int64",
         "type": "integer"
        },
        {
         "name": "Query",
         "rawType": "float64",
         "type": "float"
        },
        {
         "name": "query",
         "rawType": "object",
         "type": "string"
        },
        {
         "name": "Problem&Solution",
         "rawType": "object",
         "type": "unknown"
        }
       ],
       "conversionMethod": "pd.DataFrame",
       "ref": "f66bf4cd-7b10-4dac-b738-97bf903985c4",
       "rows": [
        [
         "0",
         "431",
         "439",
         "475",
         "592",
         null,
         "Find problems that use divisibility to limit number of options.",
         "{'Anchor': 'Problem. Find all odd positive integers n greater than 1 such that for any relatively prime divisors a and $b$ of $n$ , the number $a+b-1$ is also a divisor of $n$ .  \\n\\n(2001 Russian Mathematical Olympiad)  \\n\\nSolution. We will call a number ”good” if it satisfies the given conditions. It is not difficult to see that all prime powers are good. Suppose $n$ is a good number that has at least two distinct prime factors. Let $n=p^{r}s$ , where $p$ is the smallest prime dividing $n$ and $s$ is not divisible by $p$ . Because $n$ is good, $p+s-1$ must divide $n$ . For any prime $q$ dividing $s$ , $s<p+s-1<s+q$ , so $q$ does not divide $p+s-1$ . Therefore, the only prime factor of $p+s-1$ is $p$ . Then $s=p^{c}-p+1$ for some $c>1$ . Because $p^{c}$ must also divide $n$ , $p^{c}+s-1=2p^{c}-p$ divides $n$ . Because $2p^{c-1}-1$ has no factors of $p$ , it must divide $s$ . But a simple computation shows that $\\\\frac{p-1}{2}<\\\\frac{p^{c}-p+1}{2p^{c-1}-1}<\\\\frac{p+1}{2}$ , therefore $2p^{c-1}-1$ cannot divide $s$ .  \\n\\n', 'Golden': 'Problem. Find the smallest positive integer $K$ such that every $K$ -element subset of $\\\\{1,2,\\\\ldots,50\\\\}$ contains two distinct elements $a,b$ such that $a+b$ divides ab.  \\n\\n(1996 Chinese Mathematical Olympiad)  \\n\\nSolution. The minimal value is $k=39$ . Suppose $a,b\\\\in S$ are such that $a+b$ divides $a b$ . Let $c=g c d(a,b)$ , and put $a=c a_{1}$ , $b=c b_{1}$ , so that $a_{1}$ and $b_{1}$ are relatively prime. Then $c(a_{1}+b_{1})$ divides $c^{2}a_{1}b_{1}$ , so $a_{1}+b_{1}$ divides $c a_{1}b_{1}$ . Since $a_{1}$ and $b_{1}$ have no common factor, neither do $a_{1}$ and $a_{1}+b_{1}$ , or $b_{1}$ and $a_{1}+b_{1}$ . In short, $a_{1}+b_{1}$ divides $c$ .  \\n\\nSince $S\\\\subseteq\\\\{1,\\\\dots,50\\\\}$ , we have $a+b\\\\leq99$ , so $c(a_{1}+b_{1})\\\\leq99$ , which implies $a_{1}+b_{1}\\\\leq9$ ; on the other hand, of course $a_{1}+b_{1}\\\\geq3$ . An exhaustive search produces 23 pairs $a,b$ satisfying the condition:  \\n\\n$$\\n\\\\begin{array}{c c c}{{a_{1}+b_{1}=3}}&{{(6,3),(12,6),(18,9),(24,12),}}&{{}}\\\\\\\\ {{}}&{{}}&{{}}\\\\\\\\ {{a_{1}+b_{1}=4}}&{{(12,4),(24,8),(42,21),(48,24)}}&{{}}\\\\\\\\ {{a_{1}+b_{1}=4}}&{{(12,4),(24,8),(36,12),(48,16)}}&{{}}\\\\\\\\ {{a_{1}+b_{1}=5}}&{{(20,5),(40,10),(15,10),(30,20),(45,30)}}&{{}}\\\\\\\\ {{a_{1}+b_{1}=6}}&{{(30,6)}}&{{(30,6)}}&{{}}\\\\\\\\ {{a_{1}+b_{1}=7}}&{{}}&{{(42,7),(35,14),(28,21)}}&{{}}\\\\\\\\ {{a_{1}+b_{1}=8}}&{{}}&{{(40,24)}}&{{}}\\\\\\\\ {{a_{1}+b_{1}=9}}&{{}}&{{(45,36)}}&{{}}\\\\end{array}\\n$$  \\n', 'Silver': 'Problem. Let  \\n\\n$$\\n\\\\prod_{n=1}^{1996}(1+n x^{3^{n}})=1+a_{1}x^{k_{1}}+a_{2}x^{k_{2}}+\\\\cdot\\\\cdot\\\\cdot+a_{m}x^{k_{m}},\\n$$  \\n\\nwhere $a_{1},a_{2},\\\\ldots,a_{m}$ are nonzero and $k_{1}<k_{2}<\\\\dots<k_{m}$ , Find $a_{1996}$ .  \\n\\n(1996 Turkish Mathematical Olympiad)  \\n\\nSolution. Note that $k_{i}$ is the number obtained by writing $i$ in base 2 and reading the result as a number in base 3, and $a_{i}$ is the sum of the exponents of the powers of 3 used. In particular, $1996=2^{10}+2^{9}+2^{8}+2^{7}+2^{6}+2^{3}+2^{2}$ , so  \\n\\n$$\\na_{1996}=10+9+8+7+6+3+2=45.\\n$$  \\n\\n', 'Wrong': 'Problem. Prove that there are no positive integers x and y such that  \\n\\n$$\\nx^{5}+y^{5}+1=(x+2)^{5}+(y-3)^{5}.\\n$$  \\n\\nSolution. Notice that $z^{5}\\\\equiv z$ (mod 10), hence $x+y+1\\\\equiv(x+2)+(y-3)$ (mod 10), impossible.  \\n\\n'}"
        ],
        [
         "1",
         "468",
         "467",
         "63",
         "614",
         null,
         "Find problems that explicitly use idea of all modulo remaineders being available",
         "{'Anchor': \"Problem. For any positive integer set $\\\\{a_{1},a_{2},\\\\ldots,a_{n}\\\\}$ there exists a positive integer b such that the set $\\\\{b a_{1},b a_{2},\\\\ldots,b a_{n}\\\\}$ consists of perfect powers.  \\n\\nSolution. There is a finite number of primes $p_{1},p_{2},\\\\ldots,p_{k}$ that participate in the prime factorization of $a_{1},a_{2},\\\\ldots,a_{n}$ . Let  \\n\\n$$\\na_{i}=p_{1}^{\\\\alpha_{i1}}p_{2}^{\\\\alpha_{i2}}\\\\dots p_{k}^{\\\\alpha_{i k}}{\\\\mathrm{~for~}}i=1,2,\\\\dots,n;\\n$$  \\n\\nsome of the exponents $\\\\alpha_{i j}$ may be zeros. A positive integer with prime factorization $p_{1}^{u_{1}}p_{2}^{u_{2}}\\\\ldots p_{k}^{u_{k}}$ is a perfect $q$ -th power if and only if all the exponents $u_{j}$ are divisible by $q$ . Thus it suffices to find positive integers $q_{1},q_{2},\\\\ldots,q_{n}$ greater than $^{1}$ , and nonnegative integers $l_{1},l_{2},\\\\ldots,l_{k}$ such that  \\n\\nNow it is clear that we have lots of choices; let, for example, $q_{i}$ be the $i$ -th prime number. As far as $l_{1}$ is concerned, the above conditions translate into  \\n\\n$$\\nl_{1}\\\\equiv-\\\\alpha_{j1}{\\\\pmod{q_{j}}},j=1,2,\\\\ldots,n.\\n$$  \\n\\nThis system of simultaneous congruences has a solution by the Chinese Remainder Theorem, because $q_{1},q_{2},\\\\ldots,q_{n}$ are pairwise relatively prime. Analogously, each of the systems of congruences  \\n\\n$$\\nl_{2}\\\\equiv-\\\\alpha_{j2}{\\\\pmod{q_{j}}},j=1,2,\\\\ldots,n\\n$$  \\n\\n$$\\n\\\\begin{array}{l}{{l_{3}\\\\equiv-\\\\alpha_{j3}\\\\pmod{q_{j}},\\\\quad j=1,2,\\\\ldots,n}}\\\\\\\\ {{\\\\ }}\\\\\\\\ {{\\\\qquad\\\\cdot\\\\ \\\\dots}}\\\\\\\\ {{\\\\ }{l_{k}\\\\equiv-\\\\alpha_{j k}\\\\pmod{q_{j}},\\\\quad j=1,2,\\\\ldots,n}}\\\\end{array}\\n$$  \\n\\nis solvable by the same reason. Take $l_{1},l_{2},\\\\ldots,l_{k}$ such that all these congruences are satisfied. Multiplying each $a_{i}$ by $b=p_{1}^{l_{1}}p_{2}^{l_{2}}\\\\cdot\\\\cdot\\\\cdot p_{k}^{l_{k}}$ yields a set $\\\\{b a_{1},b a_{2},\\\\ldots,b a_{n}\\\\}$ consisting of perfect powers (more exactly, $b a_{i}$ is a perfect $q_{i}$ -th power).  \\n\\nRemarks. 1) The following problem is a direct consequence of the above result:  \\n\\nProve that for every positive integer n there exists a set of $n$ positive integers such that the sum of the elements of each of its nonempty subsets is a perfect power.  \\n\\n(Korean proposal for the $33^{r d}$ IMO)  \\n\\nIndeed, let $\\\\{x_{1},x_{2},\\\\ldots,x_{m}\\\\}$ be a finite set of positive integers and $S_{1},S_{2},\\\\ldots,S_{r}$ the element sums of its nonempty subsets $\\\\mathit{\\\\Pi}^{'}r\\\\ =\\\\ 2^{m}-1$ ). Choose a $b$ so that $b S_{1},b S_{2},\\\\ldots,b S_{r}$ are all perfect powers. Then the set $\\\\{b x_{1},b x_{2},\\\\dots,b x_{m}\\\\}$ yields the desired example.  \\n\\n2) Another consequence is the following: There are arithmetic progressions of arbitrary finite length consisting only of powers. Yet, no such infinite progression exists.  \\n\", 'Golden': 'Problem. Let $P(x)$ be a polynomial with integer coefficients. Suppose that the integers $a_{1},a_{2},\\\\ldots,a_{n}$ have the following property: For any integer $x$ there exists an $i\\\\in\\\\{1,2,\\\\ldots,n\\\\}$ such that $P(x)$ is divisible by $a_{i}$ . Prove that there is an $i_{0}\\\\in\\\\{1,2,\\\\dots,n\\\\}$ such that $a_{i_{0}}$ divides $P(x)$ for any integer $x$ .  \\n\\n(St. Petersburg City Mathematical Olympiad)  \\n\\nSolution. Suppose that the claim is false. Then for each $i=1,2,\\\\ldots,n$ there exists an integer $x_{i}$ such that $P(x_{i})$ is not divisible by $a_{i}$ . Hence, there is a prime power $p_{i}^{k_{i}}$ that divides $a_{i}$ and does not divide $P(x_{i})$ . Some of the powers $p_{1}^{k_{1}},p_{2}^{k_{2}},\\\\ldots,p_{n}^{k_{n}}$ may have the same base. If so, ignore all but the one with the least exponent. To simplify notation, assume that the sequence obtained this way is p1k , p2k , . . $p_{1}^{k_{1}},p_{2}^{k_{2}},\\\\ldots,p_{m}^{k_{m}}$ , $m\\\\leq n$ $(p_{1},p_{2},\\\\ldots,p_{m}$ are distinct primes). Note that each $a_{i}$ is divisible by some term of this sequence.  \\n\\nSince $p_{1}^{k_{1}},p_{2}^{k_{2}},\\\\ldots,p_{m}^{k_{m}}$ are pairwise relatively prime, the Chinese Remainder Theorem yields a solution of the simultaneous congruences  \\n\\n$$\\nx\\\\equiv x_{1}{\\\\pmod{p_{1}^{k_{1}}}},x\\\\equiv x_{2}{\\\\pmod{p_{2}^{k_{2}}}},\\\\dots,x\\\\equiv x_{m}{\\\\pmod{p_{m}^{k_{m}}}}.\\n$$  \\n\\nNow, since $P(x)$ is a polynomial with integer coefficients, the congruence $x\\\\equiv x_{j}$ (mod $p_{j}^{k_{j}}$ ) implies $P(x)\\\\equiv P(x_{j})$ (mod $p_{j}^{k_{j}}$ ) for each index $j=$ 1, 2, . . . , m. By the definition of pjk , the number P (xj) is never divisible by $p_{j}^{k_{j}}$ , $j=1,2,\\\\dots,m$ . Thus, for the solution $x$ given by the Chinese Remainder Theorem, $P(x)$ is not divisible by any of the powers $p_{j}^{k_{j}}$ . And because each $a_{i}$ is divisible by some $p_{j}^{k_{j}}$ kj , $j=1,2,\\\\dots,m$ , it follows that no $a_{i}$ divides $P(x)$ either, a contradiction.  \\n\\n', 'Silver': 'Problem. Find all nonnegative integers m such that $(2^{2m+1})^{2}+1$ is divisible by at most two different primes.  \\n\\n(2002 Baltic Mathematics Competition)  \\n\\nSolution. We claim $m=0,1,2$ are the only such integers. It is easy to check that these values of $m$ satisfy the requirement. Suppose some $m\\\\geq3$ works. Write  \\n\\n$$\\n\\\\begin{array}{c}{{(2^{2m+1})^{2}+1=(2^{2m+1}+1)^{2}-2\\\\cdot2^{2m+1}}}\\\\\\\\ {{=(2^{2m+1}+2^{m+1}+1)(2^{2m+1}-2^{m+1}+1).}}\\\\end{array}\\n$$  \\n\\nThe two factors are both odd, and their difference is $2^{m+2}$ ; hence, they are relatively prime. It follows that each is a prime power. We also know that $(2^{2m+1})^{2}=4^{2m+1}\\\\equiv-1$ (mod 5), so one of the factors $2^{2m+1}\\\\pm2^{m+1}+1$ must be a power of 5. Let $2^{2m+1}+2^{m+1}s+1=5^{k}$ , where $s=\\\\pm1$ is the appropriate sign.  \\n\\nTaking the above equation modulo 8, and using the assumption $m\\\\geq3$ , we obtain $5^{k}\\\\equiv1$ (mod 8), so that $k$ is even. Writing $k=2l$ , we have  \\n\\n$$\\n2^{m+1}(2^{m}+s)=(5^{l}-1)(5^{l}+1).\\n$$  \\n\\nThe factor $5^{l}+1\\\\equiv2$ (mod 4), so $5^{l}-1=2^{m}a$ for some odd integer $a$ . But if $a=1$ , then  \\n\\n$$\\n2=(5^{l}+1)-(5^{l}-1)=2(2^{m}+s)-2^{m}=2^{m}+2s\\\\geq2^{3}-2_{\\\\cdot}\\n$$  \\n\\na contradiction, whereas if $a\\\\geq3$ , then $5^{l}-1\\\\ge3{\\\\cdot}2^{m}$ while $5^{l}+1\\\\le2(2^{m}+s)$ , another contradiction.  \\n\\n', 'Wrong': 'Problem. Let $b,c$ be positive integers, and define the sequence $a_{1},a_{2},\\\\dotsc$ . by $a_{1}=b$ , $a_{2}=c$ , and  \\n\\n$$\\na_{n+2}=|3a_{n+1}-2a_{n}|\\n$$  \\n\\nfor $n\\\\geq1$ . Find all such $(b,c)$ for which the sequence $u_{1},u_{2},\\\\ldots,$ . has only a finite number of composite terms.  \\n\\n(2002 Bulgarian Mathematical Olympiad)  \\n\\nSolution. The only solutions are $(p,p)$ for $p$ not composite, $(2p,p)$ for $p$ not composite, and $(7,4)$ .  \\n\\nThe sequence $a_{1},a_{2},\\\\dotsc$ cannot be strictly decreasing because each $\\\\boldsymbol{a}_{n}$ is a positive integer, so there exists a smallest $k\\\\geq1$ such that $a_{k+1}\\\\geq a_{k}$ . Define a new sequence $b_{1},b_{2},\\\\ldots$ by $b_{n}=a_{n+k-1}$ , so $b_{2}\\\\geq b_{1}$ , $b_{n+2}=|3b_{n+1}-2b_{n}|$ for $n\\\\geq1$ , and $b_{1},b_{2},\\\\ldots$ has only a finite number of composite terms. Now, if $b_{n+1}\\\\geq b_{n}$ ,  \\n\\n$$\\nb_{n+2}=\\\\left|3b_{n+1}-2b_{n}\\\\right|=3b_{n+1}-2b_{n}=b_{n+1}+2(b_{n+1}-b_{n})\\\\geq b_{n+1},\\n$$  \\n\\nso by induction $b_{n+2}=3b_{n+1}-2b_{n}$ for $n\\\\geq1$ .  \\n\\nUsing the general theory of linear recurrence relations (a simple induction proof also suffices), we have  \\n\\n$$\\nb_{n}=A\\\\cdot2^{n-1}+B\\n$$  \\n\\nfor $n\\\\geq1$ , where $A=b_{2}-b_{1}$ , $B=2b_{1}-b_{2}$ . Suppose (for contradiction) that $A\\\\neq0$ . Then $b_{n}$ is an increasing sequence, and, since it contains only finitely many composite terms, $b_{n}\\\\ =\\\\ p$ for some prime $p>2$ and some $n\\\\geq1$ . However, then $b_{n+l(p-1)}$ is divisible by $p$ and thus composite for $l\\\\geq1$ , because  \\n\\n$$\\nb_{n+l(p-1)}=A\\\\cdot2^{n-1}\\\\cdot2^{l(p-1)}+B\\\\equiv A\\\\cdot2^{n-1}+b\\\\equiv0{\\\\pmod{p}}\\n$$  \\n\\nby Fermat’s Little Theorem. This is a contradiction, so $A=0$ and $b_{n}=b_{1}$ for $n\\\\geq1$ . Therefore $b_{1}$ is not composite; let $b_{1}=p$ , where $p=1$ or $p$ is prime.  \\n\\nWe now return to the sequence $a_{1},a_{2},\\\\dotsb$ , and consider different possible values of $k$ . If $k=1$ , we have $a_{1}=b_{1}=b_{2}=a_{2}=p$ , so $b=c=p$ for $p$ not composite are the only solutions. If $k>1$ , consider that $a_{k-1}>a_{k}$ by the choice of $k$ , but $a_{k+1}=|3a_{k}-2a_{k-1}|$ , and $a_{k+1}=b_{2}=b_{1}=a_{k}$ , so $a_{k+1}=2a_{k-1}-3a_{k}$ , and thus $a_{k-1}=2p$ . For $k=2$ , this means that $b=2p$ , $c=p$ for $p$ not composite are the only solutions. If $k>2$ , the same approach yields  \\n\\n$$\\n\\\\displaystyle a_{k-2}=\\\\frac{3a_{k-1}+a_{k}}{2}=\\\\frac{7}{2}p,\\n$$  \\n\\nso $p=2$ . For $k=3$ , this gives the solution $b=7$ , $c=4$ , and because $\\\\frac{3\\\\cdot7+4}{2}$ is not an integer, there are no solutions for $k>3$ .  \\n\\nRemark. The reader may try to prove the following more general statement: Let $f~\\\\in~\\\\mathbb{Z}[X_{1},\\\\ldots,X_{k}]$ be a polynomial and $F(n)\\\\ =$ $f(n,2^{n},3^{n},\\\\ldots,(k-1)^{n})$ , $n\\\\geq1$ . If $\\\\operatorname*{lim}_{n\\\\to\\\\infty}F(n)=\\\\infty$ , then the set of primes dividing terms of sequence $(F(n))_{n\\\\geq1}$ is infinite.  \\n'}"
        ],
        [
         "2",
         "194",
         "196",
         "537",
         "100",
         null,
         "Find problems that explore pigeonhole principle",
         "{'Anchor': 'Problem. Prove that among any integers $a_{1},a_{2},\\\\ldots,a_{n}$ , there are some whose sum is a multiple of $n$ .  \\n\\nSolution. Let $s_{1}~=~a_{1}$ , $s_{2}=a_{1}+a_{2},...$ , $s_{n}=a_{1}+a_{2}+\\\\cdot\\\\cdot\\\\cdot+a_{n}$ . If at least one of the integers $s_{1},s_{2},\\\\ldots,s_{n}$ is divisible by $n$ , then we are done. If not, there are $n-1$ possible remainders when $s_{1},s_{2},\\\\ldots,s_{n}$ are divided by $n$ . It follows that $s_{i}\\\\equiv s_{j}$ (mod $n$ ) for some $i$ and $j$ , $i<j$ . Then $s_{j}-s_{i}=a_{i+1}+\\\\cdot\\\\cdot\\\\cdot+a_{j}$ is a multiple of $n$ (see also Example 1) above).  \\n\\n', 'Golden': 'Problem. Prove that from any set of 117 pairwise distinct threedigit numbers, it is possible to select 4 pairwise disjoint subsets such that the sums of the numbers in each subset are equal.  \\n\\n(2001 Russian Mathematical Olympiad)  \\n\\nSolution. We examine subsets of exactly two numbers. Clearly, if two distinct subsets have the same sum, they must be disjoint. The number of two-element subsets is ${\\\\binom{117}{2}}=6786$ . Furthermore, the lowest attainable sum is $100+101=201$ , while the highest sum is $998+999=1997$ , for a maximum of 1797 different sums. By the Pigeonhole Principle and the fact that $1797\\\\cdot3+1=5392<6786$ , we see that there are 4 two-element subsets with the required property.  \\n\\n# Proposed problems  \\n\\n', 'Silver': 'Problem. Find all primes $p$ for which there exist positive integers $x,y$ and n such that $p^{n}=x^{3}+y^{3}$ .  \\n\\n(2000 Hungarian Mathematical Olympiad)  \\n\\nSolution. Observe $2^{1}=1^{3}+1^{3}$ and $3^{2}=2^{3}+1^{3}$ . We will prove that the only answers are $p=2$ or $p=3$ . Assume, by contradiction that there exists $p\\\\geq5$ such that $p^{n}=x^{3}+y^{3}$ with $x,y,n$ positive integers and $n$ of the smallest possible value. Hence at least one of $x$ and $y$ is greater than 1. We have $x^{3}+y^{3}=(x+y)(x^{2}-x y+y^{2})$ with $x+y\\\\ge3$ and $x^{2}-x y+y^{2}=(x-y)^{2}+x y\\\\ge2$ . It follows that both $x+y$ and $x^{2}-x y+y^{2}$ are divisible by $p$ . Therefore $(x+y)^{2}-(x^{2}-x y+y^{2})=3x y$ is also divisible by $p$ . However, 3 is not divisible by $p$ , so at least one of $x$ or $y$ must be divisible by $p$ . As $x+y$ is divisible by $p$ , both $x$ and $y$ are divisible by $p$ . Then $x^{3}+y^{3}\\\\ge2p^{3}$ and necessarily $n>3$ . We obtain  \\n\\n$$\\np^{n-3}={\\\\frac{p^{n}}{p^{3}}}={\\\\frac{x^{3}}{p^{3}}}+{\\\\frac{y^{3}}{p^{3}}}=\\\\left({\\\\frac{x}{p}}\\\\right)^{3}+\\\\left({\\\\frac{y}{p}}\\\\right)^{3},\\n$$  \\n\\nand this contradicts the minimality of $n$ (see the remark after FMID Variant 1).  \\n', 'Wrong': 'Problem. Find all integers n such that $n-50$ and $n+50$ are both perfect squares.  \\n\\nSolution. Let $n-50=a^{2}$ and $n+50=b^{2}$ . Then $b^{2}-a^{2}=100$ , so $(b-a)(b+a)=2^{2}\\\\cdot5^{2}$ . Because $b-a$ and $b+a$ are distinct and of the same parity, the only possibility is $b-a=2$ and $b+a=50$ , yielding $b=26$ and $a=24$ . Hence there is only one $n$ with this property, namely $n=626$ .  \\n\\n'}"
        ],
        [
         "3",
         "66",
         "64",
         "451",
         "145",
         null,
         "Find problems that involve calculating answer using residues modulo different numbers",
         "{'Anchor': 'Problem. Find the smallest positive integer which can be written both as (i) a sum of 2002 positive integers (not necessarily distinct), each of which has the same sum of digits and (ii) as a sum of 2003 positive integers (not necessarily distinct), each of which has the same sum of digits.  \\n\\n(2002 Russian Mathematical Olympiad)  \\n\\nSolution. The answer is 10010. First observe that this is indeed a solution: $10010=2002{\\\\cdot}5=1781{\\\\cdot}4+222{\\\\cdot}13$ , so we may express 10010 as the sum of 2002 fives or of 1781 fours and 222 thirteens, where $1781+222=2003$ . To prove minimality, observe that a number is congruent modulo 9 to the sum of its digits, so two positive integers with the same digit sum are in the same residue class modulo 9. Let $k_{1}$ be the digit sum of the 2002 numbers and $k_{2}$ the digit sum of the 2003 numbers. Then $4k_{1}\\\\equiv2002k_{1}\\\\equiv2003k_{2}\\\\equiv5k_{2}$ (mod 9). If $k_{1}\\\\geq5$ , the sum of the 2002 numbers is at least 10010; if $k_{2}\\\\geq5$ , the sum of the 2003 numbers is greater than 10010. However, the solutions $k_{1}\\\\equiv1,2,3,4$ (mod 9) give $k_{2}\\\\equiv8,7,6,5$ , respectively, so that at least one of $k_{1}$ or $k_{2}$ is greater than or equal to 5, and the minimal integer is 10010.  \\n\\n# Proposed problems  \\n\\n', 'Golden': 'Problem. Find an integer $n$ with $100\\\\leq n\\\\leq1997$ such that $n$ divides $2^{n}+2$ .  \\n\\n(1997 Asian Pacific Mathematics Olympiad)  \\n\\nSolution. Note that 2 divides $2^{\\\\pi}+2$ for all $n$ . Also, 11 divides $2^{n}+2$ if and only if $n\\\\equiv6$ (mod 10), and 43 divides $2^{n}+2$ if and only if $n\\\\equiv8$ (mod 14). Since $n=946=2\\\\cdot11\\\\cdot43$ satisfies both congruences, $n$ divides $2^{n}+2$ .  \\n\\nRemark. Actually, one can prove that there are infinitely many $n$ such that $n|2^{n}+2$ . Also, any such $n$ is even since by a theorem of W. Sierpinski we cannot have $n|2^{n-1}+1$ unless $n=1$ .  \\n\\n', 'Silver': 'Problem. How many pairs $(x,y)$ of positive integers with $x\\\\leq y$ satisfy $g c d(x,y)=5!$ and $\\\\operatorname{lcm}(x,y)=50!?$  \\n\\n(1997 Canadian Mathematical Olympiad)  \\n\\nSolution. First, note that there are 15 primes from 1 to 50:  \\n\\n$$\\n(2,3,5,7,11,13,17,19,23,29,31,37,41,43,47).\\n$$  \\n\\nTo make this easier, let us define $f(a,b)$ to be greatest power of $b$ dividing $a$ . (Note $g(50!,b)>g(5!,b)$ for all $b<50$ .) Therefore, for each prime $p$ , we have either $f(x,p)=f(5!,p)$ and $f(y,p)=f(50!,p)$ or $f(y,p)=f(5!,p)$ and $f(x,p)=f(50!,p)$ . Since we have 15 primes, this gives $2^{15}$ pairs, and clearly $x\\\\neq y$ in any such pair (since the gcd and lcm are different), so there are $2^{14}$ pairs with $x\\\\leq y$ .  \\n\\n', 'Wrong': 'Problem. Solve in $\\\\mathbb{R}$ the equation:  \\n\\n$$\\n\\\\lfloor x\\\\lfloor x\\\\rfloor\\\\rfloor=1.\\n$$  \\n\\nSolution. By definition,  \\n\\n$$\\n\\\\lfloor x\\\\lfloor x\\\\rfloor\\\\rfloor=1\\n$$  \\n\\nimplies  \\n\\n$$\\n1\\\\leq x\\\\lfloor x\\\\rfloor<2.\\n$$  \\n\\nWe consider the following cases:  \\n\\na) $x\\\\in(-\\\\infty,-1)$ . Then $\\\\lfloor x\\\\rfloor\\\\leq-2$ and $x\\\\lfloor x\\\\rfloor>2$ , a contradiction. b) $x=-1\\\\Rightarrow\\\\lfloor x\\\\rfloor=-1$ . Then $x\\\\lfloor x\\\\rfloor=(-1)\\\\cdot(-1)=1$ and $\\\\lfloor x\\\\lfloor x\\\\rfloor\\\\rfloor=1$ , so $x=-1$ is a solution. c) $x\\\\in(-1,0)$ . We have $\\\\lfloor x\\\\rfloor=-1$ and $x\\\\lfloor x\\\\rfloor=-x<1$ , false. d) If $x\\\\in[0,1)$ , then $\\\\lfloor x\\\\rfloor=0$ and $x\\\\lfloor x\\\\rfloor=0<1$ , so we have no solution in this case. e) For $x\\\\in[1,2)$ we obtain $\\\\lfloor x\\\\rfloor=1$ and $x\\\\lfloor x\\\\rfloor=\\\\lfloor x\\\\rfloor=1$ , as needed. f) Finally, for $x\\\\geq2$ we have $\\\\lfloor x\\\\rfloor\\\\geq2$ and $x\\\\lfloor x\\\\rfloor=2x\\\\geq4\\\\cdot2$ , a contradiction with (1).  \\n\\nConsequently, $x\\\\in\\\\{-1\\\\}\\\\cup[1,2)$ .  \\n\\n'}"
        ],
        [
         "4",
         "150",
         "152",
         "161",
         "517",
         null,
         "Find problems where we have to solve floor function equation by extracting integer part",
         "{'Anchor': 'Problem. Determine the number of real solutions a of the equation  \\n\\n$$\\n\\\\left\\\\lfloor{\\\\frac{a}{2}}\\\\right\\\\rfloor+\\\\left\\\\lfloor{\\\\frac{a}{3}}\\\\right\\\\rfloor+\\\\left\\\\lfloor{\\\\frac{a}{5}}\\\\right\\\\rfloor=a.\\n$$  \\n\\n# (1998 Canadian Mathematical Olympiad)  \\n\\nSolution. There are 30 solutions. Since $\\\\lfloor a/2\\\\rfloor$ , $\\\\lfloor a/3\\\\rfloor$ , and $\\\\lfloor a/5\\\\rfloor$ are integers, so is $a$ . Now write $a=30p+q$ for integers $p$ and $q$ , $0\\\\leq q<30$ . Then  \\n\\n$$\\n\\\\left\\\\lfloor{\\\\frac{a}{2}}\\\\right\\\\rfloor+\\\\left\\\\lfloor{\\\\frac{a}{3}}\\\\right\\\\rfloor+\\\\left\\\\lfloor{\\\\frac{a}{5}}\\\\right\\\\rfloor=a\\n$$  \\n\\n$$\\n\\\\begin{array}{l}{\\\\Leftrightarrow\\\\ 31p+\\\\left\\\\lfloor\\\\frac{q}{2}\\\\right\\\\rfloor+\\\\left\\\\lfloor\\\\frac{q}{3}\\\\right\\\\rfloor+\\\\left\\\\lfloor\\\\frac{q}{5}\\\\right\\\\rfloor=30p+q}\\\\\\\\ {\\\\Leftrightarrow\\\\ p=q-\\\\left\\\\lfloor\\\\frac{q}{2}\\\\right\\\\rfloor-\\\\left\\\\lfloor\\\\frac{q}{3}\\\\right\\\\rfloor-\\\\left\\\\lfloor\\\\frac{q}{5}\\\\right\\\\rfloor.}\\\\end{array}\\n$$  \\n\\nThus, for each value of $q$ , there is exactly one value of $p$ (and one value of $a$ ) satisfying the equation. Since $q$ can equal any of thirty values, there are exactly 30 solutions, as claimed.  \\n\\n', 'Golden': 'Problem. Let $n$ be a positive integer. Prove that for any real number $x$ ,  \\n\\n$$\\n\\\\lfloor n x\\\\rfloor=\\\\lfloor x\\\\rfloor+\\\\left\\\\lfloor x+{\\\\frac{1}{n}}\\\\right\\\\rfloor+\\\\cdot\\\\cdot\\\\cdot+\\\\left\\\\lfloor x+{\\\\frac{n-1}{n}}\\\\right\\\\rfloor\\n$$  \\n\\n(Hermite1).  \\n\\nSolution. Let $f(x)$ be the difference between the right-hand side and the left-hand side of (1). Then  \\n\\n$$\\nf\\\\left(x+{\\\\frac{1}{n}}\\\\right)=\\\\left\\\\lfloor x+{\\\\frac{1}{n}}\\\\right\\\\rfloor+\\\\cdots+\\\\left\\\\lfloor x+{\\\\frac{1}{n}}+{\\\\frac{n-1}{n}}\\\\right\\\\rfloor-\\\\left\\\\lfloor n\\\\left(x+{\\\\frac{1}{n}}\\\\right)\\\\right\\\\rfloor\\n$$  \\n\\n$$\\n=\\\\left\\\\lfloor x+{\\\\frac{1}{n}}\\\\right\\\\rfloor+\\\\dots+\\\\left\\\\lfloor x+{\\\\frac{n-1}{n}}\\\\right\\\\rfloor+\\\\lfloor x+1\\\\rfloor-\\\\lfloor n x+1\\\\rfloor,\\n$$  \\n\\nand since $\\\\lfloor x+k\\\\rfloor=\\\\lfloor x\\\\rfloor+k$ for each integer $k$ , it follows that  \\n\\n$$\\nf\\\\left(x+{\\\\frac{1}{n}}\\\\right)=f(x)\\n$$  \\n\\nfor all real $x$ . Hence $f$ is periodic with period $1/n$ . Thus it suffices to study $f(x)$ for $0\\\\leq x<1/n$ . But $f(x)=0$ for all these values, hence $f(x)=0$ for all real $x$ , and the proof is complete.  \\n\\n# Proposed problems  \\n\\n', 'Silver': 'Problem. Compute  \\n\\n$$\\nS_{n}=\\\\sum_{k=1}^{\\\\frac{n(n+1)}{2}}\\\\left[\\\\frac{-1+\\\\sqrt{1+8k}}{2}\\\\right]\\n$$  \\n\\nSolution. Consider the function $f:[1,n]\\\\to\\\\left\\\\lfloor1,{\\\\frac{n(n+1)}{2}}\\\\right\\\\rfloor$  \\n\\n$$\\nf(x)={\\\\frac{x(x+1)}{2}}.\\n$$  \\n\\nFunction $f$ is increasing and bijective. Note that $n(G_{f})~=~n$ and $f^{-1}(x)=\\\\frac{-1+\\\\sqrt{1+8x}}{2}$ . Applying formula in Theorem 3.2.1 we obtain  \\n\\n$$\\n\\\\sum_{k=1}^{n}\\\\left\\\\lfloor{\\\\frac{k(k+1)}{2}}\\\\right\\\\rfloor+\\\\sum_{k=1}^{\\\\frac{n(n+1)}{2}}\\\\left\\\\lfloor{\\\\frac{-1+{\\\\sqrt{1+8k}}}{2}}\\\\right\\\\rfloor-n={\\\\frac{n^{2}(n+1)}{2}},\\n$$  \\n\\nhence  \\n\\n$$\\n\\\\sum_{k=1}^{\\\\frac{n(n+1)}{2}}\\\\left[{\\\\frac{-1+{\\\\sqrt{1+8k}}}{2}}\\\\right]={\\\\frac{n^{2}(n+1)}{2}}+n-{\\\\frac{1}{2}}\\\\sum_{k=1}^{n}k(k+1)=\\n$$  \\n\\n$$\\n={\\\\frac{n^{2}(n+1)}{2}}+n-{\\\\frac{n(n+1)}{4}}-{\\\\frac{n(n+1)(2n+1)}{12}}={\\\\frac{n(n^{2}+2)}{3}}\\n$$  \\n\\n# Proposed problems  \\n\\n', 'Wrong': 'Problem. Find the last 5 digits of the number $5^{1981}$ .  \\n\\nSolution. First, we prove that $5^{1981}=5^{5}$ (mod $10^{5}$ ). We have  \\n\\n$$\\n\\\\begin{array}{r l}&{\\\\mathfrak{H}^{1981}-5^{5}=(5^{1976}-1)^{5^{5}}=5^{5}[(5^{8})^{247}-1]}\\\\\\\\ &{\\\\qquad=\\\\mathcal{M}[5^{5}(5^{8}-1)]=\\\\mathcal{M}[5^{5}(5^{4}-1)(5^{4}+1)]}\\\\\\\\ &{\\\\qquad=\\\\mathcal{M}[5^{5}(5-1)(5+1)(5^{2}+1)(5^{4}+1)]}\\\\\\\\ &{\\\\qquad=\\\\mathcal{M}5^{2}2^{5}=\\\\mathcal{M}100,000.}\\\\end{array}\\n$$  \\n\\nTherefore $5^{1981}=\\\\mathcal{M}100,000+5^{5}=\\\\mathcal{M}100,000+3125$ , so 03125 are the last 5 digits of the number $5^{1981}$ .  \\n\\n'}"
        ],
        [
         "5",
         "42",
         "39",
         "440",
         "598",
         null,
         "Find problems that practice divisibility together with gcd.",
         "{'Anchor': 'Problem. Let $m\\\\geq2$ be an integer. A positive integer $n$ is called $m$ -good if for every positive integer $a$ , relatively prime to $n$ , one has $\\\\boldsymbol{n}|\\\\boldsymbol{a}^{m}-$ 1.  \\n\\nShow that any m-good number is at most $4m(2^{m}-1)$ .  \\n\\n(2004 Romanian IMO Team Selection Test)  \\n\\nSolution. If $m$ is odd then $n|(n-1)^{m}-1$ implies $n|2$ , hence $n\\\\leq2$ .  \\n\\nTake now $m=2^{t}q$ , $t\\\\geq1$ , $q$ odd, If $n=2^{u}(2v+1)$ is $m$ -good, then $(2v+1)|(2v-1)^{m}-1$ , hence $(2v+1)|2^{m}-1$ . Also, if $a=8v+5$ then $(a,n)=1$ , so  \\n\\n$$\\n2^{u}|(a^{q})^{2^{t}}-1=(a^{q}-1)(a^{q}+1)(a^{2q}+1)\\\\dots(a^{2^{t-1}q}+1).\\n$$  \\n\\nBut $a^{q}\\\\equiv5$ (mod 8) implies that the exponent of the factor 2 in the last product is $t+2$ , therefore $u\\\\leq t+2$ , whence $n\\\\leq4\\\\cdot2^{t}(2v+1)\\\\leq4m(2^{m}-1)$ .  \\n\\nRemark. The estimation is optimal only for $m=2$ , $m=4$ .  \\n\\n', 'Golden': 'Problem. Let n be an even positive integer and let $a,b$ be positive coprime integers. Find a and $b$ if $a+b$ divides $a^{n}+b^{n}$ .  \\n\\n(2003 Romanian Mathematical Olympiad)  \\n\\nSolution. As $n$ is even, we have  \\n\\n$$\\na^{n}-b^{n}=(a^{2}-b^{2})(a^{n-2}+a^{n-4}b^{2}+\\\\cdot\\\\cdot\\\\cdot+b^{n-2}).\\n$$  \\n\\nSince $a+b$ is a divisor of $a^{2}-b^{2}$ , it follows that $a+b$ is a divisor of $a^{n}-b^{n}$ . In turn, $a+b$ divides $2a^{n}=(a^{n}+b^{n})+(a^{n}-b^{n})$ , and $2b^{n}=(a^{n}+$ $b^{n})-(a^{n}-b^{n})$ . But $a$ and $b$ are coprime numbers, and so $g c d(2a^{n},2b^{n})=2$ . Therefore $a+b$ is a divisor of 2, hence $a=b=1$ .  \\n\\n', 'Silver': 'Problem. For each integer n such that $n=p_{1}p_{2}p_{3}p_{4}$ , where $p_{1},p_{2},p_{3},p_{4}$ are distinct primes, let  \\n\\n$$\\nd_{1}=1<d_{2}<d_{3}<\\\\cdot\\\\cdot\\\\cdot<d_{16}=n\\n$$  \\n\\nbe the sixteen positive integers which divide $n$ . Prove that if $n<1995$ , then $d_{9}-d_{8}\\\\neq22$ .  \\n\\n(1995 Irish Mathematical Olympiad)  \\n\\nSolution. Note that $35\\\\cdot57=1995=2\\\\cdot3\\\\cdot7\\\\cdot19$ . Suppose that $n<1995$ and $d_{9}-d_{8}=22$ ; then $d_{8}d_{9}=n$ , so $d_{8}\\\\ <\\\\ 35$ . Moreover, $d_{8}$ cannot be even since that would make $n$ divisible by 4, whereas $n$ has distinct prime factors. Hence $d_{8},d_{9}$ and $n$ are odd.  \\n\\nThe divisors $d_{1},\\\\ldots,d_{8}$ each are the product of distinct odd primes, since they divide $n$ . Since $3\\\\cdot5\\\\cdot7>35$ , none of $d_{1},\\\\ldots,d_{8}$ is large enough to have three odd prime factors, so each is either prime or the product of two primes. Since $n$ only has four prime factors, four of the $d_{i}$ must be the product of two odd primes. But the smallest such numbers are  \\n\\n$$\\n15,21,33,35,\\\\ldots\\n$$  \\n\\nand so we must have $d_{8}\\\\geq35$ , contrary to assumption.  \\n\\n', 'Wrong': 'Problem. Determine all solutions $(x,y,z)$ of positive integers such that  \\n\\n$$\\n(x+1)^{y+1}+1=(x+2)^{z+1}.\\n$$  \\n\\n(1999 Taiwanese Mathematical Olympiad)  \\n\\nSolution. Let $a=x+1$ , $b=y+1$ , $c=z+1$ . Then $a,b,c\\\\geq2$ and  \\n\\n$$\\na^{b}+1=(a+1)^{c}\\n$$  \\n\\n$$\\n((a+1)-1)^{b}+1=(a+1)^{c}.\\n$$  \\n\\nTaking the equations mod $(a+1)$ yields $(-1)^{b}+1\\\\equiv0$ , so $b$ is odd.  \\n\\nTaking the second equation mod $(a+1)^{2}$ after applying the binomial expansion yields  \\n\\n$$\\n{\\\\binom{b}{1}}(a+1)(-1)^{b-1}+(-1)^{b}+1\\\\equiv0{\\\\pmod{(a+1)^{2}}}\\n$$  \\n\\nso $(a+1)|b$ and $a$ is even. On the other hand, taking the first equation mod $a^{2}$ after applying the binomial expansion yields  \\n\\n$$\\n1\\\\equiv{\\\\binom{c}{1}}a+1{\\\\pmod{a^{2}}},\\n$$  \\n\\nso $c$ is divisible by $a$ and is even as well. Write $a=2a_{1}$ and $c=2c_{1}$ . Then  \\n\\n$$\\n2^{b}a_{1}^{b}=a^{b}=(a+1)^{c}-1=((a+1)^{c_{1}}-1)((a+1)^{c_{1}}+1).\\n$$  \\n\\nIt follows that $g c d((a+1)^{c_{1}}-1,(a+1)^{c_{1}}+1)=2$ . Therefore, using the fact that $2a_{1}$ is a divisor of $(a+1)^{c_{1}}-1$ , we may conclude that  \\n\\n$$\\n\\\\begin{array}{c}{{(a+1)^{c_{1}}-1=2a_{1}^{b}}}\\\\\\\\ {{}}\\\\\\\\ {{(a+1)^{c_{1}}+1=2^{b-1}.}}\\\\end{array}\\n$$  \\n\\nWe must have $2^{b-1}>2a_{1}^{b}\\\\Rightarrow a_{1}=1$ . Then these equations give $c_{1}=1$ and $b=3$ . Therefore the only solution is $(x,y,z)=(1,2,1)$ .  \\n'}"
        ],
        [
         "6",
         "228",
         "542",
         "233",
         "373",
         null,
         "Find calculative problems where we need to use number of divisors.",
         "{'Anchor': 'Problem. Let $\\\\tau(n)$ denote the number of divisors of the natural number $n$ . Prove that the sequence $\\\\tau(n^{2}+1)$ does not become monotonic from any given point onwards.  \\n\\n(1998 St. Petersburg City Mathematical Olympiad)  \\n\\nSolution. We first note that for $n$ even, $\\\\tau(n^{2}+1)\\\\leq n$ . Indeed, exactly half of the divisors of $n^{2}+1$ are less than $n$ , and all are odd, so there are at most $2(n/2)$ in all.  \\n\\nNow if $\\\\tau(n^{2}+1)$ becomes strictly monotonic for $n\\\\geq N$ , then  \\n\\n$$\\n\\\\tau((n+1)^{2}+1)\\\\geq\\\\tau(n^{2}+1)+2\\n$$  \\n\\nfor $n\\\\geq N$ (since $\\\\tau(k)$ is even for $k$ not a perfect square). Thus  \\n\\n$$\\n\\\\tau(n^{2}+1)\\\\geq\\\\tau(N^{2}+1)+2(n-N)\\n$$  \\n\\nwhich exceeds $n$ for large, contradiction.  \\n\\n# Proposed problems  \\n\\n', 'Golden': 'Problem. Does there exist a positive integer such that the product of its proper divisors ends with exactly 2001 zeroes?  \\n\\n# (2001 Russian Mathematical Olympiad)  \\n\\nSolution. Yes. Given an integer $n$ with $\\\\tau(n)$ is equal to  \\n\\n$$\\n\\\\sqrt{\\\\left(\\\\prod_{d\\\\mid n}d\\\\right)\\\\left(\\\\prod_{d\\\\mid n}(n/d)\\\\right)}=\\\\sqrt{\\\\prod_{d\\\\mid n}d(n/d)}=\\\\sqrt{n^{\\\\tau(n)}}.\\n$$  \\n\\nThus, the product of all proper positive divisors of $n$ equals  \\n\\n$$\\nn^{{\\\\frac{1}{2}}\\\\tau(n)-1}.\\n$$  \\n\\nIf $n=\\\\prod_{i=1}^{k}p_{i}^{q_{i}}$ with the $p_{i}$ ’s distinct primes and the $q_{i}$ ’s positive integers, then $\\\\tau(n)=\\\\prod_{i=1}^{k}(q_{i}+1)$ . Hence, if we set $n=2^{1}\\\\cdot5^{1}\\\\cdot7^{6}\\\\cdot11^{10}\\\\cdot13^{12}$ , then  \\n\\n$$\\n{\\\\frac{1}{2}}\\\\tau(n)-1={\\\\frac{1}{2}}(2\\\\cdot2\\\\cdot7\\\\cdot11\\\\cdot13)-1=2001.\\n$$  \\n\\nThus, the product of the proper divisors of $n$ is equal to $2^{2001}\\\\cdot5^{2001}$ 76·2001 · 1110·2001 · 1312·2001, an integer ending in exactly 2001 zeroes.  \\n\\n', 'Silver': 'Problem. If $n$ is a composite positive integer, then  \\n\\n$$\\n\\\\sigma(n)\\\\geq n+{\\\\sqrt{n}}+1.\\n$$  \\n\\nSolution. The integer $n$ has a divisor $d$ such that $d\\\\neq1$ and $d\\\\leq{\\\\sqrt{n}}$ . Because $\\\\frac{\\\\mathit{\\\\Pi}_{\\\\mathit{n}}}{\\\\mathit{d}}$ is also a divisor of $n$ , it follows that ${\\\\frac{n}{d}}\\\\geq{\\\\sqrt{n}}$ , therefore  \\n\\n$$\\n\\\\sigma(n)=\\\\sum_{k\\\\mid n}k\\\\geq1+n+{\\\\frac{n}{d}}\\\\geq n+{\\\\sqrt{n}}+1.\\n$$  \\n\\n', 'Wrong': 'Problem. Find $a_{n}$ if $a_{0}=1$ and $a_{n+1}=2a_{n}+{\\\\sqrt{3a_{n}^{2}-2}}$ , $n\\\\geq0$ . Solution. We have $(a_{n+1}-2a_{n})^{2}=3a_{n}^{2}-2$ , so  \\n\\n$$\\na_{n+1}^{2}-4a_{n+1}a_{n}+a_{n}^{2}+2=0,\\\\quad n\\\\geq0.\\n$$  \\n\\nThen  \\n\\n$$\\na_{n}^{2}-4a_{n}a_{n-1}+a_{n-1}^{2}+2=0,\\\\quad n\\\\geq1,\\n$$  \\n\\nhence, by subtraction,  \\n\\n$$\\na_{n+1}^{2}-a_{n-1}^{2}-4a_{n}(a_{n+1}-a_{n-1})=0\\\\qquad\\n$$  \\n\\nfor all $n\\\\geq1$ . Because it is clear that $(a_{n})_{n\\\\geq0}$ is increasing we have $a_{n+1}\\\\mathrm{~-~}$ $a_{n-1}\\\\neq0$ , for all $n\\\\geq1$ , so  \\n\\n$$\\na_{n+1}+a_{n-1}-4a_{n}=0,\\\\quad n\\\\geq1,\\n$$  \\n\\nthat is $a_{n+1}=4a_{n}-a_{n-1}$ , $n\\\\geq1$ . Moreover, $a_{0}=1$ and $a_{1}=3$ . The characteristic equation is $t^{2}-4t+1=0$ , whose roots are $t_{1}=2+{\\\\sqrt{3}}$ and $t_{2}=2-\\\\sqrt{3}$ . We obtain  \\n\\n$$\\na_{n}=\\\\frac{1}{2\\\\sqrt{3}}[(1+\\\\sqrt{3})(2+\\\\sqrt{3})^{n}-(1-\\\\sqrt{3})(2-\\\\sqrt{3})^{n}],\\\\quad n\\\\geq0.\\n$$  \\n\\nWe can also write $\\\\boldsymbol{a}_{n}$ as follows:  \\n\\n$$\\na_{n}={\\\\frac{1}{\\\\sqrt{3}}}\\\\left[\\\\left({\\\\frac{1+{\\\\sqrt{3}}}{2}}\\\\right)^{2n+1}-\\\\left({\\\\frac{1-{\\\\sqrt{3}}}{2}}\\\\right)^{2n+1}\\\\right],\\\\quad n\\\\geq0.\\n$$  \\n\\nNote that from $a_{0}=1$ , $a_{1}=3$ , and $a_{n+1}=4a_{n}-a_{n-1}$ it follows by strong induction that $a_{n}$ is a positive integer for all $n$ .  \\n\\n'}"
        ]
       ],
       "shape": {
        "columns": 7,
        "rows": 7
       }
      },
      "text/html": [
       "<div>\n",
       "<style scoped>\n",
       "    .dataframe tbody tr th:only-of-type {\n",
       "        vertical-align: middle;\n",
       "    }\n",
       "\n",
       "    .dataframe tbody tr th {\n",
       "        vertical-align: top;\n",
       "    }\n",
       "\n",
       "    .dataframe thead th {\n",
       "        text-align: right;\n",
       "    }\n",
       "</style>\n",
       "<table border=\"1\" class=\"dataframe\">\n",
       "  <thead>\n",
       "    <tr style=\"text-align: right;\">\n",
       "      <th></th>\n",
       "      <th>Anchor</th>\n",
       "      <th>Golden</th>\n",
       "      <th>Silver</th>\n",
       "      <th>Wrong</th>\n",
       "      <th>Query</th>\n",
       "      <th>query</th>\n",
       "      <th>Problem&amp;Solution</th>\n",
       "    </tr>\n",
       "  </thead>\n",
       "  <tbody>\n",
       "    <tr>\n",
       "      <th>0</th>\n",
       "      <td>431</td>\n",
       "      <td>439</td>\n",
       "      <td>475</td>\n",
       "      <td>592</td>\n",
       "      <td>NaN</td>\n",
       "      <td>Find problems that use divisibility to limit n...</td>\n",
       "      <td>{'Anchor': 'Problem. Find all odd positive int...</td>\n",
       "    </tr>\n",
       "    <tr>\n",
       "      <th>1</th>\n",
       "      <td>468</td>\n",
       "      <td>467</td>\n",
       "      <td>63</td>\n",
       "      <td>614</td>\n",
       "      <td>NaN</td>\n",
       "      <td>Find problems that explicitly use idea of all ...</td>\n",
       "      <td>{'Anchor': 'Problem. For any positive integer ...</td>\n",
       "    </tr>\n",
       "    <tr>\n",
       "      <th>2</th>\n",
       "      <td>194</td>\n",
       "      <td>196</td>\n",
       "      <td>537</td>\n",
       "      <td>100</td>\n",
       "      <td>NaN</td>\n",
       "      <td>Find problems that explore pigeonhole principle</td>\n",
       "      <td>{'Anchor': 'Problem. Prove that among any inte...</td>\n",
       "    </tr>\n",
       "    <tr>\n",
       "      <th>3</th>\n",
       "      <td>66</td>\n",
       "      <td>64</td>\n",
       "      <td>451</td>\n",
       "      <td>145</td>\n",
       "      <td>NaN</td>\n",
       "      <td>Find problems that involve calculating answer ...</td>\n",
       "      <td>{'Anchor': 'Problem. Find the smallest positiv...</td>\n",
       "    </tr>\n",
       "    <tr>\n",
       "      <th>4</th>\n",
       "      <td>150</td>\n",
       "      <td>152</td>\n",
       "      <td>161</td>\n",
       "      <td>517</td>\n",
       "      <td>NaN</td>\n",
       "      <td>Find problems where we have to solve floor fun...</td>\n",
       "      <td>{'Anchor': 'Problem. Determine the number of r...</td>\n",
       "    </tr>\n",
       "    <tr>\n",
       "      <th>5</th>\n",
       "      <td>42</td>\n",
       "      <td>39</td>\n",
       "      <td>440</td>\n",
       "      <td>598</td>\n",
       "      <td>NaN</td>\n",
       "      <td>Find problems that practice divisibility toget...</td>\n",
       "      <td>{'Anchor': 'Problem. Let $m\\geq2$ be an intege...</td>\n",
       "    </tr>\n",
       "    <tr>\n",
       "      <th>6</th>\n",
       "      <td>228</td>\n",
       "      <td>542</td>\n",
       "      <td>233</td>\n",
       "      <td>373</td>\n",
       "      <td>NaN</td>\n",
       "      <td>Find calculative problems where we need to use...</td>\n",
       "      <td>{'Anchor': 'Problem. Let $\\tau(n)$ denote the ...</td>\n",
       "    </tr>\n",
       "  </tbody>\n",
       "</table>\n",
       "</div>"
      ],
      "text/plain": [
       "   Anchor  Golden  Silver  Wrong  Query  \\\n",
       "0     431     439     475    592    NaN   \n",
       "1     468     467      63    614    NaN   \n",
       "2     194     196     537    100    NaN   \n",
       "3      66      64     451    145    NaN   \n",
       "4     150     152     161    517    NaN   \n",
       "5      42      39     440    598    NaN   \n",
       "6     228     542     233    373    NaN   \n",
       "\n",
       "                                               query  \\\n",
       "0  Find problems that use divisibility to limit n...   \n",
       "1  Find problems that explicitly use idea of all ...   \n",
       "2    Find problems that explore pigeonhole principle   \n",
       "3  Find problems that involve calculating answer ...   \n",
       "4  Find problems where we have to solve floor fun...   \n",
       "5  Find problems that practice divisibility toget...   \n",
       "6  Find calculative problems where we need to use...   \n",
       "\n",
       "                                    Problem&Solution  \n",
       "0  {'Anchor': 'Problem. Find all odd positive int...  \n",
       "1  {'Anchor': 'Problem. For any positive integer ...  \n",
       "2  {'Anchor': 'Problem. Prove that among any inte...  \n",
       "3  {'Anchor': 'Problem. Find the smallest positiv...  \n",
       "4  {'Anchor': 'Problem. Determine the number of r...  \n",
       "5  {'Anchor': 'Problem. Let $m\\geq2$ be an intege...  \n",
       "6  {'Anchor': 'Problem. Let $\\tau(n)$ denote the ...  "
      ]
     },
     "execution_count": 7,
     "metadata": {},
     "output_type": "execute_result"
    }
   ],
   "source": [
    "qa_df"
   ]
  },
  {
   "cell_type": "code",
   "execution_count": 8,
   "id": "147a415b",
   "metadata": {},
   "outputs": [],
   "source": [
    "problemsolution = qa_df['Problem&Solution'].to_list()\n",
    "\n",
    "anchors = []\n",
    "texts = []\n",
    "for d in problemsolution:\n",
    "    anchors.append(d['Anchor'])\n",
    "    group = [d['Golden'], d['Silver'], d['Wrong']]\n",
    "    texts.append(group)"
   ]
  },
  {
   "cell_type": "code",
   "execution_count": 9,
   "id": "9f88d008",
   "metadata": {},
   "outputs": [
    {
     "name": "stderr",
     "output_type": "stream",
     "text": [
      "Input ids are automatically padded to be a multiple of `config.attention_window`: 512\n"
     ]
    }
   ],
   "source": [
    "true_ranks = {}\n",
    "pred_ranks = {}\n",
    "for model in models:\n",
    "    true_ranks[model] = [[1, 2, 3] for _ in range(len(texts))]\n",
    "    pred_ranks[model] = []\n",
    "    for anchor, t in zip(anchors, texts):\n",
    "        kwargs = {}\n",
    "        kwargs['model_name'] = model\n",
    "        kwargs['anchor'] = anchor\n",
    "        kwargs['texts'] = t\n",
    "        pred_ranks[model].append(rank(kwargs, compute_similarity))\n",
    "    pred_ranks[model] = list(map(lambda x: list(x), pred_ranks[model]))"
   ]
  },
  {
   "cell_type": "code",
   "execution_count": 10,
   "id": "d8ad0232",
   "metadata": {},
   "outputs": [
    {
     "data": {
      "text/plain": [
       "{'tbs17/MathBERT': [[1, 2, 3],\n",
       "  [1, 2, 3],\n",
       "  [3, 1, 2],\n",
       "  [3, 2, 1],\n",
       "  [1, 2, 3],\n",
       "  [1, 3, 2],\n",
       "  [2, 1, 3]],\n",
       " 'allenai/scibert_scivocab_uncased': [[1, 3, 2],\n",
       "  [2, 3, 1],\n",
       "  [3, 2, 1],\n",
       "  [2, 1, 3],\n",
       "  [2, 3, 1],\n",
       "  [1, 2, 3],\n",
       "  [3, 1, 2]],\n",
       " 'math-similarity/Bert-MLM_arXiv-MP-class_zbMath': [[2, 3, 1],\n",
       "  [1, 3, 2],\n",
       "  [2, 1, 3],\n",
       "  [1, 2, 3],\n",
       "  [3, 1, 2],\n",
       "  [2, 1, 3],\n",
       "  [1, 2, 3]],\n",
       " 'allenai/longformer-base-4096': [[1, 2, 3],\n",
       "  [2, 3, 1],\n",
       "  [3, 2, 1],\n",
       "  [1, 2, 3],\n",
       "  [1, 2, 3],\n",
       "  [1, 2, 3],\n",
       "  [1, 2, 3]]}"
      ]
     },
     "execution_count": 10,
     "metadata": {},
     "output_type": "execute_result"
    }
   ],
   "source": [
    "pred_ranks"
   ]
  },
  {
   "cell_type": "code",
   "execution_count": 11,
   "id": "632b7a29",
   "metadata": {},
   "outputs": [
    {
     "data": {
      "text/plain": [
       "{'tbs17/MathBERT': 0.5714285714285714,\n",
       " 'allenai/scibert_scivocab_uncased': 0.2857142857142857,\n",
       " 'math-similarity/Bert-MLM_arXiv-MP-class_zbMath': 0.42857142857142855,\n",
       " 'allenai/longformer-base-4096': 0.7619047619047619}"
      ]
     },
     "execution_count": 11,
     "metadata": {},
     "output_type": "execute_result"
    }
   ],
   "source": [
    "true_ranks\n",
    "import numpy as np\n",
    "\n",
    "accuracies = {}\n",
    "for model in models:\n",
    "    pair_check = np.array(true_ranks[model]) == np.array(pred_ranks[model])\n",
    "    accuracies[model] = pair_check.mean()\n",
    "\n",
    "accuracies"
   ]
  },
  {
   "cell_type": "code",
   "execution_count": 12,
   "id": "89f0a94b",
   "metadata": {},
   "outputs": [
    {
     "data": {
      "text/plain": [
       "{'tbs17/MathBERT': 0.35714285714285715,\n",
       " 'allenai/scibert_scivocab_uncased': -0.07142857142857142,\n",
       " 'math-similarity/Bert-MLM_arXiv-MP-class_zbMath': 0.35714285714285715,\n",
       " 'allenai/longformer-base-4096': 0.5}"
      ]
     },
     "execution_count": 12,
     "metadata": {},
     "output_type": "execute_result"
    }
   ],
   "source": [
    "from scipy.stats import spearmanr\n",
    "\n",
    "spearmans = {}\n",
    "\n",
    "for model in models:\n",
    "    s = []\n",
    "    for true_rank, pred_rank in zip(true_ranks[model], pred_ranks[model]):\n",
    "        rho, _ = spearmanr(true_rank, pred_rank)\n",
    "        s.append(rho)\n",
    "    spearmans[model] = np.mean(s)\n",
    "spearmans"
   ]
  },
  {
   "cell_type": "code",
   "execution_count": 13,
   "id": "9270bf91",
   "metadata": {},
   "outputs": [
    {
     "data": {
      "text/plain": [
       "{'Accuracy': {'tbs17/MathBERT': 0.5714285714285714,\n",
       "  'allenai/scibert_scivocab_uncased': 0.2857142857142857,\n",
       "  'math-similarity/Bert-MLM_arXiv-MP-class_zbMath': 0.42857142857142855,\n",
       "  'allenai/longformer-base-4096': 0.7619047619047619},\n",
       " 'Spearman': {'tbs17/MathBERT': 0.35714285714285715,\n",
       "  'allenai/scibert_scivocab_uncased': -0.07142857142857142,\n",
       "  'math-similarity/Bert-MLM_arXiv-MP-class_zbMath': 0.35714285714285715,\n",
       "  'allenai/longformer-base-4096': 0.5}}"
      ]
     },
     "execution_count": 13,
     "metadata": {},
     "output_type": "execute_result"
    }
   ],
   "source": [
    "metrics = {\"Accuracy\": accuracies, \n",
    "           \"Spearman\": spearmans}\n",
    "metrics"
   ]
  },
  {
   "cell_type": "markdown",
   "id": "546d4b9c",
   "metadata": {},
   "source": [
    "### Show metrics"
   ]
  },
  {
   "cell_type": "code",
   "execution_count": 14,
   "id": "3cbcd273",
   "metadata": {},
   "outputs": [
    {
     "data": {
      "application/vnd.microsoft.datawrangler.viewer.v0+json": {
       "columns": [
        {
         "name": "index",
         "rawType": "int64",
         "type": "integer"
        },
        {
         "name": "Model",
         "rawType": "object",
         "type": "string"
        },
        {
         "name": "Accuracy",
         "rawType": "float64",
         "type": "float"
        },
        {
         "name": "Spearman",
         "rawType": "float64",
         "type": "float"
        }
       ],
       "conversionMethod": "pd.DataFrame",
       "ref": "14fa1207-99fb-4fcf-b522-b8598d1da278",
       "rows": [
        [
         "0",
         "tbs17/MathBERT",
         "0.5714285714285714",
         "0.35714285714285715"
        ],
        [
         "1",
         "allenai/scibert_scivocab_uncased",
         "0.2857142857142857",
         "-0.07142857142857142"
        ],
        [
         "2",
         "math-similarity/Bert-MLM_arXiv-MP-class_zbMath",
         "0.42857142857142855",
         "0.35714285714285715"
        ],
        [
         "3",
         "allenai/longformer-base-4096",
         "0.7619047619047619",
         "0.5"
        ]
       ],
       "shape": {
        "columns": 3,
        "rows": 4
       }
      },
      "text/html": [
       "<div>\n",
       "<style scoped>\n",
       "    .dataframe tbody tr th:only-of-type {\n",
       "        vertical-align: middle;\n",
       "    }\n",
       "\n",
       "    .dataframe tbody tr th {\n",
       "        vertical-align: top;\n",
       "    }\n",
       "\n",
       "    .dataframe thead th {\n",
       "        text-align: right;\n",
       "    }\n",
       "</style>\n",
       "<table border=\"1\" class=\"dataframe\">\n",
       "  <thead>\n",
       "    <tr style=\"text-align: right;\">\n",
       "      <th></th>\n",
       "      <th>Model</th>\n",
       "      <th>Accuracy</th>\n",
       "      <th>Spearman</th>\n",
       "    </tr>\n",
       "  </thead>\n",
       "  <tbody>\n",
       "    <tr>\n",
       "      <th>0</th>\n",
       "      <td>tbs17/MathBERT</td>\n",
       "      <td>0.571429</td>\n",
       "      <td>0.357143</td>\n",
       "    </tr>\n",
       "    <tr>\n",
       "      <th>1</th>\n",
       "      <td>allenai/scibert_scivocab_uncased</td>\n",
       "      <td>0.285714</td>\n",
       "      <td>-0.071429</td>\n",
       "    </tr>\n",
       "    <tr>\n",
       "      <th>2</th>\n",
       "      <td>math-similarity/Bert-MLM_arXiv-MP-class_zbMath</td>\n",
       "      <td>0.428571</td>\n",
       "      <td>0.357143</td>\n",
       "    </tr>\n",
       "    <tr>\n",
       "      <th>3</th>\n",
       "      <td>allenai/longformer-base-4096</td>\n",
       "      <td>0.761905</td>\n",
       "      <td>0.500000</td>\n",
       "    </tr>\n",
       "  </tbody>\n",
       "</table>\n",
       "</div>"
      ],
      "text/plain": [
       "                                            Model  Accuracy  Spearman\n",
       "0                                  tbs17/MathBERT  0.571429  0.357143\n",
       "1                allenai/scibert_scivocab_uncased  0.285714 -0.071429\n",
       "2  math-similarity/Bert-MLM_arXiv-MP-class_zbMath  0.428571  0.357143\n",
       "3                    allenai/longformer-base-4096  0.761905  0.500000"
      ]
     },
     "execution_count": 14,
     "metadata": {},
     "output_type": "execute_result"
    }
   ],
   "source": [
    "data = []\n",
    "for model in models:\n",
    "    d = {}\n",
    "    d['Model'] = model\n",
    "    for key in metrics:\n",
    "        d[key] = metrics[key][model]\n",
    "    data.append(d)\n",
    "metrics_df = pd.DataFrame(data)\n",
    "metrics_df"
   ]
  },
  {
   "cell_type": "code",
   "execution_count": 15,
   "id": "0242f0c0",
   "metadata": {},
   "outputs": [
    {
     "data": {
      "text/plain": [
       "('Problem. Find all odd positive',\n",
       " ['Problem. Find the smallest positive integer $K$ such that every $K$ -element subset of $\\\\{1,2,\\\\ldots,50\\\\}$ contains two distinct elements $a,b$ such that $a+b$ divides ab.  \\n\\n(1996 Chinese Mathematical Olympiad)  \\n\\nSolution. The minimal value is $k=39$ . Suppose $a,b\\\\in S$ are such that $a+b$ divides $a b$ . Let $c=g c d(a,b)$ , and put $a=c a_{1}$ , $b=c b_{1}$ , so that $a_{1}$ and $b_{1}$ are relatively prime. Then $c(a_{1}+b_{1})$ divides $c^{2}a_{1}b_{1}$ , so $a_{1}+b_{1}$ divides $c a_{1}b_{1}$ . Since $a_{1}$ and $b_{1}$ have no common factor, neither do $a_{1}$ and $a_{1}+b_{1}$ , or $b_{1}$ and $a_{1}+b_{1}$ . In short, $a_{1}+b_{1}$ divides $c$ .  \\n\\nSince $S\\\\subseteq\\\\{1,\\\\dots,50\\\\}$ , we have $a+b\\\\leq99$ , so $c(a_{1}+b_{1})\\\\leq99$ , which implies $a_{1}+b_{1}\\\\leq9$ ; on the other hand, of course $a_{1}+b_{1}\\\\geq3$ . An exhaustive search produces 23 pairs $a,b$ satisfying the condition:  \\n\\n$$\\n\\\\begin{array}{c c c}{{a_{1}+b_{1}=3}}&{{(6,3),(12,6),(18,9),(24,12),}}&{{}}\\\\\\\\ {{}}&{{}}&{{}}\\\\\\\\ {{a_{1}+b_{1}=4}}&{{(12,4),(24,8),(42,21),(48,24)}}&{{}}\\\\\\\\ {{a_{1}+b_{1}=4}}&{{(12,4),(24,8),(36,12),(48,16)}}&{{}}\\\\\\\\ {{a_{1}+b_{1}=5}}&{{(20,5),(40,10),(15,10),(30,20),(45,30)}}&{{}}\\\\\\\\ {{a_{1}+b_{1}=6}}&{{(30,6)}}&{{(30,6)}}&{{}}\\\\\\\\ {{a_{1}+b_{1}=7}}&{{}}&{{(42,7),(35,14),(28,21)}}&{{}}\\\\\\\\ {{a_{1}+b_{1}=8}}&{{}}&{{(40,24)}}&{{}}\\\\\\\\ {{a_{1}+b_{1}=9}}&{{}}&{{(45,36)}}&{{}}\\\\end{array}\\n$$  \\n',\n",
       "  'Problem. Let  \\n\\n$$\\n\\\\prod_{n=1}^{1996}(1+n x^{3^{n}})=1+a_{1}x^{k_{1}}+a_{2}x^{k_{2}}+\\\\cdot\\\\cdot\\\\cdot+a_{m}x^{k_{m}},\\n$$  \\n\\nwhere $a_{1},a_{2},\\\\ldots,a_{m}$ are nonzero and $k_{1}<k_{2}<\\\\dots<k_{m}$ , Find $a_{1996}$ .  \\n\\n(1996 Turkish Mathematical Olympiad)  \\n\\nSolution. Note that $k_{i}$ is the number obtained by writing $i$ in base 2 and reading the result as a number in base 3, and $a_{i}$ is the sum of the exponents of the powers of 3 used. In particular, $1996=2^{10}+2^{9}+2^{8}+2^{7}+2^{6}+2^{3}+2^{2}$ , so  \\n\\n$$\\na_{1996}=10+9+8+7+6+3+2=45.\\n$$  \\n\\n',\n",
       "  'Problem. Prove that there are no positive integers x and y such that  \\n\\n$$\\nx^{5}+y^{5}+1=(x+2)^{5}+(y-3)^{5}.\\n$$  \\n\\nSolution. Notice that $z^{5}\\\\equiv z$ (mod 10), hence $x+y+1\\\\equiv(x+2)+(y-3)$ (mod 10), impossible.  \\n\\n'])"
      ]
     },
     "execution_count": 15,
     "metadata": {},
     "output_type": "execute_result"
    }
   ],
   "source": [
    "from transformers import AutoModel, AutoTokenizer\n",
    "best_model = metrics_df.sort_values('Spearman', ascending=False).iloc[0,0]\n",
    "best_model, tokenizer = AutoModel.from_pretrained(best_model, output_attentions=True), AutoTokenizer.from_pretrained(best_model)\n",
    "\n",
    "ex_anchor = anchors[0][:30]\n",
    "ex_t = texts[0][:30]\n",
    "ex_anchor, ex_t"
   ]
  },
  {
   "cell_type": "code",
   "execution_count": 16,
   "id": "f5ccc73a",
   "metadata": {},
   "outputs": [],
   "source": [
    "max_length = 512\n",
    "an_inputs = tokenizer(ex_anchor, return_tensors='pt', padding=True, truncation=True, max_length=max_length)\n",
    "an_tokens = tokenizer.convert_ids_to_tokens(an_inputs['input_ids'][0])\n",
    "an_attention = best_model(**an_inputs, output_attentions=True)\n",
    "\n",
    "t_inputs = tokenizer(ex_t, return_tensors='pt', padding=True, truncation=True, max_length=max_length)\n",
    "t_tokens = tokenizer.convert_ids_to_tokens(t_inputs['input_ids'][0])\n",
    "t_attention = best_model(**t_inputs, output_attentions=True)"
   ]
  }
 ],
 "metadata": {
  "kernelspec": {
   "display_name": ".venv",
   "language": "python",
   "name": "python3"
  },
  "language_info": {
   "codemirror_mode": {
    "name": "ipython",
    "version": 3
   },
   "file_extension": ".py",
   "mimetype": "text/x-python",
   "name": "python",
   "nbconvert_exporter": "python",
   "pygments_lexer": "ipython3",
   "version": "3.12.10"
  }
 },
 "nbformat": 4,
 "nbformat_minor": 5
}
