{
 "cells": [
  {
   "cell_type": "code",
   "execution_count": 1,
   "id": "657e25f8",
   "metadata": {},
   "outputs": [],
   "source": [
    "import os\n",
    "import pandas as pd\n",
    "from ast import literal_eval\n",
    "\n",
    "df = pd.read_csv(os.path.abspath(r\"C:\\Users\\mokrota\\Documents\\GitHub\\math_problem_recommender\\math_problem_recommender\\andreescu-andrica-problems-on-number-theory\\benchmark_v1.csv\"))\n",
    "df[\"Problem&Solution\"] = df[\"Problem&Solution\"].apply(literal_eval)\n",
    "df = df.explode(column=[\"Problem&Solution\"]).reset_index().rename(columns={\"index\": 'label'})\n",
    "df = df[[\"label\", \"Problem&Solution\"]].rename(columns={\"Problem&Solution\": 'text'})"
   ]
  },
  {
   "cell_type": "code",
   "execution_count": 2,
   "id": "0bf17e9c",
   "metadata": {},
   "outputs": [],
   "source": [
    "from sentence_transformers import SentenceTransformer, LoggingHandler\n",
    "from sentence_transformers import models, util, datasets, evaluation, losses\n",
    "from torch.utils.data import DataLoader\n",
    "from datasets import Dataset\n",
    "from transformers import AutoModel\n",
    "\n",
    "# Define your sentence transformer model using CLS pooling\n",
    "model_name = \"math-similarity/Bert-MLM_arXiv-MP-class_arXiv\"\n",
    "# word_embedding_model = models.Transformer(model_name)\n",
    "# pooling_model = models.Pooling(word_embedding_model.get_word_embedding_dimension(), \"cls\")\n",
    "model = SentenceTransformer(model_name)\n",
    "\n",
    "# Define a list with sentences (1k - 100k sentences)\n",
    "train_sentences = df['text'].tolist()\n",
    "\n",
    "# Create the special denoising dataset that adds noise on-the-fly\n",
    "train_dataset = datasets.DenoisingAutoEncoderDataset(train_sentences)"
   ]
  },
  {
   "cell_type": "code",
   "execution_count": 7,
   "id": "ad28dd11",
   "metadata": {},
   "outputs": [],
   "source": [
    "from typing import List\n",
    "\n",
    "\n",
    "def chunk_single_text(\n",
    "    text: str,\n",
    "    tokenizer,\n",
    "    max_length: int,\n",
    "    stride: int\n",
    ") -> List[str]:\n",
    "    if not isinstance(text, str):\n",
    "        return []\n",
    "\n",
    "    # Tokenize with offsets and no truncation\n",
    "    encoding = tokenizer(\n",
    "        text,\n",
    "        add_special_tokens=False,\n",
    "        return_attention_mask=False,\n",
    "        return_offsets_mapping=True,\n",
    "        truncation=False\n",
    "    )\n",
    "    input_ids = encoding[\"input_ids\"]\n",
    "    offset_mapping = encoding[\"offset_mapping\"]\n",
    "    chunks = []\n",
    "    start_token = 0\n",
    "    while start_token < len(input_ids):\n",
    "        end_token = min(start_token + max_length, len(input_ids))\n",
    "        start_char = offset_mapping[start_token][0]\n",
    "        end_char = offset_mapping[end_token - 1][1]  # Exclusive end index\n",
    "\n",
    "        chunk = text[start_char:end_char]\n",
    "        chunks.append(chunk)\n",
    "\n",
    "        # Move window\n",
    "        start_token += max_length - stride\n",
    "\n",
    "    return chunks"
   ]
  },
  {
   "cell_type": "code",
   "execution_count": 8,
   "id": "53c48444",
   "metadata": {},
   "outputs": [],
   "source": [
    "df[\"chunks\"] = df[\"text\"].apply(\n",
    "    lambda x: chunk_single_text(x, model.tokenizer, max_length=128, stride=32)\n",
    ")\n",
    "df['chunks'] = df['chunks'].explode().reset_index(drop=True)"
   ]
  },
  {
   "cell_type": "code",
   "execution_count": 9,
   "id": "e2096038",
   "metadata": {},
   "outputs": [
    {
     "name": "stderr",
     "output_type": "stream",
     "text": [
      "When tie_encoder_decoder=True, the decoder_name_or_path will be invalid.\n",
      "Some weights of BertLMHeadModel were not initialized from the model checkpoint at math-similarity/Bert-MLM_arXiv-MP-class_arXiv and are newly initialized: ['bert.encoder.layer.0.crossattention.output.LayerNorm.bias', 'bert.encoder.layer.0.crossattention.output.LayerNorm.weight', 'bert.encoder.layer.0.crossattention.output.dense.bias', 'bert.encoder.layer.0.crossattention.output.dense.weight', 'bert.encoder.layer.0.crossattention.self.key.bias', 'bert.encoder.layer.0.crossattention.self.key.weight', 'bert.encoder.layer.0.crossattention.self.query.bias', 'bert.encoder.layer.0.crossattention.self.query.weight', 'bert.encoder.layer.0.crossattention.self.value.bias', 'bert.encoder.layer.0.crossattention.self.value.weight', 'bert.encoder.layer.1.crossattention.output.LayerNorm.bias', 'bert.encoder.layer.1.crossattention.output.LayerNorm.weight', 'bert.encoder.layer.1.crossattention.output.dense.bias', 'bert.encoder.layer.1.crossattention.output.dense.weight', 'bert.encoder.layer.1.crossattention.self.key.bias', 'bert.encoder.layer.1.crossattention.self.key.weight', 'bert.encoder.layer.1.crossattention.self.query.bias', 'bert.encoder.layer.1.crossattention.self.query.weight', 'bert.encoder.layer.1.crossattention.self.value.bias', 'bert.encoder.layer.1.crossattention.self.value.weight', 'bert.encoder.layer.10.crossattention.output.LayerNorm.bias', 'bert.encoder.layer.10.crossattention.output.LayerNorm.weight', 'bert.encoder.layer.10.crossattention.output.dense.bias', 'bert.encoder.layer.10.crossattention.output.dense.weight', 'bert.encoder.layer.10.crossattention.self.key.bias', 'bert.encoder.layer.10.crossattention.self.key.weight', 'bert.encoder.layer.10.crossattention.self.query.bias', 'bert.encoder.layer.10.crossattention.self.query.weight', 'bert.encoder.layer.10.crossattention.self.value.bias', 'bert.encoder.layer.10.crossattention.self.value.weight', 'bert.encoder.layer.11.crossattention.output.LayerNorm.bias', 'bert.encoder.layer.11.crossattention.output.LayerNorm.weight', 'bert.encoder.layer.11.crossattention.output.dense.bias', 'bert.encoder.layer.11.crossattention.output.dense.weight', 'bert.encoder.layer.11.crossattention.self.key.bias', 'bert.encoder.layer.11.crossattention.self.key.weight', 'bert.encoder.layer.11.crossattention.self.query.bias', 'bert.encoder.layer.11.crossattention.self.query.weight', 'bert.encoder.layer.11.crossattention.self.value.bias', 'bert.encoder.layer.11.crossattention.self.value.weight', 'bert.encoder.layer.2.crossattention.output.LayerNorm.bias', 'bert.encoder.layer.2.crossattention.output.LayerNorm.weight', 'bert.encoder.layer.2.crossattention.output.dense.bias', 'bert.encoder.layer.2.crossattention.output.dense.weight', 'bert.encoder.layer.2.crossattention.self.key.bias', 'bert.encoder.layer.2.crossattention.self.key.weight', 'bert.encoder.layer.2.crossattention.self.query.bias', 'bert.encoder.layer.2.crossattention.self.query.weight', 'bert.encoder.layer.2.crossattention.self.value.bias', 'bert.encoder.layer.2.crossattention.self.value.weight', 'bert.encoder.layer.3.crossattention.output.LayerNorm.bias', 'bert.encoder.layer.3.crossattention.output.LayerNorm.weight', 'bert.encoder.layer.3.crossattention.output.dense.bias', 'bert.encoder.layer.3.crossattention.output.dense.weight', 'bert.encoder.layer.3.crossattention.self.key.bias', 'bert.encoder.layer.3.crossattention.self.key.weight', 'bert.encoder.layer.3.crossattention.self.query.bias', 'bert.encoder.layer.3.crossattention.self.query.weight', 'bert.encoder.layer.3.crossattention.self.value.bias', 'bert.encoder.layer.3.crossattention.self.value.weight', 'bert.encoder.layer.4.crossattention.output.LayerNorm.bias', 'bert.encoder.layer.4.crossattention.output.LayerNorm.weight', 'bert.encoder.layer.4.crossattention.output.dense.bias', 'bert.encoder.layer.4.crossattention.output.dense.weight', 'bert.encoder.layer.4.crossattention.self.key.bias', 'bert.encoder.layer.4.crossattention.self.key.weight', 'bert.encoder.layer.4.crossattention.self.query.bias', 'bert.encoder.layer.4.crossattention.self.query.weight', 'bert.encoder.layer.4.crossattention.self.value.bias', 'bert.encoder.layer.4.crossattention.self.value.weight', 'bert.encoder.layer.5.crossattention.output.LayerNorm.bias', 'bert.encoder.layer.5.crossattention.output.LayerNorm.weight', 'bert.encoder.layer.5.crossattention.output.dense.bias', 'bert.encoder.layer.5.crossattention.output.dense.weight', 'bert.encoder.layer.5.crossattention.self.key.bias', 'bert.encoder.layer.5.crossattention.self.key.weight', 'bert.encoder.layer.5.crossattention.self.query.bias', 'bert.encoder.layer.5.crossattention.self.query.weight', 'bert.encoder.layer.5.crossattention.self.value.bias', 'bert.encoder.layer.5.crossattention.self.value.weight', 'bert.encoder.layer.6.crossattention.output.LayerNorm.bias', 'bert.encoder.layer.6.crossattention.output.LayerNorm.weight', 'bert.encoder.layer.6.crossattention.output.dense.bias', 'bert.encoder.layer.6.crossattention.output.dense.weight', 'bert.encoder.layer.6.crossattention.self.key.bias', 'bert.encoder.layer.6.crossattention.self.key.weight', 'bert.encoder.layer.6.crossattention.self.query.bias', 'bert.encoder.layer.6.crossattention.self.query.weight', 'bert.encoder.layer.6.crossattention.self.value.bias', 'bert.encoder.layer.6.crossattention.self.value.weight', 'bert.encoder.layer.7.crossattention.output.LayerNorm.bias', 'bert.encoder.layer.7.crossattention.output.LayerNorm.weight', 'bert.encoder.layer.7.crossattention.output.dense.bias', 'bert.encoder.layer.7.crossattention.output.dense.weight', 'bert.encoder.layer.7.crossattention.self.key.bias', 'bert.encoder.layer.7.crossattention.self.key.weight', 'bert.encoder.layer.7.crossattention.self.query.bias', 'bert.encoder.layer.7.crossattention.self.query.weight', 'bert.encoder.layer.7.crossattention.self.value.bias', 'bert.encoder.layer.7.crossattention.self.value.weight', 'bert.encoder.layer.8.crossattention.output.LayerNorm.bias', 'bert.encoder.layer.8.crossattention.output.LayerNorm.weight', 'bert.encoder.layer.8.crossattention.output.dense.bias', 'bert.encoder.layer.8.crossattention.output.dense.weight', 'bert.encoder.layer.8.crossattention.self.key.bias', 'bert.encoder.layer.8.crossattention.self.key.weight', 'bert.encoder.layer.8.crossattention.self.query.bias', 'bert.encoder.layer.8.crossattention.self.query.weight', 'bert.encoder.layer.8.crossattention.self.value.bias', 'bert.encoder.layer.8.crossattention.self.value.weight', 'bert.encoder.layer.9.crossattention.output.LayerNorm.bias', 'bert.encoder.layer.9.crossattention.output.LayerNorm.weight', 'bert.encoder.layer.9.crossattention.output.dense.bias', 'bert.encoder.layer.9.crossattention.output.dense.weight', 'bert.encoder.layer.9.crossattention.self.key.bias', 'bert.encoder.layer.9.crossattention.self.key.weight', 'bert.encoder.layer.9.crossattention.self.query.bias', 'bert.encoder.layer.9.crossattention.self.query.weight', 'bert.encoder.layer.9.crossattention.self.value.bias', 'bert.encoder.layer.9.crossattention.self.value.weight', 'cls.predictions.bias', 'cls.predictions.decoder.bias', 'cls.predictions.transform.LayerNorm.bias', 'cls.predictions.transform.LayerNorm.weight', 'cls.predictions.transform.dense.bias', 'cls.predictions.transform.dense.weight']\n",
      "You should probably TRAIN this model on a down-stream task to be able to use it for predictions and inference.\n",
      "The following encoder weights were not tied to the decoder ['bert/pooler']\n"
     ]
    },
    {
     "data": {
      "application/vnd.jupyter.widget-view+json": {
       "model_id": "40bedfe95f8c469999414dc31af0a172",
       "version_major": 2,
       "version_minor": 0
      },
      "text/plain": [
       "Computing widget examples:   0%|          | 0/1 [00:00<?, ?example/s]"
      ]
     },
     "metadata": {},
     "output_type": "display_data"
    },
    {
     "name": "stderr",
     "output_type": "stream",
     "text": [
      "We strongly recommend passing in an `attention_mask` since your input_ids may be padded. See https://huggingface.co/docs/transformers/troubleshooting#incorrect-output-when-padding-tokens-arent-masked.\n"
     ]
    },
    {
     "data": {
      "text/html": [
       "\n",
       "    <div>\n",
       "      \n",
       "      <progress value='260' max='260' style='width:300px; height:20px; vertical-align: middle;'></progress>\n",
       "      [260/260 00:47, Epoch 5/5]\n",
       "    </div>\n",
       "    <table border=\"1\" class=\"dataframe\">\n",
       "  <thead>\n",
       " <tr style=\"text-align: left;\">\n",
       "      <th>Step</th>\n",
       "      <th>Training Loss</th>\n",
       "    </tr>\n",
       "  </thead>\n",
       "  <tbody>\n",
       "  </tbody>\n",
       "</table><p>"
      ],
      "text/plain": [
       "<IPython.core.display.HTML object>"
      ]
     },
     "metadata": {},
     "output_type": "display_data"
    }
   ],
   "source": [
    "\n",
    "\n",
    "# Define a list with sentences (1k - 100k sentences)\n",
    "train_sentences = df['chunks'].tolist()\n",
    "\n",
    "# Create the special denoising dataset that adds noise on-the-fly\n",
    "train_dataset = datasets.DenoisingAutoEncoderDataset(train_sentences)\n",
    "\n",
    "# DataLoader to batch your data\n",
    "train_dataloader = DataLoader(train_dataset, batch_size=8, shuffle=True)\n",
    "\n",
    "# Use the denoising auto-encoder loss\n",
    "train_loss = losses.DenoisingAutoEncoderLoss(\n",
    "    model, decoder_name_or_path=model_name, tie_encoder_decoder=True\n",
    ")\n",
    "\n",
    "# Call the fit method\n",
    "model.fit(\n",
    "    train_objectives=[(train_dataloader, train_loss)],\n",
    "    epochs=5,\n",
    "    weight_decay=0,\n",
    "    scheduler=\"constantlr\",\n",
    "    optimizer_params={\"lr\": 3e-5},\n",
    "    show_progress_bar=True,\n",
    ")\n",
    "\n",
    "model.save(\"models/tsdae-model\")"
   ]
  },
  {
   "cell_type": "code",
   "execution_count": 11,
   "id": "525b41b8",
   "metadata": {},
   "outputs": [],
   "source": [
    "from similarity import CosineSimScorer, BERTCLSMeanPooler, BERTCLSFirstPooler, EmbSummarizer\n",
    "models_names = [model_name]\n",
    "models = [SentenceTransformer(\"models/tsdae-model\")._first_module().auto_model]\n",
    "tokenizers = [SentenceTransformer(\"models/tsdae-model\").tokenizer]\n",
    "sum_classes = {\"First CLS\": BERTCLSFirstPooler, \"Mean CLS\": BERTCLSMeanPooler}"
   ]
  },
  {
   "cell_type": "code",
   "execution_count": 12,
   "id": "e7ff83bd",
   "metadata": {},
   "outputs": [],
   "source": [
    "import pandas as pd\n",
    "\n",
    "problemset_df = pd.read_csv(\"C:\\\\Users\\\\mokrota\\\\Documents\\\\GitHub\\\\math_problem_recommender\\\\math_problem_recommender\\\\benchmark\\\\benchmarkv3\\\\df.csv\")\n",
    "qa_df = pd.read_csv(\"C:\\\\Users\\\\mokrota\\\\Documents\\\\GitHub\\\\math_problem_recommender\\\\math_problem_recommender\\\\benchmark\\\\benchmarkv3\\\\q&a.csv\")"
   ]
  },
  {
   "cell_type": "code",
   "execution_count": 13,
   "id": "9a12fd8f",
   "metadata": {},
   "outputs": [],
   "source": [
    "def parse_text(row):\n",
    "    names = [\"Anchor\", \"Golden\", \"Silver\", \"Wrong\"]\n",
    "    texts = {}\n",
    "\n",
    "    for name in names:\n",
    "        id_name = row[name]\n",
    "        t = problemset_df[problemset_df['id'] == id_name]['Problem&Solution'].iloc[0]\n",
    "        texts[name] = t\n",
    "\n",
    "    return texts"
   ]
  },
  {
   "cell_type": "code",
   "execution_count": 14,
   "id": "c63237f7",
   "metadata": {},
   "outputs": [],
   "source": [
    "qa_df['Problem&Solution'] = qa_df.apply(parse_text, axis=1)"
   ]
  },
  {
   "cell_type": "code",
   "execution_count": 15,
   "id": "d81b6b82",
   "metadata": {},
   "outputs": [],
   "source": [
    "problemsolution = qa_df['Problem&Solution'].to_list()\n",
    "# queries = qa_df['query'].to_list()\n",
    "\n",
    "anchors = []\n",
    "texts = []\n",
    "for d in problemsolution:\n",
    "    anchors.append(d['Anchor'])\n",
    "    group = [d['Golden'], d['Silver'], d['Wrong']]\n",
    "    texts.append(group)"
   ]
  },
  {
   "cell_type": "code",
   "execution_count": 16,
   "id": "e9afc196",
   "metadata": {},
   "outputs": [],
   "source": [
    "def embed(summarizer: EmbSummarizer):\n",
    "    anchors_emb = summarizer.summarize(anchors)\n",
    "    texts_emb = []\n",
    "    for ts in texts:\n",
    "        texts_emb.append(summarizer.summarize(ts))\n",
    "    return anchors_emb, texts_emb"
   ]
  },
  {
   "cell_type": "code",
   "execution_count": 17,
   "id": "d88c3827",
   "metadata": {},
   "outputs": [],
   "source": [
    "import numpy as np\n",
    "from scipy.stats import spearmanr\n",
    "def calc_metrics(pred_ranks, true_ranks):\n",
    "    pair_check = np.array(true_ranks) == np.array(pred_ranks)\n",
    "    accuracy = pair_check.mean()\n",
    "    s = []\n",
    "    for true_rank, pred_rank in zip(true_ranks, pred_ranks):\n",
    "        rho, _ = spearmanr(true_rank, pred_rank)\n",
    "        s.append(rho)\n",
    "    spearmans = np.mean(s)\n",
    "    return {\"accuracy\": accuracy,\n",
    "            \"spearman\": spearmans}"
   ]
  },
  {
   "cell_type": "code",
   "execution_count": 18,
   "id": "a2f24085",
   "metadata": {},
   "outputs": [],
   "source": [
    "def evaluate(summarizer):\n",
    "    anchors_emb, texts_emb = embed(summarizer)\n",
    "    ranker = CosineSimScorer()\n",
    "    pred_ranks = []\n",
    "    for anchor, ts in zip(anchors_emb, texts_emb):\n",
    "        pred_ranks.append(ranker.rank(anchor, ts).cpu().numpy())\n",
    "    pred_ranks = np.stack(pred_ranks)\n",
    "    true_ranks = np.arange(len(ts))\n",
    "    true_ranks = np.tile(true_ranks, (len(anchors), 1))\n",
    "    metrics = calc_metrics(pred_ranks, true_ranks)\n",
    "    return metrics"
   ]
  },
  {
   "cell_type": "code",
   "execution_count": 19,
   "id": "ecf8cbd6",
   "metadata": {},
   "outputs": [],
   "source": [
    "results = []\n",
    "for model, tokenizer, name in zip(models, tokenizers, models_names):\n",
    "    for s_name in sum_classes:\n",
    "        s_c = sum_classes[s_name]\n",
    "        summarizer = s_c(model, tokenizer)\n",
    "        res = evaluate(summarizer)\n",
    "        res['name'] = name\n",
    "        res['pooling method'] = s_name\n",
    "        results.append(res)"
   ]
  },
  {
   "cell_type": "code",
   "execution_count": 20,
   "id": "c5606ab7",
   "metadata": {},
   "outputs": [
    {
     "data": {
      "application/vnd.microsoft.datawrangler.viewer.v0+json": {
       "columns": [
        {
         "name": "index",
         "rawType": "int64",
         "type": "integer"
        },
        {
         "name": "accuracy",
         "rawType": "float64",
         "type": "float"
        },
        {
         "name": "spearman",
         "rawType": "float64",
         "type": "float"
        },
        {
         "name": "name",
         "rawType": "object",
         "type": "string"
        },
        {
         "name": "pooling method",
         "rawType": "object",
         "type": "string"
        }
       ],
       "ref": "3baebf9b-544d-4c2f-ab1c-9db066d12c59",
       "rows": [
        [
         "0",
         "0.5714285714285714",
         "0.5714285714285714",
         "math-similarity/Bert-MLM_arXiv-MP-class_arXiv",
         "First CLS"
        ],
        [
         "1",
         "0.3333333333333333",
         "0.2857142857142857",
         "math-similarity/Bert-MLM_arXiv-MP-class_arXiv",
         "Mean CLS"
        ]
       ],
       "shape": {
        "columns": 4,
        "rows": 2
       }
      },
      "text/html": [
       "<div>\n",
       "<style scoped>\n",
       "    .dataframe tbody tr th:only-of-type {\n",
       "        vertical-align: middle;\n",
       "    }\n",
       "\n",
       "    .dataframe tbody tr th {\n",
       "        vertical-align: top;\n",
       "    }\n",
       "\n",
       "    .dataframe thead th {\n",
       "        text-align: right;\n",
       "    }\n",
       "</style>\n",
       "<table border=\"1\" class=\"dataframe\">\n",
       "  <thead>\n",
       "    <tr style=\"text-align: right;\">\n",
       "      <th></th>\n",
       "      <th>accuracy</th>\n",
       "      <th>spearman</th>\n",
       "      <th>name</th>\n",
       "      <th>pooling method</th>\n",
       "    </tr>\n",
       "  </thead>\n",
       "  <tbody>\n",
       "    <tr>\n",
       "      <th>0</th>\n",
       "      <td>0.571429</td>\n",
       "      <td>0.571429</td>\n",
       "      <td>math-similarity/Bert-MLM_arXiv-MP-class_arXiv</td>\n",
       "      <td>First CLS</td>\n",
       "    </tr>\n",
       "    <tr>\n",
       "      <th>1</th>\n",
       "      <td>0.333333</td>\n",
       "      <td>0.285714</td>\n",
       "      <td>math-similarity/Bert-MLM_arXiv-MP-class_arXiv</td>\n",
       "      <td>Mean CLS</td>\n",
       "    </tr>\n",
       "  </tbody>\n",
       "</table>\n",
       "</div>"
      ],
      "text/plain": [
       "   accuracy  spearman                                           name  \\\n",
       "0  0.571429  0.571429  math-similarity/Bert-MLM_arXiv-MP-class_arXiv   \n",
       "1  0.333333  0.285714  math-similarity/Bert-MLM_arXiv-MP-class_arXiv   \n",
       "\n",
       "  pooling method  \n",
       "0      First CLS  \n",
       "1       Mean CLS  "
      ]
     },
     "execution_count": 20,
     "metadata": {},
     "output_type": "execute_result"
    }
   ],
   "source": [
    "pd.DataFrame(results)"
   ]
  }
 ],
 "metadata": {
  "kernelspec": {
   "display_name": ".venv",
   "language": "python",
   "name": "python3"
  },
  "language_info": {
   "codemirror_mode": {
    "name": "ipython",
    "version": 3
   },
   "file_extension": ".py",
   "mimetype": "text/x-python",
   "name": "python",
   "nbconvert_exporter": "python",
   "pygments_lexer": "ipython3",
   "version": "3.12.10"
  }
 },
 "nbformat": 4,
 "nbformat_minor": 5
}
