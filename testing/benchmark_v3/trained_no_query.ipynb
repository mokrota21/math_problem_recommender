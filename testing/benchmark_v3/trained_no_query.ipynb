{
 "cells": [
  {
   "cell_type": "code",
   "execution_count": 1,
   "id": "20850f5b",
   "metadata": {},
   "outputs": [],
   "source": [
    "import pandas as pd\n",
    "import os\n",
    "import torch\n",
    "from transformers import AutoModel, AutoTokenizer\n",
    "\n",
    "class TrainableBERTCLSMeanPooler(torch.nn.Module):\n",
    "    def __init__(self, model_name='allenai/longformer-base-4096', stride=10, max_length=1024):\n",
    "        super().__init__()\n",
    "        self.tokenizer = AutoTokenizer.from_pretrained(model_name)\n",
    "        self.model = AutoModel.from_pretrained(model_name)\n",
    "        self.tokenizer_args = {\n",
    "            \"max_length\": max_length,\n",
    "            \"stride\": stride,\n",
    "            \"return_overflowing_tokens\": True,\n",
    "            \"truncation\": True,\n",
    "            \"padding\": True,\n",
    "            \"return_tensors\": \"pt\"\n",
    "        }\n",
    "\n",
    "    def forward(self, texts: list[str]):\n",
    "        if isinstance(texts, str):\n",
    "            texts = [texts]\n",
    "\n",
    "        inputs = self.tokenizer(texts, **self.tokenizer_args)\n",
    "        input_ids = inputs['input_ids'].to(self.model.device)\n",
    "        attention_mask = inputs['attention_mask'].to(self.model.device)\n",
    "        token_type_ids = inputs.get('token_type_ids')\n",
    "        if token_type_ids is not None:\n",
    "            token_type_ids = token_type_ids.to(self.model.device)\n",
    "        if \"overflow_to_sample_mapping\" not in inputs:\n",
    "            inputs['overflow_to_sample_mapping'] = [0]\n",
    "            \n",
    "        mapping = inputs['overflow_to_sample_mapping']\n",
    "\n",
    "        model_inputs = {\n",
    "            \"input_ids\": input_ids,\n",
    "            \"attention_mask\": attention_mask\n",
    "        }\n",
    "        if token_type_ids is not None:\n",
    "            model_inputs[\"token_type_ids\"] = token_type_ids\n",
    "\n",
    "        outputs = self.model(**model_inputs)  # (batch * chunks, seq_len, hidden_size)\n",
    "        cls_embs = outputs.last_hidden_state[:, 0]  # (batch * chunks, hidden_size)\n",
    "\n",
    "        # Now average CLS embeddings for each original sample using mapping\n",
    "        grouped_cls = []\n",
    "        for i in range(len(texts)):\n",
    "            indices = [j for j, v in enumerate(mapping) if v == i]\n",
    "            cls_group = cls_embs[indices]\n",
    "            mean_cls = cls_group.mean(dim=0)\n",
    "            grouped_cls.append(mean_cls)\n",
    "\n",
    "        return torch.stack(grouped_cls, dim=0)  # (batch, hidden_size)\n"
   ]
  },
  {
   "cell_type": "code",
   "execution_count": 2,
   "id": "962bc921",
   "metadata": {},
   "outputs": [
    {
     "data": {
      "text/plain": [
       "TrainableBERTCLSMeanPooler(\n",
       "  (model): LongformerModel(\n",
       "    (embeddings): LongformerEmbeddings(\n",
       "      (word_embeddings): Embedding(50265, 768, padding_idx=1)\n",
       "      (token_type_embeddings): Embedding(1, 768)\n",
       "      (LayerNorm): LayerNorm((768,), eps=1e-05, elementwise_affine=True)\n",
       "      (dropout): Dropout(p=0.1, inplace=False)\n",
       "      (position_embeddings): Embedding(4098, 768, padding_idx=1)\n",
       "    )\n",
       "    (encoder): LongformerEncoder(\n",
       "      (layer): ModuleList(\n",
       "        (0-11): 12 x LongformerLayer(\n",
       "          (attention): LongformerAttention(\n",
       "            (self): LongformerSelfAttention(\n",
       "              (query): Linear(in_features=768, out_features=768, bias=True)\n",
       "              (key): Linear(in_features=768, out_features=768, bias=True)\n",
       "              (value): Linear(in_features=768, out_features=768, bias=True)\n",
       "              (query_global): Linear(in_features=768, out_features=768, bias=True)\n",
       "              (key_global): Linear(in_features=768, out_features=768, bias=True)\n",
       "              (value_global): Linear(in_features=768, out_features=768, bias=True)\n",
       "            )\n",
       "            (output): LongformerSelfOutput(\n",
       "              (dense): Linear(in_features=768, out_features=768, bias=True)\n",
       "              (LayerNorm): LayerNorm((768,), eps=1e-05, elementwise_affine=True)\n",
       "              (dropout): Dropout(p=0.1, inplace=False)\n",
       "            )\n",
       "          )\n",
       "          (intermediate): LongformerIntermediate(\n",
       "            (dense): Linear(in_features=768, out_features=3072, bias=True)\n",
       "            (intermediate_act_fn): GELUActivation()\n",
       "          )\n",
       "          (output): LongformerOutput(\n",
       "            (dense): Linear(in_features=3072, out_features=768, bias=True)\n",
       "            (LayerNorm): LayerNorm((768,), eps=1e-05, elementwise_affine=True)\n",
       "            (dropout): Dropout(p=0.1, inplace=False)\n",
       "          )\n",
       "        )\n",
       "      )\n",
       "    )\n",
       "    (pooler): LongformerPooler(\n",
       "      (dense): Linear(in_features=768, out_features=768, bias=True)\n",
       "      (activation): Tanh()\n",
       "    )\n",
       "  )\n",
       ")"
      ]
     },
     "execution_count": 2,
     "metadata": {},
     "output_type": "execute_result"
    }
   ],
   "source": [
    "model = TrainableBERTCLSMeanPooler()\n",
    "model.load_state_dict(torch.load(\"model_weights.pt\", map_location=torch.device(\"cuda\" if torch.cuda.is_available() else \"cpu\")))\n",
    "model.eval()"
   ]
  },
  {
   "cell_type": "code",
   "execution_count": 3,
   "id": "9afa5f68",
   "metadata": {},
   "outputs": [],
   "source": [
    "import pandas as pd\n",
    "from similarity import CosineSimScorer\n",
    "\n",
    "problemset_df = pd.read_csv(\"C:\\\\Users\\\\mokrota\\\\Documents\\\\GitHub\\\\math_problem_recommender\\\\math_problem_recommender\\\\benchmark\\\\benchmarkv3\\\\df.csv\")\n",
    "qa_df = pd.read_csv(\"C:\\\\Users\\\\mokrota\\\\Documents\\\\GitHub\\\\math_problem_recommender\\\\math_problem_recommender\\\\benchmark\\\\benchmarkv3\\\\q&a.csv\")"
   ]
  },
  {
   "cell_type": "code",
   "execution_count": 4,
   "id": "aacab512",
   "metadata": {},
   "outputs": [],
   "source": [
    "def parse_text(row):\n",
    "    names = [\"Anchor\", \"Golden\", \"Silver\", \"Wrong\"]\n",
    "    texts = {}\n",
    "\n",
    "    for name in names:\n",
    "        id_name = row[name]\n",
    "        t = problemset_df[problemset_df['id'] == id_name]['Problem&Solution'].iloc[0]\n",
    "        texts[name] = t\n",
    "\n",
    "    return texts"
   ]
  },
  {
   "cell_type": "code",
   "execution_count": 5,
   "id": "bc5d6f07",
   "metadata": {},
   "outputs": [],
   "source": [
    "qa_df['Problem&Solution'] = qa_df.apply(parse_text, axis=1)"
   ]
  },
  {
   "cell_type": "code",
   "execution_count": 6,
   "id": "16bce3b5",
   "metadata": {},
   "outputs": [],
   "source": [
    "problemsolution = qa_df['Problem&Solution'].to_list()\n",
    "# queries = qa_df['query'].to_list()\n",
    "\n",
    "anchors = []\n",
    "texts = []\n",
    "for d in problemsolution:\n",
    "    anchors.append(d['Anchor'])\n",
    "    group = [d['Golden'], d['Silver'], d['Wrong']]\n",
    "    texts.append(group)"
   ]
  },
  {
   "cell_type": "code",
   "execution_count": 7,
   "id": "5cc5ddc2",
   "metadata": {},
   "outputs": [],
   "source": [
    "from tqdm import tqdm\n",
    "\n",
    "def embed():\n",
    "    # Embed each anchor one by one\n",
    "    anchors_emb_list = [model([a]) for a in anchors]  # Each output shape: (1, hidden_size)\n",
    "    anchors_emb = torch.cat(anchors_emb_list, dim=0)  # Final shape: (len(anchors), hidden_size)\n",
    "\n",
    "    texts_emb = []\n",
    "    for ts in tqdm(texts):\n",
    "        if isinstance(ts, str):\n",
    "            emb = model([ts])  # Single string input\n",
    "        else:\n",
    "            emb = model(ts)  # ts is already a list of strings\n",
    "        texts_emb.append(emb)  # Shape: (len(ts), hidden_size) or (1, hidden_size)\n",
    "\n",
    "    return anchors_emb, texts_emb\n"
   ]
  },
  {
   "cell_type": "code",
   "execution_count": 8,
   "id": "3f0ebb5a",
   "metadata": {},
   "outputs": [],
   "source": [
    "import numpy as np\n",
    "from scipy.stats import spearmanr\n",
    "def calc_metrics(pred_ranks, true_ranks):\n",
    "    pair_check = np.array(true_ranks) == np.array(pred_ranks)\n",
    "    accuracy = pair_check.mean()\n",
    "    s = []\n",
    "    for true_rank, pred_rank in zip(true_ranks, pred_ranks):\n",
    "        rho, _ = spearmanr(true_rank, pred_rank)\n",
    "        s.append(rho)\n",
    "    spearmans = np.mean(s)\n",
    "    return {\"accuracy\": accuracy,\n",
    "            \"spearman\": spearmans}"
   ]
  },
  {
   "cell_type": "code",
   "execution_count": null,
   "id": "17405d15",
   "metadata": {},
   "outputs": [],
   "source": [
    "def evaluate():\n",
    "    anchors_emb, texts_emb = embed()\n",
    "    ranker = CosineSimScorer()\n",
    "    pred_ranks = []\n",
    "    for anchor, ts in zip(anchors_emb, texts_emb):\n",
    "        pred_ranks.append(ranker.rank(anchor, ts).cpu().numpy())\n",
    "    pred_ranks = np.stack(pred_ranks)\n",
    "    true_ranks = np.arange(len(ts))\n",
    "    true_ranks = np.tile(true_ranks, (len(anchors), 1))\n",
    "    metrics = calc_metrics(pred_ranks, true_ranks)\n",
    "    return metrics"
   ]
  },
  {
   "cell_type": "code",
   "execution_count": 10,
   "id": "9703ea60",
   "metadata": {},
   "outputs": [
    {
     "name": "stderr",
     "output_type": "stream",
     "text": [
      "Input ids are automatically padded to be a multiple of `config.attention_window`: 512\n",
      "100%|██████████| 7/7 [00:35<00:00,  5.07s/it]\n"
     ]
    },
    {
     "name": "stdout",
     "output_type": "stream",
     "text": [
      "here\n"
     ]
    }
   ],
   "source": [
    "results = []\n",
    "res = evaluate()\n",
    "res['name'] = \"Tuned longformer\"\n",
    "results.append(res)"
   ]
  },
  {
   "cell_type": "code",
   "execution_count": 11,
   "id": "ab123082",
   "metadata": {},
   "outputs": [
    {
     "data": {
      "application/vnd.microsoft.datawrangler.viewer.v0+json": {
       "columns": [
        {
         "name": "index",
         "rawType": "int64",
         "type": "integer"
        },
        {
         "name": "accuracy",
         "rawType": "float64",
         "type": "float"
        },
        {
         "name": "spearman",
         "rawType": "float64",
         "type": "float"
        },
        {
         "name": "name",
         "rawType": "object",
         "type": "string"
        }
       ],
       "ref": "5133a85a-5a23-4109-9e94-4cfceebe54bd",
       "rows": [
        [
         "0",
         "0.42857142857142855",
         "0.14285714285714285",
         "Tuned longformer"
        ]
       ],
       "shape": {
        "columns": 3,
        "rows": 1
       }
      },
      "text/html": [
       "<div>\n",
       "<style scoped>\n",
       "    .dataframe tbody tr th:only-of-type {\n",
       "        vertical-align: middle;\n",
       "    }\n",
       "\n",
       "    .dataframe tbody tr th {\n",
       "        vertical-align: top;\n",
       "    }\n",
       "\n",
       "    .dataframe thead th {\n",
       "        text-align: right;\n",
       "    }\n",
       "</style>\n",
       "<table border=\"1\" class=\"dataframe\">\n",
       "  <thead>\n",
       "    <tr style=\"text-align: right;\">\n",
       "      <th></th>\n",
       "      <th>accuracy</th>\n",
       "      <th>spearman</th>\n",
       "      <th>name</th>\n",
       "    </tr>\n",
       "  </thead>\n",
       "  <tbody>\n",
       "    <tr>\n",
       "      <th>0</th>\n",
       "      <td>0.428571</td>\n",
       "      <td>0.142857</td>\n",
       "      <td>Tuned longformer</td>\n",
       "    </tr>\n",
       "  </tbody>\n",
       "</table>\n",
       "</div>"
      ],
      "text/plain": [
       "   accuracy  spearman              name\n",
       "0  0.428571  0.142857  Tuned longformer"
      ]
     },
     "execution_count": 11,
     "metadata": {},
     "output_type": "execute_result"
    }
   ],
   "source": [
    "pd.DataFrame(results)"
   ]
  }
 ],
 "metadata": {
  "kernelspec": {
   "display_name": ".venv",
   "language": "python",
   "name": "python3"
  },
  "language_info": {
   "codemirror_mode": {
    "name": "ipython",
    "version": 3
   },
   "file_extension": ".py",
   "mimetype": "text/x-python",
   "name": "python",
   "nbconvert_exporter": "python",
   "pygments_lexer": "ipython3",
   "version": "3.12.10"
  }
 },
 "nbformat": 4,
 "nbformat_minor": 5
}
