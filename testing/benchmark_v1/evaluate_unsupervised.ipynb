{
 "cells": [
  {
   "cell_type": "code",
   "execution_count": null,
   "id": "8ce3fbc2",
   "metadata": {},
   "outputs": [],
   "source": [
    "from utils import clustering_eval\n",
    "import pandas as pd\n",
    "import os\n",
    "from sentence_transformers import SentenceTransformer\n",
    "from ast import literal_eval\n",
    "from pprint import pprint\n",
    "\n",
    "df = pd.read_csv(os.path.abspath(\"benchmark\\\\andreescu-andrica-problems-on-number-theory\\\\benchmark_v1.csv\"))\n",
    "df[\"Problem&Solution\"] = df[\"Problem&Solution\"].apply(literal_eval)\n",
    "df = df.explode(column=[\"Problem&Solution\"]).reset_index().rename(columns={\"index\": 'label'})\n",
    "df = df[[\"label\", \"Problem&Solution\"]].rename(columns={\"Problem&Solution\": 'text'})\n",
    "\n",
    "sample_models = 30"
   ]
  },
  {
   "cell_type": "code",
   "execution_count": 5,
   "id": "7100f2e0",
   "metadata": {},
   "outputs": [],
   "source": [
    "from random import uniform\n",
    "from pprint import pprint\n",
    "\n",
    "def test_model(model):\n",
    "    thresholds = [uniform(0.0, 1.0) for _ in range(sample_models)]\n",
    "    best_score = None\n",
    "    best_threshold = None\n",
    "    best_clusters = None\n",
    "    best_fig = None\n",
    "    best_metrics_d = None\n",
    "    for threshold in thresholds:\n",
    "        clusters, fig, metrics_d = clustering_eval(df, model, min_community_size=1, threshold=threshold, log=False)\n",
    "        m = metrics_d['adjusted random score']\n",
    "        if not best_score or m > best_score:\n",
    "            best_clusters = clusters\n",
    "            best_fig = fig\n",
    "            best_metrics_d = metrics_d\n",
    "            best_score = m\n",
    "            best_threshold = threshold\n",
    "    pprint(f\"Best Threshold: {best_threshold};\\nBest scores: {best_metrics_d};\\nBest clusters: {best_clusters}\")\n",
    "    best_fig.show()\n",
    "\n",
    "    return best_clusters, best_fig, best_metrics_d, best_threshold"
   ]
  },
  {
   "cell_type": "code",
   "execution_count": null,
   "id": "a5ed9a1b",
   "metadata": {},
   "outputs": [],
   "source": []
  },
  {
   "cell_type": "markdown",
   "id": "5d4f69e7",
   "metadata": {},
   "source": [
    "## Baseline (out of the box model)"
   ]
  },
  {
   "cell_type": "code",
   "execution_count": 8,
   "id": "2edce23f",
   "metadata": {},
   "outputs": [
    {
     "data": {
      "application/vnd.jupyter.widget-view+json": {
       "model_id": "80ec8e1a9934487d9b048b6e119556a6",
       "version_major": 2,
       "version_minor": 0
      },
      "text/plain": [
       "Batches:   0%|          | 0/7 [00:00<?, ?it/s]"
      ]
     },
     "metadata": {},
     "output_type": "display_data"
    },
    {
     "data": {
      "application/vnd.jupyter.widget-view+json": {
       "model_id": "f4699167caeb4891a0efe451f4796972",
       "version_major": 2,
       "version_minor": 0
      },
      "text/plain": [
       "Batches:   0%|          | 0/7 [00:00<?, ?it/s]"
      ]
     },
     "metadata": {},
     "output_type": "display_data"
    },
    {
     "data": {
      "application/vnd.jupyter.widget-view+json": {
       "model_id": "2476b99d85eb4435942abd8cd3f8580d",
       "version_major": 2,
       "version_minor": 0
      },
      "text/plain": [
       "Batches:   0%|          | 0/7 [00:00<?, ?it/s]"
      ]
     },
     "metadata": {},
     "output_type": "display_data"
    },
    {
     "data": {
      "application/vnd.jupyter.widget-view+json": {
       "model_id": "b2aaefbc9517430884baa4f8f3929702",
       "version_major": 2,
       "version_minor": 0
      },
      "text/plain": [
       "Batches:   0%|          | 0/7 [00:00<?, ?it/s]"
      ]
     },
     "metadata": {},
     "output_type": "display_data"
    },
    {
     "data": {
      "application/vnd.jupyter.widget-view+json": {
       "model_id": "6f2b0f45efb44b0494187a773c1bc357",
       "version_major": 2,
       "version_minor": 0
      },
      "text/plain": [
       "Batches:   0%|          | 0/7 [00:00<?, ?it/s]"
      ]
     },
     "metadata": {},
     "output_type": "display_data"
    },
    {
     "data": {
      "application/vnd.jupyter.widget-view+json": {
       "model_id": "6a639fe95f1a4a8fb44db9b12cd9fd73",
       "version_major": 2,
       "version_minor": 0
      },
      "text/plain": [
       "Batches:   0%|          | 0/7 [00:00<?, ?it/s]"
      ]
     },
     "metadata": {},
     "output_type": "display_data"
    },
    {
     "data": {
      "application/vnd.jupyter.widget-view+json": {
       "model_id": "98a852418f16498093d1d4a298230d90",
       "version_major": 2,
       "version_minor": 0
      },
      "text/plain": [
       "Batches:   0%|          | 0/7 [00:00<?, ?it/s]"
      ]
     },
     "metadata": {},
     "output_type": "display_data"
    },
    {
     "data": {
      "application/vnd.jupyter.widget-view+json": {
       "model_id": "56576b4f07264ce1a7772c6c8a131d16",
       "version_major": 2,
       "version_minor": 0
      },
      "text/plain": [
       "Batches:   0%|          | 0/7 [00:00<?, ?it/s]"
      ]
     },
     "metadata": {},
     "output_type": "display_data"
    },
    {
     "data": {
      "application/vnd.jupyter.widget-view+json": {
       "model_id": "99438b4ec0a842439d9d478e3ec652d4",
       "version_major": 2,
       "version_minor": 0
      },
      "text/plain": [
       "Batches:   0%|          | 0/7 [00:00<?, ?it/s]"
      ]
     },
     "metadata": {},
     "output_type": "display_data"
    },
    {
     "data": {
      "application/vnd.jupyter.widget-view+json": {
       "model_id": "e86223cfc9da41a1be40f44143d7a0b8",
       "version_major": 2,
       "version_minor": 0
      },
      "text/plain": [
       "Batches:   0%|          | 0/7 [00:00<?, ?it/s]"
      ]
     },
     "metadata": {},
     "output_type": "display_data"
    },
    {
     "data": {
      "application/vnd.jupyter.widget-view+json": {
       "model_id": "35a5c36874fd44c3a395233f425f8372",
       "version_major": 2,
       "version_minor": 0
      },
      "text/plain": [
       "Batches:   0%|          | 0/7 [00:00<?, ?it/s]"
      ]
     },
     "metadata": {},
     "output_type": "display_data"
    },
    {
     "data": {
      "application/vnd.jupyter.widget-view+json": {
       "model_id": "5ea4c9ceb8004ffc9d8e543b4906bac1",
       "version_major": 2,
       "version_minor": 0
      },
      "text/plain": [
       "Batches:   0%|          | 0/7 [00:00<?, ?it/s]"
      ]
     },
     "metadata": {},
     "output_type": "display_data"
    },
    {
     "data": {
      "application/vnd.jupyter.widget-view+json": {
       "model_id": "9810bfe204fc400b9e358d091857974d",
       "version_major": 2,
       "version_minor": 0
      },
      "text/plain": [
       "Batches:   0%|          | 0/7 [00:00<?, ?it/s]"
      ]
     },
     "metadata": {},
     "output_type": "display_data"
    },
    {
     "data": {
      "application/vnd.jupyter.widget-view+json": {
       "model_id": "f9b0ca734e8b4e5db3dc44338a940a34",
       "version_major": 2,
       "version_minor": 0
      },
      "text/plain": [
       "Batches:   0%|          | 0/7 [00:00<?, ?it/s]"
      ]
     },
     "metadata": {},
     "output_type": "display_data"
    },
    {
     "data": {
      "application/vnd.jupyter.widget-view+json": {
       "model_id": "bef77b1203b1441688ac4c6c21381a6b",
       "version_major": 2,
       "version_minor": 0
      },
      "text/plain": [
       "Batches:   0%|          | 0/7 [00:00<?, ?it/s]"
      ]
     },
     "metadata": {},
     "output_type": "display_data"
    },
    {
     "data": {
      "application/vnd.jupyter.widget-view+json": {
       "model_id": "6525ed3537794d108426be778280dc94",
       "version_major": 2,
       "version_minor": 0
      },
      "text/plain": [
       "Batches:   0%|          | 0/7 [00:00<?, ?it/s]"
      ]
     },
     "metadata": {},
     "output_type": "display_data"
    },
    {
     "data": {
      "application/vnd.jupyter.widget-view+json": {
       "model_id": "07e6027bf5e7441fad2ab36701c28952",
       "version_major": 2,
       "version_minor": 0
      },
      "text/plain": [
       "Batches:   0%|          | 0/7 [00:00<?, ?it/s]"
      ]
     },
     "metadata": {},
     "output_type": "display_data"
    },
    {
     "data": {
      "application/vnd.jupyter.widget-view+json": {
       "model_id": "1f1b9cae26c14312925f468fa648cb3e",
       "version_major": 2,
       "version_minor": 0
      },
      "text/plain": [
       "Batches:   0%|          | 0/7 [00:00<?, ?it/s]"
      ]
     },
     "metadata": {},
     "output_type": "display_data"
    },
    {
     "data": {
      "application/vnd.jupyter.widget-view+json": {
       "model_id": "519ee58b85334a379c702abcbbe67108",
       "version_major": 2,
       "version_minor": 0
      },
      "text/plain": [
       "Batches:   0%|          | 0/7 [00:00<?, ?it/s]"
      ]
     },
     "metadata": {},
     "output_type": "display_data"
    },
    {
     "data": {
      "application/vnd.jupyter.widget-view+json": {
       "model_id": "6a02b5c6065d40189302e78e174e3cf3",
       "version_major": 2,
       "version_minor": 0
      },
      "text/plain": [
       "Batches:   0%|          | 0/7 [00:00<?, ?it/s]"
      ]
     },
     "metadata": {},
     "output_type": "display_data"
    },
    {
     "data": {
      "application/vnd.jupyter.widget-view+json": {
       "model_id": "bb8b48d7097345c1a796f30c40da31c0",
       "version_major": 2,
       "version_minor": 0
      },
      "text/plain": [
       "Batches:   0%|          | 0/7 [00:00<?, ?it/s]"
      ]
     },
     "metadata": {},
     "output_type": "display_data"
    },
    {
     "data": {
      "application/vnd.jupyter.widget-view+json": {
       "model_id": "d5c8180172994262a0246d4e0f4d5404",
       "version_major": 2,
       "version_minor": 0
      },
      "text/plain": [
       "Batches:   0%|          | 0/7 [00:00<?, ?it/s]"
      ]
     },
     "metadata": {},
     "output_type": "display_data"
    },
    {
     "data": {
      "application/vnd.jupyter.widget-view+json": {
       "model_id": "7b639dfabb374cb19e736bba1ccd6a40",
       "version_major": 2,
       "version_minor": 0
      },
      "text/plain": [
       "Batches:   0%|          | 0/7 [00:00<?, ?it/s]"
      ]
     },
     "metadata": {},
     "output_type": "display_data"
    },
    {
     "data": {
      "application/vnd.jupyter.widget-view+json": {
       "model_id": "b8e4e89b5b484361b11f4f778d63263f",
       "version_major": 2,
       "version_minor": 0
      },
      "text/plain": [
       "Batches:   0%|          | 0/7 [00:00<?, ?it/s]"
      ]
     },
     "metadata": {},
     "output_type": "display_data"
    },
    {
     "data": {
      "application/vnd.jupyter.widget-view+json": {
       "model_id": "1df19abecd8145a0a0de34fa6fa63204",
       "version_major": 2,
       "version_minor": 0
      },
      "text/plain": [
       "Batches:   0%|          | 0/7 [00:00<?, ?it/s]"
      ]
     },
     "metadata": {},
     "output_type": "display_data"
    },
    {
     "data": {
      "application/vnd.jupyter.widget-view+json": {
       "model_id": "0e72d07406e04725865e29676528c45a",
       "version_major": 2,
       "version_minor": 0
      },
      "text/plain": [
       "Batches:   0%|          | 0/7 [00:00<?, ?it/s]"
      ]
     },
     "metadata": {},
     "output_type": "display_data"
    },
    {
     "data": {
      "application/vnd.jupyter.widget-view+json": {
       "model_id": "11e7b229ac3b4cb08a7f4a0306a46b14",
       "version_major": 2,
       "version_minor": 0
      },
      "text/plain": [
       "Batches:   0%|          | 0/7 [00:00<?, ?it/s]"
      ]
     },
     "metadata": {},
     "output_type": "display_data"
    },
    {
     "data": {
      "application/vnd.jupyter.widget-view+json": {
       "model_id": "989d3a75fa204c9aa01b5b0304d0af1b",
       "version_major": 2,
       "version_minor": 0
      },
      "text/plain": [
       "Batches:   0%|          | 0/7 [00:00<?, ?it/s]"
      ]
     },
     "metadata": {},
     "output_type": "display_data"
    },
    {
     "data": {
      "application/vnd.jupyter.widget-view+json": {
       "model_id": "94663954fa0d488eb43f9ae2c66bf72a",
       "version_major": 2,
       "version_minor": 0
      },
      "text/plain": [
       "Batches:   0%|          | 0/7 [00:00<?, ?it/s]"
      ]
     },
     "metadata": {},
     "output_type": "display_data"
    },
    {
     "data": {
      "application/vnd.jupyter.widget-view+json": {
       "model_id": "b66f3a8591e04abaafefd4bbbb0c24e7",
       "version_major": 2,
       "version_minor": 0
      },
      "text/plain": [
       "Batches:   0%|          | 0/7 [00:00<?, ?it/s]"
      ]
     },
     "metadata": {},
     "output_type": "display_data"
    },
    {
     "name": "stdout",
     "output_type": "stream",
     "text": [
      "('Best Threshold: 0.6105674249657815;\\n'\n",
      " \"Best scores: {'random score': 0.9673656163113994, 'adjusted random score': \"\n",
      " '0.08684651735413954};\\n'\n",
      " 'Best clusters: [[61, 273, 366, 275, 143, 199, 367, 276, 255, 285, 263, 286, '\n",
      " '409, 284, 104, 340, 407, 281, 4, 271, 365, 280, 158, 371], [75, 85, 324, 68, '\n",
      " '338, 326, 327, 387, 333, 157, 66, 183, 163, 181, 313], [152, 386, 381, 385, '\n",
      " '337, 83, 62, 43, 390, 243, 58, 394, 389, 80], [408, 267, 277, 154, 150, 411, '\n",
      " '160, 102, 155, 303], [237, 232, 229, 231, 230, 247, 25, 248, 32, 236], [3, '\n",
      " '259, 6, 260, 362, 218, 412], [220, 388, 212, 391, 258, 151, 222], [98, 312, '\n",
      " '45, 164, 138, 167, 180], [325, 342, 202, 318, 335, 37, 341], [21, 19, 17, '\n",
      " '18, 22, 20, 24], [36, 35, 34, 33, 28, 31, 29], [134, 215, 304, 42, 321, '\n",
      " '339], [84, 168, 65, 79, 179, 265], [402, 375, 382, 320, 331, 374], [86, 184, '\n",
      " '175, 177, 81, 302], [119, 227, 47, 118, 113], [355, 361, 343, 354, 348], '\n",
      " '[161, 140, 26, 299, 30], [87, 95, 88, 108, 90], [357, 194, 358, 305], [130, '\n",
      " '383, 396, 264], [210, 405, 398, 376], [319, 328, 334, 197], [203, 268, 332, '\n",
      " '209], [149, 126, 97, 114], [153, 269, 103], [270, 289, 287], [173, 204, '\n",
      " '146], [100, 101, 329], [166, 274, 359], [162, 291, 294], [415, 187, 413], '\n",
      " '[10, 278, 9], [211, 200, 336], [219, 125], [156, 178], [261, 364], [172, '\n",
      " '77], [70, 254], [142, 115], [109, 123], [395, 401], [245, 107], [403, 207], '\n",
      " '[5, 2], [94, 122], [290, 293], [92, 148], [106, 377], [52, 67], [235, 234], '\n",
      " '[360, 350], [14, 7], [93, 41], [117, 147], [298, 300], [308, 414], [346, '\n",
      " '322], [144, 133], [373, 378], [39, 208], [50, 128], [55, 189], [69, 73], '\n",
      " '[76, 82], [110, 111], [135, 170], [214, 216], [279, 288], [112], [410], '\n",
      " '[257], [372], [380], [48], [71], [393], [311], [314], [310], [49], [116], '\n",
      " '[228], [233], [11], [246], [256], [252], [309], [370], [46], [60], [351], '\n",
      " '[201], [397], [363], [399], [282], [353], [292], [345], [379], [121], [213], '\n",
      " '[89], [223], [195], [392], [217], [384], [78], [136], [224], [225], [283], '\n",
      " '[297], [406], [0], [1], [8], [12], [13], [15], [16], [23], [27], [38], [40], '\n",
      " '[44], [51], [53], [54], [56], [57], [59], [63], [64], [72], [74], [91], '\n",
      " '[96], [99], [105], [120], [124], [127], [129], [131], [132], [137], [139], '\n",
      " '[141], [145], [159], [165], [169], [171], [174], [176], [182], [185], [186], '\n",
      " '[188], [190], [191], [192], [193], [196], [198], [205], [206], [221], [226], '\n",
      " '[238], [239], [240], [241], [242], [244], [249], [250], [251], [253], [262], '\n",
      " '[266], [272], [295], [296], [301], [306], [307], [315], [316], [317], [323], '\n",
      " '[330], [344], [347], [349], [352], [356], [368], [369], [400], [404]]')\n"
     ]
    },
    {
     "data": {
      "application/vnd.plotly.v1+json": {
       "config": {
        "plotlyServerURL": "https://plot.ly"
       },
       "data": [
        {
         "legendgroup": "gt",
         "marker": {
          "color": "#1f77b4",
          "size": 6
         },
         "mode": "markers",
         "name": "GT Group 0",
         "showlegend": false,
         "type": "scatter",
         "x": {
          "bdata": "NWvbQIe5eUDw3iC/tjcCQKtSCr/Q2/c/40brQQ==",
          "dtype": "f4"
         },
         "xaxis": "x",
         "y": {
          "bdata": "lWpkwoSeasKknGvCZN9swsVdTsJIbWjCWmVawg==",
          "dtype": "f4"
         },
         "yaxis": "y"
        },
        {
         "legendgroup": "gt",
         "marker": {
          "color": "#1f77b4",
          "size": 6
         },
         "mode": "markers",
         "name": "GT Group 1",
         "showlegend": false,
         "type": "scatter",
         "x": {
          "bdata": "iz44wohb4cAhz6zAXFCDwLsJPMKpk0HCJ5dmwscaQMLTFUfCOcolwg==",
          "dtype": "f4"
         },
         "xaxis": "x",
         "y": {
          "bdata": "/nEdwnpIAsLNkAHC6d8AwgNqG8LYsBPCrSPTwWM/GcI38BrCtrcyQg==",
          "dtype": "f4"
         },
         "yaxis": "y"
        },
        {
         "legendgroup": "gt",
         "marker": {
          "color": "#1f77b4",
          "size": 6
         },
         "mode": "markers",
         "name": "GT Group 2",
         "showlegend": false,
         "type": "scatter",
         "x": {
          "bdata": "ZasLwhNnCMIBUw/CTjwQwrqGCcL2/Q7CRaMWwuZJCsI=",
          "dtype": "f4"
         },
         "xaxis": "x",
         "y": {
          "bdata": "yEeTwif5k8IroI/Cf1yVwpmBj8Il44zCMlmQwqCwisI=",
          "dtype": "f4"
         },
         "yaxis": "y"
        },
        {
         "legendgroup": "gt",
         "marker": {
          "color": "#aec7e8",
          "size": 6
         },
         "mode": "markers",
         "name": "GT Group 3",
         "showlegend": false,
         "type": "scatter",
         "x": {
          "bdata": "vLyNwgwFQ8GNv+9BYGitwU+3xcHJjxbBw5qcwQ==",
          "dtype": "f4"
         },
         "xaxis": "x",
         "y": {
          "bdata": "LhjjwWPm+kCjXwvCs69EwnU7PcH04ZpAKrU9wg==",
          "dtype": "f4"
         },
         "yaxis": "y"
        },
        {
         "legendgroup": "gt",
         "marker": {
          "color": "#aec7e8",
          "size": 6
         },
         "mode": "markers",
         "name": "GT Group 4",
         "showlegend": false,
         "type": "scatter",
         "x": {
          "bdata": "WtKNwsXZi8EKvJbBV0ubwV1Yn8Gg9D1C3oOXwQ==",
          "dtype": "f4"
         },
         "xaxis": "x",
         "y": {
          "bdata": "cx3gwbVwTcKbcEzCqcdIwtQQRcKEkg5BbXZTwg==",
          "dtype": "f4"
         },
         "yaxis": "y"
        },
        {
         "legendgroup": "gt",
         "marker": {
          "color": "#ff7f0e",
          "size": 6
         },
         "mode": "markers",
         "name": "GT Group 5",
         "showlegend": false,
         "type": "scatter",
         "x": {
          "bdata": "NCDHwSYPBMI=",
          "dtype": "f4"
         },
         "xaxis": "x",
         "y": {
          "bdata": "45pxQdMFXj8=",
          "dtype": "f4"
         },
         "yaxis": "y"
        },
        {
         "legendgroup": "gt",
         "marker": {
          "color": "#ff7f0e",
          "size": 6
         },
         "mode": "markers",
         "name": "GT Group 6",
         "showlegend": false,
         "type": "scatter",
         "x": {
          "bdata": "t8CoQeVBjUE=",
          "dtype": "f4"
         },
         "xaxis": "x",
         "y": {
          "bdata": "q77uwDt7scA=",
          "dtype": "f4"
         },
         "yaxis": "y"
        },
        {
         "legendgroup": "gt",
         "marker": {
          "color": "#ff7f0e",
          "size": 6
         },
         "mode": "markers",
         "name": "GT Group 7",
         "showlegend": false,
         "type": "scatter",
         "x": {
          "bdata": "90AGwm8nSsF4etvBrx2DQBXc0EFIcB1Cw0w3wjutBEIGzSBCpWcgwrECu0E=",
          "dtype": "f4"
         },
         "xaxis": "x",
         "y": {
          "bdata": "cjnwwMVOnkCPgulBFZrKwSRuGEEqFr/B2rAVQgJpAEH2zOBBmHgtQmFYQkE=",
          "dtype": "f4"
         },
         "yaxis": "y"
        },
        {
         "legendgroup": "gt",
         "marker": {
          "color": "#ffbb78",
          "size": 6
         },
         "mode": "markers",
         "name": "GT Group 8",
         "showlegend": false,
         "type": "scatter",
         "x": {
          "bdata": "322HwFlpCsI4vh/ClGeqwUIPLMI=",
          "dtype": "f4"
         },
         "xaxis": "x",
         "y": {
          "bdata": "ErnYQROU7UCL45BAgEAFwXcR3EA=",
          "dtype": "f4"
         },
         "yaxis": "y"
        },
        {
         "legendgroup": "gt",
         "marker": {
          "color": "#ffbb78",
          "size": 6
         },
         "mode": "markers",
         "name": "GT Group 9",
         "showlegend": false,
         "type": "scatter",
         "x": {
          "bdata": "M0HgwKqfysGWqlpA",
          "dtype": "f4"
         },
         "xaxis": "x",
         "y": {
          "bdata": "9JxPwC7zYsF3QEXC",
          "dtype": "f4"
         },
         "yaxis": "y"
        },
        {
         "legendgroup": "gt",
         "marker": {
          "color": "#2ca02c",
          "size": 6
         },
         "mode": "markers",
         "name": "GT Group 10",
         "showlegend": false,
         "type": "scatter",
         "x": {
          "bdata": "N8IDwvYqgcEH/tvA",
          "dtype": "f4"
         },
         "xaxis": "x",
         "y": {
          "bdata": "UDnjwJkHZkFfUNpB",
          "dtype": "f4"
         },
         "yaxis": "y"
        },
        {
         "legendgroup": "gt",
         "marker": {
          "color": "#2ca02c",
          "size": 6
         },
         "mode": "markers",
         "name": "GT Group 11",
         "showlegend": false,
         "type": "scatter",
         "x": {
          "bdata": "i5nZwYxFXEFyySDCzZBhQQ==",
          "dtype": "f4"
         },
         "xaxis": "x",
         "y": {
          "bdata": "ssEiQl53OUL64yBCYARAQg==",
          "dtype": "f4"
         },
         "yaxis": "y"
        },
        {
         "legendgroup": "gt",
         "marker": {
          "color": "#98df8a",
          "size": 6
         },
         "mode": "markers",
         "name": "GT Group 12",
         "showlegend": false,
         "type": "scatter",
         "x": {
          "bdata": "3TNPQDwg2cF1fiPBjMa+Qf8wcEBVfzXB",
          "dtype": "f4"
         },
         "xaxis": "x",
         "y": {
          "bdata": "i/SyQZ5dHUIXciVCqu8wwtYRr0H6f+5B",
          "dtype": "f4"
         },
         "yaxis": "y"
        },
        {
         "legendgroup": "gt",
         "marker": {
          "color": "#98df8a",
          "size": 6
         },
         "mode": "markers",
         "name": "GT Group 13",
         "showlegend": false,
         "type": "scatter",
         "x": {
          "bdata": "Fu0nQVsugcGLWajB4sYdwimDnsHy3GHBafjOwY0ff8FhjvzBFqGpwR8iF0HV++HB",
          "dtype": "f4"
         },
         "xaxis": "x",
         "y": {
          "bdata": "rMpLQm3XW0JKgEBCPr4uQrb6JEIm3OFB4xDhQf1ZXkKJvhFAEOA3QljJTULEoOZB",
          "dtype": "f4"
         },
         "yaxis": "y"
        },
        {
         "legendgroup": "gt",
         "marker": {
          "color": "#98df8a",
          "size": 6
         },
         "mode": "markers",
         "name": "GT Group 14",
         "showlegend": false,
         "type": "scatter",
         "x": {
          "bdata": "dlstQqQKJkJYN1VCqfFMQtJzHkIImkvB",
          "dtype": "f4"
         },
         "xaxis": "x",
         "y": {
          "bdata": "KdogQvFwH0IOmxFCEogQQofAoEEAAXtC",
          "dtype": "f4"
         },
         "yaxis": "y"
        },
        {
         "legendgroup": "gt",
         "marker": {
          "color": "#d62728",
          "size": 6
         },
         "mode": "markers",
         "name": "GT Group 15",
         "showlegend": false,
         "type": "scatter",
         "x": {
          "bdata": "SC+dQXMAn0GTIylCqvpNQhhcH0JCwUdBrg91QQ==",
          "dtype": "f4"
         },
         "xaxis": "x",
         "y": {
          "bdata": "nSgRwd1ZBMF9BiBCEy0CQmAdHkLIFOA/eoWNwA==",
          "dtype": "f4"
         },
         "yaxis": "y"
        },
        {
         "legendgroup": "gt",
         "marker": {
          "color": "#d62728",
          "size": 6
         },
         "mode": "markers",
         "name": "GT Group 16",
         "showlegend": false,
         "type": "scatter",
         "x": {
          "bdata": "hYMfQo7BJ0KleSFCBcQeQntps0DnZU1C",
          "dtype": "f4"
         },
         "xaxis": "x",
         "y": {
          "bdata": "L5OOwUlllMGfB5PBC8CqwVFhP8KlkvhB",
          "dtype": "f4"
         },
         "yaxis": "y"
        },
        {
         "legendgroup": "gt",
         "marker": {
          "color": "#ff9896",
          "size": 6
         },
         "mode": "markers",
         "name": "GT Group 17",
         "showlegend": false,
         "type": "scatter",
         "x": {
          "bdata": "4JkDQk01E8HddTvBzRNNQrkZ70HuivFBY0HrQQS920E=",
          "dtype": "f4"
         },
         "xaxis": "x",
         "y": {
          "bdata": "h+wsP+stEEHYSn9CiEKnQRbgL0Lw8S1CKgEnv4qYYMA=",
          "dtype": "f4"
         },
         "yaxis": "y"
        },
        {
         "legendgroup": "gt",
         "marker": {
          "color": "#ff9896",
          "size": 6
         },
         "mode": "markers",
         "name": "GT Group 18",
         "showlegend": false,
         "type": "scatter",
         "x": {
          "bdata": "9OUDQuRdPUKrrn5CVFh+Qoj3/cDCCgFCjZvlQQ==",
          "dtype": "f4"
         },
         "xaxis": "x",
         "y": {
          "bdata": "ilIWQkEfj0HwQgVA8a8oQMb12kBPCgE/IxAvQA==",
          "dtype": "f4"
         },
         "yaxis": "y"
        },
        {
         "legendgroup": "gt",
         "marker": {
          "color": "#ff9896",
          "size": 6
         },
         "mode": "markers",
         "name": "GT Group 19",
         "showlegend": false,
         "type": "scatter",
         "x": {
          "bdata": "Y4jDQfyAhkEX3E9CmWYgQn6deUE=",
          "dtype": "f4"
         },
         "xaxis": "x",
         "y": {
          "bdata": "veU0QYg3ncBffBFCcLTsP0dLkz8=",
          "dtype": "f4"
         },
         "yaxis": "y"
        },
        {
         "legendgroup": "gt",
         "marker": {
          "color": "#9467bd",
          "size": 6
         },
         "mode": "markers",
         "name": "GT Group 20",
         "showlegend": false,
         "type": "scatter",
         "x": {
          "bdata": "rHgFQg==",
          "dtype": "f4"
         },
         "xaxis": "x",
         "y": {
          "bdata": "e8YeQg==",
          "dtype": "f4"
         },
         "yaxis": "y"
        },
        {
         "legendgroup": "gt",
         "marker": {
          "color": "#9467bd",
          "size": 6
         },
         "mode": "markers",
         "name": "GT Group 21",
         "showlegend": false,
         "type": "scatter",
         "x": {
          "bdata": "AbEcQnBYBEI=",
          "dtype": "f4"
         },
         "xaxis": "x",
         "y": {
          "bdata": "lxiTQd+ZCEE=",
          "dtype": "f4"
         },
         "yaxis": "y"
        },
        {
         "legendgroup": "gt",
         "marker": {
          "color": "#c5b0d5",
          "size": 6
         },
         "mode": "markers",
         "name": "GT Group 22",
         "showlegend": false,
         "type": "scatter",
         "x": {
          "bdata": "YPg8QsKrJsJWpejB8g3ewQ==",
          "dtype": "f4"
         },
         "xaxis": "x",
         "y": {
          "bdata": "rXcFvqO2G8BimYJBPSl2QQ==",
          "dtype": "f4"
         },
         "yaxis": "y"
        },
        {
         "legendgroup": "gt",
         "marker": {
          "color": "#c5b0d5",
          "size": 6
         },
         "mode": "markers",
         "name": "GT Group 23",
         "showlegend": false,
         "type": "scatter",
         "x": {
          "bdata": "bgsMQQ8/qUGvsVFA5y2DQvYVm0Ewx1fBUsuAwbvYMsHY35bB8MI8QnDD6T+l3PJAUpIZQQCZe8HU84JC4Dc8wQUSBULnpgpCZ5v2wQ==",
          "dtype": "f4"
         },
         "xaxis": "x",
         "y": {
          "bdata": "y9+JQWolq8G7l8VAW3scwEAmK8HlNx9CqCfBQXOg1UAzFovBJauKQfM4P8L5l5JBEAGDQVPoHUH+Kv6/SxV5Ql9zHELNyRfCzXUdQA==",
          "dtype": "f4"
         },
         "yaxis": "y"
        },
        {
         "legendgroup": "gt",
         "marker": {
          "color": "#8c564b",
          "size": 6
         },
         "mode": "markers",
         "name": "GT Group 24",
         "showlegend": false,
         "type": "scatter",
         "x": {
          "bdata": "6Qc9wdxhgUF8hpRBHnEgQjiOtMFGjDnBDvBbQg1cF8CyrIxBusIewVZUOMLgAIzA",
          "dtype": "f4"
         },
         "xaxis": "x",
         "y": {
          "bdata": "yb/ZQXYG2cFajtvBsZc2wsVoGEKeyuFB5NfCwInFt8Hc79nB7UbWQJ45p8EYLv9B",
          "dtype": "f4"
         },
         "yaxis": "y"
        },
        {
         "legendgroup": "gt",
         "marker": {
          "color": "#8c564b",
          "size": 6
         },
         "mode": "markers",
         "name": "GT Group 25",
         "showlegend": false,
         "type": "scatter",
         "x": {
          "bdata": "uFJBQbvd98HpIjnCNDS3wW36h8GFW6NAh1Z3QFACx8EPSaTB7ywiwqnp7kDNxNHB",
          "dtype": "f4"
         },
         "xaxis": "x",
         "y": {
          "bdata": "yoEdQo9XF0LfRBRCKwc1QmbFGkLZ7KRBwzjEQBzWikHqzTZC1CElQoGBRUJ+NBVC",
          "dtype": "f4"
         },
         "yaxis": "y"
        },
        {
         "legendgroup": "gt",
         "marker": {
          "color": "#8c564b",
          "size": 6
         },
         "mode": "markers",
         "name": "GT Group 26",
         "showlegend": false,
         "type": "scatter",
         "x": {
          "bdata": "M3RtwWYRJcFS6vfAz8V1wQ7c1cFXxgHBYwv6QLHbv8EdDu/BFJMKwWf0O0E=",
          "dtype": "f4"
         },
         "xaxis": "x",
         "y": {
          "bdata": "e8YSQl2wJ0KvSBBCWwoYQpgzGELH6hJCpY6VP/fDGULyg+pBUXofQrxSzsE=",
          "dtype": "f4"
         },
         "yaxis": "y"
        },
        {
         "legendgroup": "gt",
         "marker": {
          "color": "#c49c94",
          "size": 6
         },
         "mode": "markers",
         "name": "GT Group 27",
         "showlegend": false,
         "type": "scatter",
         "x": {
          "bdata": "XnjmQT512UHrvArCN6QNwhPRYsFh3fS/1ByIwdYebkE=",
          "dtype": "f4"
         },
         "xaxis": "x",
         "y": {
          "bdata": "qtmvwVyxxkHWjP1AA7MowXwKcELfCLnBIoUSQQXX28E=",
          "dtype": "f4"
         },
         "yaxis": "y"
        },
        {
         "legendgroup": "gt",
         "marker": {
          "color": "#c49c94",
          "size": 6
         },
         "mode": "markers",
         "name": "GT Group 28",
         "showlegend": false,
         "type": "scatter",
         "x": {
          "bdata": "lkldQrtcdcF9CRxCcaYmP4j3rEHeQCRCczzFv1d8RUK8ckBC2FJzwUzg5cAr9OHB3UJCwmMzzMEg5ElCk0g+wmsJJEI=",
          "dtype": "f4"
         },
         "xaxis": "x",
         "y": {
          "bdata": "uufMwAc9Z0I1T2nBfDo5wmriqMHMRr9BnqxOwk2PBsDabUHAj3clQfN7NcAuCF5BlNQaQQfoekFM9Ry/3HpJvqZDxUE=",
          "dtype": "f4"
         },
         "yaxis": "y"
        },
        {
         "legendgroup": "gt",
         "marker": {
          "color": "#e377c2",
          "size": 6
         },
         "mode": "markers",
         "name": "GT Group 29",
         "showlegend": false,
         "type": "scatter",
         "x": {
          "bdata": "FAO1wTTxW8HSSA7BVd/0QYhmCsG6BN9AcoJ/QQtiSEE/oePB2D+dwdYQjME5l9bBPLuOwRAV0sFZjfRA8HfjQca70EE=",
          "dtype": "f4"
         },
         "xaxis": "x",
         "y": {
          "bdata": "//hjwS4RfUK3+3DBNnkGwCDYbMEHIZdBWW3wwXWdKkBraCfBIHOKwRPEr8HawXdAB0mqwe5CgUAswVJCCOMbP8k6lD8=",
          "dtype": "f4"
         },
         "yaxis": "y"
        },
        {
         "legendgroup": "gt",
         "marker": {
          "color": "#e377c2",
          "size": 6
         },
         "mode": "markers",
         "name": "GT Group 30",
         "showlegend": false,
         "type": "scatter",
         "x": {
          "bdata": "7gVywgXsZ8Jjv2rCRfNqwg==",
          "dtype": "f4"
         },
         "xaxis": "x",
         "y": {
          "bdata": "imfKwa4WwcFgXbbB7YTBwQ==",
          "dtype": "f4"
         },
         "yaxis": "y"
        },
        {
         "legendgroup": "gt",
         "marker": {
          "color": "#e377c2",
          "size": 6
         },
         "mode": "markers",
         "name": "GT Group 31",
         "showlegend": false,
         "type": "scatter",
         "x": {
          "bdata": "bVuMwj3Yj8LiMI3CxNGKwgbGccI=",
          "dtype": "f4"
         },
         "xaxis": "x",
         "y": {
          "bdata": "cL+NwYnyjMHsepDB+RCFwUWNv8E=",
          "dtype": "f4"
         },
         "yaxis": "y"
        },
        {
         "legendgroup": "gt",
         "marker": {
          "color": "#f7b6d2",
          "size": 6
         },
         "mode": "markers",
         "name": "GT Group 32",
         "showlegend": false,
         "type": "scatter",
         "x": {
          "bdata": "7ouSQdTpwUBAi5hBeeWXQEU6RkBLzTU/5B53wWvDA8BE3o/Ctal5wgyPj8KGU37CHQJcQuriyUGEGNBB2uwFwg==",
          "dtype": "f4"
         },
         "xaxis": "x",
         "y": {
          "bdata": "cYTfQQ/bA0KF5txB7KIDQvL8CULAXARCAGVVQr82BUJ7L8jBY124wfmVzMGMKbLBgicSQgx83UEKMdNBcFahQA==",
          "dtype": "f4"
         },
         "yaxis": "y"
        },
        {
         "legendgroup": "gt",
         "marker": {
          "color": "#f7b6d2",
          "size": 6
         },
         "mode": "markers",
         "name": "GT Group 33",
         "showlegend": false,
         "type": "scatter",
         "x": {
          "bdata": "0yzgweR8oEDCU6VBkcSUQX6DCsLNjgRAG83jQA==",
          "dtype": "f4"
         },
         "xaxis": "x",
         "y": {
          "bdata": "n6sQQhdvWMKnyUnCZ/8twgmPE8HSanPCQeVdwg==",
          "dtype": "f4"
         },
         "yaxis": "y"
        },
        {
         "legendgroup": "gt",
         "marker": {
          "color": "#7f7f7f",
          "size": 6
         },
         "mode": "markers",
         "name": "GT Group 34",
         "showlegend": false,
         "type": "scatter",
         "x": {
          "bdata": "itvqwZLe1UBk7CtBpD1+wbkcr8DVfrBB/ZASQgORRkISnKZBGCYnQcgDokFvZPzBgNKIQEloMcI7YgxCd/tGQJvM70FuuV7A",
          "dtype": "f4"
         },
         "xaxis": "x",
         "y": {
          "bdata": "EHMDwnsrO8KOa1LCF+FSQS5z80EVCCnCOYoDwn5viMD9P0XC6mpUwtTDNcJeoMPAkSxEwh5VGkJIpCDCGylLwr+tW8L0iQDC",
          "dtype": "f4"
         },
         "yaxis": "y"
        },
        {
         "legendgroup": "gt",
         "marker": {
          "color": "#7f7f7f",
          "size": 6
         },
         "mode": "markers",
         "name": "GT Group 35",
         "showlegend": false,
         "type": "scatter",
         "x": {
          "bdata": "AIGQQYA5CEJ+f4tAqewKQP1Ia0BtvHdApeEOQpZDpUEMWRtBsUORQXsulUE=",
          "dtype": "f4"
         },
         "xaxis": "x",
         "y": {
          "bdata": "DVFlwu1/QsJqXFXCTB16wtJAisLg54rCMBsjwu9uOMLILZq+Dtpjwg2POMI=",
          "dtype": "f4"
         },
         "yaxis": "y"
        },
        {
         "legendgroup": "gt",
         "marker": {
          "color": "#c7c7c7",
          "size": 6
         },
         "mode": "markers",
         "name": "GT Group 36",
         "showlegend": false,
         "type": "scatter",
         "x": {
          "bdata": "+mkFwgb7AMIqAQbCEfQDwuxwAMKRW9bBbAHewaAlFMI=",
          "dtype": "f4"
         },
         "xaxis": "x",
         "y": {
          "bdata": "HMsIwrI5+sFEyg3C7TwFwiUyAcLhrwfC9FEGwgQI1cE=",
          "dtype": "f4"
         },
         "yaxis": "y"
        },
        {
         "legendgroup": "gt",
         "marker": {
          "color": "#c7c7c7",
          "size": 6
         },
         "mode": "markers",
         "name": "GT Group 37",
         "showlegend": false,
         "type": "scatter",
         "x": {
          "bdata": "ynxHwBstmcCXMi3AZPSywMn91sHhR7BBFCngQX5igUHStejB1W+3QQ==",
          "dtype": "f4"
         },
         "xaxis": "x",
         "y": {
          "bdata": "RsDUP+nFSEAT1a4/L6LhQdJN9UGZpy/C2hscwJFRx8Hck9FBtYufQQ==",
          "dtype": "f4"
         },
         "yaxis": "y"
        },
        {
         "legendgroup": "gt",
         "marker": {
          "color": "#c7c7c7",
          "size": 6
         },
         "mode": "markers",
         "name": "GT Group 38",
         "showlegend": false,
         "type": "scatter",
         "x": {
          "bdata": "i8VTQomxUkL81XZBm21eQUxmX0HbEmhBdmsUQkRRFUJ/UohB",
          "dtype": "f4"
         },
         "xaxis": "x",
         "y": {
          "bdata": "bsoHQfNEFEHF0hpCNb8zQnjuHkLMYB9Cj1T7wf2E8MFl6yJA",
          "dtype": "f4"
         },
         "yaxis": "y"
        },
        {
         "legendgroup": "gt",
         "marker": {
          "color": "#bcbd22",
          "size": 6
         },
         "mode": "markers",
         "name": "GT Group 39",
         "showlegend": false,
         "type": "scatter",
         "x": {
          "bdata": "67wTQk/7QEJF78dBx0KPQTul1UFPcJNAcQzXQYDGNUElDkxCspInQciVLkGpPsNBBO8dQrcXyMGbLX1B6PRMQvAcQ0KKdhtCOdgmQhIqI0J0wjrBG/FOQYj/NcI3+0dC1tq8QWE9OkI=",
          "dtype": "f4"
         },
         "xaxis": "x",
         "y": {
          "bdata": "umV7QcveOEGHAchB9jpZQgihrcFSlfvA32DhQK0ASUKZzhpBFIVAQtLtVUKEYcJBBeZ/wf7MfMEn6kJCxiOkQYgpJEHpZ4BBnFaNQGrF0EFjgs1BkkxQQiq2osHc4i3AHbvLQTA2fEE=",
          "dtype": "f4"
         },
         "yaxis": "y"
        },
        {
         "legendgroup": "gt",
         "marker": {
          "color": "#bcbd22",
          "size": 6
         },
         "mode": "markers",
         "name": "GT Group 40",
         "showlegend": false,
         "type": "scatter",
         "x": {
          "bdata": "lUymQMDqasFRvTHCECbBQA7fDsJZSAxB3wUcwTrSIcK0hCHCT+sZQeXO70B1K9RACyO1QA==",
          "dtype": "f4"
         },
         "xaxis": "x",
         "y": {
          "bdata": "CVjEwWMpx0Ef1ZrBkhf7wME6q8A0O9HB4gW9QZEvx8HaxFvBenXEv/aJl8ByCwPBPY6qwQ==",
          "dtype": "f4"
         },
         "yaxis": "y"
        },
        {
         "legendgroup": "gt",
         "marker": {
          "color": "#dbdb8d",
          "size": 6
         },
         "mode": "markers",
         "name": "GT Group 41",
         "showlegend": false,
         "type": "scatter",
         "x": {
          "bdata": "tB4YQdhbH0Ehq8BAroYcwqSSGcIkxLFA",
          "dtype": "f4"
         },
         "xaxis": "x",
         "y": {
          "bdata": "RQC8wd5EysGrb7bBp3LKwTPyzMFBIqbB",
          "dtype": "f4"
         },
         "yaxis": "y"
        },
        {
         "legendgroup": "gt",
         "marker": {
          "color": "#dbdb8d",
          "size": 6
         },
         "mode": "markers",
         "name": "GT Group 42",
         "showlegend": false,
         "type": "scatter",
         "x": {
          "bdata": "83LmQYXrg0Gqhx1CbMQAQqqSAkLpyh9CwYpMQkp6pcHQ0B1CVAXzQWUZBUI=",
          "dtype": "f4"
         },
         "xaxis": "x",
         "y": {
          "bdata": "rbkiwnxhwD5tMrrBldsewq5SHMLc4TTCwSMbQudp98AFRHVBgcoQwi1aPMI=",
          "dtype": "f4"
         },
         "yaxis": "y"
        },
        {
         "legendgroup": "gt",
         "marker": {
          "color": "#dbdb8d",
          "size": 6
         },
         "mode": "markers",
         "name": "GT Group 43",
         "showlegend": false,
         "type": "scatter",
         "x": {
          "bdata": "bl+3Qa4zs0GfQ7pBXcc3wsxwJUKD4b1BCejAQQ==",
          "dtype": "f4"
         },
         "xaxis": "x",
         "y": {
          "bdata": "YGuCQkuTg0KwZmFCqgx8QXUfeUDKH4BCmHdhQg==",
          "dtype": "f4"
         },
         "yaxis": "y"
        },
        {
         "legendgroup": "gt",
         "marker": {
          "color": "#17becf",
          "size": 6
         },
         "mode": "markers",
         "name": "GT Group 44",
         "showlegend": false,
         "type": "scatter",
         "x": {
          "bdata": "S+tIwrQHWMC4raxBiHw7wq2OTcLjmiDCW0Q8wgH+m0GSHxzCuR01wlFoPMKwI0HC7sgAQGo8QsIRfirCjOqrwbaDPcKBhSXCy1zFwQ==",
          "dtype": "f4"
         },
         "xaxis": "x",
         "y": {
          "bdata": "FFDpQEE7A0IELWBCAUkOwGrO00CwbhPAuuNhQRe0WkJWBxjAPwCFQbbNb0H5MgJB8xUGQu1OfkGD0tpAeFZfwUZ00r91/blApzdIwQ==",
          "dtype": "f4"
         },
         "yaxis": "y"
        },
        {
         "legendgroup": "gt",
         "marker": {
          "color": "#17becf",
          "size": 6
         },
         "mode": "markers",
         "name": "GT Group 45",
         "showlegend": false,
         "type": "scatter",
         "x": {
          "bdata": "CL4qwmA3zUHCzsxBjVehQUpDPMLrMrxBssBDwg==",
          "dtype": "f4"
         },
         "xaxis": "x",
         "y": {
          "bdata": "avc9wGjcYEIDwiFB2gpbQrQ27kAAIalBZvsawA==",
          "dtype": "f4"
         },
         "yaxis": "y"
        },
        {
         "legendgroup": "gt",
         "marker": {
          "color": "#9edae5",
          "size": 6
         },
         "mode": "markers",
         "name": "GT Group 46",
         "showlegend": false,
         "type": "scatter",
         "x": {
          "bdata": "VprCQQtyE0LtsQhCbtv5QTDkBkI=",
          "dtype": "f4"
         },
         "xaxis": "x",
         "y": {
          "bdata": "nmt7QlNgJ8K9YUXCU5wUwtAwTcI=",
          "dtype": "f4"
         },
         "yaxis": "y"
        },
        {
         "legendgroup": "gt",
         "marker": {
          "color": "#9edae5",
          "size": 6
         },
         "mode": "markers",
         "name": "GT Group 47",
         "showlegend": false,
         "type": "scatter",
         "x": {
          "bdata": "d2/zQdO/90E=",
          "dtype": "f4"
         },
         "xaxis": "x",
         "y": {
          "bdata": "Gu4hwqG2YMI=",
          "dtype": "f4"
         },
         "yaxis": "y"
        },
        {
         "legendgroup": "gt",
         "marker": {
          "color": "#9edae5",
          "size": 6
         },
         "mode": "markers",
         "name": "GT Group 48",
         "showlegend": false,
         "type": "scatter",
         "x": {
          "bdata": "6TzgQRfOV0J4r91B",
          "dtype": "f4"
         },
         "xaxis": "x",
         "y": {
          "bdata": "acW8wTyPJkEzP7LB",
          "dtype": "f4"
         },
         "yaxis": "y"
        },
        {
         "legendgroup": "pred",
         "marker": {
          "color": "#1f77b4",
          "size": 6
         },
         "mode": "markers",
         "name": "Pred Group 0",
         "showlegend": false,
         "type": "scatter",
         "x": {
          "bdata": "lqpaQIDSiECqkgJCO2IMQnDD6T+I96xB6cofQnf7RkDkfKBApeEOQmTsK0GWQ6VBbtv5QW28d0B7abNAN/tHQgtyE0J+f4tAq1IKv8gDokFsxABCgDkIQg7wW0JUBfNB",
          "dtype": "f4"
         },
         "xaxis": "x2",
         "y": {
          "bdata": "d0BFwpEsRMKuUhzCSKQgwvM4P8Jq4qjB3OE0whspS8IXb1jCMBsjwo5rUsLvbjjCU5wUwuDnisJRYT/C3OItwFNgJ8JqXFXCxV1OwtTDNcKV2x7C7X9CwuTXwsCByhDC",
          "dtype": "f4"
         },
         "yaxis": "y2"
        },
        {
         "legendgroup": "pred",
         "marker": {
          "color": "#1f77b4",
          "size": 6
         },
         "mode": "markers",
         "name": "Pred Group 1",
         "showlegend": false,
         "type": "scatter",
         "x": {
          "bdata": "Fu0nQR8iF0GAxjVBzZBhQRvxTkGykidByJUuQQH+m0HwHENCRow5wYxFXEGx27/B4ACMwFfGAcHbEmhB",
          "dtype": "f4"
         },
         "xaxis": "x2",
         "y": {
          "bdata": "rMpLQljJTUKtAElCYARAQpJMUEIUhUBC0u1VQhe0WkKIKSRBnsrhQV53OUL3wxlCGC7/QcfqEkLMYB9C",
          "dtype": "f4"
         },
         "yaxis": "y2"
        },
        {
         "legendgroup": "pred",
         "marker": {
          "color": "#1f77b4",
          "size": 6
         },
         "mode": "markers",
         "name": "Pred Group 2",
         "showlegend": false,
         "type": "scatter",
         "x": {
          "bdata": "6Qc9wVtEPMK0B1jA45ogwnTCOsFhjvzBN8IDwvdABsJRaDzCS801P0IPLMIRfirCuR01wvLcYcE=",
          "dtype": "f4"
         },
         "xaxis": "x2",
         "y": {
          "bdata": "yb/ZQbrjYUFBOwNCsG4TwGOCzUGJvhFAUDnjwHI58MC2zW9BwFwEQncR3ECD0tpAPwCFQSbc4UE=",
          "dtype": "f4"
         },
         "yaxis": "y2"
        },
        {
         "legendgroup": "pred",
         "marker": {
          "color": "#1f77b4",
          "size": 6
         },
         "mode": "markers",
         "name": "Pred Group 3",
         "showlegend": false,
         "type": "scatter",
         "x": {
          "bdata": "7bEIQv2QEkKbzO9BfIaUQeemCkJ3b/NBsqyMQaV5IUIecSBC4UewQQ==",
          "dtype": "f4"
         },
         "xaxis": "x2",
         "y": {
          "bdata": "vWFFwjmKA8K/rVvCWo7bwc3JF8Ia7iHC3O/ZwZ8Hk8GxlzbCmacvwg==",
          "dtype": "f4"
         },
         "yaxis": "y2"
        },
        {
         "legendgroup": "pred",
         "marker": {
          "color": "#1f77b4",
          "size": 6
         },
         "mode": "markers",
         "name": "Pred Group 4",
         "showlegend": false,
         "type": "scatter",
         "x": {
          "bdata": "BsZxwkXzasLuBXLCY79qwgXsZ8K1qXnCvLyNwgyPj8Ja0o3CxNGKwg==",
          "dtype": "f4"
         },
         "xaxis": "x2",
         "y": {
          "bdata": "RY2/we2EwcGKZ8rBYF22wa4WwcFjXbjBLhjjwfmVzMFzHeDB+RCFwQ==",
          "dtype": "f4"
         },
         "yaxis": "y2"
        },
        {
         "legendgroup": "pred",
         "marker": {
          "color": "#1f77b4",
          "size": 6
         },
         "mode": "markers",
         "name": "Pred Group 5",
         "showlegend": false,
         "type": "scatter",
         "x": {
          "bdata": "tjcCQM2OBEDjRutBG83jQPNy5kFygn9B07/3QQ==",
          "dtype": "f4"
         },
         "xaxis": "x2",
         "y": {
          "bdata": "ZN9swtJqc8JaZVrCQeVdwq25IsJZbfDBobZgwg==",
          "dtype": "f4"
         },
         "yaxis": "y2"
        },
        {
         "legendgroup": "pred",
         "marker": {
          "color": "#1f77b4",
          "size": 6
         },
         "mode": "markers",
         "name": "Pred Group 6",
         "showlegend": false,
         "type": "scatter",
         "x": {
          "bdata": "P6HjwZIfHMIUA7XBsCNBwn6DCsJnm/bB1hCMwQ==",
          "dtype": "f4"
         },
         "xaxis": "x2",
         "y": {
          "bdata": "a2gnwVYHGMD/+GPB+TICQQmPE8HNdR1AE8SvwQ==",
          "dtype": "f4"
         },
         "yaxis": "y2"
        },
        {
         "legendgroup": "pred",
         "marker": {
          "color": "#1f77b4",
          "size": 6
         },
         "mode": "markers",
         "name": "Pred Group 7",
         "showlegend": false,
         "type": "scatter",
         "x": {
          "bdata": "QsFHQUxmX0F4etvBuFJBQTDHV8E0NLfBDtzVwQ==",
          "dtype": "f4"
         },
         "xaxis": "x2",
         "y": {
          "bdata": "yBTgP3juHkKPgulByoEdQuU3H0IrBzVCmDMYQg==",
          "dtype": "f4"
         },
         "yaxis": "y2"
        },
        {
         "legendgroup": "pred",
         "marker": {
          "color": "#1f77b4",
          "size": 6
         },
         "mode": "markers",
         "name": "Pred Group 8",
         "showlegend": false,
         "type": "scatter",
         "x": {
          "bdata": "JQ5MQmE9OkJXfEVCT/tAQjnYJkKg9D1C1tq8QQ==",
          "dtype": "f4"
         },
         "xaxis": "x2",
         "y": {
          "bdata": "mc4aQTA2fEFNjwbAy944QZxWjUCEkg5BHbvLQQ==",
          "dtype": "f4"
         },
         "yaxis": "y2"
        },
        {
         "legendgroup": "pred",
         "marker": {
          "color": "#1f77b4",
          "size": 6
         },
         "mode": "markers",
         "name": "Pred Group 9",
         "showlegend": false,
         "type": "scatter",
         "x": {
          "bdata": "uoYJwgFTD8JlqwvCE2cIwvb9DsJOPBDC5kkKwg==",
          "dtype": "f4"
         },
         "xaxis": "x2",
         "y": {
          "bdata": "mYGPwiugj8LIR5PCJ/mTwiXjjMJ/XJXCoLCKwg==",
          "dtype": "f4"
         },
         "yaxis": "y2"
        },
        {
         "legendgroup": "pred",
         "marker": {
          "color": "#1f77b4",
          "size": 6
         },
         "mode": "markers",
         "name": "Pred Group 10",
         "showlegend": false,
         "type": "scatter",
         "x": {
          "bdata": "XVifwVdLm8EKvJbBxdmLwWBorcHDmpzBT7fFwQ==",
          "dtype": "f4"
         },
         "xaxis": "x2",
         "y": {
          "bdata": "1BBFwqnHSMKbcEzCtXBNwrOvRMIqtT3CdTs9wQ==",
          "dtype": "f4"
         },
         "yaxis": "y2"
        },
        {
         "legendgroup": "pred",
         "marker": {
          "color": "#aec7e8",
          "size": 6
         },
         "mode": "markers",
         "name": "Pred Group 11",
         "showlegend": false,
         "type": "scatter",
         "x": {
          "bdata": "Dz+pQVXf9EEUKeBB5UGNQTul1UGI/zXC",
          "dtype": "f4"
         },
         "xaxis": "x2",
         "y": {
          "bdata": "aiWrwTZ5BsDaGxzAO3uxwAihrcEqtqLB",
          "dtype": "f4"
         },
         "yaxis": "y2"
        },
        {
         "legendgroup": "pred",
         "marker": {
          "color": "#aec7e8",
          "size": 6
         },
         "mode": "markers",
         "name": "Pred Group 12",
         "showlegend": false,
         "type": "scatter",
         "x": {
          "bdata": "FqGpwW36h8GLmdnBKYOewc/FdcG5HK/A",
          "dtype": "f4"
         },
         "xaxis": "x2",
         "y": {
          "bdata": "EOA3QmbFGkKywSJCtvokQlsKGEIuc/NB",
          "dtype": "f4"
         },
         "yaxis": "y2"
        },
        {
         "legendgroup": "pred",
         "marker": {
          "color": "#aec7e8",
          "size": 6
         },
         "mode": "markers",
         "name": "Pred Group 13",
         "showlegend": false,
         "type": "scatter",
         "x": {
          "bdata": "jVehQZ9DukG4raxBx0KPQZstfUGuM7NB",
          "dtype": "f4"
         },
         "xaxis": "x2",
         "y": {
          "bdata": "2gpbQrBmYUIELWBC9jpZQifqQkJLk4NC",
          "dtype": "f4"
         },
         "yaxis": "y2"
        },
        {
         "legendgroup": "pred",
         "marker": {
          "color": "#aec7e8",
          "size": 6
         },
         "mode": "markers",
         "name": "Pred Group 14",
         "showlegend": false,
         "type": "scatter",
         "x": {
          "bdata": "1fvhwR0O78HNxNHBZhElwWn4zsHJ/dbB",
          "dtype": "f4"
         },
         "xaxis": "x2",
         "y": {
          "bdata": "xKDmQfKD6kF+NBVCXbAnQuMQ4UHSTfVB",
          "dtype": "f4"
         },
         "yaxis": "y2"
        },
        {
         "legendgroup": "pred",
         "marker": {
          "color": "#aec7e8",
          "size": 6
         },
         "mode": "markers",
         "name": "Pred Group 15",
         "showlegend": false,
         "type": "scatter",
         "x": {
          "bdata": "wgoBQvB340EV3NBBiPf9wAS920E=",
          "dtype": "f4"
         },
         "xaxis": "x2",
         "y": {
          "bdata": "TwoBPwjjGz8kbhhBxvXaQIqYYMA=",
          "dtype": "f4"
         },
         "yaxis": "y2"
        },
        {
         "legendgroup": "pred",
         "marker": {
          "color": "#aec7e8",
          "size": 6
         },
         "mode": "markers",
         "name": "Pred Group 16",
         "showlegend": false,
         "type": "scatter",
         "x": {
          "bdata": "CyO1QCTEsUCVTKZAdSvUQFlIDEE=",
          "dtype": "f4"
         },
         "xaxis": "x2",
         "y": {
          "bdata": "PY6qwUEipsEJWMTBcgsDwTQ70cE=",
          "dtype": "f4"
         },
         "yaxis": "y2"
        },
        {
         "legendgroup": "pred",
         "marker": {
          "color": "#aec7e8",
          "size": 6
         },
         "mode": "markers",
         "name": "Pred Group 17",
         "showlegend": false,
         "type": "scatter",
         "x": {
          "bdata": "usIewbvYMsEMBUPBGy2ZwMmPFsE=",
          "dtype": "f4"
         },
         "xaxis": "x2",
         "y": {
          "bdata": "7UbWQHOg1UBj5vpA6cVIQPThmkA=",
          "dtype": "f4"
         },
         "yaxis": "y2"
        },
        {
         "legendgroup": "pred",
         "marker": {
          "color": "#aec7e8",
          "size": 6
         },
         "mode": "markers",
         "name": "Pred Group 18",
         "showlegend": false,
         "type": "scatter",
         "x": {
          "bdata": "dlstQpMjKUKkCiZC3XU7wanxTEI=",
          "dtype": "f4"
         },
         "xaxis": "x2",
         "y": {
          "bdata": "KdogQn0GIELxcB9C2Ep/QhKIEEI=",
          "dtype": "f4"
         },
         "yaxis": "y2"
        },
        {
         "legendgroup": "pred",
         "marker": {
          "color": "#aec7e8",
          "size": 6
         },
         "mode": "markers",
         "name": "Pred Group 19",
         "showlegend": false,
         "type": "scatter",
         "x": {
          "bdata": "2FsfQdYebkEhq8BAfmKBQQ==",
          "dtype": "f4"
         },
         "xaxis": "x2",
         "y": {
          "bdata": "3kTKwQXX28Grb7bBkVHHwQ==",
          "dtype": "f4"
         },
         "yaxis": "y2"
        },
        {
         "legendgroup": "pred",
         "marker": {
          "color": "#aec7e8",
          "size": 6
         },
         "mode": "markers",
         "name": "Pred Group 20",
         "showlegend": false,
         "type": "scatter",
         "x": {
          "bdata": "wqsmwoh8O8K2gz3CpD1+wQ==",
          "dtype": "f4"
         },
         "xaxis": "x2",
         "y": {
          "bdata": "o7YbwAFJDsBGdNK/F+FSQQ==",
          "dtype": "f4"
         },
         "yaxis": "y2"
        },
        {
         "legendgroup": "pred",
         "marker": {
          "color": "#ff7f0e",
          "size": 6
         },
         "mode": "markers",
         "name": "Pred Group 21",
         "showlegend": false,
         "type": "scatter",
         "x": {
          "bdata": "k0g+wrLAQ8LLXMXBXcc3wg==",
          "dtype": "f4"
         },
         "xaxis": "x2",
         "y": {
          "bdata": "3HpJvmb7GsCnN0jBqgx8QQ==",
          "dtype": "f4"
         },
         "yaxis": "y2"
        },
        {
         "legendgroup": "pred",
         "marker": {
          "color": "#ff7f0e",
          "size": 6
         },
         "mode": "markers",
         "name": "Pred Group 22",
         "showlegend": false,
         "type": "scatter",
         "x": {
          "bdata": "Re/HQak+w0GKdhtCfQkcQg==",
          "dtype": "f4"
         },
         "xaxis": "x2",
         "y": {
          "bdata": "hwHIQYRhwkHpZ4BBNU9pwQ==",
          "dtype": "f4"
         },
         "yaxis": "y2"
        },
        {
         "legendgroup": "pred",
         "marker": {
          "color": "#ff7f0e",
          "size": 6
         },
         "mode": "markers",
         "name": "Pred Group 23",
         "showlegend": false,
         "type": "scatter",
         "x": {
          "bdata": "vHJAQgORRkLo9ExCIORJQg==",
          "dtype": "f4"
         },
         "xaxis": "x2",
         "y": {
          "bdata": "2m1BwH5viMDGI6RBTPUcvw==",
          "dtype": "f4"
         },
         "yaxis": "y2"
        },
        {
         "legendgroup": "pred",
         "marker": {
          "color": "#ff7f0e",
          "size": 6
         },
         "mode": "markers",
         "name": "Pred Group 24",
         "showlegend": false,
         "type": "scatter",
         "x": {
          "bdata": "BRIFQqx4BUIYXB9C9OUDQg==",
          "dtype": "f4"
         },
         "xaxis": "x2",
         "y": {
          "bdata": "X3McQnvGHkJgHR5CilIWQg==",
          "dtype": "f4"
         },
         "yaxis": "y2"
        },
        {
         "legendgroup": "pred",
         "marker": {
          "color": "#ff7f0e",
          "size": 6
         },
         "mode": "markers",
         "name": "Pred Group 25",
         "showlegend": false,
         "type": "scatter",
         "x": {
          "bdata": "3GGBQRKcpkEFxB5C",
          "dtype": "f4"
         },
         "xaxis": "x2",
         "y": {
          "bdata": "dgbZwf0/RcILwKrB",
          "dtype": "f4"
         },
         "yaxis": "y2"
        },
        {
         "legendgroup": "pred",
         "marker": {
          "color": "#ff7f0e",
          "size": 6
         },
         "mode": "markers",
         "name": "Pred Group 26",
         "showlegend": false,
         "type": "scatter",
         "x": {
          "bdata": "GCYnQXsulUEMWRtB",
          "dtype": "f4"
         },
         "xaxis": "x2",
         "y": {
          "bdata": "6mpUwg2POMLILZq+",
          "dtype": "f4"
         },
         "yaxis": "y2"
        },
        {
         "legendgroup": "pred",
         "marker": {
          "color": "#ff7f0e",
          "size": 6
         },
         "mode": "markers",
         "name": "Pred Group 27",
         "showlegend": false,
         "type": "scatter",
         "x": {
          "bdata": "7ywiwthSc8EAmXvB",
          "dtype": "f4"
         },
         "xaxis": "x2",
         "y": {
          "bdata": "1CElQo93JUFT6B1B",
          "dtype": "f4"
         },
         "yaxis": "y2"
        },
        {
         "legendgroup": "pred",
         "marker": {
          "color": "#ff7f0e",
          "size": 6
         },
         "mode": "markers",
         "name": "Pred Group 28",
         "showlegend": false,
         "type": "scatter",
         "x": {
          "bdata": "hYMfQo7BJ0IE7x1C",
          "dtype": "f4"
         },
         "xaxis": "x2",
         "y": {
          "bdata": "L5OOwUlllMEF5n/B",
          "dtype": "f4"
         },
         "yaxis": "y2"
        },
        {
         "legendgroup": "pred",
         "marker": {
          "color": "#ff7f0e",
          "size": 6
         },
         "mode": "markers",
         "name": "Pred Group 29",
         "showlegend": false,
         "type": "scatter",
         "x": {
          "bdata": "6SI5wkloMcKuhhzC",
          "dtype": "f4"
         },
         "xaxis": "x2",
         "y": {
          "bdata": "30QUQh5VGkKncsrB",
          "dtype": "f4"
         },
         "yaxis": "y2"
        },
        {
         "legendgroup": "pred",
         "marker": {
          "color": "#ff7f0e",
          "size": 6
         },
         "mode": "markers",
         "name": "Pred Group 30",
         "showlegend": false,
         "type": "scatter",
         "x": {
          "bdata": "VlQ4wgb7AMLscADC",
          "dtype": "f4"
         },
         "xaxis": "x2",
         "y": {
          "bdata": "njmnwbI5+sElMgHC",
          "dtype": "f4"
         },
         "yaxis": "y2"
        },
        {
         "legendgroup": "pred",
         "marker": {
          "color": "#ffbb78",
          "size": 6
         },
         "mode": "markers",
         "name": "Pred Group 31",
         "showlegend": false,
         "type": "scatter",
         "x": {
          "bdata": "eK/dQV545kHpPOBB",
          "dtype": "f4"
         },
         "xaxis": "x2",
         "y": {
          "bdata": "Mz+ywarZr8FpxbzB",
          "dtype": "f4"
         },
         "yaxis": "y2"
        },
        {
         "legendgroup": "pred",
         "marker": {
          "color": "#ffbb78",
          "size": 6
         },
         "mode": "markers",
         "name": "Pred Group 32",
         "showlegend": false,
         "type": "scatter",
         "x": {
          "bdata": "XFCDwG65XsAhz6zA",
          "dtype": "f4"
         },
         "xaxis": "x2",
         "y": {
          "bdata": "6d8AwvSJAMLNkAHC",
          "dtype": "f4"
         },
         "yaxis": "y2"
        },
        {
         "legendgroup": "pred",
         "marker": {
          "color": "#ffbb78",
          "size": 6
         },
         "mode": "markers",
         "name": "Pred Group 33",
         "showlegend": false,
         "type": "scatter",
         "x": {
          "bdata": "awkkQt5AJEISKiNC",
          "dtype": "f4"
         },
         "xaxis": "x2",
         "y": {
          "bdata": "pkPFQcxGv0FqxdBB",
          "dtype": "f4"
         },
         "yaxis": "y2"
        },
        {
         "legendgroup": "pred",
         "marker": {
          "color": "#ffbb78",
          "size": 6
         },
         "mode": "markers",
         "name": "Pred Group 34",
         "showlegend": false,
         "type": "scatter",
         "x": {
          "bdata": "C2JIQX6deUE=",
          "dtype": "f4"
         },
         "xaxis": "x2",
         "y": {
          "bdata": "dZ0qQEdLkz8=",
          "dtype": "f4"
         },
         "yaxis": "y2"
        },
        {
         "legendgroup": "pred",
         "marker": {
          "color": "#ffbb78",
          "size": 6
         },
         "mode": "markers",
         "name": "Pred Group 35",
         "showlegend": false,
         "type": "scatter",
         "x": {
          "bdata": "OI60wVLq98A=",
          "dtype": "f4"
         },
         "xaxis": "x2",
         "y": {
          "bdata": "xWgYQq9IEEI=",
          "dtype": "f4"
         },
         "yaxis": "y2"
        },
        {
         "legendgroup": "pred",
         "marker": {
          "color": "#ffbb78",
          "size": 6
         },
         "mode": "markers",
         "name": "Pred Group 36",
         "showlegend": false,
         "type": "scatter",
         "x": {
          "bdata": "itvqwaqHHUI=",
          "dtype": "f4"
         },
         "xaxis": "x2",
         "y": {
          "bdata": "EHMDwm0yusE=",
          "dtype": "f4"
         },
         "yaxis": "y2"
        },
        {
         "legendgroup": "pred",
         "marker": {
          "color": "#ffbb78",
          "size": 6
         },
         "mode": "markers",
         "name": "Pred Group 37",
         "showlegend": false,
         "type": "scatter",
         "x": {
          "bdata": "D0mkwYtZqME=",
          "dtype": "f4"
         },
         "xaxis": "x2",
         "y": {
          "bdata": "6s02QkqAQEI=",
          "dtype": "f4"
         },
         "yaxis": "y2"
        },
        {
         "legendgroup": "pred",
         "marker": {
          "color": "#ffbb78",
          "size": 6
         },
         "mode": "markers",
         "name": "Pred Group 38",
         "showlegend": false,
         "type": "scatter",
         "x": {
          "bdata": "PCDZwdMs4ME=",
          "dtype": "f4"
         },
         "xaxis": "x2",
         "y": {
          "bdata": "nl0dQp+rEEI=",
          "dtype": "f4"
         },
         "yaxis": "y2"
        },
        {
         "legendgroup": "pred",
         "marker": {
          "color": "#ffbb78",
          "size": 6
         },
         "mode": "markers",
         "name": "Pred Group 39",
         "showlegend": false,
         "type": "scatter",
         "x": {
          "bdata": "8MI8QuRdPUI=",
          "dtype": "f4"
         },
         "xaxis": "x2",
         "y": {
          "bdata": "JauKQUEfj0E=",
          "dtype": "f4"
         },
         "yaxis": "y2"
        },
        {
         "legendgroup": "pred",
         "marker": {
          "color": "#ffbb78",
          "size": 6
         },
         "mode": "markers",
         "name": "Pred Group 40",
         "showlegend": false,
         "type": "scatter",
         "x": {
          "bdata": "zRNNQhfcT0I=",
          "dtype": "f4"
         },
         "xaxis": "x2",
         "y": {
          "bdata": "iEKnQV98EUI=",
          "dtype": "f4"
         },
         "yaxis": "y2"
        },
        {
         "legendgroup": "pred",
         "marker": {
          "color": "#2ca02c",
          "size": 6
         },
         "mode": "markers",
         "name": "Pred Group 41",
         "showlegend": false,
         "type": "scatter",
         "x": {
          "bdata": "jOqrwcLOzEE=",
          "dtype": "f4"
         },
         "xaxis": "x2",
         "y": {
          "bdata": "eFZfwQPCIUE=",
          "dtype": "f4"
         },
         "yaxis": "y2"
        },
        {
         "legendgroup": "pred",
         "marker": {
          "color": "#2ca02c",
          "size": 6
         },
         "mode": "markers",
         "name": "Pred Group 42",
         "showlegend": false,
         "type": "scatter",
         "x": {
          "bdata": "a8MDwE01E8E=",
          "dtype": "f4"
         },
         "xaxis": "x2",
         "y": {
          "bdata": "vzYFQustEEE=",
          "dtype": "f4"
         },
         "yaxis": "y2"
        },
        {
         "legendgroup": "pred",
         "marker": {
          "color": "#2ca02c",
          "size": 6
         },
         "mode": "markers",
         "name": "Pred Group 43",
         "showlegend": false,
         "type": "scatter",
         "x": {
          "bdata": "SkM8wt1CQsI=",
          "dtype": "f4"
         },
         "xaxis": "x2",
         "y": {
          "bdata": "tDbuQJTUGkE=",
          "dtype": "f4"
         },
         "yaxis": "y2"
        },
        {
         "legendgroup": "pred",
         "marker": {
          "color": "#2ca02c",
          "size": 6
         },
         "mode": "markers",
         "name": "Pred Group 44",
         "showlegend": false,
         "type": "scatter",
         "x": {
          "bdata": "0Nv3P/DeIL8=",
          "dtype": "f4"
         },
         "xaxis": "x2",
         "y": {
          "bdata": "SG1owqSca8I=",
          "dtype": "f4"
         },
         "yaxis": "y2"
        },
        {
         "legendgroup": "pred",
         "marker": {
          "color": "#2ca02c",
          "size": 6
         },
         "mode": "markers",
         "name": "Pred Group 45",
         "showlegend": false,
         "type": "scatter",
         "x": {
          "bdata": "cwCfQfyAhkE=",
          "dtype": "f4"
         },
         "xaxis": "x2",
         "y": {
          "bdata": "3VkEwYg3ncA=",
          "dtype": "f4"
         },
         "yaxis": "y2"
        },
        {
         "legendgroup": "pred",
         "marker": {
          "color": "#2ca02c",
          "size": 6
         },
         "mode": "markers",
         "name": "Pred Group 46",
         "showlegend": false,
         "type": "scatter",
         "x": {
          "bdata": "+mkFwhH0A8I=",
          "dtype": "f4"
         },
         "xaxis": "x2",
         "y": {
          "bdata": "HMsIwu08BcI=",
          "dtype": "f4"
         },
         "yaxis": "y2"
        },
        {
         "legendgroup": "pred",
         "marker": {
          "color": "#2ca02c",
          "size": 6
         },
         "mode": "markers",
         "name": "Pred Group 47",
         "showlegend": false,
         "type": "scatter",
         "x": {
          "bdata": "CJpLweA3PME=",
          "dtype": "f4"
         },
         "xaxis": "x2",
         "y": {
          "bdata": "AAF7QksVeUI=",
          "dtype": "f4"
         },
         "yaxis": "y2"
        },
        {
         "legendgroup": "pred",
         "marker": {
          "color": "#2ca02c",
          "size": 6
         },
         "mode": "markers",
         "name": "Pred Group 48",
         "showlegend": false,
         "type": "scatter",
         "x": {
          "bdata": "4JkDQsxwJUI=",
          "dtype": "f4"
         },
         "xaxis": "x2",
         "y": {
          "bdata": "h+wsP3UfeUA=",
          "dtype": "f4"
         },
         "yaxis": "y2"
        },
        {
         "legendgroup": "pred",
         "marker": {
          "color": "#2ca02c",
          "size": 6
         },
         "mode": "markers",
         "name": "Pred Group 49",
         "showlegend": false,
         "type": "scatter",
         "x": {
          "bdata": "pWcgwnLJIMI=",
          "dtype": "f4"
         },
         "xaxis": "x2",
         "y": {
          "bdata": "mHgtQvrjIEI=",
          "dtype": "f4"
         },
         "yaxis": "y2"
        },
        {
         "legendgroup": "pred",
         "marker": {
          "color": "#2ca02c",
          "size": 6
         },
         "mode": "markers",
         "name": "Pred Group 50",
         "showlegend": false,
         "type": "scatter",
         "x": {
          "bdata": "4jCNwj3Yj8I=",
          "dtype": "f4"
         },
         "xaxis": "x2",
         "y": {
          "bdata": "7HqQwYnyjME=",
          "dtype": "f4"
         },
         "yaxis": "y2"
        },
        {
         "legendgroup": "pred",
         "marker": {
          "color": "#98df8a",
          "size": 6
         },
         "mode": "markers",
         "name": "Pred Group 51",
         "showlegend": false,
         "type": "scatter",
         "x": {
          "bdata": "pJIZwjrSIcI=",
          "dtype": "f4"
         },
         "xaxis": "x2",
         "y": {
          "bdata": "M/LMwZEvx8E=",
          "dtype": "f4"
         },
         "yaxis": "y2"
        },
        {
         "legendgroup": "pred",
         "marker": {
          "color": "#98df8a",
          "size": 6
         },
         "mode": "markers",
         "name": "Pred Group 52",
         "showlegend": false,
         "type": "scatter",
         "x": {
          "bdata": "xxpAwos+OMI=",
          "dtype": "f4"
         },
         "xaxis": "x2",
         "y": {
          "bdata": "Yz8Zwv5xHcI=",
          "dtype": "f4"
         },
         "yaxis": "y2"
        },
        {
         "legendgroup": "pred",
         "marker": {
          "color": "#98df8a",
          "size": 6
         },
         "mode": "markers",
         "name": "Pred Group 53",
         "showlegend": false,
         "type": "scatter",
         "x": {
          "bdata": "SC+dQbfAqEE=",
          "dtype": "f4"
         },
         "xaxis": "x2",
         "y": {
          "bdata": "nSgRwau+7sA=",
          "dtype": "f4"
         },
         "yaxis": "y2"
        },
        {
         "legendgroup": "pred",
         "marker": {
          "color": "#98df8a",
          "size": 6
         },
         "mode": "markers",
         "name": "Pred Group 54",
         "showlegend": false,
         "type": "scatter",
         "x": {
          "bdata": "VFh+QtTzgkI=",
          "dtype": "f4"
         },
         "xaxis": "x2",
         "y": {
          "bdata": "8a8oQP4q/r8=",
          "dtype": "f4"
         },
         "yaxis": "y2"
        },
        {
         "legendgroup": "pred",
         "marker": {
          "color": "#98df8a",
          "size": 6
         },
         "mode": "markers",
         "name": "Pred Group 55",
         "showlegend": false,
         "type": "scatter",
         "x": {
          "bdata": "ynxHwJcyLcA=",
          "dtype": "f4"
         },
         "xaxis": "x2",
         "y": {
          "bdata": "RsDUPxPVrj8=",
          "dtype": "f4"
         },
         "yaxis": "y2"
        },
        {
         "legendgroup": "pred",
         "marker": {
          "color": "#98df8a",
          "size": 6
         },
         "mode": "markers",
         "name": "Pred Group 56",
         "showlegend": false,
         "type": "scatter",
         "x": {
          "bdata": "i8VTQhfOV0I=",
          "dtype": "f4"
         },
         "xaxis": "x2",
         "y": {
          "bdata": "bsoHQTyPJkE=",
          "dtype": "f4"
         },
         "yaxis": "y2"
        },
        {
         "legendgroup": "pred",
         "marker": {
          "color": "#98df8a",
          "size": 6
         },
         "mode": "markers",
         "name": "Pred Group 57",
         "showlegend": false,
         "type": "scatter",
         "x": {
          "bdata": "ECbBQE9wk0A=",
          "dtype": "f4"
         },
         "xaxis": "x2",
         "y": {
          "bdata": "khf7wFKV+8A=",
          "dtype": "f4"
         },
         "yaxis": "y2"
        },
        {
         "legendgroup": "pred",
         "marker": {
          "color": "#98df8a",
          "size": 6
         },
         "mode": "markers",
         "name": "Pred Group 58",
         "showlegend": false,
         "type": "scatter",
         "x": {
          "bdata": "pdzyQG4LDEE=",
          "dtype": "f4"
         },
         "xaxis": "x2",
         "y": {
          "bdata": "+ZeSQcvfiUE=",
          "dtype": "f4"
         },
         "yaxis": "y2"
        },
        {
         "legendgroup": "pred",
         "marker": {
          "color": "#98df8a",
          "size": 6
         },
         "mode": "markers",
         "name": "Pred Group 59",
         "showlegend": false,
         "type": "scatter",
         "x": {
          "bdata": "bl+3QYPhvUE=",
          "dtype": "f4"
         },
         "xaxis": "x2",
         "y": {
          "bdata": "YGuCQsofgEI=",
          "dtype": "f4"
         },
         "yaxis": "y2"
        },
        {
         "legendgroup": "pred",
         "marker": {
          "color": "#98df8a",
          "size": 6
         },
         "mode": "markers",
         "name": "Pred Group 60",
         "showlegend": false,
         "type": "scatter",
         "x": {
          "bdata": "NCDHwWMzzME=",
          "dtype": "f4"
         },
         "xaxis": "x2",
         "y": {
          "bdata": "45pxQQfoekE=",
          "dtype": "f4"
         },
         "yaxis": "y2"
        },
        {
         "legendgroup": "pred",
         "marker": {
          "color": "#98df8a",
          "size": 6
         },
         "mode": "markers",
         "name": "Pred Group 61",
         "showlegend": false,
         "type": "scatter",
         "x": {
          "bdata": "O60EQnBYBEI=",
          "dtype": "f4"
         },
         "xaxis": "x2",
         "y": {
          "bdata": "AmkAQd+ZCEE=",
          "dtype": "f4"
         },
         "yaxis": "y2"
        },
        {
         "legendgroup": "pred",
         "marker": {
          "color": "#d62728",
          "size": 6
         },
         "mode": "markers",
         "name": "Pred Group 62",
         "showlegend": false,
         "type": "scatter",
         "x": {
          "bdata": "WWkKwuu8CsI=",
          "dtype": "f4"
         },
         "xaxis": "x2",
         "y": {
          "bdata": "E5TtQNaM/UA=",
          "dtype": "f4"
         },
         "yaxis": "y2"
        },
        {
         "legendgroup": "pred",
         "marker": {
          "color": "#d62728",
          "size": 6
         },
         "mode": "markers",
         "name": "Pred Group 63",
         "showlegend": false,
         "type": "scatter",
         "x": {
          "bdata": "3TNPQP8wcEA=",
          "dtype": "f4"
         },
         "xaxis": "x2",
         "y": {
          "bdata": "i/SyQdYRr0E=",
          "dtype": "f4"
         },
         "yaxis": "y2"
        },
        {
         "legendgroup": "pred",
         "marker": {
          "color": "#d62728",
          "size": 6
         },
         "mode": "markers",
         "name": "Pred Group 64",
         "showlegend": false,
         "type": "scatter",
         "x": {
          "bdata": "Wy6BwY0ff8E=",
          "dtype": "f4"
         },
         "xaxis": "x2",
         "y": {
          "bdata": "bddbQv1ZXkI=",
          "dtype": "f4"
         },
         "yaxis": "y2"
        },
        {
         "legendgroup": "pred",
         "marker": {
          "color": "#d62728",
          "size": 6
         },
         "mode": "markers",
         "name": "Pred Group 65",
         "showlegend": false,
         "type": "scatter",
         "x": {
          "bdata": "uRnvQe6K8UE=",
          "dtype": "f4"
         },
         "xaxis": "x2",
         "y": {
          "bdata": "FuAvQvDxLUI=",
          "dtype": "f4"
         },
         "yaxis": "y2"
        },
        {
         "legendgroup": "pred",
         "marker": {
          "color": "#d62728",
          "size": 6
         },
         "mode": "markers",
         "name": "Pred Group 66",
         "showlegend": false,
         "type": "scatter",
         "x": {
          "bdata": "r7FRQIdWd0A=",
          "dtype": "f4"
         },
         "xaxis": "x2",
         "y": {
          "bdata": "u5fFQMM4xEA=",
          "dtype": "f4"
         },
         "yaxis": "y2"
        },
        {
         "legendgroup": "pred",
         "marker": {
          "color": "#d62728",
          "size": 6
         },
         "mode": "markers",
         "name": "Pred Group 67",
         "showlegend": false,
         "type": "scatter",
         "x": {
          "bdata": "0kgOwYhmCsE=",
          "dtype": "f4"
         },
         "xaxis": "x2",
         "y": {
          "bdata": "t/twwSDYbME=",
          "dtype": "f4"
         },
         "yaxis": "y2"
        },
        {
         "legendgroup": "pred",
         "marker": {
          "color": "#d62728",
          "size": 6
         },
         "mode": "markers",
         "name": "Pred Group 68",
         "showlegend": false,
         "type": "scatter",
         "x": {
          "bdata": "AIGQQbFDkUE=",
          "dtype": "f4"
         },
         "xaxis": "x2",
         "y": {
          "bdata": "DVFlwg7aY8I=",
          "dtype": "f4"
         },
         "yaxis": "y2"
        },
        {
         "legendgroup": "pred",
         "marker": {
          "color": "#d62728",
          "size": 6
         },
         "mode": "markers",
         "name": "Pred Group 69",
         "showlegend": false,
         "type": "scatter",
         "x": {
          "bdata": "Y0HrQQ==",
          "dtype": "f4"
         },
         "xaxis": "x2",
         "y": {
          "bdata": "KgEnvw==",
          "dtype": "f4"
         },
         "yaxis": "y2"
        },
        {
         "legendgroup": "pred",
         "marker": {
          "color": "#d62728",
          "size": 6
         },
         "mode": "markers",
         "name": "Pred Group 70",
         "showlegend": false,
         "type": "scatter",
         "x": {
          "bdata": "MOQGQg==",
          "dtype": "f4"
         },
         "xaxis": "x2",
         "y": {
          "bdata": "0DBNwg==",
          "dtype": "f4"
         },
         "yaxis": "y2"
        },
        {
         "legendgroup": "pred",
         "marker": {
          "color": "#d62728",
          "size": 6
         },
         "mode": "markers",
         "name": "Pred Group 71",
         "showlegend": false,
         "type": "scatter",
         "x": {
          "bdata": "kcSUQQ==",
          "dtype": "f4"
         },
         "xaxis": "x2",
         "y": {
          "bdata": "Z/8twg==",
          "dtype": "f4"
         },
         "yaxis": "y2"
        },
        {
         "legendgroup": "pred",
         "marker": {
          "color": "#ff9896",
          "size": 6
         },
         "mode": "markers",
         "name": "Pred Group 72",
         "showlegend": false,
         "type": "scatter",
         "x": {
          "bdata": "ZRkFQg==",
          "dtype": "f4"
         },
         "xaxis": "x2",
         "y": {
          "bdata": "LVo8wg==",
          "dtype": "f4"
         },
         "yaxis": "y2"
        },
        {
         "legendgroup": "pred",
         "marker": {
          "color": "#ff9896",
          "size": 6
         },
         "mode": "markers",
         "name": "Pred Group 73",
         "showlegend": false,
         "type": "scatter",
         "x": {
          "bdata": "S+tIwg==",
          "dtype": "f4"
         },
         "xaxis": "x2",
         "y": {
          "bdata": "FFDpQA==",
          "dtype": "f4"
         },
         "yaxis": "y2"
        },
        {
         "legendgroup": "pred",
         "marker": {
          "color": "#ff9896",
          "size": 6
         },
         "mode": "markers",
         "name": "Pred Group 74",
         "showlegend": false,
         "type": "scatter",
         "x": {
          "bdata": "SHAdQg==",
          "dtype": "f4"
         },
         "xaxis": "x2",
         "y": {
          "bdata": "Kha/wQ==",
          "dtype": "f4"
         },
         "yaxis": "y2"
        },
        {
         "legendgroup": "pred",
         "marker": {
          "color": "#ff9896",
          "size": 6
         },
         "mode": "markers",
         "name": "Pred Group 75",
         "showlegend": false,
         "type": "scatter",
         "x": {
          "bdata": "dX4jwQ==",
          "dtype": "f4"
         },
         "xaxis": "x2",
         "y": {
          "bdata": "F3IlQg==",
          "dtype": "f4"
         },
         "yaxis": "y2"
        },
        {
         "legendgroup": "pred",
         "marker": {
          "color": "#ff9896",
          "size": 6
         },
         "mode": "markers",
         "name": "Pred Group 76",
         "showlegend": false,
         "type": "scatter",
         "x": {
          "bdata": "ajxCwg==",
          "dtype": "f4"
         },
         "xaxis": "x2",
         "y": {
          "bdata": "7U5+QQ==",
          "dtype": "f4"
         },
         "yaxis": "y2"
        },
        {
         "legendgroup": "pred",
         "marker": {
          "color": "#ff9896",
          "size": 6
         },
         "mode": "markers",
         "name": "Pred Group 77",
         "showlegend": false,
         "type": "scatter",
         "x": {
          "bdata": "m21eQQ==",
          "dtype": "f4"
         },
         "xaxis": "x2",
         "y": {
          "bdata": "Nb8zQg==",
          "dtype": "f4"
         },
         "yaxis": "y2"
        },
        {
         "legendgroup": "pred",
         "marker": {
          "color": "#ff9896",
          "size": 6
         },
         "mode": "markers",
         "name": "Pred Group 78",
         "showlegend": false,
         "type": "scatter",
         "x": {
          "bdata": "dmsUQg==",
          "dtype": "f4"
         },
         "xaxis": "x2",
         "y": {
          "bdata": "j1T7wQ==",
          "dtype": "f4"
         },
         "yaxis": "y2"
        },
        {
         "legendgroup": "pred",
         "marker": {
          "color": "#ff9896",
          "size": 6
         },
         "mode": "markers",
         "name": "Pred Group 79",
         "showlegend": false,
         "type": "scatter",
         "x": {
          "bdata": "/NV2QQ==",
          "dtype": "f4"
         },
         "xaxis": "x2",
         "y": {
          "bdata": "xdIaQg==",
          "dtype": "f4"
         },
         "yaxis": "y2"
        },
        {
         "legendgroup": "pred",
         "marker": {
          "color": "#ff9896",
          "size": 6
         },
         "mode": "markers",
         "name": "Pred Group 80",
         "showlegend": false,
         "type": "scatter",
         "x": {
          "bdata": "w0w3wg==",
          "dtype": "f4"
         },
         "xaxis": "x2",
         "y": {
          "bdata": "2rAVQg==",
          "dtype": "f4"
         },
         "yaxis": "y2"
        },
        {
         "legendgroup": "pred",
         "marker": {
          "color": "#ff9896",
          "size": 6
         },
         "mode": "markers",
         "name": "Pred Group 81",
         "showlegend": false,
         "type": "scatter",
         "x": {
          "bdata": "q65+Qg==",
          "dtype": "f4"
         },
         "xaxis": "x2",
         "y": {
          "bdata": "8EIFQA==",
          "dtype": "f4"
         },
         "yaxis": "y2"
        },
        {
         "legendgroup": "pred",
         "marker": {
          "color": "#9467bd",
          "size": 6
         },
         "mode": "markers",
         "name": "Pred Group 82",
         "showlegend": false,
         "type": "scatter",
         "x": {
          "bdata": "xrvQQQ==",
          "dtype": "f4"
         },
         "xaxis": "x2",
         "y": {
          "bdata": "yTqUPw==",
          "dtype": "f4"
         },
         "yaxis": "y2"
        },
        {
         "legendgroup": "pred",
         "marker": {
          "color": "#9467bd",
          "size": 6
         },
         "mode": "markers",
         "name": "Pred Group 83",
         "showlegend": false,
         "type": "scatter",
         "x": {
          "bdata": "bVuMwg==",
          "dtype": "f4"
         },
         "xaxis": "x2",
         "y": {
          "bdata": "cL+NwQ==",
          "dtype": "f4"
         },
         "yaxis": "y2"
        },
        {
         "legendgroup": "pred",
         "marker": {
          "color": "#9467bd",
          "size": 6
         },
         "mode": "markers",
         "name": "Pred Group 84",
         "showlegend": false,
         "type": "scatter",
         "x": {
          "bdata": "uwk8wg==",
          "dtype": "f4"
         },
         "xaxis": "x2",
         "y": {
          "bdata": "A2obwg==",
          "dtype": "f4"
         },
         "yaxis": "y2"
        },
        {
         "legendgroup": "pred",
         "marker": {
          "color": "#9467bd",
          "size": 6
         },
         "mode": "markers",
         "name": "Pred Group 85",
         "showlegend": false,
         "type": "scatter",
         "x": {
          "bdata": "RN6Pwg==",
          "dtype": "f4"
         },
         "xaxis": "x2",
         "y": {
          "bdata": "ey/IwQ==",
          "dtype": "f4"
         },
         "yaxis": "y2"
        },
        {
         "legendgroup": "pred",
         "marker": {
          "color": "#9467bd",
          "size": 6
         },
         "mode": "markers",
         "name": "Pred Group 86",
         "showlegend": false,
         "type": "scatter",
         "x": {
          "bdata": "wlOlQQ==",
          "dtype": "f4"
         },
         "xaxis": "x2",
         "y": {
          "bdata": "p8lJwg==",
          "dtype": "f4"
         },
         "yaxis": "y2"
        },
        {
         "legendgroup": "pred",
         "marker": {
          "color": "#9467bd",
          "size": 6
         },
         "mode": "markers",
         "name": "Pred Group 87",
         "showlegend": false,
         "type": "scatter",
         "x": {
          "bdata": "hBjQQQ==",
          "dtype": "f4"
         },
         "xaxis": "x2",
         "y": {
          "bdata": "CjHTQQ==",
          "dtype": "f4"
         },
         "yaxis": "y2"
        },
        {
         "legendgroup": "pred",
         "marker": {
          "color": "#9467bd",
          "size": 6
         },
         "mode": "markers",
         "name": "Pred Group 88",
         "showlegend": false,
         "type": "scatter",
         "x": {
          "bdata": "ibFSQg==",
          "dtype": "f4"
         },
         "xaxis": "x2",
         "y": {
          "bdata": "80QUQQ==",
          "dtype": "f4"
         },
         "yaxis": "y2"
        },
        {
         "legendgroup": "pred",
         "marker": {
          "color": "#9467bd",
          "size": 6
         },
         "mode": "markers",
         "name": "Pred Group 89",
         "showlegend": false,
         "type": "scatter",
         "x": {
          "bdata": "0NAdQg==",
          "dtype": "f4"
         },
         "xaxis": "x2",
         "y": {
          "bdata": "BUR1QQ==",
          "dtype": "f4"
         },
         "yaxis": "y2"
        },
        {
         "legendgroup": "pred",
         "marker": {
          "color": "#9467bd",
          "size": 6
         },
         "mode": "markers",
         "name": "Pred Group 90",
         "showlegend": false,
         "type": "scatter",
         "x": {
          "bdata": "rx2DQA==",
          "dtype": "f4"
         },
         "xaxis": "x2",
         "y": {
          "bdata": "FZrKwQ==",
          "dtype": "f4"
         },
         "yaxis": "y2"
        },
        {
         "legendgroup": "pred",
         "marker": {
          "color": "#9467bd",
          "size": 6
         },
         "mode": "markers",
         "name": "Pred Group 91",
         "showlegend": false,
         "type": "scatter",
         "x": {
          "bdata": "qp/KwQ==",
          "dtype": "f4"
         },
         "xaxis": "x2",
         "y": {
          "bdata": "LvNiwQ==",
          "dtype": "f4"
         },
         "yaxis": "y2"
        },
        {
         "legendgroup": "pred",
         "marker": {
          "color": "#c5b0d5",
          "size": 6
         },
         "mode": "markers",
         "name": "Pred Group 92",
         "showlegend": false,
         "type": "scatter",
         "x": {
          "bdata": "tIQhwg==",
          "dtype": "f4"
         },
         "xaxis": "x2",
         "y": {
          "bdata": "2sRbwQ==",
          "dtype": "f4"
         },
         "yaxis": "y2"
        },
        {
         "legendgroup": "pred",
         "marker": {
          "color": "#c5b0d5",
          "size": 6
         },
         "mode": "markers",
         "name": "Pred Group 93",
         "showlegend": false,
         "type": "scatter",
         "x": {
          "bdata": "czzFvw==",
          "dtype": "f4"
         },
         "xaxis": "x2",
         "y": {
          "bdata": "nqxOwg==",
          "dtype": "f4"
         },
         "yaxis": "y2"
        },
        {
         "legendgroup": "pred",
         "marker": {
          "color": "#c5b0d5",
          "size": 6
         },
         "mode": "markers",
         "name": "Pred Group 94",
         "showlegend": false,
         "type": "scatter",
         "x": {
          "bdata": "gYUlwg==",
          "dtype": "f4"
         },
         "xaxis": "x2",
         "y": {
          "bdata": "df25QA==",
          "dtype": "f4"
         },
         "yaxis": "y2"
        },
        {
         "legendgroup": "pred",
         "marker": {
          "color": "#c5b0d5",
          "size": 6
         },
         "mode": "markers",
         "name": "Pred Group 95",
         "showlegend": false,
         "type": "scatter",
         "x": {
          "bdata": "heuDQQ==",
          "dtype": "f4"
         },
         "xaxis": "x2",
         "y": {
          "bdata": "fGHAPg==",
          "dtype": "f4"
         },
         "yaxis": "y2"
        },
        {
         "legendgroup": "pred",
         "marker": {
          "color": "#c5b0d5",
          "size": 6
         },
         "mode": "markers",
         "name": "Pred Group 96",
         "showlegend": false,
         "type": "scatter",
         "x": {
          "bdata": "CL4qwg==",
          "dtype": "f4"
         },
         "xaxis": "x2",
         "y": {
          "bdata": "avc9wA==",
          "dtype": "f4"
         },
         "yaxis": "y2"
        },
        {
         "legendgroup": "pred",
         "marker": {
          "color": "#c5b0d5",
          "size": 6
         },
         "mode": "markers",
         "name": "Pred Group 97",
         "showlegend": false,
         "type": "scatter",
         "x": {
          "bdata": "qewKQA==",
          "dtype": "f4"
         },
         "xaxis": "x2",
         "y": {
          "bdata": "TB16wg==",
          "dtype": "f4"
         },
         "yaxis": "y2"
        },
        {
         "legendgroup": "pred",
         "marker": {
          "color": "#c5b0d5",
          "size": 6
         },
         "mode": "markers",
         "name": "Pred Group 98",
         "showlegend": false,
         "type": "scatter",
         "x": {
          "bdata": "5c7vQA==",
          "dtype": "f4"
         },
         "xaxis": "x2",
         "y": {
          "bdata": "9omXwA==",
          "dtype": "f4"
         },
         "yaxis": "y2"
        },
        {
         "legendgroup": "pred",
         "marker": {
          "color": "#c5b0d5",
          "size": 6
         },
         "mode": "markers",
         "name": "Pred Group 99",
         "showlegend": false,
         "type": "scatter",
         "x": {
          "bdata": "KgEGwg==",
          "dtype": "f4"
         },
         "xaxis": "x2",
         "y": {
          "bdata": "RMoNwg==",
          "dtype": "f4"
         },
         "yaxis": "y2"
        },
        {
         "legendgroup": "pred",
         "marker": {
          "color": "#c5b0d5",
          "size": 6
         },
         "mode": "markers",
         "name": "Pred Group 100",
         "showlegend": false,
         "type": "scatter",
         "x": {
          "bdata": "Ub0xwg==",
          "dtype": "f4"
         },
         "xaxis": "x2",
         "y": {
          "bdata": "H9WawQ==",
          "dtype": "f4"
         },
         "yaxis": "y2"
        },
        {
         "legendgroup": "pred",
         "marker": {
          "color": "#c5b0d5",
          "size": 6
         },
         "mode": "markers",
         "name": "Pred Group 101",
         "showlegend": false,
         "type": "scatter",
         "x": {
          "bdata": "CejAQQ==",
          "dtype": "f4"
         },
         "xaxis": "x2",
         "y": {
          "bdata": "mHdhQg==",
          "dtype": "f4"
         },
         "yaxis": "y2"
        },
        {
         "legendgroup": "pred",
         "marker": {
          "color": "#8c564b",
          "size": 6
         },
         "mode": "markers",
         "name": "Pred Group 102",
         "showlegend": false,
         "type": "scatter",
         "x": {
          "bdata": "Y4jDQQ==",
          "dtype": "f4"
         },
         "xaxis": "x2",
         "y": {
          "bdata": "veU0QQ==",
          "dtype": "f4"
         },
         "yaxis": "y2"
        },
        {
         "legendgroup": "pred",
         "marker": {
          "color": "#8c564b",
          "size": 6
         },
         "mode": "markers",
         "name": "Pred Group 103",
         "showlegend": false,
         "type": "scatter",
         "x": {
          "bdata": "NPFbwQ==",
          "dtype": "f4"
         },
         "xaxis": "x2",
         "y": {
          "bdata": "LhF9Qg==",
          "dtype": "f4"
         },
         "yaxis": "y2"
        },
        {
         "legendgroup": "pred",
         "marker": {
          "color": "#8c564b",
          "size": 6
         },
         "mode": "markers",
         "name": "Pred Group 104",
         "showlegend": false,
         "type": "scatter",
         "x": {
          "bdata": "WDdVQg==",
          "dtype": "f4"
         },
         "xaxis": "x2",
         "y": {
          "bdata": "DpsRQg==",
          "dtype": "f4"
         },
         "yaxis": "y2"
        },
        {
         "legendgroup": "pred",
         "marker": {
          "color": "#8c564b",
          "size": 6
         },
         "mode": "markers",
         "name": "Pred Group 105",
         "showlegend": false,
         "type": "scatter",
         "x": {
          "bdata": "OZfWwQ==",
          "dtype": "f4"
         },
         "xaxis": "x2",
         "y": {
          "bdata": "2sF3QA==",
          "dtype": "f4"
         },
         "yaxis": "y2"
        },
        {
         "legendgroup": "pred",
         "marker": {
          "color": "#8c564b",
          "size": 6
         },
         "mode": "markers",
         "name": "Pred Group 106",
         "showlegend": false,
         "type": "scatter",
         "x": {
          "bdata": "lkldQg==",
          "dtype": "f4"
         },
         "xaxis": "x2",
         "y": {
          "bdata": "uufMwA==",
          "dtype": "f4"
         },
         "yaxis": "y2"
        },
        {
         "legendgroup": "pred",
         "marker": {
          "color": "#8c564b",
          "size": 6
         },
         "mode": "markers",
         "name": "Pred Group 107",
         "showlegend": false,
         "type": "scatter",
         "x": {
          "bdata": "7sgAQA==",
          "dtype": "f4"
         },
         "xaxis": "x2",
         "y": {
          "bdata": "8xUGQg==",
          "dtype": "f4"
         },
         "yaxis": "y2"
        },
        {
         "legendgroup": "pred",
         "marker": {
          "color": "#8c564b",
          "size": 6
         },
         "mode": "markers",
         "name": "Pred Group 108",
         "showlegend": false,
         "type": "scatter",
         "x": {
          "bdata": "ugTfQA==",
          "dtype": "f4"
         },
         "xaxis": "x2",
         "y": {
          "bdata": "ByGXQQ==",
          "dtype": "f4"
         },
         "yaxis": "y2"
        },
        {
         "legendgroup": "pred",
         "marker": {
          "color": "#8c564b",
          "size": 6
         },
         "mode": "markers",
         "name": "Pred Group 109",
         "showlegend": false,
         "type": "scatter",
         "x": {
          "bdata": "rY5Nwg==",
          "dtype": "f4"
         },
         "xaxis": "x2",
         "y": {
          "bdata": "as7TQA==",
          "dtype": "f4"
         },
         "yaxis": "y2"
        },
        {
         "legendgroup": "pred",
         "marker": {
          "color": "#8c564b",
          "size": 6
         },
         "mode": "markers",
         "name": "Pred Group 110",
         "showlegend": false,
         "type": "scatter",
         "x": {
          "bdata": "4sYdwg==",
          "dtype": "f4"
         },
         "xaxis": "x2",
         "y": {
          "bdata": "Pr4uQg==",
          "dtype": "f4"
         },
         "yaxis": "y2"
        },
        {
         "legendgroup": "pred",
         "marker": {
          "color": "#8c564b",
          "size": 6
         },
         "mode": "markers",
         "name": "Pred Group 111",
         "showlegend": false,
         "type": "scatter",
         "x": {
          "bdata": "5y2DQg==",
          "dtype": "f4"
         },
         "xaxis": "x2",
         "y": {
          "bdata": "W3scwA==",
          "dtype": "f4"
         },
         "yaxis": "y2"
        },
        {
         "legendgroup": "pred",
         "marker": {
          "color": "#8c564b",
          "size": 6
         },
         "mode": "markers",
         "name": "Pred Group 112",
         "showlegend": false,
         "type": "scatter",
         "x": {
          "bdata": "PLuOwQ==",
          "dtype": "f4"
         },
         "xaxis": "x2",
         "y": {
          "bdata": "B0mqwQ==",
          "dtype": "f4"
         },
         "yaxis": "y2"
        },
        {
         "legendgroup": "pred",
         "marker": {
          "color": "#c49c94",
          "size": 6
         },
         "mode": "markers",
         "name": "Pred Group 113",
         "showlegend": false,
         "type": "scatter",
         "x": {
          "bdata": "EBXSwQ==",
          "dtype": "f4"
         },
         "xaxis": "x2",
         "y": {
          "bdata": "7kKBQA==",
          "dtype": "f4"
         },
         "yaxis": "y2"
        },
        {
         "legendgroup": "pred",
         "marker": {
          "color": "#c49c94",
          "size": 6
         },
         "mode": "markers",
         "name": "Pred Group 114",
         "showlegend": false,
         "type": "scatter",
         "x": {
          "bdata": "/UhrQA==",
          "dtype": "f4"
         },
         "xaxis": "x2",
         "y": {
          "bdata": "0kCKwg==",
          "dtype": "f4"
         },
         "yaxis": "y2"
        },
        {
         "legendgroup": "pred",
         "marker": {
          "color": "#c49c94",
          "size": 6
         },
         "mode": "markers",
         "name": "Pred Group 115",
         "showlegend": false,
         "type": "scatter",
         "x": {
          "bdata": "oCUUwg==",
          "dtype": "f4"
         },
         "xaxis": "x2",
         "y": {
          "bdata": "BAjVwQ==",
          "dtype": "f4"
         },
         "yaxis": "y2"
        },
        {
         "legendgroup": "pred",
         "marker": {
          "color": "#c49c94",
          "size": 6
         },
         "mode": "markers",
         "name": "Pred Group 116",
         "showlegend": false,
         "type": "scatter",
         "x": {
          "bdata": "VprCQQ==",
          "dtype": "f4"
         },
         "xaxis": "x2",
         "y": {
          "bdata": "nmt7Qg==",
          "dtype": "f4"
         },
         "yaxis": "y2"
        },
        {
         "legendgroup": "pred",
         "marker": {
          "color": "#c49c94",
          "size": 6
         },
         "mode": "markers",
         "name": "Pred Group 117",
         "showlegend": false,
         "type": "scatter",
         "x": {
          "bdata": "NWvbQA==",
          "dtype": "f4"
         },
         "xaxis": "x2",
         "y": {
          "bdata": "lWpkwg==",
          "dtype": "f4"
         },
         "yaxis": "y2"
        },
        {
         "legendgroup": "pred",
         "marker": {
          "color": "#c49c94",
          "size": 6
         },
         "mode": "markers",
         "name": "Pred Group 118",
         "showlegend": false,
         "type": "scatter",
         "x": {
          "bdata": "h7l5QA==",
          "dtype": "f4"
         },
         "xaxis": "x2",
         "y": {
          "bdata": "hJ5qwg==",
          "dtype": "f4"
         },
         "yaxis": "y2"
        },
        {
         "legendgroup": "pred",
         "marker": {
          "color": "#c49c94",
          "size": 6
         },
         "mode": "markers",
         "name": "Pred Group 119",
         "showlegend": false,
         "type": "scatter",
         "x": {
          "bdata": "iFvhwA==",
          "dtype": "f4"
         },
         "xaxis": "x2",
         "y": {
          "bdata": "ekgCwg==",
          "dtype": "f4"
         },
         "yaxis": "y2"
        },
        {
         "legendgroup": "pred",
         "marker": {
          "color": "#c49c94",
          "size": 6
         },
         "mode": "markers",
         "name": "Pred Group 120",
         "showlegend": false,
         "type": "scatter",
         "x": {
          "bdata": "qZNBwg==",
          "dtype": "f4"
         },
         "xaxis": "x2",
         "y": {
          "bdata": "2LATwg==",
          "dtype": "f4"
         },
         "yaxis": "y2"
        },
        {
         "legendgroup": "pred",
         "marker": {
          "color": "#c49c94",
          "size": 6
         },
         "mode": "markers",
         "name": "Pred Group 121",
         "showlegend": false,
         "type": "scatter",
         "x": {
          "bdata": "J5dmwg==",
          "dtype": "f4"
         },
         "xaxis": "x2",
         "y": {
          "bdata": "rSPTwQ==",
          "dtype": "f4"
         },
         "yaxis": "y2"
        },
        {
         "legendgroup": "pred",
         "marker": {
          "color": "#c49c94",
          "size": 6
         },
         "mode": "markers",
         "name": "Pred Group 122",
         "showlegend": false,
         "type": "scatter",
         "x": {
          "bdata": "0xVHwg==",
          "dtype": "f4"
         },
         "xaxis": "x2",
         "y": {
          "bdata": "N/Aawg==",
          "dtype": "f4"
         },
         "yaxis": "y2"
        },
        {
         "legendgroup": "pred",
         "marker": {
          "color": "#e377c2",
          "size": 6
         },
         "mode": "markers",
         "name": "Pred Group 123",
         "showlegend": false,
         "type": "scatter",
         "x": {
          "bdata": "Ocolwg==",
          "dtype": "f4"
         },
         "xaxis": "x2",
         "y": {
          "bdata": "trcyQg==",
          "dtype": "f4"
         },
         "yaxis": "y2"
        },
        {
         "legendgroup": "pred",
         "marker": {
          "color": "#e377c2",
          "size": 6
         },
         "mode": "markers",
         "name": "Pred Group 124",
         "showlegend": false,
         "type": "scatter",
         "x": {
          "bdata": "RaMWwg==",
          "dtype": "f4"
         },
         "xaxis": "x2",
         "y": {
          "bdata": "MlmQwg==",
          "dtype": "f4"
         },
         "yaxis": "y2"
        },
        {
         "legendgroup": "pred",
         "marker": {
          "color": "#e377c2",
          "size": 6
         },
         "mode": "markers",
         "name": "Pred Group 125",
         "showlegend": false,
         "type": "scatter",
         "x": {
          "bdata": "jb/vQQ==",
          "dtype": "f4"
         },
         "xaxis": "x2",
         "y": {
          "bdata": "o18Lwg==",
          "dtype": "f4"
         },
         "yaxis": "y2"
        },
        {
         "legendgroup": "pred",
         "marker": {
          "color": "#e377c2",
          "size": 6
         },
         "mode": "markers",
         "name": "Pred Group 126",
         "showlegend": false,
         "type": "scatter",
         "x": {
          "bdata": "3oOXwQ==",
          "dtype": "f4"
         },
         "xaxis": "x2",
         "y": {
          "bdata": "bXZTwg==",
          "dtype": "f4"
         },
         "yaxis": "y2"
        },
        {
         "legendgroup": "pred",
         "marker": {
          "color": "#e377c2",
          "size": 6
         },
         "mode": "markers",
         "name": "Pred Group 127",
         "showlegend": false,
         "type": "scatter",
         "x": {
          "bdata": "Jg8Ewg==",
          "dtype": "f4"
         },
         "xaxis": "x2",
         "y": {
          "bdata": "0wVePw==",
          "dtype": "f4"
         },
         "yaxis": "y2"
        },
        {
         "legendgroup": "pred",
         "marker": {
          "color": "#e377c2",
          "size": 6
         },
         "mode": "markers",
         "name": "Pred Group 128",
         "showlegend": false,
         "type": "scatter",
         "x": {
          "bdata": "bydKwQ==",
          "dtype": "f4"
         },
         "xaxis": "x2",
         "y": {
          "bdata": "xU6eQA==",
          "dtype": "f4"
         },
         "yaxis": "y2"
        },
        {
         "legendgroup": "pred",
         "marker": {
          "color": "#e377c2",
          "size": 6
         },
         "mode": "markers",
         "name": "Pred Group 129",
         "showlegend": false,
         "type": "scatter",
         "x": {
          "bdata": "Bs0gQg==",
          "dtype": "f4"
         },
         "xaxis": "x2",
         "y": {
          "bdata": "9szgQQ==",
          "dtype": "f4"
         },
         "yaxis": "y2"
        },
        {
         "legendgroup": "pred",
         "marker": {
          "color": "#e377c2",
          "size": 6
         },
         "mode": "markers",
         "name": "Pred Group 130",
         "showlegend": false,
         "type": "scatter",
         "x": {
          "bdata": "sQK7QQ==",
          "dtype": "f4"
         },
         "xaxis": "x2",
         "y": {
          "bdata": "YVhCQQ==",
          "dtype": "f4"
         },
         "yaxis": "y2"
        },
        {
         "legendgroup": "pred",
         "marker": {
          "color": "#e377c2",
          "size": 6
         },
         "mode": "markers",
         "name": "Pred Group 131",
         "showlegend": false,
         "type": "scatter",
         "x": {
          "bdata": "322HwA==",
          "dtype": "f4"
         },
         "xaxis": "x2",
         "y": {
          "bdata": "ErnYQQ==",
          "dtype": "f4"
         },
         "yaxis": "y2"
        },
        {
         "legendgroup": "pred",
         "marker": {
          "color": "#e377c2",
          "size": 6
         },
         "mode": "markers",
         "name": "Pred Group 132",
         "showlegend": false,
         "type": "scatter",
         "x": {
          "bdata": "OL4fwg==",
          "dtype": "f4"
         },
         "xaxis": "x2",
         "y": {
          "bdata": "i+OQQA==",
          "dtype": "f4"
         },
         "yaxis": "y2"
        },
        {
         "legendgroup": "pred",
         "marker": {
          "color": "#f7b6d2",
          "size": 6
         },
         "mode": "markers",
         "name": "Pred Group 133",
         "showlegend": false,
         "type": "scatter",
         "x": {
          "bdata": "lGeqwQ==",
          "dtype": "f4"
         },
         "xaxis": "x2",
         "y": {
          "bdata": "gEAFwQ==",
          "dtype": "f4"
         },
         "yaxis": "y2"
        },
        {
         "legendgroup": "pred",
         "marker": {
          "color": "#f7b6d2",
          "size": 6
         },
         "mode": "markers",
         "name": "Pred Group 134",
         "showlegend": false,
         "type": "scatter",
         "x": {
          "bdata": "M0HgwA==",
          "dtype": "f4"
         },
         "xaxis": "x2",
         "y": {
          "bdata": "9JxPwA==",
          "dtype": "f4"
         },
         "yaxis": "y2"
        },
        {
         "legendgroup": "pred",
         "marker": {
          "color": "#f7b6d2",
          "size": 6
         },
         "mode": "markers",
         "name": "Pred Group 135",
         "showlegend": false,
         "type": "scatter",
         "x": {
          "bdata": "9iqBwQ==",
          "dtype": "f4"
         },
         "xaxis": "x2",
         "y": {
          "bdata": "mQdmQQ==",
          "dtype": "f4"
         },
         "yaxis": "y2"
        },
        {
         "legendgroup": "pred",
         "marker": {
          "color": "#f7b6d2",
          "size": 6
         },
         "mode": "markers",
         "name": "Pred Group 136",
         "showlegend": false,
         "type": "scatter",
         "x": {
          "bdata": "B/7bwA==",
          "dtype": "f4"
         },
         "xaxis": "x2",
         "y": {
          "bdata": "X1DaQQ==",
          "dtype": "f4"
         },
         "yaxis": "y2"
        },
        {
         "legendgroup": "pred",
         "marker": {
          "color": "#f7b6d2",
          "size": 6
         },
         "mode": "markers",
         "name": "Pred Group 137",
         "showlegend": false,
         "type": "scatter",
         "x": {
          "bdata": "jMa+QQ==",
          "dtype": "f4"
         },
         "xaxis": "x2",
         "y": {
          "bdata": "qu8wwg==",
          "dtype": "f4"
         },
         "yaxis": "y2"
        },
        {
         "legendgroup": "pred",
         "marker": {
          "color": "#f7b6d2",
          "size": 6
         },
         "mode": "markers",
         "name": "Pred Group 138",
         "showlegend": false,
         "type": "scatter",
         "x": {
          "bdata": "VX81wQ==",
          "dtype": "f4"
         },
         "xaxis": "x2",
         "y": {
          "bdata": "+n/uQQ==",
          "dtype": "f4"
         },
         "yaxis": "y2"
        },
        {
         "legendgroup": "pred",
         "marker": {
          "color": "#f7b6d2",
          "size": 6
         },
         "mode": "markers",
         "name": "Pred Group 139",
         "showlegend": false,
         "type": "scatter",
         "x": {
          "bdata": "0nMeQg==",
          "dtype": "f4"
         },
         "xaxis": "x2",
         "y": {
          "bdata": "h8CgQQ==",
          "dtype": "f4"
         },
         "yaxis": "y2"
        },
        {
         "legendgroup": "pred",
         "marker": {
          "color": "#f7b6d2",
          "size": 6
         },
         "mode": "markers",
         "name": "Pred Group 140",
         "showlegend": false,
         "type": "scatter",
         "x": {
          "bdata": "qvpNQg==",
          "dtype": "f4"
         },
         "xaxis": "x2",
         "y": {
          "bdata": "Ey0CQg==",
          "dtype": "f4"
         },
         "yaxis": "y2"
        },
        {
         "legendgroup": "pred",
         "marker": {
          "color": "#f7b6d2",
          "size": 6
         },
         "mode": "markers",
         "name": "Pred Group 141",
         "showlegend": false,
         "type": "scatter",
         "x": {
          "bdata": "rg91QQ==",
          "dtype": "f4"
         },
         "xaxis": "x2",
         "y": {
          "bdata": "eoWNwA==",
          "dtype": "f4"
         },
         "yaxis": "y2"
        },
        {
         "legendgroup": "pred",
         "marker": {
          "color": "#f7b6d2",
          "size": 6
         },
         "mode": "markers",
         "name": "Pred Group 142",
         "showlegend": false,
         "type": "scatter",
         "x": {
          "bdata": "52VNQg==",
          "dtype": "f4"
         },
         "xaxis": "x2",
         "y": {
          "bdata": "pZL4QQ==",
          "dtype": "f4"
         },
         "yaxis": "y2"
        },
        {
         "legendgroup": "pred",
         "marker": {
          "color": "#7f7f7f",
          "size": 6
         },
         "mode": "markers",
         "name": "Pred Group 143",
         "showlegend": false,
         "type": "scatter",
         "x": {
          "bdata": "jZvlQQ==",
          "dtype": "f4"
         },
         "xaxis": "x2",
         "y": {
          "bdata": "IxAvQA==",
          "dtype": "f4"
         },
         "yaxis": "y2"
        },
        {
         "legendgroup": "pred",
         "marker": {
          "color": "#7f7f7f",
          "size": 6
         },
         "mode": "markers",
         "name": "Pred Group 144",
         "showlegend": false,
         "type": "scatter",
         "x": {
          "bdata": "mWYgQg==",
          "dtype": "f4"
         },
         "xaxis": "x2",
         "y": {
          "bdata": "cLTsPw==",
          "dtype": "f4"
         },
         "yaxis": "y2"
        },
        {
         "legendgroup": "pred",
         "marker": {
          "color": "#7f7f7f",
          "size": 6
         },
         "mode": "markers",
         "name": "Pred Group 145",
         "showlegend": false,
         "type": "scatter",
         "x": {
          "bdata": "AbEcQg==",
          "dtype": "f4"
         },
         "xaxis": "x2",
         "y": {
          "bdata": "lxiTQQ==",
          "dtype": "f4"
         },
         "yaxis": "y2"
        },
        {
         "legendgroup": "pred",
         "marker": {
          "color": "#7f7f7f",
          "size": 6
         },
         "mode": "markers",
         "name": "Pred Group 146",
         "showlegend": false,
         "type": "scatter",
         "x": {
          "bdata": "YPg8Qg==",
          "dtype": "f4"
         },
         "xaxis": "x2",
         "y": {
          "bdata": "rXcFvg==",
          "dtype": "f4"
         },
         "yaxis": "y2"
        },
        {
         "legendgroup": "pred",
         "marker": {
          "color": "#7f7f7f",
          "size": 6
         },
         "mode": "markers",
         "name": "Pred Group 147",
         "showlegend": false,
         "type": "scatter",
         "x": {
          "bdata": "VqXowQ==",
          "dtype": "f4"
         },
         "xaxis": "x2",
         "y": {
          "bdata": "YpmCQQ==",
          "dtype": "f4"
         },
         "yaxis": "y2"
        },
        {
         "legendgroup": "pred",
         "marker": {
          "color": "#7f7f7f",
          "size": 6
         },
         "mode": "markers",
         "name": "Pred Group 148",
         "showlegend": false,
         "type": "scatter",
         "x": {
          "bdata": "8g3ewQ==",
          "dtype": "f4"
         },
         "xaxis": "x2",
         "y": {
          "bdata": "PSl2QQ==",
          "dtype": "f4"
         },
         "yaxis": "y2"
        },
        {
         "legendgroup": "pred",
         "marker": {
          "color": "#7f7f7f",
          "size": 6
         },
         "mode": "markers",
         "name": "Pred Group 149",
         "showlegend": false,
         "type": "scatter",
         "x": {
          "bdata": "9hWbQQ==",
          "dtype": "f4"
         },
         "xaxis": "x2",
         "y": {
          "bdata": "QCYrwQ==",
          "dtype": "f4"
         },
         "yaxis": "y2"
        },
        {
         "legendgroup": "pred",
         "marker": {
          "color": "#7f7f7f",
          "size": 6
         },
         "mode": "markers",
         "name": "Pred Group 150",
         "showlegend": false,
         "type": "scatter",
         "x": {
          "bdata": "UsuAwQ==",
          "dtype": "f4"
         },
         "xaxis": "x2",
         "y": {
          "bdata": "qCfBQQ==",
          "dtype": "f4"
         },
         "yaxis": "y2"
        },
        {
         "legendgroup": "pred",
         "marker": {
          "color": "#7f7f7f",
          "size": 6
         },
         "mode": "markers",
         "name": "Pred Group 151",
         "showlegend": false,
         "type": "scatter",
         "x": {
          "bdata": "2N+WwQ==",
          "dtype": "f4"
         },
         "xaxis": "x2",
         "y": {
          "bdata": "MxaLwQ==",
          "dtype": "f4"
         },
         "yaxis": "y2"
        },
        {
         "legendgroup": "pred",
         "marker": {
          "color": "#7f7f7f",
          "size": 6
         },
         "mode": "markers",
         "name": "Pred Group 152",
         "showlegend": false,
         "type": "scatter",
         "x": {
          "bdata": "UpIZQQ==",
          "dtype": "f4"
         },
         "xaxis": "x2",
         "y": {
          "bdata": "EAGDQQ==",
          "dtype": "f4"
         },
         "yaxis": "y2"
        },
        {
         "legendgroup": "pred",
         "marker": {
          "color": "#c7c7c7",
          "size": 6
         },
         "mode": "markers",
         "name": "Pred Group 153",
         "showlegend": false,
         "type": "scatter",
         "x": {
          "bdata": "DVwXwA==",
          "dtype": "f4"
         },
         "xaxis": "x2",
         "y": {
          "bdata": "icW3wQ==",
          "dtype": "f4"
         },
         "yaxis": "y2"
        },
        {
         "legendgroup": "pred",
         "marker": {
          "color": "#c7c7c7",
          "size": 6
         },
         "mode": "markers",
         "name": "Pred Group 154",
         "showlegend": false,
         "type": "scatter",
         "x": {
          "bdata": "u933wQ==",
          "dtype": "f4"
         },
         "xaxis": "x2",
         "y": {
          "bdata": "j1cXQg==",
          "dtype": "f4"
         },
         "yaxis": "y2"
        },
        {
         "legendgroup": "pred",
         "marker": {
          "color": "#c7c7c7",
          "size": 6
         },
         "mode": "markers",
         "name": "Pred Group 155",
         "showlegend": false,
         "type": "scatter",
         "x": {
          "bdata": "hVujQA==",
          "dtype": "f4"
         },
         "xaxis": "x2",
         "y": {
          "bdata": "2eykQQ==",
          "dtype": "f4"
         },
         "yaxis": "y2"
        },
        {
         "legendgroup": "pred",
         "marker": {
          "color": "#c7c7c7",
          "size": 6
         },
         "mode": "markers",
         "name": "Pred Group 156",
         "showlegend": false,
         "type": "scatter",
         "x": {
          "bdata": "UALHwQ==",
          "dtype": "f4"
         },
         "xaxis": "x2",
         "y": {
          "bdata": "HNaKQQ==",
          "dtype": "f4"
         },
         "yaxis": "y2"
        },
        {
         "legendgroup": "pred",
         "marker": {
          "color": "#c7c7c7",
          "size": 6
         },
         "mode": "markers",
         "name": "Pred Group 157",
         "showlegend": false,
         "type": "scatter",
         "x": {
          "bdata": "qenuQA==",
          "dtype": "f4"
         },
         "xaxis": "x2",
         "y": {
          "bdata": "gYFFQg==",
          "dtype": "f4"
         },
         "yaxis": "y2"
        },
        {
         "legendgroup": "pred",
         "marker": {
          "color": "#c7c7c7",
          "size": 6
         },
         "mode": "markers",
         "name": "Pred Group 158",
         "showlegend": false,
         "type": "scatter",
         "x": {
          "bdata": "M3RtwQ==",
          "dtype": "f4"
         },
         "xaxis": "x2",
         "y": {
          "bdata": "e8YSQg==",
          "dtype": "f4"
         },
         "yaxis": "y2"
        },
        {
         "legendgroup": "pred",
         "marker": {
          "color": "#c7c7c7",
          "size": 6
         },
         "mode": "markers",
         "name": "Pred Group 159",
         "showlegend": false,
         "type": "scatter",
         "x": {
          "bdata": "Ywv6QA==",
          "dtype": "f4"
         },
         "xaxis": "x2",
         "y": {
          "bdata": "pY6VPw==",
          "dtype": "f4"
         },
         "yaxis": "y2"
        },
        {
         "legendgroup": "pred",
         "marker": {
          "color": "#c7c7c7",
          "size": 6
         },
         "mode": "markers",
         "name": "Pred Group 160",
         "showlegend": false,
         "type": "scatter",
         "x": {
          "bdata": "FJMKwQ==",
          "dtype": "f4"
         },
         "xaxis": "x2",
         "y": {
          "bdata": "UXofQg==",
          "dtype": "f4"
         },
         "yaxis": "y2"
        },
        {
         "legendgroup": "pred",
         "marker": {
          "color": "#c7c7c7",
          "size": 6
         },
         "mode": "markers",
         "name": "Pred Group 161",
         "showlegend": false,
         "type": "scatter",
         "x": {
          "bdata": "Z/Q7QQ==",
          "dtype": "f4"
         },
         "xaxis": "x2",
         "y": {
          "bdata": "vFLOwQ==",
          "dtype": "f4"
         },
         "yaxis": "y2"
        },
        {
         "legendgroup": "pred",
         "marker": {
          "color": "#c7c7c7",
          "size": 6
         },
         "mode": "markers",
         "name": "Pred Group 162",
         "showlegend": false,
         "type": "scatter",
         "x": {
          "bdata": "PnXZQQ==",
          "dtype": "f4"
         },
         "xaxis": "x2",
         "y": {
          "bdata": "XLHGQQ==",
          "dtype": "f4"
         },
         "yaxis": "y2"
        },
        {
         "legendgroup": "pred",
         "marker": {
          "color": "#c7c7c7",
          "size": 6
         },
         "mode": "markers",
         "name": "Pred Group 163",
         "showlegend": false,
         "type": "scatter",
         "x": {
          "bdata": "N6QNwg==",
          "dtype": "f4"
         },
         "xaxis": "x2",
         "y": {
          "bdata": "A7MowQ==",
          "dtype": "f4"
         },
         "yaxis": "y2"
        },
        {
         "legendgroup": "pred",
         "marker": {
          "color": "#bcbd22",
          "size": 6
         },
         "mode": "markers",
         "name": "Pred Group 164",
         "showlegend": false,
         "type": "scatter",
         "x": {
          "bdata": "E9FiwQ==",
          "dtype": "f4"
         },
         "xaxis": "x2",
         "y": {
          "bdata": "fApwQg==",
          "dtype": "f4"
         },
         "yaxis": "y2"
        },
        {
         "legendgroup": "pred",
         "marker": {
          "color": "#bcbd22",
          "size": 6
         },
         "mode": "markers",
         "name": "Pred Group 165",
         "showlegend": false,
         "type": "scatter",
         "x": {
          "bdata": "Yd30vw==",
          "dtype": "f4"
         },
         "xaxis": "x2",
         "y": {
          "bdata": "3wi5wQ==",
          "dtype": "f4"
         },
         "yaxis": "y2"
        },
        {
         "legendgroup": "pred",
         "marker": {
          "color": "#bcbd22",
          "size": 6
         },
         "mode": "markers",
         "name": "Pred Group 166",
         "showlegend": false,
         "type": "scatter",
         "x": {
          "bdata": "1ByIwQ==",
          "dtype": "f4"
         },
         "xaxis": "x2",
         "y": {
          "bdata": "IoUSQQ==",
          "dtype": "f4"
         },
         "yaxis": "y2"
        },
        {
         "legendgroup": "pred",
         "marker": {
          "color": "#bcbd22",
          "size": 6
         },
         "mode": "markers",
         "name": "Pred Group 167",
         "showlegend": false,
         "type": "scatter",
         "x": {
          "bdata": "u1x1wQ==",
          "dtype": "f4"
         },
         "xaxis": "x2",
         "y": {
          "bdata": "Bz1nQg==",
          "dtype": "f4"
         },
         "yaxis": "y2"
        },
        {
         "legendgroup": "pred",
         "marker": {
          "color": "#bcbd22",
          "size": 6
         },
         "mode": "markers",
         "name": "Pred Group 168",
         "showlegend": false,
         "type": "scatter",
         "x": {
          "bdata": "caYmPw==",
          "dtype": "f4"
         },
         "xaxis": "x2",
         "y": {
          "bdata": "fDo5wg==",
          "dtype": "f4"
         },
         "yaxis": "y2"
        },
        {
         "legendgroup": "pred",
         "marker": {
          "color": "#bcbd22",
          "size": 6
         },
         "mode": "markers",
         "name": "Pred Group 169",
         "showlegend": false,
         "type": "scatter",
         "x": {
          "bdata": "TODlwA==",
          "dtype": "f4"
         },
         "xaxis": "x2",
         "y": {
          "bdata": "83s1wA==",
          "dtype": "f4"
         },
         "yaxis": "y2"
        },
        {
         "legendgroup": "pred",
         "marker": {
          "color": "#bcbd22",
          "size": 6
         },
         "mode": "markers",
         "name": "Pred Group 170",
         "showlegend": false,
         "type": "scatter",
         "x": {
          "bdata": "K/ThwQ==",
          "dtype": "f4"
         },
         "xaxis": "x2",
         "y": {
          "bdata": "LgheQQ==",
          "dtype": "f4"
         },
         "yaxis": "y2"
        },
        {
         "legendgroup": "pred",
         "marker": {
          "color": "#bcbd22",
          "size": 6
         },
         "mode": "markers",
         "name": "Pred Group 171",
         "showlegend": false,
         "type": "scatter",
         "x": {
          "bdata": "2D+dwQ==",
          "dtype": "f4"
         },
         "xaxis": "x2",
         "y": {
          "bdata": "IHOKwQ==",
          "dtype": "f4"
         },
         "yaxis": "y2"
        },
        {
         "legendgroup": "pred",
         "marker": {
          "color": "#bcbd22",
          "size": 6
         },
         "mode": "markers",
         "name": "Pred Group 172",
         "showlegend": false,
         "type": "scatter",
         "x": {
          "bdata": "WY30QA==",
          "dtype": "f4"
         },
         "xaxis": "x2",
         "y": {
          "bdata": "LMFSQg==",
          "dtype": "f4"
         },
         "yaxis": "y2"
        },
        {
         "legendgroup": "pred",
         "marker": {
          "color": "#bcbd22",
          "size": 6
         },
         "mode": "markers",
         "name": "Pred Group 173",
         "showlegend": false,
         "type": "scatter",
         "x": {
          "bdata": "7ouSQQ==",
          "dtype": "f4"
         },
         "xaxis": "x2",
         "y": {
          "bdata": "cYTfQQ==",
          "dtype": "f4"
         },
         "yaxis": "y2"
        },
        {
         "legendgroup": "pred",
         "marker": {
          "color": "#dbdb8d",
          "size": 6
         },
         "mode": "markers",
         "name": "Pred Group 174",
         "showlegend": false,
         "type": "scatter",
         "x": {
          "bdata": "1OnBQA==",
          "dtype": "f4"
         },
         "xaxis": "x2",
         "y": {
          "bdata": "D9sDQg==",
          "dtype": "f4"
         },
         "yaxis": "y2"
        },
        {
         "legendgroup": "pred",
         "marker": {
          "color": "#dbdb8d",
          "size": 6
         },
         "mode": "markers",
         "name": "Pred Group 175",
         "showlegend": false,
         "type": "scatter",
         "x": {
          "bdata": "QIuYQQ==",
          "dtype": "f4"
         },
         "xaxis": "x2",
         "y": {
          "bdata": "hebcQQ==",
          "dtype": "f4"
         },
         "yaxis": "y2"
        },
        {
         "legendgroup": "pred",
         "marker": {
          "color": "#dbdb8d",
          "size": 6
         },
         "mode": "markers",
         "name": "Pred Group 176",
         "showlegend": false,
         "type": "scatter",
         "x": {
          "bdata": "eeWXQA==",
          "dtype": "f4"
         },
         "xaxis": "x2",
         "y": {
          "bdata": "7KIDQg==",
          "dtype": "f4"
         },
         "yaxis": "y2"
        },
        {
         "legendgroup": "pred",
         "marker": {
          "color": "#dbdb8d",
          "size": 6
         },
         "mode": "markers",
         "name": "Pred Group 177",
         "showlegend": false,
         "type": "scatter",
         "x": {
          "bdata": "RTpGQA==",
          "dtype": "f4"
         },
         "xaxis": "x2",
         "y": {
          "bdata": "8vwJQg==",
          "dtype": "f4"
         },
         "yaxis": "y2"
        },
        {
         "legendgroup": "pred",
         "marker": {
          "color": "#dbdb8d",
          "size": 6
         },
         "mode": "markers",
         "name": "Pred Group 178",
         "showlegend": false,
         "type": "scatter",
         "x": {
          "bdata": "5B53wQ==",
          "dtype": "f4"
         },
         "xaxis": "x2",
         "y": {
          "bdata": "AGVVQg==",
          "dtype": "f4"
         },
         "yaxis": "y2"
        },
        {
         "legendgroup": "pred",
         "marker": {
          "color": "#dbdb8d",
          "size": 6
         },
         "mode": "markers",
         "name": "Pred Group 179",
         "showlegend": false,
         "type": "scatter",
         "x": {
          "bdata": "hlN+wg==",
          "dtype": "f4"
         },
         "xaxis": "x2",
         "y": {
          "bdata": "jCmywQ==",
          "dtype": "f4"
         },
         "yaxis": "y2"
        },
        {
         "legendgroup": "pred",
         "marker": {
          "color": "#dbdb8d",
          "size": 6
         },
         "mode": "markers",
         "name": "Pred Group 180",
         "showlegend": false,
         "type": "scatter",
         "x": {
          "bdata": "HQJcQg==",
          "dtype": "f4"
         },
         "xaxis": "x2",
         "y": {
          "bdata": "gicSQg==",
          "dtype": "f4"
         },
         "yaxis": "y2"
        },
        {
         "legendgroup": "pred",
         "marker": {
          "color": "#dbdb8d",
          "size": 6
         },
         "mode": "markers",
         "name": "Pred Group 181",
         "showlegend": false,
         "type": "scatter",
         "x": {
          "bdata": "6uLJQQ==",
          "dtype": "f4"
         },
         "xaxis": "x2",
         "y": {
          "bdata": "DHzdQQ==",
          "dtype": "f4"
         },
         "yaxis": "y2"
        },
        {
         "legendgroup": "pred",
         "marker": {
          "color": "#dbdb8d",
          "size": 6
         },
         "mode": "markers",
         "name": "Pred Group 182",
         "showlegend": false,
         "type": "scatter",
         "x": {
          "bdata": "2uwFwg==",
          "dtype": "f4"
         },
         "xaxis": "x2",
         "y": {
          "bdata": "cFahQA==",
          "dtype": "f4"
         },
         "yaxis": "y2"
        },
        {
         "legendgroup": "pred",
         "marker": {
          "color": "#dbdb8d",
          "size": 6
         },
         "mode": "markers",
         "name": "Pred Group 183",
         "showlegend": false,
         "type": "scatter",
         "x": {
          "bdata": "kt7VQA==",
          "dtype": "f4"
         },
         "xaxis": "x2",
         "y": {
          "bdata": "eys7wg==",
          "dtype": "f4"
         },
         "yaxis": "y2"
        },
        {
         "legendgroup": "pred",
         "marker": {
          "color": "#17becf",
          "size": 6
         },
         "mode": "markers",
         "name": "Pred Group 184",
         "showlegend": false,
         "type": "scatter",
         "x": {
          "bdata": "1X6wQQ==",
          "dtype": "f4"
         },
         "xaxis": "x2",
         "y": {
          "bdata": "FQgpwg==",
          "dtype": "f4"
         },
         "yaxis": "y2"
        },
        {
         "legendgroup": "pred",
         "marker": {
          "color": "#17becf",
          "size": 6
         },
         "mode": "markers",
         "name": "Pred Group 185",
         "showlegend": false,
         "type": "scatter",
         "x": {
          "bdata": "b2T8wQ==",
          "dtype": "f4"
         },
         "xaxis": "x2",
         "y": {
          "bdata": "XqDDwA==",
          "dtype": "f4"
         },
         "yaxis": "y2"
        },
        {
         "legendgroup": "pred",
         "marker": {
          "color": "#17becf",
          "size": 6
         },
         "mode": "markers",
         "name": "Pred Group 186",
         "showlegend": false,
         "type": "scatter",
         "x": {
          "bdata": "kVvWwQ==",
          "dtype": "f4"
         },
         "xaxis": "x2",
         "y": {
          "bdata": "4a8Hwg==",
          "dtype": "f4"
         },
         "yaxis": "y2"
        },
        {
         "legendgroup": "pred",
         "marker": {
          "color": "#17becf",
          "size": 6
         },
         "mode": "markers",
         "name": "Pred Group 187",
         "showlegend": false,
         "type": "scatter",
         "x": {
          "bdata": "bAHewQ==",
          "dtype": "f4"
         },
         "xaxis": "x2",
         "y": {
          "bdata": "9FEGwg==",
          "dtype": "f4"
         },
         "yaxis": "y2"
        },
        {
         "legendgroup": "pred",
         "marker": {
          "color": "#17becf",
          "size": 6
         },
         "mode": "markers",
         "name": "Pred Group 188",
         "showlegend": false,
         "type": "scatter",
         "x": {
          "bdata": "ZPSywA==",
          "dtype": "f4"
         },
         "xaxis": "x2",
         "y": {
          "bdata": "L6LhQQ==",
          "dtype": "f4"
         },
         "yaxis": "y2"
        },
        {
         "legendgroup": "pred",
         "marker": {
          "color": "#17becf",
          "size": 6
         },
         "mode": "markers",
         "name": "Pred Group 189",
         "showlegend": false,
         "type": "scatter",
         "x": {
          "bdata": "0rXowQ==",
          "dtype": "f4"
         },
         "xaxis": "x2",
         "y": {
          "bdata": "3JPRQQ==",
          "dtype": "f4"
         },
         "yaxis": "y2"
        },
        {
         "legendgroup": "pred",
         "marker": {
          "color": "#17becf",
          "size": 6
         },
         "mode": "markers",
         "name": "Pred Group 190",
         "showlegend": false,
         "type": "scatter",
         "x": {
          "bdata": "1W+3QQ==",
          "dtype": "f4"
         },
         "xaxis": "x2",
         "y": {
          "bdata": "tYufQQ==",
          "dtype": "f4"
         },
         "yaxis": "y2"
        },
        {
         "legendgroup": "pred",
         "marker": {
          "color": "#17becf",
          "size": 6
         },
         "mode": "markers",
         "name": "Pred Group 191",
         "showlegend": false,
         "type": "scatter",
         "x": {
          "bdata": "RFEVQg==",
          "dtype": "f4"
         },
         "xaxis": "x2",
         "y": {
          "bdata": "/YTwwQ==",
          "dtype": "f4"
         },
         "yaxis": "y2"
        },
        {
         "legendgroup": "pred",
         "marker": {
          "color": "#17becf",
          "size": 6
         },
         "mode": "markers",
         "name": "Pred Group 192",
         "showlegend": false,
         "type": "scatter",
         "x": {
          "bdata": "f1KIQQ==",
          "dtype": "f4"
         },
         "xaxis": "x2",
         "y": {
          "bdata": "ZesiQA==",
          "dtype": "f4"
         },
         "yaxis": "y2"
        },
        {
         "legendgroup": "pred",
         "marker": {
          "color": "#17becf",
          "size": 6
         },
         "mode": "markers",
         "name": "Pred Group 193",
         "showlegend": false,
         "type": "scatter",
         "x": {
          "bdata": "67wTQg==",
          "dtype": "f4"
         },
         "xaxis": "x2",
         "y": {
          "bdata": "umV7QQ==",
          "dtype": "f4"
         },
         "yaxis": "y2"
        },
        {
         "legendgroup": "pred",
         "marker": {
          "color": "#9edae5",
          "size": 6
         },
         "mode": "markers",
         "name": "Pred Group 194",
         "showlegend": false,
         "type": "scatter",
         "x": {
          "bdata": "cQzXQQ==",
          "dtype": "f4"
         },
         "xaxis": "x2",
         "y": {
          "bdata": "32DhQA==",
          "dtype": "f4"
         },
         "yaxis": "y2"
        },
        {
         "legendgroup": "pred",
         "marker": {
          "color": "#9edae5",
          "size": 6
         },
         "mode": "markers",
         "name": "Pred Group 195",
         "showlegend": false,
         "type": "scatter",
         "x": {
          "bdata": "txfIwQ==",
          "dtype": "f4"
         },
         "xaxis": "x2",
         "y": {
          "bdata": "/sx8wQ==",
          "dtype": "f4"
         },
         "yaxis": "y2"
        },
        {
         "legendgroup": "pred",
         "marker": {
          "color": "#9edae5",
          "size": 6
         },
         "mode": "markers",
         "name": "Pred Group 196",
         "showlegend": false,
         "type": "scatter",
         "x": {
          "bdata": "wOpqwQ==",
          "dtype": "f4"
         },
         "xaxis": "x2",
         "y": {
          "bdata": "YynHQQ==",
          "dtype": "f4"
         },
         "yaxis": "y2"
        },
        {
         "legendgroup": "pred",
         "marker": {
          "color": "#9edae5",
          "size": 6
         },
         "mode": "markers",
         "name": "Pred Group 197",
         "showlegend": false,
         "type": "scatter",
         "x": {
          "bdata": "Dt8Owg==",
          "dtype": "f4"
         },
         "xaxis": "x2",
         "y": {
          "bdata": "wTqrwA==",
          "dtype": "f4"
         },
         "yaxis": "y2"
        },
        {
         "legendgroup": "pred",
         "marker": {
          "color": "#9edae5",
          "size": 6
         },
         "mode": "markers",
         "name": "Pred Group 198",
         "showlegend": false,
         "type": "scatter",
         "x": {
          "bdata": "3wUcwQ==",
          "dtype": "f4"
         },
         "xaxis": "x2",
         "y": {
          "bdata": "4gW9QQ==",
          "dtype": "f4"
         },
         "yaxis": "y2"
        },
        {
         "legendgroup": "pred",
         "marker": {
          "color": "#9edae5",
          "size": 6
         },
         "mode": "markers",
         "name": "Pred Group 199",
         "showlegend": false,
         "type": "scatter",
         "x": {
          "bdata": "T+sZQQ==",
          "dtype": "f4"
         },
         "xaxis": "x2",
         "y": {
          "bdata": "enXEvw==",
          "dtype": "f4"
         },
         "yaxis": "y2"
        },
        {
         "legendgroup": "pred",
         "marker": {
          "color": "#9edae5",
          "size": 6
         },
         "mode": "markers",
         "name": "Pred Group 200",
         "showlegend": false,
         "type": "scatter",
         "x": {
          "bdata": "tB4YQQ==",
          "dtype": "f4"
         },
         "xaxis": "x2",
         "y": {
          "bdata": "RQC8wQ==",
          "dtype": "f4"
         },
         "yaxis": "y2"
        },
        {
         "legendgroup": "pred",
         "marker": {
          "color": "#9edae5",
          "size": 6
         },
         "mode": "markers",
         "name": "Pred Group 201",
         "showlegend": false,
         "type": "scatter",
         "x": {
          "bdata": "wYpMQg==",
          "dtype": "f4"
         },
         "xaxis": "x2",
         "y": {
          "bdata": "wSMbQg==",
          "dtype": "f4"
         },
         "yaxis": "y2"
        },
        {
         "legendgroup": "pred",
         "marker": {
          "color": "#9edae5",
          "size": 6
         },
         "mode": "markers",
         "name": "Pred Group 202",
         "showlegend": false,
         "type": "scatter",
         "x": {
          "bdata": "SnqlwQ==",
          "dtype": "f4"
         },
         "xaxis": "x2",
         "y": {
          "bdata": "52n3wA==",
          "dtype": "f4"
         },
         "yaxis": "y2"
        },
        {
         "legendgroup": "pred",
         "marker": {
          "color": "#9edae5",
          "size": 6
         },
         "mode": "markers",
         "name": "Pred Group 203",
         "showlegend": false,
         "type": "scatter",
         "x": {
          "bdata": "YDfNQQ==",
          "dtype": "f4"
         },
         "xaxis": "x2",
         "y": {
          "bdata": "aNxgQg==",
          "dtype": "f4"
         },
         "yaxis": "y2"
        },
        {
         "legendgroup": "pred",
         "marker": {
          "color": "#9edae5",
          "size": 6
         },
         "mode": "markers",
         "name": "Pred Group 204",
         "showlegend": false,
         "type": "scatter",
         "x": {
          "bdata": "6zK8QQ==",
          "dtype": "f4"
         },
         "xaxis": "x2",
         "y": {
          "bdata": "ACGpQQ==",
          "dtype": "f4"
         },
         "yaxis": "y2"
        }
       ],
       "layout": {
        "annotations": [
         {
          "font": {
           "size": 16
          },
          "showarrow": false,
          "text": "Clusters of 2D Embeddings gt",
          "x": 0.225,
          "xanchor": "center",
          "xref": "paper",
          "y": 1,
          "yanchor": "bottom",
          "yref": "paper"
         },
         {
          "font": {
           "size": 16
          },
          "showarrow": false,
          "text": "Clusters of 2D Embeddings pred",
          "x": 0.775,
          "xanchor": "center",
          "xref": "paper",
          "y": 1,
          "yanchor": "bottom",
          "yref": "paper"
         }
        ],
        "height": 600,
        "showlegend": true,
        "template": {
         "data": {
          "bar": [
           {
            "error_x": {
             "color": "#2a3f5f"
            },
            "error_y": {
             "color": "#2a3f5f"
            },
            "marker": {
             "line": {
              "color": "#E5ECF6",
              "width": 0.5
             },
             "pattern": {
              "fillmode": "overlay",
              "size": 10,
              "solidity": 0.2
             }
            },
            "type": "bar"
           }
          ],
          "barpolar": [
           {
            "marker": {
             "line": {
              "color": "#E5ECF6",
              "width": 0.5
             },
             "pattern": {
              "fillmode": "overlay",
              "size": 10,
              "solidity": 0.2
             }
            },
            "type": "barpolar"
           }
          ],
          "carpet": [
           {
            "aaxis": {
             "endlinecolor": "#2a3f5f",
             "gridcolor": "white",
             "linecolor": "white",
             "minorgridcolor": "white",
             "startlinecolor": "#2a3f5f"
            },
            "baxis": {
             "endlinecolor": "#2a3f5f",
             "gridcolor": "white",
             "linecolor": "white",
             "minorgridcolor": "white",
             "startlinecolor": "#2a3f5f"
            },
            "type": "carpet"
           }
          ],
          "choropleth": [
           {
            "colorbar": {
             "outlinewidth": 0,
             "ticks": ""
            },
            "type": "choropleth"
           }
          ],
          "contour": [
           {
            "colorbar": {
             "outlinewidth": 0,
             "ticks": ""
            },
            "colorscale": [
             [
              0,
              "#0d0887"
             ],
             [
              0.1111111111111111,
              "#46039f"
             ],
             [
              0.2222222222222222,
              "#7201a8"
             ],
             [
              0.3333333333333333,
              "#9c179e"
             ],
             [
              0.4444444444444444,
              "#bd3786"
             ],
             [
              0.5555555555555556,
              "#d8576b"
             ],
             [
              0.6666666666666666,
              "#ed7953"
             ],
             [
              0.7777777777777778,
              "#fb9f3a"
             ],
             [
              0.8888888888888888,
              "#fdca26"
             ],
             [
              1,
              "#f0f921"
             ]
            ],
            "type": "contour"
           }
          ],
          "contourcarpet": [
           {
            "colorbar": {
             "outlinewidth": 0,
             "ticks": ""
            },
            "type": "contourcarpet"
           }
          ],
          "heatmap": [
           {
            "colorbar": {
             "outlinewidth": 0,
             "ticks": ""
            },
            "colorscale": [
             [
              0,
              "#0d0887"
             ],
             [
              0.1111111111111111,
              "#46039f"
             ],
             [
              0.2222222222222222,
              "#7201a8"
             ],
             [
              0.3333333333333333,
              "#9c179e"
             ],
             [
              0.4444444444444444,
              "#bd3786"
             ],
             [
              0.5555555555555556,
              "#d8576b"
             ],
             [
              0.6666666666666666,
              "#ed7953"
             ],
             [
              0.7777777777777778,
              "#fb9f3a"
             ],
             [
              0.8888888888888888,
              "#fdca26"
             ],
             [
              1,
              "#f0f921"
             ]
            ],
            "type": "heatmap"
           }
          ],
          "histogram": [
           {
            "marker": {
             "pattern": {
              "fillmode": "overlay",
              "size": 10,
              "solidity": 0.2
             }
            },
            "type": "histogram"
           }
          ],
          "histogram2d": [
           {
            "colorbar": {
             "outlinewidth": 0,
             "ticks": ""
            },
            "colorscale": [
             [
              0,
              "#0d0887"
             ],
             [
              0.1111111111111111,
              "#46039f"
             ],
             [
              0.2222222222222222,
              "#7201a8"
             ],
             [
              0.3333333333333333,
              "#9c179e"
             ],
             [
              0.4444444444444444,
              "#bd3786"
             ],
             [
              0.5555555555555556,
              "#d8576b"
             ],
             [
              0.6666666666666666,
              "#ed7953"
             ],
             [
              0.7777777777777778,
              "#fb9f3a"
             ],
             [
              0.8888888888888888,
              "#fdca26"
             ],
             [
              1,
              "#f0f921"
             ]
            ],
            "type": "histogram2d"
           }
          ],
          "histogram2dcontour": [
           {
            "colorbar": {
             "outlinewidth": 0,
             "ticks": ""
            },
            "colorscale": [
             [
              0,
              "#0d0887"
             ],
             [
              0.1111111111111111,
              "#46039f"
             ],
             [
              0.2222222222222222,
              "#7201a8"
             ],
             [
              0.3333333333333333,
              "#9c179e"
             ],
             [
              0.4444444444444444,
              "#bd3786"
             ],
             [
              0.5555555555555556,
              "#d8576b"
             ],
             [
              0.6666666666666666,
              "#ed7953"
             ],
             [
              0.7777777777777778,
              "#fb9f3a"
             ],
             [
              0.8888888888888888,
              "#fdca26"
             ],
             [
              1,
              "#f0f921"
             ]
            ],
            "type": "histogram2dcontour"
           }
          ],
          "mesh3d": [
           {
            "colorbar": {
             "outlinewidth": 0,
             "ticks": ""
            },
            "type": "mesh3d"
           }
          ],
          "parcoords": [
           {
            "line": {
             "colorbar": {
              "outlinewidth": 0,
              "ticks": ""
             }
            },
            "type": "parcoords"
           }
          ],
          "pie": [
           {
            "automargin": true,
            "type": "pie"
           }
          ],
          "scatter": [
           {
            "fillpattern": {
             "fillmode": "overlay",
             "size": 10,
             "solidity": 0.2
            },
            "type": "scatter"
           }
          ],
          "scatter3d": [
           {
            "line": {
             "colorbar": {
              "outlinewidth": 0,
              "ticks": ""
             }
            },
            "marker": {
             "colorbar": {
              "outlinewidth": 0,
              "ticks": ""
             }
            },
            "type": "scatter3d"
           }
          ],
          "scattercarpet": [
           {
            "marker": {
             "colorbar": {
              "outlinewidth": 0,
              "ticks": ""
             }
            },
            "type": "scattercarpet"
           }
          ],
          "scattergeo": [
           {
            "marker": {
             "colorbar": {
              "outlinewidth": 0,
              "ticks": ""
             }
            },
            "type": "scattergeo"
           }
          ],
          "scattergl": [
           {
            "marker": {
             "colorbar": {
              "outlinewidth": 0,
              "ticks": ""
             }
            },
            "type": "scattergl"
           }
          ],
          "scattermap": [
           {
            "marker": {
             "colorbar": {
              "outlinewidth": 0,
              "ticks": ""
             }
            },
            "type": "scattermap"
           }
          ],
          "scattermapbox": [
           {
            "marker": {
             "colorbar": {
              "outlinewidth": 0,
              "ticks": ""
             }
            },
            "type": "scattermapbox"
           }
          ],
          "scatterpolar": [
           {
            "marker": {
             "colorbar": {
              "outlinewidth": 0,
              "ticks": ""
             }
            },
            "type": "scatterpolar"
           }
          ],
          "scatterpolargl": [
           {
            "marker": {
             "colorbar": {
              "outlinewidth": 0,
              "ticks": ""
             }
            },
            "type": "scatterpolargl"
           }
          ],
          "scatterternary": [
           {
            "marker": {
             "colorbar": {
              "outlinewidth": 0,
              "ticks": ""
             }
            },
            "type": "scatterternary"
           }
          ],
          "surface": [
           {
            "colorbar": {
             "outlinewidth": 0,
             "ticks": ""
            },
            "colorscale": [
             [
              0,
              "#0d0887"
             ],
             [
              0.1111111111111111,
              "#46039f"
             ],
             [
              0.2222222222222222,
              "#7201a8"
             ],
             [
              0.3333333333333333,
              "#9c179e"
             ],
             [
              0.4444444444444444,
              "#bd3786"
             ],
             [
              0.5555555555555556,
              "#d8576b"
             ],
             [
              0.6666666666666666,
              "#ed7953"
             ],
             [
              0.7777777777777778,
              "#fb9f3a"
             ],
             [
              0.8888888888888888,
              "#fdca26"
             ],
             [
              1,
              "#f0f921"
             ]
            ],
            "type": "surface"
           }
          ],
          "table": [
           {
            "cells": {
             "fill": {
              "color": "#EBF0F8"
             },
             "line": {
              "color": "white"
             }
            },
            "header": {
             "fill": {
              "color": "#C8D4E3"
             },
             "line": {
              "color": "white"
             }
            },
            "type": "table"
           }
          ]
         },
         "layout": {
          "annotationdefaults": {
           "arrowcolor": "#2a3f5f",
           "arrowhead": 0,
           "arrowwidth": 1
          },
          "autotypenumbers": "strict",
          "coloraxis": {
           "colorbar": {
            "outlinewidth": 0,
            "ticks": ""
           }
          },
          "colorscale": {
           "diverging": [
            [
             0,
             "#8e0152"
            ],
            [
             0.1,
             "#c51b7d"
            ],
            [
             0.2,
             "#de77ae"
            ],
            [
             0.3,
             "#f1b6da"
            ],
            [
             0.4,
             "#fde0ef"
            ],
            [
             0.5,
             "#f7f7f7"
            ],
            [
             0.6,
             "#e6f5d0"
            ],
            [
             0.7,
             "#b8e186"
            ],
            [
             0.8,
             "#7fbc41"
            ],
            [
             0.9,
             "#4d9221"
            ],
            [
             1,
             "#276419"
            ]
           ],
           "sequential": [
            [
             0,
             "#0d0887"
            ],
            [
             0.1111111111111111,
             "#46039f"
            ],
            [
             0.2222222222222222,
             "#7201a8"
            ],
            [
             0.3333333333333333,
             "#9c179e"
            ],
            [
             0.4444444444444444,
             "#bd3786"
            ],
            [
             0.5555555555555556,
             "#d8576b"
            ],
            [
             0.6666666666666666,
             "#ed7953"
            ],
            [
             0.7777777777777778,
             "#fb9f3a"
            ],
            [
             0.8888888888888888,
             "#fdca26"
            ],
            [
             1,
             "#f0f921"
            ]
           ],
           "sequentialminus": [
            [
             0,
             "#0d0887"
            ],
            [
             0.1111111111111111,
             "#46039f"
            ],
            [
             0.2222222222222222,
             "#7201a8"
            ],
            [
             0.3333333333333333,
             "#9c179e"
            ],
            [
             0.4444444444444444,
             "#bd3786"
            ],
            [
             0.5555555555555556,
             "#d8576b"
            ],
            [
             0.6666666666666666,
             "#ed7953"
            ],
            [
             0.7777777777777778,
             "#fb9f3a"
            ],
            [
             0.8888888888888888,
             "#fdca26"
            ],
            [
             1,
             "#f0f921"
            ]
           ]
          },
          "colorway": [
           "#636efa",
           "#EF553B",
           "#00cc96",
           "#ab63fa",
           "#FFA15A",
           "#19d3f3",
           "#FF6692",
           "#B6E880",
           "#FF97FF",
           "#FECB52"
          ],
          "font": {
           "color": "#2a3f5f"
          },
          "geo": {
           "bgcolor": "white",
           "lakecolor": "white",
           "landcolor": "#E5ECF6",
           "showlakes": true,
           "showland": true,
           "subunitcolor": "white"
          },
          "hoverlabel": {
           "align": "left"
          },
          "hovermode": "closest",
          "mapbox": {
           "style": "light"
          },
          "paper_bgcolor": "white",
          "plot_bgcolor": "#E5ECF6",
          "polar": {
           "angularaxis": {
            "gridcolor": "white",
            "linecolor": "white",
            "ticks": ""
           },
           "bgcolor": "#E5ECF6",
           "radialaxis": {
            "gridcolor": "white",
            "linecolor": "white",
            "ticks": ""
           }
          },
          "scene": {
           "xaxis": {
            "backgroundcolor": "#E5ECF6",
            "gridcolor": "white",
            "gridwidth": 2,
            "linecolor": "white",
            "showbackground": true,
            "ticks": "",
            "zerolinecolor": "white"
           },
           "yaxis": {
            "backgroundcolor": "#E5ECF6",
            "gridcolor": "white",
            "gridwidth": 2,
            "linecolor": "white",
            "showbackground": true,
            "ticks": "",
            "zerolinecolor": "white"
           },
           "zaxis": {
            "backgroundcolor": "#E5ECF6",
            "gridcolor": "white",
            "gridwidth": 2,
            "linecolor": "white",
            "showbackground": true,
            "ticks": "",
            "zerolinecolor": "white"
           }
          },
          "shapedefaults": {
           "line": {
            "color": "#2a3f5f"
           }
          },
          "ternary": {
           "aaxis": {
            "gridcolor": "white",
            "linecolor": "white",
            "ticks": ""
           },
           "baxis": {
            "gridcolor": "white",
            "linecolor": "white",
            "ticks": ""
           },
           "bgcolor": "#E5ECF6",
           "caxis": {
            "gridcolor": "white",
            "linecolor": "white",
            "ticks": ""
           }
          },
          "title": {
           "x": 0.05
          },
          "xaxis": {
           "automargin": true,
           "gridcolor": "white",
           "linecolor": "white",
           "ticks": "",
           "title": {
            "standoff": 15
           },
           "zerolinecolor": "white",
           "zerolinewidth": 2
          },
          "yaxis": {
           "automargin": true,
           "gridcolor": "white",
           "linecolor": "white",
           "ticks": "",
           "title": {
            "standoff": 15
           },
           "zerolinecolor": "white",
           "zerolinewidth": 2
          }
         }
        },
        "title": {
         "text": "Cluster Comparison: Ground Truth vs Prediction"
        },
        "width": 1000,
        "xaxis": {
         "anchor": "y",
         "domain": [
          0,
          0.45
         ]
        },
        "xaxis2": {
         "anchor": "y2",
         "domain": [
          0.55,
          1
         ]
        },
        "yaxis": {
         "anchor": "x",
         "domain": [
          0,
          1
         ]
        },
        "yaxis2": {
         "anchor": "x2",
         "domain": [
          0,
          1
         ]
        }
       }
      }
     },
     "metadata": {},
     "output_type": "display_data"
    }
   ],
   "source": [
    "model = SentenceTransformer(\"all-MiniLM-L6-v2\")\n",
    "oob_res = test_model(model)"
   ]
  },
  {
   "cell_type": "markdown",
   "id": "7ab7684a",
   "metadata": {},
   "source": [
    "# Unsupervised methods"
   ]
  },
  {
   "cell_type": "markdown",
   "id": "c8f11528",
   "metadata": {},
   "source": [
    "## Trained with TSDAE"
   ]
  },
  {
   "cell_type": "code",
   "execution_count": 11,
   "id": "9e0b46a6",
   "metadata": {},
   "outputs": [
    {
     "data": {
      "application/vnd.jupyter.widget-view+json": {
       "model_id": "92036bf0269544228c7e87c7fffe9faa",
       "version_major": 2,
       "version_minor": 0
      },
      "text/plain": [
       "Batches:   0%|          | 0/7 [00:00<?, ?it/s]"
      ]
     },
     "metadata": {},
     "output_type": "display_data"
    },
    {
     "data": {
      "application/vnd.jupyter.widget-view+json": {
       "model_id": "4b50569953f04e06a08a1fb7db8dd8ed",
       "version_major": 2,
       "version_minor": 0
      },
      "text/plain": [
       "Batches:   0%|          | 0/7 [00:00<?, ?it/s]"
      ]
     },
     "metadata": {},
     "output_type": "display_data"
    },
    {
     "data": {
      "application/vnd.jupyter.widget-view+json": {
       "model_id": "dc2351cbbf0f401eb35b5d8461f7cca7",
       "version_major": 2,
       "version_minor": 0
      },
      "text/plain": [
       "Batches:   0%|          | 0/7 [00:00<?, ?it/s]"
      ]
     },
     "metadata": {},
     "output_type": "display_data"
    },
    {
     "data": {
      "application/vnd.jupyter.widget-view+json": {
       "model_id": "af7482a0d8ec4c479c36ddedf62df0c5",
       "version_major": 2,
       "version_minor": 0
      },
      "text/plain": [
       "Batches:   0%|          | 0/7 [00:00<?, ?it/s]"
      ]
     },
     "metadata": {},
     "output_type": "display_data"
    },
    {
     "data": {
      "application/vnd.jupyter.widget-view+json": {
       "model_id": "1740b948edf44cf48566372b91adeae6",
       "version_major": 2,
       "version_minor": 0
      },
      "text/plain": [
       "Batches:   0%|          | 0/7 [00:00<?, ?it/s]"
      ]
     },
     "metadata": {},
     "output_type": "display_data"
    },
    {
     "data": {
      "application/vnd.jupyter.widget-view+json": {
       "model_id": "281e1f05e2de40d5a9fab37aa1f30be7",
       "version_major": 2,
       "version_minor": 0
      },
      "text/plain": [
       "Batches:   0%|          | 0/7 [00:00<?, ?it/s]"
      ]
     },
     "metadata": {},
     "output_type": "display_data"
    },
    {
     "data": {
      "application/vnd.jupyter.widget-view+json": {
       "model_id": "27d80a940689458daa01227f8d81ed02",
       "version_major": 2,
       "version_minor": 0
      },
      "text/plain": [
       "Batches:   0%|          | 0/7 [00:00<?, ?it/s]"
      ]
     },
     "metadata": {},
     "output_type": "display_data"
    },
    {
     "data": {
      "application/vnd.jupyter.widget-view+json": {
       "model_id": "826fe6b708ee4499804b43d19bce9c28",
       "version_major": 2,
       "version_minor": 0
      },
      "text/plain": [
       "Batches:   0%|          | 0/7 [00:00<?, ?it/s]"
      ]
     },
     "metadata": {},
     "output_type": "display_data"
    },
    {
     "data": {
      "application/vnd.jupyter.widget-view+json": {
       "model_id": "740e8b4f726c47aebdd8db1c5aa948b6",
       "version_major": 2,
       "version_minor": 0
      },
      "text/plain": [
       "Batches:   0%|          | 0/7 [00:00<?, ?it/s]"
      ]
     },
     "metadata": {},
     "output_type": "display_data"
    },
    {
     "data": {
      "application/vnd.jupyter.widget-view+json": {
       "model_id": "10e113ed82b2491896c8ab50f6627f7f",
       "version_major": 2,
       "version_minor": 0
      },
      "text/plain": [
       "Batches:   0%|          | 0/7 [00:00<?, ?it/s]"
      ]
     },
     "metadata": {},
     "output_type": "display_data"
    },
    {
     "data": {
      "application/vnd.jupyter.widget-view+json": {
       "model_id": "8310549cbbd24889b5305bfc1df603aa",
       "version_major": 2,
       "version_minor": 0
      },
      "text/plain": [
       "Batches:   0%|          | 0/7 [00:00<?, ?it/s]"
      ]
     },
     "metadata": {},
     "output_type": "display_data"
    },
    {
     "data": {
      "application/vnd.jupyter.widget-view+json": {
       "model_id": "b84779ae849c402ea947b8eb8e22046f",
       "version_major": 2,
       "version_minor": 0
      },
      "text/plain": [
       "Batches:   0%|          | 0/7 [00:00<?, ?it/s]"
      ]
     },
     "metadata": {},
     "output_type": "display_data"
    },
    {
     "data": {
      "application/vnd.jupyter.widget-view+json": {
       "model_id": "f028689a4189492ba784ab3f999596b8",
       "version_major": 2,
       "version_minor": 0
      },
      "text/plain": [
       "Batches:   0%|          | 0/7 [00:00<?, ?it/s]"
      ]
     },
     "metadata": {},
     "output_type": "display_data"
    },
    {
     "data": {
      "application/vnd.jupyter.widget-view+json": {
       "model_id": "40b52fda8b874abbb29f5a7b15f9ff5b",
       "version_major": 2,
       "version_minor": 0
      },
      "text/plain": [
       "Batches:   0%|          | 0/7 [00:00<?, ?it/s]"
      ]
     },
     "metadata": {},
     "output_type": "display_data"
    },
    {
     "data": {
      "application/vnd.jupyter.widget-view+json": {
       "model_id": "81ffd61f96ea4c46bdfc2e96e180c11c",
       "version_major": 2,
       "version_minor": 0
      },
      "text/plain": [
       "Batches:   0%|          | 0/7 [00:00<?, ?it/s]"
      ]
     },
     "metadata": {},
     "output_type": "display_data"
    },
    {
     "data": {
      "application/vnd.jupyter.widget-view+json": {
       "model_id": "d117b0a598154c66a693b76f3800dd00",
       "version_major": 2,
       "version_minor": 0
      },
      "text/plain": [
       "Batches:   0%|          | 0/7 [00:00<?, ?it/s]"
      ]
     },
     "metadata": {},
     "output_type": "display_data"
    },
    {
     "data": {
      "application/vnd.jupyter.widget-view+json": {
       "model_id": "9ec92952d94f4641a9fb5bfc34aa7d94",
       "version_major": 2,
       "version_minor": 0
      },
      "text/plain": [
       "Batches:   0%|          | 0/7 [00:00<?, ?it/s]"
      ]
     },
     "metadata": {},
     "output_type": "display_data"
    },
    {
     "data": {
      "application/vnd.jupyter.widget-view+json": {
       "model_id": "d06bb492e7da423b876361cef14e44fa",
       "version_major": 2,
       "version_minor": 0
      },
      "text/plain": [
       "Batches:   0%|          | 0/7 [00:00<?, ?it/s]"
      ]
     },
     "metadata": {},
     "output_type": "display_data"
    },
    {
     "data": {
      "application/vnd.jupyter.widget-view+json": {
       "model_id": "3310bda78e7745bdb5ac3e3ee666561e",
       "version_major": 2,
       "version_minor": 0
      },
      "text/plain": [
       "Batches:   0%|          | 0/7 [00:00<?, ?it/s]"
      ]
     },
     "metadata": {},
     "output_type": "display_data"
    },
    {
     "data": {
      "application/vnd.jupyter.widget-view+json": {
       "model_id": "4a5d8404c9c148b2b89c0763e1f4926e",
       "version_major": 2,
       "version_minor": 0
      },
      "text/plain": [
       "Batches:   0%|          | 0/7 [00:00<?, ?it/s]"
      ]
     },
     "metadata": {},
     "output_type": "display_data"
    },
    {
     "data": {
      "application/vnd.jupyter.widget-view+json": {
       "model_id": "202fd32fad7c43798d8cca869510053c",
       "version_major": 2,
       "version_minor": 0
      },
      "text/plain": [
       "Batches:   0%|          | 0/7 [00:00<?, ?it/s]"
      ]
     },
     "metadata": {},
     "output_type": "display_data"
    },
    {
     "data": {
      "application/vnd.jupyter.widget-view+json": {
       "model_id": "a43fefcb24b7440996eed0ca662080f8",
       "version_major": 2,
       "version_minor": 0
      },
      "text/plain": [
       "Batches:   0%|          | 0/7 [00:00<?, ?it/s]"
      ]
     },
     "metadata": {},
     "output_type": "display_data"
    },
    {
     "data": {
      "application/vnd.jupyter.widget-view+json": {
       "model_id": "74428cf277b94e2e9e9a0353a2393ce0",
       "version_major": 2,
       "version_minor": 0
      },
      "text/plain": [
       "Batches:   0%|          | 0/7 [00:00<?, ?it/s]"
      ]
     },
     "metadata": {},
     "output_type": "display_data"
    },
    {
     "data": {
      "application/vnd.jupyter.widget-view+json": {
       "model_id": "5e19e492a6b44138ba0b6fc5a180f62c",
       "version_major": 2,
       "version_minor": 0
      },
      "text/plain": [
       "Batches:   0%|          | 0/7 [00:00<?, ?it/s]"
      ]
     },
     "metadata": {},
     "output_type": "display_data"
    },
    {
     "data": {
      "application/vnd.jupyter.widget-view+json": {
       "model_id": "f08a325e0aef45c3a914a9d07373294c",
       "version_major": 2,
       "version_minor": 0
      },
      "text/plain": [
       "Batches:   0%|          | 0/7 [00:00<?, ?it/s]"
      ]
     },
     "metadata": {},
     "output_type": "display_data"
    },
    {
     "data": {
      "application/vnd.jupyter.widget-view+json": {
       "model_id": "8985c302c7194127b427bea3d31aa71c",
       "version_major": 2,
       "version_minor": 0
      },
      "text/plain": [
       "Batches:   0%|          | 0/7 [00:00<?, ?it/s]"
      ]
     },
     "metadata": {},
     "output_type": "display_data"
    },
    {
     "data": {
      "application/vnd.jupyter.widget-view+json": {
       "model_id": "1a4a360245a14594ba32f1d211008303",
       "version_major": 2,
       "version_minor": 0
      },
      "text/plain": [
       "Batches:   0%|          | 0/7 [00:00<?, ?it/s]"
      ]
     },
     "metadata": {},
     "output_type": "display_data"
    },
    {
     "data": {
      "application/vnd.jupyter.widget-view+json": {
       "model_id": "2249fe1a03e34f828d6237d8ff14fe4d",
       "version_major": 2,
       "version_minor": 0
      },
      "text/plain": [
       "Batches:   0%|          | 0/7 [00:00<?, ?it/s]"
      ]
     },
     "metadata": {},
     "output_type": "display_data"
    },
    {
     "data": {
      "application/vnd.jupyter.widget-view+json": {
       "model_id": "f82c5f9e6f3342ac9ec6aa6c92de6fe3",
       "version_major": 2,
       "version_minor": 0
      },
      "text/plain": [
       "Batches:   0%|          | 0/7 [00:00<?, ?it/s]"
      ]
     },
     "metadata": {},
     "output_type": "display_data"
    },
    {
     "data": {
      "application/vnd.jupyter.widget-view+json": {
       "model_id": "307980f6671c48e7a348bad2fccf5eac",
       "version_major": 2,
       "version_minor": 0
      },
      "text/plain": [
       "Batches:   0%|          | 0/7 [00:00<?, ?it/s]"
      ]
     },
     "metadata": {},
     "output_type": "display_data"
    },
    {
     "name": "stdout",
     "output_type": "stream",
     "text": [
      "('Best Threshold: 0.9798354447502992;\\n'\n",
      " \"Best scores: {'random score': 0.9269578313253012, 'adjusted random score': \"\n",
      " '0.0355600202043314};\\n'\n",
      " 'Best clusters: [[260, 255, 291, 62, 370, 412, 29, 52, 26, 292, 83, 385, 206, '\n",
      " '393, 258, 173, 398, 172, 272, 411, 112, 337, 394, 297, 152, 351, 364, 323, '\n",
      " '131, 405, 387, 390, 392, 263, 268, 218, 204, 360, 60, 22, 43, 49, 380, 257, '\n",
      " '331, 207, 379, 5, 254, 305, 396, 270, 274, 171, 386, 66, 384, 61, 365, 283, '\n",
      " '383, 208, 46, 397, 161, 220, 159, 399, 6, 182, 213, 275, 362, 128, 226], '\n",
      " '[285, 113, 48, 142, 203, 227, 153, 149, 205, 215, 407, 105, 136, 99, 115, '\n",
      " '202, 317, 125, 286, 147, 340, 261, 114, 109, 123, 335, 377, 288, 98, 42, '\n",
      " '103, 299, 116, 408, 104, 102, 199, 276, 86, 309, 118, 342, 259, 367, 221, '\n",
      " '330, 329, 194], [409, 85, 177, 366, 373, 371, 155, 267, 75, 266, 256, 59, '\n",
      " '289, 361, 71, 183, 72, 313, 169], [328, 58, 334, 338, 41, 403, 107, 402, 47, '\n",
      " '341, 406, 74, 376, 395, 304], [151, 391, 44, 388, 57, 175, 389, 140, 404, '\n",
      " '132], [320, 321, 278, 262, 122, 197, 344, 346, 325, 303], [164, 250, 39, '\n",
      " '381, 68, 326, 178, 119], [11, 14, 7, 12, 9, 232, 237, 34], [185, 216, 300, '\n",
      " '165, 352, 186, 24], [214, 327, 312, 111, 163, 176, 150], [295, 181, 67, 180, '\n",
      " '333, 127, 264], [343, 355, 21, 229, 38, 36], [45, 319, 245, 302, 353], [363, '\n",
      " '93, 90, 106, 100], [63, 298, 64, 174, 156], [269, 144, 282, 415], [401, 53, '\n",
      " '375, 10], [28, 145, 84, 296], [210, 130, 56, 347], [78, 27, 212, 306], [223, '\n",
      " '120, 89, 281], [94, 148, 88, 316], [32, 248, 25, 246], [154, 315, 81], [357, '\n",
      " '30, 55], [54, 253, 339], [192, 187, 1], [143, 273, 336], [318, 219, 96], '\n",
      " '[121, 359, 23], [167, 79, 265], [184, 301, 224], [170, 50], [3, 368], [209, '\n",
      " '217], [146, 222], [308, 97], [284, 198], [91, 80], [271, 372], [280, 160], '\n",
      " '[410, 16], [166, 138], [354, 251], [310, 332], [345, 231], [157, 168], [235, '\n",
      " '234], [348, 356], [82, 193], [101, 110], [240, 244], [225], [4], [70], [20], '\n",
      " '[17], [15], [133], [400], [190], [124], [294], [179], [311], [92], [378], '\n",
      " '[65], [290], [230], [287], [358], [200], [211], [314], [162], [134], [73], '\n",
      " '[31], [413], [277], [108], [414], [18], [158], [13], [307], [117], [95], '\n",
      " '[191], [201], [35], [188], [293], [76], [0], [2], [247], [40], [19], [139], '\n",
      " '[135], [252], [8], [33], [37], [51], [69], [77], [87], [126], [129], [137], '\n",
      " '[141], [189], [195], [196], [228], [233], [236], [238], [239], [241], [242], '\n",
      " '[243], [249], [279], [322], [324], [349], [350], [369], [374], [382]]')\n"
     ]
    },
    {
     "data": {
      "application/vnd.plotly.v1+json": {
       "config": {
        "plotlyServerURL": "https://plot.ly"
       },
       "data": [
        {
         "legendgroup": "gt",
         "marker": {
          "color": "#1f77b4",
          "size": 6
         },
         "mode": "markers",
         "name": "GT Group 0",
         "showlegend": false,
         "type": "scatter",
         "x": {
          "bdata": "opxlwsElD0FarnbCoOmSQAvrAEK7CZhAUgvLvw==",
          "dtype": "f4"
         },
         "xaxis": "x",
         "y": {
          "bdata": "8oudQXKIi79ktRbCZsWnwZ+7jcBp3ZXBtFbyQQ==",
          "dtype": "f4"
         },
         "yaxis": "y"
        },
        {
         "legendgroup": "gt",
         "marker": {
          "color": "#1f77b4",
          "size": 6
         },
         "mode": "markers",
         "name": "GT Group 1",
         "showlegend": false,
         "type": "scatter",
         "x": {
          "bdata": "FhJGwm+YG8KHBlfCYUXsQGsQRMJjrkPCue1BwiHPRMIXFL7BxeGBwg==",
          "dtype": "f4"
         },
         "xaxis": "x",
         "y": {
          "bdata": "r6EawkI4ZMJJuBnCa9ZSQZ2eH8JTWTHCPVE1wrAgJsLGV1RCQ6YkQA==",
          "dtype": "f4"
         },
         "yaxis": "y"
        },
        {
         "legendgroup": "gt",
         "marker": {
          "color": "#1f77b4",
          "size": 6
         },
         "mode": "markers",
         "name": "GT Group 2",
         "showlegend": false,
         "type": "scatter",
         "x": {
          "bdata": "EIB7wqrNgMJGnnzCqdgBwV8OfsKRvu3BjVRdwj3sR0E=",
          "dtype": "f4"
         },
         "xaxis": "x",
         "y": {
          "bdata": "YSzBwRwux8GJ6NXBe8fgQNSQx8HASEfBnP6CQVaIkEA=",
          "dtype": "f4"
         },
         "yaxis": "y"
        },
        {
         "legendgroup": "gt",
         "marker": {
          "color": "#aec7e8",
          "size": 6
         },
         "mode": "markers",
         "name": "GT Group 3",
         "showlegend": false,
         "type": "scatter",
         "x": {
          "bdata": "i+AwwkcyIcGolF7Bb0KGwRXetcEJmVrA4Zhkwg==",
          "dtype": "f4"
         },
         "xaxis": "x",
         "y": {
          "bdata": "475QwlpEjEGL7CHCMAjGwemQJUBW7EFC4pSgQQ==",
          "dtype": "f4"
         },
         "yaxis": "y"
        },
        {
         "legendgroup": "gt",
         "marker": {
          "color": "#aec7e8",
          "size": 6
         },
         "mode": "markers",
         "name": "GT Group 4",
         "showlegend": false,
         "type": "scatter",
         "x": {
          "bdata": "QpsywkWgeMKNhWfCDRRlwmI0YML01NpBYi1cwg==",
          "dtype": "f4"
         },
         "xaxis": "x",
         "y": {
          "bdata": "4ptRwtbPFsL5VRTCNoAUwpaAFcJbQ19C1pZ/QQ==",
          "dtype": "f4"
         },
         "yaxis": "y"
        },
        {
         "legendgroup": "gt",
         "marker": {
          "color": "#ff7f0e",
          "size": 6
         },
         "mode": "markers",
         "name": "GT Group 5",
         "showlegend": false,
         "type": "scatter",
         "x": {
          "bdata": "o8Q5wbk3wEE=",
          "dtype": "f4"
         },
         "xaxis": "x",
         "y": {
          "bdata": "aEEawYf1IkI=",
          "dtype": "f4"
         },
         "yaxis": "y"
        },
        {
         "legendgroup": "gt",
         "marker": {
          "color": "#ff7f0e",
          "size": 6
         },
         "mode": "markers",
         "name": "GT Group 6",
         "showlegend": false,
         "type": "scatter",
         "x": {
          "bdata": "uQlLwVw+lkI=",
          "dtype": "f4"
         },
         "xaxis": "x",
         "y": {
          "bdata": "aGDwQQVGesE=",
          "dtype": "f4"
         },
         "yaxis": "y"
        },
        {
         "legendgroup": "gt",
         "marker": {
          "color": "#ff7f0e",
          "size": 6
         },
         "mode": "markers",
         "name": "GT Group 7",
         "showlegend": false,
         "type": "scatter",
         "x": {
          "bdata": "aW2NwWJLu8Eea0rBmGR5wgVmfMHmq7NBShywwUOsY0LFYHZCPukIwd45EsI=",
          "dtype": "f4"
         },
         "xaxis": "x",
         "y": {
          "bdata": "4msyQj9PUkLOzivCHsDyvjgFzkFrk0xAwJwHQtjjG8Fq+H9AX1sZQf9xSUE=",
          "dtype": "f4"
         },
         "yaxis": "y"
        },
        {
         "legendgroup": "gt",
         "marker": {
          "color": "#ffbb78",
          "size": 6
         },
         "mode": "markers",
         "name": "GT Group 8",
         "showlegend": false,
         "type": "scatter",
         "x": {
          "bdata": "qWwXwgDVGcJd4CXC7CMywTJ+CcI=",
          "dtype": "f4"
         },
         "xaxis": "x",
         "y": {
          "bdata": "blI8wAoKl8BZFM0/lS8yQpcoCUI=",
          "dtype": "f4"
         },
         "yaxis": "y"
        },
        {
         "legendgroup": "gt",
         "marker": {
          "color": "#ffbb78",
          "size": 6
         },
         "mode": "markers",
         "name": "GT Group 9",
         "showlegend": false,
         "type": "scatter",
         "x": {
          "bdata": "2jbBwHimBcEHzPxB",
          "dtype": "f4"
         },
         "xaxis": "x",
         "y": {
          "bdata": "RvE7Qo04BEGXQ0zA",
          "dtype": "f4"
         },
         "yaxis": "y"
        },
        {
         "legendgroup": "gt",
         "marker": {
          "color": "#2ca02c",
          "size": 6
         },
         "mode": "markers",
         "name": "GT Group 10",
         "showlegend": false,
         "type": "scatter",
         "x": {
          "bdata": "5JCSwbVmCEKRLAJC",
          "dtype": "f4"
         },
         "xaxis": "x",
         "y": {
          "bdata": "GdkvQlysg0L7P4RC",
          "dtype": "f4"
         },
         "yaxis": "y"
        },
        {
         "legendgroup": "gt",
         "marker": {
          "color": "#2ca02c",
          "size": 6
         },
         "mode": "markers",
         "name": "GT Group 11",
         "showlegend": false,
         "type": "scatter",
         "x": {
          "bdata": "VjM4waV3KUGsdw5CSKo2wQ==",
          "dtype": "f4"
         },
         "xaxis": "x",
         "y": {
          "bdata": "vnQzwpLm6EHW0Y9Bz0XbwQ==",
          "dtype": "f4"
         },
         "yaxis": "y"
        },
        {
         "legendgroup": "gt",
         "marker": {
          "color": "#98df8a",
          "size": 6
         },
         "mode": "markers",
         "name": "GT Group 12",
         "showlegend": false,
         "type": "scatter",
         "x": {
          "bdata": "8jd3wd4mEcFbEsVBz0tTQeJYa8Fbu7PB",
          "dtype": "f4"
         },
         "xaxis": "x",
         "y": {
          "bdata": "Za0PwstNU0HieoBB8ssFQXJQJcJksjVC",
          "dtype": "f4"
         },
         "yaxis": "y"
        },
        {
         "legendgroup": "gt",
         "marker": {
          "color": "#98df8a",
          "size": 6
         },
         "mode": "markers",
         "name": "GT Group 13",
         "showlegend": false,
         "type": "scatter",
         "x": {
          "bdata": "8By1Qeu3EEKj9xdCDWmbwIJ93EEbQ0RCj52WQQTjMUI9foHB0uMdwVbJFUIlsS1B",
          "dtype": "f4"
         },
         "xaxis": "x",
         "y": {
          "bdata": "D8+HQSOTdEIjxHdC8AmwQa82RkIL/d/Bp5g+QGv5DUJ6FSlC4WMEwRcFkUFxD6JA",
          "dtype": "f4"
         },
         "yaxis": "y"
        },
        {
         "legendgroup": "gt",
         "marker": {
          "color": "#98df8a",
          "size": 6
         },
         "mode": "markers",
         "name": "GT Group 14",
         "showlegend": false,
         "type": "scatter",
         "x": {
          "bdata": "LZ2LQrE4gEKssFtC5EeNQmukKkJGQWRC",
          "dtype": "f4"
         },
         "xaxis": "x",
         "y": {
          "bdata": "2/FOwcjzXL/reyLB2z1kwatY1sEZBspA",
          "dtype": "f4"
         },
         "yaxis": "y"
        },
        {
         "legendgroup": "gt",
         "marker": {
          "color": "#d62728",
          "size": 6
         },
         "mode": "markers",
         "name": "GT Group 15",
         "showlegend": false,
         "type": "scatter",
         "x": {
          "bdata": "dveQQm0giEK+H2FCaJ14Qs4hhkIr2s5Bb83MQA==",
          "dtype": "f4"
         },
         "xaxis": "x",
         "y": {
          "bdata": "Rm9zwfUKiMGklns//e36v6H1lcFYfGtBpOvqwQ==",
          "dtype": "f4"
         },
         "yaxis": "y"
        },
        {
         "legendgroup": "gt",
         "marker": {
          "color": "#d62728",
          "size": 6
         },
         "mode": "markers",
         "name": "GT Group 16",
         "showlegend": false,
         "type": "scatter",
         "x": {
          "bdata": "My+XQpAliUKBy5hCSwsawTCdiEFxU1lC",
          "dtype": "f4"
         },
         "xaxis": "x",
         "y": {
          "bdata": "REqUwR/U38EAc2/BzOrgwbSTYsI57p7B",
          "dtype": "f4"
         },
         "yaxis": "y"
        },
        {
         "legendgroup": "gt",
         "marker": {
          "color": "#ff9896",
          "size": 6
         },
         "mode": "markers",
         "name": "GT Group 17",
         "showlegend": false,
         "type": "scatter",
         "x": {
          "bdata": "jCOUQv6xCsIbhnRCaGkcQuZGiULIuf9Boay8QfI0oUE=",
          "dtype": "f4"
         },
         "xaxis": "x",
         "y": {
          "bdata": "GIV2wTNtE0KCyShAi13EwX3H48FQkL1BUPblwS/H+cE=",
          "dtype": "f4"
         },
         "yaxis": "y"
        },
        {
         "legendgroup": "gt",
         "marker": {
          "color": "#ff9896",
          "size": 6
         },
         "mode": "markers",
         "name": "GT Group 18",
         "showlegend": false,
         "type": "scatter",
         "x": {
          "bdata": "sIMnQVnLyUG4J4RChTBFwUoWa0F9NR9CA9glQg==",
          "dtype": "f4"
         },
         "xaxis": "x",
         "y": {
          "bdata": "aw/jQUHmpsEtKp3BFf/yQaFOvEGOUr5BCaTcwQ==",
          "dtype": "f4"
         },
         "yaxis": "y"
        },
        {
         "legendgroup": "gt",
         "marker": {
          "color": "#ff9896",
          "size": 6
         },
         "mode": "markers",
         "name": "GT Group 19",
         "showlegend": false,
         "type": "scatter",
         "x": {
          "bdata": "nNMWwj2koMEWxF5CNv4aQgikXkI=",
          "dtype": "f4"
         },
         "xaxis": "x",
         "y": {
          "bdata": "93h8QR/P+8GuiR/BJ921QYc0m8E=",
          "dtype": "f4"
         },
         "yaxis": "y"
        },
        {
         "legendgroup": "gt",
         "marker": {
          "color": "#9467bd",
          "size": 6
         },
         "mode": "markers",
         "name": "GT Group 20",
         "showlegend": false,
         "type": "scatter",
         "x": {
          "bdata": "Q/OBQg==",
          "dtype": "f4"
         },
         "xaxis": "x",
         "y": {
          "bdata": "puSkwQ==",
          "dtype": "f4"
         },
         "yaxis": "y"
        },
        {
         "legendgroup": "gt",
         "marker": {
          "color": "#9467bd",
          "size": 6
         },
         "mode": "markers",
         "name": "GT Group 21",
         "showlegend": false,
         "type": "scatter",
         "x": {
          "bdata": "FFMiQtvEh8E=",
          "dtype": "f4"
         },
         "xaxis": "x",
         "y": {
          "bdata": "41egQWpq0EE=",
          "dtype": "f4"
         },
         "yaxis": "y"
        },
        {
         "legendgroup": "gt",
         "marker": {
          "color": "#c5b0d5",
          "size": 6
         },
         "mode": "markers",
         "name": "GT Group 22",
         "showlegend": false,
         "type": "scatter",
         "x": {
          "bdata": "qtocQU2/+cG7GZnBKXKawQ==",
          "dtype": "f4"
         },
         "xaxis": "x",
         "y": {
          "bdata": "q1dOQg49nEF0kSlCPVGDQQ==",
          "dtype": "f4"
         },
         "yaxis": "y"
        },
        {
         "legendgroup": "gt",
         "marker": {
          "color": "#c5b0d5",
          "size": 6
         },
         "mode": "markers",
         "name": "GT Group 23",
         "showlegend": false,
         "type": "scatter",
         "x": {
          "bdata": "x/XvwPwqUUEJ3hhC4uMcQpLyVMEA88lB4LjbQQffWcGZ9U9BUcrFQSlLDUJNegdBDy0ZQnA7OEEE+BtCnsx8QmfgFULf9/7AaTSrwQ==",
          "dtype": "f4"
         },
         "xaxis": "x",
         "y": {
          "bdata": "h53wwXnwOcJ7AP/BDGewwSFM08GBHA5CKVVZQhVORkLVLrNBBLymwW8UjMCL8kNB1h2EQUKnI0IzIr3BObqIv9KotkF4Nu3B0lY0Qg==",
          "dtype": "f4"
         },
         "yaxis": "y"
        },
        {
         "legendgroup": "gt",
         "marker": {
          "color": "#8c564b",
          "size": 6
         },
         "mode": "markers",
         "name": "GT Group 24",
         "showlegend": false,
         "type": "scatter",
         "x": {
          "bdata": "l1QuwVycG0Iv5BxBgY/MQVAMD0LHUdpBt68awMqlBcIud8JAz6IWwRmOAMK33vtB",
          "dtype": "f4"
         },
         "xaxis": "x",
         "y": {
          "bdata": "LJwZwXXRP8BtMcxAfOxkQNS7fkLPRFJCsloIwrPSXEHLgwfCtsmYQYjCK0L0ZbpB",
          "dtype": "f4"
         },
         "yaxis": "y"
        },
        {
         "legendgroup": "gt",
         "marker": {
          "color": "#8c564b",
          "size": 6
         },
         "mode": "markers",
         "name": "GT Group 25",
         "showlegend": false,
         "type": "scatter",
         "x": {
          "bdata": "TvR5QRqNTUGDa6JBja8JQmBJDkLYY+lBNNlxwKP9U0HLvxvBuxUyQXhYEEJiTA7B",
          "dtype": "f4"
         },
         "xaxis": "x",
         "y": {
          "bdata": "1nMAQuKxHEJp+yFC1pNKQo1NbEI4NapBilK4QUz0GULbLiFC4ppUwiM3e0KQCh1C",
          "dtype": "f4"
         },
         "yaxis": "y"
        },
        {
         "legendgroup": "gt",
         "marker": {
          "color": "#8c564b",
          "size": 6
         },
         "mode": "markers",
         "name": "GT Group 26",
         "showlegend": false,
         "type": "scatter",
         "x": {
          "bdata": "iwOHQQ4pxEFIM4DBjvfovsmSBEKVQAJCKe5uQQ3unkEVF9VBhLS5QUvkTME=",
          "dtype": "f4"
         },
         "xaxis": "x",
         "y": {
          "bdata": "RFa+QZNLh0Hv6/2/asvAQSG/TkKcEVFCzvoHQtnXGUI8nT9CnFuqQcM6LEI=",
          "dtype": "f4"
         },
         "yaxis": "y"
        },
        {
         "legendgroup": "gt",
         "marker": {
          "color": "#c49c94",
          "size": 6
         },
         "mode": "markers",
         "name": "GT Group 27",
         "showlegend": false,
         "type": "scatter",
         "x": {
          "bdata": "ZkaeQQq3/b9jPBvC/IikwR0LM0JdPiFB0aJCQV2kPkI=",
          "dtype": "f4"
         },
         "xaxis": "x",
         "y": {
          "bdata": "94KUwdKUCMKp4cbAc01vQd8XDEIKBmdAbw5HQvuM48E=",
          "dtype": "f4"
         },
         "yaxis": "y"
        },
        {
         "legendgroup": "gt",
         "marker": {
          "color": "#c49c94",
          "size": 6
         },
         "mode": "markers",
         "name": "GT Group 28",
         "showlegend": false,
         "type": "scatter",
         "x": {
          "bdata": "sZQVQmfcPsHmDR5C/AjTQazpgUHR5iJCx6rTQcFHDkK3TyJCggg4wRaKskH3+8rBbP02wu4I68EL3Z5AZSkHwqH7O0I=",
          "dtype": "f4"
         },
         "xaxis": "x",
         "y": {
          "bdata": "KHUCwrWwgMKqSvTB31cBwtl2U8KIOOPBySwSQsYpKMDfJ6bBHaSMQXLH1ME32eFB5BK2Qb0QLEIOnYDBp7COQZBh6cE=",
          "dtype": "f4"
         },
         "yaxis": "y"
        },
        {
         "legendgroup": "gt",
         "marker": {
          "color": "#e377c2",
          "size": 6
         },
         "mode": "markers",
         "name": "GT Group 29",
         "showlegend": false,
         "type": "scatter",
         "x": {
          "bdata": "BZo7wjB2ZkLa0h9C9fvIQRJEHkLuyWbBmpnDQHbmF0KXfdTBC2koQphWN0G2smNC1VFBQRy8Z0KpA1VC5ACtQSS0J8I=",
          "dtype": "f4"
         },
         "xaxis": "x",
         "y": {
          "bdata": "KSyvQZ/cnkDBCHNAjqD3wTvSTkBM2xfCWEDewYRBbMF6nvJBX6WjwZFuTUIcJgVAHv9SQv3vdEAEZaHBZm/6wba6yUE=",
          "dtype": "f4"
         },
         "yaxis": "y"
        },
        {
         "legendgroup": "gt",
         "marker": {
          "color": "#e377c2",
          "size": 6
         },
         "mode": "markers",
         "name": "GT Group 30",
         "showlegend": false,
         "type": "scatter",
         "x": {
          "bdata": "54Q1wvtBNcKg1jrCtHozwg==",
          "dtype": "f4"
         },
         "xaxis": "x",
         "y": {
          "bdata": "x9cKwuuIEcJEjibCjXMTwg==",
          "dtype": "f4"
         },
         "yaxis": "y"
        },
        {
         "legendgroup": "gt",
         "marker": {
          "color": "#e377c2",
          "size": 6
         },
         "mode": "markers",
         "name": "GT Group 31",
         "showlegend": false,
         "type": "scatter",
         "x": {
          "bdata": "5q9AwhDzCMJLfAnC5ps1wvz7OsI=",
          "dtype": "f4"
         },
         "xaxis": "x",
         "y": {
          "bdata": "eo07wpPQ+cGFJP/BBh4FwhSqKsI=",
          "dtype": "f4"
         },
         "yaxis": "y"
        },
        {
         "legendgroup": "gt",
         "marker": {
          "color": "#f7b6d2",
          "size": 6
         },
         "mode": "markers",
         "name": "GT Group 32",
         "showlegend": false,
         "type": "scatter",
         "x": {
          "bdata": "QBmYQbqrgcE/9oTBPPELwtf8SsHZLR7BjRiDwTAw7sFD0DHC1x8ewnWHMcKalvfBJ2IyQR6xxcFU5NLB0H8Qwg==",
          "dtype": "f4"
         },
         "xaxis": "x",
         "y": {
          "bdata": "hreEwCG3gsKWNX3CbbkFwkiwgMIYHTbBS6J/wpNovcG3M1zCwVhjwnnoV8KxD8TBnUn3QQ1OAcI9NADC9fZeQA==",
          "dtype": "f4"
         },
         "yaxis": "y"
        },
        {
         "legendgroup": "gt",
         "marker": {
          "color": "#f7b6d2",
          "size": 6
         },
         "mode": "markers",
         "name": "GT Group 33",
         "showlegend": false,
         "type": "scatter",
         "x": {
          "bdata": "r80XQX33t8Ecxao+7u2CQZkxQMFSZalBgyu6wQ==",
          "dtype": "f4"
         },
         "xaxis": "x",
         "y": {
          "bdata": "/pESvzzNfEBig/1BY7cLQqGXMEIrhDVA2U2VQA==",
          "dtype": "f4"
         },
         "yaxis": "y"
        },
        {
         "legendgroup": "gt",
         "marker": {
          "color": "#7f7f7f",
          "size": 6
         },
         "mode": "markers",
         "name": "GT Group 34",
         "showlegend": false,
         "type": "scatter",
         "x": {
          "bdata": "T4+1QSFXgEFh3EJBwWTAQU0b3kF/DQlCR5qjQWJObkG6GDlBd9hHQSDMRUFiESfCAV0QQhOh88Ege+xBs3BUQUgnxkDMzHfC",
          "dtype": "f4"
         },
         "xaxis": "x",
         "y": {
          "bdata": "bUfeQEyVXsKjWVfCy7MbQpnnTULd1WFBUCiBwP7XWMJ7MSxBE2Zgwqz5NcJBFZxAwlmowAJOK0I68w3ANspZwvY9Y0FnHqC/",
          "dtype": "f4"
         },
         "yaxis": "y"
        },
        {
         "legendgroup": "gt",
         "marker": {
          "color": "#7f7f7f",
          "size": 6
         },
         "mode": "markers",
         "name": "GT Group 35",
         "showlegend": false,
         "type": "scatter",
         "x": {
          "bdata": "j0ARQLeQEEG5xZJBWT0hQVGdjkHkSJtB1+AyQUsO6EFBAhRBl13+Qa5tGUI=",
          "dtype": "f4"
         },
         "xaxis": "x",
         "y": {
          "bdata": "LbAcQHw9HsJ830rCeT0JQZ8tUcIM71LCZgsrwm6SXMCwcjDCNOKov7L3xT8=",
          "dtype": "f4"
         },
         "yaxis": "y"
        },
        {
         "legendgroup": "gt",
         "marker": {
          "color": "#c7c7c7",
          "size": 6
         },
         "mode": "markers",
         "name": "GT Group 36",
         "showlegend": false,
         "type": "scatter",
         "x": {
          "bdata": "cmX8v+JPtcGJEQXCs47Avw4OA0DLYA9CoUjZQQ79+cE=",
          "dtype": "f4"
         },
         "xaxis": "x",
         "y": {
          "bdata": "3TutwX+0wkBO5i9ByK6uwfNwuMGuCpy/448SQhirSME=",
          "dtype": "f4"
         },
         "yaxis": "y"
        },
        {
         "legendgroup": "gt",
         "marker": {
          "color": "#c7c7c7",
          "size": 6
         },
         "mode": "markers",
         "name": "GT Group 37",
         "showlegend": false,
         "type": "scatter",
         "x": {
          "bdata": "Vg0LQhRiXkFodJbBg3WsQcJnPsGMSCtBtwiYQfD1vUEyPIDCCUcEwg==",
          "dtype": "f4"
         },
         "xaxis": "x",
         "y": {
          "bdata": "jjSEQpPnvUESVIdBaZUrQjvxMMI61SzCVcL7wVqP7cGROL4/p9zbQA==",
          "dtype": "f4"
         },
         "yaxis": "y"
        },
        {
         "legendgroup": "gt",
         "marker": {
          "color": "#c7c7c7",
          "size": 6
         },
         "mode": "markers",
         "name": "GT Group 38",
         "showlegend": false,
         "type": "scatter",
         "x": {
          "bdata": "TkurQXx8n0HwvaZB4xiDQqAT1UELQshB2e9qwbdBlUEJ0DlC",
          "dtype": "f4"
         },
         "xaxis": "x",
         "y": {
          "bdata": "mGeIwT/RjsE7iipC5TMyvwFaWEHHAJBBHDUVwuKygsGbVqnB",
          "dtype": "f4"
         },
         "yaxis": "y"
        },
        {
         "legendgroup": "gt",
         "marker": {
          "color": "#bcbd22",
          "size": 6
         },
         "mode": "markers",
         "name": "GT Group 39",
         "showlegend": false,
         "type": "scatter",
         "x": {
          "bdata": "7xzRQfviIEI8ZIPBiNsbQr3JG0LxkQ/CSruVwbqhFMLiJMZAhc+OQYEVBUJAIH3C0CaYQtTHNELMCpHBxX9HQb/eAEJ0MVfBEVEYQtJAG0IjDLfBL2MHwHZxr8GRbfFBynSfQMSsHkI=",
          "dtype": "f4"
         },
         "xaxis": "x",
         "y": {
          "bdata": "qBHYwayDUcBGjcnBCcIZwgiUG8Jh7GfCrbfMQU5tZsIStAPC1b+/QXKdWkEblE0/eBaJwViYrMGAMc5BiaVVQtb0VELM+kJCk6uYQXlxacGqxglCwSvGQZDyD8JSvLLAr454wbvwZ8E=",
          "dtype": "f4"
         },
         "yaxis": "y"
        },
        {
         "legendgroup": "gt",
         "marker": {
          "color": "#bcbd22",
          "size": 6
         },
         "mode": "markers",
         "name": "GT Group 40",
         "showlegend": false,
         "type": "scatter",
         "x": {
          "bdata": "DW4pwlToJ8J1LTTCYBO2wWWOK8I9+SXC3TcMwoMlMMLMqQrBMQArwl5hrsHK467BiHgowg==",
          "dtype": "f4"
         },
         "xaxis": "x",
         "y": {
          "bdata": "1vCywVgmoMFKISTCK5oDwvY5bj9O17vB4IXBv1uQuMHHTypBSUW4QJ6mBMKm5gvC8GqnwQ==",
          "dtype": "f4"
         },
         "yaxis": "y"
        },
        {
         "legendgroup": "gt",
         "marker": {
          "color": "#dbdb8d",
          "size": 6
         },
         "mode": "markers",
         "name": "GT Group 41",
         "showlegend": false,
         "type": "scatter",
         "x": {
          "bdata": "7bQbwhAuGcLPLKRAVoYBwuYE/cHWT5LA",
          "dtype": "f4"
         },
         "xaxis": "x",
         "y": {
          "bdata": "GC9PwYvfSsGL9AzCdA4qwQ4lPsFmZT9C",
          "dtype": "f4"
         },
         "yaxis": "y"
        },
        {
         "legendgroup": "gt",
         "marker": {
          "color": "#dbdb8d",
          "size": 6
         },
         "mode": "markers",
         "name": "GT Group 42",
         "showlegend": false,
         "type": "scatter",
         "x": {
          "bdata": "ksTbQY1Hh0JwK6lA7ZZ5QLRdsUHYPepBuK8BwgDQEcJObNDBmwHlQbO/CUE=",
          "dtype": "f4"
         },
         "xaxis": "x",
         "y": {
          "bdata": "3nhcwMX4kMGHiM/BCbq6wRLYj8DsKt9AflAJQecFQcHhb55AMvPvQO24GsI=",
          "dtype": "f4"
         },
         "yaxis": "y"
        },
        {
         "legendgroup": "gt",
         "marker": {
          "color": "#dbdb8d",
          "size": 6
         },
         "mode": "markers",
         "name": "GT Group 43",
         "showlegend": false,
         "type": "scatter",
         "x": {
          "bdata": "GDnlwEGbxUFN4CLCHMklwrUhG0LtOwnCtzhrwA==",
          "dtype": "f4"
         },
         "xaxis": "x",
         "y": {
          "bdata": "FGU5QoJBUkKXgP9BzYX5QVKuoUESrJZBm2/sQQ==",
          "dtype": "f4"
         },
         "yaxis": "y"
        },
        {
         "legendgroup": "gt",
         "marker": {
          "color": "#17becf",
          "size": 6
         },
         "mode": "markers",
         "name": "GT Group 44",
         "showlegend": false,
         "type": "scatter",
         "x": {
          "bdata": "Z6fuwWX0eMGmS9zB8GcSwckTKcJ6EIzBzBkMwoSWFMK8BDXCTQwdwvM3EsAWaDHCwLYgwpRGFcK8pwnC6PzqwThoz8HcWBLC8o+owQ==",
          "dtype": "f4"
         },
         "xaxis": "x",
         "y": {
          "bdata": "Tc+qQRHuGMC28HJAphQ1QuQb8kE6TDZC0shdQTKtSD8i/rtB6MgDQnPV7UEdZsZBVokNQB+RvT8v3AtCTcqwQRi770HUC4e/rL4HQg==",
          "dtype": "f4"
         },
         "yaxis": "y"
        },
        {
         "legendgroup": "gt",
         "marker": {
          "color": "#17becf",
          "size": 6
         },
         "mode": "markers",
         "name": "GT Group 45",
         "showlegend": false,
         "type": "scatter",
         "x": {
          "bdata": "Rpv6wb9pMsKJWQ7CdXkOwP/IA8JbMsDB0WJnQQ==",
          "dtype": "f4"
         },
         "xaxis": "x",
         "y": {
          "bdata": "nH0AQnle2EFDKnFBy/zcQVWsBEJp4P5BiCcKQg==",
          "dtype": "f4"
         },
         "yaxis": "y"
        },
        {
         "legendgroup": "gt",
         "marker": {
          "color": "#9edae5",
          "size": 6
         },
         "mode": "markers",
         "name": "GT Group 46",
         "showlegend": false,
         "type": "scatter",
         "x": {
          "bdata": "sjUbwrzwNUE1XrNB3FrAQTEEdcI=",
          "dtype": "f4"
         },
         "xaxis": "x",
         "y": {
          "bdata": "MGWWQRsbEkHr97rAmo5OQBa/HsA=",
          "dtype": "f4"
         },
         "yaxis": "y"
        },
        {
         "legendgroup": "gt",
         "marker": {
          "color": "#9edae5",
          "size": 6
         },
         "mode": "markers",
         "name": "GT Group 47",
         "showlegend": false,
         "type": "scatter",
         "x": {
          "bdata": "ouubQG9RH8E=",
          "dtype": "f4"
         },
         "xaxis": "x",
         "y": {
          "bdata": "ybHIwRdIhkE=",
          "dtype": "f4"
         },
         "yaxis": "y"
        },
        {
         "legendgroup": "gt",
         "marker": {
          "color": "#9edae5",
          "size": 6
         },
         "mode": "markers",
         "name": "GT Group 48",
         "showlegend": false,
         "type": "scatter",
         "x": {
          "bdata": "OTKTQDEajEEdUK1A",
          "dtype": "f4"
         },
         "xaxis": "x",
         "y": {
          "bdata": "B7o0QASce8EiGUJA",
          "dtype": "f4"
         },
         "yaxis": "y"
        },
        {
         "legendgroup": "pred",
         "marker": {
          "color": "#1f77b4",
          "size": 6
         },
         "mode": "markers",
         "name": "Pred Group 0",
         "showlegend": false,
         "type": "scatter",
         "x": {
          "bdata": "gyu6wX33t8HiT7XB5JCSwU5s0MFvUR/BFd61wT7pCMFHMiHBiREFwj1+gcF6EIzB9/vKwZRGFcKZMUDBuxUyQfKPqMHLvxvBYhEnwqLrm0ChrLxBIwy3wbynCcIO/fnBl1QuwcypCsFwK6lASruVwbsZmcHRYmdBhJYUwvM3EsDAtiDCYdxCQWJObkGamcNAggg4weYE/cF4pgXBkb7twWltjcFKHLDBZ6fuwe7tgkHMCpHBbP02wrc4a8C7CZhAr80XQfD1vUE4aM/Bd9hHQROh88Gj/VNBzBkMwqV3KUHJEynCB8z8Qe2WeUBRnY5B8GcSwe4I68GYZHnC3FgSws+iFsGXfdTByqUFwkab+sFSC8u/Ke5uQTB2ZkIge+xBksTbQdvEh8GpA1VC",
          "dtype": "f4"
         },
         "xaxis": "x2",
         "y": {
          "bdata": "2U2VQDzNfEB/tMJAGdkvQuFvnkAXSIZB6ZAlQF9bGUFaRIxBTuYvQXoVKUI6TDZCN9nhQR+RvT+hlzBC4ppUwqy+B0LbLiFCQRWcQMmxyMFQ9uXBqsYJQi/cC0IYq0jBLJwZwcdPKkGHiM/BrbfMQXSRKUKIJwpCMq1IP3PV7UFWiQ1Ao1lXwv7XWMJYQN7BHaSMQQ4lPsGNOARBwEhHweJrMkLAnAdCTc+qQWO3C0KAMc5B5BK2QZtv7EFp3ZXB/pESv1qP7cEYu+9BE2ZgwgJOK0JM9BlC0shdQZLm6EHkG/JBl0NMwAm6usGfLVHCphQ1Qr0QLEIewPK+1AuHv7bJmEF6nvJBs9JcQZx9AEK0VvJBzvoHQp/cnkA68w3A3nhcwGpq0EEEZaHB",
          "dtype": "f4"
         },
         "yaxis": "y2"
        },
        {
         "legendgroup": "pred",
         "marker": {
          "color": "#1f77b4",
          "size": 6
         },
         "mode": "markers",
         "name": "Pred Group 1",
         "showlegend": false,
         "type": "scatter",
         "x": {
          "bdata": "1+AyQfI0oUHmq7NBUcrFQbdPIkLkAK1BXJwbQmfgFUIWirJB9fvIQbzwNUFxU1lC4uMcQm/NzEBZy8lBwUcOQu8c0UEIpF5CSw7oQQT4G0KRbfFBT4+1QbCDJ0FoaRxCFsReQhFRGEK1IRtCl13+QSvazkFcPpZCSwsawRRiXkG4J4RCNV6zQTCdiEGBy5hCrOmBQbNwVEElsS1BfHyfQUoWa0HErB5CUmWpQdg96kELaShC1Mc0QtAmmEJdpD5C",
          "dtype": "f4"
         },
         "xaxis": "x2",
         "y": {
          "bdata": "Zgsrwi/H+cFrk0xABLymwd8npsFmb/rBddE/wNKotkFyx9TBjqD3wRsbEkE57p7BDGewwaTr6sFB5qbBxikowKgR2MGHNJvBbpJcwDMivcFSvLLAbUfeQGsP40GLXcTBrokfwZOrmEFSrqFBNOKov1h8a0EFRnrBzOrgwZPnvUEtKp3B6/e6wLSTYsIAc2/B2XZTwjbKWcJxD6JAP9GOwaFOvEG78GfBK4Q1QOwq30BfpaPBWJiswXgWicH7jOPB",
          "dtype": "f4"
         },
         "yaxis": "y2"
        },
        {
         "legendgroup": "pred",
         "marker": {
          "color": "#1f77b4",
          "size": 6
         },
         "mode": "markers",
         "name": "Pred Group 2",
         "showlegend": false,
         "type": "scatter",
         "x": {
          "bdata": "3FrAQVbJFUIOKcRBtF2xQRg55cCbAeVBgY/MQUeao0HwHLVBfw0JQhzFqj7aNsHArm0ZQtZPksBbEsVBDe6eQc9LU0ELQshB2GPpQQ==",
          "dtype": "f4"
         },
         "xaxis": "x2",
         "y": {
          "bdata": "mo5OQBcFkUGTS4dBEtiPwBRlOUIy8+9AfOxkQFAogcAPz4dB3dVhQWKD/UFG8TtCsvfFP2ZlP0LieoBB2dcZQvLLBUHHAJBBODWqQQ==",
          "dtype": "f4"
         },
         "yaxis": "y2"
        },
        {
         "legendgroup": "pred",
         "marker": {
          "color": "#1f77b4",
          "size": 6
         },
         "mode": "markers",
         "name": "Pred Group 3",
         "showlegend": false,
         "type": "scatter",
         "x": {
          "bdata": "QCB9wjJ+CcJ0MVfBL2MHwLkJS8H/yAPC/rEKwnV5DsAFZnzBynSfQLI1G8Jbu7PBHMklwuj86sG3CJhB",
          "dtype": "f4"
         },
         "xaxis": "x2",
         "y": {
          "bdata": "G5RNP5coCULM+kJCwSvGQWhg8EFVrARCM20TQsv83EE4Bc5Br454wTBllkFksjVCzYX5QU3KsEFVwvvB",
          "dtype": "f4"
         },
         "yaxis": "y2"
        },
        {
         "legendgroup": "pred",
         "marker": {
          "color": "#1f77b4",
          "size": 6
         },
         "mode": "markers",
         "name": "Pred Group 4",
         "showlegend": false,
         "type": "scatter",
         "x": {
          "bdata": "aTSrwRZoMcJiS7vBvAQ1wuwjMsFiTA7BTQwdwgffWcFbMsDBKXKawQ==",
          "dtype": "f4"
         },
         "xaxis": "x2",
         "y": {
          "bdata": "0lY0Qh1mxkE/T1JCIv67QZUvMkKQCh1C6MgDQhVORkJp4P5BPVGDQQ==",
          "dtype": "f4"
         },
         "yaxis": "y2"
        },
        {
         "legendgroup": "pred",
         "marker": {
          "color": "#1f77b4",
          "size": 6
         },
         "mode": "markers",
         "name": "Pred Group 5",
         "showlegend": false,
         "type": "scatter",
         "x": {
          "bdata": "iNsbQr3JG0LMzHfCIVeAQT2koMHmDR5CVOgnwmATtsHiJMZAjEgrQQ==",
          "dtype": "f4"
         },
         "xaxis": "x2",
         "y": {
          "bdata": "CcIZwgiUG8JnHqC/TJVewh/P+8GqSvTBWCagwSuaA8IStAPCOtUswg==",
          "dtype": "f4"
         },
         "yaxis": "y2"
        },
        {
         "legendgroup": "pred",
         "marker": {
          "color": "#1f77b4",
          "size": 6
         },
         "mode": "markers",
         "name": "Pred Group 6",
         "showlegend": false,
         "type": "scatter",
         "x": {
          "bdata": "TvR5QSdiMkGjxDnBZfR4wUiqNsGFz45BSDOAwX01H0I=",
          "dtype": "f4"
         },
         "xaxis": "x2",
         "y": {
          "bdata": "1nMAQp1J90FoQRrBEe4YwM9F28HVv79B7+v9v45SvkE=",
          "dtype": "f4"
         },
         "yaxis": "y2"
        },
        {
         "legendgroup": "pred",
         "marker": {
          "color": "#aec7e8",
          "size": 6
         },
         "mode": "markers",
         "name": "Pred Group 7",
         "showlegend": false,
         "type": "scatter",
         "x": {
          "bdata": "axBEwiHPRMIWEkbCY65DwocGV8K0ejPC/Ps6wo2FZ8I=",
          "dtype": "f4"
         },
         "xaxis": "x2",
         "y": {
          "bdata": "nZ4fwrAgJsKvoRrCU1kxwkm4GcKNcxPCFKoqwvlVFMI=",
          "dtype": "f4"
         },
         "yaxis": "y2"
        },
        {
         "legendgroup": "pred",
         "marker": {
          "color": "#aec7e8",
          "size": 6
         },
         "mode": "markers",
         "name": "Pred Group 8",
         "showlegend": false,
         "type": "scatter",
         "x": {
          "bdata": "hLS5QRJEHkJodJbBGo1NQTEAK8JL5EzBPexHQQ==",
          "dtype": "f4"
         },
         "xaxis": "x2",
         "y": {
          "bdata": "nFuqQTvSTkASVIdB4rEcQklFuEDDOixCVoiQQA==",
          "dtype": "f4"
         },
         "yaxis": "y2"
        },
        {
         "legendgroup": "pred",
         "marker": {
          "color": "#aec7e8",
          "size": 6
         },
         "mode": "markers",
         "name": "Pred Group 9",
         "showlegend": false,
         "type": "scatter",
         "x": {
          "bdata": "2tIfQoEVBUKgE9VByLn/Qbfe+0GLA4dB3/f+wA==",
          "dtype": "f4"
         },
         "xaxis": "x2",
         "y": {
          "bdata": "wQhzQHKdWkEBWlhBUJC9QfRlukFEVr5BeDbtwQ==",
          "dtype": "f4"
         },
         "yaxis": "y2"
        },
        {
         "legendgroup": "pred",
         "marker": {
          "color": "#aec7e8",
          "size": 6
         },
         "mode": "markers",
         "name": "Pred Group 10",
         "showlegend": false,
         "type": "scatter",
         "x": {
          "bdata": "y2APQpVAAkKsdw5CyZIEQr/eAEIUUyJCwWTAQQ==",
          "dtype": "f4"
         },
         "xaxis": "x2",
         "y": {
          "bdata": "rgqcv5wRUULW0Y9BIb9OQtb0VELjV6BBy7MbQg==",
          "dtype": "f4"
         },
         "yaxis": "y2"
        },
        {
         "legendgroup": "pred",
         "marker": {
          "color": "#aec7e8",
          "size": 6
         },
         "mode": "markers",
         "name": "Pred Group 11",
         "showlegend": false,
         "type": "scatter",
         "x": {
          "bdata": "DW4pwoh4KMJfDn7C54Q1wmItXMJiNGDC",
          "dtype": "f4"
         },
         "xaxis": "x2",
         "y": {
          "bdata": "1vCywfBqp8HUkMfBx9cKwtaWf0GWgBXC",
          "dtype": "f4"
         },
         "yaxis": "y2"
        },
        {
         "legendgroup": "pred",
         "marker": {
          "color": "#aec7e8",
          "size": 6
         },
         "mode": "markers",
         "name": "Pred Group 12",
         "showlegend": false,
         "type": "scatter",
         "x": {
          "bdata": "HmtKwTxkg8EwMO7Bwmc+wV5hrsE=",
          "dtype": "f4"
         },
         "xaxis": "x2",
         "y": {
          "bdata": "zs4rwkaNycGTaL3BO/Ewwp6mBMI=",
          "dtype": "f4"
         },
         "yaxis": "y2"
        },
        {
         "legendgroup": "pred",
         "marker": {
          "color": "#aec7e8",
          "size": 6
         },
         "mode": "markers",
         "name": "Pred Group 13",
         "showlegend": false,
         "type": "scatter",
         "x": {
          "bdata": "jUeHQnb3kELkR41CjCOUQjMvl0I=",
          "dtype": "f4"
         },
         "xaxis": "x2",
         "y": {
          "bdata": "xfiQwUZvc8HbPWTBGIV2wURKlME=",
          "dtype": "f4"
         },
         "yaxis": "y2"
        },
        {
         "legendgroup": "pred",
         "marker": {
          "color": "#ff7f0e",
          "size": 6
         },
         "mode": "markers",
         "name": "Pred Group 14",
         "showlegend": false,
         "type": "scatter",
         "x": {
          "bdata": "tWYIQlYNC0KRLAJCeFgQQlAMD0I=",
          "dtype": "f4"
         },
         "xaxis": "x2",
         "y": {
          "bdata": "XKyDQo40hEL7P4RCIzd7QtS7fkI=",
          "dtype": "f4"
         },
         "yaxis": "y2"
        },
        {
         "legendgroup": "pred",
         "marker": {
          "color": "#ff7f0e",
          "size": 6
         },
         "mode": "markers",
         "name": "Pred Group 15",
         "showlegend": false,
         "type": "scatter",
         "x": {
          "bdata": "uhg5QU16B0FZPSFBHVCtQA==",
          "dtype": "f4"
         },
         "xaxis": "x2",
         "y": {
          "bdata": "ezEsQYvyQ0F5PQlBIhlCQA==",
          "dtype": "f4"
         },
         "yaxis": "y2"
        },
        {
         "legendgroup": "pred",
         "marker": {
          "color": "#ff7f0e",
          "size": 6
         },
         "mode": "markers",
         "name": "Pred Group 16",
         "showlegend": false,
         "type": "scatter",
         "x": {
          "bdata": "iVkOwt45EsJN4CLCYUXsQA==",
          "dtype": "f4"
         },
         "xaxis": "x2",
         "y": {
          "bdata": "QypxQf9xSUGXgP9Ba9ZSQQ==",
          "dtype": "f4"
         },
         "yaxis": "y2"
        },
        {
         "legendgroup": "pred",
         "marker": {
          "color": "#ff7f0e",
          "size": 6
         },
         "mode": "markers",
         "name": "Pred Group 17",
         "showlegend": false,
         "type": "scatter",
         "x": {
          "bdata": "b0KGwQ8tGULS4x3BoUjZQQ==",
          "dtype": "f4"
         },
         "xaxis": "x2",
         "y": {
          "bdata": "MAjGwdYdhEHhYwTB448SQg==",
          "dtype": "f4"
         },
         "yaxis": "y2"
        },
        {
         "legendgroup": "pred",
         "marker": {
          "color": "#ff7f0e",
          "size": 6
         },
         "mode": "markers",
         "name": "Pred Group 18",
         "showlegend": false,
         "type": "scatter",
         "x": {
          "bdata": "ZSkHwk2/+cFd4CXCZY4rwg==",
          "dtype": "f4"
         },
         "xaxis": "x2",
         "y": {
          "bdata": "p7COQQ49nEFZFM0/9jluPw==",
          "dtype": "f4"
         },
         "yaxis": "y2"
        },
        {
         "legendgroup": "pred",
         "marker": {
          "color": "#ff7f0e",
          "size": 6
         },
         "mode": "markers",
         "name": "Pred Group 19",
         "showlegend": false,
         "type": "scatter",
         "x": {
          "bdata": "DWmbwKiUXsEFmjvCMjyAwg==",
          "dtype": "f4"
         },
         "xaxis": "x2",
         "y": {
          "bdata": "8AmwQYvsIcIpLK9BkTi+Pw==",
          "dtype": "f4"
         },
         "yaxis": "y2"
        },
        {
         "legendgroup": "pred",
         "marker": {
          "color": "#ffbb78",
          "size": 6
         },
         "mode": "markers",
         "name": "Pred Group 20",
         "showlegend": false,
         "type": "scatter",
         "x": {
          "bdata": "trJjQgPYJUKssFtCucWSQQ==",
          "dtype": "f4"
         },
         "xaxis": "x2",
         "y": {
          "bdata": "HCYFQAmk3MHreyLBfN9Kwg==",
          "dtype": "f4"
         },
         "yaxis": "y2"
        },
        {
         "legendgroup": "pred",
         "marker": {
          "color": "#ffbb78",
          "size": 6
         },
         "mode": "markers",
         "name": "Pred Group 21",
         "showlegend": false,
         "type": "scatter",
         "x": {
          "bdata": "bSCIQp7MfEKxOIBCCdA5Qg==",
          "dtype": "f4"
         },
         "xaxis": "x2",
         "y": {
          "bdata": "9QqIwTm6iL/I81y/m1apwQ==",
          "dtype": "f4"
         },
         "yaxis": "y2"
        },
        {
         "legendgroup": "pred",
         "marker": {
          "color": "#ffbb78",
          "size": 6
         },
         "mode": "markers",
         "name": "Pred Group 22",
         "showlegend": false,
         "type": "scatter",
         "x": {
          "bdata": "QpsywnWHMcKL4DDCQ9Axwg==",
          "dtype": "f4"
         },
         "xaxis": "x2",
         "y": {
          "bdata": "4ptRwnnoV8LjvlDCtzNcwg==",
          "dtype": "f4"
         },
         "yaxis": "y2"
        },
        {
         "legendgroup": "pred",
         "marker": {
          "color": "#ffbb78",
          "size": 6
         },
         "mode": "markers",
         "name": "Pred Group 23",
         "showlegend": false,
         "type": "scatter",
         "x": {
          "bdata": "L+QcQbdBlUGPnZZB",
          "dtype": "f4"
         },
         "xaxis": "x2",
         "y": {
          "bdata": "bTHMQOKygsGnmD5A",
          "dtype": "f4"
         },
         "yaxis": "y2"
        },
        {
         "legendgroup": "pred",
         "marker": {
          "color": "#ffbb78",
          "size": 6
         },
         "mode": "markers",
         "name": "Pred Group 24",
         "showlegend": false,
         "type": "scatter",
         "x": {
          "bdata": "EC4ZwgmZWsAA1RnC",
          "dtype": "f4"
         },
         "xaxis": "x2",
         "y": {
          "bdata": "i99KwVbsQUIKCpfA",
          "dtype": "f4"
         },
         "yaxis": "y2"
        },
        {
         "legendgroup": "pred",
         "marker": {
          "color": "#ffbb78",
          "size": 6
         },
         "mode": "markers",
         "name": "Pred Group 25",
         "showlegend": false,
         "type": "scatter",
         "x": {
          "bdata": "qWwXwtB/EMJ2ca/B",
          "dtype": "f4"
         },
         "xaxis": "x2",
         "y": {
          "bdata": "blI8wPX2XkCQ8g/C",
          "dtype": "f4"
         },
         "yaxis": "y2"
        },
        {
         "legendgroup": "pred",
         "marker": {
          "color": "#ffbb78",
          "size": 6
         },
         "mode": "markers",
         "name": "Pred Group 26",
         "showlegend": false,
         "type": "scatter",
         "x": {
          "bdata": "XT4hQWZGnkHBJQ9B",
          "dtype": "f4"
         },
         "xaxis": "x2",
         "y": {
          "bdata": "CgZnQPeClMFyiIu/",
          "dtype": "f4"
         },
         "yaxis": "y2"
        },
        {
         "legendgroup": "pred",
         "marker": {
          "color": "#2ca02c",
          "size": 6
         },
         "mode": "markers",
         "name": "Pred Group 27",
         "showlegend": false,
         "type": "scatter",
         "x": {
          "bdata": "KUsNQgFdEELSQBtC",
          "dtype": "f4"
         },
         "xaxis": "x2",
         "y": {
          "bdata": "bxSMwMJZqMB5cWnB",
          "dtype": "f4"
         },
         "yaxis": "y2"
        },
        {
         "legendgroup": "pred",
         "marker": {
          "color": "#2ca02c",
          "size": 6
         },
         "mode": "markers",
         "name": "Pred Group 28",
         "showlegend": false,
         "type": "scatter",
         "x": {
          "bdata": "++IgQnbmF0JonXhC",
          "dtype": "f4"
         },
         "xaxis": "x2",
         "y": {
          "bdata": "rINRwIRBbMH97fq/",
          "dtype": "f4"
         },
         "yaxis": "y2"
        },
        {
         "legendgroup": "pred",
         "marker": {
          "color": "#2ca02c",
          "size": 6
         },
         "mode": "markers",
         "name": "Pred Group 29",
         "showlegend": false,
         "type": "scatter",
         "x": {
          "bdata": "nNMWwlaGAcKNVF3C",
          "dtype": "f4"
         },
         "xaxis": "x2",
         "y": {
          "bdata": "93h8QXQOKsGc/oJB",
          "dtype": "f4"
         },
         "yaxis": "y2"
        },
        {
         "legendgroup": "pred",
         "marker": {
          "color": "#2ca02c",
          "size": 6
         },
         "mode": "markers",
         "name": "Pred Group 30",
         "showlegend": false,
         "type": "scatter",
         "x": {
          "bdata": "ja8JQoJ93EFNG95B",
          "dtype": "f4"
         },
         "xaxis": "x2",
         "y": {
          "bdata": "1pNKQq82RkKZ501C",
          "dtype": "f4"
         },
         "yaxis": "y2"
        },
        {
         "legendgroup": "pred",
         "marker": {
          "color": "#2ca02c",
          "size": 6
         },
         "mode": "markers",
         "name": "Pred Group 31",
         "showlegend": false,
         "type": "scatter",
         "x": {
          "bdata": "FRfVQYN1rEHVUUFB",
          "dtype": "f4"
         },
         "xaxis": "x2",
         "y": {
          "bdata": "PJ0/QmmVK0Ie/1JC",
          "dtype": "f4"
         },
         "yaxis": "y2"
        },
        {
         "legendgroup": "pred",
         "marker": {
          "color": "#2ca02c",
          "size": 6
         },
         "mode": "markers",
         "name": "Pred Group 32",
         "showlegend": false,
         "type": "scatter",
         "x": {
          "bdata": "NNlxwEOsY0I=",
          "dtype": "f4"
         },
         "xaxis": "x2",
         "y": {
          "bdata": "ilK4QdjjG8E=",
          "dtype": "f4"
         },
         "yaxis": "y2"
        },
        {
         "legendgroup": "pred",
         "marker": {
          "color": "#2ca02c",
          "size": 6
         },
         "mode": "markers",
         "name": "Pred Group 33",
         "showlegend": false,
         "type": "scatter",
         "x": {
          "bdata": "oOmSQLivAcI=",
          "dtype": "f4"
         },
         "xaxis": "x2",
         "y": {
          "bdata": "ZsWnwX5QCUE=",
          "dtype": "f4"
         },
         "yaxis": "y2"
        },
        {
         "legendgroup": "pred",
         "marker": {
          "color": "#98df8a",
          "size": 6
         },
         "mode": "markers",
         "name": "Pred Group 34",
         "showlegend": false,
         "type": "scatter",
         "x": {
          "bdata": "C92eQO7JZsE=",
          "dtype": "f4"
         },
         "xaxis": "x2",
         "y": {
          "bdata": "Dp2AwUzbF8I=",
          "dtype": "f4"
         },
         "yaxis": "y2"
        },
        {
         "legendgroup": "pred",
         "marker": {
          "color": "#98df8a",
          "size": 6
         },
         "mode": "markers",
         "name": "Pred Group 35",
         "showlegend": false,
         "type": "scatter",
         "x": {
          "bdata": "cDs4QZhWN0E=",
          "dtype": "f4"
         },
         "xaxis": "x2",
         "y": {
          "bdata": "QqcjQpFuTUI=",
          "dtype": "f4"
         },
         "yaxis": "y2"
        },
        {
         "legendgroup": "pred",
         "marker": {
          "color": "#98df8a",
          "size": 6
         },
         "mode": "markers",
         "name": "Pred Group 36",
         "showlegend": false,
         "type": "scatter",
         "x": {
          "bdata": "TkurQc4hhkI=",
          "dtype": "f4"
         },
         "xaxis": "x2",
         "y": {
          "bdata": "mGeIwaH1lcE=",
          "dtype": "f4"
         },
         "yaxis": "y2"
        },
        {
         "legendgroup": "pred",
         "marker": {
          "color": "#98df8a",
          "size": 6
         },
         "mode": "markers",
         "name": "Pred Group 37",
         "showlegend": false,
         "type": "scatter",
         "x": {
          "bdata": "5EibQfwI00E=",
          "dtype": "f4"
         },
         "xaxis": "x2",
         "y": {
          "bdata": "DO9Swt9XAcI=",
          "dtype": "f4"
         },
         "yaxis": "y2"
        },
        {
         "legendgroup": "pred",
         "marker": {
          "color": "#98df8a",
          "size": 6
         },
         "mode": "markers",
         "name": "Pred Group 38",
         "showlegend": false,
         "type": "scatter",
         "x": {
          "bdata": "a6QqQhtDREI=",
          "dtype": "f4"
         },
         "xaxis": "x2",
         "y": {
          "bdata": "q1jWwQv938E=",
          "dtype": "f4"
         },
         "yaxis": "y2"
        },
        {
         "legendgroup": "pred",
         "marker": {
          "color": "#98df8a",
          "size": 6
         },
         "mode": "markers",
         "name": "Pred Group 39",
         "showlegend": false,
         "type": "scatter",
         "x": {
          "bdata": "IMxFQbO/CUE=",
          "dtype": "f4"
         },
         "xaxis": "x2",
         "y": {
          "bdata": "rPk1wu24GsI=",
          "dtype": "f4"
         },
         "yaxis": "y2"
        },
        {
         "legendgroup": "pred",
         "marker": {
          "color": "#d62728",
          "size": 6
         },
         "mode": "markers",
         "name": "Pred Group 40",
         "showlegend": false,
         "type": "scatter",
         "x": {
          "bdata": "t5AQQS53wkA=",
          "dtype": "f4"
         },
         "xaxis": "x2",
         "y": {
          "bdata": "fD0ewsuDB8I=",
          "dtype": "f4"
         },
         "yaxis": "y2"
        },
        {
         "legendgroup": "pred",
         "marker": {
          "color": "#d62728",
          "size": 6
         },
         "mode": "markers",
         "name": "Pred Group 41",
         "showlegend": false,
         "type": "scatter",
         "x": {
          "bdata": "MQR1wsXhgcI=",
          "dtype": "f4"
         },
         "xaxis": "x2",
         "y": {
          "bdata": "Fr8ewEOmJEA=",
          "dtype": "f4"
         },
         "yaxis": "y2"
        },
        {
         "legendgroup": "pred",
         "marker": {
          "color": "#d62728",
          "size": 6
         },
         "mode": "markers",
         "name": "Pred Group 42",
         "showlegend": false,
         "type": "scatter",
         "x": {
          "bdata": "g2uiQQDzyUE=",
          "dtype": "f4"
         },
         "xaxis": "x2",
         "y": {
          "bdata": "afshQoEcDkI=",
          "dtype": "f4"
         },
         "yaxis": "y2"
        },
        {
         "legendgroup": "pred",
         "marker": {
          "color": "#d62728",
          "size": 6
         },
         "mode": "markers",
         "name": "Pred Group 43",
         "showlegend": false,
         "type": "scatter",
         "x": {
          "bdata": "yuOuwR6xxcE=",
          "dtype": "f4"
         },
         "xaxis": "x2",
         "y": {
          "bdata": "puYLwg1OAcI=",
          "dtype": "f4"
         },
         "yaxis": "y2"
        },
        {
         "legendgroup": "pred",
         "marker": {
          "color": "#d62728",
          "size": 6
         },
         "mode": "markers",
         "name": "Pred Group 44",
         "showlegend": false,
         "type": "scatter",
         "x": {
          "bdata": "8L2mQcV/R0E=",
          "dtype": "f4"
         },
         "xaxis": "x2",
         "y": {
          "bdata": "O4oqQomlVUI=",
          "dtype": "f4"
         },
         "yaxis": "y2"
        },
        {
         "legendgroup": "pred",
         "marker": {
          "color": "#d62728",
          "size": 6
         },
         "mode": "markers",
         "name": "Pred Group 45",
         "showlegend": false,
         "type": "scatter",
         "x": {
          "bdata": "dS00wqDWOsI=",
          "dtype": "f4"
         },
         "xaxis": "x2",
         "y": {
          "bdata": "SiEkwkSOJsI=",
          "dtype": "f4"
         },
         "yaxis": "y2"
        },
        {
         "legendgroup": "pred",
         "marker": {
          "color": "#d62728",
          "size": 6
         },
         "mode": "markers",
         "name": "Pred Group 46",
         "showlegend": false,
         "type": "scatter",
         "x": {
          "bdata": "x1HaQWBJDkI=",
          "dtype": "f4"
         },
         "xaxis": "x2",
         "y": {
          "bdata": "z0RSQo1NbEI=",
          "dtype": "f4"
         },
         "yaxis": "y2"
        },
        {
         "legendgroup": "pred",
         "marker": {
          "color": "#ff9896",
          "size": 6
         },
         "mode": "markers",
         "name": "Pred Group 47",
         "showlegend": false,
         "type": "scatter",
         "x": {
          "bdata": "S3wJwhDzCMI=",
          "dtype": "f4"
         },
         "xaxis": "x2",
         "y": {
          "bdata": "hST/wZPQ+cE=",
          "dtype": "f4"
         },
         "yaxis": "y2"
        },
        {
         "legendgroup": "pred",
         "marker": {
          "color": "#ff9896",
          "size": 6
         },
         "mode": "markers",
         "name": "Pred Group 48",
         "showlegend": false,
         "type": "scatter",
         "x": {
          "bdata": "Pfklwu20G8I=",
          "dtype": "f4"
         },
         "xaxis": "x2",
         "y": {
          "bdata": "Tte7wRgvT8E=",
          "dtype": "f4"
         },
         "yaxis": "y2"
        },
        {
         "legendgroup": "pred",
         "marker": {
          "color": "#ff9896",
          "size": 6
         },
         "mode": "markers",
         "name": "Pred Group 49",
         "showlegend": false,
         "type": "scatter",
         "x": {
          "bdata": "BOMxQtGiQkE=",
          "dtype": "f4"
         },
         "xaxis": "x2",
         "y": {
          "bdata": "a/kNQm8OR0I=",
          "dtype": "f4"
         },
         "yaxis": "y2"
        },
        {
         "legendgroup": "pred",
         "marker": {
          "color": "#ff9896",
          "size": 6
         },
         "mode": "markers",
         "name": "Pred Group 50",
         "showlegend": false,
         "type": "scatter",
         "x": {
          "bdata": "kCWJQuZGiUI=",
          "dtype": "f4"
         },
         "xaxis": "x2",
         "y": {
          "bdata": "H9TfwX3H48E=",
          "dtype": "f4"
         },
         "yaxis": "y2"
        },
        {
         "legendgroup": "pred",
         "marker": {
          "color": "#ff9896",
          "size": 6
         },
         "mode": "markers",
         "name": "Pred Group 51",
         "showlegend": false,
         "type": "scatter",
         "x": {
          "bdata": "P/aEwY0Yg8E=",
          "dtype": "f4"
         },
         "xaxis": "x2",
         "y": {
          "bdata": "ljV9wkuif8I=",
          "dtype": "f4"
         },
         "yaxis": "y2"
        },
        {
         "legendgroup": "pred",
         "marker": {
          "color": "#ff9896",
          "size": 6
         },
         "mode": "markers",
         "name": "Pred Group 52",
         "showlegend": false,
         "type": "scatter",
         "x": {
          "bdata": "HLxnQg==",
          "dtype": "f4"
         },
         "xaxis": "x2",
         "y": {
          "bdata": "/e90QA==",
          "dtype": "f4"
         },
         "yaxis": "y2"
        },
        {
         "legendgroup": "pred",
         "marker": {
          "color": "#ff9896",
          "size": 6
         },
         "mode": "markers",
         "name": "Pred Group 53",
         "showlegend": false,
         "type": "scatter",
         "x": {
          "bdata": "C+sAQg==",
          "dtype": "f4"
         },
         "xaxis": "x2",
         "y": {
          "bdata": "n7uNwA==",
          "dtype": "f4"
         },
         "yaxis": "y2"
        },
        {
         "legendgroup": "pred",
         "marker": {
          "color": "#9467bd",
          "size": 6
         },
         "mode": "markers",
         "name": "Pred Group 54",
         "showlegend": false,
         "type": "scatter",
         "x": {
          "bdata": "3iYRwQ==",
          "dtype": "f4"
         },
         "xaxis": "x2",
         "y": {
          "bdata": "y01TQQ==",
          "dtype": "f4"
         },
         "yaxis": "y2"
        },
        {
         "legendgroup": "pred",
         "marker": {
          "color": "#9467bd",
          "size": 6
         },
         "mode": "markers",
         "name": "Pred Group 55",
         "showlegend": false,
         "type": "scatter",
         "x": {
          "bdata": "qdgBwQ==",
          "dtype": "f4"
         },
         "xaxis": "x2",
         "y": {
          "bdata": "e8fgQA==",
          "dtype": "f4"
         },
         "yaxis": "y2"
        },
        {
         "legendgroup": "pred",
         "marker": {
          "color": "#9467bd",
          "size": 6
         },
         "mode": "markers",
         "name": "Pred Group 56",
         "showlegend": false,
         "type": "scatter",
         "x": {
          "bdata": "EIB7wg==",
          "dtype": "f4"
         },
         "xaxis": "x2",
         "y": {
          "bdata": "YSzBwQ==",
          "dtype": "f4"
         },
         "yaxis": "y2"
        },
        {
         "legendgroup": "pred",
         "marker": {
          "color": "#9467bd",
          "size": 6
         },
         "mode": "markers",
         "name": "Pred Group 57",
         "showlegend": false,
         "type": "scatter",
         "x": {
          "bdata": "FxS+wQ==",
          "dtype": "f4"
         },
         "xaxis": "x2",
         "y": {
          "bdata": "xldUQg==",
          "dtype": "f4"
         },
         "yaxis": "y2"
        },
        {
         "legendgroup": "pred",
         "marker": {
          "color": "#9467bd",
          "size": 6
         },
         "mode": "markers",
         "name": "Pred Group 58",
         "showlegend": false,
         "type": "scatter",
         "x": {
          "bdata": "x/XvwA==",
          "dtype": "f4"
         },
         "xaxis": "x2",
         "y": {
          "bdata": "h53wwQ==",
          "dtype": "f4"
         },
         "yaxis": "y2"
        },
        {
         "legendgroup": "pred",
         "marker": {
          "color": "#9467bd",
          "size": 6
         },
         "mode": "markers",
         "name": "Pred Group 59",
         "showlegend": false,
         "type": "scatter",
         "x": {
          "bdata": "v2kywg==",
          "dtype": "f4"
         },
         "xaxis": "x2",
         "y": {
          "bdata": "eV7YQQ==",
          "dtype": "f4"
         },
         "yaxis": "y2"
        },
        {
         "legendgroup": "pred",
         "marker": {
          "color": "#c5b0d5",
          "size": 6
         },
         "mode": "markers",
         "name": "Pred Group 60",
         "showlegend": false,
         "type": "scatter",
         "x": {
          "bdata": "/IikwQ==",
          "dtype": "f4"
         },
         "xaxis": "x2",
         "y": {
          "bdata": "c01vQQ==",
          "dtype": "f4"
         },
         "yaxis": "y2"
        },
        {
         "legendgroup": "pred",
         "marker": {
          "color": "#c5b0d5",
          "size": 6
         },
         "mode": "markers",
         "name": "Pred Group 61",
         "showlegend": false,
         "type": "scatter",
         "x": {
          "bdata": "Nv4aQg==",
          "dtype": "f4"
         },
         "xaxis": "x2",
         "y": {
          "bdata": "J921QQ==",
          "dtype": "f4"
         },
         "yaxis": "y2"
        },
        {
         "legendgroup": "pred",
         "marker": {
          "color": "#c5b0d5",
          "size": 6
         },
         "mode": "markers",
         "name": "Pred Group 62",
         "showlegend": false,
         "type": "scatter",
         "x": {
          "bdata": "Dg4DQA==",
          "dtype": "f4"
         },
         "xaxis": "x2",
         "y": {
          "bdata": "83C4wQ==",
          "dtype": "f4"
         },
         "yaxis": "y2"
        },
        {
         "legendgroup": "pred",
         "marker": {
          "color": "#c5b0d5",
          "size": 6
         },
         "mode": "markers",
         "name": "Pred Group 63",
         "showlegend": false,
         "type": "scatter",
         "x": {
          "bdata": "jvfovg==",
          "dtype": "f4"
         },
         "xaxis": "x2",
         "y": {
          "bdata": "asvAQQ==",
          "dtype": "f4"
         },
         "yaxis": "y2"
        },
        {
         "legendgroup": "pred",
         "marker": {
          "color": "#c5b0d5",
          "size": 6
         },
         "mode": "markers",
         "name": "Pred Group 64",
         "showlegend": false,
         "type": "scatter",
         "x": {
          "bdata": "4xiDQg==",
          "dtype": "f4"
         },
         "xaxis": "x2",
         "y": {
          "bdata": "5TMyvw==",
          "dtype": "f4"
         },
         "yaxis": "y2"
        },
        {
         "legendgroup": "pred",
         "marker": {
          "color": "#c5b0d5",
          "size": 6
         },
         "mode": "markers",
         "name": "Pred Group 65",
         "showlegend": false,
         "type": "scatter",
         "x": {
          "bdata": "RkFkQg==",
          "dtype": "f4"
         },
         "xaxis": "x2",
         "y": {
          "bdata": "GQbKQA==",
          "dtype": "f4"
         },
         "yaxis": "y2"
        },
        {
         "legendgroup": "pred",
         "marker": {
          "color": "#c5b0d5",
          "size": 6
         },
         "mode": "markers",
         "name": "Pred Group 66",
         "showlegend": false,
         "type": "scatter",
         "x": {
          "bdata": "7TsJwg==",
          "dtype": "f4"
         },
         "xaxis": "x2",
         "y": {
          "bdata": "EqyWQQ==",
          "dtype": "f4"
         },
         "yaxis": "y2"
        },
        {
         "legendgroup": "pred",
         "marker": {
          "color": "#8c564b",
          "size": 6
         },
         "mode": "markers",
         "name": "Pred Group 67",
         "showlegend": false,
         "type": "scatter",
         "x": {
          "bdata": "VjM4wQ==",
          "dtype": "f4"
         },
         "xaxis": "x2",
         "y": {
          "bdata": "vnQzwg==",
          "dtype": "f4"
         },
         "yaxis": "y2"
        },
        {
         "legendgroup": "pred",
         "marker": {
          "color": "#8c564b",
          "size": 6
         },
         "mode": "markers",
         "name": "Pred Group 68",
         "showlegend": false,
         "type": "scatter",
         "x": {
          "bdata": "cmX8vw==",
          "dtype": "f4"
         },
         "xaxis": "x2",
         "y": {
          "bdata": "3TutwQ==",
          "dtype": "f4"
         },
         "yaxis": "y2"
        },
        {
         "legendgroup": "pred",
         "marker": {
          "color": "#8c564b",
          "size": 6
         },
         "mode": "markers",
         "name": "Pred Group 69",
         "showlegend": false,
         "type": "scatter",
         "x": {
          "bdata": "+0E1wg==",
          "dtype": "f4"
         },
         "xaxis": "x2",
         "y": {
          "bdata": "64gRwg==",
          "dtype": "f4"
         },
         "yaxis": "y2"
        },
        {
         "legendgroup": "pred",
         "marker": {
          "color": "#8c564b",
          "size": 6
         },
         "mode": "markers",
         "name": "Pred Group 70",
         "showlegend": false,
         "type": "scatter",
         "x": {
          "bdata": "QQIUQQ==",
          "dtype": "f4"
         },
         "xaxis": "x2",
         "y": {
          "bdata": "sHIwwg==",
          "dtype": "f4"
         },
         "yaxis": "y2"
        },
        {
         "legendgroup": "pred",
         "marker": {
          "color": "#8c564b",
          "size": 6
         },
         "mode": "markers",
         "name": "Pred Group 71",
         "showlegend": false,
         "type": "scatter",
         "x": {
          "bdata": "zyykQA==",
          "dtype": "f4"
         },
         "xaxis": "x2",
         "y": {
          "bdata": "i/QMwg==",
          "dtype": "f4"
         },
         "yaxis": "y2"
        },
        {
         "legendgroup": "pred",
         "marker": {
          "color": "#8c564b",
          "size": 6
         },
         "mode": "markers",
         "name": "Pred Group 72",
         "showlegend": false,
         "type": "scatter",
         "x": {
          "bdata": "0eYiQg==",
          "dtype": "f4"
         },
         "xaxis": "x2",
         "y": {
          "bdata": "iDjjwQ==",
          "dtype": "f4"
         },
         "yaxis": "y2"
        },
        {
         "legendgroup": "pred",
         "marker": {
          "color": "#8c564b",
          "size": 6
         },
         "mode": "markers",
         "name": "Pred Group 73",
         "showlegend": false,
         "type": "scatter",
         "x": {
          "bdata": "ofs7Qg==",
          "dtype": "f4"
         },
         "xaxis": "x2",
         "y": {
          "bdata": "kGHpwQ==",
          "dtype": "f4"
         },
         "yaxis": "y2"
        },
        {
         "legendgroup": "pred",
         "marker": {
          "color": "#c49c94",
          "size": 6
         },
         "mode": "markers",
         "name": "Pred Group 74",
         "showlegend": false,
         "type": "scatter",
         "x": {
          "bdata": "2e9qwQ==",
          "dtype": "f4"
         },
         "xaxis": "x2",
         "y": {
          "bdata": "HDUVwg==",
          "dtype": "f4"
         },
         "yaxis": "y2"
        },
        {
         "legendgroup": "pred",
         "marker": {
          "color": "#c49c94",
          "size": 6
         },
         "mode": "markers",
         "name": "Pred Group 75",
         "showlegend": false,
         "type": "scatter",
         "x": {
          "bdata": "GY4Awg==",
          "dtype": "f4"
         },
         "xaxis": "x2",
         "y": {
          "bdata": "iMIrQg==",
          "dtype": "f4"
         },
         "yaxis": "y2"
        },
        {
         "legendgroup": "pred",
         "marker": {
          "color": "#c49c94",
          "size": 6
         },
         "mode": "markers",
         "name": "Pred Group 76",
         "showlegend": false,
         "type": "scatter",
         "x": {
          "bdata": "/CpRQQ==",
          "dtype": "f4"
         },
         "xaxis": "x2",
         "y": {
          "bdata": "efA5wg==",
          "dtype": "f4"
         },
         "yaxis": "y2"
        },
        {
         "legendgroup": "pred",
         "marker": {
          "color": "#c49c94",
          "size": 6
         },
         "mode": "markers",
         "name": "Pred Group 77",
         "showlegend": false,
         "type": "scatter",
         "x": {
          "bdata": "4lhrwQ==",
          "dtype": "f4"
         },
         "xaxis": "x2",
         "y": {
          "bdata": "clAlwg==",
          "dtype": "f4"
         },
         "yaxis": "y2"
        },
        {
         "legendgroup": "pred",
         "marker": {
          "color": "#c49c94",
          "size": 6
         },
         "mode": "markers",
         "name": "Pred Group 78",
         "showlegend": false,
         "type": "scatter",
         "x": {
          "bdata": "4Zhkwg==",
          "dtype": "f4"
         },
         "xaxis": "x2",
         "y": {
          "bdata": "4pSgQQ==",
          "dtype": "f4"
         },
         "yaxis": "y2"
        },
        {
         "legendgroup": "pred",
         "marker": {
          "color": "#c49c94",
          "size": 6
         },
         "mode": "markers",
         "name": "Pred Group 79",
         "showlegend": false,
         "type": "scatter",
         "x": {
          "bdata": "OTKTQA==",
          "dtype": "f4"
         },
         "xaxis": "x2",
         "y": {
          "bdata": "B7o0QA==",
          "dtype": "f4"
         },
         "yaxis": "y2"
        },
        {
         "legendgroup": "pred",
         "marker": {
          "color": "#e377c2",
          "size": 6
         },
         "mode": "markers",
         "name": "Pred Group 80",
         "showlegend": false,
         "type": "scatter",
         "x": {
          "bdata": "SCfGQA==",
          "dtype": "f4"
         },
         "xaxis": "x2",
         "y": {
          "bdata": "9j1jQQ==",
          "dtype": "f4"
         },
         "yaxis": "y2"
        },
        {
         "legendgroup": "pred",
         "marker": {
          "color": "#e377c2",
          "size": 6
         },
         "mode": "markers",
         "name": "Pred Group 81",
         "showlegend": false,
         "type": "scatter",
         "x": {
          "bdata": "G4Z0Qg==",
          "dtype": "f4"
         },
         "xaxis": "x2",
         "y": {
          "bdata": "gskoQA==",
          "dtype": "f4"
         },
         "yaxis": "y2"
        },
        {
         "legendgroup": "pred",
         "marker": {
          "color": "#e377c2",
          "size": 6
         },
         "mode": "markers",
         "name": "Pred Group 82",
         "showlegend": false,
         "type": "scatter",
         "x": {
          "bdata": "MRqMQQ==",
          "dtype": "f4"
         },
         "xaxis": "x2",
         "y": {
          "bdata": "BJx7wQ==",
          "dtype": "f4"
         },
         "yaxis": "y2"
        },
        {
         "legendgroup": "pred",
         "marker": {
          "color": "#e377c2",
          "size": 6
         },
         "mode": "markers",
         "name": "Pred Group 83",
         "showlegend": false,
         "type": "scatter",
         "x": {
          "bdata": "qs2Awg==",
          "dtype": "f4"
         },
         "xaxis": "x2",
         "y": {
          "bdata": "HC7HwQ==",
          "dtype": "f4"
         },
         "yaxis": "y2"
        },
        {
         "legendgroup": "pred",
         "marker": {
          "color": "#e377c2",
          "size": 6
         },
         "mode": "markers",
         "name": "Pred Group 84",
         "showlegend": false,
         "type": "scatter",
         "x": {
          "bdata": "t68awA==",
          "dtype": "f4"
         },
         "xaxis": "x2",
         "y": {
          "bdata": "sloIwg==",
          "dtype": "f4"
         },
         "yaxis": "y2"
        },
        {
         "legendgroup": "pred",
         "marker": {
          "color": "#e377c2",
          "size": 6
         },
         "mode": "markers",
         "name": "Pred Group 85",
         "showlegend": false,
         "type": "scatter",
         "x": {
          "bdata": "ue1Bwg==",
          "dtype": "f4"
         },
         "xaxis": "x2",
         "y": {
          "bdata": "PVE1wg==",
          "dtype": "f4"
         },
         "yaxis": "y2"
        },
        {
         "legendgroup": "pred",
         "marker": {
          "color": "#e377c2",
          "size": 6
         },
         "mode": "markers",
         "name": "Pred Group 86",
         "showlegend": false,
         "type": "scatter",
         "x": {
          "bdata": "CUcEwg==",
          "dtype": "f4"
         },
         "xaxis": "x2",
         "y": {
          "bdata": "p9zbQA==",
          "dtype": "f4"
         },
         "yaxis": "y2"
        },
        {
         "legendgroup": "pred",
         "marker": {
          "color": "#f7b6d2",
          "size": 6
         },
         "mode": "markers",
         "name": "Pred Group 87",
         "showlegend": false,
         "type": "scatter",
         "x": {
          "bdata": "hTBFwQ==",
          "dtype": "f4"
         },
         "xaxis": "x2",
         "y": {
          "bdata": "Ff/yQQ==",
          "dtype": "f4"
         },
         "yaxis": "y2"
        },
        {
         "legendgroup": "pred",
         "marker": {
          "color": "#f7b6d2",
          "size": 6
         },
         "mode": "markers",
         "name": "Pred Group 88",
         "showlegend": false,
         "type": "scatter",
         "x": {
          "bdata": "vh9hQg==",
          "dtype": "f4"
         },
         "xaxis": "x2",
         "y": {
          "bdata": "pJZ7Pw==",
          "dtype": "f4"
         },
         "yaxis": "y2"
        },
        {
         "legendgroup": "pred",
         "marker": {
          "color": "#f7b6d2",
          "size": 6
         },
         "mode": "markers",
         "name": "Pred Group 89",
         "showlegend": false,
         "type": "scatter",
         "x": {
          "bdata": "HQszQg==",
          "dtype": "f4"
         },
         "xaxis": "x2",
         "y": {
          "bdata": "3xcMQg==",
          "dtype": "f4"
         },
         "yaxis": "y2"
        },
        {
         "legendgroup": "pred",
         "marker": {
          "color": "#f7b6d2",
          "size": 6
         },
         "mode": "markers",
         "name": "Pred Group 90",
         "showlegend": false,
         "type": "scatter",
         "x": {
          "bdata": "x6rTQQ==",
          "dtype": "f4"
         },
         "xaxis": "x2",
         "y": {
          "bdata": "ySwSQg==",
          "dtype": "f4"
         },
         "yaxis": "y2"
        },
        {
         "legendgroup": "pred",
         "marker": {
          "color": "#f7b6d2",
          "size": 6
         },
         "mode": "markers",
         "name": "Pred Group 91",
         "showlegend": false,
         "type": "scatter",
         "x": {
          "bdata": "DRRlwg==",
          "dtype": "f4"
         },
         "xaxis": "x2",
         "y": {
          "bdata": "NoAUwg==",
          "dtype": "f4"
         },
         "yaxis": "y2"
        },
        {
         "legendgroup": "pred",
         "marker": {
          "color": "#f7b6d2",
          "size": 6
         },
         "mode": "markers",
         "name": "Pred Group 92",
         "showlegend": false,
         "type": "scatter",
         "x": {
          "bdata": "Crf9vw==",
          "dtype": "f4"
         },
         "xaxis": "x2",
         "y": {
          "bdata": "0pQIwg==",
          "dtype": "f4"
         },
         "yaxis": "y2"
        },
        {
         "legendgroup": "pred",
         "marker": {
          "color": "#f7b6d2",
          "size": 6
         },
         "mode": "markers",
         "name": "Pred Group 93",
         "showlegend": false,
         "type": "scatter",
         "x": {
          "bdata": "s47Avw==",
          "dtype": "f4"
         },
         "xaxis": "x2",
         "y": {
          "bdata": "yK6uwQ==",
          "dtype": "f4"
         },
         "yaxis": "y2"
        },
        {
         "legendgroup": "pred",
         "marker": {
          "color": "#7f7f7f",
          "size": 6
         },
         "mode": "markers",
         "name": "Pred Group 94",
         "showlegend": false,
         "type": "scatter",
         "x": {
          "bdata": "67cQQg==",
          "dtype": "f4"
         },
         "xaxis": "x2",
         "y": {
          "bdata": "I5N0Qg==",
          "dtype": "f4"
         },
         "yaxis": "y2"
        },
        {
         "legendgroup": "pred",
         "marker": {
          "color": "#7f7f7f",
          "size": 6
         },
         "mode": "markers",
         "name": "Pred Group 95",
         "showlegend": false,
         "type": "scatter",
         "x": {
          "bdata": "opxlwg==",
          "dtype": "f4"
         },
         "xaxis": "x2",
         "y": {
          "bdata": "8oudQQ==",
          "dtype": "f4"
         },
         "yaxis": "y2"
        },
        {
         "legendgroup": "pred",
         "marker": {
          "color": "#7f7f7f",
          "size": 6
         },
         "mode": "markers",
         "name": "Pred Group 96",
         "showlegend": false,
         "type": "scatter",
         "x": {
          "bdata": "Wq52wg==",
          "dtype": "f4"
         },
         "xaxis": "x2",
         "y": {
          "bdata": "ZLUWwg==",
          "dtype": "f4"
         },
         "yaxis": "y2"
        },
        {
         "legendgroup": "pred",
         "marker": {
          "color": "#7f7f7f",
          "size": 6
         },
         "mode": "markers",
         "name": "Pred Group 97",
         "showlegend": false,
         "type": "scatter",
         "x": {
          "bdata": "1x8ewg==",
          "dtype": "f4"
         },
         "xaxis": "x2",
         "y": {
          "bdata": "wVhjwg==",
          "dtype": "f4"
         },
         "yaxis": "y2"
        },
        {
         "legendgroup": "pred",
         "marker": {
          "color": "#7f7f7f",
          "size": 6
         },
         "mode": "markers",
         "name": "Pred Group 98",
         "showlegend": false,
         "type": "scatter",
         "x": {
          "bdata": "uTfAQQ==",
          "dtype": "f4"
         },
         "xaxis": "x2",
         "y": {
          "bdata": "h/UiQg==",
          "dtype": "f4"
         },
         "yaxis": "y2"
        },
        {
         "legendgroup": "pred",
         "marker": {
          "color": "#7f7f7f",
          "size": 6
         },
         "mode": "markers",
         "name": "Pred Group 99",
         "showlegend": false,
         "type": "scatter",
         "x": {
          "bdata": "Rp58wg==",
          "dtype": "f4"
         },
         "xaxis": "x2",
         "y": {
          "bdata": "iejVwQ==",
          "dtype": "f4"
         },
         "yaxis": "y2"
        },
        {
         "legendgroup": "pred",
         "marker": {
          "color": "#c7c7c7",
          "size": 6
         },
         "mode": "markers",
         "name": "Pred Group 100",
         "showlegend": false,
         "type": "scatter",
         "x": {
          "bdata": "4LjbQQ==",
          "dtype": "f4"
         },
         "xaxis": "x2",
         "y": {
          "bdata": "KVVZQg==",
          "dtype": "f4"
         },
         "yaxis": "y2"
        },
        {
         "legendgroup": "pred",
         "marker": {
          "color": "#c7c7c7",
          "size": 6
         },
         "mode": "markers",
         "name": "Pred Group 101",
         "showlegend": false,
         "type": "scatter",
         "x": {
          "bdata": "Cd4YQg==",
          "dtype": "f4"
         },
         "xaxis": "x2",
         "y": {
          "bdata": "ewD/wQ==",
          "dtype": "f4"
         },
         "yaxis": "y2"
        },
        {
         "legendgroup": "pred",
         "marker": {
          "color": "#c7c7c7",
          "size": 6
         },
         "mode": "markers",
         "name": "Pred Group 102",
         "showlegend": false,
         "type": "scatter",
         "x": {
          "bdata": "VOTSwQ==",
          "dtype": "f4"
         },
         "xaxis": "x2",
         "y": {
          "bdata": "PTQAwg==",
          "dtype": "f4"
         },
         "yaxis": "y2"
        },
        {
         "legendgroup": "pred",
         "marker": {
          "color": "#c7c7c7",
          "size": 6
         },
         "mode": "markers",
         "name": "Pred Group 103",
         "showlegend": false,
         "type": "scatter",
         "x": {
          "bdata": "b5gbwg==",
          "dtype": "f4"
         },
         "xaxis": "x2",
         "y": {
          "bdata": "Qjhkwg==",
          "dtype": "f4"
         },
         "yaxis": "y2"
        },
        {
         "legendgroup": "pred",
         "marker": {
          "color": "#c7c7c7",
          "size": 6
         },
         "mode": "markers",
         "name": "Pred Group 104",
         "showlegend": false,
         "type": "scatter",
         "x": {
          "bdata": "RaB4wg==",
          "dtype": "f4"
         },
         "xaxis": "x2",
         "y": {
          "bdata": "1s8Wwg==",
          "dtype": "f4"
         },
         "yaxis": "y2"
        },
        {
         "legendgroup": "pred",
         "marker": {
          "color": "#c7c7c7",
          "size": 6
         },
         "mode": "markers",
         "name": "Pred Group 105",
         "showlegend": false,
         "type": "scatter",
         "x": {
          "bdata": "9NTaQQ==",
          "dtype": "f4"
         },
         "xaxis": "x2",
         "y": {
          "bdata": "W0NfQg==",
          "dtype": "f4"
         },
         "yaxis": "y2"
        },
        {
         "legendgroup": "pred",
         "marker": {
          "color": "#c7c7c7",
          "size": 6
         },
         "mode": "markers",
         "name": "Pred Group 106",
         "showlegend": false,
         "type": "scatter",
         "x": {
          "bdata": "xWB2Qg==",
          "dtype": "f4"
         },
         "xaxis": "x2",
         "y": {
          "bdata": "avh/QA==",
          "dtype": "f4"
         },
         "yaxis": "y2"
        },
        {
         "legendgroup": "pred",
         "marker": {
          "color": "#bcbd22",
          "size": 6
         },
         "mode": "markers",
         "name": "Pred Group 107",
         "showlegend": false,
         "type": "scatter",
         "x": {
          "bdata": "8jd3wQ==",
          "dtype": "f4"
         },
         "xaxis": "x2",
         "y": {
          "bdata": "Za0Pwg==",
          "dtype": "f4"
         },
         "yaxis": "y2"
        },
        {
         "legendgroup": "pred",
         "marker": {
          "color": "#bcbd22",
          "size": 6
         },
         "mode": "markers",
         "name": "Pred Group 108",
         "showlegend": false,
         "type": "scatter",
         "x": {
          "bdata": "o/cXQg==",
          "dtype": "f4"
         },
         "xaxis": "x2",
         "y": {
          "bdata": "I8R3Qg==",
          "dtype": "f4"
         },
         "yaxis": "y2"
        },
        {
         "legendgroup": "pred",
         "marker": {
          "color": "#bcbd22",
          "size": 6
         },
         "mode": "markers",
         "name": "Pred Group 109",
         "showlegend": false,
         "type": "scatter",
         "x": {
          "bdata": "LZ2LQg==",
          "dtype": "f4"
         },
         "xaxis": "x2",
         "y": {
          "bdata": "2/FOwQ==",
          "dtype": "f4"
         },
         "yaxis": "y2"
        },
        {
         "legendgroup": "pred",
         "marker": {
          "color": "#bcbd22",
          "size": 6
         },
         "mode": "markers",
         "name": "Pred Group 110",
         "showlegend": false,
         "type": "scatter",
         "x": {
          "bdata": "Q/OBQg==",
          "dtype": "f4"
         },
         "xaxis": "x2",
         "y": {
          "bdata": "puSkwQ==",
          "dtype": "f4"
         },
         "yaxis": "y2"
        },
        {
         "legendgroup": "pred",
         "marker": {
          "color": "#bcbd22",
          "size": 6
         },
         "mode": "markers",
         "name": "Pred Group 111",
         "showlegend": false,
         "type": "scatter",
         "x": {
          "bdata": "qtocQQ==",
          "dtype": "f4"
         },
         "xaxis": "x2",
         "y": {
          "bdata": "q1dOQg==",
          "dtype": "f4"
         },
         "yaxis": "y2"
        },
        {
         "legendgroup": "pred",
         "marker": {
          "color": "#bcbd22",
          "size": 6
         },
         "mode": "markers",
         "name": "Pred Group 112",
         "showlegend": false,
         "type": "scatter",
         "x": {
          "bdata": "kvJUwQ==",
          "dtype": "f4"
         },
         "xaxis": "x2",
         "y": {
          "bdata": "IUzTwQ==",
          "dtype": "f4"
         },
         "yaxis": "y2"
        },
        {
         "legendgroup": "pred",
         "marker": {
          "color": "#bcbd22",
          "size": 6
         },
         "mode": "markers",
         "name": "Pred Group 113",
         "showlegend": false,
         "type": "scatter",
         "x": {
          "bdata": "mfVPQQ==",
          "dtype": "f4"
         },
         "xaxis": "x2",
         "y": {
          "bdata": "1S6zQQ==",
          "dtype": "f4"
         },
         "yaxis": "y2"
        },
        {
         "legendgroup": "pred",
         "marker": {
          "color": "#dbdb8d",
          "size": 6
         },
         "mode": "markers",
         "name": "Pred Group 114",
         "showlegend": false,
         "type": "scatter",
         "x": {
          "bdata": "Yzwbwg==",
          "dtype": "f4"
         },
         "xaxis": "x2",
         "y": {
          "bdata": "qeHGwA==",
          "dtype": "f4"
         },
         "yaxis": "y2"
        },
        {
         "legendgroup": "pred",
         "marker": {
          "color": "#dbdb8d",
          "size": 6
         },
         "mode": "markers",
         "name": "Pred Group 115",
         "showlegend": false,
         "type": "scatter",
         "x": {
          "bdata": "sZQVQg==",
          "dtype": "f4"
         },
         "xaxis": "x2",
         "y": {
          "bdata": "KHUCwg==",
          "dtype": "f4"
         },
         "yaxis": "y2"
        },
        {
         "legendgroup": "pred",
         "marker": {
          "color": "#dbdb8d",
          "size": 6
         },
         "mode": "markers",
         "name": "Pred Group 116",
         "showlegend": false,
         "type": "scatter",
         "x": {
          "bdata": "Z9w+wQ==",
          "dtype": "f4"
         },
         "xaxis": "x2",
         "y": {
          "bdata": "tbCAwg==",
          "dtype": "f4"
         },
         "yaxis": "y2"
        },
        {
         "legendgroup": "pred",
         "marker": {
          "color": "#dbdb8d",
          "size": 6
         },
         "mode": "markers",
         "name": "Pred Group 117",
         "showlegend": false,
         "type": "scatter",
         "x": {
          "bdata": "JLQnwg==",
          "dtype": "f4"
         },
         "xaxis": "x2",
         "y": {
          "bdata": "trrJQQ==",
          "dtype": "f4"
         },
         "yaxis": "y2"
        },
        {
         "legendgroup": "pred",
         "marker": {
          "color": "#dbdb8d",
          "size": 6
         },
         "mode": "markers",
         "name": "Pred Group 118",
         "showlegend": false,
         "type": "scatter",
         "x": {
          "bdata": "5q9Awg==",
          "dtype": "f4"
         },
         "xaxis": "x2",
         "y": {
          "bdata": "eo07wg==",
          "dtype": "f4"
         },
         "yaxis": "y2"
        },
        {
         "legendgroup": "pred",
         "marker": {
          "color": "#dbdb8d",
          "size": 6
         },
         "mode": "markers",
         "name": "Pred Group 119",
         "showlegend": false,
         "type": "scatter",
         "x": {
          "bdata": "5ps1wg==",
          "dtype": "f4"
         },
         "xaxis": "x2",
         "y": {
          "bdata": "Bh4Fwg==",
          "dtype": "f4"
         },
         "yaxis": "y2"
        },
        {
         "legendgroup": "pred",
         "marker": {
          "color": "#17becf",
          "size": 6
         },
         "mode": "markers",
         "name": "Pred Group 120",
         "showlegend": false,
         "type": "scatter",
         "x": {
          "bdata": "QBmYQQ==",
          "dtype": "f4"
         },
         "xaxis": "x2",
         "y": {
          "bdata": "hreEwA==",
          "dtype": "f4"
         },
         "yaxis": "y2"
        },
        {
         "legendgroup": "pred",
         "marker": {
          "color": "#17becf",
          "size": 6
         },
         "mode": "markers",
         "name": "Pred Group 121",
         "showlegend": false,
         "type": "scatter",
         "x": {
          "bdata": "uquBwQ==",
          "dtype": "f4"
         },
         "xaxis": "x2",
         "y": {
          "bdata": "IbeCwg==",
          "dtype": "f4"
         },
         "yaxis": "y2"
        },
        {
         "legendgroup": "pred",
         "marker": {
          "color": "#17becf",
          "size": 6
         },
         "mode": "markers",
         "name": "Pred Group 122",
         "showlegend": false,
         "type": "scatter",
         "x": {
          "bdata": "PPELwg==",
          "dtype": "f4"
         },
         "xaxis": "x2",
         "y": {
          "bdata": "bbkFwg==",
          "dtype": "f4"
         },
         "yaxis": "y2"
        },
        {
         "legendgroup": "pred",
         "marker": {
          "color": "#17becf",
          "size": 6
         },
         "mode": "markers",
         "name": "Pred Group 123",
         "showlegend": false,
         "type": "scatter",
         "x": {
          "bdata": "1/xKwQ==",
          "dtype": "f4"
         },
         "xaxis": "x2",
         "y": {
          "bdata": "SLCAwg==",
          "dtype": "f4"
         },
         "yaxis": "y2"
        },
        {
         "legendgroup": "pred",
         "marker": {
          "color": "#17becf",
          "size": 6
         },
         "mode": "markers",
         "name": "Pred Group 124",
         "showlegend": false,
         "type": "scatter",
         "x": {
          "bdata": "2S0ewQ==",
          "dtype": "f4"
         },
         "xaxis": "x2",
         "y": {
          "bdata": "GB02wQ==",
          "dtype": "f4"
         },
         "yaxis": "y2"
        },
        {
         "legendgroup": "pred",
         "marker": {
          "color": "#17becf",
          "size": 6
         },
         "mode": "markers",
         "name": "Pred Group 125",
         "showlegend": false,
         "type": "scatter",
         "x": {
          "bdata": "mpb3wQ==",
          "dtype": "f4"
         },
         "xaxis": "x2",
         "y": {
          "bdata": "sQ/EwQ==",
          "dtype": "f4"
         },
         "yaxis": "y2"
        },
        {
         "legendgroup": "pred",
         "marker": {
          "color": "#17becf",
          "size": 6
         },
         "mode": "markers",
         "name": "Pred Group 126",
         "showlegend": false,
         "type": "scatter",
         "x": {
          "bdata": "j0ARQA==",
          "dtype": "f4"
         },
         "xaxis": "x2",
         "y": {
          "bdata": "LbAcQA==",
          "dtype": "f4"
         },
         "yaxis": "y2"
        },
        {
         "legendgroup": "pred",
         "marker": {
          "color": "#9edae5",
          "size": 6
         },
         "mode": "markers",
         "name": "Pred Group 127",
         "showlegend": false,
         "type": "scatter",
         "x": {
          "bdata": "8ZEPwg==",
          "dtype": "f4"
         },
         "xaxis": "x2",
         "y": {
          "bdata": "Yexnwg==",
          "dtype": "f4"
         },
         "yaxis": "y2"
        },
        {
         "legendgroup": "pred",
         "marker": {
          "color": "#9edae5",
          "size": 6
         },
         "mode": "markers",
         "name": "Pred Group 128",
         "showlegend": false,
         "type": "scatter",
         "x": {
          "bdata": "uqEUwg==",
          "dtype": "f4"
         },
         "xaxis": "x2",
         "y": {
          "bdata": "Tm1mwg==",
          "dtype": "f4"
         },
         "yaxis": "y2"
        },
        {
         "legendgroup": "pred",
         "marker": {
          "color": "#9edae5",
          "size": 6
         },
         "mode": "markers",
         "name": "Pred Group 129",
         "showlegend": false,
         "type": "scatter",
         "x": {
          "bdata": "3TcMwg==",
          "dtype": "f4"
         },
         "xaxis": "x2",
         "y": {
          "bdata": "4IXBvw==",
          "dtype": "f4"
         },
         "yaxis": "y2"
        },
        {
         "legendgroup": "pred",
         "marker": {
          "color": "#9edae5",
          "size": 6
         },
         "mode": "markers",
         "name": "Pred Group 130",
         "showlegend": false,
         "type": "scatter",
         "x": {
          "bdata": "gyUwwg==",
          "dtype": "f4"
         },
         "xaxis": "x2",
         "y": {
          "bdata": "W5C4wQ==",
          "dtype": "f4"
         },
         "yaxis": "y2"
        },
        {
         "legendgroup": "pred",
         "marker": {
          "color": "#9edae5",
          "size": 6
         },
         "mode": "markers",
         "name": "Pred Group 131",
         "showlegend": false,
         "type": "scatter",
         "x": {
          "bdata": "ANARwg==",
          "dtype": "f4"
         },
         "xaxis": "x2",
         "y": {
          "bdata": "5wVBwQ==",
          "dtype": "f4"
         },
         "yaxis": "y2"
        },
        {
         "legendgroup": "pred",
         "marker": {
          "color": "#9edae5",
          "size": 6
         },
         "mode": "markers",
         "name": "Pred Group 132",
         "showlegend": false,
         "type": "scatter",
         "x": {
          "bdata": "QZvFQQ==",
          "dtype": "f4"
         },
         "xaxis": "x2",
         "y": {
          "bdata": "gkFSQg==",
          "dtype": "f4"
         },
         "yaxis": "y2"
        },
        {
         "legendgroup": "pred",
         "marker": {
          "color": "#9edae5",
          "size": 6
         },
         "mode": "markers",
         "name": "Pred Group 133",
         "showlegend": false,
         "type": "scatter",
         "x": {
          "bdata": "pkvcwQ==",
          "dtype": "f4"
         },
         "xaxis": "x2",
         "y": {
          "bdata": "tvByQA==",
          "dtype": "f4"
         },
         "yaxis": "y2"
        }
       ],
       "layout": {
        "annotations": [
         {
          "font": {
           "size": 16
          },
          "showarrow": false,
          "text": "Clusters of 2D Embeddings gt",
          "x": 0.225,
          "xanchor": "center",
          "xref": "paper",
          "y": 1,
          "yanchor": "bottom",
          "yref": "paper"
         },
         {
          "font": {
           "size": 16
          },
          "showarrow": false,
          "text": "Clusters of 2D Embeddings pred",
          "x": 0.775,
          "xanchor": "center",
          "xref": "paper",
          "y": 1,
          "yanchor": "bottom",
          "yref": "paper"
         }
        ],
        "height": 600,
        "showlegend": true,
        "template": {
         "data": {
          "bar": [
           {
            "error_x": {
             "color": "#2a3f5f"
            },
            "error_y": {
             "color": "#2a3f5f"
            },
            "marker": {
             "line": {
              "color": "#E5ECF6",
              "width": 0.5
             },
             "pattern": {
              "fillmode": "overlay",
              "size": 10,
              "solidity": 0.2
             }
            },
            "type": "bar"
           }
          ],
          "barpolar": [
           {
            "marker": {
             "line": {
              "color": "#E5ECF6",
              "width": 0.5
             },
             "pattern": {
              "fillmode": "overlay",
              "size": 10,
              "solidity": 0.2
             }
            },
            "type": "barpolar"
           }
          ],
          "carpet": [
           {
            "aaxis": {
             "endlinecolor": "#2a3f5f",
             "gridcolor": "white",
             "linecolor": "white",
             "minorgridcolor": "white",
             "startlinecolor": "#2a3f5f"
            },
            "baxis": {
             "endlinecolor": "#2a3f5f",
             "gridcolor": "white",
             "linecolor": "white",
             "minorgridcolor": "white",
             "startlinecolor": "#2a3f5f"
            },
            "type": "carpet"
           }
          ],
          "choropleth": [
           {
            "colorbar": {
             "outlinewidth": 0,
             "ticks": ""
            },
            "type": "choropleth"
           }
          ],
          "contour": [
           {
            "colorbar": {
             "outlinewidth": 0,
             "ticks": ""
            },
            "colorscale": [
             [
              0,
              "#0d0887"
             ],
             [
              0.1111111111111111,
              "#46039f"
             ],
             [
              0.2222222222222222,
              "#7201a8"
             ],
             [
              0.3333333333333333,
              "#9c179e"
             ],
             [
              0.4444444444444444,
              "#bd3786"
             ],
             [
              0.5555555555555556,
              "#d8576b"
             ],
             [
              0.6666666666666666,
              "#ed7953"
             ],
             [
              0.7777777777777778,
              "#fb9f3a"
             ],
             [
              0.8888888888888888,
              "#fdca26"
             ],
             [
              1,
              "#f0f921"
             ]
            ],
            "type": "contour"
           }
          ],
          "contourcarpet": [
           {
            "colorbar": {
             "outlinewidth": 0,
             "ticks": ""
            },
            "type": "contourcarpet"
           }
          ],
          "heatmap": [
           {
            "colorbar": {
             "outlinewidth": 0,
             "ticks": ""
            },
            "colorscale": [
             [
              0,
              "#0d0887"
             ],
             [
              0.1111111111111111,
              "#46039f"
             ],
             [
              0.2222222222222222,
              "#7201a8"
             ],
             [
              0.3333333333333333,
              "#9c179e"
             ],
             [
              0.4444444444444444,
              "#bd3786"
             ],
             [
              0.5555555555555556,
              "#d8576b"
             ],
             [
              0.6666666666666666,
              "#ed7953"
             ],
             [
              0.7777777777777778,
              "#fb9f3a"
             ],
             [
              0.8888888888888888,
              "#fdca26"
             ],
             [
              1,
              "#f0f921"
             ]
            ],
            "type": "heatmap"
           }
          ],
          "histogram": [
           {
            "marker": {
             "pattern": {
              "fillmode": "overlay",
              "size": 10,
              "solidity": 0.2
             }
            },
            "type": "histogram"
           }
          ],
          "histogram2d": [
           {
            "colorbar": {
             "outlinewidth": 0,
             "ticks": ""
            },
            "colorscale": [
             [
              0,
              "#0d0887"
             ],
             [
              0.1111111111111111,
              "#46039f"
             ],
             [
              0.2222222222222222,
              "#7201a8"
             ],
             [
              0.3333333333333333,
              "#9c179e"
             ],
             [
              0.4444444444444444,
              "#bd3786"
             ],
             [
              0.5555555555555556,
              "#d8576b"
             ],
             [
              0.6666666666666666,
              "#ed7953"
             ],
             [
              0.7777777777777778,
              "#fb9f3a"
             ],
             [
              0.8888888888888888,
              "#fdca26"
             ],
             [
              1,
              "#f0f921"
             ]
            ],
            "type": "histogram2d"
           }
          ],
          "histogram2dcontour": [
           {
            "colorbar": {
             "outlinewidth": 0,
             "ticks": ""
            },
            "colorscale": [
             [
              0,
              "#0d0887"
             ],
             [
              0.1111111111111111,
              "#46039f"
             ],
             [
              0.2222222222222222,
              "#7201a8"
             ],
             [
              0.3333333333333333,
              "#9c179e"
             ],
             [
              0.4444444444444444,
              "#bd3786"
             ],
             [
              0.5555555555555556,
              "#d8576b"
             ],
             [
              0.6666666666666666,
              "#ed7953"
             ],
             [
              0.7777777777777778,
              "#fb9f3a"
             ],
             [
              0.8888888888888888,
              "#fdca26"
             ],
             [
              1,
              "#f0f921"
             ]
            ],
            "type": "histogram2dcontour"
           }
          ],
          "mesh3d": [
           {
            "colorbar": {
             "outlinewidth": 0,
             "ticks": ""
            },
            "type": "mesh3d"
           }
          ],
          "parcoords": [
           {
            "line": {
             "colorbar": {
              "outlinewidth": 0,
              "ticks": ""
             }
            },
            "type": "parcoords"
           }
          ],
          "pie": [
           {
            "automargin": true,
            "type": "pie"
           }
          ],
          "scatter": [
           {
            "fillpattern": {
             "fillmode": "overlay",
             "size": 10,
             "solidity": 0.2
            },
            "type": "scatter"
           }
          ],
          "scatter3d": [
           {
            "line": {
             "colorbar": {
              "outlinewidth": 0,
              "ticks": ""
             }
            },
            "marker": {
             "colorbar": {
              "outlinewidth": 0,
              "ticks": ""
             }
            },
            "type": "scatter3d"
           }
          ],
          "scattercarpet": [
           {
            "marker": {
             "colorbar": {
              "outlinewidth": 0,
              "ticks": ""
             }
            },
            "type": "scattercarpet"
           }
          ],
          "scattergeo": [
           {
            "marker": {
             "colorbar": {
              "outlinewidth": 0,
              "ticks": ""
             }
            },
            "type": "scattergeo"
           }
          ],
          "scattergl": [
           {
            "marker": {
             "colorbar": {
              "outlinewidth": 0,
              "ticks": ""
             }
            },
            "type": "scattergl"
           }
          ],
          "scattermap": [
           {
            "marker": {
             "colorbar": {
              "outlinewidth": 0,
              "ticks": ""
             }
            },
            "type": "scattermap"
           }
          ],
          "scattermapbox": [
           {
            "marker": {
             "colorbar": {
              "outlinewidth": 0,
              "ticks": ""
             }
            },
            "type": "scattermapbox"
           }
          ],
          "scatterpolar": [
           {
            "marker": {
             "colorbar": {
              "outlinewidth": 0,
              "ticks": ""
             }
            },
            "type": "scatterpolar"
           }
          ],
          "scatterpolargl": [
           {
            "marker": {
             "colorbar": {
              "outlinewidth": 0,
              "ticks": ""
             }
            },
            "type": "scatterpolargl"
           }
          ],
          "scatterternary": [
           {
            "marker": {
             "colorbar": {
              "outlinewidth": 0,
              "ticks": ""
             }
            },
            "type": "scatterternary"
           }
          ],
          "surface": [
           {
            "colorbar": {
             "outlinewidth": 0,
             "ticks": ""
            },
            "colorscale": [
             [
              0,
              "#0d0887"
             ],
             [
              0.1111111111111111,
              "#46039f"
             ],
             [
              0.2222222222222222,
              "#7201a8"
             ],
             [
              0.3333333333333333,
              "#9c179e"
             ],
             [
              0.4444444444444444,
              "#bd3786"
             ],
             [
              0.5555555555555556,
              "#d8576b"
             ],
             [
              0.6666666666666666,
              "#ed7953"
             ],
             [
              0.7777777777777778,
              "#fb9f3a"
             ],
             [
              0.8888888888888888,
              "#fdca26"
             ],
             [
              1,
              "#f0f921"
             ]
            ],
            "type": "surface"
           }
          ],
          "table": [
           {
            "cells": {
             "fill": {
              "color": "#EBF0F8"
             },
             "line": {
              "color": "white"
             }
            },
            "header": {
             "fill": {
              "color": "#C8D4E3"
             },
             "line": {
              "color": "white"
             }
            },
            "type": "table"
           }
          ]
         },
         "layout": {
          "annotationdefaults": {
           "arrowcolor": "#2a3f5f",
           "arrowhead": 0,
           "arrowwidth": 1
          },
          "autotypenumbers": "strict",
          "coloraxis": {
           "colorbar": {
            "outlinewidth": 0,
            "ticks": ""
           }
          },
          "colorscale": {
           "diverging": [
            [
             0,
             "#8e0152"
            ],
            [
             0.1,
             "#c51b7d"
            ],
            [
             0.2,
             "#de77ae"
            ],
            [
             0.3,
             "#f1b6da"
            ],
            [
             0.4,
             "#fde0ef"
            ],
            [
             0.5,
             "#f7f7f7"
            ],
            [
             0.6,
             "#e6f5d0"
            ],
            [
             0.7,
             "#b8e186"
            ],
            [
             0.8,
             "#7fbc41"
            ],
            [
             0.9,
             "#4d9221"
            ],
            [
             1,
             "#276419"
            ]
           ],
           "sequential": [
            [
             0,
             "#0d0887"
            ],
            [
             0.1111111111111111,
             "#46039f"
            ],
            [
             0.2222222222222222,
             "#7201a8"
            ],
            [
             0.3333333333333333,
             "#9c179e"
            ],
            [
             0.4444444444444444,
             "#bd3786"
            ],
            [
             0.5555555555555556,
             "#d8576b"
            ],
            [
             0.6666666666666666,
             "#ed7953"
            ],
            [
             0.7777777777777778,
             "#fb9f3a"
            ],
            [
             0.8888888888888888,
             "#fdca26"
            ],
            [
             1,
             "#f0f921"
            ]
           ],
           "sequentialminus": [
            [
             0,
             "#0d0887"
            ],
            [
             0.1111111111111111,
             "#46039f"
            ],
            [
             0.2222222222222222,
             "#7201a8"
            ],
            [
             0.3333333333333333,
             "#9c179e"
            ],
            [
             0.4444444444444444,
             "#bd3786"
            ],
            [
             0.5555555555555556,
             "#d8576b"
            ],
            [
             0.6666666666666666,
             "#ed7953"
            ],
            [
             0.7777777777777778,
             "#fb9f3a"
            ],
            [
             0.8888888888888888,
             "#fdca26"
            ],
            [
             1,
             "#f0f921"
            ]
           ]
          },
          "colorway": [
           "#636efa",
           "#EF553B",
           "#00cc96",
           "#ab63fa",
           "#FFA15A",
           "#19d3f3",
           "#FF6692",
           "#B6E880",
           "#FF97FF",
           "#FECB52"
          ],
          "font": {
           "color": "#2a3f5f"
          },
          "geo": {
           "bgcolor": "white",
           "lakecolor": "white",
           "landcolor": "#E5ECF6",
           "showlakes": true,
           "showland": true,
           "subunitcolor": "white"
          },
          "hoverlabel": {
           "align": "left"
          },
          "hovermode": "closest",
          "mapbox": {
           "style": "light"
          },
          "paper_bgcolor": "white",
          "plot_bgcolor": "#E5ECF6",
          "polar": {
           "angularaxis": {
            "gridcolor": "white",
            "linecolor": "white",
            "ticks": ""
           },
           "bgcolor": "#E5ECF6",
           "radialaxis": {
            "gridcolor": "white",
            "linecolor": "white",
            "ticks": ""
           }
          },
          "scene": {
           "xaxis": {
            "backgroundcolor": "#E5ECF6",
            "gridcolor": "white",
            "gridwidth": 2,
            "linecolor": "white",
            "showbackground": true,
            "ticks": "",
            "zerolinecolor": "white"
           },
           "yaxis": {
            "backgroundcolor": "#E5ECF6",
            "gridcolor": "white",
            "gridwidth": 2,
            "linecolor": "white",
            "showbackground": true,
            "ticks": "",
            "zerolinecolor": "white"
           },
           "zaxis": {
            "backgroundcolor": "#E5ECF6",
            "gridcolor": "white",
            "gridwidth": 2,
            "linecolor": "white",
            "showbackground": true,
            "ticks": "",
            "zerolinecolor": "white"
           }
          },
          "shapedefaults": {
           "line": {
            "color": "#2a3f5f"
           }
          },
          "ternary": {
           "aaxis": {
            "gridcolor": "white",
            "linecolor": "white",
            "ticks": ""
           },
           "baxis": {
            "gridcolor": "white",
            "linecolor": "white",
            "ticks": ""
           },
           "bgcolor": "#E5ECF6",
           "caxis": {
            "gridcolor": "white",
            "linecolor": "white",
            "ticks": ""
           }
          },
          "title": {
           "x": 0.05
          },
          "xaxis": {
           "automargin": true,
           "gridcolor": "white",
           "linecolor": "white",
           "ticks": "",
           "title": {
            "standoff": 15
           },
           "zerolinecolor": "white",
           "zerolinewidth": 2
          },
          "yaxis": {
           "automargin": true,
           "gridcolor": "white",
           "linecolor": "white",
           "ticks": "",
           "title": {
            "standoff": 15
           },
           "zerolinecolor": "white",
           "zerolinewidth": 2
          }
         }
        },
        "title": {
         "text": "Cluster Comparison: Ground Truth vs Prediction"
        },
        "width": 1000,
        "xaxis": {
         "anchor": "y",
         "domain": [
          0,
          0.45
         ]
        },
        "xaxis2": {
         "anchor": "y2",
         "domain": [
          0.55,
          1
         ]
        },
        "yaxis": {
         "anchor": "x",
         "domain": [
          0,
          1
         ]
        },
        "yaxis2": {
         "anchor": "x2",
         "domain": [
          0,
          1
         ]
        }
       }
      }
     },
     "metadata": {},
     "output_type": "display_data"
    }
   ],
   "source": [
    "model = SentenceTransformer(\"models/tsdae-model\")\n",
    "tsdae_res = test_model(model)"
   ]
  },
  {
   "cell_type": "code",
   "execution_count": 30,
   "id": "13d47006",
   "metadata": {},
   "outputs": [],
   "source": [
    "import numpy as np\n",
    "def plot_res(results):\n",
    "    baseline = oob_res[2]\n",
    "    results['baseline'] = baseline\n",
    "    fig, ax = plt.subplots(layout='constrained')\n",
    "    nr_metrics = 0\n",
    "    for i in results:\n",
    "        nr_metrics = len(results[i].keys())\n",
    "        metrics_names = results[i].keys()\n",
    "        break\n",
    "\n",
    "    width = 0.25\n",
    "    x = np.arange(nr_metrics)\n",
    "    multiplier = 0\n",
    "\n",
    "    for method, metrics in results.items():\n",
    "        offset = width * multiplier\n",
    "        rects = ax.bar(x + offset, list(metrics.values()), width=width, label=method)\n",
    "        ax.bar_label(rects, padding=3)  \n",
    "        multiplier += 1\n",
    "\n",
    "    # Add some text for labels, title and custom x-axis tick labels, etc.\n",
    "    ax.set_ylabel('Score')\n",
    "    ax.set_title('Metrics on clustering task benchmarkv1')\n",
    "    ax.set_xticks(x + width, metrics_names)\n",
    "    ax.legend(loc='upper left', ncols=3)\n",
    "\n",
    "    plt.show()"
   ]
  },
  {
   "cell_type": "markdown",
   "id": "1f4d6f2e",
   "metadata": {},
   "source": [
    "## Trained with SimCSE"
   ]
  },
  {
   "cell_type": "code",
   "execution_count": 32,
   "id": "0d644fd5",
   "metadata": {},
   "outputs": [
    {
     "data": {
      "application/vnd.jupyter.widget-view+json": {
       "model_id": "95b9ea697a3749639d37a69bc6ac6caf",
       "version_major": 2,
       "version_minor": 0
      },
      "text/plain": [
       "Batches:   0%|          | 0/7 [00:00<?, ?it/s]"
      ]
     },
     "metadata": {},
     "output_type": "display_data"
    },
    {
     "data": {
      "application/vnd.jupyter.widget-view+json": {
       "model_id": "859ca96850444eeebd69550575f52881",
       "version_major": 2,
       "version_minor": 0
      },
      "text/plain": [
       "Batches:   0%|          | 0/7 [00:00<?, ?it/s]"
      ]
     },
     "metadata": {},
     "output_type": "display_data"
    },
    {
     "data": {
      "application/vnd.jupyter.widget-view+json": {
       "model_id": "8160ace121e64ec7bd95896a07fc45d5",
       "version_major": 2,
       "version_minor": 0
      },
      "text/plain": [
       "Batches:   0%|          | 0/7 [00:00<?, ?it/s]"
      ]
     },
     "metadata": {},
     "output_type": "display_data"
    },
    {
     "data": {
      "application/vnd.jupyter.widget-view+json": {
       "model_id": "56cdcab88d1c4759aeac7cc73e62f9f5",
       "version_major": 2,
       "version_minor": 0
      },
      "text/plain": [
       "Batches:   0%|          | 0/7 [00:00<?, ?it/s]"
      ]
     },
     "metadata": {},
     "output_type": "display_data"
    },
    {
     "data": {
      "application/vnd.jupyter.widget-view+json": {
       "model_id": "0537e46fe0a2446bb29df45d25eda1ab",
       "version_major": 2,
       "version_minor": 0
      },
      "text/plain": [
       "Batches:   0%|          | 0/7 [00:00<?, ?it/s]"
      ]
     },
     "metadata": {},
     "output_type": "display_data"
    },
    {
     "data": {
      "application/vnd.jupyter.widget-view+json": {
       "model_id": "e7bd88ce75ec42ec87ef220b62b149e3",
       "version_major": 2,
       "version_minor": 0
      },
      "text/plain": [
       "Batches:   0%|          | 0/7 [00:00<?, ?it/s]"
      ]
     },
     "metadata": {},
     "output_type": "display_data"
    },
    {
     "data": {
      "application/vnd.jupyter.widget-view+json": {
       "model_id": "20aa28809a53413499b0611608e364d3",
       "version_major": 2,
       "version_minor": 0
      },
      "text/plain": [
       "Batches:   0%|          | 0/7 [00:00<?, ?it/s]"
      ]
     },
     "metadata": {},
     "output_type": "display_data"
    },
    {
     "data": {
      "application/vnd.jupyter.widget-view+json": {
       "model_id": "e186e43932734b3eae7d0eec1ddccc2d",
       "version_major": 2,
       "version_minor": 0
      },
      "text/plain": [
       "Batches:   0%|          | 0/7 [00:00<?, ?it/s]"
      ]
     },
     "metadata": {},
     "output_type": "display_data"
    },
    {
     "data": {
      "application/vnd.jupyter.widget-view+json": {
       "model_id": "722dcc67ee9949f688b7fddb061bc2b3",
       "version_major": 2,
       "version_minor": 0
      },
      "text/plain": [
       "Batches:   0%|          | 0/7 [00:00<?, ?it/s]"
      ]
     },
     "metadata": {},
     "output_type": "display_data"
    },
    {
     "data": {
      "application/vnd.jupyter.widget-view+json": {
       "model_id": "10b4f59cd6854d00abd0b2cf922d409a",
       "version_major": 2,
       "version_minor": 0
      },
      "text/plain": [
       "Batches:   0%|          | 0/7 [00:00<?, ?it/s]"
      ]
     },
     "metadata": {},
     "output_type": "display_data"
    },
    {
     "data": {
      "application/vnd.jupyter.widget-view+json": {
       "model_id": "6bcb094b456b4c1bac869df63a77db38",
       "version_major": 2,
       "version_minor": 0
      },
      "text/plain": [
       "Batches:   0%|          | 0/7 [00:00<?, ?it/s]"
      ]
     },
     "metadata": {},
     "output_type": "display_data"
    },
    {
     "data": {
      "application/vnd.jupyter.widget-view+json": {
       "model_id": "09c2d3e2e38e45ff9d4341b2544b8ea9",
       "version_major": 2,
       "version_minor": 0
      },
      "text/plain": [
       "Batches:   0%|          | 0/7 [00:00<?, ?it/s]"
      ]
     },
     "metadata": {},
     "output_type": "display_data"
    },
    {
     "data": {
      "application/vnd.jupyter.widget-view+json": {
       "model_id": "b9e63ec6a4ff49be8ef9efb5fff5dc30",
       "version_major": 2,
       "version_minor": 0
      },
      "text/plain": [
       "Batches:   0%|          | 0/7 [00:00<?, ?it/s]"
      ]
     },
     "metadata": {},
     "output_type": "display_data"
    },
    {
     "data": {
      "application/vnd.jupyter.widget-view+json": {
       "model_id": "e5d67f2332f143ff9471d90288423c1b",
       "version_major": 2,
       "version_minor": 0
      },
      "text/plain": [
       "Batches:   0%|          | 0/7 [00:00<?, ?it/s]"
      ]
     },
     "metadata": {},
     "output_type": "display_data"
    },
    {
     "data": {
      "application/vnd.jupyter.widget-view+json": {
       "model_id": "a3932b901a6b4f658447cd76285304d8",
       "version_major": 2,
       "version_minor": 0
      },
      "text/plain": [
       "Batches:   0%|          | 0/7 [00:00<?, ?it/s]"
      ]
     },
     "metadata": {},
     "output_type": "display_data"
    },
    {
     "data": {
      "application/vnd.jupyter.widget-view+json": {
       "model_id": "fad664caf8d049078fb6191d734c3d63",
       "version_major": 2,
       "version_minor": 0
      },
      "text/plain": [
       "Batches:   0%|          | 0/7 [00:00<?, ?it/s]"
      ]
     },
     "metadata": {},
     "output_type": "display_data"
    },
    {
     "data": {
      "application/vnd.jupyter.widget-view+json": {
       "model_id": "c729056e9ada40419b9116bad91abec5",
       "version_major": 2,
       "version_minor": 0
      },
      "text/plain": [
       "Batches:   0%|          | 0/7 [00:00<?, ?it/s]"
      ]
     },
     "metadata": {},
     "output_type": "display_data"
    },
    {
     "data": {
      "application/vnd.jupyter.widget-view+json": {
       "model_id": "bb2b7857ec3b4a88acd9d3e9e898608e",
       "version_major": 2,
       "version_minor": 0
      },
      "text/plain": [
       "Batches:   0%|          | 0/7 [00:00<?, ?it/s]"
      ]
     },
     "metadata": {},
     "output_type": "display_data"
    },
    {
     "data": {
      "application/vnd.jupyter.widget-view+json": {
       "model_id": "62b740eadd5c479f9ea2254cf41596a8",
       "version_major": 2,
       "version_minor": 0
      },
      "text/plain": [
       "Batches:   0%|          | 0/7 [00:00<?, ?it/s]"
      ]
     },
     "metadata": {},
     "output_type": "display_data"
    },
    {
     "data": {
      "application/vnd.jupyter.widget-view+json": {
       "model_id": "cebc218f208c488a9a6f5df9a0d196f3",
       "version_major": 2,
       "version_minor": 0
      },
      "text/plain": [
       "Batches:   0%|          | 0/7 [00:00<?, ?it/s]"
      ]
     },
     "metadata": {},
     "output_type": "display_data"
    },
    {
     "data": {
      "application/vnd.jupyter.widget-view+json": {
       "model_id": "b593ad54b6bc41f699b2d804afd0af54",
       "version_major": 2,
       "version_minor": 0
      },
      "text/plain": [
       "Batches:   0%|          | 0/7 [00:00<?, ?it/s]"
      ]
     },
     "metadata": {},
     "output_type": "display_data"
    },
    {
     "data": {
      "application/vnd.jupyter.widget-view+json": {
       "model_id": "78fe562d1ca549ef96507650d1b19918",
       "version_major": 2,
       "version_minor": 0
      },
      "text/plain": [
       "Batches:   0%|          | 0/7 [00:00<?, ?it/s]"
      ]
     },
     "metadata": {},
     "output_type": "display_data"
    },
    {
     "data": {
      "application/vnd.jupyter.widget-view+json": {
       "model_id": "e18508dde2694c81a5999f94c254b154",
       "version_major": 2,
       "version_minor": 0
      },
      "text/plain": [
       "Batches:   0%|          | 0/7 [00:00<?, ?it/s]"
      ]
     },
     "metadata": {},
     "output_type": "display_data"
    },
    {
     "data": {
      "application/vnd.jupyter.widget-view+json": {
       "model_id": "f639fac5eb054df58bf61485dd0d309b",
       "version_major": 2,
       "version_minor": 0
      },
      "text/plain": [
       "Batches:   0%|          | 0/7 [00:00<?, ?it/s]"
      ]
     },
     "metadata": {},
     "output_type": "display_data"
    },
    {
     "data": {
      "application/vnd.jupyter.widget-view+json": {
       "model_id": "a3526fe525f74a3ba733e6df3c111258",
       "version_major": 2,
       "version_minor": 0
      },
      "text/plain": [
       "Batches:   0%|          | 0/7 [00:00<?, ?it/s]"
      ]
     },
     "metadata": {},
     "output_type": "display_data"
    },
    {
     "data": {
      "application/vnd.jupyter.widget-view+json": {
       "model_id": "ad318e371e874a4989d57153d4e5559d",
       "version_major": 2,
       "version_minor": 0
      },
      "text/plain": [
       "Batches:   0%|          | 0/7 [00:00<?, ?it/s]"
      ]
     },
     "metadata": {},
     "output_type": "display_data"
    },
    {
     "data": {
      "application/vnd.jupyter.widget-view+json": {
       "model_id": "18e7d20373784bdda9da4aba0257be5a",
       "version_major": 2,
       "version_minor": 0
      },
      "text/plain": [
       "Batches:   0%|          | 0/7 [00:00<?, ?it/s]"
      ]
     },
     "metadata": {},
     "output_type": "display_data"
    },
    {
     "data": {
      "application/vnd.jupyter.widget-view+json": {
       "model_id": "abedc2c80a364dc3bc73712149620f1a",
       "version_major": 2,
       "version_minor": 0
      },
      "text/plain": [
       "Batches:   0%|          | 0/7 [00:00<?, ?it/s]"
      ]
     },
     "metadata": {},
     "output_type": "display_data"
    },
    {
     "data": {
      "application/vnd.jupyter.widget-view+json": {
       "model_id": "8b54d5204a6c452ea1bb5afee3ba3c19",
       "version_major": 2,
       "version_minor": 0
      },
      "text/plain": [
       "Batches:   0%|          | 0/7 [00:00<?, ?it/s]"
      ]
     },
     "metadata": {},
     "output_type": "display_data"
    },
    {
     "data": {
      "application/vnd.jupyter.widget-view+json": {
       "model_id": "47f13251c44847dcab8e1ade4d21482e",
       "version_major": 2,
       "version_minor": 0
      },
      "text/plain": [
       "Batches:   0%|          | 0/7 [00:00<?, ?it/s]"
      ]
     },
     "metadata": {},
     "output_type": "display_data"
    },
    {
     "name": "stdout",
     "output_type": "stream",
     "text": [
      "('Best Threshold: 0.9953268251946226;\\n'\n",
      " \"Best scores: {'random score': 0.9625926784059314, 'adjusted random score': \"\n",
      " '0.026858044390481724};\\n'\n",
      " 'Best clusters: [[149, 94, 88, 41, 99, 102, 364, 103, 105, 330, 14, 169, 124, '\n",
      " '104, 227, 252, 126, 93, 95, 203, 98, 354, 52, 120, 133, 217, 100, 108], '\n",
      " '[325, 357, 10, 279, 150, 160, 155, 286, 362, 142, 48, 403, 136, 287, 371, '\n",
      " '263, 277, 9, 38, 214], [405, 391, 60, 390, 402, 396, 395, 370, 6, 392, 399, '\n",
      " '291, 62, 220, 384, 352, 212, 109], [378, 49, 415, 355, 404, 408, 184, 271, '\n",
      " '261, 410, 43, 107, 365, 61, 158, 47, 360], [1, 228, 33, 344, 145, 2, 346, '\n",
      " '244, 284, 273, 289], [195, 144, 288, 275, 197, 154, 329, 85, 50, 219], [13, '\n",
      " '293, 225, 303, 246, 278, 268, 236, 240, 353], [232, 25, 230, 314, 36, 257], '\n",
      " '[188, 4, 46, 336, 259], [172, 114, 56, 171, 28], [376, 53, 401, 397, 381], '\n",
      " '[159, 255, 292, 5], [266, 409, 377, 363], [66, 132, 375, 387], [198, 15, '\n",
      " '348, 258], [147, 213, 74, 82], [237, 345, 242, 231], [256, 32, 35], [380, '\n",
      " '131, 398], [322, 282, 359], [113, 97, 42], [112, 321, 199], [341, 173, 342], '\n",
      " '[305, 315, 316], [106, 110], [55, 205], [26, 210], [320, 111], [235, 248], '\n",
      " '[125, 90], [206, 340], [386, 189], [153, 323], [141, 187], [31, 140], [361, '\n",
      " '218], [270, 318], [191, 92], [234, 350], [24, 23], [379, 400], [241, 238], '\n",
      " '[7, 11], [30, 138], [54, 328], [394, 58], [148, 194], [151, 301], [202, '\n",
      " '226], [208, 306], [269, 358], [283, 285], [304], [389], [249], [34], [294], '\n",
      " '[146], [382], [250], [96], [116], [313], [117], [221], [200], [309], [251], '\n",
      " '[229], [372], [0], [317], [343], [331], [366], [119], [247], [209], [137], '\n",
      " '[80], [101], [272], [335], [254], [139], [274], [393], [152], [134], [170], '\n",
      " '[280], [3], [8], [12], [16], [17], [18], [19], [20], [21], [22], [27], [29], '\n",
      " '[37], [39], [40], [44], [45], [51], [57], [59], [63], [64], [65], [67], '\n",
      " '[68], [69], [70], [71], [72], [73], [75], [76], [77], [78], [79], [81], '\n",
      " '[83], [84], [86], [87], [89], [91], [115], [118], [121], [122], [123], '\n",
      " '[127], [128], [129], [130], [135], [143], [156], [157], [161], [162], [163], '\n",
      " '[164], [165], [166], [167], [168], [174], [175], [176], [177], [178], [179], '\n",
      " '[180], [181], [182], [183], [185], [186], [190], [192], [193], [196], [201], '\n",
      " '[204], [207], [211], [215], [216], [222], [223], [224], [233], [239], [243], '\n",
      " '[245], [253], [260], [262], [264], [265], [267], [276], [281], [290], [295], '\n",
      " '[296], [297], [298], [299], [300], [302], [307], [308], [310], [311], [312], '\n",
      " '[319], [324], [326], [327], [332], [333], [334], [337], [338], [339], [347], '\n",
      " '[349], [351], [356], [367], [368], [369], [373], [374], [383], [385], [388], '\n",
      " '[406], [407], [411], [412], [413], [414]]')\n"
     ]
    },
    {
     "data": {
      "application/vnd.plotly.v1+json": {
       "config": {
        "plotlyServerURL": "https://plot.ly"
       },
       "data": [
        {
         "legendgroup": "gt",
         "marker": {
          "color": "#1f77b4",
          "size": 6
         },
         "mode": "markers",
         "name": "GT Group 0",
         "showlegend": false,
         "type": "scatter",
         "x": {
          "bdata": "Cw6iQV4uv0FzLQFCHAcqwVpxvcEgdHlBFToPwA==",
          "dtype": "f4"
         },
         "xaxis": "x",
         "y": {
          "bdata": "zqmvQGcjlECbLfu/if05wbI07kGFEBzBfhGJwg==",
          "dtype": "f4"
         },
         "yaxis": "y"
        },
        {
         "legendgroup": "gt",
         "marker": {
          "color": "#1f77b4",
          "size": 6
         },
         "mode": "markers",
         "name": "GT Group 1",
         "showlegend": false,
         "type": "scatter",
         "x": {
          "bdata": "UIn6waKdLkH8Z8PBEFq8wb6m/MFD0VDBOGGdQYnpDUIyybnAsvoOQg==",
          "dtype": "f4"
         },
         "xaxis": "x",
         "y": {
          "bdata": "pD+TQft8E0K9YarAVBC1wPOJlkE8d9bBSFoDQn4fD8GlYKZAvVEJwg==",
          "dtype": "f4"
         },
         "yaxis": "y"
        },
        {
         "legendgroup": "gt",
         "marker": {
          "color": "#1f77b4",
          "size": 6
         },
         "mode": "markers",
         "name": "GT Group 2",
         "showlegend": false,
         "type": "scatter",
         "x": {
          "bdata": "qE1+QD+VXcG02/xBHbkAQtuUa8HFowtBhdkywdg9LsE=",
          "dtype": "f4"
         },
         "xaxis": "x",
         "y": {
          "bdata": "nWpSQj3r/r9s8CBCUpUgQhNFH8BbXBNBp+7ZwfupysE=",
          "dtype": "f4"
         },
         "yaxis": "y"
        },
        {
         "legendgroup": "gt",
         "marker": {
          "color": "#aec7e8",
          "size": 6
         },
         "mode": "markers",
         "name": "GT Group 3",
         "showlegend": false,
         "type": "scatter",
         "x": {
          "bdata": "cgs3QmqgpUEM5KDBw7ytweIRF8Fb4dPBze6vQQ==",
          "dtype": "f4"
         },
         "xaxis": "x",
         "y": {
          "bdata": "7EAhwtGSWcIKhhTB5lAEQoSwgEJ+rEBC8IxWwg==",
          "dtype": "f4"
         },
         "yaxis": "y"
        },
        {
         "legendgroup": "gt",
         "marker": {
          "color": "#aec7e8",
          "size": 6
         },
         "mode": "markers",
         "name": "GT Group 4",
         "showlegend": false,
         "type": "scatter",
         "x": {
          "bdata": "U8A4QsgtAEJLND9Cq8I1QolpN0Ll9gzC56JvQQ==",
          "dtype": "f4"
         },
         "xaxis": "x",
         "y": {
          "bdata": "UeQjwkYjv7+nACTCb6cuwi+/K8JdWINCyGg5wQ==",
          "dtype": "f4"
         },
         "yaxis": "y"
        },
        {
         "legendgroup": "gt",
         "marker": {
          "color": "#ff7f0e",
          "size": 6
         },
         "mode": "markers",
         "name": "GT Group 5",
         "showlegend": false,
         "type": "scatter",
         "x": {
          "bdata": "gkOJQe7wbz4=",
          "dtype": "f4"
         },
         "xaxis": "x",
         "y": {
          "bdata": "JAYYwlZNk0I=",
          "dtype": "f4"
         },
         "yaxis": "y"
        },
        {
         "legendgroup": "gt",
         "marker": {
          "color": "#ff7f0e",
          "size": 6
         },
         "mode": "markers",
         "name": "GT Group 6",
         "showlegend": false,
         "type": "scatter",
         "x": {
          "bdata": "14srQtm7lcE=",
          "dtype": "f4"
         },
         "xaxis": "x",
         "y": {
          "bdata": "yo8fQdPPNsE=",
          "dtype": "f4"
         },
         "yaxis": "y"
        },
        {
         "legendgroup": "gt",
         "marker": {
          "color": "#ff7f0e",
          "size": 6
         },
         "mode": "markers",
         "name": "GT Group 7",
         "showlegend": false,
         "type": "scatter",
         "x": {
          "bdata": "iPQ8wPJwtMGDS7bBCVK1wRH22cDO8mDB1tERwHXqE8Iq8ntBYawNQkZDr8E=",
          "dtype": "f4"
         },
         "xaxis": "x",
         "y": {
          "bdata": "et5pwudy/kHWDnVCwnDkQRqkfUDloJvBvCIRwhOwqMHypCtCRQFdwaZ2isI=",
          "dtype": "f4"
         },
         "yaxis": "y"
        },
        {
         "legendgroup": "gt",
         "marker": {
          "color": "#ffbb78",
          "size": 6
         },
         "mode": "markers",
         "name": "GT Group 8",
         "showlegend": false,
         "type": "scatter",
         "x": {
          "bdata": "czQDwlNCakF3EyDCd52DwA6t3cE=",
          "dtype": "f4"
         },
         "xaxis": "x",
         "y": {
          "bdata": "MBeMwt3HTsLj39tBgqtWQvCnYcI=",
          "dtype": "f4"
         },
         "yaxis": "y"
        },
        {
         "legendgroup": "gt",
         "marker": {
          "color": "#ffbb78",
          "size": 6
         },
         "mode": "markers",
         "name": "GT Group 9",
         "showlegend": false,
         "type": "scatter",
         "x": {
          "bdata": "HvwQwiS35ECwkxNB",
          "dtype": "f4"
         },
         "xaxis": "x",
         "y": {
          "bdata": "5CzXQPX6WMI0sehA",
          "dtype": "f4"
         },
         "yaxis": "y"
        },
        {
         "legendgroup": "gt",
         "marker": {
          "color": "#2ca02c",
          "size": 6
         },
         "mode": "markers",
         "name": "GT Group 10",
         "showlegend": false,
         "type": "scatter",
         "x": {
          "bdata": "JGlPwMy73sHyd5/B",
          "dtype": "f4"
         },
         "xaxis": "x",
         "y": {
          "bdata": "jiFzwqZRiUIyUQpC",
          "dtype": "f4"
         },
         "yaxis": "y"
        },
        {
         "legendgroup": "gt",
         "marker": {
          "color": "#2ca02c",
          "size": 6
         },
         "mode": "markers",
         "name": "GT Group 11",
         "showlegend": false,
         "type": "scatter",
         "x": {
          "bdata": "OmzewfK5ir9wqQrCDJcIwg==",
          "dtype": "f4"
         },
         "xaxis": "x",
         "y": {
          "bdata": "PzdmQvZ7iMIIzV1Cmr1fQg==",
          "dtype": "f4"
         },
         "yaxis": "y"
        },
        {
         "legendgroup": "gt",
         "marker": {
          "color": "#98df8a",
          "size": 6
         },
         "mode": "markers",
         "name": "GT Group 12",
         "showlegend": false,
         "type": "scatter",
         "x": {
          "bdata": "Q5o9QTqq4sEbstQ+3OGzQa0KckHcmkzC",
          "dtype": "f4"
         },
         "xaxis": "x",
         "y": {
          "bdata": "i5fswdkFQEJuZHZCc0mbwWQiRkLPUJ7B",
          "dtype": "f4"
         },
         "yaxis": "y"
        },
        {
         "legendgroup": "gt",
         "marker": {
          "color": "#98df8a",
          "size": 6
         },
         "mode": "markers",
         "name": "GT Group 13",
         "showlegend": false,
         "type": "scatter",
         "x": {
          "bdata": "U72DwGBd58FH34K/5SniwSluCMH9mzpBfYCpQY5CVsL9xxTAX+PFwQfKDsK0ez7B",
          "dtype": "f4"
         },
         "xaxis": "x",
         "y": {
          "bdata": "yuCOQg6UdEKBU5FCOoZ2QopThELifQxC9dMjQDnys8HObgbCOMBCQk5rbMCb80lC",
          "dtype": "f4"
         },
         "yaxis": "y"
        },
        {
         "legendgroup": "gt",
         "marker": {
          "color": "#98df8a",
          "size": 6
         },
         "mode": "markers",
         "name": "GT Group 14",
         "showlegend": false,
         "type": "scatter",
         "x": {
          "bdata": "sCtpQikVMEIwmbdAO6aIQgjG1cFIzmDC",
          "dtype": "f4"
         },
         "xaxis": "x",
         "y": {
          "bdata": "FXoHQb9RF0HqfbNB+eAYQA4QeUKB36DB",
          "dtype": "f4"
         },
         "yaxis": "y"
        },
        {
         "legendgroup": "gt",
         "marker": {
          "color": "#d62728",
          "size": 6
         },
         "mode": "markers",
         "name": "GT Group 15",
         "showlegend": false,
         "type": "scatter",
         "x": {
          "bdata": "N1X4wY/QPEJmiiZCPVZoQpsvQkGd60BC2tUdQg==",
          "dtype": "f4"
         },
         "xaxis": "x",
         "y": {
          "bdata": "Q9GiwVnf2EBnYYdBNbPCQBA2G0F9QLlAQuqzQA==",
          "dtype": "f4"
         },
         "yaxis": "y"
        },
        {
         "legendgroup": "gt",
         "marker": {
          "color": "#d62728",
          "size": 6
         },
         "mode": "markers",
         "name": "GT Group 16",
         "showlegend": false,
         "type": "scatter",
         "x": {
          "bdata": "krWBQj0AEcLa/0JCNxUlQpBlRkI8UC5C",
          "dtype": "f4"
         },
         "xaxis": "x",
         "y": {
          "bdata": "iS7cPgm6rsGvhUFBzbITQTM8TUEitmhB",
          "dtype": "f4"
         },
         "yaxis": "y"
        },
        {
         "legendgroup": "gt",
         "marker": {
          "color": "#ff9896",
          "size": 6
         },
         "mode": "markers",
         "name": "GT Group 17",
         "showlegend": false,
         "type": "scatter",
         "x": {
          "bdata": "+2oqQmzXcEE+zDBC1mBPwkgAYEJagX9C696xQRxDLEE=",
          "dtype": "f4"
         },
         "xaxis": "x",
         "y": {
          "bdata": "TFk3QQAST8K6JH1BkEWvwRyDu0ANoSXAxqc+QtbKLkE=",
          "dtype": "f4"
         },
         "yaxis": "y"
        },
        {
         "legendgroup": "gt",
         "marker": {
          "color": "#ff9896",
          "size": 6
         },
         "mode": "markers",
         "name": "GT Group 18",
         "showlegend": false,
         "type": "scatter",
         "x": {
          "bdata": "vbDJwZs13cGy54tCkJkKwh6MLUGaS4xCGFIRQg==",
          "dtype": "f4"
         },
         "xaxis": "x",
         "y": {
          "bdata": "RETjQftgwsG8FFJAmpu1weR3mEH9DHZA2oGiwQ==",
          "dtype": "f4"
         },
         "yaxis": "y"
        },
        {
         "legendgroup": "gt",
         "marker": {
          "color": "#ff9896",
          "size": 6
         },
         "mode": "markers",
         "name": "GT Group 19",
         "showlegend": false,
         "type": "scatter",
         "x": {
          "bdata": "1SS2wfDGlEG9Xp9BpjloQuP1jkI=",
          "dtype": "f4"
         },
         "xaxis": "x",
         "y": {
          "bdata": "Ao+Nwgp71EBfijVC5wHVQGZRXkA=",
          "dtype": "f4"
         },
         "yaxis": "y"
        },
        {
         "legendgroup": "gt",
         "marker": {
          "color": "#9467bd",
          "size": 6
         },
         "mode": "markers",
         "name": "GT Group 20",
         "showlegend": false,
         "type": "scatter",
         "x": {
          "bdata": "tzWCQg==",
          "dtype": "f4"
         },
         "xaxis": "x",
         "y": {
          "bdata": "K2BaPw==",
          "dtype": "f4"
         },
         "yaxis": "y"
        },
        {
         "legendgroup": "gt",
         "marker": {
          "color": "#9467bd",
          "size": 6
         },
         "mode": "markers",
         "name": "GT Group 21",
         "showlegend": false,
         "type": "scatter",
         "x": {
          "bdata": "wJFDwLIkN8I=",
          "dtype": "f4"
         },
         "xaxis": "x",
         "y": {
          "bdata": "R/KMQqTx4UE=",
          "dtype": "f4"
         },
         "yaxis": "y"
        },
        {
         "legendgroup": "gt",
         "marker": {
          "color": "#c5b0d5",
          "size": 6
         },
         "mode": "markers",
         "name": "GT Group 22",
         "showlegend": false,
         "type": "scatter",
         "x": {
          "bdata": "A04Bwjq23T/wlO8/3luKwA==",
          "dtype": "f4"
         },
         "xaxis": "x",
         "y": {
          "bdata": "xqegQeWQDcL47jvCCaN1wg==",
          "dtype": "f4"
         },
         "yaxis": "y"
        },
        {
         "legendgroup": "gt",
         "marker": {
          "color": "#c5b0d5",
          "size": 6
         },
         "mode": "markers",
         "name": "GT Group 23",
         "showlegend": false,
         "type": "scatter",
         "x": {
          "bdata": "z0ziQQAQLsLqxZFCe+iYwRotGELj5OTBCbt6QhvzqEHJnBzC0ObvwaHbF8KNVbhBHowZQpoptUF+oE3CEXVpwuVON0IyGPPBhf+xPw==",
          "dtype": "f4"
         },
         "xaxis": "x",
         "y": {
          "bdata": "111gwaw5n0FlYFhAviUswTTL6MEORkJC5F7NwEolX8I0y1fAe8iPwfTF9kF5tZDBTzWbQWHVVMKYLabBrV3Wwbby1UDZKJ7B4VwHQQ==",
          "dtype": "f4"
         },
         "yaxis": "y"
        },
        {
         "legendgroup": "gt",
         "marker": {
          "color": "#8c564b",
          "size": 6
         },
         "mode": "markers",
         "name": "GT Group 24",
         "showlegend": false,
         "type": "scatter",
         "x": {
          "bdata": "bdqawZ/lJ8LnT/PBuQsPwcn42MD29vvBX5H8wbvHXkFE9PDB5MvzQTwbLUHiSX7B",
          "dtype": "f4"
         },
         "xaxis": "x",
         "y": {
          "bdata": "ysmqQWgnqT8Le2PB7VoEwcJXf0IA+29CHUFrPwqbX8HicHvBYh1SwQhW2EB0AZ7B",
          "dtype": "f4"
         },
         "yaxis": "y"
        },
        {
         "legendgroup": "gt",
         "marker": {
          "color": "#8c564b",
          "size": 6
         },
         "mode": "markers",
         "name": "GT Group 25",
         "showlegend": false,
         "type": "scatter",
         "x": {
          "bdata": "AO+XwYy88cGctgLBE2rhwVeleMFRbSRCWGwDQvhtnMFzB9DBkMRAwjv84sE2VbDB",
          "dtype": "f4"
         },
         "xaxis": "x",
         "y": {
          "bdata": "ZfL1QaclekKdQ5vA+5qGQgIFZ0KUcAdAveUDwg6lrUG6LO9BJprbQfCmhEIl1HhC",
          "dtype": "f4"
         },
         "yaxis": "y"
        },
        {
         "legendgroup": "gt",
         "marker": {
          "color": "#8c564b",
          "size": 6
         },
         "mode": "markers",
         "name": "GT Group 26",
         "showlegend": false,
         "type": "scatter",
         "x": {
          "bdata": "U2TAQSNKBsIXKu3BHWHJQUVxIcJJWOrB/caLwZtcj0A3tW/BvbvzwYmT4cE=",
          "dtype": "f4"
         },
         "xaxis": "x",
         "y": {
          "bdata": "tXtCQhziqj/GlFVChTBFQmNzecACc05Cs4nxQbHxr0HXAYVA0Lw/QjtfXkI=",
          "dtype": "f4"
         },
         "yaxis": "y"
        },
        {
         "legendgroup": "gt",
         "marker": {
          "color": "#c49c94",
          "size": 6
         },
         "mode": "markers",
         "name": "GT Group 27",
         "showlegend": false,
         "type": "scatter",
         "x": {
          "bdata": "qD4WwsR3E8LYJvc9eA/zwUm5X8JGTYxB2YuPwfP2aMI=",
          "dtype": "f4"
         },
         "xaxis": "x",
         "y": {
          "bdata": "f8iZvzrsPMBkXRbCQPw4QiIDtsFyGhfC4XVuQrB608E=",
          "dtype": "f4"
         },
         "yaxis": "y"
        },
        {
         "legendgroup": "gt",
         "marker": {
          "color": "#c49c94",
          "size": 6
         },
         "mode": "markers",
         "name": "GT Group 28",
         "showlegend": false,
         "type": "scatter",
         "x": {
          "bdata": "Wj3nwV2m40Gr1kvCwSLhwGrJG0HVyyZBgyqDwSezKMCEgT9CJJfhwaAnrkGVmYdBsJA+QsQsV8HAUxjBj3xcQKpH5EE=",
          "dtype": "f4"
         },
         "xaxis": "x",
         "y": {
          "bdata": "c++ZwU3SjUFZGMDBnPG5QHhxt0GARqRBsnZwQp/qOcH6v4nBH5B/wuDMh0B7GCxCA//NwXIKSEJxI5XAnkFcwkhiikE=",
          "dtype": "f4"
         },
         "yaxis": "y"
        },
        {
         "legendgroup": "gt",
         "marker": {
          "color": "#e377c2",
          "size": 6
         },
         "mode": "markers",
         "name": "GT Group 29",
         "showlegend": false,
         "type": "scatter",
         "x": {
          "bdata": "DAX9v88NXsJAV/JAXiQ3QUS2tMHwKxVCEIgmwcmvSMLMTgNBZXA1Qt0YMkH8NzZCMaUGwqiFUUEImE7A+zckQkXUHkI=",
          "dtype": "f4"
         },
         "xaxis": "x",
         "y": {
          "bdata": "OeyMwrW5qcEaFq5Al/u5QY1ACUIQyGXBRtFlwJzvrsG8PWTC82k4QP5ch0E+liVBm+JnQkKYC0KhLDzB34eKQYyskkE=",
          "dtype": "f4"
         },
         "yaxis": "y"
        },
        {
         "legendgroup": "gt",
         "marker": {
          "color": "#e377c2",
          "size": 6
         },
         "mode": "markers",
         "name": "GT Group 30",
         "showlegend": false,
         "type": "scatter",
         "x": {
          "bdata": "xwPXQZWNQ0JTEi7CRWVCQg==",
          "dtype": "f4"
         },
         "xaxis": "x",
         "y": {
          "bdata": "P78fQrhFl8HCVZxB7AWSwQ==",
          "dtype": "f4"
         },
         "yaxis": "y"
        },
        {
         "legendgroup": "gt",
         "marker": {
          "color": "#e377c2",
          "size": 6
         },
         "mode": "markers",
         "name": "GT Group 31",
         "showlegend": false,
         "type": "scatter",
         "x": {
          "bdata": "lmjuQMB2BkKy2ghC4/HOQRa+BsE=",
          "dtype": "f4"
         },
         "xaxis": "x",
         "y": {
          "bdata": "x2ncwavZBsLPaArCYzghQtgymUE=",
          "dtype": "f4"
         },
         "yaxis": "y"
        },
        {
         "legendgroup": "gt",
         "marker": {
          "color": "#f7b6d2",
          "size": 6
         },
         "mode": "markers",
         "name": "GT Group 32",
         "showlegend": false,
         "type": "scatter",
         "x": {
          "bdata": "JwkEQWk0IELcvJ5BifQKQRpu7cC44ihBfFQYQoaD0MGxcqpBSZGoQWl4M0JHyRlCSojEQWQK8cEawANCx/gyQg==",
          "dtype": "f4"
         },
         "xaxis": "x",
         "y": {
          "bdata": "jDDnwUai2sHJVilCavTlwQ7BkkGY3unB8HXWwTOfS0HiGC1C6iFDQrprG8LmRd7B5LeZQLZoFMEp0VfBxRM1wg==",
          "dtype": "f4"
         },
         "yaxis": "y"
        },
        {
         "legendgroup": "gt",
         "marker": {
          "color": "#f7b6d2",
          "size": 6
         },
         "mode": "markers",
         "name": "GT Group 33",
         "showlegend": false,
         "type": "scatter",
         "x": {
          "bdata": "eNI9wqSRMcEZ4j9CDGw+QuFxIMKpOi3C+GTkwQ==",
          "dtype": "f4"
         },
         "xaxis": "x",
         "y": {
          "bdata": "SFXsQcJP0MHhGHvBbvViwWGS4EFSmMQ/iGGAwg==",
          "dtype": "f4"
         },
         "yaxis": "y"
        },
        {
         "legendgroup": "gt",
         "marker": {
          "color": "#7f7f7f",
          "size": 6
         },
         "mode": "markers",
         "name": "GT Group 34",
         "showlegend": false,
         "type": "scatter",
         "x": {
          "bdata": "1z3ZwbYKucFuirxASxEawsMg6cFy+AHCLwHlwd2UkEFe2KVBZVoGQcvi2MFWSARADwMGQSZjicFik9/BwWUtwtJz1kH9grRB",
          "dtype": "f4"
         },
         "xaxis": "x",
         "y": {
          "bdata": "z9c3Qc87DMKGJ8fA+NHxQatCbkKQU/894bgnQV0lCEJQIBTC6unGQbJfMUGc6zjCZ3/ZQMO1bsJox7jBju6sQRHUT8F9JS5C",
          "dtype": "f4"
         },
         "yaxis": "y"
        },
        {
         "legendgroup": "gt",
         "marker": {
          "color": "#7f7f7f",
          "size": 6
         },
         "mode": "markers",
         "name": "GT Group 35",
         "showlegend": false,
         "type": "scatter",
         "x": {
          "bdata": "H+5mQcKTtsF4GbvBvqccQphgosEigx9C2q6fwfX15MEcMAbBycFOQdgUF0I=",
          "dtype": "f4"
         },
         "xaxis": "x",
         "y": {
          "bdata": "ojQ3wRaGvUC+/g3CCx9GwZdzAsKZ0h1BI4MBwiX4qcCk2lzBkGgwwdSJmUA=",
          "dtype": "f4"
         },
         "yaxis": "y"
        },
        {
         "legendgroup": "gt",
         "marker": {
          "color": "#c7c7c7",
          "size": 6
         },
         "mode": "markers",
         "name": "GT Group 36",
         "showlegend": false,
         "type": "scatter",
         "x": {
          "bdata": "4/+WQed1MsChj8NA/TmfQRgVRkKTilfB9EzjwR9iuj4=",
          "dtype": "f4"
         },
         "xaxis": "x",
         "y": {
          "bdata": "kxTwQSFDh8KAjdjA9+v9QUg1oMHnDrdAL1T0QaHyAsI=",
          "dtype": "f4"
         },
         "yaxis": "y"
        },
        {
         "legendgroup": "gt",
         "marker": {
          "color": "#c7c7c7",
          "size": 6
         },
         "mode": "markers",
         "name": "GT Group 37",
         "showlegend": false,
         "type": "scatter",
         "x": {
          "bdata": "zOiVQczKD8IEup8+MgpwPweH2MAYg6NBCLItQlb7kz9Asl/BC75MQA==",
          "dtype": "f4"
         },
         "xaxis": "x",
         "y": {
          "bdata": "O/ZXwp0ShEIX81dCgVQJQWIMjEIm6S5COILmQPZcXkIW60ZCK6RWQg==",
          "dtype": "f4"
         },
         "yaxis": "y"
        },
        {
         "legendgroup": "gt",
         "marker": {
          "color": "#c7c7c7",
          "size": 6
         },
         "mode": "markers",
         "name": "GT Group 38",
         "showlegend": false,
         "type": "scatter",
         "x": {
          "bdata": "rQdwQChjMMKV04HB0woPwOUkxcGS0RDCLqIOQr+odz/nDQRA",
          "dtype": "f4"
         },
         "xaxis": "x",
         "y": {
          "bdata": "0gHuQVBO3T8HnHxCEPVhQjxIcEKRXsRAucmBwZPUYkIZMmNC",
          "dtype": "f4"
         },
         "yaxis": "y"
        },
        {
         "legendgroup": "gt",
         "marker": {
          "color": "#bcbd22",
          "size": 6
         },
         "mode": "markers",
         "name": "GT Group 39",
         "showlegend": false,
         "type": "scatter",
         "x": {
          "bdata": "OqYyQYaCxUCJKz7Ac1/gQYBRhUFR4xFCjDMjwjEsBkEhRgbBVxZ0PvHPiMABnAPCj8oJwiqOMEJSuqtBl8kUwgXWhz953pXAimPXwWreCsLCQX3BlWQLwaDr90EqbwxBp8g/wpEmRsI=",
          "dtype": "f4"
         },
         "xaxis": "x",
         "y": {
          "bdata": "9R4KQpK74kEOf1pCn7x1wanlREIM/KfBhl3WPxiJX0I+Tz7BSw9xQibUkEJOrozCafa5wXMAdkAODvdBtFmFQhRze0LMxYrCLlnxQcY6nMD53XRCYYWAQjM/9T3uvLxBL7vlQRvd6kE=",
          "dtype": "f4"
         },
         "yaxis": "y"
        },
        {
         "legendgroup": "gt",
         "marker": {
          "color": "#bcbd22",
          "size": 6
         },
         "mode": "markers",
         "name": "GT Group 40",
         "showlegend": false,
         "type": "scatter",
         "x": {
          "bdata": "t7eNQVeuGkJwWf7An00NQgEfq0Hz9qJA80MGQlEJCEKN9ytB8iMxwFPupkE7wgpCPczewA==",
          "dtype": "f4"
         },
         "xaxis": "x",
         "y": {
          "bdata": "t7xGQu3H50Drd5FBvow3wbd/JEL22udAwccXwmQIEcKZ0WRAnRxkwlwJCEJocVfB/axAQA==",
          "dtype": "f4"
         },
         "yaxis": "y"
        },
        {
         "legendgroup": "gt",
         "marker": {
          "color": "#dbdb8d",
          "size": 6
         },
         "mode": "markers",
         "name": "GT Group 41",
         "showlegend": false,
         "type": "scatter",
         "x": {
          "bdata": "iqgUQnMl9sBgn6lBiP0owMwVTMCUTvDA",
          "dtype": "f4"
         },
         "xaxis": "x",
         "y": {
          "bdata": "DyyjQeNhOsFM4hPCUGZnvx3Uor5I9vY/",
          "dtype": "f4"
         },
         "yaxis": "y"
        },
        {
         "legendgroup": "gt",
         "marker": {
          "color": "#dbdb8d",
          "size": 6
         },
         "mode": "markers",
         "name": "GT Group 42",
         "showlegend": false,
         "type": "scatter",
         "x": {
          "bdata": "02BPwYyB4MF/LyZCSzh9Qjs9tcGvnSFCg19Xwdd/BMHcKyrA69DBQW9HfEI=",
          "dtype": "f4"
         },
         "xaxis": "x",
         "y": {
          "bdata": "wImmwYJbecBlNmFAzJuJwPWTs0DWVT3B7h6SwSBZ18GBRXXCGK+IwVkEosA=",
          "dtype": "f4"
         },
         "yaxis": "y"
        },
        {
         "legendgroup": "gt",
         "marker": {
          "color": "#dbdb8d",
          "size": 6
         },
         "mode": "markers",
         "name": "GT Group 43",
         "showlegend": false,
         "type": "scatter",
         "x": {
          "bdata": "0M6zwOeCP0JjXp7BrXWrwThP8sHPeInB+/WSwQ==",
          "dtype": "f4"
         },
         "xaxis": "x",
         "y": {
          "bdata": "KviMQrjdysG1TojCwLeHwmExpMBb04s/QGBywg==",
          "dtype": "f4"
         },
         "yaxis": "y"
        },
        {
         "legendgroup": "gt",
         "marker": {
          "color": "#17becf",
          "size": 6
         },
         "mode": "markers",
         "name": "GT Group 44",
         "showlegend": false,
         "type": "scatter",
         "x": {
          "bdata": "qoV9vxHvmcFV9BZB1XBgwXTfFT+0YhDByrC4voDZp8Gt1QZBU66eQAx1OUDWKx0/mbUjQFXBIUECGNvB06fuQEC1SUDPBrnBFbD/QA==",
          "dtype": "f4"
         },
         "xaxis": "x",
         "y": {
          "bdata": "siJYwo7vdMIutGjCJL51Qv2Yg8KuvnhCkzEJwo2ThsJGVEvClmWAwgpgg8Lzg1LCxp+HwoYva8J6k2HCdCpXwg+HV8J+1obC6I9Qwg==",
          "dtype": "f4"
         },
         "yaxis": "y"
        },
        {
         "legendgroup": "gt",
         "marker": {
          "color": "#17becf",
          "size": 6
         },
         "mode": "markers",
         "name": "GT Group 45",
         "showlegend": false,
         "type": "scatter",
         "x": {
          "bdata": "nrtEwE/epcGCf6fB3FoMQBRc6r61uE+/rEzfPg==",
          "dtype": "f4"
         },
         "xaxis": "x",
         "y": {
          "bdata": "sKATwt7vdsLnwYHCEAaDwqLZSsJZ9AzC8rBPwg==",
          "dtype": "f4"
         },
         "yaxis": "y"
        },
        {
         "legendgroup": "gt",
         "marker": {
          "color": "#9edae5",
          "size": 6
         },
         "mode": "markers",
         "name": "GT Group 46",
         "showlegend": false,
         "type": "scatter",
         "x": {
          "bdata": "zg2SwW4CRkCJ15PBVPbwwTVG2sE=",
          "dtype": "f4"
         },
         "xaxis": "x",
         "y": {
          "bdata": "sH2JwhbrZ0IoEJI/K+j8wOKa0cA=",
          "dtype": "f4"
         },
         "yaxis": "y"
        },
        {
         "legendgroup": "gt",
         "marker": {
          "color": "#9edae5",
          "size": 6
         },
         "mode": "markers",
         "name": "GT Group 47",
         "showlegend": false,
         "type": "scatter",
         "x": {
          "bdata": "7DqzQOdXjcE=",
          "dtype": "f4"
         },
         "xaxis": "x",
         "y": {
          "bdata": "4x6MwBpSXME=",
          "dtype": "f4"
         },
         "yaxis": "y"
        },
        {
         "legendgroup": "gt",
         "marker": {
          "color": "#9edae5",
          "size": 6
         },
         "mode": "markers",
         "name": "GT Group 48",
         "showlegend": false,
         "type": "scatter",
         "x": {
          "bdata": "lI7bQMLrl0CelXfB",
          "dtype": "f4"
         },
         "xaxis": "x",
         "y": {
          "bdata": "JUxgQsSp6UGAjWlA",
          "dtype": "f4"
         },
         "yaxis": "y"
        },
        {
         "legendgroup": "pred",
         "marker": {
          "color": "#1f77b4",
          "size": 6
         },
         "mode": "markers",
         "name": "Pred Group 0",
         "showlegend": false,
         "type": "scatter",
         "x": {
          "bdata": "5U43Qo/QPEIpFTBC14srQtrVHULa/0JCfy8mQjcVJUI8UC5CKo4wQonpDUJRbSRCpjloQpBlRkL7NyRCGsADQrc1gkI3VfjBZoomQoSBP0Kd60BCO8IKQmGsDUIYUhFCz0ziQfArFUKStYFCPswwQg==",
          "dtype": "f4"
         },
         "xaxis": "x2",
         "y": {
          "bdata": "tvLVQFnf2EC/URdByo8fQULqs0CvhUFBZTZhQM2yE0EitmhBcwB2QH4fD8GUcAdA5wHVQDM8TUHfh4pBKdFXwStgWj9D0aLBZ2GHQfq/icF9QLlAaHFXwUUBXcHagaLB111gwRDIZcGJLtw+uiR9QQ==",
          "dtype": "f4"
         },
         "yaxis": "y2"
        },
        {
         "legendgroup": "pred",
         "marker": {
          "color": "#1f77b4",
          "size": 6
         },
         "mode": "markers",
         "name": "Pred Group 1",
         "showlegend": false,
         "type": "scatter",
         "x": {
          "bdata": "IUYGwXMl9sAQWrzBH+5mQTIY88FE9PDBuQsPwfX15MHTYE/B0Obvwc7yYMEUXOq+e+iYwRwwBsHr0MFBboq8QNJz1kH8Z8PB56JvQUBX8kA=",
          "dtype": "f4"
         },
         "xaxis": "x2",
         "y": {
          "bdata": "Pk8+weNhOsFUELXAojQ3wdkonsHicHvB7VoEwSX4qcDAiabBe8iPweWgm8Gi2UrCviUswaTaXMEYr4jBhifHwBHUT8G9YarAyGg5wRoWrkA=",
          "dtype": "f4"
         },
         "yaxis": "y2"
        },
        {
         "legendgroup": "pred",
         "marker": {
          "color": "#1f77b4",
          "size": 6
         },
         "mode": "markers",
         "name": "Pred Group 2",
         "showlegend": false,
         "type": "scatter",
         "x": {
          "bdata": "rEzfPtYrHT8kt+RADHU5QNxaDEBAtUlA06fuQNwrKsAVOg/AmbUjQJ67RMDndTLAJGlPwMxOA0F03xU/8iMxwAwF/b/WYE/C",
          "dtype": "f4"
         },
         "xaxis": "x2",
         "y": {
          "bdata": "8rBPwvODUsL1+ljCCmCDwhAGg8IPh1fCdCpXwoFFdcJ+EYnCxp+HwrCgE8IhQ4fCjiFzwrw9ZML9mIPCnRxkwjnsjMKQRa/B",
          "dtype": "f4"
         },
         "yaxis": "y2"
        },
        {
         "legendgroup": "pred",
         "marker": {
          "color": "#1f77b4",
          "size": 6
         },
         "mode": "markers",
         "name": "Pred Group 3",
         "showlegend": false,
         "type": "scatter",
         "x": {
          "bdata": "z3iJwdbREcCelXfBPczewLW4T7+J15PBN7Vvwcvi2MHXPdnBNUbawYj0PMBs13BBSzh9QrCTE0FfkfzBEfbZwMwVTMA=",
          "dtype": "f4"
         },
         "xaxis": "x2",
         "y": {
          "bdata": "W9OLP7wiEcKAjWlA/axAQFn0DMIoEJI/1wGFQLJfMUHP1zdB4prRwHreacIAEk/CzJuJwDSx6EAdQWs/GqR9QB3Uor4=",
          "dtype": "f4"
         },
         "yaxis": "y2"
        },
        {
         "legendgroup": "pred",
         "marker": {
          "color": "#1f77b4",
          "size": 6
         },
         "mode": "markers",
         "name": "Pred Group 4",
         "showlegend": false,
         "type": "scatter",
         "x": {
          "bdata": "Xi6/QUXUHkLILQBCV64aQh6MGUJzLQFCn00NQnxUGEIigx9CDwMGQdgUF0I=",
          "dtype": "f4"
         },
         "xaxis": "x2",
         "y": {
          "bdata": "ZyOUQIyskkFGI7+/7cfnQE81m0GbLfu/vow3wfB11sGZ0h1BZ3/ZQNSJmUA=",
          "dtype": "f4"
         },
         "yaxis": "y2"
        },
        {
         "legendgroup": "pred",
         "marker": {
          "color": "#1f77b4",
          "size": 6
         },
         "mode": "markers",
         "name": "Pred Group 5",
         "showlegend": false,
         "type": "scatter",
         "x": {
          "bdata": "Wj3nwY1VuEHJwU5BYpPfwavWS8LnT/PBj8oJwgfKDsJ16hPCya9Iwg==",
          "dtype": "f4"
         },
         "xaxis": "x2",
         "y": {
          "bdata": "c++ZwXm1kMGQaDDBaMe4wVkYwMELe2PBafa5wU5rbMATsKjBnO+uwQ==",
          "dtype": "f4"
         },
         "yaxis": "y2"
        },
        {
         "legendgroup": "pred",
         "marker": {
          "color": "#1f77b4",
          "size": 6
         },
         "mode": "markers",
         "name": "Pred Group 6",
         "showlegend": false,
         "type": "scatter",
         "x": {
          "bdata": "OGGdQf05n0GohVFBGIOjQbFyqkH9grRB3ZSQQePxzkHcvJ5BU+6mQQ==",
          "dtype": "f4"
         },
         "xaxis": "x2",
         "y": {
          "bdata": "SFoDQvfr/UFCmAtCJukuQuIYLUJ9JS5CXSUIQmM4IULJVilCXAkIQg==",
          "dtype": "f4"
         },
         "yaxis": "y2"
        },
        {
         "legendgroup": "pred",
         "marker": {
          "color": "#1f77b4",
          "size": 6
         },
         "mode": "markers",
         "name": "Pred Group 7",
         "showlegend": false,
         "type": "scatter",
         "x": {
          "bdata": "RWVCQnILN0KVjUNCLqIOQolpN0IMbD5C",
          "dtype": "f4"
         },
         "xaxis": "x2",
         "y": {
          "bdata": "7AWSwexAIcK4RZfBucmBwS+/K8Ju9WLB",
          "dtype": "f4"
         },
         "yaxis": "y2"
        },
        {
         "legendgroup": "pred",
         "marker": {
          "color": "#1f77b4",
          "size": 6
         },
         "mode": "markers",
         "name": "Pred Group 8",
         "showlegend": false,
         "type": "scatter",
         "x": {
          "bdata": "xHcTwlpxvcEJUrXBat4Kwqk6LcI=",
          "dtype": "f4"
         },
         "xaxis": "x2",
         "y": {
          "bdata": "Ouw8wLI07kHCcORBxjqcwFKYxD8=",
          "dtype": "f4"
         },
         "yaxis": "y2"
        },
        {
         "legendgroup": "pred",
         "marker": {
          "color": "#1f77b4",
          "size": 6
         },
         "mode": "markers",
         "name": "Pred Group 9",
         "showlegend": false,
         "type": "scatter",
         "x": {
          "bdata": "cwfQwb2wycF3EyDC+G2cwcO8rcE=",
          "dtype": "f4"
         },
         "xaxis": "x2",
         "y": {
          "bdata": "uizvQURE40Hj39tBDqWtQeZQBEI=",
          "dtype": "f4"
         },
         "yaxis": "y2"
        },
        {
         "legendgroup": "pred",
         "marker": {
          "color": "#1f77b4",
          "size": 6
         },
         "mode": "markers",
         "name": "Pred Group 10",
         "showlegend": false,
         "type": "scatter",
         "x": {
          "bdata": "rXWrwUZDr8GCf6fBzwa5wRHvmcE=",
          "dtype": "f4"
         },
         "xaxis": "x2",
         "y": {
          "bdata": "wLeHwqZ2isLnwYHCftaGwo7vdMI=",
          "dtype": "f4"
         },
         "yaxis": "y2"
        },
        {
         "legendgroup": "pred",
         "marker": {
          "color": "#1f77b4",
          "size": 6
         },
         "mode": "markers",
         "name": "Pred Group 11",
         "showlegend": false,
         "type": "scatter",
         "x": {
          "bdata": "u8deQaSRMcGhj8NAIHR5QQ==",
          "dtype": "f4"
         },
         "xaxis": "x2",
         "y": {
          "bdata": "CptfwcJP0MGAjdjAhRAcwQ==",
          "dtype": "f4"
         },
         "yaxis": "y2"
        },
        {
         "legendgroup": "pred",
         "marker": {
          "color": "#aec7e8",
          "size": 6
         },
         "mode": "markers",
         "name": "Pred Group 12",
         "showlegend": false,
         "type": "scatter",
         "x": {
          "bdata": "cvgBwlT28ME4T/LBjIHgwQ==",
          "dtype": "f4"
         },
         "xaxis": "x2",
         "y": {
          "bdata": "kFP/PSvo/MBhMaTAglt5wA==",
          "dtype": "f4"
         },
         "yaxis": "y2"
        },
        {
         "legendgroup": "pred",
         "marker": {
          "color": "#aec7e8",
          "size": 6
         },
         "mode": "markers",
         "name": "Pred Group 13",
         "showlegend": false,
         "type": "scatter",
         "x": {
          "bdata": "8rmKv95bisBjXp7BgNmnwQ==",
          "dtype": "f4"
         },
         "xaxis": "x2",
         "y": {
          "bdata": "9nuIwgmjdcK1TojCjZOGwg==",
          "dtype": "f4"
         },
         "yaxis": "y2"
        },
        {
         "legendgroup": "pred",
         "marker": {
          "color": "#aec7e8",
          "size": 6
         },
         "mode": "markers",
         "name": "Pred Group 14",
         "showlegend": false,
         "type": "scatter",
         "x": {
          "bdata": "wSLhwDLJucDz9qJA4XEgwg==",
          "dtype": "f4"
         },
         "xaxis": "x2",
         "y": {
          "bdata": "nPG5QKVgpkD22udAYZLgQQ==",
          "dtype": "f4"
         },
         "yaxis": "y2"
        },
        {
         "legendgroup": "pred",
         "marker": {
          "color": "#aec7e8",
          "size": 6
         },
         "mode": "markers",
         "name": "Pred Group 15",
         "showlegend": false,
         "type": "scatter",
         "x": {
          "bdata": "fqBNws8NXsLcmkzCjkJWwg==",
          "dtype": "f4"
         },
         "xaxis": "x2",
         "y": {
          "bdata": "mC2mwbW5qcHPUJ7BOfKzwQ==",
          "dtype": "f4"
         },
         "yaxis": "y2"
        },
        {
         "legendgroup": "pred",
         "marker": {
          "color": "#aec7e8",
          "size": 6
         },
         "mode": "markers",
         "name": "Pred Group 16",
         "showlegend": false,
         "type": "scatter",
         "x": {
          "bdata": "Fr4GwXBZ/sAabu3AUxIuwg==",
          "dtype": "f4"
         },
         "xaxis": "x2",
         "y": {
          "bdata": "2DKZQet3kUEOwZJBwlWcQQ==",
          "dtype": "f4"
         },
         "yaxis": "y2"
        },
        {
         "legendgroup": "pred",
         "marker": {
          "color": "#aec7e8",
          "size": 6
         },
         "mode": "markers",
         "name": "Pred Group 17",
         "showlegend": false,
         "type": "scatter",
         "x": {
          "bdata": "GeI/QlPAOEKrwjVC",
          "dtype": "f4"
         },
         "xaxis": "x2",
         "y": {
          "bdata": "4Rh7wVHkI8Jvpy7C",
          "dtype": "f4"
         },
         "yaxis": "y2"
        },
        {
         "legendgroup": "pred",
         "marker": {
          "color": "#aec7e8",
          "size": 6
         },
         "mode": "markers",
         "name": "Pred Group 18",
         "showlegend": false,
         "type": "scatter",
         "x": {
          "bdata": "qoV9v/CU7z8VsP9A",
          "dtype": "f4"
         },
         "xaxis": "x2",
         "y": {
          "bdata": "siJYwvjuO8Loj1DC",
          "dtype": "f4"
         },
         "yaxis": "y2"
        },
        {
         "legendgroup": "pred",
         "marker": {
          "color": "#aec7e8",
          "size": 6
         },
         "mode": "markers",
         "name": "Pred Group 19",
         "showlegend": false,
         "type": "scatter",
         "x": {
          "bdata": "UeMRQr6nHEKI/SjA",
          "dtype": "f4"
         },
         "xaxis": "x2",
         "y": {
          "bdata": "DPynwQsfRsFQZme/",
          "dtype": "f4"
         },
         "yaxis": "y2"
        },
        {
         "legendgroup": "pred",
         "marker": {
          "color": "#aec7e8",
          "size": 6
         },
         "mode": "markers",
         "name": "Pred Group 20",
         "showlegend": false,
         "type": "scatter",
         "x": {
          "bdata": "HEMsQZsvQkHZu5XB",
          "dtype": "f4"
         },
         "xaxis": "x2",
         "y": {
          "bdata": "1souQRA2G0HTzzbB",
          "dtype": "f4"
         },
         "yaxis": "y2"
        },
        {
         "legendgroup": "pred",
         "marker": {
          "color": "#aec7e8",
          "size": 6
         },
         "mode": "markers",
         "name": "Pred Group 21",
         "showlegend": false,
         "type": "scatter",
         "x": {
          "bdata": "696xQYBRhUFqyRtB",
          "dtype": "f4"
         },
         "xaxis": "x2",
         "y": {
          "bdata": "xqc+QqnlREJ4cbdB",
          "dtype": "f4"
         },
         "yaxis": "y2"
        },
        {
         "legendgroup": "pred",
         "marker": {
          "color": "#aec7e8",
          "size": 6
         },
         "mode": "markers",
         "name": "Pred Group 22",
         "showlegend": false,
         "type": "scatter",
         "x": {
          "bdata": "p8g/wpDEQMKRJkbC",
          "dtype": "f4"
         },
         "xaxis": "x2",
         "y": {
          "bdata": "L7vlQSaa20Eb3epB",
          "dtype": "f4"
         },
         "yaxis": "y2"
        },
        {
         "legendgroup": "pred",
         "marker": {
          "color": "#aec7e8",
          "size": 6
         },
         "mode": "markers",
         "name": "Pred Group 23",
         "showlegend": false,
         "type": "scatter",
         "x": {
          "bdata": "VvuTP7+odz/nDQRA",
          "dtype": "f4"
         },
         "xaxis": "x2",
         "y": {
          "bdata": "9lxeQpPUYkIZMmNC",
          "dtype": "f4"
         },
         "yaxis": "y2"
        },
        {
         "legendgroup": "pred",
         "marker": {
          "color": "#ff7f0e",
          "size": 6
         },
         "mode": "markers",
         "name": "Pred Group 24",
         "showlegend": false,
         "type": "scatter",
         "x": {
          "bdata": "+2oqQkgAYEI=",
          "dtype": "f4"
         },
         "xaxis": "x2",
         "y": {
          "bdata": "TFk3QRyDu0A=",
          "dtype": "f4"
         },
         "yaxis": "y2"
        },
        {
         "legendgroup": "pred",
         "marker": {
          "color": "#ff7f0e",
          "size": 6
         },
         "mode": "markers",
         "name": "Pred Group 25",
         "showlegend": false,
         "type": "scatter",
         "x": {
          "bdata": "U0JqQaAnrkE=",
          "dtype": "f4"
         },
         "xaxis": "x2",
         "y": {
          "bdata": "3cdOwuDMh0A=",
          "dtype": "f4"
         },
         "yaxis": "y2"
        },
        {
         "legendgroup": "pred",
         "marker": {
          "color": "#ff7f0e",
          "size": 6
         },
         "mode": "markers",
         "name": "Pred Group 26",
         "showlegend": false,
         "type": "scatter",
         "x": {
          "bdata": "aqClQY98XEA=",
          "dtype": "f4"
         },
         "xaxis": "x2",
         "y": {
          "bdata": "0ZJZwp5BXMI=",
          "dtype": "f4"
         },
         "yaxis": "y2"
        },
        {
         "legendgroup": "pred",
         "marker": {
          "color": "#ff7f0e",
          "size": 6
         },
         "mode": "markers",
         "name": "Pred Group 27",
         "showlegend": false,
         "type": "scatter",
         "x": {
          "bdata": "c1/gQVqBf0I=",
          "dtype": "f4"
         },
         "xaxis": "x2",
         "y": {
          "bdata": "n7x1wQ2hJcA=",
          "dtype": "f4"
         },
         "yaxis": "y2"
        },
        {
         "legendgroup": "pred",
         "marker": {
          "color": "#ff7f0e",
          "size": 6
         },
         "mode": "markers",
         "name": "Pred Group 28",
         "showlegend": false,
         "type": "scatter",
         "x": {
          "bdata": "stoIQml4M0I=",
          "dtype": "f4"
         },
         "xaxis": "x2",
         "y": {
          "bdata": "z2gKwrprG8I=",
          "dtype": "f4"
         },
         "yaxis": "y2"
        },
        {
         "legendgroup": "pred",
         "marker": {
          "color": "#ff7f0e",
          "size": 6
         },
         "mode": "markers",
         "name": "Pred Group 29",
         "showlegend": false,
         "type": "scatter",
         "x": {
          "bdata": "4/WOQjumiEI=",
          "dtype": "f4"
         },
         "xaxis": "x2",
         "y": {
          "bdata": "ZlFeQPngGEA=",
          "dtype": "f4"
         },
         "yaxis": "y2"
        },
        {
         "legendgroup": "pred",
         "marker": {
          "color": "#ff7f0e",
          "size": 6
         },
         "mode": "markers",
         "name": "Pred Group 30",
         "showlegend": false,
         "type": "scatter",
         "x": {
          "bdata": "lZmHQSpvDEE=",
          "dtype": "f4"
         },
         "xaxis": "x2",
         "y": {
          "bdata": "exgsQu68vEE=",
          "dtype": "f4"
         },
         "yaxis": "y2"
        },
        {
         "legendgroup": "pred",
         "marker": {
          "color": "#ff7f0e",
          "size": 6
         },
         "mode": "markers",
         "name": "Pred Group 31",
         "showlegend": false,
         "type": "scatter",
         "x": {
          "bdata": "yrC4vtgm9z0=",
          "dtype": "f4"
         },
         "xaxis": "x2",
         "y": {
          "bdata": "kzEJwmRdFsI=",
          "dtype": "f4"
         },
         "yaxis": "y2"
        },
        {
         "legendgroup": "pred",
         "marker": {
          "color": "#ff7f0e",
          "size": 6
         },
         "mode": "markers",
         "name": "Pred Group 32",
         "showlegend": false,
         "type": "scatter",
         "x": {
          "bdata": "n+UnwowzI8I=",
          "dtype": "f4"
         },
         "xaxis": "x2",
         "y": {
          "bdata": "aCepP4Zd1j8=",
          "dtype": "f4"
         },
         "yaxis": "y2"
        },
        {
         "legendgroup": "pred",
         "marker": {
          "color": "#ff7f0e",
          "size": 6
         },
         "mode": "markers",
         "name": "Pred Group 33",
         "showlegend": false,
         "type": "scatter",
         "x": {
          "bdata": "yZwcwqg+FsI=",
          "dtype": "f4"
         },
         "xaxis": "x2",
         "y": {
          "bdata": "NMtXwH/Imb8=",
          "dtype": "f4"
         },
         "yaxis": "y2"
        },
        {
         "legendgroup": "pred",
         "marker": {
          "color": "#ff7f0e",
          "size": 6
         },
         "mode": "markers",
         "name": "Pred Group 34",
         "showlegend": false,
         "type": "scatter",
         "x": {
          "bdata": "ze6vQRvzqEE=",
          "dtype": "f4"
         },
         "xaxis": "x2",
         "y": {
          "bdata": "8IxWwkolX8I=",
          "dtype": "f4"
         },
         "yaxis": "y2"
        },
        {
         "legendgroup": "pred",
         "marker": {
          "color": "#ffbb78",
          "size": 6
         },
         "mode": "markers",
         "name": "Pred Group 35",
         "showlegend": false,
         "type": "scatter",
         "x": {
          "bdata": "lE7wwBCIJsE=",
          "dtype": "f4"
         },
         "xaxis": "x2",
         "y": {
          "bdata": "SPb2P0bRZcA=",
          "dtype": "f4"
         },
         "yaxis": "y2"
        },
        {
         "legendgroup": "pred",
         "marker": {
          "color": "#ffbb78",
          "size": 6
         },
         "mode": "markers",
         "name": "Pred Group 36",
         "showlegend": false,
         "type": "scatter",
         "x": {
          "bdata": "ZVoGQYaCxUA=",
          "dtype": "f4"
         },
         "xaxis": "x2",
         "y": {
          "bdata": "6unGQZK74kE=",
          "dtype": "f4"
         },
         "yaxis": "y2"
        },
        {
         "legendgroup": "pred",
         "marker": {
          "color": "#ffbb78",
          "size": 6
         },
         "mode": "markers",
         "name": "Pred Group 37",
         "showlegend": false,
         "type": "scatter",
         "x": {
          "bdata": "SblfwkjOYMI=",
          "dtype": "f4"
         },
         "xaxis": "x2",
         "y": {
          "bdata": "IgO2wYHfoME=",
          "dtype": "f4"
         },
         "yaxis": "y2"
        },
        {
         "legendgroup": "pred",
         "marker": {
          "color": "#ffbb78",
          "size": 6
         },
         "mode": "markers",
         "name": "Pred Group 38",
         "showlegend": false,
         "type": "scatter",
         "x": {
          "bdata": "wHYGQlEJCEI=",
          "dtype": "f4"
         },
         "xaxis": "x2",
         "y": {
          "bdata": "q9kGwmQIEcI=",
          "dtype": "f4"
         },
         "yaxis": "y2"
        },
        {
         "legendgroup": "pred",
         "marker": {
          "color": "#ffbb78",
          "size": 6
         },
         "mode": "markers",
         "name": "Pred Group 39",
         "showlegend": false,
         "type": "scatter",
         "x": {
          "bdata": "2D0uwYXZMsE=",
          "dtype": "f4"
         },
         "xaxis": "x2",
         "y": {
          "bdata": "+6nKwafu2cE=",
          "dtype": "f4"
         },
         "yaxis": "y2"
        },
        {
         "legendgroup": "pred",
         "marker": {
          "color": "#ffbb78",
          "size": 6
         },
         "mode": "markers",
         "name": "Pred Group 40",
         "showlegend": false,
         "type": "scatter",
         "x": {
          "bdata": "+/WSwU/epcE=",
          "dtype": "f4"
         },
         "xaxis": "x2",
         "y": {
          "bdata": "QGBywt7vdsI=",
          "dtype": "f4"
         },
         "yaxis": "y2"
        },
        {
         "legendgroup": "pred",
         "marker": {
          "color": "#ffbb78",
          "size": 6
         },
         "mode": "markers",
         "name": "Pred Group 41",
         "showlegend": false,
         "type": "scatter",
         "x": {
          "bdata": "ifQKQScJBEE=",
          "dtype": "f4"
         },
         "xaxis": "x2",
         "y": {
          "bdata": "avTlwYww58E=",
          "dtype": "f4"
         },
         "yaxis": "y2"
        },
        {
         "legendgroup": "pred",
         "marker": {
          "color": "#ffbb78",
          "size": 6
         },
         "mode": "markers",
         "name": "Pred Group 42",
         "showlegend": false,
         "type": "scatter",
         "x": {
          "bdata": "UIn6wb6m/ME=",
          "dtype": "f4"
         },
         "xaxis": "x2",
         "y": {
          "bdata": "pD+TQfOJlkE=",
          "dtype": "f4"
         },
         "yaxis": "y2"
        },
        {
         "legendgroup": "pred",
         "marker": {
          "color": "#ffbb78",
          "size": 6
         },
         "mode": "markers",
         "name": "Pred Group 43",
         "showlegend": false,
         "type": "scatter",
         "x": {
          "bdata": "W+HTwePk5ME=",
          "dtype": "f4"
         },
         "xaxis": "x2",
         "y": {
          "bdata": "fqxAQg5GQkI=",
          "dtype": "f4"
         },
         "yaxis": "y2"
        },
        {
         "legendgroup": "pred",
         "marker": {
          "color": "#ffbb78",
          "size": 6
         },
         "mode": "markers",
         "name": "Pred Group 44",
         "showlegend": false,
         "type": "scatter",
         "x": {
          "bdata": "czQDwgGcA8I=",
          "dtype": "f4"
         },
         "xaxis": "x2",
         "y": {
          "bdata": "MBeMwk6ujMI=",
          "dtype": "f4"
         },
         "yaxis": "y2"
        },
        {
         "legendgroup": "pred",
         "marker": {
          "color": "#ffbb78",
          "size": 6
         },
         "mode": "markers",
         "name": "Pred Group 45",
         "showlegend": false,
         "type": "scatter",
         "x": {
          "bdata": "AhjbwQ6t3cE=",
          "dtype": "f4"
         },
         "xaxis": "x2",
         "y": {
          "bdata": "epNhwvCnYcI=",
          "dtype": "f4"
         },
         "yaxis": "y2"
        },
        {
         "legendgroup": "pred",
         "marker": {
          "color": "#ffbb78",
          "size": 6
         },
         "mode": "markers",
         "name": "Pred Group 46",
         "showlegend": false,
         "type": "scatter",
         "x": {
          "bdata": "EXVpwvP2aMI=",
          "dtype": "f4"
         },
         "xaxis": "x2",
         "y": {
          "bdata": "rV3WwbB608E=",
          "dtype": "f4"
         },
         "yaxis": "y2"
        },
        {
         "legendgroup": "pred",
         "marker": {
          "color": "#2ca02c",
          "size": 6
         },
         "mode": "markers",
         "name": "Pred Group 47",
         "showlegend": false,
         "type": "scatter",
         "x": {
          "bdata": "hf+xPzIKcD8=",
          "dtype": "f4"
         },
         "xaxis": "x2",
         "y": {
          "bdata": "4VwHQYFUCUE=",
          "dtype": "f4"
         },
         "yaxis": "y2"
        },
        {
         "legendgroup": "pred",
         "marker": {
          "color": "#2ca02c",
          "size": 6
         },
         "mode": "markers",
         "name": "Pred Group 48",
         "showlegend": false,
         "type": "scatter",
         "x": {
          "bdata": "J7MowAiYTsA=",
          "dtype": "f4"
         },
         "xaxis": "x2",
         "y": {
          "bdata": "n+o5waEsPME=",
          "dtype": "f4"
         },
         "yaxis": "y2"
        },
        {
         "legendgroup": "pred",
         "marker": {
          "color": "#2ca02c",
          "size": 6
         },
         "mode": "markers",
         "name": "Pred Group 49",
         "showlegend": false,
         "type": "scatter",
         "x": {
          "bdata": "xCxXwUCyX8E=",
          "dtype": "f4"
         },
         "xaxis": "x2",
         "y": {
          "bdata": "cgpIQhbrRkI=",
          "dtype": "f4"
         },
         "yaxis": "y2"
        },
        {
         "legendgroup": "pred",
         "marker": {
          "color": "#2ca02c",
          "size": 6
         },
         "mode": "markers",
         "name": "Pred Group 50",
         "showlegend": false,
         "type": "scatter",
         "x": {
          "bdata": "XtilQWCfqUE=",
          "dtype": "f4"
         },
         "xaxis": "x2",
         "y": {
          "bdata": "UCAUwkziE8I=",
          "dtype": "f4"
         },
         "yaxis": "y2"
        },
        {
         "legendgroup": "pred",
         "marker": {
          "color": "#2ca02c",
          "size": 6
         },
         "mode": "markers",
         "name": "Pred Group 51",
         "showlegend": false,
         "type": "scatter",
         "x": {
          "bdata": "mGCiwdqun8E=",
          "dtype": "f4"
         },
         "xaxis": "x2",
         "y": {
          "bdata": "l3MCwiODAcI=",
          "dtype": "f4"
         },
         "yaxis": "y2"
        },
        {
         "legendgroup": "pred",
         "marker": {
          "color": "#2ca02c",
          "size": 6
         },
         "mode": "markers",
         "name": "Pred Group 52",
         "showlegend": false,
         "type": "scatter",
         "x": {
          "bdata": "CLItQg==",
          "dtype": "f4"
         },
         "xaxis": "x2",
         "y": {
          "bdata": "OILmQA==",
          "dtype": "f4"
         },
         "yaxis": "y2"
        },
        {
         "legendgroup": "pred",
         "marker": {
          "color": "#2ca02c",
          "size": 6
         },
         "mode": "markers",
         "name": "Pred Group 53",
         "showlegend": false,
         "type": "scatter",
         "x": {
          "bdata": "U66eQA==",
          "dtype": "f4"
         },
         "xaxis": "x2",
         "y": {
          "bdata": "lmWAwg==",
          "dtype": "f4"
         },
         "yaxis": "y2"
        },
        {
         "legendgroup": "pred",
         "marker": {
          "color": "#2ca02c",
          "size": 6
         },
         "mode": "markers",
         "name": "Pred Group 54",
         "showlegend": false,
         "type": "scatter",
         "x": {
          "bdata": "R8kZQg==",
          "dtype": "f4"
         },
         "xaxis": "x2",
         "y": {
          "bdata": "5kXewQ==",
          "dtype": "f4"
         },
         "yaxis": "y2"
        },
        {
         "legendgroup": "pred",
         "marker": {
          "color": "#2ca02c",
          "size": 6
         },
         "mode": "markers",
         "name": "Pred Group 55",
         "showlegend": false,
         "type": "scatter",
         "x": {
          "bdata": "SzQ/Qg==",
          "dtype": "f4"
         },
         "xaxis": "x2",
         "y": {
          "bdata": "pwAkwg==",
          "dtype": "f4"
         },
         "yaxis": "y2"
        },
        {
         "legendgroup": "pred",
         "marker": {
          "color": "#2ca02c",
          "size": 6
         },
         "mode": "markers",
         "name": "Pred Group 56",
         "showlegend": false,
         "type": "scatter",
         "x": {
          "bdata": "GBVGQg==",
          "dtype": "f4"
         },
         "xaxis": "x2",
         "y": {
          "bdata": "SDWgwQ==",
          "dtype": "f4"
         },
         "yaxis": "y2"
        },
        {
         "legendgroup": "pred",
         "marker": {
          "color": "#2ca02c",
          "size": 6
         },
         "mode": "markers",
         "name": "Pred Group 57",
         "showlegend": false,
         "type": "scatter",
         "x": {
          "bdata": "mim1QQ==",
          "dtype": "f4"
         },
         "xaxis": "x2",
         "y": {
          "bdata": "YdVUwg==",
          "dtype": "f4"
         },
         "yaxis": "y2"
        },
        {
         "legendgroup": "pred",
         "marker": {
          "color": "#98df8a",
          "size": 6
         },
         "mode": "markers",
         "name": "Pred Group 58",
         "showlegend": false,
         "type": "scatter",
         "x": {
          "bdata": "VfQWQQ==",
          "dtype": "f4"
         },
         "xaxis": "x2",
         "y": {
          "bdata": "LrRowg==",
          "dtype": "f4"
         },
         "yaxis": "y2"
        },
        {
         "legendgroup": "pred",
         "marker": {
          "color": "#98df8a",
          "size": 6
         },
         "mode": "markers",
         "name": "Pred Group 59",
         "showlegend": false,
         "type": "scatter",
         "x": {
          "bdata": "SojEQQ==",
          "dtype": "f4"
         },
         "xaxis": "x2",
         "y": {
          "bdata": "5LeZQA==",
          "dtype": "f4"
         },
         "yaxis": "y2"
        },
        {
         "legendgroup": "pred",
         "marker": {
          "color": "#98df8a",
          "size": 6
         },
         "mode": "markers",
         "name": "Pred Group 60",
         "showlegend": false,
         "type": "scatter",
         "x": {
          "bdata": "PVZoQg==",
          "dtype": "f4"
         },
         "xaxis": "x2",
         "y": {
          "bdata": "NbPCQA==",
          "dtype": "f4"
         },
         "yaxis": "y2"
        },
        {
         "legendgroup": "pred",
         "marker": {
          "color": "#98df8a",
          "size": 6
         },
         "mode": "markers",
         "name": "Pred Group 61",
         "showlegend": false,
         "type": "scatter",
         "x": {
          "bdata": "sueLQg==",
          "dtype": "f4"
         },
         "xaxis": "x2",
         "y": {
          "bdata": "vBRSQA==",
          "dtype": "f4"
         },
         "yaxis": "y2"
        },
        {
         "legendgroup": "pred",
         "marker": {
          "color": "#98df8a",
          "size": 6
         },
         "mode": "markers",
         "name": "Pred Group 62",
         "showlegend": false,
         "type": "scatter",
         "x": {
          "bdata": "ktEQwg==",
          "dtype": "f4"
         },
         "xaxis": "x2",
         "y": {
          "bdata": "kV7EQA==",
          "dtype": "f4"
         },
         "yaxis": "y2"
        },
        {
         "legendgroup": "pred",
         "marker": {
          "color": "#98df8a",
          "size": 6
         },
         "mode": "markers",
         "name": "Pred Group 63",
         "showlegend": false,
         "type": "scatter",
         "x": {
          "bdata": "kJkKwg==",
          "dtype": "f4"
         },
         "xaxis": "x2",
         "y": {
          "bdata": "mpu1wQ==",
          "dtype": "f4"
         },
         "yaxis": "y2"
        },
        {
         "legendgroup": "pred",
         "marker": {
          "color": "#98df8a",
          "size": 6
         },
         "mode": "markers",
         "name": "Pred Group 64",
         "showlegend": false,
         "type": "scatter",
         "x": {
          "bdata": "ZXA1Qg==",
          "dtype": "f4"
         },
         "xaxis": "x2",
         "y": {
          "bdata": "82k4QA==",
          "dtype": "f4"
         },
         "yaxis": "y2"
        },
        {
         "legendgroup": "pred",
         "marker": {
          "color": "#98df8a",
          "size": 6
         },
         "mode": "markers",
         "name": "Pred Group 65",
         "showlegend": false,
         "type": "scatter",
         "x": {
          "bdata": "1csmQQ==",
          "dtype": "f4"
         },
         "xaxis": "x2",
         "y": {
          "bdata": "gEakQQ==",
          "dtype": "f4"
         },
         "yaxis": "y2"
        },
        {
         "legendgroup": "pred",
         "marker": {
          "color": "#98df8a",
          "size": 6
         },
         "mode": "markers",
         "name": "Pred Group 66",
         "showlegend": false,
         "type": "scatter",
         "x": {
          "bdata": "KGMwwg==",
          "dtype": "f4"
         },
         "xaxis": "x2",
         "y": {
          "bdata": "UE7dPw==",
          "dtype": "f4"
         },
         "yaxis": "y2"
        },
        {
         "legendgroup": "pred",
         "marker": {
          "color": "#98df8a",
          "size": 6
         },
         "mode": "markers",
         "name": "Pred Group 67",
         "showlegend": false,
         "type": "scatter",
         "x": {
          "bdata": "ZArxwQ==",
          "dtype": "f4"
         },
         "xaxis": "x2",
         "y": {
          "bdata": "tmgUwQ==",
          "dtype": "f4"
         },
         "yaxis": "y2"
        },
        {
         "legendgroup": "pred",
         "marker": {
          "color": "#98df8a",
          "size": 6
         },
         "mode": "markers",
         "name": "Pred Group 68",
         "showlegend": false,
         "type": "scatter",
         "x": {
          "bdata": "xwPXQQ==",
          "dtype": "f4"
         },
         "xaxis": "x2",
         "y": {
          "bdata": "P78fQg==",
          "dtype": "f4"
         },
         "yaxis": "y2"
        },
        {
         "legendgroup": "pred",
         "marker": {
          "color": "#98df8a",
          "size": 6
         },
         "mode": "markers",
         "name": "Pred Group 69",
         "showlegend": false,
         "type": "scatter",
         "x": {
          "bdata": "b0d8Qg==",
          "dtype": "f4"
         },
         "xaxis": "x2",
         "y": {
          "bdata": "WQSiwA==",
          "dtype": "f4"
         },
         "yaxis": "y2"
        },
        {
         "legendgroup": "pred",
         "marker": {
          "color": "#d62728",
          "size": 6
         },
         "mode": "markers",
         "name": "Pred Group 70",
         "showlegend": false,
         "type": "scatter",
         "x": {
          "bdata": "Cw6iQQ==",
          "dtype": "f4"
         },
         "xaxis": "x2",
         "y": {
          "bdata": "zqmvQA==",
          "dtype": "f4"
         },
         "yaxis": "y2"
        },
        {
         "legendgroup": "pred",
         "marker": {
          "color": "#d62728",
          "size": 6
         },
         "mode": "markers",
         "name": "Pred Group 71",
         "showlegend": false,
         "type": "scatter",
         "x": {
          "bdata": "OqYyQQ==",
          "dtype": "f4"
         },
         "xaxis": "x2",
         "y": {
          "bdata": "9R4KQg==",
          "dtype": "f4"
         },
         "yaxis": "y2"
        },
        {
         "legendgroup": "pred",
         "marker": {
          "color": "#d62728",
          "size": 6
         },
         "mode": "markers",
         "name": "Pred Group 72",
         "showlegend": false,
         "type": "scatter",
         "x": {
          "bdata": "t7eNQQ==",
          "dtype": "f4"
         },
         "xaxis": "x2",
         "y": {
          "bdata": "t7xGQg==",
          "dtype": "f4"
         },
         "yaxis": "y2"
        },
        {
         "legendgroup": "pred",
         "marker": {
          "color": "#d62728",
          "size": 6
         },
         "mode": "markers",
         "name": "Pred Group 73",
         "showlegend": false,
         "type": "scatter",
         "x": {
          "bdata": "UrqrQQ==",
          "dtype": "f4"
         },
         "xaxis": "x2",
         "y": {
          "bdata": "Dg73QQ==",
          "dtype": "f4"
         },
         "yaxis": "y2"
        },
        {
         "legendgroup": "pred",
         "marker": {
          "color": "#d62728",
          "size": 6
         },
         "mode": "markers",
         "name": "Pred Group 74",
         "showlegend": false,
         "type": "scatter",
         "x": {
          "bdata": "Oz21wQ==",
          "dtype": "f4"
         },
         "xaxis": "x2",
         "y": {
          "bdata": "9ZOzQA==",
          "dtype": "f4"
         },
         "yaxis": "y2"
        },
        {
         "legendgroup": "pred",
         "marker": {
          "color": "#d62728",
          "size": 6
         },
         "mode": "markers",
         "name": "Pred Group 75",
         "showlegend": false,
         "type": "scatter",
         "x": {
          "bdata": "mkuMQg==",
          "dtype": "f4"
         },
         "xaxis": "x2",
         "y": {
          "bdata": "/Qx2QA==",
          "dtype": "f4"
         },
         "yaxis": "y2"
        },
        {
         "legendgroup": "pred",
         "marker": {
          "color": "#d62728",
          "size": 6
         },
         "mode": "markers",
         "name": "Pred Group 76",
         "showlegend": false,
         "type": "scatter",
         "x": {
          "bdata": "SZGoQQ==",
          "dtype": "f4"
         },
         "xaxis": "x2",
         "y": {
          "bdata": "6iFDQg==",
          "dtype": "f4"
         },
         "yaxis": "y2"
        },
        {
         "legendgroup": "pred",
         "marker": {
          "color": "#d62728",
          "size": 6
         },
         "mode": "markers",
         "name": "Pred Group 77",
         "showlegend": false,
         "type": "scatter",
         "x": {
          "bdata": "wFMYwQ==",
          "dtype": "f4"
         },
         "xaxis": "x2",
         "y": {
          "bdata": "cSOVwA==",
          "dtype": "f4"
         },
         "yaxis": "y2"
        },
        {
         "legendgroup": "pred",
         "marker": {
          "color": "#d62728",
          "size": 6
         },
         "mode": "markers",
         "name": "Pred Group 78",
         "showlegend": false,
         "type": "scatter",
         "x": {
          "bdata": "Gi0YQg==",
          "dtype": "f4"
         },
         "xaxis": "x2",
         "y": {
          "bdata": "NMvowQ==",
          "dtype": "f4"
         },
         "yaxis": "y2"
        },
        {
         "legendgroup": "pred",
         "marker": {
          "color": "#d62728",
          "size": 6
         },
         "mode": "markers",
         "name": "Pred Group 79",
         "showlegend": false,
         "type": "scatter",
         "x": {
          "bdata": "/Zs6QQ==",
          "dtype": "f4"
         },
         "xaxis": "x2",
         "y": {
          "bdata": "4n0MQg==",
          "dtype": "f4"
         },
         "yaxis": "y2"
        },
        {
         "legendgroup": "pred",
         "marker": {
          "color": "#d62728",
          "size": 6
         },
         "mode": "markers",
         "name": "Pred Group 80",
         "showlegend": false,
         "type": "scatter",
         "x": {
          "bdata": "PQARwg==",
          "dtype": "f4"
         },
         "xaxis": "x2",
         "y": {
          "bdata": "CbquwQ==",
          "dtype": "f4"
         },
         "yaxis": "y2"
        },
        {
         "legendgroup": "pred",
         "marker": {
          "color": "#ff9896",
          "size": 6
         },
         "mode": "markers",
         "name": "Pred Group 81",
         "showlegend": false,
         "type": "scatter",
         "x": {
          "bdata": "VkgEQA==",
          "dtype": "f4"
         },
         "xaxis": "x2",
         "y": {
          "bdata": "nOs4wg==",
          "dtype": "f4"
         },
         "yaxis": "y2"
        },
        {
         "legendgroup": "pred",
         "marker": {
          "color": "#ff9896",
          "size": 6
         },
         "mode": "markers",
         "name": "Pred Group 82",
         "showlegend": false,
         "type": "scatter",
         "x": {
          "bdata": "imPXwQ==",
          "dtype": "f4"
         },
         "xaxis": "x2",
         "y": {
          "bdata": "LlnxQQ==",
          "dtype": "f4"
         },
         "yaxis": "y2"
        },
        {
         "legendgroup": "pred",
         "marker": {
          "color": "#ff9896",
          "size": 6
         },
         "mode": "markers",
         "name": "Pred Group 83",
         "showlegend": false,
         "type": "scatter",
         "x": {
          "bdata": "eNI9wg==",
          "dtype": "f4"
         },
         "xaxis": "x2",
         "y": {
          "bdata": "SFXsQQ==",
          "dtype": "f4"
         },
         "yaxis": "y2"
        },
        {
         "legendgroup": "pred",
         "marker": {
          "color": "#ff9896",
          "size": 6
         },
         "mode": "markers",
         "name": "Pred Group 84",
         "showlegend": false,
         "type": "scatter",
         "x": {
          "bdata": "Cbt6Qg==",
          "dtype": "f4"
         },
         "xaxis": "x2",
         "y": {
          "bdata": "5F7NwA==",
          "dtype": "f4"
         },
         "yaxis": "y2"
        },
        {
         "legendgroup": "pred",
         "marker": {
          "color": "#ff9896",
          "size": 6
         },
         "mode": "markers",
         "name": "Pred Group 85",
         "showlegend": false,
         "type": "scatter",
         "x": {
          "bdata": "JmOJwQ==",
          "dtype": "f4"
         },
         "xaxis": "x2",
         "y": {
          "bdata": "w7Vuwg==",
          "dtype": "f4"
         },
         "yaxis": "y2"
        },
        {
         "legendgroup": "pred",
         "marker": {
          "color": "#ff9896",
          "size": 6
         },
         "mode": "markers",
         "name": "Pred Group 86",
         "showlegend": false,
         "type": "scatter",
         "x": {
          "bdata": "VcEhQQ==",
          "dtype": "f4"
         },
         "xaxis": "x2",
         "y": {
          "bdata": "hi9rwg==",
          "dtype": "f4"
         },
         "yaxis": "y2"
        },
        {
         "legendgroup": "pred",
         "marker": {
          "color": "#ff9896",
          "size": 6
         },
         "mode": "markers",
         "name": "Pred Group 87",
         "showlegend": false,
         "type": "scatter",
         "x": {
          "bdata": "bdqawQ==",
          "dtype": "f4"
         },
         "xaxis": "x2",
         "y": {
          "bdata": "ysmqQQ==",
          "dtype": "f4"
         },
         "yaxis": "y2"
        },
        {
         "legendgroup": "pred",
         "marker": {
          "color": "#ff9896",
          "size": 6
         },
         "mode": "markers",
         "name": "Pred Group 88",
         "showlegend": false,
         "type": "scatter",
         "x": {
          "bdata": "ABAuwg==",
          "dtype": "f4"
         },
         "xaxis": "x2",
         "y": {
          "bdata": "rDmfQQ==",
          "dtype": "f4"
         },
         "yaxis": "y2"
        },
        {
         "legendgroup": "pred",
         "marker": {
          "color": "#ff9896",
          "size": 6
         },
         "mode": "markers",
         "name": "Pred Group 89",
         "showlegend": false,
         "type": "scatter",
         "x": {
          "bdata": "WGwDQg==",
          "dtype": "f4"
         },
         "xaxis": "x2",
         "y": {
          "bdata": "veUDwg==",
          "dtype": "f4"
         },
         "yaxis": "y2"
        },
        {
         "legendgroup": "pred",
         "marker": {
          "color": "#ff9896",
          "size": 6
         },
         "mode": "markers",
         "name": "Pred Group 90",
         "showlegend": false,
         "type": "scatter",
         "x": {
          "bdata": "wpO2wQ==",
          "dtype": "f4"
         },
         "xaxis": "x2",
         "y": {
          "bdata": "Foa9QA==",
          "dtype": "f4"
         },
         "yaxis": "y2"
        },
        {
         "legendgroup": "pred",
         "marker": {
          "color": "#ff9896",
          "size": 6
         },
         "mode": "markers",
         "name": "Pred Group 91",
         "showlegend": false,
         "type": "scatter",
         "x": {
          "bdata": "HAcqwQ==",
          "dtype": "f4"
         },
         "xaxis": "x2",
         "y": {
          "bdata": "if05wQ==",
          "dtype": "f4"
         },
         "yaxis": "y2"
        },
        {
         "legendgroup": "pred",
         "marker": {
          "color": "#ff9896",
          "size": 6
         },
         "mode": "markers",
         "name": "Pred Group 92",
         "showlegend": false,
         "type": "scatter",
         "x": {
          "bdata": "op0uQQ==",
          "dtype": "f4"
         },
         "xaxis": "x2",
         "y": {
          "bdata": "+3wTQg==",
          "dtype": "f4"
         },
         "yaxis": "y2"
        },
        {
         "legendgroup": "pred",
         "marker": {
          "color": "#9467bd",
          "size": 6
         },
         "mode": "markers",
         "name": "Pred Group 93",
         "showlegend": false,
         "type": "scatter",
         "x": {
          "bdata": "Q9FQwQ==",
          "dtype": "f4"
         },
         "xaxis": "x2",
         "y": {
          "bdata": "PHfWwQ==",
          "dtype": "f4"
         },
         "yaxis": "y2"
        },
        {
         "legendgroup": "pred",
         "marker": {
          "color": "#9467bd",
          "size": 6
         },
         "mode": "markers",
         "name": "Pred Group 94",
         "showlegend": false,
         "type": "scatter",
         "x": {
          "bdata": "svoOQg==",
          "dtype": "f4"
         },
         "xaxis": "x2",
         "y": {
          "bdata": "vVEJwg==",
          "dtype": "f4"
         },
         "yaxis": "y2"
        },
        {
         "legendgroup": "pred",
         "marker": {
          "color": "#9467bd",
          "size": 6
         },
         "mode": "markers",
         "name": "Pred Group 95",
         "showlegend": false,
         "type": "scatter",
         "x": {
          "bdata": "qE1+QA==",
          "dtype": "f4"
         },
         "xaxis": "x2",
         "y": {
          "bdata": "nWpSQg==",
          "dtype": "f4"
         },
         "yaxis": "y2"
        },
        {
         "legendgroup": "pred",
         "marker": {
          "color": "#9467bd",
          "size": 6
         },
         "mode": "markers",
         "name": "Pred Group 96",
         "showlegend": false,
         "type": "scatter",
         "x": {
          "bdata": "P5VdwQ==",
          "dtype": "f4"
         },
         "xaxis": "x2",
         "y": {
          "bdata": "Pev+vw==",
          "dtype": "f4"
         },
         "yaxis": "y2"
        },
        {
         "legendgroup": "pred",
         "marker": {
          "color": "#9467bd",
          "size": 6
         },
         "mode": "markers",
         "name": "Pred Group 97",
         "showlegend": false,
         "type": "scatter",
         "x": {
          "bdata": "tNv8QQ==",
          "dtype": "f4"
         },
         "xaxis": "x2",
         "y": {
          "bdata": "bPAgQg==",
          "dtype": "f4"
         },
         "yaxis": "y2"
        },
        {
         "legendgroup": "pred",
         "marker": {
          "color": "#9467bd",
          "size": 6
         },
         "mode": "markers",
         "name": "Pred Group 98",
         "showlegend": false,
         "type": "scatter",
         "x": {
          "bdata": "HbkAQg==",
          "dtype": "f4"
         },
         "xaxis": "x2",
         "y": {
          "bdata": "UpUgQg==",
          "dtype": "f4"
         },
         "yaxis": "y2"
        },
        {
         "legendgroup": "pred",
         "marker": {
          "color": "#9467bd",
          "size": 6
         },
         "mode": "markers",
         "name": "Pred Group 99",
         "showlegend": false,
         "type": "scatter",
         "x": {
          "bdata": "25RrwQ==",
          "dtype": "f4"
         },
         "xaxis": "x2",
         "y": {
          "bdata": "E0UfwA==",
          "dtype": "f4"
         },
         "yaxis": "y2"
        },
        {
         "legendgroup": "pred",
         "marker": {
          "color": "#9467bd",
          "size": 6
         },
         "mode": "markers",
         "name": "Pred Group 100",
         "showlegend": false,
         "type": "scatter",
         "x": {
          "bdata": "xaMLQQ==",
          "dtype": "f4"
         },
         "xaxis": "x2",
         "y": {
          "bdata": "W1wTQQ==",
          "dtype": "f4"
         },
         "yaxis": "y2"
        },
        {
         "legendgroup": "pred",
         "marker": {
          "color": "#9467bd",
          "size": 6
         },
         "mode": "markers",
         "name": "Pred Group 101",
         "showlegend": false,
         "type": "scatter",
         "x": {
          "bdata": "DOSgwQ==",
          "dtype": "f4"
         },
         "xaxis": "x2",
         "y": {
          "bdata": "CoYUwQ==",
          "dtype": "f4"
         },
         "yaxis": "y2"
        },
        {
         "legendgroup": "pred",
         "marker": {
          "color": "#9467bd",
          "size": 6
         },
         "mode": "markers",
         "name": "Pred Group 102",
         "showlegend": false,
         "type": "scatter",
         "x": {
          "bdata": "4hEXwQ==",
          "dtype": "f4"
         },
         "xaxis": "x2",
         "y": {
          "bdata": "hLCAQg==",
          "dtype": "f4"
         },
         "yaxis": "y2"
        },
        {
         "legendgroup": "pred",
         "marker": {
          "color": "#9467bd",
          "size": 6
         },
         "mode": "markers",
         "name": "Pred Group 103",
         "showlegend": false,
         "type": "scatter",
         "x": {
          "bdata": "5fYMwg==",
          "dtype": "f4"
         },
         "xaxis": "x2",
         "y": {
          "bdata": "XViDQg==",
          "dtype": "f4"
         },
         "yaxis": "y2"
        },
        {
         "legendgroup": "pred",
         "marker": {
          "color": "#c5b0d5",
          "size": 6
         },
         "mode": "markers",
         "name": "Pred Group 104",
         "showlegend": false,
         "type": "scatter",
         "x": {
          "bdata": "gkOJQQ==",
          "dtype": "f4"
         },
         "xaxis": "x2",
         "y": {
          "bdata": "JAYYwg==",
          "dtype": "f4"
         },
         "yaxis": "y2"
        },
        {
         "legendgroup": "pred",
         "marker": {
          "color": "#c5b0d5",
          "size": 6
         },
         "mode": "markers",
         "name": "Pred Group 105",
         "showlegend": false,
         "type": "scatter",
         "x": {
          "bdata": "7vBvPg==",
          "dtype": "f4"
         },
         "xaxis": "x2",
         "y": {
          "bdata": "Vk2TQg==",
          "dtype": "f4"
         },
         "yaxis": "y2"
        },
        {
         "legendgroup": "pred",
         "marker": {
          "color": "#c5b0d5",
          "size": 6
         },
         "mode": "markers",
         "name": "Pred Group 106",
         "showlegend": false,
         "type": "scatter",
         "x": {
          "bdata": "8nC0wQ==",
          "dtype": "f4"
         },
         "xaxis": "x2",
         "y": {
          "bdata": "53L+QQ==",
          "dtype": "f4"
         },
         "yaxis": "y2"
        },
        {
         "legendgroup": "pred",
         "marker": {
          "color": "#c5b0d5",
          "size": 6
         },
         "mode": "markers",
         "name": "Pred Group 107",
         "showlegend": false,
         "type": "scatter",
         "x": {
          "bdata": "g0u2wQ==",
          "dtype": "f4"
         },
         "xaxis": "x2",
         "y": {
          "bdata": "1g51Qg==",
          "dtype": "f4"
         },
         "yaxis": "y2"
        },
        {
         "legendgroup": "pred",
         "marker": {
          "color": "#c5b0d5",
          "size": 6
         },
         "mode": "markers",
         "name": "Pred Group 108",
         "showlegend": false,
         "type": "scatter",
         "x": {
          "bdata": "KvJ7QQ==",
          "dtype": "f4"
         },
         "xaxis": "x2",
         "y": {
          "bdata": "8qQrQg==",
          "dtype": "f4"
         },
         "yaxis": "y2"
        },
        {
         "legendgroup": "pred",
         "marker": {
          "color": "#c5b0d5",
          "size": 6
         },
         "mode": "markers",
         "name": "Pred Group 109",
         "showlegend": false,
         "type": "scatter",
         "x": {
          "bdata": "d52DwA==",
          "dtype": "f4"
         },
         "xaxis": "x2",
         "y": {
          "bdata": "gqtWQg==",
          "dtype": "f4"
         },
         "yaxis": "y2"
        },
        {
         "legendgroup": "pred",
         "marker": {
          "color": "#c5b0d5",
          "size": 6
         },
         "mode": "markers",
         "name": "Pred Group 110",
         "showlegend": false,
         "type": "scatter",
         "x": {
          "bdata": "HvwQwg==",
          "dtype": "f4"
         },
         "xaxis": "x2",
         "y": {
          "bdata": "5CzXQA==",
          "dtype": "f4"
         },
         "yaxis": "y2"
        },
        {
         "legendgroup": "pred",
         "marker": {
          "color": "#c5b0d5",
          "size": 6
         },
         "mode": "markers",
         "name": "Pred Group 111",
         "showlegend": false,
         "type": "scatter",
         "x": {
          "bdata": "zLvewQ==",
          "dtype": "f4"
         },
         "xaxis": "x2",
         "y": {
          "bdata": "plGJQg==",
          "dtype": "f4"
         },
         "yaxis": "y2"
        },
        {
         "legendgroup": "pred",
         "marker": {
          "color": "#c5b0d5",
          "size": 6
         },
         "mode": "markers",
         "name": "Pred Group 112",
         "showlegend": false,
         "type": "scatter",
         "x": {
          "bdata": "8nefwQ==",
          "dtype": "f4"
         },
         "xaxis": "x2",
         "y": {
          "bdata": "MlEKQg==",
          "dtype": "f4"
         },
         "yaxis": "y2"
        },
        {
         "legendgroup": "pred",
         "marker": {
          "color": "#c5b0d5",
          "size": 6
         },
         "mode": "markers",
         "name": "Pred Group 113",
         "showlegend": false,
         "type": "scatter",
         "x": {
          "bdata": "OmzewQ==",
          "dtype": "f4"
         },
         "xaxis": "x2",
         "y": {
          "bdata": "PzdmQg==",
          "dtype": "f4"
         },
         "yaxis": "y2"
        },
        {
         "legendgroup": "pred",
         "marker": {
          "color": "#c5b0d5",
          "size": 6
         },
         "mode": "markers",
         "name": "Pred Group 114",
         "showlegend": false,
         "type": "scatter",
         "x": {
          "bdata": "cKkKwg==",
          "dtype": "f4"
         },
         "xaxis": "x2",
         "y": {
          "bdata": "CM1dQg==",
          "dtype": "f4"
         },
         "yaxis": "y2"
        },
        {
         "legendgroup": "pred",
         "marker": {
          "color": "#c5b0d5",
          "size": 6
         },
         "mode": "markers",
         "name": "Pred Group 115",
         "showlegend": false,
         "type": "scatter",
         "x": {
          "bdata": "DJcIwg==",
          "dtype": "f4"
         },
         "xaxis": "x2",
         "y": {
          "bdata": "mr1fQg==",
          "dtype": "f4"
         },
         "yaxis": "y2"
        },
        {
         "legendgroup": "pred",
         "marker": {
          "color": "#8c564b",
          "size": 6
         },
         "mode": "markers",
         "name": "Pred Group 116",
         "showlegend": false,
         "type": "scatter",
         "x": {
          "bdata": "Q5o9QQ==",
          "dtype": "f4"
         },
         "xaxis": "x2",
         "y": {
          "bdata": "i5fswQ==",
          "dtype": "f4"
         },
         "yaxis": "y2"
        },
        {
         "legendgroup": "pred",
         "marker": {
          "color": "#8c564b",
          "size": 6
         },
         "mode": "markers",
         "name": "Pred Group 117",
         "showlegend": false,
         "type": "scatter",
         "x": {
          "bdata": "OqriwQ==",
          "dtype": "f4"
         },
         "xaxis": "x2",
         "y": {
          "bdata": "2QVAQg==",
          "dtype": "f4"
         },
         "yaxis": "y2"
        },
        {
         "legendgroup": "pred",
         "marker": {
          "color": "#8c564b",
          "size": 6
         },
         "mode": "markers",
         "name": "Pred Group 118",
         "showlegend": false,
         "type": "scatter",
         "x": {
          "bdata": "G7LUPg==",
          "dtype": "f4"
         },
         "xaxis": "x2",
         "y": {
          "bdata": "bmR2Qg==",
          "dtype": "f4"
         },
         "yaxis": "y2"
        },
        {
         "legendgroup": "pred",
         "marker": {
          "color": "#8c564b",
          "size": 6
         },
         "mode": "markers",
         "name": "Pred Group 119",
         "showlegend": false,
         "type": "scatter",
         "x": {
          "bdata": "3OGzQQ==",
          "dtype": "f4"
         },
         "xaxis": "x2",
         "y": {
          "bdata": "c0mbwQ==",
          "dtype": "f4"
         },
         "yaxis": "y2"
        },
        {
         "legendgroup": "pred",
         "marker": {
          "color": "#8c564b",
          "size": 6
         },
         "mode": "markers",
         "name": "Pred Group 120",
         "showlegend": false,
         "type": "scatter",
         "x": {
          "bdata": "rQpyQQ==",
          "dtype": "f4"
         },
         "xaxis": "x2",
         "y": {
          "bdata": "ZCJGQg==",
          "dtype": "f4"
         },
         "yaxis": "y2"
        },
        {
         "legendgroup": "pred",
         "marker": {
          "color": "#8c564b",
          "size": 6
         },
         "mode": "markers",
         "name": "Pred Group 121",
         "showlegend": false,
         "type": "scatter",
         "x": {
          "bdata": "U72DwA==",
          "dtype": "f4"
         },
         "xaxis": "x2",
         "y": {
          "bdata": "yuCOQg==",
          "dtype": "f4"
         },
         "yaxis": "y2"
        },
        {
         "legendgroup": "pred",
         "marker": {
          "color": "#8c564b",
          "size": 6
         },
         "mode": "markers",
         "name": "Pred Group 122",
         "showlegend": false,
         "type": "scatter",
         "x": {
          "bdata": "YF3nwQ==",
          "dtype": "f4"
         },
         "xaxis": "x2",
         "y": {
          "bdata": "DpR0Qg==",
          "dtype": "f4"
         },
         "yaxis": "y2"
        },
        {
         "legendgroup": "pred",
         "marker": {
          "color": "#8c564b",
          "size": 6
         },
         "mode": "markers",
         "name": "Pred Group 123",
         "showlegend": false,
         "type": "scatter",
         "x": {
          "bdata": "R9+Cvw==",
          "dtype": "f4"
         },
         "xaxis": "x2",
         "y": {
          "bdata": "gVORQg==",
          "dtype": "f4"
         },
         "yaxis": "y2"
        },
        {
         "legendgroup": "pred",
         "marker": {
          "color": "#8c564b",
          "size": 6
         },
         "mode": "markers",
         "name": "Pred Group 124",
         "showlegend": false,
         "type": "scatter",
         "x": {
          "bdata": "5SniwQ==",
          "dtype": "f4"
         },
         "xaxis": "x2",
         "y": {
          "bdata": "OoZ2Qg==",
          "dtype": "f4"
         },
         "yaxis": "y2"
        },
        {
         "legendgroup": "pred",
         "marker": {
          "color": "#8c564b",
          "size": 6
         },
         "mode": "markers",
         "name": "Pred Group 125",
         "showlegend": false,
         "type": "scatter",
         "x": {
          "bdata": "KW4IwQ==",
          "dtype": "f4"
         },
         "xaxis": "x2",
         "y": {
          "bdata": "ilOEQg==",
          "dtype": "f4"
         },
         "yaxis": "y2"
        },
        {
         "legendgroup": "pred",
         "marker": {
          "color": "#8c564b",
          "size": 6
         },
         "mode": "markers",
         "name": "Pred Group 126",
         "showlegend": false,
         "type": "scatter",
         "x": {
          "bdata": "fYCpQQ==",
          "dtype": "f4"
         },
         "xaxis": "x2",
         "y": {
          "bdata": "9dMjQA==",
          "dtype": "f4"
         },
         "yaxis": "y2"
        },
        {
         "legendgroup": "pred",
         "marker": {
          "color": "#8c564b",
          "size": 6
         },
         "mode": "markers",
         "name": "Pred Group 127",
         "showlegend": false,
         "type": "scatter",
         "x": {
          "bdata": "/ccUwA==",
          "dtype": "f4"
         },
         "xaxis": "x2",
         "y": {
          "bdata": "zm4Gwg==",
          "dtype": "f4"
         },
         "yaxis": "y2"
        },
        {
         "legendgroup": "pred",
         "marker": {
          "color": "#c49c94",
          "size": 6
         },
         "mode": "markers",
         "name": "Pred Group 128",
         "showlegend": false,
         "type": "scatter",
         "x": {
          "bdata": "X+PFwQ==",
          "dtype": "f4"
         },
         "xaxis": "x2",
         "y": {
          "bdata": "OMBCQg==",
          "dtype": "f4"
         },
         "yaxis": "y2"
        },
        {
         "legendgroup": "pred",
         "marker": {
          "color": "#c49c94",
          "size": 6
         },
         "mode": "markers",
         "name": "Pred Group 129",
         "showlegend": false,
         "type": "scatter",
         "x": {
          "bdata": "tHs+wQ==",
          "dtype": "f4"
         },
         "xaxis": "x2",
         "y": {
          "bdata": "m/NJQg==",
          "dtype": "f4"
         },
         "yaxis": "y2"
        },
        {
         "legendgroup": "pred",
         "marker": {
          "color": "#c49c94",
          "size": 6
         },
         "mode": "markers",
         "name": "Pred Group 130",
         "showlegend": false,
         "type": "scatter",
         "x": {
          "bdata": "sCtpQg==",
          "dtype": "f4"
         },
         "xaxis": "x2",
         "y": {
          "bdata": "FXoHQQ==",
          "dtype": "f4"
         },
         "yaxis": "y2"
        },
        {
         "legendgroup": "pred",
         "marker": {
          "color": "#c49c94",
          "size": 6
         },
         "mode": "markers",
         "name": "Pred Group 131",
         "showlegend": false,
         "type": "scatter",
         "x": {
          "bdata": "MJm3QA==",
          "dtype": "f4"
         },
         "xaxis": "x2",
         "y": {
          "bdata": "6n2zQQ==",
          "dtype": "f4"
         },
         "yaxis": "y2"
        },
        {
         "legendgroup": "pred",
         "marker": {
          "color": "#c49c94",
          "size": 6
         },
         "mode": "markers",
         "name": "Pred Group 132",
         "showlegend": false,
         "type": "scatter",
         "x": {
          "bdata": "CMbVwQ==",
          "dtype": "f4"
         },
         "xaxis": "x2",
         "y": {
          "bdata": "DhB5Qg==",
          "dtype": "f4"
         },
         "yaxis": "y2"
        },
        {
         "legendgroup": "pred",
         "marker": {
          "color": "#c49c94",
          "size": 6
         },
         "mode": "markers",
         "name": "Pred Group 133",
         "showlegend": false,
         "type": "scatter",
         "x": {
          "bdata": "mzXdwQ==",
          "dtype": "f4"
         },
         "xaxis": "x2",
         "y": {
          "bdata": "+2DCwQ==",
          "dtype": "f4"
         },
         "yaxis": "y2"
        },
        {
         "legendgroup": "pred",
         "marker": {
          "color": "#c49c94",
          "size": 6
         },
         "mode": "markers",
         "name": "Pred Group 134",
         "showlegend": false,
         "type": "scatter",
         "x": {
          "bdata": "HowtQQ==",
          "dtype": "f4"
         },
         "xaxis": "x2",
         "y": {
          "bdata": "5HeYQQ==",
          "dtype": "f4"
         },
         "yaxis": "y2"
        },
        {
         "legendgroup": "pred",
         "marker": {
          "color": "#c49c94",
          "size": 6
         },
         "mode": "markers",
         "name": "Pred Group 135",
         "showlegend": false,
         "type": "scatter",
         "x": {
          "bdata": "1SS2wQ==",
          "dtype": "f4"
         },
         "xaxis": "x2",
         "y": {
          "bdata": "Ao+Nwg==",
          "dtype": "f4"
         },
         "yaxis": "y2"
        },
        {
         "legendgroup": "pred",
         "marker": {
          "color": "#c49c94",
          "size": 6
         },
         "mode": "markers",
         "name": "Pred Group 136",
         "showlegend": false,
         "type": "scatter",
         "x": {
          "bdata": "8MaUQQ==",
          "dtype": "f4"
         },
         "xaxis": "x2",
         "y": {
          "bdata": "CnvUQA==",
          "dtype": "f4"
         },
         "yaxis": "y2"
        },
        {
         "legendgroup": "pred",
         "marker": {
          "color": "#c49c94",
          "size": 6
         },
         "mode": "markers",
         "name": "Pred Group 137",
         "showlegend": false,
         "type": "scatter",
         "x": {
          "bdata": "vV6fQQ==",
          "dtype": "f4"
         },
         "xaxis": "x2",
         "y": {
          "bdata": "X4o1Qg==",
          "dtype": "f4"
         },
         "yaxis": "y2"
        },
        {
         "legendgroup": "pred",
         "marker": {
          "color": "#c49c94",
          "size": 6
         },
         "mode": "markers",
         "name": "Pred Group 138",
         "showlegend": false,
         "type": "scatter",
         "x": {
          "bdata": "wJFDwA==",
          "dtype": "f4"
         },
         "xaxis": "x2",
         "y": {
          "bdata": "R/KMQg==",
          "dtype": "f4"
         },
         "yaxis": "y2"
        },
        {
         "legendgroup": "pred",
         "marker": {
          "color": "#e377c2",
          "size": 6
         },
         "mode": "markers",
         "name": "Pred Group 139",
         "showlegend": false,
         "type": "scatter",
         "x": {
          "bdata": "siQ3wg==",
          "dtype": "f4"
         },
         "xaxis": "x2",
         "y": {
          "bdata": "pPHhQQ==",
          "dtype": "f4"
         },
         "yaxis": "y2"
        },
        {
         "legendgroup": "pred",
         "marker": {
          "color": "#e377c2",
          "size": 6
         },
         "mode": "markers",
         "name": "Pred Group 140",
         "showlegend": false,
         "type": "scatter",
         "x": {
          "bdata": "A04Bwg==",
          "dtype": "f4"
         },
         "xaxis": "x2",
         "y": {
          "bdata": "xqegQQ==",
          "dtype": "f4"
         },
         "yaxis": "y2"
        },
        {
         "legendgroup": "pred",
         "marker": {
          "color": "#e377c2",
          "size": 6
         },
         "mode": "markers",
         "name": "Pred Group 141",
         "showlegend": false,
         "type": "scatter",
         "x": {
          "bdata": "OrbdPw==",
          "dtype": "f4"
         },
         "xaxis": "x2",
         "y": {
          "bdata": "5ZANwg==",
          "dtype": "f4"
         },
         "yaxis": "y2"
        },
        {
         "legendgroup": "pred",
         "marker": {
          "color": "#e377c2",
          "size": 6
         },
         "mode": "markers",
         "name": "Pred Group 142",
         "showlegend": false,
         "type": "scatter",
         "x": {
          "bdata": "6sWRQg==",
          "dtype": "f4"
         },
         "xaxis": "x2",
         "y": {
          "bdata": "ZWBYQA==",
          "dtype": "f4"
         },
         "yaxis": "y2"
        },
        {
         "legendgroup": "pred",
         "marker": {
          "color": "#e377c2",
          "size": 6
         },
         "mode": "markers",
         "name": "Pred Group 143",
         "showlegend": false,
         "type": "scatter",
         "x": {
          "bdata": "odsXwg==",
          "dtype": "f4"
         },
         "xaxis": "x2",
         "y": {
          "bdata": "9MX2QQ==",
          "dtype": "f4"
         },
         "yaxis": "y2"
        },
        {
         "legendgroup": "pred",
         "marker": {
          "color": "#e377c2",
          "size": 6
         },
         "mode": "markers",
         "name": "Pred Group 144",
         "showlegend": false,
         "type": "scatter",
         "x": {
          "bdata": "yfjYwA==",
          "dtype": "f4"
         },
         "xaxis": "x2",
         "y": {
          "bdata": "wld/Qg==",
          "dtype": "f4"
         },
         "yaxis": "y2"
        },
        {
         "legendgroup": "pred",
         "marker": {
          "color": "#e377c2",
          "size": 6
         },
         "mode": "markers",
         "name": "Pred Group 145",
         "showlegend": false,
         "type": "scatter",
         "x": {
          "bdata": "9vb7wQ==",
          "dtype": "f4"
         },
         "xaxis": "x2",
         "y": {
          "bdata": "APtvQg==",
          "dtype": "f4"
         },
         "yaxis": "y2"
        },
        {
         "legendgroup": "pred",
         "marker": {
          "color": "#e377c2",
          "size": 6
         },
         "mode": "markers",
         "name": "Pred Group 146",
         "showlegend": false,
         "type": "scatter",
         "x": {
          "bdata": "5MvzQQ==",
          "dtype": "f4"
         },
         "xaxis": "x2",
         "y": {
          "bdata": "Yh1SwQ==",
          "dtype": "f4"
         },
         "yaxis": "y2"
        },
        {
         "legendgroup": "pred",
         "marker": {
          "color": "#e377c2",
          "size": 6
         },
         "mode": "markers",
         "name": "Pred Group 147",
         "showlegend": false,
         "type": "scatter",
         "x": {
          "bdata": "PBstQQ==",
          "dtype": "f4"
         },
         "xaxis": "x2",
         "y": {
          "bdata": "CFbYQA==",
          "dtype": "f4"
         },
         "yaxis": "y2"
        },
        {
         "legendgroup": "pred",
         "marker": {
          "color": "#e377c2",
          "size": 6
         },
         "mode": "markers",
         "name": "Pred Group 148",
         "showlegend": false,
         "type": "scatter",
         "x": {
          "bdata": "4kl+wQ==",
          "dtype": "f4"
         },
         "xaxis": "x2",
         "y": {
          "bdata": "dAGewQ==",
          "dtype": "f4"
         },
         "yaxis": "y2"
        },
        {
         "legendgroup": "pred",
         "marker": {
          "color": "#e377c2",
          "size": 6
         },
         "mode": "markers",
         "name": "Pred Group 149",
         "showlegend": false,
         "type": "scatter",
         "x": {
          "bdata": "AO+XwQ==",
          "dtype": "f4"
         },
         "xaxis": "x2",
         "y": {
          "bdata": "ZfL1QQ==",
          "dtype": "f4"
         },
         "yaxis": "y2"
        },
        {
         "legendgroup": "pred",
         "marker": {
          "color": "#e377c2",
          "size": 6
         },
         "mode": "markers",
         "name": "Pred Group 150",
         "showlegend": false,
         "type": "scatter",
         "x": {
          "bdata": "jLzxwQ==",
          "dtype": "f4"
         },
         "xaxis": "x2",
         "y": {
          "bdata": "pyV6Qg==",
          "dtype": "f4"
         },
         "yaxis": "y2"
        },
        {
         "legendgroup": "pred",
         "marker": {
          "color": "#f7b6d2",
          "size": 6
         },
         "mode": "markers",
         "name": "Pred Group 151",
         "showlegend": false,
         "type": "scatter",
         "x": {
          "bdata": "nLYCwQ==",
          "dtype": "f4"
         },
         "xaxis": "x2",
         "y": {
          "bdata": "nUObwA==",
          "dtype": "f4"
         },
         "yaxis": "y2"
        },
        {
         "legendgroup": "pred",
         "marker": {
          "color": "#f7b6d2",
          "size": 6
         },
         "mode": "markers",
         "name": "Pred Group 152",
         "showlegend": false,
         "type": "scatter",
         "x": {
          "bdata": "E2rhwQ==",
          "dtype": "f4"
         },
         "xaxis": "x2",
         "y": {
          "bdata": "+5qGQg==",
          "dtype": "f4"
         },
         "yaxis": "y2"
        },
        {
         "legendgroup": "pred",
         "marker": {
          "color": "#f7b6d2",
          "size": 6
         },
         "mode": "markers",
         "name": "Pred Group 153",
         "showlegend": false,
         "type": "scatter",
         "x": {
          "bdata": "V6V4wQ==",
          "dtype": "f4"
         },
         "xaxis": "x2",
         "y": {
          "bdata": "AgVnQg==",
          "dtype": "f4"
         },
         "yaxis": "y2"
        },
        {
         "legendgroup": "pred",
         "marker": {
          "color": "#f7b6d2",
          "size": 6
         },
         "mode": "markers",
         "name": "Pred Group 154",
         "showlegend": false,
         "type": "scatter",
         "x": {
          "bdata": "O/ziwQ==",
          "dtype": "f4"
         },
         "xaxis": "x2",
         "y": {
          "bdata": "8KaEQg==",
          "dtype": "f4"
         },
         "yaxis": "y2"
        },
        {
         "legendgroup": "pred",
         "marker": {
          "color": "#f7b6d2",
          "size": 6
         },
         "mode": "markers",
         "name": "Pred Group 155",
         "showlegend": false,
         "type": "scatter",
         "x": {
          "bdata": "NlWwwQ==",
          "dtype": "f4"
         },
         "xaxis": "x2",
         "y": {
          "bdata": "JdR4Qg==",
          "dtype": "f4"
         },
         "yaxis": "y2"
        },
        {
         "legendgroup": "pred",
         "marker": {
          "color": "#f7b6d2",
          "size": 6
         },
         "mode": "markers",
         "name": "Pred Group 156",
         "showlegend": false,
         "type": "scatter",
         "x": {
          "bdata": "U2TAQQ==",
          "dtype": "f4"
         },
         "xaxis": "x2",
         "y": {
          "bdata": "tXtCQg==",
          "dtype": "f4"
         },
         "yaxis": "y2"
        },
        {
         "legendgroup": "pred",
         "marker": {
          "color": "#f7b6d2",
          "size": 6
         },
         "mode": "markers",
         "name": "Pred Group 157",
         "showlegend": false,
         "type": "scatter",
         "x": {
          "bdata": "I0oGwg==",
          "dtype": "f4"
         },
         "xaxis": "x2",
         "y": {
          "bdata": "HOKqPw==",
          "dtype": "f4"
         },
         "yaxis": "y2"
        },
        {
         "legendgroup": "pred",
         "marker": {
          "color": "#f7b6d2",
          "size": 6
         },
         "mode": "markers",
         "name": "Pred Group 158",
         "showlegend": false,
         "type": "scatter",
         "x": {
          "bdata": "FyrtwQ==",
          "dtype": "f4"
         },
         "xaxis": "x2",
         "y": {
          "bdata": "xpRVQg==",
          "dtype": "f4"
         },
         "yaxis": "y2"
        },
        {
         "legendgroup": "pred",
         "marker": {
          "color": "#f7b6d2",
          "size": 6
         },
         "mode": "markers",
         "name": "Pred Group 159",
         "showlegend": false,
         "type": "scatter",
         "x": {
          "bdata": "HWHJQQ==",
          "dtype": "f4"
         },
         "xaxis": "x2",
         "y": {
          "bdata": "hTBFQg==",
          "dtype": "f4"
         },
         "yaxis": "y2"
        },
        {
         "legendgroup": "pred",
         "marker": {
          "color": "#f7b6d2",
          "size": 6
         },
         "mode": "markers",
         "name": "Pred Group 160",
         "showlegend": false,
         "type": "scatter",
         "x": {
          "bdata": "RXEhwg==",
          "dtype": "f4"
         },
         "xaxis": "x2",
         "y": {
          "bdata": "Y3N5wA==",
          "dtype": "f4"
         },
         "yaxis": "y2"
        },
        {
         "legendgroup": "pred",
         "marker": {
          "color": "#f7b6d2",
          "size": 6
         },
         "mode": "markers",
         "name": "Pred Group 161",
         "showlegend": false,
         "type": "scatter",
         "x": {
          "bdata": "SVjqwQ==",
          "dtype": "f4"
         },
         "xaxis": "x2",
         "y": {
          "bdata": "AnNOQg==",
          "dtype": "f4"
         },
         "yaxis": "y2"
        },
        {
         "legendgroup": "pred",
         "marker": {
          "color": "#7f7f7f",
          "size": 6
         },
         "mode": "markers",
         "name": "Pred Group 162",
         "showlegend": false,
         "type": "scatter",
         "x": {
          "bdata": "/caLwQ==",
          "dtype": "f4"
         },
         "xaxis": "x2",
         "y": {
          "bdata": "s4nxQQ==",
          "dtype": "f4"
         },
         "yaxis": "y2"
        },
        {
         "legendgroup": "pred",
         "marker": {
          "color": "#7f7f7f",
          "size": 6
         },
         "mode": "markers",
         "name": "Pred Group 163",
         "showlegend": false,
         "type": "scatter",
         "x": {
          "bdata": "m1yPQA==",
          "dtype": "f4"
         },
         "xaxis": "x2",
         "y": {
          "bdata": "sfGvQQ==",
          "dtype": "f4"
         },
         "yaxis": "y2"
        },
        {
         "legendgroup": "pred",
         "marker": {
          "color": "#7f7f7f",
          "size": 6
         },
         "mode": "markers",
         "name": "Pred Group 164",
         "showlegend": false,
         "type": "scatter",
         "x": {
          "bdata": "vbvzwQ==",
          "dtype": "f4"
         },
         "xaxis": "x2",
         "y": {
          "bdata": "0Lw/Qg==",
          "dtype": "f4"
         },
         "yaxis": "y2"
        },
        {
         "legendgroup": "pred",
         "marker": {
          "color": "#7f7f7f",
          "size": 6
         },
         "mode": "markers",
         "name": "Pred Group 165",
         "showlegend": false,
         "type": "scatter",
         "x": {
          "bdata": "iZPhwQ==",
          "dtype": "f4"
         },
         "xaxis": "x2",
         "y": {
          "bdata": "O19eQg==",
          "dtype": "f4"
         },
         "yaxis": "y2"
        },
        {
         "legendgroup": "pred",
         "marker": {
          "color": "#7f7f7f",
          "size": 6
         },
         "mode": "markers",
         "name": "Pred Group 166",
         "showlegend": false,
         "type": "scatter",
         "x": {
          "bdata": "eA/zwQ==",
          "dtype": "f4"
         },
         "xaxis": "x2",
         "y": {
          "bdata": "QPw4Qg==",
          "dtype": "f4"
         },
         "yaxis": "y2"
        },
        {
         "legendgroup": "pred",
         "marker": {
          "color": "#7f7f7f",
          "size": 6
         },
         "mode": "markers",
         "name": "Pred Group 167",
         "showlegend": false,
         "type": "scatter",
         "x": {
          "bdata": "Rk2MQQ==",
          "dtype": "f4"
         },
         "xaxis": "x2",
         "y": {
          "bdata": "choXwg==",
          "dtype": "f4"
         },
         "yaxis": "y2"
        },
        {
         "legendgroup": "pred",
         "marker": {
          "color": "#7f7f7f",
          "size": 6
         },
         "mode": "markers",
         "name": "Pred Group 168",
         "showlegend": false,
         "type": "scatter",
         "x": {
          "bdata": "2YuPwQ==",
          "dtype": "f4"
         },
         "xaxis": "x2",
         "y": {
          "bdata": "4XVuQg==",
          "dtype": "f4"
         },
         "yaxis": "y2"
        },
        {
         "legendgroup": "pred",
         "marker": {
          "color": "#7f7f7f",
          "size": 6
         },
         "mode": "markers",
         "name": "Pred Group 169",
         "showlegend": false,
         "type": "scatter",
         "x": {
          "bdata": "XabjQQ==",
          "dtype": "f4"
         },
         "xaxis": "x2",
         "y": {
          "bdata": "TdKNQQ==",
          "dtype": "f4"
         },
         "yaxis": "y2"
        },
        {
         "legendgroup": "pred",
         "marker": {
          "color": "#7f7f7f",
          "size": 6
         },
         "mode": "markers",
         "name": "Pred Group 170",
         "showlegend": false,
         "type": "scatter",
         "x": {
          "bdata": "gyqDwQ==",
          "dtype": "f4"
         },
         "xaxis": "x2",
         "y": {
          "bdata": "snZwQg==",
          "dtype": "f4"
         },
         "yaxis": "y2"
        },
        {
         "legendgroup": "pred",
         "marker": {
          "color": "#7f7f7f",
          "size": 6
         },
         "mode": "markers",
         "name": "Pred Group 171",
         "showlegend": false,
         "type": "scatter",
         "x": {
          "bdata": "JJfhwQ==",
          "dtype": "f4"
         },
         "xaxis": "x2",
         "y": {
          "bdata": "H5B/wg==",
          "dtype": "f4"
         },
         "yaxis": "y2"
        },
        {
         "legendgroup": "pred",
         "marker": {
          "color": "#7f7f7f",
          "size": 6
         },
         "mode": "markers",
         "name": "Pred Group 172",
         "showlegend": false,
         "type": "scatter",
         "x": {
          "bdata": "sJA+Qg==",
          "dtype": "f4"
         },
         "xaxis": "x2",
         "y": {
          "bdata": "A//NwQ==",
          "dtype": "f4"
         },
         "yaxis": "y2"
        },
        {
         "legendgroup": "pred",
         "marker": {
          "color": "#7f7f7f",
          "size": 6
         },
         "mode": "markers",
         "name": "Pred Group 173",
         "showlegend": false,
         "type": "scatter",
         "x": {
          "bdata": "qkfkQQ==",
          "dtype": "f4"
         },
         "xaxis": "x2",
         "y": {
          "bdata": "SGKKQQ==",
          "dtype": "f4"
         },
         "yaxis": "y2"
        },
        {
         "legendgroup": "pred",
         "marker": {
          "color": "#c7c7c7",
          "size": 6
         },
         "mode": "markers",
         "name": "Pred Group 174",
         "showlegend": false,
         "type": "scatter",
         "x": {
          "bdata": "XiQ3QQ==",
          "dtype": "f4"
         },
         "xaxis": "x2",
         "y": {
          "bdata": "l/u5QQ==",
          "dtype": "f4"
         },
         "yaxis": "y2"
        },
        {
         "legendgroup": "pred",
         "marker": {
          "color": "#c7c7c7",
          "size": 6
         },
         "mode": "markers",
         "name": "Pred Group 175",
         "showlegend": false,
         "type": "scatter",
         "x": {
          "bdata": "RLa0wQ==",
          "dtype": "f4"
         },
         "xaxis": "x2",
         "y": {
          "bdata": "jUAJQg==",
          "dtype": "f4"
         },
         "yaxis": "y2"
        },
        {
         "legendgroup": "pred",
         "marker": {
          "color": "#c7c7c7",
          "size": 6
         },
         "mode": "markers",
         "name": "Pred Group 176",
         "showlegend": false,
         "type": "scatter",
         "x": {
          "bdata": "3RgyQQ==",
          "dtype": "f4"
         },
         "xaxis": "x2",
         "y": {
          "bdata": "/lyHQQ==",
          "dtype": "f4"
         },
         "yaxis": "y2"
        },
        {
         "legendgroup": "pred",
         "marker": {
          "color": "#c7c7c7",
          "size": 6
         },
         "mode": "markers",
         "name": "Pred Group 177",
         "showlegend": false,
         "type": "scatter",
         "x": {
          "bdata": "/Dc2Qg==",
          "dtype": "f4"
         },
         "xaxis": "x2",
         "y": {
          "bdata": "PpYlQQ==",
          "dtype": "f4"
         },
         "yaxis": "y2"
        },
        {
         "legendgroup": "pred",
         "marker": {
          "color": "#c7c7c7",
          "size": 6
         },
         "mode": "markers",
         "name": "Pred Group 178",
         "showlegend": false,
         "type": "scatter",
         "x": {
          "bdata": "MaUGwg==",
          "dtype": "f4"
         },
         "xaxis": "x2",
         "y": {
          "bdata": "m+JnQg==",
          "dtype": "f4"
         },
         "yaxis": "y2"
        },
        {
         "legendgroup": "pred",
         "marker": {
          "color": "#c7c7c7",
          "size": 6
         },
         "mode": "markers",
         "name": "Pred Group 179",
         "showlegend": false,
         "type": "scatter",
         "x": {
          "bdata": "lmjuQA==",
          "dtype": "f4"
         },
         "xaxis": "x2",
         "y": {
          "bdata": "x2ncwQ==",
          "dtype": "f4"
         },
         "yaxis": "y2"
        },
        {
         "legendgroup": "pred",
         "marker": {
          "color": "#c7c7c7",
          "size": 6
         },
         "mode": "markers",
         "name": "Pred Group 180",
         "showlegend": false,
         "type": "scatter",
         "x": {
          "bdata": "aTQgQg==",
          "dtype": "f4"
         },
         "xaxis": "x2",
         "y": {
          "bdata": "RqLawQ==",
          "dtype": "f4"
         },
         "yaxis": "y2"
        },
        {
         "legendgroup": "pred",
         "marker": {
          "color": "#c7c7c7",
          "size": 6
         },
         "mode": "markers",
         "name": "Pred Group 181",
         "showlegend": false,
         "type": "scatter",
         "x": {
          "bdata": "uOIoQQ==",
          "dtype": "f4"
         },
         "xaxis": "x2",
         "y": {
          "bdata": "mN7pwQ==",
          "dtype": "f4"
         },
         "yaxis": "y2"
        },
        {
         "legendgroup": "pred",
         "marker": {
          "color": "#c7c7c7",
          "size": 6
         },
         "mode": "markers",
         "name": "Pred Group 182",
         "showlegend": false,
         "type": "scatter",
         "x": {
          "bdata": "hoPQwQ==",
          "dtype": "f4"
         },
         "xaxis": "x2",
         "y": {
          "bdata": "M59LQQ==",
          "dtype": "f4"
         },
         "yaxis": "y2"
        },
        {
         "legendgroup": "pred",
         "marker": {
          "color": "#c7c7c7",
          "size": 6
         },
         "mode": "markers",
         "name": "Pred Group 183",
         "showlegend": false,
         "type": "scatter",
         "x": {
          "bdata": "x/gyQg==",
          "dtype": "f4"
         },
         "xaxis": "x2",
         "y": {
          "bdata": "xRM1wg==",
          "dtype": "f4"
         },
         "yaxis": "y2"
        },
        {
         "legendgroup": "pred",
         "marker": {
          "color": "#c7c7c7",
          "size": 6
         },
         "mode": "markers",
         "name": "Pred Group 184",
         "showlegend": false,
         "type": "scatter",
         "x": {
          "bdata": "+GTkwQ==",
          "dtype": "f4"
         },
         "xaxis": "x2",
         "y": {
          "bdata": "iGGAwg==",
          "dtype": "f4"
         },
         "yaxis": "y2"
        },
        {
         "legendgroup": "pred",
         "marker": {
          "color": "#bcbd22",
          "size": 6
         },
         "mode": "markers",
         "name": "Pred Group 185",
         "showlegend": false,
         "type": "scatter",
         "x": {
          "bdata": "tgq5wQ==",
          "dtype": "f4"
         },
         "xaxis": "x2",
         "y": {
          "bdata": "zzsMwg==",
          "dtype": "f4"
         },
         "yaxis": "y2"
        },
        {
         "legendgroup": "pred",
         "marker": {
          "color": "#bcbd22",
          "size": 6
         },
         "mode": "markers",
         "name": "Pred Group 186",
         "showlegend": false,
         "type": "scatter",
         "x": {
          "bdata": "SxEawg==",
          "dtype": "f4"
         },
         "xaxis": "x2",
         "y": {
          "bdata": "+NHxQQ==",
          "dtype": "f4"
         },
         "yaxis": "y2"
        },
        {
         "legendgroup": "pred",
         "marker": {
          "color": "#bcbd22",
          "size": 6
         },
         "mode": "markers",
         "name": "Pred Group 187",
         "showlegend": false,
         "type": "scatter",
         "x": {
          "bdata": "wyDpwQ==",
          "dtype": "f4"
         },
         "xaxis": "x2",
         "y": {
          "bdata": "q0JuQg==",
          "dtype": "f4"
         },
         "yaxis": "y2"
        },
        {
         "legendgroup": "pred",
         "marker": {
          "color": "#bcbd22",
          "size": 6
         },
         "mode": "markers",
         "name": "Pred Group 188",
         "showlegend": false,
         "type": "scatter",
         "x": {
          "bdata": "LwHlwQ==",
          "dtype": "f4"
         },
         "xaxis": "x2",
         "y": {
          "bdata": "4bgnQQ==",
          "dtype": "f4"
         },
         "yaxis": "y2"
        },
        {
         "legendgroup": "pred",
         "marker": {
          "color": "#bcbd22",
          "size": 6
         },
         "mode": "markers",
         "name": "Pred Group 189",
         "showlegend": false,
         "type": "scatter",
         "x": {
          "bdata": "wWUtwg==",
          "dtype": "f4"
         },
         "xaxis": "x2",
         "y": {
          "bdata": "ju6sQQ==",
          "dtype": "f4"
         },
         "yaxis": "y2"
        },
        {
         "legendgroup": "pred",
         "marker": {
          "color": "#bcbd22",
          "size": 6
         },
         "mode": "markers",
         "name": "Pred Group 190",
         "showlegend": false,
         "type": "scatter",
         "x": {
          "bdata": "eBm7wQ==",
          "dtype": "f4"
         },
         "xaxis": "x2",
         "y": {
          "bdata": "vv4Nwg==",
          "dtype": "f4"
         },
         "yaxis": "y2"
        },
        {
         "legendgroup": "pred",
         "marker": {
          "color": "#bcbd22",
          "size": 6
         },
         "mode": "markers",
         "name": "Pred Group 191",
         "showlegend": false,
         "type": "scatter",
         "x": {
          "bdata": "4/+WQQ==",
          "dtype": "f4"
         },
         "xaxis": "x2",
         "y": {
          "bdata": "kxTwQQ==",
          "dtype": "f4"
         },
         "yaxis": "y2"
        },
        {
         "legendgroup": "pred",
         "marker": {
          "color": "#bcbd22",
          "size": 6
         },
         "mode": "markers",
         "name": "Pred Group 192",
         "showlegend": false,
         "type": "scatter",
         "x": {
          "bdata": "k4pXwQ==",
          "dtype": "f4"
         },
         "xaxis": "x2",
         "y": {
          "bdata": "5w63QA==",
          "dtype": "f4"
         },
         "yaxis": "y2"
        },
        {
         "legendgroup": "pred",
         "marker": {
          "color": "#bcbd22",
          "size": 6
         },
         "mode": "markers",
         "name": "Pred Group 193",
         "showlegend": false,
         "type": "scatter",
         "x": {
          "bdata": "9EzjwQ==",
          "dtype": "f4"
         },
         "xaxis": "x2",
         "y": {
          "bdata": "L1T0QQ==",
          "dtype": "f4"
         },
         "yaxis": "y2"
        },
        {
         "legendgroup": "pred",
         "marker": {
          "color": "#bcbd22",
          "size": 6
         },
         "mode": "markers",
         "name": "Pred Group 194",
         "showlegend": false,
         "type": "scatter",
         "x": {
          "bdata": "H2K6Pg==",
          "dtype": "f4"
         },
         "xaxis": "x2",
         "y": {
          "bdata": "ofICwg==",
          "dtype": "f4"
         },
         "yaxis": "y2"
        },
        {
         "legendgroup": "pred",
         "marker": {
          "color": "#bcbd22",
          "size": 6
         },
         "mode": "markers",
         "name": "Pred Group 195",
         "showlegend": false,
         "type": "scatter",
         "x": {
          "bdata": "zOiVQQ==",
          "dtype": "f4"
         },
         "xaxis": "x2",
         "y": {
          "bdata": "O/ZXwg==",
          "dtype": "f4"
         },
         "yaxis": "y2"
        },
        {
         "legendgroup": "pred",
         "marker": {
          "color": "#bcbd22",
          "size": 6
         },
         "mode": "markers",
         "name": "Pred Group 196",
         "showlegend": false,
         "type": "scatter",
         "x": {
          "bdata": "zMoPwg==",
          "dtype": "f4"
         },
         "xaxis": "x2",
         "y": {
          "bdata": "nRKEQg==",
          "dtype": "f4"
         },
         "yaxis": "y2"
        },
        {
         "legendgroup": "pred",
         "marker": {
          "color": "#dbdb8d",
          "size": 6
         },
         "mode": "markers",
         "name": "Pred Group 197",
         "showlegend": false,
         "type": "scatter",
         "x": {
          "bdata": "BLqfPg==",
          "dtype": "f4"
         },
         "xaxis": "x2",
         "y": {
          "bdata": "F/NXQg==",
          "dtype": "f4"
         },
         "yaxis": "y2"
        },
        {
         "legendgroup": "pred",
         "marker": {
          "color": "#dbdb8d",
          "size": 6
         },
         "mode": "markers",
         "name": "Pred Group 198",
         "showlegend": false,
         "type": "scatter",
         "x": {
          "bdata": "B4fYwA==",
          "dtype": "f4"
         },
         "xaxis": "x2",
         "y": {
          "bdata": "YgyMQg==",
          "dtype": "f4"
         },
         "yaxis": "y2"
        },
        {
         "legendgroup": "pred",
         "marker": {
          "color": "#dbdb8d",
          "size": 6
         },
         "mode": "markers",
         "name": "Pred Group 199",
         "showlegend": false,
         "type": "scatter",
         "x": {
          "bdata": "C75MQA==",
          "dtype": "f4"
         },
         "xaxis": "x2",
         "y": {
          "bdata": "K6RWQg==",
          "dtype": "f4"
         },
         "yaxis": "y2"
        },
        {
         "legendgroup": "pred",
         "marker": {
          "color": "#dbdb8d",
          "size": 6
         },
         "mode": "markers",
         "name": "Pred Group 200",
         "showlegend": false,
         "type": "scatter",
         "x": {
          "bdata": "rQdwQA==",
          "dtype": "f4"
         },
         "xaxis": "x2",
         "y": {
          "bdata": "0gHuQQ==",
          "dtype": "f4"
         },
         "yaxis": "y2"
        },
        {
         "legendgroup": "pred",
         "marker": {
          "color": "#dbdb8d",
          "size": 6
         },
         "mode": "markers",
         "name": "Pred Group 201",
         "showlegend": false,
         "type": "scatter",
         "x": {
          "bdata": "ldOBwQ==",
          "dtype": "f4"
         },
         "xaxis": "x2",
         "y": {
          "bdata": "B5x8Qg==",
          "dtype": "f4"
         },
         "yaxis": "y2"
        },
        {
         "legendgroup": "pred",
         "marker": {
          "color": "#dbdb8d",
          "size": 6
         },
         "mode": "markers",
         "name": "Pred Group 202",
         "showlegend": false,
         "type": "scatter",
         "x": {
          "bdata": "0woPwA==",
          "dtype": "f4"
         },
         "xaxis": "x2",
         "y": {
          "bdata": "EPVhQg==",
          "dtype": "f4"
         },
         "yaxis": "y2"
        },
        {
         "legendgroup": "pred",
         "marker": {
          "color": "#dbdb8d",
          "size": 6
         },
         "mode": "markers",
         "name": "Pred Group 203",
         "showlegend": false,
         "type": "scatter",
         "x": {
          "bdata": "5STFwQ==",
          "dtype": "f4"
         },
         "xaxis": "x2",
         "y": {
          "bdata": "PEhwQg==",
          "dtype": "f4"
         },
         "yaxis": "y2"
        },
        {
         "legendgroup": "pred",
         "marker": {
          "color": "#dbdb8d",
          "size": 6
         },
         "mode": "markers",
         "name": "Pred Group 204",
         "showlegend": false,
         "type": "scatter",
         "x": {
          "bdata": "iSs+wA==",
          "dtype": "f4"
         },
         "xaxis": "x2",
         "y": {
          "bdata": "Dn9aQg==",
          "dtype": "f4"
         },
         "yaxis": "y2"
        },
        {
         "legendgroup": "pred",
         "marker": {
          "color": "#dbdb8d",
          "size": 6
         },
         "mode": "markers",
         "name": "Pred Group 205",
         "showlegend": false,
         "type": "scatter",
         "x": {
          "bdata": "MSwGQQ==",
          "dtype": "f4"
         },
         "xaxis": "x2",
         "y": {
          "bdata": "GIlfQg==",
          "dtype": "f4"
         },
         "yaxis": "y2"
        },
        {
         "legendgroup": "pred",
         "marker": {
          "color": "#dbdb8d",
          "size": 6
         },
         "mode": "markers",
         "name": "Pred Group 206",
         "showlegend": false,
         "type": "scatter",
         "x": {
          "bdata": "VxZ0Pg==",
          "dtype": "f4"
         },
         "xaxis": "x2",
         "y": {
          "bdata": "Sw9xQg==",
          "dtype": "f4"
         },
         "yaxis": "y2"
        },
        {
         "legendgroup": "pred",
         "marker": {
          "color": "#dbdb8d",
          "size": 6
         },
         "mode": "markers",
         "name": "Pred Group 207",
         "showlegend": false,
         "type": "scatter",
         "x": {
          "bdata": "8c+IwA==",
          "dtype": "f4"
         },
         "xaxis": "x2",
         "y": {
          "bdata": "JtSQQg==",
          "dtype": "f4"
         },
         "yaxis": "y2"
        },
        {
         "legendgroup": "pred",
         "marker": {
          "color": "#17becf",
          "size": 6
         },
         "mode": "markers",
         "name": "Pred Group 208",
         "showlegend": false,
         "type": "scatter",
         "x": {
          "bdata": "l8kUwg==",
          "dtype": "f4"
         },
         "xaxis": "x2",
         "y": {
          "bdata": "tFmFQg==",
          "dtype": "f4"
         },
         "yaxis": "y2"
        },
        {
         "legendgroup": "pred",
         "marker": {
          "color": "#17becf",
          "size": 6
         },
         "mode": "markers",
         "name": "Pred Group 209",
         "showlegend": false,
         "type": "scatter",
         "x": {
          "bdata": "BdaHPw==",
          "dtype": "f4"
         },
         "xaxis": "x2",
         "y": {
          "bdata": "FHN7Qg==",
          "dtype": "f4"
         },
         "yaxis": "y2"
        },
        {
         "legendgroup": "pred",
         "marker": {
          "color": "#17becf",
          "size": 6
         },
         "mode": "markers",
         "name": "Pred Group 210",
         "showlegend": false,
         "type": "scatter",
         "x": {
          "bdata": "ed6VwA==",
          "dtype": "f4"
         },
         "xaxis": "x2",
         "y": {
          "bdata": "zMWKwg==",
          "dtype": "f4"
         },
         "yaxis": "y2"
        },
        {
         "legendgroup": "pred",
         "marker": {
          "color": "#17becf",
          "size": 6
         },
         "mode": "markers",
         "name": "Pred Group 211",
         "showlegend": false,
         "type": "scatter",
         "x": {
          "bdata": "wkF9wQ==",
          "dtype": "f4"
         },
         "xaxis": "x2",
         "y": {
          "bdata": "+d10Qg==",
          "dtype": "f4"
         },
         "yaxis": "y2"
        },
        {
         "legendgroup": "pred",
         "marker": {
          "color": "#17becf",
          "size": 6
         },
         "mode": "markers",
         "name": "Pred Group 212",
         "showlegend": false,
         "type": "scatter",
         "x": {
          "bdata": "lWQLwQ==",
          "dtype": "f4"
         },
         "xaxis": "x2",
         "y": {
          "bdata": "YYWAQg==",
          "dtype": "f4"
         },
         "yaxis": "y2"
        },
        {
         "legendgroup": "pred",
         "marker": {
          "color": "#17becf",
          "size": 6
         },
         "mode": "markers",
         "name": "Pred Group 213",
         "showlegend": false,
         "type": "scatter",
         "x": {
          "bdata": "oOv3QQ==",
          "dtype": "f4"
         },
         "xaxis": "x2",
         "y": {
          "bdata": "Mz/1PQ==",
          "dtype": "f4"
         },
         "yaxis": "y2"
        },
        {
         "legendgroup": "pred",
         "marker": {
          "color": "#17becf",
          "size": 6
         },
         "mode": "markers",
         "name": "Pred Group 214",
         "showlegend": false,
         "type": "scatter",
         "x": {
          "bdata": "AR+rQQ==",
          "dtype": "f4"
         },
         "xaxis": "x2",
         "y": {
          "bdata": "t38kQg==",
          "dtype": "f4"
         },
         "yaxis": "y2"
        },
        {
         "legendgroup": "pred",
         "marker": {
          "color": "#17becf",
          "size": 6
         },
         "mode": "markers",
         "name": "Pred Group 215",
         "showlegend": false,
         "type": "scatter",
         "x": {
          "bdata": "80MGQg==",
          "dtype": "f4"
         },
         "xaxis": "x2",
         "y": {
          "bdata": "wccXwg==",
          "dtype": "f4"
         },
         "yaxis": "y2"
        },
        {
         "legendgroup": "pred",
         "marker": {
          "color": "#17becf",
          "size": 6
         },
         "mode": "markers",
         "name": "Pred Group 216",
         "showlegend": false,
         "type": "scatter",
         "x": {
          "bdata": "jfcrQQ==",
          "dtype": "f4"
         },
         "xaxis": "x2",
         "y": {
          "bdata": "mdFkQA==",
          "dtype": "f4"
         },
         "yaxis": "y2"
        },
        {
         "legendgroup": "pred",
         "marker": {
          "color": "#17becf",
          "size": 6
         },
         "mode": "markers",
         "name": "Pred Group 217",
         "showlegend": false,
         "type": "scatter",
         "x": {
          "bdata": "iqgUQg==",
          "dtype": "f4"
         },
         "xaxis": "x2",
         "y": {
          "bdata": "DyyjQQ==",
          "dtype": "f4"
         },
         "yaxis": "y2"
        },
        {
         "legendgroup": "pred",
         "marker": {
          "color": "#17becf",
          "size": 6
         },
         "mode": "markers",
         "name": "Pred Group 218",
         "showlegend": false,
         "type": "scatter",
         "x": {
          "bdata": "r50hQg==",
          "dtype": "f4"
         },
         "xaxis": "x2",
         "y": {
          "bdata": "1lU9wQ==",
          "dtype": "f4"
         },
         "yaxis": "y2"
        },
        {
         "legendgroup": "pred",
         "marker": {
          "color": "#17becf",
          "size": 6
         },
         "mode": "markers",
         "name": "Pred Group 219",
         "showlegend": false,
         "type": "scatter",
         "x": {
          "bdata": "g19XwQ==",
          "dtype": "f4"
         },
         "xaxis": "x2",
         "y": {
          "bdata": "7h6SwQ==",
          "dtype": "f4"
         },
         "yaxis": "y2"
        },
        {
         "legendgroup": "pred",
         "marker": {
          "color": "#9edae5",
          "size": 6
         },
         "mode": "markers",
         "name": "Pred Group 220",
         "showlegend": false,
         "type": "scatter",
         "x": {
          "bdata": "138EwQ==",
          "dtype": "f4"
         },
         "xaxis": "x2",
         "y": {
          "bdata": "IFnXwQ==",
          "dtype": "f4"
         },
         "yaxis": "y2"
        },
        {
         "legendgroup": "pred",
         "marker": {
          "color": "#9edae5",
          "size": 6
         },
         "mode": "markers",
         "name": "Pred Group 221",
         "showlegend": false,
         "type": "scatter",
         "x": {
          "bdata": "0M6zwA==",
          "dtype": "f4"
         },
         "xaxis": "x2",
         "y": {
          "bdata": "KviMQg==",
          "dtype": "f4"
         },
         "yaxis": "y2"
        },
        {
         "legendgroup": "pred",
         "marker": {
          "color": "#9edae5",
          "size": 6
         },
         "mode": "markers",
         "name": "Pred Group 222",
         "showlegend": false,
         "type": "scatter",
         "x": {
          "bdata": "54I/Qg==",
          "dtype": "f4"
         },
         "xaxis": "x2",
         "y": {
          "bdata": "uN3KwQ==",
          "dtype": "f4"
         },
         "yaxis": "y2"
        },
        {
         "legendgroup": "pred",
         "marker": {
          "color": "#9edae5",
          "size": 6
         },
         "mode": "markers",
         "name": "Pred Group 223",
         "showlegend": false,
         "type": "scatter",
         "x": {
          "bdata": "1XBgwQ==",
          "dtype": "f4"
         },
         "xaxis": "x2",
         "y": {
          "bdata": "JL51Qg==",
          "dtype": "f4"
         },
         "yaxis": "y2"
        },
        {
         "legendgroup": "pred",
         "marker": {
          "color": "#9edae5",
          "size": 6
         },
         "mode": "markers",
         "name": "Pred Group 224",
         "showlegend": false,
         "type": "scatter",
         "x": {
          "bdata": "tGIQwQ==",
          "dtype": "f4"
         },
         "xaxis": "x2",
         "y": {
          "bdata": "rr54Qg==",
          "dtype": "f4"
         },
         "yaxis": "y2"
        },
        {
         "legendgroup": "pred",
         "marker": {
          "color": "#9edae5",
          "size": 6
         },
         "mode": "markers",
         "name": "Pred Group 225",
         "showlegend": false,
         "type": "scatter",
         "x": {
          "bdata": "rdUGQQ==",
          "dtype": "f4"
         },
         "xaxis": "x2",
         "y": {
          "bdata": "RlRLwg==",
          "dtype": "f4"
         },
         "yaxis": "y2"
        },
        {
         "legendgroup": "pred",
         "marker": {
          "color": "#9edae5",
          "size": 6
         },
         "mode": "markers",
         "name": "Pred Group 226",
         "showlegend": false,
         "type": "scatter",
         "x": {
          "bdata": "zg2SwQ==",
          "dtype": "f4"
         },
         "xaxis": "x2",
         "y": {
          "bdata": "sH2Jwg==",
          "dtype": "f4"
         },
         "yaxis": "y2"
        },
        {
         "legendgroup": "pred",
         "marker": {
          "color": "#9edae5",
          "size": 6
         },
         "mode": "markers",
         "name": "Pred Group 227",
         "showlegend": false,
         "type": "scatter",
         "x": {
          "bdata": "bgJGQA==",
          "dtype": "f4"
         },
         "xaxis": "x2",
         "y": {
          "bdata": "FutnQg==",
          "dtype": "f4"
         },
         "yaxis": "y2"
        },
        {
         "legendgroup": "pred",
         "marker": {
          "color": "#9edae5",
          "size": 6
         },
         "mode": "markers",
         "name": "Pred Group 228",
         "showlegend": false,
         "type": "scatter",
         "x": {
          "bdata": "7DqzQA==",
          "dtype": "f4"
         },
         "xaxis": "x2",
         "y": {
          "bdata": "4x6MwA==",
          "dtype": "f4"
         },
         "yaxis": "y2"
        },
        {
         "legendgroup": "pred",
         "marker": {
          "color": "#9edae5",
          "size": 6
         },
         "mode": "markers",
         "name": "Pred Group 229",
         "showlegend": false,
         "type": "scatter",
         "x": {
          "bdata": "51eNwQ==",
          "dtype": "f4"
         },
         "xaxis": "x2",
         "y": {
          "bdata": "GlJcwQ==",
          "dtype": "f4"
         },
         "yaxis": "y2"
        },
        {
         "legendgroup": "pred",
         "marker": {
          "color": "#9edae5",
          "size": 6
         },
         "mode": "markers",
         "name": "Pred Group 230",
         "showlegend": false,
         "type": "scatter",
         "x": {
          "bdata": "lI7bQA==",
          "dtype": "f4"
         },
         "xaxis": "x2",
         "y": {
          "bdata": "JUxgQg==",
          "dtype": "f4"
         },
         "yaxis": "y2"
        },
        {
         "legendgroup": "pred",
         "marker": {
          "color": "#9edae5",
          "size": 6
         },
         "mode": "markers",
         "name": "Pred Group 231",
         "showlegend": false,
         "type": "scatter",
         "x": {
          "bdata": "wuuXQA==",
          "dtype": "f4"
         },
         "xaxis": "x2",
         "y": {
          "bdata": "xKnpQQ==",
          "dtype": "f4"
         },
         "yaxis": "y2"
        }
       ],
       "layout": {
        "annotations": [
         {
          "font": {
           "size": 16
          },
          "showarrow": false,
          "text": "Clusters of 2D Embeddings gt",
          "x": 0.225,
          "xanchor": "center",
          "xref": "paper",
          "y": 1,
          "yanchor": "bottom",
          "yref": "paper"
         },
         {
          "font": {
           "size": 16
          },
          "showarrow": false,
          "text": "Clusters of 2D Embeddings pred",
          "x": 0.775,
          "xanchor": "center",
          "xref": "paper",
          "y": 1,
          "yanchor": "bottom",
          "yref": "paper"
         }
        ],
        "height": 600,
        "showlegend": true,
        "template": {
         "data": {
          "bar": [
           {
            "error_x": {
             "color": "#2a3f5f"
            },
            "error_y": {
             "color": "#2a3f5f"
            },
            "marker": {
             "line": {
              "color": "#E5ECF6",
              "width": 0.5
             },
             "pattern": {
              "fillmode": "overlay",
              "size": 10,
              "solidity": 0.2
             }
            },
            "type": "bar"
           }
          ],
          "barpolar": [
           {
            "marker": {
             "line": {
              "color": "#E5ECF6",
              "width": 0.5
             },
             "pattern": {
              "fillmode": "overlay",
              "size": 10,
              "solidity": 0.2
             }
            },
            "type": "barpolar"
           }
          ],
          "carpet": [
           {
            "aaxis": {
             "endlinecolor": "#2a3f5f",
             "gridcolor": "white",
             "linecolor": "white",
             "minorgridcolor": "white",
             "startlinecolor": "#2a3f5f"
            },
            "baxis": {
             "endlinecolor": "#2a3f5f",
             "gridcolor": "white",
             "linecolor": "white",
             "minorgridcolor": "white",
             "startlinecolor": "#2a3f5f"
            },
            "type": "carpet"
           }
          ],
          "choropleth": [
           {
            "colorbar": {
             "outlinewidth": 0,
             "ticks": ""
            },
            "type": "choropleth"
           }
          ],
          "contour": [
           {
            "colorbar": {
             "outlinewidth": 0,
             "ticks": ""
            },
            "colorscale": [
             [
              0,
              "#0d0887"
             ],
             [
              0.1111111111111111,
              "#46039f"
             ],
             [
              0.2222222222222222,
              "#7201a8"
             ],
             [
              0.3333333333333333,
              "#9c179e"
             ],
             [
              0.4444444444444444,
              "#bd3786"
             ],
             [
              0.5555555555555556,
              "#d8576b"
             ],
             [
              0.6666666666666666,
              "#ed7953"
             ],
             [
              0.7777777777777778,
              "#fb9f3a"
             ],
             [
              0.8888888888888888,
              "#fdca26"
             ],
             [
              1,
              "#f0f921"
             ]
            ],
            "type": "contour"
           }
          ],
          "contourcarpet": [
           {
            "colorbar": {
             "outlinewidth": 0,
             "ticks": ""
            },
            "type": "contourcarpet"
           }
          ],
          "heatmap": [
           {
            "colorbar": {
             "outlinewidth": 0,
             "ticks": ""
            },
            "colorscale": [
             [
              0,
              "#0d0887"
             ],
             [
              0.1111111111111111,
              "#46039f"
             ],
             [
              0.2222222222222222,
              "#7201a8"
             ],
             [
              0.3333333333333333,
              "#9c179e"
             ],
             [
              0.4444444444444444,
              "#bd3786"
             ],
             [
              0.5555555555555556,
              "#d8576b"
             ],
             [
              0.6666666666666666,
              "#ed7953"
             ],
             [
              0.7777777777777778,
              "#fb9f3a"
             ],
             [
              0.8888888888888888,
              "#fdca26"
             ],
             [
              1,
              "#f0f921"
             ]
            ],
            "type": "heatmap"
           }
          ],
          "histogram": [
           {
            "marker": {
             "pattern": {
              "fillmode": "overlay",
              "size": 10,
              "solidity": 0.2
             }
            },
            "type": "histogram"
           }
          ],
          "histogram2d": [
           {
            "colorbar": {
             "outlinewidth": 0,
             "ticks": ""
            },
            "colorscale": [
             [
              0,
              "#0d0887"
             ],
             [
              0.1111111111111111,
              "#46039f"
             ],
             [
              0.2222222222222222,
              "#7201a8"
             ],
             [
              0.3333333333333333,
              "#9c179e"
             ],
             [
              0.4444444444444444,
              "#bd3786"
             ],
             [
              0.5555555555555556,
              "#d8576b"
             ],
             [
              0.6666666666666666,
              "#ed7953"
             ],
             [
              0.7777777777777778,
              "#fb9f3a"
             ],
             [
              0.8888888888888888,
              "#fdca26"
             ],
             [
              1,
              "#f0f921"
             ]
            ],
            "type": "histogram2d"
           }
          ],
          "histogram2dcontour": [
           {
            "colorbar": {
             "outlinewidth": 0,
             "ticks": ""
            },
            "colorscale": [
             [
              0,
              "#0d0887"
             ],
             [
              0.1111111111111111,
              "#46039f"
             ],
             [
              0.2222222222222222,
              "#7201a8"
             ],
             [
              0.3333333333333333,
              "#9c179e"
             ],
             [
              0.4444444444444444,
              "#bd3786"
             ],
             [
              0.5555555555555556,
              "#d8576b"
             ],
             [
              0.6666666666666666,
              "#ed7953"
             ],
             [
              0.7777777777777778,
              "#fb9f3a"
             ],
             [
              0.8888888888888888,
              "#fdca26"
             ],
             [
              1,
              "#f0f921"
             ]
            ],
            "type": "histogram2dcontour"
           }
          ],
          "mesh3d": [
           {
            "colorbar": {
             "outlinewidth": 0,
             "ticks": ""
            },
            "type": "mesh3d"
           }
          ],
          "parcoords": [
           {
            "line": {
             "colorbar": {
              "outlinewidth": 0,
              "ticks": ""
             }
            },
            "type": "parcoords"
           }
          ],
          "pie": [
           {
            "automargin": true,
            "type": "pie"
           }
          ],
          "scatter": [
           {
            "fillpattern": {
             "fillmode": "overlay",
             "size": 10,
             "solidity": 0.2
            },
            "type": "scatter"
           }
          ],
          "scatter3d": [
           {
            "line": {
             "colorbar": {
              "outlinewidth": 0,
              "ticks": ""
             }
            },
            "marker": {
             "colorbar": {
              "outlinewidth": 0,
              "ticks": ""
             }
            },
            "type": "scatter3d"
           }
          ],
          "scattercarpet": [
           {
            "marker": {
             "colorbar": {
              "outlinewidth": 0,
              "ticks": ""
             }
            },
            "type": "scattercarpet"
           }
          ],
          "scattergeo": [
           {
            "marker": {
             "colorbar": {
              "outlinewidth": 0,
              "ticks": ""
             }
            },
            "type": "scattergeo"
           }
          ],
          "scattergl": [
           {
            "marker": {
             "colorbar": {
              "outlinewidth": 0,
              "ticks": ""
             }
            },
            "type": "scattergl"
           }
          ],
          "scattermap": [
           {
            "marker": {
             "colorbar": {
              "outlinewidth": 0,
              "ticks": ""
             }
            },
            "type": "scattermap"
           }
          ],
          "scattermapbox": [
           {
            "marker": {
             "colorbar": {
              "outlinewidth": 0,
              "ticks": ""
             }
            },
            "type": "scattermapbox"
           }
          ],
          "scatterpolar": [
           {
            "marker": {
             "colorbar": {
              "outlinewidth": 0,
              "ticks": ""
             }
            },
            "type": "scatterpolar"
           }
          ],
          "scatterpolargl": [
           {
            "marker": {
             "colorbar": {
              "outlinewidth": 0,
              "ticks": ""
             }
            },
            "type": "scatterpolargl"
           }
          ],
          "scatterternary": [
           {
            "marker": {
             "colorbar": {
              "outlinewidth": 0,
              "ticks": ""
             }
            },
            "type": "scatterternary"
           }
          ],
          "surface": [
           {
            "colorbar": {
             "outlinewidth": 0,
             "ticks": ""
            },
            "colorscale": [
             [
              0,
              "#0d0887"
             ],
             [
              0.1111111111111111,
              "#46039f"
             ],
             [
              0.2222222222222222,
              "#7201a8"
             ],
             [
              0.3333333333333333,
              "#9c179e"
             ],
             [
              0.4444444444444444,
              "#bd3786"
             ],
             [
              0.5555555555555556,
              "#d8576b"
             ],
             [
              0.6666666666666666,
              "#ed7953"
             ],
             [
              0.7777777777777778,
              "#fb9f3a"
             ],
             [
              0.8888888888888888,
              "#fdca26"
             ],
             [
              1,
              "#f0f921"
             ]
            ],
            "type": "surface"
           }
          ],
          "table": [
           {
            "cells": {
             "fill": {
              "color": "#EBF0F8"
             },
             "line": {
              "color": "white"
             }
            },
            "header": {
             "fill": {
              "color": "#C8D4E3"
             },
             "line": {
              "color": "white"
             }
            },
            "type": "table"
           }
          ]
         },
         "layout": {
          "annotationdefaults": {
           "arrowcolor": "#2a3f5f",
           "arrowhead": 0,
           "arrowwidth": 1
          },
          "autotypenumbers": "strict",
          "coloraxis": {
           "colorbar": {
            "outlinewidth": 0,
            "ticks": ""
           }
          },
          "colorscale": {
           "diverging": [
            [
             0,
             "#8e0152"
            ],
            [
             0.1,
             "#c51b7d"
            ],
            [
             0.2,
             "#de77ae"
            ],
            [
             0.3,
             "#f1b6da"
            ],
            [
             0.4,
             "#fde0ef"
            ],
            [
             0.5,
             "#f7f7f7"
            ],
            [
             0.6,
             "#e6f5d0"
            ],
            [
             0.7,
             "#b8e186"
            ],
            [
             0.8,
             "#7fbc41"
            ],
            [
             0.9,
             "#4d9221"
            ],
            [
             1,
             "#276419"
            ]
           ],
           "sequential": [
            [
             0,
             "#0d0887"
            ],
            [
             0.1111111111111111,
             "#46039f"
            ],
            [
             0.2222222222222222,
             "#7201a8"
            ],
            [
             0.3333333333333333,
             "#9c179e"
            ],
            [
             0.4444444444444444,
             "#bd3786"
            ],
            [
             0.5555555555555556,
             "#d8576b"
            ],
            [
             0.6666666666666666,
             "#ed7953"
            ],
            [
             0.7777777777777778,
             "#fb9f3a"
            ],
            [
             0.8888888888888888,
             "#fdca26"
            ],
            [
             1,
             "#f0f921"
            ]
           ],
           "sequentialminus": [
            [
             0,
             "#0d0887"
            ],
            [
             0.1111111111111111,
             "#46039f"
            ],
            [
             0.2222222222222222,
             "#7201a8"
            ],
            [
             0.3333333333333333,
             "#9c179e"
            ],
            [
             0.4444444444444444,
             "#bd3786"
            ],
            [
             0.5555555555555556,
             "#d8576b"
            ],
            [
             0.6666666666666666,
             "#ed7953"
            ],
            [
             0.7777777777777778,
             "#fb9f3a"
            ],
            [
             0.8888888888888888,
             "#fdca26"
            ],
            [
             1,
             "#f0f921"
            ]
           ]
          },
          "colorway": [
           "#636efa",
           "#EF553B",
           "#00cc96",
           "#ab63fa",
           "#FFA15A",
           "#19d3f3",
           "#FF6692",
           "#B6E880",
           "#FF97FF",
           "#FECB52"
          ],
          "font": {
           "color": "#2a3f5f"
          },
          "geo": {
           "bgcolor": "white",
           "lakecolor": "white",
           "landcolor": "#E5ECF6",
           "showlakes": true,
           "showland": true,
           "subunitcolor": "white"
          },
          "hoverlabel": {
           "align": "left"
          },
          "hovermode": "closest",
          "mapbox": {
           "style": "light"
          },
          "paper_bgcolor": "white",
          "plot_bgcolor": "#E5ECF6",
          "polar": {
           "angularaxis": {
            "gridcolor": "white",
            "linecolor": "white",
            "ticks": ""
           },
           "bgcolor": "#E5ECF6",
           "radialaxis": {
            "gridcolor": "white",
            "linecolor": "white",
            "ticks": ""
           }
          },
          "scene": {
           "xaxis": {
            "backgroundcolor": "#E5ECF6",
            "gridcolor": "white",
            "gridwidth": 2,
            "linecolor": "white",
            "showbackground": true,
            "ticks": "",
            "zerolinecolor": "white"
           },
           "yaxis": {
            "backgroundcolor": "#E5ECF6",
            "gridcolor": "white",
            "gridwidth": 2,
            "linecolor": "white",
            "showbackground": true,
            "ticks": "",
            "zerolinecolor": "white"
           },
           "zaxis": {
            "backgroundcolor": "#E5ECF6",
            "gridcolor": "white",
            "gridwidth": 2,
            "linecolor": "white",
            "showbackground": true,
            "ticks": "",
            "zerolinecolor": "white"
           }
          },
          "shapedefaults": {
           "line": {
            "color": "#2a3f5f"
           }
          },
          "ternary": {
           "aaxis": {
            "gridcolor": "white",
            "linecolor": "white",
            "ticks": ""
           },
           "baxis": {
            "gridcolor": "white",
            "linecolor": "white",
            "ticks": ""
           },
           "bgcolor": "#E5ECF6",
           "caxis": {
            "gridcolor": "white",
            "linecolor": "white",
            "ticks": ""
           }
          },
          "title": {
           "x": 0.05
          },
          "xaxis": {
           "automargin": true,
           "gridcolor": "white",
           "linecolor": "white",
           "ticks": "",
           "title": {
            "standoff": 15
           },
           "zerolinecolor": "white",
           "zerolinewidth": 2
          },
          "yaxis": {
           "automargin": true,
           "gridcolor": "white",
           "linecolor": "white",
           "ticks": "",
           "title": {
            "standoff": 15
           },
           "zerolinecolor": "white",
           "zerolinewidth": 2
          }
         }
        },
        "title": {
         "text": "Cluster Comparison: Ground Truth vs Prediction"
        },
        "width": 1000,
        "xaxis": {
         "anchor": "y",
         "domain": [
          0,
          0.45
         ]
        },
        "xaxis2": {
         "anchor": "y2",
         "domain": [
          0.55,
          1
         ]
        },
        "yaxis": {
         "anchor": "x",
         "domain": [
          0,
          1
         ]
        },
        "yaxis2": {
         "anchor": "x2",
         "domain": [
          0,
          1
         ]
        }
       }
      }
     },
     "metadata": {},
     "output_type": "display_data"
    }
   ],
   "source": [
    "model = SentenceTransformer(\"models/simcse-model\")\n",
    "simcse_res = test_model(model)"
   ]
  },
  {
   "cell_type": "code",
   "execution_count": 33,
   "id": "8f0f5724",
   "metadata": {},
   "outputs": [
    {
     "data": {
      "image/png": "[encoded data removed]",
      "text/plain": [
       "<Figure size 640x480 with 1 Axes>"
      ]
     },
     "metadata": {},
     "output_type": "display_data"
    }
   ],
   "source": [
    "plot_res({\"tsdae\": tsdae_res[2], \"simcse\": simcse_res[2]})"
   ]
  },
  {
   "attachments": {
    "image.png": {
     "image/png": "[encoded data removed]"
    }
   },
   "cell_type": "markdown",
   "id": "b5aa58d4",
   "metadata": {},
   "source": [
    "Apparently all unsupervised methods perform poorly because of domain specific words and symbols.\n",
    "\n",
    "![image.png](attachment:image.png)"
   ]
  }
 ],
 "metadata": {
  "kernelspec": {
   "display_name": ".venv",
   "language": "python",
   "name": "python3"
  },
  "language_info": {
   "codemirror_mode": {
    "name": "ipython",
    "version": 3
   },
   "file_extension": ".py",
   "mimetype": "text/x-python",
   "name": "python",
   "nbconvert_exporter": "python",
   "pygments_lexer": "ipython3",
   "version": "3.12.10"
  }
 },
 "nbformat": 4,
 "nbformat_minor": 5
}
