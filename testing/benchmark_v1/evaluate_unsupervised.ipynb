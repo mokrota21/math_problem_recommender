{
 "cells": [
  {
   "cell_type": "code",
   "execution_count": 1,
   "id": "8ce3fbc2",
   "metadata": {},
   "outputs": [],
   "source": [
    "from utils import clustering_eval\n",
    "import pandas as pd\n",
    "import os\n",
    "from sentence_transformers import SentenceTransformer\n",
    "from ast import literal_eval\n",
    "from pprint import pprint\n",
    "\n",
    "df = pd.read_csv(os.path.abspath(\"C:\\\\Users\\\\mokrota\\\\Documents\\\\GitHub\\\\math_problem_recommender\\\\math_problem_recommender\\\\andreescu-andrica-problems-on-number-theory\\\\benchmark_v1.csv\"))\n",
    "df[\"Problem&Solution\"] = df[\"Problem&Solution\"].apply(literal_eval)\n",
    "df = df.explode(column=[\"Problem&Solution\"]).reset_index().rename(columns={\"index\": 'label'})\n",
    "df = df[[\"label\", \"Problem&Solution\"]].rename(columns={\"Problem&Solution\": 'text'})\n",
    "\n",
    "sample_models = 30"
   ]
  },
  {
   "cell_type": "code",
   "execution_count": 2,
   "id": "7100f2e0",
   "metadata": {},
   "outputs": [],
   "source": [
    "from random import uniform\n",
    "from pprint import pprint\n",
    "\n",
    "def test_model(model):\n",
    "    thresholds = [uniform(0.0, 1.0) for _ in range(sample_models)]\n",
    "    best_score = None\n",
    "    best_threshold = None\n",
    "    best_clusters = None\n",
    "    best_fig = None\n",
    "    best_metrics_d = None\n",
    "    for threshold in thresholds:\n",
    "        clusters, fig, metrics_d = clustering_eval(df, model, min_community_size=1, threshold=threshold, log=False)\n",
    "        m = metrics_d['adjusted random score']\n",
    "        if not best_score or m > best_score:\n",
    "            best_clusters = clusters\n",
    "            best_fig = fig\n",
    "            best_metrics_d = metrics_d\n",
    "            best_score = m\n",
    "            best_threshold = threshold\n",
    "    pprint(f\"Best Threshold: {best_threshold};\\nBest scores: {best_metrics_d};\\nBest clusters: {best_clusters}\")\n",
    "    best_fig.show()\n",
    "\n",
    "    return best_clusters, best_fig, best_metrics_d, best_threshold"
   ]
  },
  {
   "cell_type": "code",
   "execution_count": null,
   "id": "a5ed9a1b",
   "metadata": {},
   "outputs": [],
   "source": []
  },
  {
   "cell_type": "markdown",
   "id": "5d4f69e7",
   "metadata": {},
   "source": [
    "## Baseline (out of the box model)"
   ]
  },
  {
   "cell_type": "code",
   "execution_count": 3,
   "id": "2edce23f",
   "metadata": {},
   "outputs": [
    {
     "data": {
      "application/vnd.jupyter.widget-view+json": {
       "model_id": "eec97fc599a04a07bd3e4715dfdd7b83",
       "version_major": 2,
       "version_minor": 0
      },
      "text/plain": [
       "Batches:   0%|          | 0/7 [00:00<?, ?it/s]"
      ]
     },
     "metadata": {},
     "output_type": "display_data"
    },
    {
     "data": {
      "application/vnd.jupyter.widget-view+json": {
       "model_id": "46d3a9472fbb4aeebcb835d0ae736fa6",
       "version_major": 2,
       "version_minor": 0
      },
      "text/plain": [
       "Batches:   0%|          | 0/7 [00:00<?, ?it/s]"
      ]
     },
     "metadata": {},
     "output_type": "display_data"
    },
    {
     "data": {
      "application/vnd.jupyter.widget-view+json": {
       "model_id": "cd8b5bc33f7a42b89bad8dcc38e1121a",
       "version_major": 2,
       "version_minor": 0
      },
      "text/plain": [
       "Batches:   0%|          | 0/7 [00:00<?, ?it/s]"
      ]
     },
     "metadata": {},
     "output_type": "display_data"
    },
    {
     "data": {
      "application/vnd.jupyter.widget-view+json": {
       "model_id": "4ed116b05fea4ff69a708767045a577b",
       "version_major": 2,
       "version_minor": 0
      },
      "text/plain": [
       "Batches:   0%|          | 0/7 [00:00<?, ?it/s]"
      ]
     },
     "metadata": {},
     "output_type": "display_data"
    },
    {
     "data": {
      "application/vnd.jupyter.widget-view+json": {
       "model_id": "5f694103d8d64078be52f9cd7ec6ac39",
       "version_major": 2,
       "version_minor": 0
      },
      "text/plain": [
       "Batches:   0%|          | 0/7 [00:00<?, ?it/s]"
      ]
     },
     "metadata": {},
     "output_type": "display_data"
    },
    {
     "data": {
      "application/vnd.jupyter.widget-view+json": {
       "model_id": "9f05192cf6194ccd85081116b599175d",
       "version_major": 2,
       "version_minor": 0
      },
      "text/plain": [
       "Batches:   0%|          | 0/7 [00:00<?, ?it/s]"
      ]
     },
     "metadata": {},
     "output_type": "display_data"
    },
    {
     "data": {
      "application/vnd.jupyter.widget-view+json": {
       "model_id": "d180ba0adce9400ca638efc53148a0d5",
       "version_major": 2,
       "version_minor": 0
      },
      "text/plain": [
       "Batches:   0%|          | 0/7 [00:00<?, ?it/s]"
      ]
     },
     "metadata": {},
     "output_type": "display_data"
    },
    {
     "data": {
      "application/vnd.jupyter.widget-view+json": {
       "model_id": "d1439006342a496db960e3c5ecf70f90",
       "version_major": 2,
       "version_minor": 0
      },
      "text/plain": [
       "Batches:   0%|          | 0/7 [00:00<?, ?it/s]"
      ]
     },
     "metadata": {},
     "output_type": "display_data"
    },
    {
     "data": {
      "application/vnd.jupyter.widget-view+json": {
       "model_id": "96393f921b404a45ac27ef98e10b854b",
       "version_major": 2,
       "version_minor": 0
      },
      "text/plain": [
       "Batches:   0%|          | 0/7 [00:00<?, ?it/s]"
      ]
     },
     "metadata": {},
     "output_type": "display_data"
    },
    {
     "data": {
      "application/vnd.jupyter.widget-view+json": {
       "model_id": "4458896bda514b6fad75800bd19f6747",
       "version_major": 2,
       "version_minor": 0
      },
      "text/plain": [
       "Batches:   0%|          | 0/7 [00:00<?, ?it/s]"
      ]
     },
     "metadata": {},
     "output_type": "display_data"
    },
    {
     "data": {
      "application/vnd.jupyter.widget-view+json": {
       "model_id": "c3622c8f8e464ba7903cd76c56cdb9ac",
       "version_major": 2,
       "version_minor": 0
      },
      "text/plain": [
       "Batches:   0%|          | 0/7 [00:00<?, ?it/s]"
      ]
     },
     "metadata": {},
     "output_type": "display_data"
    },
    {
     "data": {
      "application/vnd.jupyter.widget-view+json": {
       "model_id": "0d002cf31f76440b82e27b3080f481f7",
       "version_major": 2,
       "version_minor": 0
      },
      "text/plain": [
       "Batches:   0%|          | 0/7 [00:00<?, ?it/s]"
      ]
     },
     "metadata": {},
     "output_type": "display_data"
    },
    {
     "data": {
      "application/vnd.jupyter.widget-view+json": {
       "model_id": "7df52b80fe7845339819cedf185520e5",
       "version_major": 2,
       "version_minor": 0
      },
      "text/plain": [
       "Batches:   0%|          | 0/7 [00:00<?, ?it/s]"
      ]
     },
     "metadata": {},
     "output_type": "display_data"
    },
    {
     "data": {
      "application/vnd.jupyter.widget-view+json": {
       "model_id": "1cf0f09c059b467a9e85fce177c1d78e",
       "version_major": 2,
       "version_minor": 0
      },
      "text/plain": [
       "Batches:   0%|          | 0/7 [00:00<?, ?it/s]"
      ]
     },
     "metadata": {},
     "output_type": "display_data"
    },
    {
     "data": {
      "application/vnd.jupyter.widget-view+json": {
       "model_id": "f5580740f5384045987bd01606edabe5",
       "version_major": 2,
       "version_minor": 0
      },
      "text/plain": [
       "Batches:   0%|          | 0/7 [00:00<?, ?it/s]"
      ]
     },
     "metadata": {},
     "output_type": "display_data"
    },
    {
     "data": {
      "application/vnd.jupyter.widget-view+json": {
       "model_id": "8a62d970399744b08b94657ffd30ae62",
       "version_major": 2,
       "version_minor": 0
      },
      "text/plain": [
       "Batches:   0%|          | 0/7 [00:00<?, ?it/s]"
      ]
     },
     "metadata": {},
     "output_type": "display_data"
    },
    {
     "data": {
      "application/vnd.jupyter.widget-view+json": {
       "model_id": "91e9366605b847bca4b1b125db40e543",
       "version_major": 2,
       "version_minor": 0
      },
      "text/plain": [
       "Batches:   0%|          | 0/7 [00:00<?, ?it/s]"
      ]
     },
     "metadata": {},
     "output_type": "display_data"
    },
    {
     "data": {
      "application/vnd.jupyter.widget-view+json": {
       "model_id": "3d50991c10de40cab571691ff0ee5239",
       "version_major": 2,
       "version_minor": 0
      },
      "text/plain": [
       "Batches:   0%|          | 0/7 [00:00<?, ?it/s]"
      ]
     },
     "metadata": {},
     "output_type": "display_data"
    },
    {
     "data": {
      "application/vnd.jupyter.widget-view+json": {
       "model_id": "0fbfa87a667a401d84489b9b358102a0",
       "version_major": 2,
       "version_minor": 0
      },
      "text/plain": [
       "Batches:   0%|          | 0/7 [00:00<?, ?it/s]"
      ]
     },
     "metadata": {},
     "output_type": "display_data"
    },
    {
     "data": {
      "application/vnd.jupyter.widget-view+json": {
       "model_id": "4651f65b03384e559379deddd161ea04",
       "version_major": 2,
       "version_minor": 0
      },
      "text/plain": [
       "Batches:   0%|          | 0/7 [00:00<?, ?it/s]"
      ]
     },
     "metadata": {},
     "output_type": "display_data"
    },
    {
     "data": {
      "application/vnd.jupyter.widget-view+json": {
       "model_id": "4392c72ebec74e0eb457989dd48781c4",
       "version_major": 2,
       "version_minor": 0
      },
      "text/plain": [
       "Batches:   0%|          | 0/7 [00:00<?, ?it/s]"
      ]
     },
     "metadata": {},
     "output_type": "display_data"
    },
    {
     "data": {
      "application/vnd.jupyter.widget-view+json": {
       "model_id": "69720a00a7f34916a8db880433ab7765",
       "version_major": 2,
       "version_minor": 0
      },
      "text/plain": [
       "Batches:   0%|          | 0/7 [00:00<?, ?it/s]"
      ]
     },
     "metadata": {},
     "output_type": "display_data"
    },
    {
     "data": {
      "application/vnd.jupyter.widget-view+json": {
       "model_id": "f86aeb52035b48ed8b8f997d053948bd",
       "version_major": 2,
       "version_minor": 0
      },
      "text/plain": [
       "Batches:   0%|          | 0/7 [00:00<?, ?it/s]"
      ]
     },
     "metadata": {},
     "output_type": "display_data"
    },
    {
     "data": {
      "application/vnd.jupyter.widget-view+json": {
       "model_id": "15ea855d358e4a3696feba9c575a4b5d",
       "version_major": 2,
       "version_minor": 0
      },
      "text/plain": [
       "Batches:   0%|          | 0/7 [00:00<?, ?it/s]"
      ]
     },
     "metadata": {},
     "output_type": "display_data"
    },
    {
     "data": {
      "application/vnd.jupyter.widget-view+json": {
       "model_id": "ee0dd637f6364f93a3995feae2bc58a1",
       "version_major": 2,
       "version_minor": 0
      },
      "text/plain": [
       "Batches:   0%|          | 0/7 [00:00<?, ?it/s]"
      ]
     },
     "metadata": {},
     "output_type": "display_data"
    },
    {
     "data": {
      "application/vnd.jupyter.widget-view+json": {
       "model_id": "cc0058cd37014cd9b8fbac1914369380",
       "version_major": 2,
       "version_minor": 0
      },
      "text/plain": [
       "Batches:   0%|          | 0/7 [00:00<?, ?it/s]"
      ]
     },
     "metadata": {},
     "output_type": "display_data"
    },
    {
     "data": {
      "application/vnd.jupyter.widget-view+json": {
       "model_id": "b4a5ef433c8d4783b271cab901f2ba3f",
       "version_major": 2,
       "version_minor": 0
      },
      "text/plain": [
       "Batches:   0%|          | 0/7 [00:00<?, ?it/s]"
      ]
     },
     "metadata": {},
     "output_type": "display_data"
    },
    {
     "data": {
      "application/vnd.jupyter.widget-view+json": {
       "model_id": "9ac2c506dbd849ed9520aaf7322478e1",
       "version_major": 2,
       "version_minor": 0
      },
      "text/plain": [
       "Batches:   0%|          | 0/7 [00:00<?, ?it/s]"
      ]
     },
     "metadata": {},
     "output_type": "display_data"
    },
    {
     "data": {
      "application/vnd.jupyter.widget-view+json": {
       "model_id": "50b60b63ee134f9391cfef098fe79741",
       "version_major": 2,
       "version_minor": 0
      },
      "text/plain": [
       "Batches:   0%|          | 0/7 [00:00<?, ?it/s]"
      ]
     },
     "metadata": {},
     "output_type": "display_data"
    },
    {
     "data": {
      "application/vnd.jupyter.widget-view+json": {
       "model_id": "d6593bd6a0994681a282823b89957135",
       "version_major": 2,
       "version_minor": 0
      },
      "text/plain": [
       "Batches:   0%|          | 0/7 [00:00<?, ?it/s]"
      ]
     },
     "metadata": {},
     "output_type": "display_data"
    },
    {
     "name": "stdout",
     "output_type": "stream",
     "text": [
      "('Best Threshold: 0.6753357908725841;\\n'\n",
      " \"Best scores: {'random score': 0.973181186283596, 'adjusted random score': \"\n",
      " \"0.04764056193318803, 'nmi': 0.741300411997155};\\n\"\n",
      " 'Best clusters: [[275, 285, 366, 408, 407, 367, 61, 286, 409], [237, 232, '\n",
      " '229, 231, 230, 247], [75, 85, 324, 68, 338], [112, 119, 227, 304, 215], '\n",
      " '[375, 379, 402, 387, 382], [153, 154, 134, 358], [17, 18, 19, 20], [26, 140, '\n",
      " '204, 161], [34, 35, 36, 33], [152, 157, 386, 381], [248, 246, 32, 25], [290, '\n",
      " '293, 294, 292], [396, 383, 210, 130], [365, 411, 267], [371, 362, 160], '\n",
      " '[255, 3, 281], [376, 390, 389], [11, 14, 7], [45, 86, 302], [87, 95, 88], '\n",
      " '[98, 179, 219], [180, 70, 175], [202, 340, 203], [233, 235, 236], [309, 308, '\n",
      " '325], [319, 328, 341], [271, 102], [22, 21], [100, 103], [355, 361], [66, '\n",
      " '311], [10, 278], [29, 398], [43, 62], [47, 401], [48, 364], [49, 166], [52, '\n",
      " '78], [58, 394], [71, 177], [83, 151], [93, 94], [109, 332], [115, 142], '\n",
      " '[126, 149], [158, 195], [162, 339], [214, 216], [279, 288], [283, 284], '\n",
      " '[298, 300], [312, 313], [346, 354], [359, 360], [280], [273], [146], [303], '\n",
      " '[104], [291], [155], [259], [106], [385], [199], [357], [388], [0], [1], '\n",
      " '[2], [4], [5], [6], [8], [9], [12], [13], [15], [16], [23], [24], [27], '\n",
      " '[28], [30], [31], [37], [38], [39], [40], [41], [42], [44], [46], [50], '\n",
      " '[51], [53], [54], [55], [56], [57], [59], [60], [63], [64], [65], [67], '\n",
      " '[69], [72], [73], [74], [76], [77], [79], [80], [81], [82], [84], [89], '\n",
      " '[90], [91], [92], [96], [97], [99], [101], [105], [107], [108], [110], '\n",
      " '[111], [113], [114], [116], [117], [118], [120], [121], [122], [123], [124], '\n",
      " '[125], [127], [128], [129], [131], [132], [133], [135], [136], [137], [138], '\n",
      " '[139], [141], [143], [144], [145], [147], [148], [150], [156], [159], [163], '\n",
      " '[164], [165], [167], [168], [169], [170], [171], [172], [173], [174], [176], '\n",
      " '[178], [181], [182], [183], [184], [185], [186], [187], [188], [189], [190], '\n",
      " '[191], [192], [193], [194], [196], [197], [198], [200], [201], [205], [206], '\n",
      " '[207], [208], [209], [211], [212], [213], [217], [218], [220], [221], [222], '\n",
      " '[223], [224], [225], [226], [228], [234], [238], [239], [240], [241], [242], '\n",
      " '[243], [244], [245], [249], [250], [251], [252], [253], [254], [256], [257], '\n",
      " '[258], [260], [261], [262], [263], [264], [265], [266], [268], [269], [270], '\n",
      " '[272], [274], [276], [277], [282], [287], [289], [295], [296], [297], [299], '\n",
      " '[301], [305], [306], [307], [310], [314], [315], [316], [317], [318], [320], '\n",
      " '[321], [322], [323], [326], [327], [329], [330], [331], [333], [334], [335], '\n",
      " '[336], [337], [342], [343], [344], [345], [347], [348], [349], [350], [351], '\n",
      " '[352], [353], [356], [363], [368], [369], [370], [372], [373], [374], [377], '\n",
      " '[378], [380], [384], [391], [392], [393], [395], [397], [399], [400], [403], '\n",
      " '[404], [405], [406], [410], [412], [413], [414], [415]]')\n"
     ]
    },
    {
     "data": {
      "application/vnd.plotly.v1+json": {
       "config": {
        "plotlyServerURL": "https://plot.ly"
       },
       "data": [
        {
         "legendgroup": "gt",
         "marker": {
          "color": "#1f77b4",
          "size": 6
         },
         "mode": "markers",
         "name": "GT Group 0",
         "showlegend": false,
         "type": "scatter",
         "x": {
          "bdata": "dLjKwdvm48EXZALCCCbzwb742MEwM+/Bq7jnwA==",
          "dtype": "f4"
         },
         "xaxis": "x",
         "y": {
          "bdata": "F9NawjNgV8KL5k7C8alVwutoN8JvVlHCOAxEwg==",
          "dtype": "f4"
         },
         "yaxis": "y"
        },
        {
         "legendgroup": "gt",
         "marker": {
          "color": "#1f77b4",
          "size": 6
         },
         "mode": "markers",
         "name": "GT Group 1",
         "showlegend": false,
         "type": "scatter",
         "x": {
          "bdata": "c7xrwixCtMEnra3BIz6owRKfbsIRBnHCpMmJwti2ccLL/njCph/twA==",
          "dtype": "f4"
         },
         "xaxis": "x",
         "y": {
          "bdata": "eyFCwWlqeMEUH4jB/0qRwfSeNMHw+w7BNxmbPzNXJsF5XiLB15h1Qg==",
          "dtype": "f4"
         },
         "yaxis": "y"
        },
        {
         "legendgroup": "gt",
         "marker": {
          "color": "#1f77b4",
          "size": 6
         },
         "mode": "markers",
         "name": "GT Group 2",
         "showlegend": false,
         "type": "scatter",
         "x": {
          "bdata": "D2qWwtndlcIAxpTCDI2ZwuO4ksKDhZLC7cSXwiA6j8I=",
          "dtype": "f4"
         },
         "xaxis": "x",
         "y": {
          "bdata": "ezoJwqHGDMITjgHC1VsIwnL1BcLKTvzB/Yv5wYvU/cE=",
          "dtype": "f4"
         },
         "yaxis": "y"
        },
        {
         "legendgroup": "gt",
         "marker": {
          "color": "#aec7e8",
          "size": 6
         },
         "mode": "markers",
         "name": "GT Group 3",
         "showlegend": false,
         "type": "scatter",
         "x": {
          "bdata": "e9Wkwo6URcFqRj9Bv9BBwvNiAsJTxjHBm942wg==",
          "dtype": "f4"
         },
         "xaxis": "x",
         "y": {
          "bdata": "6uhNQCmawUAoK2XCmtERwtIfn0C9oP8/BVgPwg==",
          "dtype": "f4"
         },
         "yaxis": "y"
        },
        {
         "legendgroup": "gt",
         "marker": {
          "color": "#aec7e8",
          "size": 6
         },
         "mode": "markers",
         "name": "GT Group 4",
         "showlegend": false,
         "type": "scatter",
         "x": {
          "bdata": "fJikwkzmNcIlmTrCASg7wk5pO8Kr4AfAfwk+wg==",
          "dtype": "f4"
         },
         "xaxis": "x",
         "y": {
          "bdata": "YwBpQFdSIcKGBB7Cu54ZwqBHFcIEmEDASmQkwg==",
          "dtype": "f4"
         },
         "yaxis": "y"
        },
        {
         "legendgroup": "gt",
         "marker": {
          "color": "#ff7f0e",
          "size": 6
         },
         "mode": "markers",
         "name": "GT Group 5",
         "showlegend": false,
         "type": "scatter",
         "x": {
          "bdata": "mr6rwbWPIMI=",
          "dtype": "f4"
         },
         "xaxis": "x",
         "y": {
          "bdata": "dZyUQUiCyEE=",
          "dtype": "f4"
         },
         "yaxis": "y"
        },
        {
         "legendgroup": "gt",
         "marker": {
          "color": "#ff7f0e",
          "size": 6
         },
         "mode": "markers",
         "name": "GT Group 6",
         "showlegend": false,
         "type": "scatter",
         "x": {
          "bdata": "5U5KQQ8nOUE=",
          "dtype": "f4"
         },
         "xaxis": "x",
         "y": {
          "bdata": "iMkIwTRTkMA=",
          "dtype": "f4"
         },
         "yaxis": "y"
        },
        {
         "legendgroup": "gt",
         "marker": {
          "color": "#ff7f0e",
          "size": 6
         },
         "mode": "markers",
         "name": "GT Group 7",
         "showlegend": false,
         "type": "scatter",
         "x": {
          "bdata": "S/0SwhHKYMGg2bTAmN1rwWkLBkKh9KRBYux7wfZnE0KYDF9CbRzpwJPXC0I=",
          "dtype": "f4"
         },
         "xaxis": "x",
         "y": {
          "bdata": "d/dmQVHFZUCTwBxCaa7UwTXM+T9EpwDClEdtQvd6jcDfkpZA/uJtQsiZsUA=",
          "dtype": "f4"
         },
         "yaxis": "y"
        },
        {
         "legendgroup": "gt",
         "marker": {
          "color": "#ffbb78",
          "size": 6
         },
         "mode": "markers",
         "name": "GT Group 8",
         "showlegend": false,
         "type": "scatter",
         "x": {
          "bdata": "Bc6pQX6PN8L5VArCmyUOwnPz9sE=",
          "dtype": "f4"
         },
         "xaxis": "x",
         "y": {
          "bdata": "qLsKQmBzrkHVIeFBAqDxPz6j7UE=",
          "dtype": "f4"
         },
         "yaxis": "y"
        },
        {
         "legendgroup": "gt",
         "marker": {
          "color": "#ffbb78",
          "size": 6
         },
         "mode": "markers",
         "name": "GT Group 9",
         "showlegend": false,
         "type": "scatter",
         "x": {
          "bdata": "EwgvwVCd9sGZPLHB",
          "dtype": "f4"
         },
         "xaxis": "x",
         "y": {
          "bdata": "f8HXwIWj10DzMzvC",
          "dtype": "f4"
         },
         "yaxis": "y"
        },
        {
         "legendgroup": "gt",
         "marker": {
          "color": "#2ca02c",
          "size": 6
         },
         "mode": "markers",
         "name": "GT Group 10",
         "showlegend": false,
         "type": "scatter",
         "x": {
          "bdata": "Y90Pwu+pccF38qJB",
          "dtype": "f4"
         },
         "xaxis": "x",
         "y": {
          "bdata": "motoQSnudkEE3QBC",
          "dtype": "f4"
         },
         "yaxis": "y"
        },
        {
         "legendgroup": "gt",
         "marker": {
          "color": "#2ca02c",
          "size": 6
         },
         "mode": "markers",
         "name": "GT Group 11",
         "showlegend": false,
         "type": "scatter",
         "x": {
          "bdata": "l95Dvh3JC0ImnxjBOZUQQg==",
          "dtype": "f4"
         },
         "xaxis": "x",
         "y": {
          "bdata": "JidFQv7zGkIdnmRCHAIWQg==",
          "dtype": "f4"
         },
         "yaxis": "y"
        },
        {
         "legendgroup": "gt",
         "marker": {
          "color": "#98df8a",
          "size": 6
         },
         "mode": "markers",
         "name": "GT Group 12",
         "showlegend": false,
         "type": "scatter",
         "x": {
          "bdata": "xYOvvvkaQb/pIXdB4RVNQRmbVr4tEA5B",
          "dtype": "f4"
         },
         "xaxis": "x",
         "y": {
          "bdata": "n8ulQUEcQEKiwS1COEElwl7un0EAFgRC",
          "dtype": "f4"
         },
         "yaxis": "y"
        },
        {
         "legendgroup": "gt",
         "marker": {
          "color": "#98df8a",
          "size": 6
         },
         "mode": "markers",
         "name": "GT Group 13",
         "showlegend": false,
         "type": "scatter",
         "x": {
          "bdata": "6hUJQq0hV0HEhwRB0WPRwDDPz0DnWNtAD+upwDs8YEGHDSDCJS3oQHE9BEIvHtDA",
          "dtype": "f4"
         },
         "xaxis": "x",
         "y": {
          "bdata": "gn8EQrfsbULrCVZCowRtQsnmOkKer+dBCf0UQqaPb0Jbh7dB4whOQrH1A0JSNx5C",
          "dtype": "f4"
         },
         "yaxis": "y"
        },
        {
         "legendgroup": "gt",
         "marker": {
          "color": "#98df8a",
          "size": 6
         },
         "mode": "markers",
         "name": "GT Group 14",
         "showlegend": false,
         "type": "scatter",
         "x": {
          "bdata": "aaozQrcOLEJcwFFCcmlJQhvvTUK/KKVB",
          "dtype": "f4"
         },
         "xaxis": "x",
         "y": {
          "bdata": "hnFiQToVXEHiKI5BvJSOQRAPI8CoBYFC",
          "dtype": "f4"
         },
         "yaxis": "y"
        },
        {
         "legendgroup": "gt",
         "marker": {
          "color": "#d62728",
          "size": 6
         },
         "mode": "markers",
         "name": "GT Group 15",
         "showlegend": false,
         "type": "scatter",
         "x": {
          "bdata": "vHgmQWOyMkFhUC9C/cTcQVwDJUJK+3lBm3srQQ==",
          "dtype": "f4"
         },
         "xaxis": "x",
         "y": {
          "bdata": "xT0KwQyuA8EQMl5BIr+AwAogWUF1t2xA+L77vw==",
          "dtype": "f4"
         },
         "yaxis": "y"
        },
        {
         "legendgroup": "gt",
         "marker": {
          "color": "#d62728",
          "size": 6
         },
         "mode": "markers",
         "name": "GT Group 16",
         "showlegend": false,
         "type": "scatter",
         "x": {
          "bdata": "JJ/LQdqJ0UGn3cpBiOK0QXLVm8GSadxB",
          "dtype": "f4"
         },
         "xaxis": "x",
         "y": {
          "bdata": "OxHewcUF78H+deTBG2nzwdY4PcI7SqrA",
          "dtype": "f4"
         },
         "yaxis": "y"
        },
        {
         "legendgroup": "gt",
         "marker": {
          "color": "#ff9896",
          "size": 6
         },
         "mode": "markers",
         "name": "GT Group 17",
         "showlegend": false,
         "type": "scatter",
         "x": {
          "bdata": "OYXjQV3/EMEQurBBHHh3Qp1Z/UEGrQBC1/fIQZBUrkE=",
          "dtype": "f4"
         },
         "xaxis": "x",
         "y": {
          "bdata": "bj4jwUxwvECt7oFC0D4NwRjTo0HY0aBBraUNwcc3HcE=",
          "dtype": "f4"
         },
         "yaxis": "y"
        },
        {
         "legendgroup": "gt",
         "marker": {
          "color": "#ff9896",
          "size": 6
         },
         "mode": "markers",
         "name": "GT Group 18",
         "showlegend": false,
         "type": "scatter",
         "x": {
          "bdata": "zjcIQtvmYkK/NWpCW8FrQkL1DsEOP95Bro+6QQ==",
          "dtype": "f4"
         },
         "xaxis": "x",
         "y": {
          "bdata": "AtZgQVImHcFi2wfC/fEFwh1UVUA7HB7BcDmuwA==",
          "dtype": "f4"
         },
         "yaxis": "y"
        },
        {
         "legendgroup": "gt",
         "marker": {
          "color": "#ff9896",
          "size": 6
         },
         "mode": "markers",
         "name": "GT Group 19",
         "showlegend": false,
         "type": "scatter",
         "x": {
          "bdata": "3wYKQk1VN0EGiExCCa4CQjbdgUE=",
          "dtype": "f4"
         },
         "xaxis": "x",
         "y": {
          "bdata": "tMqHQOfJW8B5lZFBZUW1wdbb2T4=",
          "dtype": "f4"
         },
         "yaxis": "y"
        },
        {
         "legendgroup": "gt",
         "marker": {
          "color": "#9467bd",
          "size": 6
         },
         "mode": "markers",
         "name": "GT Group 20",
         "showlegend": false,
         "type": "scatter",
         "x": {
          "bdata": "QgkMQg==",
          "dtype": "f4"
         },
         "xaxis": "x",
         "y": {
          "bdata": "vo+AQQ==",
          "dtype": "f4"
         },
         "yaxis": "y"
        },
        {
         "legendgroup": "gt",
         "marker": {
          "color": "#9467bd",
          "size": 6
         },
         "mode": "markers",
         "name": "GT Group 21",
         "showlegend": false,
         "type": "scatter",
         "x": {
          "bdata": "sTdJQsbjFEI=",
          "dtype": "f4"
         },
         "xaxis": "x",
         "y": {
          "bdata": "lzl6wNZnf8A=",
          "dtype": "f4"
         },
         "yaxis": "y"
        },
        {
         "legendgroup": "gt",
         "marker": {
          "color": "#c5b0d5",
          "size": 6
         },
         "mode": "markers",
         "name": "GT Group 22",
         "showlegend": false,
         "type": "scatter",
         "x": {
          "bdata": "0lMwQn+KH8I3QszB7nfAwQ==",
          "dtype": "f4"
         },
         "xaxis": "x",
         "y": {
          "bdata": "DsLSwUDA/kHQDZdB9UOfQQ==",
          "dtype": "f4"
         },
         "yaxis": "y"
        },
        {
         "legendgroup": "gt",
         "marker": {
          "color": "#c5b0d5",
          "size": 6
         },
         "mode": "markers",
         "name": "GT Group 23",
         "showlegend": false,
         "type": "scatter",
         "x": {
          "bdata": "CwCkP3hke0BrS2xA6e1gQvIwEEEVZD1B5O+zP9KsPsF7StDBvQNhQuhcssH7s3w/ari1P0bZa8HuL2JCehuqQSvlCkL/luZAJRQewg==",
          "dtype": "f4"
         },
         "xaxis": "x",
         "y": {
          "bdata": "XIFRQUcnBMK9OeM/O2kZwnMQGsG1VS1CRLjoQY1rkUBeawg+pJsjwWo9MsJReGtBZJM9QYOfJEFKsBfCoFp+QvHkd0EJl1/CmlazQQ==",
          "dtype": "f4"
         },
         "yaxis": "y"
        },
        {
         "legendgroup": "gt",
         "marker": {
          "color": "#8c564b",
          "size": 6
         },
         "mode": "markers",
         "name": "GT Group 24",
         "showlegend": false,
         "type": "scatter",
         "x": {
          "bdata": "Ugf+QOjLn8BlTz/AxV7iP3KfEEBNcgZBUvMwQq08rMFe+3LAj8YrwS0SVsIg5XZB",
          "dtype": "f4"
         },
         "xaxis": "x",
         "y": {
          "bdata": "Xe3yQe3oB8K0kQ3CIGJ1wj0LMkLkP/tBwswKwnaq4cFwBAvCDGaBQHwgjED+B/5B",
          "dtype": "f4"
         },
         "yaxis": "y"
        },
        {
         "legendgroup": "gt",
         "marker": {
          "color": "#8c564b",
          "size": 6
         },
         "mode": "markers",
         "name": "GT Group 25",
         "showlegend": false,
         "type": "scatter",
         "x": {
          "bdata": "/HHsQZWuP8GB6oLBROarQIdFAUE8IVM+d6mHQHHHo8EYfvpAqMUQwQ5hAkLm+6u/",
          "dtype": "f4"
         },
         "xaxis": "x",
         "y": {
          "bdata": "2Yk1QgQwPUGsnW1CCPVNQge5LkJ1FpFBlU0HQAVupUExDExCqNpoQgzH8EFwujZC",
          "dtype": "f4"
         },
         "yaxis": "y"
        },
        {
         "legendgroup": "gt",
         "marker": {
          "color": "#8c564b",
          "size": 6
         },
         "mode": "markers",
         "name": "GT Group 26",
         "showlegend": false,
         "type": "scatter",
         "x": {
          "bdata": "yBEVQVHUekGu1m9Be4IWQW0gg78EFm9B1ZBVQRgOmz/dI+rA+GWAQbynBsE=",
          "dtype": "f4"
         },
         "xaxis": "x",
         "y": {
          "bdata": "XZ0jQi8RMEJekBVCn6YpQrWZOkKZvxhCpiQAQWaLNkL9bSRCtE0lQjHX9sE=",
          "dtype": "f4"
         },
         "yaxis": "y"
        },
        {
         "legendgroup": "gt",
         "marker": {
          "color": "#c49c94",
          "size": 6
         },
         "mode": "markers",
         "name": "GT Group 27",
         "showlegend": false,
         "type": "scatter",
         "x": {
          "bdata": "X8jiQfwFLEJRvDnCQpgfwkCTj0Hu/6fBKxGBwcnoy8A=",
          "dtype": "f4"
         },
         "xaxis": "x",
         "y": {
          "bdata": "nQQ/wq+dh8EoHK1B4AVLQdDsekKTQ+HB0IYeQXQiB8I=",
          "dtype": "f4"
         },
         "yaxis": "y"
        },
        {
         "legendgroup": "gt",
         "marker": {
          "color": "#c49c94",
          "size": 6
         },
         "mode": "markers",
         "name": "GT Group 28",
         "showlegend": false,
         "type": "scatter",
         "x": {
          "bdata": "jdcvQmE9fkEDO9xBeRmywQtgkEC8dltConHfwS/3OkJzJUFChsJhwVCRK8HXlMPBLXTawfSrrsEsEj1CgOcWwlalXEI=",
          "dtype": "f4"
         },
         "xaxis": "x",
         "y": {
          "bdata": "ppYMwi/NdEIGH8fBoooqwnBxBMJifcw+6cI0wvd33cHdk+PBxBkrQY8uycAjhqtBDRgKQr8hm0HDss/BS1MZQrJ0kD8=",
          "dtype": "f4"
         },
         "yaxis": "y"
        },
        {
         "legendgroup": "gt",
         "marker": {
          "color": "#e377c2",
          "size": 6
         },
         "mode": "markers",
         "name": "GT Group 29",
         "showlegend": false,
         "type": "scatter",
         "x": {
          "bdata": "QHjqwUPin0FlVaM91HXIQThp6z756VE/oZvSwKw/hUFKtgnC1A/XwVbX38Eg12LBJl/dwXN2WcFGrvZBAwDJQUpkvUE=",
          "dtype": "f4"
         },
         "xaxis": "x",
         "y": {
          "bdata": "truNQD/+gkJLX1/BsRAtwR6XXMGR33hB0pITwkh7fUDJrxdBJvezPh12lcANSdtB3rd6wHcm3EFkigNCZI/MwIHKDsA=",
          "dtype": "f4"
         },
         "yaxis": "y"
        },
        {
         "legendgroup": "gt",
         "marker": {
          "color": "#e377c2",
          "size": 6
         },
         "mode": "markers",
         "name": "GT Group 30",
         "showlegend": false,
         "type": "scatter",
         "x": {
          "bdata": "RbWKwjIgh8JJeIbChoCIwg==",
          "dtype": "f4"
         },
         "xaxis": "x",
         "y": {
          "bdata": "aJiyQFRlR0CSm5NA1Y5jQA==",
          "dtype": "f4"
         },
         "yaxis": "y"
        },
        {
         "legendgroup": "gt",
         "marker": {
          "color": "#e377c2",
          "size": 6
         },
         "mode": "markers",
         "name": "GT Group 31",
         "showlegend": false,
         "type": "scatter",
         "x": {
          "bdata": "mU2awhCLncJIZZvC7PWXwvGgi8I=",
          "dtype": "f4"
         },
         "xaxis": "x",
         "y": {
          "bdata": "+JZQQR5eXUGi901BZ9dbQcmahkA=",
          "dtype": "f4"
         },
         "yaxis": "y"
        },
        {
         "legendgroup": "gt",
         "marker": {
          "color": "#f7b6d2",
          "size": 6
         },
         "mode": "markers",
         "name": "GT Group 32",
         "showlegend": false,
         "type": "scatter",
         "x": {
          "bdata": "jzSUQf2RakHhp5lBK053QZ7mWUH8L0ZBhZA6QbPYXkEJH6TCEg6Qwo5IpMJJ0JLCKFNYQrDALUL6xSxCe/Yswg==",
          "dtype": "f4"
         },
         "xaxis": "x",
         "y": {
          "bdata": "blieQbMvpkFCR5pBE/OuQa6cvUHkT9NBbJxuQqvu6UFeptpA2RmLQBIKx0Car5ZAIgSKQfIGV8HWe2/BD1GyQQ==",
          "dtype": "f4"
         },
         "yaxis": "y"
        },
        {
         "legendgroup": "gt",
         "marker": {
          "color": "#f7b6d2",
          "size": 6
         },
         "mode": "markers",
         "name": "GT Group 33",
         "showlegend": false,
         "type": "scatter",
         "x": {
          "bdata": "G45cwNpfwMFtsIBAXqXqQOr3GcImnPnBFN2+wQ==",
          "dtype": "f4"
         },
         "xaxis": "x",
         "y": {
          "bdata": "4tg6QhZUTcIX1DLC42IkwltBVkH6f1vCDWZXwg==",
          "dtype": "f4"
         },
         "yaxis": "y"
        },
        {
         "legendgroup": "gt",
         "marker": {
          "color": "#7f7f7f",
          "size": 6
         },
         "mode": "markers",
         "name": "GT Group 34",
         "showlegend": false,
         "type": "scatter",
         "x": {
          "bdata": "NBwpwl79jsF4s5rBa3BywZ2miUE8TDJBw3l+QQwZO0Kk5qRAAMCfwRQwB0G7zAjCeqyqwRhzXcFe+KpAUM68wcAS88Dfm6XB",
          "dtype": "f4"
         },
         "xaxis": "x",
         "y": {
          "bdata": "ucViwb/+PML1FVzCB5tiQTYMBkI4zRzCXolNwg8s78Hg4jHCfklcwh0pLMK05W5BbxQ9wjxTbELiGlzCS/c9wqZXRsLnAJbB",
          "dtype": "f4"
         },
         "yaxis": "y"
        },
        {
         "legendgroup": "gt",
         "marker": {
          "color": "#7f7f7f",
          "size": 6
         },
         "mode": "markers",
         "name": "GT Group 35",
         "showlegend": false,
         "type": "scatter",
         "x": {
          "bdata": "dxTqwezeLMDCI8DB5VD/wakOksEH3JDBay6OQNgc+kCd1lZBjqfmwcaIHUE=",
          "dtype": "f4"
         },
         "xaxis": "x",
         "y": {
          "bdata": "PmSBwoWPX8IEM0nCFJBhwtKFhMKSsIPCWkBcwuOxLsIGvJ1ARlCBwkDIL8I=",
          "dtype": "f4"
         },
         "yaxis": "y"
        },
        {
         "legendgroup": "gt",
         "marker": {
          "color": "#c7c7c7",
          "size": 6
         },
         "mode": "markers",
         "name": "GT Group 36",
         "showlegend": false,
         "type": "scatter",
         "x": {
          "bdata": "+1U6wl1OMcL4/jzConI3wn91MsJcHyHCgTkkwjMIPcI=",
          "dtype": "f4"
         },
         "xaxis": "x",
         "y": {
          "bdata": "rIpcwWm9N8EEb27BjIdRwak5SMG8yIHBXQx4wcZFn8A=",
          "dtype": "f4"
         },
         "yaxis": "y"
        },
        {
         "legendgroup": "gt",
         "marker": {
          "color": "#c7c7c7",
          "size": 6
         },
         "mode": "markers",
         "name": "GT Group 37",
         "showlegend": false,
         "type": "scatter",
         "x": {
          "bdata": "Yu6hwLPMyMB0FKnAWOOcQVQshcBBCTBBk6a3QTM0eMBrAQ/BeXoPQg==",
          "dtype": "f4"
         },
         "xaxis": "x",
         "y": {
          "bdata": "IyQ1wEhcKL+T9VXAXjoGQmsuH0JFZyPCLw8Vweq9/8HGaxlCCO6CwQ==",
          "dtype": "f4"
         },
         "yaxis": "y"
        },
        {
         "legendgroup": "gt",
         "marker": {
          "color": "#c7c7c7",
          "size": 6
         },
         "mode": "markers",
         "name": "GT Group 38",
         "showlegend": false,
         "type": "scatter",
         "x": {
          "bdata": "WGFdQmqqXkK6pgJCYF0JQogG/EG/XABC8laKQZRQlUHekpBB",
          "dtype": "f4"
         },
         "xaxis": "x",
         "y": {
          "bdata": "9cShwdZgm8FxtDpCAnkgQptKNUIN6DRCwehKwme4SMJAW6O+",
          "dtype": "f4"
         },
         "yaxis": "y"
        },
        {
         "legendgroup": "gt",
         "marker": {
          "color": "#bcbd22",
          "size": 6
         },
         "mode": "markers",
         "name": "GT Group 39",
         "showlegend": false,
         "type": "scatter",
         "x": {
          "bdata": "cqE8Qr/EU0JD6SVCMo8tQm2h30H6Kz9Bgbf9QbuCDEIooFpCxAAFQlEJDUJ9BSJCYOjWQVHZ6cFxHxhCWZl2Qmi4VkKMEERCllgPQqpHXkKVebxAwoAVQkIfU8KEOjlCXnQjQoEnW0I=",
          "dtype": "f4"
         },
         "xaxis": "x",
         "y": {
          "bdata": "CoC5wKQ9dMHWtHTBvuMBQsFlNsIch7bB2WIyvXvRB0IyBpDBGPsOQiQq+UH0RHbBsrfRwXkr6kC+hRZCpaITwYf/gsHsfMrAOxWuwelnJEBxIftBHCwDQkj5mUCQRuPBlWtgwQ9ENME=",
          "dtype": "f4"
         },
         "yaxis": "y"
        },
        {
         "legendgroup": "gt",
         "marker": {
          "color": "#bcbd22",
          "size": 6
         },
         "mode": "markers",
         "name": "GT Group 40",
         "showlegend": false,
         "type": "scatter",
         "x": {
          "bdata": "6a1VwaVXQkA78E3C0tksQWcWFsKhLy/BIKcWQWKZRsICGjDCVT1AQa0FOkHKFSFBDTg3wQ==",
          "dtype": "f4"
         },
         "xaxis": "x",
         "y": {
          "bdata": "embTwTSD6EEv+rBA98OuwZnjiUEANOrBA0fhQTeY6L9V5BxBuWqeQADOmcGVzq3BYh69wQ==",
          "dtype": "f4"
         },
         "yaxis": "y"
        },
        {
         "legendgroup": "gt",
         "marker": {
          "color": "#dbdb8d",
          "size": 6
         },
         "mode": "markers",
         "name": "GT Group 41",
         "showlegend": false,
         "type": "scatter",
         "x": {
          "bdata": "L7sLwWwAF8FAgjzBiIxCwgJTQMIDqjTB",
          "dtype": "f4"
         },
         "xaxis": "x",
         "y": {
          "bdata": "PQfcwcUe6sFggsnBg3w0wC8OXcAgfbjB",
          "dtype": "f4"
         },
         "yaxis": "y"
        },
        {
         "legendgroup": "gt",
         "marker": {
          "color": "#dbdb8d",
          "size": 6
         },
         "mode": "markers",
         "name": "GT Group 42",
         "showlegend": false,
         "type": "scatter",
         "x": {
          "bdata": "0WgSQU32fEH4K6lBgKkDQWldBUEIhPs/Qk5LQtZxEMK9nkVC2VUxQfgFScA=",
          "dtype": "f4"
         },
         "xaxis": "x",
         "y": {
          "bdata": "/O9GwjnxO7/i1P3BxSVUwuYvV8IZgnPC782lQbUBmT9K9+XAuWhgws9oZsI=",
          "dtype": "f4"
         },
         "yaxis": "y"
        },
        {
         "legendgroup": "gt",
         "marker": {
          "color": "#dbdb8d",
          "size": 6
         },
         "mode": "markers",
         "name": "GT Group 43",
         "showlegend": false,
         "type": "scatter",
         "x": {
          "bdata": "TmxfQpYhYELZ1ENCK4+9wYndDEJ0mF1CsfdFQg==",
          "dtype": "f4"
         },
         "xaxis": "x",
         "y": {
          "bdata": "MAgWQkc6GUIW//lB3DshQqVZrcGXkxBCllj0QQ==",
          "dtype": "f4"
         },
         "yaxis": "y"
        },
        {
         "legendgroup": "gt",
         "marker": {
          "color": "#17becf",
          "size": 6
         },
         "mode": "markers",
         "name": "GT Group 44",
         "showlegend": false,
         "type": "scatter",
         "x": {
          "bdata": "7PnvwXzPYkF+yD5ClzYewsVm98F6Bx3ChiLNwYBHNEJURxrCmq20wd/zyMHzSOjBoAVVQeChzcH8LfjBMgDhwVaVHMLWYQLCK5z/wQ==",
          "dtype": "f4"
         },
         "xaxis": "x",
         "y": {
          "bdata": "JIASQqOw9EGXUgJCfy8UQp2wFkICSfNBhsEeQrysAkJ4n+tBVDQiQpPBIUImNwtCsBrJQeVSKEIMKepB586EQA3vFkKJaOVBHE6sQA==",
          "dtype": "f4"
         },
         "yaxis": "y"
        },
        {
         "legendgroup": "gt",
         "marker": {
          "color": "#17becf",
          "size": 6
         },
         "mode": "markers",
         "name": "GT Group 45",
         "showlegend": false,
         "type": "scatter",
         "x": {
          "bdata": "cnIjwhhnSUJ5VQdCEg83QoqS7cFhrxRCaU4hwg==",
          "dtype": "f4"
         },
         "xaxis": "x",
         "y": {
          "bdata": "V3QCQq6o6UFXhStAqcMCQg64BULgkobBtiEcQg==",
          "dtype": "f4"
         },
         "yaxis": "y"
        },
        {
         "legendgroup": "gt",
         "marker": {
          "color": "#9edae5",
          "size": 6
         },
         "mode": "markers",
         "name": "GT Group 46",
         "showlegend": false,
         "type": "scatter",
         "x": {
          "bdata": "+xVbQil7Q0B2XivAGPsgQXY+a8A=",
          "dtype": "f4"
         },
         "xaxis": "x",
         "y": {
          "bdata": "FKALQvZIX8KCY1zCcqlcwgoVVcI=",
          "dtype": "f4"
         },
         "yaxis": "y"
        },
        {
         "legendgroup": "gt",
         "marker": {
          "color": "#9edae5",
          "size": 6
         },
         "mode": "markers",
         "name": "GT Group 47",
         "showlegend": false,
         "type": "scatter",
         "x": {
          "bdata": "jlgMQRv8DME=",
          "dtype": "f4"
         },
         "xaxis": "x",
         "y": {
          "bdata": "N0lNwtXMSsI=",
          "dtype": "f4"
         },
         "yaxis": "y"
        },
        {
         "legendgroup": "gt",
         "marker": {
          "color": "#9edae5",
          "size": 6
         },
         "mode": "markers",
         "name": "GT Group 48",
         "showlegend": false,
         "type": "scatter",
         "x": {
          "bdata": "YdDvQQisZUItmORB",
          "dtype": "f4"
         },
         "xaxis": "x",
         "y": {
          "bdata": "U0Q7wnAGm8FOZDrC",
          "dtype": "f4"
         },
         "yaxis": "y"
        },
        {
         "legendgroup": "pred",
         "marker": {
          "color": "#1f77b4",
          "size": 6
         },
         "mode": "markers",
         "name": "Pred Group 0",
         "showlegend": false,
         "type": "scatter",
         "x": {
          "bdata": "XviqQGsujkBpXQVBdl4rwCl7Q0AIhPs/mTyxwdgc+kAY+yBB",
          "dtype": "f4"
         },
         "xaxis": "x2",
         "y": {
          "bdata": "4hpcwlpAXMLmL1fCgmNcwvZIX8IZgnPC8zM7wuOxLsJyqVzC",
          "dtype": "f4"
         },
         "yaxis": "y2"
        },
        {
         "legendgroup": "pred",
         "marker": {
          "color": "#1f77b4",
          "size": 6
         },
         "mode": "markers",
         "name": "Pred Group 1",
         "showlegend": false,
         "type": "scatter",
         "x": {
          "bdata": "8aCLwoaAiMJFtYrCSXiGwjIgh8ISDpDC",
          "dtype": "f4"
         },
         "xaxis": "x2",
         "y": {
          "bdata": "yZqGQNWOY0BomLJAkpuTQFRlR0DZGYtA",
          "dtype": "f4"
         },
         "yaxis": "y2"
        },
        {
         "legendgroup": "pred",
         "marker": {
          "color": "#1f77b4",
          "size": 6
         },
         "mode": "markers",
         "name": "Pred Group 2",
         "showlegend": false,
         "type": "scatter",
         "x": {
          "bdata": "6hUJQnE9BEK7ggxCOZUQQsKAFUI=",
          "dtype": "f4"
         },
         "xaxis": "x2",
         "y": {
          "bdata": "gn8EQrH1A0J70QdCHAIWQhwsA0I=",
          "dtype": "f4"
         },
         "yaxis": "y2"
        },
        {
         "legendgroup": "pred",
         "marker": {
          "color": "#1f77b4",
          "size": 6
         },
         "mode": "markers",
         "name": "Pred Group 3",
         "showlegend": false,
         "type": "scatter",
         "x": {
          "bdata": "1/fIQQ4/3kEDAMlBk6a3QdR1yEE=",
          "dtype": "f4"
         },
         "xaxis": "x2",
         "y": {
          "bdata": "raUNwTscHsFkj8zALw8VwbEQLcE=",
          "dtype": "f4"
         },
         "yaxis": "y2"
        },
        {
         "legendgroup": "pred",
         "marker": {
          "color": "#1f77b4",
          "size": 6
         },
         "mode": "markers",
         "name": "Pred Group 4",
         "showlegend": false,
         "type": "scatter",
         "x": {
          "bdata": "2dRDQrH3RUISDzdCgEc0Qn7IPkI=",
          "dtype": "f4"
         },
         "xaxis": "x2",
         "y": {
          "bdata": "Fv/5QZZY9EGpwwJCvKwCQpdSAkI=",
          "dtype": "f4"
         },
         "yaxis": "y2"
        },
        {
         "legendgroup": "pred",
         "marker": {
          "color": "#1f77b4",
          "size": 6
         },
         "mode": "markers",
         "name": "Pred Group 5",
         "showlegend": false,
         "type": "scatter",
         "x": {
          "bdata": "6MufwGVPP8B4ZHtAQII8wQ==",
          "dtype": "f4"
         },
         "xaxis": "x2",
         "y": {
          "bdata": "7egHwrSRDcJHJwTCYILJwQ==",
          "dtype": "f4"
         },
         "yaxis": "y2"
        },
        {
         "legendgroup": "pred",
         "marker": {
          "color": "#1f77b4",
          "size": 6
         },
         "mode": "markers",
         "name": "Pred Group 6",
         "showlegend": false,
         "type": "scatter",
         "x": {
          "bdata": "D2qWwtndlcIAxpTCDI2Zwg==",
          "dtype": "f4"
         },
         "xaxis": "x2",
         "y": {
          "bdata": "ezoJwqHGDMITjgHC1VsIwg==",
          "dtype": "f4"
         },
         "yaxis": "y2"
        },
        {
         "legendgroup": "pred",
         "marker": {
          "color": "#1f77b4",
          "size": 6
         },
         "mode": "markers",
         "name": "Pred Group 7",
         "showlegend": false,
         "type": "scatter",
         "x": {
          "bdata": "jpRFwdKsPsGGwmHBj8YrwQ==",
          "dtype": "f4"
         },
         "xaxis": "x2",
         "y": {
          "bdata": "KZrBQI1rkUDEGStBDGaBQA==",
          "dtype": "f4"
         },
         "yaxis": "y2"
        },
        {
         "legendgroup": "pred",
         "marker": {
          "color": "#1f77b4",
          "size": 6
         },
         "mode": "markers",
         "name": "Pred Group 8",
         "showlegend": false,
         "type": "scatter",
         "x": {
          "bdata": "JZk6wgEoO8JOaTvCTOY1wg==",
          "dtype": "f4"
         },
         "xaxis": "x2",
         "y": {
          "bdata": "hgQewrueGcKgRxXCV1Ihwg==",
          "dtype": "f4"
         },
         "yaxis": "y2"
        },
        {
         "legendgroup": "pred",
         "marker": {
          "color": "#1f77b4",
          "size": 6
         },
         "mode": "markers",
         "name": "Pred Group 9",
         "showlegend": false,
         "type": "scatter",
         "x": {
          "bdata": "Ugf+QE1yBkGGIs3BfM9iQQ==",
          "dtype": "f4"
         },
         "xaxis": "x2",
         "y": {
          "bdata": "Xe3yQeQ/+0GGwR5Co7D0QQ==",
          "dtype": "f4"
         },
         "yaxis": "y2"
        },
        {
         "legendgroup": "pred",
         "marker": {
          "color": "#1f77b4",
          "size": 6
         },
         "mode": "markers",
         "name": "Pred Group 10",
         "showlegend": false,
         "type": "scatter",
         "x": {
          "bdata": "jkikwgkfpMJ8mKTCe9Wkwg==",
          "dtype": "f4"
         },
         "xaxis": "x2",
         "y": {
          "bdata": "EgrHQF6m2kBjAGlA6uhNQA==",
          "dtype": "f4"
         },
         "yaxis": "y2"
        },
        {
         "legendgroup": "pred",
         "marker": {
          "color": "#1f77b4",
          "size": 6
         },
         "mode": "markers",
         "name": "Pred Group 11",
         "showlegend": false,
         "type": "scatter",
         "x": {
          "bdata": "+1U6wqJyN8J/dTLC+P48wg==",
          "dtype": "f4"
         },
         "xaxis": "x2",
         "y": {
          "bdata": "rIpcwYyHUcGpOUjBBG9uwQ==",
          "dtype": "f4"
         },
         "yaxis": "y2"
        },
        {
         "legendgroup": "pred",
         "marker": {
          "color": "#1f77b4",
          "size": 6
         },
         "mode": "markers",
         "name": "Pred Group 12",
         "showlegend": false,
         "type": "scatter",
         "x": {
          "bdata": "VpUcwpc2HsKA5xbCf4ofwg==",
          "dtype": "f4"
         },
         "xaxis": "x2",
         "y": {
          "bdata": "De8WQn8vFEJLUxlCQMD+QQ==",
          "dtype": "f4"
         },
         "yaxis": "y2"
        },
        {
         "legendgroup": "pred",
         "marker": {
          "color": "#1f77b4",
          "size": 6
         },
         "mode": "markers",
         "name": "Pred Group 13",
         "showlegend": false,
         "type": "scatter",
         "x": {
          "bdata": "gKkDQY5YDEHDeX5B",
          "dtype": "f4"
         },
         "xaxis": "x2",
         "y": {
          "bdata": "xSVUwjdJTcJeiU3C",
          "dtype": "f4"
         },
         "yaxis": "y2"
        },
        {
         "legendgroup": "pred",
         "marker": {
          "color": "#1f77b4",
          "size": 6
         },
         "mode": "markers",
         "name": "Pred Group 14",
         "showlegend": false,
         "type": "scatter",
         "x": {
          "bdata": "2VUxQdFoEkFe+3LA",
          "dtype": "f4"
         },
         "xaxis": "x2",
         "y": {
          "bdata": "uWhgwvzvRsJwBAvC",
          "dtype": "f4"
         },
         "yaxis": "y2"
        },
        {
         "legendgroup": "pred",
         "marker": {
          "color": "#1f77b4",
          "size": 6
         },
         "mode": "markers",
         "name": "Pred Group 15",
         "showlegend": false,
         "type": "scatter",
         "x": {
          "bdata": "2l/AwQgm88HCI8DB",
          "dtype": "f4"
         },
         "xaxis": "x2",
         "y": {
          "bdata": "FlRNwvGpVcIEM0nC",
          "dtype": "f4"
         },
         "yaxis": "y2"
        },
        {
         "legendgroup": "pred",
         "marker": {
          "color": "#aec7e8",
          "size": 6
         },
         "mode": "markers",
         "name": "Pred Group 16",
         "showlegend": false,
         "type": "scatter",
         "x": {
          "bdata": "K4+9wd/zyMGarbTB",
          "dtype": "f4"
         },
         "xaxis": "x2",
         "y": {
          "bdata": "3DshQpPBIUJUNCJC",
          "dtype": "f4"
         },
         "yaxis": "y2"
        },
        {
         "legendgroup": "pred",
         "marker": {
          "color": "#aec7e8",
          "size": 6
         },
         "mode": "markers",
         "name": "Pred Group 17",
         "showlegend": false,
         "type": "scatter",
         "x": {
          "bdata": "Ep9uwti2ccJzvGvC",
          "dtype": "f4"
         },
         "xaxis": "x2",
         "y": {
          "bdata": "9J40wTNXJsF7IULB",
          "dtype": "f4"
         },
         "yaxis": "y2"
        },
        {
         "legendgroup": "pred",
         "marker": {
          "color": "#aec7e8",
          "size": 6
         },
         "mode": "markers",
         "name": "Pred Group 18",
         "showlegend": false,
         "type": "scatter",
         "x": {
          "bdata": "oNm0wC8e0MBULIXA",
          "dtype": "f4"
         },
         "xaxis": "x2",
         "y": {
          "bdata": "k8AcQlI3HkJrLh9C",
          "dtype": "f4"
         },
         "yaxis": "y2"
        },
        {
         "legendgroup": "pred",
         "marker": {
          "color": "#aec7e8",
          "size": 6
         },
         "mode": "markers",
         "name": "Pred Group 19",
         "showlegend": false,
         "type": "scatter",
         "x": {
          "bdata": "aaozQmFQL0K3DixC",
          "dtype": "f4"
         },
         "xaxis": "x2",
         "y": {
          "bdata": "hnFiQRAyXkE6FVxB",
          "dtype": "f4"
         },
         "yaxis": "y2"
        },
        {
         "legendgroup": "pred",
         "marker": {
          "color": "#aec7e8",
          "size": 6
         },
         "mode": "markers",
         "name": "Pred Group 20",
         "showlegend": false,
         "type": "scatter",
         "x": {
          "bdata": "Svt5QXuCFkGsP4VB",
          "dtype": "f4"
         },
         "xaxis": "x2",
         "y": {
          "bdata": "dbdsQJ+mKUJIe31A",
          "dtype": "f4"
         },
         "yaxis": "y2"
        },
        {
         "legendgroup": "pred",
         "marker": {
          "color": "#aec7e8",
          "size": 6
         },
         "mode": "markers",
         "name": "Pred Group 21",
         "showlegend": false,
         "type": "scatter",
         "x": {
          "bdata": "bSCDv/kaQb/m+6u/",
          "dtype": "f4"
         },
         "xaxis": "x2",
         "y": {
          "bdata": "tZk6QkEcQEJwujZC",
          "dtype": "f4"
         },
         "yaxis": "y2"
        },
        {
         "legendgroup": "pred",
         "marker": {
          "color": "#aec7e8",
          "size": 6
         },
         "mode": "markers",
         "name": "Pred Group 22",
         "showlegend": false,
         "type": "scatter",
         "x": {
          "bdata": "L/c6QoQ6OUJzJUFC",
          "dtype": "f4"
         },
         "xaxis": "x2",
         "y": {
          "bdata": "93fdwZBG48Hdk+PB",
          "dtype": "f4"
         },
         "yaxis": "y2"
        },
        {
         "legendgroup": "pred",
         "marker": {
          "color": "#aec7e8",
          "size": 6
         },
         "mode": "markers",
         "name": "Pred Group 23",
         "showlegend": false,
         "type": "scatter",
         "x": {
          "bdata": "mU2awkhlm8Ls9ZfC",
          "dtype": "f4"
         },
         "xaxis": "x2",
         "y": {
          "bdata": "+JZQQaL3TUFn11tB",
          "dtype": "f4"
         },
         "yaxis": "y2"
        },
        {
         "legendgroup": "pred",
         "marker": {
          "color": "#aec7e8",
          "size": 6
         },
         "mode": "markers",
         "name": "Pred Group 24",
         "showlegend": false,
         "type": "scatter",
         "x": {
          "bdata": "aqpeQlhhXUIooFpC",
          "dtype": "f4"
         },
         "xaxis": "x2",
         "y": {
          "bdata": "1mCbwfXEocEyBpDB",
          "dtype": "f4"
         },
         "yaxis": "y2"
        },
        {
         "legendgroup": "pred",
         "marker": {
          "color": "#aec7e8",
          "size": 6
         },
         "mode": "markers",
         "name": "Pred Group 25",
         "showlegend": false,
         "type": "scatter",
         "x": {
          "bdata": "Q+klQn0FIkJedCNC",
          "dtype": "f4"
         },
         "xaxis": "x2",
         "y": {
          "bdata": "1rR0wfREdsGVa2DB",
          "dtype": "f4"
         },
         "yaxis": "y2"
        },
        {
         "legendgroup": "pred",
         "marker": {
          "color": "#aec7e8",
          "size": 6
         },
         "mode": "markers",
         "name": "Pred Group 26",
         "showlegend": false,
         "type": "scatter",
         "x": {
          "bdata": "FDAHQafdykE=",
          "dtype": "f4"
         },
         "xaxis": "x2",
         "y": {
          "bdata": "HSkswv515ME=",
          "dtype": "f4"
         },
         "yaxis": "y2"
        },
        {
         "legendgroup": "pred",
         "marker": {
          "color": "#aec7e8",
          "size": 6
         },
         "mode": "markers",
         "name": "Pred Group 27",
         "showlegend": false,
         "type": "scatter",
         "x": {
          "bdata": "g4WSwuO4ksI=",
          "dtype": "f4"
         },
         "xaxis": "x2",
         "y": {
          "bdata": "yk78wXL1BcI=",
          "dtype": "f4"
         },
         "yaxis": "y2"
        },
        {
         "legendgroup": "pred",
         "marker": {
          "color": "#aec7e8",
          "size": 6
         },
         "mode": "markers",
         "name": "Pred Group 28",
         "showlegend": false,
         "type": "scatter",
         "x": {
          "bdata": "JJ/LQYjitEE=",
          "dtype": "f4"
         },
         "xaxis": "x2",
         "y": {
          "bdata": "OxHewRtp88E=",
          "dtype": "f4"
         },
         "yaxis": "y2"
        },
        {
         "legendgroup": "pred",
         "marker": {
          "color": "#aec7e8",
          "size": 6
         },
         "mode": "markers",
         "name": "Pred Group 29",
         "showlegend": false,
         "type": "scatter",
         "x": {
          "bdata": "DTg3wQOqNME=",
          "dtype": "f4"
         },
         "xaxis": "x2",
         "y": {
          "bdata": "Yh69wSB9uME=",
          "dtype": "f4"
         },
         "yaxis": "y2"
        },
        {
         "legendgroup": "pred",
         "marker": {
          "color": "#aec7e8",
          "size": 6
         },
         "mode": "markers",
         "name": "Pred Group 30",
         "showlegend": false,
         "type": "scatter",
         "x": {
          "bdata": "HckLQmBdCUI=",
          "dtype": "f4"
         },
         "xaxis": "x2",
         "y": {
          "bdata": "/vMaQgJ5IEI=",
          "dtype": "f4"
         },
         "yaxis": "y2"
        },
        {
         "legendgroup": "pred",
         "marker": {
          "color": "#aec7e8",
          "size": 6
         },
         "mode": "markers",
         "name": "Pred Group 31",
         "showlegend": false,
         "type": "scatter",
         "x": {
          "bdata": "Iz6owd+bpcE=",
          "dtype": "f4"
         },
         "xaxis": "x2",
         "y": {
          "bdata": "/0qRwecAlsE=",
          "dtype": "f4"
         },
         "yaxis": "y2"
        },
        {
         "legendgroup": "pred",
         "marker": {
          "color": "#ff7f0e",
          "size": 6
         },
         "mode": "markers",
         "name": "Pred Group 32",
         "showlegend": false,
         "type": "scatter",
         "x": {
          "bdata": "82ICwiuc/8E=",
          "dtype": "f4"
         },
         "xaxis": "x2",
         "y": {
          "bdata": "0h+fQBxOrEA=",
          "dtype": "f4"
         },
         "yaxis": "y2"
        },
        {
         "legendgroup": "pred",
         "marker": {
          "color": "#ff7f0e",
          "size": 6
         },
         "mode": "markers",
         "name": "Pred Group 33",
         "showlegend": false,
         "type": "scatter",
         "x": {
          "bdata": "S/0SwmPdD8I=",
          "dtype": "f4"
         },
         "xaxis": "x2",
         "y": {
          "bdata": "d/dmQZqLaEE=",
          "dtype": "f4"
         },
         "yaxis": "y2"
        },
        {
         "legendgroup": "pred",
         "marker": {
          "color": "#ff7f0e",
          "size": 6
         },
         "mode": "markers",
         "name": "Pred Group 34",
         "showlegend": false,
         "type": "scatter",
         "x": {
          "bdata": "aQsGQnlVB0I=",
          "dtype": "f4"
         },
         "xaxis": "x2",
         "y": {
          "bdata": "Ncz5P1eFK0A=",
          "dtype": "f4"
         },
         "yaxis": "y2"
        },
        {
         "legendgroup": "pred",
         "marker": {
          "color": "#ff7f0e",
          "size": 6
         },
         "mode": "markers",
         "name": "Pred Group 35",
         "showlegend": false,
         "type": "scatter",
         "x": {
          "bdata": "ofSkQfgrqUE=",
          "dtype": "f4"
         },
         "xaxis": "x2",
         "y": {
          "bdata": "RKcAwuLU/cE=",
          "dtype": "f4"
         },
         "yaxis": "y2"
        },
        {
         "legendgroup": "pred",
         "marker": {
          "color": "#ff7f0e",
          "size": 6
         },
         "mode": "markers",
         "name": "Pred Group 36",
         "showlegend": false,
         "type": "scatter",
         "x": {
          "bdata": "Yux7wYHqgsE=",
          "dtype": "f4"
         },
         "xaxis": "x2",
         "y": {
          "bdata": "lEdtQqydbUI=",
          "dtype": "f4"
         },
         "yaxis": "y2"
        },
        {
         "legendgroup": "pred",
         "marker": {
          "color": "#ff7f0e",
          "size": 6
         },
         "mode": "markers",
         "name": "Pred Group 37",
         "showlegend": false,
         "type": "scatter",
         "x": {
          "bdata": "bRzpwNFj0cA=",
          "dtype": "f4"
         },
         "xaxis": "x2",
         "y": {
          "bdata": "/uJtQqMEbUI=",
          "dtype": "f4"
         },
         "yaxis": "y2"
        },
        {
         "legendgroup": "pred",
         "marker": {
          "color": "#ff7f0e",
          "size": 6
         },
         "mode": "markers",
         "name": "Pred Group 38",
         "showlegend": false,
         "type": "scatter",
         "x": {
          "bdata": "c/P2wfwt+ME=",
          "dtype": "f4"
         },
         "xaxis": "x2",
         "y": {
          "bdata": "PqPtQQwp6kE=",
          "dtype": "f4"
         },
         "yaxis": "y2"
        },
        {
         "legendgroup": "pred",
         "marker": {
          "color": "#ff7f0e",
          "size": 6
         },
         "mode": "markers",
         "name": "Pred Group 39",
         "showlegend": false,
         "type": "scatter",
         "x": {
          "bdata": "6SF3QVHUekE=",
          "dtype": "f4"
         },
         "xaxis": "x2",
         "y": {
          "bdata": "osEtQi8RMEI=",
          "dtype": "f4"
         },
         "yaxis": "y2"
        },
        {
         "legendgroup": "pred",
         "marker": {
          "color": "#ff7f0e",
          "size": 6
         },
         "mode": "markers",
         "name": "Pred Group 40",
         "showlegend": false,
         "type": "scatter",
         "x": {
          "bdata": "hw0gwiUUHsI=",
          "dtype": "f4"
         },
         "xaxis": "x2",
         "y": {
          "bdata": "W4e3QZpWs0E=",
          "dtype": "f4"
         },
         "yaxis": "y2"
        },
        {
         "legendgroup": "pred",
         "marker": {
          "color": "#ff7f0e",
          "size": 6
         },
         "mode": "markers",
         "name": "Pred Group 41",
         "showlegend": false,
         "type": "scatter",
         "x": {
          "bdata": "vHgmQWOyMkE=",
          "dtype": "f4"
         },
         "xaxis": "x2",
         "y": {
          "bdata": "xT0KwQyuA8E=",
          "dtype": "f4"
         },
         "yaxis": "y2"
        },
        {
         "legendgroup": "pred",
         "marker": {
          "color": "#ff7f0e",
          "size": 6
         },
         "mode": "markers",
         "name": "Pred Group 42",
         "showlegend": false,
         "type": "scatter",
         "x": {
          "bdata": "HHh3QlmZdkI=",
          "dtype": "f4"
         },
         "xaxis": "x2",
         "y": {
          "bdata": "0D4NwaWiE8E=",
          "dtype": "f4"
         },
         "yaxis": "y2"
        },
        {
         "legendgroup": "pred",
         "marker": {
          "color": "#ff7f0e",
          "size": 6
         },
         "mode": "markers",
         "name": "Pred Group 43",
         "showlegend": false,
         "type": "scatter",
         "x": {
          "bdata": "2+ZiQr0DYUI=",
          "dtype": "f4"
         },
         "xaxis": "x2",
         "y": {
          "bdata": "UiYdwaSbI8E=",
          "dtype": "f4"
         },
         "yaxis": "y2"
        },
        {
         "legendgroup": "pred",
         "marker": {
          "color": "#ff7f0e",
          "size": 6
         },
         "mode": "markers",
         "name": "Pred Group 44",
         "showlegend": false,
         "type": "scatter",
         "x": {
          "bdata": "QgkMQivlCkI=",
          "dtype": "f4"
         },
         "xaxis": "x2",
         "y": {
          "bdata": "vo+AQfHkd0E=",
          "dtype": "f4"
         },
         "yaxis": "y2"
        },
        {
         "legendgroup": "pred",
         "marker": {
          "color": "#ff7f0e",
          "size": 6
         },
         "mode": "markers",
         "name": "Pred Group 45",
         "showlegend": false,
         "type": "scatter",
         "x": {
          "bdata": "UvMwQo3XL0I=",
          "dtype": "f4"
         },
         "xaxis": "x2",
         "y": {
          "bdata": "wswKwqaWDMI=",
          "dtype": "f4"
         },
         "yaxis": "y2"
        },
        {
         "legendgroup": "pred",
         "marker": {
          "color": "#ff7f0e",
          "size": 6
         },
         "mode": "markers",
         "name": "Pred Group 46",
         "showlegend": false,
         "type": "scatter",
         "x": {
          "bdata": "LRJWwkIfU8I=",
          "dtype": "f4"
         },
         "xaxis": "x2",
         "y": {
          "bdata": "fCCMQEj5mUA=",
          "dtype": "f4"
         },
         "yaxis": "y2"
        },
        {
         "legendgroup": "pred",
         "marker": {
          "color": "#ffbb78",
          "size": 6
         },
         "mode": "markers",
         "name": "Pred Group 47",
         "showlegend": false,
         "type": "scatter",
         "x": {
          "bdata": "ZVWjPThp6z4=",
          "dtype": "f4"
         },
         "xaxis": "x2",
         "y": {
          "bdata": "S19fwR6XXME=",
          "dtype": "f4"
         },
         "yaxis": "y2"
        },
        {
         "legendgroup": "pred",
         "marker": {
          "color": "#ffbb78",
          "size": 6
         },
         "mode": "markers",
         "name": "Pred Group 48",
         "showlegend": false,
         "type": "scatter",
         "x": {
          "bdata": "dxTqwY6n5sE=",
          "dtype": "f4"
         },
         "xaxis": "x2",
         "y": {
          "bdata": "PmSBwkZQgcI=",
          "dtype": "f4"
         },
         "yaxis": "y2"
        },
        {
         "legendgroup": "pred",
         "marker": {
          "color": "#ffbb78",
          "size": 6
         },
         "mode": "markers",
         "name": "Pred Group 49",
         "showlegend": false,
         "type": "scatter",
         "x": {
          "bdata": "qQ6SwQfckME=",
          "dtype": "f4"
         },
         "xaxis": "x2",
         "y": {
          "bdata": "0oWEwpKwg8I=",
          "dtype": "f4"
         },
         "yaxis": "y2"
        },
        {
         "legendgroup": "pred",
         "marker": {
          "color": "#ffbb78",
          "size": 6
         },
         "mode": "markers",
         "name": "Pred Group 50",
         "showlegend": false,
         "type": "scatter",
         "x": {
          "bdata": "Yu6hwHQUqcA=",
          "dtype": "f4"
         },
         "xaxis": "x2",
         "y": {
          "bdata": "IyQ1wJP1VcA=",
          "dtype": "f4"
         },
         "yaxis": "y2"
        },
        {
         "legendgroup": "pred",
         "marker": {
          "color": "#ffbb78",
          "size": 6
         },
         "mode": "markers",
         "name": "Pred Group 51",
         "showlegend": false,
         "type": "scatter",
         "x": {
          "bdata": "iAb8Qb9cAEI=",
          "dtype": "f4"
         },
         "xaxis": "x2",
         "y": {
          "bdata": "m0o1Qg3oNEI=",
          "dtype": "f4"
         },
         "yaxis": "y2"
        },
        {
         "legendgroup": "pred",
         "marker": {
          "color": "#ffbb78",
          "size": 6
         },
         "mode": "markers",
         "name": "Pred Group 52",
         "showlegend": false,
         "type": "scatter",
         "x": {
          "bdata": "0tksQcoVIUE=",
          "dtype": "f4"
         },
         "xaxis": "x2",
         "y": {
          "bdata": "98OuwZXOrcE=",
          "dtype": "f4"
         },
         "yaxis": "y2"
        },
        {
         "legendgroup": "pred",
         "marker": {
          "color": "#ffbb78",
          "size": 6
         },
         "mode": "markers",
         "name": "Pred Group 53",
         "showlegend": false,
         "type": "scatter",
         "x": {
          "bdata": "iIxCwgJTQMI=",
          "dtype": "f4"
         },
         "xaxis": "x2",
         "y": {
          "bdata": "g3w0wC8OXcA=",
          "dtype": "f4"
         },
         "yaxis": "y2"
        },
        {
         "legendgroup": "pred",
         "marker": {
          "color": "#ffbb78",
          "size": 6
         },
         "mode": "markers",
         "name": "Pred Group 54",
         "showlegend": false,
         "type": "scatter",
         "x": {
          "bdata": "7N4swA==",
          "dtype": "f4"
         },
         "xaxis": "x2",
         "y": {
          "bdata": "hY9fwg==",
          "dtype": "f4"
         },
         "yaxis": "y2"
        },
        {
         "legendgroup": "pred",
         "marker": {
          "color": "#ffbb78",
          "size": 6
         },
         "mode": "markers",
         "name": "Pred Group 55",
         "showlegend": false,
         "type": "scatter",
         "x": {
          "bdata": "eqyqwQ==",
          "dtype": "f4"
         },
         "xaxis": "x2",
         "y": {
          "bdata": "bxQ9wg==",
          "dtype": "f4"
         },
         "yaxis": "y2"
        },
        {
         "legendgroup": "pred",
         "marker": {
          "color": "#ffbb78",
          "size": 6
         },
         "mode": "markers",
         "name": "Pred Group 56",
         "showlegend": false,
         "type": "scatter",
         "x": {
          "bdata": "RtlrwQ==",
          "dtype": "f4"
         },
         "xaxis": "x2",
         "y": {
          "bdata": "g58kQQ==",
          "dtype": "f4"
         },
         "yaxis": "y2"
        },
        {
         "legendgroup": "pred",
         "marker": {
          "color": "#ffbb78",
          "size": 6
         },
         "mode": "markers",
         "name": "Pred Group 57",
         "showlegend": false,
         "type": "scatter",
         "x": {
          "bdata": "QQkwQQ==",
          "dtype": "f4"
         },
         "xaxis": "x2",
         "y": {
          "bdata": "RWcjwg==",
          "dtype": "f4"
         },
         "yaxis": "y2"
        },
        {
         "legendgroup": "pred",
         "marker": {
          "color": "#ffbb78",
          "size": 6
         },
         "mode": "markers",
         "name": "Pred Group 58",
         "showlegend": false,
         "type": "scatter",
         "x": {
          "bdata": "ctWbwQ==",
          "dtype": "f4"
         },
         "xaxis": "x2",
         "y": {
          "bdata": "1jg9wg==",
          "dtype": "f4"
         },
         "yaxis": "y2"
        },
        {
         "legendgroup": "pred",
         "marker": {
          "color": "#ffbb78",
          "size": 6
         },
         "mode": "markers",
         "name": "Pred Group 59",
         "showlegend": false,
         "type": "scatter",
         "x": {
          "bdata": "XU4xwg==",
          "dtype": "f4"
         },
         "xaxis": "x2",
         "y": {
          "bdata": "ab03wQ==",
          "dtype": "f4"
         },
         "yaxis": "y2"
        },
        {
         "legendgroup": "pred",
         "marker": {
          "color": "#ffbb78",
          "size": 6
         },
         "mode": "markers",
         "name": "Pred Group 60",
         "showlegend": false,
         "type": "scatter",
         "x": {
          "bdata": "xV7iPw==",
          "dtype": "f4"
         },
         "xaxis": "x2",
         "y": {
          "bdata": "IGJ1wg==",
          "dtype": "f4"
         },
         "yaxis": "y2"
        },
        {
         "legendgroup": "pred",
         "marker": {
          "color": "#ffbb78",
          "size": 6
         },
         "mode": "markers",
         "name": "Pred Group 61",
         "showlegend": false,
         "type": "scatter",
         "x": {
          "bdata": "Jpz5wQ==",
          "dtype": "f4"
         },
         "xaxis": "x2",
         "y": {
          "bdata": "+n9bwg==",
          "dtype": "f4"
         },
         "yaxis": "y2"
        },
        {
         "legendgroup": "pred",
         "marker": {
          "color": "#ffbb78",
          "size": 6
         },
         "mode": "markers",
         "name": "Pred Group 62",
         "showlegend": false,
         "type": "scatter",
         "x": {
          "bdata": "OYXjQQ==",
          "dtype": "f4"
         },
         "xaxis": "x2",
         "y": {
          "bdata": "bj4jwQ==",
          "dtype": "f4"
         },
         "yaxis": "y2"
        },
        {
         "legendgroup": "pred",
         "marker": {
          "color": "#2ca02c",
          "size": 6
         },
         "mode": "markers",
         "name": "Pred Group 63",
         "showlegend": false,
         "type": "scatter",
         "x": {
          "bdata": "egcdwg==",
          "dtype": "f4"
         },
         "xaxis": "x2",
         "y": {
          "bdata": "AknzQQ==",
          "dtype": "f4"
         },
         "yaxis": "y2"
        },
        {
         "legendgroup": "pred",
         "marker": {
          "color": "#2ca02c",
          "size": 6
         },
         "mode": "markers",
         "name": "Pred Group 64",
         "showlegend": false,
         "type": "scatter",
         "x": {
          "bdata": "C2CQQA==",
          "dtype": "f4"
         },
         "xaxis": "x2",
         "y": {
          "bdata": "cHEEwg==",
          "dtype": "f4"
         },
         "yaxis": "y2"
        },
        {
         "legendgroup": "pred",
         "marker": {
          "color": "#2ca02c",
          "size": 6
         },
         "mode": "markers",
         "name": "Pred Group 65",
         "showlegend": false,
         "type": "scatter",
         "x": {
          "bdata": "bAAXwQ==",
          "dtype": "f4"
         },
         "xaxis": "x2",
         "y": {
          "bdata": "xR7qwQ==",
          "dtype": "f4"
         },
         "yaxis": "y2"
        },
        {
         "legendgroup": "pred",
         "marker": {
          "color": "#2ca02c",
          "size": 6
         },
         "mode": "markers",
         "name": "Pred Group 66",
         "showlegend": false,
         "type": "scatter",
         "x": {
          "bdata": "VEcawg==",
          "dtype": "f4"
         },
         "xaxis": "x2",
         "y": {
          "bdata": "eJ/rQQ==",
          "dtype": "f4"
         },
         "yaxis": "y2"
        },
        {
         "legendgroup": "pred",
         "marker": {
          "color": "#2ca02c",
          "size": 6
         },
         "mode": "markers",
         "name": "Pred Group 67",
         "showlegend": false,
         "type": "scatter",
         "x": {
          "bdata": "dLjKwQ==",
          "dtype": "f4"
         },
         "xaxis": "x2",
         "y": {
          "bdata": "F9Nawg==",
          "dtype": "f4"
         },
         "yaxis": "y2"
        },
        {
         "legendgroup": "pred",
         "marker": {
          "color": "#2ca02c",
          "size": 6
         },
         "mode": "markers",
         "name": "Pred Group 68",
         "showlegend": false,
         "type": "scatter",
         "x": {
          "bdata": "2+bjwQ==",
          "dtype": "f4"
         },
         "xaxis": "x2",
         "y": {
          "bdata": "M2BXwg==",
          "dtype": "f4"
         },
         "yaxis": "y2"
        },
        {
         "legendgroup": "pred",
         "marker": {
          "color": "#2ca02c",
          "size": 6
         },
         "mode": "markers",
         "name": "Pred Group 69",
         "showlegend": false,
         "type": "scatter",
         "x": {
          "bdata": "F2QCwg==",
          "dtype": "f4"
         },
         "xaxis": "x2",
         "y": {
          "bdata": "i+ZOwg==",
          "dtype": "f4"
         },
         "yaxis": "y2"
        },
        {
         "legendgroup": "pred",
         "marker": {
          "color": "#2ca02c",
          "size": 6
         },
         "mode": "markers",
         "name": "Pred Group 70",
         "showlegend": false,
         "type": "scatter",
         "x": {
          "bdata": "vvjYwQ==",
          "dtype": "f4"
         },
         "xaxis": "x2",
         "y": {
          "bdata": "62g3wg==",
          "dtype": "f4"
         },
         "yaxis": "y2"
        },
        {
         "legendgroup": "pred",
         "marker": {
          "color": "#2ca02c",
          "size": 6
         },
         "mode": "markers",
         "name": "Pred Group 71",
         "showlegend": false,
         "type": "scatter",
         "x": {
          "bdata": "MDPvwQ==",
          "dtype": "f4"
         },
         "xaxis": "x2",
         "y": {
          "bdata": "b1ZRwg==",
          "dtype": "f4"
         },
         "yaxis": "y2"
        },
        {
         "legendgroup": "pred",
         "marker": {
          "color": "#2ca02c",
          "size": 6
         },
         "mode": "markers",
         "name": "Pred Group 72",
         "showlegend": false,
         "type": "scatter",
         "x": {
          "bdata": "q7jnwA==",
          "dtype": "f4"
         },
         "xaxis": "x2",
         "y": {
          "bdata": "OAxEwg==",
          "dtype": "f4"
         },
         "yaxis": "y2"
        },
        {
         "legendgroup": "pred",
         "marker": {
          "color": "#2ca02c",
          "size": 6
         },
         "mode": "markers",
         "name": "Pred Group 73",
         "showlegend": false,
         "type": "scatter",
         "x": {
          "bdata": "LEK0wQ==",
          "dtype": "f4"
         },
         "xaxis": "x2",
         "y": {
          "bdata": "aWp4wQ==",
          "dtype": "f4"
         },
         "yaxis": "y2"
        },
        {
         "legendgroup": "pred",
         "marker": {
          "color": "#2ca02c",
          "size": 6
         },
         "mode": "markers",
         "name": "Pred Group 74",
         "showlegend": false,
         "type": "scatter",
         "x": {
          "bdata": "J62twQ==",
          "dtype": "f4"
         },
         "xaxis": "x2",
         "y": {
          "bdata": "FB+IwQ==",
          "dtype": "f4"
         },
         "yaxis": "y2"
        },
        {
         "legendgroup": "pred",
         "marker": {
          "color": "#2ca02c",
          "size": 6
         },
         "mode": "markers",
         "name": "Pred Group 75",
         "showlegend": false,
         "type": "scatter",
         "x": {
          "bdata": "EQZxwg==",
          "dtype": "f4"
         },
         "xaxis": "x2",
         "y": {
          "bdata": "8PsOwQ==",
          "dtype": "f4"
         },
         "yaxis": "y2"
        },
        {
         "legendgroup": "pred",
         "marker": {
          "color": "#2ca02c",
          "size": 6
         },
         "mode": "markers",
         "name": "Pred Group 76",
         "showlegend": false,
         "type": "scatter",
         "x": {
          "bdata": "pMmJwg==",
          "dtype": "f4"
         },
         "xaxis": "x2",
         "y": {
          "bdata": "NxmbPw==",
          "dtype": "f4"
         },
         "yaxis": "y2"
        },
        {
         "legendgroup": "pred",
         "marker": {
          "color": "#2ca02c",
          "size": 6
         },
         "mode": "markers",
         "name": "Pred Group 77",
         "showlegend": false,
         "type": "scatter",
         "x": {
          "bdata": "y/54wg==",
          "dtype": "f4"
         },
         "xaxis": "x2",
         "y": {
          "bdata": "eV4iwQ==",
          "dtype": "f4"
         },
         "yaxis": "y2"
        },
        {
         "legendgroup": "pred",
         "marker": {
          "color": "#98df8a",
          "size": 6
         },
         "mode": "markers",
         "name": "Pred Group 78",
         "showlegend": false,
         "type": "scatter",
         "x": {
          "bdata": "ph/twA==",
          "dtype": "f4"
         },
         "xaxis": "x2",
         "y": {
          "bdata": "15h1Qg==",
          "dtype": "f4"
         },
         "yaxis": "y2"
        },
        {
         "legendgroup": "pred",
         "marker": {
          "color": "#98df8a",
          "size": 6
         },
         "mode": "markers",
         "name": "Pred Group 79",
         "showlegend": false,
         "type": "scatter",
         "x": {
          "bdata": "7cSXwg==",
          "dtype": "f4"
         },
         "xaxis": "x2",
         "y": {
          "bdata": "/Yv5wQ==",
          "dtype": "f4"
         },
         "yaxis": "y2"
        },
        {
         "legendgroup": "pred",
         "marker": {
          "color": "#98df8a",
          "size": 6
         },
         "mode": "markers",
         "name": "Pred Group 80",
         "showlegend": false,
         "type": "scatter",
         "x": {
          "bdata": "IDqPwg==",
          "dtype": "f4"
         },
         "xaxis": "x2",
         "y": {
          "bdata": "i9T9wQ==",
          "dtype": "f4"
         },
         "yaxis": "y2"
        },
        {
         "legendgroup": "pred",
         "marker": {
          "color": "#98df8a",
          "size": 6
         },
         "mode": "markers",
         "name": "Pred Group 81",
         "showlegend": false,
         "type": "scatter",
         "x": {
          "bdata": "akY/QQ==",
          "dtype": "f4"
         },
         "xaxis": "x2",
         "y": {
          "bdata": "KCtlwg==",
          "dtype": "f4"
         },
         "yaxis": "y2"
        },
        {
         "legendgroup": "pred",
         "marker": {
          "color": "#98df8a",
          "size": 6
         },
         "mode": "markers",
         "name": "Pred Group 82",
         "showlegend": false,
         "type": "scatter",
         "x": {
          "bdata": "v9BBwg==",
          "dtype": "f4"
         },
         "xaxis": "x2",
         "y": {
          "bdata": "mtERwg==",
          "dtype": "f4"
         },
         "yaxis": "y2"
        },
        {
         "legendgroup": "pred",
         "marker": {
          "color": "#98df8a",
          "size": 6
         },
         "mode": "markers",
         "name": "Pred Group 83",
         "showlegend": false,
         "type": "scatter",
         "x": {
          "bdata": "U8YxwQ==",
          "dtype": "f4"
         },
         "xaxis": "x2",
         "y": {
          "bdata": "vaD/Pw==",
          "dtype": "f4"
         },
         "yaxis": "y2"
        },
        {
         "legendgroup": "pred",
         "marker": {
          "color": "#98df8a",
          "size": 6
         },
         "mode": "markers",
         "name": "Pred Group 84",
         "showlegend": false,
         "type": "scatter",
         "x": {
          "bdata": "m942wg==",
          "dtype": "f4"
         },
         "xaxis": "x2",
         "y": {
          "bdata": "BVgPwg==",
          "dtype": "f4"
         },
         "yaxis": "y2"
        },
        {
         "legendgroup": "pred",
         "marker": {
          "color": "#98df8a",
          "size": 6
         },
         "mode": "markers",
         "name": "Pred Group 85",
         "showlegend": false,
         "type": "scatter",
         "x": {
          "bdata": "q+AHwA==",
          "dtype": "f4"
         },
         "xaxis": "x2",
         "y": {
          "bdata": "BJhAwA==",
          "dtype": "f4"
         },
         "yaxis": "y2"
        },
        {
         "legendgroup": "pred",
         "marker": {
          "color": "#98df8a",
          "size": 6
         },
         "mode": "markers",
         "name": "Pred Group 86",
         "showlegend": false,
         "type": "scatter",
         "x": {
          "bdata": "fwk+wg==",
          "dtype": "f4"
         },
         "xaxis": "x2",
         "y": {
          "bdata": "SmQkwg==",
          "dtype": "f4"
         },
         "yaxis": "y2"
        },
        {
         "legendgroup": "pred",
         "marker": {
          "color": "#98df8a",
          "size": 6
         },
         "mode": "markers",
         "name": "Pred Group 87",
         "showlegend": false,
         "type": "scatter",
         "x": {
          "bdata": "mr6rwQ==",
          "dtype": "f4"
         },
         "xaxis": "x2",
         "y": {
          "bdata": "dZyUQQ==",
          "dtype": "f4"
         },
         "yaxis": "y2"
        },
        {
         "legendgroup": "pred",
         "marker": {
          "color": "#98df8a",
          "size": 6
         },
         "mode": "markers",
         "name": "Pred Group 88",
         "showlegend": false,
         "type": "scatter",
         "x": {
          "bdata": "tY8gwg==",
          "dtype": "f4"
         },
         "xaxis": "x2",
         "y": {
          "bdata": "SILIQQ==",
          "dtype": "f4"
         },
         "yaxis": "y2"
        },
        {
         "legendgroup": "pred",
         "marker": {
          "color": "#98df8a",
          "size": 6
         },
         "mode": "markers",
         "name": "Pred Group 89",
         "showlegend": false,
         "type": "scatter",
         "x": {
          "bdata": "5U5KQQ==",
          "dtype": "f4"
         },
         "xaxis": "x2",
         "y": {
          "bdata": "iMkIwQ==",
          "dtype": "f4"
         },
         "yaxis": "y2"
        },
        {
         "legendgroup": "pred",
         "marker": {
          "color": "#98df8a",
          "size": 6
         },
         "mode": "markers",
         "name": "Pred Group 90",
         "showlegend": false,
         "type": "scatter",
         "x": {
          "bdata": "Dyc5QQ==",
          "dtype": "f4"
         },
         "xaxis": "x2",
         "y": {
          "bdata": "NFOQwA==",
          "dtype": "f4"
         },
         "yaxis": "y2"
        },
        {
         "legendgroup": "pred",
         "marker": {
          "color": "#98df8a",
          "size": 6
         },
         "mode": "markers",
         "name": "Pred Group 91",
         "showlegend": false,
         "type": "scatter",
         "x": {
          "bdata": "EcpgwQ==",
          "dtype": "f4"
         },
         "xaxis": "x2",
         "y": {
          "bdata": "UcVlQA==",
          "dtype": "f4"
         },
         "yaxis": "y2"
        },
        {
         "legendgroup": "pred",
         "marker": {
          "color": "#98df8a",
          "size": 6
         },
         "mode": "markers",
         "name": "Pred Group 92",
         "showlegend": false,
         "type": "scatter",
         "x": {
          "bdata": "mN1rwQ==",
          "dtype": "f4"
         },
         "xaxis": "x2",
         "y": {
          "bdata": "aa7UwQ==",
          "dtype": "f4"
         },
         "yaxis": "y2"
        },
        {
         "legendgroup": "pred",
         "marker": {
          "color": "#98df8a",
          "size": 6
         },
         "mode": "markers",
         "name": "Pred Group 93",
         "showlegend": false,
         "type": "scatter",
         "x": {
          "bdata": "9mcTQg==",
          "dtype": "f4"
         },
         "xaxis": "x2",
         "y": {
          "bdata": "93qNwA==",
          "dtype": "f4"
         },
         "yaxis": "y2"
        },
        {
         "legendgroup": "pred",
         "marker": {
          "color": "#d62728",
          "size": 6
         },
         "mode": "markers",
         "name": "Pred Group 94",
         "showlegend": false,
         "type": "scatter",
         "x": {
          "bdata": "mAxfQg==",
          "dtype": "f4"
         },
         "xaxis": "x2",
         "y": {
          "bdata": "35KWQA==",
          "dtype": "f4"
         },
         "yaxis": "y2"
        },
        {
         "legendgroup": "pred",
         "marker": {
          "color": "#d62728",
          "size": 6
         },
         "mode": "markers",
         "name": "Pred Group 95",
         "showlegend": false,
         "type": "scatter",
         "x": {
          "bdata": "k9cLQg==",
          "dtype": "f4"
         },
         "xaxis": "x2",
         "y": {
          "bdata": "yJmxQA==",
          "dtype": "f4"
         },
         "yaxis": "y2"
        },
        {
         "legendgroup": "pred",
         "marker": {
          "color": "#d62728",
          "size": 6
         },
         "mode": "markers",
         "name": "Pred Group 96",
         "showlegend": false,
         "type": "scatter",
         "x": {
          "bdata": "Bc6pQQ==",
          "dtype": "f4"
         },
         "xaxis": "x2",
         "y": {
          "bdata": "qLsKQg==",
          "dtype": "f4"
         },
         "yaxis": "y2"
        },
        {
         "legendgroup": "pred",
         "marker": {
          "color": "#d62728",
          "size": 6
         },
         "mode": "markers",
         "name": "Pred Group 97",
         "showlegend": false,
         "type": "scatter",
         "x": {
          "bdata": "fo83wg==",
          "dtype": "f4"
         },
         "xaxis": "x2",
         "y": {
          "bdata": "YHOuQQ==",
          "dtype": "f4"
         },
         "yaxis": "y2"
        },
        {
         "legendgroup": "pred",
         "marker": {
          "color": "#d62728",
          "size": 6
         },
         "mode": "markers",
         "name": "Pred Group 98",
         "showlegend": false,
         "type": "scatter",
         "x": {
          "bdata": "+VQKwg==",
          "dtype": "f4"
         },
         "xaxis": "x2",
         "y": {
          "bdata": "1SHhQQ==",
          "dtype": "f4"
         },
         "yaxis": "y2"
        },
        {
         "legendgroup": "pred",
         "marker": {
          "color": "#d62728",
          "size": 6
         },
         "mode": "markers",
         "name": "Pred Group 99",
         "showlegend": false,
         "type": "scatter",
         "x": {
          "bdata": "myUOwg==",
          "dtype": "f4"
         },
         "xaxis": "x2",
         "y": {
          "bdata": "AqDxPw==",
          "dtype": "f4"
         },
         "yaxis": "y2"
        },
        {
         "legendgroup": "pred",
         "marker": {
          "color": "#d62728",
          "size": 6
         },
         "mode": "markers",
         "name": "Pred Group 100",
         "showlegend": false,
         "type": "scatter",
         "x": {
          "bdata": "EwgvwQ==",
          "dtype": "f4"
         },
         "xaxis": "x2",
         "y": {
          "bdata": "f8HXwA==",
          "dtype": "f4"
         },
         "yaxis": "y2"
        },
        {
         "legendgroup": "pred",
         "marker": {
          "color": "#d62728",
          "size": 6
         },
         "mode": "markers",
         "name": "Pred Group 101",
         "showlegend": false,
         "type": "scatter",
         "x": {
          "bdata": "UJ32wQ==",
          "dtype": "f4"
         },
         "xaxis": "x2",
         "y": {
          "bdata": "haPXQA==",
          "dtype": "f4"
         },
         "yaxis": "y2"
        },
        {
         "legendgroup": "pred",
         "marker": {
          "color": "#d62728",
          "size": 6
         },
         "mode": "markers",
         "name": "Pred Group 102",
         "showlegend": false,
         "type": "scatter",
         "x": {
          "bdata": "76lxwQ==",
          "dtype": "f4"
         },
         "xaxis": "x2",
         "y": {
          "bdata": "Ke52QQ==",
          "dtype": "f4"
         },
         "yaxis": "y2"
        },
        {
         "legendgroup": "pred",
         "marker": {
          "color": "#d62728",
          "size": 6
         },
         "mode": "markers",
         "name": "Pred Group 103",
         "showlegend": false,
         "type": "scatter",
         "x": {
          "bdata": "d/KiQQ==",
          "dtype": "f4"
         },
         "xaxis": "x2",
         "y": {
          "bdata": "BN0AQg==",
          "dtype": "f4"
         },
         "yaxis": "y2"
        },
        {
         "legendgroup": "pred",
         "marker": {
          "color": "#d62728",
          "size": 6
         },
         "mode": "markers",
         "name": "Pred Group 104",
         "showlegend": false,
         "type": "scatter",
         "x": {
          "bdata": "l95Dvg==",
          "dtype": "f4"
         },
         "xaxis": "x2",
         "y": {
          "bdata": "JidFQg==",
          "dtype": "f4"
         },
         "yaxis": "y2"
        },
        {
         "legendgroup": "pred",
         "marker": {
          "color": "#d62728",
          "size": 6
         },
         "mode": "markers",
         "name": "Pred Group 105",
         "showlegend": false,
         "type": "scatter",
         "x": {
          "bdata": "Jp8YwQ==",
          "dtype": "f4"
         },
         "xaxis": "x2",
         "y": {
          "bdata": "HZ5kQg==",
          "dtype": "f4"
         },
         "yaxis": "y2"
        },
        {
         "legendgroup": "pred",
         "marker": {
          "color": "#d62728",
          "size": 6
         },
         "mode": "markers",
         "name": "Pred Group 106",
         "showlegend": false,
         "type": "scatter",
         "x": {
          "bdata": "xYOvvg==",
          "dtype": "f4"
         },
         "xaxis": "x2",
         "y": {
          "bdata": "n8ulQQ==",
          "dtype": "f4"
         },
         "yaxis": "y2"
        },
        {
         "legendgroup": "pred",
         "marker": {
          "color": "#d62728",
          "size": 6
         },
         "mode": "markers",
         "name": "Pred Group 107",
         "showlegend": false,
         "type": "scatter",
         "x": {
          "bdata": "4RVNQQ==",
          "dtype": "f4"
         },
         "xaxis": "x2",
         "y": {
          "bdata": "OEElwg==",
          "dtype": "f4"
         },
         "yaxis": "y2"
        },
        {
         "legendgroup": "pred",
         "marker": {
          "color": "#d62728",
          "size": 6
         },
         "mode": "markers",
         "name": "Pred Group 108",
         "showlegend": false,
         "type": "scatter",
         "x": {
          "bdata": "GZtWvg==",
          "dtype": "f4"
         },
         "xaxis": "x2",
         "y": {
          "bdata": "Xu6fQQ==",
          "dtype": "f4"
         },
         "yaxis": "y2"
        },
        {
         "legendgroup": "pred",
         "marker": {
          "color": "#d62728",
          "size": 6
         },
         "mode": "markers",
         "name": "Pred Group 109",
         "showlegend": false,
         "type": "scatter",
         "x": {
          "bdata": "LRAOQQ==",
          "dtype": "f4"
         },
         "xaxis": "x2",
         "y": {
          "bdata": "ABYEQg==",
          "dtype": "f4"
         },
         "yaxis": "y2"
        },
        {
         "legendgroup": "pred",
         "marker": {
          "color": "#ff9896",
          "size": 6
         },
         "mode": "markers",
         "name": "Pred Group 110",
         "showlegend": false,
         "type": "scatter",
         "x": {
          "bdata": "rSFXQQ==",
          "dtype": "f4"
         },
         "xaxis": "x2",
         "y": {
          "bdata": "t+xtQg==",
          "dtype": "f4"
         },
         "yaxis": "y2"
        },
        {
         "legendgroup": "pred",
         "marker": {
          "color": "#ff9896",
          "size": 6
         },
         "mode": "markers",
         "name": "Pred Group 111",
         "showlegend": false,
         "type": "scatter",
         "x": {
          "bdata": "xIcEQQ==",
          "dtype": "f4"
         },
         "xaxis": "x2",
         "y": {
          "bdata": "6wlWQg==",
          "dtype": "f4"
         },
         "yaxis": "y2"
        },
        {
         "legendgroup": "pred",
         "marker": {
          "color": "#ff9896",
          "size": 6
         },
         "mode": "markers",
         "name": "Pred Group 112",
         "showlegend": false,
         "type": "scatter",
         "x": {
          "bdata": "MM/PQA==",
          "dtype": "f4"
         },
         "xaxis": "x2",
         "y": {
          "bdata": "yeY6Qg==",
          "dtype": "f4"
         },
         "yaxis": "y2"
        },
        {
         "legendgroup": "pred",
         "marker": {
          "color": "#ff9896",
          "size": 6
         },
         "mode": "markers",
         "name": "Pred Group 113",
         "showlegend": false,
         "type": "scatter",
         "x": {
          "bdata": "51jbQA==",
          "dtype": "f4"
         },
         "xaxis": "x2",
         "y": {
          "bdata": "nq/nQQ==",
          "dtype": "f4"
         },
         "yaxis": "y2"
        },
        {
         "legendgroup": "pred",
         "marker": {
          "color": "#ff9896",
          "size": 6
         },
         "mode": "markers",
         "name": "Pred Group 114",
         "showlegend": false,
         "type": "scatter",
         "x": {
          "bdata": "D+upwA==",
          "dtype": "f4"
         },
         "xaxis": "x2",
         "y": {
          "bdata": "Cf0UQg==",
          "dtype": "f4"
         },
         "yaxis": "y2"
        },
        {
         "legendgroup": "pred",
         "marker": {
          "color": "#ff9896",
          "size": 6
         },
         "mode": "markers",
         "name": "Pred Group 115",
         "showlegend": false,
         "type": "scatter",
         "x": {
          "bdata": "OzxgQQ==",
          "dtype": "f4"
         },
         "xaxis": "x2",
         "y": {
          "bdata": "po9vQg==",
          "dtype": "f4"
         },
         "yaxis": "y2"
        },
        {
         "legendgroup": "pred",
         "marker": {
          "color": "#ff9896",
          "size": 6
         },
         "mode": "markers",
         "name": "Pred Group 116",
         "showlegend": false,
         "type": "scatter",
         "x": {
          "bdata": "JS3oQA==",
          "dtype": "f4"
         },
         "xaxis": "x2",
         "y": {
          "bdata": "4whOQg==",
          "dtype": "f4"
         },
         "yaxis": "y2"
        },
        {
         "legendgroup": "pred",
         "marker": {
          "color": "#ff9896",
          "size": 6
         },
         "mode": "markers",
         "name": "Pred Group 117",
         "showlegend": false,
         "type": "scatter",
         "x": {
          "bdata": "XMBRQg==",
          "dtype": "f4"
         },
         "xaxis": "x2",
         "y": {
          "bdata": "4iiOQQ==",
          "dtype": "f4"
         },
         "yaxis": "y2"
        },
        {
         "legendgroup": "pred",
         "marker": {
          "color": "#ff9896",
          "size": 6
         },
         "mode": "markers",
         "name": "Pred Group 118",
         "showlegend": false,
         "type": "scatter",
         "x": {
          "bdata": "cmlJQg==",
          "dtype": "f4"
         },
         "xaxis": "x2",
         "y": {
          "bdata": "vJSOQQ==",
          "dtype": "f4"
         },
         "yaxis": "y2"
        },
        {
         "legendgroup": "pred",
         "marker": {
          "color": "#ff9896",
          "size": 6
         },
         "mode": "markers",
         "name": "Pred Group 119",
         "showlegend": false,
         "type": "scatter",
         "x": {
          "bdata": "G+9NQg==",
          "dtype": "f4"
         },
         "xaxis": "x2",
         "y": {
          "bdata": "EA8jwA==",
          "dtype": "f4"
         },
         "yaxis": "y2"
        },
        {
         "legendgroup": "pred",
         "marker": {
          "color": "#ff9896",
          "size": 6
         },
         "mode": "markers",
         "name": "Pred Group 120",
         "showlegend": false,
         "type": "scatter",
         "x": {
          "bdata": "vyilQQ==",
          "dtype": "f4"
         },
         "xaxis": "x2",
         "y": {
          "bdata": "qAWBQg==",
          "dtype": "f4"
         },
         "yaxis": "y2"
        },
        {
         "legendgroup": "pred",
         "marker": {
          "color": "#ff9896",
          "size": 6
         },
         "mode": "markers",
         "name": "Pred Group 121",
         "showlegend": false,
         "type": "scatter",
         "x": {
          "bdata": "/cTcQQ==",
          "dtype": "f4"
         },
         "xaxis": "x2",
         "y": {
          "bdata": "Ir+AwA==",
          "dtype": "f4"
         },
         "yaxis": "y2"
        },
        {
         "legendgroup": "pred",
         "marker": {
          "color": "#ff9896",
          "size": 6
         },
         "mode": "markers",
         "name": "Pred Group 122",
         "showlegend": false,
         "type": "scatter",
         "x": {
          "bdata": "XAMlQg==",
          "dtype": "f4"
         },
         "xaxis": "x2",
         "y": {
          "bdata": "CiBZQQ==",
          "dtype": "f4"
         },
         "yaxis": "y2"
        },
        {
         "legendgroup": "pred",
         "marker": {
          "color": "#ff9896",
          "size": 6
         },
         "mode": "markers",
         "name": "Pred Group 123",
         "showlegend": false,
         "type": "scatter",
         "x": {
          "bdata": "m3srQQ==",
          "dtype": "f4"
         },
         "xaxis": "x2",
         "y": {
          "bdata": "+L77vw==",
          "dtype": "f4"
         },
         "yaxis": "y2"
        },
        {
         "legendgroup": "pred",
         "marker": {
          "color": "#ff9896",
          "size": 6
         },
         "mode": "markers",
         "name": "Pred Group 124",
         "showlegend": false,
         "type": "scatter",
         "x": {
          "bdata": "2onRQQ==",
          "dtype": "f4"
         },
         "xaxis": "x2",
         "y": {
          "bdata": "xQXvwQ==",
          "dtype": "f4"
         },
         "yaxis": "y2"
        },
        {
         "legendgroup": "pred",
         "marker": {
          "color": "#9467bd",
          "size": 6
         },
         "mode": "markers",
         "name": "Pred Group 125",
         "showlegend": false,
         "type": "scatter",
         "x": {
          "bdata": "kmncQQ==",
          "dtype": "f4"
         },
         "xaxis": "x2",
         "y": {
          "bdata": "O0qqwA==",
          "dtype": "f4"
         },
         "yaxis": "y2"
        },
        {
         "legendgroup": "pred",
         "marker": {
          "color": "#9467bd",
          "size": 6
         },
         "mode": "markers",
         "name": "Pred Group 126",
         "showlegend": false,
         "type": "scatter",
         "x": {
          "bdata": "Xf8QwQ==",
          "dtype": "f4"
         },
         "xaxis": "x2",
         "y": {
          "bdata": "THC8QA==",
          "dtype": "f4"
         },
         "yaxis": "y2"
        },
        {
         "legendgroup": "pred",
         "marker": {
          "color": "#9467bd",
          "size": 6
         },
         "mode": "markers",
         "name": "Pred Group 127",
         "showlegend": false,
         "type": "scatter",
         "x": {
          "bdata": "ELqwQQ==",
          "dtype": "f4"
         },
         "xaxis": "x2",
         "y": {
          "bdata": "re6BQg==",
          "dtype": "f4"
         },
         "yaxis": "y2"
        },
        {
         "legendgroup": "pred",
         "marker": {
          "color": "#9467bd",
          "size": 6
         },
         "mode": "markers",
         "name": "Pred Group 128",
         "showlegend": false,
         "type": "scatter",
         "x": {
          "bdata": "nVn9QQ==",
          "dtype": "f4"
         },
         "xaxis": "x2",
         "y": {
          "bdata": "GNOjQQ==",
          "dtype": "f4"
         },
         "yaxis": "y2"
        },
        {
         "legendgroup": "pred",
         "marker": {
          "color": "#9467bd",
          "size": 6
         },
         "mode": "markers",
         "name": "Pred Group 129",
         "showlegend": false,
         "type": "scatter",
         "x": {
          "bdata": "Bq0AQg==",
          "dtype": "f4"
         },
         "xaxis": "x2",
         "y": {
          "bdata": "2NGgQQ==",
          "dtype": "f4"
         },
         "yaxis": "y2"
        },
        {
         "legendgroup": "pred",
         "marker": {
          "color": "#9467bd",
          "size": 6
         },
         "mode": "markers",
         "name": "Pred Group 130",
         "showlegend": false,
         "type": "scatter",
         "x": {
          "bdata": "kFSuQQ==",
          "dtype": "f4"
         },
         "xaxis": "x2",
         "y": {
          "bdata": "xzcdwQ==",
          "dtype": "f4"
         },
         "yaxis": "y2"
        },
        {
         "legendgroup": "pred",
         "marker": {
          "color": "#9467bd",
          "size": 6
         },
         "mode": "markers",
         "name": "Pred Group 131",
         "showlegend": false,
         "type": "scatter",
         "x": {
          "bdata": "zjcIQg==",
          "dtype": "f4"
         },
         "xaxis": "x2",
         "y": {
          "bdata": "AtZgQQ==",
          "dtype": "f4"
         },
         "yaxis": "y2"
        },
        {
         "legendgroup": "pred",
         "marker": {
          "color": "#9467bd",
          "size": 6
         },
         "mode": "markers",
         "name": "Pred Group 132",
         "showlegend": false,
         "type": "scatter",
         "x": {
          "bdata": "vzVqQg==",
          "dtype": "f4"
         },
         "xaxis": "x2",
         "y": {
          "bdata": "YtsHwg==",
          "dtype": "f4"
         },
         "yaxis": "y2"
        },
        {
         "legendgroup": "pred",
         "marker": {
          "color": "#9467bd",
          "size": 6
         },
         "mode": "markers",
         "name": "Pred Group 133",
         "showlegend": false,
         "type": "scatter",
         "x": {
          "bdata": "W8FrQg==",
          "dtype": "f4"
         },
         "xaxis": "x2",
         "y": {
          "bdata": "/fEFwg==",
          "dtype": "f4"
         },
         "yaxis": "y2"
        },
        {
         "legendgroup": "pred",
         "marker": {
          "color": "#9467bd",
          "size": 6
         },
         "mode": "markers",
         "name": "Pred Group 134",
         "showlegend": false,
         "type": "scatter",
         "x": {
          "bdata": "QvUOwQ==",
          "dtype": "f4"
         },
         "xaxis": "x2",
         "y": {
          "bdata": "HVRVQA==",
          "dtype": "f4"
         },
         "yaxis": "y2"
        },
        {
         "legendgroup": "pred",
         "marker": {
          "color": "#9467bd",
          "size": 6
         },
         "mode": "markers",
         "name": "Pred Group 135",
         "showlegend": false,
         "type": "scatter",
         "x": {
          "bdata": "ro+6QQ==",
          "dtype": "f4"
         },
         "xaxis": "x2",
         "y": {
          "bdata": "cDmuwA==",
          "dtype": "f4"
         },
         "yaxis": "y2"
        },
        {
         "legendgroup": "pred",
         "marker": {
          "color": "#9467bd",
          "size": 6
         },
         "mode": "markers",
         "name": "Pred Group 136",
         "showlegend": false,
         "type": "scatter",
         "x": {
          "bdata": "3wYKQg==",
          "dtype": "f4"
         },
         "xaxis": "x2",
         "y": {
          "bdata": "tMqHQA==",
          "dtype": "f4"
         },
         "yaxis": "y2"
        },
        {
         "legendgroup": "pred",
         "marker": {
          "color": "#9467bd",
          "size": 6
         },
         "mode": "markers",
         "name": "Pred Group 137",
         "showlegend": false,
         "type": "scatter",
         "x": {
          "bdata": "TVU3QQ==",
          "dtype": "f4"
         },
         "xaxis": "x2",
         "y": {
          "bdata": "58lbwA==",
          "dtype": "f4"
         },
         "yaxis": "y2"
        },
        {
         "legendgroup": "pred",
         "marker": {
          "color": "#9467bd",
          "size": 6
         },
         "mode": "markers",
         "name": "Pred Group 138",
         "showlegend": false,
         "type": "scatter",
         "x": {
          "bdata": "BohMQg==",
          "dtype": "f4"
         },
         "xaxis": "x2",
         "y": {
          "bdata": "eZWRQQ==",
          "dtype": "f4"
         },
         "yaxis": "y2"
        },
        {
         "legendgroup": "pred",
         "marker": {
          "color": "#9467bd",
          "size": 6
         },
         "mode": "markers",
         "name": "Pred Group 139",
         "showlegend": false,
         "type": "scatter",
         "x": {
          "bdata": "Ca4CQg==",
          "dtype": "f4"
         },
         "xaxis": "x2",
         "y": {
          "bdata": "ZUW1wQ==",
          "dtype": "f4"
         },
         "yaxis": "y2"
        },
        {
         "legendgroup": "pred",
         "marker": {
          "color": "#9467bd",
          "size": 6
         },
         "mode": "markers",
         "name": "Pred Group 140",
         "showlegend": false,
         "type": "scatter",
         "x": {
          "bdata": "Nt2BQQ==",
          "dtype": "f4"
         },
         "xaxis": "x2",
         "y": {
          "bdata": "1tvZPg==",
          "dtype": "f4"
         },
         "yaxis": "y2"
        },
        {
         "legendgroup": "pred",
         "marker": {
          "color": "#c5b0d5",
          "size": 6
         },
         "mode": "markers",
         "name": "Pred Group 141",
         "showlegend": false,
         "type": "scatter",
         "x": {
          "bdata": "sTdJQg==",
          "dtype": "f4"
         },
         "xaxis": "x2",
         "y": {
          "bdata": "lzl6wA==",
          "dtype": "f4"
         },
         "yaxis": "y2"
        },
        {
         "legendgroup": "pred",
         "marker": {
          "color": "#c5b0d5",
          "size": 6
         },
         "mode": "markers",
         "name": "Pred Group 142",
         "showlegend": false,
         "type": "scatter",
         "x": {
          "bdata": "xuMUQg==",
          "dtype": "f4"
         },
         "xaxis": "x2",
         "y": {
          "bdata": "1md/wA==",
          "dtype": "f4"
         },
         "yaxis": "y2"
        },
        {
         "legendgroup": "pred",
         "marker": {
          "color": "#c5b0d5",
          "size": 6
         },
         "mode": "markers",
         "name": "Pred Group 143",
         "showlegend": false,
         "type": "scatter",
         "x": {
          "bdata": "0lMwQg==",
          "dtype": "f4"
         },
         "xaxis": "x2",
         "y": {
          "bdata": "DsLSwQ==",
          "dtype": "f4"
         },
         "yaxis": "y2"
        },
        {
         "legendgroup": "pred",
         "marker": {
          "color": "#c5b0d5",
          "size": 6
         },
         "mode": "markers",
         "name": "Pred Group 144",
         "showlegend": false,
         "type": "scatter",
         "x": {
          "bdata": "N0LMwQ==",
          "dtype": "f4"
         },
         "xaxis": "x2",
         "y": {
          "bdata": "0A2XQQ==",
          "dtype": "f4"
         },
         "yaxis": "y2"
        },
        {
         "legendgroup": "pred",
         "marker": {
          "color": "#c5b0d5",
          "size": 6
         },
         "mode": "markers",
         "name": "Pred Group 145",
         "showlegend": false,
         "type": "scatter",
         "x": {
          "bdata": "7nfAwQ==",
          "dtype": "f4"
         },
         "xaxis": "x2",
         "y": {
          "bdata": "9UOfQQ==",
          "dtype": "f4"
         },
         "yaxis": "y2"
        },
        {
         "legendgroup": "pred",
         "marker": {
          "color": "#c5b0d5",
          "size": 6
         },
         "mode": "markers",
         "name": "Pred Group 146",
         "showlegend": false,
         "type": "scatter",
         "x": {
          "bdata": "CwCkPw==",
          "dtype": "f4"
         },
         "xaxis": "x2",
         "y": {
          "bdata": "XIFRQQ==",
          "dtype": "f4"
         },
         "yaxis": "y2"
        },
        {
         "legendgroup": "pred",
         "marker": {
          "color": "#c5b0d5",
          "size": 6
         },
         "mode": "markers",
         "name": "Pred Group 147",
         "showlegend": false,
         "type": "scatter",
         "x": {
          "bdata": "a0tsQA==",
          "dtype": "f4"
         },
         "xaxis": "x2",
         "y": {
          "bdata": "vTnjPw==",
          "dtype": "f4"
         },
         "yaxis": "y2"
        },
        {
         "legendgroup": "pred",
         "marker": {
          "color": "#c5b0d5",
          "size": 6
         },
         "mode": "markers",
         "name": "Pred Group 148",
         "showlegend": false,
         "type": "scatter",
         "x": {
          "bdata": "6e1gQg==",
          "dtype": "f4"
         },
         "xaxis": "x2",
         "y": {
          "bdata": "O2kZwg==",
          "dtype": "f4"
         },
         "yaxis": "y2"
        },
        {
         "legendgroup": "pred",
         "marker": {
          "color": "#c5b0d5",
          "size": 6
         },
         "mode": "markers",
         "name": "Pred Group 149",
         "showlegend": false,
         "type": "scatter",
         "x": {
          "bdata": "8jAQQQ==",
          "dtype": "f4"
         },
         "xaxis": "x2",
         "y": {
          "bdata": "cxAawQ==",
          "dtype": "f4"
         },
         "yaxis": "y2"
        },
        {
         "legendgroup": "pred",
         "marker": {
          "color": "#c5b0d5",
          "size": 6
         },
         "mode": "markers",
         "name": "Pred Group 150",
         "showlegend": false,
         "type": "scatter",
         "x": {
          "bdata": "FWQ9QQ==",
          "dtype": "f4"
         },
         "xaxis": "x2",
         "y": {
          "bdata": "tVUtQg==",
          "dtype": "f4"
         },
         "yaxis": "y2"
        },
        {
         "legendgroup": "pred",
         "marker": {
          "color": "#c5b0d5",
          "size": 6
         },
         "mode": "markers",
         "name": "Pred Group 151",
         "showlegend": false,
         "type": "scatter",
         "x": {
          "bdata": "5O+zPw==",
          "dtype": "f4"
         },
         "xaxis": "x2",
         "y": {
          "bdata": "RLjoQQ==",
          "dtype": "f4"
         },
         "yaxis": "y2"
        },
        {
         "legendgroup": "pred",
         "marker": {
          "color": "#c5b0d5",
          "size": 6
         },
         "mode": "markers",
         "name": "Pred Group 152",
         "showlegend": false,
         "type": "scatter",
         "x": {
          "bdata": "e0rQwQ==",
          "dtype": "f4"
         },
         "xaxis": "x2",
         "y": {
          "bdata": "XmsIPg==",
          "dtype": "f4"
         },
         "yaxis": "y2"
        },
        {
         "legendgroup": "pred",
         "marker": {
          "color": "#c5b0d5",
          "size": 6
         },
         "mode": "markers",
         "name": "Pred Group 153",
         "showlegend": false,
         "type": "scatter",
         "x": {
          "bdata": "6FyywQ==",
          "dtype": "f4"
         },
         "xaxis": "x2",
         "y": {
          "bdata": "aj0ywg==",
          "dtype": "f4"
         },
         "yaxis": "y2"
        },
        {
         "legendgroup": "pred",
         "marker": {
          "color": "#c5b0d5",
          "size": 6
         },
         "mode": "markers",
         "name": "Pred Group 154",
         "showlegend": false,
         "type": "scatter",
         "x": {
          "bdata": "+7N8Pw==",
          "dtype": "f4"
         },
         "xaxis": "x2",
         "y": {
          "bdata": "UXhrQQ==",
          "dtype": "f4"
         },
         "yaxis": "y2"
        },
        {
         "legendgroup": "pred",
         "marker": {
          "color": "#c5b0d5",
          "size": 6
         },
         "mode": "markers",
         "name": "Pred Group 155",
         "showlegend": false,
         "type": "scatter",
         "x": {
          "bdata": "ari1Pw==",
          "dtype": "f4"
         },
         "xaxis": "x2",
         "y": {
          "bdata": "ZJM9QQ==",
          "dtype": "f4"
         },
         "yaxis": "y2"
        },
        {
         "legendgroup": "pred",
         "marker": {
          "color": "#8c564b",
          "size": 6
         },
         "mode": "markers",
         "name": "Pred Group 156",
         "showlegend": false,
         "type": "scatter",
         "x": {
          "bdata": "7i9iQg==",
          "dtype": "f4"
         },
         "xaxis": "x2",
         "y": {
          "bdata": "SrAXwg==",
          "dtype": "f4"
         },
         "yaxis": "y2"
        },
        {
         "legendgroup": "pred",
         "marker": {
          "color": "#8c564b",
          "size": 6
         },
         "mode": "markers",
         "name": "Pred Group 157",
         "showlegend": false,
         "type": "scatter",
         "x": {
          "bdata": "ehuqQQ==",
          "dtype": "f4"
         },
         "xaxis": "x2",
         "y": {
          "bdata": "oFp+Qg==",
          "dtype": "f4"
         },
         "yaxis": "y2"
        },
        {
         "legendgroup": "pred",
         "marker": {
          "color": "#8c564b",
          "size": 6
         },
         "mode": "markers",
         "name": "Pred Group 158",
         "showlegend": false,
         "type": "scatter",
         "x": {
          "bdata": "/5bmQA==",
          "dtype": "f4"
         },
         "xaxis": "x2",
         "y": {
          "bdata": "CZdfwg==",
          "dtype": "f4"
         },
         "yaxis": "y2"
        },
        {
         "legendgroup": "pred",
         "marker": {
          "color": "#8c564b",
          "size": 6
         },
         "mode": "markers",
         "name": "Pred Group 159",
         "showlegend": false,
         "type": "scatter",
         "x": {
          "bdata": "cp8QQA==",
          "dtype": "f4"
         },
         "xaxis": "x2",
         "y": {
          "bdata": "PQsyQg==",
          "dtype": "f4"
         },
         "yaxis": "y2"
        },
        {
         "legendgroup": "pred",
         "marker": {
          "color": "#8c564b",
          "size": 6
         },
         "mode": "markers",
         "name": "Pred Group 160",
         "showlegend": false,
         "type": "scatter",
         "x": {
          "bdata": "rTyswQ==",
          "dtype": "f4"
         },
         "xaxis": "x2",
         "y": {
          "bdata": "dqrhwQ==",
          "dtype": "f4"
         },
         "yaxis": "y2"
        },
        {
         "legendgroup": "pred",
         "marker": {
          "color": "#8c564b",
          "size": 6
         },
         "mode": "markers",
         "name": "Pred Group 161",
         "showlegend": false,
         "type": "scatter",
         "x": {
          "bdata": "IOV2QQ==",
          "dtype": "f4"
         },
         "xaxis": "x2",
         "y": {
          "bdata": "/gf+QQ==",
          "dtype": "f4"
         },
         "yaxis": "y2"
        },
        {
         "legendgroup": "pred",
         "marker": {
          "color": "#8c564b",
          "size": 6
         },
         "mode": "markers",
         "name": "Pred Group 162",
         "showlegend": false,
         "type": "scatter",
         "x": {
          "bdata": "/HHsQQ==",
          "dtype": "f4"
         },
         "xaxis": "x2",
         "y": {
          "bdata": "2Yk1Qg==",
          "dtype": "f4"
         },
         "yaxis": "y2"
        },
        {
         "legendgroup": "pred",
         "marker": {
          "color": "#8c564b",
          "size": 6
         },
         "mode": "markers",
         "name": "Pred Group 163",
         "showlegend": false,
         "type": "scatter",
         "x": {
          "bdata": "la4/wQ==",
          "dtype": "f4"
         },
         "xaxis": "x2",
         "y": {
          "bdata": "BDA9QQ==",
          "dtype": "f4"
         },
         "yaxis": "y2"
        },
        {
         "legendgroup": "pred",
         "marker": {
          "color": "#8c564b",
          "size": 6
         },
         "mode": "markers",
         "name": "Pred Group 164",
         "showlegend": false,
         "type": "scatter",
         "x": {
          "bdata": "ROarQA==",
          "dtype": "f4"
         },
         "xaxis": "x2",
         "y": {
          "bdata": "CPVNQg==",
          "dtype": "f4"
         },
         "yaxis": "y2"
        },
        {
         "legendgroup": "pred",
         "marker": {
          "color": "#8c564b",
          "size": 6
         },
         "mode": "markers",
         "name": "Pred Group 165",
         "showlegend": false,
         "type": "scatter",
         "x": {
          "bdata": "h0UBQQ==",
          "dtype": "f4"
         },
         "xaxis": "x2",
         "y": {
          "bdata": "B7kuQg==",
          "dtype": "f4"
         },
         "yaxis": "y2"
        },
        {
         "legendgroup": "pred",
         "marker": {
          "color": "#8c564b",
          "size": 6
         },
         "mode": "markers",
         "name": "Pred Group 166",
         "showlegend": false,
         "type": "scatter",
         "x": {
          "bdata": "PCFTPg==",
          "dtype": "f4"
         },
         "xaxis": "x2",
         "y": {
          "bdata": "dRaRQQ==",
          "dtype": "f4"
         },
         "yaxis": "y2"
        },
        {
         "legendgroup": "pred",
         "marker": {
          "color": "#8c564b",
          "size": 6
         },
         "mode": "markers",
         "name": "Pred Group 167",
         "showlegend": false,
         "type": "scatter",
         "x": {
          "bdata": "d6mHQA==",
          "dtype": "f4"
         },
         "xaxis": "x2",
         "y": {
          "bdata": "lU0HQA==",
          "dtype": "f4"
         },
         "yaxis": "y2"
        },
        {
         "legendgroup": "pred",
         "marker": {
          "color": "#8c564b",
          "size": 6
         },
         "mode": "markers",
         "name": "Pred Group 168",
         "showlegend": false,
         "type": "scatter",
         "x": {
          "bdata": "ccejwQ==",
          "dtype": "f4"
         },
         "xaxis": "x2",
         "y": {
          "bdata": "BW6lQQ==",
          "dtype": "f4"
         },
         "yaxis": "y2"
        },
        {
         "legendgroup": "pred",
         "marker": {
          "color": "#8c564b",
          "size": 6
         },
         "mode": "markers",
         "name": "Pred Group 169",
         "showlegend": false,
         "type": "scatter",
         "x": {
          "bdata": "GH76QA==",
          "dtype": "f4"
         },
         "xaxis": "x2",
         "y": {
          "bdata": "MQxMQg==",
          "dtype": "f4"
         },
         "yaxis": "y2"
        },
        {
         "legendgroup": "pred",
         "marker": {
          "color": "#8c564b",
          "size": 6
         },
         "mode": "markers",
         "name": "Pred Group 170",
         "showlegend": false,
         "type": "scatter",
         "x": {
          "bdata": "qMUQwQ==",
          "dtype": "f4"
         },
         "xaxis": "x2",
         "y": {
          "bdata": "qNpoQg==",
          "dtype": "f4"
         },
         "yaxis": "y2"
        },
        {
         "legendgroup": "pred",
         "marker": {
          "color": "#8c564b",
          "size": 6
         },
         "mode": "markers",
         "name": "Pred Group 171",
         "showlegend": false,
         "type": "scatter",
         "x": {
          "bdata": "DmECQg==",
          "dtype": "f4"
         },
         "xaxis": "x2",
         "y": {
          "bdata": "DMfwQQ==",
          "dtype": "f4"
         },
         "yaxis": "y2"
        },
        {
         "legendgroup": "pred",
         "marker": {
          "color": "#c49c94",
          "size": 6
         },
         "mode": "markers",
         "name": "Pred Group 172",
         "showlegend": false,
         "type": "scatter",
         "x": {
          "bdata": "yBEVQQ==",
          "dtype": "f4"
         },
         "xaxis": "x2",
         "y": {
          "bdata": "XZ0jQg==",
          "dtype": "f4"
         },
         "yaxis": "y2"
        },
        {
         "legendgroup": "pred",
         "marker": {
          "color": "#c49c94",
          "size": 6
         },
         "mode": "markers",
         "name": "Pred Group 173",
         "showlegend": false,
         "type": "scatter",
         "x": {
          "bdata": "rtZvQQ==",
          "dtype": "f4"
         },
         "xaxis": "x2",
         "y": {
          "bdata": "XpAVQg==",
          "dtype": "f4"
         },
         "yaxis": "y2"
        },
        {
         "legendgroup": "pred",
         "marker": {
          "color": "#c49c94",
          "size": 6
         },
         "mode": "markers",
         "name": "Pred Group 174",
         "showlegend": false,
         "type": "scatter",
         "x": {
          "bdata": "BBZvQQ==",
          "dtype": "f4"
         },
         "xaxis": "x2",
         "y": {
          "bdata": "mb8YQg==",
          "dtype": "f4"
         },
         "yaxis": "y2"
        },
        {
         "legendgroup": "pred",
         "marker": {
          "color": "#c49c94",
          "size": 6
         },
         "mode": "markers",
         "name": "Pred Group 175",
         "showlegend": false,
         "type": "scatter",
         "x": {
          "bdata": "1ZBVQQ==",
          "dtype": "f4"
         },
         "xaxis": "x2",
         "y": {
          "bdata": "piQAQQ==",
          "dtype": "f4"
         },
         "yaxis": "y2"
        },
        {
         "legendgroup": "pred",
         "marker": {
          "color": "#c49c94",
          "size": 6
         },
         "mode": "markers",
         "name": "Pred Group 176",
         "showlegend": false,
         "type": "scatter",
         "x": {
          "bdata": "GA6bPw==",
          "dtype": "f4"
         },
         "xaxis": "x2",
         "y": {
          "bdata": "Zos2Qg==",
          "dtype": "f4"
         },
         "yaxis": "y2"
        },
        {
         "legendgroup": "pred",
         "marker": {
          "color": "#c49c94",
          "size": 6
         },
         "mode": "markers",
         "name": "Pred Group 177",
         "showlegend": false,
         "type": "scatter",
         "x": {
          "bdata": "3SPqwA==",
          "dtype": "f4"
         },
         "xaxis": "x2",
         "y": {
          "bdata": "/W0kQg==",
          "dtype": "f4"
         },
         "yaxis": "y2"
        },
        {
         "legendgroup": "pred",
         "marker": {
          "color": "#c49c94",
          "size": 6
         },
         "mode": "markers",
         "name": "Pred Group 178",
         "showlegend": false,
         "type": "scatter",
         "x": {
          "bdata": "+GWAQQ==",
          "dtype": "f4"
         },
         "xaxis": "x2",
         "y": {
          "bdata": "tE0lQg==",
          "dtype": "f4"
         },
         "yaxis": "y2"
        },
        {
         "legendgroup": "pred",
         "marker": {
          "color": "#c49c94",
          "size": 6
         },
         "mode": "markers",
         "name": "Pred Group 179",
         "showlegend": false,
         "type": "scatter",
         "x": {
          "bdata": "vKcGwQ==",
          "dtype": "f4"
         },
         "xaxis": "x2",
         "y": {
          "bdata": "Mdf2wQ==",
          "dtype": "f4"
         },
         "yaxis": "y2"
        },
        {
         "legendgroup": "pred",
         "marker": {
          "color": "#c49c94",
          "size": 6
         },
         "mode": "markers",
         "name": "Pred Group 180",
         "showlegend": false,
         "type": "scatter",
         "x": {
          "bdata": "X8jiQQ==",
          "dtype": "f4"
         },
         "xaxis": "x2",
         "y": {
          "bdata": "nQQ/wg==",
          "dtype": "f4"
         },
         "yaxis": "y2"
        },
        {
         "legendgroup": "pred",
         "marker": {
          "color": "#c49c94",
          "size": 6
         },
         "mode": "markers",
         "name": "Pred Group 181",
         "showlegend": false,
         "type": "scatter",
         "x": {
          "bdata": "/AUsQg==",
          "dtype": "f4"
         },
         "xaxis": "x2",
         "y": {
          "bdata": "r52HwQ==",
          "dtype": "f4"
         },
         "yaxis": "y2"
        },
        {
         "legendgroup": "pred",
         "marker": {
          "color": "#c49c94",
          "size": 6
         },
         "mode": "markers",
         "name": "Pred Group 182",
         "showlegend": false,
         "type": "scatter",
         "x": {
          "bdata": "Ubw5wg==",
          "dtype": "f4"
         },
         "xaxis": "x2",
         "y": {
          "bdata": "KBytQQ==",
          "dtype": "f4"
         },
         "yaxis": "y2"
        },
        {
         "legendgroup": "pred",
         "marker": {
          "color": "#c49c94",
          "size": 6
         },
         "mode": "markers",
         "name": "Pred Group 183",
         "showlegend": false,
         "type": "scatter",
         "x": {
          "bdata": "Qpgfwg==",
          "dtype": "f4"
         },
         "xaxis": "x2",
         "y": {
          "bdata": "4AVLQQ==",
          "dtype": "f4"
         },
         "yaxis": "y2"
        },
        {
         "legendgroup": "pred",
         "marker": {
          "color": "#c49c94",
          "size": 6
         },
         "mode": "markers",
         "name": "Pred Group 184",
         "showlegend": false,
         "type": "scatter",
         "x": {
          "bdata": "QJOPQQ==",
          "dtype": "f4"
         },
         "xaxis": "x2",
         "y": {
          "bdata": "0Ox6Qg==",
          "dtype": "f4"
         },
         "yaxis": "y2"
        },
        {
         "legendgroup": "pred",
         "marker": {
          "color": "#c49c94",
          "size": 6
         },
         "mode": "markers",
         "name": "Pred Group 185",
         "showlegend": false,
         "type": "scatter",
         "x": {
          "bdata": "7v+nwQ==",
          "dtype": "f4"
         },
         "xaxis": "x2",
         "y": {
          "bdata": "k0PhwQ==",
          "dtype": "f4"
         },
         "yaxis": "y2"
        },
        {
         "legendgroup": "pred",
         "marker": {
          "color": "#c49c94",
          "size": 6
         },
         "mode": "markers",
         "name": "Pred Group 186",
         "showlegend": false,
         "type": "scatter",
         "x": {
          "bdata": "KxGBwQ==",
          "dtype": "f4"
         },
         "xaxis": "x2",
         "y": {
          "bdata": "0IYeQQ==",
          "dtype": "f4"
         },
         "yaxis": "y2"
        },
        {
         "legendgroup": "pred",
         "marker": {
          "color": "#c49c94",
          "size": 6
         },
         "mode": "markers",
         "name": "Pred Group 187",
         "showlegend": false,
         "type": "scatter",
         "x": {
          "bdata": "yejLwA==",
          "dtype": "f4"
         },
         "xaxis": "x2",
         "y": {
          "bdata": "dCIHwg==",
          "dtype": "f4"
         },
         "yaxis": "y2"
        },
        {
         "legendgroup": "pred",
         "marker": {
          "color": "#e377c2",
          "size": 6
         },
         "mode": "markers",
         "name": "Pred Group 188",
         "showlegend": false,
         "type": "scatter",
         "x": {
          "bdata": "YT1+QQ==",
          "dtype": "f4"
         },
         "xaxis": "x2",
         "y": {
          "bdata": "L810Qg==",
          "dtype": "f4"
         },
         "yaxis": "y2"
        },
        {
         "legendgroup": "pred",
         "marker": {
          "color": "#e377c2",
          "size": 6
         },
         "mode": "markers",
         "name": "Pred Group 189",
         "showlegend": false,
         "type": "scatter",
         "x": {
          "bdata": "AzvcQQ==",
          "dtype": "f4"
         },
         "xaxis": "x2",
         "y": {
          "bdata": "Bh/HwQ==",
          "dtype": "f4"
         },
         "yaxis": "y2"
        },
        {
         "legendgroup": "pred",
         "marker": {
          "color": "#e377c2",
          "size": 6
         },
         "mode": "markers",
         "name": "Pred Group 190",
         "showlegend": false,
         "type": "scatter",
         "x": {
          "bdata": "eRmywQ==",
          "dtype": "f4"
         },
         "xaxis": "x2",
         "y": {
          "bdata": "oooqwg==",
          "dtype": "f4"
         },
         "yaxis": "y2"
        },
        {
         "legendgroup": "pred",
         "marker": {
          "color": "#e377c2",
          "size": 6
         },
         "mode": "markers",
         "name": "Pred Group 191",
         "showlegend": false,
         "type": "scatter",
         "x": {
          "bdata": "vHZbQg==",
          "dtype": "f4"
         },
         "xaxis": "x2",
         "y": {
          "bdata": "Yn3MPg==",
          "dtype": "f4"
         },
         "yaxis": "y2"
        },
        {
         "legendgroup": "pred",
         "marker": {
          "color": "#e377c2",
          "size": 6
         },
         "mode": "markers",
         "name": "Pred Group 192",
         "showlegend": false,
         "type": "scatter",
         "x": {
          "bdata": "onHfwQ==",
          "dtype": "f4"
         },
         "xaxis": "x2",
         "y": {
          "bdata": "6cI0wg==",
          "dtype": "f4"
         },
         "yaxis": "y2"
        },
        {
         "legendgroup": "pred",
         "marker": {
          "color": "#e377c2",
          "size": 6
         },
         "mode": "markers",
         "name": "Pred Group 193",
         "showlegend": false,
         "type": "scatter",
         "x": {
          "bdata": "UJErwQ==",
          "dtype": "f4"
         },
         "xaxis": "x2",
         "y": {
          "bdata": "jy7JwA==",
          "dtype": "f4"
         },
         "yaxis": "y2"
        },
        {
         "legendgroup": "pred",
         "marker": {
          "color": "#e377c2",
          "size": 6
         },
         "mode": "markers",
         "name": "Pred Group 194",
         "showlegend": false,
         "type": "scatter",
         "x": {
          "bdata": "15TDwQ==",
          "dtype": "f4"
         },
         "xaxis": "x2",
         "y": {
          "bdata": "I4arQQ==",
          "dtype": "f4"
         },
         "yaxis": "y2"
        },
        {
         "legendgroup": "pred",
         "marker": {
          "color": "#e377c2",
          "size": 6
         },
         "mode": "markers",
         "name": "Pred Group 195",
         "showlegend": false,
         "type": "scatter",
         "x": {
          "bdata": "LXTawQ==",
          "dtype": "f4"
         },
         "xaxis": "x2",
         "y": {
          "bdata": "DRgKQg==",
          "dtype": "f4"
         },
         "yaxis": "y2"
        },
        {
         "legendgroup": "pred",
         "marker": {
          "color": "#e377c2",
          "size": 6
         },
         "mode": "markers",
         "name": "Pred Group 196",
         "showlegend": false,
         "type": "scatter",
         "x": {
          "bdata": "9KuuwQ==",
          "dtype": "f4"
         },
         "xaxis": "x2",
         "y": {
          "bdata": "vyGbQQ==",
          "dtype": "f4"
         },
         "yaxis": "y2"
        },
        {
         "legendgroup": "pred",
         "marker": {
          "color": "#e377c2",
          "size": 6
         },
         "mode": "markers",
         "name": "Pred Group 197",
         "showlegend": false,
         "type": "scatter",
         "x": {
          "bdata": "LBI9Qg==",
          "dtype": "f4"
         },
         "xaxis": "x2",
         "y": {
          "bdata": "w7LPwQ==",
          "dtype": "f4"
         },
         "yaxis": "y2"
        },
        {
         "legendgroup": "pred",
         "marker": {
          "color": "#e377c2",
          "size": 6
         },
         "mode": "markers",
         "name": "Pred Group 198",
         "showlegend": false,
         "type": "scatter",
         "x": {
          "bdata": "VqVcQg==",
          "dtype": "f4"
         },
         "xaxis": "x2",
         "y": {
          "bdata": "snSQPw==",
          "dtype": "f4"
         },
         "yaxis": "y2"
        },
        {
         "legendgroup": "pred",
         "marker": {
          "color": "#e377c2",
          "size": 6
         },
         "mode": "markers",
         "name": "Pred Group 199",
         "showlegend": false,
         "type": "scatter",
         "x": {
          "bdata": "QHjqwQ==",
          "dtype": "f4"
         },
         "xaxis": "x2",
         "y": {
          "bdata": "truNQA==",
          "dtype": "f4"
         },
         "yaxis": "y2"
        },
        {
         "legendgroup": "pred",
         "marker": {
          "color": "#e377c2",
          "size": 6
         },
         "mode": "markers",
         "name": "Pred Group 200",
         "showlegend": false,
         "type": "scatter",
         "x": {
          "bdata": "Q+KfQQ==",
          "dtype": "f4"
         },
         "xaxis": "x2",
         "y": {
          "bdata": "P/6CQg==",
          "dtype": "f4"
         },
         "yaxis": "y2"
        },
        {
         "legendgroup": "pred",
         "marker": {
          "color": "#e377c2",
          "size": 6
         },
         "mode": "markers",
         "name": "Pred Group 201",
         "showlegend": false,
         "type": "scatter",
         "x": {
          "bdata": "+elRPw==",
          "dtype": "f4"
         },
         "xaxis": "x2",
         "y": {
          "bdata": "kd94QQ==",
          "dtype": "f4"
         },
         "yaxis": "y2"
        },
        {
         "legendgroup": "pred",
         "marker": {
          "color": "#e377c2",
          "size": 6
         },
         "mode": "markers",
         "name": "Pred Group 202",
         "showlegend": false,
         "type": "scatter",
         "x": {
          "bdata": "oZvSwA==",
          "dtype": "f4"
         },
         "xaxis": "x2",
         "y": {
          "bdata": "0pITwg==",
          "dtype": "f4"
         },
         "yaxis": "y2"
        },
        {
         "legendgroup": "pred",
         "marker": {
          "color": "#f7b6d2",
          "size": 6
         },
         "mode": "markers",
         "name": "Pred Group 203",
         "showlegend": false,
         "type": "scatter",
         "x": {
          "bdata": "SrYJwg==",
          "dtype": "f4"
         },
         "xaxis": "x2",
         "y": {
          "bdata": "ya8XQQ==",
          "dtype": "f4"
         },
         "yaxis": "y2"
        },
        {
         "legendgroup": "pred",
         "marker": {
          "color": "#f7b6d2",
          "size": 6
         },
         "mode": "markers",
         "name": "Pred Group 204",
         "showlegend": false,
         "type": "scatter",
         "x": {
          "bdata": "1A/XwQ==",
          "dtype": "f4"
         },
         "xaxis": "x2",
         "y": {
          "bdata": "JvezPg==",
          "dtype": "f4"
         },
         "yaxis": "y2"
        },
        {
         "legendgroup": "pred",
         "marker": {
          "color": "#f7b6d2",
          "size": 6
         },
         "mode": "markers",
         "name": "Pred Group 205",
         "showlegend": false,
         "type": "scatter",
         "x": {
          "bdata": "VtffwQ==",
          "dtype": "f4"
         },
         "xaxis": "x2",
         "y": {
          "bdata": "HXaVwA==",
          "dtype": "f4"
         },
         "yaxis": "y2"
        },
        {
         "legendgroup": "pred",
         "marker": {
          "color": "#f7b6d2",
          "size": 6
         },
         "mode": "markers",
         "name": "Pred Group 206",
         "showlegend": false,
         "type": "scatter",
         "x": {
          "bdata": "INdiwQ==",
          "dtype": "f4"
         },
         "xaxis": "x2",
         "y": {
          "bdata": "DUnbQQ==",
          "dtype": "f4"
         },
         "yaxis": "y2"
        },
        {
         "legendgroup": "pred",
         "marker": {
          "color": "#f7b6d2",
          "size": 6
         },
         "mode": "markers",
         "name": "Pred Group 207",
         "showlegend": false,
         "type": "scatter",
         "x": {
          "bdata": "Jl/dwQ==",
          "dtype": "f4"
         },
         "xaxis": "x2",
         "y": {
          "bdata": "3rd6wA==",
          "dtype": "f4"
         },
         "yaxis": "y2"
        },
        {
         "legendgroup": "pred",
         "marker": {
          "color": "#f7b6d2",
          "size": 6
         },
         "mode": "markers",
         "name": "Pred Group 208",
         "showlegend": false,
         "type": "scatter",
         "x": {
          "bdata": "c3ZZwQ==",
          "dtype": "f4"
         },
         "xaxis": "x2",
         "y": {
          "bdata": "dybcQQ==",
          "dtype": "f4"
         },
         "yaxis": "y2"
        },
        {
         "legendgroup": "pred",
         "marker": {
          "color": "#f7b6d2",
          "size": 6
         },
         "mode": "markers",
         "name": "Pred Group 209",
         "showlegend": false,
         "type": "scatter",
         "x": {
          "bdata": "Rq72QQ==",
          "dtype": "f4"
         },
         "xaxis": "x2",
         "y": {
          "bdata": "ZIoDQg==",
          "dtype": "f4"
         },
         "yaxis": "y2"
        },
        {
         "legendgroup": "pred",
         "marker": {
          "color": "#f7b6d2",
          "size": 6
         },
         "mode": "markers",
         "name": "Pred Group 210",
         "showlegend": false,
         "type": "scatter",
         "x": {
          "bdata": "SmS9QQ==",
          "dtype": "f4"
         },
         "xaxis": "x2",
         "y": {
          "bdata": "gcoOwA==",
          "dtype": "f4"
         },
         "yaxis": "y2"
        },
        {
         "legendgroup": "pred",
         "marker": {
          "color": "#f7b6d2",
          "size": 6
         },
         "mode": "markers",
         "name": "Pred Group 211",
         "showlegend": false,
         "type": "scatter",
         "x": {
          "bdata": "EIudwg==",
          "dtype": "f4"
         },
         "xaxis": "x2",
         "y": {
          "bdata": "Hl5dQQ==",
          "dtype": "f4"
         },
         "yaxis": "y2"
        },
        {
         "legendgroup": "pred",
         "marker": {
          "color": "#f7b6d2",
          "size": 6
         },
         "mode": "markers",
         "name": "Pred Group 212",
         "showlegend": false,
         "type": "scatter",
         "x": {
          "bdata": "jzSUQQ==",
          "dtype": "f4"
         },
         "xaxis": "x2",
         "y": {
          "bdata": "blieQQ==",
          "dtype": "f4"
         },
         "yaxis": "y2"
        },
        {
         "legendgroup": "pred",
         "marker": {
          "color": "#f7b6d2",
          "size": 6
         },
         "mode": "markers",
         "name": "Pred Group 213",
         "showlegend": false,
         "type": "scatter",
         "x": {
          "bdata": "/ZFqQQ==",
          "dtype": "f4"
         },
         "xaxis": "x2",
         "y": {
          "bdata": "sy+mQQ==",
          "dtype": "f4"
         },
         "yaxis": "y2"
        },
        {
         "legendgroup": "pred",
         "marker": {
          "color": "#f7b6d2",
          "size": 6
         },
         "mode": "markers",
         "name": "Pred Group 214",
         "showlegend": false,
         "type": "scatter",
         "x": {
          "bdata": "4aeZQQ==",
          "dtype": "f4"
         },
         "xaxis": "x2",
         "y": {
          "bdata": "QkeaQQ==",
          "dtype": "f4"
         },
         "yaxis": "y2"
        },
        {
         "legendgroup": "pred",
         "marker": {
          "color": "#f7b6d2",
          "size": 6
         },
         "mode": "markers",
         "name": "Pred Group 215",
         "showlegend": false,
         "type": "scatter",
         "x": {
          "bdata": "K053QQ==",
          "dtype": "f4"
         },
         "xaxis": "x2",
         "y": {
          "bdata": "E/OuQQ==",
          "dtype": "f4"
         },
         "yaxis": "y2"
        },
        {
         "legendgroup": "pred",
         "marker": {
          "color": "#f7b6d2",
          "size": 6
         },
         "mode": "markers",
         "name": "Pred Group 216",
         "showlegend": false,
         "type": "scatter",
         "x": {
          "bdata": "nuZZQQ==",
          "dtype": "f4"
         },
         "xaxis": "x2",
         "y": {
          "bdata": "rpy9QQ==",
          "dtype": "f4"
         },
         "yaxis": "y2"
        },
        {
         "legendgroup": "pred",
         "marker": {
          "color": "#f7b6d2",
          "size": 6
         },
         "mode": "markers",
         "name": "Pred Group 217",
         "showlegend": false,
         "type": "scatter",
         "x": {
          "bdata": "/C9GQQ==",
          "dtype": "f4"
         },
         "xaxis": "x2",
         "y": {
          "bdata": "5E/TQQ==",
          "dtype": "f4"
         },
         "yaxis": "y2"
        },
        {
         "legendgroup": "pred",
         "marker": {
          "color": "#f7b6d2",
          "size": 6
         },
         "mode": "markers",
         "name": "Pred Group 218",
         "showlegend": false,
         "type": "scatter",
         "x": {
          "bdata": "hZA6QQ==",
          "dtype": "f4"
         },
         "xaxis": "x2",
         "y": {
          "bdata": "bJxuQg==",
          "dtype": "f4"
         },
         "yaxis": "y2"
        },
        {
         "legendgroup": "pred",
         "marker": {
          "color": "#7f7f7f",
          "size": 6
         },
         "mode": "markers",
         "name": "Pred Group 219",
         "showlegend": false,
         "type": "scatter",
         "x": {
          "bdata": "s9heQQ==",
          "dtype": "f4"
         },
         "xaxis": "x2",
         "y": {
          "bdata": "q+7pQQ==",
          "dtype": "f4"
         },
         "yaxis": "y2"
        },
        {
         "legendgroup": "pred",
         "marker": {
          "color": "#7f7f7f",
          "size": 6
         },
         "mode": "markers",
         "name": "Pred Group 220",
         "showlegend": false,
         "type": "scatter",
         "x": {
          "bdata": "SdCSwg==",
          "dtype": "f4"
         },
         "xaxis": "x2",
         "y": {
          "bdata": "mq+WQA==",
          "dtype": "f4"
         },
         "yaxis": "y2"
        },
        {
         "legendgroup": "pred",
         "marker": {
          "color": "#7f7f7f",
          "size": 6
         },
         "mode": "markers",
         "name": "Pred Group 221",
         "showlegend": false,
         "type": "scatter",
         "x": {
          "bdata": "KFNYQg==",
          "dtype": "f4"
         },
         "xaxis": "x2",
         "y": {
          "bdata": "IgSKQQ==",
          "dtype": "f4"
         },
         "yaxis": "y2"
        },
        {
         "legendgroup": "pred",
         "marker": {
          "color": "#7f7f7f",
          "size": 6
         },
         "mode": "markers",
         "name": "Pred Group 222",
         "showlegend": false,
         "type": "scatter",
         "x": {
          "bdata": "sMAtQg==",
          "dtype": "f4"
         },
         "xaxis": "x2",
         "y": {
          "bdata": "8gZXwQ==",
          "dtype": "f4"
         },
         "yaxis": "y2"
        },
        {
         "legendgroup": "pred",
         "marker": {
          "color": "#7f7f7f",
          "size": 6
         },
         "mode": "markers",
         "name": "Pred Group 223",
         "showlegend": false,
         "type": "scatter",
         "x": {
          "bdata": "+sUsQg==",
          "dtype": "f4"
         },
         "xaxis": "x2",
         "y": {
          "bdata": "1ntvwQ==",
          "dtype": "f4"
         },
         "yaxis": "y2"
        },
        {
         "legendgroup": "pred",
         "marker": {
          "color": "#7f7f7f",
          "size": 6
         },
         "mode": "markers",
         "name": "Pred Group 224",
         "showlegend": false,
         "type": "scatter",
         "x": {
          "bdata": "e/Yswg==",
          "dtype": "f4"
         },
         "xaxis": "x2",
         "y": {
          "bdata": "D1GyQQ==",
          "dtype": "f4"
         },
         "yaxis": "y2"
        },
        {
         "legendgroup": "pred",
         "marker": {
          "color": "#7f7f7f",
          "size": 6
         },
         "mode": "markers",
         "name": "Pred Group 225",
         "showlegend": false,
         "type": "scatter",
         "x": {
          "bdata": "G45cwA==",
          "dtype": "f4"
         },
         "xaxis": "x2",
         "y": {
          "bdata": "4tg6Qg==",
          "dtype": "f4"
         },
         "yaxis": "y2"
        },
        {
         "legendgroup": "pred",
         "marker": {
          "color": "#7f7f7f",
          "size": 6
         },
         "mode": "markers",
         "name": "Pred Group 226",
         "showlegend": false,
         "type": "scatter",
         "x": {
          "bdata": "bbCAQA==",
          "dtype": "f4"
         },
         "xaxis": "x2",
         "y": {
          "bdata": "F9Qywg==",
          "dtype": "f4"
         },
         "yaxis": "y2"
        },
        {
         "legendgroup": "pred",
         "marker": {
          "color": "#7f7f7f",
          "size": 6
         },
         "mode": "markers",
         "name": "Pred Group 227",
         "showlegend": false,
         "type": "scatter",
         "x": {
          "bdata": "XqXqQA==",
          "dtype": "f4"
         },
         "xaxis": "x2",
         "y": {
          "bdata": "42Ikwg==",
          "dtype": "f4"
         },
         "yaxis": "y2"
        },
        {
         "legendgroup": "pred",
         "marker": {
          "color": "#7f7f7f",
          "size": 6
         },
         "mode": "markers",
         "name": "Pred Group 228",
         "showlegend": false,
         "type": "scatter",
         "x": {
          "bdata": "6vcZwg==",
          "dtype": "f4"
         },
         "xaxis": "x2",
         "y": {
          "bdata": "W0FWQQ==",
          "dtype": "f4"
         },
         "yaxis": "y2"
        },
        {
         "legendgroup": "pred",
         "marker": {
          "color": "#7f7f7f",
          "size": 6
         },
         "mode": "markers",
         "name": "Pred Group 229",
         "showlegend": false,
         "type": "scatter",
         "x": {
          "bdata": "FN2+wQ==",
          "dtype": "f4"
         },
         "xaxis": "x2",
         "y": {
          "bdata": "DWZXwg==",
          "dtype": "f4"
         },
         "yaxis": "y2"
        },
        {
         "legendgroup": "pred",
         "marker": {
          "color": "#7f7f7f",
          "size": 6
         },
         "mode": "markers",
         "name": "Pred Group 230",
         "showlegend": false,
         "type": "scatter",
         "x": {
          "bdata": "NBwpwg==",
          "dtype": "f4"
         },
         "xaxis": "x2",
         "y": {
          "bdata": "ucViwQ==",
          "dtype": "f4"
         },
         "yaxis": "y2"
        },
        {
         "legendgroup": "pred",
         "marker": {
          "color": "#7f7f7f",
          "size": 6
         },
         "mode": "markers",
         "name": "Pred Group 231",
         "showlegend": false,
         "type": "scatter",
         "x": {
          "bdata": "Xv2OwQ==",
          "dtype": "f4"
         },
         "xaxis": "x2",
         "y": {
          "bdata": "v/48wg==",
          "dtype": "f4"
         },
         "yaxis": "y2"
        },
        {
         "legendgroup": "pred",
         "marker": {
          "color": "#7f7f7f",
          "size": 6
         },
         "mode": "markers",
         "name": "Pred Group 232",
         "showlegend": false,
         "type": "scatter",
         "x": {
          "bdata": "eLOawQ==",
          "dtype": "f4"
         },
         "xaxis": "x2",
         "y": {
          "bdata": "9RVcwg==",
          "dtype": "f4"
         },
         "yaxis": "y2"
        },
        {
         "legendgroup": "pred",
         "marker": {
          "color": "#7f7f7f",
          "size": 6
         },
         "mode": "markers",
         "name": "Pred Group 233",
         "showlegend": false,
         "type": "scatter",
         "x": {
          "bdata": "a3BywQ==",
          "dtype": "f4"
         },
         "xaxis": "x2",
         "y": {
          "bdata": "B5tiQQ==",
          "dtype": "f4"
         },
         "yaxis": "y2"
        },
        {
         "legendgroup": "pred",
         "marker": {
          "color": "#c7c7c7",
          "size": 6
         },
         "mode": "markers",
         "name": "Pred Group 234",
         "showlegend": false,
         "type": "scatter",
         "x": {
          "bdata": "naaJQQ==",
          "dtype": "f4"
         },
         "xaxis": "x2",
         "y": {
          "bdata": "NgwGQg==",
          "dtype": "f4"
         },
         "yaxis": "y2"
        },
        {
         "legendgroup": "pred",
         "marker": {
          "color": "#c7c7c7",
          "size": 6
         },
         "mode": "markers",
         "name": "Pred Group 235",
         "showlegend": false,
         "type": "scatter",
         "x": {
          "bdata": "PEwyQQ==",
          "dtype": "f4"
         },
         "xaxis": "x2",
         "y": {
          "bdata": "OM0cwg==",
          "dtype": "f4"
         },
         "yaxis": "y2"
        },
        {
         "legendgroup": "pred",
         "marker": {
          "color": "#c7c7c7",
          "size": 6
         },
         "mode": "markers",
         "name": "Pred Group 236",
         "showlegend": false,
         "type": "scatter",
         "x": {
          "bdata": "DBk7Qg==",
          "dtype": "f4"
         },
         "xaxis": "x2",
         "y": {
          "bdata": "DyzvwQ==",
          "dtype": "f4"
         },
         "yaxis": "y2"
        },
        {
         "legendgroup": "pred",
         "marker": {
          "color": "#c7c7c7",
          "size": 6
         },
         "mode": "markers",
         "name": "Pred Group 237",
         "showlegend": false,
         "type": "scatter",
         "x": {
          "bdata": "pOakQA==",
          "dtype": "f4"
         },
         "xaxis": "x2",
         "y": {
          "bdata": "4OIxwg==",
          "dtype": "f4"
         },
         "yaxis": "y2"
        },
        {
         "legendgroup": "pred",
         "marker": {
          "color": "#c7c7c7",
          "size": 6
         },
         "mode": "markers",
         "name": "Pred Group 238",
         "showlegend": false,
         "type": "scatter",
         "x": {
          "bdata": "AMCfwQ==",
          "dtype": "f4"
         },
         "xaxis": "x2",
         "y": {
          "bdata": "fklcwg==",
          "dtype": "f4"
         },
         "yaxis": "y2"
        },
        {
         "legendgroup": "pred",
         "marker": {
          "color": "#c7c7c7",
          "size": 6
         },
         "mode": "markers",
         "name": "Pred Group 239",
         "showlegend": false,
         "type": "scatter",
         "x": {
          "bdata": "u8wIwg==",
          "dtype": "f4"
         },
         "xaxis": "x2",
         "y": {
          "bdata": "tOVuQQ==",
          "dtype": "f4"
         },
         "yaxis": "y2"
        },
        {
         "legendgroup": "pred",
         "marker": {
          "color": "#c7c7c7",
          "size": 6
         },
         "mode": "markers",
         "name": "Pred Group 240",
         "showlegend": false,
         "type": "scatter",
         "x": {
          "bdata": "GHNdwQ==",
          "dtype": "f4"
         },
         "xaxis": "x2",
         "y": {
          "bdata": "PFNsQg==",
          "dtype": "f4"
         },
         "yaxis": "y2"
        },
        {
         "legendgroup": "pred",
         "marker": {
          "color": "#c7c7c7",
          "size": 6
         },
         "mode": "markers",
         "name": "Pred Group 241",
         "showlegend": false,
         "type": "scatter",
         "x": {
          "bdata": "UM68wQ==",
          "dtype": "f4"
         },
         "xaxis": "x2",
         "y": {
          "bdata": "S/c9wg==",
          "dtype": "f4"
         },
         "yaxis": "y2"
        },
        {
         "legendgroup": "pred",
         "marker": {
          "color": "#c7c7c7",
          "size": 6
         },
         "mode": "markers",
         "name": "Pred Group 242",
         "showlegend": false,
         "type": "scatter",
         "x": {
          "bdata": "wBLzwA==",
          "dtype": "f4"
         },
         "xaxis": "x2",
         "y": {
          "bdata": "pldGwg==",
          "dtype": "f4"
         },
         "yaxis": "y2"
        },
        {
         "legendgroup": "pred",
         "marker": {
          "color": "#c7c7c7",
          "size": 6
         },
         "mode": "markers",
         "name": "Pred Group 243",
         "showlegend": false,
         "type": "scatter",
         "x": {
          "bdata": "5VD/wQ==",
          "dtype": "f4"
         },
         "xaxis": "x2",
         "y": {
          "bdata": "FJBhwg==",
          "dtype": "f4"
         },
         "yaxis": "y2"
        },
        {
         "legendgroup": "pred",
         "marker": {
          "color": "#c7c7c7",
          "size": 6
         },
         "mode": "markers",
         "name": "Pred Group 244",
         "showlegend": false,
         "type": "scatter",
         "x": {
          "bdata": "ndZWQQ==",
          "dtype": "f4"
         },
         "xaxis": "x2",
         "y": {
          "bdata": "BrydQA==",
          "dtype": "f4"
         },
         "yaxis": "y2"
        },
        {
         "legendgroup": "pred",
         "marker": {
          "color": "#c7c7c7",
          "size": 6
         },
         "mode": "markers",
         "name": "Pred Group 245",
         "showlegend": false,
         "type": "scatter",
         "x": {
          "bdata": "xogdQQ==",
          "dtype": "f4"
         },
         "xaxis": "x2",
         "y": {
          "bdata": "QMgvwg==",
          "dtype": "f4"
         },
         "yaxis": "y2"
        },
        {
         "legendgroup": "pred",
         "marker": {
          "color": "#c7c7c7",
          "size": 6
         },
         "mode": "markers",
         "name": "Pred Group 246",
         "showlegend": false,
         "type": "scatter",
         "x": {
          "bdata": "XB8hwg==",
          "dtype": "f4"
         },
         "xaxis": "x2",
         "y": {
          "bdata": "vMiBwQ==",
          "dtype": "f4"
         },
         "yaxis": "y2"
        },
        {
         "legendgroup": "pred",
         "marker": {
          "color": "#c7c7c7",
          "size": 6
         },
         "mode": "markers",
         "name": "Pred Group 247",
         "showlegend": false,
         "type": "scatter",
         "x": {
          "bdata": "gTkkwg==",
          "dtype": "f4"
         },
         "xaxis": "x2",
         "y": {
          "bdata": "XQx4wQ==",
          "dtype": "f4"
         },
         "yaxis": "y2"
        },
        {
         "legendgroup": "pred",
         "marker": {
          "color": "#c7c7c7",
          "size": 6
         },
         "mode": "markers",
         "name": "Pred Group 248",
         "showlegend": false,
         "type": "scatter",
         "x": {
          "bdata": "Mwg9wg==",
          "dtype": "f4"
         },
         "xaxis": "x2",
         "y": {
          "bdata": "xkWfwA==",
          "dtype": "f4"
         },
         "yaxis": "y2"
        },
        {
         "legendgroup": "pred",
         "marker": {
          "color": "#c7c7c7",
          "size": 6
         },
         "mode": "markers",
         "name": "Pred Group 249",
         "showlegend": false,
         "type": "scatter",
         "x": {
          "bdata": "s8zIwA==",
          "dtype": "f4"
         },
         "xaxis": "x2",
         "y": {
          "bdata": "SFwovw==",
          "dtype": "f4"
         },
         "yaxis": "y2"
        },
        {
         "legendgroup": "pred",
         "marker": {
          "color": "#bcbd22",
          "size": 6
         },
         "mode": "markers",
         "name": "Pred Group 250",
         "showlegend": false,
         "type": "scatter",
         "x": {
          "bdata": "WOOcQQ==",
          "dtype": "f4"
         },
         "xaxis": "x2",
         "y": {
          "bdata": "XjoGQg==",
          "dtype": "f4"
         },
         "yaxis": "y2"
        },
        {
         "legendgroup": "pred",
         "marker": {
          "color": "#bcbd22",
          "size": 6
         },
         "mode": "markers",
         "name": "Pred Group 251",
         "showlegend": false,
         "type": "scatter",
         "x": {
          "bdata": "MzR4wA==",
          "dtype": "f4"
         },
         "xaxis": "x2",
         "y": {
          "bdata": "6r3/wQ==",
          "dtype": "f4"
         },
         "yaxis": "y2"
        },
        {
         "legendgroup": "pred",
         "marker": {
          "color": "#bcbd22",
          "size": 6
         },
         "mode": "markers",
         "name": "Pred Group 252",
         "showlegend": false,
         "type": "scatter",
         "x": {
          "bdata": "awEPwQ==",
          "dtype": "f4"
         },
         "xaxis": "x2",
         "y": {
          "bdata": "xmsZQg==",
          "dtype": "f4"
         },
         "yaxis": "y2"
        },
        {
         "legendgroup": "pred",
         "marker": {
          "color": "#bcbd22",
          "size": 6
         },
         "mode": "markers",
         "name": "Pred Group 253",
         "showlegend": false,
         "type": "scatter",
         "x": {
          "bdata": "eXoPQg==",
          "dtype": "f4"
         },
         "xaxis": "x2",
         "y": {
          "bdata": "CO6CwQ==",
          "dtype": "f4"
         },
         "yaxis": "y2"
        },
        {
         "legendgroup": "pred",
         "marker": {
          "color": "#bcbd22",
          "size": 6
         },
         "mode": "markers",
         "name": "Pred Group 254",
         "showlegend": false,
         "type": "scatter",
         "x": {
          "bdata": "uqYCQg==",
          "dtype": "f4"
         },
         "xaxis": "x2",
         "y": {
          "bdata": "cbQ6Qg==",
          "dtype": "f4"
         },
         "yaxis": "y2"
        },
        {
         "legendgroup": "pred",
         "marker": {
          "color": "#bcbd22",
          "size": 6
         },
         "mode": "markers",
         "name": "Pred Group 255",
         "showlegend": false,
         "type": "scatter",
         "x": {
          "bdata": "8laKQQ==",
          "dtype": "f4"
         },
         "xaxis": "x2",
         "y": {
          "bdata": "wehKwg==",
          "dtype": "f4"
         },
         "yaxis": "y2"
        },
        {
         "legendgroup": "pred",
         "marker": {
          "color": "#bcbd22",
          "size": 6
         },
         "mode": "markers",
         "name": "Pred Group 256",
         "showlegend": false,
         "type": "scatter",
         "x": {
          "bdata": "lFCVQQ==",
          "dtype": "f4"
         },
         "xaxis": "x2",
         "y": {
          "bdata": "Z7hIwg==",
          "dtype": "f4"
         },
         "yaxis": "y2"
        },
        {
         "legendgroup": "pred",
         "marker": {
          "color": "#bcbd22",
          "size": 6
         },
         "mode": "markers",
         "name": "Pred Group 257",
         "showlegend": false,
         "type": "scatter",
         "x": {
          "bdata": "3pKQQQ==",
          "dtype": "f4"
         },
         "xaxis": "x2",
         "y": {
          "bdata": "QFujvg==",
          "dtype": "f4"
         },
         "yaxis": "y2"
        },
        {
         "legendgroup": "pred",
         "marker": {
          "color": "#bcbd22",
          "size": 6
         },
         "mode": "markers",
         "name": "Pred Group 258",
         "showlegend": false,
         "type": "scatter",
         "x": {
          "bdata": "cqE8Qg==",
          "dtype": "f4"
         },
         "xaxis": "x2",
         "y": {
          "bdata": "CoC5wA==",
          "dtype": "f4"
         },
         "yaxis": "y2"
        },
        {
         "legendgroup": "pred",
         "marker": {
          "color": "#bcbd22",
          "size": 6
         },
         "mode": "markers",
         "name": "Pred Group 259",
         "showlegend": false,
         "type": "scatter",
         "x": {
          "bdata": "v8RTQg==",
          "dtype": "f4"
         },
         "xaxis": "x2",
         "y": {
          "bdata": "pD10wQ==",
          "dtype": "f4"
         },
         "yaxis": "y2"
        },
        {
         "legendgroup": "pred",
         "marker": {
          "color": "#bcbd22",
          "size": 6
         },
         "mode": "markers",
         "name": "Pred Group 260",
         "showlegend": false,
         "type": "scatter",
         "x": {
          "bdata": "Mo8tQg==",
          "dtype": "f4"
         },
         "xaxis": "x2",
         "y": {
          "bdata": "vuMBQg==",
          "dtype": "f4"
         },
         "yaxis": "y2"
        },
        {
         "legendgroup": "pred",
         "marker": {
          "color": "#bcbd22",
          "size": 6
         },
         "mode": "markers",
         "name": "Pred Group 261",
         "showlegend": false,
         "type": "scatter",
         "x": {
          "bdata": "baHfQQ==",
          "dtype": "f4"
         },
         "xaxis": "x2",
         "y": {
          "bdata": "wWU2wg==",
          "dtype": "f4"
         },
         "yaxis": "y2"
        },
        {
         "legendgroup": "pred",
         "marker": {
          "color": "#bcbd22",
          "size": 6
         },
         "mode": "markers",
         "name": "Pred Group 262",
         "showlegend": false,
         "type": "scatter",
         "x": {
          "bdata": "+is/QQ==",
          "dtype": "f4"
         },
         "xaxis": "x2",
         "y": {
          "bdata": "HIe2wQ==",
          "dtype": "f4"
         },
         "yaxis": "y2"
        },
        {
         "legendgroup": "pred",
         "marker": {
          "color": "#bcbd22",
          "size": 6
         },
         "mode": "markers",
         "name": "Pred Group 263",
         "showlegend": false,
         "type": "scatter",
         "x": {
          "bdata": "gbf9QQ==",
          "dtype": "f4"
         },
         "xaxis": "x2",
         "y": {
          "bdata": "2WIyvQ==",
          "dtype": "f4"
         },
         "yaxis": "y2"
        },
        {
         "legendgroup": "pred",
         "marker": {
          "color": "#bcbd22",
          "size": 6
         },
         "mode": "markers",
         "name": "Pred Group 264",
         "showlegend": false,
         "type": "scatter",
         "x": {
          "bdata": "xAAFQg==",
          "dtype": "f4"
         },
         "xaxis": "x2",
         "y": {
          "bdata": "GPsOQg==",
          "dtype": "f4"
         },
         "yaxis": "y2"
        },
        {
         "legendgroup": "pred",
         "marker": {
          "color": "#bcbd22",
          "size": 6
         },
         "mode": "markers",
         "name": "Pred Group 265",
         "showlegend": false,
         "type": "scatter",
         "x": {
          "bdata": "UQkNQg==",
          "dtype": "f4"
         },
         "xaxis": "x2",
         "y": {
          "bdata": "JCr5QQ==",
          "dtype": "f4"
         },
         "yaxis": "y2"
        },
        {
         "legendgroup": "pred",
         "marker": {
          "color": "#dbdb8d",
          "size": 6
         },
         "mode": "markers",
         "name": "Pred Group 266",
         "showlegend": false,
         "type": "scatter",
         "x": {
          "bdata": "YOjWQQ==",
          "dtype": "f4"
         },
         "xaxis": "x2",
         "y": {
          "bdata": "srfRwQ==",
          "dtype": "f4"
         },
         "yaxis": "y2"
        },
        {
         "legendgroup": "pred",
         "marker": {
          "color": "#dbdb8d",
          "size": 6
         },
         "mode": "markers",
         "name": "Pred Group 267",
         "showlegend": false,
         "type": "scatter",
         "x": {
          "bdata": "UdnpwQ==",
          "dtype": "f4"
         },
         "xaxis": "x2",
         "y": {
          "bdata": "eSvqQA==",
          "dtype": "f4"
         },
         "yaxis": "y2"
        },
        {
         "legendgroup": "pred",
         "marker": {
          "color": "#dbdb8d",
          "size": 6
         },
         "mode": "markers",
         "name": "Pred Group 268",
         "showlegend": false,
         "type": "scatter",
         "x": {
          "bdata": "cR8YQg==",
          "dtype": "f4"
         },
         "xaxis": "x2",
         "y": {
          "bdata": "voUWQg==",
          "dtype": "f4"
         },
         "yaxis": "y2"
        },
        {
         "legendgroup": "pred",
         "marker": {
          "color": "#dbdb8d",
          "size": 6
         },
         "mode": "markers",
         "name": "Pred Group 269",
         "showlegend": false,
         "type": "scatter",
         "x": {
          "bdata": "aLhWQg==",
          "dtype": "f4"
         },
         "xaxis": "x2",
         "y": {
          "bdata": "h/+CwQ==",
          "dtype": "f4"
         },
         "yaxis": "y2"
        },
        {
         "legendgroup": "pred",
         "marker": {
          "color": "#dbdb8d",
          "size": 6
         },
         "mode": "markers",
         "name": "Pred Group 270",
         "showlegend": false,
         "type": "scatter",
         "x": {
          "bdata": "jBBEQg==",
          "dtype": "f4"
         },
         "xaxis": "x2",
         "y": {
          "bdata": "7HzKwA==",
          "dtype": "f4"
         },
         "yaxis": "y2"
        },
        {
         "legendgroup": "pred",
         "marker": {
          "color": "#dbdb8d",
          "size": 6
         },
         "mode": "markers",
         "name": "Pred Group 271",
         "showlegend": false,
         "type": "scatter",
         "x": {
          "bdata": "llgPQg==",
          "dtype": "f4"
         },
         "xaxis": "x2",
         "y": {
          "bdata": "OxWuwQ==",
          "dtype": "f4"
         },
         "yaxis": "y2"
        },
        {
         "legendgroup": "pred",
         "marker": {
          "color": "#dbdb8d",
          "size": 6
         },
         "mode": "markers",
         "name": "Pred Group 272",
         "showlegend": false,
         "type": "scatter",
         "x": {
          "bdata": "qkdeQg==",
          "dtype": "f4"
         },
         "xaxis": "x2",
         "y": {
          "bdata": "6WckQA==",
          "dtype": "f4"
         },
         "yaxis": "y2"
        },
        {
         "legendgroup": "pred",
         "marker": {
          "color": "#dbdb8d",
          "size": 6
         },
         "mode": "markers",
         "name": "Pred Group 273",
         "showlegend": false,
         "type": "scatter",
         "x": {
          "bdata": "lXm8QA==",
          "dtype": "f4"
         },
         "xaxis": "x2",
         "y": {
          "bdata": "cSH7QQ==",
          "dtype": "f4"
         },
         "yaxis": "y2"
        },
        {
         "legendgroup": "pred",
         "marker": {
          "color": "#dbdb8d",
          "size": 6
         },
         "mode": "markers",
         "name": "Pred Group 274",
         "showlegend": false,
         "type": "scatter",
         "x": {
          "bdata": "gSdbQg==",
          "dtype": "f4"
         },
         "xaxis": "x2",
         "y": {
          "bdata": "D0Q0wQ==",
          "dtype": "f4"
         },
         "yaxis": "y2"
        },
        {
         "legendgroup": "pred",
         "marker": {
          "color": "#dbdb8d",
          "size": 6
         },
         "mode": "markers",
         "name": "Pred Group 275",
         "showlegend": false,
         "type": "scatter",
         "x": {
          "bdata": "6a1VwQ==",
          "dtype": "f4"
         },
         "xaxis": "x2",
         "y": {
          "bdata": "embTwQ==",
          "dtype": "f4"
         },
         "yaxis": "y2"
        },
        {
         "legendgroup": "pred",
         "marker": {
          "color": "#dbdb8d",
          "size": 6
         },
         "mode": "markers",
         "name": "Pred Group 276",
         "showlegend": false,
         "type": "scatter",
         "x": {
          "bdata": "pVdCQA==",
          "dtype": "f4"
         },
         "xaxis": "x2",
         "y": {
          "bdata": "NIPoQQ==",
          "dtype": "f4"
         },
         "yaxis": "y2"
        },
        {
         "legendgroup": "pred",
         "marker": {
          "color": "#dbdb8d",
          "size": 6
         },
         "mode": "markers",
         "name": "Pred Group 277",
         "showlegend": false,
         "type": "scatter",
         "x": {
          "bdata": "O/BNwg==",
          "dtype": "f4"
         },
         "xaxis": "x2",
         "y": {
          "bdata": "L/qwQA==",
          "dtype": "f4"
         },
         "yaxis": "y2"
        },
        {
         "legendgroup": "pred",
         "marker": {
          "color": "#dbdb8d",
          "size": 6
         },
         "mode": "markers",
         "name": "Pred Group 278",
         "showlegend": false,
         "type": "scatter",
         "x": {
          "bdata": "ZxYWwg==",
          "dtype": "f4"
         },
         "xaxis": "x2",
         "y": {
          "bdata": "meOJQQ==",
          "dtype": "f4"
         },
         "yaxis": "y2"
        },
        {
         "legendgroup": "pred",
         "marker": {
          "color": "#dbdb8d",
          "size": 6
         },
         "mode": "markers",
         "name": "Pred Group 279",
         "showlegend": false,
         "type": "scatter",
         "x": {
          "bdata": "oS8vwQ==",
          "dtype": "f4"
         },
         "xaxis": "x2",
         "y": {
          "bdata": "ADTqwQ==",
          "dtype": "f4"
         },
         "yaxis": "y2"
        },
        {
         "legendgroup": "pred",
         "marker": {
          "color": "#dbdb8d",
          "size": 6
         },
         "mode": "markers",
         "name": "Pred Group 280",
         "showlegend": false,
         "type": "scatter",
         "x": {
          "bdata": "IKcWQQ==",
          "dtype": "f4"
         },
         "xaxis": "x2",
         "y": {
          "bdata": "A0fhQQ==",
          "dtype": "f4"
         },
         "yaxis": "y2"
        },
        {
         "legendgroup": "pred",
         "marker": {
          "color": "#17becf",
          "size": 6
         },
         "mode": "markers",
         "name": "Pred Group 281",
         "showlegend": false,
         "type": "scatter",
         "x": {
          "bdata": "YplGwg==",
          "dtype": "f4"
         },
         "xaxis": "x2",
         "y": {
          "bdata": "N5jovw==",
          "dtype": "f4"
         },
         "yaxis": "y2"
        },
        {
         "legendgroup": "pred",
         "marker": {
          "color": "#17becf",
          "size": 6
         },
         "mode": "markers",
         "name": "Pred Group 282",
         "showlegend": false,
         "type": "scatter",
         "x": {
          "bdata": "Ahowwg==",
          "dtype": "f4"
         },
         "xaxis": "x2",
         "y": {
          "bdata": "VeQcQQ==",
          "dtype": "f4"
         },
         "yaxis": "y2"
        },
        {
         "legendgroup": "pred",
         "marker": {
          "color": "#17becf",
          "size": 6
         },
         "mode": "markers",
         "name": "Pred Group 283",
         "showlegend": false,
         "type": "scatter",
         "x": {
          "bdata": "VT1AQQ==",
          "dtype": "f4"
         },
         "xaxis": "x2",
         "y": {
          "bdata": "uWqeQA==",
          "dtype": "f4"
         },
         "yaxis": "y2"
        },
        {
         "legendgroup": "pred",
         "marker": {
          "color": "#17becf",
          "size": 6
         },
         "mode": "markers",
         "name": "Pred Group 284",
         "showlegend": false,
         "type": "scatter",
         "x": {
          "bdata": "rQU6QQ==",
          "dtype": "f4"
         },
         "xaxis": "x2",
         "y": {
          "bdata": "AM6ZwQ==",
          "dtype": "f4"
         },
         "yaxis": "y2"
        },
        {
         "legendgroup": "pred",
         "marker": {
          "color": "#17becf",
          "size": 6
         },
         "mode": "markers",
         "name": "Pred Group 285",
         "showlegend": false,
         "type": "scatter",
         "x": {
          "bdata": "L7sLwQ==",
          "dtype": "f4"
         },
         "xaxis": "x2",
         "y": {
          "bdata": "PQfcwQ==",
          "dtype": "f4"
         },
         "yaxis": "y2"
        },
        {
         "legendgroup": "pred",
         "marker": {
          "color": "#17becf",
          "size": 6
         },
         "mode": "markers",
         "name": "Pred Group 286",
         "showlegend": false,
         "type": "scatter",
         "x": {
          "bdata": "TfZ8QQ==",
          "dtype": "f4"
         },
         "xaxis": "x2",
         "y": {
          "bdata": "OfE7vw==",
          "dtype": "f4"
         },
         "yaxis": "y2"
        },
        {
         "legendgroup": "pred",
         "marker": {
          "color": "#17becf",
          "size": 6
         },
         "mode": "markers",
         "name": "Pred Group 287",
         "showlegend": false,
         "type": "scatter",
         "x": {
          "bdata": "Qk5LQg==",
          "dtype": "f4"
         },
         "xaxis": "x2",
         "y": {
          "bdata": "782lQQ==",
          "dtype": "f4"
         },
         "yaxis": "y2"
        },
        {
         "legendgroup": "pred",
         "marker": {
          "color": "#17becf",
          "size": 6
         },
         "mode": "markers",
         "name": "Pred Group 288",
         "showlegend": false,
         "type": "scatter",
         "x": {
          "bdata": "1nEQwg==",
          "dtype": "f4"
         },
         "xaxis": "x2",
         "y": {
          "bdata": "tQGZPw==",
          "dtype": "f4"
         },
         "yaxis": "y2"
        },
        {
         "legendgroup": "pred",
         "marker": {
          "color": "#17becf",
          "size": 6
         },
         "mode": "markers",
         "name": "Pred Group 289",
         "showlegend": false,
         "type": "scatter",
         "x": {
          "bdata": "vZ5FQg==",
          "dtype": "f4"
         },
         "xaxis": "x2",
         "y": {
          "bdata": "SvflwA==",
          "dtype": "f4"
         },
         "yaxis": "y2"
        },
        {
         "legendgroup": "pred",
         "marker": {
          "color": "#17becf",
          "size": 6
         },
         "mode": "markers",
         "name": "Pred Group 290",
         "showlegend": false,
         "type": "scatter",
         "x": {
          "bdata": "+AVJwA==",
          "dtype": "f4"
         },
         "xaxis": "x2",
         "y": {
          "bdata": "z2hmwg==",
          "dtype": "f4"
         },
         "yaxis": "y2"
        },
        {
         "legendgroup": "pred",
         "marker": {
          "color": "#17becf",
          "size": 6
         },
         "mode": "markers",
         "name": "Pred Group 291",
         "showlegend": false,
         "type": "scatter",
         "x": {
          "bdata": "TmxfQg==",
          "dtype": "f4"
         },
         "xaxis": "x2",
         "y": {
          "bdata": "MAgWQg==",
          "dtype": "f4"
         },
         "yaxis": "y2"
        },
        {
         "legendgroup": "pred",
         "marker": {
          "color": "#17becf",
          "size": 6
         },
         "mode": "markers",
         "name": "Pred Group 292",
         "showlegend": false,
         "type": "scatter",
         "x": {
          "bdata": "liFgQg==",
          "dtype": "f4"
         },
         "xaxis": "x2",
         "y": {
          "bdata": "RzoZQg==",
          "dtype": "f4"
         },
         "yaxis": "y2"
        },
        {
         "legendgroup": "pred",
         "marker": {
          "color": "#17becf",
          "size": 6
         },
         "mode": "markers",
         "name": "Pred Group 293",
         "showlegend": false,
         "type": "scatter",
         "x": {
          "bdata": "id0MQg==",
          "dtype": "f4"
         },
         "xaxis": "x2",
         "y": {
          "bdata": "pVmtwQ==",
          "dtype": "f4"
         },
         "yaxis": "y2"
        },
        {
         "legendgroup": "pred",
         "marker": {
          "color": "#17becf",
          "size": 6
         },
         "mode": "markers",
         "name": "Pred Group 294",
         "showlegend": false,
         "type": "scatter",
         "x": {
          "bdata": "dJhdQg==",
          "dtype": "f4"
         },
         "xaxis": "x2",
         "y": {
          "bdata": "l5MQQg==",
          "dtype": "f4"
         },
         "yaxis": "y2"
        },
        {
         "legendgroup": "pred",
         "marker": {
          "color": "#17becf",
          "size": 6
         },
         "mode": "markers",
         "name": "Pred Group 295",
         "showlegend": false,
         "type": "scatter",
         "x": {
          "bdata": "7PnvwQ==",
          "dtype": "f4"
         },
         "xaxis": "x2",
         "y": {
          "bdata": "JIASQg==",
          "dtype": "f4"
         },
         "yaxis": "y2"
        },
        {
         "legendgroup": "pred",
         "marker": {
          "color": "#17becf",
          "size": 6
         },
         "mode": "markers",
         "name": "Pred Group 296",
         "showlegend": false,
         "type": "scatter",
         "x": {
          "bdata": "xWb3wQ==",
          "dtype": "f4"
         },
         "xaxis": "x2",
         "y": {
          "bdata": "nbAWQg==",
          "dtype": "f4"
         },
         "yaxis": "y2"
        },
        {
         "legendgroup": "pred",
         "marker": {
          "color": "#9edae5",
          "size": 6
         },
         "mode": "markers",
         "name": "Pred Group 297",
         "showlegend": false,
         "type": "scatter",
         "x": {
          "bdata": "80jowQ==",
          "dtype": "f4"
         },
         "xaxis": "x2",
         "y": {
          "bdata": "JjcLQg==",
          "dtype": "f4"
         },
         "yaxis": "y2"
        },
        {
         "legendgroup": "pred",
         "marker": {
          "color": "#9edae5",
          "size": 6
         },
         "mode": "markers",
         "name": "Pred Group 298",
         "showlegend": false,
         "type": "scatter",
         "x": {
          "bdata": "oAVVQQ==",
          "dtype": "f4"
         },
         "xaxis": "x2",
         "y": {
          "bdata": "sBrJQQ==",
          "dtype": "f4"
         },
         "yaxis": "y2"
        },
        {
         "legendgroup": "pred",
         "marker": {
          "color": "#9edae5",
          "size": 6
         },
         "mode": "markers",
         "name": "Pred Group 299",
         "showlegend": false,
         "type": "scatter",
         "x": {
          "bdata": "4KHNwQ==",
          "dtype": "f4"
         },
         "xaxis": "x2",
         "y": {
          "bdata": "5VIoQg==",
          "dtype": "f4"
         },
         "yaxis": "y2"
        },
        {
         "legendgroup": "pred",
         "marker": {
          "color": "#9edae5",
          "size": 6
         },
         "mode": "markers",
         "name": "Pred Group 300",
         "showlegend": false,
         "type": "scatter",
         "x": {
          "bdata": "MgDhwQ==",
          "dtype": "f4"
         },
         "xaxis": "x2",
         "y": {
          "bdata": "586EQA==",
          "dtype": "f4"
         },
         "yaxis": "y2"
        },
        {
         "legendgroup": "pred",
         "marker": {
          "color": "#9edae5",
          "size": 6
         },
         "mode": "markers",
         "name": "Pred Group 301",
         "showlegend": false,
         "type": "scatter",
         "x": {
          "bdata": "1mECwg==",
          "dtype": "f4"
         },
         "xaxis": "x2",
         "y": {
          "bdata": "iWjlQQ==",
          "dtype": "f4"
         },
         "yaxis": "y2"
        },
        {
         "legendgroup": "pred",
         "marker": {
          "color": "#9edae5",
          "size": 6
         },
         "mode": "markers",
         "name": "Pred Group 302",
         "showlegend": false,
         "type": "scatter",
         "x": {
          "bdata": "cnIjwg==",
          "dtype": "f4"
         },
         "xaxis": "x2",
         "y": {
          "bdata": "V3QCQg==",
          "dtype": "f4"
         },
         "yaxis": "y2"
        },
        {
         "legendgroup": "pred",
         "marker": {
          "color": "#9edae5",
          "size": 6
         },
         "mode": "markers",
         "name": "Pred Group 303",
         "showlegend": false,
         "type": "scatter",
         "x": {
          "bdata": "GGdJQg==",
          "dtype": "f4"
         },
         "xaxis": "x2",
         "y": {
          "bdata": "rqjpQQ==",
          "dtype": "f4"
         },
         "yaxis": "y2"
        },
        {
         "legendgroup": "pred",
         "marker": {
          "color": "#9edae5",
          "size": 6
         },
         "mode": "markers",
         "name": "Pred Group 304",
         "showlegend": false,
         "type": "scatter",
         "x": {
          "bdata": "ipLtwQ==",
          "dtype": "f4"
         },
         "xaxis": "x2",
         "y": {
          "bdata": "DrgFQg==",
          "dtype": "f4"
         },
         "yaxis": "y2"
        },
        {
         "legendgroup": "pred",
         "marker": {
          "color": "#9edae5",
          "size": 6
         },
         "mode": "markers",
         "name": "Pred Group 305",
         "showlegend": false,
         "type": "scatter",
         "x": {
          "bdata": "Ya8UQg==",
          "dtype": "f4"
         },
         "xaxis": "x2",
         "y": {
          "bdata": "4JKGwQ==",
          "dtype": "f4"
         },
         "yaxis": "y2"
        },
        {
         "legendgroup": "pred",
         "marker": {
          "color": "#9edae5",
          "size": 6
         },
         "mode": "markers",
         "name": "Pred Group 306",
         "showlegend": false,
         "type": "scatter",
         "x": {
          "bdata": "aU4hwg==",
          "dtype": "f4"
         },
         "xaxis": "x2",
         "y": {
          "bdata": "tiEcQg==",
          "dtype": "f4"
         },
         "yaxis": "y2"
        },
        {
         "legendgroup": "pred",
         "marker": {
          "color": "#9edae5",
          "size": 6
         },
         "mode": "markers",
         "name": "Pred Group 307",
         "showlegend": false,
         "type": "scatter",
         "x": {
          "bdata": "+xVbQg==",
          "dtype": "f4"
         },
         "xaxis": "x2",
         "y": {
          "bdata": "FKALQg==",
          "dtype": "f4"
         },
         "yaxis": "y2"
        },
        {
         "legendgroup": "pred",
         "marker": {
          "color": "#9edae5",
          "size": 6
         },
         "mode": "markers",
         "name": "Pred Group 308",
         "showlegend": false,
         "type": "scatter",
         "x": {
          "bdata": "dj5rwA==",
          "dtype": "f4"
         },
         "xaxis": "x2",
         "y": {
          "bdata": "ChVVwg==",
          "dtype": "f4"
         },
         "yaxis": "y2"
        },
        {
         "legendgroup": "pred",
         "marker": {
          "color": "#9edae5",
          "size": 6
         },
         "mode": "markers",
         "name": "Pred Group 309",
         "showlegend": false,
         "type": "scatter",
         "x": {
          "bdata": "G/wMwQ==",
          "dtype": "f4"
         },
         "xaxis": "x2",
         "y": {
          "bdata": "1cxKwg==",
          "dtype": "f4"
         },
         "yaxis": "y2"
        },
        {
         "legendgroup": "pred",
         "marker": {
          "color": "#9edae5",
          "size": 6
         },
         "mode": "markers",
         "name": "Pred Group 310",
         "showlegend": false,
         "type": "scatter",
         "x": {
          "bdata": "YdDvQQ==",
          "dtype": "f4"
         },
         "xaxis": "x2",
         "y": {
          "bdata": "U0Q7wg==",
          "dtype": "f4"
         },
         "yaxis": "y2"
        },
        {
         "legendgroup": "pred",
         "marker": {
          "color": "#9edae5",
          "size": 6
         },
         "mode": "markers",
         "name": "Pred Group 311",
         "showlegend": false,
         "type": "scatter",
         "x": {
          "bdata": "CKxlQg==",
          "dtype": "f4"
         },
         "xaxis": "x2",
         "y": {
          "bdata": "cAabwQ==",
          "dtype": "f4"
         },
         "yaxis": "y2"
        },
        {
         "legendgroup": "pred",
         "marker": {
          "color": "#9edae5",
          "size": 6
         },
         "mode": "markers",
         "name": "Pred Group 312",
         "showlegend": false,
         "type": "scatter",
         "x": {
          "bdata": "LZjkQQ==",
          "dtype": "f4"
         },
         "xaxis": "x2",
         "y": {
          "bdata": "TmQ6wg==",
          "dtype": "f4"
         },
         "yaxis": "y2"
        }
       ],
       "layout": {
        "annotations": [
         {
          "font": {
           "size": 16
          },
          "showarrow": false,
          "text": "Clusters of 2D Embeddings gt",
          "x": 0.225,
          "xanchor": "center",
          "xref": "paper",
          "y": 1,
          "yanchor": "bottom",
          "yref": "paper"
         },
         {
          "font": {
           "size": 16
          },
          "showarrow": false,
          "text": "Clusters of 2D Embeddings pred",
          "x": 0.775,
          "xanchor": "center",
          "xref": "paper",
          "y": 1,
          "yanchor": "bottom",
          "yref": "paper"
         }
        ],
        "height": 600,
        "showlegend": true,
        "template": {
         "data": {
          "bar": [
           {
            "error_x": {
             "color": "#2a3f5f"
            },
            "error_y": {
             "color": "#2a3f5f"
            },
            "marker": {
             "line": {
              "color": "#E5ECF6",
              "width": 0.5
             },
             "pattern": {
              "fillmode": "overlay",
              "size": 10,
              "solidity": 0.2
             }
            },
            "type": "bar"
           }
          ],
          "barpolar": [
           {
            "marker": {
             "line": {
              "color": "#E5ECF6",
              "width": 0.5
             },
             "pattern": {
              "fillmode": "overlay",
              "size": 10,
              "solidity": 0.2
             }
            },
            "type": "barpolar"
           }
          ],
          "carpet": [
           {
            "aaxis": {
             "endlinecolor": "#2a3f5f",
             "gridcolor": "white",
             "linecolor": "white",
             "minorgridcolor": "white",
             "startlinecolor": "#2a3f5f"
            },
            "baxis": {
             "endlinecolor": "#2a3f5f",
             "gridcolor": "white",
             "linecolor": "white",
             "minorgridcolor": "white",
             "startlinecolor": "#2a3f5f"
            },
            "type": "carpet"
           }
          ],
          "choropleth": [
           {
            "colorbar": {
             "outlinewidth": 0,
             "ticks": ""
            },
            "type": "choropleth"
           }
          ],
          "contour": [
           {
            "colorbar": {
             "outlinewidth": 0,
             "ticks": ""
            },
            "colorscale": [
             [
              0,
              "#0d0887"
             ],
             [
              0.1111111111111111,
              "#46039f"
             ],
             [
              0.2222222222222222,
              "#7201a8"
             ],
             [
              0.3333333333333333,
              "#9c179e"
             ],
             [
              0.4444444444444444,
              "#bd3786"
             ],
             [
              0.5555555555555556,
              "#d8576b"
             ],
             [
              0.6666666666666666,
              "#ed7953"
             ],
             [
              0.7777777777777778,
              "#fb9f3a"
             ],
             [
              0.8888888888888888,
              "#fdca26"
             ],
             [
              1,
              "#f0f921"
             ]
            ],
            "type": "contour"
           }
          ],
          "contourcarpet": [
           {
            "colorbar": {
             "outlinewidth": 0,
             "ticks": ""
            },
            "type": "contourcarpet"
           }
          ],
          "heatmap": [
           {
            "colorbar": {
             "outlinewidth": 0,
             "ticks": ""
            },
            "colorscale": [
             [
              0,
              "#0d0887"
             ],
             [
              0.1111111111111111,
              "#46039f"
             ],
             [
              0.2222222222222222,
              "#7201a8"
             ],
             [
              0.3333333333333333,
              "#9c179e"
             ],
             [
              0.4444444444444444,
              "#bd3786"
             ],
             [
              0.5555555555555556,
              "#d8576b"
             ],
             [
              0.6666666666666666,
              "#ed7953"
             ],
             [
              0.7777777777777778,
              "#fb9f3a"
             ],
             [
              0.8888888888888888,
              "#fdca26"
             ],
             [
              1,
              "#f0f921"
             ]
            ],
            "type": "heatmap"
           }
          ],
          "histogram": [
           {
            "marker": {
             "pattern": {
              "fillmode": "overlay",
              "size": 10,
              "solidity": 0.2
             }
            },
            "type": "histogram"
           }
          ],
          "histogram2d": [
           {
            "colorbar": {
             "outlinewidth": 0,
             "ticks": ""
            },
            "colorscale": [
             [
              0,
              "#0d0887"
             ],
             [
              0.1111111111111111,
              "#46039f"
             ],
             [
              0.2222222222222222,
              "#7201a8"
             ],
             [
              0.3333333333333333,
              "#9c179e"
             ],
             [
              0.4444444444444444,
              "#bd3786"
             ],
             [
              0.5555555555555556,
              "#d8576b"
             ],
             [
              0.6666666666666666,
              "#ed7953"
             ],
             [
              0.7777777777777778,
              "#fb9f3a"
             ],
             [
              0.8888888888888888,
              "#fdca26"
             ],
             [
              1,
              "#f0f921"
             ]
            ],
            "type": "histogram2d"
           }
          ],
          "histogram2dcontour": [
           {
            "colorbar": {
             "outlinewidth": 0,
             "ticks": ""
            },
            "colorscale": [
             [
              0,
              "#0d0887"
             ],
             [
              0.1111111111111111,
              "#46039f"
             ],
             [
              0.2222222222222222,
              "#7201a8"
             ],
             [
              0.3333333333333333,
              "#9c179e"
             ],
             [
              0.4444444444444444,
              "#bd3786"
             ],
             [
              0.5555555555555556,
              "#d8576b"
             ],
             [
              0.6666666666666666,
              "#ed7953"
             ],
             [
              0.7777777777777778,
              "#fb9f3a"
             ],
             [
              0.8888888888888888,
              "#fdca26"
             ],
             [
              1,
              "#f0f921"
             ]
            ],
            "type": "histogram2dcontour"
           }
          ],
          "mesh3d": [
           {
            "colorbar": {
             "outlinewidth": 0,
             "ticks": ""
            },
            "type": "mesh3d"
           }
          ],
          "parcoords": [
           {
            "line": {
             "colorbar": {
              "outlinewidth": 0,
              "ticks": ""
             }
            },
            "type": "parcoords"
           }
          ],
          "pie": [
           {
            "automargin": true,
            "type": "pie"
           }
          ],
          "scatter": [
           {
            "fillpattern": {
             "fillmode": "overlay",
             "size": 10,
             "solidity": 0.2
            },
            "type": "scatter"
           }
          ],
          "scatter3d": [
           {
            "line": {
             "colorbar": {
              "outlinewidth": 0,
              "ticks": ""
             }
            },
            "marker": {
             "colorbar": {
              "outlinewidth": 0,
              "ticks": ""
             }
            },
            "type": "scatter3d"
           }
          ],
          "scattercarpet": [
           {
            "marker": {
             "colorbar": {
              "outlinewidth": 0,
              "ticks": ""
             }
            },
            "type": "scattercarpet"
           }
          ],
          "scattergeo": [
           {
            "marker": {
             "colorbar": {
              "outlinewidth": 0,
              "ticks": ""
             }
            },
            "type": "scattergeo"
           }
          ],
          "scattergl": [
           {
            "marker": {
             "colorbar": {
              "outlinewidth": 0,
              "ticks": ""
             }
            },
            "type": "scattergl"
           }
          ],
          "scattermap": [
           {
            "marker": {
             "colorbar": {
              "outlinewidth": 0,
              "ticks": ""
             }
            },
            "type": "scattermap"
           }
          ],
          "scattermapbox": [
           {
            "marker": {
             "colorbar": {
              "outlinewidth": 0,
              "ticks": ""
             }
            },
            "type": "scattermapbox"
           }
          ],
          "scatterpolar": [
           {
            "marker": {
             "colorbar": {
              "outlinewidth": 0,
              "ticks": ""
             }
            },
            "type": "scatterpolar"
           }
          ],
          "scatterpolargl": [
           {
            "marker": {
             "colorbar": {
              "outlinewidth": 0,
              "ticks": ""
             }
            },
            "type": "scatterpolargl"
           }
          ],
          "scatterternary": [
           {
            "marker": {
             "colorbar": {
              "outlinewidth": 0,
              "ticks": ""
             }
            },
            "type": "scatterternary"
           }
          ],
          "surface": [
           {
            "colorbar": {
             "outlinewidth": 0,
             "ticks": ""
            },
            "colorscale": [
             [
              0,
              "#0d0887"
             ],
             [
              0.1111111111111111,
              "#46039f"
             ],
             [
              0.2222222222222222,
              "#7201a8"
             ],
             [
              0.3333333333333333,
              "#9c179e"
             ],
             [
              0.4444444444444444,
              "#bd3786"
             ],
             [
              0.5555555555555556,
              "#d8576b"
             ],
             [
              0.6666666666666666,
              "#ed7953"
             ],
             [
              0.7777777777777778,
              "#fb9f3a"
             ],
             [
              0.8888888888888888,
              "#fdca26"
             ],
             [
              1,
              "#f0f921"
             ]
            ],
            "type": "surface"
           }
          ],
          "table": [
           {
            "cells": {
             "fill": {
              "color": "#EBF0F8"
             },
             "line": {
              "color": "white"
             }
            },
            "header": {
             "fill": {
              "color": "#C8D4E3"
             },
             "line": {
              "color": "white"
             }
            },
            "type": "table"
           }
          ]
         },
         "layout": {
          "annotationdefaults": {
           "arrowcolor": "#2a3f5f",
           "arrowhead": 0,
           "arrowwidth": 1
          },
          "autotypenumbers": "strict",
          "coloraxis": {
           "colorbar": {
            "outlinewidth": 0,
            "ticks": ""
           }
          },
          "colorscale": {
           "diverging": [
            [
             0,
             "#8e0152"
            ],
            [
             0.1,
             "#c51b7d"
            ],
            [
             0.2,
             "#de77ae"
            ],
            [
             0.3,
             "#f1b6da"
            ],
            [
             0.4,
             "#fde0ef"
            ],
            [
             0.5,
             "#f7f7f7"
            ],
            [
             0.6,
             "#e6f5d0"
            ],
            [
             0.7,
             "#b8e186"
            ],
            [
             0.8,
             "#7fbc41"
            ],
            [
             0.9,
             "#4d9221"
            ],
            [
             1,
             "#276419"
            ]
           ],
           "sequential": [
            [
             0,
             "#0d0887"
            ],
            [
             0.1111111111111111,
             "#46039f"
            ],
            [
             0.2222222222222222,
             "#7201a8"
            ],
            [
             0.3333333333333333,
             "#9c179e"
            ],
            [
             0.4444444444444444,
             "#bd3786"
            ],
            [
             0.5555555555555556,
             "#d8576b"
            ],
            [
             0.6666666666666666,
             "#ed7953"
            ],
            [
             0.7777777777777778,
             "#fb9f3a"
            ],
            [
             0.8888888888888888,
             "#fdca26"
            ],
            [
             1,
             "#f0f921"
            ]
           ],
           "sequentialminus": [
            [
             0,
             "#0d0887"
            ],
            [
             0.1111111111111111,
             "#46039f"
            ],
            [
             0.2222222222222222,
             "#7201a8"
            ],
            [
             0.3333333333333333,
             "#9c179e"
            ],
            [
             0.4444444444444444,
             "#bd3786"
            ],
            [
             0.5555555555555556,
             "#d8576b"
            ],
            [
             0.6666666666666666,
             "#ed7953"
            ],
            [
             0.7777777777777778,
             "#fb9f3a"
            ],
            [
             0.8888888888888888,
             "#fdca26"
            ],
            [
             1,
             "#f0f921"
            ]
           ]
          },
          "colorway": [
           "#636efa",
           "#EF553B",
           "#00cc96",
           "#ab63fa",
           "#FFA15A",
           "#19d3f3",
           "#FF6692",
           "#B6E880",
           "#FF97FF",
           "#FECB52"
          ],
          "font": {
           "color": "#2a3f5f"
          },
          "geo": {
           "bgcolor": "white",
           "lakecolor": "white",
           "landcolor": "#E5ECF6",
           "showlakes": true,
           "showland": true,
           "subunitcolor": "white"
          },
          "hoverlabel": {
           "align": "left"
          },
          "hovermode": "closest",
          "mapbox": {
           "style": "light"
          },
          "paper_bgcolor": "white",
          "plot_bgcolor": "#E5ECF6",
          "polar": {
           "angularaxis": {
            "gridcolor": "white",
            "linecolor": "white",
            "ticks": ""
           },
           "bgcolor": "#E5ECF6",
           "radialaxis": {
            "gridcolor": "white",
            "linecolor": "white",
            "ticks": ""
           }
          },
          "scene": {
           "xaxis": {
            "backgroundcolor": "#E5ECF6",
            "gridcolor": "white",
            "gridwidth": 2,
            "linecolor": "white",
            "showbackground": true,
            "ticks": "",
            "zerolinecolor": "white"
           },
           "yaxis": {
            "backgroundcolor": "#E5ECF6",
            "gridcolor": "white",
            "gridwidth": 2,
            "linecolor": "white",
            "showbackground": true,
            "ticks": "",
            "zerolinecolor": "white"
           },
           "zaxis": {
            "backgroundcolor": "#E5ECF6",
            "gridcolor": "white",
            "gridwidth": 2,
            "linecolor": "white",
            "showbackground": true,
            "ticks": "",
            "zerolinecolor": "white"
           }
          },
          "shapedefaults": {
           "line": {
            "color": "#2a3f5f"
           }
          },
          "ternary": {
           "aaxis": {
            "gridcolor": "white",
            "linecolor": "white",
            "ticks": ""
           },
           "baxis": {
            "gridcolor": "white",
            "linecolor": "white",
            "ticks": ""
           },
           "bgcolor": "#E5ECF6",
           "caxis": {
            "gridcolor": "white",
            "linecolor": "white",
            "ticks": ""
           }
          },
          "title": {
           "x": 0.05
          },
          "xaxis": {
           "automargin": true,
           "gridcolor": "white",
           "linecolor": "white",
           "ticks": "",
           "title": {
            "standoff": 15
           },
           "zerolinecolor": "white",
           "zerolinewidth": 2
          },
          "yaxis": {
           "automargin": true,
           "gridcolor": "white",
           "linecolor": "white",
           "ticks": "",
           "title": {
            "standoff": 15
           },
           "zerolinecolor": "white",
           "zerolinewidth": 2
          }
         }
        },
        "title": {
         "text": "Cluster Comparison: Ground Truth vs Prediction"
        },
        "width": 1000,
        "xaxis": {
         "anchor": "y",
         "domain": [
          0,
          0.45
         ]
        },
        "xaxis2": {
         "anchor": "y2",
         "domain": [
          0.55,
          1
         ]
        },
        "yaxis": {
         "anchor": "x",
         "domain": [
          0,
          1
         ]
        },
        "yaxis2": {
         "anchor": "x2",
         "domain": [
          0,
          1
         ]
        }
       }
      }
     },
     "metadata": {},
     "output_type": "display_data"
    }
   ],
   "source": [
    "model = SentenceTransformer(\"all-MiniLM-L6-v2\")\n",
    "oob_res = test_model(model)"
   ]
  },
  {
   "cell_type": "markdown",
   "id": "7ab7684a",
   "metadata": {},
   "source": [
    "# Unsupervised methods"
   ]
  },
  {
   "cell_type": "markdown",
   "id": "c8f11528",
   "metadata": {},
   "source": [
    "## Trained with TSDAE"
   ]
  },
  {
   "cell_type": "code",
   "execution_count": 4,
   "id": "9e0b46a6",
   "metadata": {},
   "outputs": [
    {
     "data": {
      "application/vnd.jupyter.widget-view+json": {
       "model_id": "149a8be1d65a4e499752ca57fe6f4783",
       "version_major": 2,
       "version_minor": 0
      },
      "text/plain": [
       "Batches:   0%|          | 0/7 [00:00<?, ?it/s]"
      ]
     },
     "metadata": {},
     "output_type": "display_data"
    },
    {
     "data": {
      "application/vnd.jupyter.widget-view+json": {
       "model_id": "3f710fb368f2459bb815569b31e14766",
       "version_major": 2,
       "version_minor": 0
      },
      "text/plain": [
       "Batches:   0%|          | 0/7 [00:00<?, ?it/s]"
      ]
     },
     "metadata": {},
     "output_type": "display_data"
    },
    {
     "data": {
      "application/vnd.jupyter.widget-view+json": {
       "model_id": "c8c1e6601291445aa78ae63bfb1c1e87",
       "version_major": 2,
       "version_minor": 0
      },
      "text/plain": [
       "Batches:   0%|          | 0/7 [00:00<?, ?it/s]"
      ]
     },
     "metadata": {},
     "output_type": "display_data"
    },
    {
     "data": {
      "application/vnd.jupyter.widget-view+json": {
       "model_id": "8280dd63efd143a1923d3a76bff0b356",
       "version_major": 2,
       "version_minor": 0
      },
      "text/plain": [
       "Batches:   0%|          | 0/7 [00:00<?, ?it/s]"
      ]
     },
     "metadata": {},
     "output_type": "display_data"
    },
    {
     "data": {
      "application/vnd.jupyter.widget-view+json": {
       "model_id": "1cd0851bcb7d4702945661e475d86112",
       "version_major": 2,
       "version_minor": 0
      },
      "text/plain": [
       "Batches:   0%|          | 0/7 [00:00<?, ?it/s]"
      ]
     },
     "metadata": {},
     "output_type": "display_data"
    },
    {
     "data": {
      "application/vnd.jupyter.widget-view+json": {
       "model_id": "feb879fd7f994cf09f2f068dd3972e54",
       "version_major": 2,
       "version_minor": 0
      },
      "text/plain": [
       "Batches:   0%|          | 0/7 [00:00<?, ?it/s]"
      ]
     },
     "metadata": {},
     "output_type": "display_data"
    },
    {
     "data": {
      "application/vnd.jupyter.widget-view+json": {
       "model_id": "d39d87b3e5534e268396b8cddbd2c712",
       "version_major": 2,
       "version_minor": 0
      },
      "text/plain": [
       "Batches:   0%|          | 0/7 [00:00<?, ?it/s]"
      ]
     },
     "metadata": {},
     "output_type": "display_data"
    },
    {
     "data": {
      "application/vnd.jupyter.widget-view+json": {
       "model_id": "0655443178934e67b7a41344016b7dc4",
       "version_major": 2,
       "version_minor": 0
      },
      "text/plain": [
       "Batches:   0%|          | 0/7 [00:00<?, ?it/s]"
      ]
     },
     "metadata": {},
     "output_type": "display_data"
    },
    {
     "data": {
      "application/vnd.jupyter.widget-view+json": {
       "model_id": "00dd05e9c69e4c48aed6bff1c81d8428",
       "version_major": 2,
       "version_minor": 0
      },
      "text/plain": [
       "Batches:   0%|          | 0/7 [00:00<?, ?it/s]"
      ]
     },
     "metadata": {},
     "output_type": "display_data"
    },
    {
     "data": {
      "application/vnd.jupyter.widget-view+json": {
       "model_id": "a41d6241caf74c929830ca8817bdd0ae",
       "version_major": 2,
       "version_minor": 0
      },
      "text/plain": [
       "Batches:   0%|          | 0/7 [00:00<?, ?it/s]"
      ]
     },
     "metadata": {},
     "output_type": "display_data"
    },
    {
     "data": {
      "application/vnd.jupyter.widget-view+json": {
       "model_id": "fd6cfc66e8a94e3e95cfdf30265691f3",
       "version_major": 2,
       "version_minor": 0
      },
      "text/plain": [
       "Batches:   0%|          | 0/7 [00:00<?, ?it/s]"
      ]
     },
     "metadata": {},
     "output_type": "display_data"
    },
    {
     "data": {
      "application/vnd.jupyter.widget-view+json": {
       "model_id": "260791396a6d4c7db0639aa4807f8cfa",
       "version_major": 2,
       "version_minor": 0
      },
      "text/plain": [
       "Batches:   0%|          | 0/7 [00:00<?, ?it/s]"
      ]
     },
     "metadata": {},
     "output_type": "display_data"
    },
    {
     "data": {
      "application/vnd.jupyter.widget-view+json": {
       "model_id": "8a021a60956a4385921234dc3cc71c20",
       "version_major": 2,
       "version_minor": 0
      },
      "text/plain": [
       "Batches:   0%|          | 0/7 [00:00<?, ?it/s]"
      ]
     },
     "metadata": {},
     "output_type": "display_data"
    },
    {
     "data": {
      "application/vnd.jupyter.widget-view+json": {
       "model_id": "27721226ce534788b447a49b7639f2d3",
       "version_major": 2,
       "version_minor": 0
      },
      "text/plain": [
       "Batches:   0%|          | 0/7 [00:00<?, ?it/s]"
      ]
     },
     "metadata": {},
     "output_type": "display_data"
    },
    {
     "data": {
      "application/vnd.jupyter.widget-view+json": {
       "model_id": "7a5ef25c52944ccba1055b845453d5fd",
       "version_major": 2,
       "version_minor": 0
      },
      "text/plain": [
       "Batches:   0%|          | 0/7 [00:00<?, ?it/s]"
      ]
     },
     "metadata": {},
     "output_type": "display_data"
    },
    {
     "data": {
      "application/vnd.jupyter.widget-view+json": {
       "model_id": "36f6fa27cf4f48ac9b2406aad21541ce",
       "version_major": 2,
       "version_minor": 0
      },
      "text/plain": [
       "Batches:   0%|          | 0/7 [00:00<?, ?it/s]"
      ]
     },
     "metadata": {},
     "output_type": "display_data"
    },
    {
     "data": {
      "application/vnd.jupyter.widget-view+json": {
       "model_id": "144ead68dbc546a58cb143f6c213e262",
       "version_major": 2,
       "version_minor": 0
      },
      "text/plain": [
       "Batches:   0%|          | 0/7 [00:00<?, ?it/s]"
      ]
     },
     "metadata": {},
     "output_type": "display_data"
    },
    {
     "data": {
      "application/vnd.jupyter.widget-view+json": {
       "model_id": "b1467869055b43cc96467d14ff6e823d",
       "version_major": 2,
       "version_minor": 0
      },
      "text/plain": [
       "Batches:   0%|          | 0/7 [00:00<?, ?it/s]"
      ]
     },
     "metadata": {},
     "output_type": "display_data"
    },
    {
     "data": {
      "application/vnd.jupyter.widget-view+json": {
       "model_id": "ce832b5c6167454ab069ced7c58e8333",
       "version_major": 2,
       "version_minor": 0
      },
      "text/plain": [
       "Batches:   0%|          | 0/7 [00:00<?, ?it/s]"
      ]
     },
     "metadata": {},
     "output_type": "display_data"
    },
    {
     "data": {
      "application/vnd.jupyter.widget-view+json": {
       "model_id": "7509f253146f451b8a1fcf63bafae56e",
       "version_major": 2,
       "version_minor": 0
      },
      "text/plain": [
       "Batches:   0%|          | 0/7 [00:00<?, ?it/s]"
      ]
     },
     "metadata": {},
     "output_type": "display_data"
    },
    {
     "data": {
      "application/vnd.jupyter.widget-view+json": {
       "model_id": "bd95486e3e134ae3ac5612f314fbe3ce",
       "version_major": 2,
       "version_minor": 0
      },
      "text/plain": [
       "Batches:   0%|          | 0/7 [00:00<?, ?it/s]"
      ]
     },
     "metadata": {},
     "output_type": "display_data"
    },
    {
     "data": {
      "application/vnd.jupyter.widget-view+json": {
       "model_id": "182873ceef3740ee9a5add6f6a61fb9d",
       "version_major": 2,
       "version_minor": 0
      },
      "text/plain": [
       "Batches:   0%|          | 0/7 [00:00<?, ?it/s]"
      ]
     },
     "metadata": {},
     "output_type": "display_data"
    },
    {
     "data": {
      "application/vnd.jupyter.widget-view+json": {
       "model_id": "e115cc8057024904a570d0568ffbf9d0",
       "version_major": 2,
       "version_minor": 0
      },
      "text/plain": [
       "Batches:   0%|          | 0/7 [00:00<?, ?it/s]"
      ]
     },
     "metadata": {},
     "output_type": "display_data"
    },
    {
     "data": {
      "application/vnd.jupyter.widget-view+json": {
       "model_id": "55d87665c8f7464792073d22f22c1861",
       "version_major": 2,
       "version_minor": 0
      },
      "text/plain": [
       "Batches:   0%|          | 0/7 [00:00<?, ?it/s]"
      ]
     },
     "metadata": {},
     "output_type": "display_data"
    },
    {
     "data": {
      "application/vnd.jupyter.widget-view+json": {
       "model_id": "3893e7a69cdb42b7a5be56a47fe53097",
       "version_major": 2,
       "version_minor": 0
      },
      "text/plain": [
       "Batches:   0%|          | 0/7 [00:00<?, ?it/s]"
      ]
     },
     "metadata": {},
     "output_type": "display_data"
    },
    {
     "data": {
      "application/vnd.jupyter.widget-view+json": {
       "model_id": "042028e0cec44d098155dee77239b08d",
       "version_major": 2,
       "version_minor": 0
      },
      "text/plain": [
       "Batches:   0%|          | 0/7 [00:00<?, ?it/s]"
      ]
     },
     "metadata": {},
     "output_type": "display_data"
    },
    {
     "data": {
      "application/vnd.jupyter.widget-view+json": {
       "model_id": "2f21e522da294f2ebec20897fe828c33",
       "version_major": 2,
       "version_minor": 0
      },
      "text/plain": [
       "Batches:   0%|          | 0/7 [00:00<?, ?it/s]"
      ]
     },
     "metadata": {},
     "output_type": "display_data"
    },
    {
     "data": {
      "application/vnd.jupyter.widget-view+json": {
       "model_id": "4afb20eb537244ebbbbb932545999c93",
       "version_major": 2,
       "version_minor": 0
      },
      "text/plain": [
       "Batches:   0%|          | 0/7 [00:00<?, ?it/s]"
      ]
     },
     "metadata": {},
     "output_type": "display_data"
    },
    {
     "data": {
      "application/vnd.jupyter.widget-view+json": {
       "model_id": "834009242c4c4e8d88a1dc105c082217",
       "version_major": 2,
       "version_minor": 0
      },
      "text/plain": [
       "Batches:   0%|          | 0/7 [00:00<?, ?it/s]"
      ]
     },
     "metadata": {},
     "output_type": "display_data"
    },
    {
     "data": {
      "application/vnd.jupyter.widget-view+json": {
       "model_id": "531f08a17f484cbab489acadf3e04ee1",
       "version_major": 2,
       "version_minor": 0
      },
      "text/plain": [
       "Batches:   0%|          | 0/7 [00:00<?, ?it/s]"
      ]
     },
     "metadata": {},
     "output_type": "display_data"
    },
    {
     "name": "stdout",
     "output_type": "stream",
     "text": [
      "('Best Threshold: 0.9889615672593656;\\n'\n",
      " \"Best scores: {'random score': 0.9734360518999073, 'adjusted random score': \"\n",
      " \"0.011995120168837366, 'nmi': 0.746094165085115};\\n\"\n",
      " 'Best clusters: [[260, 255, 337, 52, 29], [48, 377, 335, 98], [49, 405, 383, '\n",
      " '396], [62, 274, 151, 83], [185, 84, 165, 257], [275, 366, 371, 407], [401, '\n",
      " '395, 384, 393], [331, 47, 386], [26, 412, 204], [34, 35, 36], [57, 398, '\n",
      " '385], [263, 270, 112], [375, 376, 389], [394, 58, 403], [25, 32], [97, 116], '\n",
      " '[99, 340], [109, 147], [128, 182], [219, 336], [229, 231], [285, 303], [286, '\n",
      " '408], [290, 293], [346, 353], [355, 361], [359, 360], [140], [409], [207], '\n",
      " '[0], [1], [2], [3], [4], [5], [6], [7], [8], [9], [10], [11], [12], [13], '\n",
      " '[14], [15], [16], [17], [18], [19], [20], [21], [22], [23], [24], [27], '\n",
      " '[28], [30], [31], [33], [37], [38], [39], [40], [41], [42], [43], [44], '\n",
      " '[45], [46], [50], [51], [53], [54], [55], [56], [59], [60], [61], [63], '\n",
      " '[64], [65], [66], [67], [68], [69], [70], [71], [72], [73], [74], [75], '\n",
      " '[76], [77], [78], [79], [80], [81], [82], [85], [86], [87], [88], [89], '\n",
      " '[90], [91], [92], [93], [94], [95], [96], [100], [101], [102], [103], [104], '\n",
      " '[105], [106], [107], [108], [110], [111], [113], [114], [115], [117], [118], '\n",
      " '[119], [120], [121], [122], [123], [124], [125], [126], [127], [129], [130], '\n",
      " '[131], [132], [133], [134], [135], [136], [137], [138], [139], [141], [142], '\n",
      " '[143], [144], [145], [146], [148], [149], [150], [152], [153], [154], [155], '\n",
      " '[156], [157], [158], [159], [160], [161], [162], [163], [164], [166], [167], '\n",
      " '[168], [169], [170], [171], [172], [173], [174], [175], [176], [177], [178], '\n",
      " '[179], [180], [181], [183], [184], [186], [187], [188], [189], [190], [191], '\n",
      " '[192], [193], [194], [195], [196], [197], [198], [199], [200], [201], [202], '\n",
      " '[203], [205], [206], [208], [209], [210], [211], [212], [213], [214], [215], '\n",
      " '[216], [217], [218], [220], [221], [222], [223], [224], [225], [226], [227], '\n",
      " '[228], [230], [232], [233], [234], [235], [236], [237], [238], [239], [240], '\n",
      " '[241], [242], [243], [244], [245], [246], [247], [248], [249], [250], [251], '\n",
      " '[252], [253], [254], [256], [258], [259], [261], [262], [264], [265], [266], '\n",
      " '[267], [268], [269], [271], [272], [273], [276], [277], [278], [279], [280], '\n",
      " '[281], [282], [283], [284], [287], [288], [289], [291], [292], [294], [295], '\n",
      " '[296], [297], [298], [299], [300], [301], [302], [304], [305], [306], [307], '\n",
      " '[308], [309], [310], [311], [312], [313], [314], [315], [316], [317], [318], '\n",
      " '[319], [320], [321], [322], [323], [324], [325], [326], [327], [328], [329], '\n",
      " '[330], [332], [333], [334], [338], [339], [341], [342], [343], [344], [345], '\n",
      " '[347], [348], [349], [350], [351], [352], [354], [356], [357], [358], [362], '\n",
      " '[363], [364], [365], [367], [368], [369], [370], [372], [373], [374], [378], '\n",
      " '[379], [380], [381], [382], [387], [388], [390], [391], [392], [397], [399], '\n",
      " '[400], [402], [404], [406], [410], [411], [413], [414], [415]]')\n"
     ]
    },
    {
     "data": {
      "application/vnd.plotly.v1+json": {
       "config": {
        "plotlyServerURL": "https://plot.ly"
       },
       "data": [
        {
         "legendgroup": "gt",
         "marker": {
          "color": "#1f77b4",
          "size": 6
         },
         "mode": "markers",
         "name": "GT Group 0",
         "showlegend": false,
         "type": "scatter",
         "x": {
          "bdata": "6Pjqwd3f1UGjHwjCr+0GwhLZH79+2chB4b5DwA==",
          "dtype": "f4"
         },
         "xaxis": "x",
         "y": {
          "bdata": "BdlEwmFehED7mFbCcl+HQX6MlUE+K3dA5L56wQ==",
          "dtype": "f4"
         },
         "yaxis": "y"
        },
        {
         "legendgroup": "gt",
         "marker": {
          "color": "#1f77b4",
          "size": 6
         },
         "mode": "markers",
         "name": "GT Group 1",
         "showlegend": false,
         "type": "scatter",
         "x": {
          "bdata": "c/UAwhx/bMKTWmjC5zbQwTlIHMIxg//By3dNwp7mAMJM+LZBCng5wQ==",
          "dtype": "f4"
         },
         "xaxis": "x",
         "y": {
          "bdata": "+60xws8TKcBjq5HA1zPlwYwBe8HRLTjCrp0CwjpzOsIkeNDBBkmxwQ==",
          "dtype": "f4"
         },
         "yaxis": "y"
        },
        {
         "legendgroup": "gt",
         "marker": {
          "color": "#1f77b4",
          "size": 6
         },
         "mode": "markers",
         "name": "GT Group 2",
         "showlegend": false,
         "type": "scatter",
         "x": {
          "bdata": "teq3QdOuwUGLaKpBOhfPQWC1rkGvz5lBwFzJwS05m0E=",
          "dtype": "f4"
         },
         "xaxis": "x",
         "y": {
          "bdata": "uEBzwXIHmcHelljBgkGUwZJkdsHgv4TBsZlLwup0psE=",
          "dtype": "f4"
         },
         "yaxis": "y"
        },
        {
         "legendgroup": "gt",
         "marker": {
          "color": "#aec7e8",
          "size": 6
         },
         "mode": "markers",
         "name": "GT Group 3",
         "showlegend": false,
         "type": "scatter",
         "x": {
          "bdata": "ZXV/wrbfUUGVqUzCug7ivxrdo0FJF+5B7kncQQ==",
          "dtype": "f4"
         },
         "xaxis": "x",
         "y": {
          "bdata": "62CVwRhED8IpW+pAqqZWQXTLhsHoWURBYHpGwg==",
          "dtype": "f4"
         },
         "yaxis": "y"
        },
        {
         "legendgroup": "gt",
         "marker": {
          "color": "#aec7e8",
          "size": 6
         },
         "mode": "markers",
         "name": "GT Group 4",
         "showlegend": false,
         "type": "scatter",
         "x": {
          "bdata": "Z0aAwn43CsLcMAHCq5b5wbLbBMLI2/9BaqnMwQ==",
          "dtype": "f4"
         },
         "xaxis": "x",
         "y": {
          "bdata": "w26SwY55WMK7skrClENJwlnpScL010NCvtZFwg==",
          "dtype": "f4"
         },
         "yaxis": "y"
        },
        {
         "legendgroup": "gt",
         "marker": {
          "color": "#ff7f0e",
          "size": 6
         },
         "mode": "markers",
         "name": "GT Group 5",
         "showlegend": false,
         "type": "scatter",
         "x": {
          "bdata": "cMg5QSMdXUI=",
          "dtype": "f4"
         },
         "xaxis": "x",
         "y": {
          "bdata": "wcUDwgwMPcE=",
          "dtype": "f4"
         },
         "yaxis": "y"
        },
        {
         "legendgroup": "gt",
         "marker": {
          "color": "#ff7f0e",
          "size": 6
         },
         "mode": "markers",
         "name": "GT Group 6",
         "showlegend": false,
         "type": "scatter",
         "x": {
          "bdata": "xbOUwdgz7kA=",
          "dtype": "f4"
         },
         "xaxis": "x",
         "y": {
          "bdata": "xgsVwdBgZEI=",
          "dtype": "f4"
         },
         "yaxis": "y"
        },
        {
         "legendgroup": "gt",
         "marker": {
          "color": "#ff7f0e",
          "size": 6
         },
         "mode": "markers",
         "name": "GT Group 7",
         "showlegend": false,
         "type": "scatter",
         "x": {
          "bdata": "VmnmQSjI00G0bF3CUuZSwbQ/TEDZy1FB808UQlTCDUJhXD1CPmm6Qdk4hsE=",
          "dtype": "f4"
         },
         "xaxis": "x",
         "y": {
          "bdata": "+TEuwkLTwMFRk1BB4UCTwa7p1MGT7qBB35cLwu8uaT87+LfAbW2rwXDFmcE=",
          "dtype": "f4"
         },
         "yaxis": "y"
        },
        {
         "legendgroup": "gt",
         "marker": {
          "color": "#ffbb78",
          "size": 6
         },
         "mode": "markers",
         "name": "GT Group 8",
         "showlegend": false,
         "type": "scatter",
         "x": {
          "bdata": "kM0lwVwwIMH1kPdB++4/Qn+/OEE=",
          "dtype": "f4"
         },
         "xaxis": "x",
         "y": {
          "bdata": "ig8WwosgE8J9oWbCNWEJwv14cMI=",
          "dtype": "f4"
         },
         "yaxis": "y"
        },
        {
         "legendgroup": "gt",
         "marker": {
          "color": "#ffbb78",
          "size": 6
         },
         "mode": "markers",
         "name": "GT Group 9",
         "showlegend": false,
         "type": "scatter",
         "x": {
          "bdata": "tdNBQhUY+kHuQWnA",
          "dtype": "f4"
         },
         "xaxis": "x",
         "y": {
          "bdata": "3TH/wUpd9MGVqFxB",
          "dtype": "f4"
         },
         "yaxis": "y"
        },
        {
         "legendgroup": "gt",
         "marker": {
          "color": "#2ca02c",
          "size": 6
         },
         "mode": "markers",
         "name": "GT Group 10",
         "showlegend": false,
         "type": "scatter",
         "x": {
          "bdata": "unnWQbSinELuqZ9C",
          "dtype": "f4"
         },
         "xaxis": "x",
         "y": {
          "bdata": "7/wywkSv1EAflLZA",
          "dtype": "f4"
         },
         "yaxis": "y"
        },
        {
         "legendgroup": "gt",
         "marker": {
          "color": "#2ca02c",
          "size": 6
         },
         "mode": "markers",
         "name": "GT Group 11",
         "showlegend": false,
         "type": "scatter",
         "x": {
          "bdata": "gyZlwqkPCULYvYRCdjVawg==",
          "dtype": "f4"
         },
         "xaxis": "x",
         "y": {
          "bdata": "YcZsQXONDUAfHEA/jLtbQQ==",
          "dtype": "f4"
         },
         "yaxis": "y"
        },
        {
         "legendgroup": "gt",
         "marker": {
          "color": "#98df8a",
          "size": 6
         },
         "mode": "markers",
         "name": "GT Group 12",
         "showlegend": false,
         "type": "scatter",
         "x": {
          "bdata": "t1EFwbIGLkJkOZDBRFa+watPUcLlENVB",
          "dtype": "f4"
         },
         "xaxis": "x",
         "y": {
          "bdata": "l49rQLzD3MC/xVxCA7RHQmR0CEGqAiXC",
          "dtype": "f4"
         },
         "yaxis": "y"
        },
        {
         "legendgroup": "gt",
         "marker": {
          "color": "#98df8a",
          "size": 6
         },
         "mode": "markers",
         "name": "GT Group 13",
         "showlegend": false,
         "type": "scatter",
         "x": {
          "bdata": "wArvQZ0TlUIb05RCrBm1vlFNkULPsRdCptTAwYdccUJlUMVBFhsuQuSHSEI2L21B",
          "dtype": "f4"
         },
         "xaxis": "x",
         "y": {
          "bdata": "z0AsQqDQ9kAlJAdB8eYcwjyJ00ADBIDBBNpMQs3ZJL49bTLC5aWaQBMabEHxX5lB",
          "dtype": "f4"
         },
         "yaxis": "y"
        },
        {
         "legendgroup": "gt",
         "marker": {
          "color": "#98df8a",
          "size": 6
         },
         "mode": "markers",
         "name": "GT Group 14",
         "showlegend": false,
         "type": "scatter",
         "x": {
          "bdata": "XtFCQdN52kFtZLtBjEIpQVBZmcGDaxlC",
          "dtype": "f4"
         },
         "xaxis": "x",
         "y": {
          "bdata": "F2taQmJS8UH32/5BmZRdQihkwkFoaHvB",
          "dtype": "f4"
         },
         "yaxis": "y"
        },
        {
         "legendgroup": "gt",
         "marker": {
          "color": "#d62728",
          "size": 6
         },
         "mode": "markers",
         "name": "GT Group 15",
         "showlegend": false,
         "type": "scatter",
         "x": {
          "bdata": "oaX7wMn2kT9+ugBCFVbVQRR/p0Ap2K7Ba+DCwA==",
          "dtype": "f4"
         },
         "xaxis": "x",
         "y": {
          "bdata": "dN2WQqQsUkLVMddB9d34QQvDYUJz7F3AXtQxQQ==",
          "dtype": "f4"
         },
         "yaxis": "y"
        },
        {
         "legendgroup": "gt",
         "marker": {
          "color": "#d62728",
          "size": 6
         },
         "mode": "markers",
         "name": "GT Group 16",
         "showlegend": false,
         "type": "scatter",
         "x": {
          "bdata": "o8rmwJVXE0H2uOTAb9K3wS8g4sF4KO7A",
          "dtype": "f4"
         },
         "xaxis": "x",
         "y": {
          "bdata": "9CibQrhXVEHNQpdCr4gowDJUaUG4OABB",
          "dtype": "f4"
         },
         "yaxis": "y"
        },
        {
         "legendgroup": "gt",
         "marker": {
          "color": "#ff9896",
          "size": 6
         },
         "mode": "markers",
         "name": "GT Group 17",
         "showlegend": false,
         "type": "scatter",
         "x": {
          "bdata": "g2j0QGahkcGfl8VBExqowYEnSL9jBdxB3nVYQXGJF0E=",
          "dtype": "f4"
         },
         "xaxis": "x",
         "y": {
          "bdata": "3n9qQugAIcEvVQ/CN+y/QS0PTkKLETFCMbjlvYPWbEE=",
          "dtype": "f4"
         },
         "yaxis": "y"
        },
        {
         "legendgroup": "gt",
         "marker": {
          "color": "#ff9896",
          "size": 6
         },
         "mode": "markers",
         "name": "GT Group 18",
         "showlegend": false,
         "type": "scatter",
         "x": {
          "bdata": "qiQBQjStlEAy0J5A2d+cwbfG4z7c3aXBruIqwQ==",
          "dtype": "f4"
         },
         "xaxis": "x",
         "y": {
          "bdata": "T9oBPylt9UFVYV5CTeXywFja3UEkpKXARE9rQQ==",
          "dtype": "f4"
         },
         "yaxis": "y"
        },
        {
         "legendgroup": "gt",
         "marker": {
          "color": "#ff9896",
          "size": 6
         },
         "mode": "markers",
         "name": "GT Group 19",
         "showlegend": false,
         "type": "scatter",
         "x": {
          "bdata": "RE9zQJt/LcIvZ8lB981lQQIL2j8=",
          "dtype": "f4"
         },
         "xaxis": "x",
         "y": {
          "bdata": "KOYcwtUie8DF2/tBE2q6QYNeU0I=",
          "dtype": "f4"
         },
         "yaxis": "y"
        },
        {
         "legendgroup": "gt",
         "marker": {
          "color": "#9467bd",
          "size": 6
         },
         "mode": "markers",
         "name": "GT Group 20",
         "showlegend": false,
         "type": "scatter",
         "x": {
          "bdata": "nMISQQ==",
          "dtype": "f4"
         },
         "xaxis": "x",
         "y": {
          "bdata": "gPZfQg==",
          "dtype": "f4"
         },
         "yaxis": "y"
        },
        {
         "legendgroup": "gt",
         "marker": {
          "color": "#9467bd",
          "size": 6
         },
         "mode": "markers",
         "name": "GT Group 21",
         "showlegend": false,
         "type": "scatter",
         "x": {
          "bdata": "lfU5QcSv1cA=",
          "dtype": "f4"
         },
         "xaxis": "x",
         "y": {
          "bdata": "LrW9QfDuecE=",
          "dtype": "f4"
         },
         "yaxis": "y"
        },
        {
         "legendgroup": "gt",
         "marker": {
          "color": "#c5b0d5",
          "size": 6
         },
         "mode": "markers",
         "name": "GT Group 22",
         "showlegend": false,
         "type": "scatter",
         "x": {
          "bdata": "IiNKQl1XuUFHcURCVKDgQQ==",
          "dtype": "f4"
         },
         "xaxis": "x",
         "y": {
          "bdata": "RmkKwkNaMcLvhhPCinI/wg==",
          "dtype": "f4"
         },
         "yaxis": "y"
        },
        {
         "legendgroup": "gt",
         "marker": {
          "color": "#c5b0d5",
          "size": 6
         },
         "mode": "markers",
         "name": "GT Group 23",
         "showlegend": false,
         "type": "scatter",
         "x": {
          "bdata": "VvOrwYBj7sHMeC3CWSlSv9RTFcEkCnxCnmYAQjEZdkF9/83BrbGQQBAHXkIJ29XBC+d3Qn3uZkLP+qPBk9zkQRPIyUERI6/B4k7YQQ==",
          "dtype": "f4"
         },
         "xaxis": "x",
         "y": {
          "bdata": "kUGAQu/qfkFXTQVCs4fkQbaMlELKvKNAZnhGQq7JE8KjCpZBHYv8QZKnB0GIseDB+pAwQP5wLMGS7cNBeN7lQVsov0EncYFCF08swg==",
          "dtype": "f4"
         },
         "yaxis": "y"
        },
        {
         "legendgroup": "gt",
         "marker": {
          "color": "#8c564b",
          "size": 6
         },
         "mode": "markers",
         "name": "GT Group 24",
         "showlegend": false,
         "type": "scatter",
         "x": {
          "bdata": "JVVZQcGHTsEptdXB927AwfnPmUK7Z4ZCla47wsM2QEHBOSfCj2gQwfaEJkE6zX7B",
          "dtype": "f4"
         },
         "xaxis": "x",
         "y": {
          "bdata": "y5gBwnTh6EDFszFCe1ZCQnNoukB9xrNAIMpgQnXoucFM1CVCs+B9P6hmN8I1lCZC",
          "dtype": "f4"
         },
         "yaxis": "y"
        },
        {
         "legendgroup": "gt",
         "marker": {
          "color": "#8c564b",
          "size": 6
         },
         "mode": "markers",
         "name": "GT Group 25",
         "showlegend": false,
         "type": "scatter",
         "x": {
          "bdata": "W2gqQoDPM0LzVoNCpUUHQkSjgkKvO5bBIfEywUeFNkIGVzJCbpSRQQJImkJqJC1C",
          "dtype": "f4"
         },
         "xaxis": "x",
         "y": {
          "bdata": "oxLGQOsk7T+YxQpAwTU0QlFuhUDw1zFC4MJ3wffnp8DrEanAgHWSP3K2GUFGZnLA",
          "dtype": "f4"
         },
         "yaxis": "y"
        },
        {
         "legendgroup": "gt",
         "marker": {
          "color": "#8c564b",
          "size": 6
         },
         "mode": "markers",
         "name": "GT Group 26",
         "showlegend": false,
         "type": "scatter",
         "x": {
          "bdata": "bXk1waqPksGw5gdAaPiOwR0MAELDmflB5c67wCVsN0JqrH9C0n4wQpqcN0I=",
          "dtype": "f4"
         },
         "xaxis": "x",
         "y": {
          "bdata": "WkMmQB8wVUKWoofBJhhjQsvNLUJ2czBCGrp3wfYceUGVNYhAY1pwQJ2Vj0A=",
          "dtype": "f4"
         },
         "yaxis": "y"
        },
        {
         "legendgroup": "gt",
         "marker": {
          "color": "#c49c94",
          "size": 6
         },
         "mode": "markers",
         "name": "GT Group 27",
         "showlegend": false,
         "type": "scatter",
         "x": {
          "bdata": "Z7sTQctnPsK2ek7BX49UwDbWb0JQTzZCe0xgQm7DScE=",
          "dtype": "f4"
         },
         "xaxis": "x",
         "y": {
          "bdata": "lVnxQS2TYEKVujfCoyniwfHvZb/FIyM/1IwxwcqVJ0E=",
          "dtype": "f4"
         },
         "yaxis": "y"
        },
        {
         "legendgroup": "gt",
         "marker": {
          "color": "#c49c94",
          "size": 6
         },
         "mode": "markers",
         "name": "GT Group 28",
         "showlegend": false,
         "type": "scatter",
         "x": {
          "bdata": "pGxEwpkOkMJiqcDBBFdYQT8vO8JgxbbBjqRpQrvq1cC79Pe/PHNsQSMmMEGVdgFCgjoAQZVHNkKOTDLCbIKqQMDYUsE=",
          "dtype": "f4"
         },
         "xaxis": "x",
         "y": {
          "bdata": "MW5hQj28PMHIcLNBbL5OQaCaQ0K6hLRB4e4sQSuSu0EHyp9B5ngRwhkfekEHTv7B3JUrwg3wGsL6lI9But4xwlpAVUE=",
          "dtype": "f4"
         },
         "yaxis": "y"
        },
        {
         "legendgroup": "gt",
         "marker": {
          "color": "#e377c2",
          "size": 6
         },
         "mode": "markers",
         "name": "GT Group 29",
         "showlegend": false,
         "type": "scatter",
         "x": {
          "bdata": "PP0zQXpgx0HAH5nBBLPvwZNMRkKx0UrCTzY/weX/+j7ZbhtC9RAjwRG2XUK0TgNCjpVYQs5CDUKm+UbBY6ivwAn1xME=",
          "dtype": "f4"
         },
         "xaxis": "x",
         "y": {
          "bdata": "j3MYwkQkFsLnzHVCzMCIQQtmZUHRS9hAnSMQQb/ux0FG2hvC0j+BQTy4s8BLRtRBZRXVwIUedkCheWRBWecTQUbVQMI=",
          "dtype": "f4"
         },
         "yaxis": "y"
        },
        {
         "legendgroup": "gt",
         "marker": {
          "color": "#e377c2",
          "size": 6
         },
         "mode": "markers",
         "name": "GT Group 30",
         "showlegend": false,
         "type": "scatter",
         "x": {
          "bdata": "hbNUwgtZS8LG61LC4/VLwg==",
          "dtype": "f4"
         },
         "xaxis": "x",
         "y": {
          "bdata": "Y4b1wdUR0sEVk/rBpv3VwQ==",
          "dtype": "f4"
         },
         "yaxis": "y"
        },
        {
         "legendgroup": "gt",
         "marker": {
          "color": "#e377c2",
          "size": 6
         },
         "mode": "markers",
         "name": "GT Group 31",
         "showlegend": false,
         "type": "scatter",
         "x": {
          "bdata": "sehywhrxacIDVWzCuLtZwnVyTsI=",
          "dtype": "f4"
         },
         "xaxis": "x",
         "y": {
          "bdata": "VNQnwQrGGMH5bxfBRC4DwoXn8sE=",
          "dtype": "f4"
         },
         "yaxis": "y"
        },
        {
         "legendgroup": "gt",
         "marker": {
          "color": "#f7b6d2",
          "size": 6
         },
         "mode": "markers",
         "name": "GT Group 32",
         "showlegend": false,
         "type": "scatter",
         "x": {
          "bdata": "vGDbwe6GisKlaovCbqpYwQuajcL9UTvCalmMwg/SmcEPFIjCvN9pwocthcIgbmnC98YCQqIW1cF9wNTBA4KnQQ==",
          "dtype": "f4"
         },
         "xaxis": "x",
         "y": {
          "bdata": "4ccTQuJ4MMEidlbBhTiEwSd+acHEsoJBStJIwf0mesHs9V7BIttywE5CcMHUc9jA7JQ5QGhCIj+WG1C/Mn5Kwg==",
          "dtype": "f4"
         },
         "yaxis": "y"
        },
        {
         "legendgroup": "gt",
         "marker": {
          "color": "#f7b6d2",
          "size": 6
         },
         "mode": "markers",
         "name": "GT Group 33",
         "showlegend": false,
         "type": "scatter",
         "x": {
          "bdata": "IPllQSHfnUG7TTVC5KMqQvzhN0KyEfjBpRWjQQ==",
          "dtype": "f4"
         },
         "xaxis": "x",
         "y": {
          "bdata": "ElI/QZidt8EWaQTC5GATQHiaFMLr1yVC2TqywQ==",
          "dtype": "f4"
         },
         "yaxis": "y"
        },
        {
         "legendgroup": "gt",
         "marker": {
          "color": "#7f7f7f",
          "size": 6
         },
         "mode": "markers",
         "name": "GT Group 34",
         "showlegend": false,
         "type": "scatter",
         "x": {
          "bdata": "lkVfwcHb9MGDC2xBZs9rQt3cgUL/KYvBzZPlwfbZ5sFR1INBDUp3QeD8AsJKviNCmuFcQlS140HM4ObBWw2IQRxuZMGB5SXC",
          "dtype": "f4"
         },
         "xaxis": "x",
         "y": {
          "bdata": "R4zLQBcvX0F0xKw++sIrQaCM6UB+7idCqFcWQrJgg0HFtJNBfeJiPyX0hEEwvPA/NH4AQS44OcLFJihCsxxOPwwcScLy1ytC",
          "dtype": "f4"
         },
         "yaxis": "y"
        },
        {
         "legendgroup": "gt",
         "marker": {
          "color": "#7f7f7f",
          "size": 6
         },
         "mode": "markers",
         "name": "GT Group 35",
         "showlegend": false,
         "type": "scatter",
         "x": {
          "bdata": "2BWCQdmDJsJ53BE/F+/swXVffkB6yIZAB4MnwgF0C8KVOivCmhKDwEpo6MA=",
          "dtype": "f4"
         },
         "xaxis": "x",
         "y": {
          "bdata": "7jRJwALfLkKLhY9BMJwyQkkvVkDpL21Afs8UQiebJEKMMgtCbRNwQU7VxkE=",
          "dtype": "f4"
         },
         "yaxis": "y"
        },
        {
         "legendgroup": "gt",
         "marker": {
          "color": "#c7c7c7",
          "size": 6
         },
         "mode": "markers",
         "name": "GT Group 36",
         "showlegend": false,
         "type": "scatter",
         "x": {
          "bdata": "qoQVwmh9GUG3JQu/Qu8WwluFGsIGF+RBfy1PQm/Pg0E=",
          "dtype": "f4"
         },
         "xaxis": "x",
         "y": {
          "bdata": "rHdDwUGGLcI6KgHCof9LwV8nYsEB6CdCR1dfQUS17sE=",
          "dtype": "f4"
         },
         "yaxis": "y"
        },
        {
         "legendgroup": "gt",
         "marker": {
          "color": "#c7c7c7",
          "size": 6
         },
         "mode": "markers",
         "name": "GT Group 37",
         "showlegend": false,
         "type": "scatter",
         "x": {
          "bdata": "lWicQonMx0GwlhxC+guhQnnkYsLGlyjCuGQuQQ0e38DySxXBt2HgQQ==",
          "dtype": "f4"
         },
         "xaxis": "x",
         "y": {
          "bdata": "s6UFQZDOu0E0BQLCWouoQMDBZEGB5BFCL6w8wv9TIEHFRw7CkgmBQA==",
          "dtype": "f4"
         },
         "yaxis": "y"
        },
        {
         "legendgroup": "gt",
         "marker": {
          "color": "#c7c7c7",
          "size": 6
         },
         "mode": "markers",
         "name": "GT Group 38",
         "showlegend": false,
         "type": "scatter",
         "x": {
          "bdata": "ZXo1woLGJkEt/UJCICvfQSJDnsFcipHBhM/uwcYuVEFM0fZA",
          "dtype": "f4"
         },
         "xaxis": "x",
         "y": {
          "bdata": "VvhhQgKb9EGjR90/tmcDQn/Vd0LlclJC8WkSQmGnDkJ153hB",
          "dtype": "f4"
         },
         "yaxis": "y"
        },
        {
         "legendgroup": "gt",
         "marker": {
          "color": "#bcbd22",
          "size": 6
         },
         "mode": "markers",
         "name": "GT Group 39",
         "showlegend": false,
         "type": "scatter",
         "x": {
          "bdata": "ff0UQC07xz8AzzTCBjimwQqxpsFrld7BOCY/wZQmW8LUwzrCt0v0QWKHM0IqwjnB9YfNwGIKaEH9wRpAar1VQlm790HBFshBhG9BQU//lj789LhBMmv6QVyyGcJX27nAk5zHwRBGBMA=",
          "dtype": "f4"
         },
         "xaxis": "x",
         "y": {
          "bdata": "tSMDQqjTBEJ+CYxBmW7dQR5W5EHCg+S/r8aOwb4WL0Gr8EVCTIAhQtTZgkGDNabByw+bQsz/XEA7kdfBo2PawHpbOUJDZxnCwT+qQT2qwkH42sTBZ9liv73H+cGt6j9BgB/Rv2VaqkE=",
          "dtype": "f4"
         },
         "yaxis": "y"
        },
        {
         "legendgroup": "gt",
         "marker": {
          "color": "#bcbd22",
          "size": 6
         },
         "mode": "markers",
         "name": "GT Group 40",
         "showlegend": false,
         "type": "scatter",
         "x": {
          "bdata": "ILSTwWzRQ8Ir7BfCpK09wjRN8kGi3EvCJKqkwZfmHcIlbclBhsi9wMgHO8KeMznCfCzlQQ==",
          "dtype": "f4"
         },
         "xaxis": "x",
         "y": {
          "bdata": "MGmiwYqKh76LH/7BzoxZvm2tOcKz1om/BsWCwRBZ8cFxrsDBafrxwZTg0740Sp4/pupCQQ==",
          "dtype": "f4"
         },
         "yaxis": "y"
        },
        {
         "legendgroup": "gt",
         "marker": {
          "color": "#dbdb8d",
          "size": 6
         },
         "mode": "markers",
         "name": "GT Group 41",
         "showlegend": false,
         "type": "scatter",
         "x": {
          "bdata": "2xvQwPtgnsAQ8RbCsMhZwczTXMHWU+BB",
          "dtype": "f4"
         },
         "xaxis": "x",
         "y": {
          "bdata": "ZLADwsT9+cGc+CNCpXU+wjngQcLKAkVB",
          "dtype": "f4"
         },
         "yaxis": "y"
        },
        {
         "legendgroup": "gt",
         "marker": {
          "color": "#dbdb8d",
          "size": 6
         },
         "mode": "markers",
         "name": "GT Group 42",
         "showlegend": false,
         "type": "scatter",
         "x": {
          "bdata": "X63XwMdzkUDsmBrBm6Yowo8q4sHZ/aTBm/WTQe/LJUIRBrBB9RmfwehZLMI=",
          "dtype": "f4"
         },
         "xaxis": "x",
         "y": {
          "bdata": "bgS2QXV/ZUKMJ0pAsgSswBcUKEJmASRC7VDAwQz3HcLDxUbCusQrQlvlIkI=",
          "dtype": "f4"
         },
         "yaxis": "y"
        },
        {
         "legendgroup": "gt",
         "marker": {
          "color": "#dbdb8d",
          "size": 6
         },
         "mode": "markers",
         "name": "GT Group 43",
         "showlegend": false,
         "type": "scatter",
         "x": {
          "bdata": "4yNEQt8FSUJ5ZgzAy+oowDhJS0GVApJAX7Aovw==",
          "dtype": "f4"
         },
         "xaxis": "x",
         "y": {
          "bdata": "jvTzwZ4ehEGCu1vCu/tdwqKZr0HRkzbC/iyewQ==",
          "dtype": "f4"
         },
         "yaxis": "y"
        },
        {
         "legendgroup": "gt",
         "marker": {
          "color": "#17becf",
          "size": 6
         },
         "mode": "markers",
         "name": "GT Group 44",
         "showlegend": false,
         "type": "scatter",
         "x": {
          "bdata": "z15NQWktjj/slcC+PogYQqHuG8Bcl0BC8OeLP3WNnb8OX8pBMo/Cv17kGT04M+pA7bzzQXmpVD+StDFBMsrPQL7kEkIivZDBtI87Qg==",
          "dtype": "f4"
         },
         "xaxis": "x",
         "y": {
          "bdata": "Y3u7wYPvisHdlSnCUbMHwvB8AcJGAw3CQwXbwSfs1MHjkT7CgFRYwu/djsFtzyTCmYhmwtTOIMK/X2/CjsQrwtE6FcIfb43Bwp0Hwg==",
          "dtype": "f4"
         },
         "yaxis": "y"
        },
        {
         "legendgroup": "gt",
         "marker": {
          "color": "#17becf",
          "size": 6
         },
         "mode": "markers",
         "name": "GT Group 45",
         "showlegend": false,
         "type": "scatter",
         "x": {
          "bdata": "eSEBQoS/wMEaUCNAQ4awvxsAHUHrlwtCxl8TQg==",
          "dtype": "f4"
         },
         "xaxis": "x",
         "y": {
          "bdata": "BA4jwqjf8cEWCSDCEj2FwfudbMLFVgfCyW0Qwg==",
          "dtype": "f4"
         },
         "yaxis": "y"
        },
        {
         "legendgroup": "gt",
         "marker": {
          "color": "#9edae5",
          "size": 6
         },
         "mode": "markers",
         "name": "GT Group 46",
         "showlegend": false,
         "type": "scatter",
         "x": {
          "bdata": "BMbJwfas38GU8g7Cv2OlweIJJ8E=",
          "dtype": "f4"
         },
         "xaxis": "x",
         "y": {
          "bdata": "TXbqwcAhL0LtUyRCChktQnewkME=",
          "dtype": "f4"
         },
         "yaxis": "y"
        },
        {
         "legendgroup": "gt",
         "marker": {
          "color": "#9edae5",
          "size": 6
         },
         "mode": "markers",
         "name": "GT Group 47",
         "showlegend": false,
         "type": "scatter",
         "x": {
          "bdata": "f78mwsbVVUE=",
          "dtype": "f4"
         },
         "xaxis": "x",
         "y": {
          "bdata": "9pG/wIYDCsI=",
          "dtype": "f4"
         },
         "yaxis": "y"
        },
        {
         "legendgroup": "gt",
         "marker": {
          "color": "#9edae5",
          "size": 6
         },
         "mode": "markers",
         "name": "GT Group 48",
         "showlegend": false,
         "type": "scatter",
         "x": {
          "bdata": "LU3ZQFPyUkHNDb1A",
          "dtype": "f4"
         },
         "xaxis": "x",
         "y": {
          "bdata": "KV4KQv6KEEJhIQVC",
          "dtype": "f4"
         },
         "yaxis": "y"
        },
        {
         "legendgroup": "pred",
         "marker": {
          "color": "#1f77b4",
          "size": 6
         },
         "mode": "markers",
         "name": "Pred Group 0",
         "showlegend": false,
         "type": "scatter",
         "x": {
          "bdata": "pRWjQSHfnUH89LhBPmm6QRrdo0E=",
          "dtype": "f4"
         },
         "xaxis": "x2",
         "y": {
          "bdata": "2TqywZidt8H42sTBbW2rwXTLhsE=",
          "dtype": "f4"
         },
         "yaxis": "y2"
        },
        {
         "legendgroup": "pred",
         "marker": {
          "color": "#1f77b4",
          "size": 6
         },
         "mode": "markers",
         "name": "Pred Group 1",
         "showlegend": false,
         "type": "scatter",
         "x": {
          "bdata": "2ctRQThJS0GEb0FBKdiuwQ==",
          "dtype": "f4"
         },
         "xaxis": "x2",
         "y": {
          "bdata": "k+6gQaKZr0HBP6pBc+xdwA==",
          "dtype": "f4"
         },
         "yaxis": "y2"
        },
        {
         "legendgroup": "pred",
         "marker": {
          "color": "#1f77b4",
          "size": 6
         },
         "mode": "markers",
         "name": "Pred Group 2",
         "showlegend": false,
         "type": "scatter",
         "x": {
          "bdata": "808UQsZfE0I+iBhCvuQSQg==",
          "dtype": "f4"
         },
         "xaxis": "x2",
         "y": {
          "bdata": "35cLwsltEMJRswfC0ToVwg==",
          "dtype": "f4"
         },
         "yaxis": "y2"
        },
        {
         "legendgroup": "pred",
         "marker": {
          "color": "#1f77b4",
          "size": 6
         },
         "mode": "markers",
         "name": "Pred Group 3",
         "showlegend": false,
         "type": "scatter",
         "x": {
          "bdata": "unnWQVS140HiTthBZVDFQQ==",
          "dtype": "f4"
         },
         "xaxis": "x2",
         "y": {
          "bdata": "7/wywi44OcIXTyzCPW0ywg==",
          "dtype": "f4"
         },
         "yaxis": "y2"
        },
        {
         "legendgroup": "pred",
         "marker": {
          "color": "#1f77b4",
          "size": 6
         },
         "mode": "markers",
         "name": "Pred Group 4",
         "showlegend": false,
         "type": "scatter",
         "x": {
          "bdata": "0n4wQhYbLkKAzzNC5KMqQg==",
          "dtype": "f4"
         },
         "xaxis": "x2",
         "y": {
          "bdata": "Y1pwQOWlmkDrJO0/5GATQA==",
          "dtype": "f4"
         },
         "yaxis": "y2"
        },
        {
         "legendgroup": "pred",
         "marker": {
          "color": "#1f77b4",
          "size": 6
         },
         "mode": "markers",
         "name": "Pred Group 5",
         "showlegend": false,
         "type": "scatter",
         "x": {
          "bdata": "zODmwY8q4sH1GZ/B9qzfwQ==",
          "dtype": "f4"
         },
         "xaxis": "x2",
         "y": {
          "bdata": "xSYoQhcUKEK6xCtCwCEvQg==",
          "dtype": "f4"
         },
         "yaxis": "y2"
        },
        {
         "legendgroup": "pred",
         "marker": {
          "color": "#1f77b4",
          "size": 6
         },
         "mode": "markers",
         "name": "Pred Group 6",
         "showlegend": false,
         "type": "scatter",
         "x": {
          "bdata": "GlAjQDLKz0Ch7hvAealUPw==",
          "dtype": "f4"
         },
         "xaxis": "x2",
         "y": {
          "bdata": "Fgkgwo7EK8LwfAHC1M4gwg==",
          "dtype": "f4"
         },
         "yaxis": "y2"
        },
        {
         "legendgroup": "pred",
         "marker": {
          "color": "#1f77b4",
          "size": 6
         },
         "mode": "markers",
         "name": "Pred Group 7",
         "showlegend": false,
         "type": "scatter",
         "x": {
          "bdata": "/cEaQLQ/TEDw54s/",
          "dtype": "f4"
         },
         "xaxis": "x2",
         "y": {
          "bdata": "O5HXwa7p1MFDBdvB",
          "dtype": "f4"
         },
         "yaxis": "y2"
        },
        {
         "legendgroup": "pred",
         "marker": {
          "color": "#1f77b4",
          "size": 6
         },
         "mode": "markers",
         "name": "Pred Group 8",
         "showlegend": false,
         "type": "scatter",
         "x": {
          "bdata": "tt9RQcbVVUE8c2xB",
          "dtype": "f4"
         },
         "xaxis": "x2",
         "y": {
          "bdata": "GEQPwoYDCsLmeBHC",
          "dtype": "f4"
         },
         "yaxis": "y2"
        },
        {
         "legendgroup": "pred",
         "marker": {
          "color": "#1f77b4",
          "size": 6
         },
         "mode": "markers",
         "name": "Pred Group 9",
         "showlegend": false,
         "type": "scatter",
         "x": {
          "bdata": "3DABwquW+cGy2wTC",
          "dtype": "f4"
         },
         "xaxis": "x2",
         "y": {
          "bdata": "u7JKwpRDScJZ6UnC",
          "dtype": "f4"
         },
         "yaxis": "y2"
        },
        {
         "legendgroup": "pred",
         "marker": {
          "color": "#1f77b4",
          "size": 6
         },
         "mode": "markers",
         "name": "Pred Group 10",
         "showlegend": false,
         "type": "scatter",
         "x": {
          "bdata": "++4/QrSPO0Jcl0BC",
          "dtype": "f4"
         },
         "xaxis": "x2",
         "y": {
          "bdata": "NWEJwsKdB8JGAw3C",
          "dtype": "f4"
         },
         "yaxis": "y2"
        },
        {
         "legendgroup": "pred",
         "marker": {
          "color": "#1f77b4",
          "size": 6
         },
         "mode": "markers",
         "name": "Pred Group 11",
         "showlegend": false,
         "type": "scatter",
         "x": {
          "bdata": "gwtsQQ1Kd0HedVhB",
          "dtype": "f4"
         },
         "xaxis": "x2",
         "y": {
          "bdata": "dMSsPn3iYj8xuOW9",
          "dtype": "f4"
         },
         "yaxis": "y2"
        },
        {
         "legendgroup": "pred",
         "marker": {
          "color": "#1f77b4",
          "size": 6
         },
         "mode": "markers",
         "name": "Pred Group 12",
         "showlegend": false,
         "type": "scatter",
         "x": {
          "bdata": "eWYMwMvqKMAyj8K/",
          "dtype": "f4"
         },
         "xaxis": "x2",
         "y": {
          "bdata": "grtbwrv7XcKAVFjC",
          "dtype": "f4"
         },
         "yaxis": "y2"
        },
        {
         "legendgroup": "pred",
         "marker": {
          "color": "#1f77b4",
          "size": 6
         },
         "mode": "markers",
         "name": "Pred Group 13",
         "showlegend": false,
         "type": "scatter",
         "x": {
          "bdata": "krQxQX+/OEEbAB1B",
          "dtype": "f4"
         },
         "xaxis": "x2",
         "y": {
          "bdata": "v19vwv14cML7nWzC",
          "dtype": "f4"
         },
         "yaxis": "y2"
        },
        {
         "legendgroup": "pred",
         "marker": {
          "color": "#1f77b4",
          "size": 6
         },
         "mode": "markers",
         "name": "Pred Group 14",
         "showlegend": false,
         "type": "scatter",
         "x": {
          "bdata": "ZXV/wmdGgMI=",
          "dtype": "f4"
         },
         "xaxis": "x2",
         "y": {
          "bdata": "62CVwcNuksE=",
          "dtype": "f4"
         },
         "yaxis": "y2"
        },
        {
         "legendgroup": "pred",
         "marker": {
          "color": "#1f77b4",
          "size": 6
         },
         "mode": "markers",
         "name": "Pred Group 15",
         "showlegend": false,
         "type": "scatter",
         "x": {
          "bdata": "FH+nQDLQnkA=",
          "dtype": "f4"
         },
         "xaxis": "x2",
         "y": {
          "bdata": "C8NhQlVhXkI=",
          "dtype": "f4"
         },
         "yaxis": "y2"
        },
        {
         "legendgroup": "pred",
         "marker": {
          "color": "#1f77b4",
          "size": 6
         },
         "mode": "markers",
         "name": "Pred Group 16",
         "showlegend": false,
         "type": "scatter",
         "x": {
          "bdata": "a+DCwFfbucA=",
          "dtype": "f4"
         },
         "xaxis": "x2",
         "y": {
          "bdata": "XtQxQa3qP0E=",
          "dtype": "f4"
         },
         "yaxis": "y2"
        },
        {
         "legendgroup": "pred",
         "marker": {
          "color": "#1f77b4",
          "size": 6
         },
         "mode": "markers",
         "name": "Pred Group 17",
         "showlegend": false,
         "type": "scatter",
         "x": {
          "bdata": "Exqowc/6o8E=",
          "dtype": "f4"
         },
         "xaxis": "x2",
         "y": {
          "bdata": "N+y/QZLtw0E=",
          "dtype": "f4"
         },
         "yaxis": "y2"
        },
        {
         "legendgroup": "pred",
         "marker": {
          "color": "#1f77b4",
          "size": 6
         },
         "mode": "markers",
         "name": "Pred Group 18",
         "showlegend": false,
         "type": "scatter",
         "x": {
          "bdata": "xK/VwOXOu8A=",
          "dtype": "f4"
         },
         "xaxis": "x2",
         "y": {
          "bdata": "8O55wRq6d8E=",
          "dtype": "f4"
         },
         "yaxis": "y2"
        },
        {
         "legendgroup": "pred",
         "marker": {
          "color": "#aec7e8",
          "size": 6
         },
         "mode": "markers",
         "name": "Pred Group 19",
         "showlegend": false,
         "type": "scatter",
         "x": {
          "bdata": "5f/6Pk//lj4=",
          "dtype": "f4"
         },
         "xaxis": "x2",
         "y": {
          "bdata": "v+7HQT2qwkE=",
          "dtype": "f4"
         },
         "yaxis": "y2"
        },
        {
         "legendgroup": "pred",
         "marker": {
          "color": "#aec7e8",
          "size": 6
         },
         "mode": "markers",
         "name": "Pred Group 20",
         "showlegend": false,
         "type": "scatter",
         "x": {
          "bdata": "hbNUwsbrUsI=",
          "dtype": "f4"
         },
         "xaxis": "x2",
         "y": {
          "bdata": "Y4b1wRWT+sE=",
          "dtype": "f4"
         },
         "yaxis": "y2"
        },
        {
         "legendgroup": "pred",
         "marker": {
          "color": "#aec7e8",
          "size": 6
         },
         "mode": "markers",
         "name": "Pred Group 21",
         "showlegend": false,
         "type": "scatter",
         "x": {
          "bdata": "B4MnwsaXKMI=",
          "dtype": "f4"
         },
         "xaxis": "x2",
         "y": {
          "bdata": "fs8UQoHkEUI=",
          "dtype": "f4"
         },
         "yaxis": "y2"
        },
        {
         "legendgroup": "pred",
         "marker": {
          "color": "#aec7e8",
          "size": 6
         },
         "mode": "markers",
         "name": "Pred Group 22",
         "showlegend": false,
         "type": "scatter",
         "x": {
          "bdata": "AXQLwpTyDsI=",
          "dtype": "f4"
         },
         "xaxis": "x2",
         "y": {
          "bdata": "J5skQu1TJEI=",
          "dtype": "f4"
         },
         "yaxis": "y2"
        },
        {
         "legendgroup": "pred",
         "marker": {
          "color": "#aec7e8",
          "size": 6
         },
         "mode": "markers",
         "name": "Pred Group 23",
         "showlegend": false,
         "type": "scatter",
         "x": {
          "bdata": "qoQVwkLvFsI=",
          "dtype": "f4"
         },
         "xaxis": "x2",
         "y": {
          "bdata": "rHdDwaH/S8E=",
          "dtype": "f4"
         },
         "yaxis": "y2"
        },
        {
         "legendgroup": "pred",
         "marker": {
          "color": "#aec7e8",
          "size": 6
         },
         "mode": "markers",
         "name": "Pred Group 24",
         "showlegend": false,
         "type": "scatter",
         "x": {
          "bdata": "pK09wsgHO8I=",
          "dtype": "f4"
         },
         "xaxis": "x2",
         "y": {
          "bdata": "zoxZvpTg074=",
          "dtype": "f4"
         },
         "yaxis": "y2"
        },
        {
         "legendgroup": "pred",
         "marker": {
          "color": "#aec7e8",
          "size": 6
         },
         "mode": "markers",
         "name": "Pred Group 25",
         "showlegend": false,
         "type": "scatter",
         "x": {
          "bdata": "fCzlQdZT4EE=",
          "dtype": "f4"
         },
         "xaxis": "x2",
         "y": {
          "bdata": "pupCQcoCRUE=",
          "dtype": "f4"
         },
         "yaxis": "y2"
        },
        {
         "legendgroup": "pred",
         "marker": {
          "color": "#aec7e8",
          "size": 6
         },
         "mode": "markers",
         "name": "Pred Group 26",
         "showlegend": false,
         "type": "scatter",
         "x": {
          "bdata": "sMhZwczTXME=",
          "dtype": "f4"
         },
         "xaxis": "x2",
         "y": {
          "bdata": "pXU+wjngQcI=",
          "dtype": "f4"
         },
         "yaxis": "y2"
        },
        {
         "legendgroup": "pred",
         "marker": {
          "color": "#aec7e8",
          "size": 6
         },
         "mode": "markers",
         "name": "Pred Group 27",
         "showlegend": false,
         "type": "scatter",
         "x": {
          "bdata": "MRl2QQ==",
          "dtype": "f4"
         },
         "xaxis": "x2",
         "y": {
          "bdata": "rskTwg==",
          "dtype": "f4"
         },
         "yaxis": "y2"
        },
        {
         "legendgroup": "pred",
         "marker": {
          "color": "#aec7e8",
          "size": 6
         },
         "mode": "markers",
         "name": "Pred Group 28",
         "showlegend": false,
         "type": "scatter",
         "x": {
          "bdata": "v2OlwQ==",
          "dtype": "f4"
         },
         "xaxis": "x2",
         "y": {
          "bdata": "ChktQg==",
          "dtype": "f4"
         },
         "yaxis": "y2"
        },
        {
         "legendgroup": "pred",
         "marker": {
          "color": "#aec7e8",
          "size": 6
         },
         "mode": "markers",
         "name": "Pred Group 29",
         "showlegend": false,
         "type": "scatter",
         "x": {
          "bdata": "gjoAQQ==",
          "dtype": "f4"
         },
         "xaxis": "x2",
         "y": {
          "bdata": "3JUrwg==",
          "dtype": "f4"
         },
         "yaxis": "y2"
        },
        {
         "legendgroup": "pred",
         "marker": {
          "color": "#aec7e8",
          "size": 6
         },
         "mode": "markers",
         "name": "Pred Group 30",
         "showlegend": false,
         "type": "scatter",
         "x": {
          "bdata": "6PjqwQ==",
          "dtype": "f4"
         },
         "xaxis": "x2",
         "y": {
          "bdata": "BdlEwg==",
          "dtype": "f4"
         },
         "yaxis": "y2"
        },
        {
         "legendgroup": "pred",
         "marker": {
          "color": "#aec7e8",
          "size": 6
         },
         "mode": "markers",
         "name": "Pred Group 31",
         "showlegend": false,
         "type": "scatter",
         "x": {
          "bdata": "3d/VQQ==",
          "dtype": "f4"
         },
         "xaxis": "x2",
         "y": {
          "bdata": "YV6EQA==",
          "dtype": "f4"
         },
         "yaxis": "y2"
        },
        {
         "legendgroup": "pred",
         "marker": {
          "color": "#aec7e8",
          "size": 6
         },
         "mode": "markers",
         "name": "Pred Group 32",
         "showlegend": false,
         "type": "scatter",
         "x": {
          "bdata": "ox8Iwg==",
          "dtype": "f4"
         },
         "xaxis": "x2",
         "y": {
          "bdata": "+5hWwg==",
          "dtype": "f4"
         },
         "yaxis": "y2"
        },
        {
         "legendgroup": "pred",
         "marker": {
          "color": "#aec7e8",
          "size": 6
         },
         "mode": "markers",
         "name": "Pred Group 33",
         "showlegend": false,
         "type": "scatter",
         "x": {
          "bdata": "r+0Gwg==",
          "dtype": "f4"
         },
         "xaxis": "x2",
         "y": {
          "bdata": "cl+HQQ==",
          "dtype": "f4"
         },
         "yaxis": "y2"
        },
        {
         "legendgroup": "pred",
         "marker": {
          "color": "#aec7e8",
          "size": 6
         },
         "mode": "markers",
         "name": "Pred Group 34",
         "showlegend": false,
         "type": "scatter",
         "x": {
          "bdata": "Etkfvw==",
          "dtype": "f4"
         },
         "xaxis": "x2",
         "y": {
          "bdata": "foyVQQ==",
          "dtype": "f4"
         },
         "yaxis": "y2"
        },
        {
         "legendgroup": "pred",
         "marker": {
          "color": "#aec7e8",
          "size": 6
         },
         "mode": "markers",
         "name": "Pred Group 35",
         "showlegend": false,
         "type": "scatter",
         "x": {
          "bdata": "ftnIQQ==",
          "dtype": "f4"
         },
         "xaxis": "x2",
         "y": {
          "bdata": "Pit3QA==",
          "dtype": "f4"
         },
         "yaxis": "y2"
        },
        {
         "legendgroup": "pred",
         "marker": {
          "color": "#aec7e8",
          "size": 6
         },
         "mode": "markers",
         "name": "Pred Group 36",
         "showlegend": false,
         "type": "scatter",
         "x": {
          "bdata": "4b5DwA==",
          "dtype": "f4"
         },
         "xaxis": "x2",
         "y": {
          "bdata": "5L56wQ==",
          "dtype": "f4"
         },
         "yaxis": "y2"
        },
        {
         "legendgroup": "pred",
         "marker": {
          "color": "#ff7f0e",
          "size": 6
         },
         "mode": "markers",
         "name": "Pred Group 37",
         "showlegend": false,
         "type": "scatter",
         "x": {
          "bdata": "c/UAwg==",
          "dtype": "f4"
         },
         "xaxis": "x2",
         "y": {
          "bdata": "+60xwg==",
          "dtype": "f4"
         },
         "yaxis": "y2"
        },
        {
         "legendgroup": "pred",
         "marker": {
          "color": "#ff7f0e",
          "size": 6
         },
         "mode": "markers",
         "name": "Pred Group 38",
         "showlegend": false,
         "type": "scatter",
         "x": {
          "bdata": "HH9swg==",
          "dtype": "f4"
         },
         "xaxis": "x2",
         "y": {
          "bdata": "zxMpwA==",
          "dtype": "f4"
         },
         "yaxis": "y2"
        },
        {
         "legendgroup": "pred",
         "marker": {
          "color": "#ff7f0e",
          "size": 6
         },
         "mode": "markers",
         "name": "Pred Group 39",
         "showlegend": false,
         "type": "scatter",
         "x": {
          "bdata": "k1powg==",
          "dtype": "f4"
         },
         "xaxis": "x2",
         "y": {
          "bdata": "Y6uRwA==",
          "dtype": "f4"
         },
         "yaxis": "y2"
        },
        {
         "legendgroup": "pred",
         "marker": {
          "color": "#ff7f0e",
          "size": 6
         },
         "mode": "markers",
         "name": "Pred Group 40",
         "showlegend": false,
         "type": "scatter",
         "x": {
          "bdata": "5zbQwQ==",
          "dtype": "f4"
         },
         "xaxis": "x2",
         "y": {
          "bdata": "1zPlwQ==",
          "dtype": "f4"
         },
         "yaxis": "y2"
        },
        {
         "legendgroup": "pred",
         "marker": {
          "color": "#ff7f0e",
          "size": 6
         },
         "mode": "markers",
         "name": "Pred Group 41",
         "showlegend": false,
         "type": "scatter",
         "x": {
          "bdata": "OUgcwg==",
          "dtype": "f4"
         },
         "xaxis": "x2",
         "y": {
          "bdata": "jAF7wQ==",
          "dtype": "f4"
         },
         "yaxis": "y2"
        },
        {
         "legendgroup": "pred",
         "marker": {
          "color": "#ff7f0e",
          "size": 6
         },
         "mode": "markers",
         "name": "Pred Group 42",
         "showlegend": false,
         "type": "scatter",
         "x": {
          "bdata": "MYP/wQ==",
          "dtype": "f4"
         },
         "xaxis": "x2",
         "y": {
          "bdata": "0S04wg==",
          "dtype": "f4"
         },
         "yaxis": "y2"
        },
        {
         "legendgroup": "pred",
         "marker": {
          "color": "#ff7f0e",
          "size": 6
         },
         "mode": "markers",
         "name": "Pred Group 43",
         "showlegend": false,
         "type": "scatter",
         "x": {
          "bdata": "y3dNwg==",
          "dtype": "f4"
         },
         "xaxis": "x2",
         "y": {
          "bdata": "rp0Cwg==",
          "dtype": "f4"
         },
         "yaxis": "y2"
        },
        {
         "legendgroup": "pred",
         "marker": {
          "color": "#ff7f0e",
          "size": 6
         },
         "mode": "markers",
         "name": "Pred Group 44",
         "showlegend": false,
         "type": "scatter",
         "x": {
          "bdata": "nuYAwg==",
          "dtype": "f4"
         },
         "xaxis": "x2",
         "y": {
          "bdata": "OnM6wg==",
          "dtype": "f4"
         },
         "yaxis": "y2"
        },
        {
         "legendgroup": "pred",
         "marker": {
          "color": "#ff7f0e",
          "size": 6
         },
         "mode": "markers",
         "name": "Pred Group 45",
         "showlegend": false,
         "type": "scatter",
         "x": {
          "bdata": "TPi2QQ==",
          "dtype": "f4"
         },
         "xaxis": "x2",
         "y": {
          "bdata": "JHjQwQ==",
          "dtype": "f4"
         },
         "yaxis": "y2"
        },
        {
         "legendgroup": "pred",
         "marker": {
          "color": "#ff7f0e",
          "size": 6
         },
         "mode": "markers",
         "name": "Pred Group 46",
         "showlegend": false,
         "type": "scatter",
         "x": {
          "bdata": "Cng5wQ==",
          "dtype": "f4"
         },
         "xaxis": "x2",
         "y": {
          "bdata": "BkmxwQ==",
          "dtype": "f4"
         },
         "yaxis": "y2"
        },
        {
         "legendgroup": "pred",
         "marker": {
          "color": "#ff7f0e",
          "size": 6
         },
         "mode": "markers",
         "name": "Pred Group 47",
         "showlegend": false,
         "type": "scatter",
         "x": {
          "bdata": "teq3QQ==",
          "dtype": "f4"
         },
         "xaxis": "x2",
         "y": {
          "bdata": "uEBzwQ==",
          "dtype": "f4"
         },
         "yaxis": "y2"
        },
        {
         "legendgroup": "pred",
         "marker": {
          "color": "#ff7f0e",
          "size": 6
         },
         "mode": "markers",
         "name": "Pred Group 48",
         "showlegend": false,
         "type": "scatter",
         "x": {
          "bdata": "067BQQ==",
          "dtype": "f4"
         },
         "xaxis": "x2",
         "y": {
          "bdata": "cgeZwQ==",
          "dtype": "f4"
         },
         "yaxis": "y2"
        },
        {
         "legendgroup": "pred",
         "marker": {
          "color": "#ff7f0e",
          "size": 6
         },
         "mode": "markers",
         "name": "Pred Group 49",
         "showlegend": false,
         "type": "scatter",
         "x": {
          "bdata": "i2iqQQ==",
          "dtype": "f4"
         },
         "xaxis": "x2",
         "y": {
          "bdata": "3pZYwQ==",
          "dtype": "f4"
         },
         "yaxis": "y2"
        },
        {
         "legendgroup": "pred",
         "marker": {
          "color": "#ff7f0e",
          "size": 6
         },
         "mode": "markers",
         "name": "Pred Group 50",
         "showlegend": false,
         "type": "scatter",
         "x": {
          "bdata": "OhfPQQ==",
          "dtype": "f4"
         },
         "xaxis": "x2",
         "y": {
          "bdata": "gkGUwQ==",
          "dtype": "f4"
         },
         "yaxis": "y2"
        },
        {
         "legendgroup": "pred",
         "marker": {
          "color": "#ff7f0e",
          "size": 6
         },
         "mode": "markers",
         "name": "Pred Group 51",
         "showlegend": false,
         "type": "scatter",
         "x": {
          "bdata": "YLWuQQ==",
          "dtype": "f4"
         },
         "xaxis": "x2",
         "y": {
          "bdata": "kmR2wQ==",
          "dtype": "f4"
         },
         "yaxis": "y2"
        },
        {
         "legendgroup": "pred",
         "marker": {
          "color": "#ff7f0e",
          "size": 6
         },
         "mode": "markers",
         "name": "Pred Group 52",
         "showlegend": false,
         "type": "scatter",
         "x": {
          "bdata": "r8+ZQQ==",
          "dtype": "f4"
         },
         "xaxis": "x2",
         "y": {
          "bdata": "4L+EwQ==",
          "dtype": "f4"
         },
         "yaxis": "y2"
        },
        {
         "legendgroup": "pred",
         "marker": {
          "color": "#ff7f0e",
          "size": 6
         },
         "mode": "markers",
         "name": "Pred Group 53",
         "showlegend": false,
         "type": "scatter",
         "x": {
          "bdata": "wFzJwQ==",
          "dtype": "f4"
         },
         "xaxis": "x2",
         "y": {
          "bdata": "sZlLwg==",
          "dtype": "f4"
         },
         "yaxis": "y2"
        },
        {
         "legendgroup": "pred",
         "marker": {
          "color": "#ff7f0e",
          "size": 6
         },
         "mode": "markers",
         "name": "Pred Group 54",
         "showlegend": false,
         "type": "scatter",
         "x": {
          "bdata": "LTmbQQ==",
          "dtype": "f4"
         },
         "xaxis": "x2",
         "y": {
          "bdata": "6nSmwQ==",
          "dtype": "f4"
         },
         "yaxis": "y2"
        },
        {
         "legendgroup": "pred",
         "marker": {
          "color": "#ffbb78",
          "size": 6
         },
         "mode": "markers",
         "name": "Pred Group 55",
         "showlegend": false,
         "type": "scatter",
         "x": {
          "bdata": "lalMwg==",
          "dtype": "f4"
         },
         "xaxis": "x2",
         "y": {
          "bdata": "KVvqQA==",
          "dtype": "f4"
         },
         "yaxis": "y2"
        },
        {
         "legendgroup": "pred",
         "marker": {
          "color": "#ffbb78",
          "size": 6
         },
         "mode": "markers",
         "name": "Pred Group 56",
         "showlegend": false,
         "type": "scatter",
         "x": {
          "bdata": "ug7ivw==",
          "dtype": "f4"
         },
         "xaxis": "x2",
         "y": {
          "bdata": "qqZWQQ==",
          "dtype": "f4"
         },
         "yaxis": "y2"
        },
        {
         "legendgroup": "pred",
         "marker": {
          "color": "#ffbb78",
          "size": 6
         },
         "mode": "markers",
         "name": "Pred Group 57",
         "showlegend": false,
         "type": "scatter",
         "x": {
          "bdata": "SRfuQQ==",
          "dtype": "f4"
         },
         "xaxis": "x2",
         "y": {
          "bdata": "6FlEQQ==",
          "dtype": "f4"
         },
         "yaxis": "y2"
        },
        {
         "legendgroup": "pred",
         "marker": {
          "color": "#ffbb78",
          "size": 6
         },
         "mode": "markers",
         "name": "Pred Group 58",
         "showlegend": false,
         "type": "scatter",
         "x": {
          "bdata": "7kncQQ==",
          "dtype": "f4"
         },
         "xaxis": "x2",
         "y": {
          "bdata": "YHpGwg==",
          "dtype": "f4"
         },
         "yaxis": "y2"
        },
        {
         "legendgroup": "pred",
         "marker": {
          "color": "#ffbb78",
          "size": 6
         },
         "mode": "markers",
         "name": "Pred Group 59",
         "showlegend": false,
         "type": "scatter",
         "x": {
          "bdata": "fjcKwg==",
          "dtype": "f4"
         },
         "xaxis": "x2",
         "y": {
          "bdata": "jnlYwg==",
          "dtype": "f4"
         },
         "yaxis": "y2"
        },
        {
         "legendgroup": "pred",
         "marker": {
          "color": "#ffbb78",
          "size": 6
         },
         "mode": "markers",
         "name": "Pred Group 60",
         "showlegend": false,
         "type": "scatter",
         "x": {
          "bdata": "yNv/QQ==",
          "dtype": "f4"
         },
         "xaxis": "x2",
         "y": {
          "bdata": "9NdDQg==",
          "dtype": "f4"
         },
         "yaxis": "y2"
        },
        {
         "legendgroup": "pred",
         "marker": {
          "color": "#ffbb78",
          "size": 6
         },
         "mode": "markers",
         "name": "Pred Group 61",
         "showlegend": false,
         "type": "scatter",
         "x": {
          "bdata": "aqnMwQ==",
          "dtype": "f4"
         },
         "xaxis": "x2",
         "y": {
          "bdata": "vtZFwg==",
          "dtype": "f4"
         },
         "yaxis": "y2"
        },
        {
         "legendgroup": "pred",
         "marker": {
          "color": "#ffbb78",
          "size": 6
         },
         "mode": "markers",
         "name": "Pred Group 62",
         "showlegend": false,
         "type": "scatter",
         "x": {
          "bdata": "cMg5QQ==",
          "dtype": "f4"
         },
         "xaxis": "x2",
         "y": {
          "bdata": "wcUDwg==",
          "dtype": "f4"
         },
         "yaxis": "y2"
        },
        {
         "legendgroup": "pred",
         "marker": {
          "color": "#ffbb78",
          "size": 6
         },
         "mode": "markers",
         "name": "Pred Group 63",
         "showlegend": false,
         "type": "scatter",
         "x": {
          "bdata": "Ix1dQg==",
          "dtype": "f4"
         },
         "xaxis": "x2",
         "y": {
          "bdata": "DAw9wQ==",
          "dtype": "f4"
         },
         "yaxis": "y2"
        },
        {
         "legendgroup": "pred",
         "marker": {
          "color": "#ffbb78",
          "size": 6
         },
         "mode": "markers",
         "name": "Pred Group 64",
         "showlegend": false,
         "type": "scatter",
         "x": {
          "bdata": "xbOUwQ==",
          "dtype": "f4"
         },
         "xaxis": "x2",
         "y": {
          "bdata": "xgsVwQ==",
          "dtype": "f4"
         },
         "yaxis": "y2"
        },
        {
         "legendgroup": "pred",
         "marker": {
          "color": "#ffbb78",
          "size": 6
         },
         "mode": "markers",
         "name": "Pred Group 65",
         "showlegend": false,
         "type": "scatter",
         "x": {
          "bdata": "2DPuQA==",
          "dtype": "f4"
         },
         "xaxis": "x2",
         "y": {
          "bdata": "0GBkQg==",
          "dtype": "f4"
         },
         "yaxis": "y2"
        },
        {
         "legendgroup": "pred",
         "marker": {
          "color": "#ffbb78",
          "size": 6
         },
         "mode": "markers",
         "name": "Pred Group 66",
         "showlegend": false,
         "type": "scatter",
         "x": {
          "bdata": "VmnmQQ==",
          "dtype": "f4"
         },
         "xaxis": "x2",
         "y": {
          "bdata": "+TEuwg==",
          "dtype": "f4"
         },
         "yaxis": "y2"
        },
        {
         "legendgroup": "pred",
         "marker": {
          "color": "#ffbb78",
          "size": 6
         },
         "mode": "markers",
         "name": "Pred Group 67",
         "showlegend": false,
         "type": "scatter",
         "x": {
          "bdata": "KMjTQQ==",
          "dtype": "f4"
         },
         "xaxis": "x2",
         "y": {
          "bdata": "QtPAwQ==",
          "dtype": "f4"
         },
         "yaxis": "y2"
        },
        {
         "legendgroup": "pred",
         "marker": {
          "color": "#ffbb78",
          "size": 6
         },
         "mode": "markers",
         "name": "Pred Group 68",
         "showlegend": false,
         "type": "scatter",
         "x": {
          "bdata": "tGxdwg==",
          "dtype": "f4"
         },
         "xaxis": "x2",
         "y": {
          "bdata": "UZNQQQ==",
          "dtype": "f4"
         },
         "yaxis": "y2"
        },
        {
         "legendgroup": "pred",
         "marker": {
          "color": "#ffbb78",
          "size": 6
         },
         "mode": "markers",
         "name": "Pred Group 69",
         "showlegend": false,
         "type": "scatter",
         "x": {
          "bdata": "UuZSwQ==",
          "dtype": "f4"
         },
         "xaxis": "x2",
         "y": {
          "bdata": "4UCTwQ==",
          "dtype": "f4"
         },
         "yaxis": "y2"
        },
        {
         "legendgroup": "pred",
         "marker": {
          "color": "#ffbb78",
          "size": 6
         },
         "mode": "markers",
         "name": "Pred Group 70",
         "showlegend": false,
         "type": "scatter",
         "x": {
          "bdata": "VMINQg==",
          "dtype": "f4"
         },
         "xaxis": "x2",
         "y": {
          "bdata": "7y5pPw==",
          "dtype": "f4"
         },
         "yaxis": "y2"
        },
        {
         "legendgroup": "pred",
         "marker": {
          "color": "#ffbb78",
          "size": 6
         },
         "mode": "markers",
         "name": "Pred Group 71",
         "showlegend": false,
         "type": "scatter",
         "x": {
          "bdata": "YVw9Qg==",
          "dtype": "f4"
         },
         "xaxis": "x2",
         "y": {
          "bdata": "O/i3wA==",
          "dtype": "f4"
         },
         "yaxis": "y2"
        },
        {
         "legendgroup": "pred",
         "marker": {
          "color": "#ffbb78",
          "size": 6
         },
         "mode": "markers",
         "name": "Pred Group 72",
         "showlegend": false,
         "type": "scatter",
         "x": {
          "bdata": "2TiGwQ==",
          "dtype": "f4"
         },
         "xaxis": "x2",
         "y": {
          "bdata": "cMWZwQ==",
          "dtype": "f4"
         },
         "yaxis": "y2"
        },
        {
         "legendgroup": "pred",
         "marker": {
          "color": "#ffbb78",
          "size": 6
         },
         "mode": "markers",
         "name": "Pred Group 73",
         "showlegend": false,
         "type": "scatter",
         "x": {
          "bdata": "kM0lwQ==",
          "dtype": "f4"
         },
         "xaxis": "x2",
         "y": {
          "bdata": "ig8Wwg==",
          "dtype": "f4"
         },
         "yaxis": "y2"
        },
        {
         "legendgroup": "pred",
         "marker": {
          "color": "#2ca02c",
          "size": 6
         },
         "mode": "markers",
         "name": "Pred Group 74",
         "showlegend": false,
         "type": "scatter",
         "x": {
          "bdata": "XDAgwQ==",
          "dtype": "f4"
         },
         "xaxis": "x2",
         "y": {
          "bdata": "iyATwg==",
          "dtype": "f4"
         },
         "yaxis": "y2"
        },
        {
         "legendgroup": "pred",
         "marker": {
          "color": "#2ca02c",
          "size": 6
         },
         "mode": "markers",
         "name": "Pred Group 75",
         "showlegend": false,
         "type": "scatter",
         "x": {
          "bdata": "9ZD3QQ==",
          "dtype": "f4"
         },
         "xaxis": "x2",
         "y": {
          "bdata": "faFmwg==",
          "dtype": "f4"
         },
         "yaxis": "y2"
        },
        {
         "legendgroup": "pred",
         "marker": {
          "color": "#2ca02c",
          "size": 6
         },
         "mode": "markers",
         "name": "Pred Group 76",
         "showlegend": false,
         "type": "scatter",
         "x": {
          "bdata": "tdNBQg==",
          "dtype": "f4"
         },
         "xaxis": "x2",
         "y": {
          "bdata": "3TH/wQ==",
          "dtype": "f4"
         },
         "yaxis": "y2"
        },
        {
         "legendgroup": "pred",
         "marker": {
          "color": "#2ca02c",
          "size": 6
         },
         "mode": "markers",
         "name": "Pred Group 77",
         "showlegend": false,
         "type": "scatter",
         "x": {
          "bdata": "FRj6QQ==",
          "dtype": "f4"
         },
         "xaxis": "x2",
         "y": {
          "bdata": "Sl30wQ==",
          "dtype": "f4"
         },
         "yaxis": "y2"
        },
        {
         "legendgroup": "pred",
         "marker": {
          "color": "#2ca02c",
          "size": 6
         },
         "mode": "markers",
         "name": "Pred Group 78",
         "showlegend": false,
         "type": "scatter",
         "x": {
          "bdata": "7kFpwA==",
          "dtype": "f4"
         },
         "xaxis": "x2",
         "y": {
          "bdata": "lahcQQ==",
          "dtype": "f4"
         },
         "yaxis": "y2"
        },
        {
         "legendgroup": "pred",
         "marker": {
          "color": "#2ca02c",
          "size": 6
         },
         "mode": "markers",
         "name": "Pred Group 79",
         "showlegend": false,
         "type": "scatter",
         "x": {
          "bdata": "tKKcQg==",
          "dtype": "f4"
         },
         "xaxis": "x2",
         "y": {
          "bdata": "RK/UQA==",
          "dtype": "f4"
         },
         "yaxis": "y2"
        },
        {
         "legendgroup": "pred",
         "marker": {
          "color": "#2ca02c",
          "size": 6
         },
         "mode": "markers",
         "name": "Pred Group 80",
         "showlegend": false,
         "type": "scatter",
         "x": {
          "bdata": "7qmfQg==",
          "dtype": "f4"
         },
         "xaxis": "x2",
         "y": {
          "bdata": "H5S2QA==",
          "dtype": "f4"
         },
         "yaxis": "y2"
        },
        {
         "legendgroup": "pred",
         "marker": {
          "color": "#2ca02c",
          "size": 6
         },
         "mode": "markers",
         "name": "Pred Group 81",
         "showlegend": false,
         "type": "scatter",
         "x": {
          "bdata": "gyZlwg==",
          "dtype": "f4"
         },
         "xaxis": "x2",
         "y": {
          "bdata": "YcZsQQ==",
          "dtype": "f4"
         },
         "yaxis": "y2"
        },
        {
         "legendgroup": "pred",
         "marker": {
          "color": "#2ca02c",
          "size": 6
         },
         "mode": "markers",
         "name": "Pred Group 82",
         "showlegend": false,
         "type": "scatter",
         "x": {
          "bdata": "qQ8JQg==",
          "dtype": "f4"
         },
         "xaxis": "x2",
         "y": {
          "bdata": "c40NQA==",
          "dtype": "f4"
         },
         "yaxis": "y2"
        },
        {
         "legendgroup": "pred",
         "marker": {
          "color": "#2ca02c",
          "size": 6
         },
         "mode": "markers",
         "name": "Pred Group 83",
         "showlegend": false,
         "type": "scatter",
         "x": {
          "bdata": "2L2EQg==",
          "dtype": "f4"
         },
         "xaxis": "x2",
         "y": {
          "bdata": "HxxAPw==",
          "dtype": "f4"
         },
         "yaxis": "y2"
        },
        {
         "legendgroup": "pred",
         "marker": {
          "color": "#2ca02c",
          "size": 6
         },
         "mode": "markers",
         "name": "Pred Group 84",
         "showlegend": false,
         "type": "scatter",
         "x": {
          "bdata": "djVawg==",
          "dtype": "f4"
         },
         "xaxis": "x2",
         "y": {
          "bdata": "jLtbQQ==",
          "dtype": "f4"
         },
         "yaxis": "y2"
        },
        {
         "legendgroup": "pred",
         "marker": {
          "color": "#2ca02c",
          "size": 6
         },
         "mode": "markers",
         "name": "Pred Group 85",
         "showlegend": false,
         "type": "scatter",
         "x": {
          "bdata": "t1EFwQ==",
          "dtype": "f4"
         },
         "xaxis": "x2",
         "y": {
          "bdata": "l49rQA==",
          "dtype": "f4"
         },
         "yaxis": "y2"
        },
        {
         "legendgroup": "pred",
         "marker": {
          "color": "#2ca02c",
          "size": 6
         },
         "mode": "markers",
         "name": "Pred Group 86",
         "showlegend": false,
         "type": "scatter",
         "x": {
          "bdata": "sgYuQg==",
          "dtype": "f4"
         },
         "xaxis": "x2",
         "y": {
          "bdata": "vMPcwA==",
          "dtype": "f4"
         },
         "yaxis": "y2"
        },
        {
         "legendgroup": "pred",
         "marker": {
          "color": "#2ca02c",
          "size": 6
         },
         "mode": "markers",
         "name": "Pred Group 87",
         "showlegend": false,
         "type": "scatter",
         "x": {
          "bdata": "ZDmQwQ==",
          "dtype": "f4"
         },
         "xaxis": "x2",
         "y": {
          "bdata": "v8VcQg==",
          "dtype": "f4"
         },
         "yaxis": "y2"
        },
        {
         "legendgroup": "pred",
         "marker": {
          "color": "#2ca02c",
          "size": 6
         },
         "mode": "markers",
         "name": "Pred Group 88",
         "showlegend": false,
         "type": "scatter",
         "x": {
          "bdata": "RFa+wQ==",
          "dtype": "f4"
         },
         "xaxis": "x2",
         "y": {
          "bdata": "A7RHQg==",
          "dtype": "f4"
         },
         "yaxis": "y2"
        },
        {
         "legendgroup": "pred",
         "marker": {
          "color": "#2ca02c",
          "size": 6
         },
         "mode": "markers",
         "name": "Pred Group 89",
         "showlegend": false,
         "type": "scatter",
         "x": {
          "bdata": "q09Rwg==",
          "dtype": "f4"
         },
         "xaxis": "x2",
         "y": {
          "bdata": "ZHQIQQ==",
          "dtype": "f4"
         },
         "yaxis": "y2"
        },
        {
         "legendgroup": "pred",
         "marker": {
          "color": "#2ca02c",
          "size": 6
         },
         "mode": "markers",
         "name": "Pred Group 90",
         "showlegend": false,
         "type": "scatter",
         "x": {
          "bdata": "5RDVQQ==",
          "dtype": "f4"
         },
         "xaxis": "x2",
         "y": {
          "bdata": "qgIlwg==",
          "dtype": "f4"
         },
         "yaxis": "y2"
        },
        {
         "legendgroup": "pred",
         "marker": {
          "color": "#2ca02c",
          "size": 6
         },
         "mode": "markers",
         "name": "Pred Group 91",
         "showlegend": false,
         "type": "scatter",
         "x": {
          "bdata": "wArvQQ==",
          "dtype": "f4"
         },
         "xaxis": "x2",
         "y": {
          "bdata": "z0AsQg==",
          "dtype": "f4"
         },
         "yaxis": "y2"
        },
        {
         "legendgroup": "pred",
         "marker": {
          "color": "#98df8a",
          "size": 6
         },
         "mode": "markers",
         "name": "Pred Group 92",
         "showlegend": false,
         "type": "scatter",
         "x": {
          "bdata": "nROVQg==",
          "dtype": "f4"
         },
         "xaxis": "x2",
         "y": {
          "bdata": "oND2QA==",
          "dtype": "f4"
         },
         "yaxis": "y2"
        },
        {
         "legendgroup": "pred",
         "marker": {
          "color": "#98df8a",
          "size": 6
         },
         "mode": "markers",
         "name": "Pred Group 93",
         "showlegend": false,
         "type": "scatter",
         "x": {
          "bdata": "G9OUQg==",
          "dtype": "f4"
         },
         "xaxis": "x2",
         "y": {
          "bdata": "JSQHQQ==",
          "dtype": "f4"
         },
         "yaxis": "y2"
        },
        {
         "legendgroup": "pred",
         "marker": {
          "color": "#98df8a",
          "size": 6
         },
         "mode": "markers",
         "name": "Pred Group 94",
         "showlegend": false,
         "type": "scatter",
         "x": {
          "bdata": "rBm1vg==",
          "dtype": "f4"
         },
         "xaxis": "x2",
         "y": {
          "bdata": "8eYcwg==",
          "dtype": "f4"
         },
         "yaxis": "y2"
        },
        {
         "legendgroup": "pred",
         "marker": {
          "color": "#98df8a",
          "size": 6
         },
         "mode": "markers",
         "name": "Pred Group 95",
         "showlegend": false,
         "type": "scatter",
         "x": {
          "bdata": "UU2RQg==",
          "dtype": "f4"
         },
         "xaxis": "x2",
         "y": {
          "bdata": "PInTQA==",
          "dtype": "f4"
         },
         "yaxis": "y2"
        },
        {
         "legendgroup": "pred",
         "marker": {
          "color": "#98df8a",
          "size": 6
         },
         "mode": "markers",
         "name": "Pred Group 96",
         "showlegend": false,
         "type": "scatter",
         "x": {
          "bdata": "z7EXQg==",
          "dtype": "f4"
         },
         "xaxis": "x2",
         "y": {
          "bdata": "AwSAwQ==",
          "dtype": "f4"
         },
         "yaxis": "y2"
        },
        {
         "legendgroup": "pred",
         "marker": {
          "color": "#98df8a",
          "size": 6
         },
         "mode": "markers",
         "name": "Pred Group 97",
         "showlegend": false,
         "type": "scatter",
         "x": {
          "bdata": "ptTAwQ==",
          "dtype": "f4"
         },
         "xaxis": "x2",
         "y": {
          "bdata": "BNpMQg==",
          "dtype": "f4"
         },
         "yaxis": "y2"
        },
        {
         "legendgroup": "pred",
         "marker": {
          "color": "#98df8a",
          "size": 6
         },
         "mode": "markers",
         "name": "Pred Group 98",
         "showlegend": false,
         "type": "scatter",
         "x": {
          "bdata": "h1xxQg==",
          "dtype": "f4"
         },
         "xaxis": "x2",
         "y": {
          "bdata": "zdkkvg==",
          "dtype": "f4"
         },
         "yaxis": "y2"
        },
        {
         "legendgroup": "pred",
         "marker": {
          "color": "#98df8a",
          "size": 6
         },
         "mode": "markers",
         "name": "Pred Group 99",
         "showlegend": false,
         "type": "scatter",
         "x": {
          "bdata": "5IdIQg==",
          "dtype": "f4"
         },
         "xaxis": "x2",
         "y": {
          "bdata": "ExpsQQ==",
          "dtype": "f4"
         },
         "yaxis": "y2"
        },
        {
         "legendgroup": "pred",
         "marker": {
          "color": "#98df8a",
          "size": 6
         },
         "mode": "markers",
         "name": "Pred Group 100",
         "showlegend": false,
         "type": "scatter",
         "x": {
          "bdata": "Ni9tQQ==",
          "dtype": "f4"
         },
         "xaxis": "x2",
         "y": {
          "bdata": "8V+ZQQ==",
          "dtype": "f4"
         },
         "yaxis": "y2"
        },
        {
         "legendgroup": "pred",
         "marker": {
          "color": "#98df8a",
          "size": 6
         },
         "mode": "markers",
         "name": "Pred Group 101",
         "showlegend": false,
         "type": "scatter",
         "x": {
          "bdata": "XtFCQQ==",
          "dtype": "f4"
         },
         "xaxis": "x2",
         "y": {
          "bdata": "F2taQg==",
          "dtype": "f4"
         },
         "yaxis": "y2"
        },
        {
         "legendgroup": "pred",
         "marker": {
          "color": "#98df8a",
          "size": 6
         },
         "mode": "markers",
         "name": "Pred Group 102",
         "showlegend": false,
         "type": "scatter",
         "x": {
          "bdata": "03naQQ==",
          "dtype": "f4"
         },
         "xaxis": "x2",
         "y": {
          "bdata": "YlLxQQ==",
          "dtype": "f4"
         },
         "yaxis": "y2"
        },
        {
         "legendgroup": "pred",
         "marker": {
          "color": "#98df8a",
          "size": 6
         },
         "mode": "markers",
         "name": "Pred Group 103",
         "showlegend": false,
         "type": "scatter",
         "x": {
          "bdata": "bWS7QQ==",
          "dtype": "f4"
         },
         "xaxis": "x2",
         "y": {
          "bdata": "99v+QQ==",
          "dtype": "f4"
         },
         "yaxis": "y2"
        },
        {
         "legendgroup": "pred",
         "marker": {
          "color": "#98df8a",
          "size": 6
         },
         "mode": "markers",
         "name": "Pred Group 104",
         "showlegend": false,
         "type": "scatter",
         "x": {
          "bdata": "jEIpQQ==",
          "dtype": "f4"
         },
         "xaxis": "x2",
         "y": {
          "bdata": "mZRdQg==",
          "dtype": "f4"
         },
         "yaxis": "y2"
        },
        {
         "legendgroup": "pred",
         "marker": {
          "color": "#98df8a",
          "size": 6
         },
         "mode": "markers",
         "name": "Pred Group 105",
         "showlegend": false,
         "type": "scatter",
         "x": {
          "bdata": "UFmZwQ==",
          "dtype": "f4"
         },
         "xaxis": "x2",
         "y": {
          "bdata": "KGTCQQ==",
          "dtype": "f4"
         },
         "yaxis": "y2"
        },
        {
         "legendgroup": "pred",
         "marker": {
          "color": "#98df8a",
          "size": 6
         },
         "mode": "markers",
         "name": "Pred Group 106",
         "showlegend": false,
         "type": "scatter",
         "x": {
          "bdata": "g2sZQg==",
          "dtype": "f4"
         },
         "xaxis": "x2",
         "y": {
          "bdata": "aGh7wQ==",
          "dtype": "f4"
         },
         "yaxis": "y2"
        },
        {
         "legendgroup": "pred",
         "marker": {
          "color": "#98df8a",
          "size": 6
         },
         "mode": "markers",
         "name": "Pred Group 107",
         "showlegend": false,
         "type": "scatter",
         "x": {
          "bdata": "oaX7wA==",
          "dtype": "f4"
         },
         "xaxis": "x2",
         "y": {
          "bdata": "dN2WQg==",
          "dtype": "f4"
         },
         "yaxis": "y2"
        },
        {
         "legendgroup": "pred",
         "marker": {
          "color": "#98df8a",
          "size": 6
         },
         "mode": "markers",
         "name": "Pred Group 108",
         "showlegend": false,
         "type": "scatter",
         "x": {
          "bdata": "yfaRPw==",
          "dtype": "f4"
         },
         "xaxis": "x2",
         "y": {
          "bdata": "pCxSQg==",
          "dtype": "f4"
         },
         "yaxis": "y2"
        },
        {
         "legendgroup": "pred",
         "marker": {
          "color": "#98df8a",
          "size": 6
         },
         "mode": "markers",
         "name": "Pred Group 109",
         "showlegend": false,
         "type": "scatter",
         "x": {
          "bdata": "froAQg==",
          "dtype": "f4"
         },
         "xaxis": "x2",
         "y": {
          "bdata": "1THXQQ==",
          "dtype": "f4"
         },
         "yaxis": "y2"
        },
        {
         "legendgroup": "pred",
         "marker": {
          "color": "#d62728",
          "size": 6
         },
         "mode": "markers",
         "name": "Pred Group 110",
         "showlegend": false,
         "type": "scatter",
         "x": {
          "bdata": "FVbVQQ==",
          "dtype": "f4"
         },
         "xaxis": "x2",
         "y": {
          "bdata": "9d34QQ==",
          "dtype": "f4"
         },
         "yaxis": "y2"
        },
        {
         "legendgroup": "pred",
         "marker": {
          "color": "#d62728",
          "size": 6
         },
         "mode": "markers",
         "name": "Pred Group 111",
         "showlegend": false,
         "type": "scatter",
         "x": {
          "bdata": "o8rmwA==",
          "dtype": "f4"
         },
         "xaxis": "x2",
         "y": {
          "bdata": "9CibQg==",
          "dtype": "f4"
         },
         "yaxis": "y2"
        },
        {
         "legendgroup": "pred",
         "marker": {
          "color": "#d62728",
          "size": 6
         },
         "mode": "markers",
         "name": "Pred Group 112",
         "showlegend": false,
         "type": "scatter",
         "x": {
          "bdata": "lVcTQQ==",
          "dtype": "f4"
         },
         "xaxis": "x2",
         "y": {
          "bdata": "uFdUQQ==",
          "dtype": "f4"
         },
         "yaxis": "y2"
        },
        {
         "legendgroup": "pred",
         "marker": {
          "color": "#d62728",
          "size": 6
         },
         "mode": "markers",
         "name": "Pred Group 113",
         "showlegend": false,
         "type": "scatter",
         "x": {
          "bdata": "9rjkwA==",
          "dtype": "f4"
         },
         "xaxis": "x2",
         "y": {
          "bdata": "zUKXQg==",
          "dtype": "f4"
         },
         "yaxis": "y2"
        },
        {
         "legendgroup": "pred",
         "marker": {
          "color": "#d62728",
          "size": 6
         },
         "mode": "markers",
         "name": "Pred Group 114",
         "showlegend": false,
         "type": "scatter",
         "x": {
          "bdata": "b9K3wQ==",
          "dtype": "f4"
         },
         "xaxis": "x2",
         "y": {
          "bdata": "r4gowA==",
          "dtype": "f4"
         },
         "yaxis": "y2"
        },
        {
         "legendgroup": "pred",
         "marker": {
          "color": "#d62728",
          "size": 6
         },
         "mode": "markers",
         "name": "Pred Group 115",
         "showlegend": false,
         "type": "scatter",
         "x": {
          "bdata": "LyDiwQ==",
          "dtype": "f4"
         },
         "xaxis": "x2",
         "y": {
          "bdata": "MlRpQQ==",
          "dtype": "f4"
         },
         "yaxis": "y2"
        },
        {
         "legendgroup": "pred",
         "marker": {
          "color": "#d62728",
          "size": 6
         },
         "mode": "markers",
         "name": "Pred Group 116",
         "showlegend": false,
         "type": "scatter",
         "x": {
          "bdata": "eCjuwA==",
          "dtype": "f4"
         },
         "xaxis": "x2",
         "y": {
          "bdata": "uDgAQQ==",
          "dtype": "f4"
         },
         "yaxis": "y2"
        },
        {
         "legendgroup": "pred",
         "marker": {
          "color": "#d62728",
          "size": 6
         },
         "mode": "markers",
         "name": "Pred Group 117",
         "showlegend": false,
         "type": "scatter",
         "x": {
          "bdata": "g2j0QA==",
          "dtype": "f4"
         },
         "xaxis": "x2",
         "y": {
          "bdata": "3n9qQg==",
          "dtype": "f4"
         },
         "yaxis": "y2"
        },
        {
         "legendgroup": "pred",
         "marker": {
          "color": "#d62728",
          "size": 6
         },
         "mode": "markers",
         "name": "Pred Group 118",
         "showlegend": false,
         "type": "scatter",
         "x": {
          "bdata": "ZqGRwQ==",
          "dtype": "f4"
         },
         "xaxis": "x2",
         "y": {
          "bdata": "6AAhwQ==",
          "dtype": "f4"
         },
         "yaxis": "y2"
        },
        {
         "legendgroup": "pred",
         "marker": {
          "color": "#d62728",
          "size": 6
         },
         "mode": "markers",
         "name": "Pred Group 119",
         "showlegend": false,
         "type": "scatter",
         "x": {
          "bdata": "n5fFQQ==",
          "dtype": "f4"
         },
         "xaxis": "x2",
         "y": {
          "bdata": "L1UPwg==",
          "dtype": "f4"
         },
         "yaxis": "y2"
        },
        {
         "legendgroup": "pred",
         "marker": {
          "color": "#d62728",
          "size": 6
         },
         "mode": "markers",
         "name": "Pred Group 120",
         "showlegend": false,
         "type": "scatter",
         "x": {
          "bdata": "gSdIvw==",
          "dtype": "f4"
         },
         "xaxis": "x2",
         "y": {
          "bdata": "LQ9OQg==",
          "dtype": "f4"
         },
         "yaxis": "y2"
        },
        {
         "legendgroup": "pred",
         "marker": {
          "color": "#d62728",
          "size": 6
         },
         "mode": "markers",
         "name": "Pred Group 121",
         "showlegend": false,
         "type": "scatter",
         "x": {
          "bdata": "YwXcQQ==",
          "dtype": "f4"
         },
         "xaxis": "x2",
         "y": {
          "bdata": "ixExQg==",
          "dtype": "f4"
         },
         "yaxis": "y2"
        },
        {
         "legendgroup": "pred",
         "marker": {
          "color": "#d62728",
          "size": 6
         },
         "mode": "markers",
         "name": "Pred Group 122",
         "showlegend": false,
         "type": "scatter",
         "x": {
          "bdata": "cYkXQQ==",
          "dtype": "f4"
         },
         "xaxis": "x2",
         "y": {
          "bdata": "g9ZsQQ==",
          "dtype": "f4"
         },
         "yaxis": "y2"
        },
        {
         "legendgroup": "pred",
         "marker": {
          "color": "#d62728",
          "size": 6
         },
         "mode": "markers",
         "name": "Pred Group 123",
         "showlegend": false,
         "type": "scatter",
         "x": {
          "bdata": "qiQBQg==",
          "dtype": "f4"
         },
         "xaxis": "x2",
         "y": {
          "bdata": "T9oBPw==",
          "dtype": "f4"
         },
         "yaxis": "y2"
        },
        {
         "legendgroup": "pred",
         "marker": {
          "color": "#d62728",
          "size": 6
         },
         "mode": "markers",
         "name": "Pred Group 124",
         "showlegend": false,
         "type": "scatter",
         "x": {
          "bdata": "NK2UQA==",
          "dtype": "f4"
         },
         "xaxis": "x2",
         "y": {
          "bdata": "KW31QQ==",
          "dtype": "f4"
         },
         "yaxis": "y2"
        },
        {
         "legendgroup": "pred",
         "marker": {
          "color": "#d62728",
          "size": 6
         },
         "mode": "markers",
         "name": "Pred Group 125",
         "showlegend": false,
         "type": "scatter",
         "x": {
          "bdata": "2d+cwQ==",
          "dtype": "f4"
         },
         "xaxis": "x2",
         "y": {
          "bdata": "TeXywA==",
          "dtype": "f4"
         },
         "yaxis": "y2"
        },
        {
         "legendgroup": "pred",
         "marker": {
          "color": "#d62728",
          "size": 6
         },
         "mode": "markers",
         "name": "Pred Group 126",
         "showlegend": false,
         "type": "scatter",
         "x": {
          "bdata": "t8bjPg==",
          "dtype": "f4"
         },
         "xaxis": "x2",
         "y": {
          "bdata": "WNrdQQ==",
          "dtype": "f4"
         },
         "yaxis": "y2"
        },
        {
         "legendgroup": "pred",
         "marker": {
          "color": "#d62728",
          "size": 6
         },
         "mode": "markers",
         "name": "Pred Group 127",
         "showlegend": false,
         "type": "scatter",
         "x": {
          "bdata": "3N2lwQ==",
          "dtype": "f4"
         },
         "xaxis": "x2",
         "y": {
          "bdata": "JKSlwA==",
          "dtype": "f4"
         },
         "yaxis": "y2"
        },
        {
         "legendgroup": "pred",
         "marker": {
          "color": "#d62728",
          "size": 6
         },
         "mode": "markers",
         "name": "Pred Group 128",
         "showlegend": false,
         "type": "scatter",
         "x": {
          "bdata": "ruIqwQ==",
          "dtype": "f4"
         },
         "xaxis": "x2",
         "y": {
          "bdata": "RE9rQQ==",
          "dtype": "f4"
         },
         "yaxis": "y2"
        },
        {
         "legendgroup": "pred",
         "marker": {
          "color": "#ff9896",
          "size": 6
         },
         "mode": "markers",
         "name": "Pred Group 129",
         "showlegend": false,
         "type": "scatter",
         "x": {
          "bdata": "RE9zQA==",
          "dtype": "f4"
         },
         "xaxis": "x2",
         "y": {
          "bdata": "KOYcwg==",
          "dtype": "f4"
         },
         "yaxis": "y2"
        },
        {
         "legendgroup": "pred",
         "marker": {
          "color": "#ff9896",
          "size": 6
         },
         "mode": "markers",
         "name": "Pred Group 130",
         "showlegend": false,
         "type": "scatter",
         "x": {
          "bdata": "m38twg==",
          "dtype": "f4"
         },
         "xaxis": "x2",
         "y": {
          "bdata": "1SJ7wA==",
          "dtype": "f4"
         },
         "yaxis": "y2"
        },
        {
         "legendgroup": "pred",
         "marker": {
          "color": "#ff9896",
          "size": 6
         },
         "mode": "markers",
         "name": "Pred Group 131",
         "showlegend": false,
         "type": "scatter",
         "x": {
          "bdata": "L2fJQQ==",
          "dtype": "f4"
         },
         "xaxis": "x2",
         "y": {
          "bdata": "xdv7QQ==",
          "dtype": "f4"
         },
         "yaxis": "y2"
        },
        {
         "legendgroup": "pred",
         "marker": {
          "color": "#ff9896",
          "size": 6
         },
         "mode": "markers",
         "name": "Pred Group 132",
         "showlegend": false,
         "type": "scatter",
         "x": {
          "bdata": "981lQQ==",
          "dtype": "f4"
         },
         "xaxis": "x2",
         "y": {
          "bdata": "E2q6QQ==",
          "dtype": "f4"
         },
         "yaxis": "y2"
        },
        {
         "legendgroup": "pred",
         "marker": {
          "color": "#ff9896",
          "size": 6
         },
         "mode": "markers",
         "name": "Pred Group 133",
         "showlegend": false,
         "type": "scatter",
         "x": {
          "bdata": "AgvaPw==",
          "dtype": "f4"
         },
         "xaxis": "x2",
         "y": {
          "bdata": "g15TQg==",
          "dtype": "f4"
         },
         "yaxis": "y2"
        },
        {
         "legendgroup": "pred",
         "marker": {
          "color": "#ff9896",
          "size": 6
         },
         "mode": "markers",
         "name": "Pred Group 134",
         "showlegend": false,
         "type": "scatter",
         "x": {
          "bdata": "nMISQQ==",
          "dtype": "f4"
         },
         "xaxis": "x2",
         "y": {
          "bdata": "gPZfQg==",
          "dtype": "f4"
         },
         "yaxis": "y2"
        },
        {
         "legendgroup": "pred",
         "marker": {
          "color": "#ff9896",
          "size": 6
         },
         "mode": "markers",
         "name": "Pred Group 135",
         "showlegend": false,
         "type": "scatter",
         "x": {
          "bdata": "lfU5QQ==",
          "dtype": "f4"
         },
         "xaxis": "x2",
         "y": {
          "bdata": "LrW9QQ==",
          "dtype": "f4"
         },
         "yaxis": "y2"
        },
        {
         "legendgroup": "pred",
         "marker": {
          "color": "#ff9896",
          "size": 6
         },
         "mode": "markers",
         "name": "Pred Group 136",
         "showlegend": false,
         "type": "scatter",
         "x": {
          "bdata": "IiNKQg==",
          "dtype": "f4"
         },
         "xaxis": "x2",
         "y": {
          "bdata": "RmkKwg==",
          "dtype": "f4"
         },
         "yaxis": "y2"
        },
        {
         "legendgroup": "pred",
         "marker": {
          "color": "#ff9896",
          "size": 6
         },
         "mode": "markers",
         "name": "Pred Group 137",
         "showlegend": false,
         "type": "scatter",
         "x": {
          "bdata": "XVe5QQ==",
          "dtype": "f4"
         },
         "xaxis": "x2",
         "y": {
          "bdata": "Q1oxwg==",
          "dtype": "f4"
         },
         "yaxis": "y2"
        },
        {
         "legendgroup": "pred",
         "marker": {
          "color": "#ff9896",
          "size": 6
         },
         "mode": "markers",
         "name": "Pred Group 138",
         "showlegend": false,
         "type": "scatter",
         "x": {
          "bdata": "R3FEQg==",
          "dtype": "f4"
         },
         "xaxis": "x2",
         "y": {
          "bdata": "74YTwg==",
          "dtype": "f4"
         },
         "yaxis": "y2"
        },
        {
         "legendgroup": "pred",
         "marker": {
          "color": "#ff9896",
          "size": 6
         },
         "mode": "markers",
         "name": "Pred Group 139",
         "showlegend": false,
         "type": "scatter",
         "x": {
          "bdata": "VKDgQQ==",
          "dtype": "f4"
         },
         "xaxis": "x2",
         "y": {
          "bdata": "inI/wg==",
          "dtype": "f4"
         },
         "yaxis": "y2"
        },
        {
         "legendgroup": "pred",
         "marker": {
          "color": "#ff9896",
          "size": 6
         },
         "mode": "markers",
         "name": "Pred Group 140",
         "showlegend": false,
         "type": "scatter",
         "x": {
          "bdata": "VvOrwQ==",
          "dtype": "f4"
         },
         "xaxis": "x2",
         "y": {
          "bdata": "kUGAQg==",
          "dtype": "f4"
         },
         "yaxis": "y2"
        },
        {
         "legendgroup": "pred",
         "marker": {
          "color": "#ff9896",
          "size": 6
         },
         "mode": "markers",
         "name": "Pred Group 141",
         "showlegend": false,
         "type": "scatter",
         "x": {
          "bdata": "gGPuwQ==",
          "dtype": "f4"
         },
         "xaxis": "x2",
         "y": {
          "bdata": "7+p+QQ==",
          "dtype": "f4"
         },
         "yaxis": "y2"
        },
        {
         "legendgroup": "pred",
         "marker": {
          "color": "#ff9896",
          "size": 6
         },
         "mode": "markers",
         "name": "Pred Group 142",
         "showlegend": false,
         "type": "scatter",
         "x": {
          "bdata": "zHgtwg==",
          "dtype": "f4"
         },
         "xaxis": "x2",
         "y": {
          "bdata": "V00FQg==",
          "dtype": "f4"
         },
         "yaxis": "y2"
        },
        {
         "legendgroup": "pred",
         "marker": {
          "color": "#ff9896",
          "size": 6
         },
         "mode": "markers",
         "name": "Pred Group 143",
         "showlegend": false,
         "type": "scatter",
         "x": {
          "bdata": "WSlSvw==",
          "dtype": "f4"
         },
         "xaxis": "x2",
         "y": {
          "bdata": "s4fkQQ==",
          "dtype": "f4"
         },
         "yaxis": "y2"
        },
        {
         "legendgroup": "pred",
         "marker": {
          "color": "#ff9896",
          "size": 6
         },
         "mode": "markers",
         "name": "Pred Group 144",
         "showlegend": false,
         "type": "scatter",
         "x": {
          "bdata": "1FMVwQ==",
          "dtype": "f4"
         },
         "xaxis": "x2",
         "y": {
          "bdata": "toyUQg==",
          "dtype": "f4"
         },
         "yaxis": "y2"
        },
        {
         "legendgroup": "pred",
         "marker": {
          "color": "#ff9896",
          "size": 6
         },
         "mode": "markers",
         "name": "Pred Group 145",
         "showlegend": false,
         "type": "scatter",
         "x": {
          "bdata": "JAp8Qg==",
          "dtype": "f4"
         },
         "xaxis": "x2",
         "y": {
          "bdata": "yryjQA==",
          "dtype": "f4"
         },
         "yaxis": "y2"
        },
        {
         "legendgroup": "pred",
         "marker": {
          "color": "#ff9896",
          "size": 6
         },
         "mode": "markers",
         "name": "Pred Group 146",
         "showlegend": false,
         "type": "scatter",
         "x": {
          "bdata": "nmYAQg==",
          "dtype": "f4"
         },
         "xaxis": "x2",
         "y": {
          "bdata": "ZnhGQg==",
          "dtype": "f4"
         },
         "yaxis": "y2"
        },
        {
         "legendgroup": "pred",
         "marker": {
          "color": "#9467bd",
          "size": 6
         },
         "mode": "markers",
         "name": "Pred Group 147",
         "showlegend": false,
         "type": "scatter",
         "x": {
          "bdata": "ff/NwQ==",
          "dtype": "f4"
         },
         "xaxis": "x2",
         "y": {
          "bdata": "owqWQQ==",
          "dtype": "f4"
         },
         "yaxis": "y2"
        },
        {
         "legendgroup": "pred",
         "marker": {
          "color": "#9467bd",
          "size": 6
         },
         "mode": "markers",
         "name": "Pred Group 148",
         "showlegend": false,
         "type": "scatter",
         "x": {
          "bdata": "rbGQQA==",
          "dtype": "f4"
         },
         "xaxis": "x2",
         "y": {
          "bdata": "HYv8QQ==",
          "dtype": "f4"
         },
         "yaxis": "y2"
        },
        {
         "legendgroup": "pred",
         "marker": {
          "color": "#9467bd",
          "size": 6
         },
         "mode": "markers",
         "name": "Pred Group 149",
         "showlegend": false,
         "type": "scatter",
         "x": {
          "bdata": "EAdeQg==",
          "dtype": "f4"
         },
         "xaxis": "x2",
         "y": {
          "bdata": "kqcHQQ==",
          "dtype": "f4"
         },
         "yaxis": "y2"
        },
        {
         "legendgroup": "pred",
         "marker": {
          "color": "#9467bd",
          "size": 6
         },
         "mode": "markers",
         "name": "Pred Group 150",
         "showlegend": false,
         "type": "scatter",
         "x": {
          "bdata": "CdvVwQ==",
          "dtype": "f4"
         },
         "xaxis": "x2",
         "y": {
          "bdata": "iLHgwQ==",
          "dtype": "f4"
         },
         "yaxis": "y2"
        },
        {
         "legendgroup": "pred",
         "marker": {
          "color": "#9467bd",
          "size": 6
         },
         "mode": "markers",
         "name": "Pred Group 151",
         "showlegend": false,
         "type": "scatter",
         "x": {
          "bdata": "C+d3Qg==",
          "dtype": "f4"
         },
         "xaxis": "x2",
         "y": {
          "bdata": "+pAwQA==",
          "dtype": "f4"
         },
         "yaxis": "y2"
        },
        {
         "legendgroup": "pred",
         "marker": {
          "color": "#9467bd",
          "size": 6
         },
         "mode": "markers",
         "name": "Pred Group 152",
         "showlegend": false,
         "type": "scatter",
         "x": {
          "bdata": "fe5mQg==",
          "dtype": "f4"
         },
         "xaxis": "x2",
         "y": {
          "bdata": "/nAswQ==",
          "dtype": "f4"
         },
         "yaxis": "y2"
        },
        {
         "legendgroup": "pred",
         "marker": {
          "color": "#9467bd",
          "size": 6
         },
         "mode": "markers",
         "name": "Pred Group 153",
         "showlegend": false,
         "type": "scatter",
         "x": {
          "bdata": "k9zkQQ==",
          "dtype": "f4"
         },
         "xaxis": "x2",
         "y": {
          "bdata": "eN7lQQ==",
          "dtype": "f4"
         },
         "yaxis": "y2"
        },
        {
         "legendgroup": "pred",
         "marker": {
          "color": "#9467bd",
          "size": 6
         },
         "mode": "markers",
         "name": "Pred Group 154",
         "showlegend": false,
         "type": "scatter",
         "x": {
          "bdata": "E8jJQQ==",
          "dtype": "f4"
         },
         "xaxis": "x2",
         "y": {
          "bdata": "Wyi/QQ==",
          "dtype": "f4"
         },
         "yaxis": "y2"
        },
        {
         "legendgroup": "pred",
         "marker": {
          "color": "#9467bd",
          "size": 6
         },
         "mode": "markers",
         "name": "Pred Group 155",
         "showlegend": false,
         "type": "scatter",
         "x": {
          "bdata": "ESOvwQ==",
          "dtype": "f4"
         },
         "xaxis": "x2",
         "y": {
          "bdata": "J3GBQg==",
          "dtype": "f4"
         },
         "yaxis": "y2"
        },
        {
         "legendgroup": "pred",
         "marker": {
          "color": "#9467bd",
          "size": 6
         },
         "mode": "markers",
         "name": "Pred Group 156",
         "showlegend": false,
         "type": "scatter",
         "x": {
          "bdata": "JVVZQQ==",
          "dtype": "f4"
         },
         "xaxis": "x2",
         "y": {
          "bdata": "y5gBwg==",
          "dtype": "f4"
         },
         "yaxis": "y2"
        },
        {
         "legendgroup": "pred",
         "marker": {
          "color": "#9467bd",
          "size": 6
         },
         "mode": "markers",
         "name": "Pred Group 157",
         "showlegend": false,
         "type": "scatter",
         "x": {
          "bdata": "wYdOwQ==",
          "dtype": "f4"
         },
         "xaxis": "x2",
         "y": {
          "bdata": "dOHoQA==",
          "dtype": "f4"
         },
         "yaxis": "y2"
        },
        {
         "legendgroup": "pred",
         "marker": {
          "color": "#9467bd",
          "size": 6
         },
         "mode": "markers",
         "name": "Pred Group 158",
         "showlegend": false,
         "type": "scatter",
         "x": {
          "bdata": "KbXVwQ==",
          "dtype": "f4"
         },
         "xaxis": "x2",
         "y": {
          "bdata": "xbMxQg==",
          "dtype": "f4"
         },
         "yaxis": "y2"
        },
        {
         "legendgroup": "pred",
         "marker": {
          "color": "#9467bd",
          "size": 6
         },
         "mode": "markers",
         "name": "Pred Group 159",
         "showlegend": false,
         "type": "scatter",
         "x": {
          "bdata": "927AwQ==",
          "dtype": "f4"
         },
         "xaxis": "x2",
         "y": {
          "bdata": "e1ZCQg==",
          "dtype": "f4"
         },
         "yaxis": "y2"
        },
        {
         "legendgroup": "pred",
         "marker": {
          "color": "#9467bd",
          "size": 6
         },
         "mode": "markers",
         "name": "Pred Group 160",
         "showlegend": false,
         "type": "scatter",
         "x": {
          "bdata": "+c+ZQg==",
          "dtype": "f4"
         },
         "xaxis": "x2",
         "y": {
          "bdata": "c2i6QA==",
          "dtype": "f4"
         },
         "yaxis": "y2"
        },
        {
         "legendgroup": "pred",
         "marker": {
          "color": "#9467bd",
          "size": 6
         },
         "mode": "markers",
         "name": "Pred Group 161",
         "showlegend": false,
         "type": "scatter",
         "x": {
          "bdata": "u2eGQg==",
          "dtype": "f4"
         },
         "xaxis": "x2",
         "y": {
          "bdata": "fcazQA==",
          "dtype": "f4"
         },
         "yaxis": "y2"
        },
        {
         "legendgroup": "pred",
         "marker": {
          "color": "#9467bd",
          "size": 6
         },
         "mode": "markers",
         "name": "Pred Group 162",
         "showlegend": false,
         "type": "scatter",
         "x": {
          "bdata": "la47wg==",
          "dtype": "f4"
         },
         "xaxis": "x2",
         "y": {
          "bdata": "IMpgQg==",
          "dtype": "f4"
         },
         "yaxis": "y2"
        },
        {
         "legendgroup": "pred",
         "marker": {
          "color": "#9467bd",
          "size": 6
         },
         "mode": "markers",
         "name": "Pred Group 163",
         "showlegend": false,
         "type": "scatter",
         "x": {
          "bdata": "wzZAQQ==",
          "dtype": "f4"
         },
         "xaxis": "x2",
         "y": {
          "bdata": "dei5wQ==",
          "dtype": "f4"
         },
         "yaxis": "y2"
        },
        {
         "legendgroup": "pred",
         "marker": {
          "color": "#9467bd",
          "size": 6
         },
         "mode": "markers",
         "name": "Pred Group 164",
         "showlegend": false,
         "type": "scatter",
         "x": {
          "bdata": "wTknwg==",
          "dtype": "f4"
         },
         "xaxis": "x2",
         "y": {
          "bdata": "TNQlQg==",
          "dtype": "f4"
         },
         "yaxis": "y2"
        },
        {
         "legendgroup": "pred",
         "marker": {
          "color": "#c5b0d5",
          "size": 6
         },
         "mode": "markers",
         "name": "Pred Group 165",
         "showlegend": false,
         "type": "scatter",
         "x": {
          "bdata": "j2gQwQ==",
          "dtype": "f4"
         },
         "xaxis": "x2",
         "y": {
          "bdata": "s+B9Pw==",
          "dtype": "f4"
         },
         "yaxis": "y2"
        },
        {
         "legendgroup": "pred",
         "marker": {
          "color": "#c5b0d5",
          "size": 6
         },
         "mode": "markers",
         "name": "Pred Group 166",
         "showlegend": false,
         "type": "scatter",
         "x": {
          "bdata": "9oQmQQ==",
          "dtype": "f4"
         },
         "xaxis": "x2",
         "y": {
          "bdata": "qGY3wg==",
          "dtype": "f4"
         },
         "yaxis": "y2"
        },
        {
         "legendgroup": "pred",
         "marker": {
          "color": "#c5b0d5",
          "size": 6
         },
         "mode": "markers",
         "name": "Pred Group 167",
         "showlegend": false,
         "type": "scatter",
         "x": {
          "bdata": "Os1+wQ==",
          "dtype": "f4"
         },
         "xaxis": "x2",
         "y": {
          "bdata": "NZQmQg==",
          "dtype": "f4"
         },
         "yaxis": "y2"
        },
        {
         "legendgroup": "pred",
         "marker": {
          "color": "#c5b0d5",
          "size": 6
         },
         "mode": "markers",
         "name": "Pred Group 168",
         "showlegend": false,
         "type": "scatter",
         "x": {
          "bdata": "W2gqQg==",
          "dtype": "f4"
         },
         "xaxis": "x2",
         "y": {
          "bdata": "oxLGQA==",
          "dtype": "f4"
         },
         "yaxis": "y2"
        },
        {
         "legendgroup": "pred",
         "marker": {
          "color": "#c5b0d5",
          "size": 6
         },
         "mode": "markers",
         "name": "Pred Group 169",
         "showlegend": false,
         "type": "scatter",
         "x": {
          "bdata": "81aDQg==",
          "dtype": "f4"
         },
         "xaxis": "x2",
         "y": {
          "bdata": "mMUKQA==",
          "dtype": "f4"
         },
         "yaxis": "y2"
        },
        {
         "legendgroup": "pred",
         "marker": {
          "color": "#c5b0d5",
          "size": 6
         },
         "mode": "markers",
         "name": "Pred Group 170",
         "showlegend": false,
         "type": "scatter",
         "x": {
          "bdata": "pUUHQg==",
          "dtype": "f4"
         },
         "xaxis": "x2",
         "y": {
          "bdata": "wTU0Qg==",
          "dtype": "f4"
         },
         "yaxis": "y2"
        },
        {
         "legendgroup": "pred",
         "marker": {
          "color": "#c5b0d5",
          "size": 6
         },
         "mode": "markers",
         "name": "Pred Group 171",
         "showlegend": false,
         "type": "scatter",
         "x": {
          "bdata": "RKOCQg==",
          "dtype": "f4"
         },
         "xaxis": "x2",
         "y": {
          "bdata": "UW6FQA==",
          "dtype": "f4"
         },
         "yaxis": "y2"
        },
        {
         "legendgroup": "pred",
         "marker": {
          "color": "#c5b0d5",
          "size": 6
         },
         "mode": "markers",
         "name": "Pred Group 172",
         "showlegend": false,
         "type": "scatter",
         "x": {
          "bdata": "rzuWwQ==",
          "dtype": "f4"
         },
         "xaxis": "x2",
         "y": {
          "bdata": "8NcxQg==",
          "dtype": "f4"
         },
         "yaxis": "y2"
        },
        {
         "legendgroup": "pred",
         "marker": {
          "color": "#c5b0d5",
          "size": 6
         },
         "mode": "markers",
         "name": "Pred Group 173",
         "showlegend": false,
         "type": "scatter",
         "x": {
          "bdata": "IfEywQ==",
          "dtype": "f4"
         },
         "xaxis": "x2",
         "y": {
          "bdata": "4MJ3wQ==",
          "dtype": "f4"
         },
         "yaxis": "y2"
        },
        {
         "legendgroup": "pred",
         "marker": {
          "color": "#c5b0d5",
          "size": 6
         },
         "mode": "markers",
         "name": "Pred Group 174",
         "showlegend": false,
         "type": "scatter",
         "x": {
          "bdata": "R4U2Qg==",
          "dtype": "f4"
         },
         "xaxis": "x2",
         "y": {
          "bdata": "9+enwA==",
          "dtype": "f4"
         },
         "yaxis": "y2"
        },
        {
         "legendgroup": "pred",
         "marker": {
          "color": "#c5b0d5",
          "size": 6
         },
         "mode": "markers",
         "name": "Pred Group 175",
         "showlegend": false,
         "type": "scatter",
         "x": {
          "bdata": "BlcyQg==",
          "dtype": "f4"
         },
         "xaxis": "x2",
         "y": {
          "bdata": "6xGpwA==",
          "dtype": "f4"
         },
         "yaxis": "y2"
        },
        {
         "legendgroup": "pred",
         "marker": {
          "color": "#c5b0d5",
          "size": 6
         },
         "mode": "markers",
         "name": "Pred Group 176",
         "showlegend": false,
         "type": "scatter",
         "x": {
          "bdata": "bpSRQQ==",
          "dtype": "f4"
         },
         "xaxis": "x2",
         "y": {
          "bdata": "gHWSPw==",
          "dtype": "f4"
         },
         "yaxis": "y2"
        },
        {
         "legendgroup": "pred",
         "marker": {
          "color": "#c5b0d5",
          "size": 6
         },
         "mode": "markers",
         "name": "Pred Group 177",
         "showlegend": false,
         "type": "scatter",
         "x": {
          "bdata": "AkiaQg==",
          "dtype": "f4"
         },
         "xaxis": "x2",
         "y": {
          "bdata": "crYZQQ==",
          "dtype": "f4"
         },
         "yaxis": "y2"
        },
        {
         "legendgroup": "pred",
         "marker": {
          "color": "#c5b0d5",
          "size": 6
         },
         "mode": "markers",
         "name": "Pred Group 178",
         "showlegend": false,
         "type": "scatter",
         "x": {
          "bdata": "aiQtQg==",
          "dtype": "f4"
         },
         "xaxis": "x2",
         "y": {
          "bdata": "RmZywA==",
          "dtype": "f4"
         },
         "yaxis": "y2"
        },
        {
         "legendgroup": "pred",
         "marker": {
          "color": "#c5b0d5",
          "size": 6
         },
         "mode": "markers",
         "name": "Pred Group 179",
         "showlegend": false,
         "type": "scatter",
         "x": {
          "bdata": "bXk1wQ==",
          "dtype": "f4"
         },
         "xaxis": "x2",
         "y": {
          "bdata": "WkMmQA==",
          "dtype": "f4"
         },
         "yaxis": "y2"
        },
        {
         "legendgroup": "pred",
         "marker": {
          "color": "#c5b0d5",
          "size": 6
         },
         "mode": "markers",
         "name": "Pred Group 180",
         "showlegend": false,
         "type": "scatter",
         "x": {
          "bdata": "qo+SwQ==",
          "dtype": "f4"
         },
         "xaxis": "x2",
         "y": {
          "bdata": "HzBVQg==",
          "dtype": "f4"
         },
         "yaxis": "y2"
        },
        {
         "legendgroup": "pred",
         "marker": {
          "color": "#c5b0d5",
          "size": 6
         },
         "mode": "markers",
         "name": "Pred Group 181",
         "showlegend": false,
         "type": "scatter",
         "x": {
          "bdata": "sOYHQA==",
          "dtype": "f4"
         },
         "xaxis": "x2",
         "y": {
          "bdata": "lqKHwQ==",
          "dtype": "f4"
         },
         "yaxis": "y2"
        },
        {
         "legendgroup": "pred",
         "marker": {
          "color": "#c5b0d5",
          "size": 6
         },
         "mode": "markers",
         "name": "Pred Group 182",
         "showlegend": false,
         "type": "scatter",
         "x": {
          "bdata": "aPiOwQ==",
          "dtype": "f4"
         },
         "xaxis": "x2",
         "y": {
          "bdata": "JhhjQg==",
          "dtype": "f4"
         },
         "yaxis": "y2"
        },
        {
         "legendgroup": "pred",
         "marker": {
          "color": "#8c564b",
          "size": 6
         },
         "mode": "markers",
         "name": "Pred Group 183",
         "showlegend": false,
         "type": "scatter",
         "x": {
          "bdata": "HQwAQg==",
          "dtype": "f4"
         },
         "xaxis": "x2",
         "y": {
          "bdata": "y80tQg==",
          "dtype": "f4"
         },
         "yaxis": "y2"
        },
        {
         "legendgroup": "pred",
         "marker": {
          "color": "#8c564b",
          "size": 6
         },
         "mode": "markers",
         "name": "Pred Group 184",
         "showlegend": false,
         "type": "scatter",
         "x": {
          "bdata": "w5n5QQ==",
          "dtype": "f4"
         },
         "xaxis": "x2",
         "y": {
          "bdata": "dnMwQg==",
          "dtype": "f4"
         },
         "yaxis": "y2"
        },
        {
         "legendgroup": "pred",
         "marker": {
          "color": "#8c564b",
          "size": 6
         },
         "mode": "markers",
         "name": "Pred Group 185",
         "showlegend": false,
         "type": "scatter",
         "x": {
          "bdata": "JWw3Qg==",
          "dtype": "f4"
         },
         "xaxis": "x2",
         "y": {
          "bdata": "9hx5QQ==",
          "dtype": "f4"
         },
         "yaxis": "y2"
        },
        {
         "legendgroup": "pred",
         "marker": {
          "color": "#8c564b",
          "size": 6
         },
         "mode": "markers",
         "name": "Pred Group 186",
         "showlegend": false,
         "type": "scatter",
         "x": {
          "bdata": "aqx/Qg==",
          "dtype": "f4"
         },
         "xaxis": "x2",
         "y": {
          "bdata": "lTWIQA==",
          "dtype": "f4"
         },
         "yaxis": "y2"
        },
        {
         "legendgroup": "pred",
         "marker": {
          "color": "#8c564b",
          "size": 6
         },
         "mode": "markers",
         "name": "Pred Group 187",
         "showlegend": false,
         "type": "scatter",
         "x": {
          "bdata": "mpw3Qg==",
          "dtype": "f4"
         },
         "xaxis": "x2",
         "y": {
          "bdata": "nZWPQA==",
          "dtype": "f4"
         },
         "yaxis": "y2"
        },
        {
         "legendgroup": "pred",
         "marker": {
          "color": "#8c564b",
          "size": 6
         },
         "mode": "markers",
         "name": "Pred Group 188",
         "showlegend": false,
         "type": "scatter",
         "x": {
          "bdata": "Z7sTQQ==",
          "dtype": "f4"
         },
         "xaxis": "x2",
         "y": {
          "bdata": "lVnxQQ==",
          "dtype": "f4"
         },
         "yaxis": "y2"
        },
        {
         "legendgroup": "pred",
         "marker": {
          "color": "#8c564b",
          "size": 6
         },
         "mode": "markers",
         "name": "Pred Group 189",
         "showlegend": false,
         "type": "scatter",
         "x": {
          "bdata": "y2c+wg==",
          "dtype": "f4"
         },
         "xaxis": "x2",
         "y": {
          "bdata": "LZNgQg==",
          "dtype": "f4"
         },
         "yaxis": "y2"
        },
        {
         "legendgroup": "pred",
         "marker": {
          "color": "#8c564b",
          "size": 6
         },
         "mode": "markers",
         "name": "Pred Group 190",
         "showlegend": false,
         "type": "scatter",
         "x": {
          "bdata": "tnpOwQ==",
          "dtype": "f4"
         },
         "xaxis": "x2",
         "y": {
          "bdata": "lbo3wg==",
          "dtype": "f4"
         },
         "yaxis": "y2"
        },
        {
         "legendgroup": "pred",
         "marker": {
          "color": "#8c564b",
          "size": 6
         },
         "mode": "markers",
         "name": "Pred Group 191",
         "showlegend": false,
         "type": "scatter",
         "x": {
          "bdata": "X49UwA==",
          "dtype": "f4"
         },
         "xaxis": "x2",
         "y": {
          "bdata": "oyniwQ==",
          "dtype": "f4"
         },
         "yaxis": "y2"
        },
        {
         "legendgroup": "pred",
         "marker": {
          "color": "#8c564b",
          "size": 6
         },
         "mode": "markers",
         "name": "Pred Group 192",
         "showlegend": false,
         "type": "scatter",
         "x": {
          "bdata": "NtZvQg==",
          "dtype": "f4"
         },
         "xaxis": "x2",
         "y": {
          "bdata": "8e9lvw==",
          "dtype": "f4"
         },
         "yaxis": "y2"
        },
        {
         "legendgroup": "pred",
         "marker": {
          "color": "#8c564b",
          "size": 6
         },
         "mode": "markers",
         "name": "Pred Group 193",
         "showlegend": false,
         "type": "scatter",
         "x": {
          "bdata": "UE82Qg==",
          "dtype": "f4"
         },
         "xaxis": "x2",
         "y": {
          "bdata": "xSMjPw==",
          "dtype": "f4"
         },
         "yaxis": "y2"
        },
        {
         "legendgroup": "pred",
         "marker": {
          "color": "#8c564b",
          "size": 6
         },
         "mode": "markers",
         "name": "Pred Group 194",
         "showlegend": false,
         "type": "scatter",
         "x": {
          "bdata": "e0xgQg==",
          "dtype": "f4"
         },
         "xaxis": "x2",
         "y": {
          "bdata": "1IwxwQ==",
          "dtype": "f4"
         },
         "yaxis": "y2"
        },
        {
         "legendgroup": "pred",
         "marker": {
          "color": "#8c564b",
          "size": 6
         },
         "mode": "markers",
         "name": "Pred Group 195",
         "showlegend": false,
         "type": "scatter",
         "x": {
          "bdata": "bsNJwQ==",
          "dtype": "f4"
         },
         "xaxis": "x2",
         "y": {
          "bdata": "ypUnQQ==",
          "dtype": "f4"
         },
         "yaxis": "y2"
        },
        {
         "legendgroup": "pred",
         "marker": {
          "color": "#8c564b",
          "size": 6
         },
         "mode": "markers",
         "name": "Pred Group 196",
         "showlegend": false,
         "type": "scatter",
         "x": {
          "bdata": "pGxEwg==",
          "dtype": "f4"
         },
         "xaxis": "x2",
         "y": {
          "bdata": "MW5hQg==",
          "dtype": "f4"
         },
         "yaxis": "y2"
        },
        {
         "legendgroup": "pred",
         "marker": {
          "color": "#8c564b",
          "size": 6
         },
         "mode": "markers",
         "name": "Pred Group 197",
         "showlegend": false,
         "type": "scatter",
         "x": {
          "bdata": "mQ6Qwg==",
          "dtype": "f4"
         },
         "xaxis": "x2",
         "y": {
          "bdata": "Pbw8wQ==",
          "dtype": "f4"
         },
         "yaxis": "y2"
        },
        {
         "legendgroup": "pred",
         "marker": {
          "color": "#8c564b",
          "size": 6
         },
         "mode": "markers",
         "name": "Pred Group 198",
         "showlegend": false,
         "type": "scatter",
         "x": {
          "bdata": "YqnAwQ==",
          "dtype": "f4"
         },
         "xaxis": "x2",
         "y": {
          "bdata": "yHCzQQ==",
          "dtype": "f4"
         },
         "yaxis": "y2"
        },
        {
         "legendgroup": "pred",
         "marker": {
          "color": "#8c564b",
          "size": 6
         },
         "mode": "markers",
         "name": "Pred Group 199",
         "showlegend": false,
         "type": "scatter",
         "x": {
          "bdata": "BFdYQQ==",
          "dtype": "f4"
         },
         "xaxis": "x2",
         "y": {
          "bdata": "bL5OQQ==",
          "dtype": "f4"
         },
         "yaxis": "y2"
        },
        {
         "legendgroup": "pred",
         "marker": {
          "color": "#8c564b",
          "size": 6
         },
         "mode": "markers",
         "name": "Pred Group 200",
         "showlegend": false,
         "type": "scatter",
         "x": {
          "bdata": "Py87wg==",
          "dtype": "f4"
         },
         "xaxis": "x2",
         "y": {
          "bdata": "oJpDQg==",
          "dtype": "f4"
         },
         "yaxis": "y2"
        },
        {
         "legendgroup": "pred",
         "marker": {
          "color": "#8c564b",
          "size": 6
         },
         "mode": "markers",
         "name": "Pred Group 201",
         "showlegend": false,
         "type": "scatter",
         "x": {
          "bdata": "YMW2wQ==",
          "dtype": "f4"
         },
         "xaxis": "x2",
         "y": {
          "bdata": "uoS0QQ==",
          "dtype": "f4"
         },
         "yaxis": "y2"
        },
        {
         "legendgroup": "pred",
         "marker": {
          "color": "#c49c94",
          "size": 6
         },
         "mode": "markers",
         "name": "Pred Group 202",
         "showlegend": false,
         "type": "scatter",
         "x": {
          "bdata": "jqRpQg==",
          "dtype": "f4"
         },
         "xaxis": "x2",
         "y": {
          "bdata": "4e4sQQ==",
          "dtype": "f4"
         },
         "yaxis": "y2"
        },
        {
         "legendgroup": "pred",
         "marker": {
          "color": "#c49c94",
          "size": 6
         },
         "mode": "markers",
         "name": "Pred Group 203",
         "showlegend": false,
         "type": "scatter",
         "x": {
          "bdata": "u+rVwA==",
          "dtype": "f4"
         },
         "xaxis": "x2",
         "y": {
          "bdata": "K5K7QQ==",
          "dtype": "f4"
         },
         "yaxis": "y2"
        },
        {
         "legendgroup": "pred",
         "marker": {
          "color": "#c49c94",
          "size": 6
         },
         "mode": "markers",
         "name": "Pred Group 204",
         "showlegend": false,
         "type": "scatter",
         "x": {
          "bdata": "u/T3vw==",
          "dtype": "f4"
         },
         "xaxis": "x2",
         "y": {
          "bdata": "B8qfQQ==",
          "dtype": "f4"
         },
         "yaxis": "y2"
        },
        {
         "legendgroup": "pred",
         "marker": {
          "color": "#c49c94",
          "size": 6
         },
         "mode": "markers",
         "name": "Pred Group 205",
         "showlegend": false,
         "type": "scatter",
         "x": {
          "bdata": "IyYwQQ==",
          "dtype": "f4"
         },
         "xaxis": "x2",
         "y": {
          "bdata": "GR96QQ==",
          "dtype": "f4"
         },
         "yaxis": "y2"
        },
        {
         "legendgroup": "pred",
         "marker": {
          "color": "#c49c94",
          "size": 6
         },
         "mode": "markers",
         "name": "Pred Group 206",
         "showlegend": false,
         "type": "scatter",
         "x": {
          "bdata": "lXYBQg==",
          "dtype": "f4"
         },
         "xaxis": "x2",
         "y": {
          "bdata": "B07+wQ==",
          "dtype": "f4"
         },
         "yaxis": "y2"
        },
        {
         "legendgroup": "pred",
         "marker": {
          "color": "#c49c94",
          "size": 6
         },
         "mode": "markers",
         "name": "Pred Group 207",
         "showlegend": false,
         "type": "scatter",
         "x": {
          "bdata": "lUc2Qg==",
          "dtype": "f4"
         },
         "xaxis": "x2",
         "y": {
          "bdata": "DfAawg==",
          "dtype": "f4"
         },
         "yaxis": "y2"
        },
        {
         "legendgroup": "pred",
         "marker": {
          "color": "#c49c94",
          "size": 6
         },
         "mode": "markers",
         "name": "Pred Group 208",
         "showlegend": false,
         "type": "scatter",
         "x": {
          "bdata": "jkwywg==",
          "dtype": "f4"
         },
         "xaxis": "x2",
         "y": {
          "bdata": "+pSPQQ==",
          "dtype": "f4"
         },
         "yaxis": "y2"
        },
        {
         "legendgroup": "pred",
         "marker": {
          "color": "#c49c94",
          "size": 6
         },
         "mode": "markers",
         "name": "Pred Group 209",
         "showlegend": false,
         "type": "scatter",
         "x": {
          "bdata": "bIKqQA==",
          "dtype": "f4"
         },
         "xaxis": "x2",
         "y": {
          "bdata": "ut4xwg==",
          "dtype": "f4"
         },
         "yaxis": "y2"
        },
        {
         "legendgroup": "pred",
         "marker": {
          "color": "#c49c94",
          "size": 6
         },
         "mode": "markers",
         "name": "Pred Group 210",
         "showlegend": false,
         "type": "scatter",
         "x": {
          "bdata": "wNhSwQ==",
          "dtype": "f4"
         },
         "xaxis": "x2",
         "y": {
          "bdata": "WkBVQQ==",
          "dtype": "f4"
         },
         "yaxis": "y2"
        },
        {
         "legendgroup": "pred",
         "marker": {
          "color": "#c49c94",
          "size": 6
         },
         "mode": "markers",
         "name": "Pred Group 211",
         "showlegend": false,
         "type": "scatter",
         "x": {
          "bdata": "PP0zQQ==",
          "dtype": "f4"
         },
         "xaxis": "x2",
         "y": {
          "bdata": "j3MYwg==",
          "dtype": "f4"
         },
         "yaxis": "y2"
        },
        {
         "legendgroup": "pred",
         "marker": {
          "color": "#c49c94",
          "size": 6
         },
         "mode": "markers",
         "name": "Pred Group 212",
         "showlegend": false,
         "type": "scatter",
         "x": {
          "bdata": "emDHQQ==",
          "dtype": "f4"
         },
         "xaxis": "x2",
         "y": {
          "bdata": "RCQWwg==",
          "dtype": "f4"
         },
         "yaxis": "y2"
        },
        {
         "legendgroup": "pred",
         "marker": {
          "color": "#c49c94",
          "size": 6
         },
         "mode": "markers",
         "name": "Pred Group 213",
         "showlegend": false,
         "type": "scatter",
         "x": {
          "bdata": "wB+ZwQ==",
          "dtype": "f4"
         },
         "xaxis": "x2",
         "y": {
          "bdata": "58x1Qg==",
          "dtype": "f4"
         },
         "yaxis": "y2"
        },
        {
         "legendgroup": "pred",
         "marker": {
          "color": "#c49c94",
          "size": 6
         },
         "mode": "markers",
         "name": "Pred Group 214",
         "showlegend": false,
         "type": "scatter",
         "x": {
          "bdata": "BLPvwQ==",
          "dtype": "f4"
         },
         "xaxis": "x2",
         "y": {
          "bdata": "zMCIQQ==",
          "dtype": "f4"
         },
         "yaxis": "y2"
        },
        {
         "legendgroup": "pred",
         "marker": {
          "color": "#c49c94",
          "size": 6
         },
         "mode": "markers",
         "name": "Pred Group 215",
         "showlegend": false,
         "type": "scatter",
         "x": {
          "bdata": "k0xGQg==",
          "dtype": "f4"
         },
         "xaxis": "x2",
         "y": {
          "bdata": "C2ZlQQ==",
          "dtype": "f4"
         },
         "yaxis": "y2"
        },
        {
         "legendgroup": "pred",
         "marker": {
          "color": "#c49c94",
          "size": 6
         },
         "mode": "markers",
         "name": "Pred Group 216",
         "showlegend": false,
         "type": "scatter",
         "x": {
          "bdata": "sdFKwg==",
          "dtype": "f4"
         },
         "xaxis": "x2",
         "y": {
          "bdata": "0UvYQA==",
          "dtype": "f4"
         },
         "yaxis": "y2"
        },
        {
         "legendgroup": "pred",
         "marker": {
          "color": "#c49c94",
          "size": 6
         },
         "mode": "markers",
         "name": "Pred Group 217",
         "showlegend": false,
         "type": "scatter",
         "x": {
          "bdata": "TzY/wQ==",
          "dtype": "f4"
         },
         "xaxis": "x2",
         "y": {
          "bdata": "nSMQQQ==",
          "dtype": "f4"
         },
         "yaxis": "y2"
        },
        {
         "legendgroup": "pred",
         "marker": {
          "color": "#c49c94",
          "size": 6
         },
         "mode": "markers",
         "name": "Pred Group 218",
         "showlegend": false,
         "type": "scatter",
         "x": {
          "bdata": "2W4bQg==",
          "dtype": "f4"
         },
         "xaxis": "x2",
         "y": {
          "bdata": "Rtobwg==",
          "dtype": "f4"
         },
         "yaxis": "y2"
        },
        {
         "legendgroup": "pred",
         "marker": {
          "color": "#c49c94",
          "size": 6
         },
         "mode": "markers",
         "name": "Pred Group 219",
         "showlegend": false,
         "type": "scatter",
         "x": {
          "bdata": "9RAjwQ==",
          "dtype": "f4"
         },
         "xaxis": "x2",
         "y": {
          "bdata": "0j+BQQ==",
          "dtype": "f4"
         },
         "yaxis": "y2"
        },
        {
         "legendgroup": "pred",
         "marker": {
          "color": "#e377c2",
          "size": 6
         },
         "mode": "markers",
         "name": "Pred Group 220",
         "showlegend": false,
         "type": "scatter",
         "x": {
          "bdata": "EbZdQg==",
          "dtype": "f4"
         },
         "xaxis": "x2",
         "y": {
          "bdata": "PLizwA==",
          "dtype": "f4"
         },
         "yaxis": "y2"
        },
        {
         "legendgroup": "pred",
         "marker": {
          "color": "#e377c2",
          "size": 6
         },
         "mode": "markers",
         "name": "Pred Group 221",
         "showlegend": false,
         "type": "scatter",
         "x": {
          "bdata": "tE4DQg==",
          "dtype": "f4"
         },
         "xaxis": "x2",
         "y": {
          "bdata": "S0bUQQ==",
          "dtype": "f4"
         },
         "yaxis": "y2"
        },
        {
         "legendgroup": "pred",
         "marker": {
          "color": "#e377c2",
          "size": 6
         },
         "mode": "markers",
         "name": "Pred Group 222",
         "showlegend": false,
         "type": "scatter",
         "x": {
          "bdata": "jpVYQg==",
          "dtype": "f4"
         },
         "xaxis": "x2",
         "y": {
          "bdata": "ZRXVwA==",
          "dtype": "f4"
         },
         "yaxis": "y2"
        },
        {
         "legendgroup": "pred",
         "marker": {
          "color": "#e377c2",
          "size": 6
         },
         "mode": "markers",
         "name": "Pred Group 223",
         "showlegend": false,
         "type": "scatter",
         "x": {
          "bdata": "zkINQg==",
          "dtype": "f4"
         },
         "xaxis": "x2",
         "y": {
          "bdata": "hR52QA==",
          "dtype": "f4"
         },
         "yaxis": "y2"
        },
        {
         "legendgroup": "pred",
         "marker": {
          "color": "#e377c2",
          "size": 6
         },
         "mode": "markers",
         "name": "Pred Group 224",
         "showlegend": false,
         "type": "scatter",
         "x": {
          "bdata": "pvlGwQ==",
          "dtype": "f4"
         },
         "xaxis": "x2",
         "y": {
          "bdata": "oXlkQQ==",
          "dtype": "f4"
         },
         "yaxis": "y2"
        },
        {
         "legendgroup": "pred",
         "marker": {
          "color": "#e377c2",
          "size": 6
         },
         "mode": "markers",
         "name": "Pred Group 225",
         "showlegend": false,
         "type": "scatter",
         "x": {
          "bdata": "Y6ivwA==",
          "dtype": "f4"
         },
         "xaxis": "x2",
         "y": {
          "bdata": "WecTQQ==",
          "dtype": "f4"
         },
         "yaxis": "y2"
        },
        {
         "legendgroup": "pred",
         "marker": {
          "color": "#e377c2",
          "size": 6
         },
         "mode": "markers",
         "name": "Pred Group 226",
         "showlegend": false,
         "type": "scatter",
         "x": {
          "bdata": "CfXEwQ==",
          "dtype": "f4"
         },
         "xaxis": "x2",
         "y": {
          "bdata": "RtVAwg==",
          "dtype": "f4"
         },
         "yaxis": "y2"
        },
        {
         "legendgroup": "pred",
         "marker": {
          "color": "#e377c2",
          "size": 6
         },
         "mode": "markers",
         "name": "Pred Group 227",
         "showlegend": false,
         "type": "scatter",
         "x": {
          "bdata": "C1lLwg==",
          "dtype": "f4"
         },
         "xaxis": "x2",
         "y": {
          "bdata": "1RHSwQ==",
          "dtype": "f4"
         },
         "yaxis": "y2"
        },
        {
         "legendgroup": "pred",
         "marker": {
          "color": "#e377c2",
          "size": 6
         },
         "mode": "markers",
         "name": "Pred Group 228",
         "showlegend": false,
         "type": "scatter",
         "x": {
          "bdata": "4/VLwg==",
          "dtype": "f4"
         },
         "xaxis": "x2",
         "y": {
          "bdata": "pv3VwQ==",
          "dtype": "f4"
         },
         "yaxis": "y2"
        },
        {
         "legendgroup": "pred",
         "marker": {
          "color": "#e377c2",
          "size": 6
         },
         "mode": "markers",
         "name": "Pred Group 229",
         "showlegend": false,
         "type": "scatter",
         "x": {
          "bdata": "sehywg==",
          "dtype": "f4"
         },
         "xaxis": "x2",
         "y": {
          "bdata": "VNQnwQ==",
          "dtype": "f4"
         },
         "yaxis": "y2"
        },
        {
         "legendgroup": "pred",
         "marker": {
          "color": "#e377c2",
          "size": 6
         },
         "mode": "markers",
         "name": "Pred Group 230",
         "showlegend": false,
         "type": "scatter",
         "x": {
          "bdata": "GvFpwg==",
          "dtype": "f4"
         },
         "xaxis": "x2",
         "y": {
          "bdata": "CsYYwQ==",
          "dtype": "f4"
         },
         "yaxis": "y2"
        },
        {
         "legendgroup": "pred",
         "marker": {
          "color": "#e377c2",
          "size": 6
         },
         "mode": "markers",
         "name": "Pred Group 231",
         "showlegend": false,
         "type": "scatter",
         "x": {
          "bdata": "A1Vswg==",
          "dtype": "f4"
         },
         "xaxis": "x2",
         "y": {
          "bdata": "+W8XwQ==",
          "dtype": "f4"
         },
         "yaxis": "y2"
        },
        {
         "legendgroup": "pred",
         "marker": {
          "color": "#e377c2",
          "size": 6
         },
         "mode": "markers",
         "name": "Pred Group 232",
         "showlegend": false,
         "type": "scatter",
         "x": {
          "bdata": "uLtZwg==",
          "dtype": "f4"
         },
         "xaxis": "x2",
         "y": {
          "bdata": "RC4Dwg==",
          "dtype": "f4"
         },
         "yaxis": "y2"
        },
        {
         "legendgroup": "pred",
         "marker": {
          "color": "#e377c2",
          "size": 6
         },
         "mode": "markers",
         "name": "Pred Group 233",
         "showlegend": false,
         "type": "scatter",
         "x": {
          "bdata": "dXJOwg==",
          "dtype": "f4"
         },
         "xaxis": "x2",
         "y": {
          "bdata": "hefywQ==",
          "dtype": "f4"
         },
         "yaxis": "y2"
        },
        {
         "legendgroup": "pred",
         "marker": {
          "color": "#e377c2",
          "size": 6
         },
         "mode": "markers",
         "name": "Pred Group 234",
         "showlegend": false,
         "type": "scatter",
         "x": {
          "bdata": "vGDbwQ==",
          "dtype": "f4"
         },
         "xaxis": "x2",
         "y": {
          "bdata": "4ccTQg==",
          "dtype": "f4"
         },
         "yaxis": "y2"
        },
        {
         "legendgroup": "pred",
         "marker": {
          "color": "#e377c2",
          "size": 6
         },
         "mode": "markers",
         "name": "Pred Group 235",
         "showlegend": false,
         "type": "scatter",
         "x": {
          "bdata": "7oaKwg==",
          "dtype": "f4"
         },
         "xaxis": "x2",
         "y": {
          "bdata": "4ngwwQ==",
          "dtype": "f4"
         },
         "yaxis": "y2"
        },
        {
         "legendgroup": "pred",
         "marker": {
          "color": "#e377c2",
          "size": 6
         },
         "mode": "markers",
         "name": "Pred Group 236",
         "showlegend": false,
         "type": "scatter",
         "x": {
          "bdata": "pWqLwg==",
          "dtype": "f4"
         },
         "xaxis": "x2",
         "y": {
          "bdata": "InZWwQ==",
          "dtype": "f4"
         },
         "yaxis": "y2"
        },
        {
         "legendgroup": "pred",
         "marker": {
          "color": "#e377c2",
          "size": 6
         },
         "mode": "markers",
         "name": "Pred Group 237",
         "showlegend": false,
         "type": "scatter",
         "x": {
          "bdata": "bqpYwQ==",
          "dtype": "f4"
         },
         "xaxis": "x2",
         "y": {
          "bdata": "hTiEwQ==",
          "dtype": "f4"
         },
         "yaxis": "y2"
        },
        {
         "legendgroup": "pred",
         "marker": {
          "color": "#f7b6d2",
          "size": 6
         },
         "mode": "markers",
         "name": "Pred Group 238",
         "showlegend": false,
         "type": "scatter",
         "x": {
          "bdata": "C5qNwg==",
          "dtype": "f4"
         },
         "xaxis": "x2",
         "y": {
          "bdata": "J35pwQ==",
          "dtype": "f4"
         },
         "yaxis": "y2"
        },
        {
         "legendgroup": "pred",
         "marker": {
          "color": "#f7b6d2",
          "size": 6
         },
         "mode": "markers",
         "name": "Pred Group 239",
         "showlegend": false,
         "type": "scatter",
         "x": {
          "bdata": "/VE7wg==",
          "dtype": "f4"
         },
         "xaxis": "x2",
         "y": {
          "bdata": "xLKCQQ==",
          "dtype": "f4"
         },
         "yaxis": "y2"
        },
        {
         "legendgroup": "pred",
         "marker": {
          "color": "#f7b6d2",
          "size": 6
         },
         "mode": "markers",
         "name": "Pred Group 240",
         "showlegend": false,
         "type": "scatter",
         "x": {
          "bdata": "almMwg==",
          "dtype": "f4"
         },
         "xaxis": "x2",
         "y": {
          "bdata": "StJIwQ==",
          "dtype": "f4"
         },
         "yaxis": "y2"
        },
        {
         "legendgroup": "pred",
         "marker": {
          "color": "#f7b6d2",
          "size": 6
         },
         "mode": "markers",
         "name": "Pred Group 241",
         "showlegend": false,
         "type": "scatter",
         "x": {
          "bdata": "D9KZwQ==",
          "dtype": "f4"
         },
         "xaxis": "x2",
         "y": {
          "bdata": "/SZ6wQ==",
          "dtype": "f4"
         },
         "yaxis": "y2"
        },
        {
         "legendgroup": "pred",
         "marker": {
          "color": "#f7b6d2",
          "size": 6
         },
         "mode": "markers",
         "name": "Pred Group 242",
         "showlegend": false,
         "type": "scatter",
         "x": {
          "bdata": "DxSIwg==",
          "dtype": "f4"
         },
         "xaxis": "x2",
         "y": {
          "bdata": "7PVewQ==",
          "dtype": "f4"
         },
         "yaxis": "y2"
        },
        {
         "legendgroup": "pred",
         "marker": {
          "color": "#f7b6d2",
          "size": 6
         },
         "mode": "markers",
         "name": "Pred Group 243",
         "showlegend": false,
         "type": "scatter",
         "x": {
          "bdata": "vN9pwg==",
          "dtype": "f4"
         },
         "xaxis": "x2",
         "y": {
          "bdata": "IttywA==",
          "dtype": "f4"
         },
         "yaxis": "y2"
        },
        {
         "legendgroup": "pred",
         "marker": {
          "color": "#f7b6d2",
          "size": 6
         },
         "mode": "markers",
         "name": "Pred Group 244",
         "showlegend": false,
         "type": "scatter",
         "x": {
          "bdata": "hy2Fwg==",
          "dtype": "f4"
         },
         "xaxis": "x2",
         "y": {
          "bdata": "TkJwwQ==",
          "dtype": "f4"
         },
         "yaxis": "y2"
        },
        {
         "legendgroup": "pred",
         "marker": {
          "color": "#f7b6d2",
          "size": 6
         },
         "mode": "markers",
         "name": "Pred Group 245",
         "showlegend": false,
         "type": "scatter",
         "x": {
          "bdata": "IG5pwg==",
          "dtype": "f4"
         },
         "xaxis": "x2",
         "y": {
          "bdata": "1HPYwA==",
          "dtype": "f4"
         },
         "yaxis": "y2"
        },
        {
         "legendgroup": "pred",
         "marker": {
          "color": "#f7b6d2",
          "size": 6
         },
         "mode": "markers",
         "name": "Pred Group 246",
         "showlegend": false,
         "type": "scatter",
         "x": {
          "bdata": "98YCQg==",
          "dtype": "f4"
         },
         "xaxis": "x2",
         "y": {
          "bdata": "7JQ5QA==",
          "dtype": "f4"
         },
         "yaxis": "y2"
        },
        {
         "legendgroup": "pred",
         "marker": {
          "color": "#f7b6d2",
          "size": 6
         },
         "mode": "markers",
         "name": "Pred Group 247",
         "showlegend": false,
         "type": "scatter",
         "x": {
          "bdata": "ohbVwQ==",
          "dtype": "f4"
         },
         "xaxis": "x2",
         "y": {
          "bdata": "aEIiPw==",
          "dtype": "f4"
         },
         "yaxis": "y2"
        },
        {
         "legendgroup": "pred",
         "marker": {
          "color": "#f7b6d2",
          "size": 6
         },
         "mode": "markers",
         "name": "Pred Group 248",
         "showlegend": false,
         "type": "scatter",
         "x": {
          "bdata": "fcDUwQ==",
          "dtype": "f4"
         },
         "xaxis": "x2",
         "y": {
          "bdata": "lhtQvw==",
          "dtype": "f4"
         },
         "yaxis": "y2"
        },
        {
         "legendgroup": "pred",
         "marker": {
          "color": "#f7b6d2",
          "size": 6
         },
         "mode": "markers",
         "name": "Pred Group 249",
         "showlegend": false,
         "type": "scatter",
         "x": {
          "bdata": "A4KnQQ==",
          "dtype": "f4"
         },
         "xaxis": "x2",
         "y": {
          "bdata": "Mn5Kwg==",
          "dtype": "f4"
         },
         "yaxis": "y2"
        },
        {
         "legendgroup": "pred",
         "marker": {
          "color": "#f7b6d2",
          "size": 6
         },
         "mode": "markers",
         "name": "Pred Group 250",
         "showlegend": false,
         "type": "scatter",
         "x": {
          "bdata": "IPllQQ==",
          "dtype": "f4"
         },
         "xaxis": "x2",
         "y": {
          "bdata": "ElI/QQ==",
          "dtype": "f4"
         },
         "yaxis": "y2"
        },
        {
         "legendgroup": "pred",
         "marker": {
          "color": "#f7b6d2",
          "size": 6
         },
         "mode": "markers",
         "name": "Pred Group 251",
         "showlegend": false,
         "type": "scatter",
         "x": {
          "bdata": "u001Qg==",
          "dtype": "f4"
         },
         "xaxis": "x2",
         "y": {
          "bdata": "FmkEwg==",
          "dtype": "f4"
         },
         "yaxis": "y2"
        },
        {
         "legendgroup": "pred",
         "marker": {
          "color": "#f7b6d2",
          "size": 6
         },
         "mode": "markers",
         "name": "Pred Group 252",
         "showlegend": false,
         "type": "scatter",
         "x": {
          "bdata": "/OE3Qg==",
          "dtype": "f4"
         },
         "xaxis": "x2",
         "y": {
          "bdata": "eJoUwg==",
          "dtype": "f4"
         },
         "yaxis": "y2"
        },
        {
         "legendgroup": "pred",
         "marker": {
          "color": "#f7b6d2",
          "size": 6
         },
         "mode": "markers",
         "name": "Pred Group 253",
         "showlegend": false,
         "type": "scatter",
         "x": {
          "bdata": "shH4wQ==",
          "dtype": "f4"
         },
         "xaxis": "x2",
         "y": {
          "bdata": "69clQg==",
          "dtype": "f4"
         },
         "yaxis": "y2"
        },
        {
         "legendgroup": "pred",
         "marker": {
          "color": "#f7b6d2",
          "size": 6
         },
         "mode": "markers",
         "name": "Pred Group 254",
         "showlegend": false,
         "type": "scatter",
         "x": {
          "bdata": "lkVfwQ==",
          "dtype": "f4"
         },
         "xaxis": "x2",
         "y": {
          "bdata": "R4zLQA==",
          "dtype": "f4"
         },
         "yaxis": "y2"
        },
        {
         "legendgroup": "pred",
         "marker": {
          "color": "#f7b6d2",
          "size": 6
         },
         "mode": "markers",
         "name": "Pred Group 255",
         "showlegend": false,
         "type": "scatter",
         "x": {
          "bdata": "wdv0wQ==",
          "dtype": "f4"
         },
         "xaxis": "x2",
         "y": {
          "bdata": "Fy9fQQ==",
          "dtype": "f4"
         },
         "yaxis": "y2"
        },
        {
         "legendgroup": "pred",
         "marker": {
          "color": "#f7b6d2",
          "size": 6
         },
         "mode": "markers",
         "name": "Pred Group 256",
         "showlegend": false,
         "type": "scatter",
         "x": {
          "bdata": "Zs9rQg==",
          "dtype": "f4"
         },
         "xaxis": "x2",
         "y": {
          "bdata": "+sIrQQ==",
          "dtype": "f4"
         },
         "yaxis": "y2"
        },
        {
         "legendgroup": "pred",
         "marker": {
          "color": "#7f7f7f",
          "size": 6
         },
         "mode": "markers",
         "name": "Pred Group 257",
         "showlegend": false,
         "type": "scatter",
         "x": {
          "bdata": "3dyBQg==",
          "dtype": "f4"
         },
         "xaxis": "x2",
         "y": {
          "bdata": "oIzpQA==",
          "dtype": "f4"
         },
         "yaxis": "y2"
        },
        {
         "legendgroup": "pred",
         "marker": {
          "color": "#7f7f7f",
          "size": 6
         },
         "mode": "markers",
         "name": "Pred Group 258",
         "showlegend": false,
         "type": "scatter",
         "x": {
          "bdata": "/ymLwQ==",
          "dtype": "f4"
         },
         "xaxis": "x2",
         "y": {
          "bdata": "fu4nQg==",
          "dtype": "f4"
         },
         "yaxis": "y2"
        },
        {
         "legendgroup": "pred",
         "marker": {
          "color": "#7f7f7f",
          "size": 6
         },
         "mode": "markers",
         "name": "Pred Group 259",
         "showlegend": false,
         "type": "scatter",
         "x": {
          "bdata": "zZPlwQ==",
          "dtype": "f4"
         },
         "xaxis": "x2",
         "y": {
          "bdata": "qFcWQg==",
          "dtype": "f4"
         },
         "yaxis": "y2"
        },
        {
         "legendgroup": "pred",
         "marker": {
          "color": "#7f7f7f",
          "size": 6
         },
         "mode": "markers",
         "name": "Pred Group 260",
         "showlegend": false,
         "type": "scatter",
         "x": {
          "bdata": "9tnmwQ==",
          "dtype": "f4"
         },
         "xaxis": "x2",
         "y": {
          "bdata": "smCDQQ==",
          "dtype": "f4"
         },
         "yaxis": "y2"
        },
        {
         "legendgroup": "pred",
         "marker": {
          "color": "#7f7f7f",
          "size": 6
         },
         "mode": "markers",
         "name": "Pred Group 261",
         "showlegend": false,
         "type": "scatter",
         "x": {
          "bdata": "UdSDQQ==",
          "dtype": "f4"
         },
         "xaxis": "x2",
         "y": {
          "bdata": "xbSTQQ==",
          "dtype": "f4"
         },
         "yaxis": "y2"
        },
        {
         "legendgroup": "pred",
         "marker": {
          "color": "#7f7f7f",
          "size": 6
         },
         "mode": "markers",
         "name": "Pred Group 262",
         "showlegend": false,
         "type": "scatter",
         "x": {
          "bdata": "4PwCwg==",
          "dtype": "f4"
         },
         "xaxis": "x2",
         "y": {
          "bdata": "JfSEQQ==",
          "dtype": "f4"
         },
         "yaxis": "y2"
        },
        {
         "legendgroup": "pred",
         "marker": {
          "color": "#7f7f7f",
          "size": 6
         },
         "mode": "markers",
         "name": "Pred Group 263",
         "showlegend": false,
         "type": "scatter",
         "x": {
          "bdata": "Sr4jQg==",
          "dtype": "f4"
         },
         "xaxis": "x2",
         "y": {
          "bdata": "MLzwPw==",
          "dtype": "f4"
         },
         "yaxis": "y2"
        },
        {
         "legendgroup": "pred",
         "marker": {
          "color": "#7f7f7f",
          "size": 6
         },
         "mode": "markers",
         "name": "Pred Group 264",
         "showlegend": false,
         "type": "scatter",
         "x": {
          "bdata": "muFcQg==",
          "dtype": "f4"
         },
         "xaxis": "x2",
         "y": {
          "bdata": "NH4AQQ==",
          "dtype": "f4"
         },
         "yaxis": "y2"
        },
        {
         "legendgroup": "pred",
         "marker": {
          "color": "#7f7f7f",
          "size": 6
         },
         "mode": "markers",
         "name": "Pred Group 265",
         "showlegend": false,
         "type": "scatter",
         "x": {
          "bdata": "Ww2IQQ==",
          "dtype": "f4"
         },
         "xaxis": "x2",
         "y": {
          "bdata": "sxxOPw==",
          "dtype": "f4"
         },
         "yaxis": "y2"
        },
        {
         "legendgroup": "pred",
         "marker": {
          "color": "#7f7f7f",
          "size": 6
         },
         "mode": "markers",
         "name": "Pred Group 266",
         "showlegend": false,
         "type": "scatter",
         "x": {
          "bdata": "HG5kwQ==",
          "dtype": "f4"
         },
         "xaxis": "x2",
         "y": {
          "bdata": "DBxJwg==",
          "dtype": "f4"
         },
         "yaxis": "y2"
        },
        {
         "legendgroup": "pred",
         "marker": {
          "color": "#7f7f7f",
          "size": 6
         },
         "mode": "markers",
         "name": "Pred Group 267",
         "showlegend": false,
         "type": "scatter",
         "x": {
          "bdata": "geUlwg==",
          "dtype": "f4"
         },
         "xaxis": "x2",
         "y": {
          "bdata": "8tcrQg==",
          "dtype": "f4"
         },
         "yaxis": "y2"
        },
        {
         "legendgroup": "pred",
         "marker": {
          "color": "#7f7f7f",
          "size": 6
         },
         "mode": "markers",
         "name": "Pred Group 268",
         "showlegend": false,
         "type": "scatter",
         "x": {
          "bdata": "2BWCQQ==",
          "dtype": "f4"
         },
         "xaxis": "x2",
         "y": {
          "bdata": "7jRJwA==",
          "dtype": "f4"
         },
         "yaxis": "y2"
        },
        {
         "legendgroup": "pred",
         "marker": {
          "color": "#7f7f7f",
          "size": 6
         },
         "mode": "markers",
         "name": "Pred Group 269",
         "showlegend": false,
         "type": "scatter",
         "x": {
          "bdata": "2YMmwg==",
          "dtype": "f4"
         },
         "xaxis": "x2",
         "y": {
          "bdata": "At8uQg==",
          "dtype": "f4"
         },
         "yaxis": "y2"
        },
        {
         "legendgroup": "pred",
         "marker": {
          "color": "#7f7f7f",
          "size": 6
         },
         "mode": "markers",
         "name": "Pred Group 270",
         "showlegend": false,
         "type": "scatter",
         "x": {
          "bdata": "edwRPw==",
          "dtype": "f4"
         },
         "xaxis": "x2",
         "y": {
          "bdata": "i4WPQQ==",
          "dtype": "f4"
         },
         "yaxis": "y2"
        },
        {
         "legendgroup": "pred",
         "marker": {
          "color": "#7f7f7f",
          "size": 6
         },
         "mode": "markers",
         "name": "Pred Group 271",
         "showlegend": false,
         "type": "scatter",
         "x": {
          "bdata": "F+/swQ==",
          "dtype": "f4"
         },
         "xaxis": "x2",
         "y": {
          "bdata": "MJwyQg==",
          "dtype": "f4"
         },
         "yaxis": "y2"
        },
        {
         "legendgroup": "pred",
         "marker": {
          "color": "#7f7f7f",
          "size": 6
         },
         "mode": "markers",
         "name": "Pred Group 272",
         "showlegend": false,
         "type": "scatter",
         "x": {
          "bdata": "dV9+QA==",
          "dtype": "f4"
         },
         "xaxis": "x2",
         "y": {
          "bdata": "SS9WQA==",
          "dtype": "f4"
         },
         "yaxis": "y2"
        },
        {
         "legendgroup": "pred",
         "marker": {
          "color": "#7f7f7f",
          "size": 6
         },
         "mode": "markers",
         "name": "Pred Group 273",
         "showlegend": false,
         "type": "scatter",
         "x": {
          "bdata": "esiGQA==",
          "dtype": "f4"
         },
         "xaxis": "x2",
         "y": {
          "bdata": "6S9tQA==",
          "dtype": "f4"
         },
         "yaxis": "y2"
        },
        {
         "legendgroup": "pred",
         "marker": {
          "color": "#7f7f7f",
          "size": 6
         },
         "mode": "markers",
         "name": "Pred Group 274",
         "showlegend": false,
         "type": "scatter",
         "x": {
          "bdata": "lTorwg==",
          "dtype": "f4"
         },
         "xaxis": "x2",
         "y": {
          "bdata": "jDILQg==",
          "dtype": "f4"
         },
         "yaxis": "y2"
        },
        {
         "legendgroup": "pred",
         "marker": {
          "color": "#c7c7c7",
          "size": 6
         },
         "mode": "markers",
         "name": "Pred Group 275",
         "showlegend": false,
         "type": "scatter",
         "x": {
          "bdata": "mhKDwA==",
          "dtype": "f4"
         },
         "xaxis": "x2",
         "y": {
          "bdata": "bRNwQQ==",
          "dtype": "f4"
         },
         "yaxis": "y2"
        },
        {
         "legendgroup": "pred",
         "marker": {
          "color": "#c7c7c7",
          "size": 6
         },
         "mode": "markers",
         "name": "Pred Group 276",
         "showlegend": false,
         "type": "scatter",
         "x": {
          "bdata": "SmjowA==",
          "dtype": "f4"
         },
         "xaxis": "x2",
         "y": {
          "bdata": "TtXGQQ==",
          "dtype": "f4"
         },
         "yaxis": "y2"
        },
        {
         "legendgroup": "pred",
         "marker": {
          "color": "#c7c7c7",
          "size": 6
         },
         "mode": "markers",
         "name": "Pred Group 277",
         "showlegend": false,
         "type": "scatter",
         "x": {
          "bdata": "aH0ZQQ==",
          "dtype": "f4"
         },
         "xaxis": "x2",
         "y": {
          "bdata": "QYYtwg==",
          "dtype": "f4"
         },
         "yaxis": "y2"
        },
        {
         "legendgroup": "pred",
         "marker": {
          "color": "#c7c7c7",
          "size": 6
         },
         "mode": "markers",
         "name": "Pred Group 278",
         "showlegend": false,
         "type": "scatter",
         "x": {
          "bdata": "tyULvw==",
          "dtype": "f4"
         },
         "xaxis": "x2",
         "y": {
          "bdata": "OioBwg==",
          "dtype": "f4"
         },
         "yaxis": "y2"
        },
        {
         "legendgroup": "pred",
         "marker": {
          "color": "#c7c7c7",
          "size": 6
         },
         "mode": "markers",
         "name": "Pred Group 279",
         "showlegend": false,
         "type": "scatter",
         "x": {
          "bdata": "W4Uawg==",
          "dtype": "f4"
         },
         "xaxis": "x2",
         "y": {
          "bdata": "XydiwQ==",
          "dtype": "f4"
         },
         "yaxis": "y2"
        },
        {
         "legendgroup": "pred",
         "marker": {
          "color": "#c7c7c7",
          "size": 6
         },
         "mode": "markers",
         "name": "Pred Group 280",
         "showlegend": false,
         "type": "scatter",
         "x": {
          "bdata": "BhfkQQ==",
          "dtype": "f4"
         },
         "xaxis": "x2",
         "y": {
          "bdata": "AegnQg==",
          "dtype": "f4"
         },
         "yaxis": "y2"
        },
        {
         "legendgroup": "pred",
         "marker": {
          "color": "#c7c7c7",
          "size": 6
         },
         "mode": "markers",
         "name": "Pred Group 281",
         "showlegend": false,
         "type": "scatter",
         "x": {
          "bdata": "fy1PQg==",
          "dtype": "f4"
         },
         "xaxis": "x2",
         "y": {
          "bdata": "R1dfQQ==",
          "dtype": "f4"
         },
         "yaxis": "y2"
        },
        {
         "legendgroup": "pred",
         "marker": {
          "color": "#c7c7c7",
          "size": 6
         },
         "mode": "markers",
         "name": "Pred Group 282",
         "showlegend": false,
         "type": "scatter",
         "x": {
          "bdata": "b8+DQQ==",
          "dtype": "f4"
         },
         "xaxis": "x2",
         "y": {
          "bdata": "RLXuwQ==",
          "dtype": "f4"
         },
         "yaxis": "y2"
        },
        {
         "legendgroup": "pred",
         "marker": {
          "color": "#c7c7c7",
          "size": 6
         },
         "mode": "markers",
         "name": "Pred Group 283",
         "showlegend": false,
         "type": "scatter",
         "x": {
          "bdata": "lWicQg==",
          "dtype": "f4"
         },
         "xaxis": "x2",
         "y": {
          "bdata": "s6UFQQ==",
          "dtype": "f4"
         },
         "yaxis": "y2"
        },
        {
         "legendgroup": "pred",
         "marker": {
          "color": "#c7c7c7",
          "size": 6
         },
         "mode": "markers",
         "name": "Pred Group 284",
         "showlegend": false,
         "type": "scatter",
         "x": {
          "bdata": "iczHQQ==",
          "dtype": "f4"
         },
         "xaxis": "x2",
         "y": {
          "bdata": "kM67QQ==",
          "dtype": "f4"
         },
         "yaxis": "y2"
        },
        {
         "legendgroup": "pred",
         "marker": {
          "color": "#c7c7c7",
          "size": 6
         },
         "mode": "markers",
         "name": "Pred Group 285",
         "showlegend": false,
         "type": "scatter",
         "x": {
          "bdata": "sJYcQg==",
          "dtype": "f4"
         },
         "xaxis": "x2",
         "y": {
          "bdata": "NAUCwg==",
          "dtype": "f4"
         },
         "yaxis": "y2"
        },
        {
         "legendgroup": "pred",
         "marker": {
          "color": "#c7c7c7",
          "size": 6
         },
         "mode": "markers",
         "name": "Pred Group 286",
         "showlegend": false,
         "type": "scatter",
         "x": {
          "bdata": "+guhQg==",
          "dtype": "f4"
         },
         "xaxis": "x2",
         "y": {
          "bdata": "WouoQA==",
          "dtype": "f4"
         },
         "yaxis": "y2"
        },
        {
         "legendgroup": "pred",
         "marker": {
          "color": "#c7c7c7",
          "size": 6
         },
         "mode": "markers",
         "name": "Pred Group 287",
         "showlegend": false,
         "type": "scatter",
         "x": {
          "bdata": "eeRiwg==",
          "dtype": "f4"
         },
         "xaxis": "x2",
         "y": {
          "bdata": "wMFkQQ==",
          "dtype": "f4"
         },
         "yaxis": "y2"
        },
        {
         "legendgroup": "pred",
         "marker": {
          "color": "#c7c7c7",
          "size": 6
         },
         "mode": "markers",
         "name": "Pred Group 288",
         "showlegend": false,
         "type": "scatter",
         "x": {
          "bdata": "uGQuQQ==",
          "dtype": "f4"
         },
         "xaxis": "x2",
         "y": {
          "bdata": "L6w8wg==",
          "dtype": "f4"
         },
         "yaxis": "y2"
        },
        {
         "legendgroup": "pred",
         "marker": {
          "color": "#c7c7c7",
          "size": 6
         },
         "mode": "markers",
         "name": "Pred Group 289",
         "showlegend": false,
         "type": "scatter",
         "x": {
          "bdata": "DR7fwA==",
          "dtype": "f4"
         },
         "xaxis": "x2",
         "y": {
          "bdata": "/1MgQQ==",
          "dtype": "f4"
         },
         "yaxis": "y2"
        },
        {
         "legendgroup": "pred",
         "marker": {
          "color": "#c7c7c7",
          "size": 6
         },
         "mode": "markers",
         "name": "Pred Group 290",
         "showlegend": false,
         "type": "scatter",
         "x": {
          "bdata": "8ksVwQ==",
          "dtype": "f4"
         },
         "xaxis": "x2",
         "y": {
          "bdata": "xUcOwg==",
          "dtype": "f4"
         },
         "yaxis": "y2"
        },
        {
         "legendgroup": "pred",
         "marker": {
          "color": "#c7c7c7",
          "size": 6
         },
         "mode": "markers",
         "name": "Pred Group 291",
         "showlegend": false,
         "type": "scatter",
         "x": {
          "bdata": "t2HgQQ==",
          "dtype": "f4"
         },
         "xaxis": "x2",
         "y": {
          "bdata": "kgmBQA==",
          "dtype": "f4"
         },
         "yaxis": "y2"
        },
        {
         "legendgroup": "pred",
         "marker": {
          "color": "#c7c7c7",
          "size": 6
         },
         "mode": "markers",
         "name": "Pred Group 292",
         "showlegend": false,
         "type": "scatter",
         "x": {
          "bdata": "ZXo1wg==",
          "dtype": "f4"
         },
         "xaxis": "x2",
         "y": {
          "bdata": "VvhhQg==",
          "dtype": "f4"
         },
         "yaxis": "y2"
        },
        {
         "legendgroup": "pred",
         "marker": {
          "color": "#bcbd22",
          "size": 6
         },
         "mode": "markers",
         "name": "Pred Group 293",
         "showlegend": false,
         "type": "scatter",
         "x": {
          "bdata": "gsYmQQ==",
          "dtype": "f4"
         },
         "xaxis": "x2",
         "y": {
          "bdata": "Apv0QQ==",
          "dtype": "f4"
         },
         "yaxis": "y2"
        },
        {
         "legendgroup": "pred",
         "marker": {
          "color": "#bcbd22",
          "size": 6
         },
         "mode": "markers",
         "name": "Pred Group 294",
         "showlegend": false,
         "type": "scatter",
         "x": {
          "bdata": "Lf1CQg==",
          "dtype": "f4"
         },
         "xaxis": "x2",
         "y": {
          "bdata": "o0fdPw==",
          "dtype": "f4"
         },
         "yaxis": "y2"
        },
        {
         "legendgroup": "pred",
         "marker": {
          "color": "#bcbd22",
          "size": 6
         },
         "mode": "markers",
         "name": "Pred Group 295",
         "showlegend": false,
         "type": "scatter",
         "x": {
          "bdata": "ICvfQQ==",
          "dtype": "f4"
         },
         "xaxis": "x2",
         "y": {
          "bdata": "tmcDQg==",
          "dtype": "f4"
         },
         "yaxis": "y2"
        },
        {
         "legendgroup": "pred",
         "marker": {
          "color": "#bcbd22",
          "size": 6
         },
         "mode": "markers",
         "name": "Pred Group 296",
         "showlegend": false,
         "type": "scatter",
         "x": {
          "bdata": "IkOewQ==",
          "dtype": "f4"
         },
         "xaxis": "x2",
         "y": {
          "bdata": "f9V3Qg==",
          "dtype": "f4"
         },
         "yaxis": "y2"
        },
        {
         "legendgroup": "pred",
         "marker": {
          "color": "#bcbd22",
          "size": 6
         },
         "mode": "markers",
         "name": "Pred Group 297",
         "showlegend": false,
         "type": "scatter",
         "x": {
          "bdata": "XIqRwQ==",
          "dtype": "f4"
         },
         "xaxis": "x2",
         "y": {
          "bdata": "5XJSQg==",
          "dtype": "f4"
         },
         "yaxis": "y2"
        },
        {
         "legendgroup": "pred",
         "marker": {
          "color": "#bcbd22",
          "size": 6
         },
         "mode": "markers",
         "name": "Pred Group 298",
         "showlegend": false,
         "type": "scatter",
         "x": {
          "bdata": "hM/uwQ==",
          "dtype": "f4"
         },
         "xaxis": "x2",
         "y": {
          "bdata": "8WkSQg==",
          "dtype": "f4"
         },
         "yaxis": "y2"
        },
        {
         "legendgroup": "pred",
         "marker": {
          "color": "#bcbd22",
          "size": 6
         },
         "mode": "markers",
         "name": "Pred Group 299",
         "showlegend": false,
         "type": "scatter",
         "x": {
          "bdata": "xi5UQQ==",
          "dtype": "f4"
         },
         "xaxis": "x2",
         "y": {
          "bdata": "YacOQg==",
          "dtype": "f4"
         },
         "yaxis": "y2"
        },
        {
         "legendgroup": "pred",
         "marker": {
          "color": "#bcbd22",
          "size": 6
         },
         "mode": "markers",
         "name": "Pred Group 300",
         "showlegend": false,
         "type": "scatter",
         "x": {
          "bdata": "TNH2QA==",
          "dtype": "f4"
         },
         "xaxis": "x2",
         "y": {
          "bdata": "ded4QQ==",
          "dtype": "f4"
         },
         "yaxis": "y2"
        },
        {
         "legendgroup": "pred",
         "marker": {
          "color": "#bcbd22",
          "size": 6
         },
         "mode": "markers",
         "name": "Pred Group 301",
         "showlegend": false,
         "type": "scatter",
         "x": {
          "bdata": "ff0UQA==",
          "dtype": "f4"
         },
         "xaxis": "x2",
         "y": {
          "bdata": "tSMDQg==",
          "dtype": "f4"
         },
         "yaxis": "y2"
        },
        {
         "legendgroup": "pred",
         "marker": {
          "color": "#bcbd22",
          "size": 6
         },
         "mode": "markers",
         "name": "Pred Group 302",
         "showlegend": false,
         "type": "scatter",
         "x": {
          "bdata": "LTvHPw==",
          "dtype": "f4"
         },
         "xaxis": "x2",
         "y": {
          "bdata": "qNMEQg==",
          "dtype": "f4"
         },
         "yaxis": "y2"
        },
        {
         "legendgroup": "pred",
         "marker": {
          "color": "#bcbd22",
          "size": 6
         },
         "mode": "markers",
         "name": "Pred Group 303",
         "showlegend": false,
         "type": "scatter",
         "x": {
          "bdata": "AM80wg==",
          "dtype": "f4"
         },
         "xaxis": "x2",
         "y": {
          "bdata": "fgmMQQ==",
          "dtype": "f4"
         },
         "yaxis": "y2"
        },
        {
         "legendgroup": "pred",
         "marker": {
          "color": "#bcbd22",
          "size": 6
         },
         "mode": "markers",
         "name": "Pred Group 304",
         "showlegend": false,
         "type": "scatter",
         "x": {
          "bdata": "BjimwQ==",
          "dtype": "f4"
         },
         "xaxis": "x2",
         "y": {
          "bdata": "mW7dQQ==",
          "dtype": "f4"
         },
         "yaxis": "y2"
        },
        {
         "legendgroup": "pred",
         "marker": {
          "color": "#bcbd22",
          "size": 6
         },
         "mode": "markers",
         "name": "Pred Group 305",
         "showlegend": false,
         "type": "scatter",
         "x": {
          "bdata": "CrGmwQ==",
          "dtype": "f4"
         },
         "xaxis": "x2",
         "y": {
          "bdata": "HlbkQQ==",
          "dtype": "f4"
         },
         "yaxis": "y2"
        },
        {
         "legendgroup": "pred",
         "marker": {
          "color": "#bcbd22",
          "size": 6
         },
         "mode": "markers",
         "name": "Pred Group 306",
         "showlegend": false,
         "type": "scatter",
         "x": {
          "bdata": "a5XewQ==",
          "dtype": "f4"
         },
         "xaxis": "x2",
         "y": {
          "bdata": "woPkvw==",
          "dtype": "f4"
         },
         "yaxis": "y2"
        },
        {
         "legendgroup": "pred",
         "marker": {
          "color": "#bcbd22",
          "size": 6
         },
         "mode": "markers",
         "name": "Pred Group 307",
         "showlegend": false,
         "type": "scatter",
         "x": {
          "bdata": "OCY/wQ==",
          "dtype": "f4"
         },
         "xaxis": "x2",
         "y": {
          "bdata": "r8aOwQ==",
          "dtype": "f4"
         },
         "yaxis": "y2"
        },
        {
         "legendgroup": "pred",
         "marker": {
          "color": "#bcbd22",
          "size": 6
         },
         "mode": "markers",
         "name": "Pred Group 308",
         "showlegend": false,
         "type": "scatter",
         "x": {
          "bdata": "lCZbwg==",
          "dtype": "f4"
         },
         "xaxis": "x2",
         "y": {
          "bdata": "vhYvQQ==",
          "dtype": "f4"
         },
         "yaxis": "y2"
        },
        {
         "legendgroup": "pred",
         "marker": {
          "color": "#bcbd22",
          "size": 6
         },
         "mode": "markers",
         "name": "Pred Group 309",
         "showlegend": false,
         "type": "scatter",
         "x": {
          "bdata": "1MM6wg==",
          "dtype": "f4"
         },
         "xaxis": "x2",
         "y": {
          "bdata": "q/BFQg==",
          "dtype": "f4"
         },
         "yaxis": "y2"
        },
        {
         "legendgroup": "pred",
         "marker": {
          "color": "#bcbd22",
          "size": 6
         },
         "mode": "markers",
         "name": "Pred Group 310",
         "showlegend": false,
         "type": "scatter",
         "x": {
          "bdata": "t0v0QQ==",
          "dtype": "f4"
         },
         "xaxis": "x2",
         "y": {
          "bdata": "TIAhQg==",
          "dtype": "f4"
         },
         "yaxis": "y2"
        },
        {
         "legendgroup": "pred",
         "marker": {
          "color": "#bcbd22",
          "size": 6
         },
         "mode": "markers",
         "name": "Pred Group 311",
         "showlegend": false,
         "type": "scatter",
         "x": {
          "bdata": "YoczQg==",
          "dtype": "f4"
         },
         "xaxis": "x2",
         "y": {
          "bdata": "1NmCQQ==",
          "dtype": "f4"
         },
         "yaxis": "y2"
        },
        {
         "legendgroup": "pred",
         "marker": {
          "color": "#dbdb8d",
          "size": 6
         },
         "mode": "markers",
         "name": "Pred Group 312",
         "showlegend": false,
         "type": "scatter",
         "x": {
          "bdata": "KsI5wQ==",
          "dtype": "f4"
         },
         "xaxis": "x2",
         "y": {
          "bdata": "gzWmwQ==",
          "dtype": "f4"
         },
         "yaxis": "y2"
        },
        {
         "legendgroup": "pred",
         "marker": {
          "color": "#dbdb8d",
          "size": 6
         },
         "mode": "markers",
         "name": "Pred Group 313",
         "showlegend": false,
         "type": "scatter",
         "x": {
          "bdata": "9YfNwA==",
          "dtype": "f4"
         },
         "xaxis": "x2",
         "y": {
          "bdata": "yw+bQg==",
          "dtype": "f4"
         },
         "yaxis": "y2"
        },
        {
         "legendgroup": "pred",
         "marker": {
          "color": "#dbdb8d",
          "size": 6
         },
         "mode": "markers",
         "name": "Pred Group 314",
         "showlegend": false,
         "type": "scatter",
         "x": {
          "bdata": "YgpoQQ==",
          "dtype": "f4"
         },
         "xaxis": "x2",
         "y": {
          "bdata": "zP9cQA==",
          "dtype": "f4"
         },
         "yaxis": "y2"
        },
        {
         "legendgroup": "pred",
         "marker": {
          "color": "#dbdb8d",
          "size": 6
         },
         "mode": "markers",
         "name": "Pred Group 315",
         "showlegend": false,
         "type": "scatter",
         "x": {
          "bdata": "ar1VQg==",
          "dtype": "f4"
         },
         "xaxis": "x2",
         "y": {
          "bdata": "o2PawA==",
          "dtype": "f4"
         },
         "yaxis": "y2"
        },
        {
         "legendgroup": "pred",
         "marker": {
          "color": "#dbdb8d",
          "size": 6
         },
         "mode": "markers",
         "name": "Pred Group 316",
         "showlegend": false,
         "type": "scatter",
         "x": {
          "bdata": "Wbv3QQ==",
          "dtype": "f4"
         },
         "xaxis": "x2",
         "y": {
          "bdata": "els5Qg==",
          "dtype": "f4"
         },
         "yaxis": "y2"
        },
        {
         "legendgroup": "pred",
         "marker": {
          "color": "#dbdb8d",
          "size": 6
         },
         "mode": "markers",
         "name": "Pred Group 317",
         "showlegend": false,
         "type": "scatter",
         "x": {
          "bdata": "wRbIQQ==",
          "dtype": "f4"
         },
         "xaxis": "x2",
         "y": {
          "bdata": "Q2cZwg==",
          "dtype": "f4"
         },
         "yaxis": "y2"
        },
        {
         "legendgroup": "pred",
         "marker": {
          "color": "#dbdb8d",
          "size": 6
         },
         "mode": "markers",
         "name": "Pred Group 318",
         "showlegend": false,
         "type": "scatter",
         "x": {
          "bdata": "Mmv6QQ==",
          "dtype": "f4"
         },
         "xaxis": "x2",
         "y": {
          "bdata": "Z9livw==",
          "dtype": "f4"
         },
         "yaxis": "y2"
        },
        {
         "legendgroup": "pred",
         "marker": {
          "color": "#dbdb8d",
          "size": 6
         },
         "mode": "markers",
         "name": "Pred Group 319",
         "showlegend": false,
         "type": "scatter",
         "x": {
          "bdata": "XLIZwg==",
          "dtype": "f4"
         },
         "xaxis": "x2",
         "y": {
          "bdata": "vcf5wQ==",
          "dtype": "f4"
         },
         "yaxis": "y2"
        },
        {
         "legendgroup": "pred",
         "marker": {
          "color": "#dbdb8d",
          "size": 6
         },
         "mode": "markers",
         "name": "Pred Group 320",
         "showlegend": false,
         "type": "scatter",
         "x": {
          "bdata": "k5zHwQ==",
          "dtype": "f4"
         },
         "xaxis": "x2",
         "y": {
          "bdata": "gB/Rvw==",
          "dtype": "f4"
         },
         "yaxis": "y2"
        },
        {
         "legendgroup": "pred",
         "marker": {
          "color": "#dbdb8d",
          "size": 6
         },
         "mode": "markers",
         "name": "Pred Group 321",
         "showlegend": false,
         "type": "scatter",
         "x": {
          "bdata": "EEYEwA==",
          "dtype": "f4"
         },
         "xaxis": "x2",
         "y": {
          "bdata": "ZVqqQQ==",
          "dtype": "f4"
         },
         "yaxis": "y2"
        },
        {
         "legendgroup": "pred",
         "marker": {
          "color": "#dbdb8d",
          "size": 6
         },
         "mode": "markers",
         "name": "Pred Group 322",
         "showlegend": false,
         "type": "scatter",
         "x": {
          "bdata": "ILSTwQ==",
          "dtype": "f4"
         },
         "xaxis": "x2",
         "y": {
          "bdata": "MGmiwQ==",
          "dtype": "f4"
         },
         "yaxis": "y2"
        },
        {
         "legendgroup": "pred",
         "marker": {
          "color": "#dbdb8d",
          "size": 6
         },
         "mode": "markers",
         "name": "Pred Group 323",
         "showlegend": false,
         "type": "scatter",
         "x": {
          "bdata": "bNFDwg==",
          "dtype": "f4"
         },
         "xaxis": "x2",
         "y": {
          "bdata": "ioqHvg==",
          "dtype": "f4"
         },
         "yaxis": "y2"
        },
        {
         "legendgroup": "pred",
         "marker": {
          "color": "#dbdb8d",
          "size": 6
         },
         "mode": "markers",
         "name": "Pred Group 324",
         "showlegend": false,
         "type": "scatter",
         "x": {
          "bdata": "K+wXwg==",
          "dtype": "f4"
         },
         "xaxis": "x2",
         "y": {
          "bdata": "ix/+wQ==",
          "dtype": "f4"
         },
         "yaxis": "y2"
        },
        {
         "legendgroup": "pred",
         "marker": {
          "color": "#dbdb8d",
          "size": 6
         },
         "mode": "markers",
         "name": "Pred Group 325",
         "showlegend": false,
         "type": "scatter",
         "x": {
          "bdata": "NE3yQQ==",
          "dtype": "f4"
         },
         "xaxis": "x2",
         "y": {
          "bdata": "ba05wg==",
          "dtype": "f4"
         },
         "yaxis": "y2"
        },
        {
         "legendgroup": "pred",
         "marker": {
          "color": "#dbdb8d",
          "size": 6
         },
         "mode": "markers",
         "name": "Pred Group 326",
         "showlegend": false,
         "type": "scatter",
         "x": {
          "bdata": "otxLwg==",
          "dtype": "f4"
         },
         "xaxis": "x2",
         "y": {
          "bdata": "s9aJvw==",
          "dtype": "f4"
         },
         "yaxis": "y2"
        },
        {
         "legendgroup": "pred",
         "marker": {
          "color": "#dbdb8d",
          "size": 6
         },
         "mode": "markers",
         "name": "Pred Group 327",
         "showlegend": false,
         "type": "scatter",
         "x": {
          "bdata": "JKqkwQ==",
          "dtype": "f4"
         },
         "xaxis": "x2",
         "y": {
          "bdata": "BsWCwQ==",
          "dtype": "f4"
         },
         "yaxis": "y2"
        },
        {
         "legendgroup": "pred",
         "marker": {
          "color": "#dbdb8d",
          "size": 6
         },
         "mode": "markers",
         "name": "Pred Group 328",
         "showlegend": false,
         "type": "scatter",
         "x": {
          "bdata": "l+Ydwg==",
          "dtype": "f4"
         },
         "xaxis": "x2",
         "y": {
          "bdata": "EFnxwQ==",
          "dtype": "f4"
         },
         "yaxis": "y2"
        },
        {
         "legendgroup": "pred",
         "marker": {
          "color": "#dbdb8d",
          "size": 6
         },
         "mode": "markers",
         "name": "Pred Group 329",
         "showlegend": false,
         "type": "scatter",
         "x": {
          "bdata": "JW3JQQ==",
          "dtype": "f4"
         },
         "xaxis": "x2",
         "y": {
          "bdata": "ca7AwQ==",
          "dtype": "f4"
         },
         "yaxis": "y2"
        },
        {
         "legendgroup": "pred",
         "marker": {
          "color": "#17becf",
          "size": 6
         },
         "mode": "markers",
         "name": "Pred Group 330",
         "showlegend": false,
         "type": "scatter",
         "x": {
          "bdata": "hsi9wA==",
          "dtype": "f4"
         },
         "xaxis": "x2",
         "y": {
          "bdata": "afrxwQ==",
          "dtype": "f4"
         },
         "yaxis": "y2"
        },
        {
         "legendgroup": "pred",
         "marker": {
          "color": "#17becf",
          "size": 6
         },
         "mode": "markers",
         "name": "Pred Group 331",
         "showlegend": false,
         "type": "scatter",
         "x": {
          "bdata": "njM5wg==",
          "dtype": "f4"
         },
         "xaxis": "x2",
         "y": {
          "bdata": "NEqePw==",
          "dtype": "f4"
         },
         "yaxis": "y2"
        },
        {
         "legendgroup": "pred",
         "marker": {
          "color": "#17becf",
          "size": 6
         },
         "mode": "markers",
         "name": "Pred Group 332",
         "showlegend": false,
         "type": "scatter",
         "x": {
          "bdata": "2xvQwA==",
          "dtype": "f4"
         },
         "xaxis": "x2",
         "y": {
          "bdata": "ZLADwg==",
          "dtype": "f4"
         },
         "yaxis": "y2"
        },
        {
         "legendgroup": "pred",
         "marker": {
          "color": "#17becf",
          "size": 6
         },
         "mode": "markers",
         "name": "Pred Group 333",
         "showlegend": false,
         "type": "scatter",
         "x": {
          "bdata": "+2CewA==",
          "dtype": "f4"
         },
         "xaxis": "x2",
         "y": {
          "bdata": "xP35wQ==",
          "dtype": "f4"
         },
         "yaxis": "y2"
        },
        {
         "legendgroup": "pred",
         "marker": {
          "color": "#17becf",
          "size": 6
         },
         "mode": "markers",
         "name": "Pred Group 334",
         "showlegend": false,
         "type": "scatter",
         "x": {
          "bdata": "EPEWwg==",
          "dtype": "f4"
         },
         "xaxis": "x2",
         "y": {
          "bdata": "nPgjQg==",
          "dtype": "f4"
         },
         "yaxis": "y2"
        },
        {
         "legendgroup": "pred",
         "marker": {
          "color": "#17becf",
          "size": 6
         },
         "mode": "markers",
         "name": "Pred Group 335",
         "showlegend": false,
         "type": "scatter",
         "x": {
          "bdata": "X63XwA==",
          "dtype": "f4"
         },
         "xaxis": "x2",
         "y": {
          "bdata": "bgS2QQ==",
          "dtype": "f4"
         },
         "yaxis": "y2"
        },
        {
         "legendgroup": "pred",
         "marker": {
          "color": "#17becf",
          "size": 6
         },
         "mode": "markers",
         "name": "Pred Group 336",
         "showlegend": false,
         "type": "scatter",
         "x": {
          "bdata": "x3ORQA==",
          "dtype": "f4"
         },
         "xaxis": "x2",
         "y": {
          "bdata": "dX9lQg==",
          "dtype": "f4"
         },
         "yaxis": "y2"
        },
        {
         "legendgroup": "pred",
         "marker": {
          "color": "#17becf",
          "size": 6
         },
         "mode": "markers",
         "name": "Pred Group 337",
         "showlegend": false,
         "type": "scatter",
         "x": {
          "bdata": "7JgawQ==",
          "dtype": "f4"
         },
         "xaxis": "x2",
         "y": {
          "bdata": "jCdKQA==",
          "dtype": "f4"
         },
         "yaxis": "y2"
        },
        {
         "legendgroup": "pred",
         "marker": {
          "color": "#17becf",
          "size": 6
         },
         "mode": "markers",
         "name": "Pred Group 338",
         "showlegend": false,
         "type": "scatter",
         "x": {
          "bdata": "m6Yowg==",
          "dtype": "f4"
         },
         "xaxis": "x2",
         "y": {
          "bdata": "sgSswA==",
          "dtype": "f4"
         },
         "yaxis": "y2"
        },
        {
         "legendgroup": "pred",
         "marker": {
          "color": "#17becf",
          "size": 6
         },
         "mode": "markers",
         "name": "Pred Group 339",
         "showlegend": false,
         "type": "scatter",
         "x": {
          "bdata": "2f2kwQ==",
          "dtype": "f4"
         },
         "xaxis": "x2",
         "y": {
          "bdata": "ZgEkQg==",
          "dtype": "f4"
         },
         "yaxis": "y2"
        },
        {
         "legendgroup": "pred",
         "marker": {
          "color": "#17becf",
          "size": 6
         },
         "mode": "markers",
         "name": "Pred Group 340",
         "showlegend": false,
         "type": "scatter",
         "x": {
          "bdata": "m/WTQQ==",
          "dtype": "f4"
         },
         "xaxis": "x2",
         "y": {
          "bdata": "7VDAwQ==",
          "dtype": "f4"
         },
         "yaxis": "y2"
        },
        {
         "legendgroup": "pred",
         "marker": {
          "color": "#17becf",
          "size": 6
         },
         "mode": "markers",
         "name": "Pred Group 341",
         "showlegend": false,
         "type": "scatter",
         "x": {
          "bdata": "78slQg==",
          "dtype": "f4"
         },
         "xaxis": "x2",
         "y": {
          "bdata": "DPcdwg==",
          "dtype": "f4"
         },
         "yaxis": "y2"
        },
        {
         "legendgroup": "pred",
         "marker": {
          "color": "#17becf",
          "size": 6
         },
         "mode": "markers",
         "name": "Pred Group 342",
         "showlegend": false,
         "type": "scatter",
         "x": {
          "bdata": "EQawQQ==",
          "dtype": "f4"
         },
         "xaxis": "x2",
         "y": {
          "bdata": "w8VGwg==",
          "dtype": "f4"
         },
         "yaxis": "y2"
        },
        {
         "legendgroup": "pred",
         "marker": {
          "color": "#17becf",
          "size": 6
         },
         "mode": "markers",
         "name": "Pred Group 343",
         "showlegend": false,
         "type": "scatter",
         "x": {
          "bdata": "6Fkswg==",
          "dtype": "f4"
         },
         "xaxis": "x2",
         "y": {
          "bdata": "W+UiQg==",
          "dtype": "f4"
         },
         "yaxis": "y2"
        },
        {
         "legendgroup": "pred",
         "marker": {
          "color": "#17becf",
          "size": 6
         },
         "mode": "markers",
         "name": "Pred Group 344",
         "showlegend": false,
         "type": "scatter",
         "x": {
          "bdata": "4yNEQg==",
          "dtype": "f4"
         },
         "xaxis": "x2",
         "y": {
          "bdata": "jvTzwQ==",
          "dtype": "f4"
         },
         "yaxis": "y2"
        },
        {
         "legendgroup": "pred",
         "marker": {
          "color": "#17becf",
          "size": 6
         },
         "mode": "markers",
         "name": "Pred Group 345",
         "showlegend": false,
         "type": "scatter",
         "x": {
          "bdata": "3wVJQg==",
          "dtype": "f4"
         },
         "xaxis": "x2",
         "y": {
          "bdata": "nh6EQQ==",
          "dtype": "f4"
         },
         "yaxis": "y2"
        },
        {
         "legendgroup": "pred",
         "marker": {
          "color": "#17becf",
          "size": 6
         },
         "mode": "markers",
         "name": "Pred Group 346",
         "showlegend": false,
         "type": "scatter",
         "x": {
          "bdata": "lQKSQA==",
          "dtype": "f4"
         },
         "xaxis": "x2",
         "y": {
          "bdata": "0ZM2wg==",
          "dtype": "f4"
         },
         "yaxis": "y2"
        },
        {
         "legendgroup": "pred",
         "marker": {
          "color": "#17becf",
          "size": 6
         },
         "mode": "markers",
         "name": "Pred Group 347",
         "showlegend": false,
         "type": "scatter",
         "x": {
          "bdata": "X7Aovw==",
          "dtype": "f4"
         },
         "xaxis": "x2",
         "y": {
          "bdata": "/iyewQ==",
          "dtype": "f4"
         },
         "yaxis": "y2"
        },
        {
         "legendgroup": "pred",
         "marker": {
          "color": "#9edae5",
          "size": 6
         },
         "mode": "markers",
         "name": "Pred Group 348",
         "showlegend": false,
         "type": "scatter",
         "x": {
          "bdata": "z15NQQ==",
          "dtype": "f4"
         },
         "xaxis": "x2",
         "y": {
          "bdata": "Y3u7wQ==",
          "dtype": "f4"
         },
         "yaxis": "y2"
        },
        {
         "legendgroup": "pred",
         "marker": {
          "color": "#9edae5",
          "size": 6
         },
         "mode": "markers",
         "name": "Pred Group 349",
         "showlegend": false,
         "type": "scatter",
         "x": {
          "bdata": "aS2OPw==",
          "dtype": "f4"
         },
         "xaxis": "x2",
         "y": {
          "bdata": "g++KwQ==",
          "dtype": "f4"
         },
         "yaxis": "y2"
        },
        {
         "legendgroup": "pred",
         "marker": {
          "color": "#9edae5",
          "size": 6
         },
         "mode": "markers",
         "name": "Pred Group 350",
         "showlegend": false,
         "type": "scatter",
         "x": {
          "bdata": "7JXAvg==",
          "dtype": "f4"
         },
         "xaxis": "x2",
         "y": {
          "bdata": "3ZUpwg==",
          "dtype": "f4"
         },
         "yaxis": "y2"
        },
        {
         "legendgroup": "pred",
         "marker": {
          "color": "#9edae5",
          "size": 6
         },
         "mode": "markers",
         "name": "Pred Group 351",
         "showlegend": false,
         "type": "scatter",
         "x": {
          "bdata": "dY2dvw==",
          "dtype": "f4"
         },
         "xaxis": "x2",
         "y": {
          "bdata": "J+zUwQ==",
          "dtype": "f4"
         },
         "yaxis": "y2"
        },
        {
         "legendgroup": "pred",
         "marker": {
          "color": "#9edae5",
          "size": 6
         },
         "mode": "markers",
         "name": "Pred Group 352",
         "showlegend": false,
         "type": "scatter",
         "x": {
          "bdata": "Dl/KQQ==",
          "dtype": "f4"
         },
         "xaxis": "x2",
         "y": {
          "bdata": "45E+wg==",
          "dtype": "f4"
         },
         "yaxis": "y2"
        },
        {
         "legendgroup": "pred",
         "marker": {
          "color": "#9edae5",
          "size": 6
         },
         "mode": "markers",
         "name": "Pred Group 353",
         "showlegend": false,
         "type": "scatter",
         "x": {
          "bdata": "XuQZPQ==",
          "dtype": "f4"
         },
         "xaxis": "x2",
         "y": {
          "bdata": "792OwQ==",
          "dtype": "f4"
         },
         "yaxis": "y2"
        },
        {
         "legendgroup": "pred",
         "marker": {
          "color": "#9edae5",
          "size": 6
         },
         "mode": "markers",
         "name": "Pred Group 354",
         "showlegend": false,
         "type": "scatter",
         "x": {
          "bdata": "ODPqQA==",
          "dtype": "f4"
         },
         "xaxis": "x2",
         "y": {
          "bdata": "bc8kwg==",
          "dtype": "f4"
         },
         "yaxis": "y2"
        },
        {
         "legendgroup": "pred",
         "marker": {
          "color": "#9edae5",
          "size": 6
         },
         "mode": "markers",
         "name": "Pred Group 355",
         "showlegend": false,
         "type": "scatter",
         "x": {
          "bdata": "7bzzQQ==",
          "dtype": "f4"
         },
         "xaxis": "x2",
         "y": {
          "bdata": "mYhmwg==",
          "dtype": "f4"
         },
         "yaxis": "y2"
        },
        {
         "legendgroup": "pred",
         "marker": {
          "color": "#9edae5",
          "size": 6
         },
         "mode": "markers",
         "name": "Pred Group 356",
         "showlegend": false,
         "type": "scatter",
         "x": {
          "bdata": "Ir2QwQ==",
          "dtype": "f4"
         },
         "xaxis": "x2",
         "y": {
          "bdata": "H2+NwQ==",
          "dtype": "f4"
         },
         "yaxis": "y2"
        },
        {
         "legendgroup": "pred",
         "marker": {
          "color": "#9edae5",
          "size": 6
         },
         "mode": "markers",
         "name": "Pred Group 357",
         "showlegend": false,
         "type": "scatter",
         "x": {
          "bdata": "eSEBQg==",
          "dtype": "f4"
         },
         "xaxis": "x2",
         "y": {
          "bdata": "BA4jwg==",
          "dtype": "f4"
         },
         "yaxis": "y2"
        },
        {
         "legendgroup": "pred",
         "marker": {
          "color": "#9edae5",
          "size": 6
         },
         "mode": "markers",
         "name": "Pred Group 358",
         "showlegend": false,
         "type": "scatter",
         "x": {
          "bdata": "hL/AwQ==",
          "dtype": "f4"
         },
         "xaxis": "x2",
         "y": {
          "bdata": "qN/xwQ==",
          "dtype": "f4"
         },
         "yaxis": "y2"
        },
        {
         "legendgroup": "pred",
         "marker": {
          "color": "#9edae5",
          "size": 6
         },
         "mode": "markers",
         "name": "Pred Group 359",
         "showlegend": false,
         "type": "scatter",
         "x": {
          "bdata": "Q4awvw==",
          "dtype": "f4"
         },
         "xaxis": "x2",
         "y": {
          "bdata": "Ej2FwQ==",
          "dtype": "f4"
         },
         "yaxis": "y2"
        },
        {
         "legendgroup": "pred",
         "marker": {
          "color": "#9edae5",
          "size": 6
         },
         "mode": "markers",
         "name": "Pred Group 360",
         "showlegend": false,
         "type": "scatter",
         "x": {
          "bdata": "65cLQg==",
          "dtype": "f4"
         },
         "xaxis": "x2",
         "y": {
          "bdata": "xVYHwg==",
          "dtype": "f4"
         },
         "yaxis": "y2"
        },
        {
         "legendgroup": "pred",
         "marker": {
          "color": "#9edae5",
          "size": 6
         },
         "mode": "markers",
         "name": "Pred Group 361",
         "showlegend": false,
         "type": "scatter",
         "x": {
          "bdata": "BMbJwQ==",
          "dtype": "f4"
         },
         "xaxis": "x2",
         "y": {
          "bdata": "TXbqwQ==",
          "dtype": "f4"
         },
         "yaxis": "y2"
        },
        {
         "legendgroup": "pred",
         "marker": {
          "color": "#9edae5",
          "size": 6
         },
         "mode": "markers",
         "name": "Pred Group 362",
         "showlegend": false,
         "type": "scatter",
         "x": {
          "bdata": "4gknwQ==",
          "dtype": "f4"
         },
         "xaxis": "x2",
         "y": {
          "bdata": "d7CQwQ==",
          "dtype": "f4"
         },
         "yaxis": "y2"
        },
        {
         "legendgroup": "pred",
         "marker": {
          "color": "#9edae5",
          "size": 6
         },
         "mode": "markers",
         "name": "Pred Group 363",
         "showlegend": false,
         "type": "scatter",
         "x": {
          "bdata": "f78mwg==",
          "dtype": "f4"
         },
         "xaxis": "x2",
         "y": {
          "bdata": "9pG/wA==",
          "dtype": "f4"
         },
         "yaxis": "y2"
        },
        {
         "legendgroup": "pred",
         "marker": {
          "color": "#9edae5",
          "size": 6
         },
         "mode": "markers",
         "name": "Pred Group 364",
         "showlegend": false,
         "type": "scatter",
         "x": {
          "bdata": "LU3ZQA==",
          "dtype": "f4"
         },
         "xaxis": "x2",
         "y": {
          "bdata": "KV4KQg==",
          "dtype": "f4"
         },
         "yaxis": "y2"
        },
        {
         "legendgroup": "pred",
         "marker": {
          "color": "#9edae5",
          "size": 6
         },
         "mode": "markers",
         "name": "Pred Group 365",
         "showlegend": false,
         "type": "scatter",
         "x": {
          "bdata": "U/JSQQ==",
          "dtype": "f4"
         },
         "xaxis": "x2",
         "y": {
          "bdata": "/ooQQg==",
          "dtype": "f4"
         },
         "yaxis": "y2"
        },
        {
         "legendgroup": "pred",
         "marker": {
          "color": "#9edae5",
          "size": 6
         },
         "mode": "markers",
         "name": "Pred Group 366",
         "showlegend": false,
         "type": "scatter",
         "x": {
          "bdata": "zQ29QA==",
          "dtype": "f4"
         },
         "xaxis": "x2",
         "y": {
          "bdata": "YSEFQg==",
          "dtype": "f4"
         },
         "yaxis": "y2"
        }
       ],
       "layout": {
        "annotations": [
         {
          "font": {
           "size": 16
          },
          "showarrow": false,
          "text": "Clusters of 2D Embeddings gt",
          "x": 0.225,
          "xanchor": "center",
          "xref": "paper",
          "y": 1,
          "yanchor": "bottom",
          "yref": "paper"
         },
         {
          "font": {
           "size": 16
          },
          "showarrow": false,
          "text": "Clusters of 2D Embeddings pred",
          "x": 0.775,
          "xanchor": "center",
          "xref": "paper",
          "y": 1,
          "yanchor": "bottom",
          "yref": "paper"
         }
        ],
        "height": 600,
        "showlegend": true,
        "template": {
         "data": {
          "bar": [
           {
            "error_x": {
             "color": "#2a3f5f"
            },
            "error_y": {
             "color": "#2a3f5f"
            },
            "marker": {
             "line": {
              "color": "#E5ECF6",
              "width": 0.5
             },
             "pattern": {
              "fillmode": "overlay",
              "size": 10,
              "solidity": 0.2
             }
            },
            "type": "bar"
           }
          ],
          "barpolar": [
           {
            "marker": {
             "line": {
              "color": "#E5ECF6",
              "width": 0.5
             },
             "pattern": {
              "fillmode": "overlay",
              "size": 10,
              "solidity": 0.2
             }
            },
            "type": "barpolar"
           }
          ],
          "carpet": [
           {
            "aaxis": {
             "endlinecolor": "#2a3f5f",
             "gridcolor": "white",
             "linecolor": "white",
             "minorgridcolor": "white",
             "startlinecolor": "#2a3f5f"
            },
            "baxis": {
             "endlinecolor": "#2a3f5f",
             "gridcolor": "white",
             "linecolor": "white",
             "minorgridcolor": "white",
             "startlinecolor": "#2a3f5f"
            },
            "type": "carpet"
           }
          ],
          "choropleth": [
           {
            "colorbar": {
             "outlinewidth": 0,
             "ticks": ""
            },
            "type": "choropleth"
           }
          ],
          "contour": [
           {
            "colorbar": {
             "outlinewidth": 0,
             "ticks": ""
            },
            "colorscale": [
             [
              0,
              "#0d0887"
             ],
             [
              0.1111111111111111,
              "#46039f"
             ],
             [
              0.2222222222222222,
              "#7201a8"
             ],
             [
              0.3333333333333333,
              "#9c179e"
             ],
             [
              0.4444444444444444,
              "#bd3786"
             ],
             [
              0.5555555555555556,
              "#d8576b"
             ],
             [
              0.6666666666666666,
              "#ed7953"
             ],
             [
              0.7777777777777778,
              "#fb9f3a"
             ],
             [
              0.8888888888888888,
              "#fdca26"
             ],
             [
              1,
              "#f0f921"
             ]
            ],
            "type": "contour"
           }
          ],
          "contourcarpet": [
           {
            "colorbar": {
             "outlinewidth": 0,
             "ticks": ""
            },
            "type": "contourcarpet"
           }
          ],
          "heatmap": [
           {
            "colorbar": {
             "outlinewidth": 0,
             "ticks": ""
            },
            "colorscale": [
             [
              0,
              "#0d0887"
             ],
             [
              0.1111111111111111,
              "#46039f"
             ],
             [
              0.2222222222222222,
              "#7201a8"
             ],
             [
              0.3333333333333333,
              "#9c179e"
             ],
             [
              0.4444444444444444,
              "#bd3786"
             ],
             [
              0.5555555555555556,
              "#d8576b"
             ],
             [
              0.6666666666666666,
              "#ed7953"
             ],
             [
              0.7777777777777778,
              "#fb9f3a"
             ],
             [
              0.8888888888888888,
              "#fdca26"
             ],
             [
              1,
              "#f0f921"
             ]
            ],
            "type": "heatmap"
           }
          ],
          "histogram": [
           {
            "marker": {
             "pattern": {
              "fillmode": "overlay",
              "size": 10,
              "solidity": 0.2
             }
            },
            "type": "histogram"
           }
          ],
          "histogram2d": [
           {
            "colorbar": {
             "outlinewidth": 0,
             "ticks": ""
            },
            "colorscale": [
             [
              0,
              "#0d0887"
             ],
             [
              0.1111111111111111,
              "#46039f"
             ],
             [
              0.2222222222222222,
              "#7201a8"
             ],
             [
              0.3333333333333333,
              "#9c179e"
             ],
             [
              0.4444444444444444,
              "#bd3786"
             ],
             [
              0.5555555555555556,
              "#d8576b"
             ],
             [
              0.6666666666666666,
              "#ed7953"
             ],
             [
              0.7777777777777778,
              "#fb9f3a"
             ],
             [
              0.8888888888888888,
              "#fdca26"
             ],
             [
              1,
              "#f0f921"
             ]
            ],
            "type": "histogram2d"
           }
          ],
          "histogram2dcontour": [
           {
            "colorbar": {
             "outlinewidth": 0,
             "ticks": ""
            },
            "colorscale": [
             [
              0,
              "#0d0887"
             ],
             [
              0.1111111111111111,
              "#46039f"
             ],
             [
              0.2222222222222222,
              "#7201a8"
             ],
             [
              0.3333333333333333,
              "#9c179e"
             ],
             [
              0.4444444444444444,
              "#bd3786"
             ],
             [
              0.5555555555555556,
              "#d8576b"
             ],
             [
              0.6666666666666666,
              "#ed7953"
             ],
             [
              0.7777777777777778,
              "#fb9f3a"
             ],
             [
              0.8888888888888888,
              "#fdca26"
             ],
             [
              1,
              "#f0f921"
             ]
            ],
            "type": "histogram2dcontour"
           }
          ],
          "mesh3d": [
           {
            "colorbar": {
             "outlinewidth": 0,
             "ticks": ""
            },
            "type": "mesh3d"
           }
          ],
          "parcoords": [
           {
            "line": {
             "colorbar": {
              "outlinewidth": 0,
              "ticks": ""
             }
            },
            "type": "parcoords"
           }
          ],
          "pie": [
           {
            "automargin": true,
            "type": "pie"
           }
          ],
          "scatter": [
           {
            "fillpattern": {
             "fillmode": "overlay",
             "size": 10,
             "solidity": 0.2
            },
            "type": "scatter"
           }
          ],
          "scatter3d": [
           {
            "line": {
             "colorbar": {
              "outlinewidth": 0,
              "ticks": ""
             }
            },
            "marker": {
             "colorbar": {
              "outlinewidth": 0,
              "ticks": ""
             }
            },
            "type": "scatter3d"
           }
          ],
          "scattercarpet": [
           {
            "marker": {
             "colorbar": {
              "outlinewidth": 0,
              "ticks": ""
             }
            },
            "type": "scattercarpet"
           }
          ],
          "scattergeo": [
           {
            "marker": {
             "colorbar": {
              "outlinewidth": 0,
              "ticks": ""
             }
            },
            "type": "scattergeo"
           }
          ],
          "scattergl": [
           {
            "marker": {
             "colorbar": {
              "outlinewidth": 0,
              "ticks": ""
             }
            },
            "type": "scattergl"
           }
          ],
          "scattermap": [
           {
            "marker": {
             "colorbar": {
              "outlinewidth": 0,
              "ticks": ""
             }
            },
            "type": "scattermap"
           }
          ],
          "scattermapbox": [
           {
            "marker": {
             "colorbar": {
              "outlinewidth": 0,
              "ticks": ""
             }
            },
            "type": "scattermapbox"
           }
          ],
          "scatterpolar": [
           {
            "marker": {
             "colorbar": {
              "outlinewidth": 0,
              "ticks": ""
             }
            },
            "type": "scatterpolar"
           }
          ],
          "scatterpolargl": [
           {
            "marker": {
             "colorbar": {
              "outlinewidth": 0,
              "ticks": ""
             }
            },
            "type": "scatterpolargl"
           }
          ],
          "scatterternary": [
           {
            "marker": {
             "colorbar": {
              "outlinewidth": 0,
              "ticks": ""
             }
            },
            "type": "scatterternary"
           }
          ],
          "surface": [
           {
            "colorbar": {
             "outlinewidth": 0,
             "ticks": ""
            },
            "colorscale": [
             [
              0,
              "#0d0887"
             ],
             [
              0.1111111111111111,
              "#46039f"
             ],
             [
              0.2222222222222222,
              "#7201a8"
             ],
             [
              0.3333333333333333,
              "#9c179e"
             ],
             [
              0.4444444444444444,
              "#bd3786"
             ],
             [
              0.5555555555555556,
              "#d8576b"
             ],
             [
              0.6666666666666666,
              "#ed7953"
             ],
             [
              0.7777777777777778,
              "#fb9f3a"
             ],
             [
              0.8888888888888888,
              "#fdca26"
             ],
             [
              1,
              "#f0f921"
             ]
            ],
            "type": "surface"
           }
          ],
          "table": [
           {
            "cells": {
             "fill": {
              "color": "#EBF0F8"
             },
             "line": {
              "color": "white"
             }
            },
            "header": {
             "fill": {
              "color": "#C8D4E3"
             },
             "line": {
              "color": "white"
             }
            },
            "type": "table"
           }
          ]
         },
         "layout": {
          "annotationdefaults": {
           "arrowcolor": "#2a3f5f",
           "arrowhead": 0,
           "arrowwidth": 1
          },
          "autotypenumbers": "strict",
          "coloraxis": {
           "colorbar": {
            "outlinewidth": 0,
            "ticks": ""
           }
          },
          "colorscale": {
           "diverging": [
            [
             0,
             "#8e0152"
            ],
            [
             0.1,
             "#c51b7d"
            ],
            [
             0.2,
             "#de77ae"
            ],
            [
             0.3,
             "#f1b6da"
            ],
            [
             0.4,
             "#fde0ef"
            ],
            [
             0.5,
             "#f7f7f7"
            ],
            [
             0.6,
             "#e6f5d0"
            ],
            [
             0.7,
             "#b8e186"
            ],
            [
             0.8,
             "#7fbc41"
            ],
            [
             0.9,
             "#4d9221"
            ],
            [
             1,
             "#276419"
            ]
           ],
           "sequential": [
            [
             0,
             "#0d0887"
            ],
            [
             0.1111111111111111,
             "#46039f"
            ],
            [
             0.2222222222222222,
             "#7201a8"
            ],
            [
             0.3333333333333333,
             "#9c179e"
            ],
            [
             0.4444444444444444,
             "#bd3786"
            ],
            [
             0.5555555555555556,
             "#d8576b"
            ],
            [
             0.6666666666666666,
             "#ed7953"
            ],
            [
             0.7777777777777778,
             "#fb9f3a"
            ],
            [
             0.8888888888888888,
             "#fdca26"
            ],
            [
             1,
             "#f0f921"
            ]
           ],
           "sequentialminus": [
            [
             0,
             "#0d0887"
            ],
            [
             0.1111111111111111,
             "#46039f"
            ],
            [
             0.2222222222222222,
             "#7201a8"
            ],
            [
             0.3333333333333333,
             "#9c179e"
            ],
            [
             0.4444444444444444,
             "#bd3786"
            ],
            [
             0.5555555555555556,
             "#d8576b"
            ],
            [
             0.6666666666666666,
             "#ed7953"
            ],
            [
             0.7777777777777778,
             "#fb9f3a"
            ],
            [
             0.8888888888888888,
             "#fdca26"
            ],
            [
             1,
             "#f0f921"
            ]
           ]
          },
          "colorway": [
           "#636efa",
           "#EF553B",
           "#00cc96",
           "#ab63fa",
           "#FFA15A",
           "#19d3f3",
           "#FF6692",
           "#B6E880",
           "#FF97FF",
           "#FECB52"
          ],
          "font": {
           "color": "#2a3f5f"
          },
          "geo": {
           "bgcolor": "white",
           "lakecolor": "white",
           "landcolor": "#E5ECF6",
           "showlakes": true,
           "showland": true,
           "subunitcolor": "white"
          },
          "hoverlabel": {
           "align": "left"
          },
          "hovermode": "closest",
          "mapbox": {
           "style": "light"
          },
          "paper_bgcolor": "white",
          "plot_bgcolor": "#E5ECF6",
          "polar": {
           "angularaxis": {
            "gridcolor": "white",
            "linecolor": "white",
            "ticks": ""
           },
           "bgcolor": "#E5ECF6",
           "radialaxis": {
            "gridcolor": "white",
            "linecolor": "white",
            "ticks": ""
           }
          },
          "scene": {
           "xaxis": {
            "backgroundcolor": "#E5ECF6",
            "gridcolor": "white",
            "gridwidth": 2,
            "linecolor": "white",
            "showbackground": true,
            "ticks": "",
            "zerolinecolor": "white"
           },
           "yaxis": {
            "backgroundcolor": "#E5ECF6",
            "gridcolor": "white",
            "gridwidth": 2,
            "linecolor": "white",
            "showbackground": true,
            "ticks": "",
            "zerolinecolor": "white"
           },
           "zaxis": {
            "backgroundcolor": "#E5ECF6",
            "gridcolor": "white",
            "gridwidth": 2,
            "linecolor": "white",
            "showbackground": true,
            "ticks": "",
            "zerolinecolor": "white"
           }
          },
          "shapedefaults": {
           "line": {
            "color": "#2a3f5f"
           }
          },
          "ternary": {
           "aaxis": {
            "gridcolor": "white",
            "linecolor": "white",
            "ticks": ""
           },
           "baxis": {
            "gridcolor": "white",
            "linecolor": "white",
            "ticks": ""
           },
           "bgcolor": "#E5ECF6",
           "caxis": {
            "gridcolor": "white",
            "linecolor": "white",
            "ticks": ""
           }
          },
          "title": {
           "x": 0.05
          },
          "xaxis": {
           "automargin": true,
           "gridcolor": "white",
           "linecolor": "white",
           "ticks": "",
           "title": {
            "standoff": 15
           },
           "zerolinecolor": "white",
           "zerolinewidth": 2
          },
          "yaxis": {
           "automargin": true,
           "gridcolor": "white",
           "linecolor": "white",
           "ticks": "",
           "title": {
            "standoff": 15
           },
           "zerolinecolor": "white",
           "zerolinewidth": 2
          }
         }
        },
        "title": {
         "text": "Cluster Comparison: Ground Truth vs Prediction"
        },
        "width": 1000,
        "xaxis": {
         "anchor": "y",
         "domain": [
          0,
          0.45
         ]
        },
        "xaxis2": {
         "anchor": "y2",
         "domain": [
          0.55,
          1
         ]
        },
        "yaxis": {
         "anchor": "x",
         "domain": [
          0,
          1
         ]
        },
        "yaxis2": {
         "anchor": "x2",
         "domain": [
          0,
          1
         ]
        }
       }
      }
     },
     "metadata": {},
     "output_type": "display_data"
    }
   ],
   "source": [
    "model = SentenceTransformer(\"models/tsdae-model\")\n",
    "tsdae_res = test_model(model)"
   ]
  },
  {
   "cell_type": "code",
   "execution_count": 5,
   "id": "13d47006",
   "metadata": {},
   "outputs": [],
   "source": [
    "import numpy as np\n",
    "import matplotlib.pyplot as plt\n",
    "\n",
    "def plot_res(results):\n",
    "    baseline = oob_res[2]\n",
    "    results['baseline'] = baseline\n",
    "    fig, ax = plt.subplots(layout='constrained')\n",
    "    nr_metrics = 0\n",
    "    for i in results:\n",
    "        nr_metrics = len(results[i].keys())\n",
    "        metrics_names = results[i].keys()\n",
    "        break\n",
    "\n",
    "    width = 0.25\n",
    "    x = np.arange(nr_metrics)\n",
    "    multiplier = 0\n",
    "\n",
    "    for method, metrics in results.items():\n",
    "        offset = width * multiplier\n",
    "        rects = ax.bar(x + offset, list(metrics.values()), width=width, label=method)\n",
    "        ax.bar_label(rects, padding=3)  \n",
    "        multiplier += 1\n",
    "\n",
    "    # Add some text for labels, title and custom x-axis tick labels, etc.\n",
    "    ax.set_ylabel('Score')\n",
    "    ax.set_title('Metrics on clustering task benchmarkv1')\n",
    "    ax.set_xticks(x + width, metrics_names)\n",
    "    ax.legend(loc='upper left', ncols=3)\n",
    "\n",
    "    plt.show()"
   ]
  },
  {
   "cell_type": "markdown",
   "id": "1f4d6f2e",
   "metadata": {},
   "source": [
    "## Trained with SimCSE"
   ]
  },
  {
   "cell_type": "code",
   "execution_count": 6,
   "id": "0d644fd5",
   "metadata": {},
   "outputs": [
    {
     "data": {
      "application/vnd.jupyter.widget-view+json": {
       "model_id": "6fc12086a6f949459e3adcde5926fdb8",
       "version_major": 2,
       "version_minor": 0
      },
      "text/plain": [
       "Batches:   0%|          | 0/7 [00:00<?, ?it/s]"
      ]
     },
     "metadata": {},
     "output_type": "display_data"
    },
    {
     "data": {
      "application/vnd.jupyter.widget-view+json": {
       "model_id": "1a9a2802a4f5407bb98849d29a966e6a",
       "version_major": 2,
       "version_minor": 0
      },
      "text/plain": [
       "Batches:   0%|          | 0/7 [00:00<?, ?it/s]"
      ]
     },
     "metadata": {},
     "output_type": "display_data"
    },
    {
     "data": {
      "application/vnd.jupyter.widget-view+json": {
       "model_id": "a4976ea4eef045bf9192ba175dcc8e2e",
       "version_major": 2,
       "version_minor": 0
      },
      "text/plain": [
       "Batches:   0%|          | 0/7 [00:00<?, ?it/s]"
      ]
     },
     "metadata": {},
     "output_type": "display_data"
    },
    {
     "data": {
      "application/vnd.jupyter.widget-view+json": {
       "model_id": "4d602e76665647e28008b1338f6e37dd",
       "version_major": 2,
       "version_minor": 0
      },
      "text/plain": [
       "Batches:   0%|          | 0/7 [00:00<?, ?it/s]"
      ]
     },
     "metadata": {},
     "output_type": "display_data"
    },
    {
     "data": {
      "application/vnd.jupyter.widget-view+json": {
       "model_id": "aa7ced90959e4f8d8bb4d9e5827e74fa",
       "version_major": 2,
       "version_minor": 0
      },
      "text/plain": [
       "Batches:   0%|          | 0/7 [00:00<?, ?it/s]"
      ]
     },
     "metadata": {},
     "output_type": "display_data"
    },
    {
     "data": {
      "application/vnd.jupyter.widget-view+json": {
       "model_id": "6bec6ae455404940aa6b0e2b30e47789",
       "version_major": 2,
       "version_minor": 0
      },
      "text/plain": [
       "Batches:   0%|          | 0/7 [00:00<?, ?it/s]"
      ]
     },
     "metadata": {},
     "output_type": "display_data"
    },
    {
     "data": {
      "application/vnd.jupyter.widget-view+json": {
       "model_id": "690b5e83b1514de3b77e5977e727aee3",
       "version_major": 2,
       "version_minor": 0
      },
      "text/plain": [
       "Batches:   0%|          | 0/7 [00:00<?, ?it/s]"
      ]
     },
     "metadata": {},
     "output_type": "display_data"
    },
    {
     "data": {
      "application/vnd.jupyter.widget-view+json": {
       "model_id": "de17fd03a18f4f32b69adc19064bd16d",
       "version_major": 2,
       "version_minor": 0
      },
      "text/plain": [
       "Batches:   0%|          | 0/7 [00:00<?, ?it/s]"
      ]
     },
     "metadata": {},
     "output_type": "display_data"
    },
    {
     "data": {
      "application/vnd.jupyter.widget-view+json": {
       "model_id": "45cfc735361d41cd9843b8aa5fdc618c",
       "version_major": 2,
       "version_minor": 0
      },
      "text/plain": [
       "Batches:   0%|          | 0/7 [00:00<?, ?it/s]"
      ]
     },
     "metadata": {},
     "output_type": "display_data"
    },
    {
     "data": {
      "application/vnd.jupyter.widget-view+json": {
       "model_id": "3f9014aa381c494a950b9b6cc927b7ef",
       "version_major": 2,
       "version_minor": 0
      },
      "text/plain": [
       "Batches:   0%|          | 0/7 [00:00<?, ?it/s]"
      ]
     },
     "metadata": {},
     "output_type": "display_data"
    },
    {
     "data": {
      "application/vnd.jupyter.widget-view+json": {
       "model_id": "b5d9dada0066493eab130dab8dd5a4d9",
       "version_major": 2,
       "version_minor": 0
      },
      "text/plain": [
       "Batches:   0%|          | 0/7 [00:00<?, ?it/s]"
      ]
     },
     "metadata": {},
     "output_type": "display_data"
    },
    {
     "data": {
      "application/vnd.jupyter.widget-view+json": {
       "model_id": "e6746b6f1add45b990c1e64e71e1aea0",
       "version_major": 2,
       "version_minor": 0
      },
      "text/plain": [
       "Batches:   0%|          | 0/7 [00:00<?, ?it/s]"
      ]
     },
     "metadata": {},
     "output_type": "display_data"
    },
    {
     "data": {
      "application/vnd.jupyter.widget-view+json": {
       "model_id": "ae5c4b1870d94d69a381365b5031e519",
       "version_major": 2,
       "version_minor": 0
      },
      "text/plain": [
       "Batches:   0%|          | 0/7 [00:00<?, ?it/s]"
      ]
     },
     "metadata": {},
     "output_type": "display_data"
    },
    {
     "data": {
      "application/vnd.jupyter.widget-view+json": {
       "model_id": "6f3e5fd9c1f24b07b3567ac0e515c217",
       "version_major": 2,
       "version_minor": 0
      },
      "text/plain": [
       "Batches:   0%|          | 0/7 [00:00<?, ?it/s]"
      ]
     },
     "metadata": {},
     "output_type": "display_data"
    },
    {
     "data": {
      "application/vnd.jupyter.widget-view+json": {
       "model_id": "82b131f6a4ac40238878d6f809da0d92",
       "version_major": 2,
       "version_minor": 0
      },
      "text/plain": [
       "Batches:   0%|          | 0/7 [00:00<?, ?it/s]"
      ]
     },
     "metadata": {},
     "output_type": "display_data"
    },
    {
     "data": {
      "application/vnd.jupyter.widget-view+json": {
       "model_id": "b49ee5775831452498341a7d8a091c18",
       "version_major": 2,
       "version_minor": 0
      },
      "text/plain": [
       "Batches:   0%|          | 0/7 [00:00<?, ?it/s]"
      ]
     },
     "metadata": {},
     "output_type": "display_data"
    },
    {
     "data": {
      "application/vnd.jupyter.widget-view+json": {
       "model_id": "b8ab1b6634ed4392b572d9398c512630",
       "version_major": 2,
       "version_minor": 0
      },
      "text/plain": [
       "Batches:   0%|          | 0/7 [00:00<?, ?it/s]"
      ]
     },
     "metadata": {},
     "output_type": "display_data"
    },
    {
     "data": {
      "application/vnd.jupyter.widget-view+json": {
       "model_id": "d9645065d57a4e60943a5fc3940df364",
       "version_major": 2,
       "version_minor": 0
      },
      "text/plain": [
       "Batches:   0%|          | 0/7 [00:00<?, ?it/s]"
      ]
     },
     "metadata": {},
     "output_type": "display_data"
    },
    {
     "data": {
      "application/vnd.jupyter.widget-view+json": {
       "model_id": "dc55c6f3c24a4fe29891de4e39189bb9",
       "version_major": 2,
       "version_minor": 0
      },
      "text/plain": [
       "Batches:   0%|          | 0/7 [00:00<?, ?it/s]"
      ]
     },
     "metadata": {},
     "output_type": "display_data"
    },
    {
     "data": {
      "application/vnd.jupyter.widget-view+json": {
       "model_id": "a479d2dd384442669fdb6231edf769f3",
       "version_major": 2,
       "version_minor": 0
      },
      "text/plain": [
       "Batches:   0%|          | 0/7 [00:00<?, ?it/s]"
      ]
     },
     "metadata": {},
     "output_type": "display_data"
    },
    {
     "data": {
      "application/vnd.jupyter.widget-view+json": {
       "model_id": "4e5c350ea3694df5879b7f4c22399c26",
       "version_major": 2,
       "version_minor": 0
      },
      "text/plain": [
       "Batches:   0%|          | 0/7 [00:00<?, ?it/s]"
      ]
     },
     "metadata": {},
     "output_type": "display_data"
    },
    {
     "data": {
      "application/vnd.jupyter.widget-view+json": {
       "model_id": "4526773e68204ef5b38676ab3782b931",
       "version_major": 2,
       "version_minor": 0
      },
      "text/plain": [
       "Batches:   0%|          | 0/7 [00:00<?, ?it/s]"
      ]
     },
     "metadata": {},
     "output_type": "display_data"
    },
    {
     "data": {
      "application/vnd.jupyter.widget-view+json": {
       "model_id": "0586e9ac1f8341f1bc2142b8b5a1d878",
       "version_major": 2,
       "version_minor": 0
      },
      "text/plain": [
       "Batches:   0%|          | 0/7 [00:00<?, ?it/s]"
      ]
     },
     "metadata": {},
     "output_type": "display_data"
    },
    {
     "data": {
      "application/vnd.jupyter.widget-view+json": {
       "model_id": "cce39a0eae7c4e25aeff382f66d9e470",
       "version_major": 2,
       "version_minor": 0
      },
      "text/plain": [
       "Batches:   0%|          | 0/7 [00:00<?, ?it/s]"
      ]
     },
     "metadata": {},
     "output_type": "display_data"
    },
    {
     "data": {
      "application/vnd.jupyter.widget-view+json": {
       "model_id": "9754d4d0ff464344a31e25d6a8ca7c25",
       "version_major": 2,
       "version_minor": 0
      },
      "text/plain": [
       "Batches:   0%|          | 0/7 [00:00<?, ?it/s]"
      ]
     },
     "metadata": {},
     "output_type": "display_data"
    },
    {
     "data": {
      "application/vnd.jupyter.widget-view+json": {
       "model_id": "98a8d0c53f234065b18ec513a294b10a",
       "version_major": 2,
       "version_minor": 0
      },
      "text/plain": [
       "Batches:   0%|          | 0/7 [00:00<?, ?it/s]"
      ]
     },
     "metadata": {},
     "output_type": "display_data"
    },
    {
     "data": {
      "application/vnd.jupyter.widget-view+json": {
       "model_id": "6cba413ba62b41568c18c2d2cdf3bbfa",
       "version_major": 2,
       "version_minor": 0
      },
      "text/plain": [
       "Batches:   0%|          | 0/7 [00:00<?, ?it/s]"
      ]
     },
     "metadata": {},
     "output_type": "display_data"
    },
    {
     "data": {
      "application/vnd.jupyter.widget-view+json": {
       "model_id": "9fb294d8583349a2af4d1f35a08f6786",
       "version_major": 2,
       "version_minor": 0
      },
      "text/plain": [
       "Batches:   0%|          | 0/7 [00:00<?, ?it/s]"
      ]
     },
     "metadata": {},
     "output_type": "display_data"
    },
    {
     "data": {
      "application/vnd.jupyter.widget-view+json": {
       "model_id": "1299ca41d3314535b093d9002929e307",
       "version_major": 2,
       "version_minor": 0
      },
      "text/plain": [
       "Batches:   0%|          | 0/7 [00:00<?, ?it/s]"
      ]
     },
     "metadata": {},
     "output_type": "display_data"
    },
    {
     "data": {
      "application/vnd.jupyter.widget-view+json": {
       "model_id": "1e32aa1673c94518ad55310c705aba78",
       "version_major": 2,
       "version_minor": 0
      },
      "text/plain": [
       "Batches:   0%|          | 0/7 [00:00<?, ?it/s]"
      ]
     },
     "metadata": {},
     "output_type": "display_data"
    },
    {
     "name": "stdout",
     "output_type": "stream",
     "text": [
      "('Best Threshold: 0.996315254728084;\\n'\n",
      " \"Best scores: {'random score': 0.9714782205746061, 'adjusted random score': \"\n",
      " \"0.0196638909676481, 'nmi': 0.7172824556250789};\\n\"\n",
      " 'Best clusters: [[41, 88, 103, 105, 95, 227, 149, 102, 94, 99, 228, 108], '\n",
      " '[252, 354, 52, 346, 203, 133, 232, 32, 25], [370, 62, 390, 132, 402, 392, '\n",
      " '291, 66, 6], [150, 93, 142, 195, 144, 288, 325], [405, 391, 60, 403, 43, '\n",
      " '396], [387, 376, 375, 53, 401, 397], [286, 9, 85, 160, 266], [126, 100, 90, '\n",
      " '124, 96], [147, 109, 74, 219], [172, 335, 4, 114], [240, 303, 246, 317], '\n",
      " '[395, 398, 220], [36, 35, 34], [230, 294, 256], [357, 10, 279], [49, 404, '\n",
      " '399], [116, 119, 125], [31, 146, 26], [255, 24, 23], [259, 309, 153], [305, '\n",
      " '315, 316], [364, 330], [384, 212], [14, 1], [2, 33], [55, 107], [80, 225], '\n",
      " '[7, 11], [13, 293], [42, 136], [47, 355], [54, 328], [394, 58], [61, 273], '\n",
      " '[134, 231], [148, 194], [152, 171], [184, 415], [234, 235], [238, 241], '\n",
      " '[261, 271], [280, 366], [283, 285], [365, 372], [379, 381], [284], [145], '\n",
      " '[104], [314], [380], [378], [352], [117], [278], [38], [199], [250], [188], '\n",
      " '[113], [329], [340], [382], [386], [0], [3], [5], [8], [12], [15], [16], '\n",
      " '[17], [18], [19], [20], [21], [22], [27], [28], [29], [30], [37], [39], '\n",
      " '[40], [44], [45], [46], [48], [50], [51], [56], [57], [59], [63], [64], '\n",
      " '[65], [67], [68], [69], [70], [71], [72], [73], [75], [76], [77], [78], '\n",
      " '[79], [81], [82], [83], [84], [86], [87], [89], [91], [92], [97], [98], '\n",
      " '[101], [106], [110], [111], [112], [115], [118], [120], [121], [122], [123], '\n",
      " '[127], [128], [129], [130], [131], [135], [137], [138], [139], [140], [141], '\n",
      " '[143], [151], [154], [155], [156], [157], [158], [159], [161], [162], [163], '\n",
      " '[164], [165], [166], [167], [168], [169], [170], [173], [174], [175], [176], '\n",
      " '[177], [178], [179], [180], [181], [182], [183], [185], [186], [187], [189], '\n",
      " '[190], [191], [192], [193], [196], [197], [198], [200], [201], [202], [204], '\n",
      " '[205], [206], [207], [208], [209], [210], [211], [213], [214], [215], [216], '\n",
      " '[217], [218], [221], [222], [223], [224], [226], [229], [233], [236], [237], '\n",
      " '[239], [242], [243], [244], [245], [247], [248], [249], [251], [253], [254], '\n",
      " '[257], [258], [260], [262], [263], [264], [265], [267], [268], [269], [270], '\n",
      " '[272], [274], [275], [276], [277], [281], [282], [287], [289], [290], [292], '\n",
      " '[295], [296], [297], [298], [299], [300], [301], [302], [304], [306], [307], '\n",
      " '[308], [310], [311], [312], [313], [318], [319], [320], [321], [322], [323], '\n",
      " '[324], [326], [327], [331], [332], [333], [334], [336], [337], [338], [339], '\n",
      " '[341], [342], [343], [344], [345], [347], [348], [349], [350], [351], [353], '\n",
      " '[356], [358], [359], [360], [361], [362], [363], [367], [368], [369], [371], '\n",
      " '[373], [374], [377], [383], [385], [388], [389], [393], [400], [406], [407], '\n",
      " '[408], [409], [410], [411], [412], [413], [414]]')\n"
     ]
    },
    {
     "data": {
      "application/vnd.plotly.v1+json": {
       "config": {
        "plotlyServerURL": "https://plot.ly"
       },
       "data": [
        {
         "legendgroup": "gt",
         "marker": {
          "color": "#1f77b4",
          "size": 6
         },
         "mode": "markers",
         "name": "GT Group 0",
         "showlegend": false,
         "type": "scatter",
         "x": {
          "bdata": "rlKdwXLts8HxN9zBEVtHQXwAkT8F1BHBFq4eQg==",
          "dtype": "f4"
         },
         "xaxis": "x",
         "y": {
          "bdata": "f/fWwLxoFMELap/B7lizwL2BDEJFHoPBbsxAwg==",
          "dtype": "f4"
         },
         "yaxis": "y"
        },
        {
         "legendgroup": "gt",
         "marker": {
          "color": "#1f77b4",
          "size": 6
         },
         "mode": "markers",
         "name": "GT Group 1",
         "showlegend": false,
         "type": "scatter",
         "x": {
          "bdata": "cCRgQfrhzcFM1dxBJh/XQSvhXUEjPb5BwuMpwtCW18FIIag/0J9ewQ==",
          "dtype": "f4"
         },
         "xaxis": "x",
         "y": {
          "bdata": "2K70QV8K1UGEoQ1Bp8MAQYqr+EFrGH3BDHKCQeaN38H3/ghBl0ZQwg==",
          "dtype": "f4"
         },
         "yaxis": "y"
        },
        {
         "legendgroup": "gt",
         "marker": {
          "color": "#1f77b4",
          "size": 6
         },
         "mode": "markers",
         "name": "GT Group 2",
         "showlegend": false,
         "type": "scatter",
         "x": {
          "bdata": "FeLGwfaOTkHwofzBepb4wRZBX0FjgiTBy6TRQcc4zkE=",
          "dtype": "f4"
         },
         "xaxis": "x",
         "y": {
          "bdata": "aiMrQsKa20AKzntB/b91Qe/Z20AB3TVAbUuDwW+easE=",
          "dtype": "f4"
         },
         "yaxis": "y"
        },
        {
         "legendgroup": "gt",
         "marker": {
          "color": "#aec7e8",
          "size": 6
         },
         "mode": "markers",
         "name": "GT Group 3",
         "showlegend": false,
         "type": "scatter",
         "x": {
          "bdata": "aFGLwaAHJUE/gspBniGMP5iVpMEwJiG/RvoMQQ==",
          "dtype": "f4"
         },
         "xaxis": "x",
         "y": {
          "bdata": "8+V+wrdVZcIBhXFAQFYcQhDGbkKgZWtCKkRkwg==",
          "dtype": "f4"
         },
         "yaxis": "y"
        },
        {
         "legendgroup": "gt",
         "marker": {
          "color": "#aec7e8",
          "size": 6
         },
         "mode": "markers",
         "name": "GT Group 4",
         "showlegend": false,
         "type": "scatter",
         "x": {
          "bdata": "KCCLwV0s3MENC5bBrDRzwZY/f8H5yuq/Gmj2wA==",
          "dtype": "f4"
         },
         "xaxis": "x",
         "y": {
          "bdata": "vguBwk7emsFMAYPChM6Ewjb9g8Lm+5xCPDaOwQ==",
          "dtype": "f4"
         },
         "yaxis": "y"
        },
        {
         "legendgroup": "gt",
         "marker": {
          "color": "#ff7f0e",
          "size": 6
         },
         "mode": "markers",
         "name": "GT Group 5",
         "showlegend": false,
         "type": "scatter",
         "x": {
          "bdata": "+dx4QKfR6ME=",
          "dtype": "f4"
         },
         "xaxis": "x",
         "y": {
          "bdata": "+zkuwqh7iEI=",
          "dtype": "f4"
         },
         "yaxis": "y"
        },
        {
         "legendgroup": "gt",
         "marker": {
          "color": "#ff7f0e",
          "size": 6
         },
         "mode": "markers",
         "name": "GT Group 6",
         "showlegend": false,
         "type": "scatter",
         "x": {
          "bdata": "0n8pwqi7yUE=",
          "dtype": "f4"
         },
         "xaxis": "x",
         "y": {
          "bdata": "2bIrwbxRlD8=",
          "dtype": "f4"
         },
         "yaxis": "y"
        },
        {
         "legendgroup": "gt",
         "marker": {
          "color": "#ff7f0e",
          "size": 6
         },
         "mode": "markers",
         "name": "GT Group 7",
         "showlegend": false,
         "type": "scatter",
         "x": {
          "bdata": "XNT1QYlhkT/GLhnBidrWvhMvO0CfzcxBfKJwQU9wMELclQTCmQnEwVqhcEI=",
          "dtype": "f4"
         },
         "xaxis": "x",
         "y": {
          "bdata": "1/QwwkZDFkJmWYdC8kkMQkMrA0E6PwTBvYriwenZ28C6z+hBpscAwj2PFcI=",
          "dtype": "f4"
         },
         "yaxis": "y"
        },
        {
         "legendgroup": "gt",
         "marker": {
          "color": "#ffbb78",
          "size": 6
         },
         "mode": "markers",
         "name": "GT Group 8",
         "showlegend": false,
         "type": "scatter",
         "x": {
          "bdata": "5NxzQjNVdUFyjc5BqkiUwTcGW0I=",
          "dtype": "f4"
         },
         "xaxis": "x",
         "y": {
          "bdata": "yM9DwjseUsKft0NCkHtBQktk3ME=",
          "dtype": "f4"
         },
         "yaxis": "y"
        },
        {
         "legendgroup": "gt",
         "marker": {
          "color": "#ffbb78",
          "size": 6
         },
         "mode": "markers",
         "name": "GT Group 9",
         "showlegend": false,
         "type": "scatter",
         "x": {
          "bdata": "9wTpQSR9tkGr+SLB",
          "dtype": "f4"
         },
         "xaxis": "x",
         "y": {
          "bdata": "dtnLQZ8TT8K5Hjs/",
          "dtype": "f4"
         },
         "yaxis": "y"
        },
        {
         "legendgroup": "gt",
         "marker": {
          "color": "#2ca02c",
          "size": 6
         },
         "mode": "markers",
         "name": "GT Group 10",
         "showlegend": false,
         "type": "scatter",
         "x": {
          "bdata": "lycEQjFfHsHkLKa/",
          "dtype": "f4"
         },
         "xaxis": "x",
         "y": {
          "bdata": "MPYywp3dmUISSyBC",
          "dtype": "f4"
         },
         "yaxis": "y"
        },
        {
         "legendgroup": "gt",
         "marker": {
          "color": "#2ca02c",
          "size": 6
         },
         "mode": "markers",
         "name": "GT Group 11",
         "showlegend": false,
         "type": "scatter",
         "x": {
          "bdata": "Ml1ZwNCuGkJmw25AjpNBQA==",
          "dtype": "f4"
         },
         "xaxis": "x",
         "y": {
          "bdata": "lK2HQvtfQ8J8KotCe5KLQg==",
          "dtype": "f4"
         },
         "yaxis": "y"
        },
        {
         "legendgroup": "gt",
         "marker": {
          "color": "#98df8a",
          "size": 6
         },
         "mode": "markers",
         "name": "GT Group 12",
         "showlegend": false,
         "type": "scatter",
         "x": {
          "bdata": "HTFTQFnalj+SZNrBxe4lwZz2EsL7nHFC",
          "dtype": "f4"
         },
         "xaxis": "x",
         "y": {
          "bdata": "3y0Iwh6JbUKfYlFCEpHrwQztBkJzPwdA",
          "dtype": "f4"
         },
         "yaxis": "y"
        },
        {
         "legendgroup": "gt",
         "marker": {
          "color": "#98df8a",
          "size": 6
         },
         "mode": "markers",
         "name": "GT Group 13",
         "showlegend": false,
         "type": "scatter",
         "x": {
          "bdata": "/dfkwY8fj8AnL+nB5dapwOsbtcFQeM7BcSeYwaUhcUIx7ZNBqPIewPEnDEKNvHJB",
          "dtype": "f4"
         },
         "xaxis": "x",
         "y": {
          "bdata": "BFl8QgW8jkIAH4VCCsuOQrO4b0JzncVBoAkdwa83r0C26OTBvIJqQgpphEGpxV9C",
          "dtype": "f4"
         },
         "yaxis": "y"
        },
        {
         "legendgroup": "gt",
         "marker": {
          "color": "#98df8a",
          "size": 6
         },
         "mode": "markers",
         "name": "GT Group 14",
         "showlegend": false,
         "type": "scatter",
         "x": {
          "bdata": "W4NYwihtLsKUEH7BLRpswiH13sBgCm1C",
          "dtype": "f4"
         },
         "xaxis": "x",
         "y": {
          "bdata": "3b6wwbitPMGr13dBRkIAwrH7jUITAg9B",
          "dtype": "f4"
         },
         "yaxis": "y"
        },
        {
         "legendgroup": "gt",
         "marker": {
          "color": "#d62728",
          "size": 6
         },
         "mode": "markers",
         "name": "GT Group 15",
         "showlegend": false,
         "type": "scatter",
         "x": {
          "bdata": "BlsiQvcJL8JiOEjCCp9Rwok6WsGsajHCWjkVwg==",
          "dtype": "f4"
         },
         "xaxis": "x",
         "y": {
          "bdata": "9Oyiv7xJg8GvtwnBi5y+wRyl6z8+lo3Bpt1ewQ==",
          "dtype": "f4"
         },
         "yaxis": "y"
        },
        {
         "legendgroup": "gt",
         "marker": {
          "color": "#d62728",
          "size": 6
         },
         "mode": "markers",
         "name": "GT Group 16",
         "showlegend": false,
         "type": "scatter",
         "x": {
          "bdata": "d99bwj2tLEIwQiXCLWojwkzKI8IbczrC",
          "dtype": "f4"
         },
         "xaxis": "x",
         "y": {
          "bdata": "uVr/weAGzMDSus/AQnAxwTMIqsBAOwzB",
          "dtype": "f4"
         },
         "yaxis": "y"
        },
        {
         "legendgroup": "gt",
         "marker": {
          "color": "#ff9896",
          "size": 6
         },
         "mode": "markers",
         "name": "GT Group 17",
         "showlegend": false,
         "type": "scatter",
         "x": {
          "bdata": "Q8crwiJ1bkEgUj3CompsQu5jSsK5rFHCLmElwjALUME=",
          "dtype": "f4"
         },
         "xaxis": "x",
         "y": {
          "bdata": "MWQVwb3bUsJ4KfHApLuBQAZdtcHBkQfC/gXdQTyyY0A=",
          "dtype": "f4"
         },
         "yaxis": "y"
        },
        {
         "legendgroup": "gt",
         "marker": {
          "color": "#ff9896",
          "size": 6
         },
         "mode": "markers",
         "name": "GT Group 18",
         "showlegend": false,
         "type": "scatter",
         "x": {
          "bdata": "HNtkP19QOUIZi3PCdMImQqzFkMHQj3XCypKswQ==",
          "dtype": "f4"
         },
         "xaxis": "x",
         "y": {
          "bdata": "0q4CQq1txT81OwHCT9CmwLsFH0F5ff/Bb18Zwg==",
          "dtype": "f4"
         },
         "yaxis": "y"
        },
        {
         "legendgroup": "gt",
         "marker": {
          "color": "#ff9896",
          "size": 6
         },
         "mode": "markers",
         "name": "GT Group 19",
         "showlegend": false,
         "type": "scatter",
         "x": {
          "bdata": "LpJ3Qo9ilsH9YRjCjhBTwtxHecI=",
          "dtype": "f4"
         },
         "xaxis": "x",
         "y": {
          "bdata": "yWkXwvdlnMC349pB4MC6wZvuA8I=",
          "dtype": "f4"
         },
         "yaxis": "y"
        },
        {
         "legendgroup": "gt",
         "marker": {
          "color": "#9467bd",
          "size": 6
         },
         "mode": "markers",
         "name": "GT Group 20",
         "showlegend": false,
         "type": "scatter",
         "x": {
          "bdata": "hcZdwg==",
          "dtype": "f4"
         },
         "xaxis": "x",
         "y": {
          "bdata": "T2D9wQ==",
          "dtype": "f4"
         },
         "yaxis": "y"
        },
        {
         "legendgroup": "gt",
         "marker": {
          "color": "#9467bd",
          "size": 6
         },
         "mode": "markers",
         "name": "GT Group 21",
         "showlegend": false,
         "type": "scatter",
         "x": {
          "bdata": "X+nuwW4CAUI=",
          "dtype": "f4"
         },
         "xaxis": "x",
         "y": {
          "bdata": "DXp/QkmnRUI=",
          "dtype": "f4"
         },
         "yaxis": "y"
        },
        {
         "legendgroup": "gt",
         "marker": {
          "color": "#c5b0d5",
          "size": 6
         },
         "mode": "markers",
         "name": "GT Group 22",
         "showlegend": false,
         "type": "scatter",
         "x": {
          "bdata": "n3dWQVmgm0E04JJBV+8HQg==",
          "dtype": "f4"
         },
         "xaxis": "x",
         "y": {
          "bdata": "YhkCQhNW0cG1pyfC1ZEvwg==",
          "dtype": "f4"
         },
         "yaxis": "y"
        },
        {
         "legendgroup": "gt",
         "marker": {
          "color": "#c5b0d5",
          "size": 6
         },
         "mode": "markers",
         "name": "GT Group 23",
         "showlegend": false,
         "type": "scatter",
         "x": {
          "bdata": "CjqSwbMC2UE4G37CR9LJQV1XjsGGfZo/qYpEwnD0JkER/RZCXqMdQnRTx0GzRzrBPt9VwgoxAEHXE29C4p2FQo+nKMJ4ECJCfAwdwA==",
          "dtype": "f4"
         },
         "xaxis": "x",
         "y": {
          "bdata": "pVrjwRNgKEIhKQfCRWX7P0a3PMLVNHBCZU4RwtRqa8KIZJZBxXWVP+w+U0Jew+XB577GwIOTY8IEVTxATa7rQF40f8FSXLO+mEoiwA==",
          "dtype": "f4"
         },
         "yaxis": "y"
        },
        {
         "legendgroup": "gt",
         "marker": {
          "color": "#8c564b",
          "size": 6
         },
         "mode": "markers",
         "name": "GT Group 24",
         "showlegend": false,
         "type": "scatter",
         "x": {
          "bdata": "jSqZvxboFkKD0BNCD/pFQc9fr8EHqcC/sYbnQT7Xs8AtKBdCaPOkwW61N8H6H9tB",
          "dtype": "f4"
         },
         "xaxis": "x",
         "y": {
          "bdata": "mFvGQcQmxEE/94NAvGicv37DZEKU349Cb96QQX58m8FmkTNA7UPnwW162L6szPTA",
          "dtype": "f4"
         },
         "yaxis": "y"
        },
        {
         "legendgroup": "gt",
         "marker": {
          "color": "#8c564b",
          "size": 6
         },
         "mode": "markers",
         "name": "GT Group 25",
         "showlegend": false,
         "type": "scatter",
         "x": {
          "bdata": "/GiUQN2ehcCVwBlBTdEMwdwOQMGwixPCD7hBwc4ak7++EiFAxfgJQlOmAMGdJizB",
          "dtype": "f4"
         },
         "xaxis": "x",
         "y": {
          "bdata": "qs0bQrWTkkIvpYY/EgaYQmMKckJY1IzBh1lFwvT0yUET+gVCHXZAQiyilkLxNYhC",
          "dtype": "f4"
         },
         "yaxis": "y"
        },
        {
         "legendgroup": "gt",
         "marker": {
          "color": "#8c564b",
          "size": 6
         },
         "mode": "markers",
         "name": "GT Group 26",
         "showlegend": false,
         "type": "scatter",
         "x": {
          "bdata": "mU4twvGB80Euu5w+7ZgywldQHEL8sCQ/pCjFQBRuaMFNVSVBzkVMQAhx+78=",
          "dtype": "f4"
         },
         "xaxis": "x",
         "y": {
          "bdata": "2BXZQWarnEH4C4JC1SzXQVBamEFqvnxC4OMdQpAZfEF49UtBSuNwQg28hEI=",
          "dtype": "f4"
         },
         "yaxis": "y"
        },
        {
         "legendgroup": "gt",
         "marker": {
          "color": "#c49c94",
          "size": 6
         },
         "mode": "markers",
         "name": "GT Group 27",
         "showlegend": false,
         "type": "scatter",
         "x": {
          "bdata": "4JwMQmtYDkKoc4hBtuB2QBhsdkK2bllAQd87wZrMhEI=",
          "dtype": "f4"
         },
         "xaxis": "x",
         "y": {
          "bdata": "EMedQfLAjkGTV/XBJYBqQnFT8kAMSC7C7699QgwX8EA=",
          "dtype": "f4"
         },
         "yaxis": "y"
        },
        {
         "legendgroup": "gt",
         "marker": {
          "color": "#c49c94",
          "size": 6
         },
         "mode": "markers",
         "name": "GT Group 28",
         "showlegend": false,
         "type": "scatter",
         "x": {
          "bdata": "VlckQk8HBsJt3WNCzAj0Px76msHiEpXBAn5SwYrTjkELhgLCarJTQlqsosFpFwjCnefdwcwbhkHJWitB7b2kQRRBBcI=",
          "dtype": "f4"
         },
         "xaxis": "x",
         "y": {
          "bdata": "Y/KPP33BeT+hk5ZAP3cdQXZzXUEdnzZBJTB6Qnd5e7+k7CjCiGk1wiMCCcFGnOFBA7lGwgTSXUIxefo/Xw4/wmDtBz8=",
          "dtype": "f4"
         },
         "yaxis": "y"
        },
        {
         "legendgroup": "gt",
         "marker": {
          "color": "#e377c2",
          "size": 6
         },
         "mode": "markers",
         "name": "GT Group 29",
         "showlegend": false,
         "type": "scatter",
         "x": {
          "bdata": "omoaQkH1b0JdVwDBj1moweiOvD9qj87BHtstQZNiaEJP9LdBiRwjwnsTiMFl2jbCHnK/P7+m2MFFToxBJkhKwlsRUMI=",
          "dtype": "f4"
         },
         "xaxis": "x",
         "y": {
          "bdata": "1vc4wlJF+kChn9K+E25SQRXOIUL6oAbCHNBXQIBVLEC5eVrCgIyZwZxoAEHAfEDB+pSOQvK7wEFpBci//R0BwcwT5MA=",
          "dtype": "f4"
         },
         "yaxis": "y"
        },
        {
         "legendgroup": "gt",
         "marker": {
          "color": "#e377c2",
          "size": 6
         },
         "mode": "markers",
         "name": "GT Group 30",
         "showlegend": false,
         "type": "scatter",
         "x": {
          "bdata": "1JkOwoR0AsJucNZBDNsCwg==",
          "dtype": "f4"
         },
         "xaxis": "x",
         "y": {
          "bdata": "YduUQakLMcIFJidCkRMuwg==",
          "dtype": "f4"
         },
         "yaxis": "y"
        },
        {
         "legendgroup": "gt",
         "marker": {
          "color": "#e377c2",
          "size": 6
         },
         "mode": "markers",
         "name": "GT Group 31",
         "showlegend": false,
         "type": "scatter",
         "x": {
          "bdata": "c6isQIAaRsGDjUbBdAwRwtndr0E=",
          "dtype": "f4"
         },
         "xaxis": "x",
         "y": {
          "bdata": "C2LswdeIScLb3k3CUTScQV6eHUI=",
          "dtype": "f4"
         },
         "yaxis": "y"
        },
        {
         "legendgroup": "gt",
         "marker": {
          "color": "#f7b6d2",
          "size": 6
         },
         "mode": "markers",
         "name": "GT Group 32",
         "showlegend": false,
         "type": "scatter",
         "x": {
          "bdata": "Szq3QHm+pMF0yw3CuhOoQC47p0F6yoNAAyuawUyug0EaaxTCLe8kwkSKjME9E5jBHH+5wSBAC0JrI7TBaYZbwQ==",
          "dtype": "f4"
         },
         "xaxis": "x",
         "y": {
          "bdata": "PmL5wZAyPMLx38xBubv6wWtJGkJ8ogPCjL01wrBBwkEeIchBEO/pQSoFeMLQ6TnCjGoXwQ8VE0E6uvTB8rGGwg==",
          "dtype": "f4"
         },
         "yaxis": "y"
        },
        {
         "legendgroup": "gt",
         "marker": {
          "color": "#f7b6d2",
          "size": 6
         },
         "mode": "markers",
         "name": "GT Group 33",
         "showlegend": false,
         "type": "scatter",
         "x": {
          "bdata": "CdQIQiPly0EJHwbCVhMIwgc80EFs9hpCAG5TQg==",
          "dtype": "f4"
         },
         "xaxis": "x",
         "y": {
          "bdata": "V2hJQrTEdsGbzSPCRcodwhkkRkJwkstB62Y3wg==",
          "dtype": "f4"
         },
         "yaxis": "y"
        },
        {
         "legendgroup": "gt",
         "marker": {
          "color": "#7f7f7f",
          "size": 6
         },
         "mode": "markers",
         "name": "GT Group 34",
         "showlegend": false,
         "type": "scatter",
         "x": {
          "bdata": "kc+QQQbVDULQujpAULjJQfcEUsC7aPFBmyafQVOCKsIE5Yg+vlqbwUuDkkFmGI1BSXwTwdGpREIbPDRClmDbQUcejcH/wxjC",
          "dtype": "f4"
         },
         "xaxis": "x",
         "y": {
          "bdata": "WW+/Qb0GisEJKzXBKg1QQjeZjEL2so9B7FDAQdCOkkElzjLCtg+CQUUtvEFRIibCw9MMP4QqEML4w5k/K34vQtOx1cErvMFB",
          "dtype": "f4"
         },
         "yaxis": "y"
        },
        {
         "legendgroup": "gt",
         "marker": {
          "color": "#7f7f7f",
          "size": 6
         },
         "mode": "markers",
         "name": "GT Group 35",
         "showlegend": false,
         "type": "scatter",
         "x": {
          "bdata": "3dXnwHO0l0FcDQ5C/I3kwcDIi0Hdex7Cj9mIQaxZ70EaQXZB/HDCwHB2DcI=",
          "dtype": "f4"
         },
         "xaxis": "x",
         "y": {
          "bdata": "5CKLwfqggkESQI7BpqMDwtZSScEAaiTBAINMwUz2JkGnBNnAYGSCwe+gW8E=",
          "dtype": "f4"
         },
         "yaxis": "y"
        },
        {
         "legendgroup": "gt",
         "marker": {
          "color": "#c7c7c7",
          "size": 6
         },
         "mode": "markers",
         "name": "GT Group 36",
         "showlegend": false,
         "type": "scatter",
         "x": {
          "bdata": "XDQnwm4BIkKBnDlAYdAmwqc8AsI50wJBxeKVQN6rgkE=",
          "dtype": "f4"
         },
         "xaxis": "x",
         "y": {
          "bdata": "mgdWQenjQ8JEMD/Bgld4QS9JNsLwEFVBK5gAQhLDycE=",
          "dtype": "f4"
         },
         "yaxis": "y"
        },
        {
         "legendgroup": "gt",
         "marker": {
          "color": "#c7c7c7",
          "size": 6
         },
         "mode": "markers",
         "name": "GT Group 37",
         "showlegend": false,
         "type": "scatter",
         "x": {
          "bdata": "bw9BQWlltL91RrPB+VIMwGvmzMGmwRPCwKUtwhZvwMHI+4pBSuPFwQ==",
          "dtype": "f4"
         },
         "xaxis": "x",
         "y": {
          "bdata": "cMRgwl9mnkK8/TdCcs8+wGShfELb7M9BNWxWwciZO0L8F11CJ3swQg==",
          "dtype": "f4"
         },
         "yaxis": "y"
        },
        {
         "legendgroup": "gt",
         "marker": {
          "color": "#c7c7c7",
          "size": 6
         },
         "mode": "markers",
         "name": "GT Group 38",
         "showlegend": false,
         "type": "scatter",
         "x": {
          "bdata": "GnqHwfU3HULcIHrBrO+twfQI68Dl0etBCqy6wVhSxMFhCMzB",
          "dtype": "f4"
         },
         "xaxis": "x",
         "y": {
          "bdata": "+VO2QSKO0EGN64BCLIJGQgWlh0Ksq8dBDG0JwiPcP0IllD1C",
          "dtype": "f4"
         },
         "yaxis": "y"
        },
        {
         "legendgroup": "gt",
         "marker": {
          "color": "#bcbd22",
          "size": 6
         },
         "mode": "markers",
         "name": "GT Group 39",
         "showlegend": false,
         "type": "scatter",
         "x": {
          "bdata": "c/3IwQpJlcG9oaDBw4WKwVv8FsL8c6rBRiYSQugf9cFBa2tBiOXRwSrP58HNUXRCuV4kQrfOIMI7EyDCiIoqv9ER5cGhuSZCHXtXQOhnC0L5KGbBYO2nweD/2sHnS5fBghAKQg0AEUI=",
          "dtype": "f4"
         },
         "xaxis": "x",
         "y": {
          "bdata": "fg3CQaYJpEEr2EFCVXLrwbPeAUKHFBzC4krBQa3hLUK47JzApbtNQoQweELLN0XCEQ2pwKGqjcHKaXhB/NmgQsSwU0JaijrCeUYEQo3Ob0HGVXtCVyxsQvNSi8EJI29Bl7RFQtvtRkI=",
          "dtype": "f4"
         },
         "yaxis": "y"
        },
        {
         "legendgroup": "gt",
         "marker": {
          "color": "#bcbd22",
          "size": 6
         },
         "mode": "markers",
         "name": "GT Group 40",
         "showlegend": false,
         "type": "scatter",
         "x": {
          "bdata": "+Isbwtb5FcLW9aZBdgXNwTm+DcKmHrvAG5IgwSuANcHrqiPBcDTqQZ4GMcLGPMDBa/prQA==",
          "dtype": "f4"
         },
         "xaxis": "x",
         "y": {
          "bdata": "ppMAQopSQsG7pBxC9qDwwbxMvUFg09E/mu1XwnogU8JDsmHAIugvwn2Df0HT/PvBlDDyQA==",
          "dtype": "f4"
         },
         "yaxis": "y"
        },
        {
         "legendgroup": "gt",
         "marker": {
          "color": "#dbdb8d",
          "size": 6
         },
         "mode": "markers",
         "name": "GT Group 41",
         "showlegend": false,
         "type": "scatter",
         "x": {
          "bdata": "0BtbwpgUcUEjo0e+HadHQJjJSkAUnJ1A",
          "dtype": "f4"
         },
         "xaxis": "x",
         "y": {
          "bdata": "EVCpwM7jicA4uTPCF4YZQPcyT0CUmulA",
          "dtype": "f4"
         },
         "yaxis": "y"
        },
        {
         "legendgroup": "gt",
         "marker": {
          "color": "#dbdb8d",
          "size": 6
         },
         "mode": "markers",
         "name": "GT Group 42",
         "showlegend": false,
         "type": "scatter",
         "x": {
          "bdata": "P+3JQTuL80H+HxjCcsZLwsCulkE9t+/BfhnEQVv3xEGuWwVCnm5TwXwlScI=",
          "dtype": "f4"
         },
         "xaxis": "x",
         "y": {
          "bdata": "kncgwXHGEEEmjITBlOULwggWf0H+EgTCwsntwNYumMFsATbCuYbkweLbDcI=",
          "dtype": "f4"
         },
         "yaxis": "y"
        },
        {
         "legendgroup": "gt",
         "marker": {
          "color": "#dbdb8d",
          "size": 6
         },
         "mode": "markers",
         "name": "GT Group 43",
         "showlegend": false,
         "type": "scatter",
         "x": {
          "bdata": "kyvXwcdy4cERwGlCls9qQn3H90GXVF5Bq8VKQg==",
          "dtype": "f4"
         },
         "xaxis": "x",
         "y": {
          "bdata": "/058QmDDRcIsKx3CWMkWwrclPEFYHjJBnuQPwg==",
          "dtype": "f4"
         },
         "yaxis": "y"
        },
        {
         "legendgroup": "gt",
         "marker": {
          "color": "#17becf",
          "size": 6
         },
         "mode": "markers",
         "name": "GT Group 44",
         "showlegend": false,
         "type": "scatter",
         "x": {
          "bdata": "kRDNQXwnT0JDF7VBA/R7wYWiGEJHTpnBu4GIQUjUZ0JBfdBBzEMGQtkPD0KfjLxBzFcPQlDts0GOfFlClxm0QYNgrkHVN2tCkiLFQQ==",
          "dtype": "f4"
         },
         "xaxis": "x",
         "y": {
          "bdata": "NNIzwmKKD8J4YWHCj3l2QiRFUsI5oWdCZCLXwX51F8KfAk3Cu3VYwgq+UsI5ITPC+GBKwhMeZcIpWdzB2U1NwiF6PcIPMA/CXWNNwg==",
          "dtype": "f4"
         },
         "yaxis": "y"
        },
        {
         "legendgroup": "gt",
         "marker": {
          "color": "#17becf",
          "size": 6
         },
         "mode": "markers",
         "name": "GT Group 45",
         "showlegend": false,
         "type": "scatter",
         "x": {
          "bdata": "FMdgQZn7VEL7yV5CVx8SQoeJukELqoZBAr26QQ==",
          "dtype": "f4"
         },
         "xaxis": "x",
         "y": {
          "bdata": "GKPkwcZBDcKVRhXCRJVTwir7KcJeHN/B0DYwwg==",
          "dtype": "f4"
         },
         "yaxis": "y"
        },
        {
         "legendgroup": "gt",
         "marker": {
          "color": "#9edae5",
          "size": 6
         },
         "mode": "markers",
         "name": "GT Group 46",
         "showlegend": false,
         "type": "scatter",
         "x": {
          "bdata": "guBpQklN2MFj2nFBbeoFQgRP4EE=",
          "dtype": "f4"
         },
         "xaxis": "x",
         "y": {
          "bdata": "qcEjwk0wP0IHgDtBGpcaQRo1PUE=",
          "dtype": "f4"
         },
         "yaxis": "y"
        },
        {
         "legendgroup": "gt",
         "marker": {
          "color": "#9edae5",
          "size": 6
         },
         "mode": "markers",
         "name": "GT Group 47",
         "showlegend": false,
         "type": "scatter",
         "x": {
          "bdata": "0gsiQCH1y0E=",
          "dtype": "f4"
         },
         "xaxis": "x",
         "y": {
          "bdata": "+ZgXwXAkuL8=",
          "dtype": "f4"
         },
         "yaxis": "y"
        },
        {
         "legendgroup": "gt",
         "marker": {
          "color": "#9edae5",
          "size": 6
         },
         "mode": "markers",
         "name": "GT Group 48",
         "showlegend": false,
         "type": "scatter",
         "x": {
          "bdata": "LOvqweZejcHbrzBB",
          "dtype": "f4"
         },
         "xaxis": "x",
         "y": {
          "bdata": "X4kxQnwOr0FH1khB",
          "dtype": "f4"
         },
         "yaxis": "y"
        },
        {
         "legendgroup": "pred",
         "marker": {
          "color": "#1f77b4",
          "size": 6
         },
         "mode": "markers",
         "name": "Pred Group 0",
         "showlegend": false,
         "type": "scatter",
         "x": {
          "bdata": "0n8pwihtLsItaiPCG3M6wmI4SMImSErCj6cowjBCJcL3CS/CWjkVwlsRUMIgUj3C",
          "dtype": "f4"
         },
         "xaxis": "x2",
         "y": {
          "bdata": "2bIrwbitPMFCcDHBQDsMwa+3CcH9HQHBXjR/wdK6z8C8SYPBpt1ewcwT5MB4KfHA",
          "dtype": "f4"
         },
         "yaxis": "y2"
        },
        {
         "legendgroup": "pred",
         "marker": {
          "color": "#1f77b4",
          "size": 6
         },
         "mode": "markers",
         "name": "Pred Group 1",
         "showlegend": false,
         "type": "scatter",
         "x": {
          "bdata": "ayO0wcY8wMGZCcTBdgXNwQuGAsIKOpLBDNsCwiggi8FoUYvB",
          "dtype": "f4"
         },
         "xaxis": "x2",
         "y": {
          "bdata": "Orr0wdP8+8GmxwDC9qDwwaTsKMKlWuPBkRMuwr4LgcLz5X7C",
          "dtype": "f4"
         },
         "yaxis": "y2"
        },
        {
         "legendgroup": "pred",
         "marker": {
          "color": "#1f77b4",
          "size": 6
         },
         "mode": "markers",
         "name": "Pred Group 2",
         "showlegend": false,
         "type": "scatter",
         "x": {
          "bdata": "rlsFQpcnBELZDw9CV+8HQlcfEkLMVw9CbgEiQtCuGkIWrh5C",
          "dtype": "f4"
         },
         "xaxis": "x2",
         "y": {
          "bdata": "bAE2wjD2MsIKvlLC1ZEvwkSVU8L4YErC6eNDwvtfQ8JuzEDC",
          "dtype": "f4"
         },
         "yaxis": "y2"
        },
        {
         "legendgroup": "pred",
         "marker": {
          "color": "#1f77b4",
          "size": 6
         },
         "mode": "markers",
         "name": "Pred Group 3",
         "showlegend": false,
         "type": "scatter",
         "x": {
          "bdata": "eBAiQgZbIkJeox1CVlckQrNHOsH8cMLAQWtrQQ==",
          "dtype": "f4"
         },
         "xaxis": "x2",
         "y": {
          "bdata": "UlyzvvTsor/FdZU/Y/KPP17D5cFgZILBuOycwA==",
          "dtype": "f4"
         },
         "yaxis": "y2"
        },
        {
         "legendgroup": "pred",
         "marker": {
          "color": "#1f77b4",
          "size": 6
         },
         "mode": "markers",
         "name": "Pred Group 4",
         "showlegend": false,
         "type": "scatter",
         "x": {
          "bdata": "Ar26QZ+MvEEkfbZBh4m6QVzU9UGDYK5B",
          "dtype": "f4"
         },
         "xaxis": "x2",
         "y": {
          "bdata": "0DYwwjkhM8KfE0/CKvspwtf0MMIhej3C",
          "dtype": "f4"
         },
         "yaxis": "y2"
        },
        {
         "legendgroup": "pred",
         "marker": {
          "color": "#1f77b4",
          "size": 6
         },
         "mode": "markers",
         "name": "Pred Group 5",
         "showlegend": false,
         "type": "scatter",
         "x": {
          "bdata": "SNRnQpbPakIRwGlCWqFwQvvJXkLVN2tC",
          "dtype": "f4"
         },
         "xaxis": "x2",
         "y": {
          "bdata": "fnUXwljJFsIsKx3CPY8VwpVGFcIPMA/C",
          "dtype": "f4"
         },
         "yaxis": "y2"
        },
        {
         "legendgroup": "pred",
         "marker": {
          "color": "#1f77b4",
          "size": 6
         },
         "mode": "markers",
         "name": "Pred Group 6",
         "showlegend": false,
         "type": "scatter",
         "x": {
          "bdata": "rFnvQUzV3EHxJwxCLSgXQrto8UE=",
          "dtype": "f4"
         },
         "xaxis": "x2",
         "y": {
          "bdata": "TPYmQYShDUEKaYRBZpEzQPayj0E=",
          "dtype": "f4"
         },
         "yaxis": "y2"
        },
        {
         "legendgroup": "pred",
         "marker": {
          "color": "#1f77b4",
          "size": 6
         },
         "mode": "markers",
         "name": "Pred Group 7",
         "showlegend": false,
         "type": "scatter",
         "x": {
          "bdata": "hcZdwnffW8ItGmzCjhBTwgqfUcI=",
          "dtype": "f4"
         },
         "xaxis": "x2",
         "y": {
          "bdata": "T2D9wbla/8FGQgDC4MC6wYucvsE=",
          "dtype": "f4"
         },
         "yaxis": "y2"
        },
        {
         "legendgroup": "pred",
         "marker": {
          "color": "#1f77b4",
          "size": 6
         },
         "mode": "markers",
         "name": "Pred Group 8",
         "showlegend": false,
         "type": "scatter",
         "x": {
          "bdata": "1xNvQqJqbEL7nHFCk2JoQg==",
          "dtype": "f4"
         },
         "xaxis": "x2",
         "y": {
          "bdata": "BFU8QKS7gUBzPwdAgFUsQA==",
          "dtype": "f4"
         },
         "yaxis": "y2"
        },
        {
         "legendgroup": "pred",
         "marker": {
          "color": "#1f77b4",
          "size": 6
         },
         "mode": "markers",
         "name": "Pred Group 9",
         "showlegend": false,
         "type": "scatter",
         "x": {
          "bdata": "vhIhQB17V0B8AJE/HNtkPw==",
          "dtype": "f4"
         },
         "xaxis": "x2",
         "y": {
          "bdata": "E/oFQnlGBEK9gQxC0q4CQg==",
          "dtype": "f4"
         },
         "yaxis": "y2"
        },
        {
         "legendgroup": "pred",
         "marker": {
          "color": "#1f77b4",
          "size": 6
         },
         "mode": "markers",
         "name": "Pred Group 10",
         "showlegend": false,
         "type": "scatter",
         "x": {
          "bdata": "dMsNwqbBE8IaaxTCc/3IwQ==",
          "dtype": "f4"
         },
         "xaxis": "x2",
         "y": {
          "bdata": "8d/MQdvsz0EeIchBfg3CQQ==",
          "dtype": "f4"
         },
         "yaxis": "y2"
        },
        {
         "legendgroup": "pred",
         "marker": {
          "color": "#1f77b4",
          "size": 6
         },
         "mode": "markers",
         "name": "Pred Group 11",
         "showlegend": false,
         "type": "scatter",
         "x": {
          "bdata": "lxm0QZIixUFP9LdB",
          "dtype": "f4"
         },
         "xaxis": "x2",
         "y": {
          "bdata": "2U1Nwl1jTcK5eVrC",
          "dtype": "f4"
         },
         "yaxis": "y2"
        },
        {
         "legendgroup": "pred",
         "marker": {
          "color": "#1f77b4",
          "size": 6
         },
         "mode": "markers",
         "name": "Pred Group 12",
         "showlegend": false,
         "type": "scatter",
         "x": {
          "bdata": "lj9/waw0c8ENC5bB",
          "dtype": "f4"
         },
         "xaxis": "x2",
         "y": {
          "bdata": "Nv2DwoTOhMJMAYPC",
          "dtype": "f4"
         },
         "yaxis": "y2"
        },
        {
         "legendgroup": "pred",
         "marker": {
          "color": "#1f77b4",
          "size": 6
         },
         "mode": "markers",
         "name": "Pred Group 13",
         "showlegend": false,
         "type": "scatter",
         "x": {
          "bdata": "hHQCwqc8AsIJHwbC",
          "dtype": "f4"
         },
         "xaxis": "x2",
         "y": {
          "bdata": "qQsxwi9JNsKbzSPC",
          "dtype": "f4"
         },
         "yaxis": "y2"
        },
        {
         "legendgroup": "pred",
         "marker": {
          "color": "#1f77b4",
          "size": 6
         },
         "mode": "markers",
         "name": "Pred Group 14",
         "showlegend": false,
         "type": "scatter",
         "x": {
          "bdata": "mBRxQSYf10Hd1efA",
          "dtype": "f4"
         },
         "xaxis": "x2",
         "y": {
          "bdata": "zuOJwKfDAEHkIovB",
          "dtype": "f4"
         },
         "yaxis": "y2"
        },
        {
         "legendgroup": "pred",
         "marker": {
          "color": "#1f77b4",
          "size": 6
         },
         "mode": "markers",
         "name": "Pred Group 15",
         "showlegend": false,
         "type": "scatter",
         "x": {
          "bdata": "fKJwQQuqhkEUx2BB",
          "dtype": "f4"
         },
         "xaxis": "x2",
         "y": {
          "bdata": "vYriwV4c38EYo+TB",
          "dtype": "f4"
         },
         "yaxis": "y2"
        },
        {
         "legendgroup": "pred",
         "marker": {
          "color": "#aec7e8",
          "size": 6
         },
         "mode": "markers",
         "name": "Pred Group 16",
         "showlegend": false,
         "type": "scatter",
         "x": {
          "bdata": "GYtzwtCPdcLcR3nC",
          "dtype": "f4"
         },
         "xaxis": "x2",
         "y": {
          "bdata": "NTsBwnl9/8Gb7gPC",
          "dtype": "f4"
         },
         "yaxis": "y2"
        },
        {
         "legendgroup": "pred",
         "marker": {
          "color": "#aec7e8",
          "size": 6
         },
         "mode": "markers",
         "name": "Pred Group 17",
         "showlegend": false,
         "type": "scatter",
         "x": {
          "bdata": "RvoMQQoxAEGgByVB",
          "dtype": "f4"
         },
         "xaxis": "x2",
         "y": {
          "bdata": "KkRkwoOTY8K3VWXC",
          "dtype": "f4"
         },
         "yaxis": "y2"
        },
        {
         "legendgroup": "pred",
         "marker": {
          "color": "#aec7e8",
          "size": 6
         },
         "mode": "markers",
         "name": "Pred Group 18",
         "showlegend": false,
         "type": "scatter",
         "x": {
          "bdata": "I+XLQcc4zkHLpNFB",
          "dtype": "f4"
         },
         "xaxis": "x2",
         "y": {
          "bdata": "tMR2wW+easFtS4PB",
          "dtype": "f4"
         },
         "yaxis": "y2"
        },
        {
         "legendgroup": "pred",
         "marker": {
          "color": "#aec7e8",
          "size": 6
         },
         "mode": "markers",
         "name": "Pred Group 19",
         "showlegend": false,
         "type": "scatter",
         "x": {
          "bdata": "bPYaQvU3HUIW6BZC",
          "dtype": "f4"
         },
         "xaxis": "x2",
         "y": {
          "bdata": "cJLLQSKO0EHEJsRB",
          "dtype": "f4"
         },
         "yaxis": "y2"
        },
        {
         "legendgroup": "pred",
         "marker": {
          "color": "#aec7e8",
          "size": 6
         },
         "mode": "markers",
         "name": "Pred Group 20",
         "showlegend": false,
         "type": "scatter",
         "x": {
          "bdata": "Fm/AwVhSxMFhCMzB",
          "dtype": "f4"
         },
         "xaxis": "x2",
         "y": {
          "bdata": "yJk7QiPcP0IllD1C",
          "dtype": "f4"
         },
         "yaxis": "y2"
        },
        {
         "legendgroup": "pred",
         "marker": {
          "color": "#aec7e8",
          "size": 6
         },
         "mode": "markers",
         "name": "Pred Group 21",
         "showlegend": false,
         "type": "scatter",
         "x": {
          "bdata": "/h8YwrfOIMI=",
          "dtype": "f4"
         },
         "xaxis": "x2",
         "y": {
          "bdata": "JoyEwaGqjcE=",
          "dtype": "f4"
         },
         "yaxis": "y2"
        },
        {
         "legendgroup": "pred",
         "marker": {
          "color": "#aec7e8",
          "size": 6
         },
         "mode": "markers",
         "name": "Pred Group 22",
         "showlegend": false,
         "type": "scatter",
         "x": {
          "bdata": "haIYQqJqGkI=",
          "dtype": "f4"
         },
         "xaxis": "x2",
         "y": {
          "bdata": "JEVSwtb3OMI=",
          "dtype": "f4"
         },
         "yaxis": "y2"
        },
        {
         "legendgroup": "pred",
         "marker": {
          "color": "#aec7e8",
          "size": 6
         },
         "mode": "markers",
         "name": "Pred Group 23",
         "showlegend": false,
         "type": "scatter",
         "x": {
          "bdata": "0JbXwXLts8E=",
          "dtype": "f4"
         },
         "xaxis": "x2",
         "y": {
          "bdata": "5o3fwbxoFME=",
          "dtype": "f4"
         },
         "yaxis": "y2"
        },
        {
         "legendgroup": "pred",
         "marker": {
          "color": "#aec7e8",
          "size": 6
         },
         "mode": "markers",
         "name": "Pred Group 24",
         "showlegend": false,
         "type": "scatter",
         "x": {
          "bdata": "8TfcwV0s3ME=",
          "dtype": "f4"
         },
         "xaxis": "x2",
         "y": {
          "bdata": "C2qfwU7emsE=",
          "dtype": "f4"
         },
         "yaxis": "y2"
        },
        {
         "legendgroup": "pred",
         "marker": {
          "color": "#aec7e8",
          "size": 6
         },
         "mode": "markers",
         "name": "Pred Group 25",
         "showlegend": false,
         "type": "scatter",
         "x": {
          "bdata": "M1V1QSJ1bkE=",
          "dtype": "f4"
         },
         "xaxis": "x2",
         "y": {
          "bdata": "Ox5Swr3bUsI=",
          "dtype": "f4"
         },
         "yaxis": "y2"
        },
        {
         "legendgroup": "pred",
         "marker": {
          "color": "#aec7e8",
          "size": 6
         },
         "mode": "markers",
         "name": "Pred Group 26",
         "showlegend": false,
         "type": "scatter",
         "x": {
          "bdata": "UHjOwb+m2ME=",
          "dtype": "f4"
         },
         "xaxis": "x2",
         "y": {
          "bdata": "c53FQfK7wEE=",
          "dtype": "f4"
         },
         "yaxis": "y2"
        },
        {
         "legendgroup": "pred",
         "marker": {
          "color": "#aec7e8",
          "size": 6
         },
         "mode": "markers",
         "name": "Pred Group 27",
         "showlegend": false,
         "type": "scatter",
         "x": {
          "bdata": "cCRgQSvhXUE=",
          "dtype": "f4"
         },
         "xaxis": "x2",
         "y": {
          "bdata": "2K70QYqr+EE=",
          "dtype": "f4"
         },
         "yaxis": "y2"
        },
        {
         "legendgroup": "pred",
         "marker": {
          "color": "#aec7e8",
          "size": 6
         },
         "mode": "markers",
         "name": "Pred Group 28",
         "showlegend": false,
         "type": "scatter",
         "x": {
          "bdata": "wuMpwmHQJsI=",
          "dtype": "f4"
         },
         "xaxis": "x2",
         "y": {
          "bdata": "DHKCQYJXeEE=",
          "dtype": "f4"
         },
         "yaxis": "y2"
        },
        {
         "legendgroup": "pred",
         "marker": {
          "color": "#aec7e8",
          "size": 6
         },
         "mode": "markers",
         "name": "Pred Group 29",
         "showlegend": false,
         "type": "scatter",
         "x": {
          "bdata": "qLvJQUfSyUE=",
          "dtype": "f4"
         },
         "xaxis": "x2",
         "y": {
          "bdata": "vFGUP0Vl+z8=",
          "dtype": "f4"
         },
         "yaxis": "y2"
        },
        {
         "legendgroup": "pred",
         "marker": {
          "color": "#aec7e8",
          "size": 6
         },
         "mode": "markers",
         "name": "Pred Group 30",
         "showlegend": false,
         "type": "scatter",
         "x": {
          "bdata": "Ey87QGv6a0A=",
          "dtype": "f4"
         },
         "xaxis": "x2",
         "y": {
          "bdata": "QysDQZQw8kA=",
          "dtype": "f4"
         },
         "yaxis": "y2"
        },
        {
         "legendgroup": "pred",
         "marker": {
          "color": "#aec7e8",
          "size": 6
         },
         "mode": "markers",
         "name": "Pred Group 31",
         "showlegend": false,
         "type": "scatter",
         "x": {
          "bdata": "5NxzQs1RdEI=",
          "dtype": "f4"
         },
         "xaxis": "x2",
         "y": {
          "bdata": "yM9Dwss3RcI=",
          "dtype": "f4"
         },
         "yaxis": "y2"
        },
        {
         "legendgroup": "pred",
         "marker": {
          "color": "#ff7f0e",
          "size": 6
         },
         "mode": "markers",
         "name": "Pred Group 32",
         "showlegend": false,
         "type": "scatter",
         "x": {
          "bdata": "jnxZQjcGW0I=",
          "dtype": "f4"
         },
         "xaxis": "x2",
         "y": {
          "bdata": "KVncwUtk3ME=",
          "dtype": "f4"
         },
         "yaxis": "y2"
        },
        {
         "legendgroup": "pred",
         "marker": {
          "color": "#ff7f0e",
          "size": 6
         },
         "mode": "markers",
         "name": "Pred Group 33",
         "showlegend": false,
         "type": "scatter",
         "x": {
          "bdata": "q/kiwUl8E8E=",
          "dtype": "f4"
         },
         "xaxis": "x2",
         "y": {
          "bdata": "uR47P8PTDD8=",
          "dtype": "f4"
         },
         "yaxis": "y2"
        },
        {
         "legendgroup": "pred",
         "marker": {
          "color": "#ff7f0e",
          "size": 6
         },
         "mode": "markers",
         "name": "Pred Group 34",
         "showlegend": false,
         "type": "scatter",
         "x": {
          "bdata": "swLZQW5w1kE=",
          "dtype": "f4"
         },
         "xaxis": "x2",
         "y": {
          "bdata": "E2AoQgUmJ0I=",
          "dtype": "f4"
         },
         "yaxis": "y2"
        },
        {
         "legendgroup": "pred",
         "marker": {
          "color": "#ff7f0e",
          "size": 6
         },
         "mode": "markers",
         "name": "Pred Group 35",
         "showlegend": false,
         "type": "scatter",
         "x": {
          "bdata": "4p2FQprMhEI=",
          "dtype": "f4"
         },
         "xaxis": "x2",
         "y": {
          "bdata": "Ta7rQAwX8EA=",
          "dtype": "f4"
         },
         "yaxis": "y2"
        },
        {
         "legendgroup": "pred",
         "marker": {
          "color": "#ff7f0e",
          "size": 6
         },
         "mode": "markers",
         "name": "Pred Group 36",
         "showlegend": false,
         "type": "scatter",
         "x": {
          "bdata": "jSqZv84ak78=",
          "dtype": "f4"
         },
         "xaxis": "x2",
         "y": {
          "bdata": "mFvGQfT0yUE=",
          "dtype": "f4"
         },
         "yaxis": "y2"
        },
        {
         "legendgroup": "pred",
         "marker": {
          "color": "#ff7f0e",
          "size": 6
         },
         "mode": "markers",
         "name": "Pred Group 37",
         "showlegend": false,
         "type": "scatter",
         "x": {
          "bdata": "TVUlQduvMEE=",
          "dtype": "f4"
         },
         "xaxis": "x2",
         "y": {
          "bdata": "ePVLQUfWSEE=",
          "dtype": "f4"
         },
         "yaxis": "y2"
        },
        {
         "legendgroup": "pred",
         "marker": {
          "color": "#ff7f0e",
          "size": 6
         },
         "mode": "markers",
         "name": "Pred Group 38",
         "showlegend": false,
         "type": "scatter",
         "x": {
          "bdata": "gBpGwYONRsE=",
          "dtype": "f4"
         },
         "xaxis": "x2",
         "y": {
          "bdata": "14hJwtveTcI=",
          "dtype": "f4"
         },
         "yaxis": "y2"
        },
        {
         "legendgroup": "pred",
         "marker": {
          "color": "#ff7f0e",
          "size": 6
         },
         "mode": "markers",
         "name": "Pred Group 39",
         "showlegend": false,
         "type": "scatter",
         "x": {
          "bdata": "Szq3QLoTqEA=",
          "dtype": "f4"
         },
         "xaxis": "x2",
         "y": {
          "bdata": "PmL5wbm7+sE=",
          "dtype": "f4"
         },
         "yaxis": "y2"
        },
        {
         "legendgroup": "pred",
         "marker": {
          "color": "#ff7f0e",
          "size": 6
         },
         "mode": "markers",
         "name": "Pred Group 40",
         "showlegend": false,
         "type": "scatter",
         "x": {
          "bdata": "kc+QQUuDkkE=",
          "dtype": "f4"
         },
         "xaxis": "x2",
         "y": {
          "bdata": "WW+/QUUtvEE=",
          "dtype": "f4"
         },
         "yaxis": "y2"
        },
        {
         "legendgroup": "pred",
         "marker": {
          "color": "#ff7f0e",
          "size": 6
         },
         "mode": "markers",
         "name": "Pred Group 41",
         "showlegend": false,
         "type": "scatter",
         "x": {
          "bdata": "c7SXQcCulkE=",
          "dtype": "f4"
         },
         "xaxis": "x2",
         "y": {
          "bdata": "+qCCQQgWf0E=",
          "dtype": "f4"
         },
         "yaxis": "y2"
        },
        {
         "legendgroup": "pred",
         "marker": {
          "color": "#ff7f0e",
          "size": 6
         },
         "mode": "markers",
         "name": "Pred Group 42",
         "showlegend": false,
         "type": "scatter",
         "x": {
          "bdata": "wMiLQY/ZiEE=",
          "dtype": "f4"
         },
         "xaxis": "x2",
         "y": {
          "bdata": "1lJJwQCDTME=",
          "dtype": "f4"
         },
         "yaxis": "y2"
        },
        {
         "legendgroup": "pred",
         "marker": {
          "color": "#ff7f0e",
          "size": 6
         },
         "mode": "markers",
         "name": "Pred Group 43",
         "showlegend": false,
         "type": "scatter",
         "x": {
          "bdata": "csZLwnwlScI=",
          "dtype": "f4"
         },
         "xaxis": "x2",
         "y": {
          "bdata": "lOULwuLbDcI=",
          "dtype": "f4"
         },
         "yaxis": "y2"
        },
        {
         "legendgroup": "pred",
         "marker": {
          "color": "#ff7f0e",
          "size": 6
         },
         "mode": "markers",
         "name": "Pred Group 44",
         "showlegend": false,
         "type": "scatter",
         "x": {
          "bdata": "q8VKQnwnT0I=",
          "dtype": "f4"
         },
         "xaxis": "x2",
         "y": {
          "bdata": "nuQPwmKKD8I=",
          "dtype": "f4"
         },
         "yaxis": "y2"
        },
        {
         "legendgroup": "pred",
         "marker": {
          "color": "#ff7f0e",
          "size": 6
         },
         "mode": "markers",
         "name": "Pred Group 45",
         "showlegend": false,
         "type": "scatter",
         "x": {
          "bdata": "3Xsewg==",
          "dtype": "f4"
         },
         "xaxis": "x2",
         "y": {
          "bdata": "AGokwQ==",
          "dtype": "f4"
         },
         "yaxis": "y2"
        },
        {
         "legendgroup": "pred",
         "marker": {
          "color": "#ff7f0e",
          "size": 6
         },
         "mode": "markers",
         "name": "Pred Group 46",
         "showlegend": false,
         "type": "scatter",
         "x": {
          "bdata": "Pt9Vwg==",
          "dtype": "f4"
         },
         "xaxis": "x2",
         "y": {
          "bdata": "577GwA==",
          "dtype": "f4"
         },
         "yaxis": "y2"
        },
        {
         "legendgroup": "pred",
         "marker": {
          "color": "#ffbb78",
          "size": 6
         },
         "mode": "markers",
         "name": "Pred Group 47",
         "showlegend": false,
         "type": "scatter",
         "x": {
          "bdata": "TMojwg==",
          "dtype": "f4"
         },
         "xaxis": "x2",
         "y": {
          "bdata": "MwiqwA==",
          "dtype": "f4"
         },
         "yaxis": "y2"
        },
        {
         "legendgroup": "pred",
         "marker": {
          "color": "#ffbb78",
          "size": 6
         },
         "mode": "markers",
         "name": "Pred Group 48",
         "showlegend": false,
         "type": "scatter",
         "x": {
          "bdata": "Cqy6wQ==",
          "dtype": "f4"
         },
         "xaxis": "x2",
         "y": {
          "bdata": "DG0Jwg==",
          "dtype": "f4"
         },
         "yaxis": "y2"
        },
        {
         "legendgroup": "pred",
         "marker": {
          "color": "#ffbb78",
          "size": 6
         },
         "mode": "markers",
         "name": "Pred Group 49",
         "showlegend": false,
         "type": "scatter",
         "x": {
          "bdata": "kRDNQQ==",
          "dtype": "f4"
         },
         "xaxis": "x2",
         "y": {
          "bdata": "NNIzwg==",
          "dtype": "f4"
         },
         "yaxis": "y2"
        },
        {
         "legendgroup": "pred",
         "marker": {
          "color": "#ffbb78",
          "size": 6
         },
         "mode": "markers",
         "name": "Pred Group 50",
         "showlegend": false,
         "type": "scatter",
         "x": {
          "bdata": "l1ReQQ==",
          "dtype": "f4"
         },
         "xaxis": "x2",
         "y": {
          "bdata": "WB4yQQ==",
          "dtype": "f4"
         },
         "yaxis": "y2"
        },
        {
         "legendgroup": "pred",
         "marker": {
          "color": "#ffbb78",
          "size": 6
         },
         "mode": "markers",
         "name": "Pred Group 51",
         "showlegend": false,
         "type": "scatter",
         "x": {
          "bdata": "cDTqQQ==",
          "dtype": "f4"
         },
         "xaxis": "x2",
         "y": {
          "bdata": "Iugvwg==",
          "dtype": "f4"
         },
         "yaxis": "y2"
        },
        {
         "legendgroup": "pred",
         "marker": {
          "color": "#ffbb78",
          "size": 6
         },
         "mode": "markers",
         "name": "Pred Group 52",
         "showlegend": false,
         "type": "scatter",
         "x": {
          "bdata": "dMImQg==",
          "dtype": "f4"
         },
         "xaxis": "x2",
         "y": {
          "bdata": "T9CmwA==",
          "dtype": "f4"
         },
         "yaxis": "y2"
        },
        {
         "legendgroup": "pred",
         "marker": {
          "color": "#ffbb78",
          "size": 6
         },
         "mode": "markers",
         "name": "Pred Group 53",
         "showlegend": false,
         "type": "scatter",
         "x": {
          "bdata": "/8MYwg==",
          "dtype": "f4"
         },
         "xaxis": "x2",
         "y": {
          "bdata": "K7zBQQ==",
          "dtype": "f4"
         },
         "yaxis": "y2"
        },
        {
         "legendgroup": "pred",
         "marker": {
          "color": "#ffbb78",
          "size": 6
         },
         "mode": "markers",
         "name": "Pred Group 54",
         "showlegend": false,
         "type": "scatter",
         "x": {
          "bdata": "Gmj2wA==",
          "dtype": "f4"
         },
         "xaxis": "x2",
         "y": {
          "bdata": "PDaOwQ==",
          "dtype": "f4"
         },
         "yaxis": "y2"
        },
        {
         "legendgroup": "pred",
         "marker": {
          "color": "#ffbb78",
          "size": 6
         },
         "mode": "markers",
         "name": "Pred Group 55",
         "showlegend": false,
         "type": "scatter",
         "x": {
          "bdata": "HvqawQ==",
          "dtype": "f4"
         },
         "xaxis": "x2",
         "y": {
          "bdata": "dnNdQQ==",
          "dtype": "f4"
         },
         "yaxis": "y2"
        },
        {
         "legendgroup": "pred",
         "marker": {
          "color": "#ffbb78",
          "size": 6
         },
         "mode": "markers",
         "name": "Pred Group 56",
         "showlegend": false,
         "type": "scatter",
         "x": {
          "bdata": "HH+5wQ==",
          "dtype": "f4"
         },
         "xaxis": "x2",
         "y": {
          "bdata": "jGoXwQ==",
          "dtype": "f4"
         },
         "yaxis": "y2"
        },
        {
         "legendgroup": "pred",
         "marker": {
          "color": "#ffbb78",
          "size": 6
         },
         "mode": "markers",
         "name": "Pred Group 57",
         "showlegend": false,
         "type": "scatter",
         "x": {
          "bdata": "a1gOQg==",
          "dtype": "f4"
         },
         "xaxis": "x2",
         "y": {
          "bdata": "8sCOQQ==",
          "dtype": "f4"
         },
         "yaxis": "y2"
        },
        {
         "legendgroup": "pred",
         "marker": {
          "color": "#ffbb78",
          "size": 6
         },
         "mode": "markers",
         "name": "Pred Group 58",
         "showlegend": false,
         "type": "scatter",
         "x": {
          "bdata": "MAtQwQ==",
          "dtype": "f4"
         },
         "xaxis": "x2",
         "y": {
          "bdata": "PLJjQA==",
          "dtype": "f4"
         },
         "yaxis": "y2"
        },
        {
         "legendgroup": "pred",
         "marker": {
          "color": "#ffbb78",
          "size": 6
         },
         "mode": "markers",
         "name": "Pred Group 59",
         "showlegend": false,
         "type": "scatter",
         "x": {
          "bdata": "uV4kQg==",
          "dtype": "f4"
         },
         "xaxis": "x2",
         "y": {
          "bdata": "EQ2pwA==",
          "dtype": "f4"
         },
         "yaxis": "y2"
        },
        {
         "legendgroup": "pred",
         "marker": {
          "color": "#ffbb78",
          "size": 6
         },
         "mode": "markers",
         "name": "Pred Group 60",
         "showlegend": false,
         "type": "scatter",
         "x": {
          "bdata": "50uXwQ==",
          "dtype": "f4"
         },
         "xaxis": "x2",
         "y": {
          "bdata": "CSNvQQ==",
          "dtype": "f4"
         },
         "yaxis": "y2"
        },
        {
         "legendgroup": "pred",
         "marker": {
          "color": "#ffbb78",
          "size": 6
         },
         "mode": "markers",
         "name": "Pred Group 61",
         "showlegend": false,
         "type": "scatter",
         "x": {
          "bdata": "Qxe1QQ==",
          "dtype": "f4"
         },
         "xaxis": "x2",
         "y": {
          "bdata": "eGFhwg==",
          "dtype": "f4"
         },
         "yaxis": "y2"
        },
        {
         "legendgroup": "pred",
         "marker": {
          "color": "#ffbb78",
          "size": 6
         },
         "mode": "markers",
         "name": "Pred Group 62",
         "showlegend": false,
         "type": "scatter",
         "x": {
          "bdata": "u4GIQQ==",
          "dtype": "f4"
         },
         "xaxis": "x2",
         "y": {
          "bdata": "ZCLXwQ==",
          "dtype": "f4"
         },
         "yaxis": "y2"
        },
        {
         "legendgroup": "pred",
         "marker": {
          "color": "#2ca02c",
          "size": 6
         },
         "mode": "markers",
         "name": "Pred Group 63",
         "showlegend": false,
         "type": "scatter",
         "x": {
          "bdata": "rlKdwQ==",
          "dtype": "f4"
         },
         "xaxis": "x2",
         "y": {
          "bdata": "f/fWwA==",
          "dtype": "f4"
         },
         "yaxis": "y2"
        },
        {
         "legendgroup": "pred",
         "marker": {
          "color": "#2ca02c",
          "size": 6
         },
         "mode": "markers",
         "name": "Pred Group 64",
         "showlegend": false,
         "type": "scatter",
         "x": {
          "bdata": "EVtHQQ==",
          "dtype": "f4"
         },
         "xaxis": "x2",
         "y": {
          "bdata": "7lizwA==",
          "dtype": "f4"
         },
         "yaxis": "y2"
        },
        {
         "legendgroup": "pred",
         "marker": {
          "color": "#2ca02c",
          "size": 6
         },
         "mode": "markers",
         "name": "Pred Group 65",
         "showlegend": false,
         "type": "scatter",
         "x": {
          "bdata": "BdQRwQ==",
          "dtype": "f4"
         },
         "xaxis": "x2",
         "y": {
          "bdata": "RR6DwQ==",
          "dtype": "f4"
         },
         "yaxis": "y2"
        },
        {
         "legendgroup": "pred",
         "marker": {
          "color": "#2ca02c",
          "size": 6
         },
         "mode": "markers",
         "name": "Pred Group 66",
         "showlegend": false,
         "type": "scatter",
         "x": {
          "bdata": "+uHNwQ==",
          "dtype": "f4"
         },
         "xaxis": "x2",
         "y": {
          "bdata": "XwrVQQ==",
          "dtype": "f4"
         },
         "yaxis": "y2"
        },
        {
         "legendgroup": "pred",
         "marker": {
          "color": "#2ca02c",
          "size": 6
         },
         "mode": "markers",
         "name": "Pred Group 67",
         "showlegend": false,
         "type": "scatter",
         "x": {
          "bdata": "Iz2+QQ==",
          "dtype": "f4"
         },
         "xaxis": "x2",
         "y": {
          "bdata": "axh9wQ==",
          "dtype": "f4"
         },
         "yaxis": "y2"
        },
        {
         "legendgroup": "pred",
         "marker": {
          "color": "#2ca02c",
          "size": 6
         },
         "mode": "markers",
         "name": "Pred Group 68",
         "showlegend": false,
         "type": "scatter",
         "x": {
          "bdata": "SCGoPw==",
          "dtype": "f4"
         },
         "xaxis": "x2",
         "y": {
          "bdata": "9/4IQQ==",
          "dtype": "f4"
         },
         "yaxis": "y2"
        },
        {
         "legendgroup": "pred",
         "marker": {
          "color": "#2ca02c",
          "size": 6
         },
         "mode": "markers",
         "name": "Pred Group 69",
         "showlegend": false,
         "type": "scatter",
         "x": {
          "bdata": "0J9ewQ==",
          "dtype": "f4"
         },
         "xaxis": "x2",
         "y": {
          "bdata": "l0ZQwg==",
          "dtype": "f4"
         },
         "yaxis": "y2"
        },
        {
         "legendgroup": "pred",
         "marker": {
          "color": "#2ca02c",
          "size": 6
         },
         "mode": "markers",
         "name": "Pred Group 70",
         "showlegend": false,
         "type": "scatter",
         "x": {
          "bdata": "FeLGwQ==",
          "dtype": "f4"
         },
         "xaxis": "x2",
         "y": {
          "bdata": "aiMrQg==",
          "dtype": "f4"
         },
         "yaxis": "y2"
        },
        {
         "legendgroup": "pred",
         "marker": {
          "color": "#2ca02c",
          "size": 6
         },
         "mode": "markers",
         "name": "Pred Group 71",
         "showlegend": false,
         "type": "scatter",
         "x": {
          "bdata": "9o5OQQ==",
          "dtype": "f4"
         },
         "xaxis": "x2",
         "y": {
          "bdata": "wprbQA==",
          "dtype": "f4"
         },
         "yaxis": "y2"
        },
        {
         "legendgroup": "pred",
         "marker": {
          "color": "#2ca02c",
          "size": 6
         },
         "mode": "markers",
         "name": "Pred Group 72",
         "showlegend": false,
         "type": "scatter",
         "x": {
          "bdata": "8KH8wQ==",
          "dtype": "f4"
         },
         "xaxis": "x2",
         "y": {
          "bdata": "Cs57QQ==",
          "dtype": "f4"
         },
         "yaxis": "y2"
        },
        {
         "legendgroup": "pred",
         "marker": {
          "color": "#2ca02c",
          "size": 6
         },
         "mode": "markers",
         "name": "Pred Group 73",
         "showlegend": false,
         "type": "scatter",
         "x": {
          "bdata": "epb4wQ==",
          "dtype": "f4"
         },
         "xaxis": "x2",
         "y": {
          "bdata": "/b91QQ==",
          "dtype": "f4"
         },
         "yaxis": "y2"
        },
        {
         "legendgroup": "pred",
         "marker": {
          "color": "#2ca02c",
          "size": 6
         },
         "mode": "markers",
         "name": "Pred Group 74",
         "showlegend": false,
         "type": "scatter",
         "x": {
          "bdata": "FkFfQQ==",
          "dtype": "f4"
         },
         "xaxis": "x2",
         "y": {
          "bdata": "79nbQA==",
          "dtype": "f4"
         },
         "yaxis": "y2"
        },
        {
         "legendgroup": "pred",
         "marker": {
          "color": "#2ca02c",
          "size": 6
         },
         "mode": "markers",
         "name": "Pred Group 75",
         "showlegend": false,
         "type": "scatter",
         "x": {
          "bdata": "Y4IkwQ==",
          "dtype": "f4"
         },
         "xaxis": "x2",
         "y": {
          "bdata": "Ad01QA==",
          "dtype": "f4"
         },
         "yaxis": "y2"
        },
        {
         "legendgroup": "pred",
         "marker": {
          "color": "#2ca02c",
          "size": 6
         },
         "mode": "markers",
         "name": "Pred Group 76",
         "showlegend": false,
         "type": "scatter",
         "x": {
          "bdata": "P4LKQQ==",
          "dtype": "f4"
         },
         "xaxis": "x2",
         "y": {
          "bdata": "AYVxQA==",
          "dtype": "f4"
         },
         "yaxis": "y2"
        },
        {
         "legendgroup": "pred",
         "marker": {
          "color": "#2ca02c",
          "size": 6
         },
         "mode": "markers",
         "name": "Pred Group 77",
         "showlegend": false,
         "type": "scatter",
         "x": {
          "bdata": "niGMPw==",
          "dtype": "f4"
         },
         "xaxis": "x2",
         "y": {
          "bdata": "QFYcQg==",
          "dtype": "f4"
         },
         "yaxis": "y2"
        },
        {
         "legendgroup": "pred",
         "marker": {
          "color": "#98df8a",
          "size": 6
         },
         "mode": "markers",
         "name": "Pred Group 78",
         "showlegend": false,
         "type": "scatter",
         "x": {
          "bdata": "mJWkwQ==",
          "dtype": "f4"
         },
         "xaxis": "x2",
         "y": {
          "bdata": "EMZuQg==",
          "dtype": "f4"
         },
         "yaxis": "y2"
        },
        {
         "legendgroup": "pred",
         "marker": {
          "color": "#98df8a",
          "size": 6
         },
         "mode": "markers",
         "name": "Pred Group 79",
         "showlegend": false,
         "type": "scatter",
         "x": {
          "bdata": "MCYhvw==",
          "dtype": "f4"
         },
         "xaxis": "x2",
         "y": {
          "bdata": "oGVrQg==",
          "dtype": "f4"
         },
         "yaxis": "y2"
        },
        {
         "legendgroup": "pred",
         "marker": {
          "color": "#98df8a",
          "size": 6
         },
         "mode": "markers",
         "name": "Pred Group 80",
         "showlegend": false,
         "type": "scatter",
         "x": {
          "bdata": "+crqvw==",
          "dtype": "f4"
         },
         "xaxis": "x2",
         "y": {
          "bdata": "5vucQg==",
          "dtype": "f4"
         },
         "yaxis": "y2"
        },
        {
         "legendgroup": "pred",
         "marker": {
          "color": "#98df8a",
          "size": 6
         },
         "mode": "markers",
         "name": "Pred Group 81",
         "showlegend": false,
         "type": "scatter",
         "x": {
          "bdata": "+dx4QA==",
          "dtype": "f4"
         },
         "xaxis": "x2",
         "y": {
          "bdata": "+zkuwg==",
          "dtype": "f4"
         },
         "yaxis": "y2"
        },
        {
         "legendgroup": "pred",
         "marker": {
          "color": "#98df8a",
          "size": 6
         },
         "mode": "markers",
         "name": "Pred Group 82",
         "showlegend": false,
         "type": "scatter",
         "x": {
          "bdata": "p9HowQ==",
          "dtype": "f4"
         },
         "xaxis": "x2",
         "y": {
          "bdata": "qHuIQg==",
          "dtype": "f4"
         },
         "yaxis": "y2"
        },
        {
         "legendgroup": "pred",
         "marker": {
          "color": "#98df8a",
          "size": 6
         },
         "mode": "markers",
         "name": "Pred Group 83",
         "showlegend": false,
         "type": "scatter",
         "x": {
          "bdata": "iWGRPw==",
          "dtype": "f4"
         },
         "xaxis": "x2",
         "y": {
          "bdata": "RkMWQg==",
          "dtype": "f4"
         },
         "yaxis": "y2"
        },
        {
         "legendgroup": "pred",
         "marker": {
          "color": "#98df8a",
          "size": 6
         },
         "mode": "markers",
         "name": "Pred Group 84",
         "showlegend": false,
         "type": "scatter",
         "x": {
          "bdata": "xi4ZwQ==",
          "dtype": "f4"
         },
         "xaxis": "x2",
         "y": {
          "bdata": "ZlmHQg==",
          "dtype": "f4"
         },
         "yaxis": "y2"
        },
        {
         "legendgroup": "pred",
         "marker": {
          "color": "#98df8a",
          "size": 6
         },
         "mode": "markers",
         "name": "Pred Group 85",
         "showlegend": false,
         "type": "scatter",
         "x": {
          "bdata": "idrWvg==",
          "dtype": "f4"
         },
         "xaxis": "x2",
         "y": {
          "bdata": "8kkMQg==",
          "dtype": "f4"
         },
         "yaxis": "y2"
        },
        {
         "legendgroup": "pred",
         "marker": {
          "color": "#98df8a",
          "size": 6
         },
         "mode": "markers",
         "name": "Pred Group 86",
         "showlegend": false,
         "type": "scatter",
         "x": {
          "bdata": "n83MQQ==",
          "dtype": "f4"
         },
         "xaxis": "x2",
         "y": {
          "bdata": "Oj8EwQ==",
          "dtype": "f4"
         },
         "yaxis": "y2"
        },
        {
         "legendgroup": "pred",
         "marker": {
          "color": "#98df8a",
          "size": 6
         },
         "mode": "markers",
         "name": "Pred Group 87",
         "showlegend": false,
         "type": "scatter",
         "x": {
          "bdata": "T3AwQg==",
          "dtype": "f4"
         },
         "xaxis": "x2",
         "y": {
          "bdata": "6dnbwA==",
          "dtype": "f4"
         },
         "yaxis": "y2"
        },
        {
         "legendgroup": "pred",
         "marker": {
          "color": "#98df8a",
          "size": 6
         },
         "mode": "markers",
         "name": "Pred Group 88",
         "showlegend": false,
         "type": "scatter",
         "x": {
          "bdata": "3JUEwg==",
          "dtype": "f4"
         },
         "xaxis": "x2",
         "y": {
          "bdata": "us/oQQ==",
          "dtype": "f4"
         },
         "yaxis": "y2"
        },
        {
         "legendgroup": "pred",
         "marker": {
          "color": "#98df8a",
          "size": 6
         },
         "mode": "markers",
         "name": "Pred Group 89",
         "showlegend": false,
         "type": "scatter",
         "x": {
          "bdata": "co3OQQ==",
          "dtype": "f4"
         },
         "xaxis": "x2",
         "y": {
          "bdata": "n7dDQg==",
          "dtype": "f4"
         },
         "yaxis": "y2"
        },
        {
         "legendgroup": "pred",
         "marker": {
          "color": "#98df8a",
          "size": 6
         },
         "mode": "markers",
         "name": "Pred Group 90",
         "showlegend": false,
         "type": "scatter",
         "x": {
          "bdata": "qkiUwQ==",
          "dtype": "f4"
         },
         "xaxis": "x2",
         "y": {
          "bdata": "kHtBQg==",
          "dtype": "f4"
         },
         "yaxis": "y2"
        },
        {
         "legendgroup": "pred",
         "marker": {
          "color": "#98df8a",
          "size": 6
         },
         "mode": "markers",
         "name": "Pred Group 91",
         "showlegend": false,
         "type": "scatter",
         "x": {
          "bdata": "9wTpQQ==",
          "dtype": "f4"
         },
         "xaxis": "x2",
         "y": {
          "bdata": "dtnLQQ==",
          "dtype": "f4"
         },
         "yaxis": "y2"
        },
        {
         "legendgroup": "pred",
         "marker": {
          "color": "#98df8a",
          "size": 6
         },
         "mode": "markers",
         "name": "Pred Group 92",
         "showlegend": false,
         "type": "scatter",
         "x": {
          "bdata": "MV8ewQ==",
          "dtype": "f4"
         },
         "xaxis": "x2",
         "y": {
          "bdata": "nd2ZQg==",
          "dtype": "f4"
         },
         "yaxis": "y2"
        },
        {
         "legendgroup": "pred",
         "marker": {
          "color": "#98df8a",
          "size": 6
         },
         "mode": "markers",
         "name": "Pred Group 93",
         "showlegend": false,
         "type": "scatter",
         "x": {
          "bdata": "5Cymvw==",
          "dtype": "f4"
         },
         "xaxis": "x2",
         "y": {
          "bdata": "EksgQg==",
          "dtype": "f4"
         },
         "yaxis": "y2"
        },
        {
         "legendgroup": "pred",
         "marker": {
          "color": "#d62728",
          "size": 6
         },
         "mode": "markers",
         "name": "Pred Group 94",
         "showlegend": false,
         "type": "scatter",
         "x": {
          "bdata": "Ml1ZwA==",
          "dtype": "f4"
         },
         "xaxis": "x2",
         "y": {
          "bdata": "lK2HQg==",
          "dtype": "f4"
         },
         "yaxis": "y2"
        },
        {
         "legendgroup": "pred",
         "marker": {
          "color": "#d62728",
          "size": 6
         },
         "mode": "markers",
         "name": "Pred Group 95",
         "showlegend": false,
         "type": "scatter",
         "x": {
          "bdata": "ZsNuQA==",
          "dtype": "f4"
         },
         "xaxis": "x2",
         "y": {
          "bdata": "fCqLQg==",
          "dtype": "f4"
         },
         "yaxis": "y2"
        },
        {
         "legendgroup": "pred",
         "marker": {
          "color": "#d62728",
          "size": 6
         },
         "mode": "markers",
         "name": "Pred Group 96",
         "showlegend": false,
         "type": "scatter",
         "x": {
          "bdata": "jpNBQA==",
          "dtype": "f4"
         },
         "xaxis": "x2",
         "y": {
          "bdata": "e5KLQg==",
          "dtype": "f4"
         },
         "yaxis": "y2"
        },
        {
         "legendgroup": "pred",
         "marker": {
          "color": "#d62728",
          "size": 6
         },
         "mode": "markers",
         "name": "Pred Group 97",
         "showlegend": false,
         "type": "scatter",
         "x": {
          "bdata": "HTFTQA==",
          "dtype": "f4"
         },
         "xaxis": "x2",
         "y": {
          "bdata": "3y0Iwg==",
          "dtype": "f4"
         },
         "yaxis": "y2"
        },
        {
         "legendgroup": "pred",
         "marker": {
          "color": "#d62728",
          "size": 6
         },
         "mode": "markers",
         "name": "Pred Group 98",
         "showlegend": false,
         "type": "scatter",
         "x": {
          "bdata": "WdqWPw==",
          "dtype": "f4"
         },
         "xaxis": "x2",
         "y": {
          "bdata": "HoltQg==",
          "dtype": "f4"
         },
         "yaxis": "y2"
        },
        {
         "legendgroup": "pred",
         "marker": {
          "color": "#d62728",
          "size": 6
         },
         "mode": "markers",
         "name": "Pred Group 99",
         "showlegend": false,
         "type": "scatter",
         "x": {
          "bdata": "kmTawQ==",
          "dtype": "f4"
         },
         "xaxis": "x2",
         "y": {
          "bdata": "n2JRQg==",
          "dtype": "f4"
         },
         "yaxis": "y2"
        },
        {
         "legendgroup": "pred",
         "marker": {
          "color": "#d62728",
          "size": 6
         },
         "mode": "markers",
         "name": "Pred Group 100",
         "showlegend": false,
         "type": "scatter",
         "x": {
          "bdata": "xe4lwQ==",
          "dtype": "f4"
         },
         "xaxis": "x2",
         "y": {
          "bdata": "EpHrwQ==",
          "dtype": "f4"
         },
         "yaxis": "y2"
        },
        {
         "legendgroup": "pred",
         "marker": {
          "color": "#d62728",
          "size": 6
         },
         "mode": "markers",
         "name": "Pred Group 101",
         "showlegend": false,
         "type": "scatter",
         "x": {
          "bdata": "nPYSwg==",
          "dtype": "f4"
         },
         "xaxis": "x2",
         "y": {
          "bdata": "DO0GQg==",
          "dtype": "f4"
         },
         "yaxis": "y2"
        },
        {
         "legendgroup": "pred",
         "marker": {
          "color": "#d62728",
          "size": 6
         },
         "mode": "markers",
         "name": "Pred Group 102",
         "showlegend": false,
         "type": "scatter",
         "x": {
          "bdata": "/dfkwQ==",
          "dtype": "f4"
         },
         "xaxis": "x2",
         "y": {
          "bdata": "BFl8Qg==",
          "dtype": "f4"
         },
         "yaxis": "y2"
        },
        {
         "legendgroup": "pred",
         "marker": {
          "color": "#d62728",
          "size": 6
         },
         "mode": "markers",
         "name": "Pred Group 103",
         "showlegend": false,
         "type": "scatter",
         "x": {
          "bdata": "jx+PwA==",
          "dtype": "f4"
         },
         "xaxis": "x2",
         "y": {
          "bdata": "BbyOQg==",
          "dtype": "f4"
         },
         "yaxis": "y2"
        },
        {
         "legendgroup": "pred",
         "marker": {
          "color": "#d62728",
          "size": 6
         },
         "mode": "markers",
         "name": "Pred Group 104",
         "showlegend": false,
         "type": "scatter",
         "x": {
          "bdata": "Jy/pwQ==",
          "dtype": "f4"
         },
         "xaxis": "x2",
         "y": {
          "bdata": "AB+FQg==",
          "dtype": "f4"
         },
         "yaxis": "y2"
        },
        {
         "legendgroup": "pred",
         "marker": {
          "color": "#d62728",
          "size": 6
         },
         "mode": "markers",
         "name": "Pred Group 105",
         "showlegend": false,
         "type": "scatter",
         "x": {
          "bdata": "5dapwA==",
          "dtype": "f4"
         },
         "xaxis": "x2",
         "y": {
          "bdata": "CsuOQg==",
          "dtype": "f4"
         },
         "yaxis": "y2"
        },
        {
         "legendgroup": "pred",
         "marker": {
          "color": "#d62728",
          "size": 6
         },
         "mode": "markers",
         "name": "Pred Group 106",
         "showlegend": false,
         "type": "scatter",
         "x": {
          "bdata": "6xu1wQ==",
          "dtype": "f4"
         },
         "xaxis": "x2",
         "y": {
          "bdata": "s7hvQg==",
          "dtype": "f4"
         },
         "yaxis": "y2"
        },
        {
         "legendgroup": "pred",
         "marker": {
          "color": "#d62728",
          "size": 6
         },
         "mode": "markers",
         "name": "Pred Group 107",
         "showlegend": false,
         "type": "scatter",
         "x": {
          "bdata": "cSeYwQ==",
          "dtype": "f4"
         },
         "xaxis": "x2",
         "y": {
          "bdata": "oAkdwQ==",
          "dtype": "f4"
         },
         "yaxis": "y2"
        },
        {
         "legendgroup": "pred",
         "marker": {
          "color": "#d62728",
          "size": 6
         },
         "mode": "markers",
         "name": "Pred Group 108",
         "showlegend": false,
         "type": "scatter",
         "x": {
          "bdata": "pSFxQg==",
          "dtype": "f4"
         },
         "xaxis": "x2",
         "y": {
          "bdata": "rzevQA==",
          "dtype": "f4"
         },
         "yaxis": "y2"
        },
        {
         "legendgroup": "pred",
         "marker": {
          "color": "#ff9896",
          "size": 6
         },
         "mode": "markers",
         "name": "Pred Group 109",
         "showlegend": false,
         "type": "scatter",
         "x": {
          "bdata": "Me2TQQ==",
          "dtype": "f4"
         },
         "xaxis": "x2",
         "y": {
          "bdata": "tujkwQ==",
          "dtype": "f4"
         },
         "yaxis": "y2"
        },
        {
         "legendgroup": "pred",
         "marker": {
          "color": "#ff9896",
          "size": 6
         },
         "mode": "markers",
         "name": "Pred Group 110",
         "showlegend": false,
         "type": "scatter",
         "x": {
          "bdata": "qPIewA==",
          "dtype": "f4"
         },
         "xaxis": "x2",
         "y": {
          "bdata": "vIJqQg==",
          "dtype": "f4"
         },
         "yaxis": "y2"
        },
        {
         "legendgroup": "pred",
         "marker": {
          "color": "#ff9896",
          "size": 6
         },
         "mode": "markers",
         "name": "Pred Group 111",
         "showlegend": false,
         "type": "scatter",
         "x": {
          "bdata": "jbxyQQ==",
          "dtype": "f4"
         },
         "xaxis": "x2",
         "y": {
          "bdata": "qcVfQg==",
          "dtype": "f4"
         },
         "yaxis": "y2"
        },
        {
         "legendgroup": "pred",
         "marker": {
          "color": "#ff9896",
          "size": 6
         },
         "mode": "markers",
         "name": "Pred Group 112",
         "showlegend": false,
         "type": "scatter",
         "x": {
          "bdata": "W4NYwg==",
          "dtype": "f4"
         },
         "xaxis": "x2",
         "y": {
          "bdata": "3b6wwQ==",
          "dtype": "f4"
         },
         "yaxis": "y2"
        },
        {
         "legendgroup": "pred",
         "marker": {
          "color": "#ff9896",
          "size": 6
         },
         "mode": "markers",
         "name": "Pred Group 113",
         "showlegend": false,
         "type": "scatter",
         "x": {
          "bdata": "lBB+wQ==",
          "dtype": "f4"
         },
         "xaxis": "x2",
         "y": {
          "bdata": "q9d3QQ==",
          "dtype": "f4"
         },
         "yaxis": "y2"
        },
        {
         "legendgroup": "pred",
         "marker": {
          "color": "#ff9896",
          "size": 6
         },
         "mode": "markers",
         "name": "Pred Group 114",
         "showlegend": false,
         "type": "scatter",
         "x": {
          "bdata": "IfXewA==",
          "dtype": "f4"
         },
         "xaxis": "x2",
         "y": {
          "bdata": "sfuNQg==",
          "dtype": "f4"
         },
         "yaxis": "y2"
        },
        {
         "legendgroup": "pred",
         "marker": {
          "color": "#ff9896",
          "size": 6
         },
         "mode": "markers",
         "name": "Pred Group 115",
         "showlegend": false,
         "type": "scatter",
         "x": {
          "bdata": "YAptQg==",
          "dtype": "f4"
         },
         "xaxis": "x2",
         "y": {
          "bdata": "EwIPQQ==",
          "dtype": "f4"
         },
         "yaxis": "y2"
        },
        {
         "legendgroup": "pred",
         "marker": {
          "color": "#ff9896",
          "size": 6
         },
         "mode": "markers",
         "name": "Pred Group 116",
         "showlegend": false,
         "type": "scatter",
         "x": {
          "bdata": "iTpawQ==",
          "dtype": "f4"
         },
         "xaxis": "x2",
         "y": {
          "bdata": "HKXrPw==",
          "dtype": "f4"
         },
         "yaxis": "y2"
        },
        {
         "legendgroup": "pred",
         "marker": {
          "color": "#ff9896",
          "size": 6
         },
         "mode": "markers",
         "name": "Pred Group 117",
         "showlegend": false,
         "type": "scatter",
         "x": {
          "bdata": "rGoxwg==",
          "dtype": "f4"
         },
         "xaxis": "x2",
         "y": {
          "bdata": "PpaNwQ==",
          "dtype": "f4"
         },
         "yaxis": "y2"
        },
        {
         "legendgroup": "pred",
         "marker": {
          "color": "#ff9896",
          "size": 6
         },
         "mode": "markers",
         "name": "Pred Group 118",
         "showlegend": false,
         "type": "scatter",
         "x": {
          "bdata": "Pa0sQg==",
          "dtype": "f4"
         },
         "xaxis": "x2",
         "y": {
          "bdata": "4AbMwA==",
          "dtype": "f4"
         },
         "yaxis": "y2"
        },
        {
         "legendgroup": "pred",
         "marker": {
          "color": "#ff9896",
          "size": 6
         },
         "mode": "markers",
         "name": "Pred Group 119",
         "showlegend": false,
         "type": "scatter",
         "x": {
          "bdata": "Q8crwg==",
          "dtype": "f4"
         },
         "xaxis": "x2",
         "y": {
          "bdata": "MWQVwQ==",
          "dtype": "f4"
         },
         "yaxis": "y2"
        },
        {
         "legendgroup": "pred",
         "marker": {
          "color": "#ff9896",
          "size": 6
         },
         "mode": "markers",
         "name": "Pred Group 120",
         "showlegend": false,
         "type": "scatter",
         "x": {
          "bdata": "7mNKwg==",
          "dtype": "f4"
         },
         "xaxis": "x2",
         "y": {
          "bdata": "Bl21wQ==",
          "dtype": "f4"
         },
         "yaxis": "y2"
        },
        {
         "legendgroup": "pred",
         "marker": {
          "color": "#ff9896",
          "size": 6
         },
         "mode": "markers",
         "name": "Pred Group 121",
         "showlegend": false,
         "type": "scatter",
         "x": {
          "bdata": "uaxRwg==",
          "dtype": "f4"
         },
         "xaxis": "x2",
         "y": {
          "bdata": "wZEHwg==",
          "dtype": "f4"
         },
         "yaxis": "y2"
        },
        {
         "legendgroup": "pred",
         "marker": {
          "color": "#ff9896",
          "size": 6
         },
         "mode": "markers",
         "name": "Pred Group 122",
         "showlegend": false,
         "type": "scatter",
         "x": {
          "bdata": "LmElwg==",
          "dtype": "f4"
         },
         "xaxis": "x2",
         "y": {
          "bdata": "/gXdQQ==",
          "dtype": "f4"
         },
         "yaxis": "y2"
        },
        {
         "legendgroup": "pred",
         "marker": {
          "color": "#ff9896",
          "size": 6
         },
         "mode": "markers",
         "name": "Pred Group 123",
         "showlegend": false,
         "type": "scatter",
         "x": {
          "bdata": "X1A5Qg==",
          "dtype": "f4"
         },
         "xaxis": "x2",
         "y": {
          "bdata": "rW3FPw==",
          "dtype": "f4"
         },
         "yaxis": "y2"
        },
        {
         "legendgroup": "pred",
         "marker": {
          "color": "#ff9896",
          "size": 6
         },
         "mode": "markers",
         "name": "Pred Group 124",
         "showlegend": false,
         "type": "scatter",
         "x": {
          "bdata": "rMWQwQ==",
          "dtype": "f4"
         },
         "xaxis": "x2",
         "y": {
          "bdata": "uwUfQQ==",
          "dtype": "f4"
         },
         "yaxis": "y2"
        },
        {
         "legendgroup": "pred",
         "marker": {
          "color": "#9467bd",
          "size": 6
         },
         "mode": "markers",
         "name": "Pred Group 125",
         "showlegend": false,
         "type": "scatter",
         "x": {
          "bdata": "ypKswQ==",
          "dtype": "f4"
         },
         "xaxis": "x2",
         "y": {
          "bdata": "b18Zwg==",
          "dtype": "f4"
         },
         "yaxis": "y2"
        },
        {
         "legendgroup": "pred",
         "marker": {
          "color": "#9467bd",
          "size": 6
         },
         "mode": "markers",
         "name": "Pred Group 126",
         "showlegend": false,
         "type": "scatter",
         "x": {
          "bdata": "LpJ3Qg==",
          "dtype": "f4"
         },
         "xaxis": "x2",
         "y": {
          "bdata": "yWkXwg==",
          "dtype": "f4"
         },
         "yaxis": "y2"
        },
        {
         "legendgroup": "pred",
         "marker": {
          "color": "#9467bd",
          "size": 6
         },
         "mode": "markers",
         "name": "Pred Group 127",
         "showlegend": false,
         "type": "scatter",
         "x": {
          "bdata": "j2KWwQ==",
          "dtype": "f4"
         },
         "xaxis": "x2",
         "y": {
          "bdata": "92WcwA==",
          "dtype": "f4"
         },
         "yaxis": "y2"
        },
        {
         "legendgroup": "pred",
         "marker": {
          "color": "#9467bd",
          "size": 6
         },
         "mode": "markers",
         "name": "Pred Group 128",
         "showlegend": false,
         "type": "scatter",
         "x": {
          "bdata": "/WEYwg==",
          "dtype": "f4"
         },
         "xaxis": "x2",
         "y": {
          "bdata": "t+PaQQ==",
          "dtype": "f4"
         },
         "yaxis": "y2"
        },
        {
         "legendgroup": "pred",
         "marker": {
          "color": "#9467bd",
          "size": 6
         },
         "mode": "markers",
         "name": "Pred Group 129",
         "showlegend": false,
         "type": "scatter",
         "x": {
          "bdata": "X+nuwQ==",
          "dtype": "f4"
         },
         "xaxis": "x2",
         "y": {
          "bdata": "DXp/Qg==",
          "dtype": "f4"
         },
         "yaxis": "y2"
        },
        {
         "legendgroup": "pred",
         "marker": {
          "color": "#9467bd",
          "size": 6
         },
         "mode": "markers",
         "name": "Pred Group 130",
         "showlegend": false,
         "type": "scatter",
         "x": {
          "bdata": "bgIBQg==",
          "dtype": "f4"
         },
         "xaxis": "x2",
         "y": {
          "bdata": "SadFQg==",
          "dtype": "f4"
         },
         "yaxis": "y2"
        },
        {
         "legendgroup": "pred",
         "marker": {
          "color": "#9467bd",
          "size": 6
         },
         "mode": "markers",
         "name": "Pred Group 131",
         "showlegend": false,
         "type": "scatter",
         "x": {
          "bdata": "n3dWQQ==",
          "dtype": "f4"
         },
         "xaxis": "x2",
         "y": {
          "bdata": "YhkCQg==",
          "dtype": "f4"
         },
         "yaxis": "y2"
        },
        {
         "legendgroup": "pred",
         "marker": {
          "color": "#9467bd",
          "size": 6
         },
         "mode": "markers",
         "name": "Pred Group 132",
         "showlegend": false,
         "type": "scatter",
         "x": {
          "bdata": "WaCbQQ==",
          "dtype": "f4"
         },
         "xaxis": "x2",
         "y": {
          "bdata": "E1bRwQ==",
          "dtype": "f4"
         },
         "yaxis": "y2"
        },
        {
         "legendgroup": "pred",
         "marker": {
          "color": "#9467bd",
          "size": 6
         },
         "mode": "markers",
         "name": "Pred Group 133",
         "showlegend": false,
         "type": "scatter",
         "x": {
          "bdata": "NOCSQQ==",
          "dtype": "f4"
         },
         "xaxis": "x2",
         "y": {
          "bdata": "tacnwg==",
          "dtype": "f4"
         },
         "yaxis": "y2"
        },
        {
         "legendgroup": "pred",
         "marker": {
          "color": "#9467bd",
          "size": 6
         },
         "mode": "markers",
         "name": "Pred Group 134",
         "showlegend": false,
         "type": "scatter",
         "x": {
          "bdata": "OBt+wg==",
          "dtype": "f4"
         },
         "xaxis": "x2",
         "y": {
          "bdata": "ISkHwg==",
          "dtype": "f4"
         },
         "yaxis": "y2"
        },
        {
         "legendgroup": "pred",
         "marker": {
          "color": "#9467bd",
          "size": 6
         },
         "mode": "markers",
         "name": "Pred Group 135",
         "showlegend": false,
         "type": "scatter",
         "x": {
          "bdata": "XVeOwQ==",
          "dtype": "f4"
         },
         "xaxis": "x2",
         "y": {
          "bdata": "Rrc8wg==",
          "dtype": "f4"
         },
         "yaxis": "y2"
        },
        {
         "legendgroup": "pred",
         "marker": {
          "color": "#9467bd",
          "size": 6
         },
         "mode": "markers",
         "name": "Pred Group 136",
         "showlegend": false,
         "type": "scatter",
         "x": {
          "bdata": "hn2aPw==",
          "dtype": "f4"
         },
         "xaxis": "x2",
         "y": {
          "bdata": "1TRwQg==",
          "dtype": "f4"
         },
         "yaxis": "y2"
        },
        {
         "legendgroup": "pred",
         "marker": {
          "color": "#9467bd",
          "size": 6
         },
         "mode": "markers",
         "name": "Pred Group 137",
         "showlegend": false,
         "type": "scatter",
         "x": {
          "bdata": "qYpEwg==",
          "dtype": "f4"
         },
         "xaxis": "x2",
         "y": {
          "bdata": "ZU4Rwg==",
          "dtype": "f4"
         },
         "yaxis": "y2"
        },
        {
         "legendgroup": "pred",
         "marker": {
          "color": "#9467bd",
          "size": 6
         },
         "mode": "markers",
         "name": "Pred Group 138",
         "showlegend": false,
         "type": "scatter",
         "x": {
          "bdata": "cPQmQQ==",
          "dtype": "f4"
         },
         "xaxis": "x2",
         "y": {
          "bdata": "1Gprwg==",
          "dtype": "f4"
         },
         "yaxis": "y2"
        },
        {
         "legendgroup": "pred",
         "marker": {
          "color": "#9467bd",
          "size": 6
         },
         "mode": "markers",
         "name": "Pred Group 139",
         "showlegend": false,
         "type": "scatter",
         "x": {
          "bdata": "Ef0WQg==",
          "dtype": "f4"
         },
         "xaxis": "x2",
         "y": {
          "bdata": "iGSWQQ==",
          "dtype": "f4"
         },
         "yaxis": "y2"
        },
        {
         "legendgroup": "pred",
         "marker": {
          "color": "#c5b0d5",
          "size": 6
         },
         "mode": "markers",
         "name": "Pred Group 140",
         "showlegend": false,
         "type": "scatter",
         "x": {
          "bdata": "dFPHQQ==",
          "dtype": "f4"
         },
         "xaxis": "x2",
         "y": {
          "bdata": "7D5TQg==",
          "dtype": "f4"
         },
         "yaxis": "y2"
        },
        {
         "legendgroup": "pred",
         "marker": {
          "color": "#c5b0d5",
          "size": 6
         },
         "mode": "markers",
         "name": "Pred Group 141",
         "showlegend": false,
         "type": "scatter",
         "x": {
          "bdata": "fAwdwA==",
          "dtype": "f4"
         },
         "xaxis": "x2",
         "y": {
          "bdata": "mEoiwA==",
          "dtype": "f4"
         },
         "yaxis": "y2"
        },
        {
         "legendgroup": "pred",
         "marker": {
          "color": "#c5b0d5",
          "size": 6
         },
         "mode": "markers",
         "name": "Pred Group 142",
         "showlegend": false,
         "type": "scatter",
         "x": {
          "bdata": "g9ATQg==",
          "dtype": "f4"
         },
         "xaxis": "x2",
         "y": {
          "bdata": "P/eDQA==",
          "dtype": "f4"
         },
         "yaxis": "y2"
        },
        {
         "legendgroup": "pred",
         "marker": {
          "color": "#c5b0d5",
          "size": 6
         },
         "mode": "markers",
         "name": "Pred Group 143",
         "showlegend": false,
         "type": "scatter",
         "x": {
          "bdata": "D/pFQQ==",
          "dtype": "f4"
         },
         "xaxis": "x2",
         "y": {
          "bdata": "vGicvw==",
          "dtype": "f4"
         },
         "yaxis": "y2"
        },
        {
         "legendgroup": "pred",
         "marker": {
          "color": "#c5b0d5",
          "size": 6
         },
         "mode": "markers",
         "name": "Pred Group 144",
         "showlegend": false,
         "type": "scatter",
         "x": {
          "bdata": "z1+vwQ==",
          "dtype": "f4"
         },
         "xaxis": "x2",
         "y": {
          "bdata": "fsNkQg==",
          "dtype": "f4"
         },
         "yaxis": "y2"
        },
        {
         "legendgroup": "pred",
         "marker": {
          "color": "#c5b0d5",
          "size": 6
         },
         "mode": "markers",
         "name": "Pred Group 145",
         "showlegend": false,
         "type": "scatter",
         "x": {
          "bdata": "B6nAvw==",
          "dtype": "f4"
         },
         "xaxis": "x2",
         "y": {
          "bdata": "lN+PQg==",
          "dtype": "f4"
         },
         "yaxis": "y2"
        },
        {
         "legendgroup": "pred",
         "marker": {
          "color": "#c5b0d5",
          "size": 6
         },
         "mode": "markers",
         "name": "Pred Group 146",
         "showlegend": false,
         "type": "scatter",
         "x": {
          "bdata": "sYbnQQ==",
          "dtype": "f4"
         },
         "xaxis": "x2",
         "y": {
          "bdata": "b96QQQ==",
          "dtype": "f4"
         },
         "yaxis": "y2"
        },
        {
         "legendgroup": "pred",
         "marker": {
          "color": "#c5b0d5",
          "size": 6
         },
         "mode": "markers",
         "name": "Pred Group 147",
         "showlegend": false,
         "type": "scatter",
         "x": {
          "bdata": "PtezwA==",
          "dtype": "f4"
         },
         "xaxis": "x2",
         "y": {
          "bdata": "fnybwQ==",
          "dtype": "f4"
         },
         "yaxis": "y2"
        },
        {
         "legendgroup": "pred",
         "marker": {
          "color": "#c5b0d5",
          "size": 6
         },
         "mode": "markers",
         "name": "Pred Group 148",
         "showlegend": false,
         "type": "scatter",
         "x": {
          "bdata": "aPOkwQ==",
          "dtype": "f4"
         },
         "xaxis": "x2",
         "y": {
          "bdata": "7UPnwQ==",
          "dtype": "f4"
         },
         "yaxis": "y2"
        },
        {
         "legendgroup": "pred",
         "marker": {
          "color": "#c5b0d5",
          "size": 6
         },
         "mode": "markers",
         "name": "Pred Group 149",
         "showlegend": false,
         "type": "scatter",
         "x": {
          "bdata": "brU3wQ==",
          "dtype": "f4"
         },
         "xaxis": "x2",
         "y": {
          "bdata": "bXrYvg==",
          "dtype": "f4"
         },
         "yaxis": "y2"
        },
        {
         "legendgroup": "pred",
         "marker": {
          "color": "#c5b0d5",
          "size": 6
         },
         "mode": "markers",
         "name": "Pred Group 150",
         "showlegend": false,
         "type": "scatter",
         "x": {
          "bdata": "+h/bQQ==",
          "dtype": "f4"
         },
         "xaxis": "x2",
         "y": {
          "bdata": "rMz0wA==",
          "dtype": "f4"
         },
         "yaxis": "y2"
        },
        {
         "legendgroup": "pred",
         "marker": {
          "color": "#c5b0d5",
          "size": 6
         },
         "mode": "markers",
         "name": "Pred Group 151",
         "showlegend": false,
         "type": "scatter",
         "x": {
          "bdata": "/GiUQA==",
          "dtype": "f4"
         },
         "xaxis": "x2",
         "y": {
          "bdata": "qs0bQg==",
          "dtype": "f4"
         },
         "yaxis": "y2"
        },
        {
         "legendgroup": "pred",
         "marker": {
          "color": "#c5b0d5",
          "size": 6
         },
         "mode": "markers",
         "name": "Pred Group 152",
         "showlegend": false,
         "type": "scatter",
         "x": {
          "bdata": "3Z6FwA==",
          "dtype": "f4"
         },
         "xaxis": "x2",
         "y": {
          "bdata": "tZOSQg==",
          "dtype": "f4"
         },
         "yaxis": "y2"
        },
        {
         "legendgroup": "pred",
         "marker": {
          "color": "#c5b0d5",
          "size": 6
         },
         "mode": "markers",
         "name": "Pred Group 153",
         "showlegend": false,
         "type": "scatter",
         "x": {
          "bdata": "lcAZQQ==",
          "dtype": "f4"
         },
         "xaxis": "x2",
         "y": {
          "bdata": "L6WGPw==",
          "dtype": "f4"
         },
         "yaxis": "y2"
        },
        {
         "legendgroup": "pred",
         "marker": {
          "color": "#c5b0d5",
          "size": 6
         },
         "mode": "markers",
         "name": "Pred Group 154",
         "showlegend": false,
         "type": "scatter",
         "x": {
          "bdata": "TdEMwQ==",
          "dtype": "f4"
         },
         "xaxis": "x2",
         "y": {
          "bdata": "EgaYQg==",
          "dtype": "f4"
         },
         "yaxis": "y2"
        },
        {
         "legendgroup": "pred",
         "marker": {
          "color": "#c5b0d5",
          "size": 6
         },
         "mode": "markers",
         "name": "Pred Group 155",
         "showlegend": false,
         "type": "scatter",
         "x": {
          "bdata": "3A5AwQ==",
          "dtype": "f4"
         },
         "xaxis": "x2",
         "y": {
          "bdata": "YwpyQg==",
          "dtype": "f4"
         },
         "yaxis": "y2"
        },
        {
         "legendgroup": "pred",
         "marker": {
          "color": "#8c564b",
          "size": 6
         },
         "mode": "markers",
         "name": "Pred Group 156",
         "showlegend": false,
         "type": "scatter",
         "x": {
          "bdata": "sIsTwg==",
          "dtype": "f4"
         },
         "xaxis": "x2",
         "y": {
          "bdata": "WNSMwQ==",
          "dtype": "f4"
         },
         "yaxis": "y2"
        },
        {
         "legendgroup": "pred",
         "marker": {
          "color": "#8c564b",
          "size": 6
         },
         "mode": "markers",
         "name": "Pred Group 157",
         "showlegend": false,
         "type": "scatter",
         "x": {
          "bdata": "D7hBwQ==",
          "dtype": "f4"
         },
         "xaxis": "x2",
         "y": {
          "bdata": "h1lFwg==",
          "dtype": "f4"
         },
         "yaxis": "y2"
        },
        {
         "legendgroup": "pred",
         "marker": {
          "color": "#8c564b",
          "size": 6
         },
         "mode": "markers",
         "name": "Pred Group 158",
         "showlegend": false,
         "type": "scatter",
         "x": {
          "bdata": "xfgJQg==",
          "dtype": "f4"
         },
         "xaxis": "x2",
         "y": {
          "bdata": "HXZAQg==",
          "dtype": "f4"
         },
         "yaxis": "y2"
        },
        {
         "legendgroup": "pred",
         "marker": {
          "color": "#8c564b",
          "size": 6
         },
         "mode": "markers",
         "name": "Pred Group 159",
         "showlegend": false,
         "type": "scatter",
         "x": {
          "bdata": "U6YAwQ==",
          "dtype": "f4"
         },
         "xaxis": "x2",
         "y": {
          "bdata": "LKKWQg==",
          "dtype": "f4"
         },
         "yaxis": "y2"
        },
        {
         "legendgroup": "pred",
         "marker": {
          "color": "#8c564b",
          "size": 6
         },
         "mode": "markers",
         "name": "Pred Group 160",
         "showlegend": false,
         "type": "scatter",
         "x": {
          "bdata": "nSYswQ==",
          "dtype": "f4"
         },
         "xaxis": "x2",
         "y": {
          "bdata": "8TWIQg==",
          "dtype": "f4"
         },
         "yaxis": "y2"
        },
        {
         "legendgroup": "pred",
         "marker": {
          "color": "#8c564b",
          "size": 6
         },
         "mode": "markers",
         "name": "Pred Group 161",
         "showlegend": false,
         "type": "scatter",
         "x": {
          "bdata": "mU4twg==",
          "dtype": "f4"
         },
         "xaxis": "x2",
         "y": {
          "bdata": "2BXZQQ==",
          "dtype": "f4"
         },
         "yaxis": "y2"
        },
        {
         "legendgroup": "pred",
         "marker": {
          "color": "#8c564b",
          "size": 6
         },
         "mode": "markers",
         "name": "Pred Group 162",
         "showlegend": false,
         "type": "scatter",
         "x": {
          "bdata": "8YHzQQ==",
          "dtype": "f4"
         },
         "xaxis": "x2",
         "y": {
          "bdata": "ZqucQQ==",
          "dtype": "f4"
         },
         "yaxis": "y2"
        },
        {
         "legendgroup": "pred",
         "marker": {
          "color": "#8c564b",
          "size": 6
         },
         "mode": "markers",
         "name": "Pred Group 163",
         "showlegend": false,
         "type": "scatter",
         "x": {
          "bdata": "LrucPg==",
          "dtype": "f4"
         },
         "xaxis": "x2",
         "y": {
          "bdata": "+AuCQg==",
          "dtype": "f4"
         },
         "yaxis": "y2"
        },
        {
         "legendgroup": "pred",
         "marker": {
          "color": "#8c564b",
          "size": 6
         },
         "mode": "markers",
         "name": "Pred Group 164",
         "showlegend": false,
         "type": "scatter",
         "x": {
          "bdata": "7Zgywg==",
          "dtype": "f4"
         },
         "xaxis": "x2",
         "y": {
          "bdata": "1SzXQQ==",
          "dtype": "f4"
         },
         "yaxis": "y2"
        },
        {
         "legendgroup": "pred",
         "marker": {
          "color": "#8c564b",
          "size": 6
         },
         "mode": "markers",
         "name": "Pred Group 165",
         "showlegend": false,
         "type": "scatter",
         "x": {
          "bdata": "V1AcQg==",
          "dtype": "f4"
         },
         "xaxis": "x2",
         "y": {
          "bdata": "UFqYQQ==",
          "dtype": "f4"
         },
         "yaxis": "y2"
        },
        {
         "legendgroup": "pred",
         "marker": {
          "color": "#8c564b",
          "size": 6
         },
         "mode": "markers",
         "name": "Pred Group 166",
         "showlegend": false,
         "type": "scatter",
         "x": {
          "bdata": "/LAkPw==",
          "dtype": "f4"
         },
         "xaxis": "x2",
         "y": {
          "bdata": "ar58Qg==",
          "dtype": "f4"
         },
         "yaxis": "y2"
        },
        {
         "legendgroup": "pred",
         "marker": {
          "color": "#8c564b",
          "size": 6
         },
         "mode": "markers",
         "name": "Pred Group 167",
         "showlegend": false,
         "type": "scatter",
         "x": {
          "bdata": "pCjFQA==",
          "dtype": "f4"
         },
         "xaxis": "x2",
         "y": {
          "bdata": "4OMdQg==",
          "dtype": "f4"
         },
         "yaxis": "y2"
        },
        {
         "legendgroup": "pred",
         "marker": {
          "color": "#8c564b",
          "size": 6
         },
         "mode": "markers",
         "name": "Pred Group 168",
         "showlegend": false,
         "type": "scatter",
         "x": {
          "bdata": "FG5owQ==",
          "dtype": "f4"
         },
         "xaxis": "x2",
         "y": {
          "bdata": "kBl8QQ==",
          "dtype": "f4"
         },
         "yaxis": "y2"
        },
        {
         "legendgroup": "pred",
         "marker": {
          "color": "#8c564b",
          "size": 6
         },
         "mode": "markers",
         "name": "Pred Group 169",
         "showlegend": false,
         "type": "scatter",
         "x": {
          "bdata": "zkVMQA==",
          "dtype": "f4"
         },
         "xaxis": "x2",
         "y": {
          "bdata": "SuNwQg==",
          "dtype": "f4"
         },
         "yaxis": "y2"
        },
        {
         "legendgroup": "pred",
         "marker": {
          "color": "#8c564b",
          "size": 6
         },
         "mode": "markers",
         "name": "Pred Group 170",
         "showlegend": false,
         "type": "scatter",
         "x": {
          "bdata": "CHH7vw==",
          "dtype": "f4"
         },
         "xaxis": "x2",
         "y": {
          "bdata": "DbyEQg==",
          "dtype": "f4"
         },
         "yaxis": "y2"
        },
        {
         "legendgroup": "pred",
         "marker": {
          "color": "#8c564b",
          "size": 6
         },
         "mode": "markers",
         "name": "Pred Group 171",
         "showlegend": false,
         "type": "scatter",
         "x": {
          "bdata": "4JwMQg==",
          "dtype": "f4"
         },
         "xaxis": "x2",
         "y": {
          "bdata": "EMedQQ==",
          "dtype": "f4"
         },
         "yaxis": "y2"
        },
        {
         "legendgroup": "pred",
         "marker": {
          "color": "#c49c94",
          "size": 6
         },
         "mode": "markers",
         "name": "Pred Group 172",
         "showlegend": false,
         "type": "scatter",
         "x": {
          "bdata": "qHOIQQ==",
          "dtype": "f4"
         },
         "xaxis": "x2",
         "y": {
          "bdata": "k1f1wQ==",
          "dtype": "f4"
         },
         "yaxis": "y2"
        },
        {
         "legendgroup": "pred",
         "marker": {
          "color": "#c49c94",
          "size": 6
         },
         "mode": "markers",
         "name": "Pred Group 173",
         "showlegend": false,
         "type": "scatter",
         "x": {
          "bdata": "tuB2QA==",
          "dtype": "f4"
         },
         "xaxis": "x2",
         "y": {
          "bdata": "JYBqQg==",
          "dtype": "f4"
         },
         "yaxis": "y2"
        },
        {
         "legendgroup": "pred",
         "marker": {
          "color": "#c49c94",
          "size": 6
         },
         "mode": "markers",
         "name": "Pred Group 174",
         "showlegend": false,
         "type": "scatter",
         "x": {
          "bdata": "GGx2Qg==",
          "dtype": "f4"
         },
         "xaxis": "x2",
         "y": {
          "bdata": "cVPyQA==",
          "dtype": "f4"
         },
         "yaxis": "y2"
        },
        {
         "legendgroup": "pred",
         "marker": {
          "color": "#c49c94",
          "size": 6
         },
         "mode": "markers",
         "name": "Pred Group 175",
         "showlegend": false,
         "type": "scatter",
         "x": {
          "bdata": "tm5ZQA==",
          "dtype": "f4"
         },
         "xaxis": "x2",
         "y": {
          "bdata": "DEguwg==",
          "dtype": "f4"
         },
         "yaxis": "y2"
        },
        {
         "legendgroup": "pred",
         "marker": {
          "color": "#c49c94",
          "size": 6
         },
         "mode": "markers",
         "name": "Pred Group 176",
         "showlegend": false,
         "type": "scatter",
         "x": {
          "bdata": "Qd87wQ==",
          "dtype": "f4"
         },
         "xaxis": "x2",
         "y": {
          "bdata": "7699Qg==",
          "dtype": "f4"
         },
         "yaxis": "y2"
        },
        {
         "legendgroup": "pred",
         "marker": {
          "color": "#c49c94",
          "size": 6
         },
         "mode": "markers",
         "name": "Pred Group 177",
         "showlegend": false,
         "type": "scatter",
         "x": {
          "bdata": "TwcGwg==",
          "dtype": "f4"
         },
         "xaxis": "x2",
         "y": {
          "bdata": "fcF5Pw==",
          "dtype": "f4"
         },
         "yaxis": "y2"
        },
        {
         "legendgroup": "pred",
         "marker": {
          "color": "#c49c94",
          "size": 6
         },
         "mode": "markers",
         "name": "Pred Group 178",
         "showlegend": false,
         "type": "scatter",
         "x": {
          "bdata": "bd1jQg==",
          "dtype": "f4"
         },
         "xaxis": "x2",
         "y": {
          "bdata": "oZOWQA==",
          "dtype": "f4"
         },
         "yaxis": "y2"
        },
        {
         "legendgroup": "pred",
         "marker": {
          "color": "#c49c94",
          "size": 6
         },
         "mode": "markers",
         "name": "Pred Group 179",
         "showlegend": false,
         "type": "scatter",
         "x": {
          "bdata": "zAj0Pw==",
          "dtype": "f4"
         },
         "xaxis": "x2",
         "y": {
          "bdata": "P3cdQQ==",
          "dtype": "f4"
         },
         "yaxis": "y2"
        },
        {
         "legendgroup": "pred",
         "marker": {
          "color": "#c49c94",
          "size": 6
         },
         "mode": "markers",
         "name": "Pred Group 180",
         "showlegend": false,
         "type": "scatter",
         "x": {
          "bdata": "4hKVwQ==",
          "dtype": "f4"
         },
         "xaxis": "x2",
         "y": {
          "bdata": "HZ82QQ==",
          "dtype": "f4"
         },
         "yaxis": "y2"
        },
        {
         "legendgroup": "pred",
         "marker": {
          "color": "#c49c94",
          "size": 6
         },
         "mode": "markers",
         "name": "Pred Group 181",
         "showlegend": false,
         "type": "scatter",
         "x": {
          "bdata": "An5SwQ==",
          "dtype": "f4"
         },
         "xaxis": "x2",
         "y": {
          "bdata": "JTB6Qg==",
          "dtype": "f4"
         },
         "yaxis": "y2"
        },
        {
         "legendgroup": "pred",
         "marker": {
          "color": "#c49c94",
          "size": 6
         },
         "mode": "markers",
         "name": "Pred Group 182",
         "showlegend": false,
         "type": "scatter",
         "x": {
          "bdata": "itOOQQ==",
          "dtype": "f4"
         },
         "xaxis": "x2",
         "y": {
          "bdata": "d3l7vw==",
          "dtype": "f4"
         },
         "yaxis": "y2"
        },
        {
         "legendgroup": "pred",
         "marker": {
          "color": "#c49c94",
          "size": 6
         },
         "mode": "markers",
         "name": "Pred Group 183",
         "showlegend": false,
         "type": "scatter",
         "x": {
          "bdata": "arJTQg==",
          "dtype": "f4"
         },
         "xaxis": "x2",
         "y": {
          "bdata": "iGk1wg==",
          "dtype": "f4"
         },
         "yaxis": "y2"
        },
        {
         "legendgroup": "pred",
         "marker": {
          "color": "#c49c94",
          "size": 6
         },
         "mode": "markers",
         "name": "Pred Group 184",
         "showlegend": false,
         "type": "scatter",
         "x": {
          "bdata": "WqyiwQ==",
          "dtype": "f4"
         },
         "xaxis": "x2",
         "y": {
          "bdata": "IwIJwQ==",
          "dtype": "f4"
         },
         "yaxis": "y2"
        },
        {
         "legendgroup": "pred",
         "marker": {
          "color": "#c49c94",
          "size": 6
         },
         "mode": "markers",
         "name": "Pred Group 185",
         "showlegend": false,
         "type": "scatter",
         "x": {
          "bdata": "aRcIwg==",
          "dtype": "f4"
         },
         "xaxis": "x2",
         "y": {
          "bdata": "RpzhQQ==",
          "dtype": "f4"
         },
         "yaxis": "y2"
        },
        {
         "legendgroup": "pred",
         "marker": {
          "color": "#c49c94",
          "size": 6
         },
         "mode": "markers",
         "name": "Pred Group 186",
         "showlegend": false,
         "type": "scatter",
         "x": {
          "bdata": "nefdwQ==",
          "dtype": "f4"
         },
         "xaxis": "x2",
         "y": {
          "bdata": "A7lGwg==",
          "dtype": "f4"
         },
         "yaxis": "y2"
        },
        {
         "legendgroup": "pred",
         "marker": {
          "color": "#e377c2",
          "size": 6
         },
         "mode": "markers",
         "name": "Pred Group 187",
         "showlegend": false,
         "type": "scatter",
         "x": {
          "bdata": "zBuGQQ==",
          "dtype": "f4"
         },
         "xaxis": "x2",
         "y": {
          "bdata": "BNJdQg==",
          "dtype": "f4"
         },
         "yaxis": "y2"
        },
        {
         "legendgroup": "pred",
         "marker": {
          "color": "#e377c2",
          "size": 6
         },
         "mode": "markers",
         "name": "Pred Group 188",
         "showlegend": false,
         "type": "scatter",
         "x": {
          "bdata": "yVorQQ==",
          "dtype": "f4"
         },
         "xaxis": "x2",
         "y": {
          "bdata": "MXn6Pw==",
          "dtype": "f4"
         },
         "yaxis": "y2"
        },
        {
         "legendgroup": "pred",
         "marker": {
          "color": "#e377c2",
          "size": 6
         },
         "mode": "markers",
         "name": "Pred Group 189",
         "showlegend": false,
         "type": "scatter",
         "x": {
          "bdata": "7b2kQQ==",
          "dtype": "f4"
         },
         "xaxis": "x2",
         "y": {
          "bdata": "Xw4/wg==",
          "dtype": "f4"
         },
         "yaxis": "y2"
        },
        {
         "legendgroup": "pred",
         "marker": {
          "color": "#e377c2",
          "size": 6
         },
         "mode": "markers",
         "name": "Pred Group 190",
         "showlegend": false,
         "type": "scatter",
         "x": {
          "bdata": "FEEFwg==",
          "dtype": "f4"
         },
         "xaxis": "x2",
         "y": {
          "bdata": "YO0HPw==",
          "dtype": "f4"
         },
         "yaxis": "y2"
        },
        {
         "legendgroup": "pred",
         "marker": {
          "color": "#e377c2",
          "size": 6
         },
         "mode": "markers",
         "name": "Pred Group 191",
         "showlegend": false,
         "type": "scatter",
         "x": {
          "bdata": "QfVvQg==",
          "dtype": "f4"
         },
         "xaxis": "x2",
         "y": {
          "bdata": "UkX6QA==",
          "dtype": "f4"
         },
         "yaxis": "y2"
        },
        {
         "legendgroup": "pred",
         "marker": {
          "color": "#e377c2",
          "size": 6
         },
         "mode": "markers",
         "name": "Pred Group 192",
         "showlegend": false,
         "type": "scatter",
         "x": {
          "bdata": "XVcAwQ==",
          "dtype": "f4"
         },
         "xaxis": "x2",
         "y": {
          "bdata": "oZ/Svg==",
          "dtype": "f4"
         },
         "yaxis": "y2"
        },
        {
         "legendgroup": "pred",
         "marker": {
          "color": "#e377c2",
          "size": 6
         },
         "mode": "markers",
         "name": "Pred Group 193",
         "showlegend": false,
         "type": "scatter",
         "x": {
          "bdata": "j1mowQ==",
          "dtype": "f4"
         },
         "xaxis": "x2",
         "y": {
          "bdata": "E25SQQ==",
          "dtype": "f4"
         },
         "yaxis": "y2"
        },
        {
         "legendgroup": "pred",
         "marker": {
          "color": "#e377c2",
          "size": 6
         },
         "mode": "markers",
         "name": "Pred Group 194",
         "showlegend": false,
         "type": "scatter",
         "x": {
          "bdata": "6I68Pw==",
          "dtype": "f4"
         },
         "xaxis": "x2",
         "y": {
          "bdata": "Fc4hQg==",
          "dtype": "f4"
         },
         "yaxis": "y2"
        },
        {
         "legendgroup": "pred",
         "marker": {
          "color": "#e377c2",
          "size": 6
         },
         "mode": "markers",
         "name": "Pred Group 195",
         "showlegend": false,
         "type": "scatter",
         "x": {
          "bdata": "ao/OwQ==",
          "dtype": "f4"
         },
         "xaxis": "x2",
         "y": {
          "bdata": "+qAGwg==",
          "dtype": "f4"
         },
         "yaxis": "y2"
        },
        {
         "legendgroup": "pred",
         "marker": {
          "color": "#e377c2",
          "size": 6
         },
         "mode": "markers",
         "name": "Pred Group 196",
         "showlegend": false,
         "type": "scatter",
         "x": {
          "bdata": "HtstQQ==",
          "dtype": "f4"
         },
         "xaxis": "x2",
         "y": {
          "bdata": "HNBXQA==",
          "dtype": "f4"
         },
         "yaxis": "y2"
        },
        {
         "legendgroup": "pred",
         "marker": {
          "color": "#e377c2",
          "size": 6
         },
         "mode": "markers",
         "name": "Pred Group 197",
         "showlegend": false,
         "type": "scatter",
         "x": {
          "bdata": "iRwjwg==",
          "dtype": "f4"
         },
         "xaxis": "x2",
         "y": {
          "bdata": "gIyZwQ==",
          "dtype": "f4"
         },
         "yaxis": "y2"
        },
        {
         "legendgroup": "pred",
         "marker": {
          "color": "#e377c2",
          "size": 6
         },
         "mode": "markers",
         "name": "Pred Group 198",
         "showlegend": false,
         "type": "scatter",
         "x": {
          "bdata": "exOIwQ==",
          "dtype": "f4"
         },
         "xaxis": "x2",
         "y": {
          "bdata": "nGgAQQ==",
          "dtype": "f4"
         },
         "yaxis": "y2"
        },
        {
         "legendgroup": "pred",
         "marker": {
          "color": "#e377c2",
          "size": 6
         },
         "mode": "markers",
         "name": "Pred Group 199",
         "showlegend": false,
         "type": "scatter",
         "x": {
          "bdata": "Zdo2wg==",
          "dtype": "f4"
         },
         "xaxis": "x2",
         "y": {
          "bdata": "wHxAwQ==",
          "dtype": "f4"
         },
         "yaxis": "y2"
        },
        {
         "legendgroup": "pred",
         "marker": {
          "color": "#e377c2",
          "size": 6
         },
         "mode": "markers",
         "name": "Pred Group 200",
         "showlegend": false,
         "type": "scatter",
         "x": {
          "bdata": "HnK/Pw==",
          "dtype": "f4"
         },
         "xaxis": "x2",
         "y": {
          "bdata": "+pSOQg==",
          "dtype": "f4"
         },
         "yaxis": "y2"
        },
        {
         "legendgroup": "pred",
         "marker": {
          "color": "#e377c2",
          "size": 6
         },
         "mode": "markers",
         "name": "Pred Group 201",
         "showlegend": false,
         "type": "scatter",
         "x": {
          "bdata": "RU6MQQ==",
          "dtype": "f4"
         },
         "xaxis": "x2",
         "y": {
          "bdata": "aQXIvw==",
          "dtype": "f4"
         },
         "yaxis": "y2"
        },
        {
         "legendgroup": "pred",
         "marker": {
          "color": "#e377c2",
          "size": 6
         },
         "mode": "markers",
         "name": "Pred Group 202",
         "showlegend": false,
         "type": "scatter",
         "x": {
          "bdata": "1JkOwg==",
          "dtype": "f4"
         },
         "xaxis": "x2",
         "y": {
          "bdata": "YduUQQ==",
          "dtype": "f4"
         },
         "yaxis": "y2"
        },
        {
         "legendgroup": "pred",
         "marker": {
          "color": "#f7b6d2",
          "size": 6
         },
         "mode": "markers",
         "name": "Pred Group 203",
         "showlegend": false,
         "type": "scatter",
         "x": {
          "bdata": "c6isQA==",
          "dtype": "f4"
         },
         "xaxis": "x2",
         "y": {
          "bdata": "C2LswQ==",
          "dtype": "f4"
         },
         "yaxis": "y2"
        },
        {
         "legendgroup": "pred",
         "marker": {
          "color": "#f7b6d2",
          "size": 6
         },
         "mode": "markers",
         "name": "Pred Group 204",
         "showlegend": false,
         "type": "scatter",
         "x": {
          "bdata": "dAwRwg==",
          "dtype": "f4"
         },
         "xaxis": "x2",
         "y": {
          "bdata": "UTScQQ==",
          "dtype": "f4"
         },
         "yaxis": "y2"
        },
        {
         "legendgroup": "pred",
         "marker": {
          "color": "#f7b6d2",
          "size": 6
         },
         "mode": "markers",
         "name": "Pred Group 205",
         "showlegend": false,
         "type": "scatter",
         "x": {
          "bdata": "2d2vQQ==",
          "dtype": "f4"
         },
         "xaxis": "x2",
         "y": {
          "bdata": "Xp4dQg==",
          "dtype": "f4"
         },
         "yaxis": "y2"
        },
        {
         "legendgroup": "pred",
         "marker": {
          "color": "#f7b6d2",
          "size": 6
         },
         "mode": "markers",
         "name": "Pred Group 206",
         "showlegend": false,
         "type": "scatter",
         "x": {
          "bdata": "eb6kwQ==",
          "dtype": "f4"
         },
         "xaxis": "x2",
         "y": {
          "bdata": "kDI8wg==",
          "dtype": "f4"
         },
         "yaxis": "y2"
        },
        {
         "legendgroup": "pred",
         "marker": {
          "color": "#f7b6d2",
          "size": 6
         },
         "mode": "markers",
         "name": "Pred Group 207",
         "showlegend": false,
         "type": "scatter",
         "x": {
          "bdata": "LjunQQ==",
          "dtype": "f4"
         },
         "xaxis": "x2",
         "y": {
          "bdata": "a0kaQg==",
          "dtype": "f4"
         },
         "yaxis": "y2"
        },
        {
         "legendgroup": "pred",
         "marker": {
          "color": "#f7b6d2",
          "size": 6
         },
         "mode": "markers",
         "name": "Pred Group 208",
         "showlegend": false,
         "type": "scatter",
         "x": {
          "bdata": "esqDQA==",
          "dtype": "f4"
         },
         "xaxis": "x2",
         "y": {
          "bdata": "fKIDwg==",
          "dtype": "f4"
         },
         "yaxis": "y2"
        },
        {
         "legendgroup": "pred",
         "marker": {
          "color": "#f7b6d2",
          "size": 6
         },
         "mode": "markers",
         "name": "Pred Group 209",
         "showlegend": false,
         "type": "scatter",
         "x": {
          "bdata": "AyuawQ==",
          "dtype": "f4"
         },
         "xaxis": "x2",
         "y": {
          "bdata": "jL01wg==",
          "dtype": "f4"
         },
         "yaxis": "y2"
        },
        {
         "legendgroup": "pred",
         "marker": {
          "color": "#f7b6d2",
          "size": 6
         },
         "mode": "markers",
         "name": "Pred Group 210",
         "showlegend": false,
         "type": "scatter",
         "x": {
          "bdata": "TK6DQQ==",
          "dtype": "f4"
         },
         "xaxis": "x2",
         "y": {
          "bdata": "sEHCQQ==",
          "dtype": "f4"
         },
         "yaxis": "y2"
        },
        {
         "legendgroup": "pred",
         "marker": {
          "color": "#f7b6d2",
          "size": 6
         },
         "mode": "markers",
         "name": "Pred Group 211",
         "showlegend": false,
         "type": "scatter",
         "x": {
          "bdata": "Le8kwg==",
          "dtype": "f4"
         },
         "xaxis": "x2",
         "y": {
          "bdata": "EO/pQQ==",
          "dtype": "f4"
         },
         "yaxis": "y2"
        },
        {
         "legendgroup": "pred",
         "marker": {
          "color": "#f7b6d2",
          "size": 6
         },
         "mode": "markers",
         "name": "Pred Group 212",
         "showlegend": false,
         "type": "scatter",
         "x": {
          "bdata": "RIqMwQ==",
          "dtype": "f4"
         },
         "xaxis": "x2",
         "y": {
          "bdata": "KgV4wg==",
          "dtype": "f4"
         },
         "yaxis": "y2"
        },
        {
         "legendgroup": "pred",
         "marker": {
          "color": "#f7b6d2",
          "size": 6
         },
         "mode": "markers",
         "name": "Pred Group 213",
         "showlegend": false,
         "type": "scatter",
         "x": {
          "bdata": "PROYwQ==",
          "dtype": "f4"
         },
         "xaxis": "x2",
         "y": {
          "bdata": "0Ok5wg==",
          "dtype": "f4"
         },
         "yaxis": "y2"
        },
        {
         "legendgroup": "pred",
         "marker": {
          "color": "#f7b6d2",
          "size": 6
         },
         "mode": "markers",
         "name": "Pred Group 214",
         "showlegend": false,
         "type": "scatter",
         "x": {
          "bdata": "IEALQg==",
          "dtype": "f4"
         },
         "xaxis": "x2",
         "y": {
          "bdata": "DxUTQQ==",
          "dtype": "f4"
         },
         "yaxis": "y2"
        },
        {
         "legendgroup": "pred",
         "marker": {
          "color": "#f7b6d2",
          "size": 6
         },
         "mode": "markers",
         "name": "Pred Group 215",
         "showlegend": false,
         "type": "scatter",
         "x": {
          "bdata": "aYZbwQ==",
          "dtype": "f4"
         },
         "xaxis": "x2",
         "y": {
          "bdata": "8rGGwg==",
          "dtype": "f4"
         },
         "yaxis": "y2"
        },
        {
         "legendgroup": "pred",
         "marker": {
          "color": "#f7b6d2",
          "size": 6
         },
         "mode": "markers",
         "name": "Pred Group 216",
         "showlegend": false,
         "type": "scatter",
         "x": {
          "bdata": "CdQIQg==",
          "dtype": "f4"
         },
         "xaxis": "x2",
         "y": {
          "bdata": "V2hJQg==",
          "dtype": "f4"
         },
         "yaxis": "y2"
        },
        {
         "legendgroup": "pred",
         "marker": {
          "color": "#f7b6d2",
          "size": 6
         },
         "mode": "markers",
         "name": "Pred Group 217",
         "showlegend": false,
         "type": "scatter",
         "x": {
          "bdata": "VhMIwg==",
          "dtype": "f4"
         },
         "xaxis": "x2",
         "y": {
          "bdata": "Rcodwg==",
          "dtype": "f4"
         },
         "yaxis": "y2"
        },
        {
         "legendgroup": "pred",
         "marker": {
          "color": "#7f7f7f",
          "size": 6
         },
         "mode": "markers",
         "name": "Pred Group 218",
         "showlegend": false,
         "type": "scatter",
         "x": {
          "bdata": "BzzQQQ==",
          "dtype": "f4"
         },
         "xaxis": "x2",
         "y": {
          "bdata": "GSRGQg==",
          "dtype": "f4"
         },
         "yaxis": "y2"
        },
        {
         "legendgroup": "pred",
         "marker": {
          "color": "#7f7f7f",
          "size": 6
         },
         "mode": "markers",
         "name": "Pred Group 219",
         "showlegend": false,
         "type": "scatter",
         "x": {
          "bdata": "AG5TQg==",
          "dtype": "f4"
         },
         "xaxis": "x2",
         "y": {
          "bdata": "62Y3wg==",
          "dtype": "f4"
         },
         "yaxis": "y2"
        },
        {
         "legendgroup": "pred",
         "marker": {
          "color": "#7f7f7f",
          "size": 6
         },
         "mode": "markers",
         "name": "Pred Group 220",
         "showlegend": false,
         "type": "scatter",
         "x": {
          "bdata": "BtUNQg==",
          "dtype": "f4"
         },
         "xaxis": "x2",
         "y": {
          "bdata": "vQaKwQ==",
          "dtype": "f4"
         },
         "yaxis": "y2"
        },
        {
         "legendgroup": "pred",
         "marker": {
          "color": "#7f7f7f",
          "size": 6
         },
         "mode": "markers",
         "name": "Pred Group 221",
         "showlegend": false,
         "type": "scatter",
         "x": {
          "bdata": "0Lo6QA==",
          "dtype": "f4"
         },
         "xaxis": "x2",
         "y": {
          "bdata": "CSs1wQ==",
          "dtype": "f4"
         },
         "yaxis": "y2"
        },
        {
         "legendgroup": "pred",
         "marker": {
          "color": "#7f7f7f",
          "size": 6
         },
         "mode": "markers",
         "name": "Pred Group 222",
         "showlegend": false,
         "type": "scatter",
         "x": {
          "bdata": "ULjJQQ==",
          "dtype": "f4"
         },
         "xaxis": "x2",
         "y": {
          "bdata": "Kg1QQg==",
          "dtype": "f4"
         },
         "yaxis": "y2"
        },
        {
         "legendgroup": "pred",
         "marker": {
          "color": "#7f7f7f",
          "size": 6
         },
         "mode": "markers",
         "name": "Pred Group 223",
         "showlegend": false,
         "type": "scatter",
         "x": {
          "bdata": "9wRSwA==",
          "dtype": "f4"
         },
         "xaxis": "x2",
         "y": {
          "bdata": "N5mMQg==",
          "dtype": "f4"
         },
         "yaxis": "y2"
        },
        {
         "legendgroup": "pred",
         "marker": {
          "color": "#7f7f7f",
          "size": 6
         },
         "mode": "markers",
         "name": "Pred Group 224",
         "showlegend": false,
         "type": "scatter",
         "x": {
          "bdata": "myafQQ==",
          "dtype": "f4"
         },
         "xaxis": "x2",
         "y": {
          "bdata": "7FDAQQ==",
          "dtype": "f4"
         },
         "yaxis": "y2"
        },
        {
         "legendgroup": "pred",
         "marker": {
          "color": "#7f7f7f",
          "size": 6
         },
         "mode": "markers",
         "name": "Pred Group 225",
         "showlegend": false,
         "type": "scatter",
         "x": {
          "bdata": "U4Iqwg==",
          "dtype": "f4"
         },
         "xaxis": "x2",
         "y": {
          "bdata": "0I6SQQ==",
          "dtype": "f4"
         },
         "yaxis": "y2"
        },
        {
         "legendgroup": "pred",
         "marker": {
          "color": "#7f7f7f",
          "size": 6
         },
         "mode": "markers",
         "name": "Pred Group 226",
         "showlegend": false,
         "type": "scatter",
         "x": {
          "bdata": "BOWIPg==",
          "dtype": "f4"
         },
         "xaxis": "x2",
         "y": {
          "bdata": "Jc4ywg==",
          "dtype": "f4"
         },
         "yaxis": "y2"
        },
        {
         "legendgroup": "pred",
         "marker": {
          "color": "#7f7f7f",
          "size": 6
         },
         "mode": "markers",
         "name": "Pred Group 227",
         "showlegend": false,
         "type": "scatter",
         "x": {
          "bdata": "vlqbwQ==",
          "dtype": "f4"
         },
         "xaxis": "x2",
         "y": {
          "bdata": "tg+CQQ==",
          "dtype": "f4"
         },
         "yaxis": "y2"
        },
        {
         "legendgroup": "pred",
         "marker": {
          "color": "#7f7f7f",
          "size": 6
         },
         "mode": "markers",
         "name": "Pred Group 228",
         "showlegend": false,
         "type": "scatter",
         "x": {
          "bdata": "ZhiNQQ==",
          "dtype": "f4"
         },
         "xaxis": "x2",
         "y": {
          "bdata": "USImwg==",
          "dtype": "f4"
         },
         "yaxis": "y2"
        },
        {
         "legendgroup": "pred",
         "marker": {
          "color": "#7f7f7f",
          "size": 6
         },
         "mode": "markers",
         "name": "Pred Group 229",
         "showlegend": false,
         "type": "scatter",
         "x": {
          "bdata": "0alEQg==",
          "dtype": "f4"
         },
         "xaxis": "x2",
         "y": {
          "bdata": "hCoQwg==",
          "dtype": "f4"
         },
         "yaxis": "y2"
        },
        {
         "legendgroup": "pred",
         "marker": {
          "color": "#7f7f7f",
          "size": 6
         },
         "mode": "markers",
         "name": "Pred Group 230",
         "showlegend": false,
         "type": "scatter",
         "x": {
          "bdata": "Gzw0Qg==",
          "dtype": "f4"
         },
         "xaxis": "x2",
         "y": {
          "bdata": "+MOZPw==",
          "dtype": "f4"
         },
         "yaxis": "y2"
        },
        {
         "legendgroup": "pred",
         "marker": {
          "color": "#7f7f7f",
          "size": 6
         },
         "mode": "markers",
         "name": "Pred Group 231",
         "showlegend": false,
         "type": "scatter",
         "x": {
          "bdata": "lmDbQQ==",
          "dtype": "f4"
         },
         "xaxis": "x2",
         "y": {
          "bdata": "K34vQg==",
          "dtype": "f4"
         },
         "yaxis": "y2"
        },
        {
         "legendgroup": "pred",
         "marker": {
          "color": "#7f7f7f",
          "size": 6
         },
         "mode": "markers",
         "name": "Pred Group 232",
         "showlegend": false,
         "type": "scatter",
         "x": {
          "bdata": "Rx6NwQ==",
          "dtype": "f4"
         },
         "xaxis": "x2",
         "y": {
          "bdata": "07HVwQ==",
          "dtype": "f4"
         },
         "yaxis": "y2"
        },
        {
         "legendgroup": "pred",
         "marker": {
          "color": "#7f7f7f",
          "size": 6
         },
         "mode": "markers",
         "name": "Pred Group 233",
         "showlegend": false,
         "type": "scatter",
         "x": {
          "bdata": "XA0OQg==",
          "dtype": "f4"
         },
         "xaxis": "x2",
         "y": {
          "bdata": "EkCOwQ==",
          "dtype": "f4"
         },
         "yaxis": "y2"
        },
        {
         "legendgroup": "pred",
         "marker": {
          "color": "#c7c7c7",
          "size": 6
         },
         "mode": "markers",
         "name": "Pred Group 234",
         "showlegend": false,
         "type": "scatter",
         "x": {
          "bdata": "/I3kwQ==",
          "dtype": "f4"
         },
         "xaxis": "x2",
         "y": {
          "bdata": "pqMDwg==",
          "dtype": "f4"
         },
         "yaxis": "y2"
        },
        {
         "legendgroup": "pred",
         "marker": {
          "color": "#c7c7c7",
          "size": 6
         },
         "mode": "markers",
         "name": "Pred Group 235",
         "showlegend": false,
         "type": "scatter",
         "x": {
          "bdata": "GkF2QQ==",
          "dtype": "f4"
         },
         "xaxis": "x2",
         "y": {
          "bdata": "pwTZwA==",
          "dtype": "f4"
         },
         "yaxis": "y2"
        },
        {
         "legendgroup": "pred",
         "marker": {
          "color": "#c7c7c7",
          "size": 6
         },
         "mode": "markers",
         "name": "Pred Group 236",
         "showlegend": false,
         "type": "scatter",
         "x": {
          "bdata": "cHYNwg==",
          "dtype": "f4"
         },
         "xaxis": "x2",
         "y": {
          "bdata": "76BbwQ==",
          "dtype": "f4"
         },
         "yaxis": "y2"
        },
        {
         "legendgroup": "pred",
         "marker": {
          "color": "#c7c7c7",
          "size": 6
         },
         "mode": "markers",
         "name": "Pred Group 237",
         "showlegend": false,
         "type": "scatter",
         "x": {
          "bdata": "XDQnwg==",
          "dtype": "f4"
         },
         "xaxis": "x2",
         "y": {
          "bdata": "mgdWQQ==",
          "dtype": "f4"
         },
         "yaxis": "y2"
        },
        {
         "legendgroup": "pred",
         "marker": {
          "color": "#c7c7c7",
          "size": 6
         },
         "mode": "markers",
         "name": "Pred Group 238",
         "showlegend": false,
         "type": "scatter",
         "x": {
          "bdata": "gZw5QA==",
          "dtype": "f4"
         },
         "xaxis": "x2",
         "y": {
          "bdata": "RDA/wQ==",
          "dtype": "f4"
         },
         "yaxis": "y2"
        },
        {
         "legendgroup": "pred",
         "marker": {
          "color": "#c7c7c7",
          "size": 6
         },
         "mode": "markers",
         "name": "Pred Group 239",
         "showlegend": false,
         "type": "scatter",
         "x": {
          "bdata": "OdMCQQ==",
          "dtype": "f4"
         },
         "xaxis": "x2",
         "y": {
          "bdata": "8BBVQQ==",
          "dtype": "f4"
         },
         "yaxis": "y2"
        },
        {
         "legendgroup": "pred",
         "marker": {
          "color": "#c7c7c7",
          "size": 6
         },
         "mode": "markers",
         "name": "Pred Group 240",
         "showlegend": false,
         "type": "scatter",
         "x": {
          "bdata": "xeKVQA==",
          "dtype": "f4"
         },
         "xaxis": "x2",
         "y": {
          "bdata": "K5gAQg==",
          "dtype": "f4"
         },
         "yaxis": "y2"
        },
        {
         "legendgroup": "pred",
         "marker": {
          "color": "#c7c7c7",
          "size": 6
         },
         "mode": "markers",
         "name": "Pred Group 241",
         "showlegend": false,
         "type": "scatter",
         "x": {
          "bdata": "3quCQQ==",
          "dtype": "f4"
         },
         "xaxis": "x2",
         "y": {
          "bdata": "EsPJwQ==",
          "dtype": "f4"
         },
         "yaxis": "y2"
        },
        {
         "legendgroup": "pred",
         "marker": {
          "color": "#c7c7c7",
          "size": 6
         },
         "mode": "markers",
         "name": "Pred Group 242",
         "showlegend": false,
         "type": "scatter",
         "x": {
          "bdata": "bw9BQQ==",
          "dtype": "f4"
         },
         "xaxis": "x2",
         "y": {
          "bdata": "cMRgwg==",
          "dtype": "f4"
         },
         "yaxis": "y2"
        },
        {
         "legendgroup": "pred",
         "marker": {
          "color": "#c7c7c7",
          "size": 6
         },
         "mode": "markers",
         "name": "Pred Group 243",
         "showlegend": false,
         "type": "scatter",
         "x": {
          "bdata": "aWW0vw==",
          "dtype": "f4"
         },
         "xaxis": "x2",
         "y": {
          "bdata": "X2aeQg==",
          "dtype": "f4"
         },
         "yaxis": "y2"
        },
        {
         "legendgroup": "pred",
         "marker": {
          "color": "#c7c7c7",
          "size": 6
         },
         "mode": "markers",
         "name": "Pred Group 244",
         "showlegend": false,
         "type": "scatter",
         "x": {
          "bdata": "dUazwQ==",
          "dtype": "f4"
         },
         "xaxis": "x2",
         "y": {
          "bdata": "vP03Qg==",
          "dtype": "f4"
         },
         "yaxis": "y2"
        },
        {
         "legendgroup": "pred",
         "marker": {
          "color": "#c7c7c7",
          "size": 6
         },
         "mode": "markers",
         "name": "Pred Group 245",
         "showlegend": false,
         "type": "scatter",
         "x": {
          "bdata": "+VIMwA==",
          "dtype": "f4"
         },
         "xaxis": "x2",
         "y": {
          "bdata": "cs8+wA==",
          "dtype": "f4"
         },
         "yaxis": "y2"
        },
        {
         "legendgroup": "pred",
         "marker": {
          "color": "#c7c7c7",
          "size": 6
         },
         "mode": "markers",
         "name": "Pred Group 246",
         "showlegend": false,
         "type": "scatter",
         "x": {
          "bdata": "a+bMwQ==",
          "dtype": "f4"
         },
         "xaxis": "x2",
         "y": {
          "bdata": "ZKF8Qg==",
          "dtype": "f4"
         },
         "yaxis": "y2"
        },
        {
         "legendgroup": "pred",
         "marker": {
          "color": "#c7c7c7",
          "size": 6
         },
         "mode": "markers",
         "name": "Pred Group 247",
         "showlegend": false,
         "type": "scatter",
         "x": {
          "bdata": "wKUtwg==",
          "dtype": "f4"
         },
         "xaxis": "x2",
         "y": {
          "bdata": "NWxWwQ==",
          "dtype": "f4"
         },
         "yaxis": "y2"
        },
        {
         "legendgroup": "pred",
         "marker": {
          "color": "#c7c7c7",
          "size": 6
         },
         "mode": "markers",
         "name": "Pred Group 248",
         "showlegend": false,
         "type": "scatter",
         "x": {
          "bdata": "yPuKQQ==",
          "dtype": "f4"
         },
         "xaxis": "x2",
         "y": {
          "bdata": "/BddQg==",
          "dtype": "f4"
         },
         "yaxis": "y2"
        },
        {
         "legendgroup": "pred",
         "marker": {
          "color": "#bcbd22",
          "size": 6
         },
         "mode": "markers",
         "name": "Pred Group 249",
         "showlegend": false,
         "type": "scatter",
         "x": {
          "bdata": "SuPFwQ==",
          "dtype": "f4"
         },
         "xaxis": "x2",
         "y": {
          "bdata": "J3swQg==",
          "dtype": "f4"
         },
         "yaxis": "y2"
        },
        {
         "legendgroup": "pred",
         "marker": {
          "color": "#bcbd22",
          "size": 6
         },
         "mode": "markers",
         "name": "Pred Group 250",
         "showlegend": false,
         "type": "scatter",
         "x": {
          "bdata": "GnqHwQ==",
          "dtype": "f4"
         },
         "xaxis": "x2",
         "y": {
          "bdata": "+VO2QQ==",
          "dtype": "f4"
         },
         "yaxis": "y2"
        },
        {
         "legendgroup": "pred",
         "marker": {
          "color": "#bcbd22",
          "size": 6
         },
         "mode": "markers",
         "name": "Pred Group 251",
         "showlegend": false,
         "type": "scatter",
         "x": {
          "bdata": "3CB6wQ==",
          "dtype": "f4"
         },
         "xaxis": "x2",
         "y": {
          "bdata": "jeuAQg==",
          "dtype": "f4"
         },
         "yaxis": "y2"
        },
        {
         "legendgroup": "pred",
         "marker": {
          "color": "#bcbd22",
          "size": 6
         },
         "mode": "markers",
         "name": "Pred Group 252",
         "showlegend": false,
         "type": "scatter",
         "x": {
          "bdata": "rO+twQ==",
          "dtype": "f4"
         },
         "xaxis": "x2",
         "y": {
          "bdata": "LIJGQg==",
          "dtype": "f4"
         },
         "yaxis": "y2"
        },
        {
         "legendgroup": "pred",
         "marker": {
          "color": "#bcbd22",
          "size": 6
         },
         "mode": "markers",
         "name": "Pred Group 253",
         "showlegend": false,
         "type": "scatter",
         "x": {
          "bdata": "9AjrwA==",
          "dtype": "f4"
         },
         "xaxis": "x2",
         "y": {
          "bdata": "BaWHQg==",
          "dtype": "f4"
         },
         "yaxis": "y2"
        },
        {
         "legendgroup": "pred",
         "marker": {
          "color": "#bcbd22",
          "size": 6
         },
         "mode": "markers",
         "name": "Pred Group 254",
         "showlegend": false,
         "type": "scatter",
         "x": {
          "bdata": "5dHrQQ==",
          "dtype": "f4"
         },
         "xaxis": "x2",
         "y": {
          "bdata": "rKvHQQ==",
          "dtype": "f4"
         },
         "yaxis": "y2"
        },
        {
         "legendgroup": "pred",
         "marker": {
          "color": "#bcbd22",
          "size": 6
         },
         "mode": "markers",
         "name": "Pred Group 255",
         "showlegend": false,
         "type": "scatter",
         "x": {
          "bdata": "CkmVwQ==",
          "dtype": "f4"
         },
         "xaxis": "x2",
         "y": {
          "bdata": "pgmkQQ==",
          "dtype": "f4"
         },
         "yaxis": "y2"
        },
        {
         "legendgroup": "pred",
         "marker": {
          "color": "#bcbd22",
          "size": 6
         },
         "mode": "markers",
         "name": "Pred Group 256",
         "showlegend": false,
         "type": "scatter",
         "x": {
          "bdata": "vaGgwQ==",
          "dtype": "f4"
         },
         "xaxis": "x2",
         "y": {
          "bdata": "K9hBQg==",
          "dtype": "f4"
         },
         "yaxis": "y2"
        },
        {
         "legendgroup": "pred",
         "marker": {
          "color": "#bcbd22",
          "size": 6
         },
         "mode": "markers",
         "name": "Pred Group 257",
         "showlegend": false,
         "type": "scatter",
         "x": {
          "bdata": "w4WKwQ==",
          "dtype": "f4"
         },
         "xaxis": "x2",
         "y": {
          "bdata": "VXLrwQ==",
          "dtype": "f4"
         },
         "yaxis": "y2"
        },
        {
         "legendgroup": "pred",
         "marker": {
          "color": "#bcbd22",
          "size": 6
         },
         "mode": "markers",
         "name": "Pred Group 258",
         "showlegend": false,
         "type": "scatter",
         "x": {
          "bdata": "W/wWwg==",
          "dtype": "f4"
         },
         "xaxis": "x2",
         "y": {
          "bdata": "s94BQg==",
          "dtype": "f4"
         },
         "yaxis": "y2"
        },
        {
         "legendgroup": "pred",
         "marker": {
          "color": "#bcbd22",
          "size": 6
         },
         "mode": "markers",
         "name": "Pred Group 259",
         "showlegend": false,
         "type": "scatter",
         "x": {
          "bdata": "/HOqwQ==",
          "dtype": "f4"
         },
         "xaxis": "x2",
         "y": {
          "bdata": "hxQcwg==",
          "dtype": "f4"
         },
         "yaxis": "y2"
        },
        {
         "legendgroup": "pred",
         "marker": {
          "color": "#bcbd22",
          "size": 6
         },
         "mode": "markers",
         "name": "Pred Group 260",
         "showlegend": false,
         "type": "scatter",
         "x": {
          "bdata": "RiYSQg==",
          "dtype": "f4"
         },
         "xaxis": "x2",
         "y": {
          "bdata": "4krBQQ==",
          "dtype": "f4"
         },
         "yaxis": "y2"
        },
        {
         "legendgroup": "pred",
         "marker": {
          "color": "#bcbd22",
          "size": 6
         },
         "mode": "markers",
         "name": "Pred Group 261",
         "showlegend": false,
         "type": "scatter",
         "x": {
          "bdata": "6B/1wQ==",
          "dtype": "f4"
         },
         "xaxis": "x2",
         "y": {
          "bdata": "reEtQg==",
          "dtype": "f4"
         },
         "yaxis": "y2"
        },
        {
         "legendgroup": "pred",
         "marker": {
          "color": "#bcbd22",
          "size": 6
         },
         "mode": "markers",
         "name": "Pred Group 262",
         "showlegend": false,
         "type": "scatter",
         "x": {
          "bdata": "iOXRwQ==",
          "dtype": "f4"
         },
         "xaxis": "x2",
         "y": {
          "bdata": "pbtNQg==",
          "dtype": "f4"
         },
         "yaxis": "y2"
        },
        {
         "legendgroup": "pred",
         "marker": {
          "color": "#bcbd22",
          "size": 6
         },
         "mode": "markers",
         "name": "Pred Group 263",
         "showlegend": false,
         "type": "scatter",
         "x": {
          "bdata": "Ks/nwQ==",
          "dtype": "f4"
         },
         "xaxis": "x2",
         "y": {
          "bdata": "hDB4Qg==",
          "dtype": "f4"
         },
         "yaxis": "y2"
        },
        {
         "legendgroup": "pred",
         "marker": {
          "color": "#bcbd22",
          "size": 6
         },
         "mode": "markers",
         "name": "Pred Group 264",
         "showlegend": false,
         "type": "scatter",
         "x": {
          "bdata": "OxMgwg==",
          "dtype": "f4"
         },
         "xaxis": "x2",
         "y": {
          "bdata": "yml4QQ==",
          "dtype": "f4"
         },
         "yaxis": "y2"
        },
        {
         "legendgroup": "pred",
         "marker": {
          "color": "#dbdb8d",
          "size": 6
         },
         "mode": "markers",
         "name": "Pred Group 265",
         "showlegend": false,
         "type": "scatter",
         "x": {
          "bdata": "iIoqvw==",
          "dtype": "f4"
         },
         "xaxis": "x2",
         "y": {
          "bdata": "/NmgQg==",
          "dtype": "f4"
         },
         "yaxis": "y2"
        },
        {
         "legendgroup": "pred",
         "marker": {
          "color": "#dbdb8d",
          "size": 6
         },
         "mode": "markers",
         "name": "Pred Group 266",
         "showlegend": false,
         "type": "scatter",
         "x": {
          "bdata": "0RHlwQ==",
          "dtype": "f4"
         },
         "xaxis": "x2",
         "y": {
          "bdata": "xLBTQg==",
          "dtype": "f4"
         },
         "yaxis": "y2"
        },
        {
         "legendgroup": "pred",
         "marker": {
          "color": "#dbdb8d",
          "size": 6
         },
         "mode": "markers",
         "name": "Pred Group 267",
         "showlegend": false,
         "type": "scatter",
         "x": {
          "bdata": "obkmQg==",
          "dtype": "f4"
         },
         "xaxis": "x2",
         "y": {
          "bdata": "Woo6wg==",
          "dtype": "f4"
         },
         "yaxis": "y2"
        },
        {
         "legendgroup": "pred",
         "marker": {
          "color": "#dbdb8d",
          "size": 6
         },
         "mode": "markers",
         "name": "Pred Group 268",
         "showlegend": false,
         "type": "scatter",
         "x": {
          "bdata": "6GcLQg==",
          "dtype": "f4"
         },
         "xaxis": "x2",
         "y": {
          "bdata": "jc5vQQ==",
          "dtype": "f4"
         },
         "yaxis": "y2"
        },
        {
         "legendgroup": "pred",
         "marker": {
          "color": "#dbdb8d",
          "size": 6
         },
         "mode": "markers",
         "name": "Pred Group 269",
         "showlegend": false,
         "type": "scatter",
         "x": {
          "bdata": "+ShmwQ==",
          "dtype": "f4"
         },
         "xaxis": "x2",
         "y": {
          "bdata": "xlV7Qg==",
          "dtype": "f4"
         },
         "yaxis": "y2"
        },
        {
         "legendgroup": "pred",
         "marker": {
          "color": "#dbdb8d",
          "size": 6
         },
         "mode": "markers",
         "name": "Pred Group 270",
         "showlegend": false,
         "type": "scatter",
         "x": {
          "bdata": "YO2nwQ==",
          "dtype": "f4"
         },
         "xaxis": "x2",
         "y": {
          "bdata": "VyxsQg==",
          "dtype": "f4"
         },
         "yaxis": "y2"
        },
        {
         "legendgroup": "pred",
         "marker": {
          "color": "#dbdb8d",
          "size": 6
         },
         "mode": "markers",
         "name": "Pred Group 271",
         "showlegend": false,
         "type": "scatter",
         "x": {
          "bdata": "4P/awQ==",
          "dtype": "f4"
         },
         "xaxis": "x2",
         "y": {
          "bdata": "81KLwQ==",
          "dtype": "f4"
         },
         "yaxis": "y2"
        },
        {
         "legendgroup": "pred",
         "marker": {
          "color": "#dbdb8d",
          "size": 6
         },
         "mode": "markers",
         "name": "Pred Group 272",
         "showlegend": false,
         "type": "scatter",
         "x": {
          "bdata": "ghAKQg==",
          "dtype": "f4"
         },
         "xaxis": "x2",
         "y": {
          "bdata": "l7RFQg==",
          "dtype": "f4"
         },
         "yaxis": "y2"
        },
        {
         "legendgroup": "pred",
         "marker": {
          "color": "#dbdb8d",
          "size": 6
         },
         "mode": "markers",
         "name": "Pred Group 273",
         "showlegend": false,
         "type": "scatter",
         "x": {
          "bdata": "DQARQg==",
          "dtype": "f4"
         },
         "xaxis": "x2",
         "y": {
          "bdata": "2+1GQg==",
          "dtype": "f4"
         },
         "yaxis": "y2"
        },
        {
         "legendgroup": "pred",
         "marker": {
          "color": "#dbdb8d",
          "size": 6
         },
         "mode": "markers",
         "name": "Pred Group 274",
         "showlegend": false,
         "type": "scatter",
         "x": {
          "bdata": "+Isbwg==",
          "dtype": "f4"
         },
         "xaxis": "x2",
         "y": {
          "bdata": "ppMAQg==",
          "dtype": "f4"
         },
         "yaxis": "y2"
        },
        {
         "legendgroup": "pred",
         "marker": {
          "color": "#dbdb8d",
          "size": 6
         },
         "mode": "markers",
         "name": "Pred Group 275",
         "showlegend": false,
         "type": "scatter",
         "x": {
          "bdata": "1vkVwg==",
          "dtype": "f4"
         },
         "xaxis": "x2",
         "y": {
          "bdata": "ilJCwQ==",
          "dtype": "f4"
         },
         "yaxis": "y2"
        },
        {
         "legendgroup": "pred",
         "marker": {
          "color": "#dbdb8d",
          "size": 6
         },
         "mode": "markers",
         "name": "Pred Group 276",
         "showlegend": false,
         "type": "scatter",
         "x": {
          "bdata": "1vWmQQ==",
          "dtype": "f4"
         },
         "xaxis": "x2",
         "y": {
          "bdata": "u6QcQg==",
          "dtype": "f4"
         },
         "yaxis": "y2"
        },
        {
         "legendgroup": "pred",
         "marker": {
          "color": "#dbdb8d",
          "size": 6
         },
         "mode": "markers",
         "name": "Pred Group 277",
         "showlegend": false,
         "type": "scatter",
         "x": {
          "bdata": "Ob4Nwg==",
          "dtype": "f4"
         },
         "xaxis": "x2",
         "y": {
          "bdata": "vEy9QQ==",
          "dtype": "f4"
         },
         "yaxis": "y2"
        },
        {
         "legendgroup": "pred",
         "marker": {
          "color": "#dbdb8d",
          "size": 6
         },
         "mode": "markers",
         "name": "Pred Group 278",
         "showlegend": false,
         "type": "scatter",
         "x": {
          "bdata": "ph67wA==",
          "dtype": "f4"
         },
         "xaxis": "x2",
         "y": {
          "bdata": "YNPRPw==",
          "dtype": "f4"
         },
         "yaxis": "y2"
        },
        {
         "legendgroup": "pred",
         "marker": {
          "color": "#dbdb8d",
          "size": 6
         },
         "mode": "markers",
         "name": "Pred Group 279",
         "showlegend": false,
         "type": "scatter",
         "x": {
          "bdata": "G5IgwQ==",
          "dtype": "f4"
         },
         "xaxis": "x2",
         "y": {
          "bdata": "mu1Xwg==",
          "dtype": "f4"
         },
         "yaxis": "y2"
        },
        {
         "legendgroup": "pred",
         "marker": {
          "color": "#17becf",
          "size": 6
         },
         "mode": "markers",
         "name": "Pred Group 280",
         "showlegend": false,
         "type": "scatter",
         "x": {
          "bdata": "K4A1wQ==",
          "dtype": "f4"
         },
         "xaxis": "x2",
         "y": {
          "bdata": "eiBTwg==",
          "dtype": "f4"
         },
         "yaxis": "y2"
        },
        {
         "legendgroup": "pred",
         "marker": {
          "color": "#17becf",
          "size": 6
         },
         "mode": "markers",
         "name": "Pred Group 281",
         "showlegend": false,
         "type": "scatter",
         "x": {
          "bdata": "66ojwQ==",
          "dtype": "f4"
         },
         "xaxis": "x2",
         "y": {
          "bdata": "Q7JhwA==",
          "dtype": "f4"
         },
         "yaxis": "y2"
        },
        {
         "legendgroup": "pred",
         "marker": {
          "color": "#17becf",
          "size": 6
         },
         "mode": "markers",
         "name": "Pred Group 282",
         "showlegend": false,
         "type": "scatter",
         "x": {
          "bdata": "ngYxwg==",
          "dtype": "f4"
         },
         "xaxis": "x2",
         "y": {
          "bdata": "fYN/QQ==",
          "dtype": "f4"
         },
         "yaxis": "y2"
        },
        {
         "legendgroup": "pred",
         "marker": {
          "color": "#17becf",
          "size": 6
         },
         "mode": "markers",
         "name": "Pred Group 283",
         "showlegend": false,
         "type": "scatter",
         "x": {
          "bdata": "0Btbwg==",
          "dtype": "f4"
         },
         "xaxis": "x2",
         "y": {
          "bdata": "EVCpwA==",
          "dtype": "f4"
         },
         "yaxis": "y2"
        },
        {
         "legendgroup": "pred",
         "marker": {
          "color": "#17becf",
          "size": 6
         },
         "mode": "markers",
         "name": "Pred Group 284",
         "showlegend": false,
         "type": "scatter",
         "x": {
          "bdata": "I6NHvg==",
          "dtype": "f4"
         },
         "xaxis": "x2",
         "y": {
          "bdata": "OLkzwg==",
          "dtype": "f4"
         },
         "yaxis": "y2"
        },
        {
         "legendgroup": "pred",
         "marker": {
          "color": "#17becf",
          "size": 6
         },
         "mode": "markers",
         "name": "Pred Group 285",
         "showlegend": false,
         "type": "scatter",
         "x": {
          "bdata": "HadHQA==",
          "dtype": "f4"
         },
         "xaxis": "x2",
         "y": {
          "bdata": "F4YZQA==",
          "dtype": "f4"
         },
         "yaxis": "y2"
        },
        {
         "legendgroup": "pred",
         "marker": {
          "color": "#17becf",
          "size": 6
         },
         "mode": "markers",
         "name": "Pred Group 286",
         "showlegend": false,
         "type": "scatter",
         "x": {
          "bdata": "mMlKQA==",
          "dtype": "f4"
         },
         "xaxis": "x2",
         "y": {
          "bdata": "9zJPQA==",
          "dtype": "f4"
         },
         "yaxis": "y2"
        },
        {
         "legendgroup": "pred",
         "marker": {
          "color": "#17becf",
          "size": 6
         },
         "mode": "markers",
         "name": "Pred Group 287",
         "showlegend": false,
         "type": "scatter",
         "x": {
          "bdata": "FJydQA==",
          "dtype": "f4"
         },
         "xaxis": "x2",
         "y": {
          "bdata": "lJrpQA==",
          "dtype": "f4"
         },
         "yaxis": "y2"
        },
        {
         "legendgroup": "pred",
         "marker": {
          "color": "#17becf",
          "size": 6
         },
         "mode": "markers",
         "name": "Pred Group 288",
         "showlegend": false,
         "type": "scatter",
         "x": {
          "bdata": "P+3JQQ==",
          "dtype": "f4"
         },
         "xaxis": "x2",
         "y": {
          "bdata": "kncgwQ==",
          "dtype": "f4"
         },
         "yaxis": "y2"
        },
        {
         "legendgroup": "pred",
         "marker": {
          "color": "#17becf",
          "size": 6
         },
         "mode": "markers",
         "name": "Pred Group 289",
         "showlegend": false,
         "type": "scatter",
         "x": {
          "bdata": "O4vzQQ==",
          "dtype": "f4"
         },
         "xaxis": "x2",
         "y": {
          "bdata": "ccYQQQ==",
          "dtype": "f4"
         },
         "yaxis": "y2"
        },
        {
         "legendgroup": "pred",
         "marker": {
          "color": "#17becf",
          "size": 6
         },
         "mode": "markers",
         "name": "Pred Group 290",
         "showlegend": false,
         "type": "scatter",
         "x": {
          "bdata": "PbfvwQ==",
          "dtype": "f4"
         },
         "xaxis": "x2",
         "y": {
          "bdata": "/hIEwg==",
          "dtype": "f4"
         },
         "yaxis": "y2"
        },
        {
         "legendgroup": "pred",
         "marker": {
          "color": "#17becf",
          "size": 6
         },
         "mode": "markers",
         "name": "Pred Group 291",
         "showlegend": false,
         "type": "scatter",
         "x": {
          "bdata": "fhnEQQ==",
          "dtype": "f4"
         },
         "xaxis": "x2",
         "y": {
          "bdata": "wsntwA==",
          "dtype": "f4"
         },
         "yaxis": "y2"
        },
        {
         "legendgroup": "pred",
         "marker": {
          "color": "#17becf",
          "size": 6
         },
         "mode": "markers",
         "name": "Pred Group 292",
         "showlegend": false,
         "type": "scatter",
         "x": {
          "bdata": "W/fEQQ==",
          "dtype": "f4"
         },
         "xaxis": "x2",
         "y": {
          "bdata": "1i6YwQ==",
          "dtype": "f4"
         },
         "yaxis": "y2"
        },
        {
         "legendgroup": "pred",
         "marker": {
          "color": "#17becf",
          "size": 6
         },
         "mode": "markers",
         "name": "Pred Group 293",
         "showlegend": false,
         "type": "scatter",
         "x": {
          "bdata": "nm5TwQ==",
          "dtype": "f4"
         },
         "xaxis": "x2",
         "y": {
          "bdata": "uYbkwQ==",
          "dtype": "f4"
         },
         "yaxis": "y2"
        },
        {
         "legendgroup": "pred",
         "marker": {
          "color": "#17becf",
          "size": 6
         },
         "mode": "markers",
         "name": "Pred Group 294",
         "showlegend": false,
         "type": "scatter",
         "x": {
          "bdata": "kyvXwQ==",
          "dtype": "f4"
         },
         "xaxis": "x2",
         "y": {
          "bdata": "/058Qg==",
          "dtype": "f4"
         },
         "yaxis": "y2"
        },
        {
         "legendgroup": "pred",
         "marker": {
          "color": "#17becf",
          "size": 6
         },
         "mode": "markers",
         "name": "Pred Group 295",
         "showlegend": false,
         "type": "scatter",
         "x": {
          "bdata": "x3LhwQ==",
          "dtype": "f4"
         },
         "xaxis": "x2",
         "y": {
          "bdata": "YMNFwg==",
          "dtype": "f4"
         },
         "yaxis": "y2"
        },
        {
         "legendgroup": "pred",
         "marker": {
          "color": "#9edae5",
          "size": 6
         },
         "mode": "markers",
         "name": "Pred Group 296",
         "showlegend": false,
         "type": "scatter",
         "x": {
          "bdata": "fcf3QQ==",
          "dtype": "f4"
         },
         "xaxis": "x2",
         "y": {
          "bdata": "tyU8QQ==",
          "dtype": "f4"
         },
         "yaxis": "y2"
        },
        {
         "legendgroup": "pred",
         "marker": {
          "color": "#9edae5",
          "size": 6
         },
         "mode": "markers",
         "name": "Pred Group 297",
         "showlegend": false,
         "type": "scatter",
         "x": {
          "bdata": "A/R7wQ==",
          "dtype": "f4"
         },
         "xaxis": "x2",
         "y": {
          "bdata": "j3l2Qg==",
          "dtype": "f4"
         },
         "yaxis": "y2"
        },
        {
         "legendgroup": "pred",
         "marker": {
          "color": "#9edae5",
          "size": 6
         },
         "mode": "markers",
         "name": "Pred Group 298",
         "showlegend": false,
         "type": "scatter",
         "x": {
          "bdata": "R06ZwQ==",
          "dtype": "f4"
         },
         "xaxis": "x2",
         "y": {
          "bdata": "OaFnQg==",
          "dtype": "f4"
         },
         "yaxis": "y2"
        },
        {
         "legendgroup": "pred",
         "marker": {
          "color": "#9edae5",
          "size": 6
         },
         "mode": "markers",
         "name": "Pred Group 299",
         "showlegend": false,
         "type": "scatter",
         "x": {
          "bdata": "QX3QQQ==",
          "dtype": "f4"
         },
         "xaxis": "x2",
         "y": {
          "bdata": "nwJNwg==",
          "dtype": "f4"
         },
         "yaxis": "y2"
        },
        {
         "legendgroup": "pred",
         "marker": {
          "color": "#9edae5",
          "size": 6
         },
         "mode": "markers",
         "name": "Pred Group 300",
         "showlegend": false,
         "type": "scatter",
         "x": {
          "bdata": "zEMGQg==",
          "dtype": "f4"
         },
         "xaxis": "x2",
         "y": {
          "bdata": "u3VYwg==",
          "dtype": "f4"
         },
         "yaxis": "y2"
        },
        {
         "legendgroup": "pred",
         "marker": {
          "color": "#9edae5",
          "size": 6
         },
         "mode": "markers",
         "name": "Pred Group 301",
         "showlegend": false,
         "type": "scatter",
         "x": {
          "bdata": "UO2zQQ==",
          "dtype": "f4"
         },
         "xaxis": "x2",
         "y": {
          "bdata": "Ex5lwg==",
          "dtype": "f4"
         },
         "yaxis": "y2"
        },
        {
         "legendgroup": "pred",
         "marker": {
          "color": "#9edae5",
          "size": 6
         },
         "mode": "markers",
         "name": "Pred Group 302",
         "showlegend": false,
         "type": "scatter",
         "x": {
          "bdata": "mftUQg==",
          "dtype": "f4"
         },
         "xaxis": "x2",
         "y": {
          "bdata": "xkENwg==",
          "dtype": "f4"
         },
         "yaxis": "y2"
        },
        {
         "legendgroup": "pred",
         "marker": {
          "color": "#9edae5",
          "size": 6
         },
         "mode": "markers",
         "name": "Pred Group 303",
         "showlegend": false,
         "type": "scatter",
         "x": {
          "bdata": "guBpQg==",
          "dtype": "f4"
         },
         "xaxis": "x2",
         "y": {
          "bdata": "qcEjwg==",
          "dtype": "f4"
         },
         "yaxis": "y2"
        },
        {
         "legendgroup": "pred",
         "marker": {
          "color": "#9edae5",
          "size": 6
         },
         "mode": "markers",
         "name": "Pred Group 304",
         "showlegend": false,
         "type": "scatter",
         "x": {
          "bdata": "SU3YwQ==",
          "dtype": "f4"
         },
         "xaxis": "x2",
         "y": {
          "bdata": "TTA/Qg==",
          "dtype": "f4"
         },
         "yaxis": "y2"
        },
        {
         "legendgroup": "pred",
         "marker": {
          "color": "#9edae5",
          "size": 6
         },
         "mode": "markers",
         "name": "Pred Group 305",
         "showlegend": false,
         "type": "scatter",
         "x": {
          "bdata": "Y9pxQQ==",
          "dtype": "f4"
         },
         "xaxis": "x2",
         "y": {
          "bdata": "B4A7QQ==",
          "dtype": "f4"
         },
         "yaxis": "y2"
        },
        {
         "legendgroup": "pred",
         "marker": {
          "color": "#9edae5",
          "size": 6
         },
         "mode": "markers",
         "name": "Pred Group 306",
         "showlegend": false,
         "type": "scatter",
         "x": {
          "bdata": "beoFQg==",
          "dtype": "f4"
         },
         "xaxis": "x2",
         "y": {
          "bdata": "GpcaQQ==",
          "dtype": "f4"
         },
         "yaxis": "y2"
        },
        {
         "legendgroup": "pred",
         "marker": {
          "color": "#9edae5",
          "size": 6
         },
         "mode": "markers",
         "name": "Pred Group 307",
         "showlegend": false,
         "type": "scatter",
         "x": {
          "bdata": "BE/gQQ==",
          "dtype": "f4"
         },
         "xaxis": "x2",
         "y": {
          "bdata": "GjU9QQ==",
          "dtype": "f4"
         },
         "yaxis": "y2"
        },
        {
         "legendgroup": "pred",
         "marker": {
          "color": "#9edae5",
          "size": 6
         },
         "mode": "markers",
         "name": "Pred Group 308",
         "showlegend": false,
         "type": "scatter",
         "x": {
          "bdata": "0gsiQA==",
          "dtype": "f4"
         },
         "xaxis": "x2",
         "y": {
          "bdata": "+ZgXwQ==",
          "dtype": "f4"
         },
         "yaxis": "y2"
        },
        {
         "legendgroup": "pred",
         "marker": {
          "color": "#9edae5",
          "size": 6
         },
         "mode": "markers",
         "name": "Pred Group 309",
         "showlegend": false,
         "type": "scatter",
         "x": {
          "bdata": "IfXLQQ==",
          "dtype": "f4"
         },
         "xaxis": "x2",
         "y": {
          "bdata": "cCS4vw==",
          "dtype": "f4"
         },
         "yaxis": "y2"
        },
        {
         "legendgroup": "pred",
         "marker": {
          "color": "#9edae5",
          "size": 6
         },
         "mode": "markers",
         "name": "Pred Group 310",
         "showlegend": false,
         "type": "scatter",
         "x": {
          "bdata": "LOvqwQ==",
          "dtype": "f4"
         },
         "xaxis": "x2",
         "y": {
          "bdata": "X4kxQg==",
          "dtype": "f4"
         },
         "yaxis": "y2"
        },
        {
         "legendgroup": "pred",
         "marker": {
          "color": "#9edae5",
          "size": 6
         },
         "mode": "markers",
         "name": "Pred Group 311",
         "showlegend": false,
         "type": "scatter",
         "x": {
          "bdata": "5l6NwQ==",
          "dtype": "f4"
         },
         "xaxis": "x2",
         "y": {
          "bdata": "fA6vQQ==",
          "dtype": "f4"
         },
         "yaxis": "y2"
        }
       ],
       "layout": {
        "annotations": [
         {
          "font": {
           "size": 16
          },
          "showarrow": false,
          "text": "Clusters of 2D Embeddings gt",
          "x": 0.225,
          "xanchor": "center",
          "xref": "paper",
          "y": 1,
          "yanchor": "bottom",
          "yref": "paper"
         },
         {
          "font": {
           "size": 16
          },
          "showarrow": false,
          "text": "Clusters of 2D Embeddings pred",
          "x": 0.775,
          "xanchor": "center",
          "xref": "paper",
          "y": 1,
          "yanchor": "bottom",
          "yref": "paper"
         }
        ],
        "height": 600,
        "showlegend": true,
        "template": {
         "data": {
          "bar": [
           {
            "error_x": {
             "color": "#2a3f5f"
            },
            "error_y": {
             "color": "#2a3f5f"
            },
            "marker": {
             "line": {
              "color": "#E5ECF6",
              "width": 0.5
             },
             "pattern": {
              "fillmode": "overlay",
              "size": 10,
              "solidity": 0.2
             }
            },
            "type": "bar"
           }
          ],
          "barpolar": [
           {
            "marker": {
             "line": {
              "color": "#E5ECF6",
              "width": 0.5
             },
             "pattern": {
              "fillmode": "overlay",
              "size": 10,
              "solidity": 0.2
             }
            },
            "type": "barpolar"
           }
          ],
          "carpet": [
           {
            "aaxis": {
             "endlinecolor": "#2a3f5f",
             "gridcolor": "white",
             "linecolor": "white",
             "minorgridcolor": "white",
             "startlinecolor": "#2a3f5f"
            },
            "baxis": {
             "endlinecolor": "#2a3f5f",
             "gridcolor": "white",
             "linecolor": "white",
             "minorgridcolor": "white",
             "startlinecolor": "#2a3f5f"
            },
            "type": "carpet"
           }
          ],
          "choropleth": [
           {
            "colorbar": {
             "outlinewidth": 0,
             "ticks": ""
            },
            "type": "choropleth"
           }
          ],
          "contour": [
           {
            "colorbar": {
             "outlinewidth": 0,
             "ticks": ""
            },
            "colorscale": [
             [
              0,
              "#0d0887"
             ],
             [
              0.1111111111111111,
              "#46039f"
             ],
             [
              0.2222222222222222,
              "#7201a8"
             ],
             [
              0.3333333333333333,
              "#9c179e"
             ],
             [
              0.4444444444444444,
              "#bd3786"
             ],
             [
              0.5555555555555556,
              "#d8576b"
             ],
             [
              0.6666666666666666,
              "#ed7953"
             ],
             [
              0.7777777777777778,
              "#fb9f3a"
             ],
             [
              0.8888888888888888,
              "#fdca26"
             ],
             [
              1,
              "#f0f921"
             ]
            ],
            "type": "contour"
           }
          ],
          "contourcarpet": [
           {
            "colorbar": {
             "outlinewidth": 0,
             "ticks": ""
            },
            "type": "contourcarpet"
           }
          ],
          "heatmap": [
           {
            "colorbar": {
             "outlinewidth": 0,
             "ticks": ""
            },
            "colorscale": [
             [
              0,
              "#0d0887"
             ],
             [
              0.1111111111111111,
              "#46039f"
             ],
             [
              0.2222222222222222,
              "#7201a8"
             ],
             [
              0.3333333333333333,
              "#9c179e"
             ],
             [
              0.4444444444444444,
              "#bd3786"
             ],
             [
              0.5555555555555556,
              "#d8576b"
             ],
             [
              0.6666666666666666,
              "#ed7953"
             ],
             [
              0.7777777777777778,
              "#fb9f3a"
             ],
             [
              0.8888888888888888,
              "#fdca26"
             ],
             [
              1,
              "#f0f921"
             ]
            ],
            "type": "heatmap"
           }
          ],
          "histogram": [
           {
            "marker": {
             "pattern": {
              "fillmode": "overlay",
              "size": 10,
              "solidity": 0.2
             }
            },
            "type": "histogram"
           }
          ],
          "histogram2d": [
           {
            "colorbar": {
             "outlinewidth": 0,
             "ticks": ""
            },
            "colorscale": [
             [
              0,
              "#0d0887"
             ],
             [
              0.1111111111111111,
              "#46039f"
             ],
             [
              0.2222222222222222,
              "#7201a8"
             ],
             [
              0.3333333333333333,
              "#9c179e"
             ],
             [
              0.4444444444444444,
              "#bd3786"
             ],
             [
              0.5555555555555556,
              "#d8576b"
             ],
             [
              0.6666666666666666,
              "#ed7953"
             ],
             [
              0.7777777777777778,
              "#fb9f3a"
             ],
             [
              0.8888888888888888,
              "#fdca26"
             ],
             [
              1,
              "#f0f921"
             ]
            ],
            "type": "histogram2d"
           }
          ],
          "histogram2dcontour": [
           {
            "colorbar": {
             "outlinewidth": 0,
             "ticks": ""
            },
            "colorscale": [
             [
              0,
              "#0d0887"
             ],
             [
              0.1111111111111111,
              "#46039f"
             ],
             [
              0.2222222222222222,
              "#7201a8"
             ],
             [
              0.3333333333333333,
              "#9c179e"
             ],
             [
              0.4444444444444444,
              "#bd3786"
             ],
             [
              0.5555555555555556,
              "#d8576b"
             ],
             [
              0.6666666666666666,
              "#ed7953"
             ],
             [
              0.7777777777777778,
              "#fb9f3a"
             ],
             [
              0.8888888888888888,
              "#fdca26"
             ],
             [
              1,
              "#f0f921"
             ]
            ],
            "type": "histogram2dcontour"
           }
          ],
          "mesh3d": [
           {
            "colorbar": {
             "outlinewidth": 0,
             "ticks": ""
            },
            "type": "mesh3d"
           }
          ],
          "parcoords": [
           {
            "line": {
             "colorbar": {
              "outlinewidth": 0,
              "ticks": ""
             }
            },
            "type": "parcoords"
           }
          ],
          "pie": [
           {
            "automargin": true,
            "type": "pie"
           }
          ],
          "scatter": [
           {
            "fillpattern": {
             "fillmode": "overlay",
             "size": 10,
             "solidity": 0.2
            },
            "type": "scatter"
           }
          ],
          "scatter3d": [
           {
            "line": {
             "colorbar": {
              "outlinewidth": 0,
              "ticks": ""
             }
            },
            "marker": {
             "colorbar": {
              "outlinewidth": 0,
              "ticks": ""
             }
            },
            "type": "scatter3d"
           }
          ],
          "scattercarpet": [
           {
            "marker": {
             "colorbar": {
              "outlinewidth": 0,
              "ticks": ""
             }
            },
            "type": "scattercarpet"
           }
          ],
          "scattergeo": [
           {
            "marker": {
             "colorbar": {
              "outlinewidth": 0,
              "ticks": ""
             }
            },
            "type": "scattergeo"
           }
          ],
          "scattergl": [
           {
            "marker": {
             "colorbar": {
              "outlinewidth": 0,
              "ticks": ""
             }
            },
            "type": "scattergl"
           }
          ],
          "scattermap": [
           {
            "marker": {
             "colorbar": {
              "outlinewidth": 0,
              "ticks": ""
             }
            },
            "type": "scattermap"
           }
          ],
          "scattermapbox": [
           {
            "marker": {
             "colorbar": {
              "outlinewidth": 0,
              "ticks": ""
             }
            },
            "type": "scattermapbox"
           }
          ],
          "scatterpolar": [
           {
            "marker": {
             "colorbar": {
              "outlinewidth": 0,
              "ticks": ""
             }
            },
            "type": "scatterpolar"
           }
          ],
          "scatterpolargl": [
           {
            "marker": {
             "colorbar": {
              "outlinewidth": 0,
              "ticks": ""
             }
            },
            "type": "scatterpolargl"
           }
          ],
          "scatterternary": [
           {
            "marker": {
             "colorbar": {
              "outlinewidth": 0,
              "ticks": ""
             }
            },
            "type": "scatterternary"
           }
          ],
          "surface": [
           {
            "colorbar": {
             "outlinewidth": 0,
             "ticks": ""
            },
            "colorscale": [
             [
              0,
              "#0d0887"
             ],
             [
              0.1111111111111111,
              "#46039f"
             ],
             [
              0.2222222222222222,
              "#7201a8"
             ],
             [
              0.3333333333333333,
              "#9c179e"
             ],
             [
              0.4444444444444444,
              "#bd3786"
             ],
             [
              0.5555555555555556,
              "#d8576b"
             ],
             [
              0.6666666666666666,
              "#ed7953"
             ],
             [
              0.7777777777777778,
              "#fb9f3a"
             ],
             [
              0.8888888888888888,
              "#fdca26"
             ],
             [
              1,
              "#f0f921"
             ]
            ],
            "type": "surface"
           }
          ],
          "table": [
           {
            "cells": {
             "fill": {
              "color": "#EBF0F8"
             },
             "line": {
              "color": "white"
             }
            },
            "header": {
             "fill": {
              "color": "#C8D4E3"
             },
             "line": {
              "color": "white"
             }
            },
            "type": "table"
           }
          ]
         },
         "layout": {
          "annotationdefaults": {
           "arrowcolor": "#2a3f5f",
           "arrowhead": 0,
           "arrowwidth": 1
          },
          "autotypenumbers": "strict",
          "coloraxis": {
           "colorbar": {
            "outlinewidth": 0,
            "ticks": ""
           }
          },
          "colorscale": {
           "diverging": [
            [
             0,
             "#8e0152"
            ],
            [
             0.1,
             "#c51b7d"
            ],
            [
             0.2,
             "#de77ae"
            ],
            [
             0.3,
             "#f1b6da"
            ],
            [
             0.4,
             "#fde0ef"
            ],
            [
             0.5,
             "#f7f7f7"
            ],
            [
             0.6,
             "#e6f5d0"
            ],
            [
             0.7,
             "#b8e186"
            ],
            [
             0.8,
             "#7fbc41"
            ],
            [
             0.9,
             "#4d9221"
            ],
            [
             1,
             "#276419"
            ]
           ],
           "sequential": [
            [
             0,
             "#0d0887"
            ],
            [
             0.1111111111111111,
             "#46039f"
            ],
            [
             0.2222222222222222,
             "#7201a8"
            ],
            [
             0.3333333333333333,
             "#9c179e"
            ],
            [
             0.4444444444444444,
             "#bd3786"
            ],
            [
             0.5555555555555556,
             "#d8576b"
            ],
            [
             0.6666666666666666,
             "#ed7953"
            ],
            [
             0.7777777777777778,
             "#fb9f3a"
            ],
            [
             0.8888888888888888,
             "#fdca26"
            ],
            [
             1,
             "#f0f921"
            ]
           ],
           "sequentialminus": [
            [
             0,
             "#0d0887"
            ],
            [
             0.1111111111111111,
             "#46039f"
            ],
            [
             0.2222222222222222,
             "#7201a8"
            ],
            [
             0.3333333333333333,
             "#9c179e"
            ],
            [
             0.4444444444444444,
             "#bd3786"
            ],
            [
             0.5555555555555556,
             "#d8576b"
            ],
            [
             0.6666666666666666,
             "#ed7953"
            ],
            [
             0.7777777777777778,
             "#fb9f3a"
            ],
            [
             0.8888888888888888,
             "#fdca26"
            ],
            [
             1,
             "#f0f921"
            ]
           ]
          },
          "colorway": [
           "#636efa",
           "#EF553B",
           "#00cc96",
           "#ab63fa",
           "#FFA15A",
           "#19d3f3",
           "#FF6692",
           "#B6E880",
           "#FF97FF",
           "#FECB52"
          ],
          "font": {
           "color": "#2a3f5f"
          },
          "geo": {
           "bgcolor": "white",
           "lakecolor": "white",
           "landcolor": "#E5ECF6",
           "showlakes": true,
           "showland": true,
           "subunitcolor": "white"
          },
          "hoverlabel": {
           "align": "left"
          },
          "hovermode": "closest",
          "mapbox": {
           "style": "light"
          },
          "paper_bgcolor": "white",
          "plot_bgcolor": "#E5ECF6",
          "polar": {
           "angularaxis": {
            "gridcolor": "white",
            "linecolor": "white",
            "ticks": ""
           },
           "bgcolor": "#E5ECF6",
           "radialaxis": {
            "gridcolor": "white",
            "linecolor": "white",
            "ticks": ""
           }
          },
          "scene": {
           "xaxis": {
            "backgroundcolor": "#E5ECF6",
            "gridcolor": "white",
            "gridwidth": 2,
            "linecolor": "white",
            "showbackground": true,
            "ticks": "",
            "zerolinecolor": "white"
           },
           "yaxis": {
            "backgroundcolor": "#E5ECF6",
            "gridcolor": "white",
            "gridwidth": 2,
            "linecolor": "white",
            "showbackground": true,
            "ticks": "",
            "zerolinecolor": "white"
           },
           "zaxis": {
            "backgroundcolor": "#E5ECF6",
            "gridcolor": "white",
            "gridwidth": 2,
            "linecolor": "white",
            "showbackground": true,
            "ticks": "",
            "zerolinecolor": "white"
           }
          },
          "shapedefaults": {
           "line": {
            "color": "#2a3f5f"
           }
          },
          "ternary": {
           "aaxis": {
            "gridcolor": "white",
            "linecolor": "white",
            "ticks": ""
           },
           "baxis": {
            "gridcolor": "white",
            "linecolor": "white",
            "ticks": ""
           },
           "bgcolor": "#E5ECF6",
           "caxis": {
            "gridcolor": "white",
            "linecolor": "white",
            "ticks": ""
           }
          },
          "title": {
           "x": 0.05
          },
          "xaxis": {
           "automargin": true,
           "gridcolor": "white",
           "linecolor": "white",
           "ticks": "",
           "title": {
            "standoff": 15
           },
           "zerolinecolor": "white",
           "zerolinewidth": 2
          },
          "yaxis": {
           "automargin": true,
           "gridcolor": "white",
           "linecolor": "white",
           "ticks": "",
           "title": {
            "standoff": 15
           },
           "zerolinecolor": "white",
           "zerolinewidth": 2
          }
         }
        },
        "title": {
         "text": "Cluster Comparison: Ground Truth vs Prediction"
        },
        "width": 1000,
        "xaxis": {
         "anchor": "y",
         "domain": [
          0,
          0.45
         ]
        },
        "xaxis2": {
         "anchor": "y2",
         "domain": [
          0.55,
          1
         ]
        },
        "yaxis": {
         "anchor": "x",
         "domain": [
          0,
          1
         ]
        },
        "yaxis2": {
         "anchor": "x2",
         "domain": [
          0,
          1
         ]
        }
       }
      }
     },
     "metadata": {},
     "output_type": "display_data"
    }
   ],
   "source": [
    "model = SentenceTransformer(\"models/simcse-model\")\n",
    "simcse_res = test_model(model)"
   ]
  },
  {
   "cell_type": "code",
   "execution_count": 7,
   "id": "8f0f5724",
   "metadata": {},
   "outputs": [
    {
     "data": {
      "image/png": "[encoded data removed]",
      "text/plain": [
       "<Figure size 640x480 with 1 Axes>"
      ]
     },
     "metadata": {},
     "output_type": "display_data"
    }
   ],
   "source": [
    "plot_res({\"tsdae\": tsdae_res[2], \"simcse\": simcse_res[2]})"
   ]
  },
  {
   "attachments": {
    "image.png": {
     "image/png": "[encoded data removed]"
    }
   },
   "cell_type": "markdown",
   "id": "b5aa58d4",
   "metadata": {},
   "source": [
    "Apparently all unsupervised methods perform poorly because of domain specific words and symbols.\n",
    "\n",
    "![image.png](attachment:image.png)"
   ]
  }
 ],
 "metadata": {
  "kernelspec": {
   "display_name": ".venv",
   "language": "python",
   "name": "python3"
  },
  "language_info": {
   "codemirror_mode": {
    "name": "ipython",
    "version": 3
   },
   "file_extension": ".py",
   "mimetype": "text/x-python",
   "name": "python",
   "nbconvert_exporter": "python",
   "pygments_lexer": "ipython3",
   "version": "3.12.10"
  }
 },
 "nbformat": 4,
 "nbformat_minor": 5
}
