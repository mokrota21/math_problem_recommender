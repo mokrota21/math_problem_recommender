{
 "cells": [
  {
   "cell_type": "code",
   "execution_count": 20,
   "id": "733e0bef",
   "metadata": {},
   "outputs": [
    {
     "data": {
      "application/vnd.microsoft.datawrangler.viewer.v0+json": {
       "columns": [
        {
         "name": "index",
         "rawType": "object",
         "type": "string"
        },
        {
         "name": "text",
         "rawType": "object",
         "type": "unknown"
        }
       ],
       "conversionMethod": "pd.DataFrame",
       "ref": "9cab6a38-a842-422b-b127-0d33ea6a2a6d",
       "rows": [
        [
         "Divisibility",
         "['From (1) it follows that $A(x_{1}+y_{1})=p^{k-n\\\\alpha}$ , so, since $x_{1}+y_{1}>1$ and $A>1$ , both of these numbers are divisible by $p$ ; moreover, $x_{1}+y_{1}=p^{\\\\beta}$ for some natural number $\\\\beta$ .', 'Since $A$ is divisible by $p$ and $x_{1}$ is relatively prime to $p$ , it follows that $n$ is divisible by $p$ .', 'In fact, every integer that is not divisible by 10 divides some element of $X$', 'Therefore $m(10^{(d+1)\\\\varphi(f k)}-1)/(10^{d+1}-1)$ is divisible by $2^{p}k$', 'Note that 2 divides $2^{\\\\pi}+2$ for all $n$ .', 'Because $m\\\\equiv-1$ (mod 3), there exists an odd prime $p$ such that $p\\\\equiv-1$ (mod 3) and $p|m$ .', \"If a prime $p$ divides $ab$, then $p$ divides $a$ or $p$ divides $b$ (Euclid's lemma).\", 'For integers $a,b$, if $a$ divides $b$ and $b$ divides $a$, then $a = \\\\pm b$.', 'Any integer $n > 1$ has a prime divisor.', 'Using the divisibility rule for 9: a number is divisible by 9 if the sum of its digits is divisible by 9.']"
        ],
        [
         "Euler’s Theorem",
         "['By Euler’s Theorem, $10^{\\\\varphi(f k)}\\\\equiv1$ (mod $f k$ )', 'To compute $3^{100} \\\\mod 14$, note $\\\\varphi(14)=6$, so $3^6 \\\\equiv 1 \\\\mod 14$, hence $3^{100} \\\\equiv 3^4 \\\\mod 14$.', 'If $a \\\\equiv b \\\\mod n$ and $\\\\gcd(a,n)=1$, then $a^k \\\\equiv b^k \\\\mod n$ for $k = \\\\varphi(n)$.', 'Using Euler’s theorem to find the inverse of $a$ modulo $n$ as $a^{\\\\varphi(n)-1} \\\\mod n$.', 'Since 7 and 10 are coprime, $10^{\\\\varphi(7)} \\\\equiv 10^6 \\\\equiv 1 \\\\mod 7$.', 'Applying Euler’s theorem to simplify $2^{103} \\\\mod 13$, where $\\\\varphi(13)=12$, so $2^{12} \\\\equiv 1 \\\\mod 13$.', 'Given $\\\\gcd(m,n)=1$, $m^{\\\\varphi(n)} + n^{\\\\varphi(m)} \\\\equiv 1 + 1 \\\\equiv 2 \\\\mod mn$.', 'In solving $x \\\\equiv a^b \\\\mod m$, reduce the exponent $b$ modulo $\\\\varphi(m)$ if $\\\\gcd(a,m)=1$.', 'Euler’s theorem implies the period of $1/7$ in decimal repeats every 6 digits because $\\\\varphi(7)=6$.', 'For $\\\\gcd(a,n)=1$, $a^{\\\\varphi(n)} \\\\equiv 1 \\\\mod n$ by Euler’s theorem.']"
        ],
        [
         "Extremal Principles",
         "['If $x\\\\geq3$ , $y\\\\geq3$ , $z\\\\geq3$ then $x y z\\\\geq3y z$ , $x y z\\\\geq3x z$ , $x y z\\\\geq3x y$ .', 'Let $a_{2}$ be the maximum integer such that $2^{a_{2}}|a$.', 'Find $a,b$ such that $\\\\operatorname*{min}\\\\{a_{5}a+b_{5}b,a_{2}a+b_{2}b\\\\}=98$ and $a b$ is minimal.', 'If $n$ is odd, let $d$ be the smallest odd prime that does not divide $n$ .', 'The minimal positive integer $k$ such that $k!$ is divisible by $n$ is the maximal prime power in $n$.', 'By the pigeonhole principle, among any five integers, two will have a difference divisible by 4.', 'The maximum value of $\\\\gcd(n, n+1)$ is 1, since consecutive integers are coprime.', 'For the smallest $n$ where $2^n \\\\equiv 1 \\\\mod 7$, trial shows $n=3$.', 'The minimal solution to $x^2 - 2y^2 = 1$ is $(3,2)$ by testing small integers.', 'In any set of 10 integers, there exist two whose difference is divisible by 9.']"
        ],
        [
         "Fermat’s Little Theorem",
         "['The formula in our problem shows that the sum of the quotients obtained when $k^{p}{-}k$ is divided by $p$ (Fermat’s Little Theorem) is congruent to $\\\\frac{p+1}{2}$ modulo $p$.', 'By Fermat’s Little Theorem, $a^{p-1} \\\\equiv 1 \\\\mod p$ for $\\\\gcd(a,p)=1$.', 'To prove $p$ divides $1^{p-1} + 2^{p-1} + \\\\dots + (p-1)^{p-1} \\\\equiv -1 \\\\mod p$.', 'If $p$ is prime, then $(p-1)! \\\\equiv -1 \\\\mod p$ by Wilson’s theorem, related to Fermat’s theorem.', 'Using Fermat’s theorem: $3^{10} \\\\equiv 1 \\\\mod 11$, so $3^{100} \\\\equiv 1^{10} \\\\equiv 1 \\\\mod 11$.', 'For prime $p$, $a^p \\\\equiv a \\\\mod p$ holds for all integers $a$.', 'Since $p \\\\nmid a$, $a^{p-2} \\\\equiv a^{-1} \\\\mod p$ by Fermat’s Little Theorem.', 'Fermat’s theorem implies $2^{6} \\\\equiv 1 \\\\mod 7$ because $7$ is prime.', 'To solve $5x \\\\equiv 1 \\\\mod 7$, multiply both sides by $5^{5} \\\\equiv 3 \\\\mod 7$ (since $5^{6} \\\\equiv 1$).', 'If $p$ is prime, $1 + 2 + \\\\dots + (p-1) \\\\equiv 0 \\\\mod p$ by Fermat’s theorem.']"
        ],
        [
         "Modular Arithmetics",
         "['Assume that we have a prime $p$ such that $p|2^{n}+1$ and $p\\\\equiv-1$ (mod 8)', 'If $n$ is even, then $p\\\\equiv3$ (mod 4) and $\\\\left(\\\\frac{-1}{p}\\\\right)=1$ , a contradiction.', 'If $n$ is odd, then $\\\\left(\\\\frac{-2}{p}\\\\right)=1$ and we get $(-1)^{\\\\frac{p^{2}-1}{8}}(-1)^{\\\\frac{p-1}{2}}=1$ , again a contradiction.', 'Since $|S|=2^{n}>k$ , we can find two elements $a<b$ of $S$ which are congruent modulo $k$ , and $b-a$ only has the digits 8, 9, 0, 1 in its decimal representation.', 'Then we can choose $a_{2k}$ so that $x+a_{2k}10^{2k}\\\\equiv0$ (mod $4^{k+1}$ ) since $10^{2k}\\\\equiv0\\\\pmod{4^{k}}$ )', 'Also, 11 divides $2^{n}+2$ if and only if $n\\\\equiv6$ (mod 10), and 43 divides $2^{n}+2$ if and only if $n\\\\equiv8$ (mod 14).', 'Observe that for any integer $x$ we have $x^{4}=16k$ or $x^{4}=16k+1$ for some $k$.', 'Using the Chinese Remainder Theorem to solve $x \\\\equiv 2 \\\\mod 3$ and $x \\\\equiv 3 \\\\mod 5$ yields $x \\\\equiv 8 \\\\mod 15$.', 'If $a \\\\equiv b \\\\mod m$ and $a \\\\equiv b \\\\mod n$ with $\\\\gcd(m,n)=1$, then $a \\\\equiv b \\\\mod mn$.', 'Wilson’s theorem states that $(p-1)! \\\\equiv -1 \\\\mod p$ for prime $p$.']"
        ],
        [
         "Prime Numbers",
         "['Assume that we have a prime $p$ such that $p|2^{n}+1$ and $p\\\\equiv-1$ (mod 8)', 'Then $x=m x_{1}$ , $y=m y_{1}$ and by virtue of the given equation, $m^{n}(x_{1}^{n}+y_{1}^{n})=p^{k}$ , and so $m=p^{\\\\alpha}$ for some nonnegative integer $\\\\alpha$ .', 'By the condition $p>2$ , it follows that at least one of $x_{1},y_{1}$ is greater than $1$ , so since $n>1$ , $A>1$ .', 'From (1) it follows that $A(x_{1}+y_{1})=p^{k-n\\\\alpha}$ , so, since $x_{1}+y_{1}>1$ and $A>1$ , both of these numbers are divisible by $p$ ; moreover, $x_{1}+y_{1}=p^{\\\\beta}$ for some natural number $\\\\beta$ .', 'Since $A$ is divisible by $p$ and $x_{1}$ is relatively prime to $p$ , it follows that $n$ is divisible by $p$ .', 'If $n$ is odd, let $d$ be the smallest odd prime that does not divide $n$ .', 'The number $d n$ contains exactly one more prime factor than $n$ .', 'Because $m\\\\equiv-1$ (mod 3), there exists an odd prime $p$ such that $p\\\\equiv-1$ (mod 3) and $p|m$ .', 'To each number, associate the triple $(x_{2},x_{3},x_{5})$ recording the parity of the exponents of 2, 3, and 5 in its prime factorization.', 'The values are $k=(p+1)^{2}/4$ for $p$ odd (and none for $p=2$ ).']"
        ],
        [
         "Quadratic Residues",
         "['If $n$ is even, then $p\\\\equiv3$ (mod 4) and $\\\\left(\\\\frac{-1}{p}\\\\right)=1$ , a contradiction.', 'If $n$ is odd, then $\\\\left(\\\\frac{-2}{p}\\\\right)=1$ and we get $(-1)^{\\\\frac{p^{2}-1}{8}}(-1)^{\\\\frac{p-1}{2}}=1$ , again a contradiction.', 'It remains to see whether $\\\\left(\\\\frac{3}{q}\\\\right)=-1$ .', 'Note that $(p/3)=(-1/3)=-1$ .', 'Using the Legendre symbol: $\\\\left(\\\\frac{5}{p}\\\\right) = \\\\left(\\\\frac{p}{5}\\\\right)$ by quadratic reciprocity.', 'For prime $p \\\\equiv 1 \\\\mod 4$, $-1$ is a quadratic residue modulo $p$.', 'The equation $x^2 \\\\equiv -1 \\\\mod p$ has solutions if and only if $p \\\\equiv 1 \\\\mod 4$.', 'If $p \\\\equiv 3 \\\\mod 4$, then $\\\\left(\\\\frac{-3}{p}\\\\right) = \\\\left(\\\\frac{p}{3}\\\\right)$.', 'By Euler’s criterion, $a^{(p-1)/2} \\\\equiv \\\\left(\\\\frac{a}{p}\\\\right) \\\\mod p$.', 'The number of quadratic residues modulo a prime $p$ is $(p-1)/2$.']"
        ],
        [
         "Pigeonhole Principle",
         "['Let $S$ be the set of nonnegative integers less than $10^{n}$ whose decimal digits are all 0 or 1. Since $|S|=2^{n}>k$ , we can find two elements $a<b$ of $S$ which are congruent modulo $k$ , and $b-a$ only has the digits 8, 9, 0, 1 in its decimal representation.', 'It suffices to take 25 such numbers.', 'Observe that from any 2001 consecutive natural numbers, at least one is a term of the sequence.', 'Among any 13 integers, there exist two whose difference is divisible by 12.', 'In any set of 52 integers, two must have the same remainder modulo 51.', 'For seven distinct real numbers, two will satisfy $0 < \\\\frac{a - b}{1 + ab} < 1$.', 'Given 10 points in a unit square, some two are at most $\\\\sqrt{2}/3$ apart.', 'Any subset of 55 numbers from 1 to 100 contains two numbers differing by 9.', 'In a sequence of $n^2+1$ distinct numbers, there exists a monotonic subsequence of length $n+1$.', 'Among 367 people, at least two share a birthday by the pigeonhole principle.']"
        ],
        [
         "Chinese Remainder Theorem",
         "['Solving $x \\\\equiv 2 \\\\mod 3$ and $x \\\\equiv 3 \\\\mod 5$ gives $x \\\\equiv 8 \\\\mod 15$.', 'If $a \\\\equiv b \\\\mod m$ and $a \\\\equiv b \\\\mod n$ with $\\\\gcd(m,n)=1$, then $a \\\\equiv b \\\\mod mn$.', 'The system $x \\\\equiv 1 \\\\mod 4$, $x \\\\equiv 2 \\\\mod 7$ has a unique solution modulo 28.', 'Using CRT to combine residues modulo 3 and 5 to find solutions modulo 15.', 'For pairwise coprime moduli, the system of congruences has a unique solution modulo the product.', 'CRT implies $\\\\mathbb{Z}/mn\\\\mathbb{Z} \\\\cong \\\\mathbb{Z}/m\\\\mathbb{Z} \\\\times \\\\mathbb{Z}/n\\\\mathbb{Z}$ when $\\\\gcd(m,n)=1$.', 'To solve $x^2 \\\\equiv 1 \\\\mod 24$, solve modulo 3 and 8, then combine solutions.', 'CRT allows reconstruction of integers from their residues modulo prime powers.', 'The number of solutions to $x \\\\equiv a \\\\mod m$ and $x \\\\equiv b \\\\mod n$ is 1 if $\\\\gcd(m,n)=1$.', 'Using CRT to find a number congruent to 1 mod 2, 2 mod 3, and 3 mod 5.']"
        ],
        [
         "Diophantine Equations",
         "['Solving $3x + 5y = 1$ using the extended Euclidean algorithm.', 'Find all integer solutions to $x^2 + y^2 = z^2$ (Pythagorean triples).', 'The equation $x^n + y^n = z^n$ has no nontrivial solutions for $n > 2$ (Fermat’s Last Theorem).', 'Using substitution to solve $2x + 3y = 7$ for integers $x, y$.', 'The Pell equation $x^2 - 2y^2 = 1$ has infinitely many solutions.', 'Parametrizing solutions to $x^2 - y^2 = N$ as $(x+y)(x-y) = N$.', 'For $ax + by = c$, solutions exist iff $\\\\gcd(a,b)$ divides $c$.', 'The equation $x^2 + y^2 = 4z + 3$ has no integer solutions.', 'Finding all primes $p$ such that $p = x^2 + 2y^2$.', 'The only solution to $x^3 + y^3 = z^3$ in positive integers is trivial.']"
        ]
       ],
       "shape": {
        "columns": 1,
        "rows": 10
       }
      },
      "text/html": [
       "<div>\n",
       "<style scoped>\n",
       "    .dataframe tbody tr th:only-of-type {\n",
       "        vertical-align: middle;\n",
       "    }\n",
       "\n",
       "    .dataframe tbody tr th {\n",
       "        vertical-align: top;\n",
       "    }\n",
       "\n",
       "    .dataframe thead th {\n",
       "        text-align: right;\n",
       "    }\n",
       "</style>\n",
       "<table border=\"1\" class=\"dataframe\">\n",
       "  <thead>\n",
       "    <tr style=\"text-align: right;\">\n",
       "      <th></th>\n",
       "      <th>text</th>\n",
       "    </tr>\n",
       "  </thead>\n",
       "  <tbody>\n",
       "    <tr>\n",
       "      <th>Divisibility</th>\n",
       "      <td>[From (1) it follows that $A(x_{1}+y_{1})=p^{k...</td>\n",
       "    </tr>\n",
       "    <tr>\n",
       "      <th>Euler’s Theorem</th>\n",
       "      <td>[By Euler’s Theorem, $10^{\\varphi(f k)}\\equiv1...</td>\n",
       "    </tr>\n",
       "    <tr>\n",
       "      <th>Extremal Principles</th>\n",
       "      <td>[If $x\\geq3$ , $y\\geq3$ , $z\\geq3$ then $x y z...</td>\n",
       "    </tr>\n",
       "    <tr>\n",
       "      <th>Fermat’s Little Theorem</th>\n",
       "      <td>[The formula in our problem shows that the sum...</td>\n",
       "    </tr>\n",
       "    <tr>\n",
       "      <th>Modular Arithmetics</th>\n",
       "      <td>[Assume that we have a prime $p$ such that $p|...</td>\n",
       "    </tr>\n",
       "    <tr>\n",
       "      <th>Prime Numbers</th>\n",
       "      <td>[Assume that we have a prime $p$ such that $p|...</td>\n",
       "    </tr>\n",
       "    <tr>\n",
       "      <th>Quadratic Residues</th>\n",
       "      <td>[If $n$ is even, then $p\\equiv3$ (mod 4) and $...</td>\n",
       "    </tr>\n",
       "    <tr>\n",
       "      <th>Pigeonhole Principle</th>\n",
       "      <td>[Let $S$ be the set of nonnegative integers le...</td>\n",
       "    </tr>\n",
       "    <tr>\n",
       "      <th>Chinese Remainder Theorem</th>\n",
       "      <td>[Solving $x \\equiv 2 \\mod 3$ and $x \\equiv 3 \\...</td>\n",
       "    </tr>\n",
       "    <tr>\n",
       "      <th>Diophantine Equations</th>\n",
       "      <td>[Solving $3x + 5y = 1$ using the extended Eucl...</td>\n",
       "    </tr>\n",
       "  </tbody>\n",
       "</table>\n",
       "</div>"
      ],
      "text/plain": [
       "                                                                        text\n",
       "Divisibility               [From (1) it follows that $A(x_{1}+y_{1})=p^{k...\n",
       "Euler’s Theorem            [By Euler’s Theorem, $10^{\\varphi(f k)}\\equiv1...\n",
       "Extremal Principles        [If $x\\geq3$ , $y\\geq3$ , $z\\geq3$ then $x y z...\n",
       "Fermat’s Little Theorem    [The formula in our problem shows that the sum...\n",
       "Modular Arithmetics        [Assume that we have a prime $p$ such that $p|...\n",
       "Prime Numbers              [Assume that we have a prime $p$ such that $p|...\n",
       "Quadratic Residues         [If $n$ is even, then $p\\equiv3$ (mod 4) and $...\n",
       "Pigeonhole Principle       [Let $S$ be the set of nonnegative integers le...\n",
       "Chinese Remainder Theorem  [Solving $x \\equiv 2 \\mod 3$ and $x \\equiv 3 \\...\n",
       "Diophantine Equations      [Solving $3x + 5y = 1$ using the extended Eucl..."
      ]
     },
     "execution_count": 20,
     "metadata": {},
     "output_type": "execute_result"
    }
   ],
   "source": [
    "import pandas as pd\n",
    "import os\n",
    "\n",
    "df = pd.read_json(os.path.abspath(\"..\\\\..\\\\benchmark\\\\benchmark_v2\\\\benchmark_v2.json\"))\n",
    "df"
   ]
  },
  {
   "cell_type": "code",
   "execution_count": 21,
   "id": "d5d3c985",
   "metadata": {},
   "outputs": [],
   "source": [
    "from datasets import Dataset, DatasetDict\n",
    "from sklearn.model_selection import train_test_split\n",
    "\n",
    "df = df.explode(\"text\").reset_index().rename({\"index\": \"label\"}, axis=1)\n",
    "labels = df['label'].unique()\n",
    "label_maping = {labels[i]: i for i in range(len(labels))}\n",
    "df['label'] = df.apply(lambda x: label_maping[x['label']], axis=1)\n",
    "\n",
    "train_df, test_df = train_test_split(df, test_size=0.2, random_state=1, shuffle=True)"
   ]
  },
  {
   "cell_type": "code",
   "execution_count": 22,
   "id": "d55bfe08",
   "metadata": {},
   "outputs": [],
   "source": [
    "from transformers import BertTokenizer, BertModel\n",
    "import torch\n",
    "\n",
    "tokenizer = BertTokenizer.from_pretrained('tbs17/MathBERT', output_hidden_states=True)\n",
    "model = BertModel.from_pretrained(\"tbs17/MathBERT\")\n",
    "device = torch.device(\"cuda\")\n",
    "model = model.to(device)"
   ]
  },
  {
   "cell_type": "markdown",
   "id": "8f445d99",
   "metadata": {},
   "source": [
    "## GPT guide"
   ]
  },
  {
   "cell_type": "code",
   "execution_count": 23,
   "id": "38851adb",
   "metadata": {},
   "outputs": [],
   "source": [
    "from transformers import BertTokenizer, BertModel\n",
    "import torch\n",
    "import torch.nn as nn\n",
    "import torch.optim as optim\n",
    "import random\n",
    "\n",
    "tokenizer = BertTokenizer.from_pretrained('tbs17/MathBERT', output_hidden_states=True)\n",
    "bert = BertModel.from_pretrained(\"tbs17/MathBERT\")\n",
    "device = torch.device(\"cuda\" if torch.cuda.is_available() else \"cpu\")\n",
    "bert = bert.to(device)"
   ]
  },
  {
   "cell_type": "code",
   "execution_count": 24,
   "id": "2eecc69a",
   "metadata": {},
   "outputs": [],
   "source": [
    "clusters = {\n",
    "    0: [\"Use distributive law\", \"Apply a(b + c) = ab + ac\"],\n",
    "    1: [\"Subtract both sides\", \"Eliminate by subtraction\"],\n",
    "    2: [\"Combine like terms\", \"Group similar variables\"],\n",
    "    # ... up to cluster 9\n",
    "}"
   ]
  },
  {
   "cell_type": "code",
   "execution_count": 25,
   "id": "b96b4bcf",
   "metadata": {},
   "outputs": [],
   "source": [
    "def make_pairs(clusters):\n",
    "    pairs = []\n",
    "    labels = []\n",
    "\n",
    "    # Positive pairs (same cluster)\n",
    "    for cluster in clusters.values():\n",
    "        for i in range(len(cluster)):\n",
    "            for j in range(i + 1, len(cluster)):\n",
    "                pairs.append((cluster[i], cluster[j]))\n",
    "                labels.append(1)\n",
    "\n",
    "    # Negative pairs (different clusters)\n",
    "    cluster_keys = list(clusters.keys())\n",
    "    for _ in range(len(pairs)):\n",
    "        c1, c2 = random.sample(cluster_keys, 2)\n",
    "        t1 = random.choice(clusters[c1])\n",
    "        t2 = random.choice(clusters[c2])\n",
    "        pairs.append((t1, t2))\n",
    "        labels.append(0)\n",
    "    \n",
    "    return pairs, labels\n"
   ]
  },
  {
   "cell_type": "code",
   "execution_count": 26,
   "id": "cf8e6b83",
   "metadata": {},
   "outputs": [],
   "source": [
    "def encode(text, tokenizer):\n",
    "    tokens = tokenizer(text, return_tensors='pt', truncation=True, padding=True)\n",
    "    tokens = {k: v.to(device) for k, v in tokens.items()}\n",
    "    with torch.no_grad():\n",
    "        outputs = bert(**tokens)\n",
    "    return outputs.last_hidden_state[:, 0, :]  # [CLS] token\n"
   ]
  },
  {
   "cell_type": "code",
   "execution_count": 27,
   "id": "a33546d9",
   "metadata": {},
   "outputs": [],
   "source": [
    "class ContrastiveModel(nn.Module):\n",
    "    def __init__(self, encoder, tokenizer):\n",
    "        super().__init__()\n",
    "        self.encoder = encoder\n",
    "        self.tokenizer = tokenizer\n",
    "        self.projection = nn.Linear(encoder.config.hidden_size, 128)\n",
    "\n",
    "    def forward(self, x1, x2):\n",
    "        z1 = self.projection(encode(x1, self.tokenizer))\n",
    "        z2 = self.projection(encode(x2, self.tokenizer))\n",
    "        return z1, z2\n"
   ]
  },
  {
   "cell_type": "code",
   "execution_count": null,
   "id": "2cd6a627",
   "metadata": {},
   "outputs": [],
   "source": []
  },
  {
   "cell_type": "code",
   "execution_count": 28,
   "id": "4a946a52",
   "metadata": {},
   "outputs": [],
   "source": [
    "def train(model, clusters, epochs=2):\n",
    "    pairs, labels = make_pairs(clusters)\n",
    "    criterion = nn.CosineEmbeddingLoss(margin=0.5)\n",
    "    optimizer = optim.Adam(model.parameters(), lr=2e-5)\n",
    "    model.train()\n",
    "\n",
    "    for epoch in range(epochs):\n",
    "        total_loss = 0\n",
    "        for (t1, t2), label in zip(pairs, labels):\n",
    "            z1, z2 = model(t1, t2)\n",
    "            target = torch.tensor([1.0 if label == 1 else -1.0], device=device)\n",
    "            loss = criterion(z1, z2, target)\n",
    "            loss.backward()\n",
    "            optimizer.step()\n",
    "            optimizer.zero_grad()\n",
    "            total_loss += loss.item()\n",
    "        print(f\"Epoch {epoch+1}, Loss: {total_loss:.4f}\")"
   ]
  },
  {
   "cell_type": "code",
   "execution_count": 29,
   "id": "357d99ba",
   "metadata": {},
   "outputs": [
    {
     "name": "stderr",
     "output_type": "stream",
     "text": [
      "Asking to truncate to max_length but no maximum length is provided and the model has no predefined maximum length. Default to no truncation.\n"
     ]
    },
    {
     "name": "stdout",
     "output_type": "stream",
     "text": [
      "Epoch 1, Loss: 1.3656\n",
      "Epoch 2, Loss: 1.3348\n"
     ]
    }
   ],
   "source": [
    "model = ContrastiveModel(bert, tokenizer).to(device)\n",
    "train(model, clusters)"
   ]
  },
  {
   "cell_type": "code",
   "execution_count": 30,
   "id": "a7f518eb",
   "metadata": {},
   "outputs": [],
   "source": [
    "import torch\n",
    "import numpy as np\n",
    "from sklearn.cluster import KMeans\n",
    "from sklearn.metrics import adjusted_rand_score, normalized_mutual_info_score\n",
    "from collections import Counter\n",
    "\n",
    "def get_embeddings(model, tokenizer, texts, device, batch_size=32):\n",
    "    \"\"\"\n",
    "    Returns a (N, D) array of projection-head embeddings for a list of texts.\n",
    "    \"\"\"\n",
    "    model.eval()\n",
    "    embeds = []\n",
    "    with torch.no_grad():\n",
    "        for i in range(0, len(texts), batch_size):\n",
    "            batch = texts[i:i+batch_size]\n",
    "            toks  = tokenizer(batch,\n",
    "                              return_tensors='pt',\n",
    "                              padding=True,\n",
    "                              truncation=True).to(device)\n",
    "            # get [CLS] hidden state\n",
    "            h = model.encoder(**toks).last_hidden_state[:, 0, :]    # (B, H)\n",
    "            z = model.projection(h)                                # (B, D)\n",
    "            embeds.append(z.cpu().numpy())\n",
    "    return np.vstack(embeds)  # (N, D)\n",
    "\n",
    "def test_clustering_performance(model, tokenizer, clusters, device):\n",
    "    \"\"\"\n",
    "    clusters: dict[int, List[str]] mapping true cluster id → list of texts\n",
    "    Returns: dict with ARI, NMI, Purity\n",
    "    \"\"\"\n",
    "    # 1) flatten texts & labels\n",
    "    texts, true_labels = [], []\n",
    "    for cid, docs in clusters.items():\n",
    "        texts.extend(docs)\n",
    "        true_labels.extend([cid] * len(docs))\n",
    "    true_labels = np.array(true_labels)\n",
    "\n",
    "    # 2) get embeddings\n",
    "    X = get_embeddings(model, tokenizer, texts, device)\n",
    "\n",
    "    # 3) K-Means\n",
    "    kmeans = KMeans(n_clusters=len(clusters), random_state=42)\n",
    "    pred_labels = kmeans.fit_predict(X)\n",
    "\n",
    "    # 4) metrics\n",
    "    ari = adjusted_rand_score(true_labels, pred_labels)\n",
    "    nmi = normalized_mutual_info_score(true_labels, pred_labels)\n",
    "\n",
    "    # 5) purity\n",
    "    # for each predicted cluster, find the most common true label\n",
    "    total = len(texts)\n",
    "    correct = 0\n",
    "    for pid in np.unique(pred_labels):\n",
    "        mask = pred_labels == pid\n",
    "        true_in_cluster = true_labels[mask]\n",
    "        most_common = Counter(true_in_cluster).most_common(1)[0][1]\n",
    "        correct += most_common\n",
    "    purity = correct / total\n",
    "\n",
    "    return {\n",
    "        \"ARI\": ari,\n",
    "        \"NMI\": nmi,\n",
    "        \"Purity\": purity\n",
    "    }\n"
   ]
  },
  {
   "cell_type": "code",
   "execution_count": 31,
   "id": "335c9896",
   "metadata": {},
   "outputs": [],
   "source": [
    "import numpy as np\n",
    "import torch\n",
    "from sklearn.cluster import KMeans\n",
    "from sklearn.metrics import adjusted_rand_score, normalized_mutual_info_score\n",
    "from sklearn.decomposition import PCA\n",
    "from collections import Counter\n",
    "import matplotlib.pyplot as plt\n",
    "\n",
    "def evaluate_and_visualize(model, tokenizer, clusters, device,\n",
    "                           batch_size=32, pca_components=2,\n",
    "                           random_state=42):\n",
    "    \"\"\"\n",
    "    clusters: dict[int, List[str]] mapping true cluster → list of texts\n",
    "    Returns:\n",
    "      metrics: dict with 'ARI', 'NMI', 'Purity'\n",
    "      fig: matplotlib.figure.Figure showing 2D scatter of embeddings\n",
    "    \"\"\"\n",
    "    # 1) flatten texts & labels\n",
    "    texts, true_labels = [], []\n",
    "    for cid, docs in clusters.items():\n",
    "        texts.extend(docs)\n",
    "        true_labels.extend([cid] * len(docs))\n",
    "    true_labels = np.array(true_labels)\n",
    "\n",
    "    # 2) get embeddings (using your get_embeddings helper)\n",
    "    X = get_embeddings(model, tokenizer, texts, device, batch_size)  # shape (N, D)\n",
    "\n",
    "    # 3) K-Means clustering\n",
    "    kmeans = KMeans(n_clusters=len(clusters), random_state=random_state)\n",
    "    pred_labels = kmeans.fit_predict(X)\n",
    "\n",
    "    # 4) compute metrics\n",
    "    ari = adjusted_rand_score(true_labels, pred_labels)\n",
    "    nmi = normalized_mutual_info_score(true_labels, pred_labels)\n",
    "    # purity\n",
    "    total = len(texts)\n",
    "    correct = 0\n",
    "    for pid in np.unique(pred_labels):\n",
    "        mask = pred_labels == pid\n",
    "        most_common = Counter(true_labels[mask]).most_common(1)[0][1]\n",
    "        correct += most_common\n",
    "    purity = correct / total\n",
    "\n",
    "    metrics = {\"ARI\": ari, \"NMI\": nmi, \"Purity\": purity}\n",
    "\n",
    "    # 5) PCA to 2D\n",
    "    pca = PCA(n_components=pca_components, random_state=random_state)\n",
    "    coords = pca.fit_transform(X)  # shape (N, 2)\n",
    "\n",
    "    # 6) plot\n",
    "    fig, ax = plt.subplots(figsize=(6,6))\n",
    "    scatter = ax.scatter(coords[:,0], coords[:,1],\n",
    "                         c=true_labels,\n",
    "                         cmap='tab10',\n",
    "                         alpha=0.7,\n",
    "                         edgecolors='k')\n",
    "    ax.set_title(\"2D PCA of Strategy Embeddings\")\n",
    "    ax.set_xlabel(\"PC1\")\n",
    "    ax.set_ylabel(\"PC2\")\n",
    "    legend1 = ax.legend(*scatter.legend_elements(),\n",
    "                        title=\"True Cluster\",\n",
    "                        loc=\"upper right\",\n",
    "                        bbox_to_anchor=(1.25, 1))\n",
    "    ax.add_artist(legend1)\n",
    "    plt.tight_layout()\n",
    "\n",
    "    return metrics, fig\n"
   ]
  },
  {
   "cell_type": "code",
   "execution_count": 32,
   "id": "6362f6c8",
   "metadata": {},
   "outputs": [],
   "source": [
    "def visualize_interactive(model, tokenizer, clusters, device='cpu', batch_size=32, pca_components=2):\n",
    "    \"\"\"\n",
    "    Computes embeddings for each text in clusters on CPU, reduces to 2D, and\n",
    "    returns an interactive Plotly scatter plot with hover information.\n",
    "    \"\"\"\n",
    "    # 1) flatten texts & labels\n",
    "    texts, true_labels = [], []\n",
    "    for cid, docs in clusters.items():\n",
    "        texts.extend(docs)\n",
    "        true_labels.extend([cid] * len(docs))\n",
    "    true_labels = np.array(true_labels)\n",
    "    \n",
    "    # 2) get embeddings (reuse existing helper, forcing CPU)\n",
    "    X = get_embeddings(model, tokenizer, texts, device='cpu', batch_size=batch_size)\n",
    "    \n",
    "    # 3) PCA to 2D\n",
    "    pca = PCA(n_components=pca_components, random_state=42)\n",
    "    coords = pca.fit_transform(X)  # shape (N, 2)\n",
    "    \n",
    "    # 4) build dataframe for Plotly\n",
    "    df = pd.DataFrame({\n",
    "        'PC1': coords[:, 0],\n",
    "        'PC2': coords[:, 1],\n",
    "        'cluster': true_labels.astype(str),\n",
    "        'text': texts\n",
    "    })\n",
    "    \n",
    "    # 5) create interactive plot\n",
    "    fig = px.scatter(\n",
    "        df,\n",
    "        x='PC1',\n",
    "        y='PC2',\n",
    "        color='cluster',\n",
    "        hover_data=['text'],\n",
    "        title=\"Interactive 2D PCA of Strategy Embeddings\"\n",
    "    )\n",
    "    fig.update_layout(\n",
    "        xaxis_title=\"Principal Component 1\",\n",
    "        yaxis_title=\"Principal Component 2\",\n",
    "        legend_title=\"True Cluster\"\n",
    "    )\n",
    "    fig.show()\n",
    "    return fig"
   ]
  },
  {
   "cell_type": "code",
   "execution_count": 33,
   "id": "9d708422",
   "metadata": {},
   "outputs": [
    {
     "name": "stdout",
     "output_type": "stream",
     "text": [
      "ARI:    -0.0606\n",
      "NMI:    0.4124\n",
      "Purity: 0.6667\n"
     ]
    },
    {
     "name": "stderr",
     "output_type": "stream",
     "text": [
      "C:\\Users\\mokrota\\AppData\\Local\\Temp\\ipykernel_26268\\1963297986.py:5: UserWarning: FigureCanvasAgg is non-interactive, and thus cannot be shown\n",
      "  fig.show()   # or plt.show()\n"
     ]
    },
    {
     "data": {
      "image/png": "[encoded data removed]",
      "text/plain": [
       "<Figure size 600x600 with 1 Axes>"
      ]
     },
     "metadata": {},
     "output_type": "display_data"
    }
   ],
   "source": [
    "metrics, fig = evaluate_and_visualize(model, tokenizer, clusters, device)\n",
    "print(f\"ARI:    {metrics['ARI']:.4f}\")\n",
    "print(f\"NMI:    {metrics['NMI']:.4f}\")\n",
    "print(f\"Purity: {metrics['Purity']:.4f}\")\n",
    "fig.show()   # or plt.show()\n"
   ]
  },
  {
   "cell_type": "markdown",
   "id": "16e95434",
   "metadata": {},
   "source": [
    "## Try for my model"
   ]
  },
  {
   "cell_type": "code",
   "execution_count": 34,
   "id": "31f027af",
   "metadata": {},
   "outputs": [],
   "source": [
    "tokenizer = BertTokenizer.from_pretrained('tbs17/MathBERT', output_hidden_states=True)\n",
    "bert = BertModel.from_pretrained(\"tbs17/MathBERT\")\n",
    "device = torch.device(\"cuda\" if torch.cuda.is_available() else \"cpu\")\n",
    "bert = bert.to(device)"
   ]
  },
  {
   "cell_type": "code",
   "execution_count": 35,
   "id": "b2c794a9",
   "metadata": {},
   "outputs": [
    {
     "name": "stdout",
     "output_type": "stream",
     "text": [
      "20\n"
     ]
    }
   ],
   "source": [
    "train_clusters = {}\n",
    "for row in train_df.iterrows():\n",
    "    label = row[1]['label']\n",
    "    text = row[1]['text']\n",
    "    train_clusters[label] = train_clusters.get(label, [])\n",
    "    train_clusters[label].append(text)\n",
    "\n",
    "eval_clusters = {}\n",
    "print(len(test_df))\n",
    "for row in test_df.iterrows():\n",
    "    label = row[1]['label']\n",
    "    text = row[1]['text']\n",
    "    eval_clusters[label] = test_df.get(label, [])\n",
    "    eval_clusters[label].append(text)"
   ]
  },
  {
   "cell_type": "code",
   "execution_count": 36,
   "id": "c3db9008",
   "metadata": {},
   "outputs": [
    {
     "name": "stderr",
     "output_type": "stream",
     "text": [
      "Asking to truncate to max_length but no maximum length is provided and the model has no predefined maximum length. Default to no truncation.\n"
     ]
    },
    {
     "name": "stdout",
     "output_type": "stream",
     "text": [
      "Epoch 1, Loss: 134.8528\n",
      "Epoch 2, Loss: 144.3203\n",
      "Epoch 3, Loss: 145.6196\n",
      "Epoch 4, Loss: 135.2529\n",
      "Epoch 5, Loss: 136.4865\n",
      "Epoch 6, Loss: 131.0691\n",
      "Epoch 7, Loss: 129.9952\n",
      "Epoch 8, Loss: 125.9187\n",
      "Epoch 9, Loss: 118.3917\n",
      "Epoch 10, Loss: 117.8434\n"
     ]
    }
   ],
   "source": [
    "model = ContrastiveModel(bert, tokenizer).to(device)\n",
    "train(model, train_clusters, epochs=10)"
   ]
  },
  {
   "cell_type": "code",
   "execution_count": 37,
   "id": "29467acc",
   "metadata": {},
   "outputs": [
    {
     "name": "stdout",
     "output_type": "stream",
     "text": [
      "ARI:    1.0000\n",
      "NMI:    1.0000\n",
      "Purity: 1.0000\n"
     ]
    },
    {
     "name": "stderr",
     "output_type": "stream",
     "text": [
      "C:\\Users\\mokrota\\AppData\\Local\\Temp\\ipykernel_26268\\356622574.py:5: UserWarning: FigureCanvasAgg is non-interactive, and thus cannot be shown\n",
      "  fig.show()\n"
     ]
    },
    {
     "data": {
      "image/png": "[encoded data removed]",
      "text/plain": [
       "<Figure size 600x600 with 1 Axes>"
      ]
     },
     "metadata": {},
     "output_type": "display_data"
    },
    {
     "data": {
      "image/png": "[encoded data removed]",
      "text/plain": [
       "<Figure size 640x480 with 1 Axes>"
      ]
     },
     "metadata": {},
     "output_type": "display_data"
    }
   ],
   "source": [
    "metrics, fig = evaluate_and_visualize(model, tokenizer, eval_clusters, device)\n",
    "print(f\"ARI:    {metrics['ARI']:.4f}\")\n",
    "print(f\"NMI:    {metrics['NMI']:.4f}\")\n",
    "print(f\"Purity: {metrics['Purity']:.4f}\")\n",
    "fig.show()\n",
    "\n",
    "fig, ax = plt.subplots()\n",
    "metric_names = list(metrics.keys())\n",
    "metric_values = [metrics[name] for name in metric_names]\n",
    "\n",
    "bars = ax.bar(metric_names, metric_values, color=['skyblue', 'salmon', 'limegreen'])\n",
    "\n",
    "# Set limits assuming metrics are all in [0, 1]\n",
    "ax.set_ylim(0, 1)\n",
    "ax.set_ylabel(\"Score\")\n",
    "ax.set_title(\"Clustering Metrics\")\n",
    "\n",
    "# Annotate bars with values\n",
    "for bar in bars:\n",
    "    height = bar.get_height()\n",
    "    ax.annotate(f'{height:.4f}',\n",
    "                xy=(bar.get_x() + bar.get_width() / 2, height),\n",
    "                xytext=(0, 5),  # Offset label above the bar\n",
    "                textcoords=\"offset points\",\n",
    "                ha='center', va='bottom')\n",
    "\n",
    "plt.tight_layout()\n",
    "plt.show()\n"
   ]
  },
  {
   "cell_type": "code",
   "execution_count": 38,
   "id": "7395cee9",
   "metadata": {},
   "outputs": [
    {
     "name": "stdout",
     "output_type": "stream",
     "text": [
      "ARI:    0.2692\n",
      "NMI:    0.5366\n",
      "Purity: 0.5625\n"
     ]
    },
    {
     "name": "stderr",
     "output_type": "stream",
     "text": [
      "C:\\Users\\mokrota\\AppData\\Local\\Temp\\ipykernel_26268\\342342636.py:5: UserWarning: FigureCanvasAgg is non-interactive, and thus cannot be shown\n",
      "  fig.show()\n"
     ]
    },
    {
     "data": {
      "image/png": "[encoded data removed]",
      "text/plain": [
       "<Figure size 600x600 with 1 Axes>"
      ]
     },
     "metadata": {},
     "output_type": "display_data"
    },
    {
     "data": {
      "image/png": "[encoded data removed]",
      "text/plain": [
       "<Figure size 640x480 with 1 Axes>"
      ]
     },
     "metadata": {},
     "output_type": "display_data"
    }
   ],
   "source": [
    "metrics, fig = evaluate_and_visualize(model, tokenizer, train_clusters, device)\n",
    "print(f\"ARI:    {metrics['ARI']:.4f}\")\n",
    "print(f\"NMI:    {metrics['NMI']:.4f}\")\n",
    "print(f\"Purity: {metrics['Purity']:.4f}\")\n",
    "fig.show()\n",
    "\n",
    "fig, ax = plt.subplots()\n",
    "metric_names = list(metrics.keys())\n",
    "metric_values = [metrics[name] for name in metric_names]\n",
    "\n",
    "bars = ax.bar(metric_names, metric_values, color=['skyblue', 'salmon', 'limegreen'])\n",
    "\n",
    "# Set limits assuming metrics are all in [0, 1]\n",
    "ax.set_ylim(0, 1)\n",
    "ax.set_ylabel(\"Score\")\n",
    "ax.set_title(\"Clustering Metrics\")\n",
    "\n",
    "# Annotate bars with values\n",
    "for bar in bars:\n",
    "    height = bar.get_height()\n",
    "    ax.annotate(f'{height:.4f}',\n",
    "                xy=(bar.get_x() + bar.get_width() / 2, height),\n",
    "                xytext=(0, 5),  # Offset label above the bar\n",
    "                textcoords=\"offset points\",\n",
    "                ha='center', va='bottom')\n",
    "\n",
    "plt.tight_layout()\n",
    "plt.show()\n"
   ]
  }
 ],
 "metadata": {
  "kernelspec": {
   "display_name": ".venv",
   "language": "python",
   "name": "python3"
  },
  "language_info": {
   "codemirror_mode": {
    "name": "ipython",
    "version": 3
   },
   "file_extension": ".py",
   "mimetype": "text/x-python",
   "name": "python",
   "nbconvert_exporter": "python",
   "pygments_lexer": "ipython3",
   "version": "3.12.10"
  }
 },
 "nbformat": 4,
 "nbformat_minor": 5
}
