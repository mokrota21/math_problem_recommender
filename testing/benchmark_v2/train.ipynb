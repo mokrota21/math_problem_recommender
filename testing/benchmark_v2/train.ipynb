{
 "cells": [
  {
   "cell_type": "code",
   "execution_count": 2,
   "id": "733e0bef",
   "metadata": {},
   "outputs": [
    {
     "data": {
      "application/vnd.microsoft.datawrangler.viewer.v0+json": {
       "columns": [
        {
         "name": "index",
         "rawType": "object",
         "type": "string"
        },
        {
         "name": "text",
         "rawType": "object",
         "type": "string"
        }
       ],
       "conversionMethod": "pd.DataFrame",
       "ref": "865503e9-1ce9-4891-8512-d15de487137d",
       "rows": [
        [
         "Chinese Remainder Theorem",
         "['Solving $x \\\\equiv 2 \\\\mod 3$ and $x \\\\equiv 3 \\\\mod 5$ gives $x \\\\equiv 8 \\\\mod 15$.', 'If $a \\\\equiv b \\\\mod m$ and $a \\\\equiv b \\\\mod n$ with $\\\\gcd(m,n)=1$, then $a \\\\equiv b \\\\mod mn$.', 'The system $x \\\\equiv 1 \\\\mod 4$, $x \\\\equiv 2 \\\\mod 7$ has a unique solution modulo 28.', 'Using CRT to combine residues modulo 3 and 5 to find solutions modulo 15.', 'For pairwise coprime moduli, the system of congruences has a unique solution modulo the product.', 'CRT implies $\\\\mathbb{Z}/mn\\\\mathbb{Z} \\\\cong \\\\mathbb{Z}/m\\\\mathbb{Z} \\\\times \\\\mathbb{Z}/n\\\\mathbb{Z}$ when $\\\\gcd(m,n)=1$.', 'To solve $x^2 \\\\equiv 1 \\\\mod 24$, solve modulo 3 and 8, then combine solutions.', 'CRT allows reconstruction of integers from their residues modulo prime powers.', 'The number of solutions to $x \\\\equiv a \\\\mod m$ and $x \\\\equiv b \\\\mod n$ is 1 if $\\\\gcd(m,n)=1$.', 'Using CRT to find a number congruent to 1 mod 2, 2 mod 3, and 3 mod 5.']"
        ],
        [
         "Diophantine Equations",
         "['Solving $3x + 5y = 1$ using the extended Euclidean algorithm.', 'Find all integer solutions to $x^2 + y^2 = z^2$ (Pythagorean triples).', 'The equation $x^n + y^n = z^n$ has no nontrivial solutions for $n > 2$ (Fermat’s Last Theorem).', 'Using substitution to solve $2x + 3y = 7$ for integers $x, y$.', 'The Pell equation $x^2 - 2y^2 = 1$ has infinitely many solutions.', 'Parametrizing solutions to $x^2 - y^2 = N$ as $(x+y)(x-y) = N$.', 'For $ax + by = c$, solutions exist iff $\\\\gcd(a,b)$ divides $c$.', 'The equation $x^2 + y^2 = 4z + 3$ has no integer solutions.', 'Finding all primes $p$ such that $p = x^2 + 2y^2$.', 'The only solution to $x^3 + y^3 = z^3$ in positive integers is trivial.']"
        ],
        [
         "Divisibility",
         "['From (1) it follows that $A(x_{1}+y_{1})=p^{k-n\\\\alpha}$ , so, since $x_{1}+y_{1}>1$ and $A>1$ , both of these numbers are divisible by $p$ ; moreover, $x_{1}+y_{1}=p^{\\\\beta}$ for some natural number $\\\\beta$ .', 'Since $A$ is divisible by $p$ and $x_{1}$ is relatively prime to $p$ , it follows that $n$ is divisible by $p$ .', 'In fact, every integer that is not divisible by 10 divides some element of $X$', 'Therefore $m(10^{(d+1)\\\\varphi(f k)}-1)/(10^{d+1}-1)$ is divisible by $2^{p}k$', 'Note that 2 divides $2^{\\\\pi}+2$ for all $n$ .', 'Because $m\\\\equiv-1$ (mod 3), there exists an odd prime $p$ such that $p\\\\equiv-1$ (mod 3) and $p|m$ .', \"If a prime $p$ divides $ab$, then $p$ divides $a$ or $p$ divides $b$ (Euclid's lemma).\", 'For integers $a,b$, if $a$ divides $b$ and $b$ divides $a$, then $a = \\\\pm b$.', 'Any integer $n > 1$ has a prime divisor.', 'Using the divisibility rule for 9: a number is divisible by 9 if the sum of its digits is divisible by 9.']"
        ],
        [
         "Euler’s Theorem",
         "['By Euler’s Theorem, $10^{\\\\varphi(f k)}\\\\equiv1$ (mod $f k$ )', 'To compute $3^{100} \\\\mod 14$, note $\\\\varphi(14)=6$, so $3^6 \\\\equiv 1 \\\\mod 14$, hence $3^{100} \\\\equiv 3^4 \\\\mod 14$.', 'If $a \\\\equiv b \\\\mod n$ and $\\\\gcd(a,n)=1$, then $a^k \\\\equiv b^k \\\\mod n$ for $k = \\\\varphi(n)$.', 'Using Euler’s theorem to find the inverse of $a$ modulo $n$ as $a^{\\\\varphi(n)-1} \\\\mod n$.', 'Since 7 and 10 are coprime, $10^{\\\\varphi(7)} \\\\equiv 10^6 \\\\equiv 1 \\\\mod 7$.', 'Applying Euler’s theorem to simplify $2^{103} \\\\mod 13$, where $\\\\varphi(13)=12$, so $2^{12} \\\\equiv 1 \\\\mod 13$.', 'Given $\\\\gcd(m,n)=1$, $m^{\\\\varphi(n)} + n^{\\\\varphi(m)} \\\\equiv 1 + 1 \\\\equiv 2 \\\\mod mn$.', 'In solving $x \\\\equiv a^b \\\\mod m$, reduce the exponent $b$ modulo $\\\\varphi(m)$ if $\\\\gcd(a,m)=1$.', 'Euler’s theorem implies the period of $1/7$ in decimal repeats every 6 digits because $\\\\varphi(7)=6$.', 'For $\\\\gcd(a,n)=1$, $a^{\\\\varphi(n)} \\\\equiv 1 \\\\mod n$ by Euler’s theorem.']"
        ],
        [
         "Extremal Principles",
         "['If $x\\\\geq3$ , $y\\\\geq3$ , $z\\\\geq3$ then $x y z\\\\geq3y z$ , $x y z\\\\geq3x z$ , $x y z\\\\geq3x y$ .', 'Let $a_{2}$ be the maximum integer such that $2^{a_{2}}|a$.', 'Find $a,b$ such that $\\\\operatorname*{min}\\\\{a_{5}a+b_{5}b,a_{2}a+b_{2}b\\\\}=98$ and $a b$ is minimal.', 'If $n$ is odd, let $d$ be the smallest odd prime that does not divide $n$ .', 'The minimal positive integer $k$ such that $k!$ is divisible by $n$ is the maximal prime power in $n$.', 'By the pigeonhole principle, among any five integers, two will have a difference divisible by 4.', 'The maximum value of $\\\\gcd(n, n+1)$ is 1, since consecutive integers are coprime.', 'For the smallest $n$ where $2^n \\\\equiv 1 \\\\mod 7$, trial shows $n=3$.', 'The minimal solution to $x^2 - 2y^2 = 1$ is $(3,2)$ by testing small integers.', 'In any set of 10 integers, there exist two whose difference is divisible by 9.']"
        ],
        [
         "Fermat’s Little Theorem",
         "['The formula in our problem shows that the sum of the quotients obtained when $k^{p}{-}k$ is divided by $p$ (Fermat’s Little Theorem) is congruent to $\\\\frac{p+1}{2}$ modulo $p$.', 'By Fermat’s Little Theorem, $a^{p-1} \\\\equiv 1 \\\\mod p$ for $\\\\gcd(a,p)=1$.', 'To prove $p$ divides $1^{p-1} + 2^{p-1} + \\\\dots + (p-1)^{p-1} \\\\equiv -1 \\\\mod p$.', 'If $p$ is prime, then $(p-1)! \\\\equiv -1 \\\\mod p$ by Wilson’s theorem, related to Fermat’s theorem.', 'Using Fermat’s theorem: $3^{10} \\\\equiv 1 \\\\mod 11$, so $3^{100} \\\\equiv 1^{10} \\\\equiv 1 \\\\mod 11$.', 'For prime $p$, $a^p \\\\equiv a \\\\mod p$ holds for all integers $a$.', 'Since $p \\\\nmid a$, $a^{p-2} \\\\equiv a^{-1} \\\\mod p$ by Fermat’s Little Theorem.', 'Fermat’s theorem implies $2^{6} \\\\equiv 1 \\\\mod 7$ because $7$ is prime.', 'To solve $5x \\\\equiv 1 \\\\mod 7$, multiply both sides by $5^{5} \\\\equiv 3 \\\\mod 7$ (since $5^{6} \\\\equiv 1$).', 'If $p$ is prime, $1 + 2 + \\\\dots + (p-1) \\\\equiv 0 \\\\mod p$ by Fermat’s theorem.']"
        ],
        [
         "Modular Arithmetics",
         "['Assume that we have a prime $p$ such that $p|2^{n}+1$ and $p\\\\equiv-1$ (mod 8)', 'If $n$ is even, then $p\\\\equiv3$ (mod 4) and $\\\\left(\\\\frac{-1}{p}\\\\right)=1$ , a contradiction.', 'If $n$ is odd, then $\\\\left(\\\\frac{-2}{p}\\\\right)=1$ and we get $(-1)^{\\\\frac{p^{2}-1}{8}}(-1)^{\\\\frac{p-1}{2}}=1$ , again a contradiction.', 'Since $|S|=2^{n}>k$ , we can find two elements $a<b$ of $S$ which are congruent modulo $k$ , and $b-a$ only has the digits 8, 9, 0, 1 in its decimal representation.', 'Then we can choose $a_{2k}$ so that $x+a_{2k}10^{2k}\\\\equiv0$ (mod $4^{k+1}$ ) since $10^{2k}\\\\equiv0\\\\pmod{4^{k}}$ )', 'Also, 11 divides $2^{n}+2$ if and only if $n\\\\equiv6$ (mod 10), and 43 divides $2^{n}+2$ if and only if $n\\\\equiv8$ (mod 14).', 'Observe that for any integer $x$ we have $x^{4}=16k$ or $x^{4}=16k+1$ for some $k$.', 'Using the Chinese Remainder Theorem to solve $x \\\\equiv 2 \\\\mod 3$ and $x \\\\equiv 3 \\\\mod 5$ yields $x \\\\equiv 8 \\\\mod 15$.', 'If $a \\\\equiv b \\\\mod m$ and $a \\\\equiv b \\\\mod n$ with $\\\\gcd(m,n)=1$, then $a \\\\equiv b \\\\mod mn$.', 'Wilson’s theorem states that $(p-1)! \\\\equiv -1 \\\\mod p$ for prime $p$.']"
        ],
        [
         "Pigeonhole Principle",
         "['Let $S$ be the set of nonnegative integers less than $10^{n}$ whose decimal digits are all 0 or 1. Since $|S|=2^{n}>k$ , we can find two elements $a<b$ of $S$ which are congruent modulo $k$ , and $b-a$ only has the digits 8, 9, 0, 1 in its decimal representation.', 'It suffices to take 25 such numbers.', 'Observe that from any 2001 consecutive natural numbers, at least one is a term of the sequence.', 'Among any 13 integers, there exist two whose difference is divisible by 12.', 'In any set of 52 integers, two must have the same remainder modulo 51.', 'For seven distinct real numbers, two will satisfy $0 < \\\\frac{a - b}{1 + ab} < 1$.', 'Given 10 points in a unit square, some two are at most $\\\\sqrt{2}/3$ apart.', 'Any subset of 55 numbers from 1 to 100 contains two numbers differing by 9.', 'In a sequence of $n^2+1$ distinct numbers, there exists a monotonic subsequence of length $n+1$.', 'Among 367 people, at least two share a birthday by the pigeonhole principle.']"
        ],
        [
         "Prime Numbers",
         "['Assume that we have a prime $p$ such that $p|2^{n}+1$ and $p\\\\equiv-1$ (mod 8)', 'Then $x=m x_{1}$ , $y=m y_{1}$ and by virtue of the given equation, $m^{n}(x_{1}^{n}+y_{1}^{n})=p^{k}$ , and so $m=p^{\\\\alpha}$ for some nonnegative integer $\\\\alpha$ .', 'By the condition $p>2$ , it follows that at least one of $x_{1},y_{1}$ is greater than $1$ , so since $n>1$ , $A>1$ .', 'From (1) it follows that $A(x_{1}+y_{1})=p^{k-n\\\\alpha}$ , so, since $x_{1}+y_{1}>1$ and $A>1$ , both of these numbers are divisible by $p$ ; moreover, $x_{1}+y_{1}=p^{\\\\beta}$ for some natural number $\\\\beta$ .', 'Since $A$ is divisible by $p$ and $x_{1}$ is relatively prime to $p$ , it follows that $n$ is divisible by $p$ .', 'If $n$ is odd, let $d$ be the smallest odd prime that does not divide $n$ .', 'The number $d n$ contains exactly one more prime factor than $n$ .', 'Because $m\\\\equiv-1$ (mod 3), there exists an odd prime $p$ such that $p\\\\equiv-1$ (mod 3) and $p|m$ .', 'To each number, associate the triple $(x_{2},x_{3},x_{5})$ recording the parity of the exponents of 2, 3, and 5 in its prime factorization.', 'The values are $k=(p+1)^{2}/4$ for $p$ odd (and none for $p=2$ ).']"
        ],
        [
         "Quadratic Residues",
         "['If $n$ is even, then $p\\\\equiv3$ (mod 4) and $\\\\left(\\\\frac{-1}{p}\\\\right)=1$ , a contradiction.', 'If $n$ is odd, then $\\\\left(\\\\frac{-2}{p}\\\\right)=1$ and we get $(-1)^{\\\\frac{p^{2}-1}{8}}(-1)^{\\\\frac{p-1}{2}}=1$ , again a contradiction.', 'It remains to see whether $\\\\left(\\\\frac{3}{q}\\\\right)=-1$ .', 'Note that $(p/3)=(-1/3)=-1$ .', 'Using the Legendre symbol: $\\\\left(\\\\frac{5}{p}\\\\right) = \\\\left(\\\\frac{p}{5}\\\\right)$ by quadratic reciprocity.', 'For prime $p \\\\equiv 1 \\\\mod 4$, $-1$ is a quadratic residue modulo $p$.', 'The equation $x^2 \\\\equiv -1 \\\\mod p$ has solutions if and only if $p \\\\equiv 1 \\\\mod 4$.', 'If $p \\\\equiv 3 \\\\mod 4$, then $\\\\left(\\\\frac{-3}{p}\\\\right) = \\\\left(\\\\frac{p}{3}\\\\right)$.', 'By Euler’s criterion, $a^{(p-1)/2} \\\\equiv \\\\left(\\\\frac{a}{p}\\\\right) \\\\mod p$.', 'The number of quadratic residues modulo a prime $p$ is $(p-1)/2$.']"
        ]
       ],
       "shape": {
        "columns": 1,
        "rows": 10
       }
      },
      "text/html": [
       "<div>\n",
       "<style scoped>\n",
       "    .dataframe tbody tr th:only-of-type {\n",
       "        vertical-align: middle;\n",
       "    }\n",
       "\n",
       "    .dataframe tbody tr th {\n",
       "        vertical-align: top;\n",
       "    }\n",
       "\n",
       "    .dataframe thead th {\n",
       "        text-align: right;\n",
       "    }\n",
       "</style>\n",
       "<table border=\"1\" class=\"dataframe\">\n",
       "  <thead>\n",
       "    <tr style=\"text-align: right;\">\n",
       "      <th></th>\n",
       "      <th>text</th>\n",
       "    </tr>\n",
       "  </thead>\n",
       "  <tbody>\n",
       "    <tr>\n",
       "      <th>Chinese Remainder Theorem</th>\n",
       "      <td>[Solving $x \\equiv 2 \\mod 3$ and $x \\equiv 3 \\...</td>\n",
       "    </tr>\n",
       "    <tr>\n",
       "      <th>Diophantine Equations</th>\n",
       "      <td>[Solving $3x + 5y = 1$ using the extended Eucl...</td>\n",
       "    </tr>\n",
       "    <tr>\n",
       "      <th>Divisibility</th>\n",
       "      <td>[From (1) it follows that $A(x_{1}+y_{1})=p^{k...</td>\n",
       "    </tr>\n",
       "    <tr>\n",
       "      <th>Euler’s Theorem</th>\n",
       "      <td>[By Euler’s Theorem, $10^{\\varphi(f k)}\\equiv1...</td>\n",
       "    </tr>\n",
       "    <tr>\n",
       "      <th>Extremal Principles</th>\n",
       "      <td>[If $x\\geq3$ , $y\\geq3$ , $z\\geq3$ then $x y z...</td>\n",
       "    </tr>\n",
       "    <tr>\n",
       "      <th>Fermat’s Little Theorem</th>\n",
       "      <td>[The formula in our problem shows that the sum...</td>\n",
       "    </tr>\n",
       "    <tr>\n",
       "      <th>Modular Arithmetics</th>\n",
       "      <td>[Assume that we have a prime $p$ such that $p|...</td>\n",
       "    </tr>\n",
       "    <tr>\n",
       "      <th>Pigeonhole Principle</th>\n",
       "      <td>[Let $S$ be the set of nonnegative integers le...</td>\n",
       "    </tr>\n",
       "    <tr>\n",
       "      <th>Prime Numbers</th>\n",
       "      <td>[Assume that we have a prime $p$ such that $p|...</td>\n",
       "    </tr>\n",
       "    <tr>\n",
       "      <th>Quadratic Residues</th>\n",
       "      <td>[If $n$ is even, then $p\\equiv3$ (mod 4) and $...</td>\n",
       "    </tr>\n",
       "  </tbody>\n",
       "</table>\n",
       "</div>"
      ],
      "text/plain": [
       "                                                                        text\n",
       "Chinese Remainder Theorem  [Solving $x \\equiv 2 \\mod 3$ and $x \\equiv 3 \\...\n",
       "Diophantine Equations      [Solving $3x + 5y = 1$ using the extended Eucl...\n",
       "Divisibility               [From (1) it follows that $A(x_{1}+y_{1})=p^{k...\n",
       "Euler’s Theorem            [By Euler’s Theorem, $10^{\\varphi(f k)}\\equiv1...\n",
       "Extremal Principles        [If $x\\geq3$ , $y\\geq3$ , $z\\geq3$ then $x y z...\n",
       "Fermat’s Little Theorem    [The formula in our problem shows that the sum...\n",
       "Modular Arithmetics        [Assume that we have a prime $p$ such that $p|...\n",
       "Pigeonhole Principle       [Let $S$ be the set of nonnegative integers le...\n",
       "Prime Numbers              [Assume that we have a prime $p$ such that $p|...\n",
       "Quadratic Residues         [If $n$ is even, then $p\\equiv3$ (mod 4) and $..."
      ]
     },
     "execution_count": 2,
     "metadata": {},
     "output_type": "execute_result"
    }
   ],
   "source": [
    "import pandas as pd\n",
    "import os\n",
    "\n",
    "df = pd.read_json(os.path.abspath(\"..\\\\..\\\\benchmark\\\\benchmark_v2\\\\benchmark_v2.json\"))\n",
    "df"
   ]
  },
  {
   "cell_type": "code",
   "execution_count": 3,
   "id": "d5d3c985",
   "metadata": {},
   "outputs": [
    {
     "data": {
      "text/plain": [
       "DatasetDict({\n",
       "    train: Dataset({\n",
       "        features: ['label', 'text', '__index_level_0__'],\n",
       "        num_rows: 80\n",
       "    })\n",
       "    eval: Dataset({\n",
       "        features: ['label', 'text', '__index_level_0__'],\n",
       "        num_rows: 20\n",
       "    })\n",
       "})"
      ]
     },
     "execution_count": 3,
     "metadata": {},
     "output_type": "execute_result"
    }
   ],
   "source": [
    "from datasets import Dataset, DatasetDict\n",
    "from sklearn.model_selection import train_test_split\n",
    "\n",
    "df = df.explode(\"text\").reset_index().rename({\"index\": \"label\"}, axis=1)\n",
    "\n",
    "train_df, test_df = train_test_split(df, test_size=0.2, random_state=42, shuffle=True)\n",
    "\n",
    "train_dataset = Dataset.from_pandas(train_df)\n",
    "test_dataset = Dataset.from_pandas(test_df)\n",
    "\n",
    "dataset = DatasetDict({\n",
    "    \"train\": train_dataset,\n",
    "    \"eval\": test_dataset\n",
    "})\n",
    "dataset"
   ]
  },
  {
   "cell_type": "code",
   "execution_count": 4,
   "id": "d55bfe08",
   "metadata": {},
   "outputs": [],
   "source": [
    "from transformers import BertTokenizer, BertModel, get_linear_schedule_with_warmup\n",
    "import torch\n",
    "\n",
    "tokenizer = BertTokenizer.from_pretrained('tbs17/MathBERT', output_hidden_states=True)\n",
    "model = BertModel.from_pretrained(\"tbs17/MathBERT\")\n",
    "device = torch.device(\"cuda\")\n",
    "model = model.to(device)"
   ]
  },
  {
   "cell_type": "code",
   "execution_count": 5,
   "id": "741c1895",
   "metadata": {},
   "outputs": [],
   "source": [
    "from torch.utils.data import DataLoader\n",
    "\n",
    "def collate_fn(batch):\n",
    "    texts = [item['text'] for item in batch]\n",
    "    encoding = tokenizer(texts, padding=True, truncation=True, return_tensors='pt')\n",
    "    return {'input_ids': encoding['input_ids'], 'attention_mask': encoding['attention_mask']}\n",
    "\n",
    "train_dataloader = DataLoader(dataset['train'], batch_size=16, shuffle=True, collate_fn=collate_fn)\n",
    "eval_dataloader = DataLoader(dataset['eval'], batch_size=16, collate_fn=collate_fn)"
   ]
  },
  {
   "cell_type": "code",
   "execution_count": 6,
   "id": "84f78daa",
   "metadata": {},
   "outputs": [],
   "source": [
    "from torch.optim import AdamW\n",
    "optimizer = AdamW(model.parameters(), lr=1e-5)\n",
    "scheduler = get_linear_schedule_with_warmup(optimizer, num_warmup_steps=0, num_training_steps=len(train_dataloader) * 3) # Example 3 epochs"
   ]
  },
  {
   "cell_type": "code",
   "execution_count": 8,
   "id": "f85a353b",
   "metadata": {},
   "outputs": [
    {
     "ename": "TypeError",
     "evalue": "'<' not supported between instances of 'int' and 'ellipsis'",
     "output_type": "error",
     "traceback": [
      "\u001b[1;31m---------------------------------------------------------------------------\u001b[0m",
      "\u001b[1;31mTypeError\u001b[0m                                 Traceback (most recent call last)",
      "Cell \u001b[1;32mIn[8], line 76\u001b[0m\n\u001b[0;32m     73\u001b[0m model\u001b[38;5;241m.\u001b[39mto(device)\n\u001b[0;32m     75\u001b[0m \u001b[38;5;66;03m# Split dataset\u001b[39;00m\n\u001b[1;32m---> 76\u001b[0m train_dataset, eval_dataset \u001b[38;5;241m=\u001b[39m \u001b[43mtrain_test_split\u001b[49m\u001b[43m(\u001b[49m\u001b[43mdataset\u001b[49m\u001b[43m[\u001b[49m\u001b[38;5;124;43m'\u001b[39;49m\u001b[38;5;124;43mtrain\u001b[39;49m\u001b[38;5;124;43m'\u001b[39;49m\u001b[43m]\u001b[49m\u001b[43m,\u001b[49m\u001b[43m \u001b[49m\u001b[43mtest_size\u001b[49m\u001b[38;5;241;43m=\u001b[39;49m\u001b[38;5;241;43m0.2\u001b[39;49m\u001b[43m,\u001b[49m\u001b[43m \u001b[49m\u001b[43mrandom_state\u001b[49m\u001b[38;5;241;43m=\u001b[39;49m\u001b[38;5;241;43m42\u001b[39;49m\u001b[43m,\u001b[49m\u001b[43m \u001b[49m\u001b[43mstratify\u001b[49m\u001b[38;5;241;43m=\u001b[39;49m\u001b[43mdataset\u001b[49m\u001b[43m[\u001b[49m\u001b[38;5;124;43m'\u001b[39;49m\u001b[38;5;124;43mtrain\u001b[39;49m\u001b[38;5;124;43m'\u001b[39;49m\u001b[43m]\u001b[49m\u001b[43m[\u001b[49m\u001b[43mlabel_column\u001b[49m\u001b[43m]\u001b[49m\u001b[43m \u001b[49m\u001b[38;5;28;43;01mif\u001b[39;49;00m\u001b[43m \u001b[49m\u001b[43mlabel_column\u001b[49m\u001b[43m \u001b[49m\u001b[38;5;28;43;01melse\u001b[39;49;00m\u001b[43m \u001b[49m\u001b[38;5;28;43;01mNone\u001b[39;49;00m\u001b[43m)\u001b[49m\n\u001b[0;32m     77\u001b[0m train_dataset \u001b[38;5;241m=\u001b[39m LabelledPairDataset(train_dataset, tokenizer, text_column, label_column)\n\u001b[0;32m     78\u001b[0m eval_dataset \u001b[38;5;241m=\u001b[39m LabelledPairDataset(eval_dataset, tokenizer, text_column, label_column)\n",
      "File \u001b[1;32mc:\\Users\\mokrota\\Documents\\GitHub\\math_problem_recommender\\math_problem_recommender\\.venv\\Lib\\site-packages\\sklearn\\utils\\_param_validation.py:213\u001b[0m, in \u001b[0;36mvalidate_params.<locals>.decorator.<locals>.wrapper\u001b[1;34m(*args, **kwargs)\u001b[0m\n\u001b[0;32m    207\u001b[0m \u001b[38;5;28;01mtry\u001b[39;00m:\n\u001b[0;32m    208\u001b[0m     \u001b[38;5;28;01mwith\u001b[39;00m config_context(\n\u001b[0;32m    209\u001b[0m         skip_parameter_validation\u001b[38;5;241m=\u001b[39m(\n\u001b[0;32m    210\u001b[0m             prefer_skip_nested_validation \u001b[38;5;129;01mor\u001b[39;00m global_skip_validation\n\u001b[0;32m    211\u001b[0m         )\n\u001b[0;32m    212\u001b[0m     ):\n\u001b[1;32m--> 213\u001b[0m         \u001b[38;5;28;01mreturn\u001b[39;00m \u001b[43mfunc\u001b[49m\u001b[43m(\u001b[49m\u001b[38;5;241;43m*\u001b[39;49m\u001b[43margs\u001b[49m\u001b[43m,\u001b[49m\u001b[43m \u001b[49m\u001b[38;5;241;43m*\u001b[39;49m\u001b[38;5;241;43m*\u001b[39;49m\u001b[43mkwargs\u001b[49m\u001b[43m)\u001b[49m\n\u001b[0;32m    214\u001b[0m \u001b[38;5;28;01mexcept\u001b[39;00m InvalidParameterError \u001b[38;5;28;01mas\u001b[39;00m e:\n\u001b[0;32m    215\u001b[0m     \u001b[38;5;66;03m# When the function is just a wrapper around an estimator, we allow\u001b[39;00m\n\u001b[0;32m    216\u001b[0m     \u001b[38;5;66;03m# the function to delegate validation to the estimator, but we replace\u001b[39;00m\n\u001b[0;32m    217\u001b[0m     \u001b[38;5;66;03m# the name of the estimator by the name of the function in the error\u001b[39;00m\n\u001b[0;32m    218\u001b[0m     \u001b[38;5;66;03m# message to avoid confusion.\u001b[39;00m\n\u001b[0;32m    219\u001b[0m     msg \u001b[38;5;241m=\u001b[39m re\u001b[38;5;241m.\u001b[39msub(\n\u001b[0;32m    220\u001b[0m         \u001b[38;5;124mr\u001b[39m\u001b[38;5;124m\"\u001b[39m\u001b[38;5;124mparameter of \u001b[39m\u001b[38;5;124m\\\u001b[39m\u001b[38;5;124mw+ must be\u001b[39m\u001b[38;5;124m\"\u001b[39m,\n\u001b[0;32m    221\u001b[0m         \u001b[38;5;124mf\u001b[39m\u001b[38;5;124m\"\u001b[39m\u001b[38;5;124mparameter of \u001b[39m\u001b[38;5;132;01m{\u001b[39;00mfunc\u001b[38;5;241m.\u001b[39m\u001b[38;5;18m__qualname__\u001b[39m\u001b[38;5;132;01m}\u001b[39;00m\u001b[38;5;124m must be\u001b[39m\u001b[38;5;124m\"\u001b[39m,\n\u001b[0;32m    222\u001b[0m         \u001b[38;5;28mstr\u001b[39m(e),\n\u001b[0;32m    223\u001b[0m     )\n",
      "File \u001b[1;32mc:\\Users\\mokrota\\Documents\\GitHub\\math_problem_recommender\\math_problem_recommender\\.venv\\Lib\\site-packages\\sklearn\\model_selection\\_split.py:2810\u001b[0m, in \u001b[0;36mtrain_test_split\u001b[1;34m(test_size, train_size, random_state, shuffle, stratify, *arrays)\u001b[0m\n\u001b[0;32m   2806\u001b[0m     train, test \u001b[38;5;241m=\u001b[39m \u001b[38;5;28mnext\u001b[39m(cv\u001b[38;5;241m.\u001b[39msplit(X\u001b[38;5;241m=\u001b[39marrays[\u001b[38;5;241m0\u001b[39m], y\u001b[38;5;241m=\u001b[39mstratify))\n\u001b[0;32m   2808\u001b[0m train, test \u001b[38;5;241m=\u001b[39m ensure_common_namespace_device(arrays[\u001b[38;5;241m0\u001b[39m], train, test)\n\u001b[1;32m-> 2810\u001b[0m \u001b[38;5;28;01mreturn\u001b[39;00m \u001b[38;5;28;43mlist\u001b[39;49m\u001b[43m(\u001b[49m\n\u001b[0;32m   2811\u001b[0m \u001b[43m    \u001b[49m\u001b[43mchain\u001b[49m\u001b[38;5;241;43m.\u001b[39;49m\u001b[43mfrom_iterable\u001b[49m\u001b[43m(\u001b[49m\n\u001b[0;32m   2812\u001b[0m \u001b[43m        \u001b[49m\u001b[43m(\u001b[49m\u001b[43m_safe_indexing\u001b[49m\u001b[43m(\u001b[49m\u001b[43ma\u001b[49m\u001b[43m,\u001b[49m\u001b[43m \u001b[49m\u001b[43mtrain\u001b[49m\u001b[43m)\u001b[49m\u001b[43m,\u001b[49m\u001b[43m \u001b[49m\u001b[43m_safe_indexing\u001b[49m\u001b[43m(\u001b[49m\u001b[43ma\u001b[49m\u001b[43m,\u001b[49m\u001b[43m \u001b[49m\u001b[43mtest\u001b[49m\u001b[43m)\u001b[49m\u001b[43m)\u001b[49m\u001b[43m \u001b[49m\u001b[38;5;28;43;01mfor\u001b[39;49;00m\u001b[43m \u001b[49m\u001b[43ma\u001b[49m\u001b[43m \u001b[49m\u001b[38;5;129;43;01min\u001b[39;49;00m\u001b[43m \u001b[49m\u001b[43marrays\u001b[49m\n\u001b[0;32m   2813\u001b[0m \u001b[43m    \u001b[49m\u001b[43m)\u001b[49m\n\u001b[0;32m   2814\u001b[0m \u001b[43m\u001b[49m\u001b[43m)\u001b[49m\n",
      "File \u001b[1;32mc:\\Users\\mokrota\\Documents\\GitHub\\math_problem_recommender\\math_problem_recommender\\.venv\\Lib\\site-packages\\sklearn\\model_selection\\_split.py:2812\u001b[0m, in \u001b[0;36m<genexpr>\u001b[1;34m(.0)\u001b[0m\n\u001b[0;32m   2806\u001b[0m     train, test \u001b[38;5;241m=\u001b[39m \u001b[38;5;28mnext\u001b[39m(cv\u001b[38;5;241m.\u001b[39msplit(X\u001b[38;5;241m=\u001b[39marrays[\u001b[38;5;241m0\u001b[39m], y\u001b[38;5;241m=\u001b[39mstratify))\n\u001b[0;32m   2808\u001b[0m train, test \u001b[38;5;241m=\u001b[39m ensure_common_namespace_device(arrays[\u001b[38;5;241m0\u001b[39m], train, test)\n\u001b[0;32m   2810\u001b[0m \u001b[38;5;28;01mreturn\u001b[39;00m \u001b[38;5;28mlist\u001b[39m(\n\u001b[0;32m   2811\u001b[0m     chain\u001b[38;5;241m.\u001b[39mfrom_iterable(\n\u001b[1;32m-> 2812\u001b[0m         (\u001b[43m_safe_indexing\u001b[49m\u001b[43m(\u001b[49m\u001b[43ma\u001b[49m\u001b[43m,\u001b[49m\u001b[43m \u001b[49m\u001b[43mtrain\u001b[49m\u001b[43m)\u001b[49m, _safe_indexing(a, test)) \u001b[38;5;28;01mfor\u001b[39;00m a \u001b[38;5;129;01min\u001b[39;00m arrays\n\u001b[0;32m   2813\u001b[0m     )\n\u001b[0;32m   2814\u001b[0m )\n",
      "File \u001b[1;32mc:\\Users\\mokrota\\Documents\\GitHub\\math_problem_recommender\\math_problem_recommender\\.venv\\Lib\\site-packages\\sklearn\\utils\\_indexing.py:267\u001b[0m, in \u001b[0;36m_safe_indexing\u001b[1;34m(X, indices, axis)\u001b[0m\n\u001b[0;32m    265\u001b[0m     \u001b[38;5;28;01mreturn\u001b[39;00m _polars_indexing(X, indices, indices_dtype, axis\u001b[38;5;241m=\u001b[39maxis)\n\u001b[0;32m    266\u001b[0m \u001b[38;5;28;01melif\u001b[39;00m \u001b[38;5;28mhasattr\u001b[39m(X, \u001b[38;5;124m\"\u001b[39m\u001b[38;5;124mshape\u001b[39m\u001b[38;5;124m\"\u001b[39m):\n\u001b[1;32m--> 267\u001b[0m     \u001b[38;5;28;01mreturn\u001b[39;00m \u001b[43m_array_indexing\u001b[49m\u001b[43m(\u001b[49m\u001b[43mX\u001b[49m\u001b[43m,\u001b[49m\u001b[43m \u001b[49m\u001b[43mindices\u001b[49m\u001b[43m,\u001b[49m\u001b[43m \u001b[49m\u001b[43mindices_dtype\u001b[49m\u001b[43m,\u001b[49m\u001b[43m \u001b[49m\u001b[43maxis\u001b[49m\u001b[38;5;241;43m=\u001b[39;49m\u001b[43maxis\u001b[49m\u001b[43m)\u001b[49m\n\u001b[0;32m    268\u001b[0m \u001b[38;5;28;01melse\u001b[39;00m:\n\u001b[0;32m    269\u001b[0m     \u001b[38;5;28;01mreturn\u001b[39;00m _list_indexing(X, indices, indices_dtype)\n",
      "File \u001b[1;32mc:\\Users\\mokrota\\Documents\\GitHub\\math_problem_recommender\\math_problem_recommender\\.venv\\Lib\\site-packages\\sklearn\\utils\\_indexing.py:33\u001b[0m, in \u001b[0;36m_array_indexing\u001b[1;34m(array, key, key_dtype, axis)\u001b[0m\n\u001b[0;32m     31\u001b[0m \u001b[38;5;28;01mif\u001b[39;00m \u001b[38;5;28misinstance\u001b[39m(key, \u001b[38;5;28mtuple\u001b[39m):\n\u001b[0;32m     32\u001b[0m     key \u001b[38;5;241m=\u001b[39m \u001b[38;5;28mlist\u001b[39m(key)\n\u001b[1;32m---> 33\u001b[0m \u001b[38;5;28;01mreturn\u001b[39;00m \u001b[43marray\u001b[49m\u001b[43m[\u001b[49m\u001b[43mkey\u001b[49m\u001b[43m,\u001b[49m\u001b[43m \u001b[49m\u001b[38;5;241;43m.\u001b[39;49m\u001b[38;5;241;43m.\u001b[39;49m\u001b[38;5;241;43m.\u001b[39;49m\u001b[43m]\u001b[49m \u001b[38;5;28;01mif\u001b[39;00m axis \u001b[38;5;241m==\u001b[39m \u001b[38;5;241m0\u001b[39m \u001b[38;5;28;01melse\u001b[39;00m array[:, key]\n",
      "File \u001b[1;32mc:\\Users\\mokrota\\Documents\\GitHub\\math_problem_recommender\\math_problem_recommender\\.venv\\Lib\\site-packages\\datasets\\arrow_dataset.py:2777\u001b[0m, in \u001b[0;36mDataset.__getitem__\u001b[1;34m(self, key)\u001b[0m\n\u001b[0;32m   2775\u001b[0m \u001b[38;5;28;01mdef\u001b[39;00m \u001b[38;5;21m__getitem__\u001b[39m(\u001b[38;5;28mself\u001b[39m, key):  \u001b[38;5;66;03m# noqa: F811\u001b[39;00m\n\u001b[0;32m   2776\u001b[0m \u001b[38;5;250m    \u001b[39m\u001b[38;5;124;03m\"\"\"Can be used to index columns (by string names) or rows (by integer index or iterable of indices or bools).\"\"\"\u001b[39;00m\n\u001b[1;32m-> 2777\u001b[0m     \u001b[38;5;28;01mreturn\u001b[39;00m \u001b[38;5;28;43mself\u001b[39;49m\u001b[38;5;241;43m.\u001b[39;49m\u001b[43m_getitem\u001b[49m\u001b[43m(\u001b[49m\u001b[43mkey\u001b[49m\u001b[43m)\u001b[49m\n",
      "File \u001b[1;32mc:\\Users\\mokrota\\Documents\\GitHub\\math_problem_recommender\\math_problem_recommender\\.venv\\Lib\\site-packages\\datasets\\arrow_dataset.py:2761\u001b[0m, in \u001b[0;36mDataset._getitem\u001b[1;34m(self, key, **kwargs)\u001b[0m\n\u001b[0;32m   2759\u001b[0m format_kwargs \u001b[38;5;241m=\u001b[39m format_kwargs \u001b[38;5;28;01mif\u001b[39;00m format_kwargs \u001b[38;5;129;01mis\u001b[39;00m \u001b[38;5;129;01mnot\u001b[39;00m \u001b[38;5;28;01mNone\u001b[39;00m \u001b[38;5;28;01melse\u001b[39;00m {}\n\u001b[0;32m   2760\u001b[0m formatter \u001b[38;5;241m=\u001b[39m get_formatter(format_type, features\u001b[38;5;241m=\u001b[39m\u001b[38;5;28mself\u001b[39m\u001b[38;5;241m.\u001b[39m_info\u001b[38;5;241m.\u001b[39mfeatures, \u001b[38;5;241m*\u001b[39m\u001b[38;5;241m*\u001b[39mformat_kwargs)\n\u001b[1;32m-> 2761\u001b[0m pa_subtable \u001b[38;5;241m=\u001b[39m \u001b[43mquery_table\u001b[49m\u001b[43m(\u001b[49m\u001b[38;5;28;43mself\u001b[39;49m\u001b[38;5;241;43m.\u001b[39;49m\u001b[43m_data\u001b[49m\u001b[43m,\u001b[49m\u001b[43m \u001b[49m\u001b[43mkey\u001b[49m\u001b[43m,\u001b[49m\u001b[43m \u001b[49m\u001b[43mindices\u001b[49m\u001b[38;5;241;43m=\u001b[39;49m\u001b[38;5;28;43mself\u001b[39;49m\u001b[38;5;241;43m.\u001b[39;49m\u001b[43m_indices\u001b[49m\u001b[43m)\u001b[49m\n\u001b[0;32m   2762\u001b[0m formatted_output \u001b[38;5;241m=\u001b[39m format_table(\n\u001b[0;32m   2763\u001b[0m     pa_subtable, key, formatter\u001b[38;5;241m=\u001b[39mformatter, format_columns\u001b[38;5;241m=\u001b[39mformat_columns, output_all_columns\u001b[38;5;241m=\u001b[39moutput_all_columns\n\u001b[0;32m   2764\u001b[0m )\n\u001b[0;32m   2765\u001b[0m \u001b[38;5;28;01mreturn\u001b[39;00m formatted_output\n",
      "File \u001b[1;32mc:\\Users\\mokrota\\Documents\\GitHub\\math_problem_recommender\\math_problem_recommender\\.venv\\Lib\\site-packages\\datasets\\formatting\\formatting.py:612\u001b[0m, in \u001b[0;36mquery_table\u001b[1;34m(table, key, indices)\u001b[0m\n\u001b[0;32m    610\u001b[0m \u001b[38;5;28;01melse\u001b[39;00m:\n\u001b[0;32m    611\u001b[0m     size \u001b[38;5;241m=\u001b[39m indices\u001b[38;5;241m.\u001b[39mnum_rows \u001b[38;5;28;01mif\u001b[39;00m indices \u001b[38;5;129;01mis\u001b[39;00m \u001b[38;5;129;01mnot\u001b[39;00m \u001b[38;5;28;01mNone\u001b[39;00m \u001b[38;5;28;01melse\u001b[39;00m table\u001b[38;5;241m.\u001b[39mnum_rows\n\u001b[1;32m--> 612\u001b[0m     \u001b[43m_check_valid_index_key\u001b[49m\u001b[43m(\u001b[49m\u001b[43mkey\u001b[49m\u001b[43m,\u001b[49m\u001b[43m \u001b[49m\u001b[43msize\u001b[49m\u001b[43m)\u001b[49m\n\u001b[0;32m    613\u001b[0m \u001b[38;5;66;03m# Query the main table\u001b[39;00m\n\u001b[0;32m    614\u001b[0m \u001b[38;5;28;01mif\u001b[39;00m indices \u001b[38;5;129;01mis\u001b[39;00m \u001b[38;5;28;01mNone\u001b[39;00m:\n",
      "File \u001b[1;32mc:\\Users\\mokrota\\Documents\\GitHub\\math_problem_recommender\\math_problem_recommender\\.venv\\Lib\\site-packages\\datasets\\formatting\\formatting.py:562\u001b[0m, in \u001b[0;36m_check_valid_index_key\u001b[1;34m(key, size)\u001b[0m\n\u001b[0;32m    560\u001b[0m \u001b[38;5;28;01melif\u001b[39;00m \u001b[38;5;28misinstance\u001b[39m(key, Iterable):\n\u001b[0;32m    561\u001b[0m     \u001b[38;5;28;01mif\u001b[39;00m \u001b[38;5;28mlen\u001b[39m(key) \u001b[38;5;241m>\u001b[39m \u001b[38;5;241m0\u001b[39m:\n\u001b[1;32m--> 562\u001b[0m         _check_valid_index_key(\u001b[38;5;28mint\u001b[39m(\u001b[38;5;28;43mmax\u001b[39;49m\u001b[43m(\u001b[49m\u001b[43mkey\u001b[49m\u001b[43m)\u001b[49m), size\u001b[38;5;241m=\u001b[39msize)\n\u001b[0;32m    563\u001b[0m         _check_valid_index_key(\u001b[38;5;28mint\u001b[39m(\u001b[38;5;28mmin\u001b[39m(key)), size\u001b[38;5;241m=\u001b[39msize)\n\u001b[0;32m    564\u001b[0m \u001b[38;5;28;01melse\u001b[39;00m:\n",
      "\u001b[1;31mTypeError\u001b[0m: '<' not supported between instances of 'int' and 'ellipsis'"
     ]
    }
   ],
   "source": [
    "from transformers import BertTokenizer, BertModel, get_linear_schedule_with_warmup\n",
    "from torch.utils.data import DataLoader, Dataset\n",
    "import torch\n",
    "import datasets\n",
    "import torch.nn.functional as F\n",
    "from torch.optim import AdamW\n",
    "from datasets import load_dataset\n",
    "from sklearn.model_selection import train_test_split\n",
    "import numpy as np\n",
    "\n",
    "# Assume your dataset has 'text' and 'label' columns\n",
    "\n",
    "class LabelledPairDataset(Dataset):\n",
    "    def __init__(self, dataset, tokenizer, text_column='text', label_column='label'):\n",
    "        self.dataset = dataset\n",
    "        self.tokenizer = tokenizer\n",
    "        self.text_column = text_column\n",
    "        self.label_column = label_column\n",
    "        self.labels = sorted(list(set(dataset[label_column])))\n",
    "        self.label_to_indices = {label: np.where(np.array(dataset[label_column]) == label)[0] for label in self.labels}\n",
    "\n",
    "    def __len__(self):\n",
    "        return len(self.dataset)\n",
    "\n",
    "    def __getitem__(self, idx):\n",
    "        anchor_text = self.dataset[idx][self.text_column]\n",
    "        anchor_label = self.dataset[idx][self.label_column]\n",
    "\n",
    "        # Create a positive pair (another item with the same label)\n",
    "        positive_index = np.random.choice(self.label_to_indices[anchor_label])\n",
    "        while positive_index == idx:\n",
    "            positive_index = np.random.choice(self.label_to_indices[anchor_label])\n",
    "        positive_text = self.dataset[positive_index][self.text_column]\n",
    "\n",
    "        # Create a negative pair (an item with a different label)\n",
    "        negative_label = np.random.choice([l for l in self.labels if l != anchor_label])\n",
    "        negative_index = np.random.choice(self.label_to_indices[negative_label])\n",
    "        negative_text = self.dataset[negative_index][self.text_column]\n",
    "\n",
    "        return anchor_text, positive_text, negative_text, anchor_label\n",
    "\n",
    "def collate_fn_pair(batch):\n",
    "    anchor_texts, positive_texts, negative_texts, labels = zip(*batch)\n",
    "    anchor_encoding = tokenizer(anchor_texts, padding=True, truncation=True, return_tensors='pt')\n",
    "    positive_encoding = tokenizer(positive_texts, padding=True, truncation=True, return_tensors='pt')\n",
    "    negative_encoding = tokenizer(negative_texts, padding=True, truncation=True, return_tensors='pt')\n",
    "    labels = torch.tensor(labels)\n",
    "    return {'anchor_input': anchor_encoding, 'positive_input': positive_encoding, 'negative_input': negative_encoding, 'labels': labels}\n",
    "\n",
    "# Load your dataset\n",
    "try:\n",
    "    df = pd.read_json(os.path.abspath(\"..\\\\..\\\\benchmark\\\\benchmark_v2\\\\benchmark_v2.json\"))\n",
    "    df = df.explode(\"text\").reset_index().rename({\"index\": \"label\"}, axis=1)\n",
    "\n",
    "    train_df, test_df = train_test_split(df, test_size=0.2, random_state=42, shuffle=True)\n",
    "\n",
    "    train_dataset = datasets.Dataset.from_pandas(train_df)\n",
    "    test_dataset = datasets.Dataset.from_pandas(test_df)\n",
    "\n",
    "    dataset = datasets.DatasetDict({\n",
    "        \"train\": train_dataset,\n",
    "        \"eval\": test_dataset\n",
    "    })\n",
    "    text_column = 'text'\n",
    "    label_column = 'label' if 'label' in dataset['train'].column_names else None\n",
    "except FileNotFoundError:\n",
    "    print(\"Error: 'your_dataset.csv' not found.\")\n",
    "    exit()\n",
    "\n",
    "tokenizer = BertTokenizer.from_pretrained('tbs17/MathBERT')\n",
    "model = BertModel.from_pretrained(\"tbs17/MathBERT\")\n",
    "device = torch.device(\"cuda\" if torch.cuda.is_available() else \"cpu\")\n",
    "model.to(device)\n",
    "\n",
    "# Split dataset\n",
    "train_dataset, eval_dataset = train_test_split(dataset['train'], test_size=0.2, random_state=42, stratify=dataset['train'][label_column] if label_column else None)\n",
    "train_dataset = LabelledPairDataset(train_dataset, tokenizer, text_column, label_column)\n",
    "eval_dataset = LabelledPairDataset(eval_dataset, tokenizer, text_column, label_column)\n",
    "\n",
    "train_dataloader = DataLoader(train_dataset, batch_size=16, shuffle=True, collate_fn=collate_fn_pair)\n",
    "eval_dataloader = DataLoader(eval_dataset, batch_size=16, collate_fn=collate_fn_pair)\n",
    "\n",
    "optimizer = AdamW(model.parameters(), lr=1e-5)\n",
    "scheduler = get_linear_schedule_with_warmup(optimizer, num_warmup_steps=0, num_training_steps=len(train_dataloader) * 3)\n",
    "\n",
    "def get_sentence_embedding(model_output):\n",
    "    return model_output.pooler_output\n",
    "\n",
    "def triplet_loss(anchor_embedding, positive_embedding, negative_embedding, margin=1.0):\n",
    "    # Triplet loss aims to minimize the distance between anchor and positive,\n",
    "    # and maximize the distance between anchor and negative.\n",
    "    positive_distance = F.cosine_similarity(anchor_embedding, positive_embedding)\n",
    "    negative_distance = F.cosine_similarity(anchor_embedding, negative_embedding)\n",
    "    loss = torch.relu(negative_distance - positive_distance + margin).mean()\n",
    "    return loss\n",
    "\n",
    "num_epochs = 3\n",
    "for epoch in range(num_epochs):\n",
    "    model.train()\n",
    "    total_loss = 0\n",
    "    for batch in train_dataloader:\n",
    "        optimizer.zero_grad()\n",
    "\n",
    "        anchor_inputs = {k: v.to(device) for k, v in batch['anchor_input'].items()}\n",
    "        positive_inputs = {k: v.to(device) for k, v in batch['positive_input'].items()}\n",
    "        negative_inputs = {k: v.to(device) for k, v in batch['negative_input'].items()}\n",
    "\n",
    "        anchor_output = model(**anchor_inputs)\n",
    "        positive_output = model(**positive_inputs)\n",
    "        negative_output = model(**negative_inputs)\n",
    "\n",
    "        anchor_embedding = get_sentence_embedding(anchor_output)\n",
    "        positive_embedding = get_sentence_embedding(positive_output)\n",
    "        negative_embedding = get_sentence_embedding(negative_output)\n",
    "\n",
    "        loss = triplet_loss(anchor_embedding, positive_embedding, negative_embedding)\n",
    "        loss.backward()\n",
    "        optimizer.step()\n",
    "        scheduler.step()\n",
    "        total_loss += loss.item()\n",
    "\n",
    "    print(f\"Epoch {epoch + 1}, Loss: {total_loss / len(train_dataloader)}\")\n",
    "\n",
    "# After fine-tuning, you would get embeddings as before."
   ]
  }
 ],
 "metadata": {
  "kernelspec": {
   "display_name": ".venv",
   "language": "python",
   "name": "python3"
  },
  "language_info": {
   "codemirror_mode": {
    "name": "ipython",
    "version": 3
   },
   "file_extension": ".py",
   "mimetype": "text/x-python",
   "name": "python",
   "nbconvert_exporter": "python",
   "pygments_lexer": "ipython3",
   "version": "3.12.10"
  }
 },
 "nbformat": 4,
 "nbformat_minor": 5
}
