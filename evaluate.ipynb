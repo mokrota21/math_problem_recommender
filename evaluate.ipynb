{
 "cells": [
  {
   "cell_type": "code",
   "execution_count": 1,
   "id": "8ce3fbc2",
   "metadata": {},
   "outputs": [
    {
     "name": "stderr",
     "output_type": "stream",
     "text": [
      "c:\\Users\\mokrota\\Documents\\GitHub\\math_problem_recommender\\math_problem_recommender\\.venv\\Lib\\site-packages\\sentence_transformers\\cross_encoder\\CrossEncoder.py:13: TqdmWarning: IProgress not found. Please update jupyter and ipywidgets. See https://ipywidgets.readthedocs.io/en/stable/user_install.html\n",
      "  from tqdm.autonotebook import tqdm, trange\n"
     ]
    }
   ],
   "source": [
    "from evaluate_cluster import clustering_eval\n",
    "import pandas as pd\n",
    "import os\n",
    "from sentence_transformers import SentenceTransformer\n",
    "from ast import literal_eval\n",
    "from pprint import pprint\n",
    "\n",
    "df = pd.read_csv(os.path.abspath(\"benchmark\\\\andreescu-andrica-problems-on-number-theory\\\\benchmark_v1.csv\"))\n",
    "df[\"Problem&Solution\"] = df[\"Problem&Solution\"].apply(literal_eval)\n",
    "df = df.explode(column=[\"Problem&Solution\"]).reset_index().rename(columns={\"index\": 'label'})\n",
    "df = df[[\"label\", \"Problem&Solution\"]].rename(columns={\"Problem&Solution\": 'text'})\n",
    "\n",
    "sample_models = 30"
   ]
  },
  {
   "cell_type": "code",
   "execution_count": 2,
   "id": "7100f2e0",
   "metadata": {},
   "outputs": [],
   "source": [
    "from random import uniform\n",
    "from pprint import pprint\n",
    "\n",
    "def test_model(model):\n",
    "    thresholds = [uniform(0.0, 1.0) for _ in range(sample_models)]\n",
    "    best_score = None\n",
    "    best_threshold = None\n",
    "    best_clusters = None\n",
    "    best_fig = None\n",
    "    best_metrics_d = None\n",
    "    for threshold in thresholds:\n",
    "        clusters, fig, metrics_d = clustering_eval(df, model, min_community_size=1, threshold=threshold, log=False)\n",
    "        m = metrics_d['adjusted random score']\n",
    "        if not best_score or m > best_score:\n",
    "            best_clusters = clusters\n",
    "            best_fig = fig\n",
    "            best_metrics_d = metrics_d\n",
    "            best_score = m\n",
    "            best_threshold = threshold\n",
    "    pprint(f\"Best Threshold: {best_threshold};\\nBest scores: {best_metrics_d};\\nBest clusters: {best_clusters}\")\n",
    "    best_fig.show()\n",
    "\n",
    "    return best_clusters, best_fig, best_metrics_d, best_threshold"
   ]
  },
  {
   "cell_type": "markdown",
   "id": "5d4f69e7",
   "metadata": {},
   "source": [
    "## Baseline (out of the box model)"
   ]
  },
  {
   "cell_type": "code",
   "execution_count": 3,
   "id": "2edce23f",
   "metadata": {},
   "outputs": [
    {
     "name": "stderr",
     "output_type": "stream",
     "text": [
      "Batches: 100%|██████████| 7/7 [00:00<00:00,  7.66it/s]\n",
      "Batches: 100%|██████████| 7/7 [00:00<00:00, 15.83it/s]\n",
      "Batches: 100%|██████████| 7/7 [00:00<00:00, 15.79it/s]\n",
      "Batches: 100%|██████████| 7/7 [00:00<00:00, 15.80it/s]\n",
      "Batches: 100%|██████████| 7/7 [00:00<00:00, 15.67it/s]\n",
      "Batches: 100%|██████████| 7/7 [00:00<00:00, 15.66it/s]\n",
      "Batches: 100%|██████████| 7/7 [00:00<00:00, 15.81it/s]\n",
      "Batches: 100%|██████████| 7/7 [00:00<00:00, 15.83it/s]\n",
      "Batches: 100%|██████████| 7/7 [00:00<00:00, 15.63it/s]\n",
      "Batches: 100%|██████████| 7/7 [00:00<00:00, 15.78it/s]\n",
      "Batches: 100%|██████████| 7/7 [00:00<00:00, 14.98it/s]\n",
      "Batches: 100%|██████████| 7/7 [00:00<00:00, 13.65it/s]\n",
      "Batches: 100%|██████████| 7/7 [00:00<00:00, 17.34it/s]\n",
      "Batches: 100%|██████████| 7/7 [00:00<00:00, 17.88it/s]\n",
      "Batches: 100%|██████████| 7/7 [00:00<00:00, 17.89it/s]\n",
      "Batches: 100%|██████████| 7/7 [00:00<00:00, 18.05it/s]\n",
      "Batches: 100%|██████████| 7/7 [00:00<00:00, 17.94it/s]\n",
      "Batches: 100%|██████████| 7/7 [00:00<00:00, 17.81it/s]\n",
      "Batches: 100%|██████████| 7/7 [00:00<00:00, 17.49it/s]\n",
      "Batches: 100%|██████████| 7/7 [00:00<00:00, 17.78it/s]\n",
      "Batches: 100%|██████████| 7/7 [00:00<00:00, 17.65it/s]\n",
      "Batches: 100%|██████████| 7/7 [00:00<00:00, 18.03it/s]\n",
      "Batches: 100%|██████████| 7/7 [00:00<00:00, 17.78it/s]\n",
      "Batches: 100%|██████████| 7/7 [00:00<00:00, 17.81it/s]\n",
      "Batches: 100%|██████████| 7/7 [00:00<00:00, 17.60it/s]\n",
      "Batches: 100%|██████████| 7/7 [00:00<00:00, 17.74it/s]\n",
      "Batches: 100%|██████████| 7/7 [00:00<00:00, 17.79it/s]\n",
      "Batches: 100%|██████████| 7/7 [00:00<00:00, 17.72it/s]\n",
      "Batches: 100%|██████████| 7/7 [00:00<00:00, 17.82it/s]\n",
      "Batches: 100%|██████████| 7/7 [00:00<00:00, 17.69it/s]\n"
     ]
    },
    {
     "name": "stdout",
     "output_type": "stream",
     "text": [
      "('Best Threshold: 0.5541578727887644;\\n'\n",
      " \"Best scores: {'random score': 0.9437673772011121, 'adjusted random score': \"\n",
      " '0.08877528493735985};\\n'\n",
      " 'Best clusters: [[61, 273, 366, 275, 143, 199, 367, 276, 255, 285, 263, 286, '\n",
      " '409, 284, 104, 340, 407, 281, 4, 271, 365, 280, 158, 371, 288, 3, 372, 153, '\n",
      " '303, 277, 268, 203, 134, 269, 150, 202, 218, 412, 289, 359, 411, 201, 362, '\n",
      " '154, 6, 262], [152, 157, 386, 381, 385, 337, 83, 62, 43, 390, 243, 58, 394, '\n",
      " '389, 80, 387, 98, 204, 179, 64, 301, 210, 344, 84, 341, 170, 383, 264, 168, '\n",
      " '107, 85, 376, 258, 396, 183, 75, 146, 54, 52, 388, 177, 135, 351, 265, 39], '\n",
      " '[324, 68, 338, 326, 327, 333, 66, 163, 181, 313, 342, 156, 174, 312, 302, '\n",
      " '79, 178, 78, 71, 172, 320, 311, 319, 325, 382], [228, 125, 96, 105, 225, '\n",
      " '119, 219, 148, 214, 120, 128, 50, 212, 287, 47, 94, 48, 161, 216, 330, 377], '\n",
      " '[328, 334, 197, 240, 251, 309, 404, 346, 221, 310, 136, 317, 323, 106, 147, '\n",
      " '335, 252], [130, 405, 398, 391, 395, 49, 384, 220, 399, 208, 401, 291, 380, '\n",
      " '392, 26, 256], [237, 232, 229, 231, 230, 247, 25, 248, 32, 236, 246, 234, '\n",
      " '12, 233, 14], [215, 304, 42, 321, 339, 112, 103, 227, 415, 162, 187, 97, '\n",
      " '122], [70, 175, 254, 184, 138, 173, 67, 69, 165, 217], [21, 19, 17, 18, 22, '\n",
      " '20, 24, 36, 34], [259, 160, 260, 11, 270, 5, 27, 59], [126, 114, 111, 113, '\n",
      " '115, 89, 300, 124], [140, 118, 299, 298, 149, 370, 141], [100, 329, 95, 117, '\n",
      " '41, 108, 116], [408, 267, 102, 155, 336, 123], [45, 81, 99, 86, 315, 180], '\n",
      " '[65, 74, 76, 167, 164], [357, 194, 358, 305, 348], [332, 209, 322, 318], '\n",
      " '[142, 402, 414, 211], [375, 331, 374, 379], [290, 293, 297, 350], [410, 278, '\n",
      " '361], [151, 222, 213], [88, 200, 92], [2, 1, 282], [364, 30], [266, 144], '\n",
      " '[378, 406], [77, 226], [314, 353], [261, 294], [393, 403], [397, 55], [360, '\n",
      " '345], [343, 9], [13, 235], [132, 171], [257], [37], [109], [166], [176], '\n",
      " '[283], [110], [185], [40], [355], [127], [101], [292], [90], [207], [245], '\n",
      " '[73], [193], [63], [308], [400], [29], [169], [82], [274], [60], [57], [31], '\n",
      " '[352], [195], [198], [279], [131], [87], [363], [188], [93], [369], [35], '\n",
      " '[28], [33], [296], [205], [354], [121], [7], [223], [224], [356], [38], [0], '\n",
      " '[191], [413], [46], [23], [250], [44], [133], [10], [373], [189], [241], '\n",
      " '[53], [145], [238], [295], [8], [15], [16], [51], [56], [72], [91], [129], '\n",
      " '[137], [139], [159], [182], [186], [190], [192], [196], [206], [239], [242], '\n",
      " '[244], [249], [253], [272], [306], [307], [316], [347], [349], [368]]')\n"
     ]
    },
    {
     "data": {
      "application/vnd.plotly.v1+json": {
       "config": {
        "plotlyServerURL": "https://plot.ly"
       },
       "data": [
        {
         "legendgroup": "gt",
         "marker": {
          "color": "#1f77b4",
          "size": 6
         },
         "mode": "markers",
         "name": "GT Group 0",
         "showlegend": false,
         "type": "scatter",
         "x": {
          "bdata": "jrBxwqK6dsKiG3fCqsF4wtXDVsKHEXTC8+Yywg==",
          "dtype": "f4"
         },
         "xaxis": "x",
         "y": {
          "bdata": "fI5nQbwdi0HZha5BYHGaQQ1Mq0FmgJpBfT9/QA==",
          "dtype": "f4"
         },
         "yaxis": "y"
        },
        {
         "legendgroup": "gt",
         "marker": {
          "color": "#1f77b4",
          "size": 6
         },
         "mode": "markers",
         "name": "GT Group 1",
         "showlegend": false,
         "type": "scatter",
         "x": {
          "bdata": "2DgKQfCx38G2VOPBB/TlwZdBDUGRmgFBWm/svy6DEEE3PidB2gg/Qg==",
          "dtype": "f4"
         },
         "xaxis": "x",
         "y": {
          "bdata": "ae9lQmX+qEF31ZtBnYCRQR88akKtQXNCnV6AQr/UbkJDgnNCEjG3QQ==",
          "dtype": "f4"
         },
         "yaxis": "y"
        },
        {
         "legendgroup": "gt",
         "marker": {
          "color": "#1f77b4",
          "size": 6
         },
         "mode": "markers",
         "name": "GT Group 2",
         "showlegend": false,
         "type": "scatter",
         "x": {
          "bdata": "38lVwjB2VcLH+VDCIb1bwgzyTcLH30vClsdVwtqjRcI=",
          "dtype": "f4"
         },
         "xaxis": "x",
         "y": {
          "bdata": "xiVbQsF/V0Kd72FCyT9dQgbNXELrQmRC8tVnQiwaYkI=",
          "dtype": "f4"
         },
         "yaxis": "y"
        },
        {
         "legendgroup": "gt",
         "marker": {
          "color": "#aec7e8",
          "size": 6
         },
         "mode": "markers",
         "name": "GT Group 3",
         "showlegend": false,
         "type": "scatter",
         "x": {
          "bdata": "3btfwRwPK0Fdd0/CN2DXwSURJz95p+hA/t7iwQ==",
          "dtype": "f4"
         },
         "xaxis": "x",
         "y": {
          "bdata": "kMeVQhvlSUGRvCDBGBRdQrup7kGxOi1BAXJTQg==",
          "dtype": "f4"
         },
         "yaxis": "y"
        },
        {
         "legendgroup": "gt",
         "marker": {
          "color": "#aec7e8",
          "size": 6
         },
         "mode": "markers",
         "name": "GT Group 4",
         "showlegend": false,
         "type": "scatter",
         "x": {
          "bdata": "tdVZwUes/cHJ3/LBdrDrwYog5cFlAQ1AkAH4wQ==",
          "dtype": "f4"
         },
         "xaxis": "x",
         "y": {
          "bdata": "1jSWQs63XkJmLmBC/6ddQgnaWkKbP09AKt5mQg==",
          "dtype": "f4"
         },
         "yaxis": "y"
        },
        {
         "legendgroup": "gt",
         "marker": {
          "color": "#ff7f0e",
          "size": 6
         },
         "mode": "markers",
         "name": "GT Group 5",
         "showlegend": false,
         "type": "scatter",
         "x": {
          "bdata": "GCDVQR1Ci0E=",
          "dtype": "f4"
         },
         "xaxis": "x",
         "y": {
          "bdata": "d7A4QieGDUI=",
          "dtype": "f4"
         },
         "yaxis": "y"
        },
        {
         "legendgroup": "gt",
         "marker": {
          "color": "#ff7f0e",
          "size": 6
         },
         "mode": "markers",
         "name": "GT Group 6",
         "showlegend": false,
         "type": "scatter",
         "x": {
          "bdata": "b7aGwYxrTsE=",
          "dtype": "f4"
         },
         "xaxis": "x",
         "y": {
          "bdata": "DXdwwar3gcE=",
          "dtype": "f4"
         },
         "yaxis": "y"
        },
        {
         "legendgroup": "gt",
         "marker": {
          "color": "#ff7f0e",
          "size": 6
         },
         "mode": "markers",
         "name": "GT Group 7",
         "showlegend": false,
         "type": "scatter",
         "x": {
          "bdata": "M5/7QJOtBkGbo2hCOBy+wZZ3YUBkufbBtThLQh8pC8H8e8VAsKZGQofa7EA=",
          "dtype": "f4"
         },
         "xaxis": "x",
         "y": {
          "bdata": "ZFQVQr1XY0HzMOZA4kLYQPvmAMLseMPBqlf1QQv0HcLoZV/Cjmq0Qbf2AMI=",
          "dtype": "f4"
         },
         "yaxis": "y"
        },
        {
         "legendgroup": "gt",
         "marker": {
          "color": "#ffbb78",
          "size": 6
         },
         "mode": "markers",
         "name": "GT Group 8",
         "showlegend": false,
         "type": "scatter",
         "x": {
          "bdata": "VZcSQvvTUUGAtZZB84RFQGAGoUE=",
          "dtype": "f4"
         },
         "xaxis": "x",
         "y": {
          "bdata": "LaqIwZmF5UF45eNBHy3MQQVWxkE=",
          "dtype": "f4"
         },
         "yaxis": "y"
        },
        {
         "legendgroup": "gt",
         "marker": {
          "color": "#ffbb78",
          "size": 6
         },
         "mode": "markers",
         "name": "GT Group 9",
         "showlegend": false,
         "type": "scatter",
         "x": {
          "bdata": "qUgLwFoZzL9UlFDC",
          "dtype": "f4"
         },
         "xaxis": "x",
         "y": {
          "bdata": "RTk2QcQE90EYxYZB",
          "dtype": "f4"
         },
         "yaxis": "y"
        },
        {
         "legendgroup": "gt",
         "marker": {
          "color": "#2ca02c",
          "size": 6
         },
         "mode": "markers",
         "name": "GT Group 10",
         "showlegend": false,
         "type": "scatter",
         "x": {
          "bdata": "DhP8QG45BUJV+ghC",
          "dtype": "f4"
         },
         "xaxis": "x",
         "y": {
          "bdata": "9FASQu2B8kCPJoHB",
          "dtype": "f4"
         },
         "yaxis": "y"
        },
        {
         "legendgroup": "gt",
         "marker": {
          "color": "#2ca02c",
          "size": 6
         },
         "mode": "markers",
         "name": "GT Group 11",
         "showlegend": false,
         "type": "scatter",
         "x": {
          "bdata": "qYszQpieI0IvuFBCy+weQg==",
          "dtype": "f4"
         },
         "xaxis": "x",
         "y": {
          "bdata": "AITeQHXRAcJL7MNBgcUGwg==",
          "dtype": "f4"
         },
         "yaxis": "y"
        },
        {
         "legendgroup": "gt",
         "marker": {
          "color": "#98df8a",
          "size": 6
         },
         "mode": "markers",
         "name": "GT Group 12",
         "showlegend": false,
         "type": "scatter",
         "x": {
          "bdata": "hbeGQQxXOEJB/jZCQ5V1wpMNgUG37ApC",
          "dtype": "f4"
         },
         "xaxis": "x",
         "y": {
          "bdata": "R7E2wC1A0UBybzzBorakwdqAQ8CAboDA",
          "dtype": "f4"
         },
         "yaxis": "y"
        },
        {
         "legendgroup": "gt",
         "marker": {
          "color": "#98df8a",
          "size": 6
         },
         "mode": "markers",
         "name": "GT Group 13",
         "showlegend": false,
         "type": "scatter",
         "x": {
          "bdata": "dXkNQoThcUL1oFtCWB1HQifTQULRKvlBuFhvQgbsc0LCHHdBCkNUQrTnCUK9H2VC",
          "dtype": "f4"
         },
         "xaxis": "x",
         "y": {
          "bdata": "LFwAwimJP8G6r5PAHmiuQcd2H8CPcBHAmGzEQG7gRsHxYwpCa41awBHu+sEzgNtA",
          "dtype": "f4"
         },
         "yaxis": "y"
        },
        {
         "legendgroup": "gt",
         "marker": {
          "color": "#98df8a",
          "size": 6
         },
         "mode": "markers",
         "name": "GT Group 14",
         "showlegend": false,
         "type": "scatter",
         "x": {
          "bdata": "X4JlQcZyXEGoHqJB4sWeQf7Fib8al4RC",
          "dtype": "f4"
         },
         "xaxis": "x",
         "y": {
          "bdata": "rDY7wqXZM8JSJVTCqA5MwiBxTsJOAJLB",
          "dtype": "f4"
         },
         "yaxis": "y"
        },
        {
         "legendgroup": "gt",
         "marker": {
          "color": "#d62728",
          "size": 6
         },
         "mode": "markers",
         "name": "GT Group 15",
         "showlegend": false,
         "type": "scatter",
         "x": {
          "bdata": "HUmKwbwAhsGVal9B8nyYwEB9WEFnmXTAArwrwQ==",
          "dtype": "f4"
         },
         "xaxis": "x",
         "y": {
          "bdata": "JXiJwZoVhMGGDzfCAevvwUT0LMIAw2rBzZZrwQ==",
          "dtype": "f4"
         },
         "yaxis": "y"
        },
        {
         "legendgroup": "gt",
         "marker": {
          "color": "#d62728",
          "size": 6
         },
         "mode": "markers",
         "name": "GT Group 16",
         "showlegend": false,
         "type": "scatter",
         "x": {
          "bdata": "ZAvPwbBP3cFXN9XBpYDmwf3TTML/5brA",
          "dtype": "f4"
         },
         "xaxis": "x",
         "y": {
          "bdata": "uu7gwU/D68Es4+HBkf7QwTCpZEHpqvXB",
          "dtype": "f4"
         },
         "yaxis": "y"
        },
        {
         "legendgroup": "gt",
         "marker": {
          "color": "#ff9896",
          "size": 6
         },
         "mode": "markers",
         "name": "GT Group 17",
         "showlegend": false,
         "type": "scatter",
         "x": {
          "bdata": "xDotwULmPUGewYVCuHPawA/Vs0G7DrBBuwoVwQ6bKsE=",
          "dtype": "f4"
         },
         "xaxis": "x",
         "y": {
          "bdata": "GLQCwp16HkFcH53BSKB2wiEHC8LZiwzCjE/nwdJxzcE=",
          "dtype": "f4"
         },
         "yaxis": "y"
        },
        {
         "legendgroup": "gt",
         "marker": {
          "color": "#ff9896",
          "size": 6
         },
         "mode": "markers",
         "name": "GT Group 18",
         "showlegend": false,
         "type": "scatter",
         "x": {
          "bdata": "tPZ1QeA17sBf5Fi/DY0WvzuWEkHyLCjBcEVIwA==",
          "dtype": "f4"
         },
         "xaxis": "x",
         "y": {
          "bdata": "MMgSwnDuYcIhERPCLW8VwnVzEEHZQgDCBUoKwg==",
          "dtype": "f4"
         },
         "yaxis": "y"
        },
        {
         "legendgroup": "gt",
         "marker": {
          "color": "#ff9896",
          "size": 6
         },
         "mode": "markers",
         "name": "GT Group 19",
         "showlegend": false,
         "type": "scatter",
         "x": {
          "bdata": "eMrAQJbXPsEJHqNB0IebwTopr8A=",
          "dtype": "f4"
         },
         "xaxis": "x",
         "y": {
          "bdata": "KGYBwlilfMFos07Ci4ANwn3kicE=",
          "dtype": "f4"
         },
         "yaxis": "y"
        },
        {
         "legendgroup": "gt",
         "marker": {
          "color": "#9467bd",
          "size": 6
         },
         "mode": "markers",
         "name": "GT Group 20",
         "showlegend": false,
         "type": "scatter",
         "x": {
          "bdata": "x32LQQ==",
          "dtype": "f4"
         },
         "xaxis": "x",
         "y": {
          "bdata": "T+YVwg==",
          "dtype": "f4"
         },
         "yaxis": "y"
        },
        {
         "legendgroup": "gt",
         "marker": {
          "color": "#9467bd",
          "size": 6
         },
         "mode": "markers",
         "name": "GT Group 21",
         "showlegend": false,
         "type": "scatter",
         "x": {
          "bdata": "XQ8ewOrQBsE=",
          "dtype": "f4"
         },
         "xaxis": "x",
         "y": {
          "bdata": "9NRJwuTqH8I=",
          "dtype": "f4"
         },
         "yaxis": "y"
        },
        {
         "legendgroup": "gt",
         "marker": {
          "color": "#c5b0d5",
          "size": 6
         },
         "mode": "markers",
         "name": "GT Group 22",
         "showlegend": false,
         "type": "scatter",
         "x": {
          "bdata": "bkeywXodv0FyxLhBrCjGQQ==",
          "dtype": "f4"
         },
         "xaxis": "x",
         "y": {
          "bdata": "4f82wlWCCkLadz9C3CxBQg==",
          "dtype": "f4"
         },
         "yaxis": "y"
        },
        {
         "legendgroup": "gt",
         "marker": {
          "color": "#c5b0d5",
          "size": 6
         },
         "mode": "markers",
         "name": "GT Group 23",
         "showlegend": false,
         "type": "scatter",
         "x": {
          "bdata": "j0QbQfwSAMLGCc897QfMwZ7KlMF3nDZCrszXQReIFkH3aM7Aih/6wObFSMItjDJBFZsJQR5QEELpE8nBweKCQqKzhkFPaDXC+hNtQQ==",
          "dtype": "f4"
         },
         "xaxis": "x",
         "y": {
          "bdata": "OOe6wLLhN8EJbFPAMrJ+wvOakcEwaALBh+kZP8Q+QkG2NctBGP5fwhUgkEEWo6LAZCPNwMCjLUGy3H/CwJ+XwW4HFcKBCknBeQcLQg==",
          "dtype": "f4"
         },
         "yaxis": "y"
        },
        {
         "legendgroup": "gt",
         "marker": {
          "color": "#8c564b",
          "size": 6
         },
         "mode": "markers",
         "name": "GT Group 24",
         "showlegend": false,
         "type": "scatter",
         "x": {
          "bdata": "yO//QbzYAcJpPAjCOzhYwrNMOUKKYwRC6WjrwZ2CjcEFawXCqYgTQeMhLcD0AwhC",
          "dtype": "f4"
         },
         "xaxis": "x",
         "y": {
          "bdata": "d91jwKdKL8BbHpPAp5wWwHQbAEDO9HPArjdTwlrjBUEJSHbAdqQvQfXCT0K92DLB",
          "dtype": "f4"
         },
         "yaxis": "y"
        },
        {
         "legendgroup": "gt",
         "marker": {
          "color": "#8c564b",
          "size": 6
         },
         "mode": "markers",
         "name": "GT Group 25",
         "showlegend": false,
         "type": "scatter",
         "x": {
          "bdata": "6EM8Quz7HEJe9EpCF59VQgIlN0KcHGVB9oQJvl5V40HtzlFCv1lMQoVBDkIWyUBC",
          "dtype": "f4"
         },
         "xaxis": "x",
         "y": {
          "bdata": "gubTwdXtFkEsOfpBriTLv1mBiMABy2bAlJZ4wDSvPkIMUHfAZBjBQR/95MGJbrJA",
          "dtype": "f4"
         },
         "yaxis": "y"
        },
        {
         "legendgroup": "gt",
         "marker": {
          "color": "#8c564b",
          "size": 6
         },
         "mode": "markers",
         "name": "GT Group 26",
         "showlegend": false,
         "type": "scatter",
         "x": {
          "bdata": "k8YsQgNGOUIR1B5CddkyQnP4PEKLCSJCj9QWwP6RO0JJcmFCz5guQnwt4sE=",
          "dtype": "f4"
         },
         "xaxis": "x",
         "y": {
          "bdata": "nmm5wMw6QMGCcjXB8N64wDBhvUApUjXBCI8jwemOWUCJx6pAVZ1EwayfeD0=",
          "dtype": "f4"
         },
         "yaxis": "y"
        },
        {
         "legendgroup": "gt",
         "marker": {
          "color": "#c49c94",
          "size": 6
         },
         "mode": "markers",
         "name": "GT Group 27",
         "showlegend": false,
         "type": "scatter",
         "x": {
          "bdata": "r8wrwrSOXUHEb0tBCRi/QCW8gELZiZHB04ASQiACAMI=",
          "dtype": "f4"
         },
         "xaxis": "x",
         "y": {
          "bdata": "LRn2wbP0uMH4a+JBQL0hQi4afcFphwNBOT1DQY9pvL8=",
          "dtype": "f4"
         },
         "yaxis": "y"
        },
        {
         "legendgroup": "gt",
         "marker": {
          "color": "#c49c94",
          "size": 6
         },
         "mode": "markers",
         "name": "GT Group 28",
         "showlegend": false,
         "type": "scatter",
         "x": {
          "bdata": "UXnuwZoje0JA0rTB18hBwpsEAMIfN/I/yDNWwvw9xcF8xsrBabcPQs2H17+BgMdBA2bQQZtH1UHucrrBUcHrQWhWJ0A=",
          "dtype": "f4"
         },
         "xaxis": "x",
         "y": {
          "bdata": "0INUwkplXsFsX+jBXqqWQWf/QMHLbVvCQYSzQXXMPsKkFjnCUJMhQXrwNUFbaUdCKqXQQakUPEIp6EPCADcBQgahXMI=",
          "dtype": "f4"
         },
         "yaxis": "y"
        },
        {
         "legendgroup": "gt",
         "marker": {
          "color": "#e377c2",
          "size": 6
         },
         "mode": "markers",
         "name": "GT Group 29",
         "showlegend": false,
         "type": "scatter",
         "x": {
          "bdata": "I+QPwEpthkJt31XB2eQwwenRVsE6rz5Bw/sLwuWsO8DwYTlA+2vEwP/XNcHUNrFBPQMpwUUks0HL6AFC5e/swH5swMA=",
          "dtype": "f4"
         },
         "xaxis": "x",
         "y": {
          "bdata": "+WPhQagbjMHEaZFBPAHpwZgpjkFstpbA/ENVv+o9ccEZ2ANCqYXRQa9m00EA59JACQ3TQY/LwUA40vHBvHfnwUas1cE=",
          "dtype": "f4"
         },
         "yaxis": "y"
        },
        {
         "legendgroup": "gt",
         "marker": {
          "color": "#e377c2",
          "size": 6
         },
         "mode": "markers",
         "name": "GT Group 30",
         "showlegend": false,
         "type": "scatter",
         "x": {
          "bdata": "EQ2nwAyPb8DHwQbAX2BIwA==",
          "dtype": "f4"
         },
         "xaxis": "x",
         "y": {
          "bdata": "JK2GQqBqg0KCr4VCf2+EQg==",
          "dtype": "f4"
         },
         "yaxis": "y"
        },
        {
         "legendgroup": "gt",
         "marker": {
          "color": "#e377c2",
          "size": 6
         },
         "mode": "markers",
         "name": "GT Group 31",
         "showlegend": false,
         "type": "scatter",
         "x": {
          "bdata": "K+tYwFL1hcCpd3rAcWECwC1/d8A=",
          "dtype": "f4"
         },
         "xaxis": "x",
         "y": {
          "bdata": "392dQkoToULdRJ5CvJqdQsHlh0I=",
          "dtype": "f4"
         },
         "yaxis": "y"
        },
        {
         "legendgroup": "gt",
         "marker": {
          "color": "#f7b6d2",
          "size": 6
         },
         "mode": "markers",
         "name": "GT Group 32",
         "showlegend": false,
         "type": "scatter",
         "x": {
          "bdata": "uoqnQY8MuUFZXaJBGAnDQTQ/0EECeuRBaOFqQrno+0E3iDHB2BiAwCE5OcEglXnAzP+gQZGFikGqwHxBy/JlQQ==",
          "dtype": "f4"
         },
         "xaxis": "x",
         "y": {
          "bdata": "BPJ9wT2vO8F51YPBxWxAwRvaIMFysgbBChs7wTqEG8EHUJpCPTWMQi6VmUKXEo9CS/lawjafssEi9bTBQIf5QQ==",
          "dtype": "f4"
         },
         "yaxis": "y"
        },
        {
         "legendgroup": "gt",
         "marker": {
          "color": "#f7b6d2",
          "size": 6
         },
         "mode": "markers",
         "name": "GT Group 33",
         "showlegend": false,
         "type": "scatter",
         "x": {
          "bdata": "AVJDQiaNY8IUSXDCE6BjwprO10AHfn/CF4Frwg==",
          "dtype": "f4"
         },
         "xaxis": "x",
         "y": {
          "bdata": "uFX7QKwMeUHLukHBSd6Lwb46HEKjx5pBs9ZdQQ==",
          "dtype": "f4"
         },
         "yaxis": "y"
        },
        {
         "legendgroup": "gt",
         "marker": {
          "color": "#7f7f7f",
          "size": 6
         },
         "mode": "markers",
         "name": "GT Group 34",
         "showlegend": false,
         "type": "scatter",
         "x": {
          "bdata": "C+2Rwe1VScIY82nCTKkJQo/DDkKDK2vCUWgrwkUI18GymW7C4sZqwojza8Jij/pABo9QwnsaTEIpwzfC4fNVwoF1NcKxSOfB",
          "dtype": "f4"
         },
         "xaxis": "x",
         "y": {
          "bdata": "9REcQtwpT0GnoxJBDoMCQV3qUMGvT6nBC9uKwflVPsK4yVLBm+IbQVEJhsHaXwtCZT1+Qeo15kH5fSjBX+CNQRsGd0D8YYxB",
          "dtype": "f4"
         },
         "yaxis": "y"
        },
        {
         "legendgroup": "gt",
         "marker": {
          "color": "#7f7f7f",
          "size": 6
         },
         "mode": "markers",
         "name": "GT Group 35",
         "showlegend": false,
         "type": "scatter",
         "x": {
          "bdata": "STRnwvYBPMIgOWDCwyeDwjKmkMJAIpHCcWI2wkJha8JwTJTAqeBlwu7YcsI=",
          "dtype": "f4"
         },
         "xaxis": "x",
         "y": {
          "bdata": "OdjtQaShS8A1LoFB+3GaQQ57gEGQTHtBJ2AbwZ2YfsEM9DPBK9brQQZchsE=",
          "dtype": "f4"
         },
         "yaxis": "y"
        },
        {
         "legendgroup": "gt",
         "marker": {
          "color": "#c7c7c7",
          "size": 6
         },
         "mode": "markers",
         "name": "GT Group 36",
         "showlegend": false,
         "type": "scatter",
         "x": {
          "bdata": "4G+NwRMHeMG4/5XBnkOIwY8KhMHBjKPBckydwdiEDME=",
          "dtype": "f4"
         },
         "xaxis": "x",
         "y": {
          "bdata": "0A8tQok7JELp1C9CMioqQnxCJUL/zBRCd5oXQv+1LkI=",
          "dtype": "f4"
         },
         "yaxis": "y"
        },
        {
         "legendgroup": "gt",
         "marker": {
          "color": "#c7c7c7",
          "size": 6
         },
         "mode": "markers",
         "name": "GT Group 37",
         "showlegend": false,
         "type": "scatter",
         "x": {
          "bdata": "Z9fPP+2DaUDP2ok/9WkOQi5ka0Ia6W7CyvEgwc4q9MFO3F1CFGYnQQ==",
          "dtype": "f4"
         },
         "xaxis": "x",
         "y": {
          "bdata": "W3jBQBoF7ECO2cVA4wB3wVsPCkFbXp7BWxzWwTvYg8Ae3QZBUVOMwQ==",
          "dtype": "f4"
         },
         "yaxis": "y"
        },
        {
         "legendgroup": "gt",
         "marker": {
          "color": "#c7c7c7",
          "size": 6
         },
         "mode": "markers",
         "name": "GT Group 38",
         "showlegend": false,
         "type": "scatter",
         "x": {
          "bdata": "F1+MwV/YhcFiDkJCl+ooQgh7PELYOTxCg8UmwlXWIsLy8OXA",
          "dtype": "f4"
         },
         "xaxis": "x",
         "y": {
          "bdata": "au5bwgv2XMKIguzBMiz+wbPS48HQdujBAaiTweYznMH5Z5LB",
          "dtype": "f4"
         },
         "yaxis": "y"
        },
        {
         "legendgroup": "gt",
         "marker": {
          "color": "#bcbd22",
          "size": 6
         },
         "mode": "markers",
         "name": "GT Group 39",
         "showlegend": false,
         "type": "scatter",
         "x": {
          "bdata": "7WiEwC3bTcFjAW5BoZkMQsVtI8IVD0LBFmijP6A+EUJsY3bBFgYXQjXMA0JQxGZB863AwehEUcCN0h9CWArmwIYaXsGav5TALHaRwUFZgUAHAQVCYTYNQl5MEMBRHMvBXtV9Qa4SDME=",
          "dtype": "f4"
         },
         "xaxis": "x",
         "y": {
          "bdata": "MhQ9wgaoUMJt/qjBtTcjwvlg8cE29KnAqyP1wSLfAsLVmFjCIfL2wU5YBsLcYaLBuw7nwTsB90F8SA7CUKN1wqodVMIcskTCfTYZwnNeXsIzaRK+gp4LworsTEK18EDCzCKgwXT7WcI=",
          "dtype": "f4"
         },
         "yaxis": "y"
        },
        {
         "legendgroup": "gt",
         "marker": {
          "color": "#bcbd22",
          "size": 6
         },
         "mode": "markers",
         "name": "GT Group 40",
         "showlegend": false,
         "type": "scatter",
         "x": {
          "bdata": "O6jIwfjN4EGgFMC/FrQrwZqEKEFmoObBOEjwQYRuwMBF7T8/BBW2wHC+A8EDOSTBy5bfwQ==",
          "dtype": "f4"
         },
         "xaxis": "x",
         "y": {
          "bdata": "lxXNQEebE7/3y0dCNGObwKMmGUKGmU5AnJqgwOOWOUKJ7CpCbGsowS796MD9bIrAIkv/QA==",
          "dtype": "f4"
         },
         "yaxis": "y"
        },
        {
         "legendgroup": "gt",
         "marker": {
          "color": "#dbdb8d",
          "size": 6
         },
         "mode": "markers",
         "name": "GT Group 41",
         "showlegend": false,
         "type": "scatter",
         "x": {
          "bdata": "u2nRwRg/4MGUHNfBwgHYwC9H6cBs++LB",
          "dtype": "f4"
         },
         "xaxis": "x",
         "y": {
          "bdata": "xPEeQDcOAUAXldlANMs0QrxNMkKePAZB",
          "dtype": "f4"
         },
         "yaxis": "y"
        },
        {
         "legendgroup": "gt",
         "marker": {
          "color": "#dbdb8d",
          "size": 6
         },
         "mode": "markers",
         "name": "GT Group 42",
         "showlegend": false,
         "type": "scatter",
         "x": {
          "bdata": "ZVFMwgs6osDot/LBfuM+wvtOPsJTN1fCkgK2QVtlX0DhzLHAR2dKwmrZQcI=",
          "dtype": "f4"
         },
         "xaxis": "x",
         "y": {
          "bdata": "ugZ2wU8bk8Fh4cbBgx1gwTwuU8HHY/i/AVdLwv3RxUFfukXCrjYrwaduh8A=",
          "dtype": "f4"
         },
         "yaxis": "y"
        },
        {
         "legendgroup": "gt",
         "marker": {
          "color": "#dbdb8d",
          "size": 6
         },
         "mode": "markers",
         "name": "GT Group 43",
         "showlegend": false,
         "type": "scatter",
         "x": {
          "bdata": "7eshQrceJULhNwhCn828QXI4k8G3YhxCv4sFQg==",
          "dtype": "f4"
         },
         "xaxis": "x",
         "y": {
          "bdata": "1FlUwqTUVMLeDTrC16+IQf7HFsJG5FLCdkk8wg==",
          "dtype": "f4"
         },
         "yaxis": "y"
        },
        {
         "legendgroup": "gt",
         "marker": {
          "color": "#17becf",
          "size": 6
         },
         "mode": "markers",
         "name": "GT Group 44",
         "showlegend": false,
         "type": "scatter",
         "x": {
          "bdata": "9WLcQRhCA0IrGg1Ch3znQXB850F3UbNBhJHIQZlqDUIqIKtByhW2QQRvx0FAC81BgDbbQVTC0UGMmJ1BqXIKwKQq60FI/plB9xxzvQ==",
          "dtype": "f4"
         },
         "xaxis": "x",
         "y": {
          "bdata": "0426QWUpH8EgwTTCc8oJQsO/uUGGAQlCgTSUQcP7KcIBLAdCsX+CQRsijUHSjsBBIB8Ywe7sg0FgVcdBinLXQWkyB0KXM9RBiRHvQQ==",
          "dtype": "f4"
         },
         "yaxis": "y"
        },
        {
         "legendgroup": "gt",
         "marker": {
          "color": "#17becf",
          "size": 6
         },
         "mode": "markers",
         "name": "GT Group 45",
         "showlegend": false,
         "type": "scatter",
         "x": {
          "bdata": "k5LFQZRPAEKZKIpAqokNQh4DwkEk3DhBT1H4QQ==",
          "dtype": "f4"
         },
         "xaxis": "x",
         "y": {
          "bdata": "2AQOQj6/P8JXIQHC68AswmShwEFYI5PBV+UJQg==",
          "dtype": "f4"
         },
         "yaxis": "y"
        },
        {
         "legendgroup": "gt",
         "marker": {
          "color": "#9edae5",
          "size": 6
         },
         "mode": "markers",
         "name": "GT Group 46",
         "showlegend": false,
         "type": "scatter",
         "x": {
          "bdata": "jFYXQuROM8KPjznCaopGwtJnNcI=",
          "dtype": "f4"
         },
         "xaxis": "x",
         "y": {
          "bdata": "MrJQwpP9BcE3YC3AM8Q6wRWYRb8=",
          "dtype": "f4"
         },
         "yaxis": "y"
        },
        {
         "legendgroup": "gt",
         "marker": {
          "color": "#9edae5",
          "size": 6
         },
         "mode": "markers",
         "name": "GT Group 47",
         "showlegend": false,
         "type": "scatter",
         "x": {
          "bdata": "5m5FwtoMPMI=",
          "dtype": "f4"
         },
         "xaxis": "x",
         "y": {
          "bdata": "UnlxwUQeiUA=",
          "dtype": "f4"
         },
         "yaxis": "y"
        },
        {
         "legendgroup": "gt",
         "marker": {
          "color": "#9edae5",
          "size": 6
         },
         "mode": "markers",
         "name": "GT Group 48",
         "showlegend": false,
         "type": "scatter",
         "x": {
          "bdata": "F4Ynwuh5hMG0ICfC",
          "dtype": "f4"
         },
         "xaxis": "x",
         "y": {
          "bdata": "sSkBwnjqY8KdDPfB",
          "dtype": "f4"
         },
         "yaxis": "y"
        },
        {
         "legendgroup": "pred",
         "marker": {
          "color": "#1f77b4",
          "size": 6
         },
         "mode": "markers",
         "name": "Pred Group 0",
         "showlegend": false,
         "type": "scatter",
         "x": {
          "bdata": "VJRQwgaPUML7Tj7CKcM3wubFSMKbBADCUzdXwuHzVcImjWPCcWI2whjzacJCYWvCaopGwkAikcL900zCURzLweROM8IgOWDC1cNWwojza8J+4z7C9gE8wulo68FHZ0rCqeBlwqrBeMJq2UHCvNgBwhrpbsKBdTXCRQjXwXzGysH8EgDCspluwk9oNcL8PcXBw/sLwtoMPMLu2HLCwgHYwOZuRcLIM1bCZVFMwmk8CMLz5jLC7VVJwg==",
          "dtype": "f4"
         },
         "xaxis": "x2",
         "y": {
          "bdata": "GMWGQWU9fkE8LlPB+X0owRUgkEFn/0DBx2P4v1/gjUGsDHlBJ2AbwaejEkGdmH7BM8Q6wZBMe0EwqWRBtfBAwpP9BcE1LoFBDUyrQVEJhsGDHWDBpKFLwK43U8KuNivBK9brQWBxmkGnbofAp0ovwFtensEbBndA+VU+wqQWOcKy4TfBuMlSwYEKScF1zD7C/ENVv0QeiUAGXIbBNMs0QlJ5ccFBhLNBugZ2wVsek8B9P39A3ClPQQ==",
          "dtype": "f4"
         },
         "yaxis": "y2"
        },
        {
         "legendgroup": "pred",
         "marker": {
          "color": "#1f77b4",
          "size": 6
         },
         "mode": "markers",
         "name": "Pred Group 1",
         "showlegend": false,
         "type": "scatter",
         "x": {
          "bdata": "yO//QYpjBEKEkchBGEIDQndRs0EHAQVCwhx3QQ4T/EAzn/tABG/HQQJ65EFgBqFBjJidQcoVtkHRKvlBmWoNQmeZdMBptw9CddkyQlX6CEL1aQ5CUcHrQfjN4EEKQ1RCXtV9QfaECb6HfOdBTKkJQgIlN0JC5j1BtOcJQp/NvEGaztdApCrrQf6RO0J1eQ1CHlAQQlWXEkKwpkZCKiCrQQNGOULGCc89Re0/P4/DDkIYINVB",
          "dtype": "f4"
         },
         "xaxis": "x2",
         "y": {
          "bdata": "d91jwM70c8CBNJRBZSkfwYYBCUIzaRK+8WMKQvRQEkJkVBVCGyKNQXKyBsEFVsZBYFXHQbF/gkGPcBHAw/spwgDDasFQkyFB8N64wI8mgcHjAHfBADcBQkebE79rjVrAzCKgwZSWeMBzyglCDoMCQVmBiMCdeh5BEe76wdeviEG+OhxCaTIHQumOWUAsXADCwKMtQS2qiMGOarRBASwHQsw6QMEJbFPAiewqQl3qUMF3sDhC",
          "dtype": "f4"
         },
         "yaxis": "y2"
        },
        {
         "legendgroup": "pred",
         "marker": {
          "color": "#1f77b4",
          "size": 6
         },
         "mode": "markers",
         "name": "Pred Group 2",
         "showlegend": false,
         "type": "scatter",
         "x": {
          "bdata": "oD4RQsvsHkJhNg1CFgYXQjXMA0KGGl7BmJ4jQvQDCEKLCSJC2Dk8Qq4SDMGzTDlChUEOQgh7PEIuZGtCJ9NBQhHUHkJYHUdCQf42Qu3OUUKhmQxCl+ooQmMBbkFsY3bBKxoNQg==",
          "dtype": "f4"
         },
         "xaxis": "x2",
         "y": {
          "bdata": "It8CwoHFBsKCngvCIfL2wU5YBsKqHVTCddEBwr3YMsEpUjXB0HbowXT7WcJ0GwBAH/3kwbPS48FbDwpBx3YfwIJyNcEeaK5Bcm88wQxQd8C1NyPCMiz+wW3+qMHVmFjCIME0wg==",
          "dtype": "f4"
         },
         "yaxis": "y2"
        },
        {
         "legendgroup": "pred",
         "marker": {
          "color": "#1f77b4",
          "size": 6
         },
         "mode": "markers",
         "name": "Pred Group 3",
         "showlegend": false,
         "type": "scatter",
         "x": {
          "bdata": "fmzAwDopr8DyfJjA/+W6wEUks0HyLCjB5aw7wMHigkJt31XBcEVIwOrQBsEfKQvBI+QPwHBMlMCWd2FAvACGwWS59sGpiBNB6dFWwehEUcByOJPB",
          "dtype": "f4"
         },
         "xaxis": "x2",
         "y": {
          "bdata": "RqzVwX3kicEB6+/B6ar1wY/LwUDZQgDC6j1xwcCfl8HEaZFBBUoKwuTqH8IL9B3C+WPhQQz0M8H75gDCmhWEwex4w8F2pC9BmCmOQTsB90H+xxbC",
          "dtype": "f4"
         },
         "yaxis": "y2"
        },
        {
         "legendgroup": "pred",
         "marker": {
          "color": "#1f77b4",
          "size": 6
         },
         "mode": "markers",
         "name": "Pred Group 4",
         "showlegend": false,
         "type": "scatter",
         "x": {
          "bdata": "UMRmQZq/lMBA0rTBWV2iQZGFikFf2IXBJNw4QRa0K8H7a8TAYg5CQu0HzMHtaITAFmijP8Q6LcHpE8nBLHaRwarAfEE=",
          "dtype": "f4"
         },
         "xaxis": "x2",
         "y": {
          "bdata": "3GGiwRyyRMJsX+jBedWDwTafssEL9lzCWCOTwTRjm8CphdFBiILswTKyfsIyFD3CqyP1wRi0AsKy3H/CfTYZwiL1tME=",
          "dtype": "f4"
         },
         "yaxis": "y2"
        },
        {
         "legendgroup": "pred",
         "marker": {
          "color": "#1f77b4",
          "size": 6
         },
         "mode": "markers",
         "name": "Pred Group 5",
         "showlegend": false,
         "type": "scatter",
         "x": {
          "bdata": "eh2/QU9R+EH3HHO9QAvNQalyCsC1OEtCcHznQfBhOUCTksVBm0fVQZkoikATB3jB9WLcQYA220EcDytBFElwwg==",
          "dtype": "f4"
         },
         "xaxis": "x2",
         "y": {
          "bdata": "VYIKQlflCUKJEe9B0o7AQYpy10GqV/VBw7+5QRnYA0LYBA5CqRQ8QlchAcKJOyRC0426QSAfGMEb5UlBy7pBwQ==",
          "dtype": "f4"
         },
         "yaxis": "y2"
        },
        {
         "legendgroup": "pred",
         "marker": {
          "color": "#1f77b4",
          "size": 6
         },
         "mode": "markers",
         "name": "Pred Group 6",
         "showlegend": false,
         "type": "scatter",
         "x": {
          "bdata": "LX93wF9gSMARDafAx8EGwAyPb8DYGIDA3btfwSE5OcG11VnBcWECwDeIMcFS9YXAkZoBQSvrWMAugxBB",
          "dtype": "f4"
         },
         "xaxis": "x2",
         "y": {
          "bdata": "weWHQn9vhEIkrYZCgq+FQqBqg0I9NYxCkMeVQi6VmULWNJZCvJqdQgdQmkJKE6FCrUFzQt/dnUK/1G5C",
          "dtype": "f4"
         },
         "yaxis": "y2"
        },
        {
         "legendgroup": "pred",
         "marker": {
          "color": "#aec7e8",
          "size": 6
         },
         "mode": "markers",
         "name": "Pred Group 7",
         "showlegend": false,
         "type": "scatter",
         "x": {
          "bdata": "2eQwwcrxIMGMa07BxW0jwl5MEMC7ChXBpYDmweXv7MC0ICfC4yEtwK/MK8JAfVhBltc+wQ==",
          "dtype": "f4"
         },
         "xaxis": "x2",
         "y": {
          "bdata": "PAHpwVsc1sGq94HB+WDxwYrsTEKMT+fBkf7Qwbx358GdDPfB9cJPQi0Z9sFE9CzCWKV8wQ==",
          "dtype": "f4"
         },
         "yaxis": "y2"
        },
        {
         "legendgroup": "pred",
         "marker": {
          "color": "#aec7e8",
          "size": 6
         },
         "mode": "markers",
         "name": "Pred Group 8",
         "showlegend": false,
         "type": "scatter",
         "x": {
          "bdata": "DFc4QhbJQEIBUkNCSXJhQnecNkK/WUxCL7hQQoW3hkHs+xxCOq8+QQ==",
          "dtype": "f4"
         },
         "xaxis": "x2",
         "y": {
          "bdata": "LUDRQIluskC4VftAiceqQDBoAsFkGMFBS+zDQUexNsDV7RZBbLaWwA==",
          "dtype": "f4"
         },
         "yaxis": "y2"
        },
        {
         "legendgroup": "pred",
         "marker": {
          "color": "#aec7e8",
          "size": 6
         },
         "mode": "markers",
         "name": "Pred Group 9",
         "showlegend": false,
         "type": "scatter",
         "x": {
          "bdata": "DPJNwsf5UMLfyVXCMHZVwsffS8IhvVvC2qNFwoog5cHJ3/LB",
          "dtype": "f4"
         },
         "xaxis": "x2",
         "y": {
          "bdata": "Bs1cQp3vYULGJVtCwX9XQutCZELJP11CLBpiQgnaWkJmLmBC",
          "dtype": "f4"
         },
         "yaxis": "y2"
        },
        {
         "legendgroup": "pred",
         "marker": {
          "color": "#aec7e8",
          "size": 6
         },
         "mode": "markers",
         "name": "Pred Group 10",
         "showlegend": false,
         "type": "scatter",
         "x": {
          "bdata": "B35/wgVrBcIXgWvCl0ENQeLGasKHEXTCXXdPwqlIC8A=",
          "dtype": "f4"
         },
         "xaxis": "x2",
         "y": {
          "bdata": "o8eaQQlIdsCz1l1BHzxqQpviG0FmgJpBkbwgwUU5NkE=",
          "dtype": "f4"
         },
         "yaxis": "y2"
        },
        {
         "legendgroup": "pred",
         "marker": {
          "color": "#aec7e8",
          "size": 6
         },
         "mode": "markers",
         "name": "Pred Group 11",
         "showlegend": false,
         "type": "scatter",
         "x": {
          "bdata": "x32LQbT2dUG7DrBBDpsqweA17sCoHqJBz9qJP9CHm8E=",
          "dtype": "f4"
         },
         "xaxis": "x2",
         "y": {
          "bdata": "T+YVwjDIEsLZiwzC0nHNwXDuYcJSJVTCjtnFQIuADcI=",
          "dtype": "f4"
         },
         "yaxis": "y2"
        },
        {
         "legendgroup": "pred",
         "marker": {
          "color": "#aec7e8",
          "size": 6
         },
         "mode": "markers",
         "name": "Pred Group 12",
         "showlegend": false,
         "type": "scatter",
         "x": {
          "bdata": "F4gWQTuWEkHtg2lAZ9fPP6KzhkHhzLHA92jOwA==",
          "dtype": "f4"
         },
         "xaxis": "x2",
         "y": {
          "bdata": "xD5CQXVzEEEaBexAW3jBQG4HFcJfukXCtjXLQQ==",
          "dtype": "f4"
         },
         "yaxis": "y2"
        },
        {
         "legendgroup": "pred",
         "marker": {
          "color": "#aec7e8",
          "size": 6
         },
         "mode": "markers",
         "name": "Pred Group 13",
         "showlegend": false,
         "type": "scatter",
         "x": {
          "bdata": "ZAvPwfOtwMGVal9BDY0Wv2+2hsGewYVCX+RYvw==",
          "dtype": "f4"
         },
         "xaxis": "x2",
         "y": {
          "bdata": "uu7gwbsO58GGDzfCLW8Vwg13cMFcH53BIRETwg==",
          "dtype": "f4"
         },
         "yaxis": "y2"
        },
        {
         "legendgroup": "pred",
         "marker": {
          "color": "#ff7f0e",
          "size": 6
         },
         "mode": "markers",
         "name": "Pred Group 14",
         "showlegend": false,
         "type": "scatter",
         "x": {
          "bdata": "j485wlFoK8JXN9XBOzhYwkFZgUAJHqNB",
          "dtype": "f4"
         },
         "xaxis": "x2",
         "y": {
          "bdata": "N2AtwAvbisEs4+HBp5wWwHNeXsJos07C",
          "dtype": "f4"
         },
         "yaxis": "y2"
        },
        {
         "legendgroup": "pred",
         "marker": {
          "color": "#ff7f0e",
          "size": 6
         },
         "mode": "markers",
         "name": "Pred Group 15",
         "showlegend": false,
         "type": "scatter",
         "x": {
          "bdata": "m6NoQrhYb0ICvCvBvR9lQlXWIsJz+DxC",
          "dtype": "f4"
         },
         "xaxis": "x2",
         "y": {
          "bdata": "8zDmQJhsxEDNlmvBM4DbQOYznMEwYb1A",
          "dtype": "f4"
         },
         "yaxis": "y2"
        },
        {
         "legendgroup": "pred",
         "marker": {
          "color": "#ff7f0e",
          "size": 6
         },
         "mode": "markers",
         "name": "Pred Group 16",
         "showlegend": false,
         "type": "scatter",
         "x": {
          "bdata": "qYszQrfsCkKE4XFCF59VQuhDPEI=",
          "dtype": "f4"
         },
         "xaxis": "x2",
         "y": {
          "bdata": "AITeQIBugMApiT/BriTLv4Lm08E=",
          "dtype": "f4"
         },
         "yaxis": "y2"
        },
        {
         "legendgroup": "pred",
         "marker": {
          "color": "#ff7f0e",
          "size": 6
         },
         "mode": "markers",
         "name": "Pred Group 17",
         "showlegend": false,
         "type": "scatter",
         "x": {
          "bdata": "GD/gwSACAMKUHNfBzir0wWag5sE=",
          "dtype": "f4"
         },
         "xaxis": "x2",
         "y": {
          "bdata": "Nw4BQI9pvL8XldlAO9iDwIaZTkA=",
          "dtype": "f4"
         },
         "yaxis": "y2"
        },
        {
         "legendgroup": "pred",
         "marker": {
          "color": "#ff7f0e",
          "size": 6
         },
         "mode": "markers",
         "name": "Pred Group 18",
         "showlegend": false,
         "type": "scatter",
         "x": {
          "bdata": "WArmwO5yusEVD0LBLdtNwQ==",
          "dtype": "f4"
         },
         "xaxis": "x2",
         "y": {
          "bdata": "UKN1winoQ8I29KnABqhQwg==",
          "dtype": "f4"
         },
         "yaxis": "y2"
        },
        {
         "legendgroup": "pred",
         "marker": {
          "color": "#ff7f0e",
          "size": 6
         },
         "mode": "markers",
         "name": "Pred Group 19",
         "showlegend": false,
         "type": "scatter",
         "x": {
          "bdata": "ih/6wKqJDULoeYTBaFYnQA==",
          "dtype": "f4"
         },
         "xaxis": "x2",
         "y": {
          "bdata": "GP5fwuvALMJ46mPCBqFcwg==",
          "dtype": "f4"
         },
         "yaxis": "y2"
        },
        {
         "legendgroup": "pred",
         "marker": {
          "color": "#ffbb78",
          "size": 6
         },
         "mode": "markers",
         "name": "Pred Group 20",
         "showlegend": false,
         "type": "scatter",
         "x": {
          "bdata": "4TcIQo3SH0K3HiVCv4sFQg==",
          "dtype": "f4"
         },
         "xaxis": "x2",
         "y": {
          "bdata": "3g06wnxIDsKk1FTCdkk8wg==",
          "dtype": "f4"
         },
         "yaxis": "y2"
        },
        {
         "legendgroup": "pred",
         "marker": {
          "color": "#ffbb78",
          "size": 6
         },
         "mode": "markers",
         "name": "Pred Group 21",
         "showlegend": false,
         "type": "scatter",
         "x": {
          "bdata": "4G+NwZ5DiMHYhAzBhG7AwA==",
          "dtype": "f4"
         },
         "xaxis": "x2",
         "y": {
          "bdata": "0A8tQjIqKkL/tS5C45Y5Qg==",
          "dtype": "f4"
         },
         "yaxis": "y2"
        },
        {
         "legendgroup": "pred",
         "marker": {
          "color": "#ffbb78",
          "size": 6
         },
         "mode": "markers",
         "name": "Pred Group 22",
         "showlegend": false,
         "type": "scatter",
         "x": {
          "bdata": "0mc1wrFI58Fs++LB",
          "dtype": "f4"
         },
         "xaxis": "x2",
         "y": {
          "bdata": "FZhFv/xhjEGePAZB",
          "dtype": "f4"
         },
         "yaxis": "y2"
        },
        {
         "legendgroup": "pred",
         "marker": {
          "color": "#ffbb78",
          "size": 6
         },
         "mode": "markers",
         "name": "Pred Group 23",
         "showlegend": false,
         "type": "scatter",
         "x": {
          "bdata": "+hNtQf/XNcFKbYZC",
          "dtype": "f4"
         },
         "xaxis": "x2",
         "y": {
          "bdata": "eQcLQq9m00GoG4zB",
          "dtype": "f4"
         },
         "yaxis": "y2"
        },
        {
         "legendgroup": "pred",
         "marker": {
          "color": "#ffbb78",
          "size": 6
         },
         "mode": "markers",
         "name": "Pred Group 24",
         "showlegend": false,
         "type": "scatter",
         "x": {
          "bdata": "xnJcQR838j8al4RC",
          "dtype": "f4"
         },
         "xaxis": "x2",
         "y": {
          "bdata": "pdkzwsttW8JOAJLB",
          "dtype": "f4"
         },
         "yaxis": "y2"
        },
        {
         "legendgroup": "pred",
         "marker": {
          "color": "#ffbb78",
          "size": 6
         },
         "mode": "markers",
         "name": "Pred Group 25",
         "showlegend": false,
         "type": "scatter",
         "x": {
          "bdata": "oht3wqK6dsLDJ4PC",
          "dtype": "f4"
         },
         "xaxis": "x2",
         "y": {
          "bdata": "2YWuQbwdi0H7cZpB",
          "dtype": "f4"
         },
         "yaxis": "y2"
        },
        {
         "legendgroup": "pred",
         "marker": {
          "color": "#ffbb78",
          "size": 6
         },
         "mode": "markers",
         "name": "Pred Group 26",
         "showlegend": false,
         "type": "scatter",
         "x": {
          "bdata": "6LfywXmn6EA=",
          "dtype": "f4"
         },
         "xaxis": "x2",
         "y": {
          "bdata": "YeHGwbE6LUE=",
          "dtype": "f4"
         },
         "yaxis": "y2"
        },
        {
         "legendgroup": "pred",
         "marker": {
          "color": "#2ca02c",
          "size": 6
         },
         "mode": "markers",
         "name": "Pred Group 27",
         "showlegend": false,
         "type": "scatter",
         "x": {
          "bdata": "gytrwi2MMkE=",
          "dtype": "f4"
         },
         "xaxis": "x2",
         "y": {
          "bdata": "r0+pwRajosA=",
          "dtype": "f4"
         },
         "yaxis": "y2"
        },
        {
         "legendgroup": "pred",
         "marker": {
          "color": "#2ca02c",
          "size": 6
         },
         "mode": "markers",
         "name": "Pred Group 28",
         "showlegend": false,
         "type": "scatter",
         "x": {
          "bdata": "t2IcQoxWF0I=",
          "dtype": "f4"
         },
         "xaxis": "x2",
         "y": {
          "bdata": "RuRSwjKyUMI=",
          "dtype": "f4"
         },
         "yaxis": "y2"
        },
        {
         "legendgroup": "pred",
         "marker": {
          "color": "#2ca02c",
          "size": 6
         },
         "mode": "markers",
         "name": "Pred Group 29",
         "showlegend": false,
         "type": "scatter",
         "x": {
          "bdata": "9aBbQsvoAUI=",
          "dtype": "f4"
         },
         "xaxis": "x2",
         "y": {
          "bdata": "uq+TwDjS8cE=",
          "dtype": "f4"
         },
         "yaxis": "y2"
        },
        {
         "legendgroup": "pred",
         "marker": {
          "color": "#2ca02c",
          "size": 6
         },
         "mode": "markers",
         "name": "Pred Group 30",
         "showlegend": false,
         "type": "scatter",
         "x": {
          "bdata": "g8UmwnC+A8E=",
          "dtype": "f4"
         },
         "xaxis": "x2",
         "y": {
          "bdata": "AaiTwS796MA=",
          "dtype": "f4"
         },
         "yaxis": "y2"
        },
        {
         "legendgroup": "pred",
         "marker": {
          "color": "#2ca02c",
          "size": 6
         },
         "mode": "markers",
         "name": "Pred Group 31",
         "showlegend": false,
         "type": "scatter",
         "x": {
          "bdata": "C+2RwY8KhME=",
          "dtype": "f4"
         },
         "xaxis": "x2",
         "y": {
          "bdata": "9REcQnxCJUI=",
          "dtype": "f4"
         },
         "yaxis": "y2"
        },
        {
         "legendgroup": "pred",
         "marker": {
          "color": "#2ca02c",
          "size": 6
         },
         "mode": "markers",
         "name": "Pred Group 32",
         "showlegend": false,
         "type": "scatter",
         "x": {
          "bdata": "VMLRQR4DwkE=",
          "dtype": "f4"
         },
         "xaxis": "x2",
         "y": {
          "bdata": "7uyDQWShwEE=",
          "dtype": "f4"
         },
         "yaxis": "y2"
        },
        {
         "legendgroup": "pred",
         "marker": {
          "color": "#98df8a",
          "size": 6
         },
         "mode": "markers",
         "name": "Pred Group 33",
         "showlegend": false,
         "type": "scatter",
         "x": {
          "bdata": "SP6ZQfvTUUE=",
          "dtype": "f4"
         },
         "xaxis": "x2",
         "y": {
          "bdata": "lzPUQZmF5UE=",
          "dtype": "f4"
         },
         "yaxis": "y2"
        },
        {
         "legendgroup": "pred",
         "marker": {
          "color": "#98df8a",
          "size": 6
         },
         "mode": "markers",
         "name": "Pred Group 34",
         "showlegend": false,
         "type": "scatter",
         "x": {
          "bdata": "L0fpwKAUwL8=",
          "dtype": "f4"
         },
         "xaxis": "x2",
         "y": {
          "bdata": "vE0yQvfLR0I=",
          "dtype": "f4"
         },
         "yaxis": "y2"
        },
        {
         "legendgroup": "pred",
         "marker": {
          "color": "#98df8a",
          "size": 6
         },
         "mode": "markers",
         "name": "Pred Group 35",
         "showlegend": false,
         "type": "scatter",
         "x": {
          "bdata": "O6jIwbZU48E=",
          "dtype": "f4"
         },
         "xaxis": "x2",
         "y": {
          "bdata": "lxXNQHfVm0E=",
          "dtype": "f4"
         },
         "yaxis": "y2"
        },
        {
         "legendgroup": "pred",
         "marker": {
          "color": "#98df8a",
          "size": 6
         },
         "mode": "markers",
         "name": "Pred Group 36",
         "showlegend": false,
         "type": "scatter",
         "x": {
          "bdata": "Wm/sv6l3esA=",
          "dtype": "f4"
         },
         "xaxis": "x2",
         "y": {
          "bdata": "nV6AQt1EnkI=",
          "dtype": "f4"
         },
         "yaxis": "y2"
        },
        {
         "legendgroup": "pred",
         "marker": {
          "color": "#98df8a",
          "size": 6
         },
         "mode": "markers",
         "name": "Pred Group 37",
         "showlegend": false,
         "type": "scatter",
         "x": {
          "bdata": "rCjGQV5V40E=",
          "dtype": "f4"
         },
         "xaxis": "x2",
         "y": {
          "bdata": "3CxBQjSvPkI=",
          "dtype": "f4"
         },
         "yaxis": "y2"
        },
        {
         "legendgroup": "pred",
         "marker": {
          "color": "#98df8a",
          "size": 6
         },
         "mode": "markers",
         "name": "Pred Group 38",
         "showlegend": false,
         "type": "scatter",
         "x": {
          "bdata": "E6Bjwg==",
          "dtype": "f4"
         },
         "xaxis": "x2",
         "y": {
          "bdata": "Sd6LwQ==",
          "dtype": "f4"
         },
         "yaxis": "y2"
        },
        {
         "legendgroup": "pred",
         "marker": {
          "color": "#98df8a",
          "size": 6
         },
         "mode": "markers",
         "name": "Pred Group 39",
         "showlegend": false,
         "type": "scatter",
         "x": {
          "bdata": "ZQENQA==",
          "dtype": "f4"
         },
         "xaxis": "x2",
         "y": {
          "bdata": "mz9PQA==",
          "dtype": "f4"
         },
         "yaxis": "y2"
        },
        {
         "legendgroup": "pred",
         "marker": {
          "color": "#d62728",
          "size": 6
         },
         "mode": "markers",
         "name": "Pred Group 40",
         "showlegend": false,
         "type": "scatter",
         "x": {
          "bdata": "uHPawA==",
          "dtype": "f4"
         },
         "xaxis": "x2",
         "y": {
          "bdata": "SKB2wg==",
          "dtype": "f4"
         },
         "yaxis": "y2"
        },
        {
         "legendgroup": "pred",
         "marker": {
          "color": "#d62728",
          "size": 6
         },
         "mode": "markers",
         "name": "Pred Group 41",
         "showlegend": false,
         "type": "scatter",
         "x": {
          "bdata": "XvRKQg==",
          "dtype": "f4"
         },
         "xaxis": "x2",
         "y": {
          "bdata": "LDn6QQ==",
          "dtype": "f4"
         },
         "yaxis": "y2"
        },
        {
         "legendgroup": "pred",
         "marker": {
          "color": "#d62728",
          "size": 6
         },
         "mode": "markers",
         "name": "Pred Group 42",
         "showlegend": false,
         "type": "scatter",
         "x": {
          "bdata": "k8YsQg==",
          "dtype": "f4"
         },
         "xaxis": "x2",
         "y": {
          "bdata": "nmm5wA==",
          "dtype": "f4"
         },
         "yaxis": "y2"
        },
        {
         "legendgroup": "pred",
         "marker": {
          "color": "#d62728",
          "size": 6
         },
         "mode": "markers",
         "name": "Pred Group 43",
         "showlegend": false,
         "type": "scatter",
         "x": {
          "bdata": "MqaQwg==",
          "dtype": "f4"
         },
         "xaxis": "x2",
         "y": {
          "bdata": "DnuAQQ==",
          "dtype": "f4"
         },
         "yaxis": "y2"
        },
        {
         "legendgroup": "pred",
         "marker": {
          "color": "#d62728",
          "size": 6
         },
         "mode": "markers",
         "name": "Pred Group 44",
         "showlegend": false,
         "type": "scatter",
         "x": {
          "bdata": "D9WzQQ==",
          "dtype": "f4"
         },
         "xaxis": "x2",
         "y": {
          "bdata": "IQcLwg==",
          "dtype": "f4"
         },
         "yaxis": "y2"
        },
        {
         "legendgroup": "pred",
         "marker": {
          "color": "#d62728",
          "size": 6
         },
         "mode": "markers",
         "name": "Pred Group 45",
         "showlegend": false,
         "type": "scatter",
         "x": {
          "bdata": "z5guQg==",
          "dtype": "f4"
         },
         "xaxis": "x2",
         "y": {
          "bdata": "VZ1EwQ==",
          "dtype": "f4"
         },
         "yaxis": "y2"
        },
        {
         "legendgroup": "pred",
         "marker": {
          "color": "#d62728",
          "size": 6
         },
         "mode": "markers",
         "name": "Pred Group 46",
         "showlegend": false,
         "type": "scatter",
         "x": {
          "bdata": "HUKLQQ==",
          "dtype": "f4"
         },
         "xaxis": "x2",
         "y": {
          "bdata": "J4YNQg==",
          "dtype": "f4"
         },
         "yaxis": "y2"
        },
        {
         "legendgroup": "pred",
         "marker": {
          "color": "#ff9896",
          "size": 6
         },
         "mode": "markers",
         "name": "Pred Group 47",
         "showlegend": false,
         "type": "scatter",
         "x": {
          "bdata": "y5bfwQ==",
          "dtype": "f4"
         },
         "xaxis": "x2",
         "y": {
          "bdata": "Ikv/QA==",
          "dtype": "f4"
         },
         "yaxis": "y2"
        },
        {
         "legendgroup": "pred",
         "marker": {
          "color": "#ff9896",
          "size": 6
         },
         "mode": "markers",
         "name": "Pred Group 48",
         "showlegend": false,
         "type": "scatter",
         "x": {
          "bdata": "XQ8ewA==",
          "dtype": "f4"
         },
         "xaxis": "x2",
         "y": {
          "bdata": "9NRJwg==",
          "dtype": "f4"
         },
         "yaxis": "y2"
        },
        {
         "legendgroup": "pred",
         "marker": {
          "color": "#ff9896",
          "size": 6
         },
         "mode": "markers",
         "name": "Pred Group 49",
         "showlegend": false,
         "type": "scatter",
         "x": {
          "bdata": "sE/dwQ==",
          "dtype": "f4"
         },
         "xaxis": "x2",
         "y": {
          "bdata": "T8PrwQ==",
          "dtype": "f4"
         },
         "yaxis": "y2"
        },
        {
         "legendgroup": "pred",
         "marker": {
          "color": "#ff9896",
          "size": 6
         },
         "mode": "markers",
         "name": "Pred Group 50",
         "showlegend": false,
         "type": "scatter",
         "x": {
          "bdata": "uP+VwQ==",
          "dtype": "f4"
         },
         "xaxis": "x2",
         "y": {
          "bdata": "6dQvQg==",
          "dtype": "f4"
         },
         "yaxis": "y2"
        },
        {
         "legendgroup": "pred",
         "marker": {
          "color": "#ff9896",
          "size": 6
         },
         "mode": "markers",
         "name": "Pred Group 51",
         "showlegend": false,
         "type": "scatter",
         "x": {
          "bdata": "4sWeQQ==",
          "dtype": "f4"
         },
         "xaxis": "x2",
         "y": {
          "bdata": "qA5Mwg==",
          "dtype": "f4"
         },
         "yaxis": "y2"
        },
        {
         "legendgroup": "pred",
         "marker": {
          "color": "#ff9896",
          "size": 6
         },
         "mode": "markers",
         "name": "Pred Group 52",
         "showlegend": false,
         "type": "scatter",
         "x": {
          "bdata": "A2bQQQ==",
          "dtype": "f4"
         },
         "xaxis": "x2",
         "y": {
          "bdata": "KqXQQQ==",
          "dtype": "f4"
         },
         "yaxis": "y2"
        },
        {
         "legendgroup": "pred",
         "marker": {
          "color": "#9467bd",
          "size": 6
         },
         "mode": "markers",
         "name": "Pred Group 53",
         "showlegend": false,
         "type": "scatter",
         "x": {
          "bdata": "uej7QQ==",
          "dtype": "f4"
         },
         "xaxis": "x2",
         "y": {
          "bdata": "OoQbwQ==",
          "dtype": "f4"
         },
         "yaxis": "y2"
        },
        {
         "legendgroup": "pred",
         "marker": {
          "color": "#9467bd",
          "size": 6
         },
         "mode": "markers",
         "name": "Pred Group 54",
         "showlegend": false,
         "type": "scatter",
         "x": {
          "bdata": "kw2BQQ==",
          "dtype": "f4"
         },
         "xaxis": "x2",
         "y": {
          "bdata": "2oBDwA==",
          "dtype": "f4"
         },
         "yaxis": "y2"
        },
        {
         "legendgroup": "pred",
         "marker": {
          "color": "#9467bd",
          "size": 6
         },
         "mode": "markers",
         "name": "Pred Group 55",
         "showlegend": false,
         "type": "scatter",
         "x": {
          "bdata": "04ASQg==",
          "dtype": "f4"
         },
         "xaxis": "x2",
         "y": {
          "bdata": "OT1DQQ==",
          "dtype": "f4"
         },
         "yaxis": "y2"
        },
        {
         "legendgroup": "pred",
         "marker": {
          "color": "#9467bd",
          "size": 6
         },
         "mode": "markers",
         "name": "Pred Group 56",
         "showlegend": false,
         "type": "scatter",
         "x": {
          "bdata": "bjkFQg==",
          "dtype": "f4"
         },
         "xaxis": "x2",
         "y": {
          "bdata": "7YHyQA==",
          "dtype": "f4"
         },
         "yaxis": "y2"
        },
        {
         "legendgroup": "pred",
         "marker": {
          "color": "#9467bd",
          "size": 6
         },
         "mode": "markers",
         "name": "Pred Group 57",
         "showlegend": false,
         "type": "scatter",
         "x": {
          "bdata": "F1+MwQ==",
          "dtype": "f4"
         },
         "xaxis": "x2",
         "y": {
          "bdata": "au5bwg==",
          "dtype": "f4"
         },
         "yaxis": "y2"
        },
        {
         "legendgroup": "pred",
         "marker": {
          "color": "#9467bd",
          "size": 6
         },
         "mode": "markers",
         "name": "Pred Group 58",
         "showlegend": false,
         "type": "scatter",
         "x": {
          "bdata": "lE8AQg==",
          "dtype": "f4"
         },
         "xaxis": "x2",
         "y": {
          "bdata": "Pr8/wg==",
          "dtype": "f4"
         },
         "yaxis": "y2"
        },
        {
         "legendgroup": "pred",
         "marker": {
          "color": "#9467bd",
          "size": 6
         },
         "mode": "markers",
         "name": "Pred Group 59",
         "showlegend": false,
         "type": "scatter",
         "x": {
          "bdata": "JREnPw==",
          "dtype": "f4"
         },
         "xaxis": "x2",
         "y": {
          "bdata": "u6nuQQ==",
          "dtype": "f4"
         },
         "yaxis": "y2"
        },
        {
         "legendgroup": "pred",
         "marker": {
          "color": "#c5b0d5",
          "size": 6
         },
         "mode": "markers",
         "name": "Pred Group 60",
         "showlegend": false,
         "type": "scatter",
         "x": {
          "bdata": "nBxlQQ==",
          "dtype": "f4"
         },
         "xaxis": "x2",
         "y": {
          "bdata": "ActmwA==",
          "dtype": "f4"
         },
         "yaxis": "y2"
        },
        {
         "legendgroup": "pred",
         "marker": {
          "color": "#c5b0d5",
          "size": 6
         },
         "mode": "markers",
         "name": "Pred Group 61",
         "showlegend": false,
         "type": "scatter",
         "x": {
          "bdata": "BuxzQg==",
          "dtype": "f4"
         },
         "xaxis": "x2",
         "y": {
          "bdata": "buBGwQ==",
          "dtype": "f4"
         },
         "yaxis": "y2"
        },
        {
         "legendgroup": "pred",
         "marker": {
          "color": "#c5b0d5",
          "size": 6
         },
         "mode": "markers",
         "name": "Pred Group 62",
         "showlegend": false,
         "type": "scatter",
         "x": {
          "bdata": "expMQg==",
          "dtype": "f4"
         },
         "xaxis": "x2",
         "y": {
          "bdata": "6jXmQQ==",
          "dtype": "f4"
         },
         "yaxis": "y2"
        },
        {
         "legendgroup": "pred",
         "marker": {
          "color": "#c5b0d5",
          "size": 6
         },
         "mode": "markers",
         "name": "Pred Group 63",
         "showlegend": false,
         "type": "scatter",
         "x": {
          "bdata": "WhnMvw==",
          "dtype": "f4"
         },
         "xaxis": "x2",
         "y": {
          "bdata": "xAT3QQ==",
          "dtype": "f4"
         },
         "yaxis": "y2"
        },
        {
         "legendgroup": "pred",
         "marker": {
          "color": "#c5b0d5",
          "size": 6
         },
         "mode": "markers",
         "name": "Pred Group 64",
         "showlegend": false,
         "type": "scatter",
         "x": {
          "bdata": "84RFQA==",
          "dtype": "f4"
         },
         "xaxis": "x2",
         "y": {
          "bdata": "Hy3MQQ==",
          "dtype": "f4"
         },
         "yaxis": "y2"
        },
        {
         "legendgroup": "pred",
         "marker": {
          "color": "#c5b0d5",
          "size": 6
         },
         "mode": "markers",
         "name": "Pred Group 65",
         "showlegend": false,
         "type": "scatter",
         "x": {
          "bdata": "/t7iwQ==",
          "dtype": "f4"
         },
         "xaxis": "x2",
         "y": {
          "bdata": "AXJTQg==",
          "dtype": "f4"
         },
         "yaxis": "y2"
        },
        {
         "legendgroup": "pred",
         "marker": {
          "color": "#8c564b",
          "size": 6
         },
         "mode": "markers",
         "name": "Pred Group 66",
         "showlegend": false,
         "type": "scatter",
         "x": {
          "bdata": "BBW2wA==",
          "dtype": "f4"
         },
         "xaxis": "x2",
         "y": {
          "bdata": "bGsowQ==",
          "dtype": "f4"
         },
         "yaxis": "y2"
        },
        {
         "legendgroup": "pred",
         "marker": {
          "color": "#8c564b",
          "size": 6
         },
         "mode": "markers",
         "name": "Pred Group 67",
         "showlegend": false,
         "type": "scatter",
         "x": {
          "bdata": "UXnuwQ==",
          "dtype": "f4"
         },
         "xaxis": "x2",
         "y": {
          "bdata": "0INUwg==",
          "dtype": "f4"
         },
         "yaxis": "y2"
        },
        {
         "legendgroup": "pred",
         "marker": {
          "color": "#8c564b",
          "size": 6
         },
         "mode": "markers",
         "name": "Pred Group 68",
         "showlegend": false,
         "type": "scatter",
         "x": {
          "bdata": "18hBwg==",
          "dtype": "f4"
         },
         "xaxis": "x2",
         "y": {
          "bdata": "XqqWQQ==",
          "dtype": "f4"
         },
         "yaxis": "y2"
        },
        {
         "legendgroup": "pred",
         "marker": {
          "color": "#8c564b",
          "size": 6
         },
         "mode": "markers",
         "name": "Pred Group 69",
         "showlegend": false,
         "type": "scatter",
         "x": {
          "bdata": "STRnwg==",
          "dtype": "f4"
         },
         "xaxis": "x2",
         "y": {
          "bdata": "OdjtQQ==",
          "dtype": "f4"
         },
         "yaxis": "y2"
        },
        {
         "legendgroup": "pred",
         "marker": {
          "color": "#8c564b",
          "size": 6
         },
         "mode": "markers",
         "name": "Pred Group 70",
         "showlegend": false,
         "type": "scatter",
         "x": {
          "bdata": "csS4QQ==",
          "dtype": "f4"
         },
         "xaxis": "x2",
         "y": {
          "bdata": "2nc/Qg==",
          "dtype": "f4"
         },
         "yaxis": "y2"
        },
        {
         "legendgroup": "pred",
         "marker": {
          "color": "#8c564b",
          "size": 6
         },
         "mode": "markers",
         "name": "Pred Group 71",
         "showlegend": false,
         "type": "scatter",
         "x": {
          "bdata": "X4JlQQ==",
          "dtype": "f4"
         },
         "xaxis": "x2",
         "y": {
          "bdata": "rDY7wg==",
          "dtype": "f4"
         },
         "yaxis": "y2"
        },
        {
         "legendgroup": "pred",
         "marker": {
          "color": "#8c564b",
          "size": 6
         },
         "mode": "markers",
         "name": "Pred Group 72",
         "showlegend": false,
         "type": "scatter",
         "x": {
          "bdata": "CzqiwA==",
          "dtype": "f4"
         },
         "xaxis": "x2",
         "y": {
          "bdata": "TxuTwQ==",
          "dtype": "f4"
         },
         "yaxis": "y2"
        },
        {
         "legendgroup": "pred",
         "marker": {
          "color": "#c49c94",
          "size": 6
         },
         "mode": "markers",
         "name": "Pred Group 73",
         "showlegend": false,
         "type": "scatter",
         "x": {
          "bdata": "tI5dQQ==",
          "dtype": "f4"
         },
         "xaxis": "x2",
         "y": {
          "bdata": "s/S4wQ==",
          "dtype": "f4"
         },
         "yaxis": "y2"
        },
        {
         "legendgroup": "pred",
         "marker": {
          "color": "#c49c94",
          "size": 6
         },
         "mode": "markers",
         "name": "Pred Group 74",
         "showlegend": false,
         "type": "scatter",
         "x": {
          "bdata": "HUmKwQ==",
          "dtype": "f4"
         },
         "xaxis": "x2",
         "y": {
          "bdata": "JXiJwQ==",
          "dtype": "f4"
         },
         "yaxis": "y2"
        },
        {
         "legendgroup": "pred",
         "marker": {
          "color": "#c49c94",
          "size": 6
         },
         "mode": "markers",
         "name": "Pred Group 75",
         "showlegend": false,
         "type": "scatter",
         "x": {
          "bdata": "W2VfQA==",
          "dtype": "f4"
         },
         "xaxis": "x2",
         "y": {
          "bdata": "/dHFQQ==",
          "dtype": "f4"
         },
         "yaxis": "y2"
        },
        {
         "legendgroup": "pred",
         "marker": {
          "color": "#c49c94",
          "size": 6
         },
         "mode": "markers",
         "name": "Pred Group 76",
         "showlegend": false,
         "type": "scatter",
         "x": {
          "bdata": "drDrwQ==",
          "dtype": "f4"
         },
         "xaxis": "x2",
         "y": {
          "bdata": "/6ddQg==",
          "dtype": "f4"
         },
         "yaxis": "y2"
        },
        {
         "legendgroup": "pred",
         "marker": {
          "color": "#c49c94",
          "size": 6
         },
         "mode": "markers",
         "name": "Pred Group 77",
         "showlegend": false,
         "type": "scatter",
         "x": {
          "bdata": "N2DXwQ==",
          "dtype": "f4"
         },
         "xaxis": "x2",
         "y": {
          "bdata": "GBRdQg==",
          "dtype": "f4"
         },
         "yaxis": "y2"
        },
        {
         "legendgroup": "pred",
         "marker": {
          "color": "#c49c94",
          "size": 6
         },
         "mode": "markers",
         "name": "Pred Group 78",
         "showlegend": false,
         "type": "scatter",
         "x": {
          "bdata": "R6z9wQ==",
          "dtype": "f4"
         },
         "xaxis": "x2",
         "y": {
          "bdata": "zrdeQg==",
          "dtype": "f4"
         },
         "yaxis": "y2"
        },
        {
         "legendgroup": "pred",
         "marker": {
          "color": "#c49c94",
          "size": 6
         },
         "mode": "markers",
         "name": "Pred Group 79",
         "showlegend": false,
         "type": "scatter",
         "x": {
          "bdata": "ckydwQ==",
          "dtype": "f4"
         },
         "xaxis": "x2",
         "y": {
          "bdata": "d5oXQg==",
          "dtype": "f4"
         },
         "yaxis": "y2"
        },
        {
         "legendgroup": "pred",
         "marker": {
          "color": "#e377c2",
          "size": 6
         },
         "mode": "markers",
         "name": "Pred Group 80",
         "showlegend": false,
         "type": "scatter",
         "x": {
          "bdata": "zYfXvw==",
          "dtype": "f4"
         },
         "xaxis": "x2",
         "y": {
          "bdata": "evA1QQ==",
          "dtype": "f4"
         },
         "yaxis": "y2"
        },
        {
         "legendgroup": "pred",
         "marker": {
          "color": "#e377c2",
          "size": 6
         },
         "mode": "markers",
         "name": "Pred Group 81",
         "showlegend": false,
         "type": "scatter",
         "x": {
          "bdata": "AzkkwQ==",
          "dtype": "f4"
         },
         "xaxis": "x2",
         "y": {
          "bdata": "/WyKwA==",
          "dtype": "f4"
         },
         "yaxis": "y2"
        },
        {
         "legendgroup": "pred",
         "marker": {
          "color": "#e377c2",
          "size": 6
         },
         "mode": "markers",
         "name": "Pred Group 82",
         "showlegend": false,
         "type": "scatter",
         "x": {
          "bdata": "eMrAQA==",
          "dtype": "f4"
         },
         "xaxis": "x2",
         "y": {
          "bdata": "KGYBwg==",
          "dtype": "f4"
         },
         "yaxis": "y2"
        },
        {
         "legendgroup": "pred",
         "marker": {
          "color": "#e377c2",
          "size": 6
         },
         "mode": "markers",
         "name": "Pred Group 83",
         "showlegend": false,
         "type": "scatter",
         "x": {
          "bdata": "2DgKQQ==",
          "dtype": "f4"
         },
         "xaxis": "x2",
         "y": {
          "bdata": "ae9lQg==",
          "dtype": "f4"
         },
         "yaxis": "y2"
        },
        {
         "legendgroup": "pred",
         "marker": {
          "color": "#e377c2",
          "size": 6
         },
         "mode": "markers",
         "name": "Pred Group 84",
         "showlegend": false,
         "type": "scatter",
         "x": {
          "bdata": "1DaxQQ==",
          "dtype": "f4"
         },
         "xaxis": "x2",
         "y": {
          "bdata": "AOfSQA==",
          "dtype": "f4"
         },
         "yaxis": "y2"
        },
        {
         "legendgroup": "pred",
         "marker": {
          "color": "#e377c2",
          "size": 6
         },
         "mode": "markers",
         "name": "Pred Group 85",
         "showlegend": false,
         "type": "scatter",
         "x": {
          "bdata": "PQMpwQ==",
          "dtype": "f4"
         },
         "xaxis": "x2",
         "y": {
          "bdata": "CQ3TQQ==",
          "dtype": "f4"
         },
         "yaxis": "y2"
        },
        {
         "legendgroup": "pred",
         "marker": {
          "color": "#f7b6d2",
          "size": 6
         },
         "mode": "markers",
         "name": "Pred Group 86",
         "showlegend": false,
         "type": "scatter",
         "x": {
          "bdata": "u2nRwQ==",
          "dtype": "f4"
         },
         "xaxis": "x2",
         "y": {
          "bdata": "xPEeQA==",
          "dtype": "f4"
         },
         "yaxis": "y2"
        },
        {
         "legendgroup": "pred",
         "marker": {
          "color": "#f7b6d2",
          "size": 6
         },
         "mode": "markers",
         "name": "Pred Group 87",
         "showlegend": false,
         "type": "scatter",
         "x": {
          "bdata": "kAH4wQ==",
          "dtype": "f4"
         },
         "xaxis": "x2",
         "y": {
          "bdata": "Kt5mQg==",
          "dtype": "f4"
         },
         "yaxis": "y2"
        },
        {
         "legendgroup": "pred",
         "marker": {
          "color": "#f7b6d2",
          "size": 6
         },
         "mode": "markers",
         "name": "Pred Group 88",
         "showlegend": false,
         "type": "scatter",
         "x": {
          "bdata": "jrBxwg==",
          "dtype": "f4"
         },
         "xaxis": "x2",
         "y": {
          "bdata": "fI5nQQ==",
          "dtype": "f4"
         },
         "yaxis": "y2"
        },
        {
         "legendgroup": "pred",
         "marker": {
          "color": "#f7b6d2",
          "size": 6
         },
         "mode": "markers",
         "name": "Pred Group 89",
         "showlegend": false,
         "type": "scatter",
         "x": {
          "bdata": "JbyAQg==",
          "dtype": "f4"
         },
         "xaxis": "x2",
         "y": {
          "bdata": "Lhp9wQ==",
          "dtype": "f4"
         },
         "yaxis": "y2"
        },
        {
         "legendgroup": "pred",
         "marker": {
          "color": "#f7b6d2",
          "size": 6
         },
         "mode": "markers",
         "name": "Pred Group 90",
         "showlegend": false,
         "type": "scatter",
         "x": {
          "bdata": "F4Ynwg==",
          "dtype": "f4"
         },
         "xaxis": "x2",
         "y": {
          "bdata": "sSkBwg==",
          "dtype": "f4"
         },
         "yaxis": "y2"
        },
        {
         "legendgroup": "pred",
         "marker": {
          "color": "#f7b6d2",
          "size": 6
         },
         "mode": "markers",
         "name": "Pred Group 91",
         "showlegend": false,
         "type": "scatter",
         "x": {
          "bdata": "OBy+wQ==",
          "dtype": "f4"
         },
         "xaxis": "x2",
         "y": {
          "bdata": "4kLYQA==",
          "dtype": "f4"
         },
         "yaxis": "y2"
        },
        {
         "legendgroup": "pred",
         "marker": {
          "color": "#f7b6d2",
          "size": 6
         },
         "mode": "markers",
         "name": "Pred Group 92",
         "showlegend": false,
         "type": "scatter",
         "x": {
          "bdata": "lsdVwg==",
          "dtype": "f4"
         },
         "xaxis": "x2",
         "y": {
          "bdata": "8tVnQg==",
          "dtype": "f4"
         },
         "yaxis": "y2"
        },
        {
         "legendgroup": "pred",
         "marker": {
          "color": "#7f7f7f",
          "size": 6
         },
         "mode": "markers",
         "name": "Pred Group 93",
         "showlegend": false,
         "type": "scatter",
         "x": {
          "bdata": "zP+gQQ==",
          "dtype": "f4"
         },
         "xaxis": "x2",
         "y": {
          "bdata": "S/lawg==",
          "dtype": "f4"
         },
         "yaxis": "y2"
        },
        {
         "legendgroup": "pred",
         "marker": {
          "color": "#7f7f7f",
          "size": 6
         },
         "mode": "markers",
         "name": "Pred Group 94",
         "showlegend": false,
         "type": "scatter",
         "x": {
          "bdata": "k60GQQ==",
          "dtype": "f4"
         },
         "xaxis": "x2",
         "y": {
          "bdata": "vVdjQQ==",
          "dtype": "f4"
         },
         "yaxis": "y2"
        },
        {
         "legendgroup": "pred",
         "marker": {
          "color": "#7f7f7f",
          "size": 6
         },
         "mode": "markers",
         "name": "Pred Group 95",
         "showlegend": false,
         "type": "scatter",
         "x": {
          "bdata": "j0QbQQ==",
          "dtype": "f4"
         },
         "xaxis": "x2",
         "y": {
          "bdata": "OOe6wA==",
          "dtype": "f4"
         },
         "yaxis": "y2"
        },
        {
         "legendgroup": "pred",
         "marker": {
          "color": "#7f7f7f",
          "size": 6
         },
         "mode": "markers",
         "name": "Pred Group 96",
         "showlegend": false,
         "type": "scatter",
         "x": {
          "bdata": "B/TlwQ==",
          "dtype": "f4"
         },
         "xaxis": "x2",
         "y": {
          "bdata": "nYCRQQ==",
          "dtype": "f4"
         },
         "yaxis": "y2"
        },
        {
         "legendgroup": "pred",
         "marker": {
          "color": "#7f7f7f",
          "size": 6
         },
         "mode": "markers",
         "name": "Pred Group 97",
         "showlegend": false,
         "type": "scatter",
         "x": {
          "bdata": "7eshQg==",
          "dtype": "f4"
         },
         "xaxis": "x2",
         "y": {
          "bdata": "1FlUwg==",
          "dtype": "f4"
         },
         "yaxis": "y2"
        },
        {
         "legendgroup": "pred",
         "marker": {
          "color": "#7f7f7f",
          "size": 6
         },
         "mode": "markers",
         "name": "Pred Group 98",
         "showlegend": false,
         "type": "scatter",
         "x": {
          "bdata": "xG9LQQ==",
          "dtype": "f4"
         },
         "xaxis": "x2",
         "y": {
          "bdata": "+GviQQ==",
          "dtype": "f4"
         },
         "yaxis": "y2"
        },
        {
         "legendgroup": "pred",
         "marker": {
          "color": "#c7c7c7",
          "size": 6
         },
         "mode": "markers",
         "name": "Pred Group 99",
         "showlegend": false,
         "type": "scatter",
         "x": {
          "bdata": "GAnDQQ==",
          "dtype": "f4"
         },
         "xaxis": "x2",
         "y": {
          "bdata": "xWxAwQ==",
          "dtype": "f4"
         },
         "yaxis": "y2"
        },
        {
         "legendgroup": "pred",
         "marker": {
          "color": "#c7c7c7",
          "size": 6
         },
         "mode": "markers",
         "name": "Pred Group 100",
         "showlegend": false,
         "type": "scatter",
         "x": {
          "bdata": "h9rsQA==",
          "dtype": "f4"
         },
         "xaxis": "x2",
         "y": {
          "bdata": "t/YAwg==",
          "dtype": "f4"
         },
         "yaxis": "y2"
        },
        {
         "legendgroup": "pred",
         "marker": {
          "color": "#c7c7c7",
          "size": 6
         },
         "mode": "markers",
         "name": "Pred Group 101",
         "showlegend": false,
         "type": "scatter",
         "x": {
          "bdata": "FZsJQQ==",
          "dtype": "f4"
         },
         "xaxis": "x2",
         "y": {
          "bdata": "ZCPNwA==",
          "dtype": "f4"
         },
         "yaxis": "y2"
        },
        {
         "legendgroup": "pred",
         "marker": {
          "color": "#c7c7c7",
          "size": 6
         },
         "mode": "markers",
         "name": "Pred Group 102",
         "showlegend": false,
         "type": "scatter",
         "x": {
          "bdata": "uoqnQQ==",
          "dtype": "f4"
         },
         "xaxis": "x2",
         "y": {
          "bdata": "BPJ9wQ==",
          "dtype": "f4"
         },
         "yaxis": "y2"
        },
        {
         "legendgroup": "pred",
         "marker": {
          "color": "#c7c7c7",
          "size": 6
         },
         "mode": "markers",
         "name": "Pred Group 103",
         "showlegend": false,
         "type": "scatter",
         "x": {
          "bdata": "wYyjwQ==",
          "dtype": "f4"
         },
         "xaxis": "x2",
         "y": {
          "bdata": "/8wUQg==",
          "dtype": "f4"
         },
         "yaxis": "y2"
        },
        {
         "legendgroup": "pred",
         "marker": {
          "color": "#c7c7c7",
          "size": 6
         },
         "mode": "markers",
         "name": "Pred Group 104",
         "showlegend": false,
         "type": "scatter",
         "x": {
          "bdata": "8LHfwQ==",
          "dtype": "f4"
         },
         "xaxis": "x2",
         "y": {
          "bdata": "Zf6oQQ==",
          "dtype": "f4"
         },
         "yaxis": "y2"
        },
        {
         "legendgroup": "pred",
         "marker": {
          "color": "#c7c7c7",
          "size": 6
         },
         "mode": "markers",
         "name": "Pred Group 105",
         "showlegend": false,
         "type": "scatter",
         "x": {
          "bdata": "Nz4nQQ==",
          "dtype": "f4"
         },
         "xaxis": "x2",
         "y": {
          "bdata": "Q4JzQg==",
          "dtype": "f4"
         },
         "yaxis": "y2"
        },
        {
         "legendgroup": "pred",
         "marker": {
          "color": "#bcbd22",
          "size": 6
         },
         "mode": "markers",
         "name": "Pred Group 106",
         "showlegend": false,
         "type": "scatter",
         "x": {
          "bdata": "2gg/Qg==",
          "dtype": "f4"
         },
         "xaxis": "x2",
         "y": {
          "bdata": "EjG3QQ==",
          "dtype": "f4"
         },
         "yaxis": "y2"
        },
        {
         "legendgroup": "pred",
         "marker": {
          "color": "#bcbd22",
          "size": 6
         },
         "mode": "markers",
         "name": "Pred Group 107",
         "showlegend": false,
         "type": "scatter",
         "x": {
          "bdata": "/HvFQA==",
          "dtype": "f4"
         },
         "xaxis": "x2",
         "y": {
          "bdata": "6GVfwg==",
          "dtype": "f4"
         },
         "yaxis": "y2"
        },
        {
         "legendgroup": "pred",
         "marker": {
          "color": "#bcbd22",
          "size": 6
         },
         "mode": "markers",
         "name": "Pred Group 108",
         "showlegend": false,
         "type": "scatter",
         "x": {
          "bdata": "gLWWQQ==",
          "dtype": "f4"
         },
         "xaxis": "x2",
         "y": {
          "bdata": "eOXjQQ==",
          "dtype": "f4"
         },
         "yaxis": "y2"
        },
        {
         "legendgroup": "pred",
         "marker": {
          "color": "#bcbd22",
          "size": 6
         },
         "mode": "markers",
         "name": "Pred Group 109",
         "showlegend": false,
         "type": "scatter",
         "x": {
          "bdata": "Q5V1wg==",
          "dtype": "f4"
         },
         "xaxis": "x2",
         "y": {
          "bdata": "orakwQ==",
          "dtype": "f4"
         },
         "yaxis": "y2"
        },
        {
         "legendgroup": "pred",
         "marker": {
          "color": "#bcbd22",
          "size": 6
         },
         "mode": "markers",
         "name": "Pred Group 110",
         "showlegend": false,
         "type": "scatter",
         "x": {
          "bdata": "/sWJvw==",
          "dtype": "f4"
         },
         "xaxis": "x2",
         "y": {
          "bdata": "IHFOwg==",
          "dtype": "f4"
         },
         "yaxis": "y2"
        },
        {
         "legendgroup": "pred",
         "marker": {
          "color": "#bcbd22",
          "size": 6
         },
         "mode": "markers",
         "name": "Pred Group 111",
         "showlegend": false,
         "type": "scatter",
         "x": {
          "bdata": "bkeywQ==",
          "dtype": "f4"
         },
         "xaxis": "x2",
         "y": {
          "bdata": "4f82wg==",
          "dtype": "f4"
         },
         "yaxis": "y2"
        },
        {
         "legendgroup": "pred",
         "marker": {
          "color": "#bcbd22",
          "size": 6
         },
         "mode": "markers",
         "name": "Pred Group 112",
         "showlegend": false,
         "type": "scatter",
         "x": {
          "bdata": "nsqUwQ==",
          "dtype": "f4"
         },
         "xaxis": "x2",
         "y": {
          "bdata": "85qRwQ==",
          "dtype": "f4"
         },
         "yaxis": "y2"
        },
        {
         "legendgroup": "pred",
         "marker": {
          "color": "#dbdb8d",
          "size": 6
         },
         "mode": "markers",
         "name": "Pred Group 113",
         "showlegend": false,
         "type": "scatter",
         "x": {
          "bdata": "rszXQQ==",
          "dtype": "f4"
         },
         "xaxis": "x2",
         "y": {
          "bdata": "h+kZPw==",
          "dtype": "f4"
         },
         "yaxis": "y2"
        },
        {
         "legendgroup": "pred",
         "marker": {
          "color": "#dbdb8d",
          "size": 6
         },
         "mode": "markers",
         "name": "Pred Group 114",
         "showlegend": false,
         "type": "scatter",
         "x": {
          "bdata": "nYKNwQ==",
          "dtype": "f4"
         },
         "xaxis": "x2",
         "y": {
          "bdata": "WuMFQQ==",
          "dtype": "f4"
         },
         "yaxis": "y2"
        },
        {
         "legendgroup": "pred",
         "marker": {
          "color": "#dbdb8d",
          "size": 6
         },
         "mode": "markers",
         "name": "Pred Group 115",
         "showlegend": false,
         "type": "scatter",
         "x": {
          "bdata": "j9QWwA==",
          "dtype": "f4"
         },
         "xaxis": "x2",
         "y": {
          "bdata": "CI8jwQ==",
          "dtype": "f4"
         },
         "yaxis": "y2"
        },
        {
         "legendgroup": "pred",
         "marker": {
          "color": "#dbdb8d",
          "size": 6
         },
         "mode": "markers",
         "name": "Pred Group 116",
         "showlegend": false,
         "type": "scatter",
         "x": {
          "bdata": "fC3iwQ==",
          "dtype": "f4"
         },
         "xaxis": "x2",
         "y": {
          "bdata": "rJ94PQ==",
          "dtype": "f4"
         },
         "yaxis": "y2"
        },
        {
         "legendgroup": "pred",
         "marker": {
          "color": "#dbdb8d",
          "size": 6
         },
         "mode": "markers",
         "name": "Pred Group 117",
         "showlegend": false,
         "type": "scatter",
         "x": {
          "bdata": "CRi/QA==",
          "dtype": "f4"
         },
         "xaxis": "x2",
         "y": {
          "bdata": "QL0hQg==",
          "dtype": "f4"
         },
         "yaxis": "y2"
        },
        {
         "legendgroup": "pred",
         "marker": {
          "color": "#dbdb8d",
          "size": 6
         },
         "mode": "markers",
         "name": "Pred Group 118",
         "showlegend": false,
         "type": "scatter",
         "x": {
          "bdata": "2YmRwQ==",
          "dtype": "f4"
         },
         "xaxis": "x2",
         "y": {
          "bdata": "aYcDQQ==",
          "dtype": "f4"
         },
         "yaxis": "y2"
        },
        {
         "legendgroup": "pred",
         "marker": {
          "color": "#17becf",
          "size": 6
         },
         "mode": "markers",
         "name": "Pred Group 119",
         "showlegend": false,
         "type": "scatter",
         "x": {
          "bdata": "miN7Qg==",
          "dtype": "f4"
         },
         "xaxis": "x2",
         "y": {
          "bdata": "SmVewQ==",
          "dtype": "f4"
         },
         "yaxis": "y2"
        },
        {
         "legendgroup": "pred",
         "marker": {
          "color": "#17becf",
          "size": 6
         },
         "mode": "markers",
         "name": "Pred Group 120",
         "showlegend": false,
         "type": "scatter",
         "x": {
          "bdata": "gYDHQQ==",
          "dtype": "f4"
         },
         "xaxis": "x2",
         "y": {
          "bdata": "W2lHQg==",
          "dtype": "f4"
         },
         "yaxis": "y2"
        },
        {
         "legendgroup": "pred",
         "marker": {
          "color": "#17becf",
          "size": 6
         },
         "mode": "markers",
         "name": "Pred Group 121",
         "showlegend": false,
         "type": "scatter",
         "x": {
          "bdata": "jwy5QQ==",
          "dtype": "f4"
         },
         "xaxis": "x2",
         "y": {
          "bdata": "Pa87wQ==",
          "dtype": "f4"
         },
         "yaxis": "y2"
        },
        {
         "legendgroup": "pred",
         "marker": {
          "color": "#17becf",
          "size": 6
         },
         "mode": "markers",
         "name": "Pred Group 122",
         "showlegend": false,
         "type": "scatter",
         "x": {
          "bdata": "ND/QQQ==",
          "dtype": "f4"
         },
         "xaxis": "x2",
         "y": {
          "bdata": "G9ogwQ==",
          "dtype": "f4"
         },
         "yaxis": "y2"
        },
        {
         "legendgroup": "pred",
         "marker": {
          "color": "#17becf",
          "size": 6
         },
         "mode": "markers",
         "name": "Pred Group 123",
         "showlegend": false,
         "type": "scatter",
         "x": {
          "bdata": "aOFqQg==",
          "dtype": "f4"
         },
         "xaxis": "x2",
         "y": {
          "bdata": "Chs7wQ==",
          "dtype": "f4"
         },
         "yaxis": "y2"
        },
        {
         "legendgroup": "pred",
         "marker": {
          "color": "#17becf",
          "size": 6
         },
         "mode": "markers",
         "name": "Pred Group 124",
         "showlegend": false,
         "type": "scatter",
         "x": {
          "bdata": "IJV5wA==",
          "dtype": "f4"
         },
         "xaxis": "x2",
         "y": {
          "bdata": "lxKPQg==",
          "dtype": "f4"
         },
         "yaxis": "y2"
        },
        {
         "legendgroup": "pred",
         "marker": {
          "color": "#17becf",
          "size": 6
         },
         "mode": "markers",
         "name": "Pred Group 125",
         "showlegend": false,
         "type": "scatter",
         "x": {
          "bdata": "y/JlQQ==",
          "dtype": "f4"
         },
         "xaxis": "x2",
         "y": {
          "bdata": "QIf5QQ==",
          "dtype": "f4"
         },
         "yaxis": "y2"
        },
        {
         "legendgroup": "pred",
         "marker": {
          "color": "#9edae5",
          "size": 6
         },
         "mode": "markers",
         "name": "Pred Group 126",
         "showlegend": false,
         "type": "scatter",
         "x": {
          "bdata": "Yo/6QA==",
          "dtype": "f4"
         },
         "xaxis": "x2",
         "y": {
          "bdata": "2l8LQg==",
          "dtype": "f4"
         },
         "yaxis": "y2"
        },
        {
         "legendgroup": "pred",
         "marker": {
          "color": "#9edae5",
          "size": 6
         },
         "mode": "markers",
         "name": "Pred Group 127",
         "showlegend": false,
         "type": "scatter",
         "x": {
          "bdata": "TtxdQg==",
          "dtype": "f4"
         },
         "xaxis": "x2",
         "y": {
          "bdata": "Ht0GQQ==",
          "dtype": "f4"
         },
         "yaxis": "y2"
        },
        {
         "legendgroup": "pred",
         "marker": {
          "color": "#9edae5",
          "size": 6
         },
         "mode": "markers",
         "name": "Pred Group 128",
         "showlegend": false,
         "type": "scatter",
         "x": {
          "bdata": "FGYnQQ==",
          "dtype": "f4"
         },
         "xaxis": "x2",
         "y": {
          "bdata": "UVOMwQ==",
          "dtype": "f4"
         },
         "yaxis": "y2"
        },
        {
         "legendgroup": "pred",
         "marker": {
          "color": "#9edae5",
          "size": 6
         },
         "mode": "markers",
         "name": "Pred Group 129",
         "showlegend": false,
         "type": "scatter",
         "x": {
          "bdata": "8vDlwA==",
          "dtype": "f4"
         },
         "xaxis": "x2",
         "y": {
          "bdata": "+WeSwQ==",
          "dtype": "f4"
         },
         "yaxis": "y2"
        },
        {
         "legendgroup": "pred",
         "marker": {
          "color": "#9edae5",
          "size": 6
         },
         "mode": "markers",
         "name": "Pred Group 130",
         "showlegend": false,
         "type": "scatter",
         "x": {
          "bdata": "moQoQQ==",
          "dtype": "f4"
         },
         "xaxis": "x2",
         "y": {
          "bdata": "oyYZQg==",
          "dtype": "f4"
         },
         "yaxis": "y2"
        },
        {
         "legendgroup": "pred",
         "marker": {
          "color": "#9edae5",
          "size": 6
         },
         "mode": "markers",
         "name": "Pred Group 131",
         "showlegend": false,
         "type": "scatter",
         "x": {
          "bdata": "OEjwQQ==",
          "dtype": "f4"
         },
         "xaxis": "x2",
         "y": {
          "bdata": "nJqgwA==",
          "dtype": "f4"
         },
         "yaxis": "y2"
        },
        {
         "legendgroup": "pred",
         "marker": {
          "color": "#9edae5",
          "size": 6
         },
         "mode": "markers",
         "name": "Pred Group 132",
         "showlegend": false,
         "type": "scatter",
         "x": {
          "bdata": "kgK2QQ==",
          "dtype": "f4"
         },
         "xaxis": "x2",
         "y": {
          "bdata": "AVdLwg==",
          "dtype": "f4"
         },
         "yaxis": "y2"
        }
       ],
       "layout": {
        "annotations": [
         {
          "font": {
           "size": 16
          },
          "showarrow": false,
          "text": "Clusters of 2D Embeddings gt",
          "x": 0.225,
          "xanchor": "center",
          "xref": "paper",
          "y": 1,
          "yanchor": "bottom",
          "yref": "paper"
         },
         {
          "font": {
           "size": 16
          },
          "showarrow": false,
          "text": "Clusters of 2D Embeddings pred",
          "x": 0.775,
          "xanchor": "center",
          "xref": "paper",
          "y": 1,
          "yanchor": "bottom",
          "yref": "paper"
         }
        ],
        "height": 600,
        "showlegend": true,
        "template": {
         "data": {
          "bar": [
           {
            "error_x": {
             "color": "#2a3f5f"
            },
            "error_y": {
             "color": "#2a3f5f"
            },
            "marker": {
             "line": {
              "color": "#E5ECF6",
              "width": 0.5
             },
             "pattern": {
              "fillmode": "overlay",
              "size": 10,
              "solidity": 0.2
             }
            },
            "type": "bar"
           }
          ],
          "barpolar": [
           {
            "marker": {
             "line": {
              "color": "#E5ECF6",
              "width": 0.5
             },
             "pattern": {
              "fillmode": "overlay",
              "size": 10,
              "solidity": 0.2
             }
            },
            "type": "barpolar"
           }
          ],
          "carpet": [
           {
            "aaxis": {
             "endlinecolor": "#2a3f5f",
             "gridcolor": "white",
             "linecolor": "white",
             "minorgridcolor": "white",
             "startlinecolor": "#2a3f5f"
            },
            "baxis": {
             "endlinecolor": "#2a3f5f",
             "gridcolor": "white",
             "linecolor": "white",
             "minorgridcolor": "white",
             "startlinecolor": "#2a3f5f"
            },
            "type": "carpet"
           }
          ],
          "choropleth": [
           {
            "colorbar": {
             "outlinewidth": 0,
             "ticks": ""
            },
            "type": "choropleth"
           }
          ],
          "contour": [
           {
            "colorbar": {
             "outlinewidth": 0,
             "ticks": ""
            },
            "colorscale": [
             [
              0,
              "#0d0887"
             ],
             [
              0.1111111111111111,
              "#46039f"
             ],
             [
              0.2222222222222222,
              "#7201a8"
             ],
             [
              0.3333333333333333,
              "#9c179e"
             ],
             [
              0.4444444444444444,
              "#bd3786"
             ],
             [
              0.5555555555555556,
              "#d8576b"
             ],
             [
              0.6666666666666666,
              "#ed7953"
             ],
             [
              0.7777777777777778,
              "#fb9f3a"
             ],
             [
              0.8888888888888888,
              "#fdca26"
             ],
             [
              1,
              "#f0f921"
             ]
            ],
            "type": "contour"
           }
          ],
          "contourcarpet": [
           {
            "colorbar": {
             "outlinewidth": 0,
             "ticks": ""
            },
            "type": "contourcarpet"
           }
          ],
          "heatmap": [
           {
            "colorbar": {
             "outlinewidth": 0,
             "ticks": ""
            },
            "colorscale": [
             [
              0,
              "#0d0887"
             ],
             [
              0.1111111111111111,
              "#46039f"
             ],
             [
              0.2222222222222222,
              "#7201a8"
             ],
             [
              0.3333333333333333,
              "#9c179e"
             ],
             [
              0.4444444444444444,
              "#bd3786"
             ],
             [
              0.5555555555555556,
              "#d8576b"
             ],
             [
              0.6666666666666666,
              "#ed7953"
             ],
             [
              0.7777777777777778,
              "#fb9f3a"
             ],
             [
              0.8888888888888888,
              "#fdca26"
             ],
             [
              1,
              "#f0f921"
             ]
            ],
            "type": "heatmap"
           }
          ],
          "histogram": [
           {
            "marker": {
             "pattern": {
              "fillmode": "overlay",
              "size": 10,
              "solidity": 0.2
             }
            },
            "type": "histogram"
           }
          ],
          "histogram2d": [
           {
            "colorbar": {
             "outlinewidth": 0,
             "ticks": ""
            },
            "colorscale": [
             [
              0,
              "#0d0887"
             ],
             [
              0.1111111111111111,
              "#46039f"
             ],
             [
              0.2222222222222222,
              "#7201a8"
             ],
             [
              0.3333333333333333,
              "#9c179e"
             ],
             [
              0.4444444444444444,
              "#bd3786"
             ],
             [
              0.5555555555555556,
              "#d8576b"
             ],
             [
              0.6666666666666666,
              "#ed7953"
             ],
             [
              0.7777777777777778,
              "#fb9f3a"
             ],
             [
              0.8888888888888888,
              "#fdca26"
             ],
             [
              1,
              "#f0f921"
             ]
            ],
            "type": "histogram2d"
           }
          ],
          "histogram2dcontour": [
           {
            "colorbar": {
             "outlinewidth": 0,
             "ticks": ""
            },
            "colorscale": [
             [
              0,
              "#0d0887"
             ],
             [
              0.1111111111111111,
              "#46039f"
             ],
             [
              0.2222222222222222,
              "#7201a8"
             ],
             [
              0.3333333333333333,
              "#9c179e"
             ],
             [
              0.4444444444444444,
              "#bd3786"
             ],
             [
              0.5555555555555556,
              "#d8576b"
             ],
             [
              0.6666666666666666,
              "#ed7953"
             ],
             [
              0.7777777777777778,
              "#fb9f3a"
             ],
             [
              0.8888888888888888,
              "#fdca26"
             ],
             [
              1,
              "#f0f921"
             ]
            ],
            "type": "histogram2dcontour"
           }
          ],
          "mesh3d": [
           {
            "colorbar": {
             "outlinewidth": 0,
             "ticks": ""
            },
            "type": "mesh3d"
           }
          ],
          "parcoords": [
           {
            "line": {
             "colorbar": {
              "outlinewidth": 0,
              "ticks": ""
             }
            },
            "type": "parcoords"
           }
          ],
          "pie": [
           {
            "automargin": true,
            "type": "pie"
           }
          ],
          "scatter": [
           {
            "fillpattern": {
             "fillmode": "overlay",
             "size": 10,
             "solidity": 0.2
            },
            "type": "scatter"
           }
          ],
          "scatter3d": [
           {
            "line": {
             "colorbar": {
              "outlinewidth": 0,
              "ticks": ""
             }
            },
            "marker": {
             "colorbar": {
              "outlinewidth": 0,
              "ticks": ""
             }
            },
            "type": "scatter3d"
           }
          ],
          "scattercarpet": [
           {
            "marker": {
             "colorbar": {
              "outlinewidth": 0,
              "ticks": ""
             }
            },
            "type": "scattercarpet"
           }
          ],
          "scattergeo": [
           {
            "marker": {
             "colorbar": {
              "outlinewidth": 0,
              "ticks": ""
             }
            },
            "type": "scattergeo"
           }
          ],
          "scattergl": [
           {
            "marker": {
             "colorbar": {
              "outlinewidth": 0,
              "ticks": ""
             }
            },
            "type": "scattergl"
           }
          ],
          "scattermap": [
           {
            "marker": {
             "colorbar": {
              "outlinewidth": 0,
              "ticks": ""
             }
            },
            "type": "scattermap"
           }
          ],
          "scattermapbox": [
           {
            "marker": {
             "colorbar": {
              "outlinewidth": 0,
              "ticks": ""
             }
            },
            "type": "scattermapbox"
           }
          ],
          "scatterpolar": [
           {
            "marker": {
             "colorbar": {
              "outlinewidth": 0,
              "ticks": ""
             }
            },
            "type": "scatterpolar"
           }
          ],
          "scatterpolargl": [
           {
            "marker": {
             "colorbar": {
              "outlinewidth": 0,
              "ticks": ""
             }
            },
            "type": "scatterpolargl"
           }
          ],
          "scatterternary": [
           {
            "marker": {
             "colorbar": {
              "outlinewidth": 0,
              "ticks": ""
             }
            },
            "type": "scatterternary"
           }
          ],
          "surface": [
           {
            "colorbar": {
             "outlinewidth": 0,
             "ticks": ""
            },
            "colorscale": [
             [
              0,
              "#0d0887"
             ],
             [
              0.1111111111111111,
              "#46039f"
             ],
             [
              0.2222222222222222,
              "#7201a8"
             ],
             [
              0.3333333333333333,
              "#9c179e"
             ],
             [
              0.4444444444444444,
              "#bd3786"
             ],
             [
              0.5555555555555556,
              "#d8576b"
             ],
             [
              0.6666666666666666,
              "#ed7953"
             ],
             [
              0.7777777777777778,
              "#fb9f3a"
             ],
             [
              0.8888888888888888,
              "#fdca26"
             ],
             [
              1,
              "#f0f921"
             ]
            ],
            "type": "surface"
           }
          ],
          "table": [
           {
            "cells": {
             "fill": {
              "color": "#EBF0F8"
             },
             "line": {
              "color": "white"
             }
            },
            "header": {
             "fill": {
              "color": "#C8D4E3"
             },
             "line": {
              "color": "white"
             }
            },
            "type": "table"
           }
          ]
         },
         "layout": {
          "annotationdefaults": {
           "arrowcolor": "#2a3f5f",
           "arrowhead": 0,
           "arrowwidth": 1
          },
          "autotypenumbers": "strict",
          "coloraxis": {
           "colorbar": {
            "outlinewidth": 0,
            "ticks": ""
           }
          },
          "colorscale": {
           "diverging": [
            [
             0,
             "#8e0152"
            ],
            [
             0.1,
             "#c51b7d"
            ],
            [
             0.2,
             "#de77ae"
            ],
            [
             0.3,
             "#f1b6da"
            ],
            [
             0.4,
             "#fde0ef"
            ],
            [
             0.5,
             "#f7f7f7"
            ],
            [
             0.6,
             "#e6f5d0"
            ],
            [
             0.7,
             "#b8e186"
            ],
            [
             0.8,
             "#7fbc41"
            ],
            [
             0.9,
             "#4d9221"
            ],
            [
             1,
             "#276419"
            ]
           ],
           "sequential": [
            [
             0,
             "#0d0887"
            ],
            [
             0.1111111111111111,
             "#46039f"
            ],
            [
             0.2222222222222222,
             "#7201a8"
            ],
            [
             0.3333333333333333,
             "#9c179e"
            ],
            [
             0.4444444444444444,
             "#bd3786"
            ],
            [
             0.5555555555555556,
             "#d8576b"
            ],
            [
             0.6666666666666666,
             "#ed7953"
            ],
            [
             0.7777777777777778,
             "#fb9f3a"
            ],
            [
             0.8888888888888888,
             "#fdca26"
            ],
            [
             1,
             "#f0f921"
            ]
           ],
           "sequentialminus": [
            [
             0,
             "#0d0887"
            ],
            [
             0.1111111111111111,
             "#46039f"
            ],
            [
             0.2222222222222222,
             "#7201a8"
            ],
            [
             0.3333333333333333,
             "#9c179e"
            ],
            [
             0.4444444444444444,
             "#bd3786"
            ],
            [
             0.5555555555555556,
             "#d8576b"
            ],
            [
             0.6666666666666666,
             "#ed7953"
            ],
            [
             0.7777777777777778,
             "#fb9f3a"
            ],
            [
             0.8888888888888888,
             "#fdca26"
            ],
            [
             1,
             "#f0f921"
            ]
           ]
          },
          "colorway": [
           "#636efa",
           "#EF553B",
           "#00cc96",
           "#ab63fa",
           "#FFA15A",
           "#19d3f3",
           "#FF6692",
           "#B6E880",
           "#FF97FF",
           "#FECB52"
          ],
          "font": {
           "color": "#2a3f5f"
          },
          "geo": {
           "bgcolor": "white",
           "lakecolor": "white",
           "landcolor": "#E5ECF6",
           "showlakes": true,
           "showland": true,
           "subunitcolor": "white"
          },
          "hoverlabel": {
           "align": "left"
          },
          "hovermode": "closest",
          "mapbox": {
           "style": "light"
          },
          "paper_bgcolor": "white",
          "plot_bgcolor": "#E5ECF6",
          "polar": {
           "angularaxis": {
            "gridcolor": "white",
            "linecolor": "white",
            "ticks": ""
           },
           "bgcolor": "#E5ECF6",
           "radialaxis": {
            "gridcolor": "white",
            "linecolor": "white",
            "ticks": ""
           }
          },
          "scene": {
           "xaxis": {
            "backgroundcolor": "#E5ECF6",
            "gridcolor": "white",
            "gridwidth": 2,
            "linecolor": "white",
            "showbackground": true,
            "ticks": "",
            "zerolinecolor": "white"
           },
           "yaxis": {
            "backgroundcolor": "#E5ECF6",
            "gridcolor": "white",
            "gridwidth": 2,
            "linecolor": "white",
            "showbackground": true,
            "ticks": "",
            "zerolinecolor": "white"
           },
           "zaxis": {
            "backgroundcolor": "#E5ECF6",
            "gridcolor": "white",
            "gridwidth": 2,
            "linecolor": "white",
            "showbackground": true,
            "ticks": "",
            "zerolinecolor": "white"
           }
          },
          "shapedefaults": {
           "line": {
            "color": "#2a3f5f"
           }
          },
          "ternary": {
           "aaxis": {
            "gridcolor": "white",
            "linecolor": "white",
            "ticks": ""
           },
           "baxis": {
            "gridcolor": "white",
            "linecolor": "white",
            "ticks": ""
           },
           "bgcolor": "#E5ECF6",
           "caxis": {
            "gridcolor": "white",
            "linecolor": "white",
            "ticks": ""
           }
          },
          "title": {
           "x": 0.05
          },
          "xaxis": {
           "automargin": true,
           "gridcolor": "white",
           "linecolor": "white",
           "ticks": "",
           "title": {
            "standoff": 15
           },
           "zerolinecolor": "white",
           "zerolinewidth": 2
          },
          "yaxis": {
           "automargin": true,
           "gridcolor": "white",
           "linecolor": "white",
           "ticks": "",
           "title": {
            "standoff": 15
           },
           "zerolinecolor": "white",
           "zerolinewidth": 2
          }
         }
        },
        "title": {
         "text": "Cluster Comparison: Ground Truth vs Prediction"
        },
        "width": 1000,
        "xaxis": {
         "anchor": "y",
         "domain": [
          0,
          0.45
         ]
        },
        "xaxis2": {
         "anchor": "y2",
         "domain": [
          0.55,
          1
         ]
        },
        "yaxis": {
         "anchor": "x",
         "domain": [
          0,
          1
         ]
        },
        "yaxis2": {
         "anchor": "x2",
         "domain": [
          0,
          1
         ]
        }
       }
      }
     },
     "metadata": {},
     "output_type": "display_data"
    },
    {
     "data": {
      "text/plain": [
       "([[61,\n",
       "   273,\n",
       "   366,\n",
       "   275,\n",
       "   143,\n",
       "   199,\n",
       "   367,\n",
       "   276,\n",
       "   255,\n",
       "   285,\n",
       "   263,\n",
       "   286,\n",
       "   409,\n",
       "   284,\n",
       "   104,\n",
       "   340,\n",
       "   407,\n",
       "   281,\n",
       "   4,\n",
       "   271,\n",
       "   365,\n",
       "   280,\n",
       "   158,\n",
       "   371,\n",
       "   288,\n",
       "   3,\n",
       "   372,\n",
       "   153,\n",
       "   303,\n",
       "   277,\n",
       "   268,\n",
       "   203,\n",
       "   134,\n",
       "   269,\n",
       "   150,\n",
       "   202,\n",
       "   218,\n",
       "   412,\n",
       "   289,\n",
       "   359,\n",
       "   411,\n",
       "   201,\n",
       "   362,\n",
       "   154,\n",
       "   6,\n",
       "   262],\n",
       "  [152,\n",
       "   157,\n",
       "   386,\n",
       "   381,\n",
       "   385,\n",
       "   337,\n",
       "   83,\n",
       "   62,\n",
       "   43,\n",
       "   390,\n",
       "   243,\n",
       "   58,\n",
       "   394,\n",
       "   389,\n",
       "   80,\n",
       "   387,\n",
       "   98,\n",
       "   204,\n",
       "   179,\n",
       "   64,\n",
       "   301,\n",
       "   210,\n",
       "   344,\n",
       "   84,\n",
       "   341,\n",
       "   170,\n",
       "   383,\n",
       "   264,\n",
       "   168,\n",
       "   107,\n",
       "   85,\n",
       "   376,\n",
       "   258,\n",
       "   396,\n",
       "   183,\n",
       "   75,\n",
       "   146,\n",
       "   54,\n",
       "   52,\n",
       "   388,\n",
       "   177,\n",
       "   135,\n",
       "   351,\n",
       "   265,\n",
       "   39],\n",
       "  [324,\n",
       "   68,\n",
       "   338,\n",
       "   326,\n",
       "   327,\n",
       "   333,\n",
       "   66,\n",
       "   163,\n",
       "   181,\n",
       "   313,\n",
       "   342,\n",
       "   156,\n",
       "   174,\n",
       "   312,\n",
       "   302,\n",
       "   79,\n",
       "   178,\n",
       "   78,\n",
       "   71,\n",
       "   172,\n",
       "   320,\n",
       "   311,\n",
       "   319,\n",
       "   325,\n",
       "   382],\n",
       "  [228,\n",
       "   125,\n",
       "   96,\n",
       "   105,\n",
       "   225,\n",
       "   119,\n",
       "   219,\n",
       "   148,\n",
       "   214,\n",
       "   120,\n",
       "   128,\n",
       "   50,\n",
       "   212,\n",
       "   287,\n",
       "   47,\n",
       "   94,\n",
       "   48,\n",
       "   161,\n",
       "   216,\n",
       "   330,\n",
       "   377],\n",
       "  [328,\n",
       "   334,\n",
       "   197,\n",
       "   240,\n",
       "   251,\n",
       "   309,\n",
       "   404,\n",
       "   346,\n",
       "   221,\n",
       "   310,\n",
       "   136,\n",
       "   317,\n",
       "   323,\n",
       "   106,\n",
       "   147,\n",
       "   335,\n",
       "   252],\n",
       "  [130,\n",
       "   405,\n",
       "   398,\n",
       "   391,\n",
       "   395,\n",
       "   49,\n",
       "   384,\n",
       "   220,\n",
       "   399,\n",
       "   208,\n",
       "   401,\n",
       "   291,\n",
       "   380,\n",
       "   392,\n",
       "   26,\n",
       "   256],\n",
       "  [237, 232, 229, 231, 230, 247, 25, 248, 32, 236, 246, 234, 12, 233, 14],\n",
       "  [215, 304, 42, 321, 339, 112, 103, 227, 415, 162, 187, 97, 122],\n",
       "  [70, 175, 254, 184, 138, 173, 67, 69, 165, 217],\n",
       "  [21, 19, 17, 18, 22, 20, 24, 36, 34],\n",
       "  [259, 160, 260, 11, 270, 5, 27, 59],\n",
       "  [126, 114, 111, 113, 115, 89, 300, 124],\n",
       "  [140, 118, 299, 298, 149, 370, 141],\n",
       "  [100, 329, 95, 117, 41, 108, 116],\n",
       "  [408, 267, 102, 155, 336, 123],\n",
       "  [45, 81, 99, 86, 315, 180],\n",
       "  [65, 74, 76, 167, 164],\n",
       "  [357, 194, 358, 305, 348],\n",
       "  [332, 209, 322, 318],\n",
       "  [142, 402, 414, 211],\n",
       "  [375, 331, 374, 379],\n",
       "  [290, 293, 297, 350],\n",
       "  [410, 278, 361],\n",
       "  [151, 222, 213],\n",
       "  [88, 200, 92],\n",
       "  [2, 1, 282],\n",
       "  [364, 30],\n",
       "  [266, 144],\n",
       "  [378, 406],\n",
       "  [77, 226],\n",
       "  [314, 353],\n",
       "  [261, 294],\n",
       "  [393, 403],\n",
       "  [397, 55],\n",
       "  [360, 345],\n",
       "  [343, 9],\n",
       "  [13, 235],\n",
       "  [132, 171],\n",
       "  [257],\n",
       "  [37],\n",
       "  [109],\n",
       "  [166],\n",
       "  [176],\n",
       "  [283],\n",
       "  [110],\n",
       "  [185],\n",
       "  [40],\n",
       "  [355],\n",
       "  [127],\n",
       "  [101],\n",
       "  [292],\n",
       "  [90],\n",
       "  [207],\n",
       "  [245],\n",
       "  [73],\n",
       "  [193],\n",
       "  [63],\n",
       "  [308],\n",
       "  [400],\n",
       "  [29],\n",
       "  [169],\n",
       "  [82],\n",
       "  [274],\n",
       "  [60],\n",
       "  [57],\n",
       "  [31],\n",
       "  [352],\n",
       "  [195],\n",
       "  [198],\n",
       "  [279],\n",
       "  [131],\n",
       "  [87],\n",
       "  [363],\n",
       "  [188],\n",
       "  [93],\n",
       "  [369],\n",
       "  [35],\n",
       "  [28],\n",
       "  [33],\n",
       "  [296],\n",
       "  [205],\n",
       "  [354],\n",
       "  [121],\n",
       "  [7],\n",
       "  [223],\n",
       "  [224],\n",
       "  [356],\n",
       "  [38],\n",
       "  [0],\n",
       "  [191],\n",
       "  [413],\n",
       "  [46],\n",
       "  [23],\n",
       "  [250],\n",
       "  [44],\n",
       "  [133],\n",
       "  [10],\n",
       "  [373],\n",
       "  [189],\n",
       "  [241],\n",
       "  [53],\n",
       "  [145],\n",
       "  [238],\n",
       "  [295],\n",
       "  [8],\n",
       "  [15],\n",
       "  [16],\n",
       "  [51],\n",
       "  [56],\n",
       "  [72],\n",
       "  [91],\n",
       "  [129],\n",
       "  [137],\n",
       "  [139],\n",
       "  [159],\n",
       "  [182],\n",
       "  [186],\n",
       "  [190],\n",
       "  [192],\n",
       "  [196],\n",
       "  [206],\n",
       "  [239],\n",
       "  [242],\n",
       "  [244],\n",
       "  [249],\n",
       "  [253],\n",
       "  [272],\n",
       "  [306],\n",
       "  [307],\n",
       "  [316],\n",
       "  [347],\n",
       "  [349],\n",
       "  [368]],\n",
       " Figure({\n",
       "     'data': [{'legendgroup': 'gt',\n",
       "               'marker': {'color': '#1f77b4', 'size': 6},\n",
       "               'mode': 'markers',\n",
       "               'name': 'GT Group 0',\n",
       "               'showlegend': False,\n",
       "               'type': 'scatter',\n",
       "               'x': {'bdata': 'jrBxwqK6dsKiG3fCqsF4wtXDVsKHEXTC8+Yywg==', 'dtype': 'f4'},\n",
       "               'xaxis': 'x',\n",
       "               'y': {'bdata': 'fI5nQbwdi0HZha5BYHGaQQ1Mq0FmgJpBfT9/QA==', 'dtype': 'f4'},\n",
       "               'yaxis': 'y'},\n",
       "              {'legendgroup': 'gt',\n",
       "               'marker': {'color': '#1f77b4', 'size': 6},\n",
       "               'mode': 'markers',\n",
       "               'name': 'GT Group 1',\n",
       "               'showlegend': False,\n",
       "               'type': 'scatter',\n",
       "               'x': {'bdata': '2DgKQfCx38G2VOPBB/TlwZdBDUGRmgFBWm/svy6DEEE3PidB2gg/Qg==', 'dtype': 'f4'},\n",
       "               'xaxis': 'x',\n",
       "               'y': {'bdata': 'ae9lQmX+qEF31ZtBnYCRQR88akKtQXNCnV6AQr/UbkJDgnNCEjG3QQ==', 'dtype': 'f4'},\n",
       "               'yaxis': 'y'},\n",
       "              {'legendgroup': 'gt',\n",
       "               'marker': {'color': '#1f77b4', 'size': 6},\n",
       "               'mode': 'markers',\n",
       "               'name': 'GT Group 2',\n",
       "               'showlegend': False,\n",
       "               'type': 'scatter',\n",
       "               'x': {'bdata': '38lVwjB2VcLH+VDCIb1bwgzyTcLH30vClsdVwtqjRcI=', 'dtype': 'f4'},\n",
       "               'xaxis': 'x',\n",
       "               'y': {'bdata': 'xiVbQsF/V0Kd72FCyT9dQgbNXELrQmRC8tVnQiwaYkI=', 'dtype': 'f4'},\n",
       "               'yaxis': 'y'},\n",
       "              {'legendgroup': 'gt',\n",
       "               'marker': {'color': '#aec7e8', 'size': 6},\n",
       "               'mode': 'markers',\n",
       "               'name': 'GT Group 3',\n",
       "               'showlegend': False,\n",
       "               'type': 'scatter',\n",
       "               'x': {'bdata': '3btfwRwPK0Fdd0/CN2DXwSURJz95p+hA/t7iwQ==', 'dtype': 'f4'},\n",
       "               'xaxis': 'x',\n",
       "               'y': {'bdata': 'kMeVQhvlSUGRvCDBGBRdQrup7kGxOi1BAXJTQg==', 'dtype': 'f4'},\n",
       "               'yaxis': 'y'},\n",
       "              {'legendgroup': 'gt',\n",
       "               'marker': {'color': '#aec7e8', 'size': 6},\n",
       "               'mode': 'markers',\n",
       "               'name': 'GT Group 4',\n",
       "               'showlegend': False,\n",
       "               'type': 'scatter',\n",
       "               'x': {'bdata': 'tdVZwUes/cHJ3/LBdrDrwYog5cFlAQ1AkAH4wQ==', 'dtype': 'f4'},\n",
       "               'xaxis': 'x',\n",
       "               'y': {'bdata': '1jSWQs63XkJmLmBC/6ddQgnaWkKbP09AKt5mQg==', 'dtype': 'f4'},\n",
       "               'yaxis': 'y'},\n",
       "              {'legendgroup': 'gt',\n",
       "               'marker': {'color': '#ff7f0e', 'size': 6},\n",
       "               'mode': 'markers',\n",
       "               'name': 'GT Group 5',\n",
       "               'showlegend': False,\n",
       "               'type': 'scatter',\n",
       "               'x': {'bdata': 'GCDVQR1Ci0E=', 'dtype': 'f4'},\n",
       "               'xaxis': 'x',\n",
       "               'y': {'bdata': 'd7A4QieGDUI=', 'dtype': 'f4'},\n",
       "               'yaxis': 'y'},\n",
       "              {'legendgroup': 'gt',\n",
       "               'marker': {'color': '#ff7f0e', 'size': 6},\n",
       "               'mode': 'markers',\n",
       "               'name': 'GT Group 6',\n",
       "               'showlegend': False,\n",
       "               'type': 'scatter',\n",
       "               'x': {'bdata': 'b7aGwYxrTsE=', 'dtype': 'f4'},\n",
       "               'xaxis': 'x',\n",
       "               'y': {'bdata': 'DXdwwar3gcE=', 'dtype': 'f4'},\n",
       "               'yaxis': 'y'},\n",
       "              {'legendgroup': 'gt',\n",
       "               'marker': {'color': '#ff7f0e', 'size': 6},\n",
       "               'mode': 'markers',\n",
       "               'name': 'GT Group 7',\n",
       "               'showlegend': False,\n",
       "               'type': 'scatter',\n",
       "               'x': {'bdata': 'M5/7QJOtBkGbo2hCOBy+wZZ3YUBkufbBtThLQh8pC8H8e8VAsKZGQofa7EA=', 'dtype': 'f4'},\n",
       "               'xaxis': 'x',\n",
       "               'y': {'bdata': 'ZFQVQr1XY0HzMOZA4kLYQPvmAMLseMPBqlf1QQv0HcLoZV/Cjmq0Qbf2AMI=', 'dtype': 'f4'},\n",
       "               'yaxis': 'y'},\n",
       "              {'legendgroup': 'gt',\n",
       "               'marker': {'color': '#ffbb78', 'size': 6},\n",
       "               'mode': 'markers',\n",
       "               'name': 'GT Group 8',\n",
       "               'showlegend': False,\n",
       "               'type': 'scatter',\n",
       "               'x': {'bdata': 'VZcSQvvTUUGAtZZB84RFQGAGoUE=', 'dtype': 'f4'},\n",
       "               'xaxis': 'x',\n",
       "               'y': {'bdata': 'LaqIwZmF5UF45eNBHy3MQQVWxkE=', 'dtype': 'f4'},\n",
       "               'yaxis': 'y'},\n",
       "              {'legendgroup': 'gt',\n",
       "               'marker': {'color': '#ffbb78', 'size': 6},\n",
       "               'mode': 'markers',\n",
       "               'name': 'GT Group 9',\n",
       "               'showlegend': False,\n",
       "               'type': 'scatter',\n",
       "               'x': {'bdata': 'qUgLwFoZzL9UlFDC', 'dtype': 'f4'},\n",
       "               'xaxis': 'x',\n",
       "               'y': {'bdata': 'RTk2QcQE90EYxYZB', 'dtype': 'f4'},\n",
       "               'yaxis': 'y'},\n",
       "              {'legendgroup': 'gt',\n",
       "               'marker': {'color': '#2ca02c', 'size': 6},\n",
       "               'mode': 'markers',\n",
       "               'name': 'GT Group 10',\n",
       "               'showlegend': False,\n",
       "               'type': 'scatter',\n",
       "               'x': {'bdata': 'DhP8QG45BUJV+ghC', 'dtype': 'f4'},\n",
       "               'xaxis': 'x',\n",
       "               'y': {'bdata': '9FASQu2B8kCPJoHB', 'dtype': 'f4'},\n",
       "               'yaxis': 'y'},\n",
       "              {'legendgroup': 'gt',\n",
       "               'marker': {'color': '#2ca02c', 'size': 6},\n",
       "               'mode': 'markers',\n",
       "               'name': 'GT Group 11',\n",
       "               'showlegend': False,\n",
       "               'type': 'scatter',\n",
       "               'x': {'bdata': 'qYszQpieI0IvuFBCy+weQg==', 'dtype': 'f4'},\n",
       "               'xaxis': 'x',\n",
       "               'y': {'bdata': 'AITeQHXRAcJL7MNBgcUGwg==', 'dtype': 'f4'},\n",
       "               'yaxis': 'y'},\n",
       "              {'legendgroup': 'gt',\n",
       "               'marker': {'color': '#98df8a', 'size': 6},\n",
       "               'mode': 'markers',\n",
       "               'name': 'GT Group 12',\n",
       "               'showlegend': False,\n",
       "               'type': 'scatter',\n",
       "               'x': {'bdata': 'hbeGQQxXOEJB/jZCQ5V1wpMNgUG37ApC', 'dtype': 'f4'},\n",
       "               'xaxis': 'x',\n",
       "               'y': {'bdata': 'R7E2wC1A0UBybzzBorakwdqAQ8CAboDA', 'dtype': 'f4'},\n",
       "               'yaxis': 'y'},\n",
       "              {'legendgroup': 'gt',\n",
       "               'marker': {'color': '#98df8a', 'size': 6},\n",
       "               'mode': 'markers',\n",
       "               'name': 'GT Group 13',\n",
       "               'showlegend': False,\n",
       "               'type': 'scatter',\n",
       "               'x': {'bdata': 'dXkNQoThcUL1oFtCWB1HQifTQULRKvlBuFhvQgbsc0LCHHdBCkNUQrTnCUK9H2VC', 'dtype': 'f4'},\n",
       "               'xaxis': 'x',\n",
       "               'y': {'bdata': 'LFwAwimJP8G6r5PAHmiuQcd2H8CPcBHAmGzEQG7gRsHxYwpCa41awBHu+sEzgNtA', 'dtype': 'f4'},\n",
       "               'yaxis': 'y'},\n",
       "              {'legendgroup': 'gt',\n",
       "               'marker': {'color': '#98df8a', 'size': 6},\n",
       "               'mode': 'markers',\n",
       "               'name': 'GT Group 14',\n",
       "               'showlegend': False,\n",
       "               'type': 'scatter',\n",
       "               'x': {'bdata': 'X4JlQcZyXEGoHqJB4sWeQf7Fib8al4RC', 'dtype': 'f4'},\n",
       "               'xaxis': 'x',\n",
       "               'y': {'bdata': 'rDY7wqXZM8JSJVTCqA5MwiBxTsJOAJLB', 'dtype': 'f4'},\n",
       "               'yaxis': 'y'},\n",
       "              {'legendgroup': 'gt',\n",
       "               'marker': {'color': '#d62728', 'size': 6},\n",
       "               'mode': 'markers',\n",
       "               'name': 'GT Group 15',\n",
       "               'showlegend': False,\n",
       "               'type': 'scatter',\n",
       "               'x': {'bdata': 'HUmKwbwAhsGVal9B8nyYwEB9WEFnmXTAArwrwQ==', 'dtype': 'f4'},\n",
       "               'xaxis': 'x',\n",
       "               'y': {'bdata': 'JXiJwZoVhMGGDzfCAevvwUT0LMIAw2rBzZZrwQ==', 'dtype': 'f4'},\n",
       "               'yaxis': 'y'},\n",
       "              {'legendgroup': 'gt',\n",
       "               'marker': {'color': '#d62728', 'size': 6},\n",
       "               'mode': 'markers',\n",
       "               'name': 'GT Group 16',\n",
       "               'showlegend': False,\n",
       "               'type': 'scatter',\n",
       "               'x': {'bdata': 'ZAvPwbBP3cFXN9XBpYDmwf3TTML/5brA', 'dtype': 'f4'},\n",
       "               'xaxis': 'x',\n",
       "               'y': {'bdata': 'uu7gwU/D68Es4+HBkf7QwTCpZEHpqvXB', 'dtype': 'f4'},\n",
       "               'yaxis': 'y'},\n",
       "              {'legendgroup': 'gt',\n",
       "               'marker': {'color': '#ff9896', 'size': 6},\n",
       "               'mode': 'markers',\n",
       "               'name': 'GT Group 17',\n",
       "               'showlegend': False,\n",
       "               'type': 'scatter',\n",
       "               'x': {'bdata': 'xDotwULmPUGewYVCuHPawA/Vs0G7DrBBuwoVwQ6bKsE=', 'dtype': 'f4'},\n",
       "               'xaxis': 'x',\n",
       "               'y': {'bdata': 'GLQCwp16HkFcH53BSKB2wiEHC8LZiwzCjE/nwdJxzcE=', 'dtype': 'f4'},\n",
       "               'yaxis': 'y'},\n",
       "              {'legendgroup': 'gt',\n",
       "               'marker': {'color': '#ff9896', 'size': 6},\n",
       "               'mode': 'markers',\n",
       "               'name': 'GT Group 18',\n",
       "               'showlegend': False,\n",
       "               'type': 'scatter',\n",
       "               'x': {'bdata': 'tPZ1QeA17sBf5Fi/DY0WvzuWEkHyLCjBcEVIwA==', 'dtype': 'f4'},\n",
       "               'xaxis': 'x',\n",
       "               'y': {'bdata': 'MMgSwnDuYcIhERPCLW8VwnVzEEHZQgDCBUoKwg==', 'dtype': 'f4'},\n",
       "               'yaxis': 'y'},\n",
       "              {'legendgroup': 'gt',\n",
       "               'marker': {'color': '#ff9896', 'size': 6},\n",
       "               'mode': 'markers',\n",
       "               'name': 'GT Group 19',\n",
       "               'showlegend': False,\n",
       "               'type': 'scatter',\n",
       "               'x': {'bdata': 'eMrAQJbXPsEJHqNB0IebwTopr8A=', 'dtype': 'f4'},\n",
       "               'xaxis': 'x',\n",
       "               'y': {'bdata': 'KGYBwlilfMFos07Ci4ANwn3kicE=', 'dtype': 'f4'},\n",
       "               'yaxis': 'y'},\n",
       "              {'legendgroup': 'gt',\n",
       "               'marker': {'color': '#9467bd', 'size': 6},\n",
       "               'mode': 'markers',\n",
       "               'name': 'GT Group 20',\n",
       "               'showlegend': False,\n",
       "               'type': 'scatter',\n",
       "               'x': {'bdata': 'x32LQQ==', 'dtype': 'f4'},\n",
       "               'xaxis': 'x',\n",
       "               'y': {'bdata': 'T+YVwg==', 'dtype': 'f4'},\n",
       "               'yaxis': 'y'},\n",
       "              {'legendgroup': 'gt',\n",
       "               'marker': {'color': '#9467bd', 'size': 6},\n",
       "               'mode': 'markers',\n",
       "               'name': 'GT Group 21',\n",
       "               'showlegend': False,\n",
       "               'type': 'scatter',\n",
       "               'x': {'bdata': 'XQ8ewOrQBsE=', 'dtype': 'f4'},\n",
       "               'xaxis': 'x',\n",
       "               'y': {'bdata': '9NRJwuTqH8I=', 'dtype': 'f4'},\n",
       "               'yaxis': 'y'},\n",
       "              {'legendgroup': 'gt',\n",
       "               'marker': {'color': '#c5b0d5', 'size': 6},\n",
       "               'mode': 'markers',\n",
       "               'name': 'GT Group 22',\n",
       "               'showlegend': False,\n",
       "               'type': 'scatter',\n",
       "               'x': {'bdata': 'bkeywXodv0FyxLhBrCjGQQ==', 'dtype': 'f4'},\n",
       "               'xaxis': 'x',\n",
       "               'y': {'bdata': '4f82wlWCCkLadz9C3CxBQg==', 'dtype': 'f4'},\n",
       "               'yaxis': 'y'},\n",
       "              {'legendgroup': 'gt',\n",
       "               'marker': {'color': '#c5b0d5', 'size': 6},\n",
       "               'mode': 'markers',\n",
       "               'name': 'GT Group 23',\n",
       "               'showlegend': False,\n",
       "               'type': 'scatter',\n",
       "               'x': {'bdata': ('j0QbQfwSAMLGCc897QfMwZ7KlMF3nD' ... 'LpE8nBweKCQqKzhkFPaDXC+hNtQQ=='),\n",
       "                     'dtype': 'f4'},\n",
       "               'xaxis': 'x',\n",
       "               'y': {'bdata': ('OOe6wLLhN8EJbFPAMrJ+wvOakcEwaA' ... 'Gy3H/CwJ+XwW4HFcKBCknBeQcLQg=='),\n",
       "                     'dtype': 'f4'},\n",
       "               'yaxis': 'y'},\n",
       "              {'legendgroup': 'gt',\n",
       "               'marker': {'color': '#8c564b', 'size': 6},\n",
       "               'mode': 'markers',\n",
       "               'name': 'GT Group 24',\n",
       "               'showlegend': False,\n",
       "               'type': 'scatter',\n",
       "               'x': {'bdata': 'yO//QbzYAcJpPAjCOzhYwrNMOUKKYwRC6WjrwZ2CjcEFawXCqYgTQeMhLcD0AwhC', 'dtype': 'f4'},\n",
       "               'xaxis': 'x',\n",
       "               'y': {'bdata': 'd91jwKdKL8BbHpPAp5wWwHQbAEDO9HPArjdTwlrjBUEJSHbAdqQvQfXCT0K92DLB', 'dtype': 'f4'},\n",
       "               'yaxis': 'y'},\n",
       "              {'legendgroup': 'gt',\n",
       "               'marker': {'color': '#8c564b', 'size': 6},\n",
       "               'mode': 'markers',\n",
       "               'name': 'GT Group 25',\n",
       "               'showlegend': False,\n",
       "               'type': 'scatter',\n",
       "               'x': {'bdata': '6EM8Quz7HEJe9EpCF59VQgIlN0KcHGVB9oQJvl5V40HtzlFCv1lMQoVBDkIWyUBC', 'dtype': 'f4'},\n",
       "               'xaxis': 'x',\n",
       "               'y': {'bdata': 'gubTwdXtFkEsOfpBriTLv1mBiMABy2bAlJZ4wDSvPkIMUHfAZBjBQR/95MGJbrJA', 'dtype': 'f4'},\n",
       "               'yaxis': 'y'},\n",
       "              {'legendgroup': 'gt',\n",
       "               'marker': {'color': '#8c564b', 'size': 6},\n",
       "               'mode': 'markers',\n",
       "               'name': 'GT Group 26',\n",
       "               'showlegend': False,\n",
       "               'type': 'scatter',\n",
       "               'x': {'bdata': 'k8YsQgNGOUIR1B5CddkyQnP4PEKLCSJCj9QWwP6RO0JJcmFCz5guQnwt4sE=', 'dtype': 'f4'},\n",
       "               'xaxis': 'x',\n",
       "               'y': {'bdata': 'nmm5wMw6QMGCcjXB8N64wDBhvUApUjXBCI8jwemOWUCJx6pAVZ1EwayfeD0=', 'dtype': 'f4'},\n",
       "               'yaxis': 'y'},\n",
       "              {'legendgroup': 'gt',\n",
       "               'marker': {'color': '#c49c94', 'size': 6},\n",
       "               'mode': 'markers',\n",
       "               'name': 'GT Group 27',\n",
       "               'showlegend': False,\n",
       "               'type': 'scatter',\n",
       "               'x': {'bdata': 'r8wrwrSOXUHEb0tBCRi/QCW8gELZiZHB04ASQiACAMI=', 'dtype': 'f4'},\n",
       "               'xaxis': 'x',\n",
       "               'y': {'bdata': 'LRn2wbP0uMH4a+JBQL0hQi4afcFphwNBOT1DQY9pvL8=', 'dtype': 'f4'},\n",
       "               'yaxis': 'y'},\n",
       "              {'legendgroup': 'gt',\n",
       "               'marker': {'color': '#c49c94', 'size': 6},\n",
       "               'mode': 'markers',\n",
       "               'name': 'GT Group 28',\n",
       "               'showlegend': False,\n",
       "               'type': 'scatter',\n",
       "               'x': {'bdata': ('UXnuwZoje0JA0rTB18hBwpsEAMIfN/' ... 'dBA2bQQZtH1UHucrrBUcHrQWhWJ0A='),\n",
       "                     'dtype': 'f4'},\n",
       "               'xaxis': 'x',\n",
       "               'y': {'bdata': ('0INUwkplXsFsX+jBXqqWQWf/QMHLbV' ... 'dCKqXQQakUPEIp6EPCADcBQgahXMI='),\n",
       "                     'dtype': 'f4'},\n",
       "               'yaxis': 'y'},\n",
       "              {'legendgroup': 'gt',\n",
       "               'marker': {'color': '#e377c2', 'size': 6},\n",
       "               'mode': 'markers',\n",
       "               'name': 'GT Group 29',\n",
       "               'showlegend': False,\n",
       "               'type': 'scatter',\n",
       "               'x': {'bdata': ('I+QPwEpthkJt31XB2eQwwenRVsE6rz' ... 'FBPQMpwUUks0HL6AFC5e/swH5swMA='),\n",
       "                     'dtype': 'f4'},\n",
       "               'xaxis': 'x',\n",
       "               'y': {'bdata': ('+WPhQagbjMHEaZFBPAHpwZgpjkFstp' ... 'JACQ3TQY/LwUA40vHBvHfnwUas1cE='),\n",
       "                     'dtype': 'f4'},\n",
       "               'yaxis': 'y'},\n",
       "              {'legendgroup': 'gt',\n",
       "               'marker': {'color': '#e377c2', 'size': 6},\n",
       "               'mode': 'markers',\n",
       "               'name': 'GT Group 30',\n",
       "               'showlegend': False,\n",
       "               'type': 'scatter',\n",
       "               'x': {'bdata': 'EQ2nwAyPb8DHwQbAX2BIwA==', 'dtype': 'f4'},\n",
       "               'xaxis': 'x',\n",
       "               'y': {'bdata': 'JK2GQqBqg0KCr4VCf2+EQg==', 'dtype': 'f4'},\n",
       "               'yaxis': 'y'},\n",
       "              {'legendgroup': 'gt',\n",
       "               'marker': {'color': '#e377c2', 'size': 6},\n",
       "               'mode': 'markers',\n",
       "               'name': 'GT Group 31',\n",
       "               'showlegend': False,\n",
       "               'type': 'scatter',\n",
       "               'x': {'bdata': 'K+tYwFL1hcCpd3rAcWECwC1/d8A=', 'dtype': 'f4'},\n",
       "               'xaxis': 'x',\n",
       "               'y': {'bdata': '392dQkoToULdRJ5CvJqdQsHlh0I=', 'dtype': 'f4'},\n",
       "               'yaxis': 'y'},\n",
       "              {'legendgroup': 'gt',\n",
       "               'marker': {'color': '#f7b6d2', 'size': 6},\n",
       "               'mode': 'markers',\n",
       "               'name': 'GT Group 32',\n",
       "               'showlegend': False,\n",
       "               'type': 'scatter',\n",
       "               'x': {'bdata': ('uoqnQY8MuUFZXaJBGAnDQTQ/0EECeu' ... 'EglXnAzP+gQZGFikGqwHxBy/JlQQ=='),\n",
       "                     'dtype': 'f4'},\n",
       "               'xaxis': 'x',\n",
       "               'y': {'bdata': ('BPJ9wT2vO8F51YPBxWxAwRvaIMFysg' ... 'KXEo9CS/lawjafssEi9bTBQIf5QQ=='),\n",
       "                     'dtype': 'f4'},\n",
       "               'yaxis': 'y'},\n",
       "              {'legendgroup': 'gt',\n",
       "               'marker': {'color': '#f7b6d2', 'size': 6},\n",
       "               'mode': 'markers',\n",
       "               'name': 'GT Group 33',\n",
       "               'showlegend': False,\n",
       "               'type': 'scatter',\n",
       "               'x': {'bdata': 'AVJDQiaNY8IUSXDCE6BjwprO10AHfn/CF4Frwg==', 'dtype': 'f4'},\n",
       "               'xaxis': 'x',\n",
       "               'y': {'bdata': 'uFX7QKwMeUHLukHBSd6Lwb46HEKjx5pBs9ZdQQ==', 'dtype': 'f4'},\n",
       "               'yaxis': 'y'},\n",
       "              {'legendgroup': 'gt',\n",
       "               'marker': {'color': '#7f7f7f', 'size': 6},\n",
       "               'mode': 'markers',\n",
       "               'name': 'GT Group 34',\n",
       "               'showlegend': False,\n",
       "               'type': 'scatter',\n",
       "               'x': {'bdata': ('C+2Rwe1VScIY82nCTKkJQo/DDkKDK2' ... '9QwnsaTEIpwzfC4fNVwoF1NcKxSOfB'),\n",
       "                     'dtype': 'f4'},\n",
       "               'xaxis': 'x',\n",
       "               'y': {'bdata': ('9REcQtwpT0GnoxJBDoMCQV3qUMGvT6' ... '1+Qeo15kH5fSjBX+CNQRsGd0D8YYxB'),\n",
       "                     'dtype': 'f4'},\n",
       "               'yaxis': 'y'},\n",
       "              {'legendgroup': 'gt',\n",
       "               'marker': {'color': '#7f7f7f', 'size': 6},\n",
       "               'mode': 'markers',\n",
       "               'name': 'GT Group 35',\n",
       "               'showlegend': False,\n",
       "               'type': 'scatter',\n",
       "               'x': {'bdata': 'STRnwvYBPMIgOWDCwyeDwjKmkMJAIpHCcWI2wkJha8JwTJTAqeBlwu7YcsI=', 'dtype': 'f4'},\n",
       "               'xaxis': 'x',\n",
       "               'y': {'bdata': 'OdjtQaShS8A1LoFB+3GaQQ57gEGQTHtBJ2AbwZ2YfsEM9DPBK9brQQZchsE=', 'dtype': 'f4'},\n",
       "               'yaxis': 'y'},\n",
       "              {'legendgroup': 'gt',\n",
       "               'marker': {'color': '#c7c7c7', 'size': 6},\n",
       "               'mode': 'markers',\n",
       "               'name': 'GT Group 36',\n",
       "               'showlegend': False,\n",
       "               'type': 'scatter',\n",
       "               'x': {'bdata': '4G+NwRMHeMG4/5XBnkOIwY8KhMHBjKPBckydwdiEDME=', 'dtype': 'f4'},\n",
       "               'xaxis': 'x',\n",
       "               'y': {'bdata': '0A8tQok7JELp1C9CMioqQnxCJUL/zBRCd5oXQv+1LkI=', 'dtype': 'f4'},\n",
       "               'yaxis': 'y'},\n",
       "              {'legendgroup': 'gt',\n",
       "               'marker': {'color': '#c7c7c7', 'size': 6},\n",
       "               'mode': 'markers',\n",
       "               'name': 'GT Group 37',\n",
       "               'showlegend': False,\n",
       "               'type': 'scatter',\n",
       "               'x': {'bdata': 'Z9fPP+2DaUDP2ok/9WkOQi5ka0Ia6W7CyvEgwc4q9MFO3F1CFGYnQQ==', 'dtype': 'f4'},\n",
       "               'xaxis': 'x',\n",
       "               'y': {'bdata': 'W3jBQBoF7ECO2cVA4wB3wVsPCkFbXp7BWxzWwTvYg8Ae3QZBUVOMwQ==', 'dtype': 'f4'},\n",
       "               'yaxis': 'y'},\n",
       "              {'legendgroup': 'gt',\n",
       "               'marker': {'color': '#c7c7c7', 'size': 6},\n",
       "               'mode': 'markers',\n",
       "               'name': 'GT Group 38',\n",
       "               'showlegend': False,\n",
       "               'type': 'scatter',\n",
       "               'x': {'bdata': 'F1+MwV/YhcFiDkJCl+ooQgh7PELYOTxCg8UmwlXWIsLy8OXA', 'dtype': 'f4'},\n",
       "               'xaxis': 'x',\n",
       "               'y': {'bdata': 'au5bwgv2XMKIguzBMiz+wbPS48HQdujBAaiTweYznMH5Z5LB', 'dtype': 'f4'},\n",
       "               'yaxis': 'y'},\n",
       "              {'legendgroup': 'gt',\n",
       "               'marker': {'color': '#bcbd22', 'size': 6},\n",
       "               'mode': 'markers',\n",
       "               'name': 'GT Group 39',\n",
       "               'showlegend': False,\n",
       "               'type': 'scatter',\n",
       "               'x': {'bdata': ('7WiEwC3bTcFjAW5BoZkMQsVtI8IVD0' ... 'VCYTYNQl5MEMBRHMvBXtV9Qa4SDME='),\n",
       "                     'dtype': 'f4'},\n",
       "               'xaxis': 'x',\n",
       "               'y': {'bdata': ('MhQ9wgaoUMJt/qjBtTcjwvlg8cE29K' ... 'K+gp4LworsTEK18EDCzCKgwXT7WcI='),\n",
       "                     'dtype': 'f4'},\n",
       "               'yaxis': 'y'},\n",
       "              {'legendgroup': 'gt',\n",
       "               'marker': {'color': '#bcbd22', 'size': 6},\n",
       "               'mode': 'markers',\n",
       "               'name': 'GT Group 40',\n",
       "               'showlegend': False,\n",
       "               'type': 'scatter',\n",
       "               'x': {'bdata': 'O6jIwfjN4EGgFMC/FrQrwZqEKEFmoObBOEjwQYRuwMBF7T8/BBW2wHC+A8EDOSTBy5bfwQ==', 'dtype': 'f4'},\n",
       "               'xaxis': 'x',\n",
       "               'y': {'bdata': 'lxXNQEebE7/3y0dCNGObwKMmGUKGmU5AnJqgwOOWOUKJ7CpCbGsowS796MD9bIrAIkv/QA==', 'dtype': 'f4'},\n",
       "               'yaxis': 'y'},\n",
       "              {'legendgroup': 'gt',\n",
       "               'marker': {'color': '#dbdb8d', 'size': 6},\n",
       "               'mode': 'markers',\n",
       "               'name': 'GT Group 41',\n",
       "               'showlegend': False,\n",
       "               'type': 'scatter',\n",
       "               'x': {'bdata': 'u2nRwRg/4MGUHNfBwgHYwC9H6cBs++LB', 'dtype': 'f4'},\n",
       "               'xaxis': 'x',\n",
       "               'y': {'bdata': 'xPEeQDcOAUAXldlANMs0QrxNMkKePAZB', 'dtype': 'f4'},\n",
       "               'yaxis': 'y'},\n",
       "              {'legendgroup': 'gt',\n",
       "               'marker': {'color': '#dbdb8d', 'size': 6},\n",
       "               'mode': 'markers',\n",
       "               'name': 'GT Group 42',\n",
       "               'showlegend': False,\n",
       "               'type': 'scatter',\n",
       "               'x': {'bdata': 'ZVFMwgs6osDot/LBfuM+wvtOPsJTN1fCkgK2QVtlX0DhzLHAR2dKwmrZQcI=', 'dtype': 'f4'},\n",
       "               'xaxis': 'x',\n",
       "               'y': {'bdata': 'ugZ2wU8bk8Fh4cbBgx1gwTwuU8HHY/i/AVdLwv3RxUFfukXCrjYrwaduh8A=', 'dtype': 'f4'},\n",
       "               'yaxis': 'y'},\n",
       "              {'legendgroup': 'gt',\n",
       "               'marker': {'color': '#dbdb8d', 'size': 6},\n",
       "               'mode': 'markers',\n",
       "               'name': 'GT Group 43',\n",
       "               'showlegend': False,\n",
       "               'type': 'scatter',\n",
       "               'x': {'bdata': '7eshQrceJULhNwhCn828QXI4k8G3YhxCv4sFQg==', 'dtype': 'f4'},\n",
       "               'xaxis': 'x',\n",
       "               'y': {'bdata': '1FlUwqTUVMLeDTrC16+IQf7HFsJG5FLCdkk8wg==', 'dtype': 'f4'},\n",
       "               'yaxis': 'y'},\n",
       "              {'legendgroup': 'gt',\n",
       "               'marker': {'color': '#17becf', 'size': 6},\n",
       "               'mode': 'markers',\n",
       "               'name': 'GT Group 44',\n",
       "               'showlegend': False,\n",
       "               'type': 'scatter',\n",
       "               'x': {'bdata': ('9WLcQRhCA0IrGg1Ch3znQXB850F3Ub' ... 'GMmJ1BqXIKwKQq60FI/plB9xxzvQ=='),\n",
       "                     'dtype': 'f4'},\n",
       "               'xaxis': 'x',\n",
       "               'y': {'bdata': ('0426QWUpH8EgwTTCc8oJQsO/uUGGAQ' ... 'FgVcdBinLXQWkyB0KXM9RBiRHvQQ=='),\n",
       "                     'dtype': 'f4'},\n",
       "               'yaxis': 'y'},\n",
       "              {'legendgroup': 'gt',\n",
       "               'marker': {'color': '#17becf', 'size': 6},\n",
       "               'mode': 'markers',\n",
       "               'name': 'GT Group 45',\n",
       "               'showlegend': False,\n",
       "               'type': 'scatter',\n",
       "               'x': {'bdata': 'k5LFQZRPAEKZKIpAqokNQh4DwkEk3DhBT1H4QQ==', 'dtype': 'f4'},\n",
       "               'xaxis': 'x',\n",
       "               'y': {'bdata': '2AQOQj6/P8JXIQHC68AswmShwEFYI5PBV+UJQg==', 'dtype': 'f4'},\n",
       "               'yaxis': 'y'},\n",
       "              {'legendgroup': 'gt',\n",
       "               'marker': {'color': '#9edae5', 'size': 6},\n",
       "               'mode': 'markers',\n",
       "               'name': 'GT Group 46',\n",
       "               'showlegend': False,\n",
       "               'type': 'scatter',\n",
       "               'x': {'bdata': 'jFYXQuROM8KPjznCaopGwtJnNcI=', 'dtype': 'f4'},\n",
       "               'xaxis': 'x',\n",
       "               'y': {'bdata': 'MrJQwpP9BcE3YC3AM8Q6wRWYRb8=', 'dtype': 'f4'},\n",
       "               'yaxis': 'y'},\n",
       "              {'legendgroup': 'gt',\n",
       "               'marker': {'color': '#9edae5', 'size': 6},\n",
       "               'mode': 'markers',\n",
       "               'name': 'GT Group 47',\n",
       "               'showlegend': False,\n",
       "               'type': 'scatter',\n",
       "               'x': {'bdata': '5m5FwtoMPMI=', 'dtype': 'f4'},\n",
       "               'xaxis': 'x',\n",
       "               'y': {'bdata': 'UnlxwUQeiUA=', 'dtype': 'f4'},\n",
       "               'yaxis': 'y'},\n",
       "              {'legendgroup': 'gt',\n",
       "               'marker': {'color': '#9edae5', 'size': 6},\n",
       "               'mode': 'markers',\n",
       "               'name': 'GT Group 48',\n",
       "               'showlegend': False,\n",
       "               'type': 'scatter',\n",
       "               'x': {'bdata': 'F4Ynwuh5hMG0ICfC', 'dtype': 'f4'},\n",
       "               'xaxis': 'x',\n",
       "               'y': {'bdata': 'sSkBwnjqY8KdDPfB', 'dtype': 'f4'},\n",
       "               'yaxis': 'y'},\n",
       "              {'legendgroup': 'pred',\n",
       "               'marker': {'color': '#1f77b4', 'size': 6},\n",
       "               'mode': 'markers',\n",
       "               'name': 'Pred Group 0',\n",
       "               'showlegend': False,\n",
       "               'type': 'scatter',\n",
       "               'x': {'bdata': ('VJRQwgaPUML7Tj7CKcM3wubFSMKbBA' ... 'LIM1bCZVFMwmk8CMLz5jLC7VVJwg=='),\n",
       "                     'dtype': 'f4'},\n",
       "               'xaxis': 'x2',\n",
       "               'y': {'bdata': ('GMWGQWU9fkE8LlPB+X0owRUgkEFn/0' ... 'FBhLNBugZ2wVsek8B9P39A3ClPQQ=='),\n",
       "                     'dtype': 'f4'},\n",
       "               'yaxis': 'y2'},\n",
       "              {'legendgroup': 'pred',\n",
       "               'marker': {'color': '#1f77b4', 'size': 6},\n",
       "               'mode': 'markers',\n",
       "               'name': 'Pred Group 1',\n",
       "               'showlegend': False,\n",
       "               'type': 'scatter',\n",
       "               'x': {'bdata': ('yO//QYpjBEKEkchBGEIDQndRs0EHAQ' ... 'CrQQNGOULGCc89Re0/P4/DDkIYINVB'),\n",
       "                     'dtype': 'f4'},\n",
       "               'xaxis': 'x2',\n",
       "               'y': {'bdata': ('d91jwM70c8CBNJRBZSkfwYYBCUIzaR' ... 'wHQsw6QMEJbFPAiewqQl3qUMF3sDhC'),\n",
       "                     'dtype': 'f4'},\n",
       "               'yaxis': 'y2'},\n",
       "              {'legendgroup': 'pred',\n",
       "               'marker': {'color': '#1f77b4', 'size': 6},\n",
       "               'mode': 'markers',\n",
       "               'name': 'Pred Group 2',\n",
       "               'showlegend': False,\n",
       "               'type': 'scatter',\n",
       "               'x': {'bdata': ('oD4RQsvsHkJhNg1CFgYXQjXMA0KGGl' ... 'KhmQxCl+ooQmMBbkFsY3bBKxoNQg=='),\n",
       "                     'dtype': 'f4'},\n",
       "               'xaxis': 'x2',\n",
       "               'y': {'bdata': ('It8CwoHFBsKCngvCIfL2wU5YBsKqHV' ... 'C1NyPCMiz+wW3+qMHVmFjCIME0wg=='),\n",
       "                     'dtype': 'f4'},\n",
       "               'yaxis': 'y2'},\n",
       "              {'legendgroup': 'pred',\n",
       "               'marker': {'color': '#1f77b4', 'size': 6},\n",
       "               'mode': 'markers',\n",
       "               'name': 'Pred Group 3',\n",
       "               'showlegend': False,\n",
       "               'type': 'scatter',\n",
       "               'x': {'bdata': ('fmzAwDopr8DyfJjA/+W6wEUks0HyLC' ... 'CGwWS59sGpiBNB6dFWwehEUcByOJPB'),\n",
       "                     'dtype': 'f4'},\n",
       "               'xaxis': 'x2',\n",
       "               'y': {'bdata': ('RqzVwX3kicEB6+/B6ar1wY/LwUDZQg' ... 'WEwex4w8F2pC9BmCmOQTsB90H+xxbC'),\n",
       "                     'dtype': 'f4'},\n",
       "               'yaxis': 'y2'},\n",
       "              {'legendgroup': 'pred',\n",
       "               'marker': {'color': '#1f77b4', 'size': 6},\n",
       "               'mode': 'markers',\n",
       "               'name': 'Pred Group 4',\n",
       "               'showlegend': False,\n",
       "               'type': 'scatter',\n",
       "               'x': {'bdata': ('UMRmQZq/lMBA0rTBWV2iQZGFikFf2I' ... 'TAFmijP8Q6LcHpE8nBLHaRwarAfEE='),\n",
       "                     'dtype': 'f4'},\n",
       "               'xaxis': 'x2',\n",
       "               'y': {'bdata': ('3GGiwRyyRMJsX+jBedWDwTafssEL9l' ... '3CqyP1wRi0AsKy3H/CfTYZwiL1tME='),\n",
       "                     'dtype': 'f4'},\n",
       "               'yaxis': 'y2'},\n",
       "              {'legendgroup': 'pred',\n",
       "               'marker': {'color': '#1f77b4', 'size': 6},\n",
       "               'mode': 'markers',\n",
       "               'name': 'Pred Group 5',\n",
       "               'showlegend': False,\n",
       "               'type': 'scatter',\n",
       "               'x': {'bdata': ('eh2/QU9R+EH3HHO9QAvNQalyCsC1OE' ... 'ATB3jB9WLcQYA220EcDytBFElwwg=='),\n",
       "                     'dtype': 'f4'},\n",
       "               'xaxis': 'x2',\n",
       "               'y': {'bdata': ('VYIKQlflCUKJEe9B0o7AQYpy10GqV/' ... 'KJOyRC0426QSAfGMEb5UlBy7pBwQ=='),\n",
       "                     'dtype': 'f4'},\n",
       "               'yaxis': 'y2'},\n",
       "              {'legendgroup': 'pred',\n",
       "               'marker': {'color': '#1f77b4', 'size': 6},\n",
       "               'mode': 'markers',\n",
       "               'name': 'Pred Group 6',\n",
       "               'showlegend': False,\n",
       "               'type': 'scatter',\n",
       "               'x': {'bdata': 'LX93wF9gSMARDafAx8EGwAyPb8DYGIDA3btfwSE5OcG11VnBcWECwDeIMcFS9YXAkZoBQSvrWMAugxBB',\n",
       "                     'dtype': 'f4'},\n",
       "               'xaxis': 'x2',\n",
       "               'y': {'bdata': 'weWHQn9vhEIkrYZCgq+FQqBqg0I9NYxCkMeVQi6VmULWNJZCvJqdQgdQmkJKE6FCrUFzQt/dnUK/1G5C',\n",
       "                     'dtype': 'f4'},\n",
       "               'yaxis': 'y2'},\n",
       "              {'legendgroup': 'pred',\n",
       "               'marker': {'color': '#aec7e8', 'size': 6},\n",
       "               'mode': 'markers',\n",
       "               'name': 'Pred Group 7',\n",
       "               'showlegend': False,\n",
       "               'type': 'scatter',\n",
       "               'x': {'bdata': '2eQwwcrxIMGMa07BxW0jwl5MEMC7ChXBpYDmweXv7MC0ICfC4yEtwK/MK8JAfVhBltc+wQ==', 'dtype': 'f4'},\n",
       "               'xaxis': 'x2',\n",
       "               'y': {'bdata': 'PAHpwVsc1sGq94HB+WDxwYrsTEKMT+fBkf7Qwbx358GdDPfB9cJPQi0Z9sFE9CzCWKV8wQ==', 'dtype': 'f4'},\n",
       "               'yaxis': 'y2'},\n",
       "              {'legendgroup': 'pred',\n",
       "               'marker': {'color': '#aec7e8', 'size': 6},\n",
       "               'mode': 'markers',\n",
       "               'name': 'Pred Group 8',\n",
       "               'showlegend': False,\n",
       "               'type': 'scatter',\n",
       "               'x': {'bdata': 'DFc4QhbJQEIBUkNCSXJhQnecNkK/WUxCL7hQQoW3hkHs+xxCOq8+QQ==', 'dtype': 'f4'},\n",
       "               'xaxis': 'x2',\n",
       "               'y': {'bdata': 'LUDRQIluskC4VftAiceqQDBoAsFkGMFBS+zDQUexNsDV7RZBbLaWwA==', 'dtype': 'f4'},\n",
       "               'yaxis': 'y2'},\n",
       "              {'legendgroup': 'pred',\n",
       "               'marker': {'color': '#aec7e8', 'size': 6},\n",
       "               'mode': 'markers',\n",
       "               'name': 'Pred Group 9',\n",
       "               'showlegend': False,\n",
       "               'type': 'scatter',\n",
       "               'x': {'bdata': 'DPJNwsf5UMLfyVXCMHZVwsffS8IhvVvC2qNFwoog5cHJ3/LB', 'dtype': 'f4'},\n",
       "               'xaxis': 'x2',\n",
       "               'y': {'bdata': 'Bs1cQp3vYULGJVtCwX9XQutCZELJP11CLBpiQgnaWkJmLmBC', 'dtype': 'f4'},\n",
       "               'yaxis': 'y2'},\n",
       "              {'legendgroup': 'pred',\n",
       "               'marker': {'color': '#aec7e8', 'size': 6},\n",
       "               'mode': 'markers',\n",
       "               'name': 'Pred Group 10',\n",
       "               'showlegend': False,\n",
       "               'type': 'scatter',\n",
       "               'x': {'bdata': 'B35/wgVrBcIXgWvCl0ENQeLGasKHEXTCXXdPwqlIC8A=', 'dtype': 'f4'},\n",
       "               'xaxis': 'x2',\n",
       "               'y': {'bdata': 'o8eaQQlIdsCz1l1BHzxqQpviG0FmgJpBkbwgwUU5NkE=', 'dtype': 'f4'},\n",
       "               'yaxis': 'y2'},\n",
       "              {'legendgroup': 'pred',\n",
       "               'marker': {'color': '#aec7e8', 'size': 6},\n",
       "               'mode': 'markers',\n",
       "               'name': 'Pred Group 11',\n",
       "               'showlegend': False,\n",
       "               'type': 'scatter',\n",
       "               'x': {'bdata': 'x32LQbT2dUG7DrBBDpsqweA17sCoHqJBz9qJP9CHm8E=', 'dtype': 'f4'},\n",
       "               'xaxis': 'x2',\n",
       "               'y': {'bdata': 'T+YVwjDIEsLZiwzC0nHNwXDuYcJSJVTCjtnFQIuADcI=', 'dtype': 'f4'},\n",
       "               'yaxis': 'y2'},\n",
       "              {'legendgroup': 'pred',\n",
       "               'marker': {'color': '#aec7e8', 'size': 6},\n",
       "               'mode': 'markers',\n",
       "               'name': 'Pred Group 12',\n",
       "               'showlegend': False,\n",
       "               'type': 'scatter',\n",
       "               'x': {'bdata': 'F4gWQTuWEkHtg2lAZ9fPP6KzhkHhzLHA92jOwA==', 'dtype': 'f4'},\n",
       "               'xaxis': 'x2',\n",
       "               'y': {'bdata': 'xD5CQXVzEEEaBexAW3jBQG4HFcJfukXCtjXLQQ==', 'dtype': 'f4'},\n",
       "               'yaxis': 'y2'},\n",
       "              {'legendgroup': 'pred',\n",
       "               'marker': {'color': '#aec7e8', 'size': 6},\n",
       "               'mode': 'markers',\n",
       "               'name': 'Pred Group 13',\n",
       "               'showlegend': False,\n",
       "               'type': 'scatter',\n",
       "               'x': {'bdata': 'ZAvPwfOtwMGVal9BDY0Wv2+2hsGewYVCX+RYvw==', 'dtype': 'f4'},\n",
       "               'xaxis': 'x2',\n",
       "               'y': {'bdata': 'uu7gwbsO58GGDzfCLW8Vwg13cMFcH53BIRETwg==', 'dtype': 'f4'},\n",
       "               'yaxis': 'y2'},\n",
       "              {'legendgroup': 'pred',\n",
       "               'marker': {'color': '#ff7f0e', 'size': 6},\n",
       "               'mode': 'markers',\n",
       "               'name': 'Pred Group 14',\n",
       "               'showlegend': False,\n",
       "               'type': 'scatter',\n",
       "               'x': {'bdata': 'j485wlFoK8JXN9XBOzhYwkFZgUAJHqNB', 'dtype': 'f4'},\n",
       "               'xaxis': 'x2',\n",
       "               'y': {'bdata': 'N2AtwAvbisEs4+HBp5wWwHNeXsJos07C', 'dtype': 'f4'},\n",
       "               'yaxis': 'y2'},\n",
       "              {'legendgroup': 'pred',\n",
       "               'marker': {'color': '#ff7f0e', 'size': 6},\n",
       "               'mode': 'markers',\n",
       "               'name': 'Pred Group 15',\n",
       "               'showlegend': False,\n",
       "               'type': 'scatter',\n",
       "               'x': {'bdata': 'm6NoQrhYb0ICvCvBvR9lQlXWIsJz+DxC', 'dtype': 'f4'},\n",
       "               'xaxis': 'x2',\n",
       "               'y': {'bdata': '8zDmQJhsxEDNlmvBM4DbQOYznMEwYb1A', 'dtype': 'f4'},\n",
       "               'yaxis': 'y2'},\n",
       "              {'legendgroup': 'pred',\n",
       "               'marker': {'color': '#ff7f0e', 'size': 6},\n",
       "               'mode': 'markers',\n",
       "               'name': 'Pred Group 16',\n",
       "               'showlegend': False,\n",
       "               'type': 'scatter',\n",
       "               'x': {'bdata': 'qYszQrfsCkKE4XFCF59VQuhDPEI=', 'dtype': 'f4'},\n",
       "               'xaxis': 'x2',\n",
       "               'y': {'bdata': 'AITeQIBugMApiT/BriTLv4Lm08E=', 'dtype': 'f4'},\n",
       "               'yaxis': 'y2'},\n",
       "              {'legendgroup': 'pred',\n",
       "               'marker': {'color': '#ff7f0e', 'size': 6},\n",
       "               'mode': 'markers',\n",
       "               'name': 'Pred Group 17',\n",
       "               'showlegend': False,\n",
       "               'type': 'scatter',\n",
       "               'x': {'bdata': 'GD/gwSACAMKUHNfBzir0wWag5sE=', 'dtype': 'f4'},\n",
       "               'xaxis': 'x2',\n",
       "               'y': {'bdata': 'Nw4BQI9pvL8XldlAO9iDwIaZTkA=', 'dtype': 'f4'},\n",
       "               'yaxis': 'y2'},\n",
       "              {'legendgroup': 'pred',\n",
       "               'marker': {'color': '#ff7f0e', 'size': 6},\n",
       "               'mode': 'markers',\n",
       "               'name': 'Pred Group 18',\n",
       "               'showlegend': False,\n",
       "               'type': 'scatter',\n",
       "               'x': {'bdata': 'WArmwO5yusEVD0LBLdtNwQ==', 'dtype': 'f4'},\n",
       "               'xaxis': 'x2',\n",
       "               'y': {'bdata': 'UKN1winoQ8I29KnABqhQwg==', 'dtype': 'f4'},\n",
       "               'yaxis': 'y2'},\n",
       "              {'legendgroup': 'pred',\n",
       "               'marker': {'color': '#ff7f0e', 'size': 6},\n",
       "               'mode': 'markers',\n",
       "               'name': 'Pred Group 19',\n",
       "               'showlegend': False,\n",
       "               'type': 'scatter',\n",
       "               'x': {'bdata': 'ih/6wKqJDULoeYTBaFYnQA==', 'dtype': 'f4'},\n",
       "               'xaxis': 'x2',\n",
       "               'y': {'bdata': 'GP5fwuvALMJ46mPCBqFcwg==', 'dtype': 'f4'},\n",
       "               'yaxis': 'y2'},\n",
       "              {'legendgroup': 'pred',\n",
       "               'marker': {'color': '#ffbb78', 'size': 6},\n",
       "               'mode': 'markers',\n",
       "               'name': 'Pred Group 20',\n",
       "               'showlegend': False,\n",
       "               'type': 'scatter',\n",
       "               'x': {'bdata': '4TcIQo3SH0K3HiVCv4sFQg==', 'dtype': 'f4'},\n",
       "               'xaxis': 'x2',\n",
       "               'y': {'bdata': '3g06wnxIDsKk1FTCdkk8wg==', 'dtype': 'f4'},\n",
       "               'yaxis': 'y2'},\n",
       "              {'legendgroup': 'pred',\n",
       "               'marker': {'color': '#ffbb78', 'size': 6},\n",
       "               'mode': 'markers',\n",
       "               'name': 'Pred Group 21',\n",
       "               'showlegend': False,\n",
       "               'type': 'scatter',\n",
       "               'x': {'bdata': '4G+NwZ5DiMHYhAzBhG7AwA==', 'dtype': 'f4'},\n",
       "               'xaxis': 'x2',\n",
       "               'y': {'bdata': '0A8tQjIqKkL/tS5C45Y5Qg==', 'dtype': 'f4'},\n",
       "               'yaxis': 'y2'},\n",
       "              {'legendgroup': 'pred',\n",
       "               'marker': {'color': '#ffbb78', 'size': 6},\n",
       "               'mode': 'markers',\n",
       "               'name': 'Pred Group 22',\n",
       "               'showlegend': False,\n",
       "               'type': 'scatter',\n",
       "               'x': {'bdata': '0mc1wrFI58Fs++LB', 'dtype': 'f4'},\n",
       "               'xaxis': 'x2',\n",
       "               'y': {'bdata': 'FZhFv/xhjEGePAZB', 'dtype': 'f4'},\n",
       "               'yaxis': 'y2'},\n",
       "              {'legendgroup': 'pred',\n",
       "               'marker': {'color': '#ffbb78', 'size': 6},\n",
       "               'mode': 'markers',\n",
       "               'name': 'Pred Group 23',\n",
       "               'showlegend': False,\n",
       "               'type': 'scatter',\n",
       "               'x': {'bdata': '+hNtQf/XNcFKbYZC', 'dtype': 'f4'},\n",
       "               'xaxis': 'x2',\n",
       "               'y': {'bdata': 'eQcLQq9m00GoG4zB', 'dtype': 'f4'},\n",
       "               'yaxis': 'y2'},\n",
       "              {'legendgroup': 'pred',\n",
       "               'marker': {'color': '#ffbb78', 'size': 6},\n",
       "               'mode': 'markers',\n",
       "               'name': 'Pred Group 24',\n",
       "               'showlegend': False,\n",
       "               'type': 'scatter',\n",
       "               'x': {'bdata': 'xnJcQR838j8al4RC', 'dtype': 'f4'},\n",
       "               'xaxis': 'x2',\n",
       "               'y': {'bdata': 'pdkzwsttW8JOAJLB', 'dtype': 'f4'},\n",
       "               'yaxis': 'y2'},\n",
       "              {'legendgroup': 'pred',\n",
       "               'marker': {'color': '#ffbb78', 'size': 6},\n",
       "               'mode': 'markers',\n",
       "               'name': 'Pred Group 25',\n",
       "               'showlegend': False,\n",
       "               'type': 'scatter',\n",
       "               'x': {'bdata': 'oht3wqK6dsLDJ4PC', 'dtype': 'f4'},\n",
       "               'xaxis': 'x2',\n",
       "               'y': {'bdata': '2YWuQbwdi0H7cZpB', 'dtype': 'f4'},\n",
       "               'yaxis': 'y2'},\n",
       "              {'legendgroup': 'pred',\n",
       "               'marker': {'color': '#ffbb78', 'size': 6},\n",
       "               'mode': 'markers',\n",
       "               'name': 'Pred Group 26',\n",
       "               'showlegend': False,\n",
       "               'type': 'scatter',\n",
       "               'x': {'bdata': '6LfywXmn6EA=', 'dtype': 'f4'},\n",
       "               'xaxis': 'x2',\n",
       "               'y': {'bdata': 'YeHGwbE6LUE=', 'dtype': 'f4'},\n",
       "               'yaxis': 'y2'},\n",
       "              {'legendgroup': 'pred',\n",
       "               'marker': {'color': '#2ca02c', 'size': 6},\n",
       "               'mode': 'markers',\n",
       "               'name': 'Pred Group 27',\n",
       "               'showlegend': False,\n",
       "               'type': 'scatter',\n",
       "               'x': {'bdata': 'gytrwi2MMkE=', 'dtype': 'f4'},\n",
       "               'xaxis': 'x2',\n",
       "               'y': {'bdata': 'r0+pwRajosA=', 'dtype': 'f4'},\n",
       "               'yaxis': 'y2'},\n",
       "              {'legendgroup': 'pred',\n",
       "               'marker': {'color': '#2ca02c', 'size': 6},\n",
       "               'mode': 'markers',\n",
       "               'name': 'Pred Group 28',\n",
       "               'showlegend': False,\n",
       "               'type': 'scatter',\n",
       "               'x': {'bdata': 't2IcQoxWF0I=', 'dtype': 'f4'},\n",
       "               'xaxis': 'x2',\n",
       "               'y': {'bdata': 'RuRSwjKyUMI=', 'dtype': 'f4'},\n",
       "               'yaxis': 'y2'},\n",
       "              {'legendgroup': 'pred',\n",
       "               'marker': {'color': '#2ca02c', 'size': 6},\n",
       "               'mode': 'markers',\n",
       "               'name': 'Pred Group 29',\n",
       "               'showlegend': False,\n",
       "               'type': 'scatter',\n",
       "               'x': {'bdata': '9aBbQsvoAUI=', 'dtype': 'f4'},\n",
       "               'xaxis': 'x2',\n",
       "               'y': {'bdata': 'uq+TwDjS8cE=', 'dtype': 'f4'},\n",
       "               'yaxis': 'y2'},\n",
       "              {'legendgroup': 'pred',\n",
       "               'marker': {'color': '#2ca02c', 'size': 6},\n",
       "               'mode': 'markers',\n",
       "               'name': 'Pred Group 30',\n",
       "               'showlegend': False,\n",
       "               'type': 'scatter',\n",
       "               'x': {'bdata': 'g8UmwnC+A8E=', 'dtype': 'f4'},\n",
       "               'xaxis': 'x2',\n",
       "               'y': {'bdata': 'AaiTwS796MA=', 'dtype': 'f4'},\n",
       "               'yaxis': 'y2'},\n",
       "              {'legendgroup': 'pred',\n",
       "               'marker': {'color': '#2ca02c', 'size': 6},\n",
       "               'mode': 'markers',\n",
       "               'name': 'Pred Group 31',\n",
       "               'showlegend': False,\n",
       "               'type': 'scatter',\n",
       "               'x': {'bdata': 'C+2RwY8KhME=', 'dtype': 'f4'},\n",
       "               'xaxis': 'x2',\n",
       "               'y': {'bdata': '9REcQnxCJUI=', 'dtype': 'f4'},\n",
       "               'yaxis': 'y2'},\n",
       "              {'legendgroup': 'pred',\n",
       "               'marker': {'color': '#2ca02c', 'size': 6},\n",
       "               'mode': 'markers',\n",
       "               'name': 'Pred Group 32',\n",
       "               'showlegend': False,\n",
       "               'type': 'scatter',\n",
       "               'x': {'bdata': 'VMLRQR4DwkE=', 'dtype': 'f4'},\n",
       "               'xaxis': 'x2',\n",
       "               'y': {'bdata': '7uyDQWShwEE=', 'dtype': 'f4'},\n",
       "               'yaxis': 'y2'},\n",
       "              {'legendgroup': 'pred',\n",
       "               'marker': {'color': '#98df8a', 'size': 6},\n",
       "               'mode': 'markers',\n",
       "               'name': 'Pred Group 33',\n",
       "               'showlegend': False,\n",
       "               'type': 'scatter',\n",
       "               'x': {'bdata': 'SP6ZQfvTUUE=', 'dtype': 'f4'},\n",
       "               'xaxis': 'x2',\n",
       "               'y': {'bdata': 'lzPUQZmF5UE=', 'dtype': 'f4'},\n",
       "               'yaxis': 'y2'},\n",
       "              {'legendgroup': 'pred',\n",
       "               'marker': {'color': '#98df8a', 'size': 6},\n",
       "               'mode': 'markers',\n",
       "               'name': 'Pred Group 34',\n",
       "               'showlegend': False,\n",
       "               'type': 'scatter',\n",
       "               'x': {'bdata': 'L0fpwKAUwL8=', 'dtype': 'f4'},\n",
       "               'xaxis': 'x2',\n",
       "               'y': {'bdata': 'vE0yQvfLR0I=', 'dtype': 'f4'},\n",
       "               'yaxis': 'y2'},\n",
       "              {'legendgroup': 'pred',\n",
       "               'marker': {'color': '#98df8a', 'size': 6},\n",
       "               'mode': 'markers',\n",
       "               'name': 'Pred Group 35',\n",
       "               'showlegend': False,\n",
       "               'type': 'scatter',\n",
       "               'x': {'bdata': 'O6jIwbZU48E=', 'dtype': 'f4'},\n",
       "               'xaxis': 'x2',\n",
       "               'y': {'bdata': 'lxXNQHfVm0E=', 'dtype': 'f4'},\n",
       "               'yaxis': 'y2'},\n",
       "              {'legendgroup': 'pred',\n",
       "               'marker': {'color': '#98df8a', 'size': 6},\n",
       "               'mode': 'markers',\n",
       "               'name': 'Pred Group 36',\n",
       "               'showlegend': False,\n",
       "               'type': 'scatter',\n",
       "               'x': {'bdata': 'Wm/sv6l3esA=', 'dtype': 'f4'},\n",
       "               'xaxis': 'x2',\n",
       "               'y': {'bdata': 'nV6AQt1EnkI=', 'dtype': 'f4'},\n",
       "               'yaxis': 'y2'},\n",
       "              {'legendgroup': 'pred',\n",
       "               'marker': {'color': '#98df8a', 'size': 6},\n",
       "               'mode': 'markers',\n",
       "               'name': 'Pred Group 37',\n",
       "               'showlegend': False,\n",
       "               'type': 'scatter',\n",
       "               'x': {'bdata': 'rCjGQV5V40E=', 'dtype': 'f4'},\n",
       "               'xaxis': 'x2',\n",
       "               'y': {'bdata': '3CxBQjSvPkI=', 'dtype': 'f4'},\n",
       "               'yaxis': 'y2'},\n",
       "              {'legendgroup': 'pred',\n",
       "               'marker': {'color': '#98df8a', 'size': 6},\n",
       "               'mode': 'markers',\n",
       "               'name': 'Pred Group 38',\n",
       "               'showlegend': False,\n",
       "               'type': 'scatter',\n",
       "               'x': {'bdata': 'E6Bjwg==', 'dtype': 'f4'},\n",
       "               'xaxis': 'x2',\n",
       "               'y': {'bdata': 'Sd6LwQ==', 'dtype': 'f4'},\n",
       "               'yaxis': 'y2'},\n",
       "              {'legendgroup': 'pred',\n",
       "               'marker': {'color': '#98df8a', 'size': 6},\n",
       "               'mode': 'markers',\n",
       "               'name': 'Pred Group 39',\n",
       "               'showlegend': False,\n",
       "               'type': 'scatter',\n",
       "               'x': {'bdata': 'ZQENQA==', 'dtype': 'f4'},\n",
       "               'xaxis': 'x2',\n",
       "               'y': {'bdata': 'mz9PQA==', 'dtype': 'f4'},\n",
       "               'yaxis': 'y2'},\n",
       "              {'legendgroup': 'pred',\n",
       "               'marker': {'color': '#d62728', 'size': 6},\n",
       "               'mode': 'markers',\n",
       "               'name': 'Pred Group 40',\n",
       "               'showlegend': False,\n",
       "               'type': 'scatter',\n",
       "               'x': {'bdata': 'uHPawA==', 'dtype': 'f4'},\n",
       "               'xaxis': 'x2',\n",
       "               'y': {'bdata': 'SKB2wg==', 'dtype': 'f4'},\n",
       "               'yaxis': 'y2'},\n",
       "              {'legendgroup': 'pred',\n",
       "               'marker': {'color': '#d62728', 'size': 6},\n",
       "               'mode': 'markers',\n",
       "               'name': 'Pred Group 41',\n",
       "               'showlegend': False,\n",
       "               'type': 'scatter',\n",
       "               'x': {'bdata': 'XvRKQg==', 'dtype': 'f4'},\n",
       "               'xaxis': 'x2',\n",
       "               'y': {'bdata': 'LDn6QQ==', 'dtype': 'f4'},\n",
       "               'yaxis': 'y2'},\n",
       "              {'legendgroup': 'pred',\n",
       "               'marker': {'color': '#d62728', 'size': 6},\n",
       "               'mode': 'markers',\n",
       "               'name': 'Pred Group 42',\n",
       "               'showlegend': False,\n",
       "               'type': 'scatter',\n",
       "               'x': {'bdata': 'k8YsQg==', 'dtype': 'f4'},\n",
       "               'xaxis': 'x2',\n",
       "               'y': {'bdata': 'nmm5wA==', 'dtype': 'f4'},\n",
       "               'yaxis': 'y2'},\n",
       "              {'legendgroup': 'pred',\n",
       "               'marker': {'color': '#d62728', 'size': 6},\n",
       "               'mode': 'markers',\n",
       "               'name': 'Pred Group 43',\n",
       "               'showlegend': False,\n",
       "               'type': 'scatter',\n",
       "               'x': {'bdata': 'MqaQwg==', 'dtype': 'f4'},\n",
       "               'xaxis': 'x2',\n",
       "               'y': {'bdata': 'DnuAQQ==', 'dtype': 'f4'},\n",
       "               'yaxis': 'y2'},\n",
       "              {'legendgroup': 'pred',\n",
       "               'marker': {'color': '#d62728', 'size': 6},\n",
       "               'mode': 'markers',\n",
       "               'name': 'Pred Group 44',\n",
       "               'showlegend': False,\n",
       "               'type': 'scatter',\n",
       "               'x': {'bdata': 'D9WzQQ==', 'dtype': 'f4'},\n",
       "               'xaxis': 'x2',\n",
       "               'y': {'bdata': 'IQcLwg==', 'dtype': 'f4'},\n",
       "               'yaxis': 'y2'},\n",
       "              {'legendgroup': 'pred',\n",
       "               'marker': {'color': '#d62728', 'size': 6},\n",
       "               'mode': 'markers',\n",
       "               'name': 'Pred Group 45',\n",
       "               'showlegend': False,\n",
       "               'type': 'scatter',\n",
       "               'x': {'bdata': 'z5guQg==', 'dtype': 'f4'},\n",
       "               'xaxis': 'x2',\n",
       "               'y': {'bdata': 'VZ1EwQ==', 'dtype': 'f4'},\n",
       "               'yaxis': 'y2'},\n",
       "              {'legendgroup': 'pred',\n",
       "               'marker': {'color': '#d62728', 'size': 6},\n",
       "               'mode': 'markers',\n",
       "               'name': 'Pred Group 46',\n",
       "               'showlegend': False,\n",
       "               'type': 'scatter',\n",
       "               'x': {'bdata': 'HUKLQQ==', 'dtype': 'f4'},\n",
       "               'xaxis': 'x2',\n",
       "               'y': {'bdata': 'J4YNQg==', 'dtype': 'f4'},\n",
       "               'yaxis': 'y2'},\n",
       "              {'legendgroup': 'pred',\n",
       "               'marker': {'color': '#ff9896', 'size': 6},\n",
       "               'mode': 'markers',\n",
       "               'name': 'Pred Group 47',\n",
       "               'showlegend': False,\n",
       "               'type': 'scatter',\n",
       "               'x': {'bdata': 'y5bfwQ==', 'dtype': 'f4'},\n",
       "               'xaxis': 'x2',\n",
       "               'y': {'bdata': 'Ikv/QA==', 'dtype': 'f4'},\n",
       "               'yaxis': 'y2'},\n",
       "              {'legendgroup': 'pred',\n",
       "               'marker': {'color': '#ff9896', 'size': 6},\n",
       "               'mode': 'markers',\n",
       "               'name': 'Pred Group 48',\n",
       "               'showlegend': False,\n",
       "               'type': 'scatter',\n",
       "               'x': {'bdata': 'XQ8ewA==', 'dtype': 'f4'},\n",
       "               'xaxis': 'x2',\n",
       "               'y': {'bdata': '9NRJwg==', 'dtype': 'f4'},\n",
       "               'yaxis': 'y2'},\n",
       "              {'legendgroup': 'pred',\n",
       "               'marker': {'color': '#ff9896', 'size': 6},\n",
       "               'mode': 'markers',\n",
       "               'name': 'Pred Group 49',\n",
       "               'showlegend': False,\n",
       "               'type': 'scatter',\n",
       "               'x': {'bdata': 'sE/dwQ==', 'dtype': 'f4'},\n",
       "               'xaxis': 'x2',\n",
       "               'y': {'bdata': 'T8PrwQ==', 'dtype': 'f4'},\n",
       "               'yaxis': 'y2'},\n",
       "              {'legendgroup': 'pred',\n",
       "               'marker': {'color': '#ff9896', 'size': 6},\n",
       "               'mode': 'markers',\n",
       "               'name': 'Pred Group 50',\n",
       "               'showlegend': False,\n",
       "               'type': 'scatter',\n",
       "               'x': {'bdata': 'uP+VwQ==', 'dtype': 'f4'},\n",
       "               'xaxis': 'x2',\n",
       "               'y': {'bdata': '6dQvQg==', 'dtype': 'f4'},\n",
       "               'yaxis': 'y2'},\n",
       "              {'legendgroup': 'pred',\n",
       "               'marker': {'color': '#ff9896', 'size': 6},\n",
       "               'mode': 'markers',\n",
       "               'name': 'Pred Group 51',\n",
       "               'showlegend': False,\n",
       "               'type': 'scatter',\n",
       "               'x': {'bdata': '4sWeQQ==', 'dtype': 'f4'},\n",
       "               'xaxis': 'x2',\n",
       "               'y': {'bdata': 'qA5Mwg==', 'dtype': 'f4'},\n",
       "               'yaxis': 'y2'},\n",
       "              {'legendgroup': 'pred',\n",
       "               'marker': {'color': '#ff9896', 'size': 6},\n",
       "               'mode': 'markers',\n",
       "               'name': 'Pred Group 52',\n",
       "               'showlegend': False,\n",
       "               'type': 'scatter',\n",
       "               'x': {'bdata': 'A2bQQQ==', 'dtype': 'f4'},\n",
       "               'xaxis': 'x2',\n",
       "               'y': {'bdata': 'KqXQQQ==', 'dtype': 'f4'},\n",
       "               'yaxis': 'y2'},\n",
       "              {'legendgroup': 'pred',\n",
       "               'marker': {'color': '#9467bd', 'size': 6},\n",
       "               'mode': 'markers',\n",
       "               'name': 'Pred Group 53',\n",
       "               'showlegend': False,\n",
       "               'type': 'scatter',\n",
       "               'x': {'bdata': 'uej7QQ==', 'dtype': 'f4'},\n",
       "               'xaxis': 'x2',\n",
       "               'y': {'bdata': 'OoQbwQ==', 'dtype': 'f4'},\n",
       "               'yaxis': 'y2'},\n",
       "              {'legendgroup': 'pred',\n",
       "               'marker': {'color': '#9467bd', 'size': 6},\n",
       "               'mode': 'markers',\n",
       "               'name': 'Pred Group 54',\n",
       "               'showlegend': False,\n",
       "               'type': 'scatter',\n",
       "               'x': {'bdata': 'kw2BQQ==', 'dtype': 'f4'},\n",
       "               'xaxis': 'x2',\n",
       "               'y': {'bdata': '2oBDwA==', 'dtype': 'f4'},\n",
       "               'yaxis': 'y2'},\n",
       "              {'legendgroup': 'pred',\n",
       "               'marker': {'color': '#9467bd', 'size': 6},\n",
       "               'mode': 'markers',\n",
       "               'name': 'Pred Group 55',\n",
       "               'showlegend': False,\n",
       "               'type': 'scatter',\n",
       "               'x': {'bdata': '04ASQg==', 'dtype': 'f4'},\n",
       "               'xaxis': 'x2',\n",
       "               'y': {'bdata': 'OT1DQQ==', 'dtype': 'f4'},\n",
       "               'yaxis': 'y2'},\n",
       "              {'legendgroup': 'pred',\n",
       "               'marker': {'color': '#9467bd', 'size': 6},\n",
       "               'mode': 'markers',\n",
       "               'name': 'Pred Group 56',\n",
       "               'showlegend': False,\n",
       "               'type': 'scatter',\n",
       "               'x': {'bdata': 'bjkFQg==', 'dtype': 'f4'},\n",
       "               'xaxis': 'x2',\n",
       "               'y': {'bdata': '7YHyQA==', 'dtype': 'f4'},\n",
       "               'yaxis': 'y2'},\n",
       "              {'legendgroup': 'pred',\n",
       "               'marker': {'color': '#9467bd', 'size': 6},\n",
       "               'mode': 'markers',\n",
       "               'name': 'Pred Group 57',\n",
       "               'showlegend': False,\n",
       "               'type': 'scatter',\n",
       "               'x': {'bdata': 'F1+MwQ==', 'dtype': 'f4'},\n",
       "               'xaxis': 'x2',\n",
       "               'y': {'bdata': 'au5bwg==', 'dtype': 'f4'},\n",
       "               'yaxis': 'y2'},\n",
       "              {'legendgroup': 'pred',\n",
       "               'marker': {'color': '#9467bd', 'size': 6},\n",
       "               'mode': 'markers',\n",
       "               'name': 'Pred Group 58',\n",
       "               'showlegend': False,\n",
       "               'type': 'scatter',\n",
       "               'x': {'bdata': 'lE8AQg==', 'dtype': 'f4'},\n",
       "               'xaxis': 'x2',\n",
       "               'y': {'bdata': 'Pr8/wg==', 'dtype': 'f4'},\n",
       "               'yaxis': 'y2'},\n",
       "              {'legendgroup': 'pred',\n",
       "               'marker': {'color': '#9467bd', 'size': 6},\n",
       "               'mode': 'markers',\n",
       "               'name': 'Pred Group 59',\n",
       "               'showlegend': False,\n",
       "               'type': 'scatter',\n",
       "               'x': {'bdata': 'JREnPw==', 'dtype': 'f4'},\n",
       "               'xaxis': 'x2',\n",
       "               'y': {'bdata': 'u6nuQQ==', 'dtype': 'f4'},\n",
       "               'yaxis': 'y2'},\n",
       "              {'legendgroup': 'pred',\n",
       "               'marker': {'color': '#c5b0d5', 'size': 6},\n",
       "               'mode': 'markers',\n",
       "               'name': 'Pred Group 60',\n",
       "               'showlegend': False,\n",
       "               'type': 'scatter',\n",
       "               'x': {'bdata': 'nBxlQQ==', 'dtype': 'f4'},\n",
       "               'xaxis': 'x2',\n",
       "               'y': {'bdata': 'ActmwA==', 'dtype': 'f4'},\n",
       "               'yaxis': 'y2'},\n",
       "              {'legendgroup': 'pred',\n",
       "               'marker': {'color': '#c5b0d5', 'size': 6},\n",
       "               'mode': 'markers',\n",
       "               'name': 'Pred Group 61',\n",
       "               'showlegend': False,\n",
       "               'type': 'scatter',\n",
       "               'x': {'bdata': 'BuxzQg==', 'dtype': 'f4'},\n",
       "               'xaxis': 'x2',\n",
       "               'y': {'bdata': 'buBGwQ==', 'dtype': 'f4'},\n",
       "               'yaxis': 'y2'},\n",
       "              {'legendgroup': 'pred',\n",
       "               'marker': {'color': '#c5b0d5', 'size': 6},\n",
       "               'mode': 'markers',\n",
       "               'name': 'Pred Group 62',\n",
       "               'showlegend': False,\n",
       "               'type': 'scatter',\n",
       "               'x': {'bdata': 'expMQg==', 'dtype': 'f4'},\n",
       "               'xaxis': 'x2',\n",
       "               'y': {'bdata': '6jXmQQ==', 'dtype': 'f4'},\n",
       "               'yaxis': 'y2'},\n",
       "              {'legendgroup': 'pred',\n",
       "               'marker': {'color': '#c5b0d5', 'size': 6},\n",
       "               'mode': 'markers',\n",
       "               'name': 'Pred Group 63',\n",
       "               'showlegend': False,\n",
       "               'type': 'scatter',\n",
       "               'x': {'bdata': 'WhnMvw==', 'dtype': 'f4'},\n",
       "               'xaxis': 'x2',\n",
       "               'y': {'bdata': 'xAT3QQ==', 'dtype': 'f4'},\n",
       "               'yaxis': 'y2'},\n",
       "              {'legendgroup': 'pred',\n",
       "               'marker': {'color': '#c5b0d5', 'size': 6},\n",
       "               'mode': 'markers',\n",
       "               'name': 'Pred Group 64',\n",
       "               'showlegend': False,\n",
       "               'type': 'scatter',\n",
       "               'x': {'bdata': '84RFQA==', 'dtype': 'f4'},\n",
       "               'xaxis': 'x2',\n",
       "               'y': {'bdata': 'Hy3MQQ==', 'dtype': 'f4'},\n",
       "               'yaxis': 'y2'},\n",
       "              {'legendgroup': 'pred',\n",
       "               'marker': {'color': '#c5b0d5', 'size': 6},\n",
       "               'mode': 'markers',\n",
       "               'name': 'Pred Group 65',\n",
       "               'showlegend': False,\n",
       "               'type': 'scatter',\n",
       "               'x': {'bdata': '/t7iwQ==', 'dtype': 'f4'},\n",
       "               'xaxis': 'x2',\n",
       "               'y': {'bdata': 'AXJTQg==', 'dtype': 'f4'},\n",
       "               'yaxis': 'y2'},\n",
       "              {'legendgroup': 'pred',\n",
       "               'marker': {'color': '#8c564b', 'size': 6},\n",
       "               'mode': 'markers',\n",
       "               'name': 'Pred Group 66',\n",
       "               'showlegend': False,\n",
       "               'type': 'scatter',\n",
       "               'x': {'bdata': 'BBW2wA==', 'dtype': 'f4'},\n",
       "               'xaxis': 'x2',\n",
       "               'y': {'bdata': 'bGsowQ==', 'dtype': 'f4'},\n",
       "               'yaxis': 'y2'},\n",
       "              {'legendgroup': 'pred',\n",
       "               'marker': {'color': '#8c564b', 'size': 6},\n",
       "               'mode': 'markers',\n",
       "               'name': 'Pred Group 67',\n",
       "               'showlegend': False,\n",
       "               'type': 'scatter',\n",
       "               'x': {'bdata': 'UXnuwQ==', 'dtype': 'f4'},\n",
       "               'xaxis': 'x2',\n",
       "               'y': {'bdata': '0INUwg==', 'dtype': 'f4'},\n",
       "               'yaxis': 'y2'},\n",
       "              {'legendgroup': 'pred',\n",
       "               'marker': {'color': '#8c564b', 'size': 6},\n",
       "               'mode': 'markers',\n",
       "               'name': 'Pred Group 68',\n",
       "               'showlegend': False,\n",
       "               'type': 'scatter',\n",
       "               'x': {'bdata': '18hBwg==', 'dtype': 'f4'},\n",
       "               'xaxis': 'x2',\n",
       "               'y': {'bdata': 'XqqWQQ==', 'dtype': 'f4'},\n",
       "               'yaxis': 'y2'},\n",
       "              {'legendgroup': 'pred',\n",
       "               'marker': {'color': '#8c564b', 'size': 6},\n",
       "               'mode': 'markers',\n",
       "               'name': 'Pred Group 69',\n",
       "               'showlegend': False,\n",
       "               'type': 'scatter',\n",
       "               'x': {'bdata': 'STRnwg==', 'dtype': 'f4'},\n",
       "               'xaxis': 'x2',\n",
       "               'y': {'bdata': 'OdjtQQ==', 'dtype': 'f4'},\n",
       "               'yaxis': 'y2'},\n",
       "              {'legendgroup': 'pred',\n",
       "               'marker': {'color': '#8c564b', 'size': 6},\n",
       "               'mode': 'markers',\n",
       "               'name': 'Pred Group 70',\n",
       "               'showlegend': False,\n",
       "               'type': 'scatter',\n",
       "               'x': {'bdata': 'csS4QQ==', 'dtype': 'f4'},\n",
       "               'xaxis': 'x2',\n",
       "               'y': {'bdata': '2nc/Qg==', 'dtype': 'f4'},\n",
       "               'yaxis': 'y2'},\n",
       "              {'legendgroup': 'pred',\n",
       "               'marker': {'color': '#8c564b', 'size': 6},\n",
       "               'mode': 'markers',\n",
       "               'name': 'Pred Group 71',\n",
       "               'showlegend': False,\n",
       "               'type': 'scatter',\n",
       "               'x': {'bdata': 'X4JlQQ==', 'dtype': 'f4'},\n",
       "               'xaxis': 'x2',\n",
       "               'y': {'bdata': 'rDY7wg==', 'dtype': 'f4'},\n",
       "               'yaxis': 'y2'},\n",
       "              {'legendgroup': 'pred',\n",
       "               'marker': {'color': '#8c564b', 'size': 6},\n",
       "               'mode': 'markers',\n",
       "               'name': 'Pred Group 72',\n",
       "               'showlegend': False,\n",
       "               'type': 'scatter',\n",
       "               'x': {'bdata': 'CzqiwA==', 'dtype': 'f4'},\n",
       "               'xaxis': 'x2',\n",
       "               'y': {'bdata': 'TxuTwQ==', 'dtype': 'f4'},\n",
       "               'yaxis': 'y2'},\n",
       "              {'legendgroup': 'pred',\n",
       "               'marker': {'color': '#c49c94', 'size': 6},\n",
       "               'mode': 'markers',\n",
       "               'name': 'Pred Group 73',\n",
       "               'showlegend': False,\n",
       "               'type': 'scatter',\n",
       "               'x': {'bdata': 'tI5dQQ==', 'dtype': 'f4'},\n",
       "               'xaxis': 'x2',\n",
       "               'y': {'bdata': 's/S4wQ==', 'dtype': 'f4'},\n",
       "               'yaxis': 'y2'},\n",
       "              {'legendgroup': 'pred',\n",
       "               'marker': {'color': '#c49c94', 'size': 6},\n",
       "               'mode': 'markers',\n",
       "               'name': 'Pred Group 74',\n",
       "               'showlegend': False,\n",
       "               'type': 'scatter',\n",
       "               'x': {'bdata': 'HUmKwQ==', 'dtype': 'f4'},\n",
       "               'xaxis': 'x2',\n",
       "               'y': {'bdata': 'JXiJwQ==', 'dtype': 'f4'},\n",
       "               'yaxis': 'y2'},\n",
       "              {'legendgroup': 'pred',\n",
       "               'marker': {'color': '#c49c94', 'size': 6},\n",
       "               'mode': 'markers',\n",
       "               'name': 'Pred Group 75',\n",
       "               'showlegend': False,\n",
       "               'type': 'scatter',\n",
       "               'x': {'bdata': 'W2VfQA==', 'dtype': 'f4'},\n",
       "               'xaxis': 'x2',\n",
       "               'y': {'bdata': '/dHFQQ==', 'dtype': 'f4'},\n",
       "               'yaxis': 'y2'},\n",
       "              {'legendgroup': 'pred',\n",
       "               'marker': {'color': '#c49c94', 'size': 6},\n",
       "               'mode': 'markers',\n",
       "               'name': 'Pred Group 76',\n",
       "               'showlegend': False,\n",
       "               'type': 'scatter',\n",
       "               'x': {'bdata': 'drDrwQ==', 'dtype': 'f4'},\n",
       "               'xaxis': 'x2',\n",
       "               'y': {'bdata': '/6ddQg==', 'dtype': 'f4'},\n",
       "               'yaxis': 'y2'},\n",
       "              {'legendgroup': 'pred',\n",
       "               'marker': {'color': '#c49c94', 'size': 6},\n",
       "               'mode': 'markers',\n",
       "               'name': 'Pred Group 77',\n",
       "               'showlegend': False,\n",
       "               'type': 'scatter',\n",
       "               'x': {'bdata': 'N2DXwQ==', 'dtype': 'f4'},\n",
       "               'xaxis': 'x2',\n",
       "               'y': {'bdata': 'GBRdQg==', 'dtype': 'f4'},\n",
       "               'yaxis': 'y2'},\n",
       "              {'legendgroup': 'pred',\n",
       "               'marker': {'color': '#c49c94', 'size': 6},\n",
       "               'mode': 'markers',\n",
       "               'name': 'Pred Group 78',\n",
       "               'showlegend': False,\n",
       "               'type': 'scatter',\n",
       "               'x': {'bdata': 'R6z9wQ==', 'dtype': 'f4'},\n",
       "               'xaxis': 'x2',\n",
       "               'y': {'bdata': 'zrdeQg==', 'dtype': 'f4'},\n",
       "               'yaxis': 'y2'},\n",
       "              {'legendgroup': 'pred',\n",
       "               'marker': {'color': '#c49c94', 'size': 6},\n",
       "               'mode': 'markers',\n",
       "               'name': 'Pred Group 79',\n",
       "               'showlegend': False,\n",
       "               'type': 'scatter',\n",
       "               'x': {'bdata': 'ckydwQ==', 'dtype': 'f4'},\n",
       "               'xaxis': 'x2',\n",
       "               'y': {'bdata': 'd5oXQg==', 'dtype': 'f4'},\n",
       "               'yaxis': 'y2'},\n",
       "              {'legendgroup': 'pred',\n",
       "               'marker': {'color': '#e377c2', 'size': 6},\n",
       "               'mode': 'markers',\n",
       "               'name': 'Pred Group 80',\n",
       "               'showlegend': False,\n",
       "               'type': 'scatter',\n",
       "               'x': {'bdata': 'zYfXvw==', 'dtype': 'f4'},\n",
       "               'xaxis': 'x2',\n",
       "               'y': {'bdata': 'evA1QQ==', 'dtype': 'f4'},\n",
       "               'yaxis': 'y2'},\n",
       "              {'legendgroup': 'pred',\n",
       "               'marker': {'color': '#e377c2', 'size': 6},\n",
       "               'mode': 'markers',\n",
       "               'name': 'Pred Group 81',\n",
       "               'showlegend': False,\n",
       "               'type': 'scatter',\n",
       "               'x': {'bdata': 'AzkkwQ==', 'dtype': 'f4'},\n",
       "               'xaxis': 'x2',\n",
       "               'y': {'bdata': '/WyKwA==', 'dtype': 'f4'},\n",
       "               'yaxis': 'y2'},\n",
       "              {'legendgroup': 'pred',\n",
       "               'marker': {'color': '#e377c2', 'size': 6},\n",
       "               'mode': 'markers',\n",
       "               'name': 'Pred Group 82',\n",
       "               'showlegend': False,\n",
       "               'type': 'scatter',\n",
       "               'x': {'bdata': 'eMrAQA==', 'dtype': 'f4'},\n",
       "               'xaxis': 'x2',\n",
       "               'y': {'bdata': 'KGYBwg==', 'dtype': 'f4'},\n",
       "               'yaxis': 'y2'},\n",
       "              {'legendgroup': 'pred',\n",
       "               'marker': {'color': '#e377c2', 'size': 6},\n",
       "               'mode': 'markers',\n",
       "               'name': 'Pred Group 83',\n",
       "               'showlegend': False,\n",
       "               'type': 'scatter',\n",
       "               'x': {'bdata': '2DgKQQ==', 'dtype': 'f4'},\n",
       "               'xaxis': 'x2',\n",
       "               'y': {'bdata': 'ae9lQg==', 'dtype': 'f4'},\n",
       "               'yaxis': 'y2'},\n",
       "              {'legendgroup': 'pred',\n",
       "               'marker': {'color': '#e377c2', 'size': 6},\n",
       "               'mode': 'markers',\n",
       "               'name': 'Pred Group 84',\n",
       "               'showlegend': False,\n",
       "               'type': 'scatter',\n",
       "               'x': {'bdata': '1DaxQQ==', 'dtype': 'f4'},\n",
       "               'xaxis': 'x2',\n",
       "               'y': {'bdata': 'AOfSQA==', 'dtype': 'f4'},\n",
       "               'yaxis': 'y2'},\n",
       "              {'legendgroup': 'pred',\n",
       "               'marker': {'color': '#e377c2', 'size': 6},\n",
       "               'mode': 'markers',\n",
       "               'name': 'Pred Group 85',\n",
       "               'showlegend': False,\n",
       "               'type': 'scatter',\n",
       "               'x': {'bdata': 'PQMpwQ==', 'dtype': 'f4'},\n",
       "               'xaxis': 'x2',\n",
       "               'y': {'bdata': 'CQ3TQQ==', 'dtype': 'f4'},\n",
       "               'yaxis': 'y2'},\n",
       "              {'legendgroup': 'pred',\n",
       "               'marker': {'color': '#f7b6d2', 'size': 6},\n",
       "               'mode': 'markers',\n",
       "               'name': 'Pred Group 86',\n",
       "               'showlegend': False,\n",
       "               'type': 'scatter',\n",
       "               'x': {'bdata': 'u2nRwQ==', 'dtype': 'f4'},\n",
       "               'xaxis': 'x2',\n",
       "               'y': {'bdata': 'xPEeQA==', 'dtype': 'f4'},\n",
       "               'yaxis': 'y2'},\n",
       "              {'legendgroup': 'pred',\n",
       "               'marker': {'color': '#f7b6d2', 'size': 6},\n",
       "               'mode': 'markers',\n",
       "               'name': 'Pred Group 87',\n",
       "               'showlegend': False,\n",
       "               'type': 'scatter',\n",
       "               'x': {'bdata': 'kAH4wQ==', 'dtype': 'f4'},\n",
       "               'xaxis': 'x2',\n",
       "               'y': {'bdata': 'Kt5mQg==', 'dtype': 'f4'},\n",
       "               'yaxis': 'y2'},\n",
       "              {'legendgroup': 'pred',\n",
       "               'marker': {'color': '#f7b6d2', 'size': 6},\n",
       "               'mode': 'markers',\n",
       "               'name': 'Pred Group 88',\n",
       "               'showlegend': False,\n",
       "               'type': 'scatter',\n",
       "               'x': {'bdata': 'jrBxwg==', 'dtype': 'f4'},\n",
       "               'xaxis': 'x2',\n",
       "               'y': {'bdata': 'fI5nQQ==', 'dtype': 'f4'},\n",
       "               'yaxis': 'y2'},\n",
       "              {'legendgroup': 'pred',\n",
       "               'marker': {'color': '#f7b6d2', 'size': 6},\n",
       "               'mode': 'markers',\n",
       "               'name': 'Pred Group 89',\n",
       "               'showlegend': False,\n",
       "               'type': 'scatter',\n",
       "               'x': {'bdata': 'JbyAQg==', 'dtype': 'f4'},\n",
       "               'xaxis': 'x2',\n",
       "               'y': {'bdata': 'Lhp9wQ==', 'dtype': 'f4'},\n",
       "               'yaxis': 'y2'},\n",
       "              {'legendgroup': 'pred',\n",
       "               'marker': {'color': '#f7b6d2', 'size': 6},\n",
       "               'mode': 'markers',\n",
       "               'name': 'Pred Group 90',\n",
       "               'showlegend': False,\n",
       "               'type': 'scatter',\n",
       "               'x': {'bdata': 'F4Ynwg==', 'dtype': 'f4'},\n",
       "               'xaxis': 'x2',\n",
       "               'y': {'bdata': 'sSkBwg==', 'dtype': 'f4'},\n",
       "               'yaxis': 'y2'},\n",
       "              {'legendgroup': 'pred',\n",
       "               'marker': {'color': '#f7b6d2', 'size': 6},\n",
       "               'mode': 'markers',\n",
       "               'name': 'Pred Group 91',\n",
       "               'showlegend': False,\n",
       "               'type': 'scatter',\n",
       "               'x': {'bdata': 'OBy+wQ==', 'dtype': 'f4'},\n",
       "               'xaxis': 'x2',\n",
       "               'y': {'bdata': '4kLYQA==', 'dtype': 'f4'},\n",
       "               'yaxis': 'y2'},\n",
       "              {'legendgroup': 'pred',\n",
       "               'marker': {'color': '#f7b6d2', 'size': 6},\n",
       "               'mode': 'markers',\n",
       "               'name': 'Pred Group 92',\n",
       "               'showlegend': False,\n",
       "               'type': 'scatter',\n",
       "               'x': {'bdata': 'lsdVwg==', 'dtype': 'f4'},\n",
       "               'xaxis': 'x2',\n",
       "               'y': {'bdata': '8tVnQg==', 'dtype': 'f4'},\n",
       "               'yaxis': 'y2'},\n",
       "              {'legendgroup': 'pred',\n",
       "               'marker': {'color': '#7f7f7f', 'size': 6},\n",
       "               'mode': 'markers',\n",
       "               'name': 'Pred Group 93',\n",
       "               'showlegend': False,\n",
       "               'type': 'scatter',\n",
       "               'x': {'bdata': 'zP+gQQ==', 'dtype': 'f4'},\n",
       "               'xaxis': 'x2',\n",
       "               'y': {'bdata': 'S/lawg==', 'dtype': 'f4'},\n",
       "               'yaxis': 'y2'},\n",
       "              {'legendgroup': 'pred',\n",
       "               'marker': {'color': '#7f7f7f', 'size': 6},\n",
       "               'mode': 'markers',\n",
       "               'name': 'Pred Group 94',\n",
       "               'showlegend': False,\n",
       "               'type': 'scatter',\n",
       "               'x': {'bdata': 'k60GQQ==', 'dtype': 'f4'},\n",
       "               'xaxis': 'x2',\n",
       "               'y': {'bdata': 'vVdjQQ==', 'dtype': 'f4'},\n",
       "               'yaxis': 'y2'},\n",
       "              {'legendgroup': 'pred',\n",
       "               'marker': {'color': '#7f7f7f', 'size': 6},\n",
       "               'mode': 'markers',\n",
       "               'name': 'Pred Group 95',\n",
       "               'showlegend': False,\n",
       "               'type': 'scatter',\n",
       "               'x': {'bdata': 'j0QbQQ==', 'dtype': 'f4'},\n",
       "               'xaxis': 'x2',\n",
       "               'y': {'bdata': 'OOe6wA==', 'dtype': 'f4'},\n",
       "               'yaxis': 'y2'},\n",
       "              {'legendgroup': 'pred',\n",
       "               'marker': {'color': '#7f7f7f', 'size': 6},\n",
       "               'mode': 'markers',\n",
       "               'name': 'Pred Group 96',\n",
       "               'showlegend': False,\n",
       "               'type': 'scatter',\n",
       "               'x': {'bdata': 'B/TlwQ==', 'dtype': 'f4'},\n",
       "               'xaxis': 'x2',\n",
       "               'y': {'bdata': 'nYCRQQ==', 'dtype': 'f4'},\n",
       "               'yaxis': 'y2'},\n",
       "              {'legendgroup': 'pred',\n",
       "               'marker': {'color': '#7f7f7f', 'size': 6},\n",
       "               'mode': 'markers',\n",
       "               'name': 'Pred Group 97',\n",
       "               'showlegend': False,\n",
       "               'type': 'scatter',\n",
       "               'x': {'bdata': '7eshQg==', 'dtype': 'f4'},\n",
       "               'xaxis': 'x2',\n",
       "               'y': {'bdata': '1FlUwg==', 'dtype': 'f4'},\n",
       "               'yaxis': 'y2'},\n",
       "              {'legendgroup': 'pred',\n",
       "               'marker': {'color': '#7f7f7f', 'size': 6},\n",
       "               'mode': 'markers',\n",
       "               'name': 'Pred Group 98',\n",
       "               'showlegend': False,\n",
       "               'type': 'scatter',\n",
       "               'x': {'bdata': 'xG9LQQ==', 'dtype': 'f4'},\n",
       "               'xaxis': 'x2',\n",
       "               'y': {'bdata': '+GviQQ==', 'dtype': 'f4'},\n",
       "               'yaxis': 'y2'},\n",
       "              {'legendgroup': 'pred',\n",
       "               'marker': {'color': '#c7c7c7', 'size': 6},\n",
       "               'mode': 'markers',\n",
       "               'name': 'Pred Group 99',\n",
       "               'showlegend': False,\n",
       "               'type': 'scatter',\n",
       "               'x': {'bdata': 'GAnDQQ==', 'dtype': 'f4'},\n",
       "               'xaxis': 'x2',\n",
       "               'y': {'bdata': 'xWxAwQ==', 'dtype': 'f4'},\n",
       "               'yaxis': 'y2'},\n",
       "              {'legendgroup': 'pred',\n",
       "               'marker': {'color': '#c7c7c7', 'size': 6},\n",
       "               'mode': 'markers',\n",
       "               'name': 'Pred Group 100',\n",
       "               'showlegend': False,\n",
       "               'type': 'scatter',\n",
       "               'x': {'bdata': 'h9rsQA==', 'dtype': 'f4'},\n",
       "               'xaxis': 'x2',\n",
       "               'y': {'bdata': 't/YAwg==', 'dtype': 'f4'},\n",
       "               'yaxis': 'y2'},\n",
       "              {'legendgroup': 'pred',\n",
       "               'marker': {'color': '#c7c7c7', 'size': 6},\n",
       "               'mode': 'markers',\n",
       "               'name': 'Pred Group 101',\n",
       "               'showlegend': False,\n",
       "               'type': 'scatter',\n",
       "               'x': {'bdata': 'FZsJQQ==', 'dtype': 'f4'},\n",
       "               'xaxis': 'x2',\n",
       "               'y': {'bdata': 'ZCPNwA==', 'dtype': 'f4'},\n",
       "               'yaxis': 'y2'},\n",
       "              {'legendgroup': 'pred',\n",
       "               'marker': {'color': '#c7c7c7', 'size': 6},\n",
       "               'mode': 'markers',\n",
       "               'name': 'Pred Group 102',\n",
       "               'showlegend': False,\n",
       "               'type': 'scatter',\n",
       "               'x': {'bdata': 'uoqnQQ==', 'dtype': 'f4'},\n",
       "               'xaxis': 'x2',\n",
       "               'y': {'bdata': 'BPJ9wQ==', 'dtype': 'f4'},\n",
       "               'yaxis': 'y2'},\n",
       "              {'legendgroup': 'pred',\n",
       "               'marker': {'color': '#c7c7c7', 'size': 6},\n",
       "               'mode': 'markers',\n",
       "               'name': 'Pred Group 103',\n",
       "               'showlegend': False,\n",
       "               'type': 'scatter',\n",
       "               'x': {'bdata': 'wYyjwQ==', 'dtype': 'f4'},\n",
       "               'xaxis': 'x2',\n",
       "               'y': {'bdata': '/8wUQg==', 'dtype': 'f4'},\n",
       "               'yaxis': 'y2'},\n",
       "              {'legendgroup': 'pred',\n",
       "               'marker': {'color': '#c7c7c7', 'size': 6},\n",
       "               'mode': 'markers',\n",
       "               'name': 'Pred Group 104',\n",
       "               'showlegend': False,\n",
       "               'type': 'scatter',\n",
       "               'x': {'bdata': '8LHfwQ==', 'dtype': 'f4'},\n",
       "               'xaxis': 'x2',\n",
       "               'y': {'bdata': 'Zf6oQQ==', 'dtype': 'f4'},\n",
       "               'yaxis': 'y2'},\n",
       "              {'legendgroup': 'pred',\n",
       "               'marker': {'color': '#c7c7c7', 'size': 6},\n",
       "               'mode': 'markers',\n",
       "               'name': 'Pred Group 105',\n",
       "               'showlegend': False,\n",
       "               'type': 'scatter',\n",
       "               'x': {'bdata': 'Nz4nQQ==', 'dtype': 'f4'},\n",
       "               'xaxis': 'x2',\n",
       "               'y': {'bdata': 'Q4JzQg==', 'dtype': 'f4'},\n",
       "               'yaxis': 'y2'},\n",
       "              {'legendgroup': 'pred',\n",
       "               'marker': {'color': '#bcbd22', 'size': 6},\n",
       "               'mode': 'markers',\n",
       "               'name': 'Pred Group 106',\n",
       "               'showlegend': False,\n",
       "               'type': 'scatter',\n",
       "               'x': {'bdata': '2gg/Qg==', 'dtype': 'f4'},\n",
       "               'xaxis': 'x2',\n",
       "               'y': {'bdata': 'EjG3QQ==', 'dtype': 'f4'},\n",
       "               'yaxis': 'y2'},\n",
       "              {'legendgroup': 'pred',\n",
       "               'marker': {'color': '#bcbd22', 'size': 6},\n",
       "               'mode': 'markers',\n",
       "               'name': 'Pred Group 107',\n",
       "               'showlegend': False,\n",
       "               'type': 'scatter',\n",
       "               'x': {'bdata': '/HvFQA==', 'dtype': 'f4'},\n",
       "               'xaxis': 'x2',\n",
       "               'y': {'bdata': '6GVfwg==', 'dtype': 'f4'},\n",
       "               'yaxis': 'y2'},\n",
       "              {'legendgroup': 'pred',\n",
       "               'marker': {'color': '#bcbd22', 'size': 6},\n",
       "               'mode': 'markers',\n",
       "               'name': 'Pred Group 108',\n",
       "               'showlegend': False,\n",
       "               'type': 'scatter',\n",
       "               'x': {'bdata': 'gLWWQQ==', 'dtype': 'f4'},\n",
       "               'xaxis': 'x2',\n",
       "               'y': {'bdata': 'eOXjQQ==', 'dtype': 'f4'},\n",
       "               'yaxis': 'y2'},\n",
       "              {'legendgroup': 'pred',\n",
       "               'marker': {'color': '#bcbd22', 'size': 6},\n",
       "               'mode': 'markers',\n",
       "               'name': 'Pred Group 109',\n",
       "               'showlegend': False,\n",
       "               'type': 'scatter',\n",
       "               'x': {'bdata': 'Q5V1wg==', 'dtype': 'f4'},\n",
       "               'xaxis': 'x2',\n",
       "               'y': {'bdata': 'orakwQ==', 'dtype': 'f4'},\n",
       "               'yaxis': 'y2'},\n",
       "              {'legendgroup': 'pred',\n",
       "               'marker': {'color': '#bcbd22', 'size': 6},\n",
       "               'mode': 'markers',\n",
       "               'name': 'Pred Group 110',\n",
       "               'showlegend': False,\n",
       "               'type': 'scatter',\n",
       "               'x': {'bdata': '/sWJvw==', 'dtype': 'f4'},\n",
       "               'xaxis': 'x2',\n",
       "               'y': {'bdata': 'IHFOwg==', 'dtype': 'f4'},\n",
       "               'yaxis': 'y2'},\n",
       "              {'legendgroup': 'pred',\n",
       "               'marker': {'color': '#bcbd22', 'size': 6},\n",
       "               'mode': 'markers',\n",
       "               'name': 'Pred Group 111',\n",
       "               'showlegend': False,\n",
       "               'type': 'scatter',\n",
       "               'x': {'bdata': 'bkeywQ==', 'dtype': 'f4'},\n",
       "               'xaxis': 'x2',\n",
       "               'y': {'bdata': '4f82wg==', 'dtype': 'f4'},\n",
       "               'yaxis': 'y2'},\n",
       "              {'legendgroup': 'pred',\n",
       "               'marker': {'color': '#bcbd22', 'size': 6},\n",
       "               'mode': 'markers',\n",
       "               'name': 'Pred Group 112',\n",
       "               'showlegend': False,\n",
       "               'type': 'scatter',\n",
       "               'x': {'bdata': 'nsqUwQ==', 'dtype': 'f4'},\n",
       "               'xaxis': 'x2',\n",
       "               'y': {'bdata': '85qRwQ==', 'dtype': 'f4'},\n",
       "               'yaxis': 'y2'},\n",
       "              {'legendgroup': 'pred',\n",
       "               'marker': {'color': '#dbdb8d', 'size': 6},\n",
       "               'mode': 'markers',\n",
       "               'name': 'Pred Group 113',\n",
       "               'showlegend': False,\n",
       "               'type': 'scatter',\n",
       "               'x': {'bdata': 'rszXQQ==', 'dtype': 'f4'},\n",
       "               'xaxis': 'x2',\n",
       "               'y': {'bdata': 'h+kZPw==', 'dtype': 'f4'},\n",
       "               'yaxis': 'y2'},\n",
       "              {'legendgroup': 'pred',\n",
       "               'marker': {'color': '#dbdb8d', 'size': 6},\n",
       "               'mode': 'markers',\n",
       "               'name': 'Pred Group 114',\n",
       "               'showlegend': False,\n",
       "               'type': 'scatter',\n",
       "               'x': {'bdata': 'nYKNwQ==', 'dtype': 'f4'},\n",
       "               'xaxis': 'x2',\n",
       "               'y': {'bdata': 'WuMFQQ==', 'dtype': 'f4'},\n",
       "               'yaxis': 'y2'},\n",
       "              {'legendgroup': 'pred',\n",
       "               'marker': {'color': '#dbdb8d', 'size': 6},\n",
       "               'mode': 'markers',\n",
       "               'name': 'Pred Group 115',\n",
       "               'showlegend': False,\n",
       "               'type': 'scatter',\n",
       "               'x': {'bdata': 'j9QWwA==', 'dtype': 'f4'},\n",
       "               'xaxis': 'x2',\n",
       "               'y': {'bdata': 'CI8jwQ==', 'dtype': 'f4'},\n",
       "               'yaxis': 'y2'},\n",
       "              {'legendgroup': 'pred',\n",
       "               'marker': {'color': '#dbdb8d', 'size': 6},\n",
       "               'mode': 'markers',\n",
       "               'name': 'Pred Group 116',\n",
       "               'showlegend': False,\n",
       "               'type': 'scatter',\n",
       "               'x': {'bdata': 'fC3iwQ==', 'dtype': 'f4'},\n",
       "               'xaxis': 'x2',\n",
       "               'y': {'bdata': 'rJ94PQ==', 'dtype': 'f4'},\n",
       "               'yaxis': 'y2'},\n",
       "              {'legendgroup': 'pred',\n",
       "               'marker': {'color': '#dbdb8d', 'size': 6},\n",
       "               'mode': 'markers',\n",
       "               'name': 'Pred Group 117',\n",
       "               'showlegend': False,\n",
       "               'type': 'scatter',\n",
       "               'x': {'bdata': 'CRi/QA==', 'dtype': 'f4'},\n",
       "               'xaxis': 'x2',\n",
       "               'y': {'bdata': 'QL0hQg==', 'dtype': 'f4'},\n",
       "               'yaxis': 'y2'},\n",
       "              {'legendgroup': 'pred',\n",
       "               'marker': {'color': '#dbdb8d', 'size': 6},\n",
       "               'mode': 'markers',\n",
       "               'name': 'Pred Group 118',\n",
       "               'showlegend': False,\n",
       "               'type': 'scatter',\n",
       "               'x': {'bdata': '2YmRwQ==', 'dtype': 'f4'},\n",
       "               'xaxis': 'x2',\n",
       "               'y': {'bdata': 'aYcDQQ==', 'dtype': 'f4'},\n",
       "               'yaxis': 'y2'},\n",
       "              {'legendgroup': 'pred',\n",
       "               'marker': {'color': '#17becf', 'size': 6},\n",
       "               'mode': 'markers',\n",
       "               'name': 'Pred Group 119',\n",
       "               'showlegend': False,\n",
       "               'type': 'scatter',\n",
       "               'x': {'bdata': 'miN7Qg==', 'dtype': 'f4'},\n",
       "               'xaxis': 'x2',\n",
       "               'y': {'bdata': 'SmVewQ==', 'dtype': 'f4'},\n",
       "               'yaxis': 'y2'},\n",
       "              {'legendgroup': 'pred',\n",
       "               'marker': {'color': '#17becf', 'size': 6},\n",
       "               'mode': 'markers',\n",
       "               'name': 'Pred Group 120',\n",
       "               'showlegend': False,\n",
       "               'type': 'scatter',\n",
       "               'x': {'bdata': 'gYDHQQ==', 'dtype': 'f4'},\n",
       "               'xaxis': 'x2',\n",
       "               'y': {'bdata': 'W2lHQg==', 'dtype': 'f4'},\n",
       "               'yaxis': 'y2'},\n",
       "              {'legendgroup': 'pred',\n",
       "               'marker': {'color': '#17becf', 'size': 6},\n",
       "               'mode': 'markers',\n",
       "               'name': 'Pred Group 121',\n",
       "               'showlegend': False,\n",
       "               'type': 'scatter',\n",
       "               'x': {'bdata': 'jwy5QQ==', 'dtype': 'f4'},\n",
       "               'xaxis': 'x2',\n",
       "               'y': {'bdata': 'Pa87wQ==', 'dtype': 'f4'},\n",
       "               'yaxis': 'y2'},\n",
       "              {'legendgroup': 'pred',\n",
       "               'marker': {'color': '#17becf', 'size': 6},\n",
       "               'mode': 'markers',\n",
       "               'name': 'Pred Group 122',\n",
       "               'showlegend': False,\n",
       "               'type': 'scatter',\n",
       "               'x': {'bdata': 'ND/QQQ==', 'dtype': 'f4'},\n",
       "               'xaxis': 'x2',\n",
       "               'y': {'bdata': 'G9ogwQ==', 'dtype': 'f4'},\n",
       "               'yaxis': 'y2'},\n",
       "              {'legendgroup': 'pred',\n",
       "               'marker': {'color': '#17becf', 'size': 6},\n",
       "               'mode': 'markers',\n",
       "               'name': 'Pred Group 123',\n",
       "               'showlegend': False,\n",
       "               'type': 'scatter',\n",
       "               'x': {'bdata': 'aOFqQg==', 'dtype': 'f4'},\n",
       "               'xaxis': 'x2',\n",
       "               'y': {'bdata': 'Chs7wQ==', 'dtype': 'f4'},\n",
       "               'yaxis': 'y2'},\n",
       "              {'legendgroup': 'pred',\n",
       "               'marker': {'color': '#17becf', 'size': 6},\n",
       "               'mode': 'markers',\n",
       "               'name': 'Pred Group 124',\n",
       "               'showlegend': False,\n",
       "               'type': 'scatter',\n",
       "               'x': {'bdata': 'IJV5wA==', 'dtype': 'f4'},\n",
       "               'xaxis': 'x2',\n",
       "               'y': {'bdata': 'lxKPQg==', 'dtype': 'f4'},\n",
       "               'yaxis': 'y2'},\n",
       "              {'legendgroup': 'pred',\n",
       "               'marker': {'color': '#17becf', 'size': 6},\n",
       "               'mode': 'markers',\n",
       "               'name': 'Pred Group 125',\n",
       "               'showlegend': False,\n",
       "               'type': 'scatter',\n",
       "               'x': {'bdata': 'y/JlQQ==', 'dtype': 'f4'},\n",
       "               'xaxis': 'x2',\n",
       "               'y': {'bdata': 'QIf5QQ==', 'dtype': 'f4'},\n",
       "               'yaxis': 'y2'},\n",
       "              {'legendgroup': 'pred',\n",
       "               'marker': {'color': '#9edae5', 'size': 6},\n",
       "               'mode': 'markers',\n",
       "               'name': 'Pred Group 126',\n",
       "               'showlegend': False,\n",
       "               'type': 'scatter',\n",
       "               'x': {'bdata': 'Yo/6QA==', 'dtype': 'f4'},\n",
       "               'xaxis': 'x2',\n",
       "               'y': {'bdata': '2l8LQg==', 'dtype': 'f4'},\n",
       "               'yaxis': 'y2'},\n",
       "              {'legendgroup': 'pred',\n",
       "               'marker': {'color': '#9edae5', 'size': 6},\n",
       "               'mode': 'markers',\n",
       "               'name': 'Pred Group 127',\n",
       "               'showlegend': False,\n",
       "               'type': 'scatter',\n",
       "               'x': {'bdata': 'TtxdQg==', 'dtype': 'f4'},\n",
       "               'xaxis': 'x2',\n",
       "               'y': {'bdata': 'Ht0GQQ==', 'dtype': 'f4'},\n",
       "               'yaxis': 'y2'},\n",
       "              {'legendgroup': 'pred',\n",
       "               'marker': {'color': '#9edae5', 'size': 6},\n",
       "               'mode': 'markers',\n",
       "               'name': 'Pred Group 128',\n",
       "               'showlegend': False,\n",
       "               'type': 'scatter',\n",
       "               'x': {'bdata': 'FGYnQQ==', 'dtype': 'f4'},\n",
       "               'xaxis': 'x2',\n",
       "               'y': {'bdata': 'UVOMwQ==', 'dtype': 'f4'},\n",
       "               'yaxis': 'y2'},\n",
       "              {'legendgroup': 'pred',\n",
       "               'marker': {'color': '#9edae5', 'size': 6},\n",
       "               'mode': 'markers',\n",
       "               'name': 'Pred Group 129',\n",
       "               'showlegend': False,\n",
       "               'type': 'scatter',\n",
       "               'x': {'bdata': '8vDlwA==', 'dtype': 'f4'},\n",
       "               'xaxis': 'x2',\n",
       "               'y': {'bdata': '+WeSwQ==', 'dtype': 'f4'},\n",
       "               'yaxis': 'y2'},\n",
       "              {'legendgroup': 'pred',\n",
       "               'marker': {'color': '#9edae5', 'size': 6},\n",
       "               'mode': 'markers',\n",
       "               'name': 'Pred Group 130',\n",
       "               'showlegend': False,\n",
       "               'type': 'scatter',\n",
       "               'x': {'bdata': 'moQoQQ==', 'dtype': 'f4'},\n",
       "               'xaxis': 'x2',\n",
       "               'y': {'bdata': 'oyYZQg==', 'dtype': 'f4'},\n",
       "               'yaxis': 'y2'},\n",
       "              {'legendgroup': 'pred',\n",
       "               'marker': {'color': '#9edae5', 'size': 6},\n",
       "               'mode': 'markers',\n",
       "               'name': 'Pred Group 131',\n",
       "               'showlegend': False,\n",
       "               'type': 'scatter',\n",
       "               'x': {'bdata': 'OEjwQQ==', 'dtype': 'f4'},\n",
       "               'xaxis': 'x2',\n",
       "               'y': {'bdata': 'nJqgwA==', 'dtype': 'f4'},\n",
       "               'yaxis': 'y2'},\n",
       "              {'legendgroup': 'pred',\n",
       "               'marker': {'color': '#9edae5', 'size': 6},\n",
       "               'mode': 'markers',\n",
       "               'name': 'Pred Group 132',\n",
       "               'showlegend': False,\n",
       "               'type': 'scatter',\n",
       "               'x': {'bdata': 'kgK2QQ==', 'dtype': 'f4'},\n",
       "               'xaxis': 'x2',\n",
       "               'y': {'bdata': 'AVdLwg==', 'dtype': 'f4'},\n",
       "               'yaxis': 'y2'}],\n",
       "     'layout': {'annotations': [{'font': {'size': 16},\n",
       "                                 'showarrow': False,\n",
       "                                 'text': 'Clusters of 2D Embeddings gt',\n",
       "                                 'x': 0.225,\n",
       "                                 'xanchor': 'center',\n",
       "                                 'xref': 'paper',\n",
       "                                 'y': 1.0,\n",
       "                                 'yanchor': 'bottom',\n",
       "                                 'yref': 'paper'},\n",
       "                                {'font': {'size': 16},\n",
       "                                 'showarrow': False,\n",
       "                                 'text': 'Clusters of 2D Embeddings pred',\n",
       "                                 'x': 0.775,\n",
       "                                 'xanchor': 'center',\n",
       "                                 'xref': 'paper',\n",
       "                                 'y': 1.0,\n",
       "                                 'yanchor': 'bottom',\n",
       "                                 'yref': 'paper'}],\n",
       "                'height': 600,\n",
       "                'showlegend': True,\n",
       "                'template': '...',\n",
       "                'title': {'text': 'Cluster Comparison: Ground Truth vs Prediction'},\n",
       "                'width': 1000,\n",
       "                'xaxis': {'anchor': 'y', 'domain': [0.0, 0.45]},\n",
       "                'xaxis2': {'anchor': 'y2', 'domain': [0.55, 1.0]},\n",
       "                'yaxis': {'anchor': 'x', 'domain': [0.0, 1.0]},\n",
       "                'yaxis2': {'anchor': 'x2', 'domain': [0.0, 1.0]}}\n",
       " }),\n",
       " {'random score': 0.9437673772011121,\n",
       "  'adjusted random score': 0.08877528493735985},\n",
       " 0.5541578727887644)"
      ]
     },
     "execution_count": 3,
     "metadata": {},
     "output_type": "execute_result"
    }
   ],
   "source": [
    "model = SentenceTransformer(\"all-MiniLM-L6-v2\")\n",
    "test_model(model)"
   ]
  },
  {
   "cell_type": "markdown",
   "id": "7ab7684a",
   "metadata": {},
   "source": [
    "# Unsupervised methods"
   ]
  },
  {
   "cell_type": "markdown",
   "id": "c8f11528",
   "metadata": {},
   "source": [
    "## Trained with TSDAE"
   ]
  },
  {
   "cell_type": "code",
   "execution_count": 4,
   "id": "9e0b46a6",
   "metadata": {},
   "outputs": [
    {
     "name": "stderr",
     "output_type": "stream",
     "text": [
      "You try to use a model that was created with version 4.1.0, however, your version is 3.2.1. This might cause unexpected behavior or errors. In that case, try to update to the latest version.\n",
      "\n",
      "\n",
      "\n",
      "Batches: 100%|██████████| 7/7 [00:00<00:00, 10.98it/s]\n",
      "Batches: 100%|██████████| 7/7 [00:00<00:00, 17.52it/s]\n",
      "Batches: 100%|██████████| 7/7 [00:00<00:00, 17.62it/s]\n",
      "Batches: 100%|██████████| 7/7 [00:00<00:00, 17.73it/s]\n",
      "Batches: 100%|██████████| 7/7 [00:00<00:00, 17.47it/s]\n",
      "Batches: 100%|██████████| 7/7 [00:00<00:00, 17.73it/s]\n",
      "Batches: 100%|██████████| 7/7 [00:00<00:00, 17.67it/s]\n",
      "Batches: 100%|██████████| 7/7 [00:00<00:00, 17.55it/s]\n",
      "Batches: 100%|██████████| 7/7 [00:00<00:00, 17.54it/s]\n",
      "Batches: 100%|██████████| 7/7 [00:00<00:00, 17.48it/s]\n",
      "Batches: 100%|██████████| 7/7 [00:00<00:00, 17.32it/s]\n",
      "Batches: 100%|██████████| 7/7 [00:00<00:00, 16.99it/s]\n",
      "Batches: 100%|██████████| 7/7 [00:00<00:00, 17.43it/s]\n",
      "Batches: 100%|██████████| 7/7 [00:00<00:00, 17.42it/s]\n",
      "Batches: 100%|██████████| 7/7 [00:00<00:00, 17.20it/s]\n",
      "Batches: 100%|██████████| 7/7 [00:00<00:00, 17.45it/s]\n",
      "Batches: 100%|██████████| 7/7 [00:00<00:00, 17.23it/s]\n",
      "Batches: 100%|██████████| 7/7 [00:00<00:00, 17.14it/s]\n",
      "Batches: 100%|██████████| 7/7 [00:00<00:00, 17.62it/s]\n",
      "Batches: 100%|██████████| 7/7 [00:00<00:00, 17.27it/s]\n",
      "Batches: 100%|██████████| 7/7 [00:00<00:00, 16.92it/s]\n",
      "Batches: 100%|██████████| 7/7 [00:00<00:00, 17.41it/s]\n",
      "Batches: 100%|██████████| 7/7 [00:00<00:00, 17.48it/s]\n",
      "Batches: 100%|██████████| 7/7 [00:00<00:00, 17.51it/s]\n",
      "Batches: 100%|██████████| 7/7 [00:00<00:00, 17.20it/s]\n",
      "Batches: 100%|██████████| 7/7 [00:00<00:00, 17.22it/s]\n",
      "Batches: 100%|██████████| 7/7 [00:00<00:00, 17.47it/s]\n",
      "Batches: 100%|██████████| 7/7 [00:00<00:00, 17.51it/s]\n",
      "Batches: 100%|██████████| 7/7 [00:00<00:00, 16.80it/s]\n",
      "Batches: 100%|██████████| 7/7 [00:00<00:00, 16.90it/s]\n"
     ]
    },
    {
     "name": "stdout",
     "output_type": "stream",
     "text": [
      "('Best Threshold: 0.9700760491081921;\\n'\n",
      " \"Best scores: {'random score': 0.30583873957367935, 'adjusted random score': \"\n",
      " '0.0006858571860166991};\\n'\n",
      " 'Best clusters: [[98, 103, 161, 75, 150, 364, 118, 71, 344, 407, 326, 282, '\n",
      " '160, 84, 154, 415, 68, 412, 144, 122, 255, 338, 217, 319, 333, 102, 26, 182, '\n",
      " '312, 377, 52, 187, 27, 337, 327, 142, 299, 111, 371, 179, 204, 390, 287, '\n",
      " '153, 402, 169, 260, 119, 384, 149, 303, 269, 85, 355, 357, 170, 128, 86, '\n",
      " '209, 311, 277, 107, 105, 155, 346, 127, 254, 125, 365, 341, 221, 267, 218, '\n",
      " '115, 351, 362, 177, 321, 28, 185, 313, 353, 152, 214, 173, 352, 325, 136, '\n",
      " '379, 278, 205, 411, 305, 112, 317, 283, 323, 320, 99, 272, 387, 124, 37, '\n",
      " '340, 199, 172, 190, 367, 178, 176, 252, 297, 163, 280, 134, 335, 46, 6, 147, '\n",
      " '116, 74, 329, 258, 181, 145, 372, 83, 70, 183, 66, 410, 386, 141, 109, 93, '\n",
      " '328, 164, 381, 29, 165, 94, 251, 114, 334, 53, 48, 392, 1, 291, 294, 373, '\n",
      " '55, 162, 314, 62, 133, 130, 15, 186, 257, 45, 219, 175, 227, 331, 406, 300, '\n",
      " '308, 292, 216, 47, 41, 408, 405, 81, 210, 30, 413, 285, 302, 241, 259, 72, '\n",
      " '226, 159, 397, 203, 80, 67, 18, 409, 42, 200, 11, 383, 358, 286, 339, 393, '\n",
      " '266, 65, 394, 88, 361, 275, 295, 5, 44, 380, 167, 100, 168, 157, 370, 240, '\n",
      " '43, 54, 245, 243, 250, 194, 403, 58, 39, 222, 69, 385, 110, 213, 336, 96, '\n",
      " '139, 368, 117, 342, 225, 401, 307, 140, 101, 10, 21, 171, 343, 9, 398, 271, '\n",
      " '242, 391, 120, 59, 61, 131, 180, 366, 189, 132, 4, 57, 262, 261, 78, 290, '\n",
      " '158, 50, 363, 396, 288, 318, 348, 356, 360, 268, 230, 123, 274, 289, 389, '\n",
      " '97, 316, 206, 36, 388, 104, 238, 281, 315, 273, 197, 135, 306, 106, 229, '\n",
      " '284, 108, 293, 3, 253, 279, 60, 359, 17, 198, 304, 113, 404, 249, 309, 244, '\n",
      " '395, 49, 195, 234, 23, 14, 73, 126, 91, 137, 354, 16, 223, 399, 196, 220, '\n",
      " '376, 369, 22, 215, 188, 33, 92, 345, 374, 414, 95, 202, 207, 151, 148, 191, '\n",
      " '31, 350, 263, 375, 121, 378, 347, 236], [38, 212, 330, 0, 34, 208, 270, 56, '\n",
      " '211, 231, 19, 228, 12], [193, 192, 201, 146, 332, 166, 224, 382, 264, 82], '\n",
      " '[35, 237, 2, 349, 232, 7], [24, 20, 256, 51], [233, 13, 239, 246], [247, '\n",
      " '322, 400], [276, 235], [40, 129], [89, 87], [248, 32], [296], [90], [143], '\n",
      " '[8], [265], [324], [301], [79], [184], [310], [25], [138], [64], [76], '\n",
      " '[298], [63], [156], [174], [77]]')\n"
     ]
    },
    {
     "data": {
      "application/vnd.plotly.v1+json": {
       "config": {
        "plotlyServerURL": "https://plot.ly"
       },
       "data": [
        {
         "legendgroup": "gt",
         "marker": {
          "color": "#1f77b4",
          "size": 6
         },
         "mode": "markers",
         "name": "GT Group 0",
         "showlegend": false,
         "type": "scatter",
         "x": {
          "bdata": "Qvw2wmvntEFa80PCo8/LwX8E2UDDZ2bBWtXoQQ==",
          "dtype": "f4"
         },
         "xaxis": "x",
         "y": {
          "bdata": "3XGpwSS++75B6jTCLms6QUHBO0KuFixBot9SwQ==",
          "dtype": "f4"
         },
         "yaxis": "y"
        },
        {
         "legendgroup": "gt",
         "marker": {
          "color": "#1f77b4",
          "size": 6
         },
         "mode": "markers",
         "name": "GT Group 1",
         "showlegend": false,
         "type": "scatter",
         "x": {
          "bdata": "qYxMwU/3SMLCsn/Crsy1wYUZOsLCZULCjoqBwmUkPMI6Iu1BVEqawQ==",
          "dtype": "f4"
         },
         "xaxis": "x",
         "y": {
          "bdata": "AjIxQShRscDTqXvA7tUqws+/asGMSHXBJ5ftwBned8FtZKDBaqlJwg==",
          "dtype": "f4"
         },
         "yaxis": "y"
        },
        {
         "legendgroup": "gt",
         "marker": {
          "color": "#1f77b4",
          "size": 6
         },
         "mode": "markers",
         "name": "GT Group 2",
         "showlegend": false,
         "type": "scatter",
         "x": {
          "bdata": "Ng9ywVJYfsGqkY3BeGmfQMQngcH3LnDAx6ENwcADR0I=",
          "dtype": "f4"
         },
         "xaxis": "x",
         "y": {
          "bdata": "NJM0wb8zFsEi0DDB2Is5Qp5/JcG9x3nAQd2Iwky1p8E=",
          "dtype": "f4"
         },
         "yaxis": "y"
        },
        {
         "legendgroup": "gt",
         "marker": {
          "color": "#aec7e8",
          "size": 6
         },
         "mode": "markers",
         "name": "GT Group 3",
         "showlegend": false,
         "type": "scatter",
         "x": {
          "bdata": "z5F0wmBtRsEXRBTCKDjDwcKPc8Gj3NTBxjs2wg==",
          "dtype": "f4"
         },
         "xaxis": "x",
         "y": {
          "bdata": "4U+SwfAuJkAPEeFAZAEXQVoZYMISAPXA3QCuwQ==",
          "dtype": "f4"
         },
         "yaxis": "y"
        },
        {
         "legendgroup": "gt",
         "marker": {
          "color": "#aec7e8",
          "size": 6
         },
         "mode": "markers",
         "name": "GT Group 4",
         "showlegend": false,
         "type": "scatter",
         "x": {
          "bdata": "DrR2wsSkQ8KzW0XCEOxCwj4wScLsjTxC9mf7wA==",
          "dtype": "f4"
         },
         "xaxis": "x",
         "y": {
          "bdata": "DvCSwcLHN8IGjijCvBInwi68JsLnwAdBUoCHwg==",
          "dtype": "f4"
         },
         "yaxis": "y"
        },
        {
         "legendgroup": "gt",
         "marker": {
          "color": "#ff7f0e",
          "size": 6
         },
         "mode": "markers",
         "name": "GT Group 5",
         "showlegend": false,
         "type": "scatter",
         "x": {
          "bdata": "Yex7Qf11VEI=",
          "dtype": "f4"
         },
         "xaxis": "x",
         "y": {
          "bdata": "o1DTwTbRjME=",
          "dtype": "f4"
         },
         "yaxis": "y"
        },
        {
         "legendgroup": "gt",
         "marker": {
          "color": "#ff7f0e",
          "size": 6
         },
         "mode": "markers",
         "name": "GT Group 6",
         "showlegend": false,
         "type": "scatter",
         "x": {
          "bdata": "AKi9wVYIJME=",
          "dtype": "f4"
         },
         "xaxis": "x",
         "y": {
          "bdata": "uz2BQvgFfUI=",
          "dtype": "f4"
         },
         "yaxis": "y"
        },
        {
         "legendgroup": "gt",
         "marker": {
          "color": "#ff7f0e",
          "size": 6
         },
         "mode": "markers",
         "name": "GT Group 7",
         "showlegend": false,
         "type": "scatter",
         "x": {
          "bdata": "ikzXQcOqkEBcNevB0VbJQUM3lsDULc1BHkAcQo/Dr8H6dU5CPz+3P826isE=",
          "dtype": "f4"
         },
         "xaxis": "x",
         "y": {
          "bdata": "tNHIwTMTGcJabBHBfsZMwb2yp8Gwlo9BNbTVwZD6cEKPpLvBJjkOwiJUOsI=",
          "dtype": "f4"
         },
         "yaxis": "y"
        },
        {
         "legendgroup": "gt",
         "marker": {
          "color": "#ffbb78",
          "size": 6
         },
         "mode": "markers",
         "name": "GT Group 8",
         "showlegend": false,
         "type": "scatter",
         "x": {
          "bdata": "tfBjwQNYkkHnF7pBoHMWQsZog8E=",
          "dtype": "f4"
         },
         "xaxis": "x",
         "y": {
          "bdata": "bnQEwkVc+MFXVgnCnWK/wTvg7cE=",
          "dtype": "f4"
         },
         "yaxis": "y"
        },
        {
         "legendgroup": "gt",
         "marker": {
          "color": "#ffbb78",
          "size": 6
         },
         "mode": "markers",
         "name": "GT Group 9",
         "showlegend": false,
         "type": "scatter",
         "x": {
          "bdata": "d2QeQlJlGUJIBhBB",
          "dtype": "f4"
         },
         "xaxis": "x",
         "y": {
          "bdata": "RGyqwUB4EMIBsAhC",
          "dtype": "f4"
         },
         "yaxis": "y"
        },
        {
         "legendgroup": "gt",
         "marker": {
          "color": "#2ca02c",
          "size": 6
         },
         "mode": "markers",
         "name": "GT Group 10",
         "showlegend": false,
         "type": "scatter",
         "x": {
          "bdata": "3LI9waPgoEIZY6JC",
          "dtype": "f4"
         },
         "xaxis": "x",
         "y": {
          "bdata": "oPlgwt7iN7+PENE+",
          "dtype": "f4"
         },
         "yaxis": "y"
        },
        {
         "legendgroup": "gt",
         "marker": {
          "color": "#2ca02c",
          "size": 6
         },
         "mode": "markers",
         "name": "GT Group 11",
         "showlegend": false,
         "type": "scatter",
         "x": {
          "bdata": "EAP6wf1opkG7MhBCCk/lwQ==",
          "dtype": "f4"
         },
         "xaxis": "x",
         "y": {
          "bdata": "4dErwbOViEHBYrJASYMJwQ==",
          "dtype": "f4"
         },
         "yaxis": "y"
        },
        {
         "legendgroup": "gt",
         "marker": {
          "color": "#98df8a",
          "size": 6
         },
         "mode": "markers",
         "name": "GT Group 12",
         "showlegend": false,
         "type": "scatter",
         "x": {
          "bdata": "2MUXwmnEa0CIhYlBgBVWQpDVGMJCN59B",
          "dtype": "f4"
         },
         "xaxis": "x",
         "y": {
          "bdata": "DvBYQYzmE8KqShnBOXi8vwNnA0EhJ9DB",
          "dtype": "f4"
         },
         "yaxis": "y"
        },
        {
         "legendgroup": "gt",
         "marker": {
          "color": "#98df8a",
          "size": 6
         },
         "mode": "markers",
         "name": "GT Group 13",
         "showlegend": false,
         "type": "scatter",
         "x": {
          "bdata": "FEOKQT6qpULuoKdCXjoKwOIgWEIbnPxBUOZUQp/1JUI/a+lBt+BBwCdcFEKVWGFC",
          "dtype": "f4"
         },
         "xaxis": "x",
         "y": {
          "bdata": "Z+zVQFMskz+3ltQ/pgw2wqgYmkGrkpxBnU4IwKB7G0Lgp73BZIcawtTMTEGBGDtB",
          "dtype": "f4"
         },
         "yaxis": "y"
        },
        {
         "legendgroup": "gt",
         "marker": {
          "color": "#98df8a",
          "size": 6
         },
         "mode": "markers",
         "name": "GT Group 14",
         "showlegend": false,
         "type": "scatter",
         "x": {
          "bdata": "Pwa6v+dLDsEHwPvA8J1FwBhw0MGsUBVB",
          "dtype": "f4"
         },
         "xaxis": "x",
         "y": {
          "bdata": "VCiHQhM6YUJqB4JCo7SFQs6SEULoPWpC",
          "dtype": "f4"
         },
         "yaxis": "y"
        },
        {
         "legendgroup": "gt",
         "marker": {
          "color": "#d62728",
          "size": 6
         },
         "mode": "markers",
         "name": "GT Group 15",
         "showlegend": false,
         "type": "scatter",
         "x": {
          "bdata": "YGaAwRUpIcGVdxLAgcoGQY4uM8HzZndBDyf7wQ==",
          "dtype": "f4"
         },
         "xaxis": "x",
         "y": {
          "bdata": "8UBqQjUaX0KfX4ZCluhiQkUde0I2ratAxNAcQg==",
          "dtype": "f4"
         },
         "yaxis": "y"
        },
        {
         "legendgroup": "gt",
         "marker": {
          "color": "#d62728",
          "size": 6
         },
         "mode": "markers",
         "name": "GT Group 16",
         "showlegend": false,
         "type": "scatter",
         "x": {
          "bdata": "LGLHwcdS80ATdj3BihmDQZ94HcJJbDHB",
          "dtype": "f4"
         },
         "xaxis": "x",
         "y": {
          "bdata": "oagaQnJY8j8sIFpCJGpPQbqRDEJ9ckxC",
          "dtype": "f4"
         },
         "yaxis": "y"
        },
        {
         "legendgroup": "gt",
         "marker": {
          "color": "#ff9896",
          "size": 6
         },
         "mode": "markers",
         "name": "GT Group 17",
         "showlegend": false,
         "type": "scatter",
         "x": {
          "bdata": "GH2LwWCPt8H2naS/V2avwWkLXEE6S25B6+h2wcJqFME=",
          "dtype": "f4"
         },
         "xaxis": "x",
         "y": {
          "bdata": "dKJjQsu9z8FE2mhCDOIIQnE3m0Gw7ZNBs9WjQRfbf0I=",
          "dtype": "f4"
         },
         "yaxis": "y"
        },
        {
         "legendgroup": "gt",
         "marker": {
          "color": "#ff9896",
          "size": 6
         },
         "mode": "markers",
         "name": "GT Group 18",
         "showlegend": false,
         "type": "scatter",
         "x": {
          "bdata": "5dSWQUqoBUJA34nBm6+7wYEbn8Hi4KjBNrytwQ==",
          "dtype": "f4"
         },
         "xaxis": "x",
         "y": {
          "bdata": "XptMQdCWI0B7aGxCaSeCQpgMjUGAhnFCrBf5QQ==",
          "dtype": "f4"
         },
         "yaxis": "y"
        },
        {
         "legendgroup": "gt",
         "marker": {
          "color": "#ff9896",
          "size": 6
         },
         "mode": "markers",
         "name": "GT Group 19",
         "showlegend": false,
         "type": "scatter",
         "x": {
          "bdata": "UFKUwRUpDMLAm/5ATJ4aQupZkcE=",
          "dtype": "f4"
         },
         "xaxis": "x",
         "y": {
          "bdata": "cyNEwklbiEDIe2VCunIuQW3zbUI=",
          "dtype": "f4"
         },
         "yaxis": "y"
        },
        {
         "legendgroup": "gt",
         "marker": {
          "color": "#9467bd",
          "size": 6
         },
         "mode": "markers",
         "name": "GT Group 20",
         "showlegend": false,
         "type": "scatter",
         "x": {
          "bdata": "WS9dwQ==",
          "dtype": "f4"
         },
         "xaxis": "x",
         "y": {
          "bdata": "ymtSQg==",
          "dtype": "f4"
         },
         "yaxis": "y"
        },
        {
         "legendgroup": "gt",
         "marker": {
          "color": "#9467bd",
          "size": 6
         },
         "mode": "markers",
         "name": "GT Group 21",
         "showlegend": false,
         "type": "scatter",
         "x": {
          "bdata": "1qcLwr0stcE=",
          "dtype": "f4"
         },
         "xaxis": "x",
         "y": {
          "bdata": "yPsmQsq61ME=",
          "dtype": "f4"
         },
         "yaxis": "y"
        },
        {
         "legendgroup": "gt",
         "marker": {
          "color": "#c5b0d5",
          "size": 6
         },
         "mode": "markers",
         "name": "GT Group 22",
         "showlegend": false,
         "type": "scatter",
         "x": {
          "bdata": "3ylYQrBF8EDmIAFCBEJmwA==",
          "dtype": "f4"
         },
         "xaxis": "x",
         "y": {
          "bdata": "JOKewevx/8DCEhrCqf7JwA==",
          "dtype": "f4"
         },
         "yaxis": "y"
        },
        {
         "legendgroup": "gt",
         "marker": {
          "color": "#c5b0d5",
          "size": 6
         },
         "mode": "markers",
         "name": "GT Group 23",
         "showlegend": false,
         "type": "scatter",
         "x": {
          "bdata": "/doowiSxDMIPAUzCJ+iqwTAjM8LOOktCnSRTQjDoQcDx5HzBURQDQok2NELCEsDA0rUrQg5ptUH8w7TB1y/mQN+ZnkGNKRDCV+3HQQ==",
          "dtype": "f4"
         },
         "xaxis": "x",
         "y": {
          "bdata": "nsRAQjliD0ITZJxAiv+1QUD3u0GPjMJBJY8nQUZmD8Iw0LJBYCQ5QG34zkEXyDXCAUjwvz1BD0J2XgpCv8trQnvag0G/eRZA7iPMwQ==",
          "dtype": "f4"
         },
         "yaxis": "y"
        },
        {
         "legendgroup": "gt",
         "marker": {
          "color": "#8c564b",
          "size": 6
         },
         "mode": "markers",
         "name": "GT Group 24",
         "showlegend": false,
         "type": "scatter",
         "x": {
          "bdata": "lS2MQUwz9EGZbV1BBLlbQojUoEKPtmtCDGsswitPD8HW0NrBjo5RwSpzQEBroENC",
          "dtype": "f4"
         },
         "xaxis": "x",
         "y": {
          "bdata": "/eHawX5ki0EwaI5A7Cg+QA3f3r+ywnRBextCQjLrSMKAyBhBjAs2QMR/CMIfFw5B",
          "dtype": "f4"
         },
         "yaxis": "y"
        },
        {
         "legendgroup": "gt",
         "marker": {
          "color": "#8c564b",
          "size": 6
         },
         "mode": "markers",
         "name": "GT Group 25",
         "showlegend": false,
         "type": "scatter",
         "x": {
          "bdata": "RLl6QVn+N0Lay1dCEgGEQQbVWUKtSkZCMToowHcYTkJvzy5CSlazwKKFo0LWaShC",
          "dtype": "f4"
         },
         "xaxis": "x",
         "y": {
          "bdata": "ZaONwfsHcMABcaBBRs9Owd4zSkG9lhBBfIs3wnDDp8HRBKnAFyY6QfTwCcCsXs7A",
          "dtype": "f4"
         },
         "yaxis": "y"
        },
        {
         "legendgroup": "gt",
         "marker": {
          "color": "#8c564b",
          "size": 6
         },
         "mode": "markers",
         "name": "GT Group 26",
         "showlegend": false,
         "type": "scatter",
         "x": {
          "bdata": "BBSxweyN8UEgMljAXXWCQTnyV0LX71tCJluQQU1nO0KY72FCyjw0QketNUI=",
          "dtype": "f4"
         },
         "xaxis": "x",
         "y": {
          "bdata": "s0DEwfH5g0GSgyPCipVowa2vdUEEnkhBcenUwWM2+r8H8JtBa/OHwA+1wsA=",
          "dtype": "f4"
         },
         "yaxis": "y"
        },
        {
         "legendgroup": "gt",
         "marker": {
          "color": "#c49c94",
          "size": 6
         },
         "mode": "markers",
         "name": "GT Group 27",
         "showlegend": false,
         "type": "scatter",
         "x": {
          "bdata": "wNOoQbkFJsKq4KjBQTGAQQhjD0IaI1tCdfNNQp2TUcE=",
          "dtype": "f4"
         },
         "xaxis": "x",
         "y": {
          "bdata": "TRw2QEm3P0KtFVLCDhPJwf/9bEHFk+jAOSP1wERCAEI=",
          "dtype": "f4"
         },
         "yaxis": "y"
        },
        {
         "legendgroup": "gt",
         "marker": {
          "color": "#c49c94",
          "size": 6
         },
         "mode": "markers",
         "name": "GT Group 28",
         "showlegend": false,
         "type": "scatter",
         "x": {
          "bdata": "X+UbwrsdiMKFRsHBEdQTQgvNCsIZOrbBzwlDQquALEKz2NtA/WEowHFDcUFsExBCnppVwfJCLkK+I1jAe31rwXg8UsE=",
          "dtype": "f4"
         },
         "xaxis": "x",
         "y": {
          "bdata": "CtC4QDZhy8FsZPRBAkgpQDDOFEIdp/lBqs7HQbEXz0E4skFCpUESwuqHXkHSCwHCi4BuwnuZ/MEAhrBAqQRCwtJIAkI=",
          "dtype": "f4"
         },
         "yaxis": "y"
        },
        {
         "legendgroup": "gt",
         "marker": {
          "color": "#e377c2",
          "size": 6
         },
         "mode": "markers",
         "name": "GT Group 29",
         "showlegend": false,
         "type": "scatter",
         "x": {
          "bdata": "Cs5RwdJDJz87cevBc7iVQLas5sGiyA/C7gqfwRqIoMHH0iZCyoV3wfRkDULoHMxAWkI5QhaCO79CinjB7RbTwV75p8A=",
          "dtype": "f4"
         },
         "xaxis": "x",
         "y": {
          "bdata": "9tBzwrvXq8HQ/SZCubjpQVfnK0L+JDpBdzWhQbrTC0LOygHCWH+/QTADQUEKMGJCpEoTwsuKaEIb4e/AqaQXQghfh8I=",
          "dtype": "f4"
         },
         "yaxis": "y"
        },
        {
         "legendgroup": "gt",
         "marker": {
          "color": "#e377c2",
          "size": 6
         },
         "mode": "markers",
         "name": "GT Group 30",
         "showlegend": false,
         "type": "scatter",
         "x": {
          "bdata": "0w5wwpRdesL1WnXC7rN9wg==",
          "dtype": "f4"
         },
         "xaxis": "x",
         "y": {
          "bdata": "GxfpwEJivcBT1KjA68zRwA==",
          "dtype": "f4"
         },
         "yaxis": "y"
        },
        {
         "legendgroup": "gt",
         "marker": {
          "color": "#e377c2",
          "size": 6
         },
         "mode": "markers",
         "name": "GT Group 31",
         "showlegend": false,
         "type": "scatter",
         "x": {
          "bdata": "m119wlpEhcI9JYXCR1Vwwm5FZsI=",
          "dtype": "f4"
         },
         "xaxis": "x",
         "y": {
          "bdata": "vj+VwQoxO8GlljHBYv0LwaeV68A=",
          "dtype": "f4"
         },
         "yaxis": "y"
        },
        {
         "legendgroup": "gt",
         "marker": {
          "color": "#f7b6d2",
          "size": 6
         },
         "mode": "markers",
         "name": "GT Group 32",
         "showlegend": false,
         "type": "scatter",
         "x": {
          "bdata": "u+iEwjCmj8JJZ4vC2aWOwYhzjcIqN9fBWJSKwiL7zcGTg13C9RlLwu/DWsKVxYHCmxqiQahBZUGoLyTCng16QQ==",
          "dtype": "f4"
         },
         "xaxis": "x",
         "y": {
          "bdata": "xfSewTTZucEJ9L7Bk2VXwoldx8Gq6MnBCtm5wXkKzMEtEfXAse+7wClH9sDDsZfBZQtFQdnY1kAJRr8+8Ef8wQ==",
          "dtype": "f4"
         },
         "yaxis": "y"
        },
        {
         "legendgroup": "gt",
         "marker": {
          "color": "#f7b6d2",
          "size": 6
         },
         "mode": "markers",
         "name": "GT Group 33",
         "showlegend": false,
         "type": "scatter",
         "x": {
          "bdata": "OjC1QTLlvsBlRBlCiyQOQvvQ5UEjAIBBhxu9wA==",
          "dtype": "f4"
         },
         "xaxis": "x",
         "y": {
          "bdata": "qgEvQLS3oED5IaTBol5hQHR0wcEMofZBeNCBQA==",
          "dtype": "f4"
         },
         "yaxis": "y"
        },
        {
         "legendgroup": "gt",
         "marker": {
          "color": "#7f7f7f",
          "size": 6
         },
         "mode": "markers",
         "name": "GT Group 34",
         "showlegend": false,
         "type": "scatter",
         "x": {
          "bdata": "7X1fQPDpH8LWz33AnJ5PQlpBa0Jnu6NBGZU0QUzvL0A8Pei+9+pBwBWKmUDlsli/mOMpQhsKm8BzqdtAY+W6P/1T5sDZ+8vB",
          "dtype": "f4"
         },
         "xaxis": "x",
         "y": {
          "bdata": "s6sMQt1DC0IYRlFB2RO0QcNohUFZURRCJBhAQdK6BUIurnbBHb1eQRU080Hb68vA2R7OQdNGAcHM2AdCTy0CQqNOvkBc+C1B",
          "dtype": "f4"
         },
         "yaxis": "y"
        },
        {
         "legendgroup": "gt",
         "marker": {
          "color": "#7f7f7f",
          "size": 6
         },
         "mode": "markers",
         "name": "GT Group 35",
         "showlegend": false,
         "type": "scatter",
         "x": {
          "bdata": "nIEDQvnkRUFwJ/K/GxaDQZQO6sD8ZFjAE3CXQJFi8kBV7LTBO4oawcMDnEE=",
          "dtype": "f4"
         },
         "xaxis": "x",
         "y": {
          "bdata": "89BbP+y460FR6xFCozh7QJBzRUGNDhNCBQQCQgjoC0IDXYBB8VihQR96GUI=",
          "dtype": "f4"
         },
         "yaxis": "y"
        },
        {
         "legendgroup": "gt",
         "marker": {
          "color": "#c7c7c7",
          "size": 6
         },
         "mode": "markers",
         "name": "GT Group 36",
         "showlegend": false,
         "type": "scatter",
         "x": {
          "bdata": "op8uwnZsVMEDbwvBePzzwYeRNMK9WRpCO5tAQqiFuMA=",
          "dtype": "f4"
         },
         "xaxis": "x",
         "y": {
          "bdata": "TGRHwWB+ZMKIgKFBuewWQp5rV8ENfGZBbPzJQfPpLEA=",
          "dtype": "f4"
         },
         "yaxis": "y"
        },
        {
         "legendgroup": "gt",
         "marker": {
          "color": "#c7c7c7",
          "size": 6
         },
         "mode": "markers",
         "name": "GT Group 37",
         "showlegend": false,
         "type": "scatter",
         "x": {
          "bdata": "rX6dQgLoh0E58jjA7IlaQlYt9sGdIY7Bd8u9wKQ6isEqVRnC+ny5QQ==",
          "dtype": "f4"
         },
         "xaxis": "x",
         "y": {
          "bdata": "R90lv3vtgkGzRb3A4nQDwVNBJMHornxBt+6mwWM8n0EKhQ/COprWvw==",
          "dtype": "f4"
         },
         "yaxis": "y"
        },
        {
         "legendgroup": "gt",
         "marker": {
          "color": "#c7c7c7",
          "size": 6
         },
         "mode": "markers",
         "name": "GT Group 38",
         "showlegend": false,
         "type": "scatter",
         "x": {
          "bdata": "7PSUQd1UMkJGv1xCss4SQTs5B8IayVtCJ70TwnyQOEIXtzDC",
          "dtype": "f4"
         },
         "xaxis": "x",
         "y": {
          "bdata": "NX7mQPgVHUIVnBnBns/BPz21IEJgN2NAhN1LQYLlHkIXtsVB",
          "dtype": "f4"
         },
         "yaxis": "y"
        },
        {
         "legendgroup": "gt",
         "marker": {
          "color": "#bcbd22",
          "size": 6
         },
         "mode": "markers",
         "name": "GT Group 39",
         "showlegend": false,
         "type": "scatter",
         "x": {
          "bdata": "+X/pQaYjK0KAViHCKyhuwRsgIUH8tSrC29sIwIWiQ8J5agTCvOgoQUv08cH0GZ7B23RDwfqXocEV/DzA/wI3QndRikE2O+hBhLrpQYQsXb9QU+pBnsKAQWgrV8JE3UnB8dlowZySAkI=",
          "dtype": "f4"
         },
         "xaxis": "x",
         "y": {
          "bdata": "lUCUQXz/G0JmNQs/fxxRQCnsPkHpB2K+G2KjwdfOlMCTnxxC/fOpP1B6qEFPu07Ca21WQqBE8EFU06jBzagRwsChDsEl99DBwiRnQTTMEEKwuanBHtWDwabWMUAYxJ5BmHDLQXgTiEE=",
          "dtype": "f4"
         },
         "yaxis": "y"
        },
        {
         "legendgroup": "gt",
         "marker": {
          "color": "#bcbd22",
          "size": 6
         },
         "mode": "markers",
         "name": "GT Group 40",
         "showlegend": false,
         "type": "scatter",
         "x": {
          "bdata": "NwQbwttaEsLxU1nC3qgHwhpy0EG9UBzCfIKJwS5ZO8IVnhdAc2rDPsxECMJCblDCDsVXvw==",
          "dtype": "f4"
         },
         "xaxis": "x",
         "y": {
          "bdata": "5HIHws2d3T+p0RhAH7aFQEG+CsLyigDCxsIFwoc2i8FzFw3CSIDkwJgGzkDKxYVAzFKFwQ==",
          "dtype": "f4"
         },
         "yaxis": "y"
        },
        {
         "legendgroup": "gt",
         "marker": {
          "color": "#dbdb8d",
          "size": 6
         },
         "mode": "markers",
         "name": "GT Group 41",
         "showlegend": false,
         "type": "scatter",
         "x": {
          "bdata": "Zh8awuXorb+RdPTBdMjJwOkbxcCNtSRC",
          "dtype": "f4"
         },
         "xaxis": "x",
         "y": {
          "bdata": "f0YMwruFkcG7wPtAwF+EwunvgsIVJq3B",
          "dtype": "f4"
         },
         "yaxis": "y"
        },
        {
         "legendgroup": "gt",
         "marker": {
          "color": "#dbdb8d",
          "size": 6
         },
         "mode": "markers",
         "name": "GT Group 42",
         "showlegend": false,
         "type": "scatter",
         "x": {
          "bdata": "SpnuQFxLhMEfCpjBwHWGweTBgUHFdoZB7/cgQigYb8FSmgBCieWDQd0fSUE=",
          "dtype": "f4"
         },
         "xaxis": "x",
         "y": {
          "bdata": "M/44QlemdEIQHJZB2iZlQSeu6EEcedZBT2SYwZRVJUGCaRzCmTzdQd3a30E=",
          "dtype": "f4"
         },
         "yaxis": "y"
        },
        {
         "legendgroup": "gt",
         "marker": {
          "color": "#dbdb8d",
          "size": 6
         },
         "mode": "markers",
         "name": "GT Group 43",
         "showlegend": false,
         "type": "scatter",
         "x": {
          "bdata": "OyvkQJDma0JKqpfB2kKdwUiQFkLXx5/AMzLCwA==",
          "dtype": "f4"
         },
         "xaxis": "x",
         "y": {
          "bdata": "ICjXwJFrVkF8O37Cqfp/wqzwQEGdkk7CLldKwg==",
          "dtype": "f4"
         },
         "yaxis": "y"
        },
        {
         "legendgroup": "gt",
         "marker": {
          "color": "#17becf",
          "size": 6
         },
         "mode": "markers",
         "name": "GT Group 44",
         "showlegend": false,
         "type": "scatter",
         "x": {
          "bdata": "GFD9QNC+qL9elDNCWe5QQgNZAsFk1w9C/00DwR+wYsEE0chBNHIWwWxQ0EGbcy3BaXqLQSJKZsFQ9oLBXRY/wVVGGkIwRoDBScQYQg==",
          "dtype": "f4"
         },
         "xaxis": "x",
         "y": {
          "bdata": "qKoawfotL8KszPbBCGOiwVBGRMK/LL7BLdRAwjtVMsJ/8gzCqG5bwpErTsF8hV7CPdnywSsCN8IizPLB4RNAwlU0AcK9hwHCto3FwQ==",
          "dtype": "f4"
         },
         "yaxis": "y"
        },
        {
         "legendgroup": "gt",
         "marker": {
          "color": "#17becf",
          "size": 6
         },
         "mode": "markers",
         "name": "GT Group 45",
         "showlegend": false,
         "type": "scatter",
         "x": {
          "bdata": "deYaQlvMpMHTb2rBplnjQVW0MsDPsxpC/5gWQg==",
          "dtype": "f4"
         },
         "xaxis": "x",
         "y": {
          "bdata": "y9sMwsAmgcKXaTvCVJhRwd/ltsH3j/fBPO0Awg==",
          "dtype": "f4"
         },
         "yaxis": "y"
        },
        {
         "legendgroup": "gt",
         "marker": {
          "color": "#9edae5",
          "size": 6
         },
         "mode": "markers",
         "name": "GT Group 46",
         "showlegend": false,
         "type": "scatter",
         "x": {
          "bdata": "LXixwSbhc0FgC/JABMOoQaFnvsE=",
          "dtype": "f4"
         },
         "xaxis": "x",
         "y": {
          "bdata": "ookswizUQUFB5w9CEwQSQrNIeEE=",
          "dtype": "f4"
         },
         "yaxis": "y"
        },
        {
         "legendgroup": "gt",
         "marker": {
          "color": "#9edae5",
          "size": 6
         },
         "mode": "markers",
         "name": "GT Group 47",
         "showlegend": false,
         "type": "scatter",
         "x": {
          "bdata": "n8C/wAdSH8E=",
          "dtype": "f4"
         },
         "xaxis": "x",
         "y": {
          "bdata": "RoMQQTMJG0A=",
          "dtype": "f4"
         },
         "yaxis": "y"
        },
        {
         "legendgroup": "gt",
         "marker": {
          "color": "#9edae5",
          "size": 6
         },
         "mode": "markers",
         "name": "GT Group 48",
         "showlegend": false,
         "type": "scatter",
         "x": {
          "bdata": "ss+MQehZN0LmVqBB",
          "dtype": "f4"
         },
         "xaxis": "x",
         "y": {
          "bdata": "rNrdP+n2HELJ5RBA",
          "dtype": "f4"
         },
         "yaxis": "y"
        },
        {
         "legendgroup": "pred",
         "marker": {
          "color": "#1f77b4",
          "size": 6
         },
         "mode": "markers",
         "name": "Pred Group 0",
         "showlegend": false,
         "type": "scatter",
         "x": {
          "bdata": "82Z3QYoZg0GOjlHBFEOKQY0pEMIfCpjBgRufwYiFiUHbWhLCJuFzQbzoKEEbFoNB1tDawbfgQcCZbV1B5lagQQpP5cEHUh/BwhLAwBUpDMIy5b7AnsKAQaLID8KAViHCd1GKQRN2PcFgbUbBJluQQTs5B8JIkBZCPz+3P8DTqEEXRBTCUFPqQUv08cFRFANCAuiHQTpLbkGJ5YNBXXWCQf1hKMBsUNBBVey0wUwz9EGmWeNBrUpGQocbvcDi4KjBA1kCwd+ZnkGdIY7BPD3ovidcFEIOxVe/5eitvzE6KMC9LLXBlVhhQr4jWMCyzhJB/VPmwGCPt8FJbDHBBLlbQt6oB8LWpwvCOjC1QepZkcHAdYbB8dlowcqFd8EZlTRB7gqfwUqoBUIVnhdASpnuQOyN8UEbICFBKDjDwco8NEIayVtCzEQIwpUtjEE7cevBSlazwHNqwz55agTCJ+iqwTMywsDZ+8vBcUNxQZ/Av8CkOorB6+h2wfl/6UGUDurA29sIwCsobsEPJ/vB5bJYvx+wYsFMnhpC7I08QkTdScELzQrCb88uQkExgEHFdoZBIDJYwAQUscGoLyTCqIW4wGugQ0L55EVBJLEMwoS66UHRVslBWtXoQfzDtMFA34nBQjefQdt0Q8H70OVB1+9bQtK1K0LdH0lBP2vpQWnEa0BNZztC/WimQaFnvsH/TQPB8eR8wVdmr8FgZoDB9BmewUS5ekHQvqi/wo9zwVn+N0IVKSHBqEFlQeXUlkE2O+hBzbqKwdQtzUFpeotBa+e0QXZsVMGHkTTCOyvkQANYkkEqc0BAJ70TwtyyPcH92ijCsEXwQDoi7UFHrTVCiyQOQlw168EaiKDB1mkoQu0W08EV/DzALXixwTnyOMDs9JRBA28Lwbas5sFDN5bAAKi9wWAL8kD/mBZCUOZUQnt9a8Gj3NTBss+MQRNwl0BWLfbB2aWOwSMAgEGAFVZCQop4wStPD8EwRoDBs9jbQBuc/EG7MhBCUlh+wQTDqEFWCCTBGTq2wYUZOsJZ7lBCkXT0wZFi8kBoK1fCIkpmwWe7o0EQA/rBUPaCwedLDsGNtSRCc6nbQL1ZGkLDZ2bBw6qQQBhQ/UASAYRBLGLHwQbVWUKPtmtCUpoAQklni8KKTNdBtfBjwSL7zcEqN9fBmxqiQZ2TUcFVtDLAxmiDwWHse0H0ZA1C2MUXwmTXD0JpC1xB0kMnP4QsXb+BygZBnSRTQu/3IEKbr7vBnJICQhaCO7/Tb2rB+ny5QTDoQcDHUvNArsy1wcQngcF3GE5CNwQbwsKyf8JJxBhCFYqZQIhzjcKbcy3BNrytwXdkHkJIBhBB5iABQjnyV0LkwYFBquCowQRCZsB/BNlAoHMWQvDpH8LtfV9AXjoKwKKfLsIMayzCj8OvwVxLhMFVRhpCO4oawaYjK0K9UBzCZh8awukbxcBM7y9AlF16wsCb/kAbCpvAwwOcQTRyFsGOLjPBF7cwwmwTEEI+MEnCBNHIQZ94HcK76ITCcCfyv3yQOEKY4ylChUbBwQ8BTMIqVRnCGH2LwdMOcML8ZFjA9p2kv3j888Gjz8vBng16QZyBA0JSZRlCdMjJwDYPcsER1BNCd8u9wMJqFMHPsxpClcWBwt1UMkJYlIrCXRY/wR5AHEJf5RvCWkSFwsehDcFlJDzCkNUYwlkvXcEYcNDBMCMzwkJuUMJUSprB6BzMQHXmGkK7HYjCx9ImQtpCncEoGG/B9y5wwHO4lUC5BSbCxKRDwqxQFUHxU1nCkOZrQuhZN0KVdxLAq4AsQp6aVcFX7cdB1y/mQAhjD0LGOzbCLlk7wtbPfcBKqpfBUFKUwdfHn8AactBBR1Vwwg==",
          "dtype": "f4"
         },
         "xaxis": "x2",
         "y": {
          "bdata": "Nq2rQCRqT0GMCzZAZ+zVQL95FkAQHJZBmAyNQapKGcHNnd0/LNRBQf3zqT+jOHtAgMgYQWSHGsIwaI5AyeUQQEmDCcEzCRtAF8g1wklbiEC0t6BAHtWDwf4kOkFmNQs/wKEOwSwgWkLwLiZAcenUwT21IEKs8EBBJjkOwk0cNkAPEeFAsLmpwVB6qEFgJDlAe+2CQbDtk0GZPN1BipVowaVBEsKRK07BA12AQX5ki0FUmFHBvZYQQXjQgUCAhnFCUEZEwnvag0HornxBLq52wdTMTEHMUoXBu4WRwXyLN8LKutTBgRg7QQCGsECez8E/o06+QMu9z8F9ckxC7Cg+QB+2hUDI+yZCqgEvQG3zbULaJmVBmHDLQVh/v0EkGEBBdzWhQdCWI0BzFw3CM/44QvH5g0Ep7D5BZAEXQWvzh8BgN2NAmAbOQP3h2sHQ/SZCFyY6QUiA5MCTnxxCiv+1QS5XSsJc+C1B6odeQUaDEEFjPJ9Bs9WjQZVAlEGQc0VBG2KjwX8cUUDE0BxC2+vLwDtVMsK6ci5B58AHQRjEnkEwzhRC0QSpwA4TycEcedZBkoMjwrNAxMEJRr8+8+ksQB8XDkHsuOtBOWIPQsIkZ0F+xkzBot9SwXZeCkJ7aGxCISfQwWttVkJ0dMHBBJ5IQQFI8L/d2t9B4Ke9wYzmE8JjNvq/s5WIQbNIeEEt1EDCMNCyQQziCELxQGpCT7tOwmWjjcH6LS/CWhlgwvsHcMA1Gl9C2djWQF6bTEEl99DBIlQ6wrCWj0E92fLBJL77vmB+ZMKea1fBICjXwEVc+MHEfwjChN1LQaD5YMKexEBC6/H/wG1koMEPtcLAol5hQFpsEcG60wtCrF7OwKmkF0JU06jBookswrNFvcA1fuZAiIChQVfnK0K9sqfBuz2BQkHnD0I87QDCnU4IwKkEQsISAPXArNrdPwUEAkJTQSTBk2VXwgyh9kE5eLy/G+HvwDLrSMK9hwHCOLJBQquSnEHBYrJAvzMWwRMEEkL4BX1CHaf5Qc+/asEIY6LBu8D7QAjoC0Km1jFAKwI3wllRFELh0SvBIszywRM6YUIVJq3BzNgHQg18ZkGuFixBMxMZwqiqGsFGz07BoagaQt4zSkGywnRBgmkcwgn0vsG00cjBbnQEwnkKzMGq6MnBZQtFQURCAELf5bbBO+DtwaNQ08EwA0FBDvBYQb8svsFxN5tBu9erwTTMEEKW6GJCJY8nQU9kmMFpJ4JCeBOIQcuKaEKXaTvCOprWv0ZmD8JyWPI/7tUqwp5/JcFww6fB5HIHwtOpe8C2jcXBFTTzQYldx8F8hV7CrBf5QURsqsEBsAhCwhIawq2vdUEnruhBrRVSwqn+ycBBwTtCnWK/wd1DC0KzqwxCpgw2wkxkR8F7G0JCkPpwQlemdEJVNAHC8VihQXz/G0LyigDCf0YMwunvgsLSugVCQmK9wMh7ZULTRgHBH3oZQqhuW8JFHXtCF7bFQdILAcIuvCbCf/IMwrqRDELF9J7BUesRQoLlHkLZHs5BbGT0QRNknEAKhQ/CdKJjQhsX6cCNDhNCRNpoQrnsFkIuazpB8Ef8wfPQWz9AeBDCwF+EwjSTNMECSClAt+6mwRfbf0L3j/fBw7GXwfgVHUIK2bnB4RNAwjW01cEK0LhACjE7wUHdiMIZ3nfBA2cDQcprUkLOkhFCQPe7QcrFhUBqqUnCCjBiQsvbDMI2YcvBzsoBwqn6f8KUVSVBvcd5wLm46UFJtz9Cwsc3wug9akKp0RhAkWtWQen2HEKfX4ZCsRfPQYuAbsLuI8zBv8trQv/9bEHdAK7BhzaLwRhGUUF8O37CcyNEwp2STsJBvgrCYv0LwQ==",
          "dtype": "f4"
         },
         "yaxis": "y2"
        },
        {
         "legendgroup": "pred",
         "marker": {
          "color": "#1f77b4",
          "size": 6
         },
         "mode": "markers",
         "name": "Pred Group 1",
         "showlegend": false,
         "type": "scatter",
         "x": {
          "bdata": "9mf7wArOUcH6l6HBQvw2wrNbRcLyQi5C9+pBwOcXukF4PFLB9Vp1wqqRjcFe+afAwmVCwg==",
          "dtype": "f4"
         },
         "xaxis": "x2",
         "y": {
          "bdata": "UoCHwvbQc8KgRPBB3XGpwQaOKMJ7mfzBHb1eQVdWCcLSSAJCU9SowCLQMMEIX4fCjEh1wQ==",
          "dtype": "f4"
         },
         "yaxis": "y2"
        },
        {
         "legendgroup": "pred",
         "marker": {
          "color": "#aec7e8",
          "size": 6
         },
         "mode": "markers",
         "name": "Pred Group 2",
         "showlegend": false,
         "type": "scatter",
         "x": {
          "bdata": "dfNNQhojW0LPCUNCDmm1Qf8CN0Lay1dCWkI5Ql6UM0Kcnk9Cn/UlQg==",
          "dtype": "f4"
         },
         "xaxis": "x2",
         "y": {
          "bdata": "OSP1wMWT6MCqzsdBPUEPQs2oEcIBcaBBpEoTwqzM9sHZE7RBoHsbQg==",
          "dtype": "f4"
         },
         "yaxis": "y2"
        },
        {
         "legendgroup": "pred",
         "marker": {
          "color": "#ff7f0e",
          "size": 6
         },
         "mode": "markers",
         "name": "Pred Group 3",
         "showlegend": false,
         "type": "scatter",
         "x": {
          "bdata": "EOxCwm5FZsJa80PCfIKJwe6zfcKpjEzB",
          "dtype": "f4"
         },
         "xaxis": "x2",
         "y": {
          "bdata": "vBInwqeV68BB6jTCxsIFwuvM0cACMjFB",
          "dtype": "f4"
         },
         "yaxis": "y2"
        },
        {
         "legendgroup": "pred",
         "marker": {
          "color": "#ff7f0e",
          "size": 6
         },
         "mode": "markers",
         "name": "Pred Group 4",
         "showlegend": false,
         "type": "scatter",
         "x": {
          "bdata": "wANHQnhpn0BlRBlC+nVOQg==",
          "dtype": "f4"
         },
         "xaxis": "x2",
         "y": {
          "bdata": "TLWnwdiLOUL5IaTBj6S7wQ==",
          "dtype": "f4"
         },
         "yaxis": "y2"
        },
        {
         "legendgroup": "pred",
         "marker": {
          "color": "#ffbb78",
          "size": 6
         },
         "mode": "markers",
         "name": "Pred Group 5",
         "showlegend": false,
         "type": "scatter",
         "x": {
          "bdata": "m119wo6KgcIwpo/Ck4Ndwg==",
          "dtype": "f4"
         },
         "xaxis": "x2",
         "y": {
          "bdata": "vj+VwSeX7cA02bnBLRH1wA==",
          "dtype": "f4"
         },
         "yaxis": "y2"
        },
        {
         "legendgroup": "pred",
         "marker": {
          "color": "#2ca02c",
          "size": 6
         },
         "mode": "markers",
         "name": "Pred Group 6",
         "showlegend": false,
         "type": "scatter",
         "x": {
          "bdata": "9RlLwvy1KsJbzKTB",
          "dtype": "f4"
         },
         "xaxis": "x2",
         "y": {
          "bdata": "se+7wOkHYr7AJoHC",
          "dtype": "f4"
         },
         "yaxis": "y2"
        },
        {
         "legendgroup": "pred",
         "marker": {
          "color": "#2ca02c",
          "size": 6
         },
         "mode": "markers",
         "name": "Pred Group 7",
         "showlegend": false,
         "type": "scatter",
         "x": {
          "bdata": "Y+W6Pz0lhcI=",
          "dtype": "f4"
         },
         "xaxis": "x2",
         "y": {
          "bdata": "Ty0CQqWWMcE=",
          "dtype": "f4"
         },
         "yaxis": "y2"
        },
        {
         "legendgroup": "pred",
         "marker": {
          "color": "#98df8a",
          "size": 6
         },
         "mode": "markers",
         "name": "Pred Group 8",
         "showlegend": false,
         "type": "scatter",
         "x": {
          "bdata": "/XVUQt8pWEI=",
          "dtype": "f4"
         },
         "xaxis": "x2",
         "y": {
          "bdata": "NtGMwSTinsE=",
          "dtype": "f4"
         },
         "yaxis": "y2"
        },
        {
         "legendgroup": "pred",
         "marker": {
          "color": "#d62728",
          "size": 6
         },
         "mode": "markers",
         "name": "Pred Group 9",
         "showlegend": false,
         "type": "scatter",
         "x": {
          "bdata": "B8D7wD8Gur8=",
          "dtype": "f4"
         },
         "xaxis": "x2",
         "y": {
          "bdata": "ageCQlQoh0I=",
          "dtype": "f4"
         },
         "yaxis": "y2"
        },
        {
         "legendgroup": "pred",
         "marker": {
          "color": "#d62728",
          "size": 6
         },
         "mode": "markers",
         "name": "Pred Group 10",
         "showlegend": false,
         "type": "scatter",
         "x": {
          "bdata": "78Nawg60dsI=",
          "dtype": "f4"
         },
         "xaxis": "x2",
         "y": {
          "bdata": "KUf2wA7wksE=",
          "dtype": "f4"
         },
         "yaxis": "y2"
        },
        {
         "legendgroup": "pred",
         "marker": {
          "color": "#ff9896",
          "size": 6
         },
         "mode": "markers",
         "name": "Pred Group 11",
         "showlegend": false,
         "type": "scatter",
         "x": {
          "bdata": "O5tAQg==",
          "dtype": "f4"
         },
         "xaxis": "x2",
         "y": {
          "bdata": "bPzJQQ==",
          "dtype": "f4"
         },
         "yaxis": "y2"
        },
        {
         "legendgroup": "pred",
         "marker": {
          "color": "#9467bd",
          "size": 6
         },
         "mode": "markers",
         "name": "Pred Group 12",
         "showlegend": false,
         "type": "scatter",
         "x": {
          "bdata": "8J1FwA==",
          "dtype": "f4"
         },
         "xaxis": "x2",
         "y": {
          "bdata": "o7SFQg==",
          "dtype": "f4"
         },
         "yaxis": "y2"
        },
        {
         "legendgroup": "pred",
         "marker": {
          "color": "#9467bd",
          "size": 6
         },
         "mode": "markers",
         "name": "Pred Group 13",
         "showlegend": false,
         "type": "scatter",
         "x": {
          "bdata": "iTY0Qg==",
          "dtype": "f4"
         },
         "xaxis": "x2",
         "y": {
          "bdata": "bfjOQQ==",
          "dtype": "f4"
         },
         "yaxis": "y2"
        },
        {
         "legendgroup": "pred",
         "marker": {
          "color": "#c5b0d5",
          "size": 6
         },
         "mode": "markers",
         "name": "Pred Group 14",
         "showlegend": false,
         "type": "scatter",
         "x": {
          "bdata": "T/dIwg==",
          "dtype": "f4"
         },
         "xaxis": "x2",
         "y": {
          "bdata": "KFGxwA==",
          "dtype": "f4"
         },
         "yaxis": "y2"
        },
        {
         "legendgroup": "pred",
         "marker": {
          "color": "#8c564b",
          "size": 6
         },
         "mode": "markers",
         "name": "Pred Group 15",
         "showlegend": false,
         "type": "scatter",
         "x": {
          "bdata": "WkFrQg==",
          "dtype": "f4"
         },
         "xaxis": "x2",
         "y": {
          "bdata": "w2iFQQ==",
          "dtype": "f4"
         },
         "yaxis": "y2"
        },
        {
         "legendgroup": "pred",
         "marker": {
          "color": "#c49c94",
          "size": 6
         },
         "mode": "markers",
         "name": "Pred Group 16",
         "showlegend": false,
         "type": "scatter",
         "x": {
          "bdata": "haJDwg==",
          "dtype": "f4"
         },
         "xaxis": "x2",
         "y": {
          "bdata": "186UwA==",
          "dtype": "f4"
         },
         "yaxis": "y2"
        },
        {
         "legendgroup": "pred",
         "marker": {
          "color": "#c49c94",
          "size": 6
         },
         "mode": "markers",
         "name": "Pred Group 17",
         "showlegend": false,
         "type": "scatter",
         "x": {
          "bdata": "7IlaQg==",
          "dtype": "f4"
         },
         "xaxis": "x2",
         "y": {
          "bdata": "4nQDwQ==",
          "dtype": "f4"
         },
         "yaxis": "y2"
        },
        {
         "legendgroup": "pred",
         "marker": {
          "color": "#e377c2",
          "size": 6
         },
         "mode": "markers",
         "name": "Pred Group 18",
         "showlegend": false,
         "type": "scatter",
         "x": {
          "bdata": "4iBYQg==",
          "dtype": "f4"
         },
         "xaxis": "x2",
         "y": {
          "bdata": "qBiaQQ==",
          "dtype": "f4"
         },
         "yaxis": "y2"
        },
        {
         "legendgroup": "pred",
         "marker": {
          "color": "#f7b6d2",
          "size": 6
         },
         "mode": "markers",
         "name": "Pred Group 19",
         "showlegend": false,
         "type": "scatter",
         "x": {
          "bdata": "mO9hQg==",
          "dtype": "f4"
         },
         "xaxis": "x2",
         "y": {
          "bdata": "B/CbQQ==",
          "dtype": "f4"
         },
         "yaxis": "y2"
        },
        {
         "legendgroup": "pred",
         "marker": {
          "color": "#f7b6d2",
          "size": 6
         },
         "mode": "markers",
         "name": "Pred Group 20",
         "showlegend": false,
         "type": "scatter",
         "x": {
          "bdata": "Rr9cQg==",
          "dtype": "f4"
         },
         "xaxis": "x2",
         "y": {
          "bdata": "FZwZwQ==",
          "dtype": "f4"
         },
         "yaxis": "y2"
        },
        {
         "legendgroup": "pred",
         "marker": {
          "color": "#7f7f7f",
          "size": 6
         },
         "mode": "markers",
         "name": "Pred Group 21",
         "showlegend": false,
         "type": "scatter",
         "x": {
          "bdata": "z5F0wg==",
          "dtype": "f4"
         },
         "xaxis": "x2",
         "y": {
          "bdata": "4U+SwQ==",
          "dtype": "f4"
         },
         "yaxis": "y2"
        },
        {
         "legendgroup": "pred",
         "marker": {
          "color": "#c7c7c7",
          "size": 6
         },
         "mode": "markers",
         "name": "Pred Group 22",
         "showlegend": false,
         "type": "scatter",
         "x": {
          "bdata": "zjpLQg==",
          "dtype": "f4"
         },
         "xaxis": "x2",
         "y": {
          "bdata": "j4zCQQ==",
          "dtype": "f4"
         },
         "yaxis": "y2"
        },
        {
         "legendgroup": "pred",
         "marker": {
          "color": "#c7c7c7",
          "size": 6
         },
         "mode": "markers",
         "name": "Pred Group 23",
         "showlegend": false,
         "type": "scatter",
         "x": {
          "bdata": "GWOiQg==",
          "dtype": "f4"
         },
         "xaxis": "x2",
         "y": {
          "bdata": "jxDRPg==",
          "dtype": "f4"
         },
         "yaxis": "y2"
        },
        {
         "legendgroup": "pred",
         "marker": {
          "color": "#bcbd22",
          "size": 6
         },
         "mode": "markers",
         "name": "Pred Group 24",
         "showlegend": false,
         "type": "scatter",
         "x": {
          "bdata": "PqqlQg==",
          "dtype": "f4"
         },
         "xaxis": "x2",
         "y": {
          "bdata": "UyyTPw==",
          "dtype": "f4"
         },
         "yaxis": "y2"
        },
        {
         "legendgroup": "pred",
         "marker": {
          "color": "#dbdb8d",
          "size": 6
         },
         "mode": "markers",
         "name": "Pred Group 25",
         "showlegend": false,
         "type": "scatter",
         "x": {
          "bdata": "rX6dQg==",
          "dtype": "f4"
         },
         "xaxis": "x2",
         "y": {
          "bdata": "R90lvw==",
          "dtype": "f4"
         },
         "yaxis": "y2"
        },
        {
         "legendgroup": "pred",
         "marker": {
          "color": "#dbdb8d",
          "size": 6
         },
         "mode": "markers",
         "name": "Pred Group 26",
         "showlegend": false,
         "type": "scatter",
         "x": {
          "bdata": "o+CgQg==",
          "dtype": "f4"
         },
         "xaxis": "x2",
         "y": {
          "bdata": "3uI3vw==",
          "dtype": "f4"
         },
         "yaxis": "y2"
        },
        {
         "legendgroup": "pred",
         "marker": {
          "color": "#17becf",
          "size": 6
         },
         "mode": "markers",
         "name": "Pred Group 27",
         "showlegend": false,
         "type": "scatter",
         "x": {
          "bdata": "iNSgQg==",
          "dtype": "f4"
         },
         "xaxis": "x2",
         "y": {
          "bdata": "Dd/evw==",
          "dtype": "f4"
         },
         "yaxis": "y2"
        },
        {
         "legendgroup": "pred",
         "marker": {
          "color": "#9edae5",
          "size": 6
         },
         "mode": "markers",
         "name": "Pred Group 28",
         "showlegend": false,
         "type": "scatter",
         "x": {
          "bdata": "ooWjQg==",
          "dtype": "f4"
         },
         "xaxis": "x2",
         "y": {
          "bdata": "9PAJwA==",
          "dtype": "f4"
         },
         "yaxis": "y2"
        },
        {
         "legendgroup": "pred",
         "marker": {
          "color": "#9edae5",
          "size": 6
         },
         "mode": "markers",
         "name": "Pred Group 29",
         "showlegend": false,
         "type": "scatter",
         "x": {
          "bdata": "7qCnQg==",
          "dtype": "f4"
         },
         "xaxis": "x2",
         "y": {
          "bdata": "t5bUPw==",
          "dtype": "f4"
         },
         "yaxis": "y2"
        }
       ],
       "layout": {
        "annotations": [
         {
          "font": {
           "size": 16
          },
          "showarrow": false,
          "text": "Clusters of 2D Embeddings gt",
          "x": 0.225,
          "xanchor": "center",
          "xref": "paper",
          "y": 1,
          "yanchor": "bottom",
          "yref": "paper"
         },
         {
          "font": {
           "size": 16
          },
          "showarrow": false,
          "text": "Clusters of 2D Embeddings pred",
          "x": 0.775,
          "xanchor": "center",
          "xref": "paper",
          "y": 1,
          "yanchor": "bottom",
          "yref": "paper"
         }
        ],
        "height": 600,
        "showlegend": true,
        "template": {
         "data": {
          "bar": [
           {
            "error_x": {
             "color": "#2a3f5f"
            },
            "error_y": {
             "color": "#2a3f5f"
            },
            "marker": {
             "line": {
              "color": "#E5ECF6",
              "width": 0.5
             },
             "pattern": {
              "fillmode": "overlay",
              "size": 10,
              "solidity": 0.2
             }
            },
            "type": "bar"
           }
          ],
          "barpolar": [
           {
            "marker": {
             "line": {
              "color": "#E5ECF6",
              "width": 0.5
             },
             "pattern": {
              "fillmode": "overlay",
              "size": 10,
              "solidity": 0.2
             }
            },
            "type": "barpolar"
           }
          ],
          "carpet": [
           {
            "aaxis": {
             "endlinecolor": "#2a3f5f",
             "gridcolor": "white",
             "linecolor": "white",
             "minorgridcolor": "white",
             "startlinecolor": "#2a3f5f"
            },
            "baxis": {
             "endlinecolor": "#2a3f5f",
             "gridcolor": "white",
             "linecolor": "white",
             "minorgridcolor": "white",
             "startlinecolor": "#2a3f5f"
            },
            "type": "carpet"
           }
          ],
          "choropleth": [
           {
            "colorbar": {
             "outlinewidth": 0,
             "ticks": ""
            },
            "type": "choropleth"
           }
          ],
          "contour": [
           {
            "colorbar": {
             "outlinewidth": 0,
             "ticks": ""
            },
            "colorscale": [
             [
              0,
              "#0d0887"
             ],
             [
              0.1111111111111111,
              "#46039f"
             ],
             [
              0.2222222222222222,
              "#7201a8"
             ],
             [
              0.3333333333333333,
              "#9c179e"
             ],
             [
              0.4444444444444444,
              "#bd3786"
             ],
             [
              0.5555555555555556,
              "#d8576b"
             ],
             [
              0.6666666666666666,
              "#ed7953"
             ],
             [
              0.7777777777777778,
              "#fb9f3a"
             ],
             [
              0.8888888888888888,
              "#fdca26"
             ],
             [
              1,
              "#f0f921"
             ]
            ],
            "type": "contour"
           }
          ],
          "contourcarpet": [
           {
            "colorbar": {
             "outlinewidth": 0,
             "ticks": ""
            },
            "type": "contourcarpet"
           }
          ],
          "heatmap": [
           {
            "colorbar": {
             "outlinewidth": 0,
             "ticks": ""
            },
            "colorscale": [
             [
              0,
              "#0d0887"
             ],
             [
              0.1111111111111111,
              "#46039f"
             ],
             [
              0.2222222222222222,
              "#7201a8"
             ],
             [
              0.3333333333333333,
              "#9c179e"
             ],
             [
              0.4444444444444444,
              "#bd3786"
             ],
             [
              0.5555555555555556,
              "#d8576b"
             ],
             [
              0.6666666666666666,
              "#ed7953"
             ],
             [
              0.7777777777777778,
              "#fb9f3a"
             ],
             [
              0.8888888888888888,
              "#fdca26"
             ],
             [
              1,
              "#f0f921"
             ]
            ],
            "type": "heatmap"
           }
          ],
          "histogram": [
           {
            "marker": {
             "pattern": {
              "fillmode": "overlay",
              "size": 10,
              "solidity": 0.2
             }
            },
            "type": "histogram"
           }
          ],
          "histogram2d": [
           {
            "colorbar": {
             "outlinewidth": 0,
             "ticks": ""
            },
            "colorscale": [
             [
              0,
              "#0d0887"
             ],
             [
              0.1111111111111111,
              "#46039f"
             ],
             [
              0.2222222222222222,
              "#7201a8"
             ],
             [
              0.3333333333333333,
              "#9c179e"
             ],
             [
              0.4444444444444444,
              "#bd3786"
             ],
             [
              0.5555555555555556,
              "#d8576b"
             ],
             [
              0.6666666666666666,
              "#ed7953"
             ],
             [
              0.7777777777777778,
              "#fb9f3a"
             ],
             [
              0.8888888888888888,
              "#fdca26"
             ],
             [
              1,
              "#f0f921"
             ]
            ],
            "type": "histogram2d"
           }
          ],
          "histogram2dcontour": [
           {
            "colorbar": {
             "outlinewidth": 0,
             "ticks": ""
            },
            "colorscale": [
             [
              0,
              "#0d0887"
             ],
             [
              0.1111111111111111,
              "#46039f"
             ],
             [
              0.2222222222222222,
              "#7201a8"
             ],
             [
              0.3333333333333333,
              "#9c179e"
             ],
             [
              0.4444444444444444,
              "#bd3786"
             ],
             [
              0.5555555555555556,
              "#d8576b"
             ],
             [
              0.6666666666666666,
              "#ed7953"
             ],
             [
              0.7777777777777778,
              "#fb9f3a"
             ],
             [
              0.8888888888888888,
              "#fdca26"
             ],
             [
              1,
              "#f0f921"
             ]
            ],
            "type": "histogram2dcontour"
           }
          ],
          "mesh3d": [
           {
            "colorbar": {
             "outlinewidth": 0,
             "ticks": ""
            },
            "type": "mesh3d"
           }
          ],
          "parcoords": [
           {
            "line": {
             "colorbar": {
              "outlinewidth": 0,
              "ticks": ""
             }
            },
            "type": "parcoords"
           }
          ],
          "pie": [
           {
            "automargin": true,
            "type": "pie"
           }
          ],
          "scatter": [
           {
            "fillpattern": {
             "fillmode": "overlay",
             "size": 10,
             "solidity": 0.2
            },
            "type": "scatter"
           }
          ],
          "scatter3d": [
           {
            "line": {
             "colorbar": {
              "outlinewidth": 0,
              "ticks": ""
             }
            },
            "marker": {
             "colorbar": {
              "outlinewidth": 0,
              "ticks": ""
             }
            },
            "type": "scatter3d"
           }
          ],
          "scattercarpet": [
           {
            "marker": {
             "colorbar": {
              "outlinewidth": 0,
              "ticks": ""
             }
            },
            "type": "scattercarpet"
           }
          ],
          "scattergeo": [
           {
            "marker": {
             "colorbar": {
              "outlinewidth": 0,
              "ticks": ""
             }
            },
            "type": "scattergeo"
           }
          ],
          "scattergl": [
           {
            "marker": {
             "colorbar": {
              "outlinewidth": 0,
              "ticks": ""
             }
            },
            "type": "scattergl"
           }
          ],
          "scattermap": [
           {
            "marker": {
             "colorbar": {
              "outlinewidth": 0,
              "ticks": ""
             }
            },
            "type": "scattermap"
           }
          ],
          "scattermapbox": [
           {
            "marker": {
             "colorbar": {
              "outlinewidth": 0,
              "ticks": ""
             }
            },
            "type": "scattermapbox"
           }
          ],
          "scatterpolar": [
           {
            "marker": {
             "colorbar": {
              "outlinewidth": 0,
              "ticks": ""
             }
            },
            "type": "scatterpolar"
           }
          ],
          "scatterpolargl": [
           {
            "marker": {
             "colorbar": {
              "outlinewidth": 0,
              "ticks": ""
             }
            },
            "type": "scatterpolargl"
           }
          ],
          "scatterternary": [
           {
            "marker": {
             "colorbar": {
              "outlinewidth": 0,
              "ticks": ""
             }
            },
            "type": "scatterternary"
           }
          ],
          "surface": [
           {
            "colorbar": {
             "outlinewidth": 0,
             "ticks": ""
            },
            "colorscale": [
             [
              0,
              "#0d0887"
             ],
             [
              0.1111111111111111,
              "#46039f"
             ],
             [
              0.2222222222222222,
              "#7201a8"
             ],
             [
              0.3333333333333333,
              "#9c179e"
             ],
             [
              0.4444444444444444,
              "#bd3786"
             ],
             [
              0.5555555555555556,
              "#d8576b"
             ],
             [
              0.6666666666666666,
              "#ed7953"
             ],
             [
              0.7777777777777778,
              "#fb9f3a"
             ],
             [
              0.8888888888888888,
              "#fdca26"
             ],
             [
              1,
              "#f0f921"
             ]
            ],
            "type": "surface"
           }
          ],
          "table": [
           {
            "cells": {
             "fill": {
              "color": "#EBF0F8"
             },
             "line": {
              "color": "white"
             }
            },
            "header": {
             "fill": {
              "color": "#C8D4E3"
             },
             "line": {
              "color": "white"
             }
            },
            "type": "table"
           }
          ]
         },
         "layout": {
          "annotationdefaults": {
           "arrowcolor": "#2a3f5f",
           "arrowhead": 0,
           "arrowwidth": 1
          },
          "autotypenumbers": "strict",
          "coloraxis": {
           "colorbar": {
            "outlinewidth": 0,
            "ticks": ""
           }
          },
          "colorscale": {
           "diverging": [
            [
             0,
             "#8e0152"
            ],
            [
             0.1,
             "#c51b7d"
            ],
            [
             0.2,
             "#de77ae"
            ],
            [
             0.3,
             "#f1b6da"
            ],
            [
             0.4,
             "#fde0ef"
            ],
            [
             0.5,
             "#f7f7f7"
            ],
            [
             0.6,
             "#e6f5d0"
            ],
            [
             0.7,
             "#b8e186"
            ],
            [
             0.8,
             "#7fbc41"
            ],
            [
             0.9,
             "#4d9221"
            ],
            [
             1,
             "#276419"
            ]
           ],
           "sequential": [
            [
             0,
             "#0d0887"
            ],
            [
             0.1111111111111111,
             "#46039f"
            ],
            [
             0.2222222222222222,
             "#7201a8"
            ],
            [
             0.3333333333333333,
             "#9c179e"
            ],
            [
             0.4444444444444444,
             "#bd3786"
            ],
            [
             0.5555555555555556,
             "#d8576b"
            ],
            [
             0.6666666666666666,
             "#ed7953"
            ],
            [
             0.7777777777777778,
             "#fb9f3a"
            ],
            [
             0.8888888888888888,
             "#fdca26"
            ],
            [
             1,
             "#f0f921"
            ]
           ],
           "sequentialminus": [
            [
             0,
             "#0d0887"
            ],
            [
             0.1111111111111111,
             "#46039f"
            ],
            [
             0.2222222222222222,
             "#7201a8"
            ],
            [
             0.3333333333333333,
             "#9c179e"
            ],
            [
             0.4444444444444444,
             "#bd3786"
            ],
            [
             0.5555555555555556,
             "#d8576b"
            ],
            [
             0.6666666666666666,
             "#ed7953"
            ],
            [
             0.7777777777777778,
             "#fb9f3a"
            ],
            [
             0.8888888888888888,
             "#fdca26"
            ],
            [
             1,
             "#f0f921"
            ]
           ]
          },
          "colorway": [
           "#636efa",
           "#EF553B",
           "#00cc96",
           "#ab63fa",
           "#FFA15A",
           "#19d3f3",
           "#FF6692",
           "#B6E880",
           "#FF97FF",
           "#FECB52"
          ],
          "font": {
           "color": "#2a3f5f"
          },
          "geo": {
           "bgcolor": "white",
           "lakecolor": "white",
           "landcolor": "#E5ECF6",
           "showlakes": true,
           "showland": true,
           "subunitcolor": "white"
          },
          "hoverlabel": {
           "align": "left"
          },
          "hovermode": "closest",
          "mapbox": {
           "style": "light"
          },
          "paper_bgcolor": "white",
          "plot_bgcolor": "#E5ECF6",
          "polar": {
           "angularaxis": {
            "gridcolor": "white",
            "linecolor": "white",
            "ticks": ""
           },
           "bgcolor": "#E5ECF6",
           "radialaxis": {
            "gridcolor": "white",
            "linecolor": "white",
            "ticks": ""
           }
          },
          "scene": {
           "xaxis": {
            "backgroundcolor": "#E5ECF6",
            "gridcolor": "white",
            "gridwidth": 2,
            "linecolor": "white",
            "showbackground": true,
            "ticks": "",
            "zerolinecolor": "white"
           },
           "yaxis": {
            "backgroundcolor": "#E5ECF6",
            "gridcolor": "white",
            "gridwidth": 2,
            "linecolor": "white",
            "showbackground": true,
            "ticks": "",
            "zerolinecolor": "white"
           },
           "zaxis": {
            "backgroundcolor": "#E5ECF6",
            "gridcolor": "white",
            "gridwidth": 2,
            "linecolor": "white",
            "showbackground": true,
            "ticks": "",
            "zerolinecolor": "white"
           }
          },
          "shapedefaults": {
           "line": {
            "color": "#2a3f5f"
           }
          },
          "ternary": {
           "aaxis": {
            "gridcolor": "white",
            "linecolor": "white",
            "ticks": ""
           },
           "baxis": {
            "gridcolor": "white",
            "linecolor": "white",
            "ticks": ""
           },
           "bgcolor": "#E5ECF6",
           "caxis": {
            "gridcolor": "white",
            "linecolor": "white",
            "ticks": ""
           }
          },
          "title": {
           "x": 0.05
          },
          "xaxis": {
           "automargin": true,
           "gridcolor": "white",
           "linecolor": "white",
           "ticks": "",
           "title": {
            "standoff": 15
           },
           "zerolinecolor": "white",
           "zerolinewidth": 2
          },
          "yaxis": {
           "automargin": true,
           "gridcolor": "white",
           "linecolor": "white",
           "ticks": "",
           "title": {
            "standoff": 15
           },
           "zerolinecolor": "white",
           "zerolinewidth": 2
          }
         }
        },
        "title": {
         "text": "Cluster Comparison: Ground Truth vs Prediction"
        },
        "width": 1000,
        "xaxis": {
         "anchor": "y",
         "domain": [
          0,
          0.45
         ]
        },
        "xaxis2": {
         "anchor": "y2",
         "domain": [
          0.55,
          1
         ]
        },
        "yaxis": {
         "anchor": "x",
         "domain": [
          0,
          1
         ]
        },
        "yaxis2": {
         "anchor": "x2",
         "domain": [
          0,
          1
         ]
        }
       }
      }
     },
     "metadata": {},
     "output_type": "display_data"
    },
    {
     "data": {
      "text/plain": [
       "([[98,\n",
       "   103,\n",
       "   161,\n",
       "   75,\n",
       "   150,\n",
       "   364,\n",
       "   118,\n",
       "   71,\n",
       "   344,\n",
       "   407,\n",
       "   326,\n",
       "   282,\n",
       "   160,\n",
       "   84,\n",
       "   154,\n",
       "   415,\n",
       "   68,\n",
       "   412,\n",
       "   144,\n",
       "   122,\n",
       "   255,\n",
       "   338,\n",
       "   217,\n",
       "   319,\n",
       "   333,\n",
       "   102,\n",
       "   26,\n",
       "   182,\n",
       "   312,\n",
       "   377,\n",
       "   52,\n",
       "   187,\n",
       "   27,\n",
       "   337,\n",
       "   327,\n",
       "   142,\n",
       "   299,\n",
       "   111,\n",
       "   371,\n",
       "   179,\n",
       "   204,\n",
       "   390,\n",
       "   287,\n",
       "   153,\n",
       "   402,\n",
       "   169,\n",
       "   260,\n",
       "   119,\n",
       "   384,\n",
       "   149,\n",
       "   303,\n",
       "   269,\n",
       "   85,\n",
       "   355,\n",
       "   357,\n",
       "   170,\n",
       "   128,\n",
       "   86,\n",
       "   209,\n",
       "   311,\n",
       "   277,\n",
       "   107,\n",
       "   105,\n",
       "   155,\n",
       "   346,\n",
       "   127,\n",
       "   254,\n",
       "   125,\n",
       "   365,\n",
       "   341,\n",
       "   221,\n",
       "   267,\n",
       "   218,\n",
       "   115,\n",
       "   351,\n",
       "   362,\n",
       "   177,\n",
       "   321,\n",
       "   28,\n",
       "   185,\n",
       "   313,\n",
       "   353,\n",
       "   152,\n",
       "   214,\n",
       "   173,\n",
       "   352,\n",
       "   325,\n",
       "   136,\n",
       "   379,\n",
       "   278,\n",
       "   205,\n",
       "   411,\n",
       "   305,\n",
       "   112,\n",
       "   317,\n",
       "   283,\n",
       "   323,\n",
       "   320,\n",
       "   99,\n",
       "   272,\n",
       "   387,\n",
       "   124,\n",
       "   37,\n",
       "   340,\n",
       "   199,\n",
       "   172,\n",
       "   190,\n",
       "   367,\n",
       "   178,\n",
       "   176,\n",
       "   252,\n",
       "   297,\n",
       "   163,\n",
       "   280,\n",
       "   134,\n",
       "   335,\n",
       "   46,\n",
       "   6,\n",
       "   147,\n",
       "   116,\n",
       "   74,\n",
       "   329,\n",
       "   258,\n",
       "   181,\n",
       "   145,\n",
       "   372,\n",
       "   83,\n",
       "   70,\n",
       "   183,\n",
       "   66,\n",
       "   410,\n",
       "   386,\n",
       "   141,\n",
       "   109,\n",
       "   93,\n",
       "   328,\n",
       "   164,\n",
       "   381,\n",
       "   29,\n",
       "   165,\n",
       "   94,\n",
       "   251,\n",
       "   114,\n",
       "   334,\n",
       "   53,\n",
       "   48,\n",
       "   392,\n",
       "   1,\n",
       "   291,\n",
       "   294,\n",
       "   373,\n",
       "   55,\n",
       "   162,\n",
       "   314,\n",
       "   62,\n",
       "   133,\n",
       "   130,\n",
       "   15,\n",
       "   186,\n",
       "   257,\n",
       "   45,\n",
       "   219,\n",
       "   175,\n",
       "   227,\n",
       "   331,\n",
       "   406,\n",
       "   300,\n",
       "   308,\n",
       "   292,\n",
       "   216,\n",
       "   47,\n",
       "   41,\n",
       "   408,\n",
       "   405,\n",
       "   81,\n",
       "   210,\n",
       "   30,\n",
       "   413,\n",
       "   285,\n",
       "   302,\n",
       "   241,\n",
       "   259,\n",
       "   72,\n",
       "   226,\n",
       "   159,\n",
       "   397,\n",
       "   203,\n",
       "   80,\n",
       "   67,\n",
       "   18,\n",
       "   409,\n",
       "   42,\n",
       "   200,\n",
       "   11,\n",
       "   383,\n",
       "   358,\n",
       "   286,\n",
       "   339,\n",
       "   393,\n",
       "   266,\n",
       "   65,\n",
       "   394,\n",
       "   88,\n",
       "   361,\n",
       "   275,\n",
       "   295,\n",
       "   5,\n",
       "   44,\n",
       "   380,\n",
       "   167,\n",
       "   100,\n",
       "   168,\n",
       "   157,\n",
       "   370,\n",
       "   240,\n",
       "   43,\n",
       "   54,\n",
       "   245,\n",
       "   243,\n",
       "   250,\n",
       "   194,\n",
       "   403,\n",
       "   58,\n",
       "   39,\n",
       "   222,\n",
       "   69,\n",
       "   385,\n",
       "   110,\n",
       "   213,\n",
       "   336,\n",
       "   96,\n",
       "   139,\n",
       "   368,\n",
       "   117,\n",
       "   342,\n",
       "   225,\n",
       "   401,\n",
       "   307,\n",
       "   140,\n",
       "   101,\n",
       "   10,\n",
       "   21,\n",
       "   171,\n",
       "   343,\n",
       "   9,\n",
       "   398,\n",
       "   271,\n",
       "   242,\n",
       "   391,\n",
       "   120,\n",
       "   59,\n",
       "   61,\n",
       "   131,\n",
       "   180,\n",
       "   366,\n",
       "   189,\n",
       "   132,\n",
       "   4,\n",
       "   57,\n",
       "   262,\n",
       "   261,\n",
       "   78,\n",
       "   290,\n",
       "   158,\n",
       "   50,\n",
       "   363,\n",
       "   396,\n",
       "   288,\n",
       "   318,\n",
       "   348,\n",
       "   356,\n",
       "   360,\n",
       "   268,\n",
       "   230,\n",
       "   123,\n",
       "   274,\n",
       "   289,\n",
       "   389,\n",
       "   97,\n",
       "   316,\n",
       "   206,\n",
       "   36,\n",
       "   388,\n",
       "   104,\n",
       "   238,\n",
       "   281,\n",
       "   315,\n",
       "   273,\n",
       "   197,\n",
       "   135,\n",
       "   306,\n",
       "   106,\n",
       "   229,\n",
       "   284,\n",
       "   108,\n",
       "   293,\n",
       "   3,\n",
       "   253,\n",
       "   279,\n",
       "   60,\n",
       "   359,\n",
       "   17,\n",
       "   198,\n",
       "   304,\n",
       "   113,\n",
       "   404,\n",
       "   249,\n",
       "   309,\n",
       "   244,\n",
       "   395,\n",
       "   49,\n",
       "   195,\n",
       "   234,\n",
       "   23,\n",
       "   14,\n",
       "   73,\n",
       "   126,\n",
       "   91,\n",
       "   137,\n",
       "   354,\n",
       "   16,\n",
       "   223,\n",
       "   399,\n",
       "   196,\n",
       "   220,\n",
       "   376,\n",
       "   369,\n",
       "   22,\n",
       "   215,\n",
       "   188,\n",
       "   33,\n",
       "   92,\n",
       "   345,\n",
       "   374,\n",
       "   414,\n",
       "   95,\n",
       "   202,\n",
       "   207,\n",
       "   151,\n",
       "   148,\n",
       "   191,\n",
       "   31,\n",
       "   350,\n",
       "   263,\n",
       "   375,\n",
       "   121,\n",
       "   378,\n",
       "   347,\n",
       "   236],\n",
       "  [38, 212, 330, 0, 34, 208, 270, 56, 211, 231, 19, 228, 12],\n",
       "  [193, 192, 201, 146, 332, 166, 224, 382, 264, 82],\n",
       "  [35, 237, 2, 349, 232, 7],\n",
       "  [24, 20, 256, 51],\n",
       "  [233, 13, 239, 246],\n",
       "  [247, 322, 400],\n",
       "  [276, 235],\n",
       "  [40, 129],\n",
       "  [89, 87],\n",
       "  [248, 32],\n",
       "  [296],\n",
       "  [90],\n",
       "  [143],\n",
       "  [8],\n",
       "  [265],\n",
       "  [324],\n",
       "  [301],\n",
       "  [79],\n",
       "  [184],\n",
       "  [310],\n",
       "  [25],\n",
       "  [138],\n",
       "  [64],\n",
       "  [76],\n",
       "  [298],\n",
       "  [63],\n",
       "  [156],\n",
       "  [174],\n",
       "  [77]],\n",
       " Figure({\n",
       "     'data': [{'legendgroup': 'gt',\n",
       "               'marker': {'color': '#1f77b4', 'size': 6},\n",
       "               'mode': 'markers',\n",
       "               'name': 'GT Group 0',\n",
       "               'showlegend': False,\n",
       "               'type': 'scatter',\n",
       "               'x': {'bdata': 'Qvw2wmvntEFa80PCo8/LwX8E2UDDZ2bBWtXoQQ==', 'dtype': 'f4'},\n",
       "               'xaxis': 'x',\n",
       "               'y': {'bdata': '3XGpwSS++75B6jTCLms6QUHBO0KuFixBot9SwQ==', 'dtype': 'f4'},\n",
       "               'yaxis': 'y'},\n",
       "              {'legendgroup': 'gt',\n",
       "               'marker': {'color': '#1f77b4', 'size': 6},\n",
       "               'mode': 'markers',\n",
       "               'name': 'GT Group 1',\n",
       "               'showlegend': False,\n",
       "               'type': 'scatter',\n",
       "               'x': {'bdata': 'qYxMwU/3SMLCsn/Crsy1wYUZOsLCZULCjoqBwmUkPMI6Iu1BVEqawQ==', 'dtype': 'f4'},\n",
       "               'xaxis': 'x',\n",
       "               'y': {'bdata': 'AjIxQShRscDTqXvA7tUqws+/asGMSHXBJ5ftwBned8FtZKDBaqlJwg==', 'dtype': 'f4'},\n",
       "               'yaxis': 'y'},\n",
       "              {'legendgroup': 'gt',\n",
       "               'marker': {'color': '#1f77b4', 'size': 6},\n",
       "               'mode': 'markers',\n",
       "               'name': 'GT Group 2',\n",
       "               'showlegend': False,\n",
       "               'type': 'scatter',\n",
       "               'x': {'bdata': 'Ng9ywVJYfsGqkY3BeGmfQMQngcH3LnDAx6ENwcADR0I=', 'dtype': 'f4'},\n",
       "               'xaxis': 'x',\n",
       "               'y': {'bdata': 'NJM0wb8zFsEi0DDB2Is5Qp5/JcG9x3nAQd2Iwky1p8E=', 'dtype': 'f4'},\n",
       "               'yaxis': 'y'},\n",
       "              {'legendgroup': 'gt',\n",
       "               'marker': {'color': '#aec7e8', 'size': 6},\n",
       "               'mode': 'markers',\n",
       "               'name': 'GT Group 3',\n",
       "               'showlegend': False,\n",
       "               'type': 'scatter',\n",
       "               'x': {'bdata': 'z5F0wmBtRsEXRBTCKDjDwcKPc8Gj3NTBxjs2wg==', 'dtype': 'f4'},\n",
       "               'xaxis': 'x',\n",
       "               'y': {'bdata': '4U+SwfAuJkAPEeFAZAEXQVoZYMISAPXA3QCuwQ==', 'dtype': 'f4'},\n",
       "               'yaxis': 'y'},\n",
       "              {'legendgroup': 'gt',\n",
       "               'marker': {'color': '#aec7e8', 'size': 6},\n",
       "               'mode': 'markers',\n",
       "               'name': 'GT Group 4',\n",
       "               'showlegend': False,\n",
       "               'type': 'scatter',\n",
       "               'x': {'bdata': 'DrR2wsSkQ8KzW0XCEOxCwj4wScLsjTxC9mf7wA==', 'dtype': 'f4'},\n",
       "               'xaxis': 'x',\n",
       "               'y': {'bdata': 'DvCSwcLHN8IGjijCvBInwi68JsLnwAdBUoCHwg==', 'dtype': 'f4'},\n",
       "               'yaxis': 'y'},\n",
       "              {'legendgroup': 'gt',\n",
       "               'marker': {'color': '#ff7f0e', 'size': 6},\n",
       "               'mode': 'markers',\n",
       "               'name': 'GT Group 5',\n",
       "               'showlegend': False,\n",
       "               'type': 'scatter',\n",
       "               'x': {'bdata': 'Yex7Qf11VEI=', 'dtype': 'f4'},\n",
       "               'xaxis': 'x',\n",
       "               'y': {'bdata': 'o1DTwTbRjME=', 'dtype': 'f4'},\n",
       "               'yaxis': 'y'},\n",
       "              {'legendgroup': 'gt',\n",
       "               'marker': {'color': '#ff7f0e', 'size': 6},\n",
       "               'mode': 'markers',\n",
       "               'name': 'GT Group 6',\n",
       "               'showlegend': False,\n",
       "               'type': 'scatter',\n",
       "               'x': {'bdata': 'AKi9wVYIJME=', 'dtype': 'f4'},\n",
       "               'xaxis': 'x',\n",
       "               'y': {'bdata': 'uz2BQvgFfUI=', 'dtype': 'f4'},\n",
       "               'yaxis': 'y'},\n",
       "              {'legendgroup': 'gt',\n",
       "               'marker': {'color': '#ff7f0e', 'size': 6},\n",
       "               'mode': 'markers',\n",
       "               'name': 'GT Group 7',\n",
       "               'showlegend': False,\n",
       "               'type': 'scatter',\n",
       "               'x': {'bdata': 'ikzXQcOqkEBcNevB0VbJQUM3lsDULc1BHkAcQo/Dr8H6dU5CPz+3P826isE=', 'dtype': 'f4'},\n",
       "               'xaxis': 'x',\n",
       "               'y': {'bdata': 'tNHIwTMTGcJabBHBfsZMwb2yp8Gwlo9BNbTVwZD6cEKPpLvBJjkOwiJUOsI=', 'dtype': 'f4'},\n",
       "               'yaxis': 'y'},\n",
       "              {'legendgroup': 'gt',\n",
       "               'marker': {'color': '#ffbb78', 'size': 6},\n",
       "               'mode': 'markers',\n",
       "               'name': 'GT Group 8',\n",
       "               'showlegend': False,\n",
       "               'type': 'scatter',\n",
       "               'x': {'bdata': 'tfBjwQNYkkHnF7pBoHMWQsZog8E=', 'dtype': 'f4'},\n",
       "               'xaxis': 'x',\n",
       "               'y': {'bdata': 'bnQEwkVc+MFXVgnCnWK/wTvg7cE=', 'dtype': 'f4'},\n",
       "               'yaxis': 'y'},\n",
       "              {'legendgroup': 'gt',\n",
       "               'marker': {'color': '#ffbb78', 'size': 6},\n",
       "               'mode': 'markers',\n",
       "               'name': 'GT Group 9',\n",
       "               'showlegend': False,\n",
       "               'type': 'scatter',\n",
       "               'x': {'bdata': 'd2QeQlJlGUJIBhBB', 'dtype': 'f4'},\n",
       "               'xaxis': 'x',\n",
       "               'y': {'bdata': 'RGyqwUB4EMIBsAhC', 'dtype': 'f4'},\n",
       "               'yaxis': 'y'},\n",
       "              {'legendgroup': 'gt',\n",
       "               'marker': {'color': '#2ca02c', 'size': 6},\n",
       "               'mode': 'markers',\n",
       "               'name': 'GT Group 10',\n",
       "               'showlegend': False,\n",
       "               'type': 'scatter',\n",
       "               'x': {'bdata': '3LI9waPgoEIZY6JC', 'dtype': 'f4'},\n",
       "               'xaxis': 'x',\n",
       "               'y': {'bdata': 'oPlgwt7iN7+PENE+', 'dtype': 'f4'},\n",
       "               'yaxis': 'y'},\n",
       "              {'legendgroup': 'gt',\n",
       "               'marker': {'color': '#2ca02c', 'size': 6},\n",
       "               'mode': 'markers',\n",
       "               'name': 'GT Group 11',\n",
       "               'showlegend': False,\n",
       "               'type': 'scatter',\n",
       "               'x': {'bdata': 'EAP6wf1opkG7MhBCCk/lwQ==', 'dtype': 'f4'},\n",
       "               'xaxis': 'x',\n",
       "               'y': {'bdata': '4dErwbOViEHBYrJASYMJwQ==', 'dtype': 'f4'},\n",
       "               'yaxis': 'y'},\n",
       "              {'legendgroup': 'gt',\n",
       "               'marker': {'color': '#98df8a', 'size': 6},\n",
       "               'mode': 'markers',\n",
       "               'name': 'GT Group 12',\n",
       "               'showlegend': False,\n",
       "               'type': 'scatter',\n",
       "               'x': {'bdata': '2MUXwmnEa0CIhYlBgBVWQpDVGMJCN59B', 'dtype': 'f4'},\n",
       "               'xaxis': 'x',\n",
       "               'y': {'bdata': 'DvBYQYzmE8KqShnBOXi8vwNnA0EhJ9DB', 'dtype': 'f4'},\n",
       "               'yaxis': 'y'},\n",
       "              {'legendgroup': 'gt',\n",
       "               'marker': {'color': '#98df8a', 'size': 6},\n",
       "               'mode': 'markers',\n",
       "               'name': 'GT Group 13',\n",
       "               'showlegend': False,\n",
       "               'type': 'scatter',\n",
       "               'x': {'bdata': 'FEOKQT6qpULuoKdCXjoKwOIgWEIbnPxBUOZUQp/1JUI/a+lBt+BBwCdcFEKVWGFC', 'dtype': 'f4'},\n",
       "               'xaxis': 'x',\n",
       "               'y': {'bdata': 'Z+zVQFMskz+3ltQ/pgw2wqgYmkGrkpxBnU4IwKB7G0Lgp73BZIcawtTMTEGBGDtB', 'dtype': 'f4'},\n",
       "               'yaxis': 'y'},\n",
       "              {'legendgroup': 'gt',\n",
       "               'marker': {'color': '#98df8a', 'size': 6},\n",
       "               'mode': 'markers',\n",
       "               'name': 'GT Group 14',\n",
       "               'showlegend': False,\n",
       "               'type': 'scatter',\n",
       "               'x': {'bdata': 'Pwa6v+dLDsEHwPvA8J1FwBhw0MGsUBVB', 'dtype': 'f4'},\n",
       "               'xaxis': 'x',\n",
       "               'y': {'bdata': 'VCiHQhM6YUJqB4JCo7SFQs6SEULoPWpC', 'dtype': 'f4'},\n",
       "               'yaxis': 'y'},\n",
       "              {'legendgroup': 'gt',\n",
       "               'marker': {'color': '#d62728', 'size': 6},\n",
       "               'mode': 'markers',\n",
       "               'name': 'GT Group 15',\n",
       "               'showlegend': False,\n",
       "               'type': 'scatter',\n",
       "               'x': {'bdata': 'YGaAwRUpIcGVdxLAgcoGQY4uM8HzZndBDyf7wQ==', 'dtype': 'f4'},\n",
       "               'xaxis': 'x',\n",
       "               'y': {'bdata': '8UBqQjUaX0KfX4ZCluhiQkUde0I2ratAxNAcQg==', 'dtype': 'f4'},\n",
       "               'yaxis': 'y'},\n",
       "              {'legendgroup': 'gt',\n",
       "               'marker': {'color': '#d62728', 'size': 6},\n",
       "               'mode': 'markers',\n",
       "               'name': 'GT Group 16',\n",
       "               'showlegend': False,\n",
       "               'type': 'scatter',\n",
       "               'x': {'bdata': 'LGLHwcdS80ATdj3BihmDQZ94HcJJbDHB', 'dtype': 'f4'},\n",
       "               'xaxis': 'x',\n",
       "               'y': {'bdata': 'oagaQnJY8j8sIFpCJGpPQbqRDEJ9ckxC', 'dtype': 'f4'},\n",
       "               'yaxis': 'y'},\n",
       "              {'legendgroup': 'gt',\n",
       "               'marker': {'color': '#ff9896', 'size': 6},\n",
       "               'mode': 'markers',\n",
       "               'name': 'GT Group 17',\n",
       "               'showlegend': False,\n",
       "               'type': 'scatter',\n",
       "               'x': {'bdata': 'GH2LwWCPt8H2naS/V2avwWkLXEE6S25B6+h2wcJqFME=', 'dtype': 'f4'},\n",
       "               'xaxis': 'x',\n",
       "               'y': {'bdata': 'dKJjQsu9z8FE2mhCDOIIQnE3m0Gw7ZNBs9WjQRfbf0I=', 'dtype': 'f4'},\n",
       "               'yaxis': 'y'},\n",
       "              {'legendgroup': 'gt',\n",
       "               'marker': {'color': '#ff9896', 'size': 6},\n",
       "               'mode': 'markers',\n",
       "               'name': 'GT Group 18',\n",
       "               'showlegend': False,\n",
       "               'type': 'scatter',\n",
       "               'x': {'bdata': '5dSWQUqoBUJA34nBm6+7wYEbn8Hi4KjBNrytwQ==', 'dtype': 'f4'},\n",
       "               'xaxis': 'x',\n",
       "               'y': {'bdata': 'XptMQdCWI0B7aGxCaSeCQpgMjUGAhnFCrBf5QQ==', 'dtype': 'f4'},\n",
       "               'yaxis': 'y'},\n",
       "              {'legendgroup': 'gt',\n",
       "               'marker': {'color': '#ff9896', 'size': 6},\n",
       "               'mode': 'markers',\n",
       "               'name': 'GT Group 19',\n",
       "               'showlegend': False,\n",
       "               'type': 'scatter',\n",
       "               'x': {'bdata': 'UFKUwRUpDMLAm/5ATJ4aQupZkcE=', 'dtype': 'f4'},\n",
       "               'xaxis': 'x',\n",
       "               'y': {'bdata': 'cyNEwklbiEDIe2VCunIuQW3zbUI=', 'dtype': 'f4'},\n",
       "               'yaxis': 'y'},\n",
       "              {'legendgroup': 'gt',\n",
       "               'marker': {'color': '#9467bd', 'size': 6},\n",
       "               'mode': 'markers',\n",
       "               'name': 'GT Group 20',\n",
       "               'showlegend': False,\n",
       "               'type': 'scatter',\n",
       "               'x': {'bdata': 'WS9dwQ==', 'dtype': 'f4'},\n",
       "               'xaxis': 'x',\n",
       "               'y': {'bdata': 'ymtSQg==', 'dtype': 'f4'},\n",
       "               'yaxis': 'y'},\n",
       "              {'legendgroup': 'gt',\n",
       "               'marker': {'color': '#9467bd', 'size': 6},\n",
       "               'mode': 'markers',\n",
       "               'name': 'GT Group 21',\n",
       "               'showlegend': False,\n",
       "               'type': 'scatter',\n",
       "               'x': {'bdata': '1qcLwr0stcE=', 'dtype': 'f4'},\n",
       "               'xaxis': 'x',\n",
       "               'y': {'bdata': 'yPsmQsq61ME=', 'dtype': 'f4'},\n",
       "               'yaxis': 'y'},\n",
       "              {'legendgroup': 'gt',\n",
       "               'marker': {'color': '#c5b0d5', 'size': 6},\n",
       "               'mode': 'markers',\n",
       "               'name': 'GT Group 22',\n",
       "               'showlegend': False,\n",
       "               'type': 'scatter',\n",
       "               'x': {'bdata': '3ylYQrBF8EDmIAFCBEJmwA==', 'dtype': 'f4'},\n",
       "               'xaxis': 'x',\n",
       "               'y': {'bdata': 'JOKewevx/8DCEhrCqf7JwA==', 'dtype': 'f4'},\n",
       "               'yaxis': 'y'},\n",
       "              {'legendgroup': 'gt',\n",
       "               'marker': {'color': '#c5b0d5', 'size': 6},\n",
       "               'mode': 'markers',\n",
       "               'name': 'GT Group 23',\n",
       "               'showlegend': False,\n",
       "               'type': 'scatter',\n",
       "               'x': {'bdata': ('/doowiSxDMIPAUzCJ+iqwTAjM8LOOk' ... 'H8w7TB1y/mQN+ZnkGNKRDCV+3HQQ=='),\n",
       "                     'dtype': 'f4'},\n",
       "               'xaxis': 'x',\n",
       "               'y': {'bdata': ('nsRAQjliD0ITZJxAiv+1QUD3u0GPjM' ... 'J2XgpCv8trQnvag0G/eRZA7iPMwQ=='),\n",
       "                     'dtype': 'f4'},\n",
       "               'yaxis': 'y'},\n",
       "              {'legendgroup': 'gt',\n",
       "               'marker': {'color': '#8c564b', 'size': 6},\n",
       "               'mode': 'markers',\n",
       "               'name': 'GT Group 24',\n",
       "               'showlegend': False,\n",
       "               'type': 'scatter',\n",
       "               'x': {'bdata': 'lS2MQUwz9EGZbV1BBLlbQojUoEKPtmtCDGsswitPD8HW0NrBjo5RwSpzQEBroENC', 'dtype': 'f4'},\n",
       "               'xaxis': 'x',\n",
       "               'y': {'bdata': '/eHawX5ki0EwaI5A7Cg+QA3f3r+ywnRBextCQjLrSMKAyBhBjAs2QMR/CMIfFw5B', 'dtype': 'f4'},\n",
       "               'yaxis': 'y'},\n",
       "              {'legendgroup': 'gt',\n",
       "               'marker': {'color': '#8c564b', 'size': 6},\n",
       "               'mode': 'markers',\n",
       "               'name': 'GT Group 25',\n",
       "               'showlegend': False,\n",
       "               'type': 'scatter',\n",
       "               'x': {'bdata': 'RLl6QVn+N0Lay1dCEgGEQQbVWUKtSkZCMToowHcYTkJvzy5CSlazwKKFo0LWaShC', 'dtype': 'f4'},\n",
       "               'xaxis': 'x',\n",
       "               'y': {'bdata': 'ZaONwfsHcMABcaBBRs9Owd4zSkG9lhBBfIs3wnDDp8HRBKnAFyY6QfTwCcCsXs7A', 'dtype': 'f4'},\n",
       "               'yaxis': 'y'},\n",
       "              {'legendgroup': 'gt',\n",
       "               'marker': {'color': '#8c564b', 'size': 6},\n",
       "               'mode': 'markers',\n",
       "               'name': 'GT Group 26',\n",
       "               'showlegend': False,\n",
       "               'type': 'scatter',\n",
       "               'x': {'bdata': 'BBSxweyN8UEgMljAXXWCQTnyV0LX71tCJluQQU1nO0KY72FCyjw0QketNUI=', 'dtype': 'f4'},\n",
       "               'xaxis': 'x',\n",
       "               'y': {'bdata': 's0DEwfH5g0GSgyPCipVowa2vdUEEnkhBcenUwWM2+r8H8JtBa/OHwA+1wsA=', 'dtype': 'f4'},\n",
       "               'yaxis': 'y'},\n",
       "              {'legendgroup': 'gt',\n",
       "               'marker': {'color': '#c49c94', 'size': 6},\n",
       "               'mode': 'markers',\n",
       "               'name': 'GT Group 27',\n",
       "               'showlegend': False,\n",
       "               'type': 'scatter',\n",
       "               'x': {'bdata': 'wNOoQbkFJsKq4KjBQTGAQQhjD0IaI1tCdfNNQp2TUcE=', 'dtype': 'f4'},\n",
       "               'xaxis': 'x',\n",
       "               'y': {'bdata': 'TRw2QEm3P0KtFVLCDhPJwf/9bEHFk+jAOSP1wERCAEI=', 'dtype': 'f4'},\n",
       "               'yaxis': 'y'},\n",
       "              {'legendgroup': 'gt',\n",
       "               'marker': {'color': '#c49c94', 'size': 6},\n",
       "               'mode': 'markers',\n",
       "               'name': 'GT Group 28',\n",
       "               'showlegend': False,\n",
       "               'type': 'scatter',\n",
       "               'x': {'bdata': ('X+UbwrsdiMKFRsHBEdQTQgvNCsIZOr' ... 'BCnppVwfJCLkK+I1jAe31rwXg8UsE='),\n",
       "                     'dtype': 'f4'},\n",
       "               'xaxis': 'x',\n",
       "               'y': {'bdata': ('CtC4QDZhy8FsZPRBAkgpQDDOFEIdp/' ... 'HCi4BuwnuZ/MEAhrBAqQRCwtJIAkI='),\n",
       "                     'dtype': 'f4'},\n",
       "               'yaxis': 'y'},\n",
       "              {'legendgroup': 'gt',\n",
       "               'marker': {'color': '#e377c2', 'size': 6},\n",
       "               'mode': 'markers',\n",
       "               'name': 'GT Group 29',\n",
       "               'showlegend': False,\n",
       "               'type': 'scatter',\n",
       "               'x': {'bdata': ('Cs5RwdJDJz87cevBc7iVQLas5sGiyA' ... 'xAWkI5QhaCO79CinjB7RbTwV75p8A='),\n",
       "                     'dtype': 'f4'},\n",
       "               'xaxis': 'x',\n",
       "               'y': {'bdata': ('9tBzwrvXq8HQ/SZCubjpQVfnK0L+JD' ... 'JCpEoTwsuKaEIb4e/AqaQXQghfh8I='),\n",
       "                     'dtype': 'f4'},\n",
       "               'yaxis': 'y'},\n",
       "              {'legendgroup': 'gt',\n",
       "               'marker': {'color': '#e377c2', 'size': 6},\n",
       "               'mode': 'markers',\n",
       "               'name': 'GT Group 30',\n",
       "               'showlegend': False,\n",
       "               'type': 'scatter',\n",
       "               'x': {'bdata': '0w5wwpRdesL1WnXC7rN9wg==', 'dtype': 'f4'},\n",
       "               'xaxis': 'x',\n",
       "               'y': {'bdata': 'GxfpwEJivcBT1KjA68zRwA==', 'dtype': 'f4'},\n",
       "               'yaxis': 'y'},\n",
       "              {'legendgroup': 'gt',\n",
       "               'marker': {'color': '#e377c2', 'size': 6},\n",
       "               'mode': 'markers',\n",
       "               'name': 'GT Group 31',\n",
       "               'showlegend': False,\n",
       "               'type': 'scatter',\n",
       "               'x': {'bdata': 'm119wlpEhcI9JYXCR1Vwwm5FZsI=', 'dtype': 'f4'},\n",
       "               'xaxis': 'x',\n",
       "               'y': {'bdata': 'vj+VwQoxO8GlljHBYv0LwaeV68A=', 'dtype': 'f4'},\n",
       "               'yaxis': 'y'},\n",
       "              {'legendgroup': 'gt',\n",
       "               'marker': {'color': '#f7b6d2', 'size': 6},\n",
       "               'mode': 'markers',\n",
       "               'name': 'GT Group 32',\n",
       "               'showlegend': False,\n",
       "               'type': 'scatter',\n",
       "               'x': {'bdata': ('u+iEwjCmj8JJZ4vC2aWOwYhzjcIqN9' ... 'KVxYHCmxqiQahBZUGoLyTCng16QQ=='),\n",
       "                     'dtype': 'f4'},\n",
       "               'xaxis': 'x',\n",
       "               'y': {'bdata': ('xfSewTTZucEJ9L7Bk2VXwoldx8Gq6M' ... 'DDsZfBZQtFQdnY1kAJRr8+8Ef8wQ=='),\n",
       "                     'dtype': 'f4'},\n",
       "               'yaxis': 'y'},\n",
       "              {'legendgroup': 'gt',\n",
       "               'marker': {'color': '#f7b6d2', 'size': 6},\n",
       "               'mode': 'markers',\n",
       "               'name': 'GT Group 33',\n",
       "               'showlegend': False,\n",
       "               'type': 'scatter',\n",
       "               'x': {'bdata': 'OjC1QTLlvsBlRBlCiyQOQvvQ5UEjAIBBhxu9wA==', 'dtype': 'f4'},\n",
       "               'xaxis': 'x',\n",
       "               'y': {'bdata': 'qgEvQLS3oED5IaTBol5hQHR0wcEMofZBeNCBQA==', 'dtype': 'f4'},\n",
       "               'yaxis': 'y'},\n",
       "              {'legendgroup': 'gt',\n",
       "               'marker': {'color': '#7f7f7f', 'size': 6},\n",
       "               'mode': 'markers',\n",
       "               'name': 'GT Group 34',\n",
       "               'showlegend': False,\n",
       "               'type': 'scatter',\n",
       "               'x': {'bdata': ('7X1fQPDpH8LWz33AnJ5PQlpBa0Jnu6' ... 'MpQhsKm8BzqdtAY+W6P/1T5sDZ+8vB'),\n",
       "                     'dtype': 'f4'},\n",
       "               'xaxis': 'x',\n",
       "               'y': {'bdata': ('s6sMQt1DC0IYRlFB2RO0QcNohUFZUR' ... '7OQdNGAcHM2AdCTy0CQqNOvkBc+C1B'),\n",
       "                     'dtype': 'f4'},\n",
       "               'yaxis': 'y'},\n",
       "              {'legendgroup': 'gt',\n",
       "               'marker': {'color': '#7f7f7f', 'size': 6},\n",
       "               'mode': 'markers',\n",
       "               'name': 'GT Group 35',\n",
       "               'showlegend': False,\n",
       "               'type': 'scatter',\n",
       "               'x': {'bdata': 'nIEDQvnkRUFwJ/K/GxaDQZQO6sD8ZFjAE3CXQJFi8kBV7LTBO4oawcMDnEE=', 'dtype': 'f4'},\n",
       "               'xaxis': 'x',\n",
       "               'y': {'bdata': '89BbP+y460FR6xFCozh7QJBzRUGNDhNCBQQCQgjoC0IDXYBB8VihQR96GUI=', 'dtype': 'f4'},\n",
       "               'yaxis': 'y'},\n",
       "              {'legendgroup': 'gt',\n",
       "               'marker': {'color': '#c7c7c7', 'size': 6},\n",
       "               'mode': 'markers',\n",
       "               'name': 'GT Group 36',\n",
       "               'showlegend': False,\n",
       "               'type': 'scatter',\n",
       "               'x': {'bdata': 'op8uwnZsVMEDbwvBePzzwYeRNMK9WRpCO5tAQqiFuMA=', 'dtype': 'f4'},\n",
       "               'xaxis': 'x',\n",
       "               'y': {'bdata': 'TGRHwWB+ZMKIgKFBuewWQp5rV8ENfGZBbPzJQfPpLEA=', 'dtype': 'f4'},\n",
       "               'yaxis': 'y'},\n",
       "              {'legendgroup': 'gt',\n",
       "               'marker': {'color': '#c7c7c7', 'size': 6},\n",
       "               'mode': 'markers',\n",
       "               'name': 'GT Group 37',\n",
       "               'showlegend': False,\n",
       "               'type': 'scatter',\n",
       "               'x': {'bdata': 'rX6dQgLoh0E58jjA7IlaQlYt9sGdIY7Bd8u9wKQ6isEqVRnC+ny5QQ==', 'dtype': 'f4'},\n",
       "               'xaxis': 'x',\n",
       "               'y': {'bdata': 'R90lv3vtgkGzRb3A4nQDwVNBJMHornxBt+6mwWM8n0EKhQ/COprWvw==', 'dtype': 'f4'},\n",
       "               'yaxis': 'y'},\n",
       "              {'legendgroup': 'gt',\n",
       "               'marker': {'color': '#c7c7c7', 'size': 6},\n",
       "               'mode': 'markers',\n",
       "               'name': 'GT Group 38',\n",
       "               'showlegend': False,\n",
       "               'type': 'scatter',\n",
       "               'x': {'bdata': '7PSUQd1UMkJGv1xCss4SQTs5B8IayVtCJ70TwnyQOEIXtzDC', 'dtype': 'f4'},\n",
       "               'xaxis': 'x',\n",
       "               'y': {'bdata': 'NX7mQPgVHUIVnBnBns/BPz21IEJgN2NAhN1LQYLlHkIXtsVB', 'dtype': 'f4'},\n",
       "               'yaxis': 'y'},\n",
       "              {'legendgroup': 'gt',\n",
       "               'marker': {'color': '#bcbd22', 'size': 6},\n",
       "               'mode': 'markers',\n",
       "               'name': 'GT Group 39',\n",
       "               'showlegend': False,\n",
       "               'type': 'scatter',\n",
       "               'x': {'bdata': ('+X/pQaYjK0KAViHCKyhuwRsgIUH8tS' ... 'pBnsKAQWgrV8JE3UnB8dlowZySAkI='),\n",
       "                     'dtype': 'f4'},\n",
       "               'xaxis': 'x',\n",
       "               'y': {'bdata': ('lUCUQXz/G0JmNQs/fxxRQCnsPkHpB2' ... 'nBHtWDwabWMUAYxJ5BmHDLQXgTiEE='),\n",
       "                     'dtype': 'f4'},\n",
       "               'yaxis': 'y'},\n",
       "              {'legendgroup': 'gt',\n",
       "               'marker': {'color': '#bcbd22', 'size': 6},\n",
       "               'mode': 'markers',\n",
       "               'name': 'GT Group 40',\n",
       "               'showlegend': False,\n",
       "               'type': 'scatter',\n",
       "               'x': {'bdata': 'NwQbwttaEsLxU1nC3qgHwhpy0EG9UBzCfIKJwS5ZO8IVnhdAc2rDPsxECMJCblDCDsVXvw==', 'dtype': 'f4'},\n",
       "               'xaxis': 'x',\n",
       "               'y': {'bdata': '5HIHws2d3T+p0RhAH7aFQEG+CsLyigDCxsIFwoc2i8FzFw3CSIDkwJgGzkDKxYVAzFKFwQ==', 'dtype': 'f4'},\n",
       "               'yaxis': 'y'},\n",
       "              {'legendgroup': 'gt',\n",
       "               'marker': {'color': '#dbdb8d', 'size': 6},\n",
       "               'mode': 'markers',\n",
       "               'name': 'GT Group 41',\n",
       "               'showlegend': False,\n",
       "               'type': 'scatter',\n",
       "               'x': {'bdata': 'Zh8awuXorb+RdPTBdMjJwOkbxcCNtSRC', 'dtype': 'f4'},\n",
       "               'xaxis': 'x',\n",
       "               'y': {'bdata': 'f0YMwruFkcG7wPtAwF+EwunvgsIVJq3B', 'dtype': 'f4'},\n",
       "               'yaxis': 'y'},\n",
       "              {'legendgroup': 'gt',\n",
       "               'marker': {'color': '#dbdb8d', 'size': 6},\n",
       "               'mode': 'markers',\n",
       "               'name': 'GT Group 42',\n",
       "               'showlegend': False,\n",
       "               'type': 'scatter',\n",
       "               'x': {'bdata': 'SpnuQFxLhMEfCpjBwHWGweTBgUHFdoZB7/cgQigYb8FSmgBCieWDQd0fSUE=', 'dtype': 'f4'},\n",
       "               'xaxis': 'x',\n",
       "               'y': {'bdata': 'M/44QlemdEIQHJZB2iZlQSeu6EEcedZBT2SYwZRVJUGCaRzCmTzdQd3a30E=', 'dtype': 'f4'},\n",
       "               'yaxis': 'y'},\n",
       "              {'legendgroup': 'gt',\n",
       "               'marker': {'color': '#dbdb8d', 'size': 6},\n",
       "               'mode': 'markers',\n",
       "               'name': 'GT Group 43',\n",
       "               'showlegend': False,\n",
       "               'type': 'scatter',\n",
       "               'x': {'bdata': 'OyvkQJDma0JKqpfB2kKdwUiQFkLXx5/AMzLCwA==', 'dtype': 'f4'},\n",
       "               'xaxis': 'x',\n",
       "               'y': {'bdata': 'ICjXwJFrVkF8O37Cqfp/wqzwQEGdkk7CLldKwg==', 'dtype': 'f4'},\n",
       "               'yaxis': 'y'},\n",
       "              {'legendgroup': 'gt',\n",
       "               'marker': {'color': '#17becf', 'size': 6},\n",
       "               'mode': 'markers',\n",
       "               'name': 'GT Group 44',\n",
       "               'showlegend': False,\n",
       "               'type': 'scatter',\n",
       "               'x': {'bdata': ('GFD9QNC+qL9elDNCWe5QQgNZAsFk1w' ... 'FQ9oLBXRY/wVVGGkIwRoDBScQYQg=='),\n",
       "                     'dtype': 'f4'},\n",
       "               'xaxis': 'x',\n",
       "               'y': {'bdata': ('qKoawfotL8KszPbBCGOiwVBGRMK/LL' ... 'IizPLB4RNAwlU0AcK9hwHCto3FwQ=='),\n",
       "                     'dtype': 'f4'},\n",
       "               'yaxis': 'y'},\n",
       "              {'legendgroup': 'gt',\n",
       "               'marker': {'color': '#17becf', 'size': 6},\n",
       "               'mode': 'markers',\n",
       "               'name': 'GT Group 45',\n",
       "               'showlegend': False,\n",
       "               'type': 'scatter',\n",
       "               'x': {'bdata': 'deYaQlvMpMHTb2rBplnjQVW0MsDPsxpC/5gWQg==', 'dtype': 'f4'},\n",
       "               'xaxis': 'x',\n",
       "               'y': {'bdata': 'y9sMwsAmgcKXaTvCVJhRwd/ltsH3j/fBPO0Awg==', 'dtype': 'f4'},\n",
       "               'yaxis': 'y'},\n",
       "              {'legendgroup': 'gt',\n",
       "               'marker': {'color': '#9edae5', 'size': 6},\n",
       "               'mode': 'markers',\n",
       "               'name': 'GT Group 46',\n",
       "               'showlegend': False,\n",
       "               'type': 'scatter',\n",
       "               'x': {'bdata': 'LXixwSbhc0FgC/JABMOoQaFnvsE=', 'dtype': 'f4'},\n",
       "               'xaxis': 'x',\n",
       "               'y': {'bdata': 'ookswizUQUFB5w9CEwQSQrNIeEE=', 'dtype': 'f4'},\n",
       "               'yaxis': 'y'},\n",
       "              {'legendgroup': 'gt',\n",
       "               'marker': {'color': '#9edae5', 'size': 6},\n",
       "               'mode': 'markers',\n",
       "               'name': 'GT Group 47',\n",
       "               'showlegend': False,\n",
       "               'type': 'scatter',\n",
       "               'x': {'bdata': 'n8C/wAdSH8E=', 'dtype': 'f4'},\n",
       "               'xaxis': 'x',\n",
       "               'y': {'bdata': 'RoMQQTMJG0A=', 'dtype': 'f4'},\n",
       "               'yaxis': 'y'},\n",
       "              {'legendgroup': 'gt',\n",
       "               'marker': {'color': '#9edae5', 'size': 6},\n",
       "               'mode': 'markers',\n",
       "               'name': 'GT Group 48',\n",
       "               'showlegend': False,\n",
       "               'type': 'scatter',\n",
       "               'x': {'bdata': 'ss+MQehZN0LmVqBB', 'dtype': 'f4'},\n",
       "               'xaxis': 'x',\n",
       "               'y': {'bdata': 'rNrdP+n2HELJ5RBA', 'dtype': 'f4'},\n",
       "               'yaxis': 'y'},\n",
       "              {'legendgroup': 'pred',\n",
       "               'marker': {'color': '#1f77b4', 'size': 6},\n",
       "               'mode': 'markers',\n",
       "               'name': 'Pred Group 0',\n",
       "               'showlegend': False,\n",
       "               'type': 'scatter',\n",
       "               'x': {'bdata': ('82Z3QYoZg0GOjlHBFEOKQY0pEMIfCp' ... 'BKqpfBUFKUwdfHn8AactBBR1Vwwg=='),\n",
       "                     'dtype': 'f4'},\n",
       "               'xaxis': 'x2',\n",
       "               'y': {'bdata': ('Nq2rQCRqT0GMCzZAZ+zVQL95FkAQHJ' ... 'F8O37CcyNEwp2STsJBvgrCYv0LwQ=='),\n",
       "                     'dtype': 'f4'},\n",
       "               'yaxis': 'y2'},\n",
       "              {'legendgroup': 'pred',\n",
       "               'marker': {'color': '#1f77b4', 'size': 6},\n",
       "               'mode': 'markers',\n",
       "               'name': 'Pred Group 1',\n",
       "               'showlegend': False,\n",
       "               'type': 'scatter',\n",
       "               'x': {'bdata': '9mf7wArOUcH6l6HBQvw2wrNbRcLyQi5C9+pBwOcXukF4PFLB9Vp1wqqRjcFe+afAwmVCwg==', 'dtype': 'f4'},\n",
       "               'xaxis': 'x2',\n",
       "               'y': {'bdata': 'UoCHwvbQc8KgRPBB3XGpwQaOKMJ7mfzBHb1eQVdWCcLSSAJCU9SowCLQMMEIX4fCjEh1wQ==', 'dtype': 'f4'},\n",
       "               'yaxis': 'y2'},\n",
       "              {'legendgroup': 'pred',\n",
       "               'marker': {'color': '#aec7e8', 'size': 6},\n",
       "               'mode': 'markers',\n",
       "               'name': 'Pred Group 2',\n",
       "               'showlegend': False,\n",
       "               'type': 'scatter',\n",
       "               'x': {'bdata': 'dfNNQhojW0LPCUNCDmm1Qf8CN0Lay1dCWkI5Ql6UM0Kcnk9Cn/UlQg==', 'dtype': 'f4'},\n",
       "               'xaxis': 'x2',\n",
       "               'y': {'bdata': 'OSP1wMWT6MCqzsdBPUEPQs2oEcIBcaBBpEoTwqzM9sHZE7RBoHsbQg==', 'dtype': 'f4'},\n",
       "               'yaxis': 'y2'},\n",
       "              {'legendgroup': 'pred',\n",
       "               'marker': {'color': '#ff7f0e', 'size': 6},\n",
       "               'mode': 'markers',\n",
       "               'name': 'Pred Group 3',\n",
       "               'showlegend': False,\n",
       "               'type': 'scatter',\n",
       "               'x': {'bdata': 'EOxCwm5FZsJa80PCfIKJwe6zfcKpjEzB', 'dtype': 'f4'},\n",
       "               'xaxis': 'x2',\n",
       "               'y': {'bdata': 'vBInwqeV68BB6jTCxsIFwuvM0cACMjFB', 'dtype': 'f4'},\n",
       "               'yaxis': 'y2'},\n",
       "              {'legendgroup': 'pred',\n",
       "               'marker': {'color': '#ff7f0e', 'size': 6},\n",
       "               'mode': 'markers',\n",
       "               'name': 'Pred Group 4',\n",
       "               'showlegend': False,\n",
       "               'type': 'scatter',\n",
       "               'x': {'bdata': 'wANHQnhpn0BlRBlC+nVOQg==', 'dtype': 'f4'},\n",
       "               'xaxis': 'x2',\n",
       "               'y': {'bdata': 'TLWnwdiLOUL5IaTBj6S7wQ==', 'dtype': 'f4'},\n",
       "               'yaxis': 'y2'},\n",
       "              {'legendgroup': 'pred',\n",
       "               'marker': {'color': '#ffbb78', 'size': 6},\n",
       "               'mode': 'markers',\n",
       "               'name': 'Pred Group 5',\n",
       "               'showlegend': False,\n",
       "               'type': 'scatter',\n",
       "               'x': {'bdata': 'm119wo6KgcIwpo/Ck4Ndwg==', 'dtype': 'f4'},\n",
       "               'xaxis': 'x2',\n",
       "               'y': {'bdata': 'vj+VwSeX7cA02bnBLRH1wA==', 'dtype': 'f4'},\n",
       "               'yaxis': 'y2'},\n",
       "              {'legendgroup': 'pred',\n",
       "               'marker': {'color': '#2ca02c', 'size': 6},\n",
       "               'mode': 'markers',\n",
       "               'name': 'Pred Group 6',\n",
       "               'showlegend': False,\n",
       "               'type': 'scatter',\n",
       "               'x': {'bdata': '9RlLwvy1KsJbzKTB', 'dtype': 'f4'},\n",
       "               'xaxis': 'x2',\n",
       "               'y': {'bdata': 'se+7wOkHYr7AJoHC', 'dtype': 'f4'},\n",
       "               'yaxis': 'y2'},\n",
       "              {'legendgroup': 'pred',\n",
       "               'marker': {'color': '#2ca02c', 'size': 6},\n",
       "               'mode': 'markers',\n",
       "               'name': 'Pred Group 7',\n",
       "               'showlegend': False,\n",
       "               'type': 'scatter',\n",
       "               'x': {'bdata': 'Y+W6Pz0lhcI=', 'dtype': 'f4'},\n",
       "               'xaxis': 'x2',\n",
       "               'y': {'bdata': 'Ty0CQqWWMcE=', 'dtype': 'f4'},\n",
       "               'yaxis': 'y2'},\n",
       "              {'legendgroup': 'pred',\n",
       "               'marker': {'color': '#98df8a', 'size': 6},\n",
       "               'mode': 'markers',\n",
       "               'name': 'Pred Group 8',\n",
       "               'showlegend': False,\n",
       "               'type': 'scatter',\n",
       "               'x': {'bdata': '/XVUQt8pWEI=', 'dtype': 'f4'},\n",
       "               'xaxis': 'x2',\n",
       "               'y': {'bdata': 'NtGMwSTinsE=', 'dtype': 'f4'},\n",
       "               'yaxis': 'y2'},\n",
       "              {'legendgroup': 'pred',\n",
       "               'marker': {'color': '#d62728', 'size': 6},\n",
       "               'mode': 'markers',\n",
       "               'name': 'Pred Group 9',\n",
       "               'showlegend': False,\n",
       "               'type': 'scatter',\n",
       "               'x': {'bdata': 'B8D7wD8Gur8=', 'dtype': 'f4'},\n",
       "               'xaxis': 'x2',\n",
       "               'y': {'bdata': 'ageCQlQoh0I=', 'dtype': 'f4'},\n",
       "               'yaxis': 'y2'},\n",
       "              {'legendgroup': 'pred',\n",
       "               'marker': {'color': '#d62728', 'size': 6},\n",
       "               'mode': 'markers',\n",
       "               'name': 'Pred Group 10',\n",
       "               'showlegend': False,\n",
       "               'type': 'scatter',\n",
       "               'x': {'bdata': '78Nawg60dsI=', 'dtype': 'f4'},\n",
       "               'xaxis': 'x2',\n",
       "               'y': {'bdata': 'KUf2wA7wksE=', 'dtype': 'f4'},\n",
       "               'yaxis': 'y2'},\n",
       "              {'legendgroup': 'pred',\n",
       "               'marker': {'color': '#ff9896', 'size': 6},\n",
       "               'mode': 'markers',\n",
       "               'name': 'Pred Group 11',\n",
       "               'showlegend': False,\n",
       "               'type': 'scatter',\n",
       "               'x': {'bdata': 'O5tAQg==', 'dtype': 'f4'},\n",
       "               'xaxis': 'x2',\n",
       "               'y': {'bdata': 'bPzJQQ==', 'dtype': 'f4'},\n",
       "               'yaxis': 'y2'},\n",
       "              {'legendgroup': 'pred',\n",
       "               'marker': {'color': '#9467bd', 'size': 6},\n",
       "               'mode': 'markers',\n",
       "               'name': 'Pred Group 12',\n",
       "               'showlegend': False,\n",
       "               'type': 'scatter',\n",
       "               'x': {'bdata': '8J1FwA==', 'dtype': 'f4'},\n",
       "               'xaxis': 'x2',\n",
       "               'y': {'bdata': 'o7SFQg==', 'dtype': 'f4'},\n",
       "               'yaxis': 'y2'},\n",
       "              {'legendgroup': 'pred',\n",
       "               'marker': {'color': '#9467bd', 'size': 6},\n",
       "               'mode': 'markers',\n",
       "               'name': 'Pred Group 13',\n",
       "               'showlegend': False,\n",
       "               'type': 'scatter',\n",
       "               'x': {'bdata': 'iTY0Qg==', 'dtype': 'f4'},\n",
       "               'xaxis': 'x2',\n",
       "               'y': {'bdata': 'bfjOQQ==', 'dtype': 'f4'},\n",
       "               'yaxis': 'y2'},\n",
       "              {'legendgroup': 'pred',\n",
       "               'marker': {'color': '#c5b0d5', 'size': 6},\n",
       "               'mode': 'markers',\n",
       "               'name': 'Pred Group 14',\n",
       "               'showlegend': False,\n",
       "               'type': 'scatter',\n",
       "               'x': {'bdata': 'T/dIwg==', 'dtype': 'f4'},\n",
       "               'xaxis': 'x2',\n",
       "               'y': {'bdata': 'KFGxwA==', 'dtype': 'f4'},\n",
       "               'yaxis': 'y2'},\n",
       "              {'legendgroup': 'pred',\n",
       "               'marker': {'color': '#8c564b', 'size': 6},\n",
       "               'mode': 'markers',\n",
       "               'name': 'Pred Group 15',\n",
       "               'showlegend': False,\n",
       "               'type': 'scatter',\n",
       "               'x': {'bdata': 'WkFrQg==', 'dtype': 'f4'},\n",
       "               'xaxis': 'x2',\n",
       "               'y': {'bdata': 'w2iFQQ==', 'dtype': 'f4'},\n",
       "               'yaxis': 'y2'},\n",
       "              {'legendgroup': 'pred',\n",
       "               'marker': {'color': '#c49c94', 'size': 6},\n",
       "               'mode': 'markers',\n",
       "               'name': 'Pred Group 16',\n",
       "               'showlegend': False,\n",
       "               'type': 'scatter',\n",
       "               'x': {'bdata': 'haJDwg==', 'dtype': 'f4'},\n",
       "               'xaxis': 'x2',\n",
       "               'y': {'bdata': '186UwA==', 'dtype': 'f4'},\n",
       "               'yaxis': 'y2'},\n",
       "              {'legendgroup': 'pred',\n",
       "               'marker': {'color': '#c49c94', 'size': 6},\n",
       "               'mode': 'markers',\n",
       "               'name': 'Pred Group 17',\n",
       "               'showlegend': False,\n",
       "               'type': 'scatter',\n",
       "               'x': {'bdata': '7IlaQg==', 'dtype': 'f4'},\n",
       "               'xaxis': 'x2',\n",
       "               'y': {'bdata': '4nQDwQ==', 'dtype': 'f4'},\n",
       "               'yaxis': 'y2'},\n",
       "              {'legendgroup': 'pred',\n",
       "               'marker': {'color': '#e377c2', 'size': 6},\n",
       "               'mode': 'markers',\n",
       "               'name': 'Pred Group 18',\n",
       "               'showlegend': False,\n",
       "               'type': 'scatter',\n",
       "               'x': {'bdata': '4iBYQg==', 'dtype': 'f4'},\n",
       "               'xaxis': 'x2',\n",
       "               'y': {'bdata': 'qBiaQQ==', 'dtype': 'f4'},\n",
       "               'yaxis': 'y2'},\n",
       "              {'legendgroup': 'pred',\n",
       "               'marker': {'color': '#f7b6d2', 'size': 6},\n",
       "               'mode': 'markers',\n",
       "               'name': 'Pred Group 19',\n",
       "               'showlegend': False,\n",
       "               'type': 'scatter',\n",
       "               'x': {'bdata': 'mO9hQg==', 'dtype': 'f4'},\n",
       "               'xaxis': 'x2',\n",
       "               'y': {'bdata': 'B/CbQQ==', 'dtype': 'f4'},\n",
       "               'yaxis': 'y2'},\n",
       "              {'legendgroup': 'pred',\n",
       "               'marker': {'color': '#f7b6d2', 'size': 6},\n",
       "               'mode': 'markers',\n",
       "               'name': 'Pred Group 20',\n",
       "               'showlegend': False,\n",
       "               'type': 'scatter',\n",
       "               'x': {'bdata': 'Rr9cQg==', 'dtype': 'f4'},\n",
       "               'xaxis': 'x2',\n",
       "               'y': {'bdata': 'FZwZwQ==', 'dtype': 'f4'},\n",
       "               'yaxis': 'y2'},\n",
       "              {'legendgroup': 'pred',\n",
       "               'marker': {'color': '#7f7f7f', 'size': 6},\n",
       "               'mode': 'markers',\n",
       "               'name': 'Pred Group 21',\n",
       "               'showlegend': False,\n",
       "               'type': 'scatter',\n",
       "               'x': {'bdata': 'z5F0wg==', 'dtype': 'f4'},\n",
       "               'xaxis': 'x2',\n",
       "               'y': {'bdata': '4U+SwQ==', 'dtype': 'f4'},\n",
       "               'yaxis': 'y2'},\n",
       "              {'legendgroup': 'pred',\n",
       "               'marker': {'color': '#c7c7c7', 'size': 6},\n",
       "               'mode': 'markers',\n",
       "               'name': 'Pred Group 22',\n",
       "               'showlegend': False,\n",
       "               'type': 'scatter',\n",
       "               'x': {'bdata': 'zjpLQg==', 'dtype': 'f4'},\n",
       "               'xaxis': 'x2',\n",
       "               'y': {'bdata': 'j4zCQQ==', 'dtype': 'f4'},\n",
       "               'yaxis': 'y2'},\n",
       "              {'legendgroup': 'pred',\n",
       "               'marker': {'color': '#c7c7c7', 'size': 6},\n",
       "               'mode': 'markers',\n",
       "               'name': 'Pred Group 23',\n",
       "               'showlegend': False,\n",
       "               'type': 'scatter',\n",
       "               'x': {'bdata': 'GWOiQg==', 'dtype': 'f4'},\n",
       "               'xaxis': 'x2',\n",
       "               'y': {'bdata': 'jxDRPg==', 'dtype': 'f4'},\n",
       "               'yaxis': 'y2'},\n",
       "              {'legendgroup': 'pred',\n",
       "               'marker': {'color': '#bcbd22', 'size': 6},\n",
       "               'mode': 'markers',\n",
       "               'name': 'Pred Group 24',\n",
       "               'showlegend': False,\n",
       "               'type': 'scatter',\n",
       "               'x': {'bdata': 'PqqlQg==', 'dtype': 'f4'},\n",
       "               'xaxis': 'x2',\n",
       "               'y': {'bdata': 'UyyTPw==', 'dtype': 'f4'},\n",
       "               'yaxis': 'y2'},\n",
       "              {'legendgroup': 'pred',\n",
       "               'marker': {'color': '#dbdb8d', 'size': 6},\n",
       "               'mode': 'markers',\n",
       "               'name': 'Pred Group 25',\n",
       "               'showlegend': False,\n",
       "               'type': 'scatter',\n",
       "               'x': {'bdata': 'rX6dQg==', 'dtype': 'f4'},\n",
       "               'xaxis': 'x2',\n",
       "               'y': {'bdata': 'R90lvw==', 'dtype': 'f4'},\n",
       "               'yaxis': 'y2'},\n",
       "              {'legendgroup': 'pred',\n",
       "               'marker': {'color': '#dbdb8d', 'size': 6},\n",
       "               'mode': 'markers',\n",
       "               'name': 'Pred Group 26',\n",
       "               'showlegend': False,\n",
       "               'type': 'scatter',\n",
       "               'x': {'bdata': 'o+CgQg==', 'dtype': 'f4'},\n",
       "               'xaxis': 'x2',\n",
       "               'y': {'bdata': '3uI3vw==', 'dtype': 'f4'},\n",
       "               'yaxis': 'y2'},\n",
       "              {'legendgroup': 'pred',\n",
       "               'marker': {'color': '#17becf', 'size': 6},\n",
       "               'mode': 'markers',\n",
       "               'name': 'Pred Group 27',\n",
       "               'showlegend': False,\n",
       "               'type': 'scatter',\n",
       "               'x': {'bdata': 'iNSgQg==', 'dtype': 'f4'},\n",
       "               'xaxis': 'x2',\n",
       "               'y': {'bdata': 'Dd/evw==', 'dtype': 'f4'},\n",
       "               'yaxis': 'y2'},\n",
       "              {'legendgroup': 'pred',\n",
       "               'marker': {'color': '#9edae5', 'size': 6},\n",
       "               'mode': 'markers',\n",
       "               'name': 'Pred Group 28',\n",
       "               'showlegend': False,\n",
       "               'type': 'scatter',\n",
       "               'x': {'bdata': 'ooWjQg==', 'dtype': 'f4'},\n",
       "               'xaxis': 'x2',\n",
       "               'y': {'bdata': '9PAJwA==', 'dtype': 'f4'},\n",
       "               'yaxis': 'y2'},\n",
       "              {'legendgroup': 'pred',\n",
       "               'marker': {'color': '#9edae5', 'size': 6},\n",
       "               'mode': 'markers',\n",
       "               'name': 'Pred Group 29',\n",
       "               'showlegend': False,\n",
       "               'type': 'scatter',\n",
       "               'x': {'bdata': '7qCnQg==', 'dtype': 'f4'},\n",
       "               'xaxis': 'x2',\n",
       "               'y': {'bdata': 't5bUPw==', 'dtype': 'f4'},\n",
       "               'yaxis': 'y2'}],\n",
       "     'layout': {'annotations': [{'font': {'size': 16},\n",
       "                                 'showarrow': False,\n",
       "                                 'text': 'Clusters of 2D Embeddings gt',\n",
       "                                 'x': 0.225,\n",
       "                                 'xanchor': 'center',\n",
       "                                 'xref': 'paper',\n",
       "                                 'y': 1.0,\n",
       "                                 'yanchor': 'bottom',\n",
       "                                 'yref': 'paper'},\n",
       "                                {'font': {'size': 16},\n",
       "                                 'showarrow': False,\n",
       "                                 'text': 'Clusters of 2D Embeddings pred',\n",
       "                                 'x': 0.775,\n",
       "                                 'xanchor': 'center',\n",
       "                                 'xref': 'paper',\n",
       "                                 'y': 1.0,\n",
       "                                 'yanchor': 'bottom',\n",
       "                                 'yref': 'paper'}],\n",
       "                'height': 600,\n",
       "                'showlegend': True,\n",
       "                'template': '...',\n",
       "                'title': {'text': 'Cluster Comparison: Ground Truth vs Prediction'},\n",
       "                'width': 1000,\n",
       "                'xaxis': {'anchor': 'y', 'domain': [0.0, 0.45]},\n",
       "                'xaxis2': {'anchor': 'y2', 'domain': [0.55, 1.0]},\n",
       "                'yaxis': {'anchor': 'x', 'domain': [0.0, 1.0]},\n",
       "                'yaxis2': {'anchor': 'x2', 'domain': [0.0, 1.0]}}\n",
       " }),\n",
       " {'random score': 0.30583873957367935,\n",
       "  'adjusted random score': 0.0006858571860166991},\n",
       " 0.9700760491081921)"
      ]
     },
     "execution_count": 4,
     "metadata": {},
     "output_type": "execute_result"
    }
   ],
   "source": [
    "model = SentenceTransformer(\"models/tsdae-model\")\n",
    "test_model(model)"
   ]
  },
  {
   "cell_type": "markdown",
   "id": "1f4d6f2e",
   "metadata": {},
   "source": [
    "## Trained with SimCSE"
   ]
  },
  {
   "cell_type": "code",
   "execution_count": 5,
   "id": "0d644fd5",
   "metadata": {},
   "outputs": [
    {
     "name": "stderr",
     "output_type": "stream",
     "text": [
      "You try to use a model that was created with version 4.1.0, however, your version is 3.2.1. This might cause unexpected behavior or errors. In that case, try to update to the latest version.\n",
      "\n",
      "\n",
      "\n",
      "Batches: 100%|██████████| 7/7 [00:00<00:00, 15.52it/s]\n",
      "Batches: 100%|██████████| 7/7 [00:00<00:00, 28.31it/s]\n",
      "Batches: 100%|██████████| 7/7 [00:00<00:00, 27.54it/s]\n",
      "Batches: 100%|██████████| 7/7 [00:00<00:00, 24.41it/s]\n",
      "Batches: 100%|██████████| 7/7 [00:00<00:00, 22.84it/s]\n",
      "Batches: 100%|██████████| 7/7 [00:00<00:00, 24.33it/s]\n",
      "Batches: 100%|██████████| 7/7 [00:00<00:00, 22.26it/s]\n",
      "Batches: 100%|██████████| 7/7 [00:00<00:00, 23.30it/s]\n",
      "Batches: 100%|██████████| 7/7 [00:00<00:00, 23.31it/s]\n",
      "Batches: 100%|██████████| 7/7 [00:00<00:00, 22.41it/s]\n",
      "Batches: 100%|██████████| 7/7 [00:00<00:00, 20.68it/s]\n",
      "Batches: 100%|██████████| 7/7 [00:00<00:00, 22.35it/s]\n",
      "Batches: 100%|██████████| 7/7 [00:00<00:00, 22.81it/s]\n",
      "Batches: 100%|██████████| 7/7 [00:00<00:00, 22.46it/s]\n",
      "Batches: 100%|██████████| 7/7 [00:00<00:00, 20.89it/s]\n",
      "Batches: 100%|██████████| 7/7 [00:00<00:00, 22.53it/s]\n",
      "Batches: 100%|██████████| 7/7 [00:00<00:00, 19.81it/s]\n",
      "Batches: 100%|██████████| 7/7 [00:00<00:00, 22.70it/s]\n",
      "Batches: 100%|██████████| 7/7 [00:00<00:00, 25.48it/s]\n",
      "Batches: 100%|██████████| 7/7 [00:00<00:00, 24.34it/s]\n",
      "Batches: 100%|██████████| 7/7 [00:00<00:00, 22.30it/s]\n",
      "Batches: 100%|██████████| 7/7 [00:00<00:00, 18.60it/s]\n",
      "Batches: 100%|██████████| 7/7 [00:00<00:00, 16.79it/s]\n",
      "Batches: 100%|██████████| 7/7 [00:00<00:00, 14.80it/s]\n",
      "Batches: 100%|██████████| 7/7 [00:00<00:00, 19.93it/s]\n",
      "Batches: 100%|██████████| 7/7 [00:00<00:00, 19.01it/s]\n",
      "Batches: 100%|██████████| 7/7 [00:00<00:00, 15.70it/s]\n",
      "Batches: 100%|██████████| 7/7 [00:00<00:00, 20.63it/s]\n",
      "Batches: 100%|██████████| 7/7 [00:00<00:00, 17.62it/s]\n",
      "Batches: 100%|██████████| 7/7 [00:00<00:00, 15.76it/s]\n"
     ]
    },
    {
     "name": "stdout",
     "output_type": "stream",
     "text": [
      "('Best Threshold: 0.9885195787265367;\\n'\n",
      " \"Best scores: {'random score': 0.4067075996292864, 'adjusted random score': \"\n",
      " '0.004150057551833144};\\n'\n",
      " 'Best clusters: [[378, 9, 49, 415, 355, 286, 404, 408, 279, 184, 271, 261, '\n",
      " '410, 277, 43, 10, 107, 365, 61, 158, 47, 360, 325, 46, 403, 205, 362, 44, '\n",
      " '391, 85, 18, 380, 48, 352, 133, 4, 399, 255, 56, 152, 218, 357, 361, 293, '\n",
      " '372, 280, 38, 195, 111, 346, 252, 386, 348, 177, 246, 363, 136, 171, 366, '\n",
      " '388, 212, 359, 226, 263, 295, 318, 266, 242, 155, 395, 256, 267, 314, 259, '\n",
      " '15, 412, 24, 60, 209, 220, 273, 245, 0, 257, 236, 1, 13, 189, 197, 340, 131, '\n",
      " '42, 203, 270, 188, 153, 405, 150, 7, 21, 162, 202, 345, 258, 5, 320, 398, '\n",
      " '210, 33, 297, 160, 241, 301, 161, 151, 282, 55, 28, 159, 303, 272, 354, 294, '\n",
      " '409, 296, 292, 200, 230, 169, 149, 278, 382, 290, 214, 141, 232, 104, 198, '\n",
      " '276, 298, 106, 251, 396, 387, 2, 414, 11, 274, 344, 199, 240, 103, 217, 229, '\n",
      " '371, 14, 41, 351, 187, 323, 356, 102, 134, 268, 353, 97, 309, 120, 142, 3, '\n",
      " '238, 26, 110, 145, 59, 146, 289, 375, 62, 83, 113, 130, 335, 288, 6, 114, '\n",
      " '99, 331, 52, 402, 376, 231, 377, 81, 411, 123, 369, 93, 368, 12, 317, 22, '\n",
      " '109, 334, 364, 163, 392, 32, 308, 139, 172, 82, 140, 406, 88, 225, 105, 254, '\n",
      " '237, 336, 180, 27, 25, 367, 164, 291, 94, 370, 393, 19, 53, 264, 319, 154, '\n",
      " '216, 143, 138, 250, 20, 322, 124, 30, 213, 118, 269, 283, 36, 313, 285, 112, '\n",
      " '228, 227, 306, 275, 206, 39, 379, 304, 34, 381, 330, 147, 74, 98, 31, 50, '\n",
      " '23, 182, 262, 96, 321, 92, 307, 347, 35, 215, 305, 374, 70, 122, 249, 80, '\n",
      " '338, 144, 390, 223, 343, 401, 100, 339, 287, 207, 95, 89, 284, 108, 219, '\n",
      " '253, 132, 315, 222, 66, 57, 126, 208, 166, 244, 384, 51, 247, 221, 192, 397, '\n",
      " '342, 385, 239, 73, 117, 341, 326, 243, 316], [233, 248, 235, 234, 137, 204, '\n",
      " '328, 170, 281, 121, 260, 115, 329], [71, 63, 167, 181, 174, 311, 86, 179, '\n",
      " '76, 8], [90, 72, 116, 176, 183, 125, 119, 358], [310, 193, 65, 168, 175, '\n",
      " '178], [191, 194, 101, 400, 148], [87, 16, 211, 350], [337, 383, 300], [45, '\n",
      " '78, 157], [327, 77, 156], [128, 173], [407, 127], [333, 413], [190, 302], '\n",
      " '[68, 224], [332, 265], [165, 312], [58, 394], [389], [185], [135], [84], '\n",
      " '[196], [129], [373], [54], [201], [29], [75], [64], [17], [349], [79], '\n",
      " '[299], [67], [37], [324], [69], [91], [40], [186]]')\n"
     ]
    },
    {
     "data": {
      "application/vnd.plotly.v1+json": {
       "config": {
        "plotlyServerURL": "https://plot.ly"
       },
       "data": [
        {
         "legendgroup": "gt",
         "marker": {
          "color": "#1f77b4",
          "size": 6
         },
         "mode": "markers",
         "name": "GT Group 0",
         "showlegend": false,
         "type": "scatter",
         "x": {
          "bdata": "lryZQf6LtUHZ4ARCCIP/wCxIzMEl9iVBjuMswQ==",
          "dtype": "f4"
         },
         "xaxis": "x",
         "y": {
          "bdata": "y1yWwPHCacBe2Ck/NoTRQBRJxcG4qStAztaFQg==",
          "dtype": "f4"
         },
         "yaxis": "y"
        },
        {
         "legendgroup": "gt",
         "marker": {
          "color": "#1f77b4",
          "size": 6
         },
         "mode": "markers",
         "name": "GT Group 1",
         "showlegend": false,
         "type": "scatter",
         "x": {
          "bdata": "jvQWwrIrOEHCEc/BYoLHwW/MF8KyOYLBAXiaQXKyH0IrdTbB7DsZQg==",
          "dtype": "f4"
         },
         "xaxis": "x",
         "y": {
          "bdata": "kb6LwVRFFsJQZZpAz9CkQMwaj8HK399Bw8//wTUO10DRlwjBGSgFQg==",
          "dtype": "f4"
         },
         "yaxis": "y"
        },
        {
         "legendgroup": "gt",
         "marker": {
          "color": "#1f77b4",
          "size": 6
         },
         "mode": "markers",
         "name": "GT Group 2",
         "showlegend": false,
         "type": "scatter",
         "x": {
          "bdata": "EiCOP7BOjMHsZ/VBgpb5QWw0k8ElIqU9vE+CwX47aME=",
          "dtype": "f4"
         },
         "xaxis": "x",
         "y": {
          "bdata": "iOdBwhIbGj/HHRTC8lkTwmymiD910jTBi57QQUyezkE=",
          "dtype": "f4"
         },
         "yaxis": "y"
        },
        {
         "legendgroup": "gt",
         "marker": {
          "color": "#aec7e8",
          "size": 6
         },
         "mode": "markers",
         "name": "GT Group 3",
         "showlegend": false,
         "type": "scatter",
         "x": {
          "bdata": "5B87Qnp6C0Gp5arBT13hwbXFPcE1aODBAxgiQQ==",
          "dtype": "f4"
         },
         "xaxis": "x",
         "y": {
          "bdata": "4E8gQno0c0JJSClBQljawZB8b8In1i3CJ8pxQg==",
          "dtype": "f4"
         },
         "yaxis": "y"
        },
        {
         "legendgroup": "gt",
         "marker": {
          "color": "#aec7e8",
          "size": 6
         },
         "mode": "markers",
         "name": "GT Group 4",
         "showlegend": false,
         "type": "scatter",
         "x": {
          "bdata": "Tls8QrGNA0JtvUJC8Lc3QsC4OUJ9VRPCtOQGQQ==",
          "dtype": "f4"
         },
         "xaxis": "x",
         "y": {
          "bdata": "HRUjQsajiz7tQiRCVzAtQlOgKkIBBXPCThY7QA==",
          "dtype": "f4"
         },
         "yaxis": "y"
        },
        {
         "legendgroup": "gt",
         "marker": {
          "color": "#ff7f0e",
          "size": 6
         },
         "mode": "markers",
         "name": "GT Group 5",
         "showlegend": false,
         "type": "scatter",
         "x": {
          "bdata": "eXnTQcimf78=",
          "dtype": "f4"
         },
         "xaxis": "x",
         "y": {
          "bdata": "pKphQl18icI=",
          "dtype": "f4"
         },
         "yaxis": "y"
        },
        {
         "legendgroup": "gt",
         "marker": {
          "color": "#ff7f0e",
          "size": 6
         },
         "mode": "markers",
         "name": "GT Group 6",
         "showlegend": false,
         "type": "scatter",
         "x": {
          "bdata": "8UgtQq5PocE=",
          "dtype": "f4"
         },
         "xaxis": "x",
         "y": {
          "bdata": "pBNFwc6ETEE=",
          "dtype": "f4"
         },
         "yaxis": "y"
        },
        {
         "legendgroup": "gt",
         "marker": {
          "color": "#ff7f0e",
          "size": 6
         },
         "mode": "markers",
         "name": "GT Group 7",
         "showlegend": false,
         "type": "scatter",
         "x": {
          "bdata": "DHwIwZwS2MEGUcXBbezQwQaMLcGxcWfBduMzQIXAaMBwxs5BfksfQuEXB8I=",
          "dtype": "f4"
         },
         "xaxis": "x",
         "y": {
          "bdata": "MkNmQhZA08HuSGDCuxC6wS+b4MChUZxBLIEWQkUvu0F76zDCwLE5QX7yg0I=",
          "dtype": "f4"
         },
         "yaxis": "y"
        },
        {
         "legendgroup": "gt",
         "marker": {
          "color": "#ffbb78",
          "size": 6
         },
         "mode": "markers",
         "name": "GT Group 8",
         "showlegend": false,
         "type": "scatter",
         "x": {
          "bdata": "UlDkwcnLUsGODUjCQlfewIPYDMI=",
          "dtype": "f4"
         },
         "xaxis": "x",
         "y": {
          "bdata": "WlyZQhGPS0L6CaXBRupFwhbgXUI=",
          "dtype": "f4"
         },
         "yaxis": "y"
        },
        {
         "legendgroup": "gt",
         "marker": {
          "color": "#ffbb78",
          "size": 6
         },
         "mode": "markers",
         "name": "GT Group 9",
         "showlegend": false,
         "type": "scatter",
         "x": {
          "bdata": "vzw0wvMpRj+GH5A/",
          "dtype": "f4"
         },
         "xaxis": "x",
         "y": {
          "bdata": "Jh8AQQ85UUKrsxfB",
          "dtype": "f4"
         },
         "yaxis": "y"
        },
        {
         "legendgroup": "gt",
         "marker": {
          "color": "#2ca02c",
          "size": 6
         },
         "mode": "markers",
         "name": "GT Group 10",
         "showlegend": false,
         "type": "scatter",
         "x": {
          "bdata": "SZcRwb8e6sFVsNzB",
          "dtype": "f4"
         },
         "xaxis": "x",
         "y": {
          "bdata": "f1BvQnzDfsJ6Ie3B",
          "dtype": "f4"
         },
         "yaxis": "y"
        },
        {
         "legendgroup": "gt",
         "marker": {
          "color": "#2ca02c",
          "size": 6
         },
         "mode": "markers",
         "name": "GT Group 11",
         "showlegend": false,
         "type": "scatter",
         "x": {
          "bdata": "FlHtwdbkGsHNvBDC9RkPwg==",
          "dtype": "f4"
         },
         "xaxis": "x",
         "y": {
          "bdata": "l9lSwghBhULi1EnCDARMwg==",
          "dtype": "f4"
         },
         "yaxis": "y"
        },
        {
         "legendgroup": "gt",
         "marker": {
          "color": "#98df8a",
          "size": 6
         },
         "mode": "markers",
         "name": "GT Group 12",
         "showlegend": false,
         "type": "scatter",
         "x": {
          "bdata": "ClOjQUvb7sHIcgPAxO2vQA3SakG2snBB",
          "dtype": "f4"
         },
         "xaxis": "x",
         "y": {
          "bdata": "/qMvQnI2LcJUo2XCFqdxQWjwN8K6pIxB",
          "dtype": "f4"
         },
         "yaxis": "y"
        },
        {
         "legendgroup": "gt",
         "marker": {
          "color": "#98df8a",
          "size": 6
         },
         "mode": "markers",
         "name": "GT Group 13",
         "showlegend": false,
         "type": "scatter",
         "x": {
          "bdata": "LNaqwE9e9cFmjg7AFxfwwa9lHMHdVUBBAJ+dQXTYhUFqbK1AbFjSwfFyEsLkkDjC",
          "dtype": "f4"
         },
         "xaxis": "x",
         "y": {
          "bdata": "M/iEwjCyYMLsgYfC9XZiwpmkc8JS+Q7CcM/lvyvMpUHFyRNCG/gvwhvSb0D/0gbC",
          "dtype": "f4"
         },
         "yaxis": "y"
        },
        {
         "legendgroup": "gt",
         "marker": {
          "color": "#98df8a",
          "size": 6
         },
         "mode": "markers",
         "name": "GT Group 14",
         "showlegend": false,
         "type": "scatter",
         "x": {
          "bdata": "xm1xQq1lMUIzFqZAxkGKQvrO48F3CJ5B",
          "dtype": "f4"
         },
         "xaxis": "x",
         "y": {
          "bdata": "1TL7wArpQ8FuK8bByrfMv7fGZMJG/JdB",
          "dtype": "f4"
         },
         "yaxis": "y"
        },
        {
         "legendgroup": "gt",
         "marker": {
          "color": "#d62728",
          "size": 6
         },
         "mode": "markers",
         "name": "GT Group 15",
         "showlegend": false,
         "type": "scatter",
         "x": {
          "bdata": "wyDZPkL9G0IUSUdCxGxwQpYqSEBIyxVCA7QgQg==",
          "dtype": "f4"
         },
         "xaxis": "x",
         "y": {
          "bdata": "mgiVQVGqSMEn+HzBwv2vwLhePcEap03Bx+TFwA==",
          "dtype": "f4"
         },
         "yaxis": "y"
        },
        {
         "legendgroup": "gt",
         "marker": {
          "color": "#d62728",
          "size": 6
         },
         "mode": "markers",
         "name": "GT Group 16",
         "showlegend": false,
         "type": "scatter",
         "x": {
          "bdata": "lEmDQnx+J8DEuiVCqhUrQrOsI0JQGTpC",
          "dtype": "f4"
         },
         "xaxis": "x",
         "y": {
          "bdata": "ReYpPRZFukHxDoTBZEcuwWN0jMGzM3LB",
          "dtype": "f4"
         },
         "yaxis": "y"
        },
        {
         "legendgroup": "gt",
         "marker": {
          "color": "#ff9896",
          "size": 6
         },
         "mode": "markers",
         "name": "GT Group 17",
         "showlegend": false,
         "type": "scatter",
         "x": {
          "bdata": "i8grQoYdUsH6LTxCIPdyQclpaEJh7oBCqhirQTRsAEA=",
          "dtype": "f4"
         },
         "xaxis": "x",
         "y": {
          "bdata": "MbtcwSoOSkKncoPB1BWeQawtqsDFCztA6gE/wuhMUME=",
          "dtype": "f4"
         },
         "yaxis": "y"
        },
        {
         "legendgroup": "gt",
         "marker": {
          "color": "#ff9896",
          "size": 6
         },
         "mode": "markers",
         "name": "GT Group 18",
         "showlegend": false,
         "type": "scatter",
         "x": {
          "bdata": "i5q6wYBDnUCPw41CO5duv7S+7kCjWo5CUbgeQg==",
          "dtype": "f4"
         },
         "xaxis": "x",
         "y": {
          "bdata": "5XS9wUeHmEGVWgfAGwK1QXhknsF2SybATT6RQQ==",
          "dtype": "f4"
         },
         "yaxis": "y"
        },
        {
         "legendgroup": "gt",
         "marker": {
          "color": "#ff9896",
          "size": 6
         },
         "mode": "markers",
         "name": "GT Group 19",
         "showlegend": false,
         "type": "scatter",
         "x": {
          "bdata": "kiYLwm2FjkG27KpBC11wQvfNkEI=",
          "dtype": "f4"
         },
         "xaxis": "x",
         "y": {
          "bdata": "ULuGQsGivMAlTDPCh8XBwNv2AsA=",
          "dtype": "f4"
         },
         "yaxis": "y"
        },
        {
         "legendgroup": "gt",
         "marker": {
          "color": "#9467bd",
          "size": 6
         },
         "mode": "markers",
         "name": "GT Group 20",
         "showlegend": false,
         "type": "scatter",
         "x": {
          "bdata": "Oc6DQg==",
          "dtype": "f4"
         },
         "xaxis": "x",
         "y": {
          "bdata": "wQ22vg==",
          "dtype": "f4"
         },
         "yaxis": "y"
        },
        {
         "legendgroup": "gt",
         "marker": {
          "color": "#9467bd",
          "size": 6
         },
         "mode": "markers",
         "name": "GT Group 21",
         "showlegend": false,
         "type": "scatter",
         "x": {
          "bdata": "geSHwDuiXcI=",
          "dtype": "f4"
         },
         "xaxis": "x",
         "y": {
          "bdata": "nC+Dwhsfm8E=",
          "dtype": "f4"
         },
         "yaxis": "y"
        },
        {
         "legendgroup": "gt",
         "marker": {
          "color": "#c5b0d5",
          "size": 6
         },
         "mode": "markers",
         "name": "GT Group 22",
         "showlegend": false,
         "type": "scatter",
         "x": {
          "bdata": "RhcawtqgoUB/dePAk9kjwQ==",
          "dtype": "f4"
         },
         "xaxis": "x",
         "y": {
          "bdata": "CsqZwQvRJULogzZCj/RwQg==",
          "dtype": "f4"
         },
         "yaxis": "y"
        },
        {
         "legendgroup": "gt",
         "marker": {
          "color": "#c5b0d5",
          "size": 6
         },
         "mode": "markers",
         "name": "GT Group 23",
         "showlegend": false,
         "type": "scatter",
         "x": {
          "bdata": "t0oFQpkDRsKni5NC1TakwdeFIUKLCfHBcLV7Qi4pCkEr/BjCj+Vgv2D7RMLuc2tAHgdTQlDdLUGop3BBQQ+gQafCIEJEgAQ/f/0Uwg==",
          "dtype": "f4"
         },
         "xaxis": "x",
         "y": {
          "bdata": "cd0uQQzsT8FvkOK/HtdBQTni3kE1YS/CuMrRQGUFeUIP3yM/gRyGQS8Gw8E2nXlB272UwTrucEIYopRBNdLPQTDWP8GVt41B3Y78QQ==",
          "dtype": "f4"
         },
         "yaxis": "y"
        },
        {
         "legendgroup": "gt",
         "marker": {
          "color": "#8c564b",
          "size": 6
         },
         "mode": "markers",
         "name": "GT Group 24",
         "showlegend": false,
         "type": "scatter",
         "x": {
          "bdata": "fXynwQF6L8JKPefBfAE5wSHER8E+cQXCUsMBwlkZF0EObt3BxecMQr0rMEDAiUvB",
          "dtype": "f4"
         },
         "xaxis": "x",
         "y": {
          "bdata": "UPKHwbuZKL9+/DRBJuqaQLMxeMKGllzCvj0YvbuKtEDT8SlByzMjQcaeDsEts5dB",
          "dtype": "f4"
         },
         "yaxis": "y"
        },
        {
         "legendgroup": "gt",
         "marker": {
          "color": "#8c564b",
          "size": 6
         },
         "mode": "markers",
         "name": "GT Group 25",
         "showlegend": false,
         "type": "scatter",
         "x": {
          "bdata": "xGPxwTQH/8FOyDnBHyDtwRv1jMGWoCVCB+cNQhatqMF+C7vBLYZlwkEP78E1k77B",
          "dtype": "f4"
         },
         "xaxis": "x",
         "y": {
          "bdata": "M6rBwVp8ZsJ4ucE/83R5wr01U8KvX07AOJf/QWPIisH4LMvBFAWPwY+rdcJnjmPC",
          "dtype": "f4"
         },
         "yaxis": "y"
        },
        {
         "legendgroup": "gt",
         "marker": {
          "color": "#8c564b",
          "size": 6
         },
         "mode": "markers",
         "name": "GT Group 26",
         "showlegend": false,
         "type": "scatter",
         "x": {
          "bdata": "zii1QXd8CcIq6fnBJ/m6Qbr2GsJIgPbB9iz7wcRVd0CLfKXBvJ3/wcTH78E=",
          "dtype": "f4"
         },
         "xaxis": "x",
         "y": {
          "bdata": "kFVFwhmOKL+oKkLCTptJwiLrAr/CQjvCmVm6wczCxsGsSpbAhL0swkkHS8I=",
          "dtype": "f4"
         },
         "yaxis": "y"
        },
        {
         "legendgroup": "gt",
         "marker": {
          "color": "#c49c94",
          "size": 6
         },
         "mode": "markers",
         "name": "GT Group 27",
         "showlegend": false,
         "type": "scatter",
         "x": {
          "bdata": "IIgewiTNFsL2WidA8F7/wRBOl0G8ZtNBJFiewcJDoEE=",
          "dtype": "f4"
         },
         "xaxis": "x",
         "y": {
          "bdata": "Mt5aQDqgP0DxAyFCGyUmwm/0q0Gk+19CjVhawogJzUE=",
          "dtype": "f4"
         },
         "yaxis": "y"
        },
        {
         "legendgroup": "gt",
         "marker": {
          "color": "#c49c94",
          "size": 6
         },
         "mode": "markers",
         "name": "GT Group 28",
         "showlegend": false,
         "type": "scatter",
         "x": {
          "bdata": "h072PlsXAUK0alxBj+AgwcqeCkEBEgBBGaqRwZNDWMEE1U1CYTi/wcbro0EQhcVBQaBIQr9ePMIs1U7B6vbJv+np/kE=",
          "dtype": "f4"
         },
         "xaxis": "x",
         "y": {
          "bdata": "BmmBQXikeMG0V6xBaJYKwZKnu8Ezk6nBUN1bwggJKUGBsohBG0SLQl/uV8CzRy/C01HLQbqZAcLywOc/ZHRFQigFecE=",
          "dtype": "f4"
         },
         "yaxis": "y"
        },
        {
         "legendgroup": "gt",
         "marker": {
          "color": "#e377c2",
          "size": 6
         },
         "mode": "markers",
         "name": "GT Group 29",
         "showlegend": false,
         "type": "scatter",
         "x": {
          "bdata": "dzU4waUDl0GM01G+sZIlQeit68GijyZCQP1gwUFFWUHgrUZA70U1QjcszEAA8jhC2e4NwlkxVkFY0E/B7+5IQpH8TUI=",
          "dtype": "f4"
         },
         "xaxis": "x",
         "y": {
          "bdata": "5/yBQrFjn0HYe+3AKi62wUYa3sHG1ERBv1+HP1V+mkGnSEpCfG6UwD+LkMEevkHBEUlUwmM3DcK5uSRByPqCwUDxi8E=",
          "dtype": "f4"
         },
         "yaxis": "y"
        },
        {
         "legendgroup": "gt",
         "marker": {
          "color": "#e377c2",
          "size": 6
         },
         "mode": "markers",
         "name": "GT Group 30",
         "showlegend": false,
         "type": "scatter",
         "x": {
          "bdata": "G8XNQfLxUEK+ikXCICBQQg==",
          "dtype": "f4"
         },
         "xaxis": "x",
         "y": {
          "bdata": "QXMVwg/klkEu8UrBvH+RQQ==",
          "dtype": "f4"
         },
         "yaxis": "y"
        },
        {
         "legendgroup": "gt",
         "marker": {
          "color": "#e377c2",
          "size": 6
         },
         "mode": "markers",
         "name": "GT Group 31",
         "showlegend": false,
         "type": "scatter",
         "x": {
          "bdata": "sG2KQQPfEEKNKBNCMJrGQcAsCsE=",
          "dtype": "f4"
         },
         "xaxis": "x",
         "y": {
          "bdata": "WB8hQmu0AkIKOQZCKKoXwuLaxcE=",
          "dtype": "f4"
         },
         "yaxis": "y"
        },
        {
         "legendgroup": "gt",
         "marker": {
          "color": "#f7b6d2",
          "size": 6
         },
         "mode": "markers",
         "name": "GT Group 32",
         "showlegend": false,
         "type": "scatter",
         "x": {
          "bdata": "qNaLQdtNKkL0WJxBjlmPQcY0+8CaLZtBDs0iQnx6A8KffalBrBOfQXm+OEKy4SNCWdW6QRm0AMKqehVCsNkzQg==",
          "dtype": "f4"
         },
         "xaxis": "x",
         "y": {
          "bdata": "0TsnQrN60kFatyrCVmUnQs35vcHTQyxChk3NQcSNRMHW/CjC5LxAwmcIGkJEJ9VB7MxwwLQxC0GWkTBB6cEyQg==",
          "dtype": "f4"
         },
         "yaxis": "y"
        },
        {
         "legendgroup": "gt",
         "marker": {
          "color": "#f7b6d2",
          "size": 6
         },
         "mode": "markers",
         "name": "GT Group 33",
         "showlegend": false,
         "type": "scatter",
         "x": {
          "bdata": "zYZlwi8tccEzyU5CdfdNQtrrSMKAXTLCuVK9wQ==",
          "dtype": "f4"
         },
         "xaxis": "x",
         "y": {
          "bdata": "jIGgwRoX0kFN1HlBSaFhQaVJqcGkfeO/3PuLQg==",
          "dtype": "f4"
         },
         "yaxis": "y"
        },
        {
         "legendgroup": "gt",
         "marker": {
          "color": "#7f7f7f",
          "size": 6
         },
         "mode": "markers",
         "name": "GT Group 34",
         "showlegend": false,
         "type": "scatter",
         "x": {
          "bdata": "E+wDwj9nxMExXClBViZGwtif+MEZUQXCCeYDwgVIj0Gev9NBBA8OQfvAAsKP+erAAS7APoTfzMHf/HtAFXFIwo7L/kESHrBB",
          "dtype": "f4"
         },
         "xaxis": "x",
         "y": {
          "bdata": "1dgpwXzhCkJ2RyPB5BC9weyoWsLukj4/X8cNwTpmBcK1u1JCaL7NwTU2JsGirjNCSDEOwSr6bUKaGpBBlthpwQtDHkFOcSXC",
          "dtype": "f4"
         },
         "yaxis": "y"
        },
        {
         "legendgroup": "gt",
         "marker": {
          "color": "#7f7f7f",
          "size": 6
         },
         "mode": "markers",
         "name": "GT Group 35",
         "showlegend": false,
         "type": "scatter",
         "x": {
          "bdata": "VZAJQR8sKsJoqMXB7gYvQq0pusHHRCpCBX65wQYY5MFJvgTBvynfQCSRGUI=",
          "dtype": "f4"
         },
         "xaxis": "x",
         "y": {
          "bdata": "00hkQPnamUFruAxCTlEoQaKO+kEyMRnBEoX3QX0lokCeEBhB3wWFQLD9sMA=",
          "dtype": "f4"
         },
         "yaxis": "y"
        },
        {
         "legendgroup": "gt",
         "marker": {
          "color": "#c7c7c7",
          "size": 6
         },
         "mode": "markers",
         "name": "GT Group 36",
         "showlegend": false,
         "type": "scatter",
         "x": {
          "bdata": "U1KRQbHYLcEUNSZB4yObQT/bUkLB8JrB7d2qwUjo3kA=",
          "dtype": "f4"
         },
         "xaxis": "x",
         "y": {
          "bdata": "plTqwbLzh0L6wxrBxeX2wSRBoEGOHs3ASXXWwfinHEI=",
          "dtype": "f4"
         },
         "yaxis": "y"
        },
        {
         "legendgroup": "gt",
         "marker": {
          "color": "#c7c7c7",
          "size": 6
         },
         "mode": "markers",
         "name": "GT Group 37",
         "showlegend": false,
         "type": "scatter",
         "x": {
          "bdata": "V9HfQCQoFsK2tSXAu0wVwkq0+cAJXahBfvs3QlSW4b/jwz3Cr7WfPg==",
          "dtype": "f4"
         },
         "xaxis": "x",
         "y": {
          "bdata": "jhJvQpVbdMLvLEfCB6r/QaypgcI1qSzCuGAPwaKJTcKQbf/Bg+5Fwg==",
          "dtype": "f4"
         },
         "yaxis": "y"
        },
        {
         "legendgroup": "gt",
         "marker": {
          "color": "#c7c7c7",
          "size": 6
         },
         "mode": "markers",
         "name": "GT Group 38",
         "showlegend": false,
         "type": "scatter",
         "x": {
          "bdata": "OriVQAhBNMIjxI7BRX6kwFhS1MEykzLCq9UeQrAx9r/5x1q/",
          "dtype": "f4"
         },
         "xaxis": "x",
         "y": {
          "bdata": "rhb9wY0gG8CIhGfCDzpRwgvLW8I0hPRAydpfQfz/UcL1MlLC",
          "dtype": "f4"
         },
         "yaxis": "y"
        },
        {
         "legendgroup": "gt",
         "marker": {
          "color": "#bcbd22",
          "size": 6
         },
         "mode": "markers",
         "name": "GT Group 39",
         "showlegend": false,
         "type": "scatter",
         "x": {
          "bdata": "p2I3Qe5C2UBn+LnAWM0CQsVdgUFI3h5CvFQuwkYTskCN6BrBSMQZwJtYscCrkuPB+2rTvhOXMEI7j6ZBeCsbwqiUpL9rkVbBZHq1wSDBDsJ+gYzBLKkzwbBp/EGYVwNBZkJmwi4DbcI=",
          "dtype": "f4"
         },
         "xaxis": "x",
         "y": {
          "bdata": "D/EMwob87sGNyEnCVclDQYWIOcJZnJZBS2X3Pv7qT8K3GgFB03xgwsvhhsIA4plCpIW2QTm3rMCxq+7BUrd2wgVGasIo8YZC27nPwfsLn0A4DWDC8HVwwkHohr9uBsTB9x2ZwcDFmcE=",
          "dtype": "f4"
         },
         "yaxis": "y"
        },
        {
         "legendgroup": "gt",
         "marker": {
          "color": "#bcbd22",
          "size": 6
         },
         "mode": "markers",
         "name": "GT Group 40",
         "showlegend": false,
         "type": "scatter",
         "x": {
          "bdata": "/JaGQX3bHkLnCQbB+BsfQlesm0G5TjbAvTgQQtA4EkKYWFJAwNMAwXcYpUHHbBxC3PIwwQ==",
          "dtype": "f4"
         },
         "xaxis": "x",
         "y": {
          "bdata": "Vz89whpf/MBcsr3BwScVQbAFI8JXYw3BwUATQmq7DEK4lrDA+PBgQhDXA8LXdDNBdOTCwA==",
          "dtype": "f4"
         },
         "yaxis": "y"
        },
        {
         "legendgroup": "gt",
         "marker": {
          "color": "#dbdb8d",
          "size": 6
         },
         "mode": "markers",
         "name": "GT Group 41",
         "showlegend": false,
         "type": "scatter",
         "x": {
          "bdata": "UGtXQmaQJMF6CtRB2ELhwCX68cBvFDzB",
          "dtype": "f4"
         },
         "xaxis": "x",
         "y": {
          "bdata": "YnSdwV8UBEHi/lBCtJgYwAsXPsAGRKPA",
          "dtype": "f4"
         },
         "yaxis": "y"
        },
        {
         "legendgroup": "gt",
         "marker": {
          "color": "#dbdb8d",
          "size": 6
         },
         "mode": "markers",
         "name": "GT Group 42",
         "showlegend": false,
         "type": "scatter",
         "x": {
          "bdata": "7qxqwchC4cG6bSZCkQx/Qh78KMKAITRCz1p4wVcQTsHFognBc2VnQPbTfUI=",
          "dtype": "f4"
         },
         "xaxis": "x",
         "y": {
          "bdata": "37ypQcCGzEAsUJjAh8SRQA2NmUHx5SBBHhuWQQyG30F0unFC6XNfQdDPqEA=",
          "dtype": "f4"
         },
         "yaxis": "y"
        },
        {
         "legendgroup": "gt",
         "marker": {
          "color": "#dbdb8d",
          "size": 6
         },
         "mode": "markers",
         "name": "GT Group 43",
         "showlegend": false,
         "type": "scatter",
         "x": {
          "bdata": "vHzYwECjSULyyPrBdKcBwnRx8MG9v7PBaX/XwQ==",
          "dtype": "f4"
         },
         "xaxis": "x",
         "y": {
          "bdata": "c+OCwm6HyEF0Q4VCGAmDQpF8lUDqNV6/a6JwQg==",
          "dtype": "f4"
         },
         "yaxis": "y"
        },
        {
         "legendgroup": "gt",
         "marker": {
          "color": "#17becf",
          "size": 6
         },
         "mode": "markers",
         "name": "GT Group 44",
         "showlegend": false,
         "type": "scatter",
         "x": {
          "bdata": "1iC1wD1S38EwTI1AQwp7weIw2cCCdynBv3ynQEIe/sHlEoU/99k8wFUDpsCeqJnAelTXwBL5o0Cq1gvCOYYQP78TCcAtCQbC7QJxPw==",
          "dtype": "f4"
         },
         "xaxis": "x",
         "y": {
          "bdata": "Rm1VQr9VckL9AkVCvgtgwq/BiEJvmmjCWQccQnF3gkIYdl9CGeaDQvthhUID5E1C9+SCQsEZQ0I3UF1C8C9TQtH1SUIY/X9CVhZaQg==",
          "dtype": "f4"
         },
         "yaxis": "y"
        },
        {
         "legendgroup": "gt",
         "marker": {
          "color": "#17becf",
          "size": 6
         },
         "mode": "markers",
         "name": "GT Group 45",
         "showlegend": false,
         "type": "scatter",
         "x": {
          "bdata": "Ja0BQDpq68GatvHBnlawwDxJ0MAIl4hA6AaowA==",
          "dtype": "f4"
         },
         "xaxis": "x",
         "y": {
          "bdata": "OzIUQjqHckKn6X1C3r+GQii+SEItPhtCd9FLQg==",
          "dtype": "f4"
         },
         "yaxis": "y"
        },
        {
         "legendgroup": "gt",
         "marker": {
          "color": "#9edae5",
          "size": 6
         },
         "mode": "markers",
         "name": "GT Group 46",
         "showlegend": false,
         "type": "scatter",
         "x": {
          "bdata": "Gc7zwRmcTj5FZr3BmFz4wX9/3sE=",
          "dtype": "f4"
         },
         "xaxis": "x",
         "y": {
          "bdata": "5OyHQuS8VsJgrme/6Zf6QG4xMUA=",
          "dtype": "f4"
         },
         "yaxis": "y"
        },
        {
         "legendgroup": "gt",
         "marker": {
          "color": "#9edae5",
          "size": 6
         },
         "mode": "markers",
         "name": "GT Group 47",
         "showlegend": false,
         "type": "scatter",
         "x": {
          "bdata": "n700QRcfmME=",
          "dtype": "f4"
         },
         "xaxis": "x",
         "y": {
          "bdata": "lU1AwYBYbkE=",
          "dtype": "f4"
         },
         "yaxis": "y"
        },
        {
         "legendgroup": "gt",
         "marker": {
          "color": "#9edae5",
          "size": 6
         },
         "mode": "markers",
         "name": "GT Group 48",
         "showlegend": false,
         "type": "scatter",
         "x": {
          "bdata": "j5qBQB3ZsUBEuajB",
          "dtype": "f4"
         },
         "xaxis": "x",
         "y": {
          "bdata": "X0VQwleR98FhmoTA",
          "dtype": "f4"
         },
         "yaxis": "y"
        },
        {
         "legendgroup": "pred",
         "marker": {
          "color": "#1f77b4",
          "size": 6
         },
         "mode": "markers",
         "name": "Pred Group 0",
         "showlegend": false,
         "type": "scatter",
         "x": {
          "bdata": "vb+zwcIRz8F24zNARLmowdzyMMEGGOTBCJeIQEVmvcFVkAlBi3ylwfvAAsIT7APCf3/ewY7L/kEMfAjBYoLHwYYdUsGRDH9Chh+QP1LDAcIGjC3BJfrxwI3oGsFt7NDBPEnQwMbro0HurGrBnBLYwZ6omcDxchLCsE6MwdYgtcCxcWfBwNMAwbdKBUIsSMzBJa0BQC8tccGODUjCfXynwUD9YMFmkCTBbxQ8weMjm0H2031CHywqwrTkBkGHTvY+Ye6AQvgbH0KqehVCv3ynQLlONsB3fAnCn32pQchC4cHVNqTBFq2owR78KMLlEoU/dzU4wdhC4cBY0E/BMVwpQcHwmsHuQtlAGVEFwsY0+8B8ATnBOYYQPzPJTkIJ5gPCq9UeQoBdMsIrdTbBFx+YwX47aMHzKUY/LNVOweCtRkABLsA+fHoDwpa8mUF1901CMJrGQf6LtUEBeJpB9lonQLRqXEGYVwNBf3XjwK5PocEE1U1CBA8OQSTNFsIBei/C6AaowESABD+O9BbCbDSTwb0rMECTQ1jB5wkGwdrrSMIl9iVBWM0CQu0CcT/q9sm/sY0DQkjo3kAObt3BjlmPQbtMFcLF5wxCf/0Uwu4GL0LJy1LBT13hwVkZF0EJXahBj/nqwMdsHEI/21JCmFz4we3dqsEUNSZBARIAQfLxUEKWoCVCp8IgQhIesEEwTI1AU1KRQYzTUb4r/BjCICBQQrOsI0KP4CDBFXFIwlfR30CLyCtCGbQAwr8TCcBCHv7B2eAEQh3ZsUBvzBfChN/MwX3bHkLKngpB9FicQaoVK0KijyZCG8XNQXNlZ0Bysh9C8UgtQphYUkAgiB7CvFQuwlBrV0LEuiVCmQNGwgVIj0F3GKVBlipIQAhBNMJRuB5Cj+VgvwiD/8Co1otBenoLQclpaEIeB1NCvzw0wlDdLUEkkRlC8sj6wUmXEcFqbK1ANGwAQNqgoUBkerXBvynfQI7jLMGLmrrBA7QgQjuPpkF+Sx9CnlawwHSnAcK+ikXCdHHwwQCfnUGfvTRBtuyqQVcQTsHDINk+z1p4wbI5gsGnYjdBJSKlPSD3ckFrkVbBum0mQsCJS8F6VNfATls8Qjq4lUBwtXtCfgu7wXTYhUEuKQpBGc7zwa1lMUJZMVZBUBk6Qs2GZcLALArBIMEOwrr2GsKp5arB5B87QoAhNELEY/HBsdgtwUL9G0LFognBEvmjQOxn9UHhFwfCViZGwmf4ucBKPefB6K3rwWD7RMKLCfHBWdW6QYKW+UFI3h5CC11wQjVo4MGlA5dBtL7uQJ6/00GtKbrBwLg5QjKTMsIFfrnBqhirQZH8TULv7khC48M9wt/8e0AQhcVBeXnTQWl/18F++zdCbb1CQj1S38ETlzBCqKdwQbaycEFIyxVCAxgiQYXAaMC8T4LB9iz7wT9nxMHEbHBCxV2BQXcInkGvtZ8+V6ybQfC3N0KxkiVBVJbhv0CjSUJL2+7BbYWOQbLhI0LdVUBBLKkzwe5za0BVA6bAAPI4QvyWhkGatvHBlEmDQrBp/EFJvgTBQaBIQhRJR0IzFqZAx0QqQvotPEJBRVlBsNkzQpPZI8GwMfa/NyzMQNbkGsFCV97AOc6DQr9ePMJOyDnBDs0iQuIw2cBwxs5BrBOfQe9FNUK8ZtNBLQkGwi4DbcKCdynB200qQg3SakE7l26/ZkJmwkjEGcCaLZtB+cdavw==",
          "dtype": "f4"
         },
         "xaxis": "x2",
         "y": {
          "bdata": "6jVev1BlmkAsgRZCYZqEwHTkwsB9JaJALT4bQmCuZ7/TSGRArEqWwDU2JsHV2CnBbjExQAtDHkEyQ2ZCz9CkQCoOSkKHxJFAq7MXwb49GL0vm+DACxc+wLcaAUG7ELrBKL5IQl/uV8DfvKlBFkDTwQPkTUIb0m9AEhsaP0ZtVUKhUZxB+PBgQnHdLkEUScXBOzIUQhoX0kH6CaXBUPKHwb9fhz9fFARBBkSjwMXl9sHQz6hA+dqZQU4WO0AGaYFBxQs7QMEnFUGWkTBBWQccQldjDcEZjii/1vwowsCGzEAe10FBY8iKwQ2NmUEYdl9C5/yBQrSYGMC5uSRBdkcjwY4ezcCG/O7B7pI+P835vcEm6ppA8C9TQk3UeUFfxw3BydpfQaR947/RlwjBgFhuQUyezkEPOVFC8sDnP6dISkJIMQ7BxI1EwctclsBJoWFBKKoXwvHCacDDz//B8QMhQrRXrEFuBsTB6IM2Qs6ETEGBsohBaL7NwTqgP0C7mSi/d9FLQpW3jUGRvovBbKaIP8aeDsEICSlBXLK9waVJqcG4qStAVclDQVYWWkJkdEVCxqOLPvinHELT8SlBVmUnQgeq/0HLMyNB3Y78QU5RKEERj0tCQljawbuKtEA1qSzCoq4zQtd0M0EkQaBB6Zf6QEl11sH6wxrBM5OpwQ/klkGvX07AMNY/wU5xJcL9AkVCplTqwdh77cAP3yM/vH+RQWN0jMFolgrBlthpwY4Sb0Ixu1zBtDELQdH1SUJxd4JCXtgpP1eR98HMGo/BKvptQhpf/MCSp7vBWrcqwmRHLsHG1ERBQXMVwulzX0E1DtdApBNFwbiWsMAy3lpAS2X3PmJ0ncHxDoTBDOxPwTpmBcIQ1wPCuF49wY0gG8BNPpFBgRyGQTaE0UDROydCejRzQqwtqsDbvZTBJh8AQTrucEKw/bDAdEOFQn9Qb0LFyRNC6ExQwQvRJULbuc/B3wWFQM7WhULldL3Bx+TFwLGr7sHAsTlB3r+GQhgJg0Iu8UrBkXyVQHDP5b+VTUDBJUwzwgyG30GaCJVBHhuWQcrf30EP8QzCddI0wdQVnkEo8YZCLFCYwC2zl0H35IJCHRUjQq4W/cG4ytFA+CzLwSvMpUFlBXlC5OyHQgrpQ8FjNw3CszNywYyBoMHi2sXB+wufQCLrAr9JSClB4E8gQvHlIEEzqsHBsvOHQlGqSMF0unFCwRlDQscdFMJ+8oNC5BC9wY3IScJ+/DRBRhrewS8Gw8E1YS/C7MxwwPJZE8JZnJZBh8XBwCfWLcKxY59BeGSewbW7UkKijvpBU6AqQjSE9EAShfdB6gE/wkDxi8HI+oLBkG3/wZoakEGzRy/CpKphQmuicEK4YA/B7UIkQr9VckI5t6zAGKKUQbqkjEEap03BJ8pxQkUvu0GLntBBmVm6wXzhCkLC/a/AhYg5wkb8l0GD7kXCsAUjwlcwLUIqLrbBoolNwm6HyEFyNi3CwaK8wEQn1UFS+Q7C8HVwwjadeUH7YYVCHr5BwVc/PcKn6X1CReYpPUHohr+eEBhB01HLQSf4fMFuK8bBMjEZwadyg8FVfppB6cEyQo/0cEL8/1HCP4uQwQhBhUJG6kXCwQ22vrqZAcJ4ucE/hk3NQa/BiEJ76zDC5LxAwnxulMCk+19CGP1/QsDFmcFvmmjCs3rSQWjwN8IbArVB9x2ZwdN8YMLTQyxC9TJSwg==",
          "dtype": "f4"
         },
         "yaxis": "y2"
        },
        {
         "legendgroup": "pred",
         "marker": {
          "color": "#1f77b4",
          "size": 6
         },
         "mode": "markers",
         "name": "Pred Group 1",
         "showlegend": false,
         "type": "scatter",
         "x": {
          "bdata": "sG2KQXm+OEKNKBNCA98QQteFIUJhOL/Bq5LjwQfnDUJoqMXBkiYLwrlSvcGAQ51A+2rTvg==",
          "dtype": "f4"
         },
         "xaxis": "x2",
         "y": {
          "bdata": "WB8hQmcIGkIKOQZCa7QCQjni3kEbRItCAOKZQjiX/0FruAxCULuGQtz7i0JHh5hBpIW2QQ==",
          "dtype": "f4"
         },
         "yaxis": "y2"
        },
        {
         "legendgroup": "pred",
         "marker": {
          "color": "#aec7e8",
          "size": 6
         },
         "mode": "markers",
         "name": "Pred Group 2",
         "showlegend": false,
         "type": "scatter",
         "x": {
          "bdata": "yHIDwL8e6sEfIO3BSID2wUEP78FFfqTA5JA4wif5ukFPXvXBsis4QQ==",
          "dtype": "f4"
         },
         "xaxis": "x2",
         "y": {
          "bdata": "VKNlwnzDfsLzdHnCwkI7wo+rdcIPOlHC/9IGwk6bScIwsmDCVEUWwg==",
          "dtype": "f4"
         },
         "yaxis": "y2"
        },
        {
         "legendgroup": "pred",
         "marker": {
          "color": "#aec7e8",
          "size": 6
         },
         "mode": "markers",
         "name": "Pred Group 3",
         "showlegend": false,
         "type": "scatter",
         "x": {
          "bdata": "xkGKQsTtr0CPw41Czii1QcRVd0D3zZBCo1qOQnoK1EE=",
          "dtype": "f4"
         },
         "xaxis": "x2",
         "y": {
          "bdata": "yrfMvxancUGVWgfAkFVFwszCxsHb9gLAdksmwOL+UEI=",
          "dtype": "f4"
         },
         "yaxis": "y2"
        },
        {
         "legendgroup": "pred",
         "marker": {
          "color": "#ff7f0e",
          "size": 6
         },
         "mode": "markers",
         "name": "Pred Group 4",
         "showlegend": false,
         "type": "scatter",
         "x": {
          "bdata": "I8SOwSRYnsEWUe3BG/WMwTWTvsEq6fnB",
          "dtype": "f4"
         },
         "xaxis": "x2",
         "y": {
          "bdata": "iIRnwo1YWsKX2VLCvTVTwmeOY8KoKkLC",
          "dtype": "f4"
         },
         "yaxis": "y2"
        },
        {
         "legendgroup": "pred",
         "marker": {
          "color": "#ff7f0e",
          "size": 6
         },
         "mode": "markers",
         "name": "Pred Group 5",
         "showlegend": false,
         "type": "scatter",
         "x": {
          "bdata": "EE6XQcJDoEF8fifAOmrrwUEPoEE=",
          "dtype": "f4"
         },
         "xaxis": "x2",
         "y": {
          "bdata": "b/SrQYgJzUEWRbpBOodyQjXSz0E=",
          "dtype": "f4"
         },
         "yaxis": "y2"
        },
        {
         "legendgroup": "pred",
         "marker": {
          "color": "#ffbb78",
          "size": 6
         },
         "mode": "markers",
         "name": "Pred Group 6",
         "showlegend": false,
         "type": "scatter",
         "x": {
          "bdata": "xm1xQuw7GULp6f5B0DgSQg==",
          "dtype": "f4"
         },
         "xaxis": "x2",
         "y": {
          "bdata": "1TL7wBkoBUIoBXnBarsMQg==",
          "dtype": "f4"
         },
         "yaxis": "y2"
        },
        {
         "legendgroup": "pred",
         "marker": {
          "color": "#ffbb78",
          "size": 6
         },
         "mode": "markers",
         "name": "Pred Group 7",
         "showlegend": false,
         "type": "scatter",
         "x": {
          "bdata": "foGMwUMKe8G2tSXA",
          "dtype": "f4"
         },
         "xaxis": "x2",
         "y": {
          "bdata": "OA1gwr4LYMLvLEfC",
          "dtype": "f4"
         },
         "yaxis": "y2"
        },
        {
         "legendgroup": "pred",
         "marker": {
          "color": "#2ca02c",
          "size": 6
         },
         "mode": "markers",
         "name": "Pred Group 8",
         "showlegend": false,
         "type": "scatter",
         "x": {
          "bdata": "BlHFwRcX8ME+cQXC",
          "dtype": "f4"
         },
         "xaxis": "x2",
         "y": {
          "bdata": "7khgwvV2YsKGllzC",
          "dtype": "f4"
         },
         "yaxis": "y2"
        },
        {
         "legendgroup": "pred",
         "marker": {
          "color": "#2ca02c",
          "size": 6
         },
         "mode": "markers",
         "name": "Pred Group 9",
         "showlegend": false,
         "type": "scatter",
         "x": {
          "bdata": "m1ixwGaODsAhxEfB",
          "dtype": "f4"
         },
         "xaxis": "x2",
         "y": {
          "bdata": "y+GGwuyBh8KzMXjC",
          "dtype": "f4"
         },
         "yaxis": "y2"
        },
        {
         "legendgroup": "pred",
         "marker": {
          "color": "#98df8a",
          "size": 6
         },
         "mode": "markers",
         "name": "Pred Group 10",
         "showlegend": false,
         "type": "scatter",
         "x": {
          "bdata": "O6Jdwi2GZcI=",
          "dtype": "f4"
         },
         "xaxis": "x2",
         "y": {
          "bdata": "Gx+bwRQFj8E=",
          "dtype": "f4"
         },
         "yaxis": "y2"
        },
        {
         "legendgroup": "pred",
         "marker": {
          "color": "#98df8a",
          "size": 6
         },
         "mode": "markers",
         "name": "Pred Group 11",
         "showlegend": false,
         "type": "scatter",
         "x": {
          "bdata": "GZxOPoHkh8A=",
          "dtype": "f4"
         },
         "xaxis": "x2",
         "y": {
          "bdata": "5LxWwpwvg8I=",
          "dtype": "f4"
         },
         "yaxis": "y2"
        },
        {
         "legendgroup": "pred",
         "marker": {
          "color": "#d62728",
          "size": 6
         },
         "mode": "markers",
         "name": "Pred Group 12",
         "showlegend": false,
         "type": "scatter",
         "x": {
          "bdata": "qJSkv4+agUA=",
          "dtype": "f4"
         },
         "xaxis": "x2",
         "y": {
          "bdata": "BUZqwl9FUMI=",
          "dtype": "f4"
         },
         "yaxis": "y2"
        },
        {
         "legendgroup": "pred",
         "marker": {
          "color": "#d62728",
          "size": 6
         },
         "mode": "markers",
         "name": "Pred Group 13",
         "showlegend": false,
         "type": "scatter",
         "x": {
          "bdata": "8F7/wUq0+cA=",
          "dtype": "f4"
         },
         "xaxis": "x2",
         "y": {
          "bdata": "GyUmwqypgcI=",
          "dtype": "f4"
         },
         "yaxis": "y2"
        },
        {
         "legendgroup": "pred",
         "marker": {
          "color": "#ff9896",
          "size": 6
         },
         "mode": "markers",
         "name": "Pred Group 14",
         "showlegend": false,
         "type": "scatter",
         "x": {
          "bdata": "9RkPwtnuDcI=",
          "dtype": "f4"
         },
         "xaxis": "x2",
         "y": {
          "bdata": "DARMwhFJVMI=",
          "dtype": "f4"
         },
         "yaxis": "y2"
        },
        {
         "legendgroup": "pred",
         "marker": {
          "color": "#ff9896",
          "size": 6
         },
         "mode": "markers",
         "name": "Pred Group 15",
         "showlegend": false,
         "type": "scatter",
         "x": {
          "bdata": "eCsbwtif+ME=",
          "dtype": "f4"
         },
         "xaxis": "x2",
         "y": {
          "bdata": "Urd2wuyoWsI=",
          "dtype": "f4"
         },
         "yaxis": "y2"
        },
        {
         "legendgroup": "pred",
         "marker": {
          "color": "#9467bd",
          "size": 6
         },
         "mode": "markers",
         "name": "Pred Group 16",
         "showlegend": false,
         "type": "scatter",
         "x": {
          "bdata": "NAf/wVhS1ME=",
          "dtype": "f4"
         },
         "xaxis": "x2",
         "y": {
          "bdata": "WnxmwgvLW8I=",
          "dtype": "f4"
         },
         "yaxis": "y2"
        },
        {
         "legendgroup": "pred",
         "marker": {
          "color": "#9467bd",
          "size": 6
         },
         "mode": "markers",
         "name": "Pred Group 17",
         "showlegend": false,
         "type": "scatter",
         "x": {
          "bdata": "g9gMwqrWC8I=",
          "dtype": "f4"
         },
         "xaxis": "x2",
         "y": {
          "bdata": "FuBdQjdQXUI=",
          "dtype": "f4"
         },
         "yaxis": "y2"
        },
        {
         "legendgroup": "pred",
         "marker": {
          "color": "#c5b0d5",
          "size": 6
         },
         "mode": "markers",
         "name": "Pred Group 18",
         "showlegend": false,
         "type": "scatter",
         "x": {
          "bdata": "99k8wA==",
          "dtype": "f4"
         },
         "xaxis": "x2",
         "y": {
          "bdata": "GeaDQg==",
          "dtype": "f4"
         },
         "yaxis": "y2"
        },
        {
         "legendgroup": "pred",
         "marker": {
          "color": "#c5b0d5",
          "size": 6
         },
         "mode": "markers",
         "name": "Pred Group 19",
         "showlegend": false,
         "type": "scatter",
         "x": {
          "bdata": "vJ3/wQ==",
          "dtype": "f4"
         },
         "xaxis": "x2",
         "y": {
          "bdata": "hL0swg==",
          "dtype": "f4"
         },
         "yaxis": "y2"
        },
        {
         "legendgroup": "pred",
         "marker": {
          "color": "#8c564b",
          "size": 6
         },
         "mode": "markers",
         "name": "Pred Group 20",
         "showlegend": false,
         "type": "scatter",
         "x": {
          "bdata": "p4uTQg==",
          "dtype": "f4"
         },
         "xaxis": "x2",
         "y": {
          "bdata": "b5Divw==",
          "dtype": "f4"
         },
         "yaxis": "y2"
        },
        {
         "legendgroup": "pred",
         "marker": {
          "color": "#8c564b",
          "size": 6
         },
         "mode": "markers",
         "name": "Pred Group 21",
         "showlegend": false,
         "type": "scatter",
         "x": {
          "bdata": "bFjSwQ==",
          "dtype": "f4"
         },
         "xaxis": "x2",
         "y": {
          "bdata": "G/gvwg==",
          "dtype": "f4"
         },
         "yaxis": "y2"
        },
        {
         "legendgroup": "pred",
         "marker": {
          "color": "#c49c94",
          "size": 6
         },
         "mode": "markers",
         "name": "Pred Group 22",
         "showlegend": false,
         "type": "scatter",
         "x": {
          "bdata": "WxcBQg==",
          "dtype": "f4"
         },
         "xaxis": "x2",
         "y": {
          "bdata": "eKR4wQ==",
          "dtype": "f4"
         },
         "yaxis": "y2"
        },
        {
         "legendgroup": "pred",
         "marker": {
          "color": "#c49c94",
          "size": 6
         },
         "mode": "markers",
         "name": "Pred Group 23",
         "showlegend": false,
         "type": "scatter",
         "x": {
          "bdata": "Rhcawg==",
          "dtype": "f4"
         },
         "xaxis": "x2",
         "y": {
          "bdata": "CsqZwQ==",
          "dtype": "f4"
         },
         "yaxis": "y2"
        },
        {
         "legendgroup": "pred",
         "marker": {
          "color": "#e377c2",
          "size": 6
         },
         "mode": "markers",
         "name": "Pred Group 24",
         "showlegend": false,
         "type": "scatter",
         "x": {
          "bdata": "vHzYwA==",
          "dtype": "f4"
         },
         "xaxis": "x2",
         "y": {
          "bdata": "c+OCwg==",
          "dtype": "f4"
         },
         "yaxis": "y2"
        },
        {
         "legendgroup": "pred",
         "marker": {
          "color": "#e377c2",
          "size": 6
         },
         "mode": "markers",
         "name": "Pred Group 25",
         "showlegend": false,
         "type": "scatter",
         "x": {
          "bdata": "UlDkwQ==",
          "dtype": "f4"
         },
         "xaxis": "x2",
         "y": {
          "bdata": "WlyZQg==",
          "dtype": "f4"
         },
         "yaxis": "y2"
        },
        {
         "legendgroup": "pred",
         "marker": {
          "color": "#f7b6d2",
          "size": 6
         },
         "mode": "markers",
         "name": "Pred Group 26",
         "showlegend": false,
         "type": "scatter",
         "x": {
          "bdata": "GaqRwQ==",
          "dtype": "f4"
         },
         "xaxis": "x2",
         "y": {
          "bdata": "UN1bwg==",
          "dtype": "f4"
         },
         "yaxis": "y2"
        },
        {
         "legendgroup": "pred",
         "marker": {
          "color": "#f7b6d2",
          "size": 6
         },
         "mode": "markers",
         "name": "Pred Group 27",
         "showlegend": false,
         "type": "scatter",
         "x": {
          "bdata": "tcU9wQ==",
          "dtype": "f4"
         },
         "xaxis": "x2",
         "y": {
          "bdata": "kHxvwg==",
          "dtype": "f4"
         },
         "yaxis": "y2"
        },
        {
         "legendgroup": "pred",
         "marker": {
          "color": "#7f7f7f",
          "size": 6
         },
         "mode": "markers",
         "name": "Pred Group 28",
         "showlegend": false,
         "type": "scatter",
         "x": {
          "bdata": "LNaqwA==",
          "dtype": "f4"
         },
         "xaxis": "x2",
         "y": {
          "bdata": "M/iEwg==",
          "dtype": "f4"
         },
         "yaxis": "y2"
        },
        {
         "legendgroup": "pred",
         "marker": {
          "color": "#7f7f7f",
          "size": 6
         },
         "mode": "markers",
         "name": "Pred Group 29",
         "showlegend": false,
         "type": "scatter",
         "x": {
          "bdata": "VbDcwQ==",
          "dtype": "f4"
         },
         "xaxis": "x2",
         "y": {
          "bdata": "eiHtwQ==",
          "dtype": "f4"
         },
         "yaxis": "y2"
        },
        {
         "legendgroup": "pred",
         "marker": {
          "color": "#c7c7c7",
          "size": 6
         },
         "mode": "markers",
         "name": "Pred Group 30",
         "showlegend": false,
         "type": "scatter",
         "x": {
          "bdata": "EiCOPw==",
          "dtype": "f4"
         },
         "xaxis": "x2",
         "y": {
          "bdata": "iOdBwg==",
          "dtype": "f4"
         },
         "yaxis": "y2"
        },
        {
         "legendgroup": "pred",
         "marker": {
          "color": "#c7c7c7",
          "size": 6
         },
         "mode": "markers",
         "name": "Pred Group 31",
         "showlegend": false,
         "type": "scatter",
         "x": {
          "bdata": "vTgQQg==",
          "dtype": "f4"
         },
         "xaxis": "x2",
         "y": {
          "bdata": "wUATQg==",
          "dtype": "f4"
         },
         "yaxis": "y2"
        },
        {
         "legendgroup": "pred",
         "marker": {
          "color": "#bcbd22",
          "size": 6
         },
         "mode": "markers",
         "name": "Pred Group 32",
         "showlegend": false,
         "type": "scatter",
         "x": {
          "bdata": "r2UcwQ==",
          "dtype": "f4"
         },
         "xaxis": "x2",
         "y": {
          "bdata": "maRzwg==",
          "dtype": "f4"
         },
         "yaxis": "y2"
        },
        {
         "legendgroup": "pred",
         "marker": {
          "color": "#bcbd22",
          "size": 6
         },
         "mode": "markers",
         "name": "Pred Group 33",
         "showlegend": false,
         "type": "scatter",
         "x": {
          "bdata": "JCgWwg==",
          "dtype": "f4"
         },
         "xaxis": "x2",
         "y": {
          "bdata": "lVt0wg==",
          "dtype": "f4"
         },
         "yaxis": "y2"
        },
        {
         "legendgroup": "pred",
         "marker": {
          "color": "#dbdb8d",
          "size": 6
         },
         "mode": "markers",
         "name": "Pred Group 34",
         "showlegend": false,
         "type": "scatter",
         "x": {
          "bdata": "zbwQwg==",
          "dtype": "f4"
         },
         "xaxis": "x2",
         "y": {
          "bdata": "4tRJwg==",
          "dtype": "f4"
         },
         "yaxis": "y2"
        },
        {
         "legendgroup": "pred",
         "marker": {
          "color": "#dbdb8d",
          "size": 6
         },
         "mode": "markers",
         "name": "Pred Group 35",
         "showlegend": false,
         "type": "scatter",
         "x": {
          "bdata": "fVUTwg==",
          "dtype": "f4"
         },
         "xaxis": "x2",
         "y": {
          "bdata": "AQVzwg==",
          "dtype": "f4"
         },
         "yaxis": "y2"
        },
        {
         "legendgroup": "pred",
         "marker": {
          "color": "#17becf",
          "size": 6
         },
         "mode": "markers",
         "name": "Pred Group 36",
         "showlegend": false,
         "type": "scatter",
         "x": {
          "bdata": "RhOyQA==",
          "dtype": "f4"
         },
         "xaxis": "x2",
         "y": {
          "bdata": "/upPwg==",
          "dtype": "f4"
         },
         "yaxis": "y2"
        },
        {
         "legendgroup": "pred",
         "marker": {
          "color": "#17becf",
          "size": 6
         },
         "mode": "markers",
         "name": "Pred Group 37",
         "showlegend": false,
         "type": "scatter",
         "x": {
          "bdata": "ClOjQQ==",
          "dtype": "f4"
         },
         "xaxis": "x2",
         "y": {
          "bdata": "/qMvQg==",
          "dtype": "f4"
         },
         "yaxis": "y2"
        },
        {
         "legendgroup": "pred",
         "marker": {
          "color": "#9edae5",
          "size": 6
         },
         "mode": "markers",
         "name": "Pred Group 38",
         "showlegend": false,
         "type": "scatter",
         "x": {
          "bdata": "+s7jwQ==",
          "dtype": "f4"
         },
         "xaxis": "x2",
         "y": {
          "bdata": "t8Zkwg==",
          "dtype": "f4"
         },
         "yaxis": "y2"
        },
        {
         "legendgroup": "pred",
         "marker": {
          "color": "#9edae5",
          "size": 6
         },
         "mode": "markers",
         "name": "Pred Group 39",
         "showlegend": false,
         "type": "scatter",
         "x": {
          "bdata": "yKZ/vw==",
          "dtype": "f4"
         },
         "xaxis": "x2",
         "y": {
          "bdata": "XXyJwg==",
          "dtype": "f4"
         },
         "yaxis": "y2"
        },
        {
         "legendgroup": "pred",
         "marker": {
          "color": "#9edae5",
          "size": 6
         },
         "mode": "markers",
         "name": "Pred Group 40",
         "showlegend": false,
         "type": "scatter",
         "x": {
          "bdata": "xMfvwQ==",
          "dtype": "f4"
         },
         "xaxis": "x2",
         "y": {
          "bdata": "SQdLwg==",
          "dtype": "f4"
         },
         "yaxis": "y2"
        }
       ],
       "layout": {
        "annotations": [
         {
          "font": {
           "size": 16
          },
          "showarrow": false,
          "text": "Clusters of 2D Embeddings gt",
          "x": 0.225,
          "xanchor": "center",
          "xref": "paper",
          "y": 1,
          "yanchor": "bottom",
          "yref": "paper"
         },
         {
          "font": {
           "size": 16
          },
          "showarrow": false,
          "text": "Clusters of 2D Embeddings pred",
          "x": 0.775,
          "xanchor": "center",
          "xref": "paper",
          "y": 1,
          "yanchor": "bottom",
          "yref": "paper"
         }
        ],
        "height": 600,
        "showlegend": true,
        "template": {
         "data": {
          "bar": [
           {
            "error_x": {
             "color": "#2a3f5f"
            },
            "error_y": {
             "color": "#2a3f5f"
            },
            "marker": {
             "line": {
              "color": "#E5ECF6",
              "width": 0.5
             },
             "pattern": {
              "fillmode": "overlay",
              "size": 10,
              "solidity": 0.2
             }
            },
            "type": "bar"
           }
          ],
          "barpolar": [
           {
            "marker": {
             "line": {
              "color": "#E5ECF6",
              "width": 0.5
             },
             "pattern": {
              "fillmode": "overlay",
              "size": 10,
              "solidity": 0.2
             }
            },
            "type": "barpolar"
           }
          ],
          "carpet": [
           {
            "aaxis": {
             "endlinecolor": "#2a3f5f",
             "gridcolor": "white",
             "linecolor": "white",
             "minorgridcolor": "white",
             "startlinecolor": "#2a3f5f"
            },
            "baxis": {
             "endlinecolor": "#2a3f5f",
             "gridcolor": "white",
             "linecolor": "white",
             "minorgridcolor": "white",
             "startlinecolor": "#2a3f5f"
            },
            "type": "carpet"
           }
          ],
          "choropleth": [
           {
            "colorbar": {
             "outlinewidth": 0,
             "ticks": ""
            },
            "type": "choropleth"
           }
          ],
          "contour": [
           {
            "colorbar": {
             "outlinewidth": 0,
             "ticks": ""
            },
            "colorscale": [
             [
              0,
              "#0d0887"
             ],
             [
              0.1111111111111111,
              "#46039f"
             ],
             [
              0.2222222222222222,
              "#7201a8"
             ],
             [
              0.3333333333333333,
              "#9c179e"
             ],
             [
              0.4444444444444444,
              "#bd3786"
             ],
             [
              0.5555555555555556,
              "#d8576b"
             ],
             [
              0.6666666666666666,
              "#ed7953"
             ],
             [
              0.7777777777777778,
              "#fb9f3a"
             ],
             [
              0.8888888888888888,
              "#fdca26"
             ],
             [
              1,
              "#f0f921"
             ]
            ],
            "type": "contour"
           }
          ],
          "contourcarpet": [
           {
            "colorbar": {
             "outlinewidth": 0,
             "ticks": ""
            },
            "type": "contourcarpet"
           }
          ],
          "heatmap": [
           {
            "colorbar": {
             "outlinewidth": 0,
             "ticks": ""
            },
            "colorscale": [
             [
              0,
              "#0d0887"
             ],
             [
              0.1111111111111111,
              "#46039f"
             ],
             [
              0.2222222222222222,
              "#7201a8"
             ],
             [
              0.3333333333333333,
              "#9c179e"
             ],
             [
              0.4444444444444444,
              "#bd3786"
             ],
             [
              0.5555555555555556,
              "#d8576b"
             ],
             [
              0.6666666666666666,
              "#ed7953"
             ],
             [
              0.7777777777777778,
              "#fb9f3a"
             ],
             [
              0.8888888888888888,
              "#fdca26"
             ],
             [
              1,
              "#f0f921"
             ]
            ],
            "type": "heatmap"
           }
          ],
          "histogram": [
           {
            "marker": {
             "pattern": {
              "fillmode": "overlay",
              "size": 10,
              "solidity": 0.2
             }
            },
            "type": "histogram"
           }
          ],
          "histogram2d": [
           {
            "colorbar": {
             "outlinewidth": 0,
             "ticks": ""
            },
            "colorscale": [
             [
              0,
              "#0d0887"
             ],
             [
              0.1111111111111111,
              "#46039f"
             ],
             [
              0.2222222222222222,
              "#7201a8"
             ],
             [
              0.3333333333333333,
              "#9c179e"
             ],
             [
              0.4444444444444444,
              "#bd3786"
             ],
             [
              0.5555555555555556,
              "#d8576b"
             ],
             [
              0.6666666666666666,
              "#ed7953"
             ],
             [
              0.7777777777777778,
              "#fb9f3a"
             ],
             [
              0.8888888888888888,
              "#fdca26"
             ],
             [
              1,
              "#f0f921"
             ]
            ],
            "type": "histogram2d"
           }
          ],
          "histogram2dcontour": [
           {
            "colorbar": {
             "outlinewidth": 0,
             "ticks": ""
            },
            "colorscale": [
             [
              0,
              "#0d0887"
             ],
             [
              0.1111111111111111,
              "#46039f"
             ],
             [
              0.2222222222222222,
              "#7201a8"
             ],
             [
              0.3333333333333333,
              "#9c179e"
             ],
             [
              0.4444444444444444,
              "#bd3786"
             ],
             [
              0.5555555555555556,
              "#d8576b"
             ],
             [
              0.6666666666666666,
              "#ed7953"
             ],
             [
              0.7777777777777778,
              "#fb9f3a"
             ],
             [
              0.8888888888888888,
              "#fdca26"
             ],
             [
              1,
              "#f0f921"
             ]
            ],
            "type": "histogram2dcontour"
           }
          ],
          "mesh3d": [
           {
            "colorbar": {
             "outlinewidth": 0,
             "ticks": ""
            },
            "type": "mesh3d"
           }
          ],
          "parcoords": [
           {
            "line": {
             "colorbar": {
              "outlinewidth": 0,
              "ticks": ""
             }
            },
            "type": "parcoords"
           }
          ],
          "pie": [
           {
            "automargin": true,
            "type": "pie"
           }
          ],
          "scatter": [
           {
            "fillpattern": {
             "fillmode": "overlay",
             "size": 10,
             "solidity": 0.2
            },
            "type": "scatter"
           }
          ],
          "scatter3d": [
           {
            "line": {
             "colorbar": {
              "outlinewidth": 0,
              "ticks": ""
             }
            },
            "marker": {
             "colorbar": {
              "outlinewidth": 0,
              "ticks": ""
             }
            },
            "type": "scatter3d"
           }
          ],
          "scattercarpet": [
           {
            "marker": {
             "colorbar": {
              "outlinewidth": 0,
              "ticks": ""
             }
            },
            "type": "scattercarpet"
           }
          ],
          "scattergeo": [
           {
            "marker": {
             "colorbar": {
              "outlinewidth": 0,
              "ticks": ""
             }
            },
            "type": "scattergeo"
           }
          ],
          "scattergl": [
           {
            "marker": {
             "colorbar": {
              "outlinewidth": 0,
              "ticks": ""
             }
            },
            "type": "scattergl"
           }
          ],
          "scattermap": [
           {
            "marker": {
             "colorbar": {
              "outlinewidth": 0,
              "ticks": ""
             }
            },
            "type": "scattermap"
           }
          ],
          "scattermapbox": [
           {
            "marker": {
             "colorbar": {
              "outlinewidth": 0,
              "ticks": ""
             }
            },
            "type": "scattermapbox"
           }
          ],
          "scatterpolar": [
           {
            "marker": {
             "colorbar": {
              "outlinewidth": 0,
              "ticks": ""
             }
            },
            "type": "scatterpolar"
           }
          ],
          "scatterpolargl": [
           {
            "marker": {
             "colorbar": {
              "outlinewidth": 0,
              "ticks": ""
             }
            },
            "type": "scatterpolargl"
           }
          ],
          "scatterternary": [
           {
            "marker": {
             "colorbar": {
              "outlinewidth": 0,
              "ticks": ""
             }
            },
            "type": "scatterternary"
           }
          ],
          "surface": [
           {
            "colorbar": {
             "outlinewidth": 0,
             "ticks": ""
            },
            "colorscale": [
             [
              0,
              "#0d0887"
             ],
             [
              0.1111111111111111,
              "#46039f"
             ],
             [
              0.2222222222222222,
              "#7201a8"
             ],
             [
              0.3333333333333333,
              "#9c179e"
             ],
             [
              0.4444444444444444,
              "#bd3786"
             ],
             [
              0.5555555555555556,
              "#d8576b"
             ],
             [
              0.6666666666666666,
              "#ed7953"
             ],
             [
              0.7777777777777778,
              "#fb9f3a"
             ],
             [
              0.8888888888888888,
              "#fdca26"
             ],
             [
              1,
              "#f0f921"
             ]
            ],
            "type": "surface"
           }
          ],
          "table": [
           {
            "cells": {
             "fill": {
              "color": "#EBF0F8"
             },
             "line": {
              "color": "white"
             }
            },
            "header": {
             "fill": {
              "color": "#C8D4E3"
             },
             "line": {
              "color": "white"
             }
            },
            "type": "table"
           }
          ]
         },
         "layout": {
          "annotationdefaults": {
           "arrowcolor": "#2a3f5f",
           "arrowhead": 0,
           "arrowwidth": 1
          },
          "autotypenumbers": "strict",
          "coloraxis": {
           "colorbar": {
            "outlinewidth": 0,
            "ticks": ""
           }
          },
          "colorscale": {
           "diverging": [
            [
             0,
             "#8e0152"
            ],
            [
             0.1,
             "#c51b7d"
            ],
            [
             0.2,
             "#de77ae"
            ],
            [
             0.3,
             "#f1b6da"
            ],
            [
             0.4,
             "#fde0ef"
            ],
            [
             0.5,
             "#f7f7f7"
            ],
            [
             0.6,
             "#e6f5d0"
            ],
            [
             0.7,
             "#b8e186"
            ],
            [
             0.8,
             "#7fbc41"
            ],
            [
             0.9,
             "#4d9221"
            ],
            [
             1,
             "#276419"
            ]
           ],
           "sequential": [
            [
             0,
             "#0d0887"
            ],
            [
             0.1111111111111111,
             "#46039f"
            ],
            [
             0.2222222222222222,
             "#7201a8"
            ],
            [
             0.3333333333333333,
             "#9c179e"
            ],
            [
             0.4444444444444444,
             "#bd3786"
            ],
            [
             0.5555555555555556,
             "#d8576b"
            ],
            [
             0.6666666666666666,
             "#ed7953"
            ],
            [
             0.7777777777777778,
             "#fb9f3a"
            ],
            [
             0.8888888888888888,
             "#fdca26"
            ],
            [
             1,
             "#f0f921"
            ]
           ],
           "sequentialminus": [
            [
             0,
             "#0d0887"
            ],
            [
             0.1111111111111111,
             "#46039f"
            ],
            [
             0.2222222222222222,
             "#7201a8"
            ],
            [
             0.3333333333333333,
             "#9c179e"
            ],
            [
             0.4444444444444444,
             "#bd3786"
            ],
            [
             0.5555555555555556,
             "#d8576b"
            ],
            [
             0.6666666666666666,
             "#ed7953"
            ],
            [
             0.7777777777777778,
             "#fb9f3a"
            ],
            [
             0.8888888888888888,
             "#fdca26"
            ],
            [
             1,
             "#f0f921"
            ]
           ]
          },
          "colorway": [
           "#636efa",
           "#EF553B",
           "#00cc96",
           "#ab63fa",
           "#FFA15A",
           "#19d3f3",
           "#FF6692",
           "#B6E880",
           "#FF97FF",
           "#FECB52"
          ],
          "font": {
           "color": "#2a3f5f"
          },
          "geo": {
           "bgcolor": "white",
           "lakecolor": "white",
           "landcolor": "#E5ECF6",
           "showlakes": true,
           "showland": true,
           "subunitcolor": "white"
          },
          "hoverlabel": {
           "align": "left"
          },
          "hovermode": "closest",
          "mapbox": {
           "style": "light"
          },
          "paper_bgcolor": "white",
          "plot_bgcolor": "#E5ECF6",
          "polar": {
           "angularaxis": {
            "gridcolor": "white",
            "linecolor": "white",
            "ticks": ""
           },
           "bgcolor": "#E5ECF6",
           "radialaxis": {
            "gridcolor": "white",
            "linecolor": "white",
            "ticks": ""
           }
          },
          "scene": {
           "xaxis": {
            "backgroundcolor": "#E5ECF6",
            "gridcolor": "white",
            "gridwidth": 2,
            "linecolor": "white",
            "showbackground": true,
            "ticks": "",
            "zerolinecolor": "white"
           },
           "yaxis": {
            "backgroundcolor": "#E5ECF6",
            "gridcolor": "white",
            "gridwidth": 2,
            "linecolor": "white",
            "showbackground": true,
            "ticks": "",
            "zerolinecolor": "white"
           },
           "zaxis": {
            "backgroundcolor": "#E5ECF6",
            "gridcolor": "white",
            "gridwidth": 2,
            "linecolor": "white",
            "showbackground": true,
            "ticks": "",
            "zerolinecolor": "white"
           }
          },
          "shapedefaults": {
           "line": {
            "color": "#2a3f5f"
           }
          },
          "ternary": {
           "aaxis": {
            "gridcolor": "white",
            "linecolor": "white",
            "ticks": ""
           },
           "baxis": {
            "gridcolor": "white",
            "linecolor": "white",
            "ticks": ""
           },
           "bgcolor": "#E5ECF6",
           "caxis": {
            "gridcolor": "white",
            "linecolor": "white",
            "ticks": ""
           }
          },
          "title": {
           "x": 0.05
          },
          "xaxis": {
           "automargin": true,
           "gridcolor": "white",
           "linecolor": "white",
           "ticks": "",
           "title": {
            "standoff": 15
           },
           "zerolinecolor": "white",
           "zerolinewidth": 2
          },
          "yaxis": {
           "automargin": true,
           "gridcolor": "white",
           "linecolor": "white",
           "ticks": "",
           "title": {
            "standoff": 15
           },
           "zerolinecolor": "white",
           "zerolinewidth": 2
          }
         }
        },
        "title": {
         "text": "Cluster Comparison: Ground Truth vs Prediction"
        },
        "width": 1000,
        "xaxis": {
         "anchor": "y",
         "domain": [
          0,
          0.45
         ]
        },
        "xaxis2": {
         "anchor": "y2",
         "domain": [
          0.55,
          1
         ]
        },
        "yaxis": {
         "anchor": "x",
         "domain": [
          0,
          1
         ]
        },
        "yaxis2": {
         "anchor": "x2",
         "domain": [
          0,
          1
         ]
        }
       }
      }
     },
     "metadata": {},
     "output_type": "display_data"
    },
    {
     "data": {
      "text/plain": [
       "([[378,\n",
       "   9,\n",
       "   49,\n",
       "   415,\n",
       "   355,\n",
       "   286,\n",
       "   404,\n",
       "   408,\n",
       "   279,\n",
       "   184,\n",
       "   271,\n",
       "   261,\n",
       "   410,\n",
       "   277,\n",
       "   43,\n",
       "   10,\n",
       "   107,\n",
       "   365,\n",
       "   61,\n",
       "   158,\n",
       "   47,\n",
       "   360,\n",
       "   325,\n",
       "   46,\n",
       "   403,\n",
       "   205,\n",
       "   362,\n",
       "   44,\n",
       "   391,\n",
       "   85,\n",
       "   18,\n",
       "   380,\n",
       "   48,\n",
       "   352,\n",
       "   133,\n",
       "   4,\n",
       "   399,\n",
       "   255,\n",
       "   56,\n",
       "   152,\n",
       "   218,\n",
       "   357,\n",
       "   361,\n",
       "   293,\n",
       "   372,\n",
       "   280,\n",
       "   38,\n",
       "   195,\n",
       "   111,\n",
       "   346,\n",
       "   252,\n",
       "   386,\n",
       "   348,\n",
       "   177,\n",
       "   246,\n",
       "   363,\n",
       "   136,\n",
       "   171,\n",
       "   366,\n",
       "   388,\n",
       "   212,\n",
       "   359,\n",
       "   226,\n",
       "   263,\n",
       "   295,\n",
       "   318,\n",
       "   266,\n",
       "   242,\n",
       "   155,\n",
       "   395,\n",
       "   256,\n",
       "   267,\n",
       "   314,\n",
       "   259,\n",
       "   15,\n",
       "   412,\n",
       "   24,\n",
       "   60,\n",
       "   209,\n",
       "   220,\n",
       "   273,\n",
       "   245,\n",
       "   0,\n",
       "   257,\n",
       "   236,\n",
       "   1,\n",
       "   13,\n",
       "   189,\n",
       "   197,\n",
       "   340,\n",
       "   131,\n",
       "   42,\n",
       "   203,\n",
       "   270,\n",
       "   188,\n",
       "   153,\n",
       "   405,\n",
       "   150,\n",
       "   7,\n",
       "   21,\n",
       "   162,\n",
       "   202,\n",
       "   345,\n",
       "   258,\n",
       "   5,\n",
       "   320,\n",
       "   398,\n",
       "   210,\n",
       "   33,\n",
       "   297,\n",
       "   160,\n",
       "   241,\n",
       "   301,\n",
       "   161,\n",
       "   151,\n",
       "   282,\n",
       "   55,\n",
       "   28,\n",
       "   159,\n",
       "   303,\n",
       "   272,\n",
       "   354,\n",
       "   294,\n",
       "   409,\n",
       "   296,\n",
       "   292,\n",
       "   200,\n",
       "   230,\n",
       "   169,\n",
       "   149,\n",
       "   278,\n",
       "   382,\n",
       "   290,\n",
       "   214,\n",
       "   141,\n",
       "   232,\n",
       "   104,\n",
       "   198,\n",
       "   276,\n",
       "   298,\n",
       "   106,\n",
       "   251,\n",
       "   396,\n",
       "   387,\n",
       "   2,\n",
       "   414,\n",
       "   11,\n",
       "   274,\n",
       "   344,\n",
       "   199,\n",
       "   240,\n",
       "   103,\n",
       "   217,\n",
       "   229,\n",
       "   371,\n",
       "   14,\n",
       "   41,\n",
       "   351,\n",
       "   187,\n",
       "   323,\n",
       "   356,\n",
       "   102,\n",
       "   134,\n",
       "   268,\n",
       "   353,\n",
       "   97,\n",
       "   309,\n",
       "   120,\n",
       "   142,\n",
       "   3,\n",
       "   238,\n",
       "   26,\n",
       "   110,\n",
       "   145,\n",
       "   59,\n",
       "   146,\n",
       "   289,\n",
       "   375,\n",
       "   62,\n",
       "   83,\n",
       "   113,\n",
       "   130,\n",
       "   335,\n",
       "   288,\n",
       "   6,\n",
       "   114,\n",
       "   99,\n",
       "   331,\n",
       "   52,\n",
       "   402,\n",
       "   376,\n",
       "   231,\n",
       "   377,\n",
       "   81,\n",
       "   411,\n",
       "   123,\n",
       "   369,\n",
       "   93,\n",
       "   368,\n",
       "   12,\n",
       "   317,\n",
       "   22,\n",
       "   109,\n",
       "   334,\n",
       "   364,\n",
       "   163,\n",
       "   392,\n",
       "   32,\n",
       "   308,\n",
       "   139,\n",
       "   172,\n",
       "   82,\n",
       "   140,\n",
       "   406,\n",
       "   88,\n",
       "   225,\n",
       "   105,\n",
       "   254,\n",
       "   237,\n",
       "   336,\n",
       "   180,\n",
       "   27,\n",
       "   25,\n",
       "   367,\n",
       "   164,\n",
       "   291,\n",
       "   94,\n",
       "   370,\n",
       "   393,\n",
       "   19,\n",
       "   53,\n",
       "   264,\n",
       "   319,\n",
       "   154,\n",
       "   216,\n",
       "   143,\n",
       "   138,\n",
       "   250,\n",
       "   20,\n",
       "   322,\n",
       "   124,\n",
       "   30,\n",
       "   213,\n",
       "   118,\n",
       "   269,\n",
       "   283,\n",
       "   36,\n",
       "   313,\n",
       "   285,\n",
       "   112,\n",
       "   228,\n",
       "   227,\n",
       "   306,\n",
       "   275,\n",
       "   206,\n",
       "   39,\n",
       "   379,\n",
       "   304,\n",
       "   34,\n",
       "   381,\n",
       "   330,\n",
       "   147,\n",
       "   74,\n",
       "   98,\n",
       "   31,\n",
       "   50,\n",
       "   23,\n",
       "   182,\n",
       "   262,\n",
       "   96,\n",
       "   321,\n",
       "   92,\n",
       "   307,\n",
       "   347,\n",
       "   35,\n",
       "   215,\n",
       "   305,\n",
       "   374,\n",
       "   70,\n",
       "   122,\n",
       "   249,\n",
       "   80,\n",
       "   338,\n",
       "   144,\n",
       "   390,\n",
       "   223,\n",
       "   343,\n",
       "   401,\n",
       "   100,\n",
       "   339,\n",
       "   287,\n",
       "   207,\n",
       "   95,\n",
       "   89,\n",
       "   284,\n",
       "   108,\n",
       "   219,\n",
       "   253,\n",
       "   132,\n",
       "   315,\n",
       "   222,\n",
       "   66,\n",
       "   57,\n",
       "   126,\n",
       "   208,\n",
       "   166,\n",
       "   244,\n",
       "   384,\n",
       "   51,\n",
       "   247,\n",
       "   221,\n",
       "   192,\n",
       "   397,\n",
       "   342,\n",
       "   385,\n",
       "   239,\n",
       "   73,\n",
       "   117,\n",
       "   341,\n",
       "   326,\n",
       "   243,\n",
       "   316],\n",
       "  [233, 248, 235, 234, 137, 204, 328, 170, 281, 121, 260, 115, 329],\n",
       "  [71, 63, 167, 181, 174, 311, 86, 179, 76, 8],\n",
       "  [90, 72, 116, 176, 183, 125, 119, 358],\n",
       "  [310, 193, 65, 168, 175, 178],\n",
       "  [191, 194, 101, 400, 148],\n",
       "  [87, 16, 211, 350],\n",
       "  [337, 383, 300],\n",
       "  [45, 78, 157],\n",
       "  [327, 77, 156],\n",
       "  [128, 173],\n",
       "  [407, 127],\n",
       "  [333, 413],\n",
       "  [190, 302],\n",
       "  [68, 224],\n",
       "  [332, 265],\n",
       "  [165, 312],\n",
       "  [58, 394],\n",
       "  [389],\n",
       "  [185],\n",
       "  [135],\n",
       "  [84],\n",
       "  [196],\n",
       "  [129],\n",
       "  [373],\n",
       "  [54],\n",
       "  [201],\n",
       "  [29],\n",
       "  [75],\n",
       "  [64],\n",
       "  [17],\n",
       "  [349],\n",
       "  [79],\n",
       "  [299],\n",
       "  [67],\n",
       "  [37],\n",
       "  [324],\n",
       "  [69],\n",
       "  [91],\n",
       "  [40],\n",
       "  [186]],\n",
       " Figure({\n",
       "     'data': [{'legendgroup': 'gt',\n",
       "               'marker': {'color': '#1f77b4', 'size': 6},\n",
       "               'mode': 'markers',\n",
       "               'name': 'GT Group 0',\n",
       "               'showlegend': False,\n",
       "               'type': 'scatter',\n",
       "               'x': {'bdata': 'lryZQf6LtUHZ4ARCCIP/wCxIzMEl9iVBjuMswQ==', 'dtype': 'f4'},\n",
       "               'xaxis': 'x',\n",
       "               'y': {'bdata': 'y1yWwPHCacBe2Ck/NoTRQBRJxcG4qStAztaFQg==', 'dtype': 'f4'},\n",
       "               'yaxis': 'y'},\n",
       "              {'legendgroup': 'gt',\n",
       "               'marker': {'color': '#1f77b4', 'size': 6},\n",
       "               'mode': 'markers',\n",
       "               'name': 'GT Group 1',\n",
       "               'showlegend': False,\n",
       "               'type': 'scatter',\n",
       "               'x': {'bdata': 'jvQWwrIrOEHCEc/BYoLHwW/MF8KyOYLBAXiaQXKyH0IrdTbB7DsZQg==', 'dtype': 'f4'},\n",
       "               'xaxis': 'x',\n",
       "               'y': {'bdata': 'kb6LwVRFFsJQZZpAz9CkQMwaj8HK399Bw8//wTUO10DRlwjBGSgFQg==', 'dtype': 'f4'},\n",
       "               'yaxis': 'y'},\n",
       "              {'legendgroup': 'gt',\n",
       "               'marker': {'color': '#1f77b4', 'size': 6},\n",
       "               'mode': 'markers',\n",
       "               'name': 'GT Group 2',\n",
       "               'showlegend': False,\n",
       "               'type': 'scatter',\n",
       "               'x': {'bdata': 'EiCOP7BOjMHsZ/VBgpb5QWw0k8ElIqU9vE+CwX47aME=', 'dtype': 'f4'},\n",
       "               'xaxis': 'x',\n",
       "               'y': {'bdata': 'iOdBwhIbGj/HHRTC8lkTwmymiD910jTBi57QQUyezkE=', 'dtype': 'f4'},\n",
       "               'yaxis': 'y'},\n",
       "              {'legendgroup': 'gt',\n",
       "               'marker': {'color': '#aec7e8', 'size': 6},\n",
       "               'mode': 'markers',\n",
       "               'name': 'GT Group 3',\n",
       "               'showlegend': False,\n",
       "               'type': 'scatter',\n",
       "               'x': {'bdata': '5B87Qnp6C0Gp5arBT13hwbXFPcE1aODBAxgiQQ==', 'dtype': 'f4'},\n",
       "               'xaxis': 'x',\n",
       "               'y': {'bdata': '4E8gQno0c0JJSClBQljawZB8b8In1i3CJ8pxQg==', 'dtype': 'f4'},\n",
       "               'yaxis': 'y'},\n",
       "              {'legendgroup': 'gt',\n",
       "               'marker': {'color': '#aec7e8', 'size': 6},\n",
       "               'mode': 'markers',\n",
       "               'name': 'GT Group 4',\n",
       "               'showlegend': False,\n",
       "               'type': 'scatter',\n",
       "               'x': {'bdata': 'Tls8QrGNA0JtvUJC8Lc3QsC4OUJ9VRPCtOQGQQ==', 'dtype': 'f4'},\n",
       "               'xaxis': 'x',\n",
       "               'y': {'bdata': 'HRUjQsajiz7tQiRCVzAtQlOgKkIBBXPCThY7QA==', 'dtype': 'f4'},\n",
       "               'yaxis': 'y'},\n",
       "              {'legendgroup': 'gt',\n",
       "               'marker': {'color': '#ff7f0e', 'size': 6},\n",
       "               'mode': 'markers',\n",
       "               'name': 'GT Group 5',\n",
       "               'showlegend': False,\n",
       "               'type': 'scatter',\n",
       "               'x': {'bdata': 'eXnTQcimf78=', 'dtype': 'f4'},\n",
       "               'xaxis': 'x',\n",
       "               'y': {'bdata': 'pKphQl18icI=', 'dtype': 'f4'},\n",
       "               'yaxis': 'y'},\n",
       "              {'legendgroup': 'gt',\n",
       "               'marker': {'color': '#ff7f0e', 'size': 6},\n",
       "               'mode': 'markers',\n",
       "               'name': 'GT Group 6',\n",
       "               'showlegend': False,\n",
       "               'type': 'scatter',\n",
       "               'x': {'bdata': '8UgtQq5PocE=', 'dtype': 'f4'},\n",
       "               'xaxis': 'x',\n",
       "               'y': {'bdata': 'pBNFwc6ETEE=', 'dtype': 'f4'},\n",
       "               'yaxis': 'y'},\n",
       "              {'legendgroup': 'gt',\n",
       "               'marker': {'color': '#ff7f0e', 'size': 6},\n",
       "               'mode': 'markers',\n",
       "               'name': 'GT Group 7',\n",
       "               'showlegend': False,\n",
       "               'type': 'scatter',\n",
       "               'x': {'bdata': 'DHwIwZwS2MEGUcXBbezQwQaMLcGxcWfBduMzQIXAaMBwxs5BfksfQuEXB8I=', 'dtype': 'f4'},\n",
       "               'xaxis': 'x',\n",
       "               'y': {'bdata': 'MkNmQhZA08HuSGDCuxC6wS+b4MChUZxBLIEWQkUvu0F76zDCwLE5QX7yg0I=', 'dtype': 'f4'},\n",
       "               'yaxis': 'y'},\n",
       "              {'legendgroup': 'gt',\n",
       "               'marker': {'color': '#ffbb78', 'size': 6},\n",
       "               'mode': 'markers',\n",
       "               'name': 'GT Group 8',\n",
       "               'showlegend': False,\n",
       "               'type': 'scatter',\n",
       "               'x': {'bdata': 'UlDkwcnLUsGODUjCQlfewIPYDMI=', 'dtype': 'f4'},\n",
       "               'xaxis': 'x',\n",
       "               'y': {'bdata': 'WlyZQhGPS0L6CaXBRupFwhbgXUI=', 'dtype': 'f4'},\n",
       "               'yaxis': 'y'},\n",
       "              {'legendgroup': 'gt',\n",
       "               'marker': {'color': '#ffbb78', 'size': 6},\n",
       "               'mode': 'markers',\n",
       "               'name': 'GT Group 9',\n",
       "               'showlegend': False,\n",
       "               'type': 'scatter',\n",
       "               'x': {'bdata': 'vzw0wvMpRj+GH5A/', 'dtype': 'f4'},\n",
       "               'xaxis': 'x',\n",
       "               'y': {'bdata': 'Jh8AQQ85UUKrsxfB', 'dtype': 'f4'},\n",
       "               'yaxis': 'y'},\n",
       "              {'legendgroup': 'gt',\n",
       "               'marker': {'color': '#2ca02c', 'size': 6},\n",
       "               'mode': 'markers',\n",
       "               'name': 'GT Group 10',\n",
       "               'showlegend': False,\n",
       "               'type': 'scatter',\n",
       "               'x': {'bdata': 'SZcRwb8e6sFVsNzB', 'dtype': 'f4'},\n",
       "               'xaxis': 'x',\n",
       "               'y': {'bdata': 'f1BvQnzDfsJ6Ie3B', 'dtype': 'f4'},\n",
       "               'yaxis': 'y'},\n",
       "              {'legendgroup': 'gt',\n",
       "               'marker': {'color': '#2ca02c', 'size': 6},\n",
       "               'mode': 'markers',\n",
       "               'name': 'GT Group 11',\n",
       "               'showlegend': False,\n",
       "               'type': 'scatter',\n",
       "               'x': {'bdata': 'FlHtwdbkGsHNvBDC9RkPwg==', 'dtype': 'f4'},\n",
       "               'xaxis': 'x',\n",
       "               'y': {'bdata': 'l9lSwghBhULi1EnCDARMwg==', 'dtype': 'f4'},\n",
       "               'yaxis': 'y'},\n",
       "              {'legendgroup': 'gt',\n",
       "               'marker': {'color': '#98df8a', 'size': 6},\n",
       "               'mode': 'markers',\n",
       "               'name': 'GT Group 12',\n",
       "               'showlegend': False,\n",
       "               'type': 'scatter',\n",
       "               'x': {'bdata': 'ClOjQUvb7sHIcgPAxO2vQA3SakG2snBB', 'dtype': 'f4'},\n",
       "               'xaxis': 'x',\n",
       "               'y': {'bdata': '/qMvQnI2LcJUo2XCFqdxQWjwN8K6pIxB', 'dtype': 'f4'},\n",
       "               'yaxis': 'y'},\n",
       "              {'legendgroup': 'gt',\n",
       "               'marker': {'color': '#98df8a', 'size': 6},\n",
       "               'mode': 'markers',\n",
       "               'name': 'GT Group 13',\n",
       "               'showlegend': False,\n",
       "               'type': 'scatter',\n",
       "               'x': {'bdata': 'LNaqwE9e9cFmjg7AFxfwwa9lHMHdVUBBAJ+dQXTYhUFqbK1AbFjSwfFyEsLkkDjC', 'dtype': 'f4'},\n",
       "               'xaxis': 'x',\n",
       "               'y': {'bdata': 'M/iEwjCyYMLsgYfC9XZiwpmkc8JS+Q7CcM/lvyvMpUHFyRNCG/gvwhvSb0D/0gbC', 'dtype': 'f4'},\n",
       "               'yaxis': 'y'},\n",
       "              {'legendgroup': 'gt',\n",
       "               'marker': {'color': '#98df8a', 'size': 6},\n",
       "               'mode': 'markers',\n",
       "               'name': 'GT Group 14',\n",
       "               'showlegend': False,\n",
       "               'type': 'scatter',\n",
       "               'x': {'bdata': 'xm1xQq1lMUIzFqZAxkGKQvrO48F3CJ5B', 'dtype': 'f4'},\n",
       "               'xaxis': 'x',\n",
       "               'y': {'bdata': '1TL7wArpQ8FuK8bByrfMv7fGZMJG/JdB', 'dtype': 'f4'},\n",
       "               'yaxis': 'y'},\n",
       "              {'legendgroup': 'gt',\n",
       "               'marker': {'color': '#d62728', 'size': 6},\n",
       "               'mode': 'markers',\n",
       "               'name': 'GT Group 15',\n",
       "               'showlegend': False,\n",
       "               'type': 'scatter',\n",
       "               'x': {'bdata': 'wyDZPkL9G0IUSUdCxGxwQpYqSEBIyxVCA7QgQg==', 'dtype': 'f4'},\n",
       "               'xaxis': 'x',\n",
       "               'y': {'bdata': 'mgiVQVGqSMEn+HzBwv2vwLhePcEap03Bx+TFwA==', 'dtype': 'f4'},\n",
       "               'yaxis': 'y'},\n",
       "              {'legendgroup': 'gt',\n",
       "               'marker': {'color': '#d62728', 'size': 6},\n",
       "               'mode': 'markers',\n",
       "               'name': 'GT Group 16',\n",
       "               'showlegend': False,\n",
       "               'type': 'scatter',\n",
       "               'x': {'bdata': 'lEmDQnx+J8DEuiVCqhUrQrOsI0JQGTpC', 'dtype': 'f4'},\n",
       "               'xaxis': 'x',\n",
       "               'y': {'bdata': 'ReYpPRZFukHxDoTBZEcuwWN0jMGzM3LB', 'dtype': 'f4'},\n",
       "               'yaxis': 'y'},\n",
       "              {'legendgroup': 'gt',\n",
       "               'marker': {'color': '#ff9896', 'size': 6},\n",
       "               'mode': 'markers',\n",
       "               'name': 'GT Group 17',\n",
       "               'showlegend': False,\n",
       "               'type': 'scatter',\n",
       "               'x': {'bdata': 'i8grQoYdUsH6LTxCIPdyQclpaEJh7oBCqhirQTRsAEA=', 'dtype': 'f4'},\n",
       "               'xaxis': 'x',\n",
       "               'y': {'bdata': 'MbtcwSoOSkKncoPB1BWeQawtqsDFCztA6gE/wuhMUME=', 'dtype': 'f4'},\n",
       "               'yaxis': 'y'},\n",
       "              {'legendgroup': 'gt',\n",
       "               'marker': {'color': '#ff9896', 'size': 6},\n",
       "               'mode': 'markers',\n",
       "               'name': 'GT Group 18',\n",
       "               'showlegend': False,\n",
       "               'type': 'scatter',\n",
       "               'x': {'bdata': 'i5q6wYBDnUCPw41CO5duv7S+7kCjWo5CUbgeQg==', 'dtype': 'f4'},\n",
       "               'xaxis': 'x',\n",
       "               'y': {'bdata': '5XS9wUeHmEGVWgfAGwK1QXhknsF2SybATT6RQQ==', 'dtype': 'f4'},\n",
       "               'yaxis': 'y'},\n",
       "              {'legendgroup': 'gt',\n",
       "               'marker': {'color': '#ff9896', 'size': 6},\n",
       "               'mode': 'markers',\n",
       "               'name': 'GT Group 19',\n",
       "               'showlegend': False,\n",
       "               'type': 'scatter',\n",
       "               'x': {'bdata': 'kiYLwm2FjkG27KpBC11wQvfNkEI=', 'dtype': 'f4'},\n",
       "               'xaxis': 'x',\n",
       "               'y': {'bdata': 'ULuGQsGivMAlTDPCh8XBwNv2AsA=', 'dtype': 'f4'},\n",
       "               'yaxis': 'y'},\n",
       "              {'legendgroup': 'gt',\n",
       "               'marker': {'color': '#9467bd', 'size': 6},\n",
       "               'mode': 'markers',\n",
       "               'name': 'GT Group 20',\n",
       "               'showlegend': False,\n",
       "               'type': 'scatter',\n",
       "               'x': {'bdata': 'Oc6DQg==', 'dtype': 'f4'},\n",
       "               'xaxis': 'x',\n",
       "               'y': {'bdata': 'wQ22vg==', 'dtype': 'f4'},\n",
       "               'yaxis': 'y'},\n",
       "              {'legendgroup': 'gt',\n",
       "               'marker': {'color': '#9467bd', 'size': 6},\n",
       "               'mode': 'markers',\n",
       "               'name': 'GT Group 21',\n",
       "               'showlegend': False,\n",
       "               'type': 'scatter',\n",
       "               'x': {'bdata': 'geSHwDuiXcI=', 'dtype': 'f4'},\n",
       "               'xaxis': 'x',\n",
       "               'y': {'bdata': 'nC+Dwhsfm8E=', 'dtype': 'f4'},\n",
       "               'yaxis': 'y'},\n",
       "              {'legendgroup': 'gt',\n",
       "               'marker': {'color': '#c5b0d5', 'size': 6},\n",
       "               'mode': 'markers',\n",
       "               'name': 'GT Group 22',\n",
       "               'showlegend': False,\n",
       "               'type': 'scatter',\n",
       "               'x': {'bdata': 'RhcawtqgoUB/dePAk9kjwQ==', 'dtype': 'f4'},\n",
       "               'xaxis': 'x',\n",
       "               'y': {'bdata': 'CsqZwQvRJULogzZCj/RwQg==', 'dtype': 'f4'},\n",
       "               'yaxis': 'y'},\n",
       "              {'legendgroup': 'gt',\n",
       "               'marker': {'color': '#c5b0d5', 'size': 6},\n",
       "               'mode': 'markers',\n",
       "               'name': 'GT Group 23',\n",
       "               'showlegend': False,\n",
       "               'type': 'scatter',\n",
       "               'x': {'bdata': ('t0oFQpkDRsKni5NC1TakwdeFIUKLCf' ... 'Gop3BBQQ+gQafCIEJEgAQ/f/0Uwg=='),\n",
       "                     'dtype': 'f4'},\n",
       "               'xaxis': 'x',\n",
       "               'y': {'bdata': ('cd0uQQzsT8FvkOK/HtdBQTni3kE1YS' ... 'IYopRBNdLPQTDWP8GVt41B3Y78QQ=='),\n",
       "                     'dtype': 'f4'},\n",
       "               'yaxis': 'y'},\n",
       "              {'legendgroup': 'gt',\n",
       "               'marker': {'color': '#8c564b', 'size': 6},\n",
       "               'mode': 'markers',\n",
       "               'name': 'GT Group 24',\n",
       "               'showlegend': False,\n",
       "               'type': 'scatter',\n",
       "               'x': {'bdata': 'fXynwQF6L8JKPefBfAE5wSHER8E+cQXCUsMBwlkZF0EObt3BxecMQr0rMEDAiUvB', 'dtype': 'f4'},\n",
       "               'xaxis': 'x',\n",
       "               'y': {'bdata': 'UPKHwbuZKL9+/DRBJuqaQLMxeMKGllzCvj0YvbuKtEDT8SlByzMjQcaeDsEts5dB', 'dtype': 'f4'},\n",
       "               'yaxis': 'y'},\n",
       "              {'legendgroup': 'gt',\n",
       "               'marker': {'color': '#8c564b', 'size': 6},\n",
       "               'mode': 'markers',\n",
       "               'name': 'GT Group 25',\n",
       "               'showlegend': False,\n",
       "               'type': 'scatter',\n",
       "               'x': {'bdata': 'xGPxwTQH/8FOyDnBHyDtwRv1jMGWoCVCB+cNQhatqMF+C7vBLYZlwkEP78E1k77B', 'dtype': 'f4'},\n",
       "               'xaxis': 'x',\n",
       "               'y': {'bdata': 'M6rBwVp8ZsJ4ucE/83R5wr01U8KvX07AOJf/QWPIisH4LMvBFAWPwY+rdcJnjmPC', 'dtype': 'f4'},\n",
       "               'yaxis': 'y'},\n",
       "              {'legendgroup': 'gt',\n",
       "               'marker': {'color': '#8c564b', 'size': 6},\n",
       "               'mode': 'markers',\n",
       "               'name': 'GT Group 26',\n",
       "               'showlegend': False,\n",
       "               'type': 'scatter',\n",
       "               'x': {'bdata': 'zii1QXd8CcIq6fnBJ/m6Qbr2GsJIgPbB9iz7wcRVd0CLfKXBvJ3/wcTH78E=', 'dtype': 'f4'},\n",
       "               'xaxis': 'x',\n",
       "               'y': {'bdata': 'kFVFwhmOKL+oKkLCTptJwiLrAr/CQjvCmVm6wczCxsGsSpbAhL0swkkHS8I=', 'dtype': 'f4'},\n",
       "               'yaxis': 'y'},\n",
       "              {'legendgroup': 'gt',\n",
       "               'marker': {'color': '#c49c94', 'size': 6},\n",
       "               'mode': 'markers',\n",
       "               'name': 'GT Group 27',\n",
       "               'showlegend': False,\n",
       "               'type': 'scatter',\n",
       "               'x': {'bdata': 'IIgewiTNFsL2WidA8F7/wRBOl0G8ZtNBJFiewcJDoEE=', 'dtype': 'f4'},\n",
       "               'xaxis': 'x',\n",
       "               'y': {'bdata': 'Mt5aQDqgP0DxAyFCGyUmwm/0q0Gk+19CjVhawogJzUE=', 'dtype': 'f4'},\n",
       "               'yaxis': 'y'},\n",
       "              {'legendgroup': 'gt',\n",
       "               'marker': {'color': '#c49c94', 'size': 6},\n",
       "               'mode': 'markers',\n",
       "               'name': 'GT Group 28',\n",
       "               'showlegend': False,\n",
       "               'type': 'scatter',\n",
       "               'x': {'bdata': ('h072PlsXAUK0alxBj+AgwcqeCkEBEg' ... 'VBQaBIQr9ePMIs1U7B6vbJv+np/kE='),\n",
       "                     'dtype': 'f4'},\n",
       "               'xaxis': 'x',\n",
       "               'y': {'bdata': ('BmmBQXikeMG0V6xBaJYKwZKnu8Ezk6' ... '/C01HLQbqZAcLywOc/ZHRFQigFecE='),\n",
       "                     'dtype': 'f4'},\n",
       "               'yaxis': 'y'},\n",
       "              {'legendgroup': 'gt',\n",
       "               'marker': {'color': '#e377c2', 'size': 6},\n",
       "               'mode': 'markers',\n",
       "               'name': 'GT Group 29',\n",
       "               'showlegend': False,\n",
       "               'type': 'scatter',\n",
       "               'x': {'bdata': ('dzU4waUDl0GM01G+sZIlQeit68Gijy' ... 'hC2e4NwlkxVkFY0E/B7+5IQpH8TUI='),\n",
       "                     'dtype': 'f4'},\n",
       "               'xaxis': 'x',\n",
       "               'y': {'bdata': ('5/yBQrFjn0HYe+3AKi62wUYa3sHG1E' ... 'HBEUlUwmM3DcK5uSRByPqCwUDxi8E='),\n",
       "                     'dtype': 'f4'},\n",
       "               'yaxis': 'y'},\n",
       "              {'legendgroup': 'gt',\n",
       "               'marker': {'color': '#e377c2', 'size': 6},\n",
       "               'mode': 'markers',\n",
       "               'name': 'GT Group 30',\n",
       "               'showlegend': False,\n",
       "               'type': 'scatter',\n",
       "               'x': {'bdata': 'G8XNQfLxUEK+ikXCICBQQg==', 'dtype': 'f4'},\n",
       "               'xaxis': 'x',\n",
       "               'y': {'bdata': 'QXMVwg/klkEu8UrBvH+RQQ==', 'dtype': 'f4'},\n",
       "               'yaxis': 'y'},\n",
       "              {'legendgroup': 'gt',\n",
       "               'marker': {'color': '#e377c2', 'size': 6},\n",
       "               'mode': 'markers',\n",
       "               'name': 'GT Group 31',\n",
       "               'showlegend': False,\n",
       "               'type': 'scatter',\n",
       "               'x': {'bdata': 'sG2KQQPfEEKNKBNCMJrGQcAsCsE=', 'dtype': 'f4'},\n",
       "               'xaxis': 'x',\n",
       "               'y': {'bdata': 'WB8hQmu0AkIKOQZCKKoXwuLaxcE=', 'dtype': 'f4'},\n",
       "               'yaxis': 'y'},\n",
       "              {'legendgroup': 'gt',\n",
       "               'marker': {'color': '#f7b6d2', 'size': 6},\n",
       "               'mode': 'markers',\n",
       "               'name': 'GT Group 32',\n",
       "               'showlegend': False,\n",
       "               'type': 'scatter',\n",
       "               'x': {'bdata': ('qNaLQdtNKkL0WJxBjlmPQcY0+8CaLZ' ... 'Ky4SNCWdW6QRm0AMKqehVCsNkzQg=='),\n",
       "                     'dtype': 'f4'},\n",
       "               'xaxis': 'x',\n",
       "               'y': {'bdata': ('0TsnQrN60kFatyrCVmUnQs35vcHTQy' ... 'JEJ9VB7MxwwLQxC0GWkTBB6cEyQg=='),\n",
       "                     'dtype': 'f4'},\n",
       "               'yaxis': 'y'},\n",
       "              {'legendgroup': 'gt',\n",
       "               'marker': {'color': '#f7b6d2', 'size': 6},\n",
       "               'mode': 'markers',\n",
       "               'name': 'GT Group 33',\n",
       "               'showlegend': False,\n",
       "               'type': 'scatter',\n",
       "               'x': {'bdata': 'zYZlwi8tccEzyU5CdfdNQtrrSMKAXTLCuVK9wQ==', 'dtype': 'f4'},\n",
       "               'xaxis': 'x',\n",
       "               'y': {'bdata': 'jIGgwRoX0kFN1HlBSaFhQaVJqcGkfeO/3PuLQg==', 'dtype': 'f4'},\n",
       "               'yaxis': 'y'},\n",
       "              {'legendgroup': 'gt',\n",
       "               'marker': {'color': '#7f7f7f', 'size': 6},\n",
       "               'mode': 'markers',\n",
       "               'name': 'GT Group 34',\n",
       "               'showlegend': False,\n",
       "               'type': 'scatter',\n",
       "               'x': {'bdata': ('E+wDwj9nxMExXClBViZGwtif+MEZUQ' ... '7APoTfzMHf/HtAFXFIwo7L/kESHrBB'),\n",
       "                     'dtype': 'f4'},\n",
       "               'xaxis': 'x',\n",
       "               'y': {'bdata': ('1dgpwXzhCkJ2RyPB5BC9weyoWsLukj' ... 'EOwSr6bUKaGpBBlthpwQtDHkFOcSXC'),\n",
       "                     'dtype': 'f4'},\n",
       "               'yaxis': 'y'},\n",
       "              {'legendgroup': 'gt',\n",
       "               'marker': {'color': '#7f7f7f', 'size': 6},\n",
       "               'mode': 'markers',\n",
       "               'name': 'GT Group 35',\n",
       "               'showlegend': False,\n",
       "               'type': 'scatter',\n",
       "               'x': {'bdata': 'VZAJQR8sKsJoqMXB7gYvQq0pusHHRCpCBX65wQYY5MFJvgTBvynfQCSRGUI=', 'dtype': 'f4'},\n",
       "               'xaxis': 'x',\n",
       "               'y': {'bdata': '00hkQPnamUFruAxCTlEoQaKO+kEyMRnBEoX3QX0lokCeEBhB3wWFQLD9sMA=', 'dtype': 'f4'},\n",
       "               'yaxis': 'y'},\n",
       "              {'legendgroup': 'gt',\n",
       "               'marker': {'color': '#c7c7c7', 'size': 6},\n",
       "               'mode': 'markers',\n",
       "               'name': 'GT Group 36',\n",
       "               'showlegend': False,\n",
       "               'type': 'scatter',\n",
       "               'x': {'bdata': 'U1KRQbHYLcEUNSZB4yObQT/bUkLB8JrB7d2qwUjo3kA=', 'dtype': 'f4'},\n",
       "               'xaxis': 'x',\n",
       "               'y': {'bdata': 'plTqwbLzh0L6wxrBxeX2wSRBoEGOHs3ASXXWwfinHEI=', 'dtype': 'f4'},\n",
       "               'yaxis': 'y'},\n",
       "              {'legendgroup': 'gt',\n",
       "               'marker': {'color': '#c7c7c7', 'size': 6},\n",
       "               'mode': 'markers',\n",
       "               'name': 'GT Group 37',\n",
       "               'showlegend': False,\n",
       "               'type': 'scatter',\n",
       "               'x': {'bdata': 'V9HfQCQoFsK2tSXAu0wVwkq0+cAJXahBfvs3QlSW4b/jwz3Cr7WfPg==', 'dtype': 'f4'},\n",
       "               'xaxis': 'x',\n",
       "               'y': {'bdata': 'jhJvQpVbdMLvLEfCB6r/QaypgcI1qSzCuGAPwaKJTcKQbf/Bg+5Fwg==', 'dtype': 'f4'},\n",
       "               'yaxis': 'y'},\n",
       "              {'legendgroup': 'gt',\n",
       "               'marker': {'color': '#c7c7c7', 'size': 6},\n",
       "               'mode': 'markers',\n",
       "               'name': 'GT Group 38',\n",
       "               'showlegend': False,\n",
       "               'type': 'scatter',\n",
       "               'x': {'bdata': 'OriVQAhBNMIjxI7BRX6kwFhS1MEykzLCq9UeQrAx9r/5x1q/', 'dtype': 'f4'},\n",
       "               'xaxis': 'x',\n",
       "               'y': {'bdata': 'rhb9wY0gG8CIhGfCDzpRwgvLW8I0hPRAydpfQfz/UcL1MlLC', 'dtype': 'f4'},\n",
       "               'yaxis': 'y'},\n",
       "              {'legendgroup': 'gt',\n",
       "               'marker': {'color': '#bcbd22', 'size': 6},\n",
       "               'mode': 'markers',\n",
       "               'name': 'GT Group 39',\n",
       "               'showlegend': False,\n",
       "               'type': 'scatter',\n",
       "               'x': {'bdata': ('p2I3Qe5C2UBn+LnAWM0CQsVdgUFI3h' ... 'zBLKkzwbBp/EGYVwNBZkJmwi4DbcI='),\n",
       "                     'dtype': 'f4'},\n",
       "               'xaxis': 'x',\n",
       "               'y': {'bdata': ('D/EMwob87sGNyEnCVclDQYWIOcJZnJ' ... 'DC8HVwwkHohr9uBsTB9x2ZwcDFmcE='),\n",
       "                     'dtype': 'f4'},\n",
       "               'yaxis': 'y'},\n",
       "              {'legendgroup': 'gt',\n",
       "               'marker': {'color': '#bcbd22', 'size': 6},\n",
       "               'mode': 'markers',\n",
       "               'name': 'GT Group 40',\n",
       "               'showlegend': False,\n",
       "               'type': 'scatter',\n",
       "               'x': {'bdata': '/JaGQX3bHkLnCQbB+BsfQlesm0G5TjbAvTgQQtA4EkKYWFJAwNMAwXcYpUHHbBxC3PIwwQ==', 'dtype': 'f4'},\n",
       "               'xaxis': 'x',\n",
       "               'y': {'bdata': 'Vz89whpf/MBcsr3BwScVQbAFI8JXYw3BwUATQmq7DEK4lrDA+PBgQhDXA8LXdDNBdOTCwA==', 'dtype': 'f4'},\n",
       "               'yaxis': 'y'},\n",
       "              {'legendgroup': 'gt',\n",
       "               'marker': {'color': '#dbdb8d', 'size': 6},\n",
       "               'mode': 'markers',\n",
       "               'name': 'GT Group 41',\n",
       "               'showlegend': False,\n",
       "               'type': 'scatter',\n",
       "               'x': {'bdata': 'UGtXQmaQJMF6CtRB2ELhwCX68cBvFDzB', 'dtype': 'f4'},\n",
       "               'xaxis': 'x',\n",
       "               'y': {'bdata': 'YnSdwV8UBEHi/lBCtJgYwAsXPsAGRKPA', 'dtype': 'f4'},\n",
       "               'yaxis': 'y'},\n",
       "              {'legendgroup': 'gt',\n",
       "               'marker': {'color': '#dbdb8d', 'size': 6},\n",
       "               'mode': 'markers',\n",
       "               'name': 'GT Group 42',\n",
       "               'showlegend': False,\n",
       "               'type': 'scatter',\n",
       "               'x': {'bdata': '7qxqwchC4cG6bSZCkQx/Qh78KMKAITRCz1p4wVcQTsHFognBc2VnQPbTfUI=', 'dtype': 'f4'},\n",
       "               'xaxis': 'x',\n",
       "               'y': {'bdata': '37ypQcCGzEAsUJjAh8SRQA2NmUHx5SBBHhuWQQyG30F0unFC6XNfQdDPqEA=', 'dtype': 'f4'},\n",
       "               'yaxis': 'y'},\n",
       "              {'legendgroup': 'gt',\n",
       "               'marker': {'color': '#dbdb8d', 'size': 6},\n",
       "               'mode': 'markers',\n",
       "               'name': 'GT Group 43',\n",
       "               'showlegend': False,\n",
       "               'type': 'scatter',\n",
       "               'x': {'bdata': 'vHzYwECjSULyyPrBdKcBwnRx8MG9v7PBaX/XwQ==', 'dtype': 'f4'},\n",
       "               'xaxis': 'x',\n",
       "               'y': {'bdata': 'c+OCwm6HyEF0Q4VCGAmDQpF8lUDqNV6/a6JwQg==', 'dtype': 'f4'},\n",
       "               'yaxis': 'y'},\n",
       "              {'legendgroup': 'gt',\n",
       "               'marker': {'color': '#17becf', 'size': 6},\n",
       "               'mode': 'markers',\n",
       "               'name': 'GT Group 44',\n",
       "               'showlegend': False,\n",
       "               'type': 'scatter',\n",
       "               'x': {'bdata': ('1iC1wD1S38EwTI1AQwp7weIw2cCCdy' ... 'Cq1gvCOYYQP78TCcAtCQbC7QJxPw=='),\n",
       "                     'dtype': 'f4'},\n",
       "               'xaxis': 'x',\n",
       "               'y': {'bdata': ('Rm1VQr9VckL9AkVCvgtgwq/BiEJvmm' ... 'I3UF1C8C9TQtH1SUIY/X9CVhZaQg=='),\n",
       "                     'dtype': 'f4'},\n",
       "               'yaxis': 'y'},\n",
       "              {'legendgroup': 'gt',\n",
       "               'marker': {'color': '#17becf', 'size': 6},\n",
       "               'mode': 'markers',\n",
       "               'name': 'GT Group 45',\n",
       "               'showlegend': False,\n",
       "               'type': 'scatter',\n",
       "               'x': {'bdata': 'Ja0BQDpq68GatvHBnlawwDxJ0MAIl4hA6AaowA==', 'dtype': 'f4'},\n",
       "               'xaxis': 'x',\n",
       "               'y': {'bdata': 'OzIUQjqHckKn6X1C3r+GQii+SEItPhtCd9FLQg==', 'dtype': 'f4'},\n",
       "               'yaxis': 'y'},\n",
       "              {'legendgroup': 'gt',\n",
       "               'marker': {'color': '#9edae5', 'size': 6},\n",
       "               'mode': 'markers',\n",
       "               'name': 'GT Group 46',\n",
       "               'showlegend': False,\n",
       "               'type': 'scatter',\n",
       "               'x': {'bdata': 'Gc7zwRmcTj5FZr3BmFz4wX9/3sE=', 'dtype': 'f4'},\n",
       "               'xaxis': 'x',\n",
       "               'y': {'bdata': '5OyHQuS8VsJgrme/6Zf6QG4xMUA=', 'dtype': 'f4'},\n",
       "               'yaxis': 'y'},\n",
       "              {'legendgroup': 'gt',\n",
       "               'marker': {'color': '#9edae5', 'size': 6},\n",
       "               'mode': 'markers',\n",
       "               'name': 'GT Group 47',\n",
       "               'showlegend': False,\n",
       "               'type': 'scatter',\n",
       "               'x': {'bdata': 'n700QRcfmME=', 'dtype': 'f4'},\n",
       "               'xaxis': 'x',\n",
       "               'y': {'bdata': 'lU1AwYBYbkE=', 'dtype': 'f4'},\n",
       "               'yaxis': 'y'},\n",
       "              {'legendgroup': 'gt',\n",
       "               'marker': {'color': '#9edae5', 'size': 6},\n",
       "               'mode': 'markers',\n",
       "               'name': 'GT Group 48',\n",
       "               'showlegend': False,\n",
       "               'type': 'scatter',\n",
       "               'x': {'bdata': 'j5qBQB3ZsUBEuajB', 'dtype': 'f4'},\n",
       "               'xaxis': 'x',\n",
       "               'y': {'bdata': 'X0VQwleR98FhmoTA', 'dtype': 'f4'},\n",
       "               'yaxis': 'y'},\n",
       "              {'legendgroup': 'pred',\n",
       "               'marker': {'color': '#1f77b4', 'size': 6},\n",
       "               'mode': 'markers',\n",
       "               'name': 'Pred Group 0',\n",
       "               'showlegend': False,\n",
       "               'type': 'scatter',\n",
       "               'x': {'bdata': ('vb+zwcIRz8F24zNARLmowdzyMMEGGO' ... 'E7l26/ZkJmwkjEGcCaLZtB+cdavw=='),\n",
       "                     'dtype': 'f4'},\n",
       "               'xaxis': 'x2',\n",
       "               'y': {'bdata': ('6jVev1BlmkAsgRZCYZqEwHTkwsB9Ja' ... 'IbArVB9x2ZwdN8YMLTQyxC9TJSwg=='),\n",
       "                     'dtype': 'f4'},\n",
       "               'yaxis': 'y2'},\n",
       "              {'legendgroup': 'pred',\n",
       "               'marker': {'color': '#1f77b4', 'size': 6},\n",
       "               'mode': 'markers',\n",
       "               'name': 'Pred Group 1',\n",
       "               'showlegend': False,\n",
       "               'type': 'scatter',\n",
       "               'x': {'bdata': 'sG2KQXm+OEKNKBNCA98QQteFIUJhOL/Bq5LjwQfnDUJoqMXBkiYLwrlSvcGAQ51A+2rTvg==', 'dtype': 'f4'},\n",
       "               'xaxis': 'x2',\n",
       "               'y': {'bdata': 'WB8hQmcIGkIKOQZCa7QCQjni3kEbRItCAOKZQjiX/0FruAxCULuGQtz7i0JHh5hBpIW2QQ==', 'dtype': 'f4'},\n",
       "               'yaxis': 'y2'},\n",
       "              {'legendgroup': 'pred',\n",
       "               'marker': {'color': '#aec7e8', 'size': 6},\n",
       "               'mode': 'markers',\n",
       "               'name': 'Pred Group 2',\n",
       "               'showlegend': False,\n",
       "               'type': 'scatter',\n",
       "               'x': {'bdata': 'yHIDwL8e6sEfIO3BSID2wUEP78FFfqTA5JA4wif5ukFPXvXBsis4QQ==', 'dtype': 'f4'},\n",
       "               'xaxis': 'x2',\n",
       "               'y': {'bdata': 'VKNlwnzDfsLzdHnCwkI7wo+rdcIPOlHC/9IGwk6bScIwsmDCVEUWwg==', 'dtype': 'f4'},\n",
       "               'yaxis': 'y2'},\n",
       "              {'legendgroup': 'pred',\n",
       "               'marker': {'color': '#aec7e8', 'size': 6},\n",
       "               'mode': 'markers',\n",
       "               'name': 'Pred Group 3',\n",
       "               'showlegend': False,\n",
       "               'type': 'scatter',\n",
       "               'x': {'bdata': 'xkGKQsTtr0CPw41Czii1QcRVd0D3zZBCo1qOQnoK1EE=', 'dtype': 'f4'},\n",
       "               'xaxis': 'x2',\n",
       "               'y': {'bdata': 'yrfMvxancUGVWgfAkFVFwszCxsHb9gLAdksmwOL+UEI=', 'dtype': 'f4'},\n",
       "               'yaxis': 'y2'},\n",
       "              {'legendgroup': 'pred',\n",
       "               'marker': {'color': '#ff7f0e', 'size': 6},\n",
       "               'mode': 'markers',\n",
       "               'name': 'Pred Group 4',\n",
       "               'showlegend': False,\n",
       "               'type': 'scatter',\n",
       "               'x': {'bdata': 'I8SOwSRYnsEWUe3BG/WMwTWTvsEq6fnB', 'dtype': 'f4'},\n",
       "               'xaxis': 'x2',\n",
       "               'y': {'bdata': 'iIRnwo1YWsKX2VLCvTVTwmeOY8KoKkLC', 'dtype': 'f4'},\n",
       "               'yaxis': 'y2'},\n",
       "              {'legendgroup': 'pred',\n",
       "               'marker': {'color': '#ff7f0e', 'size': 6},\n",
       "               'mode': 'markers',\n",
       "               'name': 'Pred Group 5',\n",
       "               'showlegend': False,\n",
       "               'type': 'scatter',\n",
       "               'x': {'bdata': 'EE6XQcJDoEF8fifAOmrrwUEPoEE=', 'dtype': 'f4'},\n",
       "               'xaxis': 'x2',\n",
       "               'y': {'bdata': 'b/SrQYgJzUEWRbpBOodyQjXSz0E=', 'dtype': 'f4'},\n",
       "               'yaxis': 'y2'},\n",
       "              {'legendgroup': 'pred',\n",
       "               'marker': {'color': '#ffbb78', 'size': 6},\n",
       "               'mode': 'markers',\n",
       "               'name': 'Pred Group 6',\n",
       "               'showlegend': False,\n",
       "               'type': 'scatter',\n",
       "               'x': {'bdata': 'xm1xQuw7GULp6f5B0DgSQg==', 'dtype': 'f4'},\n",
       "               'xaxis': 'x2',\n",
       "               'y': {'bdata': '1TL7wBkoBUIoBXnBarsMQg==', 'dtype': 'f4'},\n",
       "               'yaxis': 'y2'},\n",
       "              {'legendgroup': 'pred',\n",
       "               'marker': {'color': '#ffbb78', 'size': 6},\n",
       "               'mode': 'markers',\n",
       "               'name': 'Pred Group 7',\n",
       "               'showlegend': False,\n",
       "               'type': 'scatter',\n",
       "               'x': {'bdata': 'foGMwUMKe8G2tSXA', 'dtype': 'f4'},\n",
       "               'xaxis': 'x2',\n",
       "               'y': {'bdata': 'OA1gwr4LYMLvLEfC', 'dtype': 'f4'},\n",
       "               'yaxis': 'y2'},\n",
       "              {'legendgroup': 'pred',\n",
       "               'marker': {'color': '#2ca02c', 'size': 6},\n",
       "               'mode': 'markers',\n",
       "               'name': 'Pred Group 8',\n",
       "               'showlegend': False,\n",
       "               'type': 'scatter',\n",
       "               'x': {'bdata': 'BlHFwRcX8ME+cQXC', 'dtype': 'f4'},\n",
       "               'xaxis': 'x2',\n",
       "               'y': {'bdata': '7khgwvV2YsKGllzC', 'dtype': 'f4'},\n",
       "               'yaxis': 'y2'},\n",
       "              {'legendgroup': 'pred',\n",
       "               'marker': {'color': '#2ca02c', 'size': 6},\n",
       "               'mode': 'markers',\n",
       "               'name': 'Pred Group 9',\n",
       "               'showlegend': False,\n",
       "               'type': 'scatter',\n",
       "               'x': {'bdata': 'm1ixwGaODsAhxEfB', 'dtype': 'f4'},\n",
       "               'xaxis': 'x2',\n",
       "               'y': {'bdata': 'y+GGwuyBh8KzMXjC', 'dtype': 'f4'},\n",
       "               'yaxis': 'y2'},\n",
       "              {'legendgroup': 'pred',\n",
       "               'marker': {'color': '#98df8a', 'size': 6},\n",
       "               'mode': 'markers',\n",
       "               'name': 'Pred Group 10',\n",
       "               'showlegend': False,\n",
       "               'type': 'scatter',\n",
       "               'x': {'bdata': 'O6Jdwi2GZcI=', 'dtype': 'f4'},\n",
       "               'xaxis': 'x2',\n",
       "               'y': {'bdata': 'Gx+bwRQFj8E=', 'dtype': 'f4'},\n",
       "               'yaxis': 'y2'},\n",
       "              {'legendgroup': 'pred',\n",
       "               'marker': {'color': '#98df8a', 'size': 6},\n",
       "               'mode': 'markers',\n",
       "               'name': 'Pred Group 11',\n",
       "               'showlegend': False,\n",
       "               'type': 'scatter',\n",
       "               'x': {'bdata': 'GZxOPoHkh8A=', 'dtype': 'f4'},\n",
       "               'xaxis': 'x2',\n",
       "               'y': {'bdata': '5LxWwpwvg8I=', 'dtype': 'f4'},\n",
       "               'yaxis': 'y2'},\n",
       "              {'legendgroup': 'pred',\n",
       "               'marker': {'color': '#d62728', 'size': 6},\n",
       "               'mode': 'markers',\n",
       "               'name': 'Pred Group 12',\n",
       "               'showlegend': False,\n",
       "               'type': 'scatter',\n",
       "               'x': {'bdata': 'qJSkv4+agUA=', 'dtype': 'f4'},\n",
       "               'xaxis': 'x2',\n",
       "               'y': {'bdata': 'BUZqwl9FUMI=', 'dtype': 'f4'},\n",
       "               'yaxis': 'y2'},\n",
       "              {'legendgroup': 'pred',\n",
       "               'marker': {'color': '#d62728', 'size': 6},\n",
       "               'mode': 'markers',\n",
       "               'name': 'Pred Group 13',\n",
       "               'showlegend': False,\n",
       "               'type': 'scatter',\n",
       "               'x': {'bdata': '8F7/wUq0+cA=', 'dtype': 'f4'},\n",
       "               'xaxis': 'x2',\n",
       "               'y': {'bdata': 'GyUmwqypgcI=', 'dtype': 'f4'},\n",
       "               'yaxis': 'y2'},\n",
       "              {'legendgroup': 'pred',\n",
       "               'marker': {'color': '#ff9896', 'size': 6},\n",
       "               'mode': 'markers',\n",
       "               'name': 'Pred Group 14',\n",
       "               'showlegend': False,\n",
       "               'type': 'scatter',\n",
       "               'x': {'bdata': '9RkPwtnuDcI=', 'dtype': 'f4'},\n",
       "               'xaxis': 'x2',\n",
       "               'y': {'bdata': 'DARMwhFJVMI=', 'dtype': 'f4'},\n",
       "               'yaxis': 'y2'},\n",
       "              {'legendgroup': 'pred',\n",
       "               'marker': {'color': '#ff9896', 'size': 6},\n",
       "               'mode': 'markers',\n",
       "               'name': 'Pred Group 15',\n",
       "               'showlegend': False,\n",
       "               'type': 'scatter',\n",
       "               'x': {'bdata': 'eCsbwtif+ME=', 'dtype': 'f4'},\n",
       "               'xaxis': 'x2',\n",
       "               'y': {'bdata': 'Urd2wuyoWsI=', 'dtype': 'f4'},\n",
       "               'yaxis': 'y2'},\n",
       "              {'legendgroup': 'pred',\n",
       "               'marker': {'color': '#9467bd', 'size': 6},\n",
       "               'mode': 'markers',\n",
       "               'name': 'Pred Group 16',\n",
       "               'showlegend': False,\n",
       "               'type': 'scatter',\n",
       "               'x': {'bdata': 'NAf/wVhS1ME=', 'dtype': 'f4'},\n",
       "               'xaxis': 'x2',\n",
       "               'y': {'bdata': 'WnxmwgvLW8I=', 'dtype': 'f4'},\n",
       "               'yaxis': 'y2'},\n",
       "              {'legendgroup': 'pred',\n",
       "               'marker': {'color': '#9467bd', 'size': 6},\n",
       "               'mode': 'markers',\n",
       "               'name': 'Pred Group 17',\n",
       "               'showlegend': False,\n",
       "               'type': 'scatter',\n",
       "               'x': {'bdata': 'g9gMwqrWC8I=', 'dtype': 'f4'},\n",
       "               'xaxis': 'x2',\n",
       "               'y': {'bdata': 'FuBdQjdQXUI=', 'dtype': 'f4'},\n",
       "               'yaxis': 'y2'},\n",
       "              {'legendgroup': 'pred',\n",
       "               'marker': {'color': '#c5b0d5', 'size': 6},\n",
       "               'mode': 'markers',\n",
       "               'name': 'Pred Group 18',\n",
       "               'showlegend': False,\n",
       "               'type': 'scatter',\n",
       "               'x': {'bdata': '99k8wA==', 'dtype': 'f4'},\n",
       "               'xaxis': 'x2',\n",
       "               'y': {'bdata': 'GeaDQg==', 'dtype': 'f4'},\n",
       "               'yaxis': 'y2'},\n",
       "              {'legendgroup': 'pred',\n",
       "               'marker': {'color': '#c5b0d5', 'size': 6},\n",
       "               'mode': 'markers',\n",
       "               'name': 'Pred Group 19',\n",
       "               'showlegend': False,\n",
       "               'type': 'scatter',\n",
       "               'x': {'bdata': 'vJ3/wQ==', 'dtype': 'f4'},\n",
       "               'xaxis': 'x2',\n",
       "               'y': {'bdata': 'hL0swg==', 'dtype': 'f4'},\n",
       "               'yaxis': 'y2'},\n",
       "              {'legendgroup': 'pred',\n",
       "               'marker': {'color': '#8c564b', 'size': 6},\n",
       "               'mode': 'markers',\n",
       "               'name': 'Pred Group 20',\n",
       "               'showlegend': False,\n",
       "               'type': 'scatter',\n",
       "               'x': {'bdata': 'p4uTQg==', 'dtype': 'f4'},\n",
       "               'xaxis': 'x2',\n",
       "               'y': {'bdata': 'b5Divw==', 'dtype': 'f4'},\n",
       "               'yaxis': 'y2'},\n",
       "              {'legendgroup': 'pred',\n",
       "               'marker': {'color': '#8c564b', 'size': 6},\n",
       "               'mode': 'markers',\n",
       "               'name': 'Pred Group 21',\n",
       "               'showlegend': False,\n",
       "               'type': 'scatter',\n",
       "               'x': {'bdata': 'bFjSwQ==', 'dtype': 'f4'},\n",
       "               'xaxis': 'x2',\n",
       "               'y': {'bdata': 'G/gvwg==', 'dtype': 'f4'},\n",
       "               'yaxis': 'y2'},\n",
       "              {'legendgroup': 'pred',\n",
       "               'marker': {'color': '#c49c94', 'size': 6},\n",
       "               'mode': 'markers',\n",
       "               'name': 'Pred Group 22',\n",
       "               'showlegend': False,\n",
       "               'type': 'scatter',\n",
       "               'x': {'bdata': 'WxcBQg==', 'dtype': 'f4'},\n",
       "               'xaxis': 'x2',\n",
       "               'y': {'bdata': 'eKR4wQ==', 'dtype': 'f4'},\n",
       "               'yaxis': 'y2'},\n",
       "              {'legendgroup': 'pred',\n",
       "               'marker': {'color': '#c49c94', 'size': 6},\n",
       "               'mode': 'markers',\n",
       "               'name': 'Pred Group 23',\n",
       "               'showlegend': False,\n",
       "               'type': 'scatter',\n",
       "               'x': {'bdata': 'Rhcawg==', 'dtype': 'f4'},\n",
       "               'xaxis': 'x2',\n",
       "               'y': {'bdata': 'CsqZwQ==', 'dtype': 'f4'},\n",
       "               'yaxis': 'y2'},\n",
       "              {'legendgroup': 'pred',\n",
       "               'marker': {'color': '#e377c2', 'size': 6},\n",
       "               'mode': 'markers',\n",
       "               'name': 'Pred Group 24',\n",
       "               'showlegend': False,\n",
       "               'type': 'scatter',\n",
       "               'x': {'bdata': 'vHzYwA==', 'dtype': 'f4'},\n",
       "               'xaxis': 'x2',\n",
       "               'y': {'bdata': 'c+OCwg==', 'dtype': 'f4'},\n",
       "               'yaxis': 'y2'},\n",
       "              {'legendgroup': 'pred',\n",
       "               'marker': {'color': '#e377c2', 'size': 6},\n",
       "               'mode': 'markers',\n",
       "               'name': 'Pred Group 25',\n",
       "               'showlegend': False,\n",
       "               'type': 'scatter',\n",
       "               'x': {'bdata': 'UlDkwQ==', 'dtype': 'f4'},\n",
       "               'xaxis': 'x2',\n",
       "               'y': {'bdata': 'WlyZQg==', 'dtype': 'f4'},\n",
       "               'yaxis': 'y2'},\n",
       "              {'legendgroup': 'pred',\n",
       "               'marker': {'color': '#f7b6d2', 'size': 6},\n",
       "               'mode': 'markers',\n",
       "               'name': 'Pred Group 26',\n",
       "               'showlegend': False,\n",
       "               'type': 'scatter',\n",
       "               'x': {'bdata': 'GaqRwQ==', 'dtype': 'f4'},\n",
       "               'xaxis': 'x2',\n",
       "               'y': {'bdata': 'UN1bwg==', 'dtype': 'f4'},\n",
       "               'yaxis': 'y2'},\n",
       "              {'legendgroup': 'pred',\n",
       "               'marker': {'color': '#f7b6d2', 'size': 6},\n",
       "               'mode': 'markers',\n",
       "               'name': 'Pred Group 27',\n",
       "               'showlegend': False,\n",
       "               'type': 'scatter',\n",
       "               'x': {'bdata': 'tcU9wQ==', 'dtype': 'f4'},\n",
       "               'xaxis': 'x2',\n",
       "               'y': {'bdata': 'kHxvwg==', 'dtype': 'f4'},\n",
       "               'yaxis': 'y2'},\n",
       "              {'legendgroup': 'pred',\n",
       "               'marker': {'color': '#7f7f7f', 'size': 6},\n",
       "               'mode': 'markers',\n",
       "               'name': 'Pred Group 28',\n",
       "               'showlegend': False,\n",
       "               'type': 'scatter',\n",
       "               'x': {'bdata': 'LNaqwA==', 'dtype': 'f4'},\n",
       "               'xaxis': 'x2',\n",
       "               'y': {'bdata': 'M/iEwg==', 'dtype': 'f4'},\n",
       "               'yaxis': 'y2'},\n",
       "              {'legendgroup': 'pred',\n",
       "               'marker': {'color': '#7f7f7f', 'size': 6},\n",
       "               'mode': 'markers',\n",
       "               'name': 'Pred Group 29',\n",
       "               'showlegend': False,\n",
       "               'type': 'scatter',\n",
       "               'x': {'bdata': 'VbDcwQ==', 'dtype': 'f4'},\n",
       "               'xaxis': 'x2',\n",
       "               'y': {'bdata': 'eiHtwQ==', 'dtype': 'f4'},\n",
       "               'yaxis': 'y2'},\n",
       "              {'legendgroup': 'pred',\n",
       "               'marker': {'color': '#c7c7c7', 'size': 6},\n",
       "               'mode': 'markers',\n",
       "               'name': 'Pred Group 30',\n",
       "               'showlegend': False,\n",
       "               'type': 'scatter',\n",
       "               'x': {'bdata': 'EiCOPw==', 'dtype': 'f4'},\n",
       "               'xaxis': 'x2',\n",
       "               'y': {'bdata': 'iOdBwg==', 'dtype': 'f4'},\n",
       "               'yaxis': 'y2'},\n",
       "              {'legendgroup': 'pred',\n",
       "               'marker': {'color': '#c7c7c7', 'size': 6},\n",
       "               'mode': 'markers',\n",
       "               'name': 'Pred Group 31',\n",
       "               'showlegend': False,\n",
       "               'type': 'scatter',\n",
       "               'x': {'bdata': 'vTgQQg==', 'dtype': 'f4'},\n",
       "               'xaxis': 'x2',\n",
       "               'y': {'bdata': 'wUATQg==', 'dtype': 'f4'},\n",
       "               'yaxis': 'y2'},\n",
       "              {'legendgroup': 'pred',\n",
       "               'marker': {'color': '#bcbd22', 'size': 6},\n",
       "               'mode': 'markers',\n",
       "               'name': 'Pred Group 32',\n",
       "               'showlegend': False,\n",
       "               'type': 'scatter',\n",
       "               'x': {'bdata': 'r2UcwQ==', 'dtype': 'f4'},\n",
       "               'xaxis': 'x2',\n",
       "               'y': {'bdata': 'maRzwg==', 'dtype': 'f4'},\n",
       "               'yaxis': 'y2'},\n",
       "              {'legendgroup': 'pred',\n",
       "               'marker': {'color': '#bcbd22', 'size': 6},\n",
       "               'mode': 'markers',\n",
       "               'name': 'Pred Group 33',\n",
       "               'showlegend': False,\n",
       "               'type': 'scatter',\n",
       "               'x': {'bdata': 'JCgWwg==', 'dtype': 'f4'},\n",
       "               'xaxis': 'x2',\n",
       "               'y': {'bdata': 'lVt0wg==', 'dtype': 'f4'},\n",
       "               'yaxis': 'y2'},\n",
       "              {'legendgroup': 'pred',\n",
       "               'marker': {'color': '#dbdb8d', 'size': 6},\n",
       "               'mode': 'markers',\n",
       "               'name': 'Pred Group 34',\n",
       "               'showlegend': False,\n",
       "               'type': 'scatter',\n",
       "               'x': {'bdata': 'zbwQwg==', 'dtype': 'f4'},\n",
       "               'xaxis': 'x2',\n",
       "               'y': {'bdata': '4tRJwg==', 'dtype': 'f4'},\n",
       "               'yaxis': 'y2'},\n",
       "              {'legendgroup': 'pred',\n",
       "               'marker': {'color': '#dbdb8d', 'size': 6},\n",
       "               'mode': 'markers',\n",
       "               'name': 'Pred Group 35',\n",
       "               'showlegend': False,\n",
       "               'type': 'scatter',\n",
       "               'x': {'bdata': 'fVUTwg==', 'dtype': 'f4'},\n",
       "               'xaxis': 'x2',\n",
       "               'y': {'bdata': 'AQVzwg==', 'dtype': 'f4'},\n",
       "               'yaxis': 'y2'},\n",
       "              {'legendgroup': 'pred',\n",
       "               'marker': {'color': '#17becf', 'size': 6},\n",
       "               'mode': 'markers',\n",
       "               'name': 'Pred Group 36',\n",
       "               'showlegend': False,\n",
       "               'type': 'scatter',\n",
       "               'x': {'bdata': 'RhOyQA==', 'dtype': 'f4'},\n",
       "               'xaxis': 'x2',\n",
       "               'y': {'bdata': '/upPwg==', 'dtype': 'f4'},\n",
       "               'yaxis': 'y2'},\n",
       "              {'legendgroup': 'pred',\n",
       "               'marker': {'color': '#17becf', 'size': 6},\n",
       "               'mode': 'markers',\n",
       "               'name': 'Pred Group 37',\n",
       "               'showlegend': False,\n",
       "               'type': 'scatter',\n",
       "               'x': {'bdata': 'ClOjQQ==', 'dtype': 'f4'},\n",
       "               'xaxis': 'x2',\n",
       "               'y': {'bdata': '/qMvQg==', 'dtype': 'f4'},\n",
       "               'yaxis': 'y2'},\n",
       "              {'legendgroup': 'pred',\n",
       "               'marker': {'color': '#9edae5', 'size': 6},\n",
       "               'mode': 'markers',\n",
       "               'name': 'Pred Group 38',\n",
       "               'showlegend': False,\n",
       "               'type': 'scatter',\n",
       "               'x': {'bdata': '+s7jwQ==', 'dtype': 'f4'},\n",
       "               'xaxis': 'x2',\n",
       "               'y': {'bdata': 't8Zkwg==', 'dtype': 'f4'},\n",
       "               'yaxis': 'y2'},\n",
       "              {'legendgroup': 'pred',\n",
       "               'marker': {'color': '#9edae5', 'size': 6},\n",
       "               'mode': 'markers',\n",
       "               'name': 'Pred Group 39',\n",
       "               'showlegend': False,\n",
       "               'type': 'scatter',\n",
       "               'x': {'bdata': 'yKZ/vw==', 'dtype': 'f4'},\n",
       "               'xaxis': 'x2',\n",
       "               'y': {'bdata': 'XXyJwg==', 'dtype': 'f4'},\n",
       "               'yaxis': 'y2'},\n",
       "              {'legendgroup': 'pred',\n",
       "               'marker': {'color': '#9edae5', 'size': 6},\n",
       "               'mode': 'markers',\n",
       "               'name': 'Pred Group 40',\n",
       "               'showlegend': False,\n",
       "               'type': 'scatter',\n",
       "               'x': {'bdata': 'xMfvwQ==', 'dtype': 'f4'},\n",
       "               'xaxis': 'x2',\n",
       "               'y': {'bdata': 'SQdLwg==', 'dtype': 'f4'},\n",
       "               'yaxis': 'y2'}],\n",
       "     'layout': {'annotations': [{'font': {'size': 16},\n",
       "                                 'showarrow': False,\n",
       "                                 'text': 'Clusters of 2D Embeddings gt',\n",
       "                                 'x': 0.225,\n",
       "                                 'xanchor': 'center',\n",
       "                                 'xref': 'paper',\n",
       "                                 'y': 1.0,\n",
       "                                 'yanchor': 'bottom',\n",
       "                                 'yref': 'paper'},\n",
       "                                {'font': {'size': 16},\n",
       "                                 'showarrow': False,\n",
       "                                 'text': 'Clusters of 2D Embeddings pred',\n",
       "                                 'x': 0.775,\n",
       "                                 'xanchor': 'center',\n",
       "                                 'xref': 'paper',\n",
       "                                 'y': 1.0,\n",
       "                                 'yanchor': 'bottom',\n",
       "                                 'yref': 'paper'}],\n",
       "                'height': 600,\n",
       "                'showlegend': True,\n",
       "                'template': '...',\n",
       "                'title': {'text': 'Cluster Comparison: Ground Truth vs Prediction'},\n",
       "                'width': 1000,\n",
       "                'xaxis': {'anchor': 'y', 'domain': [0.0, 0.45]},\n",
       "                'xaxis2': {'anchor': 'y2', 'domain': [0.55, 1.0]},\n",
       "                'yaxis': {'anchor': 'x', 'domain': [0.0, 1.0]},\n",
       "                'yaxis2': {'anchor': 'x2', 'domain': [0.0, 1.0]}}\n",
       " }),\n",
       " {'random score': 0.4067075996292864,\n",
       "  'adjusted random score': 0.004150057551833144},\n",
       " 0.9885195787265367)"
      ]
     },
     "execution_count": 5,
     "metadata": {},
     "output_type": "execute_result"
    }
   ],
   "source": [
    "model = SentenceTransformer(\"models/simcse-model\")\n",
    "test_model(model)"
   ]
  },
  {
   "attachments": {
    "image.png": {
     "image/png": "[encoded data removed]"
    }
   },
   "cell_type": "markdown",
   "id": "b5aa58d4",
   "metadata": {},
   "source": [
    "Apparently all unsupervised methods perform poorly because of domain specific words and symbols.\n",
    "\n",
    "![image.png](attachment:image.png)"
   ]
  }
 ],
 "metadata": {
  "kernelspec": {
   "display_name": ".venv",
   "language": "python",
   "name": "python3"
  },
  "language_info": {
   "codemirror_mode": {
    "name": "ipython",
    "version": 3
   },
   "file_extension": ".py",
   "mimetype": "text/x-python",
   "name": "python",
   "nbconvert_exporter": "python",
   "pygments_lexer": "ipython3",
   "version": "3.12.10"
  }
 },
 "nbformat": 4,
 "nbformat_minor": 5
}
